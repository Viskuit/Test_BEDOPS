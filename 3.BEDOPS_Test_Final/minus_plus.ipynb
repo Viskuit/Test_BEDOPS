{
 "cells": [
  {
   "cell_type": "markdown",
   "metadata": {},
   "source": [
    "# BEDFILE transformation and BEDOPS use"
   ]
  },
  {
   "cell_type": "markdown",
   "metadata": {},
   "source": [
    "The essentail modules used:"
   ]
  },
  {
   "cell_type": "code",
   "execution_count": null,
   "metadata": {},
   "outputs": [],
   "source": [
    "# Load the needed modules:\n",
    "import numpy as np\n",
    "import pandas as pd"
   ]
  },
  {
   "cell_type": "markdown",
   "metadata": {},
   "source": [
    "## 1) Reading and filtering data"
   ]
  },
  {
   "cell_type": "markdown",
   "metadata": {},
   "source": [
    "### Importing data"
   ]
  },
  {
   "cell_type": "code",
   "execution_count": null,
   "metadata": {},
   "outputs": [],
   "source": [
    "# Read Data Frame about the \"LinJ.01_BLAST_MAIN.csv\", which contains the correct coordinates which where launched agains the whole genome:\n",
    "df1 = pd.read_csv(\"./LinJ.01_BLAST_MAIN.csv\", sep=',', header=None) # No header\n",
    "df1.head()"
   ]
  },
  {
   "cell_type": "markdown",
   "metadata": {},
   "source": [
    "### Divide data among \"minus\" and \"plus\" strands."
   ]
  },
  {
   "cell_type": "code",
   "execution_count": null,
   "metadata": {},
   "outputs": [],
   "source": [
    "# For plus strand\n",
    "df1_plus = df1[df1[14] == 'plus']  # Using pandas slicing\n",
    "df1_plus.head()"
   ]
  },
  {
   "cell_type": "code",
   "execution_count": null,
   "metadata": {},
   "outputs": [],
   "source": [
    "# For the minus st rand\n",
    "df1_minus = df1[df1[14] == 'minus']\n",
    "df1_minus.head()"
   ]
  },
  {
   "cell_type": "markdown",
   "metadata": {},
   "source": [
    "### Sort the data:\n",
    "Sorting the data by the *start of alignment* sequene, i.e., **row[10]** in the data."
   ]
  },
  {
   "cell_type": "code",
   "execution_count": null,
   "metadata": {},
   "outputs": [],
   "source": [
    "# Sorting \"plus\" data by column 10.\n",
    "df1_plus_sorted = df1_plus.sort_values(by=10)\n",
    "df1_plus_sorted"
   ]
  },
  {
   "cell_type": "code",
   "execution_count": null,
   "metadata": {},
   "outputs": [],
   "source": [
    "# Same with the \"minus\" strand:\n",
    "df1_minus_sorted = df1_minus.sort_values(by=10)\n",
    "df1_minus_sorted"
   ]
  },
  {
   "cell_type": "markdown",
   "metadata": {},
   "source": [
    "## Creation of BED files:"
   ]
  },
  {
   "cell_type": "code",
   "execution_count": null,
   "metadata": {},
   "outputs": [],
   "source": [
    "# Save the data in BED files\n",
    "df1_plus_sorted[[1, 10, 11]].to_csv('df1_plus_sorted.bed', sep='\\t', header=False, index=False)\n",
    "df1_minus_sorted[[1, 10, 11]].to_csv('df1_minus_sorted.bed', sep='\\t', header=False, index=False)"
   ]
  },
  {
   "cell_type": "code",
   "execution_count": null,
   "metadata": {},
   "outputs": [],
   "source": [
    "# Call bedops --merge in both BED files\n",
    "!bedops --merge df1_plus_sorted.bed > df1_plus_sorted_merged.bed\n",
    "!bedops --merge df1_minus_sorted.bed > df1_minus_sorted_merged.bed"
   ]
  },
  {
   "cell_type": "code",
   "execution_count": null,
   "metadata": {},
   "outputs": [],
   "source": [
    "# Let's see the difference between the start and end of the merged regions for the plus strand\n",
    "!gawk 'function abs(x){return x < 0 ? -x : x} BEGIN{OFS=\"\\t\"}{print abs($2-$3);}' df1_plus_sorted_merged.bed"
   ]
  },
  {
   "cell_type": "code",
   "execution_count": null,
   "metadata": {},
   "outputs": [],
   "source": [
    "# And now for the minus strand\n",
    "!gawk 'function abs(x){return x < 0 ? -x : x} BEGIN{OFS=\"\\t\"}{print abs($2-$3);}' df1_minus_sorted_merged.bed"
   ]
  },
  {
   "cell_type": "markdown",
   "metadata": {},
   "source": [
    "### Importing output BED files into pandas Data Frames"
   ]
  },
  {
   "cell_type": "code",
   "execution_count": null,
   "metadata": {},
   "outputs": [],
   "source": [
    "# Importing data into \"pandas\" data frames\n",
    "df2_plus = pd.read_csv(\"./df1_plus_sorted_merged.bed\", sep='\\t', header=None)\n",
    "df2_minus = pd.read_csv(\"./df1_minus_sorted_merged.bed\", sep='\\t', header=None)"
   ]
  },
  {
   "cell_type": "code",
   "execution_count": null,
   "metadata": {},
   "outputs": [],
   "source": [
    "# View the data:\n",
    "df2_plus"
   ]
  },
  {
   "cell_type": "code",
   "execution_count": null,
   "metadata": {},
   "outputs": [],
   "source": [
    "# Seing the type of data used:\n",
    "type(df2_plus)"
   ]
  },
  {
   "cell_type": "code",
   "execution_count": null,
   "metadata": {},
   "outputs": [],
   "source": [
    "# Same with minus.\n",
    "df2_minus"
   ]
  },
  {
   "cell_type": "markdown",
   "metadata": {},
   "source": [
    "## Using blastdbcmd to get the rest of the data"
   ]
  },
  {
   "cell_type": "markdown",
   "metadata": {},
   "source": [
    "Functon creation to extract the sequence and keeping the coordinates and strand:"
   ]
  },
  {
   "cell_type": "code",
   "execution_count": null,
   "metadata": {},
   "outputs": [],
   "source": [
    "import subprocess\n",
    "def get_data_sequence(data, strand):\n",
    "    \"\"\"\n",
    "    This function gets the sequence of the data from the fasta file. It will keep the Chromosome ID, start coordinate, end coordinate and strand.\n",
    "\n",
    "    :param data: A pandas data frame with the data read of the BED files.\n",
    "    :type data: pandas.core.frame.DataFrame\n",
    "\n",
    "    :param strand: The strand of the sequence. It can be \"plus\" or \"minus\".\n",
    "    :type strand: str\n",
    "    \"\"\"\n",
    "    list = []\n",
    "    for index, row in data.iterrows():\n",
    "        if strand == \"plus\":\n",
    "            start = row[1]\n",
    "            end = row[2]\n",
    "        else: # The start and end are inverted for the minus strand\n",
    "            start = row[2] \n",
    "            end = row[1] \n",
    "        sequence = subprocess.check_output(\"blastdbcmd -db \" + \"../1-5_chr.fasta\" + \" -entry \" + row[0] + \" -range \" + str(start) + \"-\" + str(end) + \" -strand \" + strand + \" -outfmt %s\", shell=True, universal_newlines=True)\n",
    "        list.append(row[0] + \",\" + \n",
    "                    str(row[1]) + \",\" + \n",
    "                    str(row[2]) + \",\" + \n",
    "                    strand + \",\" + \n",
    "                    sequence)\n",
    "\n",
    "    list_split = [row.split(\",\") for row in list]\n",
    "    list_split_df = pd.DataFrame(list_split)\n",
    "    list_split_df[4] = list_split_df[4].str.replace('\\n', '')  # Important. It removes the new line character from the sequence.\n",
    "\n",
    "    return list_split_df"
   ]
  },
  {
   "cell_type": "code",
   "execution_count": null,
   "metadata": {},
   "outputs": [],
   "source": [
    "# Call function on \"plus\" and \"minus\" sequence:\n",
    "plus_data = get_data_sequence(df2_plus, \"plus\")\n",
    "minus_data = get_data_sequence(df2_minus, \"minus\")"
   ]
  },
  {
   "cell_type": "code",
   "execution_count": null,
   "metadata": {},
   "outputs": [],
   "source": [
    "# Check plus data\n",
    "plus_data"
   ]
  },
  {
   "cell_type": "code",
   "execution_count": null,
   "metadata": {},
   "outputs": [],
   "source": [
    "# Check minus data\n",
    "minus_data"
   ]
  },
  {
   "cell_type": "code",
   "execution_count": null,
   "metadata": {},
   "outputs": [],
   "source": [
    "# Check the type of the data\n",
    "type(minus_data)"
   ]
  },
  {
   "cell_type": "code",
   "execution_count": null,
   "metadata": {},
   "outputs": [],
   "source": [
    "# Cocaenate the data into a single data frame\n",
    "all_data = pd.concat([plus_data, minus_data])\n",
    "all_data.shape"
   ]
  },
  {
   "cell_type": "code",
   "execution_count": null,
   "metadata": {},
   "outputs": [],
   "source": [
    "# Check if it's still a data frame\n",
    "type(all_data)"
   ]
  },
  {
   "cell_type": "markdown",
   "metadata": {},
   "source": [
    "Adding the sequence length to the Data Frame:"
   ]
  },
  {
   "cell_type": "code",
   "execution_count": null,
   "metadata": {},
   "outputs": [],
   "source": [
    "new_column = [len(x) for x in all_data[4]]  # Get the length of the sequence\n",
    "all_data.insert(1, \"New\", new_column)  # Insert the new column in the data frame\n",
    "all_data.head()"
   ]
  },
  {
   "cell_type": "code",
   "execution_count": null,
   "metadata": {},
   "outputs": [],
   "source": [
    "all_data.columns = range(all_data.columns.size)  # Reset the columns index\n",
    "all_data.head()"
   ]
  },
  {
   "cell_type": "markdown",
   "metadata": {},
   "source": [
    "## Output the CSV file:"
   ]
  },
  {
   "cell_type": "code",
   "execution_count": null,
   "metadata": {},
   "outputs": [],
   "source": [
    "all_data.head()"
   ]
  },
  {
   "cell_type": "code",
   "execution_count": null,
   "metadata": {},
   "outputs": [],
   "source": [
    "all_data.shape"
   ]
  },
  {
   "cell_type": "code",
   "execution_count": null,
   "metadata": {},
   "outputs": [],
   "source": [
    "all_data.info()"
   ]
  },
  {
   "cell_type": "code",
   "execution_count": null,
   "metadata": {},
   "outputs": [],
   "source": [
    "type(all_data.iloc[0, 5])"
   ]
  },
  {
   "cell_type": "code",
   "execution_count": null,
   "metadata": {},
   "outputs": [],
   "source": [
    "\n",
    "data_to_csv = pd.DataFrame(index=range(14), columns=range(16))\n",
    "\n",
    "# Assign values from the original DataFrame to the specified columns in the new DataFrame\n",
    "data_to_csv.iloc[:, [1, 3, 10, 11, 14, 15]] = all_data.iloc[:, [0, 1, 2, 3, 4, 5]]\n",
    "\n",
    "# Display the new DataFrame\n",
    "data_to_csv.head()"
   ]
  },
  {
   "cell_type": "code",
   "execution_count": null,
   "metadata": {},
   "outputs": [],
   "source": [
    "# Save the data ingoring index and headers\n",
    "data_to_csv.to_csv('Last_One.csv', index=False, header=None)"
   ]
  }
 ],
 "metadata": {
  "kernelspec": {
   "display_name": "base",
   "language": "python",
   "name": "python3"
  },
  "language_info": {
   "codemirror_mode": {
    "name": "ipython",
    "version": 3
   },
   "file_extension": ".py",
   "mimetype": "text/x-python",
   "name": "python",
   "nbconvert_exporter": "python",
   "pygments_lexer": "ipython3",
   "version": "3.10.12"
  }
 },
 "nbformat": 4,
 "nbformat_minor": 2
}
