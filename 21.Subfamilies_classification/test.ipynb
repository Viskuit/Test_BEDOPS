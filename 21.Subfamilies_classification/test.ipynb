{
 "cells": [
  {
   "cell_type": "code",
   "execution_count": 1,
   "metadata": {},
   "outputs": [],
   "source": [
    "import pandas as pd"
   ]
  },
  {
   "cell_type": "code",
   "execution_count": 2,
   "metadata": {},
   "outputs": [],
   "source": [
    "main_dict = {'Seq_0_LinJ.01': ['Seq_0_LinJ.01'], 'Seq_1_LinJ.01': ['Seq_11_LinJ.01', 'Seq_1_LinJ.01', 'Seq_2_LinJ.01', 'Seq_4_LinJ.01', 'Seq_5_LinJ.01', 'Seq_8_LinJ.01', 'Seq_9_LinJ.01'], 'Seq_2_LinJ.01': ['Seq_11_LinJ.01', 'Seq_1_LinJ.01', 'Seq_2_LinJ.01', 'Seq_4_LinJ.01', 'Seq_5_LinJ.01', 'Seq_8_LinJ.01', 'Seq_9_LinJ.01'], 'Seq_3_LinJ.01': ['Seq_3_LinJ.01'], 'Seq_4_LinJ.01': ['Seq_11_LinJ.01', 'Seq_1_LinJ.01', 'Seq_2_LinJ.01', 'Seq_4_LinJ.01', 'Seq_5_LinJ.01', 'Seq_8_LinJ.01', 'Seq_9_LinJ.01'], 'Seq_5_LinJ.01': ['Seq_11_LinJ.01', 'Seq_1_LinJ.01', 'Seq_2_LinJ.01', 'Seq_4_LinJ.01', 'Seq_5_LinJ.01', 'Seq_8_LinJ.01', 'Seq_9_LinJ.01'], 'Seq_6_LinJ.01': ['Seq_6_LinJ.01'], 'Seq_7_LinJ.01': ['Seq_7_LinJ.01'], 'Seq_8_LinJ.01': ['Seq_11_LinJ.01', 'Seq_1_LinJ.01', 'Seq_2_LinJ.01', 'Seq_4_LinJ.01', 'Seq_5_LinJ.01', 'Seq_8_LinJ.01', 'Seq_9_LinJ.01'], 'Seq_9_LinJ.01': ['Seq_11_LinJ.01', 'Seq_1_LinJ.01', 'Seq_2_LinJ.01', 'Seq_4_LinJ.01', 'Seq_5_LinJ.01', 'Seq_8_LinJ.01', 'Seq_9_LinJ.01'], 'Seq_10_LinJ.01': ['Seq_10_LinJ.01'], 'Seq_11_LinJ.01': ['Seq_11_LinJ.01', 'Seq_1_LinJ.01', 'Seq_2_LinJ.01', 'Seq_4_LinJ.01', 'Seq_5_LinJ.01', 'Seq_8_LinJ.01', 'Seq_9_LinJ.01'], 'Seq_12_LinJ.01': ['Seq_12_LinJ.01']}"
   ]
  },
  {
   "cell_type": "code",
   "execution_count": 3,
   "metadata": {},
   "outputs": [
    {
     "data": {
      "text/plain": [
       "{'Seq_0_LinJ.01': ['Seq_0_LinJ.01'],\n",
       " 'Seq_1_LinJ.01': ['Seq_11_LinJ.01',\n",
       "  'Seq_1_LinJ.01',\n",
       "  'Seq_2_LinJ.01',\n",
       "  'Seq_4_LinJ.01',\n",
       "  'Seq_5_LinJ.01',\n",
       "  'Seq_8_LinJ.01',\n",
       "  'Seq_9_LinJ.01'],\n",
       " 'Seq_2_LinJ.01': ['Seq_11_LinJ.01',\n",
       "  'Seq_1_LinJ.01',\n",
       "  'Seq_2_LinJ.01',\n",
       "  'Seq_4_LinJ.01',\n",
       "  'Seq_5_LinJ.01',\n",
       "  'Seq_8_LinJ.01',\n",
       "  'Seq_9_LinJ.01'],\n",
       " 'Seq_3_LinJ.01': ['Seq_3_LinJ.01'],\n",
       " 'Seq_4_LinJ.01': ['Seq_11_LinJ.01',\n",
       "  'Seq_1_LinJ.01',\n",
       "  'Seq_2_LinJ.01',\n",
       "  'Seq_4_LinJ.01',\n",
       "  'Seq_5_LinJ.01',\n",
       "  'Seq_8_LinJ.01',\n",
       "  'Seq_9_LinJ.01'],\n",
       " 'Seq_5_LinJ.01': ['Seq_11_LinJ.01',\n",
       "  'Seq_1_LinJ.01',\n",
       "  'Seq_2_LinJ.01',\n",
       "  'Seq_4_LinJ.01',\n",
       "  'Seq_5_LinJ.01',\n",
       "  'Seq_8_LinJ.01',\n",
       "  'Seq_9_LinJ.01'],\n",
       " 'Seq_6_LinJ.01': ['Seq_6_LinJ.01'],\n",
       " 'Seq_7_LinJ.01': ['Seq_7_LinJ.01'],\n",
       " 'Seq_8_LinJ.01': ['Seq_11_LinJ.01',\n",
       "  'Seq_1_LinJ.01',\n",
       "  'Seq_2_LinJ.01',\n",
       "  'Seq_4_LinJ.01',\n",
       "  'Seq_5_LinJ.01',\n",
       "  'Seq_8_LinJ.01',\n",
       "  'Seq_9_LinJ.01'],\n",
       " 'Seq_9_LinJ.01': ['Seq_11_LinJ.01',\n",
       "  'Seq_1_LinJ.01',\n",
       "  'Seq_2_LinJ.01',\n",
       "  'Seq_4_LinJ.01',\n",
       "  'Seq_5_LinJ.01',\n",
       "  'Seq_8_LinJ.01',\n",
       "  'Seq_9_LinJ.01'],\n",
       " 'Seq_10_LinJ.01': ['Seq_10_LinJ.01'],\n",
       " 'Seq_11_LinJ.01': ['Seq_11_LinJ.01',\n",
       "  'Seq_1_LinJ.01',\n",
       "  'Seq_2_LinJ.01',\n",
       "  'Seq_4_LinJ.01',\n",
       "  'Seq_5_LinJ.01',\n",
       "  'Seq_8_LinJ.01',\n",
       "  'Seq_9_LinJ.01'],\n",
       " 'Seq_12_LinJ.01': ['Seq_12_LinJ.01']}"
      ]
     },
     "execution_count": 3,
     "metadata": {},
     "output_type": "execute_result"
    }
   ],
   "source": [
    "main_dict"
   ]
  },
  {
   "cell_type": "code",
   "execution_count": 17,
   "metadata": {},
   "outputs": [],
   "source": [
    "import re\n",
    "\n",
    "main_dict2 = {key: sorted(value, key=lambda x: int(re.findall(r'_(\\d+)_', x)[0])) for key, value in main_dict.items()}"
   ]
  },
  {
   "cell_type": "code",
   "execution_count": 11,
   "metadata": {},
   "outputs": [],
   "source": [
    "test = ['Seq_1_LinJ.01',\n",
    "  'Seq_2_LinJ.01',\n",
    "  'Seq_4_LinJ.01',\n",
    "  'Seq_5_LinJ.01',\n",
    "  'Seq_8_LinJ.01',\n",
    "  'Seq_9_LinJ.01',\n",
    "  'Seq_11_LinJ.01']"
   ]
  },
  {
   "cell_type": "code",
   "execution_count": 15,
   "metadata": {},
   "outputs": [
    {
     "name": "stdout",
     "output_type": "stream",
     "text": [
      "\u001b[0;31mSignature:\u001b[0m \u001b[0mre\u001b[0m\u001b[0;34m.\u001b[0m\u001b[0mfindall\u001b[0m\u001b[0;34m(\u001b[0m\u001b[0mpattern\u001b[0m\u001b[0;34m,\u001b[0m \u001b[0mstring\u001b[0m\u001b[0;34m,\u001b[0m \u001b[0mflags\u001b[0m\u001b[0;34m=\u001b[0m\u001b[0;36m0\u001b[0m\u001b[0;34m)\u001b[0m\u001b[0;34m\u001b[0m\u001b[0;34m\u001b[0m\u001b[0m\n",
      "\u001b[0;31mDocstring:\u001b[0m\n",
      "Return a list of all non-overlapping matches in the string.\n",
      "\n",
      "If one or more capturing groups are present in the pattern, return\n",
      "a list of groups; this will be a list of tuples if the pattern\n",
      "has more than one group.\n",
      "\n",
      "Empty matches are included in the result.\n",
      "\u001b[0;31mFile:\u001b[0m      ~/micromamba/envs/SIDER_RepetitiveSearcher/lib/python3.12/re/__init__.py\n",
      "\u001b[0;31mType:\u001b[0m      function"
     ]
    }
   ],
   "source": [
    "?re.findall"
   ]
  },
  {
   "cell_type": "code",
   "execution_count": 10,
   "metadata": {},
   "outputs": [
    {
     "data": {
      "text/plain": [
       "{'Seq_0_LinJ.01': ['Seq_0_LinJ.01'],\n",
       " 'Seq_1_LinJ.01': ['Seq_1_LinJ.01',\n",
       "  'Seq_2_LinJ.01',\n",
       "  'Seq_4_LinJ.01',\n",
       "  'Seq_5_LinJ.01',\n",
       "  'Seq_8_LinJ.01',\n",
       "  'Seq_9_LinJ.01',\n",
       "  'Seq_11_LinJ.01'],\n",
       " 'Seq_2_LinJ.01': ['Seq_1_LinJ.01',\n",
       "  'Seq_2_LinJ.01',\n",
       "  'Seq_4_LinJ.01',\n",
       "  'Seq_5_LinJ.01',\n",
       "  'Seq_8_LinJ.01',\n",
       "  'Seq_9_LinJ.01',\n",
       "  'Seq_11_LinJ.01'],\n",
       " 'Seq_3_LinJ.01': ['Seq_3_LinJ.01'],\n",
       " 'Seq_4_LinJ.01': ['Seq_1_LinJ.01',\n",
       "  'Seq_2_LinJ.01',\n",
       "  'Seq_4_LinJ.01',\n",
       "  'Seq_5_LinJ.01',\n",
       "  'Seq_8_LinJ.01',\n",
       "  'Seq_9_LinJ.01',\n",
       "  'Seq_11_LinJ.01'],\n",
       " 'Seq_5_LinJ.01': ['Seq_1_LinJ.01',\n",
       "  'Seq_2_LinJ.01',\n",
       "  'Seq_4_LinJ.01',\n",
       "  'Seq_5_LinJ.01',\n",
       "  'Seq_8_LinJ.01',\n",
       "  'Seq_9_LinJ.01',\n",
       "  'Seq_11_LinJ.01'],\n",
       " 'Seq_6_LinJ.01': ['Seq_6_LinJ.01'],\n",
       " 'Seq_7_LinJ.01': ['Seq_7_LinJ.01'],\n",
       " 'Seq_8_LinJ.01': ['Seq_1_LinJ.01',\n",
       "  'Seq_2_LinJ.01',\n",
       "  'Seq_4_LinJ.01',\n",
       "  'Seq_5_LinJ.01',\n",
       "  'Seq_8_LinJ.01',\n",
       "  'Seq_9_LinJ.01',\n",
       "  'Seq_11_LinJ.01'],\n",
       " 'Seq_9_LinJ.01': ['Seq_1_LinJ.01',\n",
       "  'Seq_2_LinJ.01',\n",
       "  'Seq_4_LinJ.01',\n",
       "  'Seq_5_LinJ.01',\n",
       "  'Seq_8_LinJ.01',\n",
       "  'Seq_9_LinJ.01',\n",
       "  'Seq_11_LinJ.01'],\n",
       " 'Seq_10_LinJ.01': ['Seq_10_LinJ.01'],\n",
       " 'Seq_11_LinJ.01': ['Seq_1_LinJ.01',\n",
       "  'Seq_2_LinJ.01',\n",
       "  'Seq_4_LinJ.01',\n",
       "  'Seq_5_LinJ.01',\n",
       "  'Seq_8_LinJ.01',\n",
       "  'Seq_9_LinJ.01',\n",
       "  'Seq_11_LinJ.01'],\n",
       " 'Seq_12_LinJ.01': ['Seq_12_LinJ.01']}"
      ]
     },
     "execution_count": 10,
     "metadata": {},
     "output_type": "execute_result"
    }
   ],
   "source": [
    "main_dict2"
   ]
  }
 ],
 "metadata": {
  "kernelspec": {
   "display_name": "Python 3",
   "language": "python",
   "name": "python3"
  },
  "language_info": {
   "codemirror_mode": {
    "name": "ipython",
    "version": 3
   },
   "file_extension": ".py",
   "mimetype": "text/x-python",
   "name": "python",
   "nbconvert_exporter": "python",
   "pygments_lexer": "ipython3",
   "version": "3.12.3"
  }
 },
 "nbformat": 4,
 "nbformat_minor": 2
}
