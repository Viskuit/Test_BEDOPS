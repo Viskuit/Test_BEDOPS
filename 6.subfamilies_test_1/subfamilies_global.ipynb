{
 "cells": [
  {
   "cell_type": "code",
   "execution_count": 2,
   "metadata": {},
   "outputs": [],
   "source": [
    "import numpy as np\n",
    "import pandas as pd\n",
    "import subprocess \n",
    "import os\n",
    "import dill # to save variables"
   ]
  },
  {
   "cell_type": "code",
   "execution_count": 3,
   "metadata": {},
   "outputs": [],
   "source": [
    "# Prepare defined functions\n",
    "def blastn_dic(path_input):\n",
    "    os.system(\"makeblastdb -in \" + path_input + \" -dbtype nucl -parse_seqids\")\n",
    "    print(\"\\nBlast Dictionary created in\", path_input)\n",
    "    \n",
    "def blastn_blaster(query, db, perc_indentity):\n",
    "    cmd = \"blastn -word_size 11 \" \\\n",
    "    + \" -query \" + query \\\n",
    "    + \" -db \"  + db \\\n",
    "    + \" -perc_identity \" + str(perc_indentity) \\\n",
    "    + \" -outfmt '10 qseqid sseqid pident length qlen slen mismatch gapopen qstart qend sstart send evalue bitscore qcovhsp sstrand sseq'\"\n",
    "    data = subprocess.check_output(cmd, shell=True, universal_newlines=True)\n",
    "    data = pd.DataFrame([x.split(\",\") for x in data.split(\"\\n\") if x])\n",
    "\n",
    "    data.columns = [\"qseqid\", \"sseqid\", \"pident\", \"length\", \"qlen\", \"slen\", \"mismatch\", \"gapopen\", \"qstart\", \"qend\", \"sstart\", \"send\", \"evalue\", \"bitscore\", \"qcovhsp\", \"sstrand\", \"sseq\"]\n",
    "\n",
    "    return data"
   ]
  },
  {
   "cell_type": "code",
   "execution_count": null,
   "metadata": {},
   "outputs": [],
   "source": [
    "# Create BLASTn"
   ]
  }
 ],
 "metadata": {
  "kernelspec": {
   "display_name": "Python 3",
   "language": "python",
   "name": "python3"
  },
  "language_info": {
   "codemirror_mode": {
    "name": "ipython",
    "version": 3
   },
   "file_extension": ".py",
   "mimetype": "text/x-python",
   "name": "python",
   "nbconvert_exporter": "python",
   "pygments_lexer": "ipython3",
   "version": "3.10.12"
  }
 },
 "nbformat": 4,
 "nbformat_minor": 2
}
