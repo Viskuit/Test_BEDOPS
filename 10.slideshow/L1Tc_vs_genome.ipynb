{
 "cells": [
  {
   "cell_type": "code",
   "execution_count": 2,
   "metadata": {},
   "outputs": [],
   "source": [
    "import numpy as np\n",
    "import pandas as pd\n",
    "import os\n",
    "import subprocess\n",
    "\n",
    "\n",
    "from Bio import SeqIO\n",
    "from Bio.Seq import Seq\n",
    "from Bio.SeqRecord import SeqRecord"
   ]
  },
  {
   "cell_type": "code",
   "execution_count": 1,
   "metadata": {},
   "outputs": [],
   "source": [
    "L1Tc = \"CCCTGGCTCAGCCGGCCACCTCAACGTGGTGCCAGGGTCTAGTACTCTTTGCTAGAGAGGAAGCTAAGCGCCTGCTGCCCATCC\""
   ]
  },
  {
   "cell_type": "code",
   "execution_count": 3,
   "metadata": {},
   "outputs": [],
   "source": [
    "def fasta_creator2(sequence, index, fasta_output_path, description_name):\n",
    "    rec = SeqRecord(Seq(sequence),\n",
    "                    id=\"ingi_\" + str(index),\n",
    "                    description=description_name\n",
    "                    )\n",
    "    SeqIO.write(rec, fasta_output_path, \"fasta\")"
   ]
  },
  {
   "cell_type": "code",
   "execution_count": 4,
   "metadata": {},
   "outputs": [],
   "source": [
    "fasta_creator2(L1Tc, 1, \"./data/L1Tc.fasta\", \"L1Tc\")"
   ]
  },
  {
   "cell_type": "code",
   "execution_count": 5,
   "metadata": {},
   "outputs": [],
   "source": [
    "#And the blaster\n",
    "def blastn_blaster(query_path, dict_path, perc_identity):\n",
    "    cmd = \"blastn -word_size 11 -query \" \\\n",
    "        + query_path + \" -db \" \\\n",
    "        + dict_path \\\n",
    "        + \" -perc_identity \" + str(perc_identity) \\\n",
    "        + \" -outfmt '10 qseqid sseqid pident length qstart qend sstart send evalue bitscore qlen slen'\"\n",
    "    data = subprocess.check_output(cmd, shell=True, universal_newlines=True)  # Important the E value\n",
    "    data = pd.DataFrame([x.split(\",\") for x in data.split(\"\\n\") if x])\n",
    "    data.columns = [\"qseqid\", \"sseqid\", \"pident\", \"length\", \"qstart\", \"qend\", \"sstart\", \"send\", \"evalue\", \"bitscore\", \"qlen\", \"slen\"]\n",
    "    return data"
   ]
  },
  {
   "cell_type": "code",
   "execution_count": 8,
   "metadata": {},
   "outputs": [],
   "source": [
    "L1Tc_df = blastn_blaster(\"./data/L1Tc.fasta\", \"../0.Data/genome/L_infantum/TriTrypDB-67_LinfantumJPCM5_Genome.fasta\", 60)"
   ]
  },
  {
   "cell_type": "code",
   "execution_count": 10,
   "metadata": {},
   "outputs": [
    {
     "name": "stdout",
     "output_type": "stream",
     "text": [
      "(41, 12)\n"
     ]
    },
    {
     "data": {
      "text/html": [
       "<div>\n",
       "<style scoped>\n",
       "    .dataframe tbody tr th:only-of-type {\n",
       "        vertical-align: middle;\n",
       "    }\n",
       "\n",
       "    .dataframe tbody tr th {\n",
       "        vertical-align: top;\n",
       "    }\n",
       "\n",
       "    .dataframe thead th {\n",
       "        text-align: right;\n",
       "    }\n",
       "</style>\n",
       "<table border=\"1\" class=\"dataframe\">\n",
       "  <thead>\n",
       "    <tr style=\"text-align: right;\">\n",
       "      <th></th>\n",
       "      <th>qseqid</th>\n",
       "      <th>sseqid</th>\n",
       "      <th>pident</th>\n",
       "      <th>length</th>\n",
       "      <th>qstart</th>\n",
       "      <th>qend</th>\n",
       "      <th>sstart</th>\n",
       "      <th>send</th>\n",
       "      <th>evalue</th>\n",
       "      <th>bitscore</th>\n",
       "      <th>qlen</th>\n",
       "      <th>slen</th>\n",
       "    </tr>\n",
       "  </thead>\n",
       "  <tbody>\n",
       "    <tr>\n",
       "      <th>0</th>\n",
       "      <td>ingi_1</td>\n",
       "      <td>LinJ.18</td>\n",
       "      <td>91.176</td>\n",
       "      <td>34</td>\n",
       "      <td>11</td>\n",
       "      <td>42</td>\n",
       "      <td>237708</td>\n",
       "      <td>237741</td>\n",
       "      <td>4.26e-05</td>\n",
       "      <td>45.4</td>\n",
       "      <td>84</td>\n",
       "      <td>720431</td>\n",
       "    </tr>\n",
       "    <tr>\n",
       "      <th>1</th>\n",
       "      <td>ingi_1</td>\n",
       "      <td>LinJ.18</td>\n",
       "      <td>82.857</td>\n",
       "      <td>35</td>\n",
       "      <td>11</td>\n",
       "      <td>45</td>\n",
       "      <td>418136</td>\n",
       "      <td>418170</td>\n",
       "      <td>0.33</td>\n",
       "      <td>32.5</td>\n",
       "      <td>84</td>\n",
       "      <td>720431</td>\n",
       "    </tr>\n",
       "    <tr>\n",
       "      <th>2</th>\n",
       "      <td>ingi_1</td>\n",
       "      <td>LinJ.18</td>\n",
       "      <td>90.476</td>\n",
       "      <td>21</td>\n",
       "      <td>51</td>\n",
       "      <td>71</td>\n",
       "      <td>140133</td>\n",
       "      <td>140113</td>\n",
       "      <td>4.3</td>\n",
       "      <td>28.8</td>\n",
       "      <td>84</td>\n",
       "      <td>720431</td>\n",
       "    </tr>\n",
       "    <tr>\n",
       "      <th>3</th>\n",
       "      <td>ingi_1</td>\n",
       "      <td>LinJ.36</td>\n",
       "      <td>92.593</td>\n",
       "      <td>27</td>\n",
       "      <td>18</td>\n",
       "      <td>44</td>\n",
       "      <td>771695</td>\n",
       "      <td>771669</td>\n",
       "      <td>0.002</td>\n",
       "      <td>39.9</td>\n",
       "      <td>84</td>\n",
       "      <td>2743073</td>\n",
       "    </tr>\n",
       "    <tr>\n",
       "      <th>4</th>\n",
       "      <td>ingi_1</td>\n",
       "      <td>LinJ.36</td>\n",
       "      <td>88.235</td>\n",
       "      <td>34</td>\n",
       "      <td>12</td>\n",
       "      <td>44</td>\n",
       "      <td>2600543</td>\n",
       "      <td>2600575</td>\n",
       "      <td>0.002</td>\n",
       "      <td>39.9</td>\n",
       "      <td>84</td>\n",
       "      <td>2743073</td>\n",
       "    </tr>\n",
       "  </tbody>\n",
       "</table>\n",
       "</div>"
      ],
      "text/plain": [
       "   qseqid   sseqid  pident length qstart qend   sstart     send    evalue  \\\n",
       "0  ingi_1  LinJ.18  91.176     34     11   42   237708   237741  4.26e-05   \n",
       "1  ingi_1  LinJ.18  82.857     35     11   45   418136   418170      0.33   \n",
       "2  ingi_1  LinJ.18  90.476     21     51   71   140133   140113       4.3   \n",
       "3  ingi_1  LinJ.36  92.593     27     18   44   771695   771669     0.002   \n",
       "4  ingi_1  LinJ.36  88.235     34     12   44  2600543  2600575     0.002   \n",
       "\n",
       "  bitscore qlen     slen  \n",
       "0     45.4   84   720431  \n",
       "1     32.5   84   720431  \n",
       "2     28.8   84   720431  \n",
       "3     39.9   84  2743073  \n",
       "4     39.9   84  2743073  "
      ]
     },
     "execution_count": 10,
     "metadata": {},
     "output_type": "execute_result"
    }
   ],
   "source": [
    "print(L1Tc_df.shape)\n",
    "L1Tc_df.head()"
   ]
  }
 ],
 "metadata": {
  "kernelspec": {
   "display_name": "Python 3",
   "language": "python",
   "name": "python3"
  },
  "language_info": {
   "codemirror_mode": {
    "name": "ipython",
    "version": 3
   },
   "file_extension": ".py",
   "mimetype": "text/x-python",
   "name": "python",
   "nbconvert_exporter": "python",
   "pygments_lexer": "ipython3",
   "version": "3.10.12"
  }
 },
 "nbformat": 4,
 "nbformat_minor": 2
}
