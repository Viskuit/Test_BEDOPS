{
 "cells": [
  {
   "cell_type": "markdown",
   "metadata": {},
   "source": [
    "Author: Ronny F. Pacheco Date: Sep 2024\n",
    "Copyright: © 2024 Ronny Pacheco License: MIT License\n",
    "\n",
    "---\n",
    "\n",
    "MIT License\n",
    "\n",
    "Copyright (c) 2024 Ronny Pacheco\n",
    "\n",
    "Permission is hereby granted, free of charge, to any person obtaining a copy of this software and associated documentation files (the \"Software\"), to deal in the Software without restriction, including without limitation the rights to use, copy, modify, merge, publish, distribute, sublicense, and/or sell copies of the Software, and to permit persons to whom the Software is furnished to do so, subject to the following conditions:\n",
    "\n",
    "The above copyright notice and this permission notice shall be included in all copies or substantial portions of the Software.\n",
    "\n",
    "THE SOFTWARE IS PROVIDED \"AS IS\", WITHOUT WARRANTY OF ANY KIND, EXPRESS OR IMPLIED, INCLUDING BUT NOT LIMITED TO THE WARRANTIES OF MERCHANTABILITY, FITNESS FOR A PARTICULAR PURPOSE AND NONINFRINGEMENT. IN NO EVENT SHALL THE AUTHORS OR COPYRIGHT HOLDERS BE LIABLE FOR ANY CLAIM, DAMAGES OR OTHER LIABILITY, WHETHER IN AN ACTION OF CONTRACT, TORT OR OTHERWISE, ARISING FROM, OUT OF OR IN CONNECTION WITH THE SOFTWARE OR THE USE OR OTHER DEALINGS IN THE SOFTWARE."
   ]
  },
  {
   "cell_type": "markdown",
   "metadata": {},
   "source": [
    "# Needed modules"
   ]
  },
  {
   "cell_type": "code",
   "metadata": {
    "ExecuteTime": {
     "end_time": "2024-10-07T19:33:34.663041Z",
     "start_time": "2024-10-07T19:33:34.481148Z"
    }
   },
   "source": [
    "# Load the needed libraries\n",
    "import pickle\n",
    "import os\n",
    "from tabnanny import check\n",
    "from tarfile import data_filter\n",
    "\n",
    "import pandas as pd\n",
    "import numpy as np\n",
    "import json"
   ],
   "outputs": [],
   "execution_count": 1
  },
  {
   "cell_type": "code",
   "metadata": {
    "ExecuteTime": {
     "end_time": "2024-10-07T19:33:35.594196Z",
     "start_time": "2024-10-07T19:33:35.592076Z"
    }
   },
   "source": [
    "# https://kioku-space.com/en/jupyter-skip-execution/\n",
    "from IPython.core.magic import register_cell_magic # type: ignore\n",
    "\n",
    "\n",
    "@register_cell_magic\n",
    "def skip(line, cell):\n",
    "    print('Skipping cell')\n",
    "    if line and cell:\n",
    "        pass\n",
    "    return"
   ],
   "outputs": [],
   "execution_count": 2
  },
  {
   "cell_type": "markdown",
   "metadata": {},
   "source": [
    "# Pickle save"
   ]
  },
  {
   "cell_type": "code",
   "metadata": {
    "ExecuteTime": {
     "end_time": "2024-10-07T19:33:41.903361Z",
     "start_time": "2024-10-07T19:33:41.900548Z"
    }
   },
   "source": [
    "%%skip\n",
    "# =============================================================================\n",
    "# main function\n",
    "# =============================================================================\n",
    "def data_save_load(option):\n",
    "    \"\"\"\n",
    "    This function is used to save or load data for the jupyter notebook\n",
    "    \"\"\"\n",
    "    path_folder = \"ipynb_db\"  # Folder to save variables\n",
    "    os.makedirs(path_folder, exist_ok=True)  # Create folder if not exist\n",
    "    notebook_name = os.path.basename(os.path.abspath(''))\n",
    "    path_file = os.path.join(path_folder, f\"{notebook_name}.variables.pkl\") # Path to save the variables\n",
    "\n",
    "    if option == \"save\":\n",
    "        with open(path_file, \"wb\") as pickle_file:\n",
    "            dict_variables = {\n",
    "                \"neg_to_filter\" : neg_to_filter\n",
    "            }\n",
    "            pickle.dump(dict_variables, pickle_file)\n",
    "    elif option == \"load\":\n",
    "        with open(path_file, \"rb\") as pickle_file:\n",
    "            variables = pickle.load(pickle_file)\n",
    "        # Now load the variables\n",
    "        for pickle_key, pickle_value in variables.items():\n",
    "            print(f\"* Loading variable: {pickle_key}\")\n",
    "            globals()[pickle_key] = pickle_value\n",
    "# =============================================================================\n",
    "# Call the function\n",
    "# =============================================================================\n",
    "data_save_load(option=\"load\")"
   ],
   "outputs": [
    {
     "name": "stdout",
     "output_type": "stream",
     "text": [
      "Skipping cell\n"
     ]
    }
   ],
   "execution_count": 3
  },
  {
   "cell_type": "markdown",
   "metadata": {},
   "source": [
    "# Prepare Data"
   ]
  },
  {
   "metadata": {
    "ExecuteTime": {
     "end_time": "2024-10-07T19:34:29.731872Z",
     "start_time": "2024-10-07T19:34:29.715266Z"
    }
   },
   "cell_type": "code",
   "source": [
    "neg_to_filter = pd.read_csv(\"./data/neg_to_filter.csv\", sep=\",\", header=0)\n",
    "print(neg_to_filter.shape)\n",
    "print(neg_to_filter.dtypes)\n",
    "neg_to_filter.head()"
   ],
   "outputs": [
    {
     "name": "stdout",
     "output_type": "stream",
     "text": [
      "(1851, 16)\n",
      "neg_name         object\n",
      "chrom            object\n",
      "start             int64\n",
      "end               int64\n",
      "strand           object\n",
      "gene_id          object\n",
      "transcript_id    object\n",
      "parent_id        object\n",
      "gene               bool\n",
      "transcript         bool\n",
      "CDS                bool\n",
      "3utr               bool\n",
      "5utr               bool\n",
      "pseudogen        object\n",
      "notes            object\n",
      "interval         object\n",
      "dtype: object\n"
     ]
    },
    {
     "data": {
      "text/plain": [
       "                neg_name    chrom   start     end strand         gene_id  \\\n",
       "0  rejected_noCDS_c01.10  LinJ.01   34736   37218      -  LINF_010006300   \n",
       "1  rejected_noCDS_c01.10  LinJ.01   34736   37218      -             NaN   \n",
       "2  rejected_noCDS_c01.10  LinJ.01   34736   36818      -             NaN   \n",
       "3  rejected_noCDS_c01.20  LinJ.01  114146  116224      +  LINF_010009600   \n",
       "4  rejected_noCDS_c01.20  LinJ.01  114146  116224      +             NaN   \n",
       "\n",
       "     transcript_id        parent_id   gene  transcript    CDS   3utr   5utr  \\\n",
       "0              NaN              NaN   True       False  False  False  False   \n",
       "1  LINF_01T0006300   LINF_010006300  False        True  False  False  False   \n",
       "2              NaN  LINF_01T0006300  False       False  False   True  False   \n",
       "3              NaN              NaN   True       False  False  False  False   \n",
       "4  LINF_01T0009600   LINF_010009600  False        True  False  False  False   \n",
       "\n",
       "  pseudogen                               notes          interval  \n",
       "0       NaN  hypothetical_protein_-_conserved__    [34736, 37218]  \n",
       "1       NaN  hypothetical_protein_-_conserved__    [34736, 37218]  \n",
       "2       NaN                                 NaN    [34736, 36818]  \n",
       "3       NaN                 nicotinamidase|PNC1  [114146, 116224]  \n",
       "4       NaN                 nicotinamidase|PNC1  [114146, 116224]  "
      ],
      "text/html": [
       "<div>\n",
       "<style scoped>\n",
       "    .dataframe tbody tr th:only-of-type {\n",
       "        vertical-align: middle;\n",
       "    }\n",
       "\n",
       "    .dataframe tbody tr th {\n",
       "        vertical-align: top;\n",
       "    }\n",
       "\n",
       "    .dataframe thead th {\n",
       "        text-align: right;\n",
       "    }\n",
       "</style>\n",
       "<table border=\"1\" class=\"dataframe\">\n",
       "  <thead>\n",
       "    <tr style=\"text-align: right;\">\n",
       "      <th></th>\n",
       "      <th>neg_name</th>\n",
       "      <th>chrom</th>\n",
       "      <th>start</th>\n",
       "      <th>end</th>\n",
       "      <th>strand</th>\n",
       "      <th>gene_id</th>\n",
       "      <th>transcript_id</th>\n",
       "      <th>parent_id</th>\n",
       "      <th>gene</th>\n",
       "      <th>transcript</th>\n",
       "      <th>CDS</th>\n",
       "      <th>3utr</th>\n",
       "      <th>5utr</th>\n",
       "      <th>pseudogen</th>\n",
       "      <th>notes</th>\n",
       "      <th>interval</th>\n",
       "    </tr>\n",
       "  </thead>\n",
       "  <tbody>\n",
       "    <tr>\n",
       "      <th>0</th>\n",
       "      <td>rejected_noCDS_c01.10</td>\n",
       "      <td>LinJ.01</td>\n",
       "      <td>34736</td>\n",
       "      <td>37218</td>\n",
       "      <td>-</td>\n",
       "      <td>LINF_010006300</td>\n",
       "      <td>NaN</td>\n",
       "      <td>NaN</td>\n",
       "      <td>True</td>\n",
       "      <td>False</td>\n",
       "      <td>False</td>\n",
       "      <td>False</td>\n",
       "      <td>False</td>\n",
       "      <td>NaN</td>\n",
       "      <td>hypothetical_protein_-_conserved__</td>\n",
       "      <td>[34736, 37218]</td>\n",
       "    </tr>\n",
       "    <tr>\n",
       "      <th>1</th>\n",
       "      <td>rejected_noCDS_c01.10</td>\n",
       "      <td>LinJ.01</td>\n",
       "      <td>34736</td>\n",
       "      <td>37218</td>\n",
       "      <td>-</td>\n",
       "      <td>NaN</td>\n",
       "      <td>LINF_01T0006300</td>\n",
       "      <td>LINF_010006300</td>\n",
       "      <td>False</td>\n",
       "      <td>True</td>\n",
       "      <td>False</td>\n",
       "      <td>False</td>\n",
       "      <td>False</td>\n",
       "      <td>NaN</td>\n",
       "      <td>hypothetical_protein_-_conserved__</td>\n",
       "      <td>[34736, 37218]</td>\n",
       "    </tr>\n",
       "    <tr>\n",
       "      <th>2</th>\n",
       "      <td>rejected_noCDS_c01.10</td>\n",
       "      <td>LinJ.01</td>\n",
       "      <td>34736</td>\n",
       "      <td>36818</td>\n",
       "      <td>-</td>\n",
       "      <td>NaN</td>\n",
       "      <td>NaN</td>\n",
       "      <td>LINF_01T0006300</td>\n",
       "      <td>False</td>\n",
       "      <td>False</td>\n",
       "      <td>False</td>\n",
       "      <td>True</td>\n",
       "      <td>False</td>\n",
       "      <td>NaN</td>\n",
       "      <td>NaN</td>\n",
       "      <td>[34736, 36818]</td>\n",
       "    </tr>\n",
       "    <tr>\n",
       "      <th>3</th>\n",
       "      <td>rejected_noCDS_c01.20</td>\n",
       "      <td>LinJ.01</td>\n",
       "      <td>114146</td>\n",
       "      <td>116224</td>\n",
       "      <td>+</td>\n",
       "      <td>LINF_010009600</td>\n",
       "      <td>NaN</td>\n",
       "      <td>NaN</td>\n",
       "      <td>True</td>\n",
       "      <td>False</td>\n",
       "      <td>False</td>\n",
       "      <td>False</td>\n",
       "      <td>False</td>\n",
       "      <td>NaN</td>\n",
       "      <td>nicotinamidase|PNC1</td>\n",
       "      <td>[114146, 116224]</td>\n",
       "    </tr>\n",
       "    <tr>\n",
       "      <th>4</th>\n",
       "      <td>rejected_noCDS_c01.20</td>\n",
       "      <td>LinJ.01</td>\n",
       "      <td>114146</td>\n",
       "      <td>116224</td>\n",
       "      <td>+</td>\n",
       "      <td>NaN</td>\n",
       "      <td>LINF_01T0009600</td>\n",
       "      <td>LINF_010009600</td>\n",
       "      <td>False</td>\n",
       "      <td>True</td>\n",
       "      <td>False</td>\n",
       "      <td>False</td>\n",
       "      <td>False</td>\n",
       "      <td>NaN</td>\n",
       "      <td>nicotinamidase|PNC1</td>\n",
       "      <td>[114146, 116224]</td>\n",
       "    </tr>\n",
       "  </tbody>\n",
       "</table>\n",
       "</div>"
      ]
     },
     "execution_count": 4,
     "metadata": {},
     "output_type": "execute_result"
    }
   ],
   "execution_count": 4
  },
  {
   "metadata": {},
   "cell_type": "markdown",
   "source": "## Cleaning phase"
  },
  {
   "metadata": {},
   "cell_type": "markdown",
   "source": "### Defining functions"
  },
  {
   "metadata": {
    "ExecuteTime": {
     "end_time": "2024-10-07T19:35:39.576368Z",
     "start_time": "2024-10-07T19:35:39.571565Z"
    }
   },
   "cell_type": "code",
   "source": [
    "def search_string(data_frame, searching_string):\n",
    "    \"\"\"\n",
    "    :param data_frame: The DataFrame to search within. Must contain a 'notes' column to perform string matching.\n",
    "    :param searching_string: The string to search for within the 'notes' column of the DataFrame.\n",
    "    :return: A filtered DataFrame that contains only rows where 'notes' contains the searching_string, ignoring case.\n",
    "    \"\"\"\n",
    "    filtered_df = data_frame[data_frame['notes'].fillna('').str.contains(searching_string, case=False)]\n",
    "    print(f\"The of filtered data: {filtered_df.shape}\")\n",
    "    print(f\"The unique values in column 'neg_name': {filtered_df['neg_name'].nunique()}\")\n",
    "    return filtered_df\n",
    "\n",
    "def checking_data(data_frame):\n",
    "    \"\"\"\n",
    "    :param data_frame: pandas DataFrame that is being checked\n",
    "    :return: None\n",
    "    \"\"\"\n",
    "    print(f\"Shape of the data frame is: {data_frame.shape}\")\n",
    "    print(f\"Number of unique values in column 'neg_name': {data_frame['neg_name'].nunique()} \")\n",
    "\n",
    "def check_family(data_frame, family_name):\n",
    "    \"\"\"\n",
    "    Filters the DataFrame for rows where 'neg_name' contains the specified family_name pattern and 'gene' is True.\n",
    "    \n",
    "    Args:\n",
    "    data_frame (pd.DataFrame): The DataFrame to filter.\n",
    "    family_name (str): The pattern to match in 'neg_name'.\n",
    "    \n",
    "    Returns:\n",
    "    pd.DataFrame: The filtered DataFrame with selected columns.\n",
    "    \"\"\"\n",
    "    pattern = fr'\\d+{family_name}$'\n",
    "    filtered_data = data_frame.loc[\n",
    "        (data_frame['neg_name'].str.contains(pattern, na=False)) & (data_frame['gene'] == True),\n",
    "        ['neg_name', 'chrom', 'gene_id', 'notes', 'start', 'end']\n",
    "    ]\n",
    "    return filtered_data\n",
    " \n",
    "\n",
    "def group_and_count(data_frame, group_column):\n",
    "    \"\"\"\n",
    "    :param data_frame: The input DataFrame containing the data to be grouped and counted.\n",
    "    :param group_column: The column name used to group the data_frame.\n",
    "    :return: A sorted DataFrame with unique notes from the group_column and their associated counts.\n",
    "    \"\"\"\n",
    "    grouped_df = data_frame.groupby(group_column)\n",
    "    grouped_column_counter = {}\n",
    "    loc_counter_global = {}\n",
    "    for _, group_data in grouped_df:\n",
    "        notes = group_data['notes'].unique()\n",
    "        for element in notes:\n",
    "            if element is not None:\n",
    "                if element not in grouped_column_counter:\n",
    "                    grouped_column_counter[element] = 1\n",
    "                else:\n",
    "                    grouped_column_counter[element] += 1\n",
    "                    \n",
    "        loc_data = group_data[[\"gene\", \"transcript\", \"CDS\", \"3utr\", \"5utr\"]].sum()\n",
    "        for loc_element in loc_data.index:\n",
    "            if loc_data[loc_element] > 0:\n",
    "                if loc_element not in loc_counter_global:\n",
    "                    loc_counter_global[loc_element] = 1\n",
    "                else:\n",
    "                    loc_counter_global[loc_element] += 1\n",
    "        \n",
    "    notes_counter_global_sorted = dict(sorted(grouped_column_counter.items(), key=lambda x: x[1], reverse=True))\n",
    "    notes_counter_global_sorted_df = pd.DataFrame(notes_counter_global_sorted.items(), columns=[\"notes\", \"count\"])\n",
    "    print(loc_counter_global)\n",
    "    return notes_counter_global_sorted_df"
   ],
   "outputs": [],
   "execution_count": 5
  },
  {
   "metadata": {},
   "cell_type": "markdown",
   "source": "### Check function and location\n"
  },
  {
   "metadata": {
    "ExecuteTime": {
     "end_time": "2024-10-07T19:35:39.634638Z",
     "start_time": "2024-10-07T19:35:39.627875Z"
    }
   },
   "cell_type": "code",
   "source": [
    "checking_data(neg_to_filter)\n",
    "### Defining functions\n",
    "neg_to_filter.head()"
   ],
   "outputs": [
    {
     "name": "stdout",
     "output_type": "stream",
     "text": [
      "Shape of the data frame is: (1851, 16)\n",
      "Number of unique values in column 'neg_name': 640 \n"
     ]
    },
    {
     "data": {
      "text/plain": [
       "                neg_name    chrom   start     end strand         gene_id  \\\n",
       "0  rejected_noCDS_c01.10  LinJ.01   34736   37218      -  LINF_010006300   \n",
       "1  rejected_noCDS_c01.10  LinJ.01   34736   37218      -             NaN   \n",
       "2  rejected_noCDS_c01.10  LinJ.01   34736   36818      -             NaN   \n",
       "3  rejected_noCDS_c01.20  LinJ.01  114146  116224      +  LINF_010009600   \n",
       "4  rejected_noCDS_c01.20  LinJ.01  114146  116224      +             NaN   \n",
       "\n",
       "     transcript_id        parent_id   gene  transcript    CDS   3utr   5utr  \\\n",
       "0              NaN              NaN   True       False  False  False  False   \n",
       "1  LINF_01T0006300   LINF_010006300  False        True  False  False  False   \n",
       "2              NaN  LINF_01T0006300  False       False  False   True  False   \n",
       "3              NaN              NaN   True       False  False  False  False   \n",
       "4  LINF_01T0009600   LINF_010009600  False        True  False  False  False   \n",
       "\n",
       "  pseudogen                               notes          interval  \n",
       "0       NaN  hypothetical_protein_-_conserved__    [34736, 37218]  \n",
       "1       NaN  hypothetical_protein_-_conserved__    [34736, 37218]  \n",
       "2       NaN                                 NaN    [34736, 36818]  \n",
       "3       NaN                 nicotinamidase|PNC1  [114146, 116224]  \n",
       "4       NaN                 nicotinamidase|PNC1  [114146, 116224]  "
      ],
      "text/html": [
       "<div>\n",
       "<style scoped>\n",
       "    .dataframe tbody tr th:only-of-type {\n",
       "        vertical-align: middle;\n",
       "    }\n",
       "\n",
       "    .dataframe tbody tr th {\n",
       "        vertical-align: top;\n",
       "    }\n",
       "\n",
       "    .dataframe thead th {\n",
       "        text-align: right;\n",
       "    }\n",
       "</style>\n",
       "<table border=\"1\" class=\"dataframe\">\n",
       "  <thead>\n",
       "    <tr style=\"text-align: right;\">\n",
       "      <th></th>\n",
       "      <th>neg_name</th>\n",
       "      <th>chrom</th>\n",
       "      <th>start</th>\n",
       "      <th>end</th>\n",
       "      <th>strand</th>\n",
       "      <th>gene_id</th>\n",
       "      <th>transcript_id</th>\n",
       "      <th>parent_id</th>\n",
       "      <th>gene</th>\n",
       "      <th>transcript</th>\n",
       "      <th>CDS</th>\n",
       "      <th>3utr</th>\n",
       "      <th>5utr</th>\n",
       "      <th>pseudogen</th>\n",
       "      <th>notes</th>\n",
       "      <th>interval</th>\n",
       "    </tr>\n",
       "  </thead>\n",
       "  <tbody>\n",
       "    <tr>\n",
       "      <th>0</th>\n",
       "      <td>rejected_noCDS_c01.10</td>\n",
       "      <td>LinJ.01</td>\n",
       "      <td>34736</td>\n",
       "      <td>37218</td>\n",
       "      <td>-</td>\n",
       "      <td>LINF_010006300</td>\n",
       "      <td>NaN</td>\n",
       "      <td>NaN</td>\n",
       "      <td>True</td>\n",
       "      <td>False</td>\n",
       "      <td>False</td>\n",
       "      <td>False</td>\n",
       "      <td>False</td>\n",
       "      <td>NaN</td>\n",
       "      <td>hypothetical_protein_-_conserved__</td>\n",
       "      <td>[34736, 37218]</td>\n",
       "    </tr>\n",
       "    <tr>\n",
       "      <th>1</th>\n",
       "      <td>rejected_noCDS_c01.10</td>\n",
       "      <td>LinJ.01</td>\n",
       "      <td>34736</td>\n",
       "      <td>37218</td>\n",
       "      <td>-</td>\n",
       "      <td>NaN</td>\n",
       "      <td>LINF_01T0006300</td>\n",
       "      <td>LINF_010006300</td>\n",
       "      <td>False</td>\n",
       "      <td>True</td>\n",
       "      <td>False</td>\n",
       "      <td>False</td>\n",
       "      <td>False</td>\n",
       "      <td>NaN</td>\n",
       "      <td>hypothetical_protein_-_conserved__</td>\n",
       "      <td>[34736, 37218]</td>\n",
       "    </tr>\n",
       "    <tr>\n",
       "      <th>2</th>\n",
       "      <td>rejected_noCDS_c01.10</td>\n",
       "      <td>LinJ.01</td>\n",
       "      <td>34736</td>\n",
       "      <td>36818</td>\n",
       "      <td>-</td>\n",
       "      <td>NaN</td>\n",
       "      <td>NaN</td>\n",
       "      <td>LINF_01T0006300</td>\n",
       "      <td>False</td>\n",
       "      <td>False</td>\n",
       "      <td>False</td>\n",
       "      <td>True</td>\n",
       "      <td>False</td>\n",
       "      <td>NaN</td>\n",
       "      <td>NaN</td>\n",
       "      <td>[34736, 36818]</td>\n",
       "    </tr>\n",
       "    <tr>\n",
       "      <th>3</th>\n",
       "      <td>rejected_noCDS_c01.20</td>\n",
       "      <td>LinJ.01</td>\n",
       "      <td>114146</td>\n",
       "      <td>116224</td>\n",
       "      <td>+</td>\n",
       "      <td>LINF_010009600</td>\n",
       "      <td>NaN</td>\n",
       "      <td>NaN</td>\n",
       "      <td>True</td>\n",
       "      <td>False</td>\n",
       "      <td>False</td>\n",
       "      <td>False</td>\n",
       "      <td>False</td>\n",
       "      <td>NaN</td>\n",
       "      <td>nicotinamidase|PNC1</td>\n",
       "      <td>[114146, 116224]</td>\n",
       "    </tr>\n",
       "    <tr>\n",
       "      <th>4</th>\n",
       "      <td>rejected_noCDS_c01.20</td>\n",
       "      <td>LinJ.01</td>\n",
       "      <td>114146</td>\n",
       "      <td>116224</td>\n",
       "      <td>+</td>\n",
       "      <td>NaN</td>\n",
       "      <td>LINF_01T0009600</td>\n",
       "      <td>LINF_010009600</td>\n",
       "      <td>False</td>\n",
       "      <td>True</td>\n",
       "      <td>False</td>\n",
       "      <td>False</td>\n",
       "      <td>False</td>\n",
       "      <td>NaN</td>\n",
       "      <td>nicotinamidase|PNC1</td>\n",
       "      <td>[114146, 116224]</td>\n",
       "    </tr>\n",
       "  </tbody>\n",
       "</table>\n",
       "</div>"
      ]
     },
     "execution_count": 6,
     "metadata": {},
     "output_type": "execute_result"
    }
   ],
   "execution_count": 6
  },
  {
   "metadata": {
    "ExecuteTime": {
     "end_time": "2024-10-07T19:35:39.996161Z",
     "start_time": "2024-10-07T19:35:39.753319Z"
    }
   },
   "cell_type": "code",
   "source": "group_and_count(neg_to_filter, \"neg_name\")",
   "outputs": [
    {
     "name": "stdout",
     "output_type": "stream",
     "text": [
      "{'gene': 640, 'transcript': 640, '3utr': 400, '5utr': 52, 'CDS': 4}\n"
     ]
    },
    {
     "data": {
      "text/plain": [
       "                                                 notes  count\n",
       "0                                                  NaN    638\n",
       "1                     hypothetical_protein_-_conserved     88\n",
       "2              protein_of_unknown_function_-_conserved     31\n",
       "3              amastin_surface_glycoprotein_-_putative     23\n",
       "4                                 hypothetical_protein     12\n",
       "..                                                 ...    ...\n",
       "210               Haloacid_dehalogenase-like_hydrolase      1\n",
       "211  protein-l-isoaspartate_o-methyltransferase_-_p...      1\n",
       "212                 2′-O-ribose_methyltransferase|MTr1      1\n",
       "213           mitochondrial_carrier_protein_-_putative      1\n",
       "214            adaptin_complex_1_subunit|beta_adaptin       1\n",
       "\n",
       "[215 rows x 2 columns]"
      ],
      "text/html": [
       "<div>\n",
       "<style scoped>\n",
       "    .dataframe tbody tr th:only-of-type {\n",
       "        vertical-align: middle;\n",
       "    }\n",
       "\n",
       "    .dataframe tbody tr th {\n",
       "        vertical-align: top;\n",
       "    }\n",
       "\n",
       "    .dataframe thead th {\n",
       "        text-align: right;\n",
       "    }\n",
       "</style>\n",
       "<table border=\"1\" class=\"dataframe\">\n",
       "  <thead>\n",
       "    <tr style=\"text-align: right;\">\n",
       "      <th></th>\n",
       "      <th>notes</th>\n",
       "      <th>count</th>\n",
       "    </tr>\n",
       "  </thead>\n",
       "  <tbody>\n",
       "    <tr>\n",
       "      <th>0</th>\n",
       "      <td>NaN</td>\n",
       "      <td>638</td>\n",
       "    </tr>\n",
       "    <tr>\n",
       "      <th>1</th>\n",
       "      <td>hypothetical_protein_-_conserved</td>\n",
       "      <td>88</td>\n",
       "    </tr>\n",
       "    <tr>\n",
       "      <th>2</th>\n",
       "      <td>protein_of_unknown_function_-_conserved</td>\n",
       "      <td>31</td>\n",
       "    </tr>\n",
       "    <tr>\n",
       "      <th>3</th>\n",
       "      <td>amastin_surface_glycoprotein_-_putative</td>\n",
       "      <td>23</td>\n",
       "    </tr>\n",
       "    <tr>\n",
       "      <th>4</th>\n",
       "      <td>hypothetical_protein</td>\n",
       "      <td>12</td>\n",
       "    </tr>\n",
       "    <tr>\n",
       "      <th>...</th>\n",
       "      <td>...</td>\n",
       "      <td>...</td>\n",
       "    </tr>\n",
       "    <tr>\n",
       "      <th>210</th>\n",
       "      <td>Haloacid_dehalogenase-like_hydrolase</td>\n",
       "      <td>1</td>\n",
       "    </tr>\n",
       "    <tr>\n",
       "      <th>211</th>\n",
       "      <td>protein-l-isoaspartate_o-methyltransferase_-_p...</td>\n",
       "      <td>1</td>\n",
       "    </tr>\n",
       "    <tr>\n",
       "      <th>212</th>\n",
       "      <td>2′-O-ribose_methyltransferase|MTr1</td>\n",
       "      <td>1</td>\n",
       "    </tr>\n",
       "    <tr>\n",
       "      <th>213</th>\n",
       "      <td>mitochondrial_carrier_protein_-_putative</td>\n",
       "      <td>1</td>\n",
       "    </tr>\n",
       "    <tr>\n",
       "      <th>214</th>\n",
       "      <td>adaptin_complex_1_subunit|beta_adaptin</td>\n",
       "      <td>1</td>\n",
       "    </tr>\n",
       "  </tbody>\n",
       "</table>\n",
       "<p>215 rows × 2 columns</p>\n",
       "</div>"
      ]
     },
     "execution_count": 7,
     "metadata": {},
     "output_type": "execute_result"
    }
   ],
   "execution_count": 7
  },
  {
   "metadata": {},
   "cell_type": "markdown",
   "source": [
    "### Checking: Hypothetical protein\n",
    "\n",
    "We'll see what to do with this kind of data. In this case probably we won't do anything because we don't know what the gene does."
   ]
  },
  {
   "metadata": {
    "ExecuteTime": {
     "end_time": "2024-10-07T19:35:40.094734Z",
     "start_time": "2024-10-07T19:35:40.091673Z"
    }
   },
   "cell_type": "code",
   "source": [
    "# Let's search for \"hypothetical_protein\" and add them to a new data frame\n",
    "filter_data = search_string(neg_to_filter, \"hypothetical_protein\")"
   ],
   "outputs": [
    {
     "name": "stdout",
     "output_type": "stream",
     "text": [
      "The of filtered data: (208, 16)\n",
      "The unique values in column 'neg_name': 104\n"
     ]
    }
   ],
   "execution_count": 8
  },
  {
   "metadata": {
    "ExecuteTime": {
     "end_time": "2024-10-07T19:35:40.184398Z",
     "start_time": "2024-10-07T19:35:40.181622Z"
    }
   },
   "cell_type": "code",
   "source": [
    "# Now let's take from \"neg_to_filter\" all the rows that have the same \"neg_name\" as in \"good_negatives\"\n",
    "good_negatives = neg_to_filter[neg_to_filter['neg_name'].isin(filter_data['neg_name'])]\n",
    "checking_data(good_negatives)"
   ],
   "outputs": [
    {
     "name": "stdout",
     "output_type": "stream",
     "text": [
      "Shape of the data frame is: (349, 16)\n",
      "Number of unique values in column 'neg_name': 104 \n"
     ]
    }
   ],
   "execution_count": 9
  },
  {
   "metadata": {
    "ExecuteTime": {
     "end_time": "2024-10-07T19:35:40.608904Z",
     "start_time": "2024-10-07T19:35:40.408371Z"
    }
   },
   "cell_type": "code",
   "source": [
    "# Remove them now:\n",
    "neg_filtered = neg_to_filter[~neg_to_filter['neg_name'].isin(good_negatives['neg_name'])]\n",
    "# Let's check the data frame now\n",
    "checking_data(neg_filtered)\n",
    "group_and_count(neg_filtered, \"neg_name\")"
   ],
   "outputs": [
    {
     "name": "stdout",
     "output_type": "stream",
     "text": [
      "Shape of the data frame is: (1502, 16)\n",
      "Number of unique values in column 'neg_name': 536 \n",
      "{'gene': 536, 'transcript': 536, '5utr': 34, '3utr': 307, 'CDS': 4}\n"
     ]
    },
    {
     "data": {
      "text/plain": [
       "                                                 notes  count\n",
       "0                                                  NaN    534\n",
       "1              protein_of_unknown_function_-_conserved     31\n",
       "2              amastin_surface_glycoprotein_-_putative     23\n",
       "3                                  glucose_transporter      9\n",
       "4                                 amastin-like_protein      8\n",
       "..                                                 ...    ...\n",
       "200               Haloacid_dehalogenase-like_hydrolase      1\n",
       "201  protein-l-isoaspartate_o-methyltransferase_-_p...      1\n",
       "202                 2′-O-ribose_methyltransferase|MTr1      1\n",
       "203           mitochondrial_carrier_protein_-_putative      1\n",
       "204            adaptin_complex_1_subunit|beta_adaptin       1\n",
       "\n",
       "[205 rows x 2 columns]"
      ],
      "text/html": [
       "<div>\n",
       "<style scoped>\n",
       "    .dataframe tbody tr th:only-of-type {\n",
       "        vertical-align: middle;\n",
       "    }\n",
       "\n",
       "    .dataframe tbody tr th {\n",
       "        vertical-align: top;\n",
       "    }\n",
       "\n",
       "    .dataframe thead th {\n",
       "        text-align: right;\n",
       "    }\n",
       "</style>\n",
       "<table border=\"1\" class=\"dataframe\">\n",
       "  <thead>\n",
       "    <tr style=\"text-align: right;\">\n",
       "      <th></th>\n",
       "      <th>notes</th>\n",
       "      <th>count</th>\n",
       "    </tr>\n",
       "  </thead>\n",
       "  <tbody>\n",
       "    <tr>\n",
       "      <th>0</th>\n",
       "      <td>NaN</td>\n",
       "      <td>534</td>\n",
       "    </tr>\n",
       "    <tr>\n",
       "      <th>1</th>\n",
       "      <td>protein_of_unknown_function_-_conserved</td>\n",
       "      <td>31</td>\n",
       "    </tr>\n",
       "    <tr>\n",
       "      <th>2</th>\n",
       "      <td>amastin_surface_glycoprotein_-_putative</td>\n",
       "      <td>23</td>\n",
       "    </tr>\n",
       "    <tr>\n",
       "      <th>3</th>\n",
       "      <td>glucose_transporter</td>\n",
       "      <td>9</td>\n",
       "    </tr>\n",
       "    <tr>\n",
       "      <th>4</th>\n",
       "      <td>amastin-like_protein</td>\n",
       "      <td>8</td>\n",
       "    </tr>\n",
       "    <tr>\n",
       "      <th>...</th>\n",
       "      <td>...</td>\n",
       "      <td>...</td>\n",
       "    </tr>\n",
       "    <tr>\n",
       "      <th>200</th>\n",
       "      <td>Haloacid_dehalogenase-like_hydrolase</td>\n",
       "      <td>1</td>\n",
       "    </tr>\n",
       "    <tr>\n",
       "      <th>201</th>\n",
       "      <td>protein-l-isoaspartate_o-methyltransferase_-_p...</td>\n",
       "      <td>1</td>\n",
       "    </tr>\n",
       "    <tr>\n",
       "      <th>202</th>\n",
       "      <td>2′-O-ribose_methyltransferase|MTr1</td>\n",
       "      <td>1</td>\n",
       "    </tr>\n",
       "    <tr>\n",
       "      <th>203</th>\n",
       "      <td>mitochondrial_carrier_protein_-_putative</td>\n",
       "      <td>1</td>\n",
       "    </tr>\n",
       "    <tr>\n",
       "      <th>204</th>\n",
       "      <td>adaptin_complex_1_subunit|beta_adaptin</td>\n",
       "      <td>1</td>\n",
       "    </tr>\n",
       "  </tbody>\n",
       "</table>\n",
       "<p>205 rows × 2 columns</p>\n",
       "</div>"
      ]
     },
     "execution_count": 10,
     "metadata": {},
     "output_type": "execute_result"
    }
   ],
   "execution_count": 10
  },
  {
   "metadata": {},
   "cell_type": "markdown",
   "source": "### Checking: Protein of unknown function"
  },
  {
   "metadata": {
    "ExecuteTime": {
     "end_time": "2024-10-07T19:35:40.682492Z",
     "start_time": "2024-10-07T19:35:40.677308Z"
    }
   },
   "cell_type": "code",
   "source": [
    "filter_data = search_string(neg_filtered, \"protein_of_unknown_function\")\n",
    "filter_data['notes'].value_counts()"
   ],
   "outputs": [
    {
     "name": "stdout",
     "output_type": "stream",
     "text": [
      "The of filtered data: (84, 16)\n",
      "The unique values in column 'neg_name': 39\n"
     ]
    },
    {
     "data": {
      "text/plain": [
       "notes\n",
       "protein_of_unknown_function_-_conserved                                                                                                 64\n",
       "protein_of_unknown_function_(DUF3184)                                                                                                    4\n",
       "Protein_of_unknown_function_(DUF962),_putative                                                                                           2\n",
       "Protein_of_unknown_function_(DUF2946)_-_putative                                                                                         2\n",
       "Protein_of_unknown_function_(DUF775)_-_putative                                                                                          2\n",
       "Protein_of_unknown_function_-_conserved_(L1p/L10e_family)                                                                                2\n",
       "Protein_of_unknown_function_N-terminal_domain_(DUF2450)/Sec8_exocyst_complex_component_specific_domain_containing_protein_-_putative     2\n",
       "Protein_of_unknown_function_(DUF3184)_-_putative                                                                                         2\n",
       "Protein_of_unknown_function_(DUF778)_-_putative                                                                                          2\n",
       "Protein_of_unknown_function_(DUF3808)                                                                                                    2\n",
       "Name: count, dtype: int64"
      ]
     },
     "execution_count": 11,
     "metadata": {},
     "output_type": "execute_result"
    }
   ],
   "execution_count": 11
  },
  {
   "metadata": {
    "ExecuteTime": {
     "end_time": "2024-10-07T19:35:40.900229Z",
     "start_time": "2024-10-07T19:35:40.890326Z"
    }
   },
   "cell_type": "code",
   "source": "filter_data[filter_data[\"gene\"] == True]",
   "outputs": [
    {
     "data": {
      "text/plain": [
       "                       neg_name    chrom    start      end strand  \\\n",
       "47       rejected_noCDS_c03.190  LinJ.03   235179   238900      +   \n",
       "107      rejected_noCDS_c06.380  LinJ.06    62983    65883      -   \n",
       "113      rejected_noCDS_c06.410  LinJ.06   402727   406088      +   \n",
       "292    rejected_noCDS_c12.1180S  LinJ.12   372226   374050      +   \n",
       "295    rejected_noCDS_c12.1180S  LinJ.12   374051   377775      +   \n",
       "298     rejected_noCDS_c12.1190  LinJ.12   374051   377775      +   \n",
       "323    rejected_noCDS_c12.1240S  LinJ.12   429222   431627      +   \n",
       "338    rejected_noCDS_c12.1290T  LinJ.12   528652   535332      +   \n",
       "340    rejected_noCDS_c12.1300U  LinJ.12   528652   535332      +   \n",
       "342     rejected_noCDS_c12.1310  LinJ.12   528652   535332      +   \n",
       "407     rejected_noCDS_c15.1560  LinJ.15    77396    79634      -   \n",
       "413     rejected_noCDS_c15.1580  LinJ.15   151001   152466      +   \n",
       "416     rejected_noCDS_c15.1580  LinJ.15   152817   154532      +   \n",
       "452     rejected_noCDS_c16.1710  LinJ.16   119725   123450      -   \n",
       "463    rejected_noCDS_c16.1760Y  LinJ.16   371773   376703      +   \n",
       "466    rejected_noCDS_c16.1770Y  LinJ.16   377060   383329      +   \n",
       "474     rejected_noCDS_c16.1800  LinJ.16   603494   611700      -   \n",
       "477     rejected_noCDS_c16.1810  LinJ.16   603494   611700      -   \n",
       "553   rejected_noCDS_c19.2090AC  LinJ.19   224264   231735      +   \n",
       "595     rejected_noCDS_c20.2250  LinJ.20   135925   140156      +   \n",
       "598     rejected_noCDS_c20.2260  LinJ.20   245715   247334      +   \n",
       "601     rejected_noCDS_c20.2260  LinJ.20   247335   249516      +   \n",
       "638     rejected_noCDS_c21.2390  LinJ.21   488393   489994      -   \n",
       "652     rejected_noCDS_c21.2440  LinJ.21   621660   628792      -   \n",
       "710     rejected_noCDS_c23.2660  LinJ.23   491115   493877      -   \n",
       "757     rejected_noCDS_c24.2800  LinJ.24   151576   158682      +   \n",
       "816     rejected_noCDS_c26.3020  LinJ.26   168807   171144      -   \n",
       "857     rejected_noCDS_c26.3180  LinJ.26  1021429  1025061      +   \n",
       "868   rejected_noCDS_c27.3220AR  LinJ.27   396554   398111      +   \n",
       "882     rejected_noCDS_c27.3270  LinJ.27   536880   541850      -   \n",
       "1087    rejected_noCDS_c30.4010  LinJ.30   948227   959563      -   \n",
       "1090    rejected_noCDS_c30.4020  LinJ.30   948227   959563      -   \n",
       "1093    rejected_noCDS_c30.4030  LinJ.30  1007205  1011606      -   \n",
       "1111    rejected_noCDS_c30.4090  LinJ.30  1333478  1340150      +   \n",
       "1193  rejected_noCDS_c31.4420BK  LinJ.31   973364   979320      -   \n",
       "1281    rejected_noCDS_c32.4730  LinJ.32   965256   970325      -   \n",
       "1346    rejected_noCDS_c33.4980  LinJ.33  1335137  1342813      +   \n",
       "1391  rejected_noCDS_c34.5150BT  LinJ.34   557626   562306      -   \n",
       "1496    rejected_noCDS_c34.5510  LinJ.34  1001422  1012594      -   \n",
       "1660    rejected_noCDS_c35.6100  LinJ.35   334360   336208      +   \n",
       "1674    rejected_noCDS_c35.6150  LinJ.35   796669   802441      +   \n",
       "1719  rejected_noCDS_c35.6330CM  LinJ.35  1994576  1997700      +   \n",
       "\n",
       "             gene_id transcript_id parent_id  gene  transcript    CDS   3utr  \\\n",
       "47    LINF_030011300           NaN       NaN  True       False  False  False   \n",
       "107   LINF_060007000           NaN       NaN  True       False  False  False   \n",
       "113   LINF_060014900           NaN       NaN  True       False  False  False   \n",
       "292   LINF_120012350           NaN       NaN  True       False  False  False   \n",
       "295   LINF_120012400           NaN       NaN  True       False  False  False   \n",
       "298   LINF_120012400           NaN       NaN  True       False  False  False   \n",
       "323   LINF_120013800           NaN       NaN  True       False  False  False   \n",
       "338   LINF_120016200           NaN       NaN  True       False  False  False   \n",
       "340   LINF_120016200           NaN       NaN  True       False  False  False   \n",
       "342   LINF_120016200           NaN       NaN  True       False  False  False   \n",
       "407   LINF_150007000           NaN       NaN  True       False  False  False   \n",
       "413   LINF_150009600           NaN       NaN  True       False  False  False   \n",
       "416   LINF_150009700           NaN       NaN  True       False  False  False   \n",
       "452   LINF_160008700           NaN       NaN  True       False  False  False   \n",
       "463   LINF_160015800           NaN       NaN  True       False  False  False   \n",
       "466   LINF_160015820           NaN       NaN  True       False  False  False   \n",
       "474   LINF_160020900           NaN       NaN  True       False  False  False   \n",
       "477   LINF_160020900           NaN       NaN  True       False  False  False   \n",
       "553   LINF_190010600           NaN       NaN  True       False  False  False   \n",
       "595   LINF_200008900           NaN       NaN  True       False  False  False   \n",
       "598   LINF_200012000           NaN       NaN  True       False  False  False   \n",
       "601   LINF_200012100           NaN       NaN  True       False  False  False   \n",
       "638   LINF_210019900           NaN       NaN  True       False  False  False   \n",
       "652   LINF_210024000           NaN       NaN  True       False  False  False   \n",
       "710   LINF_230018300           NaN       NaN  True       False  False  False   \n",
       "757   LINF_240009200           NaN       NaN  True       False  False  False   \n",
       "816   LINF_260011300           NaN       NaN  True       False  False  False   \n",
       "857   LINF_260032200           NaN       NaN  True       False  False  False   \n",
       "868   LINF_270015300           NaN       NaN  True       False  False  False   \n",
       "882   LINF_270017800           NaN       NaN  True       False  False  False   \n",
       "1087  LINF_300030800           NaN       NaN  True       False  False  False   \n",
       "1090  LINF_300030800           NaN       NaN  True       False  False  False   \n",
       "1093  LINF_300032500           NaN       NaN  True       False  False  False   \n",
       "1111  LINF_300042700           NaN       NaN  True       False  False  False   \n",
       "1193  LINF_310026900           NaN       NaN  True       False  False  False   \n",
       "1281  LINF_320031600           NaN       NaN  True       False  False  False   \n",
       "1346  LINF_330039000           NaN       NaN  True       False  False  False   \n",
       "1391  LINF_340018600           NaN       NaN  True       False  False  False   \n",
       "1496  LINF_340029200           NaN       NaN  True       False  False  False   \n",
       "1660  LINF_350014000           NaN       NaN  True       False  False  False   \n",
       "1674  LINF_350026500           NaN       NaN  True       False  False  False   \n",
       "1719  LINF_350059400           NaN       NaN  True       False  False  False   \n",
       "\n",
       "       5utr pseudogen                                              notes  \\\n",
       "47    False       NaN            protein_of_unknown_function_-_conserved   \n",
       "107   False       NaN            protein_of_unknown_function_-_conserved   \n",
       "113   False       NaN            protein_of_unknown_function_-_conserved   \n",
       "292   False       NaN     Protein_of_unknown_function_(DUF962),_putative   \n",
       "295   False       NaN            protein_of_unknown_function_-_conserved   \n",
       "298   False       NaN            protein_of_unknown_function_-_conserved   \n",
       "323   False       NaN            protein_of_unknown_function_-_conserved   \n",
       "338   False       NaN            protein_of_unknown_function_-_conserved   \n",
       "340   False       NaN            protein_of_unknown_function_-_conserved   \n",
       "342   False       NaN            protein_of_unknown_function_-_conserved   \n",
       "407   False       NaN            protein_of_unknown_function_-_conserved   \n",
       "413   False       NaN            protein_of_unknown_function_-_conserved   \n",
       "416   False       NaN            protein_of_unknown_function_-_conserved   \n",
       "452   False       NaN            protein_of_unknown_function_-_conserved   \n",
       "463   False       NaN              protein_of_unknown_function_(DUF3184)   \n",
       "466   False       NaN              protein_of_unknown_function_(DUF3184)   \n",
       "474   False       NaN            protein_of_unknown_function_-_conserved   \n",
       "477   False       NaN            protein_of_unknown_function_-_conserved   \n",
       "553   False       NaN            protein_of_unknown_function_-_conserved   \n",
       "595   False       NaN   Protein_of_unknown_function_(DUF2946)_-_putative   \n",
       "598   False       NaN            protein_of_unknown_function_-_conserved   \n",
       "601   False       NaN    Protein_of_unknown_function_(DUF775)_-_putative   \n",
       "638   False       NaN  Protein_of_unknown_function_-_conserved_(L1p/L...   \n",
       "652   False       NaN  Protein_of_unknown_function_N-terminal_domain_...   \n",
       "710   False       NaN            protein_of_unknown_function_-_conserved   \n",
       "757   False       NaN   Protein_of_unknown_function_(DUF3184)_-_putative   \n",
       "816   False       NaN            protein_of_unknown_function_-_conserved   \n",
       "857   False       NaN            protein_of_unknown_function_-_conserved   \n",
       "868   False       NaN    Protein_of_unknown_function_(DUF778)_-_putative   \n",
       "882   False       NaN            protein_of_unknown_function_-_conserved   \n",
       "1087  False       NaN            protein_of_unknown_function_-_conserved   \n",
       "1090  False       NaN            protein_of_unknown_function_-_conserved   \n",
       "1093  False       NaN            protein_of_unknown_function_-_conserved   \n",
       "1111  False       NaN              Protein_of_unknown_function_(DUF3808)   \n",
       "1193  False       NaN            protein_of_unknown_function_-_conserved   \n",
       "1281  False       NaN            protein_of_unknown_function_-_conserved   \n",
       "1346  False       NaN            protein_of_unknown_function_-_conserved   \n",
       "1391  False       NaN            protein_of_unknown_function_-_conserved   \n",
       "1496  False       NaN            protein_of_unknown_function_-_conserved   \n",
       "1660  False       NaN            protein_of_unknown_function_-_conserved   \n",
       "1674  False       NaN            protein_of_unknown_function_-_conserved   \n",
       "1719  False       NaN            protein_of_unknown_function_-_conserved   \n",
       "\n",
       "                interval  \n",
       "47      [235179, 238900]  \n",
       "107       [62983, 65883]  \n",
       "113     [402727, 406088]  \n",
       "292     [372226, 374050]  \n",
       "295     [374051, 377775]  \n",
       "298     [374051, 377775]  \n",
       "323     [429222, 431627]  \n",
       "338     [528652, 535332]  \n",
       "340     [528652, 535332]  \n",
       "342     [528652, 535332]  \n",
       "407       [77396, 79634]  \n",
       "413     [151001, 152466]  \n",
       "416     [152817, 154532]  \n",
       "452     [119725, 123450]  \n",
       "463     [371773, 376703]  \n",
       "466     [377060, 383329]  \n",
       "474     [603494, 611700]  \n",
       "477     [603494, 611700]  \n",
       "553     [224264, 231735]  \n",
       "595     [135925, 140156]  \n",
       "598     [245715, 247334]  \n",
       "601     [247335, 249516]  \n",
       "638     [488393, 489994]  \n",
       "652     [621660, 628792]  \n",
       "710     [491115, 493877]  \n",
       "757     [151576, 158682]  \n",
       "816     [168807, 171144]  \n",
       "857   [1021429, 1025061]  \n",
       "868     [396554, 398111]  \n",
       "882     [536880, 541850]  \n",
       "1087    [948227, 959563]  \n",
       "1090    [948227, 959563]  \n",
       "1093  [1007205, 1011606]  \n",
       "1111  [1333478, 1340150]  \n",
       "1193    [973364, 979320]  \n",
       "1281    [965256, 970325]  \n",
       "1346  [1335137, 1342813]  \n",
       "1391    [557626, 562306]  \n",
       "1496  [1001422, 1012594]  \n",
       "1660    [334360, 336208]  \n",
       "1674    [796669, 802441]  \n",
       "1719  [1994576, 1997700]  "
      ],
      "text/html": [
       "<div>\n",
       "<style scoped>\n",
       "    .dataframe tbody tr th:only-of-type {\n",
       "        vertical-align: middle;\n",
       "    }\n",
       "\n",
       "    .dataframe tbody tr th {\n",
       "        vertical-align: top;\n",
       "    }\n",
       "\n",
       "    .dataframe thead th {\n",
       "        text-align: right;\n",
       "    }\n",
       "</style>\n",
       "<table border=\"1\" class=\"dataframe\">\n",
       "  <thead>\n",
       "    <tr style=\"text-align: right;\">\n",
       "      <th></th>\n",
       "      <th>neg_name</th>\n",
       "      <th>chrom</th>\n",
       "      <th>start</th>\n",
       "      <th>end</th>\n",
       "      <th>strand</th>\n",
       "      <th>gene_id</th>\n",
       "      <th>transcript_id</th>\n",
       "      <th>parent_id</th>\n",
       "      <th>gene</th>\n",
       "      <th>transcript</th>\n",
       "      <th>CDS</th>\n",
       "      <th>3utr</th>\n",
       "      <th>5utr</th>\n",
       "      <th>pseudogen</th>\n",
       "      <th>notes</th>\n",
       "      <th>interval</th>\n",
       "    </tr>\n",
       "  </thead>\n",
       "  <tbody>\n",
       "    <tr>\n",
       "      <th>47</th>\n",
       "      <td>rejected_noCDS_c03.190</td>\n",
       "      <td>LinJ.03</td>\n",
       "      <td>235179</td>\n",
       "      <td>238900</td>\n",
       "      <td>+</td>\n",
       "      <td>LINF_030011300</td>\n",
       "      <td>NaN</td>\n",
       "      <td>NaN</td>\n",
       "      <td>True</td>\n",
       "      <td>False</td>\n",
       "      <td>False</td>\n",
       "      <td>False</td>\n",
       "      <td>False</td>\n",
       "      <td>NaN</td>\n",
       "      <td>protein_of_unknown_function_-_conserved</td>\n",
       "      <td>[235179, 238900]</td>\n",
       "    </tr>\n",
       "    <tr>\n",
       "      <th>107</th>\n",
       "      <td>rejected_noCDS_c06.380</td>\n",
       "      <td>LinJ.06</td>\n",
       "      <td>62983</td>\n",
       "      <td>65883</td>\n",
       "      <td>-</td>\n",
       "      <td>LINF_060007000</td>\n",
       "      <td>NaN</td>\n",
       "      <td>NaN</td>\n",
       "      <td>True</td>\n",
       "      <td>False</td>\n",
       "      <td>False</td>\n",
       "      <td>False</td>\n",
       "      <td>False</td>\n",
       "      <td>NaN</td>\n",
       "      <td>protein_of_unknown_function_-_conserved</td>\n",
       "      <td>[62983, 65883]</td>\n",
       "    </tr>\n",
       "    <tr>\n",
       "      <th>113</th>\n",
       "      <td>rejected_noCDS_c06.410</td>\n",
       "      <td>LinJ.06</td>\n",
       "      <td>402727</td>\n",
       "      <td>406088</td>\n",
       "      <td>+</td>\n",
       "      <td>LINF_060014900</td>\n",
       "      <td>NaN</td>\n",
       "      <td>NaN</td>\n",
       "      <td>True</td>\n",
       "      <td>False</td>\n",
       "      <td>False</td>\n",
       "      <td>False</td>\n",
       "      <td>False</td>\n",
       "      <td>NaN</td>\n",
       "      <td>protein_of_unknown_function_-_conserved</td>\n",
       "      <td>[402727, 406088]</td>\n",
       "    </tr>\n",
       "    <tr>\n",
       "      <th>292</th>\n",
       "      <td>rejected_noCDS_c12.1180S</td>\n",
       "      <td>LinJ.12</td>\n",
       "      <td>372226</td>\n",
       "      <td>374050</td>\n",
       "      <td>+</td>\n",
       "      <td>LINF_120012350</td>\n",
       "      <td>NaN</td>\n",
       "      <td>NaN</td>\n",
       "      <td>True</td>\n",
       "      <td>False</td>\n",
       "      <td>False</td>\n",
       "      <td>False</td>\n",
       "      <td>False</td>\n",
       "      <td>NaN</td>\n",
       "      <td>Protein_of_unknown_function_(DUF962),_putative</td>\n",
       "      <td>[372226, 374050]</td>\n",
       "    </tr>\n",
       "    <tr>\n",
       "      <th>295</th>\n",
       "      <td>rejected_noCDS_c12.1180S</td>\n",
       "      <td>LinJ.12</td>\n",
       "      <td>374051</td>\n",
       "      <td>377775</td>\n",
       "      <td>+</td>\n",
       "      <td>LINF_120012400</td>\n",
       "      <td>NaN</td>\n",
       "      <td>NaN</td>\n",
       "      <td>True</td>\n",
       "      <td>False</td>\n",
       "      <td>False</td>\n",
       "      <td>False</td>\n",
       "      <td>False</td>\n",
       "      <td>NaN</td>\n",
       "      <td>protein_of_unknown_function_-_conserved</td>\n",
       "      <td>[374051, 377775]</td>\n",
       "    </tr>\n",
       "    <tr>\n",
       "      <th>298</th>\n",
       "      <td>rejected_noCDS_c12.1190</td>\n",
       "      <td>LinJ.12</td>\n",
       "      <td>374051</td>\n",
       "      <td>377775</td>\n",
       "      <td>+</td>\n",
       "      <td>LINF_120012400</td>\n",
       "      <td>NaN</td>\n",
       "      <td>NaN</td>\n",
       "      <td>True</td>\n",
       "      <td>False</td>\n",
       "      <td>False</td>\n",
       "      <td>False</td>\n",
       "      <td>False</td>\n",
       "      <td>NaN</td>\n",
       "      <td>protein_of_unknown_function_-_conserved</td>\n",
       "      <td>[374051, 377775]</td>\n",
       "    </tr>\n",
       "    <tr>\n",
       "      <th>323</th>\n",
       "      <td>rejected_noCDS_c12.1240S</td>\n",
       "      <td>LinJ.12</td>\n",
       "      <td>429222</td>\n",
       "      <td>431627</td>\n",
       "      <td>+</td>\n",
       "      <td>LINF_120013800</td>\n",
       "      <td>NaN</td>\n",
       "      <td>NaN</td>\n",
       "      <td>True</td>\n",
       "      <td>False</td>\n",
       "      <td>False</td>\n",
       "      <td>False</td>\n",
       "      <td>False</td>\n",
       "      <td>NaN</td>\n",
       "      <td>protein_of_unknown_function_-_conserved</td>\n",
       "      <td>[429222, 431627]</td>\n",
       "    </tr>\n",
       "    <tr>\n",
       "      <th>338</th>\n",
       "      <td>rejected_noCDS_c12.1290T</td>\n",
       "      <td>LinJ.12</td>\n",
       "      <td>528652</td>\n",
       "      <td>535332</td>\n",
       "      <td>+</td>\n",
       "      <td>LINF_120016200</td>\n",
       "      <td>NaN</td>\n",
       "      <td>NaN</td>\n",
       "      <td>True</td>\n",
       "      <td>False</td>\n",
       "      <td>False</td>\n",
       "      <td>False</td>\n",
       "      <td>False</td>\n",
       "      <td>NaN</td>\n",
       "      <td>protein_of_unknown_function_-_conserved</td>\n",
       "      <td>[528652, 535332]</td>\n",
       "    </tr>\n",
       "    <tr>\n",
       "      <th>340</th>\n",
       "      <td>rejected_noCDS_c12.1300U</td>\n",
       "      <td>LinJ.12</td>\n",
       "      <td>528652</td>\n",
       "      <td>535332</td>\n",
       "      <td>+</td>\n",
       "      <td>LINF_120016200</td>\n",
       "      <td>NaN</td>\n",
       "      <td>NaN</td>\n",
       "      <td>True</td>\n",
       "      <td>False</td>\n",
       "      <td>False</td>\n",
       "      <td>False</td>\n",
       "      <td>False</td>\n",
       "      <td>NaN</td>\n",
       "      <td>protein_of_unknown_function_-_conserved</td>\n",
       "      <td>[528652, 535332]</td>\n",
       "    </tr>\n",
       "    <tr>\n",
       "      <th>342</th>\n",
       "      <td>rejected_noCDS_c12.1310</td>\n",
       "      <td>LinJ.12</td>\n",
       "      <td>528652</td>\n",
       "      <td>535332</td>\n",
       "      <td>+</td>\n",
       "      <td>LINF_120016200</td>\n",
       "      <td>NaN</td>\n",
       "      <td>NaN</td>\n",
       "      <td>True</td>\n",
       "      <td>False</td>\n",
       "      <td>False</td>\n",
       "      <td>False</td>\n",
       "      <td>False</td>\n",
       "      <td>NaN</td>\n",
       "      <td>protein_of_unknown_function_-_conserved</td>\n",
       "      <td>[528652, 535332]</td>\n",
       "    </tr>\n",
       "    <tr>\n",
       "      <th>407</th>\n",
       "      <td>rejected_noCDS_c15.1560</td>\n",
       "      <td>LinJ.15</td>\n",
       "      <td>77396</td>\n",
       "      <td>79634</td>\n",
       "      <td>-</td>\n",
       "      <td>LINF_150007000</td>\n",
       "      <td>NaN</td>\n",
       "      <td>NaN</td>\n",
       "      <td>True</td>\n",
       "      <td>False</td>\n",
       "      <td>False</td>\n",
       "      <td>False</td>\n",
       "      <td>False</td>\n",
       "      <td>NaN</td>\n",
       "      <td>protein_of_unknown_function_-_conserved</td>\n",
       "      <td>[77396, 79634]</td>\n",
       "    </tr>\n",
       "    <tr>\n",
       "      <th>413</th>\n",
       "      <td>rejected_noCDS_c15.1580</td>\n",
       "      <td>LinJ.15</td>\n",
       "      <td>151001</td>\n",
       "      <td>152466</td>\n",
       "      <td>+</td>\n",
       "      <td>LINF_150009600</td>\n",
       "      <td>NaN</td>\n",
       "      <td>NaN</td>\n",
       "      <td>True</td>\n",
       "      <td>False</td>\n",
       "      <td>False</td>\n",
       "      <td>False</td>\n",
       "      <td>False</td>\n",
       "      <td>NaN</td>\n",
       "      <td>protein_of_unknown_function_-_conserved</td>\n",
       "      <td>[151001, 152466]</td>\n",
       "    </tr>\n",
       "    <tr>\n",
       "      <th>416</th>\n",
       "      <td>rejected_noCDS_c15.1580</td>\n",
       "      <td>LinJ.15</td>\n",
       "      <td>152817</td>\n",
       "      <td>154532</td>\n",
       "      <td>+</td>\n",
       "      <td>LINF_150009700</td>\n",
       "      <td>NaN</td>\n",
       "      <td>NaN</td>\n",
       "      <td>True</td>\n",
       "      <td>False</td>\n",
       "      <td>False</td>\n",
       "      <td>False</td>\n",
       "      <td>False</td>\n",
       "      <td>NaN</td>\n",
       "      <td>protein_of_unknown_function_-_conserved</td>\n",
       "      <td>[152817, 154532]</td>\n",
       "    </tr>\n",
       "    <tr>\n",
       "      <th>452</th>\n",
       "      <td>rejected_noCDS_c16.1710</td>\n",
       "      <td>LinJ.16</td>\n",
       "      <td>119725</td>\n",
       "      <td>123450</td>\n",
       "      <td>-</td>\n",
       "      <td>LINF_160008700</td>\n",
       "      <td>NaN</td>\n",
       "      <td>NaN</td>\n",
       "      <td>True</td>\n",
       "      <td>False</td>\n",
       "      <td>False</td>\n",
       "      <td>False</td>\n",
       "      <td>False</td>\n",
       "      <td>NaN</td>\n",
       "      <td>protein_of_unknown_function_-_conserved</td>\n",
       "      <td>[119725, 123450]</td>\n",
       "    </tr>\n",
       "    <tr>\n",
       "      <th>463</th>\n",
       "      <td>rejected_noCDS_c16.1760Y</td>\n",
       "      <td>LinJ.16</td>\n",
       "      <td>371773</td>\n",
       "      <td>376703</td>\n",
       "      <td>+</td>\n",
       "      <td>LINF_160015800</td>\n",
       "      <td>NaN</td>\n",
       "      <td>NaN</td>\n",
       "      <td>True</td>\n",
       "      <td>False</td>\n",
       "      <td>False</td>\n",
       "      <td>False</td>\n",
       "      <td>False</td>\n",
       "      <td>NaN</td>\n",
       "      <td>protein_of_unknown_function_(DUF3184)</td>\n",
       "      <td>[371773, 376703]</td>\n",
       "    </tr>\n",
       "    <tr>\n",
       "      <th>466</th>\n",
       "      <td>rejected_noCDS_c16.1770Y</td>\n",
       "      <td>LinJ.16</td>\n",
       "      <td>377060</td>\n",
       "      <td>383329</td>\n",
       "      <td>+</td>\n",
       "      <td>LINF_160015820</td>\n",
       "      <td>NaN</td>\n",
       "      <td>NaN</td>\n",
       "      <td>True</td>\n",
       "      <td>False</td>\n",
       "      <td>False</td>\n",
       "      <td>False</td>\n",
       "      <td>False</td>\n",
       "      <td>NaN</td>\n",
       "      <td>protein_of_unknown_function_(DUF3184)</td>\n",
       "      <td>[377060, 383329]</td>\n",
       "    </tr>\n",
       "    <tr>\n",
       "      <th>474</th>\n",
       "      <td>rejected_noCDS_c16.1800</td>\n",
       "      <td>LinJ.16</td>\n",
       "      <td>603494</td>\n",
       "      <td>611700</td>\n",
       "      <td>-</td>\n",
       "      <td>LINF_160020900</td>\n",
       "      <td>NaN</td>\n",
       "      <td>NaN</td>\n",
       "      <td>True</td>\n",
       "      <td>False</td>\n",
       "      <td>False</td>\n",
       "      <td>False</td>\n",
       "      <td>False</td>\n",
       "      <td>NaN</td>\n",
       "      <td>protein_of_unknown_function_-_conserved</td>\n",
       "      <td>[603494, 611700]</td>\n",
       "    </tr>\n",
       "    <tr>\n",
       "      <th>477</th>\n",
       "      <td>rejected_noCDS_c16.1810</td>\n",
       "      <td>LinJ.16</td>\n",
       "      <td>603494</td>\n",
       "      <td>611700</td>\n",
       "      <td>-</td>\n",
       "      <td>LINF_160020900</td>\n",
       "      <td>NaN</td>\n",
       "      <td>NaN</td>\n",
       "      <td>True</td>\n",
       "      <td>False</td>\n",
       "      <td>False</td>\n",
       "      <td>False</td>\n",
       "      <td>False</td>\n",
       "      <td>NaN</td>\n",
       "      <td>protein_of_unknown_function_-_conserved</td>\n",
       "      <td>[603494, 611700]</td>\n",
       "    </tr>\n",
       "    <tr>\n",
       "      <th>553</th>\n",
       "      <td>rejected_noCDS_c19.2090AC</td>\n",
       "      <td>LinJ.19</td>\n",
       "      <td>224264</td>\n",
       "      <td>231735</td>\n",
       "      <td>+</td>\n",
       "      <td>LINF_190010600</td>\n",
       "      <td>NaN</td>\n",
       "      <td>NaN</td>\n",
       "      <td>True</td>\n",
       "      <td>False</td>\n",
       "      <td>False</td>\n",
       "      <td>False</td>\n",
       "      <td>False</td>\n",
       "      <td>NaN</td>\n",
       "      <td>protein_of_unknown_function_-_conserved</td>\n",
       "      <td>[224264, 231735]</td>\n",
       "    </tr>\n",
       "    <tr>\n",
       "      <th>595</th>\n",
       "      <td>rejected_noCDS_c20.2250</td>\n",
       "      <td>LinJ.20</td>\n",
       "      <td>135925</td>\n",
       "      <td>140156</td>\n",
       "      <td>+</td>\n",
       "      <td>LINF_200008900</td>\n",
       "      <td>NaN</td>\n",
       "      <td>NaN</td>\n",
       "      <td>True</td>\n",
       "      <td>False</td>\n",
       "      <td>False</td>\n",
       "      <td>False</td>\n",
       "      <td>False</td>\n",
       "      <td>NaN</td>\n",
       "      <td>Protein_of_unknown_function_(DUF2946)_-_putative</td>\n",
       "      <td>[135925, 140156]</td>\n",
       "    </tr>\n",
       "    <tr>\n",
       "      <th>598</th>\n",
       "      <td>rejected_noCDS_c20.2260</td>\n",
       "      <td>LinJ.20</td>\n",
       "      <td>245715</td>\n",
       "      <td>247334</td>\n",
       "      <td>+</td>\n",
       "      <td>LINF_200012000</td>\n",
       "      <td>NaN</td>\n",
       "      <td>NaN</td>\n",
       "      <td>True</td>\n",
       "      <td>False</td>\n",
       "      <td>False</td>\n",
       "      <td>False</td>\n",
       "      <td>False</td>\n",
       "      <td>NaN</td>\n",
       "      <td>protein_of_unknown_function_-_conserved</td>\n",
       "      <td>[245715, 247334]</td>\n",
       "    </tr>\n",
       "    <tr>\n",
       "      <th>601</th>\n",
       "      <td>rejected_noCDS_c20.2260</td>\n",
       "      <td>LinJ.20</td>\n",
       "      <td>247335</td>\n",
       "      <td>249516</td>\n",
       "      <td>+</td>\n",
       "      <td>LINF_200012100</td>\n",
       "      <td>NaN</td>\n",
       "      <td>NaN</td>\n",
       "      <td>True</td>\n",
       "      <td>False</td>\n",
       "      <td>False</td>\n",
       "      <td>False</td>\n",
       "      <td>False</td>\n",
       "      <td>NaN</td>\n",
       "      <td>Protein_of_unknown_function_(DUF775)_-_putative</td>\n",
       "      <td>[247335, 249516]</td>\n",
       "    </tr>\n",
       "    <tr>\n",
       "      <th>638</th>\n",
       "      <td>rejected_noCDS_c21.2390</td>\n",
       "      <td>LinJ.21</td>\n",
       "      <td>488393</td>\n",
       "      <td>489994</td>\n",
       "      <td>-</td>\n",
       "      <td>LINF_210019900</td>\n",
       "      <td>NaN</td>\n",
       "      <td>NaN</td>\n",
       "      <td>True</td>\n",
       "      <td>False</td>\n",
       "      <td>False</td>\n",
       "      <td>False</td>\n",
       "      <td>False</td>\n",
       "      <td>NaN</td>\n",
       "      <td>Protein_of_unknown_function_-_conserved_(L1p/L...</td>\n",
       "      <td>[488393, 489994]</td>\n",
       "    </tr>\n",
       "    <tr>\n",
       "      <th>652</th>\n",
       "      <td>rejected_noCDS_c21.2440</td>\n",
       "      <td>LinJ.21</td>\n",
       "      <td>621660</td>\n",
       "      <td>628792</td>\n",
       "      <td>-</td>\n",
       "      <td>LINF_210024000</td>\n",
       "      <td>NaN</td>\n",
       "      <td>NaN</td>\n",
       "      <td>True</td>\n",
       "      <td>False</td>\n",
       "      <td>False</td>\n",
       "      <td>False</td>\n",
       "      <td>False</td>\n",
       "      <td>NaN</td>\n",
       "      <td>Protein_of_unknown_function_N-terminal_domain_...</td>\n",
       "      <td>[621660, 628792]</td>\n",
       "    </tr>\n",
       "    <tr>\n",
       "      <th>710</th>\n",
       "      <td>rejected_noCDS_c23.2660</td>\n",
       "      <td>LinJ.23</td>\n",
       "      <td>491115</td>\n",
       "      <td>493877</td>\n",
       "      <td>-</td>\n",
       "      <td>LINF_230018300</td>\n",
       "      <td>NaN</td>\n",
       "      <td>NaN</td>\n",
       "      <td>True</td>\n",
       "      <td>False</td>\n",
       "      <td>False</td>\n",
       "      <td>False</td>\n",
       "      <td>False</td>\n",
       "      <td>NaN</td>\n",
       "      <td>protein_of_unknown_function_-_conserved</td>\n",
       "      <td>[491115, 493877]</td>\n",
       "    </tr>\n",
       "    <tr>\n",
       "      <th>757</th>\n",
       "      <td>rejected_noCDS_c24.2800</td>\n",
       "      <td>LinJ.24</td>\n",
       "      <td>151576</td>\n",
       "      <td>158682</td>\n",
       "      <td>+</td>\n",
       "      <td>LINF_240009200</td>\n",
       "      <td>NaN</td>\n",
       "      <td>NaN</td>\n",
       "      <td>True</td>\n",
       "      <td>False</td>\n",
       "      <td>False</td>\n",
       "      <td>False</td>\n",
       "      <td>False</td>\n",
       "      <td>NaN</td>\n",
       "      <td>Protein_of_unknown_function_(DUF3184)_-_putative</td>\n",
       "      <td>[151576, 158682]</td>\n",
       "    </tr>\n",
       "    <tr>\n",
       "      <th>816</th>\n",
       "      <td>rejected_noCDS_c26.3020</td>\n",
       "      <td>LinJ.26</td>\n",
       "      <td>168807</td>\n",
       "      <td>171144</td>\n",
       "      <td>-</td>\n",
       "      <td>LINF_260011300</td>\n",
       "      <td>NaN</td>\n",
       "      <td>NaN</td>\n",
       "      <td>True</td>\n",
       "      <td>False</td>\n",
       "      <td>False</td>\n",
       "      <td>False</td>\n",
       "      <td>False</td>\n",
       "      <td>NaN</td>\n",
       "      <td>protein_of_unknown_function_-_conserved</td>\n",
       "      <td>[168807, 171144]</td>\n",
       "    </tr>\n",
       "    <tr>\n",
       "      <th>857</th>\n",
       "      <td>rejected_noCDS_c26.3180</td>\n",
       "      <td>LinJ.26</td>\n",
       "      <td>1021429</td>\n",
       "      <td>1025061</td>\n",
       "      <td>+</td>\n",
       "      <td>LINF_260032200</td>\n",
       "      <td>NaN</td>\n",
       "      <td>NaN</td>\n",
       "      <td>True</td>\n",
       "      <td>False</td>\n",
       "      <td>False</td>\n",
       "      <td>False</td>\n",
       "      <td>False</td>\n",
       "      <td>NaN</td>\n",
       "      <td>protein_of_unknown_function_-_conserved</td>\n",
       "      <td>[1021429, 1025061]</td>\n",
       "    </tr>\n",
       "    <tr>\n",
       "      <th>868</th>\n",
       "      <td>rejected_noCDS_c27.3220AR</td>\n",
       "      <td>LinJ.27</td>\n",
       "      <td>396554</td>\n",
       "      <td>398111</td>\n",
       "      <td>+</td>\n",
       "      <td>LINF_270015300</td>\n",
       "      <td>NaN</td>\n",
       "      <td>NaN</td>\n",
       "      <td>True</td>\n",
       "      <td>False</td>\n",
       "      <td>False</td>\n",
       "      <td>False</td>\n",
       "      <td>False</td>\n",
       "      <td>NaN</td>\n",
       "      <td>Protein_of_unknown_function_(DUF778)_-_putative</td>\n",
       "      <td>[396554, 398111]</td>\n",
       "    </tr>\n",
       "    <tr>\n",
       "      <th>882</th>\n",
       "      <td>rejected_noCDS_c27.3270</td>\n",
       "      <td>LinJ.27</td>\n",
       "      <td>536880</td>\n",
       "      <td>541850</td>\n",
       "      <td>-</td>\n",
       "      <td>LINF_270017800</td>\n",
       "      <td>NaN</td>\n",
       "      <td>NaN</td>\n",
       "      <td>True</td>\n",
       "      <td>False</td>\n",
       "      <td>False</td>\n",
       "      <td>False</td>\n",
       "      <td>False</td>\n",
       "      <td>NaN</td>\n",
       "      <td>protein_of_unknown_function_-_conserved</td>\n",
       "      <td>[536880, 541850]</td>\n",
       "    </tr>\n",
       "    <tr>\n",
       "      <th>1087</th>\n",
       "      <td>rejected_noCDS_c30.4010</td>\n",
       "      <td>LinJ.30</td>\n",
       "      <td>948227</td>\n",
       "      <td>959563</td>\n",
       "      <td>-</td>\n",
       "      <td>LINF_300030800</td>\n",
       "      <td>NaN</td>\n",
       "      <td>NaN</td>\n",
       "      <td>True</td>\n",
       "      <td>False</td>\n",
       "      <td>False</td>\n",
       "      <td>False</td>\n",
       "      <td>False</td>\n",
       "      <td>NaN</td>\n",
       "      <td>protein_of_unknown_function_-_conserved</td>\n",
       "      <td>[948227, 959563]</td>\n",
       "    </tr>\n",
       "    <tr>\n",
       "      <th>1090</th>\n",
       "      <td>rejected_noCDS_c30.4020</td>\n",
       "      <td>LinJ.30</td>\n",
       "      <td>948227</td>\n",
       "      <td>959563</td>\n",
       "      <td>-</td>\n",
       "      <td>LINF_300030800</td>\n",
       "      <td>NaN</td>\n",
       "      <td>NaN</td>\n",
       "      <td>True</td>\n",
       "      <td>False</td>\n",
       "      <td>False</td>\n",
       "      <td>False</td>\n",
       "      <td>False</td>\n",
       "      <td>NaN</td>\n",
       "      <td>protein_of_unknown_function_-_conserved</td>\n",
       "      <td>[948227, 959563]</td>\n",
       "    </tr>\n",
       "    <tr>\n",
       "      <th>1093</th>\n",
       "      <td>rejected_noCDS_c30.4030</td>\n",
       "      <td>LinJ.30</td>\n",
       "      <td>1007205</td>\n",
       "      <td>1011606</td>\n",
       "      <td>-</td>\n",
       "      <td>LINF_300032500</td>\n",
       "      <td>NaN</td>\n",
       "      <td>NaN</td>\n",
       "      <td>True</td>\n",
       "      <td>False</td>\n",
       "      <td>False</td>\n",
       "      <td>False</td>\n",
       "      <td>False</td>\n",
       "      <td>NaN</td>\n",
       "      <td>protein_of_unknown_function_-_conserved</td>\n",
       "      <td>[1007205, 1011606]</td>\n",
       "    </tr>\n",
       "    <tr>\n",
       "      <th>1111</th>\n",
       "      <td>rejected_noCDS_c30.4090</td>\n",
       "      <td>LinJ.30</td>\n",
       "      <td>1333478</td>\n",
       "      <td>1340150</td>\n",
       "      <td>+</td>\n",
       "      <td>LINF_300042700</td>\n",
       "      <td>NaN</td>\n",
       "      <td>NaN</td>\n",
       "      <td>True</td>\n",
       "      <td>False</td>\n",
       "      <td>False</td>\n",
       "      <td>False</td>\n",
       "      <td>False</td>\n",
       "      <td>NaN</td>\n",
       "      <td>Protein_of_unknown_function_(DUF3808)</td>\n",
       "      <td>[1333478, 1340150]</td>\n",
       "    </tr>\n",
       "    <tr>\n",
       "      <th>1193</th>\n",
       "      <td>rejected_noCDS_c31.4420BK</td>\n",
       "      <td>LinJ.31</td>\n",
       "      <td>973364</td>\n",
       "      <td>979320</td>\n",
       "      <td>-</td>\n",
       "      <td>LINF_310026900</td>\n",
       "      <td>NaN</td>\n",
       "      <td>NaN</td>\n",
       "      <td>True</td>\n",
       "      <td>False</td>\n",
       "      <td>False</td>\n",
       "      <td>False</td>\n",
       "      <td>False</td>\n",
       "      <td>NaN</td>\n",
       "      <td>protein_of_unknown_function_-_conserved</td>\n",
       "      <td>[973364, 979320]</td>\n",
       "    </tr>\n",
       "    <tr>\n",
       "      <th>1281</th>\n",
       "      <td>rejected_noCDS_c32.4730</td>\n",
       "      <td>LinJ.32</td>\n",
       "      <td>965256</td>\n",
       "      <td>970325</td>\n",
       "      <td>-</td>\n",
       "      <td>LINF_320031600</td>\n",
       "      <td>NaN</td>\n",
       "      <td>NaN</td>\n",
       "      <td>True</td>\n",
       "      <td>False</td>\n",
       "      <td>False</td>\n",
       "      <td>False</td>\n",
       "      <td>False</td>\n",
       "      <td>NaN</td>\n",
       "      <td>protein_of_unknown_function_-_conserved</td>\n",
       "      <td>[965256, 970325]</td>\n",
       "    </tr>\n",
       "    <tr>\n",
       "      <th>1346</th>\n",
       "      <td>rejected_noCDS_c33.4980</td>\n",
       "      <td>LinJ.33</td>\n",
       "      <td>1335137</td>\n",
       "      <td>1342813</td>\n",
       "      <td>+</td>\n",
       "      <td>LINF_330039000</td>\n",
       "      <td>NaN</td>\n",
       "      <td>NaN</td>\n",
       "      <td>True</td>\n",
       "      <td>False</td>\n",
       "      <td>False</td>\n",
       "      <td>False</td>\n",
       "      <td>False</td>\n",
       "      <td>NaN</td>\n",
       "      <td>protein_of_unknown_function_-_conserved</td>\n",
       "      <td>[1335137, 1342813]</td>\n",
       "    </tr>\n",
       "    <tr>\n",
       "      <th>1391</th>\n",
       "      <td>rejected_noCDS_c34.5150BT</td>\n",
       "      <td>LinJ.34</td>\n",
       "      <td>557626</td>\n",
       "      <td>562306</td>\n",
       "      <td>-</td>\n",
       "      <td>LINF_340018600</td>\n",
       "      <td>NaN</td>\n",
       "      <td>NaN</td>\n",
       "      <td>True</td>\n",
       "      <td>False</td>\n",
       "      <td>False</td>\n",
       "      <td>False</td>\n",
       "      <td>False</td>\n",
       "      <td>NaN</td>\n",
       "      <td>protein_of_unknown_function_-_conserved</td>\n",
       "      <td>[557626, 562306]</td>\n",
       "    </tr>\n",
       "    <tr>\n",
       "      <th>1496</th>\n",
       "      <td>rejected_noCDS_c34.5510</td>\n",
       "      <td>LinJ.34</td>\n",
       "      <td>1001422</td>\n",
       "      <td>1012594</td>\n",
       "      <td>-</td>\n",
       "      <td>LINF_340029200</td>\n",
       "      <td>NaN</td>\n",
       "      <td>NaN</td>\n",
       "      <td>True</td>\n",
       "      <td>False</td>\n",
       "      <td>False</td>\n",
       "      <td>False</td>\n",
       "      <td>False</td>\n",
       "      <td>NaN</td>\n",
       "      <td>protein_of_unknown_function_-_conserved</td>\n",
       "      <td>[1001422, 1012594]</td>\n",
       "    </tr>\n",
       "    <tr>\n",
       "      <th>1660</th>\n",
       "      <td>rejected_noCDS_c35.6100</td>\n",
       "      <td>LinJ.35</td>\n",
       "      <td>334360</td>\n",
       "      <td>336208</td>\n",
       "      <td>+</td>\n",
       "      <td>LINF_350014000</td>\n",
       "      <td>NaN</td>\n",
       "      <td>NaN</td>\n",
       "      <td>True</td>\n",
       "      <td>False</td>\n",
       "      <td>False</td>\n",
       "      <td>False</td>\n",
       "      <td>False</td>\n",
       "      <td>NaN</td>\n",
       "      <td>protein_of_unknown_function_-_conserved</td>\n",
       "      <td>[334360, 336208]</td>\n",
       "    </tr>\n",
       "    <tr>\n",
       "      <th>1674</th>\n",
       "      <td>rejected_noCDS_c35.6150</td>\n",
       "      <td>LinJ.35</td>\n",
       "      <td>796669</td>\n",
       "      <td>802441</td>\n",
       "      <td>+</td>\n",
       "      <td>LINF_350026500</td>\n",
       "      <td>NaN</td>\n",
       "      <td>NaN</td>\n",
       "      <td>True</td>\n",
       "      <td>False</td>\n",
       "      <td>False</td>\n",
       "      <td>False</td>\n",
       "      <td>False</td>\n",
       "      <td>NaN</td>\n",
       "      <td>protein_of_unknown_function_-_conserved</td>\n",
       "      <td>[796669, 802441]</td>\n",
       "    </tr>\n",
       "    <tr>\n",
       "      <th>1719</th>\n",
       "      <td>rejected_noCDS_c35.6330CM</td>\n",
       "      <td>LinJ.35</td>\n",
       "      <td>1994576</td>\n",
       "      <td>1997700</td>\n",
       "      <td>+</td>\n",
       "      <td>LINF_350059400</td>\n",
       "      <td>NaN</td>\n",
       "      <td>NaN</td>\n",
       "      <td>True</td>\n",
       "      <td>False</td>\n",
       "      <td>False</td>\n",
       "      <td>False</td>\n",
       "      <td>False</td>\n",
       "      <td>NaN</td>\n",
       "      <td>protein_of_unknown_function_-_conserved</td>\n",
       "      <td>[1994576, 1997700]</td>\n",
       "    </tr>\n",
       "  </tbody>\n",
       "</table>\n",
       "</div>"
      ]
     },
     "execution_count": 12,
     "metadata": {},
     "output_type": "execute_result"
    }
   ],
   "execution_count": 12
  },
  {
   "metadata": {
    "ExecuteTime": {
     "end_time": "2024-10-07T19:35:41.096631Z",
     "start_time": "2024-10-07T19:35:41.090660Z"
    }
   },
   "cell_type": "code",
   "source": [
    "filter_data[\n",
    "    (filter_data[\"gene\"] == True) & (filter_data[\"notes\"] == \"protein_of_unknown_function_(DUF3184)\")\n",
    "]"
   ],
   "outputs": [
    {
     "data": {
      "text/plain": [
       "                     neg_name    chrom   start     end strand         gene_id  \\\n",
       "463  rejected_noCDS_c16.1760Y  LinJ.16  371773  376703      +  LINF_160015800   \n",
       "466  rejected_noCDS_c16.1770Y  LinJ.16  377060  383329      +  LINF_160015820   \n",
       "\n",
       "    transcript_id parent_id  gene  transcript    CDS   3utr   5utr pseudogen  \\\n",
       "463           NaN       NaN  True       False  False  False  False       NaN   \n",
       "466           NaN       NaN  True       False  False  False  False       NaN   \n",
       "\n",
       "                                     notes          interval  \n",
       "463  protein_of_unknown_function_(DUF3184)  [371773, 376703]  \n",
       "466  protein_of_unknown_function_(DUF3184)  [377060, 383329]  "
      ],
      "text/html": [
       "<div>\n",
       "<style scoped>\n",
       "    .dataframe tbody tr th:only-of-type {\n",
       "        vertical-align: middle;\n",
       "    }\n",
       "\n",
       "    .dataframe tbody tr th {\n",
       "        vertical-align: top;\n",
       "    }\n",
       "\n",
       "    .dataframe thead th {\n",
       "        text-align: right;\n",
       "    }\n",
       "</style>\n",
       "<table border=\"1\" class=\"dataframe\">\n",
       "  <thead>\n",
       "    <tr style=\"text-align: right;\">\n",
       "      <th></th>\n",
       "      <th>neg_name</th>\n",
       "      <th>chrom</th>\n",
       "      <th>start</th>\n",
       "      <th>end</th>\n",
       "      <th>strand</th>\n",
       "      <th>gene_id</th>\n",
       "      <th>transcript_id</th>\n",
       "      <th>parent_id</th>\n",
       "      <th>gene</th>\n",
       "      <th>transcript</th>\n",
       "      <th>CDS</th>\n",
       "      <th>3utr</th>\n",
       "      <th>5utr</th>\n",
       "      <th>pseudogen</th>\n",
       "      <th>notes</th>\n",
       "      <th>interval</th>\n",
       "    </tr>\n",
       "  </thead>\n",
       "  <tbody>\n",
       "    <tr>\n",
       "      <th>463</th>\n",
       "      <td>rejected_noCDS_c16.1760Y</td>\n",
       "      <td>LinJ.16</td>\n",
       "      <td>371773</td>\n",
       "      <td>376703</td>\n",
       "      <td>+</td>\n",
       "      <td>LINF_160015800</td>\n",
       "      <td>NaN</td>\n",
       "      <td>NaN</td>\n",
       "      <td>True</td>\n",
       "      <td>False</td>\n",
       "      <td>False</td>\n",
       "      <td>False</td>\n",
       "      <td>False</td>\n",
       "      <td>NaN</td>\n",
       "      <td>protein_of_unknown_function_(DUF3184)</td>\n",
       "      <td>[371773, 376703]</td>\n",
       "    </tr>\n",
       "    <tr>\n",
       "      <th>466</th>\n",
       "      <td>rejected_noCDS_c16.1770Y</td>\n",
       "      <td>LinJ.16</td>\n",
       "      <td>377060</td>\n",
       "      <td>383329</td>\n",
       "      <td>+</td>\n",
       "      <td>LINF_160015820</td>\n",
       "      <td>NaN</td>\n",
       "      <td>NaN</td>\n",
       "      <td>True</td>\n",
       "      <td>False</td>\n",
       "      <td>False</td>\n",
       "      <td>False</td>\n",
       "      <td>False</td>\n",
       "      <td>NaN</td>\n",
       "      <td>protein_of_unknown_function_(DUF3184)</td>\n",
       "      <td>[377060, 383329]</td>\n",
       "    </tr>\n",
       "  </tbody>\n",
       "</table>\n",
       "</div>"
      ]
     },
     "execution_count": 13,
     "metadata": {},
     "output_type": "execute_result"
    }
   ],
   "execution_count": 13
  },
  {
   "metadata": {
    "ExecuteTime": {
     "end_time": "2024-10-07T19:35:41.218972Z",
     "start_time": "2024-10-07T19:35:41.216225Z"
    }
   },
   "cell_type": "code",
   "source": [
    "# Now let's take the all the elements with the same \"neg_name\" as `filter_data`\n",
    "filter_data = neg_filtered[neg_filtered['neg_name'].isin(filter_data['neg_name'])]\n",
    "checking_data(filter_data)"
   ],
   "outputs": [
    {
     "name": "stdout",
     "output_type": "stream",
     "text": [
      "Shape of the data frame is: (136, 16)\n",
      "Number of unique values in column 'neg_name': 39 \n"
     ]
    }
   ],
   "execution_count": 14
  },
  {
   "metadata": {
    "ExecuteTime": {
     "end_time": "2024-10-07T19:35:41.496213Z",
     "start_time": "2024-10-07T19:35:41.493386Z"
    }
   },
   "cell_type": "code",
   "source": [
    "# Now let's add the lines in `filter_data` to `good_negatives`\n",
    "good_negatives = pd.concat([good_negatives, filter_data])\n",
    "checking_data(good_negatives)"
   ],
   "outputs": [
    {
     "name": "stdout",
     "output_type": "stream",
     "text": [
      "Shape of the data frame is: (485, 16)\n",
      "Number of unique values in column 'neg_name': 143 \n"
     ]
    }
   ],
   "execution_count": 15
  },
  {
   "metadata": {
    "ExecuteTime": {
     "end_time": "2024-10-07T19:35:41.707555Z",
     "start_time": "2024-10-07T19:35:41.704798Z"
    }
   },
   "cell_type": "code",
   "source": [
    "# Now let's remove the `filter_data` data from `neg_filtered`\n",
    "neg_filtered = neg_filtered[~neg_filtered['neg_name'].isin(filter_data['neg_name'])]\n",
    "checking_data(neg_filtered)\n"
   ],
   "outputs": [
    {
     "name": "stdout",
     "output_type": "stream",
     "text": [
      "Shape of the data frame is: (1366, 16)\n",
      "Number of unique values in column 'neg_name': 497 \n"
     ]
    }
   ],
   "execution_count": 16
  },
  {
   "metadata": {
    "ExecuteTime": {
     "end_time": "2024-10-07T19:35:42.024411Z",
     "start_time": "2024-10-07T19:35:41.835383Z"
    }
   },
   "cell_type": "code",
   "source": [
    "# Check the global functions:\n",
    "group_and_count(neg_filtered, \"neg_name\")"
   ],
   "outputs": [
    {
     "name": "stdout",
     "output_type": "stream",
     "text": [
      "{'gene': 497, 'transcript': 497, '5utr': 26, '3utr': 271, 'CDS': 4}\n"
     ]
    },
    {
     "data": {
      "text/plain": [
       "                                                 notes  count\n",
       "0                                                  NaN    495\n",
       "1              amastin_surface_glycoprotein_-_putative     23\n",
       "2                                  glucose_transporter      9\n",
       "3                                 amastin-like_protein      8\n",
       "4                      UDP-galactose_transporter|LPG5A      7\n",
       "..                                                 ...    ...\n",
       "188               Haloacid_dehalogenase-like_hydrolase      1\n",
       "189  protein-l-isoaspartate_o-methyltransferase_-_p...      1\n",
       "190                 2′-O-ribose_methyltransferase|MTr1      1\n",
       "191           mitochondrial_carrier_protein_-_putative      1\n",
       "192            adaptin_complex_1_subunit|beta_adaptin       1\n",
       "\n",
       "[193 rows x 2 columns]"
      ],
      "text/html": [
       "<div>\n",
       "<style scoped>\n",
       "    .dataframe tbody tr th:only-of-type {\n",
       "        vertical-align: middle;\n",
       "    }\n",
       "\n",
       "    .dataframe tbody tr th {\n",
       "        vertical-align: top;\n",
       "    }\n",
       "\n",
       "    .dataframe thead th {\n",
       "        text-align: right;\n",
       "    }\n",
       "</style>\n",
       "<table border=\"1\" class=\"dataframe\">\n",
       "  <thead>\n",
       "    <tr style=\"text-align: right;\">\n",
       "      <th></th>\n",
       "      <th>notes</th>\n",
       "      <th>count</th>\n",
       "    </tr>\n",
       "  </thead>\n",
       "  <tbody>\n",
       "    <tr>\n",
       "      <th>0</th>\n",
       "      <td>NaN</td>\n",
       "      <td>495</td>\n",
       "    </tr>\n",
       "    <tr>\n",
       "      <th>1</th>\n",
       "      <td>amastin_surface_glycoprotein_-_putative</td>\n",
       "      <td>23</td>\n",
       "    </tr>\n",
       "    <tr>\n",
       "      <th>2</th>\n",
       "      <td>glucose_transporter</td>\n",
       "      <td>9</td>\n",
       "    </tr>\n",
       "    <tr>\n",
       "      <th>3</th>\n",
       "      <td>amastin-like_protein</td>\n",
       "      <td>8</td>\n",
       "    </tr>\n",
       "    <tr>\n",
       "      <th>4</th>\n",
       "      <td>UDP-galactose_transporter|LPG5A</td>\n",
       "      <td>7</td>\n",
       "    </tr>\n",
       "    <tr>\n",
       "      <th>...</th>\n",
       "      <td>...</td>\n",
       "      <td>...</td>\n",
       "    </tr>\n",
       "    <tr>\n",
       "      <th>188</th>\n",
       "      <td>Haloacid_dehalogenase-like_hydrolase</td>\n",
       "      <td>1</td>\n",
       "    </tr>\n",
       "    <tr>\n",
       "      <th>189</th>\n",
       "      <td>protein-l-isoaspartate_o-methyltransferase_-_p...</td>\n",
       "      <td>1</td>\n",
       "    </tr>\n",
       "    <tr>\n",
       "      <th>190</th>\n",
       "      <td>2′-O-ribose_methyltransferase|MTr1</td>\n",
       "      <td>1</td>\n",
       "    </tr>\n",
       "    <tr>\n",
       "      <th>191</th>\n",
       "      <td>mitochondrial_carrier_protein_-_putative</td>\n",
       "      <td>1</td>\n",
       "    </tr>\n",
       "    <tr>\n",
       "      <th>192</th>\n",
       "      <td>adaptin_complex_1_subunit|beta_adaptin</td>\n",
       "      <td>1</td>\n",
       "    </tr>\n",
       "  </tbody>\n",
       "</table>\n",
       "<p>193 rows × 2 columns</p>\n",
       "</div>"
      ]
     },
     "execution_count": 17,
     "metadata": {},
     "output_type": "execute_result"
    }
   ],
   "execution_count": 17
  },
  {
   "metadata": {},
   "cell_type": "markdown",
   "source": "### Checking: amastin"
  },
  {
   "metadata": {
    "ExecuteTime": {
     "end_time": "2024-10-07T19:35:42.143914Z",
     "start_time": "2024-10-07T19:35:42.139317Z"
    }
   },
   "cell_type": "code",
   "source": [
    "# Checking contents with amastin\n",
    "filter_data = search_string(neg_filtered, \"amastin\")\n",
    "filter_data['notes'].value_counts()"
   ],
   "outputs": [
    {
     "name": "stdout",
     "output_type": "stream",
     "text": [
      "The of filtered data: (86, 16)\n",
      "The unique values in column 'neg_name': 43\n"
     ]
    },
    {
     "data": {
      "text/plain": [
       "notes\n",
       "amastin_surface_glycoprotein_-_putative    46\n",
       "amastin-like_protein                       16\n",
       "amastin-like_surface_protein_-_putative    12\n",
       "amastin_surface_glycoprotein                8\n",
       "amastin_surface_protein                     2\n",
       "amastin-like_surface_protein                2\n",
       "Name: count, dtype: int64"
      ]
     },
     "execution_count": 18,
     "metadata": {},
     "output_type": "execute_result"
    }
   ],
   "execution_count": 18
  },
  {
   "metadata": {
    "ExecuteTime": {
     "end_time": "2024-10-07T19:35:42.469503Z",
     "start_time": "2024-10-07T19:35:42.458726Z"
    }
   },
   "cell_type": "code",
   "source": "filter_data[filter_data[\"gene\"] == True]",
   "outputs": [
    {
     "data": {
      "text/plain": [
       "                       neg_name    chrom    start      end strand  \\\n",
       "197     rejected_noCDS_c08.770N  LinJ.08   337654   340312      +   \n",
       "1050    rejected_noCDS_c30.3870  LinJ.30   274753   277962      +   \n",
       "1118    rejected_noCDS_c31.4130  LinJ.31   150123   152831      -   \n",
       "1121    rejected_noCDS_c31.4120  LinJ.31   150123   152831      -   \n",
       "1372  rejected_noCDS_c34.5090BR  LinJ.34   423724   426392      +   \n",
       "1377  rejected_noCDS_c34.5110BR  LinJ.34   432504   435210      +   \n",
       "1380  rejected_noCDS_c34.5120BR  LinJ.34   445685   448392      +   \n",
       "1383  rejected_noCDS_c34.5130BR  LinJ.34   450104   453599      +   \n",
       "1388  rejected_noCDS_c34.5140BS  LinJ.34   513172   516089      -   \n",
       "1401    rejected_noCDS_c34.5190  LinJ.34   739819   743551      -   \n",
       "1404  rejected_noCDS_c34.5200BR  LinJ.34   739819   743551      -   \n",
       "1407  rejected_noCDS_c34.5180BS  LinJ.34   739819   743551      -   \n",
       "1432  rejected_noCDS_c34.5290BU  LinJ.34   766090   768423      -   \n",
       "1457  rejected_noCDS_c34.5370BU  LinJ.34   782521   784862      -   \n",
       "1460  rejected_noCDS_c34.5380BU  LinJ.34   805687   808315      -   \n",
       "1463  rejected_noCDS_c34.5410BT  LinJ.34   814218   816590      -   \n",
       "1466  rejected_noCDS_c34.5400BT  LinJ.34   814218   816590      -   \n",
       "1469  rejected_noCDS_c34.5420BT  LinJ.34   816591   819357      -   \n",
       "1472  rejected_noCDS_c34.5430BT  LinJ.34   816591   819357      -   \n",
       "1510  rejected_noCDS_c34.5560BY  LinJ.34  1240773  1245780      +   \n",
       "1512  rejected_noCDS_c34.5570BZ  LinJ.34  1240773  1245780      +   \n",
       "1514  rejected_noCDS_c34.5580CA  LinJ.34  1240773  1245780      +   \n",
       "1519  rejected_noCDS_c34.5590BY  LinJ.34  1246328  1249925      +   \n",
       "1521  rejected_noCDS_c34.5600BZ  LinJ.34  1246328  1249925      +   \n",
       "1523  rejected_noCDS_c34.5610CA  LinJ.34  1246328  1249925      +   \n",
       "1525  rejected_noCDS_c34.5620CB  LinJ.34  1246328  1249925      +   \n",
       "1533  rejected_noCDS_c34.5640BY  LinJ.34  1252201  1255794      +   \n",
       "1535  rejected_noCDS_c34.5650BZ  LinJ.34  1252201  1255794      +   \n",
       "1537  rejected_noCDS_c34.5660CA  LinJ.34  1252201  1255794      +   \n",
       "1539  rejected_noCDS_c34.5670CB  LinJ.34  1252201  1255794      +   \n",
       "1547  rejected_noCDS_c34.5690BY  LinJ.34  1258088  1261692      +   \n",
       "1549  rejected_noCDS_c34.5700BZ  LinJ.34  1258088  1261692      +   \n",
       "1551  rejected_noCDS_c34.5710CA  LinJ.34  1258088  1261692      +   \n",
       "1553  rejected_noCDS_c34.5720CB  LinJ.34  1258088  1261692      +   \n",
       "1561  rejected_noCDS_c34.5740BY  LinJ.34  1263977  1267600      +   \n",
       "1563  rejected_noCDS_c34.5750BZ  LinJ.34  1263977  1267600      +   \n",
       "1565  rejected_noCDS_c34.5760CA  LinJ.34  1263977  1267600      +   \n",
       "1567  rejected_noCDS_c34.5770CB  LinJ.34  1263977  1267600      +   \n",
       "1575  rejected_noCDS_c34.5790BZ  LinJ.34  1269875  1273542      +   \n",
       "1577  rejected_noCDS_c34.5800CA  LinJ.34  1269875  1273542      +   \n",
       "1583  rejected_noCDS_c34.5820BY  LinJ.34  1275817  1279464      +   \n",
       "1585  rejected_noCDS_c34.5830BZ  LinJ.34  1275817  1279464      +   \n",
       "1587  rejected_noCDS_c34.5840CA  LinJ.34  1275817  1279464      +   \n",
       "\n",
       "             gene_id transcript_id parent_id  gene  transcript    CDS   3utr  \\\n",
       "197   LINF_080012900           NaN       NaN  True       False  False  False   \n",
       "1050  LINF_300014200           NaN       NaN  True       False  False  False   \n",
       "1118  LINF_310009800           NaN       NaN  True       False  False  False   \n",
       "1121  LINF_310009800           NaN       NaN  True       False  False  False   \n",
       "1372  LINF_340015400           NaN       NaN  True       False  False  False   \n",
       "1377  LINF_340015500           NaN       NaN  True       False  False  False   \n",
       "1380  LINF_340015800           NaN       NaN  True       False  False  False   \n",
       "1383  LINF_340015900           NaN       NaN  True       False  False  False   \n",
       "1388  LINF_340017500           NaN       NaN  True       False  False  False   \n",
       "1401  LINF_340022900           NaN       NaN  True       False  False  False   \n",
       "1404  LINF_340022900           NaN       NaN  True       False  False  False   \n",
       "1407  LINF_340022900           NaN       NaN  True       False  False  False   \n",
       "1432  LINF_340023300           NaN       NaN  True       False  False  False   \n",
       "1457  LINF_340023500           NaN       NaN  True       False  False  False   \n",
       "1460  LINF_340024200           NaN       NaN  True       False  False  False   \n",
       "1463  LINF_340024500           NaN       NaN  True       False  False  False   \n",
       "1466  LINF_340024500           NaN       NaN  True       False  False  False   \n",
       "1469  LINF_340024600           NaN       NaN  True       False  False  False   \n",
       "1472  LINF_340024600           NaN       NaN  True       False  False  False   \n",
       "1510  LINF_340034300           NaN       NaN  True       False  False  False   \n",
       "1512  LINF_340034300           NaN       NaN  True       False  False  False   \n",
       "1514  LINF_340034300           NaN       NaN  True       False  False  False   \n",
       "1519  LINF_340034400           NaN       NaN  True       False  False  False   \n",
       "1521  LINF_340034400           NaN       NaN  True       False  False  False   \n",
       "1523  LINF_340034400           NaN       NaN  True       False  False  False   \n",
       "1525  LINF_340034400           NaN       NaN  True       False  False  False   \n",
       "1533  LINF_340034500           NaN       NaN  True       False  False  False   \n",
       "1535  LINF_340034500           NaN       NaN  True       False  False  False   \n",
       "1537  LINF_340034500           NaN       NaN  True       False  False  False   \n",
       "1539  LINF_340034500           NaN       NaN  True       False  False  False   \n",
       "1547  LINF_340034600           NaN       NaN  True       False  False  False   \n",
       "1549  LINF_340034600           NaN       NaN  True       False  False  False   \n",
       "1551  LINF_340034600           NaN       NaN  True       False  False  False   \n",
       "1553  LINF_340034600           NaN       NaN  True       False  False  False   \n",
       "1561  LINF_340034700           NaN       NaN  True       False  False  False   \n",
       "1563  LINF_340034700           NaN       NaN  True       False  False  False   \n",
       "1565  LINF_340034700           NaN       NaN  True       False  False  False   \n",
       "1567  LINF_340034700           NaN       NaN  True       False  False  False   \n",
       "1575  LINF_340034800           NaN       NaN  True       False  False  False   \n",
       "1577  LINF_340034800           NaN       NaN  True       False  False  False   \n",
       "1583  LINF_340034900           NaN       NaN  True       False  False  False   \n",
       "1585  LINF_340034900           NaN       NaN  True       False  False  False   \n",
       "1587  LINF_340034900           NaN       NaN  True       False  False  False   \n",
       "\n",
       "       5utr pseudogen                                    notes  \\\n",
       "197   False       NaN                     amastin-like_protein   \n",
       "1050  False       NaN                  amastin_surface_protein   \n",
       "1118  False       NaN             amastin_surface_glycoprotein   \n",
       "1121  False       NaN             amastin_surface_glycoprotein   \n",
       "1372  False       NaN  amastin-like_surface_protein_-_putative   \n",
       "1377  False       NaN                     amastin-like_protein   \n",
       "1380  False       NaN                     amastin-like_protein   \n",
       "1383  False       NaN                     amastin-like_protein   \n",
       "1388  False       NaN                     amastin-like_protein   \n",
       "1401  False       NaN                     amastin-like_protein   \n",
       "1404  False       NaN                     amastin-like_protein   \n",
       "1407  False       NaN                     amastin-like_protein   \n",
       "1432  False       NaN  amastin-like_surface_protein_-_putative   \n",
       "1457  False       NaN             amastin-like_surface_protein   \n",
       "1460  False       NaN  amastin_surface_glycoprotein_-_putative   \n",
       "1463  False       NaN  amastin-like_surface_protein_-_putative   \n",
       "1466  False       NaN  amastin-like_surface_protein_-_putative   \n",
       "1469  False       NaN  amastin-like_surface_protein_-_putative   \n",
       "1472  False       NaN  amastin-like_surface_protein_-_putative   \n",
       "1510  False       NaN  amastin_surface_glycoprotein_-_putative   \n",
       "1512  False       NaN  amastin_surface_glycoprotein_-_putative   \n",
       "1514  False       NaN  amastin_surface_glycoprotein_-_putative   \n",
       "1519  False       NaN  amastin_surface_glycoprotein_-_putative   \n",
       "1521  False       NaN  amastin_surface_glycoprotein_-_putative   \n",
       "1523  False       NaN  amastin_surface_glycoprotein_-_putative   \n",
       "1525  False       NaN  amastin_surface_glycoprotein_-_putative   \n",
       "1533  False       NaN  amastin_surface_glycoprotein_-_putative   \n",
       "1535  False       NaN  amastin_surface_glycoprotein_-_putative   \n",
       "1537  False       NaN  amastin_surface_glycoprotein_-_putative   \n",
       "1539  False       NaN  amastin_surface_glycoprotein_-_putative   \n",
       "1547  False       NaN  amastin_surface_glycoprotein_-_putative   \n",
       "1549  False       NaN  amastin_surface_glycoprotein_-_putative   \n",
       "1551  False       NaN  amastin_surface_glycoprotein_-_putative   \n",
       "1553  False       NaN  amastin_surface_glycoprotein_-_putative   \n",
       "1561  False       NaN  amastin_surface_glycoprotein_-_putative   \n",
       "1563  False       NaN  amastin_surface_glycoprotein_-_putative   \n",
       "1565  False       NaN  amastin_surface_glycoprotein_-_putative   \n",
       "1567  False       NaN  amastin_surface_glycoprotein_-_putative   \n",
       "1575  False       NaN             amastin_surface_glycoprotein   \n",
       "1577  False       NaN             amastin_surface_glycoprotein   \n",
       "1583  False       NaN  amastin_surface_glycoprotein_-_putative   \n",
       "1585  False       NaN  amastin_surface_glycoprotein_-_putative   \n",
       "1587  False       NaN  amastin_surface_glycoprotein_-_putative   \n",
       "\n",
       "                interval  \n",
       "197     [337654, 340312]  \n",
       "1050    [274753, 277962]  \n",
       "1118    [150123, 152831]  \n",
       "1121    [150123, 152831]  \n",
       "1372    [423724, 426392]  \n",
       "1377    [432504, 435210]  \n",
       "1380    [445685, 448392]  \n",
       "1383    [450104, 453599]  \n",
       "1388    [513172, 516089]  \n",
       "1401    [739819, 743551]  \n",
       "1404    [739819, 743551]  \n",
       "1407    [739819, 743551]  \n",
       "1432    [766090, 768423]  \n",
       "1457    [782521, 784862]  \n",
       "1460    [805687, 808315]  \n",
       "1463    [814218, 816590]  \n",
       "1466    [814218, 816590]  \n",
       "1469    [816591, 819357]  \n",
       "1472    [816591, 819357]  \n",
       "1510  [1240773, 1245780]  \n",
       "1512  [1240773, 1245780]  \n",
       "1514  [1240773, 1245780]  \n",
       "1519  [1246328, 1249925]  \n",
       "1521  [1246328, 1249925]  \n",
       "1523  [1246328, 1249925]  \n",
       "1525  [1246328, 1249925]  \n",
       "1533  [1252201, 1255794]  \n",
       "1535  [1252201, 1255794]  \n",
       "1537  [1252201, 1255794]  \n",
       "1539  [1252201, 1255794]  \n",
       "1547  [1258088, 1261692]  \n",
       "1549  [1258088, 1261692]  \n",
       "1551  [1258088, 1261692]  \n",
       "1553  [1258088, 1261692]  \n",
       "1561  [1263977, 1267600]  \n",
       "1563  [1263977, 1267600]  \n",
       "1565  [1263977, 1267600]  \n",
       "1567  [1263977, 1267600]  \n",
       "1575  [1269875, 1273542]  \n",
       "1577  [1269875, 1273542]  \n",
       "1583  [1275817, 1279464]  \n",
       "1585  [1275817, 1279464]  \n",
       "1587  [1275817, 1279464]  "
      ],
      "text/html": [
       "<div>\n",
       "<style scoped>\n",
       "    .dataframe tbody tr th:only-of-type {\n",
       "        vertical-align: middle;\n",
       "    }\n",
       "\n",
       "    .dataframe tbody tr th {\n",
       "        vertical-align: top;\n",
       "    }\n",
       "\n",
       "    .dataframe thead th {\n",
       "        text-align: right;\n",
       "    }\n",
       "</style>\n",
       "<table border=\"1\" class=\"dataframe\">\n",
       "  <thead>\n",
       "    <tr style=\"text-align: right;\">\n",
       "      <th></th>\n",
       "      <th>neg_name</th>\n",
       "      <th>chrom</th>\n",
       "      <th>start</th>\n",
       "      <th>end</th>\n",
       "      <th>strand</th>\n",
       "      <th>gene_id</th>\n",
       "      <th>transcript_id</th>\n",
       "      <th>parent_id</th>\n",
       "      <th>gene</th>\n",
       "      <th>transcript</th>\n",
       "      <th>CDS</th>\n",
       "      <th>3utr</th>\n",
       "      <th>5utr</th>\n",
       "      <th>pseudogen</th>\n",
       "      <th>notes</th>\n",
       "      <th>interval</th>\n",
       "    </tr>\n",
       "  </thead>\n",
       "  <tbody>\n",
       "    <tr>\n",
       "      <th>197</th>\n",
       "      <td>rejected_noCDS_c08.770N</td>\n",
       "      <td>LinJ.08</td>\n",
       "      <td>337654</td>\n",
       "      <td>340312</td>\n",
       "      <td>+</td>\n",
       "      <td>LINF_080012900</td>\n",
       "      <td>NaN</td>\n",
       "      <td>NaN</td>\n",
       "      <td>True</td>\n",
       "      <td>False</td>\n",
       "      <td>False</td>\n",
       "      <td>False</td>\n",
       "      <td>False</td>\n",
       "      <td>NaN</td>\n",
       "      <td>amastin-like_protein</td>\n",
       "      <td>[337654, 340312]</td>\n",
       "    </tr>\n",
       "    <tr>\n",
       "      <th>1050</th>\n",
       "      <td>rejected_noCDS_c30.3870</td>\n",
       "      <td>LinJ.30</td>\n",
       "      <td>274753</td>\n",
       "      <td>277962</td>\n",
       "      <td>+</td>\n",
       "      <td>LINF_300014200</td>\n",
       "      <td>NaN</td>\n",
       "      <td>NaN</td>\n",
       "      <td>True</td>\n",
       "      <td>False</td>\n",
       "      <td>False</td>\n",
       "      <td>False</td>\n",
       "      <td>False</td>\n",
       "      <td>NaN</td>\n",
       "      <td>amastin_surface_protein</td>\n",
       "      <td>[274753, 277962]</td>\n",
       "    </tr>\n",
       "    <tr>\n",
       "      <th>1118</th>\n",
       "      <td>rejected_noCDS_c31.4130</td>\n",
       "      <td>LinJ.31</td>\n",
       "      <td>150123</td>\n",
       "      <td>152831</td>\n",
       "      <td>-</td>\n",
       "      <td>LINF_310009800</td>\n",
       "      <td>NaN</td>\n",
       "      <td>NaN</td>\n",
       "      <td>True</td>\n",
       "      <td>False</td>\n",
       "      <td>False</td>\n",
       "      <td>False</td>\n",
       "      <td>False</td>\n",
       "      <td>NaN</td>\n",
       "      <td>amastin_surface_glycoprotein</td>\n",
       "      <td>[150123, 152831]</td>\n",
       "    </tr>\n",
       "    <tr>\n",
       "      <th>1121</th>\n",
       "      <td>rejected_noCDS_c31.4120</td>\n",
       "      <td>LinJ.31</td>\n",
       "      <td>150123</td>\n",
       "      <td>152831</td>\n",
       "      <td>-</td>\n",
       "      <td>LINF_310009800</td>\n",
       "      <td>NaN</td>\n",
       "      <td>NaN</td>\n",
       "      <td>True</td>\n",
       "      <td>False</td>\n",
       "      <td>False</td>\n",
       "      <td>False</td>\n",
       "      <td>False</td>\n",
       "      <td>NaN</td>\n",
       "      <td>amastin_surface_glycoprotein</td>\n",
       "      <td>[150123, 152831]</td>\n",
       "    </tr>\n",
       "    <tr>\n",
       "      <th>1372</th>\n",
       "      <td>rejected_noCDS_c34.5090BR</td>\n",
       "      <td>LinJ.34</td>\n",
       "      <td>423724</td>\n",
       "      <td>426392</td>\n",
       "      <td>+</td>\n",
       "      <td>LINF_340015400</td>\n",
       "      <td>NaN</td>\n",
       "      <td>NaN</td>\n",
       "      <td>True</td>\n",
       "      <td>False</td>\n",
       "      <td>False</td>\n",
       "      <td>False</td>\n",
       "      <td>False</td>\n",
       "      <td>NaN</td>\n",
       "      <td>amastin-like_surface_protein_-_putative</td>\n",
       "      <td>[423724, 426392]</td>\n",
       "    </tr>\n",
       "    <tr>\n",
       "      <th>1377</th>\n",
       "      <td>rejected_noCDS_c34.5110BR</td>\n",
       "      <td>LinJ.34</td>\n",
       "      <td>432504</td>\n",
       "      <td>435210</td>\n",
       "      <td>+</td>\n",
       "      <td>LINF_340015500</td>\n",
       "      <td>NaN</td>\n",
       "      <td>NaN</td>\n",
       "      <td>True</td>\n",
       "      <td>False</td>\n",
       "      <td>False</td>\n",
       "      <td>False</td>\n",
       "      <td>False</td>\n",
       "      <td>NaN</td>\n",
       "      <td>amastin-like_protein</td>\n",
       "      <td>[432504, 435210]</td>\n",
       "    </tr>\n",
       "    <tr>\n",
       "      <th>1380</th>\n",
       "      <td>rejected_noCDS_c34.5120BR</td>\n",
       "      <td>LinJ.34</td>\n",
       "      <td>445685</td>\n",
       "      <td>448392</td>\n",
       "      <td>+</td>\n",
       "      <td>LINF_340015800</td>\n",
       "      <td>NaN</td>\n",
       "      <td>NaN</td>\n",
       "      <td>True</td>\n",
       "      <td>False</td>\n",
       "      <td>False</td>\n",
       "      <td>False</td>\n",
       "      <td>False</td>\n",
       "      <td>NaN</td>\n",
       "      <td>amastin-like_protein</td>\n",
       "      <td>[445685, 448392]</td>\n",
       "    </tr>\n",
       "    <tr>\n",
       "      <th>1383</th>\n",
       "      <td>rejected_noCDS_c34.5130BR</td>\n",
       "      <td>LinJ.34</td>\n",
       "      <td>450104</td>\n",
       "      <td>453599</td>\n",
       "      <td>+</td>\n",
       "      <td>LINF_340015900</td>\n",
       "      <td>NaN</td>\n",
       "      <td>NaN</td>\n",
       "      <td>True</td>\n",
       "      <td>False</td>\n",
       "      <td>False</td>\n",
       "      <td>False</td>\n",
       "      <td>False</td>\n",
       "      <td>NaN</td>\n",
       "      <td>amastin-like_protein</td>\n",
       "      <td>[450104, 453599]</td>\n",
       "    </tr>\n",
       "    <tr>\n",
       "      <th>1388</th>\n",
       "      <td>rejected_noCDS_c34.5140BS</td>\n",
       "      <td>LinJ.34</td>\n",
       "      <td>513172</td>\n",
       "      <td>516089</td>\n",
       "      <td>-</td>\n",
       "      <td>LINF_340017500</td>\n",
       "      <td>NaN</td>\n",
       "      <td>NaN</td>\n",
       "      <td>True</td>\n",
       "      <td>False</td>\n",
       "      <td>False</td>\n",
       "      <td>False</td>\n",
       "      <td>False</td>\n",
       "      <td>NaN</td>\n",
       "      <td>amastin-like_protein</td>\n",
       "      <td>[513172, 516089]</td>\n",
       "    </tr>\n",
       "    <tr>\n",
       "      <th>1401</th>\n",
       "      <td>rejected_noCDS_c34.5190</td>\n",
       "      <td>LinJ.34</td>\n",
       "      <td>739819</td>\n",
       "      <td>743551</td>\n",
       "      <td>-</td>\n",
       "      <td>LINF_340022900</td>\n",
       "      <td>NaN</td>\n",
       "      <td>NaN</td>\n",
       "      <td>True</td>\n",
       "      <td>False</td>\n",
       "      <td>False</td>\n",
       "      <td>False</td>\n",
       "      <td>False</td>\n",
       "      <td>NaN</td>\n",
       "      <td>amastin-like_protein</td>\n",
       "      <td>[739819, 743551]</td>\n",
       "    </tr>\n",
       "    <tr>\n",
       "      <th>1404</th>\n",
       "      <td>rejected_noCDS_c34.5200BR</td>\n",
       "      <td>LinJ.34</td>\n",
       "      <td>739819</td>\n",
       "      <td>743551</td>\n",
       "      <td>-</td>\n",
       "      <td>LINF_340022900</td>\n",
       "      <td>NaN</td>\n",
       "      <td>NaN</td>\n",
       "      <td>True</td>\n",
       "      <td>False</td>\n",
       "      <td>False</td>\n",
       "      <td>False</td>\n",
       "      <td>False</td>\n",
       "      <td>NaN</td>\n",
       "      <td>amastin-like_protein</td>\n",
       "      <td>[739819, 743551]</td>\n",
       "    </tr>\n",
       "    <tr>\n",
       "      <th>1407</th>\n",
       "      <td>rejected_noCDS_c34.5180BS</td>\n",
       "      <td>LinJ.34</td>\n",
       "      <td>739819</td>\n",
       "      <td>743551</td>\n",
       "      <td>-</td>\n",
       "      <td>LINF_340022900</td>\n",
       "      <td>NaN</td>\n",
       "      <td>NaN</td>\n",
       "      <td>True</td>\n",
       "      <td>False</td>\n",
       "      <td>False</td>\n",
       "      <td>False</td>\n",
       "      <td>False</td>\n",
       "      <td>NaN</td>\n",
       "      <td>amastin-like_protein</td>\n",
       "      <td>[739819, 743551]</td>\n",
       "    </tr>\n",
       "    <tr>\n",
       "      <th>1432</th>\n",
       "      <td>rejected_noCDS_c34.5290BU</td>\n",
       "      <td>LinJ.34</td>\n",
       "      <td>766090</td>\n",
       "      <td>768423</td>\n",
       "      <td>-</td>\n",
       "      <td>LINF_340023300</td>\n",
       "      <td>NaN</td>\n",
       "      <td>NaN</td>\n",
       "      <td>True</td>\n",
       "      <td>False</td>\n",
       "      <td>False</td>\n",
       "      <td>False</td>\n",
       "      <td>False</td>\n",
       "      <td>NaN</td>\n",
       "      <td>amastin-like_surface_protein_-_putative</td>\n",
       "      <td>[766090, 768423]</td>\n",
       "    </tr>\n",
       "    <tr>\n",
       "      <th>1457</th>\n",
       "      <td>rejected_noCDS_c34.5370BU</td>\n",
       "      <td>LinJ.34</td>\n",
       "      <td>782521</td>\n",
       "      <td>784862</td>\n",
       "      <td>-</td>\n",
       "      <td>LINF_340023500</td>\n",
       "      <td>NaN</td>\n",
       "      <td>NaN</td>\n",
       "      <td>True</td>\n",
       "      <td>False</td>\n",
       "      <td>False</td>\n",
       "      <td>False</td>\n",
       "      <td>False</td>\n",
       "      <td>NaN</td>\n",
       "      <td>amastin-like_surface_protein</td>\n",
       "      <td>[782521, 784862]</td>\n",
       "    </tr>\n",
       "    <tr>\n",
       "      <th>1460</th>\n",
       "      <td>rejected_noCDS_c34.5380BU</td>\n",
       "      <td>LinJ.34</td>\n",
       "      <td>805687</td>\n",
       "      <td>808315</td>\n",
       "      <td>-</td>\n",
       "      <td>LINF_340024200</td>\n",
       "      <td>NaN</td>\n",
       "      <td>NaN</td>\n",
       "      <td>True</td>\n",
       "      <td>False</td>\n",
       "      <td>False</td>\n",
       "      <td>False</td>\n",
       "      <td>False</td>\n",
       "      <td>NaN</td>\n",
       "      <td>amastin_surface_glycoprotein_-_putative</td>\n",
       "      <td>[805687, 808315]</td>\n",
       "    </tr>\n",
       "    <tr>\n",
       "      <th>1463</th>\n",
       "      <td>rejected_noCDS_c34.5410BT</td>\n",
       "      <td>LinJ.34</td>\n",
       "      <td>814218</td>\n",
       "      <td>816590</td>\n",
       "      <td>-</td>\n",
       "      <td>LINF_340024500</td>\n",
       "      <td>NaN</td>\n",
       "      <td>NaN</td>\n",
       "      <td>True</td>\n",
       "      <td>False</td>\n",
       "      <td>False</td>\n",
       "      <td>False</td>\n",
       "      <td>False</td>\n",
       "      <td>NaN</td>\n",
       "      <td>amastin-like_surface_protein_-_putative</td>\n",
       "      <td>[814218, 816590]</td>\n",
       "    </tr>\n",
       "    <tr>\n",
       "      <th>1466</th>\n",
       "      <td>rejected_noCDS_c34.5400BT</td>\n",
       "      <td>LinJ.34</td>\n",
       "      <td>814218</td>\n",
       "      <td>816590</td>\n",
       "      <td>-</td>\n",
       "      <td>LINF_340024500</td>\n",
       "      <td>NaN</td>\n",
       "      <td>NaN</td>\n",
       "      <td>True</td>\n",
       "      <td>False</td>\n",
       "      <td>False</td>\n",
       "      <td>False</td>\n",
       "      <td>False</td>\n",
       "      <td>NaN</td>\n",
       "      <td>amastin-like_surface_protein_-_putative</td>\n",
       "      <td>[814218, 816590]</td>\n",
       "    </tr>\n",
       "    <tr>\n",
       "      <th>1469</th>\n",
       "      <td>rejected_noCDS_c34.5420BT</td>\n",
       "      <td>LinJ.34</td>\n",
       "      <td>816591</td>\n",
       "      <td>819357</td>\n",
       "      <td>-</td>\n",
       "      <td>LINF_340024600</td>\n",
       "      <td>NaN</td>\n",
       "      <td>NaN</td>\n",
       "      <td>True</td>\n",
       "      <td>False</td>\n",
       "      <td>False</td>\n",
       "      <td>False</td>\n",
       "      <td>False</td>\n",
       "      <td>NaN</td>\n",
       "      <td>amastin-like_surface_protein_-_putative</td>\n",
       "      <td>[816591, 819357]</td>\n",
       "    </tr>\n",
       "    <tr>\n",
       "      <th>1472</th>\n",
       "      <td>rejected_noCDS_c34.5430BT</td>\n",
       "      <td>LinJ.34</td>\n",
       "      <td>816591</td>\n",
       "      <td>819357</td>\n",
       "      <td>-</td>\n",
       "      <td>LINF_340024600</td>\n",
       "      <td>NaN</td>\n",
       "      <td>NaN</td>\n",
       "      <td>True</td>\n",
       "      <td>False</td>\n",
       "      <td>False</td>\n",
       "      <td>False</td>\n",
       "      <td>False</td>\n",
       "      <td>NaN</td>\n",
       "      <td>amastin-like_surface_protein_-_putative</td>\n",
       "      <td>[816591, 819357]</td>\n",
       "    </tr>\n",
       "    <tr>\n",
       "      <th>1510</th>\n",
       "      <td>rejected_noCDS_c34.5560BY</td>\n",
       "      <td>LinJ.34</td>\n",
       "      <td>1240773</td>\n",
       "      <td>1245780</td>\n",
       "      <td>+</td>\n",
       "      <td>LINF_340034300</td>\n",
       "      <td>NaN</td>\n",
       "      <td>NaN</td>\n",
       "      <td>True</td>\n",
       "      <td>False</td>\n",
       "      <td>False</td>\n",
       "      <td>False</td>\n",
       "      <td>False</td>\n",
       "      <td>NaN</td>\n",
       "      <td>amastin_surface_glycoprotein_-_putative</td>\n",
       "      <td>[1240773, 1245780]</td>\n",
       "    </tr>\n",
       "    <tr>\n",
       "      <th>1512</th>\n",
       "      <td>rejected_noCDS_c34.5570BZ</td>\n",
       "      <td>LinJ.34</td>\n",
       "      <td>1240773</td>\n",
       "      <td>1245780</td>\n",
       "      <td>+</td>\n",
       "      <td>LINF_340034300</td>\n",
       "      <td>NaN</td>\n",
       "      <td>NaN</td>\n",
       "      <td>True</td>\n",
       "      <td>False</td>\n",
       "      <td>False</td>\n",
       "      <td>False</td>\n",
       "      <td>False</td>\n",
       "      <td>NaN</td>\n",
       "      <td>amastin_surface_glycoprotein_-_putative</td>\n",
       "      <td>[1240773, 1245780]</td>\n",
       "    </tr>\n",
       "    <tr>\n",
       "      <th>1514</th>\n",
       "      <td>rejected_noCDS_c34.5580CA</td>\n",
       "      <td>LinJ.34</td>\n",
       "      <td>1240773</td>\n",
       "      <td>1245780</td>\n",
       "      <td>+</td>\n",
       "      <td>LINF_340034300</td>\n",
       "      <td>NaN</td>\n",
       "      <td>NaN</td>\n",
       "      <td>True</td>\n",
       "      <td>False</td>\n",
       "      <td>False</td>\n",
       "      <td>False</td>\n",
       "      <td>False</td>\n",
       "      <td>NaN</td>\n",
       "      <td>amastin_surface_glycoprotein_-_putative</td>\n",
       "      <td>[1240773, 1245780]</td>\n",
       "    </tr>\n",
       "    <tr>\n",
       "      <th>1519</th>\n",
       "      <td>rejected_noCDS_c34.5590BY</td>\n",
       "      <td>LinJ.34</td>\n",
       "      <td>1246328</td>\n",
       "      <td>1249925</td>\n",
       "      <td>+</td>\n",
       "      <td>LINF_340034400</td>\n",
       "      <td>NaN</td>\n",
       "      <td>NaN</td>\n",
       "      <td>True</td>\n",
       "      <td>False</td>\n",
       "      <td>False</td>\n",
       "      <td>False</td>\n",
       "      <td>False</td>\n",
       "      <td>NaN</td>\n",
       "      <td>amastin_surface_glycoprotein_-_putative</td>\n",
       "      <td>[1246328, 1249925]</td>\n",
       "    </tr>\n",
       "    <tr>\n",
       "      <th>1521</th>\n",
       "      <td>rejected_noCDS_c34.5600BZ</td>\n",
       "      <td>LinJ.34</td>\n",
       "      <td>1246328</td>\n",
       "      <td>1249925</td>\n",
       "      <td>+</td>\n",
       "      <td>LINF_340034400</td>\n",
       "      <td>NaN</td>\n",
       "      <td>NaN</td>\n",
       "      <td>True</td>\n",
       "      <td>False</td>\n",
       "      <td>False</td>\n",
       "      <td>False</td>\n",
       "      <td>False</td>\n",
       "      <td>NaN</td>\n",
       "      <td>amastin_surface_glycoprotein_-_putative</td>\n",
       "      <td>[1246328, 1249925]</td>\n",
       "    </tr>\n",
       "    <tr>\n",
       "      <th>1523</th>\n",
       "      <td>rejected_noCDS_c34.5610CA</td>\n",
       "      <td>LinJ.34</td>\n",
       "      <td>1246328</td>\n",
       "      <td>1249925</td>\n",
       "      <td>+</td>\n",
       "      <td>LINF_340034400</td>\n",
       "      <td>NaN</td>\n",
       "      <td>NaN</td>\n",
       "      <td>True</td>\n",
       "      <td>False</td>\n",
       "      <td>False</td>\n",
       "      <td>False</td>\n",
       "      <td>False</td>\n",
       "      <td>NaN</td>\n",
       "      <td>amastin_surface_glycoprotein_-_putative</td>\n",
       "      <td>[1246328, 1249925]</td>\n",
       "    </tr>\n",
       "    <tr>\n",
       "      <th>1525</th>\n",
       "      <td>rejected_noCDS_c34.5620CB</td>\n",
       "      <td>LinJ.34</td>\n",
       "      <td>1246328</td>\n",
       "      <td>1249925</td>\n",
       "      <td>+</td>\n",
       "      <td>LINF_340034400</td>\n",
       "      <td>NaN</td>\n",
       "      <td>NaN</td>\n",
       "      <td>True</td>\n",
       "      <td>False</td>\n",
       "      <td>False</td>\n",
       "      <td>False</td>\n",
       "      <td>False</td>\n",
       "      <td>NaN</td>\n",
       "      <td>amastin_surface_glycoprotein_-_putative</td>\n",
       "      <td>[1246328, 1249925]</td>\n",
       "    </tr>\n",
       "    <tr>\n",
       "      <th>1533</th>\n",
       "      <td>rejected_noCDS_c34.5640BY</td>\n",
       "      <td>LinJ.34</td>\n",
       "      <td>1252201</td>\n",
       "      <td>1255794</td>\n",
       "      <td>+</td>\n",
       "      <td>LINF_340034500</td>\n",
       "      <td>NaN</td>\n",
       "      <td>NaN</td>\n",
       "      <td>True</td>\n",
       "      <td>False</td>\n",
       "      <td>False</td>\n",
       "      <td>False</td>\n",
       "      <td>False</td>\n",
       "      <td>NaN</td>\n",
       "      <td>amastin_surface_glycoprotein_-_putative</td>\n",
       "      <td>[1252201, 1255794]</td>\n",
       "    </tr>\n",
       "    <tr>\n",
       "      <th>1535</th>\n",
       "      <td>rejected_noCDS_c34.5650BZ</td>\n",
       "      <td>LinJ.34</td>\n",
       "      <td>1252201</td>\n",
       "      <td>1255794</td>\n",
       "      <td>+</td>\n",
       "      <td>LINF_340034500</td>\n",
       "      <td>NaN</td>\n",
       "      <td>NaN</td>\n",
       "      <td>True</td>\n",
       "      <td>False</td>\n",
       "      <td>False</td>\n",
       "      <td>False</td>\n",
       "      <td>False</td>\n",
       "      <td>NaN</td>\n",
       "      <td>amastin_surface_glycoprotein_-_putative</td>\n",
       "      <td>[1252201, 1255794]</td>\n",
       "    </tr>\n",
       "    <tr>\n",
       "      <th>1537</th>\n",
       "      <td>rejected_noCDS_c34.5660CA</td>\n",
       "      <td>LinJ.34</td>\n",
       "      <td>1252201</td>\n",
       "      <td>1255794</td>\n",
       "      <td>+</td>\n",
       "      <td>LINF_340034500</td>\n",
       "      <td>NaN</td>\n",
       "      <td>NaN</td>\n",
       "      <td>True</td>\n",
       "      <td>False</td>\n",
       "      <td>False</td>\n",
       "      <td>False</td>\n",
       "      <td>False</td>\n",
       "      <td>NaN</td>\n",
       "      <td>amastin_surface_glycoprotein_-_putative</td>\n",
       "      <td>[1252201, 1255794]</td>\n",
       "    </tr>\n",
       "    <tr>\n",
       "      <th>1539</th>\n",
       "      <td>rejected_noCDS_c34.5670CB</td>\n",
       "      <td>LinJ.34</td>\n",
       "      <td>1252201</td>\n",
       "      <td>1255794</td>\n",
       "      <td>+</td>\n",
       "      <td>LINF_340034500</td>\n",
       "      <td>NaN</td>\n",
       "      <td>NaN</td>\n",
       "      <td>True</td>\n",
       "      <td>False</td>\n",
       "      <td>False</td>\n",
       "      <td>False</td>\n",
       "      <td>False</td>\n",
       "      <td>NaN</td>\n",
       "      <td>amastin_surface_glycoprotein_-_putative</td>\n",
       "      <td>[1252201, 1255794]</td>\n",
       "    </tr>\n",
       "    <tr>\n",
       "      <th>1547</th>\n",
       "      <td>rejected_noCDS_c34.5690BY</td>\n",
       "      <td>LinJ.34</td>\n",
       "      <td>1258088</td>\n",
       "      <td>1261692</td>\n",
       "      <td>+</td>\n",
       "      <td>LINF_340034600</td>\n",
       "      <td>NaN</td>\n",
       "      <td>NaN</td>\n",
       "      <td>True</td>\n",
       "      <td>False</td>\n",
       "      <td>False</td>\n",
       "      <td>False</td>\n",
       "      <td>False</td>\n",
       "      <td>NaN</td>\n",
       "      <td>amastin_surface_glycoprotein_-_putative</td>\n",
       "      <td>[1258088, 1261692]</td>\n",
       "    </tr>\n",
       "    <tr>\n",
       "      <th>1549</th>\n",
       "      <td>rejected_noCDS_c34.5700BZ</td>\n",
       "      <td>LinJ.34</td>\n",
       "      <td>1258088</td>\n",
       "      <td>1261692</td>\n",
       "      <td>+</td>\n",
       "      <td>LINF_340034600</td>\n",
       "      <td>NaN</td>\n",
       "      <td>NaN</td>\n",
       "      <td>True</td>\n",
       "      <td>False</td>\n",
       "      <td>False</td>\n",
       "      <td>False</td>\n",
       "      <td>False</td>\n",
       "      <td>NaN</td>\n",
       "      <td>amastin_surface_glycoprotein_-_putative</td>\n",
       "      <td>[1258088, 1261692]</td>\n",
       "    </tr>\n",
       "    <tr>\n",
       "      <th>1551</th>\n",
       "      <td>rejected_noCDS_c34.5710CA</td>\n",
       "      <td>LinJ.34</td>\n",
       "      <td>1258088</td>\n",
       "      <td>1261692</td>\n",
       "      <td>+</td>\n",
       "      <td>LINF_340034600</td>\n",
       "      <td>NaN</td>\n",
       "      <td>NaN</td>\n",
       "      <td>True</td>\n",
       "      <td>False</td>\n",
       "      <td>False</td>\n",
       "      <td>False</td>\n",
       "      <td>False</td>\n",
       "      <td>NaN</td>\n",
       "      <td>amastin_surface_glycoprotein_-_putative</td>\n",
       "      <td>[1258088, 1261692]</td>\n",
       "    </tr>\n",
       "    <tr>\n",
       "      <th>1553</th>\n",
       "      <td>rejected_noCDS_c34.5720CB</td>\n",
       "      <td>LinJ.34</td>\n",
       "      <td>1258088</td>\n",
       "      <td>1261692</td>\n",
       "      <td>+</td>\n",
       "      <td>LINF_340034600</td>\n",
       "      <td>NaN</td>\n",
       "      <td>NaN</td>\n",
       "      <td>True</td>\n",
       "      <td>False</td>\n",
       "      <td>False</td>\n",
       "      <td>False</td>\n",
       "      <td>False</td>\n",
       "      <td>NaN</td>\n",
       "      <td>amastin_surface_glycoprotein_-_putative</td>\n",
       "      <td>[1258088, 1261692]</td>\n",
       "    </tr>\n",
       "    <tr>\n",
       "      <th>1561</th>\n",
       "      <td>rejected_noCDS_c34.5740BY</td>\n",
       "      <td>LinJ.34</td>\n",
       "      <td>1263977</td>\n",
       "      <td>1267600</td>\n",
       "      <td>+</td>\n",
       "      <td>LINF_340034700</td>\n",
       "      <td>NaN</td>\n",
       "      <td>NaN</td>\n",
       "      <td>True</td>\n",
       "      <td>False</td>\n",
       "      <td>False</td>\n",
       "      <td>False</td>\n",
       "      <td>False</td>\n",
       "      <td>NaN</td>\n",
       "      <td>amastin_surface_glycoprotein_-_putative</td>\n",
       "      <td>[1263977, 1267600]</td>\n",
       "    </tr>\n",
       "    <tr>\n",
       "      <th>1563</th>\n",
       "      <td>rejected_noCDS_c34.5750BZ</td>\n",
       "      <td>LinJ.34</td>\n",
       "      <td>1263977</td>\n",
       "      <td>1267600</td>\n",
       "      <td>+</td>\n",
       "      <td>LINF_340034700</td>\n",
       "      <td>NaN</td>\n",
       "      <td>NaN</td>\n",
       "      <td>True</td>\n",
       "      <td>False</td>\n",
       "      <td>False</td>\n",
       "      <td>False</td>\n",
       "      <td>False</td>\n",
       "      <td>NaN</td>\n",
       "      <td>amastin_surface_glycoprotein_-_putative</td>\n",
       "      <td>[1263977, 1267600]</td>\n",
       "    </tr>\n",
       "    <tr>\n",
       "      <th>1565</th>\n",
       "      <td>rejected_noCDS_c34.5760CA</td>\n",
       "      <td>LinJ.34</td>\n",
       "      <td>1263977</td>\n",
       "      <td>1267600</td>\n",
       "      <td>+</td>\n",
       "      <td>LINF_340034700</td>\n",
       "      <td>NaN</td>\n",
       "      <td>NaN</td>\n",
       "      <td>True</td>\n",
       "      <td>False</td>\n",
       "      <td>False</td>\n",
       "      <td>False</td>\n",
       "      <td>False</td>\n",
       "      <td>NaN</td>\n",
       "      <td>amastin_surface_glycoprotein_-_putative</td>\n",
       "      <td>[1263977, 1267600]</td>\n",
       "    </tr>\n",
       "    <tr>\n",
       "      <th>1567</th>\n",
       "      <td>rejected_noCDS_c34.5770CB</td>\n",
       "      <td>LinJ.34</td>\n",
       "      <td>1263977</td>\n",
       "      <td>1267600</td>\n",
       "      <td>+</td>\n",
       "      <td>LINF_340034700</td>\n",
       "      <td>NaN</td>\n",
       "      <td>NaN</td>\n",
       "      <td>True</td>\n",
       "      <td>False</td>\n",
       "      <td>False</td>\n",
       "      <td>False</td>\n",
       "      <td>False</td>\n",
       "      <td>NaN</td>\n",
       "      <td>amastin_surface_glycoprotein_-_putative</td>\n",
       "      <td>[1263977, 1267600]</td>\n",
       "    </tr>\n",
       "    <tr>\n",
       "      <th>1575</th>\n",
       "      <td>rejected_noCDS_c34.5790BZ</td>\n",
       "      <td>LinJ.34</td>\n",
       "      <td>1269875</td>\n",
       "      <td>1273542</td>\n",
       "      <td>+</td>\n",
       "      <td>LINF_340034800</td>\n",
       "      <td>NaN</td>\n",
       "      <td>NaN</td>\n",
       "      <td>True</td>\n",
       "      <td>False</td>\n",
       "      <td>False</td>\n",
       "      <td>False</td>\n",
       "      <td>False</td>\n",
       "      <td>NaN</td>\n",
       "      <td>amastin_surface_glycoprotein</td>\n",
       "      <td>[1269875, 1273542]</td>\n",
       "    </tr>\n",
       "    <tr>\n",
       "      <th>1577</th>\n",
       "      <td>rejected_noCDS_c34.5800CA</td>\n",
       "      <td>LinJ.34</td>\n",
       "      <td>1269875</td>\n",
       "      <td>1273542</td>\n",
       "      <td>+</td>\n",
       "      <td>LINF_340034800</td>\n",
       "      <td>NaN</td>\n",
       "      <td>NaN</td>\n",
       "      <td>True</td>\n",
       "      <td>False</td>\n",
       "      <td>False</td>\n",
       "      <td>False</td>\n",
       "      <td>False</td>\n",
       "      <td>NaN</td>\n",
       "      <td>amastin_surface_glycoprotein</td>\n",
       "      <td>[1269875, 1273542]</td>\n",
       "    </tr>\n",
       "    <tr>\n",
       "      <th>1583</th>\n",
       "      <td>rejected_noCDS_c34.5820BY</td>\n",
       "      <td>LinJ.34</td>\n",
       "      <td>1275817</td>\n",
       "      <td>1279464</td>\n",
       "      <td>+</td>\n",
       "      <td>LINF_340034900</td>\n",
       "      <td>NaN</td>\n",
       "      <td>NaN</td>\n",
       "      <td>True</td>\n",
       "      <td>False</td>\n",
       "      <td>False</td>\n",
       "      <td>False</td>\n",
       "      <td>False</td>\n",
       "      <td>NaN</td>\n",
       "      <td>amastin_surface_glycoprotein_-_putative</td>\n",
       "      <td>[1275817, 1279464]</td>\n",
       "    </tr>\n",
       "    <tr>\n",
       "      <th>1585</th>\n",
       "      <td>rejected_noCDS_c34.5830BZ</td>\n",
       "      <td>LinJ.34</td>\n",
       "      <td>1275817</td>\n",
       "      <td>1279464</td>\n",
       "      <td>+</td>\n",
       "      <td>LINF_340034900</td>\n",
       "      <td>NaN</td>\n",
       "      <td>NaN</td>\n",
       "      <td>True</td>\n",
       "      <td>False</td>\n",
       "      <td>False</td>\n",
       "      <td>False</td>\n",
       "      <td>False</td>\n",
       "      <td>NaN</td>\n",
       "      <td>amastin_surface_glycoprotein_-_putative</td>\n",
       "      <td>[1275817, 1279464]</td>\n",
       "    </tr>\n",
       "    <tr>\n",
       "      <th>1587</th>\n",
       "      <td>rejected_noCDS_c34.5840CA</td>\n",
       "      <td>LinJ.34</td>\n",
       "      <td>1275817</td>\n",
       "      <td>1279464</td>\n",
       "      <td>+</td>\n",
       "      <td>LINF_340034900</td>\n",
       "      <td>NaN</td>\n",
       "      <td>NaN</td>\n",
       "      <td>True</td>\n",
       "      <td>False</td>\n",
       "      <td>False</td>\n",
       "      <td>False</td>\n",
       "      <td>False</td>\n",
       "      <td>NaN</td>\n",
       "      <td>amastin_surface_glycoprotein_-_putative</td>\n",
       "      <td>[1275817, 1279464]</td>\n",
       "    </tr>\n",
       "  </tbody>\n",
       "</table>\n",
       "</div>"
      ]
     },
     "execution_count": 19,
     "metadata": {},
     "output_type": "execute_result"
    }
   ],
   "execution_count": 19
  },
  {
   "metadata": {},
   "cell_type": "markdown",
   "source": "Since whe checked that these elements al from the repetitive elements \"amastin\", let's delete them"
  },
  {
   "metadata": {
    "ExecuteTime": {
     "end_time": "2024-10-07T19:35:42.667698Z",
     "start_time": "2024-10-07T19:35:42.663909Z"
    }
   },
   "cell_type": "code",
   "source": [
    "# Now let's take the all the elements with the same \"neg_name\" as `filter_data`\n",
    "filter_data = neg_filtered[neg_filtered['neg_name'].isin(filter_data['neg_name'])]\n",
    "checking_data(filter_data)"
   ],
   "outputs": [
    {
     "name": "stdout",
     "output_type": "stream",
     "text": [
      "Shape of the data frame is: (141, 16)\n",
      "Number of unique values in column 'neg_name': 43 \n"
     ]
    }
   ],
   "execution_count": 20
  },
  {
   "metadata": {
    "ExecuteTime": {
     "end_time": "2024-10-07T19:35:43.000139Z",
     "start_time": "2024-10-07T19:35:42.817989Z"
    }
   },
   "cell_type": "code",
   "source": [
    "# Let's remove them from `neg_filtered`\n",
    "neg_filtered = neg_filtered[~neg_filtered['neg_name'].isin(filter_data['neg_name'])]\n",
    "checking_data(neg_filtered)\n",
    "group_and_count(neg_filtered, \"neg_name\")"
   ],
   "outputs": [
    {
     "name": "stdout",
     "output_type": "stream",
     "text": [
      "Shape of the data frame is: (1225, 16)\n",
      "Number of unique values in column 'neg_name': 454 \n",
      "{'gene': 454, 'transcript': 454, '5utr': 25, '3utr': 229, 'CDS': 4}\n"
     ]
    },
    {
     "data": {
      "text/plain": [
       "                                                 notes  count\n",
       "0                                                  NaN    452\n",
       "1                                  glucose_transporter      9\n",
       "2                      UDP-galactose_transporter|LPG5A      7\n",
       "3               Tripartite_attachment_complex_40|TAC40      6\n",
       "4         phosphoglycan_beta_1-3_galactosyltransferase      5\n",
       "..                                                 ...    ...\n",
       "182               Haloacid_dehalogenase-like_hydrolase      1\n",
       "183  protein-l-isoaspartate_o-methyltransferase_-_p...      1\n",
       "184                 2′-O-ribose_methyltransferase|MTr1      1\n",
       "185           mitochondrial_carrier_protein_-_putative      1\n",
       "186            adaptin_complex_1_subunit|beta_adaptin       1\n",
       "\n",
       "[187 rows x 2 columns]"
      ],
      "text/html": [
       "<div>\n",
       "<style scoped>\n",
       "    .dataframe tbody tr th:only-of-type {\n",
       "        vertical-align: middle;\n",
       "    }\n",
       "\n",
       "    .dataframe tbody tr th {\n",
       "        vertical-align: top;\n",
       "    }\n",
       "\n",
       "    .dataframe thead th {\n",
       "        text-align: right;\n",
       "    }\n",
       "</style>\n",
       "<table border=\"1\" class=\"dataframe\">\n",
       "  <thead>\n",
       "    <tr style=\"text-align: right;\">\n",
       "      <th></th>\n",
       "      <th>notes</th>\n",
       "      <th>count</th>\n",
       "    </tr>\n",
       "  </thead>\n",
       "  <tbody>\n",
       "    <tr>\n",
       "      <th>0</th>\n",
       "      <td>NaN</td>\n",
       "      <td>452</td>\n",
       "    </tr>\n",
       "    <tr>\n",
       "      <th>1</th>\n",
       "      <td>glucose_transporter</td>\n",
       "      <td>9</td>\n",
       "    </tr>\n",
       "    <tr>\n",
       "      <th>2</th>\n",
       "      <td>UDP-galactose_transporter|LPG5A</td>\n",
       "      <td>7</td>\n",
       "    </tr>\n",
       "    <tr>\n",
       "      <th>3</th>\n",
       "      <td>Tripartite_attachment_complex_40|TAC40</td>\n",
       "      <td>6</td>\n",
       "    </tr>\n",
       "    <tr>\n",
       "      <th>4</th>\n",
       "      <td>phosphoglycan_beta_1-3_galactosyltransferase</td>\n",
       "      <td>5</td>\n",
       "    </tr>\n",
       "    <tr>\n",
       "      <th>...</th>\n",
       "      <td>...</td>\n",
       "      <td>...</td>\n",
       "    </tr>\n",
       "    <tr>\n",
       "      <th>182</th>\n",
       "      <td>Haloacid_dehalogenase-like_hydrolase</td>\n",
       "      <td>1</td>\n",
       "    </tr>\n",
       "    <tr>\n",
       "      <th>183</th>\n",
       "      <td>protein-l-isoaspartate_o-methyltransferase_-_p...</td>\n",
       "      <td>1</td>\n",
       "    </tr>\n",
       "    <tr>\n",
       "      <th>184</th>\n",
       "      <td>2′-O-ribose_methyltransferase|MTr1</td>\n",
       "      <td>1</td>\n",
       "    </tr>\n",
       "    <tr>\n",
       "      <th>185</th>\n",
       "      <td>mitochondrial_carrier_protein_-_putative</td>\n",
       "      <td>1</td>\n",
       "    </tr>\n",
       "    <tr>\n",
       "      <th>186</th>\n",
       "      <td>adaptin_complex_1_subunit|beta_adaptin</td>\n",
       "      <td>1</td>\n",
       "    </tr>\n",
       "  </tbody>\n",
       "</table>\n",
       "<p>187 rows × 2 columns</p>\n",
       "</div>"
      ]
     },
     "execution_count": 21,
     "metadata": {},
     "output_type": "execute_result"
    }
   ],
   "execution_count": 21
  },
  {
   "metadata": {},
   "cell_type": "markdown",
   "source": "### Checking: glucose"
  },
  {
   "metadata": {
    "ExecuteTime": {
     "end_time": "2024-10-07T19:35:44.154907Z",
     "start_time": "2024-10-07T19:35:44.150110Z"
    }
   },
   "cell_type": "code",
   "source": [
    "filter_data = search_string(neg_filtered, \"glucose\")\n",
    "filter_data['notes'].value_counts()"
   ],
   "outputs": [
    {
     "name": "stdout",
     "output_type": "stream",
     "text": [
      "The of filtered data: (18, 16)\n",
      "The unique values in column 'neg_name': 9\n"
     ]
    },
    {
     "data": {
      "text/plain": [
       "notes\n",
       "glucose_transporter    18\n",
       "Name: count, dtype: int64"
      ]
     },
     "execution_count": 22,
     "metadata": {},
     "output_type": "execute_result"
    }
   ],
   "execution_count": 22
  },
  {
   "metadata": {
    "ExecuteTime": {
     "end_time": "2024-10-07T19:35:44.517003Z",
     "start_time": "2024-10-07T19:35:44.510050Z"
    }
   },
   "cell_type": "code",
   "source": "filter_data[filter_data[\"gene\"] == True]",
   "outputs": [
    {
     "data": {
      "text/plain": [
       "                       neg_name    chrom    start      end strand  \\\n",
       "1807  rejected_noCDS_c36.6650CS  LinJ.36  2456799  2460093      -   \n",
       "1810  rejected_noCDS_c36.6660CS  LinJ.36  2460371  2463651      -   \n",
       "1813  rejected_noCDS_c36.6670CS  LinJ.36  2463918  2467210      -   \n",
       "1816  rejected_noCDS_c36.6680CS  LinJ.36  2467477  2470767      -   \n",
       "1819  rejected_noCDS_c36.6690CS  LinJ.36  2471045  2474323      -   \n",
       "1822  rejected_noCDS_c36.6700CS  LinJ.36  2474601  2477880      -   \n",
       "1825  rejected_noCDS_c36.6710CS  LinJ.36  2478158  2481440      -   \n",
       "1828  rejected_noCDS_c36.6720CS  LinJ.36  2481878  2486596      -   \n",
       "1831    rejected_noCDS_c36.6730  LinJ.36  2481878  2486596      -   \n",
       "\n",
       "             gene_id transcript_id parent_id  gene  transcript    CDS   3utr  \\\n",
       "1807  LINF_360072900           NaN       NaN  True       False  False  False   \n",
       "1810  LINF_360073000           NaN       NaN  True       False  False  False   \n",
       "1813  LINF_360073100           NaN       NaN  True       False  False  False   \n",
       "1816  LINF_360073200           NaN       NaN  True       False  False  False   \n",
       "1819  LINF_360073300           NaN       NaN  True       False  False  False   \n",
       "1822  LINF_360073400           NaN       NaN  True       False  False  False   \n",
       "1825  LINF_360073500           NaN       NaN  True       False  False  False   \n",
       "1828  LINF_360073600           NaN       NaN  True       False  False  False   \n",
       "1831  LINF_360073600           NaN       NaN  True       False  False  False   \n",
       "\n",
       "       5utr pseudogen                notes            interval  \n",
       "1807  False       NaN  glucose_transporter  [2456799, 2460093]  \n",
       "1810  False       NaN  glucose_transporter  [2460371, 2463651]  \n",
       "1813  False       NaN  glucose_transporter  [2463918, 2467210]  \n",
       "1816  False       NaN  glucose_transporter  [2467477, 2470767]  \n",
       "1819  False       NaN  glucose_transporter  [2471045, 2474323]  \n",
       "1822  False       NaN  glucose_transporter  [2474601, 2477880]  \n",
       "1825  False       NaN  glucose_transporter  [2478158, 2481440]  \n",
       "1828  False       NaN  glucose_transporter  [2481878, 2486596]  \n",
       "1831  False       NaN  glucose_transporter  [2481878, 2486596]  "
      ],
      "text/html": [
       "<div>\n",
       "<style scoped>\n",
       "    .dataframe tbody tr th:only-of-type {\n",
       "        vertical-align: middle;\n",
       "    }\n",
       "\n",
       "    .dataframe tbody tr th {\n",
       "        vertical-align: top;\n",
       "    }\n",
       "\n",
       "    .dataframe thead th {\n",
       "        text-align: right;\n",
       "    }\n",
       "</style>\n",
       "<table border=\"1\" class=\"dataframe\">\n",
       "  <thead>\n",
       "    <tr style=\"text-align: right;\">\n",
       "      <th></th>\n",
       "      <th>neg_name</th>\n",
       "      <th>chrom</th>\n",
       "      <th>start</th>\n",
       "      <th>end</th>\n",
       "      <th>strand</th>\n",
       "      <th>gene_id</th>\n",
       "      <th>transcript_id</th>\n",
       "      <th>parent_id</th>\n",
       "      <th>gene</th>\n",
       "      <th>transcript</th>\n",
       "      <th>CDS</th>\n",
       "      <th>3utr</th>\n",
       "      <th>5utr</th>\n",
       "      <th>pseudogen</th>\n",
       "      <th>notes</th>\n",
       "      <th>interval</th>\n",
       "    </tr>\n",
       "  </thead>\n",
       "  <tbody>\n",
       "    <tr>\n",
       "      <th>1807</th>\n",
       "      <td>rejected_noCDS_c36.6650CS</td>\n",
       "      <td>LinJ.36</td>\n",
       "      <td>2456799</td>\n",
       "      <td>2460093</td>\n",
       "      <td>-</td>\n",
       "      <td>LINF_360072900</td>\n",
       "      <td>NaN</td>\n",
       "      <td>NaN</td>\n",
       "      <td>True</td>\n",
       "      <td>False</td>\n",
       "      <td>False</td>\n",
       "      <td>False</td>\n",
       "      <td>False</td>\n",
       "      <td>NaN</td>\n",
       "      <td>glucose_transporter</td>\n",
       "      <td>[2456799, 2460093]</td>\n",
       "    </tr>\n",
       "    <tr>\n",
       "      <th>1810</th>\n",
       "      <td>rejected_noCDS_c36.6660CS</td>\n",
       "      <td>LinJ.36</td>\n",
       "      <td>2460371</td>\n",
       "      <td>2463651</td>\n",
       "      <td>-</td>\n",
       "      <td>LINF_360073000</td>\n",
       "      <td>NaN</td>\n",
       "      <td>NaN</td>\n",
       "      <td>True</td>\n",
       "      <td>False</td>\n",
       "      <td>False</td>\n",
       "      <td>False</td>\n",
       "      <td>False</td>\n",
       "      <td>NaN</td>\n",
       "      <td>glucose_transporter</td>\n",
       "      <td>[2460371, 2463651]</td>\n",
       "    </tr>\n",
       "    <tr>\n",
       "      <th>1813</th>\n",
       "      <td>rejected_noCDS_c36.6670CS</td>\n",
       "      <td>LinJ.36</td>\n",
       "      <td>2463918</td>\n",
       "      <td>2467210</td>\n",
       "      <td>-</td>\n",
       "      <td>LINF_360073100</td>\n",
       "      <td>NaN</td>\n",
       "      <td>NaN</td>\n",
       "      <td>True</td>\n",
       "      <td>False</td>\n",
       "      <td>False</td>\n",
       "      <td>False</td>\n",
       "      <td>False</td>\n",
       "      <td>NaN</td>\n",
       "      <td>glucose_transporter</td>\n",
       "      <td>[2463918, 2467210]</td>\n",
       "    </tr>\n",
       "    <tr>\n",
       "      <th>1816</th>\n",
       "      <td>rejected_noCDS_c36.6680CS</td>\n",
       "      <td>LinJ.36</td>\n",
       "      <td>2467477</td>\n",
       "      <td>2470767</td>\n",
       "      <td>-</td>\n",
       "      <td>LINF_360073200</td>\n",
       "      <td>NaN</td>\n",
       "      <td>NaN</td>\n",
       "      <td>True</td>\n",
       "      <td>False</td>\n",
       "      <td>False</td>\n",
       "      <td>False</td>\n",
       "      <td>False</td>\n",
       "      <td>NaN</td>\n",
       "      <td>glucose_transporter</td>\n",
       "      <td>[2467477, 2470767]</td>\n",
       "    </tr>\n",
       "    <tr>\n",
       "      <th>1819</th>\n",
       "      <td>rejected_noCDS_c36.6690CS</td>\n",
       "      <td>LinJ.36</td>\n",
       "      <td>2471045</td>\n",
       "      <td>2474323</td>\n",
       "      <td>-</td>\n",
       "      <td>LINF_360073300</td>\n",
       "      <td>NaN</td>\n",
       "      <td>NaN</td>\n",
       "      <td>True</td>\n",
       "      <td>False</td>\n",
       "      <td>False</td>\n",
       "      <td>False</td>\n",
       "      <td>False</td>\n",
       "      <td>NaN</td>\n",
       "      <td>glucose_transporter</td>\n",
       "      <td>[2471045, 2474323]</td>\n",
       "    </tr>\n",
       "    <tr>\n",
       "      <th>1822</th>\n",
       "      <td>rejected_noCDS_c36.6700CS</td>\n",
       "      <td>LinJ.36</td>\n",
       "      <td>2474601</td>\n",
       "      <td>2477880</td>\n",
       "      <td>-</td>\n",
       "      <td>LINF_360073400</td>\n",
       "      <td>NaN</td>\n",
       "      <td>NaN</td>\n",
       "      <td>True</td>\n",
       "      <td>False</td>\n",
       "      <td>False</td>\n",
       "      <td>False</td>\n",
       "      <td>False</td>\n",
       "      <td>NaN</td>\n",
       "      <td>glucose_transporter</td>\n",
       "      <td>[2474601, 2477880]</td>\n",
       "    </tr>\n",
       "    <tr>\n",
       "      <th>1825</th>\n",
       "      <td>rejected_noCDS_c36.6710CS</td>\n",
       "      <td>LinJ.36</td>\n",
       "      <td>2478158</td>\n",
       "      <td>2481440</td>\n",
       "      <td>-</td>\n",
       "      <td>LINF_360073500</td>\n",
       "      <td>NaN</td>\n",
       "      <td>NaN</td>\n",
       "      <td>True</td>\n",
       "      <td>False</td>\n",
       "      <td>False</td>\n",
       "      <td>False</td>\n",
       "      <td>False</td>\n",
       "      <td>NaN</td>\n",
       "      <td>glucose_transporter</td>\n",
       "      <td>[2478158, 2481440]</td>\n",
       "    </tr>\n",
       "    <tr>\n",
       "      <th>1828</th>\n",
       "      <td>rejected_noCDS_c36.6720CS</td>\n",
       "      <td>LinJ.36</td>\n",
       "      <td>2481878</td>\n",
       "      <td>2486596</td>\n",
       "      <td>-</td>\n",
       "      <td>LINF_360073600</td>\n",
       "      <td>NaN</td>\n",
       "      <td>NaN</td>\n",
       "      <td>True</td>\n",
       "      <td>False</td>\n",
       "      <td>False</td>\n",
       "      <td>False</td>\n",
       "      <td>False</td>\n",
       "      <td>NaN</td>\n",
       "      <td>glucose_transporter</td>\n",
       "      <td>[2481878, 2486596]</td>\n",
       "    </tr>\n",
       "    <tr>\n",
       "      <th>1831</th>\n",
       "      <td>rejected_noCDS_c36.6730</td>\n",
       "      <td>LinJ.36</td>\n",
       "      <td>2481878</td>\n",
       "      <td>2486596</td>\n",
       "      <td>-</td>\n",
       "      <td>LINF_360073600</td>\n",
       "      <td>NaN</td>\n",
       "      <td>NaN</td>\n",
       "      <td>True</td>\n",
       "      <td>False</td>\n",
       "      <td>False</td>\n",
       "      <td>False</td>\n",
       "      <td>False</td>\n",
       "      <td>NaN</td>\n",
       "      <td>glucose_transporter</td>\n",
       "      <td>[2481878, 2486596]</td>\n",
       "    </tr>\n",
       "  </tbody>\n",
       "</table>\n",
       "</div>"
      ]
     },
     "execution_count": 23,
     "metadata": {},
     "output_type": "execute_result"
    }
   ],
   "execution_count": 23
  },
  {
   "metadata": {},
   "cell_type": "markdown",
   "source": "Here is all the CS family and 6730. Let's remove them"
  },
  {
   "metadata": {
    "ExecuteTime": {
     "end_time": "2024-10-07T19:35:44.661219Z",
     "start_time": "2024-10-07T19:35:44.659085Z"
    }
   },
   "cell_type": "code",
   "source": [
    "# Take all elements with those names\n",
    "filter_data = neg_filtered[neg_filtered['neg_name'].isin(filter_data['neg_name'])]\n",
    "checking_data(filter_data)"
   ],
   "outputs": [
    {
     "name": "stdout",
     "output_type": "stream",
     "text": [
      "Shape of the data frame is: (27, 16)\n",
      "Number of unique values in column 'neg_name': 9 \n"
     ]
    }
   ],
   "execution_count": 24
  },
  {
   "metadata": {
    "ExecuteTime": {
     "end_time": "2024-10-07T19:35:44.972997Z",
     "start_time": "2024-10-07T19:35:44.823517Z"
    }
   },
   "cell_type": "code",
   "source": [
    "# Let's remove them from `neg_filtered`\n",
    "neg_filtered = neg_filtered[~neg_filtered['neg_name'].isin(filter_data['neg_name'])]\n",
    "checking_data(neg_filtered)\n",
    "group_and_count(neg_filtered, \"neg_name\")"
   ],
   "outputs": [
    {
     "name": "stdout",
     "output_type": "stream",
     "text": [
      "Shape of the data frame is: (1198, 16)\n",
      "Number of unique values in column 'neg_name': 445 \n",
      "{'gene': 445, 'transcript': 445, '5utr': 25, '3utr': 220, 'CDS': 4}\n"
     ]
    },
    {
     "data": {
      "text/plain": [
       "                                                 notes  count\n",
       "0                                                  NaN    443\n",
       "1                      UDP-galactose_transporter|LPG5A      7\n",
       "2               Tripartite_attachment_complex_40|TAC40      6\n",
       "3         phosphoglycan_beta_1-3_galactosyltransferase      5\n",
       "4      Ketoacyl-CoA_synthase|Fatty_acid_elongase|ELO-3      5\n",
       "..                                                 ...    ...\n",
       "181               Haloacid_dehalogenase-like_hydrolase      1\n",
       "182  protein-l-isoaspartate_o-methyltransferase_-_p...      1\n",
       "183                 2′-O-ribose_methyltransferase|MTr1      1\n",
       "184           mitochondrial_carrier_protein_-_putative      1\n",
       "185            adaptin_complex_1_subunit|beta_adaptin       1\n",
       "\n",
       "[186 rows x 2 columns]"
      ],
      "text/html": [
       "<div>\n",
       "<style scoped>\n",
       "    .dataframe tbody tr th:only-of-type {\n",
       "        vertical-align: middle;\n",
       "    }\n",
       "\n",
       "    .dataframe tbody tr th {\n",
       "        vertical-align: top;\n",
       "    }\n",
       "\n",
       "    .dataframe thead th {\n",
       "        text-align: right;\n",
       "    }\n",
       "</style>\n",
       "<table border=\"1\" class=\"dataframe\">\n",
       "  <thead>\n",
       "    <tr style=\"text-align: right;\">\n",
       "      <th></th>\n",
       "      <th>notes</th>\n",
       "      <th>count</th>\n",
       "    </tr>\n",
       "  </thead>\n",
       "  <tbody>\n",
       "    <tr>\n",
       "      <th>0</th>\n",
       "      <td>NaN</td>\n",
       "      <td>443</td>\n",
       "    </tr>\n",
       "    <tr>\n",
       "      <th>1</th>\n",
       "      <td>UDP-galactose_transporter|LPG5A</td>\n",
       "      <td>7</td>\n",
       "    </tr>\n",
       "    <tr>\n",
       "      <th>2</th>\n",
       "      <td>Tripartite_attachment_complex_40|TAC40</td>\n",
       "      <td>6</td>\n",
       "    </tr>\n",
       "    <tr>\n",
       "      <th>3</th>\n",
       "      <td>phosphoglycan_beta_1-3_galactosyltransferase</td>\n",
       "      <td>5</td>\n",
       "    </tr>\n",
       "    <tr>\n",
       "      <th>4</th>\n",
       "      <td>Ketoacyl-CoA_synthase|Fatty_acid_elongase|ELO-3</td>\n",
       "      <td>5</td>\n",
       "    </tr>\n",
       "    <tr>\n",
       "      <th>...</th>\n",
       "      <td>...</td>\n",
       "      <td>...</td>\n",
       "    </tr>\n",
       "    <tr>\n",
       "      <th>181</th>\n",
       "      <td>Haloacid_dehalogenase-like_hydrolase</td>\n",
       "      <td>1</td>\n",
       "    </tr>\n",
       "    <tr>\n",
       "      <th>182</th>\n",
       "      <td>protein-l-isoaspartate_o-methyltransferase_-_p...</td>\n",
       "      <td>1</td>\n",
       "    </tr>\n",
       "    <tr>\n",
       "      <th>183</th>\n",
       "      <td>2′-O-ribose_methyltransferase|MTr1</td>\n",
       "      <td>1</td>\n",
       "    </tr>\n",
       "    <tr>\n",
       "      <th>184</th>\n",
       "      <td>mitochondrial_carrier_protein_-_putative</td>\n",
       "      <td>1</td>\n",
       "    </tr>\n",
       "    <tr>\n",
       "      <th>185</th>\n",
       "      <td>adaptin_complex_1_subunit|beta_adaptin</td>\n",
       "      <td>1</td>\n",
       "    </tr>\n",
       "  </tbody>\n",
       "</table>\n",
       "<p>186 rows × 2 columns</p>\n",
       "</div>"
      ]
     },
     "execution_count": 25,
     "metadata": {},
     "output_type": "execute_result"
    }
   ],
   "execution_count": 25
  },
  {
   "metadata": {},
   "cell_type": "markdown",
   "source": "### Checking: galactose"
  },
  {
   "metadata": {
    "ExecuteTime": {
     "end_time": "2024-10-07T19:35:45.220857Z",
     "start_time": "2024-10-07T19:35:45.216070Z"
    }
   },
   "cell_type": "code",
   "source": [
    "filter_data = search_string(neg_filtered, \"galactose\")\n",
    "filter_data['notes'].value_counts()"
   ],
   "outputs": [
    {
     "name": "stdout",
     "output_type": "stream",
     "text": [
      "The of filtered data: (16, 16)\n",
      "The unique values in column 'neg_name': 7\n"
     ]
    },
    {
     "data": {
      "text/plain": [
       "notes\n",
       "UDP-galactose_transporter|LPG5A    16\n",
       "Name: count, dtype: int64"
      ]
     },
     "execution_count": 26,
     "metadata": {},
     "output_type": "execute_result"
    }
   ],
   "execution_count": 26
  },
  {
   "metadata": {
    "ExecuteTime": {
     "end_time": "2024-10-07T19:35:45.527326Z",
     "start_time": "2024-10-07T19:35:45.520310Z"
    }
   },
   "cell_type": "code",
   "source": "filter_data[filter_data[\"gene\"] == True]",
   "outputs": [
    {
     "data": {
      "text/plain": [
       "                      neg_name    chrom   start     end strand  \\\n",
       "727    rejected_noCDS_c24.2720  LinJ.24  110205  117720      +   \n",
       "729    rejected_noCDS_c24.2730  LinJ.24  110205  117720      +   \n",
       "731    rejected_noCDS_c24.2740  LinJ.24  110205  117720      +   \n",
       "733    rejected_noCDS_c24.2750  LinJ.24  110205  117720      +   \n",
       "735    rejected_noCDS_c24.2760  LinJ.24  110205  117720      +   \n",
       "737  rejected_noCDS_c24.2710AJ  LinJ.24  110205  117720      +   \n",
       "740  rejected_noCDS_c24.2770AJ  LinJ.24  110205  117720      +   \n",
       "748  rejected_noCDS_c24.2770AJ  LinJ.24  117721  122337      +   \n",
       "\n",
       "            gene_id transcript_id parent_id  gene  transcript    CDS   3utr  \\\n",
       "727  LINF_240008300           NaN       NaN  True       False  False  False   \n",
       "729  LINF_240008300           NaN       NaN  True       False  False  False   \n",
       "731  LINF_240008300           NaN       NaN  True       False  False  False   \n",
       "733  LINF_240008300           NaN       NaN  True       False  False  False   \n",
       "735  LINF_240008300           NaN       NaN  True       False  False  False   \n",
       "737  LINF_240008300           NaN       NaN  True       False  False  False   \n",
       "740  LINF_240008300           NaN       NaN  True       False  False  False   \n",
       "748  LINF_240008400           NaN       NaN  True       False  False  False   \n",
       "\n",
       "      5utr pseudogen                            notes          interval  \n",
       "727  False       NaN  UDP-galactose_transporter|LPG5A  [110205, 117720]  \n",
       "729  False       NaN  UDP-galactose_transporter|LPG5A  [110205, 117720]  \n",
       "731  False       NaN  UDP-galactose_transporter|LPG5A  [110205, 117720]  \n",
       "733  False       NaN  UDP-galactose_transporter|LPG5A  [110205, 117720]  \n",
       "735  False       NaN  UDP-galactose_transporter|LPG5A  [110205, 117720]  \n",
       "737  False       NaN  UDP-galactose_transporter|LPG5A  [110205, 117720]  \n",
       "740  False       NaN  UDP-galactose_transporter|LPG5A  [110205, 117720]  \n",
       "748  False       NaN  UDP-galactose_transporter|LPG5A  [117721, 122337]  "
      ],
      "text/html": [
       "<div>\n",
       "<style scoped>\n",
       "    .dataframe tbody tr th:only-of-type {\n",
       "        vertical-align: middle;\n",
       "    }\n",
       "\n",
       "    .dataframe tbody tr th {\n",
       "        vertical-align: top;\n",
       "    }\n",
       "\n",
       "    .dataframe thead th {\n",
       "        text-align: right;\n",
       "    }\n",
       "</style>\n",
       "<table border=\"1\" class=\"dataframe\">\n",
       "  <thead>\n",
       "    <tr style=\"text-align: right;\">\n",
       "      <th></th>\n",
       "      <th>neg_name</th>\n",
       "      <th>chrom</th>\n",
       "      <th>start</th>\n",
       "      <th>end</th>\n",
       "      <th>strand</th>\n",
       "      <th>gene_id</th>\n",
       "      <th>transcript_id</th>\n",
       "      <th>parent_id</th>\n",
       "      <th>gene</th>\n",
       "      <th>transcript</th>\n",
       "      <th>CDS</th>\n",
       "      <th>3utr</th>\n",
       "      <th>5utr</th>\n",
       "      <th>pseudogen</th>\n",
       "      <th>notes</th>\n",
       "      <th>interval</th>\n",
       "    </tr>\n",
       "  </thead>\n",
       "  <tbody>\n",
       "    <tr>\n",
       "      <th>727</th>\n",
       "      <td>rejected_noCDS_c24.2720</td>\n",
       "      <td>LinJ.24</td>\n",
       "      <td>110205</td>\n",
       "      <td>117720</td>\n",
       "      <td>+</td>\n",
       "      <td>LINF_240008300</td>\n",
       "      <td>NaN</td>\n",
       "      <td>NaN</td>\n",
       "      <td>True</td>\n",
       "      <td>False</td>\n",
       "      <td>False</td>\n",
       "      <td>False</td>\n",
       "      <td>False</td>\n",
       "      <td>NaN</td>\n",
       "      <td>UDP-galactose_transporter|LPG5A</td>\n",
       "      <td>[110205, 117720]</td>\n",
       "    </tr>\n",
       "    <tr>\n",
       "      <th>729</th>\n",
       "      <td>rejected_noCDS_c24.2730</td>\n",
       "      <td>LinJ.24</td>\n",
       "      <td>110205</td>\n",
       "      <td>117720</td>\n",
       "      <td>+</td>\n",
       "      <td>LINF_240008300</td>\n",
       "      <td>NaN</td>\n",
       "      <td>NaN</td>\n",
       "      <td>True</td>\n",
       "      <td>False</td>\n",
       "      <td>False</td>\n",
       "      <td>False</td>\n",
       "      <td>False</td>\n",
       "      <td>NaN</td>\n",
       "      <td>UDP-galactose_transporter|LPG5A</td>\n",
       "      <td>[110205, 117720]</td>\n",
       "    </tr>\n",
       "    <tr>\n",
       "      <th>731</th>\n",
       "      <td>rejected_noCDS_c24.2740</td>\n",
       "      <td>LinJ.24</td>\n",
       "      <td>110205</td>\n",
       "      <td>117720</td>\n",
       "      <td>+</td>\n",
       "      <td>LINF_240008300</td>\n",
       "      <td>NaN</td>\n",
       "      <td>NaN</td>\n",
       "      <td>True</td>\n",
       "      <td>False</td>\n",
       "      <td>False</td>\n",
       "      <td>False</td>\n",
       "      <td>False</td>\n",
       "      <td>NaN</td>\n",
       "      <td>UDP-galactose_transporter|LPG5A</td>\n",
       "      <td>[110205, 117720]</td>\n",
       "    </tr>\n",
       "    <tr>\n",
       "      <th>733</th>\n",
       "      <td>rejected_noCDS_c24.2750</td>\n",
       "      <td>LinJ.24</td>\n",
       "      <td>110205</td>\n",
       "      <td>117720</td>\n",
       "      <td>+</td>\n",
       "      <td>LINF_240008300</td>\n",
       "      <td>NaN</td>\n",
       "      <td>NaN</td>\n",
       "      <td>True</td>\n",
       "      <td>False</td>\n",
       "      <td>False</td>\n",
       "      <td>False</td>\n",
       "      <td>False</td>\n",
       "      <td>NaN</td>\n",
       "      <td>UDP-galactose_transporter|LPG5A</td>\n",
       "      <td>[110205, 117720]</td>\n",
       "    </tr>\n",
       "    <tr>\n",
       "      <th>735</th>\n",
       "      <td>rejected_noCDS_c24.2760</td>\n",
       "      <td>LinJ.24</td>\n",
       "      <td>110205</td>\n",
       "      <td>117720</td>\n",
       "      <td>+</td>\n",
       "      <td>LINF_240008300</td>\n",
       "      <td>NaN</td>\n",
       "      <td>NaN</td>\n",
       "      <td>True</td>\n",
       "      <td>False</td>\n",
       "      <td>False</td>\n",
       "      <td>False</td>\n",
       "      <td>False</td>\n",
       "      <td>NaN</td>\n",
       "      <td>UDP-galactose_transporter|LPG5A</td>\n",
       "      <td>[110205, 117720]</td>\n",
       "    </tr>\n",
       "    <tr>\n",
       "      <th>737</th>\n",
       "      <td>rejected_noCDS_c24.2710AJ</td>\n",
       "      <td>LinJ.24</td>\n",
       "      <td>110205</td>\n",
       "      <td>117720</td>\n",
       "      <td>+</td>\n",
       "      <td>LINF_240008300</td>\n",
       "      <td>NaN</td>\n",
       "      <td>NaN</td>\n",
       "      <td>True</td>\n",
       "      <td>False</td>\n",
       "      <td>False</td>\n",
       "      <td>False</td>\n",
       "      <td>False</td>\n",
       "      <td>NaN</td>\n",
       "      <td>UDP-galactose_transporter|LPG5A</td>\n",
       "      <td>[110205, 117720]</td>\n",
       "    </tr>\n",
       "    <tr>\n",
       "      <th>740</th>\n",
       "      <td>rejected_noCDS_c24.2770AJ</td>\n",
       "      <td>LinJ.24</td>\n",
       "      <td>110205</td>\n",
       "      <td>117720</td>\n",
       "      <td>+</td>\n",
       "      <td>LINF_240008300</td>\n",
       "      <td>NaN</td>\n",
       "      <td>NaN</td>\n",
       "      <td>True</td>\n",
       "      <td>False</td>\n",
       "      <td>False</td>\n",
       "      <td>False</td>\n",
       "      <td>False</td>\n",
       "      <td>NaN</td>\n",
       "      <td>UDP-galactose_transporter|LPG5A</td>\n",
       "      <td>[110205, 117720]</td>\n",
       "    </tr>\n",
       "    <tr>\n",
       "      <th>748</th>\n",
       "      <td>rejected_noCDS_c24.2770AJ</td>\n",
       "      <td>LinJ.24</td>\n",
       "      <td>117721</td>\n",
       "      <td>122337</td>\n",
       "      <td>+</td>\n",
       "      <td>LINF_240008400</td>\n",
       "      <td>NaN</td>\n",
       "      <td>NaN</td>\n",
       "      <td>True</td>\n",
       "      <td>False</td>\n",
       "      <td>False</td>\n",
       "      <td>False</td>\n",
       "      <td>False</td>\n",
       "      <td>NaN</td>\n",
       "      <td>UDP-galactose_transporter|LPG5A</td>\n",
       "      <td>[117721, 122337]</td>\n",
       "    </tr>\n",
       "  </tbody>\n",
       "</table>\n",
       "</div>"
      ]
     },
     "execution_count": 27,
     "metadata": {},
     "output_type": "execute_result"
    }
   ],
   "execution_count": 27
  },
  {
   "metadata": {
    "ExecuteTime": {
     "end_time": "2024-10-07T19:35:45.777565Z",
     "start_time": "2024-10-07T19:35:45.769351Z"
    }
   },
   "cell_type": "code",
   "source": [
    "# Check all elements in `neg_to_filter` that ends in \"number + J\" in \"neg_name\" column\n",
    "neg_to_filter[neg_to_filter['neg_name'].str.contains(r'\\d+AJ$', na=False)]"
   ],
   "outputs": [
    {
     "data": {
      "text/plain": [
       "                      neg_name    chrom   start     end strand  \\\n",
       "725  rejected_noCDS_c24.2710AJ  LinJ.24  108132  110204      +   \n",
       "726  rejected_noCDS_c24.2710AJ  LinJ.24  108132  110204      +   \n",
       "737  rejected_noCDS_c24.2710AJ  LinJ.24  110205  117720      +   \n",
       "738  rejected_noCDS_c24.2710AJ  LinJ.24  110205  117720      +   \n",
       "739  rejected_noCDS_c24.2710AJ  LinJ.24  110205  110267      +   \n",
       "740  rejected_noCDS_c24.2770AJ  LinJ.24  110205  117720      +   \n",
       "741  rejected_noCDS_c24.2770AJ  LinJ.24  110205  117720      +   \n",
       "747  rejected_noCDS_c24.2770AJ  LinJ.24  111675  117720      +   \n",
       "748  rejected_noCDS_c24.2770AJ  LinJ.24  117721  122337      +   \n",
       "749  rejected_noCDS_c24.2770AJ  LinJ.24  117721  122337      +   \n",
       "750  rejected_noCDS_c24.2770AJ  LinJ.24  117721  117783      +   \n",
       "754  rejected_noCDS_c24.2790AJ  LinJ.24  145556  151128      +   \n",
       "755  rejected_noCDS_c24.2790AJ  LinJ.24  145556  151128      +   \n",
       "756  rejected_noCDS_c24.2790AJ  LinJ.24  149748  151128      +   \n",
       "\n",
       "            gene_id    transcript_id        parent_id   gene  transcript  \\\n",
       "725  LINF_240008250              NaN              NaN   True       False   \n",
       "726             NaN  LINF_24T0008250   LINF_240008250  False        True   \n",
       "737  LINF_240008300              NaN              NaN   True       False   \n",
       "738             NaN  LINF_24T0008300   LINF_240008300  False        True   \n",
       "739             NaN              NaN  LINF_24T0008300  False       False   \n",
       "740  LINF_240008300              NaN              NaN   True       False   \n",
       "741             NaN  LINF_24T0008300   LINF_240008300  False        True   \n",
       "747             NaN              NaN  LINF_24T0008300  False       False   \n",
       "748  LINF_240008400              NaN              NaN   True       False   \n",
       "749             NaN  LINF_24T0008400   LINF_240008400  False        True   \n",
       "750             NaN              NaN  LINF_24T0008400  False       False   \n",
       "754  LINF_240009100              NaN              NaN   True       False   \n",
       "755             NaN  LINF_24T0009100   LINF_240009100  False        True   \n",
       "756             NaN              NaN  LINF_24T0009100  False       False   \n",
       "\n",
       "       CDS   3utr   5utr pseudogen                             notes  \\\n",
       "725  False  False  False       NaN                               NaN   \n",
       "726  False  False  False       NaN                               NaN   \n",
       "737  False  False  False       NaN   UDP-galactose_transporter|LPG5A   \n",
       "738  False  False  False       NaN   UDP-galactose_transporter|LPG5A   \n",
       "739  False  False   True       NaN                               NaN   \n",
       "740  False  False  False       NaN   UDP-galactose_transporter|LPG5A   \n",
       "741  False  False  False       NaN   UDP-galactose_transporter|LPG5A   \n",
       "747  False   True  False       NaN                               NaN   \n",
       "748  False  False  False       NaN   UDP-galactose_transporter|LPG5A   \n",
       "749  False  False  False       NaN   UDP-galactose_transporter|LPG5A   \n",
       "750  False  False   True       NaN                               NaN   \n",
       "754  False  False  False       NaN  hypothetical_protein_-_conserved   \n",
       "755  False  False  False       NaN  hypothetical_protein_-_conserved   \n",
       "756  False   True  False       NaN                               NaN   \n",
       "\n",
       "             interval  \n",
       "725  [108132, 110204]  \n",
       "726  [108132, 110204]  \n",
       "737  [110205, 117720]  \n",
       "738  [110205, 117720]  \n",
       "739  [110205, 110267]  \n",
       "740  [110205, 117720]  \n",
       "741  [110205, 117720]  \n",
       "747  [111675, 117720]  \n",
       "748  [117721, 122337]  \n",
       "749  [117721, 122337]  \n",
       "750  [117721, 117783]  \n",
       "754  [145556, 151128]  \n",
       "755  [145556, 151128]  \n",
       "756  [149748, 151128]  "
      ],
      "text/html": [
       "<div>\n",
       "<style scoped>\n",
       "    .dataframe tbody tr th:only-of-type {\n",
       "        vertical-align: middle;\n",
       "    }\n",
       "\n",
       "    .dataframe tbody tr th {\n",
       "        vertical-align: top;\n",
       "    }\n",
       "\n",
       "    .dataframe thead th {\n",
       "        text-align: right;\n",
       "    }\n",
       "</style>\n",
       "<table border=\"1\" class=\"dataframe\">\n",
       "  <thead>\n",
       "    <tr style=\"text-align: right;\">\n",
       "      <th></th>\n",
       "      <th>neg_name</th>\n",
       "      <th>chrom</th>\n",
       "      <th>start</th>\n",
       "      <th>end</th>\n",
       "      <th>strand</th>\n",
       "      <th>gene_id</th>\n",
       "      <th>transcript_id</th>\n",
       "      <th>parent_id</th>\n",
       "      <th>gene</th>\n",
       "      <th>transcript</th>\n",
       "      <th>CDS</th>\n",
       "      <th>3utr</th>\n",
       "      <th>5utr</th>\n",
       "      <th>pseudogen</th>\n",
       "      <th>notes</th>\n",
       "      <th>interval</th>\n",
       "    </tr>\n",
       "  </thead>\n",
       "  <tbody>\n",
       "    <tr>\n",
       "      <th>725</th>\n",
       "      <td>rejected_noCDS_c24.2710AJ</td>\n",
       "      <td>LinJ.24</td>\n",
       "      <td>108132</td>\n",
       "      <td>110204</td>\n",
       "      <td>+</td>\n",
       "      <td>LINF_240008250</td>\n",
       "      <td>NaN</td>\n",
       "      <td>NaN</td>\n",
       "      <td>True</td>\n",
       "      <td>False</td>\n",
       "      <td>False</td>\n",
       "      <td>False</td>\n",
       "      <td>False</td>\n",
       "      <td>NaN</td>\n",
       "      <td>NaN</td>\n",
       "      <td>[108132, 110204]</td>\n",
       "    </tr>\n",
       "    <tr>\n",
       "      <th>726</th>\n",
       "      <td>rejected_noCDS_c24.2710AJ</td>\n",
       "      <td>LinJ.24</td>\n",
       "      <td>108132</td>\n",
       "      <td>110204</td>\n",
       "      <td>+</td>\n",
       "      <td>NaN</td>\n",
       "      <td>LINF_24T0008250</td>\n",
       "      <td>LINF_240008250</td>\n",
       "      <td>False</td>\n",
       "      <td>True</td>\n",
       "      <td>False</td>\n",
       "      <td>False</td>\n",
       "      <td>False</td>\n",
       "      <td>NaN</td>\n",
       "      <td>NaN</td>\n",
       "      <td>[108132, 110204]</td>\n",
       "    </tr>\n",
       "    <tr>\n",
       "      <th>737</th>\n",
       "      <td>rejected_noCDS_c24.2710AJ</td>\n",
       "      <td>LinJ.24</td>\n",
       "      <td>110205</td>\n",
       "      <td>117720</td>\n",
       "      <td>+</td>\n",
       "      <td>LINF_240008300</td>\n",
       "      <td>NaN</td>\n",
       "      <td>NaN</td>\n",
       "      <td>True</td>\n",
       "      <td>False</td>\n",
       "      <td>False</td>\n",
       "      <td>False</td>\n",
       "      <td>False</td>\n",
       "      <td>NaN</td>\n",
       "      <td>UDP-galactose_transporter|LPG5A</td>\n",
       "      <td>[110205, 117720]</td>\n",
       "    </tr>\n",
       "    <tr>\n",
       "      <th>738</th>\n",
       "      <td>rejected_noCDS_c24.2710AJ</td>\n",
       "      <td>LinJ.24</td>\n",
       "      <td>110205</td>\n",
       "      <td>117720</td>\n",
       "      <td>+</td>\n",
       "      <td>NaN</td>\n",
       "      <td>LINF_24T0008300</td>\n",
       "      <td>LINF_240008300</td>\n",
       "      <td>False</td>\n",
       "      <td>True</td>\n",
       "      <td>False</td>\n",
       "      <td>False</td>\n",
       "      <td>False</td>\n",
       "      <td>NaN</td>\n",
       "      <td>UDP-galactose_transporter|LPG5A</td>\n",
       "      <td>[110205, 117720]</td>\n",
       "    </tr>\n",
       "    <tr>\n",
       "      <th>739</th>\n",
       "      <td>rejected_noCDS_c24.2710AJ</td>\n",
       "      <td>LinJ.24</td>\n",
       "      <td>110205</td>\n",
       "      <td>110267</td>\n",
       "      <td>+</td>\n",
       "      <td>NaN</td>\n",
       "      <td>NaN</td>\n",
       "      <td>LINF_24T0008300</td>\n",
       "      <td>False</td>\n",
       "      <td>False</td>\n",
       "      <td>False</td>\n",
       "      <td>False</td>\n",
       "      <td>True</td>\n",
       "      <td>NaN</td>\n",
       "      <td>NaN</td>\n",
       "      <td>[110205, 110267]</td>\n",
       "    </tr>\n",
       "    <tr>\n",
       "      <th>740</th>\n",
       "      <td>rejected_noCDS_c24.2770AJ</td>\n",
       "      <td>LinJ.24</td>\n",
       "      <td>110205</td>\n",
       "      <td>117720</td>\n",
       "      <td>+</td>\n",
       "      <td>LINF_240008300</td>\n",
       "      <td>NaN</td>\n",
       "      <td>NaN</td>\n",
       "      <td>True</td>\n",
       "      <td>False</td>\n",
       "      <td>False</td>\n",
       "      <td>False</td>\n",
       "      <td>False</td>\n",
       "      <td>NaN</td>\n",
       "      <td>UDP-galactose_transporter|LPG5A</td>\n",
       "      <td>[110205, 117720]</td>\n",
       "    </tr>\n",
       "    <tr>\n",
       "      <th>741</th>\n",
       "      <td>rejected_noCDS_c24.2770AJ</td>\n",
       "      <td>LinJ.24</td>\n",
       "      <td>110205</td>\n",
       "      <td>117720</td>\n",
       "      <td>+</td>\n",
       "      <td>NaN</td>\n",
       "      <td>LINF_24T0008300</td>\n",
       "      <td>LINF_240008300</td>\n",
       "      <td>False</td>\n",
       "      <td>True</td>\n",
       "      <td>False</td>\n",
       "      <td>False</td>\n",
       "      <td>False</td>\n",
       "      <td>NaN</td>\n",
       "      <td>UDP-galactose_transporter|LPG5A</td>\n",
       "      <td>[110205, 117720]</td>\n",
       "    </tr>\n",
       "    <tr>\n",
       "      <th>747</th>\n",
       "      <td>rejected_noCDS_c24.2770AJ</td>\n",
       "      <td>LinJ.24</td>\n",
       "      <td>111675</td>\n",
       "      <td>117720</td>\n",
       "      <td>+</td>\n",
       "      <td>NaN</td>\n",
       "      <td>NaN</td>\n",
       "      <td>LINF_24T0008300</td>\n",
       "      <td>False</td>\n",
       "      <td>False</td>\n",
       "      <td>False</td>\n",
       "      <td>True</td>\n",
       "      <td>False</td>\n",
       "      <td>NaN</td>\n",
       "      <td>NaN</td>\n",
       "      <td>[111675, 117720]</td>\n",
       "    </tr>\n",
       "    <tr>\n",
       "      <th>748</th>\n",
       "      <td>rejected_noCDS_c24.2770AJ</td>\n",
       "      <td>LinJ.24</td>\n",
       "      <td>117721</td>\n",
       "      <td>122337</td>\n",
       "      <td>+</td>\n",
       "      <td>LINF_240008400</td>\n",
       "      <td>NaN</td>\n",
       "      <td>NaN</td>\n",
       "      <td>True</td>\n",
       "      <td>False</td>\n",
       "      <td>False</td>\n",
       "      <td>False</td>\n",
       "      <td>False</td>\n",
       "      <td>NaN</td>\n",
       "      <td>UDP-galactose_transporter|LPG5A</td>\n",
       "      <td>[117721, 122337]</td>\n",
       "    </tr>\n",
       "    <tr>\n",
       "      <th>749</th>\n",
       "      <td>rejected_noCDS_c24.2770AJ</td>\n",
       "      <td>LinJ.24</td>\n",
       "      <td>117721</td>\n",
       "      <td>122337</td>\n",
       "      <td>+</td>\n",
       "      <td>NaN</td>\n",
       "      <td>LINF_24T0008400</td>\n",
       "      <td>LINF_240008400</td>\n",
       "      <td>False</td>\n",
       "      <td>True</td>\n",
       "      <td>False</td>\n",
       "      <td>False</td>\n",
       "      <td>False</td>\n",
       "      <td>NaN</td>\n",
       "      <td>UDP-galactose_transporter|LPG5A</td>\n",
       "      <td>[117721, 122337]</td>\n",
       "    </tr>\n",
       "    <tr>\n",
       "      <th>750</th>\n",
       "      <td>rejected_noCDS_c24.2770AJ</td>\n",
       "      <td>LinJ.24</td>\n",
       "      <td>117721</td>\n",
       "      <td>117783</td>\n",
       "      <td>+</td>\n",
       "      <td>NaN</td>\n",
       "      <td>NaN</td>\n",
       "      <td>LINF_24T0008400</td>\n",
       "      <td>False</td>\n",
       "      <td>False</td>\n",
       "      <td>False</td>\n",
       "      <td>False</td>\n",
       "      <td>True</td>\n",
       "      <td>NaN</td>\n",
       "      <td>NaN</td>\n",
       "      <td>[117721, 117783]</td>\n",
       "    </tr>\n",
       "    <tr>\n",
       "      <th>754</th>\n",
       "      <td>rejected_noCDS_c24.2790AJ</td>\n",
       "      <td>LinJ.24</td>\n",
       "      <td>145556</td>\n",
       "      <td>151128</td>\n",
       "      <td>+</td>\n",
       "      <td>LINF_240009100</td>\n",
       "      <td>NaN</td>\n",
       "      <td>NaN</td>\n",
       "      <td>True</td>\n",
       "      <td>False</td>\n",
       "      <td>False</td>\n",
       "      <td>False</td>\n",
       "      <td>False</td>\n",
       "      <td>NaN</td>\n",
       "      <td>hypothetical_protein_-_conserved</td>\n",
       "      <td>[145556, 151128]</td>\n",
       "    </tr>\n",
       "    <tr>\n",
       "      <th>755</th>\n",
       "      <td>rejected_noCDS_c24.2790AJ</td>\n",
       "      <td>LinJ.24</td>\n",
       "      <td>145556</td>\n",
       "      <td>151128</td>\n",
       "      <td>+</td>\n",
       "      <td>NaN</td>\n",
       "      <td>LINF_24T0009100</td>\n",
       "      <td>LINF_240009100</td>\n",
       "      <td>False</td>\n",
       "      <td>True</td>\n",
       "      <td>False</td>\n",
       "      <td>False</td>\n",
       "      <td>False</td>\n",
       "      <td>NaN</td>\n",
       "      <td>hypothetical_protein_-_conserved</td>\n",
       "      <td>[145556, 151128]</td>\n",
       "    </tr>\n",
       "    <tr>\n",
       "      <th>756</th>\n",
       "      <td>rejected_noCDS_c24.2790AJ</td>\n",
       "      <td>LinJ.24</td>\n",
       "      <td>149748</td>\n",
       "      <td>151128</td>\n",
       "      <td>+</td>\n",
       "      <td>NaN</td>\n",
       "      <td>NaN</td>\n",
       "      <td>LINF_24T0009100</td>\n",
       "      <td>False</td>\n",
       "      <td>False</td>\n",
       "      <td>False</td>\n",
       "      <td>True</td>\n",
       "      <td>False</td>\n",
       "      <td>NaN</td>\n",
       "      <td>NaN</td>\n",
       "      <td>[149748, 151128]</td>\n",
       "    </tr>\n",
       "  </tbody>\n",
       "</table>\n",
       "</div>"
      ]
     },
     "execution_count": 28,
     "metadata": {},
     "output_type": "execute_result"
    }
   ],
   "execution_count": 28
  },
  {
   "metadata": {},
   "cell_type": "markdown",
   "source": "Interesting the members from the family. rejected_noCDS_c24.2790AJ is new here"
  },
  {
   "metadata": {
    "ExecuteTime": {
     "end_time": "2024-10-07T19:35:45.963876Z",
     "start_time": "2024-10-07T19:35:45.961101Z"
    }
   },
   "cell_type": "code",
   "source": [
    "# Check all rows with the \"neg_names\"\n",
    "filter_data = neg_filtered[neg_filtered['neg_name'].isin(filter_data['neg_name'])]\n",
    "checking_data(filter_data)"
   ],
   "outputs": [
    {
     "name": "stdout",
     "output_type": "stream",
     "text": [
      "Shape of the data frame is: (26, 16)\n",
      "Number of unique values in column 'neg_name': 7 \n"
     ]
    }
   ],
   "execution_count": 29
  },
  {
   "metadata": {
    "ExecuteTime": {
     "end_time": "2024-10-07T19:35:46.265766Z",
     "start_time": "2024-10-07T19:35:46.263016Z"
    }
   },
   "cell_type": "code",
   "source": [
    "# Let's save all of them for now\n",
    "good_negatives = pd.concat([good_negatives, filter_data])\n",
    "checking_data(good_negatives)"
   ],
   "outputs": [
    {
     "name": "stdout",
     "output_type": "stream",
     "text": [
      "Shape of the data frame is: (511, 16)\n",
      "Number of unique values in column 'neg_name': 150 \n"
     ]
    }
   ],
   "execution_count": 30
  },
  {
   "metadata": {
    "ExecuteTime": {
     "end_time": "2024-10-07T19:35:46.601999Z",
     "start_time": "2024-10-07T19:35:46.454709Z"
    }
   },
   "cell_type": "code",
   "source": [
    "# And let's remove them from `neg_filtered`\n",
    "neg_filtered = neg_filtered[~neg_filtered['neg_name'].isin(filter_data['neg_name'])]\n",
    "checking_data(neg_filtered)\n",
    "group_and_count(neg_filtered, \"neg_name\")"
   ],
   "outputs": [
    {
     "name": "stdout",
     "output_type": "stream",
     "text": [
      "Shape of the data frame is: (1172, 16)\n",
      "Number of unique values in column 'neg_name': 438 \n",
      "{'gene': 438, 'transcript': 438, '5utr': 23, '3utr': 214, 'CDS': 4}\n"
     ]
    },
    {
     "data": {
      "text/plain": [
       "                                                 notes  count\n",
       "0                                                  NaN    436\n",
       "1               Tripartite_attachment_complex_40|TAC40      6\n",
       "2         phosphoglycan_beta_1-3_galactosyltransferase      5\n",
       "3      Ketoacyl-CoA_synthase|Fatty_acid_elongase|ELO-3      5\n",
       "4                                 alpha/beta_hydrolase      3\n",
       "..                                                 ...    ...\n",
       "180               Haloacid_dehalogenase-like_hydrolase      1\n",
       "181  protein-l-isoaspartate_o-methyltransferase_-_p...      1\n",
       "182                 2′-O-ribose_methyltransferase|MTr1      1\n",
       "183           mitochondrial_carrier_protein_-_putative      1\n",
       "184            adaptin_complex_1_subunit|beta_adaptin       1\n",
       "\n",
       "[185 rows x 2 columns]"
      ],
      "text/html": [
       "<div>\n",
       "<style scoped>\n",
       "    .dataframe tbody tr th:only-of-type {\n",
       "        vertical-align: middle;\n",
       "    }\n",
       "\n",
       "    .dataframe tbody tr th {\n",
       "        vertical-align: top;\n",
       "    }\n",
       "\n",
       "    .dataframe thead th {\n",
       "        text-align: right;\n",
       "    }\n",
       "</style>\n",
       "<table border=\"1\" class=\"dataframe\">\n",
       "  <thead>\n",
       "    <tr style=\"text-align: right;\">\n",
       "      <th></th>\n",
       "      <th>notes</th>\n",
       "      <th>count</th>\n",
       "    </tr>\n",
       "  </thead>\n",
       "  <tbody>\n",
       "    <tr>\n",
       "      <th>0</th>\n",
       "      <td>NaN</td>\n",
       "      <td>436</td>\n",
       "    </tr>\n",
       "    <tr>\n",
       "      <th>1</th>\n",
       "      <td>Tripartite_attachment_complex_40|TAC40</td>\n",
       "      <td>6</td>\n",
       "    </tr>\n",
       "    <tr>\n",
       "      <th>2</th>\n",
       "      <td>phosphoglycan_beta_1-3_galactosyltransferase</td>\n",
       "      <td>5</td>\n",
       "    </tr>\n",
       "    <tr>\n",
       "      <th>3</th>\n",
       "      <td>Ketoacyl-CoA_synthase|Fatty_acid_elongase|ELO-3</td>\n",
       "      <td>5</td>\n",
       "    </tr>\n",
       "    <tr>\n",
       "      <th>4</th>\n",
       "      <td>alpha/beta_hydrolase</td>\n",
       "      <td>3</td>\n",
       "    </tr>\n",
       "    <tr>\n",
       "      <th>...</th>\n",
       "      <td>...</td>\n",
       "      <td>...</td>\n",
       "    </tr>\n",
       "    <tr>\n",
       "      <th>180</th>\n",
       "      <td>Haloacid_dehalogenase-like_hydrolase</td>\n",
       "      <td>1</td>\n",
       "    </tr>\n",
       "    <tr>\n",
       "      <th>181</th>\n",
       "      <td>protein-l-isoaspartate_o-methyltransferase_-_p...</td>\n",
       "      <td>1</td>\n",
       "    </tr>\n",
       "    <tr>\n",
       "      <th>182</th>\n",
       "      <td>2′-O-ribose_methyltransferase|MTr1</td>\n",
       "      <td>1</td>\n",
       "    </tr>\n",
       "    <tr>\n",
       "      <th>183</th>\n",
       "      <td>mitochondrial_carrier_protein_-_putative</td>\n",
       "      <td>1</td>\n",
       "    </tr>\n",
       "    <tr>\n",
       "      <th>184</th>\n",
       "      <td>adaptin_complex_1_subunit|beta_adaptin</td>\n",
       "      <td>1</td>\n",
       "    </tr>\n",
       "  </tbody>\n",
       "</table>\n",
       "<p>185 rows × 2 columns</p>\n",
       "</div>"
      ]
     },
     "execution_count": 31,
     "metadata": {},
     "output_type": "execute_result"
    }
   ],
   "execution_count": 31
  },
  {
   "metadata": {},
   "cell_type": "markdown",
   "source": "### Checking: tripartite"
  },
  {
   "metadata": {
    "ExecuteTime": {
     "end_time": "2024-10-07T19:35:46.726852Z",
     "start_time": "2024-10-07T19:35:46.722453Z"
    }
   },
   "cell_type": "code",
   "source": [
    "filter_data = search_string(neg_filtered, \"tripartite\")\n",
    "filter_data['notes'].value_counts()"
   ],
   "outputs": [
    {
     "name": "stdout",
     "output_type": "stream",
     "text": [
      "The of filtered data: (12, 16)\n",
      "The unique values in column 'neg_name': 6\n"
     ]
    },
    {
     "data": {
      "text/plain": [
       "notes\n",
       "Tripartite_attachment_complex_40|TAC40    12\n",
       "Name: count, dtype: int64"
      ]
     },
     "execution_count": 32,
     "metadata": {},
     "output_type": "execute_result"
    }
   ],
   "execution_count": 32
  },
  {
   "metadata": {
    "ExecuteTime": {
     "end_time": "2024-10-07T19:35:46.936366Z",
     "start_time": "2024-10-07T19:35:46.928943Z"
    }
   },
   "cell_type": "code",
   "source": "filter_data[filter_data[\"gene\"] == True]",
   "outputs": [
    {
     "data": {
      "text/plain": [
       "                       neg_name    chrom    start      end strand  \\\n",
       "1604  rejected_noCDS_c34.5900CD  LinJ.34  1372364  1376363      +   \n",
       "1606  rejected_noCDS_c34.5910CE  LinJ.34  1372364  1376363      +   \n",
       "1608  rejected_noCDS_c34.5920CC  LinJ.34  1372364  1376363      +   \n",
       "1615  rejected_noCDS_c34.5940CD  LinJ.34  1391972  1395962      +   \n",
       "1617  rejected_noCDS_c34.5950CE  LinJ.34  1391972  1395962      +   \n",
       "1619  rejected_noCDS_c34.5960CC  LinJ.34  1391972  1395962      +   \n",
       "\n",
       "             gene_id transcript_id parent_id  gene  transcript    CDS   3utr  \\\n",
       "1604  LINF_340037600           NaN       NaN  True       False  False  False   \n",
       "1606  LINF_340037600           NaN       NaN  True       False  False  False   \n",
       "1608  LINF_340037600           NaN       NaN  True       False  False  False   \n",
       "1615  LINF_340038100           NaN       NaN  True       False  False  False   \n",
       "1617  LINF_340038100           NaN       NaN  True       False  False  False   \n",
       "1619  LINF_340038100           NaN       NaN  True       False  False  False   \n",
       "\n",
       "       5utr pseudogen                                   notes  \\\n",
       "1604  False       NaN  Tripartite_attachment_complex_40|TAC40   \n",
       "1606  False       NaN  Tripartite_attachment_complex_40|TAC40   \n",
       "1608  False       NaN  Tripartite_attachment_complex_40|TAC40   \n",
       "1615  False       NaN  Tripartite_attachment_complex_40|TAC40   \n",
       "1617  False       NaN  Tripartite_attachment_complex_40|TAC40   \n",
       "1619  False       NaN  Tripartite_attachment_complex_40|TAC40   \n",
       "\n",
       "                interval  \n",
       "1604  [1372364, 1376363]  \n",
       "1606  [1372364, 1376363]  \n",
       "1608  [1372364, 1376363]  \n",
       "1615  [1391972, 1395962]  \n",
       "1617  [1391972, 1395962]  \n",
       "1619  [1391972, 1395962]  "
      ],
      "text/html": [
       "<div>\n",
       "<style scoped>\n",
       "    .dataframe tbody tr th:only-of-type {\n",
       "        vertical-align: middle;\n",
       "    }\n",
       "\n",
       "    .dataframe tbody tr th {\n",
       "        vertical-align: top;\n",
       "    }\n",
       "\n",
       "    .dataframe thead th {\n",
       "        text-align: right;\n",
       "    }\n",
       "</style>\n",
       "<table border=\"1\" class=\"dataframe\">\n",
       "  <thead>\n",
       "    <tr style=\"text-align: right;\">\n",
       "      <th></th>\n",
       "      <th>neg_name</th>\n",
       "      <th>chrom</th>\n",
       "      <th>start</th>\n",
       "      <th>end</th>\n",
       "      <th>strand</th>\n",
       "      <th>gene_id</th>\n",
       "      <th>transcript_id</th>\n",
       "      <th>parent_id</th>\n",
       "      <th>gene</th>\n",
       "      <th>transcript</th>\n",
       "      <th>CDS</th>\n",
       "      <th>3utr</th>\n",
       "      <th>5utr</th>\n",
       "      <th>pseudogen</th>\n",
       "      <th>notes</th>\n",
       "      <th>interval</th>\n",
       "    </tr>\n",
       "  </thead>\n",
       "  <tbody>\n",
       "    <tr>\n",
       "      <th>1604</th>\n",
       "      <td>rejected_noCDS_c34.5900CD</td>\n",
       "      <td>LinJ.34</td>\n",
       "      <td>1372364</td>\n",
       "      <td>1376363</td>\n",
       "      <td>+</td>\n",
       "      <td>LINF_340037600</td>\n",
       "      <td>NaN</td>\n",
       "      <td>NaN</td>\n",
       "      <td>True</td>\n",
       "      <td>False</td>\n",
       "      <td>False</td>\n",
       "      <td>False</td>\n",
       "      <td>False</td>\n",
       "      <td>NaN</td>\n",
       "      <td>Tripartite_attachment_complex_40|TAC40</td>\n",
       "      <td>[1372364, 1376363]</td>\n",
       "    </tr>\n",
       "    <tr>\n",
       "      <th>1606</th>\n",
       "      <td>rejected_noCDS_c34.5910CE</td>\n",
       "      <td>LinJ.34</td>\n",
       "      <td>1372364</td>\n",
       "      <td>1376363</td>\n",
       "      <td>+</td>\n",
       "      <td>LINF_340037600</td>\n",
       "      <td>NaN</td>\n",
       "      <td>NaN</td>\n",
       "      <td>True</td>\n",
       "      <td>False</td>\n",
       "      <td>False</td>\n",
       "      <td>False</td>\n",
       "      <td>False</td>\n",
       "      <td>NaN</td>\n",
       "      <td>Tripartite_attachment_complex_40|TAC40</td>\n",
       "      <td>[1372364, 1376363]</td>\n",
       "    </tr>\n",
       "    <tr>\n",
       "      <th>1608</th>\n",
       "      <td>rejected_noCDS_c34.5920CC</td>\n",
       "      <td>LinJ.34</td>\n",
       "      <td>1372364</td>\n",
       "      <td>1376363</td>\n",
       "      <td>+</td>\n",
       "      <td>LINF_340037600</td>\n",
       "      <td>NaN</td>\n",
       "      <td>NaN</td>\n",
       "      <td>True</td>\n",
       "      <td>False</td>\n",
       "      <td>False</td>\n",
       "      <td>False</td>\n",
       "      <td>False</td>\n",
       "      <td>NaN</td>\n",
       "      <td>Tripartite_attachment_complex_40|TAC40</td>\n",
       "      <td>[1372364, 1376363]</td>\n",
       "    </tr>\n",
       "    <tr>\n",
       "      <th>1615</th>\n",
       "      <td>rejected_noCDS_c34.5940CD</td>\n",
       "      <td>LinJ.34</td>\n",
       "      <td>1391972</td>\n",
       "      <td>1395962</td>\n",
       "      <td>+</td>\n",
       "      <td>LINF_340038100</td>\n",
       "      <td>NaN</td>\n",
       "      <td>NaN</td>\n",
       "      <td>True</td>\n",
       "      <td>False</td>\n",
       "      <td>False</td>\n",
       "      <td>False</td>\n",
       "      <td>False</td>\n",
       "      <td>NaN</td>\n",
       "      <td>Tripartite_attachment_complex_40|TAC40</td>\n",
       "      <td>[1391972, 1395962]</td>\n",
       "    </tr>\n",
       "    <tr>\n",
       "      <th>1617</th>\n",
       "      <td>rejected_noCDS_c34.5950CE</td>\n",
       "      <td>LinJ.34</td>\n",
       "      <td>1391972</td>\n",
       "      <td>1395962</td>\n",
       "      <td>+</td>\n",
       "      <td>LINF_340038100</td>\n",
       "      <td>NaN</td>\n",
       "      <td>NaN</td>\n",
       "      <td>True</td>\n",
       "      <td>False</td>\n",
       "      <td>False</td>\n",
       "      <td>False</td>\n",
       "      <td>False</td>\n",
       "      <td>NaN</td>\n",
       "      <td>Tripartite_attachment_complex_40|TAC40</td>\n",
       "      <td>[1391972, 1395962]</td>\n",
       "    </tr>\n",
       "    <tr>\n",
       "      <th>1619</th>\n",
       "      <td>rejected_noCDS_c34.5960CC</td>\n",
       "      <td>LinJ.34</td>\n",
       "      <td>1391972</td>\n",
       "      <td>1395962</td>\n",
       "      <td>+</td>\n",
       "      <td>LINF_340038100</td>\n",
       "      <td>NaN</td>\n",
       "      <td>NaN</td>\n",
       "      <td>True</td>\n",
       "      <td>False</td>\n",
       "      <td>False</td>\n",
       "      <td>False</td>\n",
       "      <td>False</td>\n",
       "      <td>NaN</td>\n",
       "      <td>Tripartite_attachment_complex_40|TAC40</td>\n",
       "      <td>[1391972, 1395962]</td>\n",
       "    </tr>\n",
       "  </tbody>\n",
       "</table>\n",
       "</div>"
      ]
     },
     "execution_count": 33,
     "metadata": {},
     "output_type": "execute_result"
    }
   ],
   "execution_count": 33
  },
  {
   "metadata": {
    "ExecuteTime": {
     "end_time": "2024-10-07T19:35:47.043410Z",
     "start_time": "2024-10-07T19:35:47.041235Z"
    }
   },
   "cell_type": "code",
   "source": [
    "# Take all rows with that name\n",
    "filter_data = neg_filtered[neg_filtered['neg_name'].isin(filter_data['neg_name'])]\n",
    "checking_data(filter_data)"
   ],
   "outputs": [
    {
     "name": "stdout",
     "output_type": "stream",
     "text": [
      "Shape of the data frame is: (18, 16)\n",
      "Number of unique values in column 'neg_name': 6 \n"
     ]
    }
   ],
   "execution_count": 34
  },
  {
   "metadata": {
    "ExecuteTime": {
     "end_time": "2024-10-07T19:35:47.213030Z",
     "start_time": "2024-10-07T19:35:47.206650Z"
    }
   },
   "cell_type": "code",
   "source": [
    "# Let's check families CC\n",
    "neg_to_filter.loc[\n",
    "    (neg_to_filter['neg_name'].str.contains(r'\\d+CC$', na=False)) & (neg_to_filter['gene'] == True),\n",
    "    ['neg_name', 'chrom', 'gene_id', 'notes', 'start', 'end']\n",
    "]"
   ],
   "outputs": [
    {
     "data": {
      "text/plain": [
       "                       neg_name    chrom         gene_id  \\\n",
       "1598  rejected_noCDS_c34.5880CC  LinJ.34  LINF_340037300   \n",
       "1601  rejected_noCDS_c34.5890CC  LinJ.34  LINF_340037350   \n",
       "1608  rejected_noCDS_c34.5920CC  LinJ.34  LINF_340037600   \n",
       "1613  rejected_noCDS_c34.5930CC  LinJ.34  LINF_340037850   \n",
       "1619  rejected_noCDS_c34.5960CC  LinJ.34  LINF_340038100   \n",
       "1624  rejected_noCDS_c34.5980CC  LinJ.34  LINF_340038800   \n",
       "\n",
       "                                           notes    start      end  \n",
       "1598          mitochondrial_carrier_protein|MCP6  1354107  1357619  \n",
       "1601            hypothetical_protein_-_conserved  1358089  1365799  \n",
       "1608      Tripartite_attachment_complex_40|TAC40  1372364  1376363  \n",
       "1613                                         NaN  1381967  1383514  \n",
       "1619      Tripartite_attachment_complex_40|TAC40  1391972  1395962  \n",
       "1624  NAD_dependent_epimerase/dehydratase_family  1420070  1428451  "
      ],
      "text/html": [
       "<div>\n",
       "<style scoped>\n",
       "    .dataframe tbody tr th:only-of-type {\n",
       "        vertical-align: middle;\n",
       "    }\n",
       "\n",
       "    .dataframe tbody tr th {\n",
       "        vertical-align: top;\n",
       "    }\n",
       "\n",
       "    .dataframe thead th {\n",
       "        text-align: right;\n",
       "    }\n",
       "</style>\n",
       "<table border=\"1\" class=\"dataframe\">\n",
       "  <thead>\n",
       "    <tr style=\"text-align: right;\">\n",
       "      <th></th>\n",
       "      <th>neg_name</th>\n",
       "      <th>chrom</th>\n",
       "      <th>gene_id</th>\n",
       "      <th>notes</th>\n",
       "      <th>start</th>\n",
       "      <th>end</th>\n",
       "    </tr>\n",
       "  </thead>\n",
       "  <tbody>\n",
       "    <tr>\n",
       "      <th>1598</th>\n",
       "      <td>rejected_noCDS_c34.5880CC</td>\n",
       "      <td>LinJ.34</td>\n",
       "      <td>LINF_340037300</td>\n",
       "      <td>mitochondrial_carrier_protein|MCP6</td>\n",
       "      <td>1354107</td>\n",
       "      <td>1357619</td>\n",
       "    </tr>\n",
       "    <tr>\n",
       "      <th>1601</th>\n",
       "      <td>rejected_noCDS_c34.5890CC</td>\n",
       "      <td>LinJ.34</td>\n",
       "      <td>LINF_340037350</td>\n",
       "      <td>hypothetical_protein_-_conserved</td>\n",
       "      <td>1358089</td>\n",
       "      <td>1365799</td>\n",
       "    </tr>\n",
       "    <tr>\n",
       "      <th>1608</th>\n",
       "      <td>rejected_noCDS_c34.5920CC</td>\n",
       "      <td>LinJ.34</td>\n",
       "      <td>LINF_340037600</td>\n",
       "      <td>Tripartite_attachment_complex_40|TAC40</td>\n",
       "      <td>1372364</td>\n",
       "      <td>1376363</td>\n",
       "    </tr>\n",
       "    <tr>\n",
       "      <th>1613</th>\n",
       "      <td>rejected_noCDS_c34.5930CC</td>\n",
       "      <td>LinJ.34</td>\n",
       "      <td>LINF_340037850</td>\n",
       "      <td>NaN</td>\n",
       "      <td>1381967</td>\n",
       "      <td>1383514</td>\n",
       "    </tr>\n",
       "    <tr>\n",
       "      <th>1619</th>\n",
       "      <td>rejected_noCDS_c34.5960CC</td>\n",
       "      <td>LinJ.34</td>\n",
       "      <td>LINF_340038100</td>\n",
       "      <td>Tripartite_attachment_complex_40|TAC40</td>\n",
       "      <td>1391972</td>\n",
       "      <td>1395962</td>\n",
       "    </tr>\n",
       "    <tr>\n",
       "      <th>1624</th>\n",
       "      <td>rejected_noCDS_c34.5980CC</td>\n",
       "      <td>LinJ.34</td>\n",
       "      <td>LINF_340038800</td>\n",
       "      <td>NAD_dependent_epimerase/dehydratase_family</td>\n",
       "      <td>1420070</td>\n",
       "      <td>1428451</td>\n",
       "    </tr>\n",
       "  </tbody>\n",
       "</table>\n",
       "</div>"
      ]
     },
     "execution_count": 35,
     "metadata": {},
     "output_type": "execute_result"
    }
   ],
   "execution_count": 35
  },
  {
   "metadata": {
    "ExecuteTime": {
     "end_time": "2024-10-07T19:35:47.419632Z",
     "start_time": "2024-10-07T19:35:47.413914Z"
    }
   },
   "cell_type": "code",
   "source": [
    "# Let's check family CD\n",
    "neg_to_filter.loc[\n",
    "    (neg_to_filter['neg_name'].str.contains(r'\\d+CD$', na=False)) & (neg_to_filter['gene'] == True),\n",
    "    ['neg_name', 'chrom', 'gene_id', 'notes', 'start', 'end']\n",
    "]"
   ],
   "outputs": [
    {
     "data": {
      "text/plain": [
       "                       neg_name    chrom         gene_id  \\\n",
       "1604  rejected_noCDS_c34.5900CD  LinJ.34  LINF_340037600   \n",
       "1615  rejected_noCDS_c34.5940CD  LinJ.34  LINF_340038100   \n",
       "\n",
       "                                       notes    start      end  \n",
       "1604  Tripartite_attachment_complex_40|TAC40  1372364  1376363  \n",
       "1615  Tripartite_attachment_complex_40|TAC40  1391972  1395962  "
      ],
      "text/html": [
       "<div>\n",
       "<style scoped>\n",
       "    .dataframe tbody tr th:only-of-type {\n",
       "        vertical-align: middle;\n",
       "    }\n",
       "\n",
       "    .dataframe tbody tr th {\n",
       "        vertical-align: top;\n",
       "    }\n",
       "\n",
       "    .dataframe thead th {\n",
       "        text-align: right;\n",
       "    }\n",
       "</style>\n",
       "<table border=\"1\" class=\"dataframe\">\n",
       "  <thead>\n",
       "    <tr style=\"text-align: right;\">\n",
       "      <th></th>\n",
       "      <th>neg_name</th>\n",
       "      <th>chrom</th>\n",
       "      <th>gene_id</th>\n",
       "      <th>notes</th>\n",
       "      <th>start</th>\n",
       "      <th>end</th>\n",
       "    </tr>\n",
       "  </thead>\n",
       "  <tbody>\n",
       "    <tr>\n",
       "      <th>1604</th>\n",
       "      <td>rejected_noCDS_c34.5900CD</td>\n",
       "      <td>LinJ.34</td>\n",
       "      <td>LINF_340037600</td>\n",
       "      <td>Tripartite_attachment_complex_40|TAC40</td>\n",
       "      <td>1372364</td>\n",
       "      <td>1376363</td>\n",
       "    </tr>\n",
       "    <tr>\n",
       "      <th>1615</th>\n",
       "      <td>rejected_noCDS_c34.5940CD</td>\n",
       "      <td>LinJ.34</td>\n",
       "      <td>LINF_340038100</td>\n",
       "      <td>Tripartite_attachment_complex_40|TAC40</td>\n",
       "      <td>1391972</td>\n",
       "      <td>1395962</td>\n",
       "    </tr>\n",
       "  </tbody>\n",
       "</table>\n",
       "</div>"
      ]
     },
     "execution_count": 36,
     "metadata": {},
     "output_type": "execute_result"
    }
   ],
   "execution_count": 36
  },
  {
   "metadata": {
    "ExecuteTime": {
     "end_time": "2024-10-07T19:35:47.605742Z",
     "start_time": "2024-10-07T19:35:47.599848Z"
    }
   },
   "cell_type": "code",
   "source": [
    "# Let's check family CE\n",
    "neg_to_filter.loc[\n",
    "    (neg_to_filter['neg_name'].str.contains(r'\\d+CE$', na=False)) & (neg_to_filter['gene'] == True),\n",
    "    ['neg_name', 'chrom', 'gene_id', 'notes', 'start', 'end']\n",
    "]"
   ],
   "outputs": [
    {
     "data": {
      "text/plain": [
       "                       neg_name    chrom         gene_id  \\\n",
       "1606  rejected_noCDS_c34.5910CE  LinJ.34  LINF_340037600   \n",
       "1617  rejected_noCDS_c34.5950CE  LinJ.34  LINF_340038100   \n",
       "\n",
       "                                       notes    start      end  \n",
       "1606  Tripartite_attachment_complex_40|TAC40  1372364  1376363  \n",
       "1617  Tripartite_attachment_complex_40|TAC40  1391972  1395962  "
      ],
      "text/html": [
       "<div>\n",
       "<style scoped>\n",
       "    .dataframe tbody tr th:only-of-type {\n",
       "        vertical-align: middle;\n",
       "    }\n",
       "\n",
       "    .dataframe tbody tr th {\n",
       "        vertical-align: top;\n",
       "    }\n",
       "\n",
       "    .dataframe thead th {\n",
       "        text-align: right;\n",
       "    }\n",
       "</style>\n",
       "<table border=\"1\" class=\"dataframe\">\n",
       "  <thead>\n",
       "    <tr style=\"text-align: right;\">\n",
       "      <th></th>\n",
       "      <th>neg_name</th>\n",
       "      <th>chrom</th>\n",
       "      <th>gene_id</th>\n",
       "      <th>notes</th>\n",
       "      <th>start</th>\n",
       "      <th>end</th>\n",
       "    </tr>\n",
       "  </thead>\n",
       "  <tbody>\n",
       "    <tr>\n",
       "      <th>1606</th>\n",
       "      <td>rejected_noCDS_c34.5910CE</td>\n",
       "      <td>LinJ.34</td>\n",
       "      <td>LINF_340037600</td>\n",
       "      <td>Tripartite_attachment_complex_40|TAC40</td>\n",
       "      <td>1372364</td>\n",
       "      <td>1376363</td>\n",
       "    </tr>\n",
       "    <tr>\n",
       "      <th>1617</th>\n",
       "      <td>rejected_noCDS_c34.5950CE</td>\n",
       "      <td>LinJ.34</td>\n",
       "      <td>LINF_340038100</td>\n",
       "      <td>Tripartite_attachment_complex_40|TAC40</td>\n",
       "      <td>1391972</td>\n",
       "      <td>1395962</td>\n",
       "    </tr>\n",
       "  </tbody>\n",
       "</table>\n",
       "</div>"
      ]
     },
     "execution_count": 37,
     "metadata": {},
     "output_type": "execute_result"
    }
   ],
   "execution_count": 37
  },
  {
   "metadata": {},
   "cell_type": "markdown",
   "source": "Ok now let's remove them from the data"
  },
  {
   "metadata": {
    "ExecuteTime": {
     "end_time": "2024-10-07T19:35:48.006168Z",
     "start_time": "2024-10-07T19:35:47.856592Z"
    }
   },
   "cell_type": "code",
   "source": [
    "# Remove the from `neg_filtered`\n",
    "neg_filtered = neg_filtered[~neg_filtered['neg_name'].isin(filter_data['neg_name'])]\n",
    "checking_data(neg_filtered)\n",
    "group_and_count(neg_filtered, \"neg_name\")"
   ],
   "outputs": [
    {
     "name": "stdout",
     "output_type": "stream",
     "text": [
      "Shape of the data frame is: (1154, 16)\n",
      "Number of unique values in column 'neg_name': 432 \n",
      "{'gene': 432, 'transcript': 432, '5utr': 23, '3utr': 208, 'CDS': 4}\n"
     ]
    },
    {
     "data": {
      "text/plain": [
       "                                                 notes  count\n",
       "0                                                  NaN    430\n",
       "1         phosphoglycan_beta_1-3_galactosyltransferase      5\n",
       "2      Ketoacyl-CoA_synthase|Fatty_acid_elongase|ELO-3      5\n",
       "3                                 alpha/beta_hydrolase      3\n",
       "4               guanosine_monophosphate_reductase|GMPR      3\n",
       "..                                                 ...    ...\n",
       "179               Haloacid_dehalogenase-like_hydrolase      1\n",
       "180  protein-l-isoaspartate_o-methyltransferase_-_p...      1\n",
       "181                 2′-O-ribose_methyltransferase|MTr1      1\n",
       "182           mitochondrial_carrier_protein_-_putative      1\n",
       "183            adaptin_complex_1_subunit|beta_adaptin       1\n",
       "\n",
       "[184 rows x 2 columns]"
      ],
      "text/html": [
       "<div>\n",
       "<style scoped>\n",
       "    .dataframe tbody tr th:only-of-type {\n",
       "        vertical-align: middle;\n",
       "    }\n",
       "\n",
       "    .dataframe tbody tr th {\n",
       "        vertical-align: top;\n",
       "    }\n",
       "\n",
       "    .dataframe thead th {\n",
       "        text-align: right;\n",
       "    }\n",
       "</style>\n",
       "<table border=\"1\" class=\"dataframe\">\n",
       "  <thead>\n",
       "    <tr style=\"text-align: right;\">\n",
       "      <th></th>\n",
       "      <th>notes</th>\n",
       "      <th>count</th>\n",
       "    </tr>\n",
       "  </thead>\n",
       "  <tbody>\n",
       "    <tr>\n",
       "      <th>0</th>\n",
       "      <td>NaN</td>\n",
       "      <td>430</td>\n",
       "    </tr>\n",
       "    <tr>\n",
       "      <th>1</th>\n",
       "      <td>phosphoglycan_beta_1-3_galactosyltransferase</td>\n",
       "      <td>5</td>\n",
       "    </tr>\n",
       "    <tr>\n",
       "      <th>2</th>\n",
       "      <td>Ketoacyl-CoA_synthase|Fatty_acid_elongase|ELO-3</td>\n",
       "      <td>5</td>\n",
       "    </tr>\n",
       "    <tr>\n",
       "      <th>3</th>\n",
       "      <td>alpha/beta_hydrolase</td>\n",
       "      <td>3</td>\n",
       "    </tr>\n",
       "    <tr>\n",
       "      <th>4</th>\n",
       "      <td>guanosine_monophosphate_reductase|GMPR</td>\n",
       "      <td>3</td>\n",
       "    </tr>\n",
       "    <tr>\n",
       "      <th>...</th>\n",
       "      <td>...</td>\n",
       "      <td>...</td>\n",
       "    </tr>\n",
       "    <tr>\n",
       "      <th>179</th>\n",
       "      <td>Haloacid_dehalogenase-like_hydrolase</td>\n",
       "      <td>1</td>\n",
       "    </tr>\n",
       "    <tr>\n",
       "      <th>180</th>\n",
       "      <td>protein-l-isoaspartate_o-methyltransferase_-_p...</td>\n",
       "      <td>1</td>\n",
       "    </tr>\n",
       "    <tr>\n",
       "      <th>181</th>\n",
       "      <td>2′-O-ribose_methyltransferase|MTr1</td>\n",
       "      <td>1</td>\n",
       "    </tr>\n",
       "    <tr>\n",
       "      <th>182</th>\n",
       "      <td>mitochondrial_carrier_protein_-_putative</td>\n",
       "      <td>1</td>\n",
       "    </tr>\n",
       "    <tr>\n",
       "      <th>183</th>\n",
       "      <td>adaptin_complex_1_subunit|beta_adaptin</td>\n",
       "      <td>1</td>\n",
       "    </tr>\n",
       "  </tbody>\n",
       "</table>\n",
       "<p>184 rows × 2 columns</p>\n",
       "</div>"
      ]
     },
     "execution_count": 38,
     "metadata": {},
     "output_type": "execute_result"
    }
   ],
   "execution_count": 38
  },
  {
   "metadata": {},
   "cell_type": "markdown",
   "source": "### Checking: phosphoglycan"
  },
  {
   "metadata": {
    "ExecuteTime": {
     "end_time": "2024-10-07T19:35:48.270174Z",
     "start_time": "2024-10-07T19:35:48.265987Z"
    }
   },
   "cell_type": "code",
   "source": [
    "filter_data = search_string(neg_filtered, \"phosphoglycan\")\n",
    "filter_data['notes'].value_counts()"
   ],
   "outputs": [
    {
     "name": "stdout",
     "output_type": "stream",
     "text": [
      "The of filtered data: (10, 16)\n",
      "The unique values in column 'neg_name': 5\n"
     ]
    },
    {
     "data": {
      "text/plain": [
       "notes\n",
       "phosphoglycan_beta_1-3_galactosyltransferase    10\n",
       "Name: count, dtype: int64"
      ]
     },
     "execution_count": 39,
     "metadata": {},
     "output_type": "execute_result"
    }
   ],
   "execution_count": 39
  },
  {
   "metadata": {
    "ExecuteTime": {
     "end_time": "2024-10-07T19:35:48.531120Z",
     "start_time": "2024-10-07T19:35:48.526205Z"
    }
   },
   "cell_type": "code",
   "source": [
    "filter_data.loc[\n",
    "    filter_data[\"gene\"] == True,\n",
    "    ['neg_name', 'chrom', 'gene_id', 'notes', 'start', 'end']\n",
    "]"
   ],
   "outputs": [
    {
     "data": {
      "text/plain": [
       "                  neg_name    chrom         gene_id  \\\n",
       "13   rejected_noCDS_c02.80  LinJ.02  LINF_020006700   \n",
       "16  rejected_noCDS_c02.90B  LinJ.02  LINF_020007000   \n",
       "19  rejected_noCDS_c02.100  LinJ.02  LINF_020007000   \n",
       "22  rejected_noCDS_c02.110  LinJ.02  LINF_020007000   \n",
       "25  rejected_noCDS_c02.120  LinJ.02  LINF_020007000   \n",
       "\n",
       "                                           notes  start     end  \n",
       "13  phosphoglycan_beta_1-3_galactosyltransferase  73083   83537  \n",
       "16  phosphoglycan_beta_1-3_galactosyltransferase  93941  102762  \n",
       "19  phosphoglycan_beta_1-3_galactosyltransferase  93941  102762  \n",
       "22  phosphoglycan_beta_1-3_galactosyltransferase  93941  102762  \n",
       "25  phosphoglycan_beta_1-3_galactosyltransferase  93941  102762  "
      ],
      "text/html": [
       "<div>\n",
       "<style scoped>\n",
       "    .dataframe tbody tr th:only-of-type {\n",
       "        vertical-align: middle;\n",
       "    }\n",
       "\n",
       "    .dataframe tbody tr th {\n",
       "        vertical-align: top;\n",
       "    }\n",
       "\n",
       "    .dataframe thead th {\n",
       "        text-align: right;\n",
       "    }\n",
       "</style>\n",
       "<table border=\"1\" class=\"dataframe\">\n",
       "  <thead>\n",
       "    <tr style=\"text-align: right;\">\n",
       "      <th></th>\n",
       "      <th>neg_name</th>\n",
       "      <th>chrom</th>\n",
       "      <th>gene_id</th>\n",
       "      <th>notes</th>\n",
       "      <th>start</th>\n",
       "      <th>end</th>\n",
       "    </tr>\n",
       "  </thead>\n",
       "  <tbody>\n",
       "    <tr>\n",
       "      <th>13</th>\n",
       "      <td>rejected_noCDS_c02.80</td>\n",
       "      <td>LinJ.02</td>\n",
       "      <td>LINF_020006700</td>\n",
       "      <td>phosphoglycan_beta_1-3_galactosyltransferase</td>\n",
       "      <td>73083</td>\n",
       "      <td>83537</td>\n",
       "    </tr>\n",
       "    <tr>\n",
       "      <th>16</th>\n",
       "      <td>rejected_noCDS_c02.90B</td>\n",
       "      <td>LinJ.02</td>\n",
       "      <td>LINF_020007000</td>\n",
       "      <td>phosphoglycan_beta_1-3_galactosyltransferase</td>\n",
       "      <td>93941</td>\n",
       "      <td>102762</td>\n",
       "    </tr>\n",
       "    <tr>\n",
       "      <th>19</th>\n",
       "      <td>rejected_noCDS_c02.100</td>\n",
       "      <td>LinJ.02</td>\n",
       "      <td>LINF_020007000</td>\n",
       "      <td>phosphoglycan_beta_1-3_galactosyltransferase</td>\n",
       "      <td>93941</td>\n",
       "      <td>102762</td>\n",
       "    </tr>\n",
       "    <tr>\n",
       "      <th>22</th>\n",
       "      <td>rejected_noCDS_c02.110</td>\n",
       "      <td>LinJ.02</td>\n",
       "      <td>LINF_020007000</td>\n",
       "      <td>phosphoglycan_beta_1-3_galactosyltransferase</td>\n",
       "      <td>93941</td>\n",
       "      <td>102762</td>\n",
       "    </tr>\n",
       "    <tr>\n",
       "      <th>25</th>\n",
       "      <td>rejected_noCDS_c02.120</td>\n",
       "      <td>LinJ.02</td>\n",
       "      <td>LINF_020007000</td>\n",
       "      <td>phosphoglycan_beta_1-3_galactosyltransferase</td>\n",
       "      <td>93941</td>\n",
       "      <td>102762</td>\n",
       "    </tr>\n",
       "  </tbody>\n",
       "</table>\n",
       "</div>"
      ]
     },
     "execution_count": 40,
     "metadata": {},
     "output_type": "execute_result"
    }
   ],
   "execution_count": 40
  },
  {
   "metadata": {
    "ExecuteTime": {
     "end_time": "2024-10-07T19:35:48.755771Z",
     "start_time": "2024-10-07T19:35:48.749753Z"
    }
   },
   "cell_type": "code",
   "source": [
    "# Let's check family \"B\"\n",
    "neg_to_filter.loc[\n",
    "    (neg_to_filter['neg_name'].str.contains(r'\\d+B$', na=False)) & (neg_to_filter['gene'] == True),\n",
    "    ['neg_name', 'chrom', 'gene_id', 'notes', 'start', 'end']\n",
    "]"
   ],
   "outputs": [
    {
     "data": {
      "text/plain": [
       "                   neg_name    chrom         gene_id  \\\n",
       "16   rejected_noCDS_c02.90B  LinJ.02  LINF_020007000   \n",
       "28  rejected_noCDS_c02.130B  LinJ.02  LINF_020007950   \n",
       "41  rejected_noCDS_c02.160B  LinJ.02  LINF_020009400   \n",
       "\n",
       "                                                notes   start     end  \n",
       "16       phosphoglycan_beta_1-3_galactosyltransferase   93941  102762  \n",
       "28                                                NaN  137296  139716  \n",
       "41  Transmembrane_amino_acid_transporter_protein_-...  196594  201033  "
      ],
      "text/html": [
       "<div>\n",
       "<style scoped>\n",
       "    .dataframe tbody tr th:only-of-type {\n",
       "        vertical-align: middle;\n",
       "    }\n",
       "\n",
       "    .dataframe tbody tr th {\n",
       "        vertical-align: top;\n",
       "    }\n",
       "\n",
       "    .dataframe thead th {\n",
       "        text-align: right;\n",
       "    }\n",
       "</style>\n",
       "<table border=\"1\" class=\"dataframe\">\n",
       "  <thead>\n",
       "    <tr style=\"text-align: right;\">\n",
       "      <th></th>\n",
       "      <th>neg_name</th>\n",
       "      <th>chrom</th>\n",
       "      <th>gene_id</th>\n",
       "      <th>notes</th>\n",
       "      <th>start</th>\n",
       "      <th>end</th>\n",
       "    </tr>\n",
       "  </thead>\n",
       "  <tbody>\n",
       "    <tr>\n",
       "      <th>16</th>\n",
       "      <td>rejected_noCDS_c02.90B</td>\n",
       "      <td>LinJ.02</td>\n",
       "      <td>LINF_020007000</td>\n",
       "      <td>phosphoglycan_beta_1-3_galactosyltransferase</td>\n",
       "      <td>93941</td>\n",
       "      <td>102762</td>\n",
       "    </tr>\n",
       "    <tr>\n",
       "      <th>28</th>\n",
       "      <td>rejected_noCDS_c02.130B</td>\n",
       "      <td>LinJ.02</td>\n",
       "      <td>LINF_020007950</td>\n",
       "      <td>NaN</td>\n",
       "      <td>137296</td>\n",
       "      <td>139716</td>\n",
       "    </tr>\n",
       "    <tr>\n",
       "      <th>41</th>\n",
       "      <td>rejected_noCDS_c02.160B</td>\n",
       "      <td>LinJ.02</td>\n",
       "      <td>LINF_020009400</td>\n",
       "      <td>Transmembrane_amino_acid_transporter_protein_-...</td>\n",
       "      <td>196594</td>\n",
       "      <td>201033</td>\n",
       "    </tr>\n",
       "  </tbody>\n",
       "</table>\n",
       "</div>"
      ]
     },
     "execution_count": 41,
     "metadata": {},
     "output_type": "execute_result"
    }
   ],
   "execution_count": 41
  },
  {
   "metadata": {
    "ExecuteTime": {
     "end_time": "2024-10-07T19:35:48.996282Z",
     "start_time": "2024-10-07T19:35:48.993761Z"
    }
   },
   "cell_type": "code",
   "source": [
    "# Take all elements\n",
    "filter_data = neg_filtered[neg_filtered['neg_name'].isin(filter_data['neg_name'])]\n",
    "checking_data(filter_data)"
   ],
   "outputs": [
    {
     "name": "stdout",
     "output_type": "stream",
     "text": [
      "Shape of the data frame is: (15, 16)\n",
      "Number of unique values in column 'neg_name': 5 \n"
     ]
    }
   ],
   "execution_count": 42
  },
  {
   "metadata": {
    "ExecuteTime": {
     "end_time": "2024-10-07T19:35:49.292111Z",
     "start_time": "2024-10-07T19:35:49.289528Z"
    }
   },
   "cell_type": "code",
   "source": [
    "# Let's add them to \"good_negatives\"\n",
    "good_negatives = pd.concat([good_negatives, filter_data])\n",
    "checking_data(good_negatives)"
   ],
   "outputs": [
    {
     "name": "stdout",
     "output_type": "stream",
     "text": [
      "Shape of the data frame is: (526, 16)\n",
      "Number of unique values in column 'neg_name': 155 \n"
     ]
    }
   ],
   "execution_count": 43
  },
  {
   "metadata": {
    "ExecuteTime": {
     "end_time": "2024-10-07T19:35:49.608777Z",
     "start_time": "2024-10-07T19:35:49.463391Z"
    }
   },
   "cell_type": "code",
   "source": [
    "# Let's remove them from \"neg_filtered\"\n",
    "neg_filtered = neg_filtered[~neg_filtered['neg_name'].isin(filter_data['neg_name'])]\n",
    "checking_data(neg_filtered)\n",
    "group_and_count(neg_filtered, \"neg_name\")"
   ],
   "outputs": [
    {
     "name": "stdout",
     "output_type": "stream",
     "text": [
      "Shape of the data frame is: (1139, 16)\n",
      "Number of unique values in column 'neg_name': 427 \n",
      "{'gene': 427, 'transcript': 427, '5utr': 23, '3utr': 203, 'CDS': 4}\n"
     ]
    },
    {
     "data": {
      "text/plain": [
       "                                                 notes  count\n",
       "0                                                  NaN    425\n",
       "1      Ketoacyl-CoA_synthase|Fatty_acid_elongase|ELO-3      5\n",
       "2                                 alpha/beta_hydrolase      3\n",
       "3               guanosine_monophosphate_reductase|GMPR      3\n",
       "4                                  ATG8/AUT7/APG8/PAZ2      3\n",
       "..                                                 ...    ...\n",
       "178               Haloacid_dehalogenase-like_hydrolase      1\n",
       "179  protein-l-isoaspartate_o-methyltransferase_-_p...      1\n",
       "180                 2′-O-ribose_methyltransferase|MTr1      1\n",
       "181           mitochondrial_carrier_protein_-_putative      1\n",
       "182            adaptin_complex_1_subunit|beta_adaptin       1\n",
       "\n",
       "[183 rows x 2 columns]"
      ],
      "text/html": [
       "<div>\n",
       "<style scoped>\n",
       "    .dataframe tbody tr th:only-of-type {\n",
       "        vertical-align: middle;\n",
       "    }\n",
       "\n",
       "    .dataframe tbody tr th {\n",
       "        vertical-align: top;\n",
       "    }\n",
       "\n",
       "    .dataframe thead th {\n",
       "        text-align: right;\n",
       "    }\n",
       "</style>\n",
       "<table border=\"1\" class=\"dataframe\">\n",
       "  <thead>\n",
       "    <tr style=\"text-align: right;\">\n",
       "      <th></th>\n",
       "      <th>notes</th>\n",
       "      <th>count</th>\n",
       "    </tr>\n",
       "  </thead>\n",
       "  <tbody>\n",
       "    <tr>\n",
       "      <th>0</th>\n",
       "      <td>NaN</td>\n",
       "      <td>425</td>\n",
       "    </tr>\n",
       "    <tr>\n",
       "      <th>1</th>\n",
       "      <td>Ketoacyl-CoA_synthase|Fatty_acid_elongase|ELO-3</td>\n",
       "      <td>5</td>\n",
       "    </tr>\n",
       "    <tr>\n",
       "      <th>2</th>\n",
       "      <td>alpha/beta_hydrolase</td>\n",
       "      <td>3</td>\n",
       "    </tr>\n",
       "    <tr>\n",
       "      <th>3</th>\n",
       "      <td>guanosine_monophosphate_reductase|GMPR</td>\n",
       "      <td>3</td>\n",
       "    </tr>\n",
       "    <tr>\n",
       "      <th>4</th>\n",
       "      <td>ATG8/AUT7/APG8/PAZ2</td>\n",
       "      <td>3</td>\n",
       "    </tr>\n",
       "    <tr>\n",
       "      <th>...</th>\n",
       "      <td>...</td>\n",
       "      <td>...</td>\n",
       "    </tr>\n",
       "    <tr>\n",
       "      <th>178</th>\n",
       "      <td>Haloacid_dehalogenase-like_hydrolase</td>\n",
       "      <td>1</td>\n",
       "    </tr>\n",
       "    <tr>\n",
       "      <th>179</th>\n",
       "      <td>protein-l-isoaspartate_o-methyltransferase_-_p...</td>\n",
       "      <td>1</td>\n",
       "    </tr>\n",
       "    <tr>\n",
       "      <th>180</th>\n",
       "      <td>2′-O-ribose_methyltransferase|MTr1</td>\n",
       "      <td>1</td>\n",
       "    </tr>\n",
       "    <tr>\n",
       "      <th>181</th>\n",
       "      <td>mitochondrial_carrier_protein_-_putative</td>\n",
       "      <td>1</td>\n",
       "    </tr>\n",
       "    <tr>\n",
       "      <th>182</th>\n",
       "      <td>adaptin_complex_1_subunit|beta_adaptin</td>\n",
       "      <td>1</td>\n",
       "    </tr>\n",
       "  </tbody>\n",
       "</table>\n",
       "<p>183 rows × 2 columns</p>\n",
       "</div>"
      ]
     },
     "execution_count": 44,
     "metadata": {},
     "output_type": "execute_result"
    }
   ],
   "execution_count": 44
  },
  {
   "metadata": {},
   "cell_type": "markdown",
   "source": "### Checking: ketoacyl"
  },
  {
   "metadata": {
    "ExecuteTime": {
     "end_time": "2024-10-07T19:35:49.715656Z",
     "start_time": "2024-10-07T19:35:49.711008Z"
    }
   },
   "cell_type": "code",
   "source": [
    "filter_data = search_string(neg_filtered, \"ketoacyl\")\n",
    "filter_data['notes'].value_counts()"
   ],
   "outputs": [
    {
     "name": "stdout",
     "output_type": "stream",
     "text": [
      "The of filtered data: (12, 16)\n",
      "The unique values in column 'neg_name': 6\n"
     ]
    },
    {
     "data": {
      "text/plain": [
       "notes\n",
       "Ketoacyl-CoA_synthase|Fatty_acid_elongase|ELO-3    10\n",
       "Ketoacyl-CoA_synthase|fatty_acid_elongase|ELO-3     2\n",
       "Name: count, dtype: int64"
      ]
     },
     "execution_count": 45,
     "metadata": {},
     "output_type": "execute_result"
    }
   ],
   "execution_count": 45
  },
  {
   "metadata": {
    "ExecuteTime": {
     "end_time": "2024-10-07T19:35:50.030121Z",
     "start_time": "2024-10-07T19:35:50.024895Z"
    }
   },
   "cell_type": "code",
   "source": [
    "filter_data.loc[\n",
    "    filter_data[\"gene\"] == True,\n",
    "    ['neg_name', 'chrom', 'gene_id', 'notes', 'start', 'end']\n",
    "]"
   ],
   "outputs": [
    {
     "data": {
      "text/plain": [
       "                     neg_name    chrom         gene_id  \\\n",
       "374  rejected_noCDS_c14.1430V  LinJ.14  LINF_140012400   \n",
       "377  rejected_noCDS_c14.1440V  LinJ.14  LINF_140012400   \n",
       "380  rejected_noCDS_c14.1450V  LinJ.14  LINF_140012400   \n",
       "383  rejected_noCDS_c14.1460V  LinJ.14  LINF_140012400   \n",
       "386  rejected_noCDS_c14.1470V  LinJ.14  LINF_140012400   \n",
       "389   rejected_noCDS_c14.1480  LinJ.14  LINF_140012800   \n",
       "\n",
       "                                               notes   start     end  \n",
       "374  Ketoacyl-CoA_synthase|Fatty_acid_elongase|ELO-3  255152  267139  \n",
       "377  Ketoacyl-CoA_synthase|Fatty_acid_elongase|ELO-3  255152  267139  \n",
       "380  Ketoacyl-CoA_synthase|Fatty_acid_elongase|ELO-3  255152  267139  \n",
       "383  Ketoacyl-CoA_synthase|Fatty_acid_elongase|ELO-3  255152  267139  \n",
       "386  Ketoacyl-CoA_synthase|Fatty_acid_elongase|ELO-3  255152  267139  \n",
       "389  Ketoacyl-CoA_synthase|fatty_acid_elongase|ELO-3  280945  285205  "
      ],
      "text/html": [
       "<div>\n",
       "<style scoped>\n",
       "    .dataframe tbody tr th:only-of-type {\n",
       "        vertical-align: middle;\n",
       "    }\n",
       "\n",
       "    .dataframe tbody tr th {\n",
       "        vertical-align: top;\n",
       "    }\n",
       "\n",
       "    .dataframe thead th {\n",
       "        text-align: right;\n",
       "    }\n",
       "</style>\n",
       "<table border=\"1\" class=\"dataframe\">\n",
       "  <thead>\n",
       "    <tr style=\"text-align: right;\">\n",
       "      <th></th>\n",
       "      <th>neg_name</th>\n",
       "      <th>chrom</th>\n",
       "      <th>gene_id</th>\n",
       "      <th>notes</th>\n",
       "      <th>start</th>\n",
       "      <th>end</th>\n",
       "    </tr>\n",
       "  </thead>\n",
       "  <tbody>\n",
       "    <tr>\n",
       "      <th>374</th>\n",
       "      <td>rejected_noCDS_c14.1430V</td>\n",
       "      <td>LinJ.14</td>\n",
       "      <td>LINF_140012400</td>\n",
       "      <td>Ketoacyl-CoA_synthase|Fatty_acid_elongase|ELO-3</td>\n",
       "      <td>255152</td>\n",
       "      <td>267139</td>\n",
       "    </tr>\n",
       "    <tr>\n",
       "      <th>377</th>\n",
       "      <td>rejected_noCDS_c14.1440V</td>\n",
       "      <td>LinJ.14</td>\n",
       "      <td>LINF_140012400</td>\n",
       "      <td>Ketoacyl-CoA_synthase|Fatty_acid_elongase|ELO-3</td>\n",
       "      <td>255152</td>\n",
       "      <td>267139</td>\n",
       "    </tr>\n",
       "    <tr>\n",
       "      <th>380</th>\n",
       "      <td>rejected_noCDS_c14.1450V</td>\n",
       "      <td>LinJ.14</td>\n",
       "      <td>LINF_140012400</td>\n",
       "      <td>Ketoacyl-CoA_synthase|Fatty_acid_elongase|ELO-3</td>\n",
       "      <td>255152</td>\n",
       "      <td>267139</td>\n",
       "    </tr>\n",
       "    <tr>\n",
       "      <th>383</th>\n",
       "      <td>rejected_noCDS_c14.1460V</td>\n",
       "      <td>LinJ.14</td>\n",
       "      <td>LINF_140012400</td>\n",
       "      <td>Ketoacyl-CoA_synthase|Fatty_acid_elongase|ELO-3</td>\n",
       "      <td>255152</td>\n",
       "      <td>267139</td>\n",
       "    </tr>\n",
       "    <tr>\n",
       "      <th>386</th>\n",
       "      <td>rejected_noCDS_c14.1470V</td>\n",
       "      <td>LinJ.14</td>\n",
       "      <td>LINF_140012400</td>\n",
       "      <td>Ketoacyl-CoA_synthase|Fatty_acid_elongase|ELO-3</td>\n",
       "      <td>255152</td>\n",
       "      <td>267139</td>\n",
       "    </tr>\n",
       "    <tr>\n",
       "      <th>389</th>\n",
       "      <td>rejected_noCDS_c14.1480</td>\n",
       "      <td>LinJ.14</td>\n",
       "      <td>LINF_140012800</td>\n",
       "      <td>Ketoacyl-CoA_synthase|fatty_acid_elongase|ELO-3</td>\n",
       "      <td>280945</td>\n",
       "      <td>285205</td>\n",
       "    </tr>\n",
       "  </tbody>\n",
       "</table>\n",
       "</div>"
      ]
     },
     "execution_count": 46,
     "metadata": {},
     "output_type": "execute_result"
    }
   ],
   "execution_count": 46
  },
  {
   "metadata": {
    "ExecuteTime": {
     "end_time": "2024-10-07T19:35:50.178437Z",
     "start_time": "2024-10-07T19:35:50.175533Z"
    }
   },
   "cell_type": "code",
   "source": [
    "filter_data = neg_filtered[neg_filtered['neg_name'].isin(filter_data['neg_name'])]\n",
    "checking_data(filter_data)"
   ],
   "outputs": [
    {
     "name": "stdout",
     "output_type": "stream",
     "text": [
      "Shape of the data frame is: (18, 16)\n",
      "Number of unique values in column 'neg_name': 6 \n"
     ]
    }
   ],
   "execution_count": 47
  },
  {
   "metadata": {
    "ExecuteTime": {
     "end_time": "2024-10-07T19:35:50.330348Z",
     "start_time": "2024-10-07T19:35:50.326947Z"
    }
   },
   "cell_type": "code",
   "source": [
    "# Add to \"good_negatives\"\n",
    "good_negatives = pd.concat([good_negatives, filter_data])\n",
    "checking_data(good_negatives)"
   ],
   "outputs": [
    {
     "name": "stdout",
     "output_type": "stream",
     "text": [
      "Shape of the data frame is: (544, 16)\n",
      "Number of unique values in column 'neg_name': 161 \n"
     ]
    }
   ],
   "execution_count": 48
  },
  {
   "metadata": {
    "ExecuteTime": {
     "end_time": "2024-10-07T19:35:50.620514Z",
     "start_time": "2024-10-07T19:35:50.458122Z"
    }
   },
   "cell_type": "code",
   "source": [
    "# Remove from \"neg_filtered\"\n",
    "neg_filtered = neg_filtered[~neg_filtered['neg_name'].isin(filter_data['neg_name'])]\n",
    "checking_data(neg_filtered)\n",
    "group_and_count(neg_filtered, \"neg_name\")"
   ],
   "outputs": [
    {
     "name": "stdout",
     "output_type": "stream",
     "text": [
      "Shape of the data frame is: (1121, 16)\n",
      "Number of unique values in column 'neg_name': 421 \n",
      "{'gene': 421, 'transcript': 421, '5utr': 23, '3utr': 197, 'CDS': 4}\n"
     ]
    },
    {
     "data": {
      "text/plain": [
       "                                                 notes  count\n",
       "0                                                  NaN    419\n",
       "1                                 alpha/beta_hydrolase      3\n",
       "2               guanosine_monophosphate_reductase|GMPR      3\n",
       "3                                  ATG8/AUT7/APG8/PAZ2      3\n",
       "4                   methionine_aminopeptidase_2|MetAP2      3\n",
       "..                                                 ...    ...\n",
       "176               Haloacid_dehalogenase-like_hydrolase      1\n",
       "177  protein-l-isoaspartate_o-methyltransferase_-_p...      1\n",
       "178                 2′-O-ribose_methyltransferase|MTr1      1\n",
       "179           mitochondrial_carrier_protein_-_putative      1\n",
       "180            adaptin_complex_1_subunit|beta_adaptin       1\n",
       "\n",
       "[181 rows x 2 columns]"
      ],
      "text/html": [
       "<div>\n",
       "<style scoped>\n",
       "    .dataframe tbody tr th:only-of-type {\n",
       "        vertical-align: middle;\n",
       "    }\n",
       "\n",
       "    .dataframe tbody tr th {\n",
       "        vertical-align: top;\n",
       "    }\n",
       "\n",
       "    .dataframe thead th {\n",
       "        text-align: right;\n",
       "    }\n",
       "</style>\n",
       "<table border=\"1\" class=\"dataframe\">\n",
       "  <thead>\n",
       "    <tr style=\"text-align: right;\">\n",
       "      <th></th>\n",
       "      <th>notes</th>\n",
       "      <th>count</th>\n",
       "    </tr>\n",
       "  </thead>\n",
       "  <tbody>\n",
       "    <tr>\n",
       "      <th>0</th>\n",
       "      <td>NaN</td>\n",
       "      <td>419</td>\n",
       "    </tr>\n",
       "    <tr>\n",
       "      <th>1</th>\n",
       "      <td>alpha/beta_hydrolase</td>\n",
       "      <td>3</td>\n",
       "    </tr>\n",
       "    <tr>\n",
       "      <th>2</th>\n",
       "      <td>guanosine_monophosphate_reductase|GMPR</td>\n",
       "      <td>3</td>\n",
       "    </tr>\n",
       "    <tr>\n",
       "      <th>3</th>\n",
       "      <td>ATG8/AUT7/APG8/PAZ2</td>\n",
       "      <td>3</td>\n",
       "    </tr>\n",
       "    <tr>\n",
       "      <th>4</th>\n",
       "      <td>methionine_aminopeptidase_2|MetAP2</td>\n",
       "      <td>3</td>\n",
       "    </tr>\n",
       "    <tr>\n",
       "      <th>...</th>\n",
       "      <td>...</td>\n",
       "      <td>...</td>\n",
       "    </tr>\n",
       "    <tr>\n",
       "      <th>176</th>\n",
       "      <td>Haloacid_dehalogenase-like_hydrolase</td>\n",
       "      <td>1</td>\n",
       "    </tr>\n",
       "    <tr>\n",
       "      <th>177</th>\n",
       "      <td>protein-l-isoaspartate_o-methyltransferase_-_p...</td>\n",
       "      <td>1</td>\n",
       "    </tr>\n",
       "    <tr>\n",
       "      <th>178</th>\n",
       "      <td>2′-O-ribose_methyltransferase|MTr1</td>\n",
       "      <td>1</td>\n",
       "    </tr>\n",
       "    <tr>\n",
       "      <th>179</th>\n",
       "      <td>mitochondrial_carrier_protein_-_putative</td>\n",
       "      <td>1</td>\n",
       "    </tr>\n",
       "    <tr>\n",
       "      <th>180</th>\n",
       "      <td>adaptin_complex_1_subunit|beta_adaptin</td>\n",
       "      <td>1</td>\n",
       "    </tr>\n",
       "  </tbody>\n",
       "</table>\n",
       "<p>181 rows × 2 columns</p>\n",
       "</div>"
      ]
     },
     "execution_count": 49,
     "metadata": {},
     "output_type": "execute_result"
    }
   ],
   "execution_count": 49
  },
  {
   "metadata": {},
   "cell_type": "markdown",
   "source": "### Checking alpha/beta"
  },
  {
   "metadata": {
    "ExecuteTime": {
     "end_time": "2024-10-07T19:35:50.741377Z",
     "start_time": "2024-10-07T19:35:50.735612Z"
    }
   },
   "cell_type": "code",
   "source": [
    "filter_data = search_string(neg_filtered, \"alpha/beta\")\n",
    "filter_data['notes'].value_counts()"
   ],
   "outputs": [
    {
     "name": "stdout",
     "output_type": "stream",
     "text": [
      "The of filtered data: (6, 16)\n",
      "The unique values in column 'neg_name': 3\n"
     ]
    },
    {
     "data": {
      "text/plain": [
       "notes\n",
       "alpha/beta_hydrolase    6\n",
       "Name: count, dtype: int64"
      ]
     },
     "execution_count": 50,
     "metadata": {},
     "output_type": "execute_result"
    }
   ],
   "execution_count": 50
  },
  {
   "metadata": {
    "ExecuteTime": {
     "end_time": "2024-10-07T19:35:50.873962Z",
     "start_time": "2024-10-07T19:35:50.867637Z"
    }
   },
   "cell_type": "code",
   "source": [
    "filter_data.loc[\n",
    "    filter_data[\"gene\"] == True,\n",
    "    ['neg_name', 'chrom', 'gene_id', 'notes', 'start', 'end']\n",
    "]"
   ],
   "outputs": [
    {
     "data": {
      "text/plain": [
       "                     neg_name    chrom         gene_id                 notes  \\\n",
       "349   rejected_noCDS_c12.1330  LinJ.12  LINF_120017600  alpha/beta_hydrolase   \n",
       "351  rejected_noCDS_c12.1340T  LinJ.12  LINF_120017600  alpha/beta_hydrolase   \n",
       "353  rejected_noCDS_c12.1350U  LinJ.12  LINF_120017600  alpha/beta_hydrolase   \n",
       "\n",
       "      start     end  \n",
       "349  581574  586501  \n",
       "351  581574  586501  \n",
       "353  581574  586501  "
      ],
      "text/html": [
       "<div>\n",
       "<style scoped>\n",
       "    .dataframe tbody tr th:only-of-type {\n",
       "        vertical-align: middle;\n",
       "    }\n",
       "\n",
       "    .dataframe tbody tr th {\n",
       "        vertical-align: top;\n",
       "    }\n",
       "\n",
       "    .dataframe thead th {\n",
       "        text-align: right;\n",
       "    }\n",
       "</style>\n",
       "<table border=\"1\" class=\"dataframe\">\n",
       "  <thead>\n",
       "    <tr style=\"text-align: right;\">\n",
       "      <th></th>\n",
       "      <th>neg_name</th>\n",
       "      <th>chrom</th>\n",
       "      <th>gene_id</th>\n",
       "      <th>notes</th>\n",
       "      <th>start</th>\n",
       "      <th>end</th>\n",
       "    </tr>\n",
       "  </thead>\n",
       "  <tbody>\n",
       "    <tr>\n",
       "      <th>349</th>\n",
       "      <td>rejected_noCDS_c12.1330</td>\n",
       "      <td>LinJ.12</td>\n",
       "      <td>LINF_120017600</td>\n",
       "      <td>alpha/beta_hydrolase</td>\n",
       "      <td>581574</td>\n",
       "      <td>586501</td>\n",
       "    </tr>\n",
       "    <tr>\n",
       "      <th>351</th>\n",
       "      <td>rejected_noCDS_c12.1340T</td>\n",
       "      <td>LinJ.12</td>\n",
       "      <td>LINF_120017600</td>\n",
       "      <td>alpha/beta_hydrolase</td>\n",
       "      <td>581574</td>\n",
       "      <td>586501</td>\n",
       "    </tr>\n",
       "    <tr>\n",
       "      <th>353</th>\n",
       "      <td>rejected_noCDS_c12.1350U</td>\n",
       "      <td>LinJ.12</td>\n",
       "      <td>LINF_120017600</td>\n",
       "      <td>alpha/beta_hydrolase</td>\n",
       "      <td>581574</td>\n",
       "      <td>586501</td>\n",
       "    </tr>\n",
       "  </tbody>\n",
       "</table>\n",
       "</div>"
      ]
     },
     "execution_count": 51,
     "metadata": {},
     "output_type": "execute_result"
    }
   ],
   "execution_count": 51
  },
  {
   "metadata": {
    "ExecuteTime": {
     "end_time": "2024-10-07T19:35:51.007887Z",
     "start_time": "2024-10-07T19:35:51.005280Z"
    }
   },
   "cell_type": "code",
   "source": [
    "filter_data = neg_filtered[neg_filtered['neg_name'].isin(filter_data['neg_name'])]\n",
    "checking_data(filter_data)"
   ],
   "outputs": [
    {
     "name": "stdout",
     "output_type": "stream",
     "text": [
      "Shape of the data frame is: (9, 16)\n",
      "Number of unique values in column 'neg_name': 3 \n"
     ]
    }
   ],
   "execution_count": 52
  },
  {
   "metadata": {
    "ExecuteTime": {
     "end_time": "2024-10-07T19:35:51.234941Z",
     "start_time": "2024-10-07T19:35:51.232362Z"
    }
   },
   "cell_type": "code",
   "source": [
    "good_negatives = pd.concat([good_negatives, filter_data])\n",
    "checking_data(good_negatives)"
   ],
   "outputs": [
    {
     "name": "stdout",
     "output_type": "stream",
     "text": [
      "Shape of the data frame is: (553, 16)\n",
      "Number of unique values in column 'neg_name': 164 \n"
     ]
    }
   ],
   "execution_count": 53
  },
  {
   "metadata": {
    "ExecuteTime": {
     "end_time": "2024-10-07T19:35:51.547296Z",
     "start_time": "2024-10-07T19:35:51.407652Z"
    }
   },
   "cell_type": "code",
   "source": [
    "neg_filtered = neg_filtered[~neg_filtered['neg_name'].isin(filter_data['neg_name'])]\n",
    "checking_data(neg_filtered)\n",
    "group_and_count(neg_filtered, 'neg_name')"
   ],
   "outputs": [
    {
     "name": "stdout",
     "output_type": "stream",
     "text": [
      "Shape of the data frame is: (1112, 16)\n",
      "Number of unique values in column 'neg_name': 418 \n",
      "{'gene': 418, 'transcript': 418, '5utr': 23, '3utr': 194, 'CDS': 4}\n"
     ]
    },
    {
     "data": {
      "text/plain": [
       "                                                 notes  count\n",
       "0                                                  NaN    416\n",
       "1               guanosine_monophosphate_reductase|GMPR      3\n",
       "2                                  ATG8/AUT7/APG8/PAZ2      3\n",
       "3                   methionine_aminopeptidase_2|MetAP2      3\n",
       "4    argininosuccinate_synthase|Citrulline-aspartat...      3\n",
       "..                                                 ...    ...\n",
       "175               Haloacid_dehalogenase-like_hydrolase      1\n",
       "176  protein-l-isoaspartate_o-methyltransferase_-_p...      1\n",
       "177                 2′-O-ribose_methyltransferase|MTr1      1\n",
       "178           mitochondrial_carrier_protein_-_putative      1\n",
       "179            adaptin_complex_1_subunit|beta_adaptin       1\n",
       "\n",
       "[180 rows x 2 columns]"
      ],
      "text/html": [
       "<div>\n",
       "<style scoped>\n",
       "    .dataframe tbody tr th:only-of-type {\n",
       "        vertical-align: middle;\n",
       "    }\n",
       "\n",
       "    .dataframe tbody tr th {\n",
       "        vertical-align: top;\n",
       "    }\n",
       "\n",
       "    .dataframe thead th {\n",
       "        text-align: right;\n",
       "    }\n",
       "</style>\n",
       "<table border=\"1\" class=\"dataframe\">\n",
       "  <thead>\n",
       "    <tr style=\"text-align: right;\">\n",
       "      <th></th>\n",
       "      <th>notes</th>\n",
       "      <th>count</th>\n",
       "    </tr>\n",
       "  </thead>\n",
       "  <tbody>\n",
       "    <tr>\n",
       "      <th>0</th>\n",
       "      <td>NaN</td>\n",
       "      <td>416</td>\n",
       "    </tr>\n",
       "    <tr>\n",
       "      <th>1</th>\n",
       "      <td>guanosine_monophosphate_reductase|GMPR</td>\n",
       "      <td>3</td>\n",
       "    </tr>\n",
       "    <tr>\n",
       "      <th>2</th>\n",
       "      <td>ATG8/AUT7/APG8/PAZ2</td>\n",
       "      <td>3</td>\n",
       "    </tr>\n",
       "    <tr>\n",
       "      <th>3</th>\n",
       "      <td>methionine_aminopeptidase_2|MetAP2</td>\n",
       "      <td>3</td>\n",
       "    </tr>\n",
       "    <tr>\n",
       "      <th>4</th>\n",
       "      <td>argininosuccinate_synthase|Citrulline-aspartat...</td>\n",
       "      <td>3</td>\n",
       "    </tr>\n",
       "    <tr>\n",
       "      <th>...</th>\n",
       "      <td>...</td>\n",
       "      <td>...</td>\n",
       "    </tr>\n",
       "    <tr>\n",
       "      <th>175</th>\n",
       "      <td>Haloacid_dehalogenase-like_hydrolase</td>\n",
       "      <td>1</td>\n",
       "    </tr>\n",
       "    <tr>\n",
       "      <th>176</th>\n",
       "      <td>protein-l-isoaspartate_o-methyltransferase_-_p...</td>\n",
       "      <td>1</td>\n",
       "    </tr>\n",
       "    <tr>\n",
       "      <th>177</th>\n",
       "      <td>2′-O-ribose_methyltransferase|MTr1</td>\n",
       "      <td>1</td>\n",
       "    </tr>\n",
       "    <tr>\n",
       "      <th>178</th>\n",
       "      <td>mitochondrial_carrier_protein_-_putative</td>\n",
       "      <td>1</td>\n",
       "    </tr>\n",
       "    <tr>\n",
       "      <th>179</th>\n",
       "      <td>adaptin_complex_1_subunit|beta_adaptin</td>\n",
       "      <td>1</td>\n",
       "    </tr>\n",
       "  </tbody>\n",
       "</table>\n",
       "<p>180 rows × 2 columns</p>\n",
       "</div>"
      ]
     },
     "execution_count": 54,
     "metadata": {},
     "output_type": "execute_result"
    }
   ],
   "execution_count": 54
  },
  {
   "metadata": {},
   "cell_type": "markdown",
   "source": "### Checking: guanosine"
  },
  {
   "metadata": {
    "ExecuteTime": {
     "end_time": "2024-10-07T19:35:51.633583Z",
     "start_time": "2024-10-07T19:35:51.629732Z"
    }
   },
   "cell_type": "code",
   "source": [
    "filter_data = search_string(neg_filtered, \"GMPR\")\n",
    "filter_data['notes'].value_counts()"
   ],
   "outputs": [
    {
     "name": "stdout",
     "output_type": "stream",
     "text": [
      "The of filtered data: (6, 16)\n",
      "The unique values in column 'neg_name': 3\n"
     ]
    },
    {
     "data": {
      "text/plain": [
       "notes\n",
       "guanosine_monophosphate_reductase|GMPR    6\n",
       "Name: count, dtype: int64"
      ]
     },
     "execution_count": 55,
     "metadata": {},
     "output_type": "execute_result"
    }
   ],
   "execution_count": 55
  },
  {
   "metadata": {
    "ExecuteTime": {
     "end_time": "2024-10-07T19:35:51.765689Z",
     "start_time": "2024-10-07T19:35:51.760956Z"
    }
   },
   "cell_type": "code",
   "source": [
    "filter_data.loc[\n",
    "    filter_data[\"gene\"] == True,\n",
    "    ['neg_name', 'chrom', 'gene_id', 'notes', 'start', 'end']\n",
    "]"
   ],
   "outputs": [
    {
     "data": {
      "text/plain": [
       "                    neg_name    chrom         gene_id  \\\n",
       "491  rejected_noCDS_c17.1870  LinJ.17  LINF_170014800   \n",
       "494  rejected_noCDS_c17.1880  LinJ.17  LINF_170014800   \n",
       "497  rejected_noCDS_c17.1890  LinJ.17  LINF_170014800   \n",
       "\n",
       "                                      notes   start     end  \n",
       "491  guanosine_monophosphate_reductase|GMPR  389710  393557  \n",
       "494  guanosine_monophosphate_reductase|GMPR  389710  393557  \n",
       "497  guanosine_monophosphate_reductase|GMPR  389710  393557  "
      ],
      "text/html": [
       "<div>\n",
       "<style scoped>\n",
       "    .dataframe tbody tr th:only-of-type {\n",
       "        vertical-align: middle;\n",
       "    }\n",
       "\n",
       "    .dataframe tbody tr th {\n",
       "        vertical-align: top;\n",
       "    }\n",
       "\n",
       "    .dataframe thead th {\n",
       "        text-align: right;\n",
       "    }\n",
       "</style>\n",
       "<table border=\"1\" class=\"dataframe\">\n",
       "  <thead>\n",
       "    <tr style=\"text-align: right;\">\n",
       "      <th></th>\n",
       "      <th>neg_name</th>\n",
       "      <th>chrom</th>\n",
       "      <th>gene_id</th>\n",
       "      <th>notes</th>\n",
       "      <th>start</th>\n",
       "      <th>end</th>\n",
       "    </tr>\n",
       "  </thead>\n",
       "  <tbody>\n",
       "    <tr>\n",
       "      <th>491</th>\n",
       "      <td>rejected_noCDS_c17.1870</td>\n",
       "      <td>LinJ.17</td>\n",
       "      <td>LINF_170014800</td>\n",
       "      <td>guanosine_monophosphate_reductase|GMPR</td>\n",
       "      <td>389710</td>\n",
       "      <td>393557</td>\n",
       "    </tr>\n",
       "    <tr>\n",
       "      <th>494</th>\n",
       "      <td>rejected_noCDS_c17.1880</td>\n",
       "      <td>LinJ.17</td>\n",
       "      <td>LINF_170014800</td>\n",
       "      <td>guanosine_monophosphate_reductase|GMPR</td>\n",
       "      <td>389710</td>\n",
       "      <td>393557</td>\n",
       "    </tr>\n",
       "    <tr>\n",
       "      <th>497</th>\n",
       "      <td>rejected_noCDS_c17.1890</td>\n",
       "      <td>LinJ.17</td>\n",
       "      <td>LINF_170014800</td>\n",
       "      <td>guanosine_monophosphate_reductase|GMPR</td>\n",
       "      <td>389710</td>\n",
       "      <td>393557</td>\n",
       "    </tr>\n",
       "  </tbody>\n",
       "</table>\n",
       "</div>"
      ]
     },
     "execution_count": 56,
     "metadata": {},
     "output_type": "execute_result"
    }
   ],
   "execution_count": 56
  },
  {
   "metadata": {
    "ExecuteTime": {
     "end_time": "2024-10-07T19:35:51.878929Z",
     "start_time": "2024-10-07T19:35:51.876476Z"
    }
   },
   "cell_type": "code",
   "source": [
    "filter_data = neg_filtered[neg_filtered['neg_name'].isin(filter_data['neg_name'])]\n",
    "checking_data(filter_data)"
   ],
   "outputs": [
    {
     "name": "stdout",
     "output_type": "stream",
     "text": [
      "Shape of the data frame is: (9, 16)\n",
      "Number of unique values in column 'neg_name': 3 \n"
     ]
    }
   ],
   "execution_count": 57
  },
  {
   "metadata": {
    "ExecuteTime": {
     "end_time": "2024-10-07T19:35:52.078670Z",
     "start_time": "2024-10-07T19:35:52.075939Z"
    }
   },
   "cell_type": "code",
   "source": [
    "good_negatives = pd.concat([good_negatives, filter_data])\n",
    "checking_data(good_negatives)"
   ],
   "outputs": [
    {
     "name": "stdout",
     "output_type": "stream",
     "text": [
      "Shape of the data frame is: (562, 16)\n",
      "Number of unique values in column 'neg_name': 167 \n"
     ]
    }
   ],
   "execution_count": 58
  },
  {
   "metadata": {
    "ExecuteTime": {
     "end_time": "2024-10-07T19:35:52.418212Z",
     "start_time": "2024-10-07T19:35:52.277914Z"
    }
   },
   "cell_type": "code",
   "source": [
    "# Let's remove them from \"neg_filtered\"\n",
    "neg_filtered = neg_filtered[~neg_filtered['neg_name'].isin(filter_data['neg_name'])]\n",
    "checking_data(neg_filtered)\n",
    "group_and_count(neg_filtered, \"neg_name\")"
   ],
   "outputs": [
    {
     "name": "stdout",
     "output_type": "stream",
     "text": [
      "Shape of the data frame is: (1103, 16)\n",
      "Number of unique values in column 'neg_name': 415 \n",
      "{'gene': 415, 'transcript': 415, '5utr': 23, '3utr': 191, 'CDS': 4}\n"
     ]
    },
    {
     "data": {
      "text/plain": [
       "                                                 notes  count\n",
       "0                                                  NaN    413\n",
       "1                                  ATG8/AUT7/APG8/PAZ2      3\n",
       "2                   methionine_aminopeptidase_2|MetAP2      3\n",
       "3    argininosuccinate_synthase|Citrulline-aspartat...      3\n",
       "4               beta_galactofuranosyl_transferase|LPG1      3\n",
       "..                                                 ...    ...\n",
       "174               Haloacid_dehalogenase-like_hydrolase      1\n",
       "175  protein-l-isoaspartate_o-methyltransferase_-_p...      1\n",
       "176                 2′-O-ribose_methyltransferase|MTr1      1\n",
       "177           mitochondrial_carrier_protein_-_putative      1\n",
       "178            adaptin_complex_1_subunit|beta_adaptin       1\n",
       "\n",
       "[179 rows x 2 columns]"
      ],
      "text/html": [
       "<div>\n",
       "<style scoped>\n",
       "    .dataframe tbody tr th:only-of-type {\n",
       "        vertical-align: middle;\n",
       "    }\n",
       "\n",
       "    .dataframe tbody tr th {\n",
       "        vertical-align: top;\n",
       "    }\n",
       "\n",
       "    .dataframe thead th {\n",
       "        text-align: right;\n",
       "    }\n",
       "</style>\n",
       "<table border=\"1\" class=\"dataframe\">\n",
       "  <thead>\n",
       "    <tr style=\"text-align: right;\">\n",
       "      <th></th>\n",
       "      <th>notes</th>\n",
       "      <th>count</th>\n",
       "    </tr>\n",
       "  </thead>\n",
       "  <tbody>\n",
       "    <tr>\n",
       "      <th>0</th>\n",
       "      <td>NaN</td>\n",
       "      <td>413</td>\n",
       "    </tr>\n",
       "    <tr>\n",
       "      <th>1</th>\n",
       "      <td>ATG8/AUT7/APG8/PAZ2</td>\n",
       "      <td>3</td>\n",
       "    </tr>\n",
       "    <tr>\n",
       "      <th>2</th>\n",
       "      <td>methionine_aminopeptidase_2|MetAP2</td>\n",
       "      <td>3</td>\n",
       "    </tr>\n",
       "    <tr>\n",
       "      <th>3</th>\n",
       "      <td>argininosuccinate_synthase|Citrulline-aspartat...</td>\n",
       "      <td>3</td>\n",
       "    </tr>\n",
       "    <tr>\n",
       "      <th>4</th>\n",
       "      <td>beta_galactofuranosyl_transferase|LPG1</td>\n",
       "      <td>3</td>\n",
       "    </tr>\n",
       "    <tr>\n",
       "      <th>...</th>\n",
       "      <td>...</td>\n",
       "      <td>...</td>\n",
       "    </tr>\n",
       "    <tr>\n",
       "      <th>174</th>\n",
       "      <td>Haloacid_dehalogenase-like_hydrolase</td>\n",
       "      <td>1</td>\n",
       "    </tr>\n",
       "    <tr>\n",
       "      <th>175</th>\n",
       "      <td>protein-l-isoaspartate_o-methyltransferase_-_p...</td>\n",
       "      <td>1</td>\n",
       "    </tr>\n",
       "    <tr>\n",
       "      <th>176</th>\n",
       "      <td>2′-O-ribose_methyltransferase|MTr1</td>\n",
       "      <td>1</td>\n",
       "    </tr>\n",
       "    <tr>\n",
       "      <th>177</th>\n",
       "      <td>mitochondrial_carrier_protein_-_putative</td>\n",
       "      <td>1</td>\n",
       "    </tr>\n",
       "    <tr>\n",
       "      <th>178</th>\n",
       "      <td>adaptin_complex_1_subunit|beta_adaptin</td>\n",
       "      <td>1</td>\n",
       "    </tr>\n",
       "  </tbody>\n",
       "</table>\n",
       "<p>179 rows × 2 columns</p>\n",
       "</div>"
      ]
     },
     "execution_count": 59,
     "metadata": {},
     "output_type": "execute_result"
    }
   ],
   "execution_count": 59
  },
  {
   "metadata": {},
   "cell_type": "markdown",
   "source": "### Checking. ATG8"
  },
  {
   "metadata": {
    "ExecuteTime": {
     "end_time": "2024-10-07T19:35:52.552488Z",
     "start_time": "2024-10-07T19:35:52.548386Z"
    }
   },
   "cell_type": "code",
   "source": [
    "filter_data = search_string(neg_filtered, \"ATG8\")\n",
    "filter_data['notes'].value_counts()"
   ],
   "outputs": [
    {
     "name": "stdout",
     "output_type": "stream",
     "text": [
      "The of filtered data: (6, 16)\n",
      "The unique values in column 'neg_name': 3\n"
     ]
    },
    {
     "data": {
      "text/plain": [
       "notes\n",
       "ATG8/AUT7/APG8/PAZ2    6\n",
       "Name: count, dtype: int64"
      ]
     },
     "execution_count": 60,
     "metadata": {},
     "output_type": "execute_result"
    }
   ],
   "execution_count": 60
  },
  {
   "metadata": {
    "ExecuteTime": {
     "end_time": "2024-10-07T19:35:52.772458Z",
     "start_time": "2024-10-07T19:35:52.767293Z"
    }
   },
   "cell_type": "code",
   "source": [
    "filter_data.loc[\n",
    "    filter_data[\"gene\"] == True,\n",
    "    ['neg_name', 'chrom', 'gene_id', 'notes', 'start', 'end']\n",
    "]"
   ],
   "outputs": [
    {
     "data": {
      "text/plain": [
       "                      neg_name    chrom         gene_id                notes  \\\n",
       "558    rejected_noCDS_c19.2110  LinJ.19  LINF_190013715  ATG8/AUT7/APG8/PAZ2   \n",
       "563  rejected_noCDS_c19.2120AD  LinJ.19  LINF_190013900  ATG8/AUT7/APG8/PAZ2   \n",
       "566  rejected_noCDS_c19.2130AD  LinJ.19  LINF_190014100  ATG8/AUT7/APG8/PAZ2   \n",
       "\n",
       "      start     end  \n",
       "558  354993  355737  \n",
       "563  361081  362554  \n",
       "566  364663  366138  "
      ],
      "text/html": [
       "<div>\n",
       "<style scoped>\n",
       "    .dataframe tbody tr th:only-of-type {\n",
       "        vertical-align: middle;\n",
       "    }\n",
       "\n",
       "    .dataframe tbody tr th {\n",
       "        vertical-align: top;\n",
       "    }\n",
       "\n",
       "    .dataframe thead th {\n",
       "        text-align: right;\n",
       "    }\n",
       "</style>\n",
       "<table border=\"1\" class=\"dataframe\">\n",
       "  <thead>\n",
       "    <tr style=\"text-align: right;\">\n",
       "      <th></th>\n",
       "      <th>neg_name</th>\n",
       "      <th>chrom</th>\n",
       "      <th>gene_id</th>\n",
       "      <th>notes</th>\n",
       "      <th>start</th>\n",
       "      <th>end</th>\n",
       "    </tr>\n",
       "  </thead>\n",
       "  <tbody>\n",
       "    <tr>\n",
       "      <th>558</th>\n",
       "      <td>rejected_noCDS_c19.2110</td>\n",
       "      <td>LinJ.19</td>\n",
       "      <td>LINF_190013715</td>\n",
       "      <td>ATG8/AUT7/APG8/PAZ2</td>\n",
       "      <td>354993</td>\n",
       "      <td>355737</td>\n",
       "    </tr>\n",
       "    <tr>\n",
       "      <th>563</th>\n",
       "      <td>rejected_noCDS_c19.2120AD</td>\n",
       "      <td>LinJ.19</td>\n",
       "      <td>LINF_190013900</td>\n",
       "      <td>ATG8/AUT7/APG8/PAZ2</td>\n",
       "      <td>361081</td>\n",
       "      <td>362554</td>\n",
       "    </tr>\n",
       "    <tr>\n",
       "      <th>566</th>\n",
       "      <td>rejected_noCDS_c19.2130AD</td>\n",
       "      <td>LinJ.19</td>\n",
       "      <td>LINF_190014100</td>\n",
       "      <td>ATG8/AUT7/APG8/PAZ2</td>\n",
       "      <td>364663</td>\n",
       "      <td>366138</td>\n",
       "    </tr>\n",
       "  </tbody>\n",
       "</table>\n",
       "</div>"
      ]
     },
     "execution_count": 61,
     "metadata": {},
     "output_type": "execute_result"
    }
   ],
   "execution_count": 61
  },
  {
   "metadata": {
    "ExecuteTime": {
     "end_time": "2024-10-07T19:35:52.929629Z",
     "start_time": "2024-10-07T19:35:52.926670Z"
    }
   },
   "cell_type": "code",
   "source": [
    "filter_data = neg_filtered[neg_filtered['neg_name'].isin(filter_data['neg_name'])]\n",
    "checking_data(filter_data)"
   ],
   "outputs": [
    {
     "name": "stdout",
     "output_type": "stream",
     "text": [
      "Shape of the data frame is: (11, 16)\n",
      "Number of unique values in column 'neg_name': 3 \n"
     ]
    }
   ],
   "execution_count": 62
  },
  {
   "metadata": {
    "ExecuteTime": {
     "end_time": "2024-10-07T19:35:53.095071Z",
     "start_time": "2024-10-07T19:35:53.092674Z"
    }
   },
   "cell_type": "code",
   "source": [
    "# Remove \"rejected_noCDS_c19.2110\" since it's in CDS\n",
    "filter_data = filter_data[filter_data['neg_name'] != 'rejected_noCDS_c19.2110']\n",
    "checking_data(filter_data)"
   ],
   "outputs": [
    {
     "name": "stdout",
     "output_type": "stream",
     "text": [
      "Shape of the data frame is: (6, 16)\n",
      "Number of unique values in column 'neg_name': 2 \n"
     ]
    }
   ],
   "execution_count": 63
  },
  {
   "metadata": {
    "ExecuteTime": {
     "end_time": "2024-10-07T19:35:53.233359Z",
     "start_time": "2024-10-07T19:35:53.230697Z"
    }
   },
   "cell_type": "code",
   "source": [
    "# Add to \"good_negatives\"\n",
    "good_negatives = pd.concat([good_negatives, filter_data])\n",
    "checking_data(good_negatives)"
   ],
   "outputs": [
    {
     "name": "stdout",
     "output_type": "stream",
     "text": [
      "Shape of the data frame is: (568, 16)\n",
      "Number of unique values in column 'neg_name': 169 \n"
     ]
    }
   ],
   "execution_count": 64
  },
  {
   "metadata": {
    "ExecuteTime": {
     "end_time": "2024-10-07T19:35:53.316552Z",
     "start_time": "2024-10-07T19:35:53.314951Z"
    }
   },
   "cell_type": "code",
   "source": "",
   "outputs": [],
   "execution_count": null
  },
  {
   "metadata": {
    "ExecuteTime": {
     "end_time": "2024-10-07T19:35:53.577347Z",
     "start_time": "2024-10-07T19:35:53.387435Z"
    }
   },
   "cell_type": "code",
   "source": [
    "# Remove from \"neg_filtered\"\n",
    "neg_filtered = neg_filtered[~neg_filtered['neg_name'].isin(filter_data['neg_name'])]\n",
    "checking_data(neg_filtered)\n",
    "group_and_count(neg_filtered, \"neg_name\")"
   ],
   "outputs": [
    {
     "name": "stdout",
     "output_type": "stream",
     "text": [
      "Shape of the data frame is: (1097, 16)\n",
      "Number of unique values in column 'neg_name': 413 \n",
      "{'gene': 413, 'transcript': 413, '5utr': 23, '3utr': 189, 'CDS': 4}\n"
     ]
    },
    {
     "data": {
      "text/plain": [
       "                                                 notes  count\n",
       "0                                                  NaN    411\n",
       "1                   methionine_aminopeptidase_2|MetAP2      3\n",
       "2    argininosuccinate_synthase|Citrulline-aspartat...      3\n",
       "3               beta_galactofuranosyl_transferase|LPG1      3\n",
       "4    ATP-binding_cassette_subfamily_A_-_member_1|ABCA1      2\n",
       "..                                                 ...    ...\n",
       "174               Haloacid_dehalogenase-like_hydrolase      1\n",
       "175  protein-l-isoaspartate_o-methyltransferase_-_p...      1\n",
       "176                 2′-O-ribose_methyltransferase|MTr1      1\n",
       "177           mitochondrial_carrier_protein_-_putative      1\n",
       "178            adaptin_complex_1_subunit|beta_adaptin       1\n",
       "\n",
       "[179 rows x 2 columns]"
      ],
      "text/html": [
       "<div>\n",
       "<style scoped>\n",
       "    .dataframe tbody tr th:only-of-type {\n",
       "        vertical-align: middle;\n",
       "    }\n",
       "\n",
       "    .dataframe tbody tr th {\n",
       "        vertical-align: top;\n",
       "    }\n",
       "\n",
       "    .dataframe thead th {\n",
       "        text-align: right;\n",
       "    }\n",
       "</style>\n",
       "<table border=\"1\" class=\"dataframe\">\n",
       "  <thead>\n",
       "    <tr style=\"text-align: right;\">\n",
       "      <th></th>\n",
       "      <th>notes</th>\n",
       "      <th>count</th>\n",
       "    </tr>\n",
       "  </thead>\n",
       "  <tbody>\n",
       "    <tr>\n",
       "      <th>0</th>\n",
       "      <td>NaN</td>\n",
       "      <td>411</td>\n",
       "    </tr>\n",
       "    <tr>\n",
       "      <th>1</th>\n",
       "      <td>methionine_aminopeptidase_2|MetAP2</td>\n",
       "      <td>3</td>\n",
       "    </tr>\n",
       "    <tr>\n",
       "      <th>2</th>\n",
       "      <td>argininosuccinate_synthase|Citrulline-aspartat...</td>\n",
       "      <td>3</td>\n",
       "    </tr>\n",
       "    <tr>\n",
       "      <th>3</th>\n",
       "      <td>beta_galactofuranosyl_transferase|LPG1</td>\n",
       "      <td>3</td>\n",
       "    </tr>\n",
       "    <tr>\n",
       "      <th>4</th>\n",
       "      <td>ATP-binding_cassette_subfamily_A_-_member_1|ABCA1</td>\n",
       "      <td>2</td>\n",
       "    </tr>\n",
       "    <tr>\n",
       "      <th>...</th>\n",
       "      <td>...</td>\n",
       "      <td>...</td>\n",
       "    </tr>\n",
       "    <tr>\n",
       "      <th>174</th>\n",
       "      <td>Haloacid_dehalogenase-like_hydrolase</td>\n",
       "      <td>1</td>\n",
       "    </tr>\n",
       "    <tr>\n",
       "      <th>175</th>\n",
       "      <td>protein-l-isoaspartate_o-methyltransferase_-_p...</td>\n",
       "      <td>1</td>\n",
       "    </tr>\n",
       "    <tr>\n",
       "      <th>176</th>\n",
       "      <td>2′-O-ribose_methyltransferase|MTr1</td>\n",
       "      <td>1</td>\n",
       "    </tr>\n",
       "    <tr>\n",
       "      <th>177</th>\n",
       "      <td>mitochondrial_carrier_protein_-_putative</td>\n",
       "      <td>1</td>\n",
       "    </tr>\n",
       "    <tr>\n",
       "      <th>178</th>\n",
       "      <td>adaptin_complex_1_subunit|beta_adaptin</td>\n",
       "      <td>1</td>\n",
       "    </tr>\n",
       "  </tbody>\n",
       "</table>\n",
       "<p>179 rows × 2 columns</p>\n",
       "</div>"
      ]
     },
     "execution_count": 65,
     "metadata": {},
     "output_type": "execute_result"
    }
   ],
   "execution_count": 65
  },
  {
   "metadata": {},
   "cell_type": "markdown",
   "source": "### Checking: MetAP2"
  },
  {
   "metadata": {
    "ExecuteTime": {
     "end_time": "2024-10-07T19:35:53.661977Z",
     "start_time": "2024-10-07T19:35:53.657925Z"
    }
   },
   "cell_type": "code",
   "source": [
    "filter_data = search_string(neg_filtered, \"MetAP2\")\n",
    "filter_data['notes'].value_counts()"
   ],
   "outputs": [
    {
     "name": "stdout",
     "output_type": "stream",
     "text": [
      "The of filtered data: (6, 16)\n",
      "The unique values in column 'neg_name': 3\n"
     ]
    },
    {
     "data": {
      "text/plain": [
       "notes\n",
       "methionine_aminopeptidase_2|MetAP2    6\n",
       "Name: count, dtype: int64"
      ]
     },
     "execution_count": 66,
     "metadata": {},
     "output_type": "execute_result"
    }
   ],
   "execution_count": 66
  },
  {
   "metadata": {
    "ExecuteTime": {
     "end_time": "2024-10-07T19:35:53.877495Z",
     "start_time": "2024-10-07T19:35:53.872571Z"
    }
   },
   "cell_type": "code",
   "source": [
    "filter_data.loc[\n",
    "    filter_data[\"gene\"] == True,\n",
    "    ['neg_name', 'chrom', 'gene_id', 'notes', 'start', 'end']\n",
    "]"
   ],
   "outputs": [
    {
     "data": {
      "text/plain": [
       "                    neg_name    chrom         gene_id  \\\n",
       "627  rejected_noCDS_c21.2350  LinJ.21  LINF_210014700   \n",
       "629  rejected_noCDS_c21.2360  LinJ.21  LINF_210014700   \n",
       "631  rejected_noCDS_c21.2370  LinJ.21  LINF_210014700   \n",
       "\n",
       "                                  notes   start     end  \n",
       "627  methionine_aminopeptidase_2|MetAP2  306597  310529  \n",
       "629  methionine_aminopeptidase_2|MetAP2  306597  310529  \n",
       "631  methionine_aminopeptidase_2|MetAP2  306597  310529  "
      ],
      "text/html": [
       "<div>\n",
       "<style scoped>\n",
       "    .dataframe tbody tr th:only-of-type {\n",
       "        vertical-align: middle;\n",
       "    }\n",
       "\n",
       "    .dataframe tbody tr th {\n",
       "        vertical-align: top;\n",
       "    }\n",
       "\n",
       "    .dataframe thead th {\n",
       "        text-align: right;\n",
       "    }\n",
       "</style>\n",
       "<table border=\"1\" class=\"dataframe\">\n",
       "  <thead>\n",
       "    <tr style=\"text-align: right;\">\n",
       "      <th></th>\n",
       "      <th>neg_name</th>\n",
       "      <th>chrom</th>\n",
       "      <th>gene_id</th>\n",
       "      <th>notes</th>\n",
       "      <th>start</th>\n",
       "      <th>end</th>\n",
       "    </tr>\n",
       "  </thead>\n",
       "  <tbody>\n",
       "    <tr>\n",
       "      <th>627</th>\n",
       "      <td>rejected_noCDS_c21.2350</td>\n",
       "      <td>LinJ.21</td>\n",
       "      <td>LINF_210014700</td>\n",
       "      <td>methionine_aminopeptidase_2|MetAP2</td>\n",
       "      <td>306597</td>\n",
       "      <td>310529</td>\n",
       "    </tr>\n",
       "    <tr>\n",
       "      <th>629</th>\n",
       "      <td>rejected_noCDS_c21.2360</td>\n",
       "      <td>LinJ.21</td>\n",
       "      <td>LINF_210014700</td>\n",
       "      <td>methionine_aminopeptidase_2|MetAP2</td>\n",
       "      <td>306597</td>\n",
       "      <td>310529</td>\n",
       "    </tr>\n",
       "    <tr>\n",
       "      <th>631</th>\n",
       "      <td>rejected_noCDS_c21.2370</td>\n",
       "      <td>LinJ.21</td>\n",
       "      <td>LINF_210014700</td>\n",
       "      <td>methionine_aminopeptidase_2|MetAP2</td>\n",
       "      <td>306597</td>\n",
       "      <td>310529</td>\n",
       "    </tr>\n",
       "  </tbody>\n",
       "</table>\n",
       "</div>"
      ]
     },
     "execution_count": 67,
     "metadata": {},
     "output_type": "execute_result"
    }
   ],
   "execution_count": 67
  },
  {
   "metadata": {
    "ExecuteTime": {
     "end_time": "2024-10-07T19:35:54.033191Z",
     "start_time": "2024-10-07T19:35:54.030648Z"
    }
   },
   "cell_type": "code",
   "source": [
    "filter_data = neg_filtered[neg_filtered['neg_name'].isin(filter_data['neg_name'])]\n",
    "checking_data(filter_data)"
   ],
   "outputs": [
    {
     "name": "stdout",
     "output_type": "stream",
     "text": [
      "Shape of the data frame is: (9, 16)\n",
      "Number of unique values in column 'neg_name': 3 \n"
     ]
    }
   ],
   "execution_count": 68
  },
  {
   "metadata": {
    "ExecuteTime": {
     "end_time": "2024-10-07T19:35:54.177010Z",
     "start_time": "2024-10-07T19:35:54.173917Z"
    }
   },
   "cell_type": "code",
   "source": [
    "# Add to \"good_negatives\"\n",
    "good_negatives = pd.concat([good_negatives, filter_data])\n",
    "checking_data(good_negatives)"
   ],
   "outputs": [
    {
     "name": "stdout",
     "output_type": "stream",
     "text": [
      "Shape of the data frame is: (577, 16)\n",
      "Number of unique values in column 'neg_name': 172 \n"
     ]
    }
   ],
   "execution_count": 69
  },
  {
   "metadata": {
    "ExecuteTime": {
     "end_time": "2024-10-07T19:35:54.472836Z",
     "start_time": "2024-10-07T19:35:54.314555Z"
    }
   },
   "cell_type": "code",
   "source": [
    "# Remove from \"neg_filtered\"\n",
    "neg_filtered = neg_filtered[~neg_filtered['neg_name'].isin(filter_data['neg_name'])]\n",
    "checking_data(neg_filtered)\n",
    "group_and_count(neg_filtered, \"neg_name\")"
   ],
   "outputs": [
    {
     "name": "stdout",
     "output_type": "stream",
     "text": [
      "Shape of the data frame is: (1088, 16)\n",
      "Number of unique values in column 'neg_name': 410 \n",
      "{'gene': 410, 'transcript': 410, '5utr': 23, '3utr': 186, 'CDS': 4}\n"
     ]
    },
    {
     "data": {
      "text/plain": [
       "                                                 notes  count\n",
       "0                                                  NaN    408\n",
       "1    argininosuccinate_synthase|Citrulline-aspartat...      3\n",
       "2               beta_galactofuranosyl_transferase|LPG1      3\n",
       "3    ATP-binding_cassette_subfamily_A_-_member_1|ABCA1      2\n",
       "4                                       protein_kinase      2\n",
       "..                                                 ...    ...\n",
       "173               Haloacid_dehalogenase-like_hydrolase      1\n",
       "174  protein-l-isoaspartate_o-methyltransferase_-_p...      1\n",
       "175                 2′-O-ribose_methyltransferase|MTr1      1\n",
       "176           mitochondrial_carrier_protein_-_putative      1\n",
       "177            adaptin_complex_1_subunit|beta_adaptin       1\n",
       "\n",
       "[178 rows x 2 columns]"
      ],
      "text/html": [
       "<div>\n",
       "<style scoped>\n",
       "    .dataframe tbody tr th:only-of-type {\n",
       "        vertical-align: middle;\n",
       "    }\n",
       "\n",
       "    .dataframe tbody tr th {\n",
       "        vertical-align: top;\n",
       "    }\n",
       "\n",
       "    .dataframe thead th {\n",
       "        text-align: right;\n",
       "    }\n",
       "</style>\n",
       "<table border=\"1\" class=\"dataframe\">\n",
       "  <thead>\n",
       "    <tr style=\"text-align: right;\">\n",
       "      <th></th>\n",
       "      <th>notes</th>\n",
       "      <th>count</th>\n",
       "    </tr>\n",
       "  </thead>\n",
       "  <tbody>\n",
       "    <tr>\n",
       "      <th>0</th>\n",
       "      <td>NaN</td>\n",
       "      <td>408</td>\n",
       "    </tr>\n",
       "    <tr>\n",
       "      <th>1</th>\n",
       "      <td>argininosuccinate_synthase|Citrulline-aspartat...</td>\n",
       "      <td>3</td>\n",
       "    </tr>\n",
       "    <tr>\n",
       "      <th>2</th>\n",
       "      <td>beta_galactofuranosyl_transferase|LPG1</td>\n",
       "      <td>3</td>\n",
       "    </tr>\n",
       "    <tr>\n",
       "      <th>3</th>\n",
       "      <td>ATP-binding_cassette_subfamily_A_-_member_1|ABCA1</td>\n",
       "      <td>2</td>\n",
       "    </tr>\n",
       "    <tr>\n",
       "      <th>4</th>\n",
       "      <td>protein_kinase</td>\n",
       "      <td>2</td>\n",
       "    </tr>\n",
       "    <tr>\n",
       "      <th>...</th>\n",
       "      <td>...</td>\n",
       "      <td>...</td>\n",
       "    </tr>\n",
       "    <tr>\n",
       "      <th>173</th>\n",
       "      <td>Haloacid_dehalogenase-like_hydrolase</td>\n",
       "      <td>1</td>\n",
       "    </tr>\n",
       "    <tr>\n",
       "      <th>174</th>\n",
       "      <td>protein-l-isoaspartate_o-methyltransferase_-_p...</td>\n",
       "      <td>1</td>\n",
       "    </tr>\n",
       "    <tr>\n",
       "      <th>175</th>\n",
       "      <td>2′-O-ribose_methyltransferase|MTr1</td>\n",
       "      <td>1</td>\n",
       "    </tr>\n",
       "    <tr>\n",
       "      <th>176</th>\n",
       "      <td>mitochondrial_carrier_protein_-_putative</td>\n",
       "      <td>1</td>\n",
       "    </tr>\n",
       "    <tr>\n",
       "      <th>177</th>\n",
       "      <td>adaptin_complex_1_subunit|beta_adaptin</td>\n",
       "      <td>1</td>\n",
       "    </tr>\n",
       "  </tbody>\n",
       "</table>\n",
       "<p>178 rows × 2 columns</p>\n",
       "</div>"
      ]
     },
     "execution_count": 70,
     "metadata": {},
     "output_type": "execute_result"
    }
   ],
   "execution_count": 70
  },
  {
   "metadata": {},
   "cell_type": "markdown",
   "source": "### Checking arginino"
  },
  {
   "metadata": {
    "ExecuteTime": {
     "end_time": "2024-10-07T19:35:54.582924Z",
     "start_time": "2024-10-07T19:35:54.576937Z"
    }
   },
   "cell_type": "code",
   "source": [
    "filter_data = search_string(neg_filtered, \"arginino\")\n",
    "filter_data['notes'].value_counts()"
   ],
   "outputs": [
    {
     "name": "stdout",
     "output_type": "stream",
     "text": [
      "The of filtered data: (6, 16)\n",
      "The unique values in column 'neg_name': 3\n"
     ]
    },
    {
     "data": {
      "text/plain": [
       "notes\n",
       "argininosuccinate_synthase|Citrulline-aspartate_ligase    6\n",
       "Name: count, dtype: int64"
      ]
     },
     "execution_count": 71,
     "metadata": {},
     "output_type": "execute_result"
    }
   ],
   "execution_count": 71
  },
  {
   "metadata": {
    "ExecuteTime": {
     "end_time": "2024-10-07T19:35:54.789961Z",
     "start_time": "2024-10-07T19:35:54.784888Z"
    }
   },
   "cell_type": "code",
   "source": [
    "filter_data.loc[\n",
    "    filter_data[\"gene\"] == True,\n",
    "    ['neg_name', 'chrom', 'gene_id', 'notes', 'start', 'end']\n",
    "]"
   ],
   "outputs": [
    {
     "data": {
      "text/plain": [
       "                      neg_name    chrom         gene_id  \\\n",
       "693  rejected_noCDS_c23.2580AG  LinJ.23  LINF_230007900   \n",
       "695  rejected_noCDS_c23.2590AG  LinJ.23  LINF_230007900   \n",
       "697  rejected_noCDS_c23.2600AG  LinJ.23  LINF_230007900   \n",
       "\n",
       "                                                 notes  start     end  \n",
       "693  argininosuccinate_synthase|Citrulline-aspartat...  93890  100632  \n",
       "695  argininosuccinate_synthase|Citrulline-aspartat...  93890  100632  \n",
       "697  argininosuccinate_synthase|Citrulline-aspartat...  93890  100632  "
      ],
      "text/html": [
       "<div>\n",
       "<style scoped>\n",
       "    .dataframe tbody tr th:only-of-type {\n",
       "        vertical-align: middle;\n",
       "    }\n",
       "\n",
       "    .dataframe tbody tr th {\n",
       "        vertical-align: top;\n",
       "    }\n",
       "\n",
       "    .dataframe thead th {\n",
       "        text-align: right;\n",
       "    }\n",
       "</style>\n",
       "<table border=\"1\" class=\"dataframe\">\n",
       "  <thead>\n",
       "    <tr style=\"text-align: right;\">\n",
       "      <th></th>\n",
       "      <th>neg_name</th>\n",
       "      <th>chrom</th>\n",
       "      <th>gene_id</th>\n",
       "      <th>notes</th>\n",
       "      <th>start</th>\n",
       "      <th>end</th>\n",
       "    </tr>\n",
       "  </thead>\n",
       "  <tbody>\n",
       "    <tr>\n",
       "      <th>693</th>\n",
       "      <td>rejected_noCDS_c23.2580AG</td>\n",
       "      <td>LinJ.23</td>\n",
       "      <td>LINF_230007900</td>\n",
       "      <td>argininosuccinate_synthase|Citrulline-aspartat...</td>\n",
       "      <td>93890</td>\n",
       "      <td>100632</td>\n",
       "    </tr>\n",
       "    <tr>\n",
       "      <th>695</th>\n",
       "      <td>rejected_noCDS_c23.2590AG</td>\n",
       "      <td>LinJ.23</td>\n",
       "      <td>LINF_230007900</td>\n",
       "      <td>argininosuccinate_synthase|Citrulline-aspartat...</td>\n",
       "      <td>93890</td>\n",
       "      <td>100632</td>\n",
       "    </tr>\n",
       "    <tr>\n",
       "      <th>697</th>\n",
       "      <td>rejected_noCDS_c23.2600AG</td>\n",
       "      <td>LinJ.23</td>\n",
       "      <td>LINF_230007900</td>\n",
       "      <td>argininosuccinate_synthase|Citrulline-aspartat...</td>\n",
       "      <td>93890</td>\n",
       "      <td>100632</td>\n",
       "    </tr>\n",
       "  </tbody>\n",
       "</table>\n",
       "</div>"
      ]
     },
     "execution_count": 72,
     "metadata": {},
     "output_type": "execute_result"
    }
   ],
   "execution_count": 72
  },
  {
   "metadata": {
    "ExecuteTime": {
     "end_time": "2024-10-07T19:35:54.896926Z",
     "start_time": "2024-10-07T19:35:54.894772Z"
    }
   },
   "cell_type": "code",
   "source": [
    "filter_data = neg_filtered[neg_filtered['neg_name'].isin(filter_data['neg_name'])]\n",
    "checking_data(filter_data)"
   ],
   "outputs": [
    {
     "name": "stdout",
     "output_type": "stream",
     "text": [
      "Shape of the data frame is: (9, 16)\n",
      "Number of unique values in column 'neg_name': 3 \n"
     ]
    }
   ],
   "execution_count": 73
  },
  {
   "metadata": {
    "ExecuteTime": {
     "end_time": "2024-10-07T19:35:55.060533Z",
     "start_time": "2024-10-07T19:35:55.057557Z"
    }
   },
   "cell_type": "code",
   "source": [
    "# Add to \"good_negatives\"\n",
    "good_negatives = pd.concat([good_negatives, filter_data])\n",
    "checking_data(good_negatives)"
   ],
   "outputs": [
    {
     "name": "stdout",
     "output_type": "stream",
     "text": [
      "Shape of the data frame is: (586, 16)\n",
      "Number of unique values in column 'neg_name': 175 \n"
     ]
    }
   ],
   "execution_count": 74
  },
  {
   "metadata": {
    "ExecuteTime": {
     "end_time": "2024-10-07T19:35:55.390840Z",
     "start_time": "2024-10-07T19:35:55.250260Z"
    }
   },
   "cell_type": "code",
   "source": [
    "# Remove from \"neg_filtered\"\n",
    "neg_filtered = neg_filtered[~neg_filtered['neg_name'].isin(filter_data['neg_name'])]\n",
    "checking_data(neg_filtered)\n",
    "group_and_count(neg_filtered, \"neg_name\")"
   ],
   "outputs": [
    {
     "name": "stdout",
     "output_type": "stream",
     "text": [
      "Shape of the data frame is: (1079, 16)\n",
      "Number of unique values in column 'neg_name': 407 \n",
      "{'gene': 407, 'transcript': 407, '5utr': 23, '3utr': 183, 'CDS': 4}\n"
     ]
    },
    {
     "data": {
      "text/plain": [
       "                                                 notes  count\n",
       "0                                                  NaN    405\n",
       "1               beta_galactofuranosyl_transferase|LPG1      3\n",
       "2    ATP-binding_cassette_subfamily_A_-_member_1|ABCA1      2\n",
       "3                                       protein_kinase      2\n",
       "4            dual_specificity_phosphatase-like_protein      2\n",
       "..                                                 ...    ...\n",
       "172               Haloacid_dehalogenase-like_hydrolase      1\n",
       "173  protein-l-isoaspartate_o-methyltransferase_-_p...      1\n",
       "174                 2′-O-ribose_methyltransferase|MTr1      1\n",
       "175           mitochondrial_carrier_protein_-_putative      1\n",
       "176            adaptin_complex_1_subunit|beta_adaptin       1\n",
       "\n",
       "[177 rows x 2 columns]"
      ],
      "text/html": [
       "<div>\n",
       "<style scoped>\n",
       "    .dataframe tbody tr th:only-of-type {\n",
       "        vertical-align: middle;\n",
       "    }\n",
       "\n",
       "    .dataframe tbody tr th {\n",
       "        vertical-align: top;\n",
       "    }\n",
       "\n",
       "    .dataframe thead th {\n",
       "        text-align: right;\n",
       "    }\n",
       "</style>\n",
       "<table border=\"1\" class=\"dataframe\">\n",
       "  <thead>\n",
       "    <tr style=\"text-align: right;\">\n",
       "      <th></th>\n",
       "      <th>notes</th>\n",
       "      <th>count</th>\n",
       "    </tr>\n",
       "  </thead>\n",
       "  <tbody>\n",
       "    <tr>\n",
       "      <th>0</th>\n",
       "      <td>NaN</td>\n",
       "      <td>405</td>\n",
       "    </tr>\n",
       "    <tr>\n",
       "      <th>1</th>\n",
       "      <td>beta_galactofuranosyl_transferase|LPG1</td>\n",
       "      <td>3</td>\n",
       "    </tr>\n",
       "    <tr>\n",
       "      <th>2</th>\n",
       "      <td>ATP-binding_cassette_subfamily_A_-_member_1|ABCA1</td>\n",
       "      <td>2</td>\n",
       "    </tr>\n",
       "    <tr>\n",
       "      <th>3</th>\n",
       "      <td>protein_kinase</td>\n",
       "      <td>2</td>\n",
       "    </tr>\n",
       "    <tr>\n",
       "      <th>4</th>\n",
       "      <td>dual_specificity_phosphatase-like_protein</td>\n",
       "      <td>2</td>\n",
       "    </tr>\n",
       "    <tr>\n",
       "      <th>...</th>\n",
       "      <td>...</td>\n",
       "      <td>...</td>\n",
       "    </tr>\n",
       "    <tr>\n",
       "      <th>172</th>\n",
       "      <td>Haloacid_dehalogenase-like_hydrolase</td>\n",
       "      <td>1</td>\n",
       "    </tr>\n",
       "    <tr>\n",
       "      <th>173</th>\n",
       "      <td>protein-l-isoaspartate_o-methyltransferase_-_p...</td>\n",
       "      <td>1</td>\n",
       "    </tr>\n",
       "    <tr>\n",
       "      <th>174</th>\n",
       "      <td>2′-O-ribose_methyltransferase|MTr1</td>\n",
       "      <td>1</td>\n",
       "    </tr>\n",
       "    <tr>\n",
       "      <th>175</th>\n",
       "      <td>mitochondrial_carrier_protein_-_putative</td>\n",
       "      <td>1</td>\n",
       "    </tr>\n",
       "    <tr>\n",
       "      <th>176</th>\n",
       "      <td>adaptin_complex_1_subunit|beta_adaptin</td>\n",
       "      <td>1</td>\n",
       "    </tr>\n",
       "  </tbody>\n",
       "</table>\n",
       "<p>177 rows × 2 columns</p>\n",
       "</div>"
      ]
     },
     "execution_count": 75,
     "metadata": {},
     "output_type": "execute_result"
    }
   ],
   "execution_count": 75
  },
  {
   "metadata": {},
   "cell_type": "markdown",
   "source": "### Checking: LPG1"
  },
  {
   "metadata": {
    "ExecuteTime": {
     "end_time": "2024-10-07T19:35:55.477755Z",
     "start_time": "2024-10-07T19:35:55.473662Z"
    }
   },
   "cell_type": "code",
   "source": [
    "filter_data = search_string(neg_filtered, \"LPG1\")\n",
    "filter_data['notes'].value_counts()"
   ],
   "outputs": [
    {
     "name": "stdout",
     "output_type": "stream",
     "text": [
      "The of filtered data: (6, 16)\n",
      "The unique values in column 'neg_name': 3\n"
     ]
    },
    {
     "data": {
      "text/plain": [
       "notes\n",
       "beta_galactofuranosyl_transferase|LPG1    6\n",
       "Name: count, dtype: int64"
      ]
     },
     "execution_count": 76,
     "metadata": {},
     "output_type": "execute_result"
    }
   ],
   "execution_count": 76
  },
  {
   "metadata": {
    "ExecuteTime": {
     "end_time": "2024-10-07T19:35:55.610404Z",
     "start_time": "2024-10-07T19:35:55.605570Z"
    }
   },
   "cell_type": "code",
   "source": [
    "filter_data.loc[\n",
    "    filter_data[\"gene\"] == True,\n",
    "    ['neg_name', 'chrom', 'gene_id', 'notes', 'start', 'end']\n",
    "]"
   ],
   "outputs": [
    {
     "data": {
      "text/plain": [
       "                      neg_name    chrom         gene_id  \\\n",
       "770  rejected_noCDS_c25.2860AL  LinJ.25  LINF_250005000   \n",
       "773  rejected_noCDS_c25.2870AM  LinJ.25  LINF_250005000   \n",
       "776  rejected_noCDS_c25.2850AK  LinJ.25  LINF_250005000   \n",
       "\n",
       "                                      notes  start   end  \n",
       "770  beta_galactofuranosyl_transferase|LPG1    799  5363  \n",
       "773  beta_galactofuranosyl_transferase|LPG1    799  5363  \n",
       "776  beta_galactofuranosyl_transferase|LPG1    799  5363  "
      ],
      "text/html": [
       "<div>\n",
       "<style scoped>\n",
       "    .dataframe tbody tr th:only-of-type {\n",
       "        vertical-align: middle;\n",
       "    }\n",
       "\n",
       "    .dataframe tbody tr th {\n",
       "        vertical-align: top;\n",
       "    }\n",
       "\n",
       "    .dataframe thead th {\n",
       "        text-align: right;\n",
       "    }\n",
       "</style>\n",
       "<table border=\"1\" class=\"dataframe\">\n",
       "  <thead>\n",
       "    <tr style=\"text-align: right;\">\n",
       "      <th></th>\n",
       "      <th>neg_name</th>\n",
       "      <th>chrom</th>\n",
       "      <th>gene_id</th>\n",
       "      <th>notes</th>\n",
       "      <th>start</th>\n",
       "      <th>end</th>\n",
       "    </tr>\n",
       "  </thead>\n",
       "  <tbody>\n",
       "    <tr>\n",
       "      <th>770</th>\n",
       "      <td>rejected_noCDS_c25.2860AL</td>\n",
       "      <td>LinJ.25</td>\n",
       "      <td>LINF_250005000</td>\n",
       "      <td>beta_galactofuranosyl_transferase|LPG1</td>\n",
       "      <td>799</td>\n",
       "      <td>5363</td>\n",
       "    </tr>\n",
       "    <tr>\n",
       "      <th>773</th>\n",
       "      <td>rejected_noCDS_c25.2870AM</td>\n",
       "      <td>LinJ.25</td>\n",
       "      <td>LINF_250005000</td>\n",
       "      <td>beta_galactofuranosyl_transferase|LPG1</td>\n",
       "      <td>799</td>\n",
       "      <td>5363</td>\n",
       "    </tr>\n",
       "    <tr>\n",
       "      <th>776</th>\n",
       "      <td>rejected_noCDS_c25.2850AK</td>\n",
       "      <td>LinJ.25</td>\n",
       "      <td>LINF_250005000</td>\n",
       "      <td>beta_galactofuranosyl_transferase|LPG1</td>\n",
       "      <td>799</td>\n",
       "      <td>5363</td>\n",
       "    </tr>\n",
       "  </tbody>\n",
       "</table>\n",
       "</div>"
      ]
     },
     "execution_count": 77,
     "metadata": {},
     "output_type": "execute_result"
    }
   ],
   "execution_count": 77
  },
  {
   "metadata": {
    "ExecuteTime": {
     "end_time": "2024-10-07T19:35:55.775919Z",
     "start_time": "2024-10-07T19:35:55.769160Z"
    }
   },
   "cell_type": "code",
   "source": [
    "neg_to_filter.loc[\n",
    "    (neg_to_filter['neg_name'].str.contains(r'\\d+AL$', na=False)) & (neg_to_filter['gene'] == True),\n",
    "    ['neg_name', 'chrom', 'gene_id', 'notes', 'start', 'end']\n",
    "]"
   ],
   "outputs": [
    {
     "data": {
      "text/plain": [
       "                      neg_name    chrom         gene_id  \\\n",
       "770  rejected_noCDS_c25.2860AL  LinJ.25  LINF_250005000   \n",
       "779  rejected_noCDS_c25.2880AL  LinJ.25  LINF_250006300   \n",
       "785  rejected_noCDS_c25.2900AL  LinJ.25  LINF_250007950   \n",
       "\n",
       "                                      notes  start    end  \n",
       "770  beta_galactofuranosyl_transferase|LPG1    799   5363  \n",
       "779          electron_transfer_flavoprotein  29864  33171  \n",
       "785                                     NaN  81625  83195  "
      ],
      "text/html": [
       "<div>\n",
       "<style scoped>\n",
       "    .dataframe tbody tr th:only-of-type {\n",
       "        vertical-align: middle;\n",
       "    }\n",
       "\n",
       "    .dataframe tbody tr th {\n",
       "        vertical-align: top;\n",
       "    }\n",
       "\n",
       "    .dataframe thead th {\n",
       "        text-align: right;\n",
       "    }\n",
       "</style>\n",
       "<table border=\"1\" class=\"dataframe\">\n",
       "  <thead>\n",
       "    <tr style=\"text-align: right;\">\n",
       "      <th></th>\n",
       "      <th>neg_name</th>\n",
       "      <th>chrom</th>\n",
       "      <th>gene_id</th>\n",
       "      <th>notes</th>\n",
       "      <th>start</th>\n",
       "      <th>end</th>\n",
       "    </tr>\n",
       "  </thead>\n",
       "  <tbody>\n",
       "    <tr>\n",
       "      <th>770</th>\n",
       "      <td>rejected_noCDS_c25.2860AL</td>\n",
       "      <td>LinJ.25</td>\n",
       "      <td>LINF_250005000</td>\n",
       "      <td>beta_galactofuranosyl_transferase|LPG1</td>\n",
       "      <td>799</td>\n",
       "      <td>5363</td>\n",
       "    </tr>\n",
       "    <tr>\n",
       "      <th>779</th>\n",
       "      <td>rejected_noCDS_c25.2880AL</td>\n",
       "      <td>LinJ.25</td>\n",
       "      <td>LINF_250006300</td>\n",
       "      <td>electron_transfer_flavoprotein</td>\n",
       "      <td>29864</td>\n",
       "      <td>33171</td>\n",
       "    </tr>\n",
       "    <tr>\n",
       "      <th>785</th>\n",
       "      <td>rejected_noCDS_c25.2900AL</td>\n",
       "      <td>LinJ.25</td>\n",
       "      <td>LINF_250007950</td>\n",
       "      <td>NaN</td>\n",
       "      <td>81625</td>\n",
       "      <td>83195</td>\n",
       "    </tr>\n",
       "  </tbody>\n",
       "</table>\n",
       "</div>"
      ]
     },
     "execution_count": 78,
     "metadata": {},
     "output_type": "execute_result"
    }
   ],
   "execution_count": 78
  },
  {
   "metadata": {
    "ExecuteTime": {
     "end_time": "2024-10-07T19:35:56.021620Z",
     "start_time": "2024-10-07T19:35:56.015116Z"
    }
   },
   "cell_type": "code",
   "source": [
    "neg_to_filter.loc[\n",
    "    (neg_to_filter['neg_name'].str.contains(r'\\d+AM$', na=False)) & (neg_to_filter['gene'] == True),\n",
    "    ['neg_name', 'chrom', 'gene_id', 'notes', 'start', 'end']\n",
    "]"
   ],
   "outputs": [
    {
     "data": {
      "text/plain": [
       "                      neg_name    chrom         gene_id  \\\n",
       "773  rejected_noCDS_c25.2870AM  LinJ.25  LINF_250005000   \n",
       "787  rejected_noCDS_c25.2910AM  LinJ.25  LINF_250007950   \n",
       "\n",
       "                                      notes  start    end  \n",
       "773  beta_galactofuranosyl_transferase|LPG1    799   5363  \n",
       "787                                     NaN  81625  83195  "
      ],
      "text/html": [
       "<div>\n",
       "<style scoped>\n",
       "    .dataframe tbody tr th:only-of-type {\n",
       "        vertical-align: middle;\n",
       "    }\n",
       "\n",
       "    .dataframe tbody tr th {\n",
       "        vertical-align: top;\n",
       "    }\n",
       "\n",
       "    .dataframe thead th {\n",
       "        text-align: right;\n",
       "    }\n",
       "</style>\n",
       "<table border=\"1\" class=\"dataframe\">\n",
       "  <thead>\n",
       "    <tr style=\"text-align: right;\">\n",
       "      <th></th>\n",
       "      <th>neg_name</th>\n",
       "      <th>chrom</th>\n",
       "      <th>gene_id</th>\n",
       "      <th>notes</th>\n",
       "      <th>start</th>\n",
       "      <th>end</th>\n",
       "    </tr>\n",
       "  </thead>\n",
       "  <tbody>\n",
       "    <tr>\n",
       "      <th>773</th>\n",
       "      <td>rejected_noCDS_c25.2870AM</td>\n",
       "      <td>LinJ.25</td>\n",
       "      <td>LINF_250005000</td>\n",
       "      <td>beta_galactofuranosyl_transferase|LPG1</td>\n",
       "      <td>799</td>\n",
       "      <td>5363</td>\n",
       "    </tr>\n",
       "    <tr>\n",
       "      <th>787</th>\n",
       "      <td>rejected_noCDS_c25.2910AM</td>\n",
       "      <td>LinJ.25</td>\n",
       "      <td>LINF_250007950</td>\n",
       "      <td>NaN</td>\n",
       "      <td>81625</td>\n",
       "      <td>83195</td>\n",
       "    </tr>\n",
       "  </tbody>\n",
       "</table>\n",
       "</div>"
      ]
     },
     "execution_count": 79,
     "metadata": {},
     "output_type": "execute_result"
    }
   ],
   "execution_count": 79
  },
  {
   "metadata": {
    "ExecuteTime": {
     "end_time": "2024-10-07T19:35:56.243638Z",
     "start_time": "2024-10-07T19:35:56.237187Z"
    }
   },
   "cell_type": "code",
   "source": [
    "neg_to_filter.loc[\n",
    "    (neg_to_filter['neg_name'].str.contains(r'\\d+AK$', na=False)) & (neg_to_filter['gene'] == True),\n",
    "    ['neg_name', 'chrom', 'gene_id', 'notes', 'start', 'end']\n",
    "]"
   ],
   "outputs": [
    {
     "data": {
      "text/plain": [
       "                       neg_name    chrom         gene_id  \\\n",
       "776   rejected_noCDS_c25.2850AK  LinJ.25  LINF_250005000   \n",
       "1359  rejected_noCDS_c33.5040AK  LinJ.33  LINF_330042920   \n",
       "\n",
       "                                       notes    start      end  \n",
       "776   beta_galactofuranosyl_transferase|LPG1      799     5363  \n",
       "1359                                     NaN  1531735  1532106  "
      ],
      "text/html": [
       "<div>\n",
       "<style scoped>\n",
       "    .dataframe tbody tr th:only-of-type {\n",
       "        vertical-align: middle;\n",
       "    }\n",
       "\n",
       "    .dataframe tbody tr th {\n",
       "        vertical-align: top;\n",
       "    }\n",
       "\n",
       "    .dataframe thead th {\n",
       "        text-align: right;\n",
       "    }\n",
       "</style>\n",
       "<table border=\"1\" class=\"dataframe\">\n",
       "  <thead>\n",
       "    <tr style=\"text-align: right;\">\n",
       "      <th></th>\n",
       "      <th>neg_name</th>\n",
       "      <th>chrom</th>\n",
       "      <th>gene_id</th>\n",
       "      <th>notes</th>\n",
       "      <th>start</th>\n",
       "      <th>end</th>\n",
       "    </tr>\n",
       "  </thead>\n",
       "  <tbody>\n",
       "    <tr>\n",
       "      <th>776</th>\n",
       "      <td>rejected_noCDS_c25.2850AK</td>\n",
       "      <td>LinJ.25</td>\n",
       "      <td>LINF_250005000</td>\n",
       "      <td>beta_galactofuranosyl_transferase|LPG1</td>\n",
       "      <td>799</td>\n",
       "      <td>5363</td>\n",
       "    </tr>\n",
       "    <tr>\n",
       "      <th>1359</th>\n",
       "      <td>rejected_noCDS_c33.5040AK</td>\n",
       "      <td>LinJ.33</td>\n",
       "      <td>LINF_330042920</td>\n",
       "      <td>NaN</td>\n",
       "      <td>1531735</td>\n",
       "      <td>1532106</td>\n",
       "    </tr>\n",
       "  </tbody>\n",
       "</table>\n",
       "</div>"
      ]
     },
     "execution_count": 80,
     "metadata": {},
     "output_type": "execute_result"
    }
   ],
   "execution_count": 80
  },
  {
   "metadata": {
    "ExecuteTime": {
     "end_time": "2024-10-07T19:35:56.447282Z",
     "start_time": "2024-10-07T19:35:56.445081Z"
    }
   },
   "cell_type": "code",
   "source": [
    "filter_data = neg_filtered[neg_filtered['neg_name'].isin(filter_data['neg_name'])]\n",
    "checking_data(filter_data)"
   ],
   "outputs": [
    {
     "name": "stdout",
     "output_type": "stream",
     "text": [
      "Shape of the data frame is: (9, 16)\n",
      "Number of unique values in column 'neg_name': 3 \n"
     ]
    }
   ],
   "execution_count": 81
  },
  {
   "metadata": {
    "ExecuteTime": {
     "end_time": "2024-10-07T19:35:56.562343Z",
     "start_time": "2024-10-07T19:35:56.559377Z"
    }
   },
   "cell_type": "code",
   "source": [
    "# Add to \"good_negatives\"\n",
    "good_negatives = pd.concat([good_negatives, filter_data])\n",
    "checking_data(good_negatives)"
   ],
   "outputs": [
    {
     "name": "stdout",
     "output_type": "stream",
     "text": [
      "Shape of the data frame is: (595, 16)\n",
      "Number of unique values in column 'neg_name': 178 \n"
     ]
    }
   ],
   "execution_count": 82
  },
  {
   "metadata": {
    "ExecuteTime": {
     "end_time": "2024-10-07T19:35:56.913869Z",
     "start_time": "2024-10-07T19:35:56.772435Z"
    }
   },
   "cell_type": "code",
   "source": [
    "# Remove from \"neg_filtered\"\n",
    "neg_filtered = neg_filtered[~neg_filtered['neg_name'].isin(filter_data['neg_name'])]\n",
    "checking_data(neg_filtered)\n",
    "group_and_count(neg_filtered, \"neg_name\")"
   ],
   "outputs": [
    {
     "name": "stdout",
     "output_type": "stream",
     "text": [
      "Shape of the data frame is: (1070, 16)\n",
      "Number of unique values in column 'neg_name': 404 \n",
      "{'gene': 404, 'transcript': 404, '5utr': 23, '3utr': 180, 'CDS': 4}\n"
     ]
    },
    {
     "data": {
      "text/plain": [
       "                                                 notes  count\n",
       "0                                                  NaN    402\n",
       "1    ATP-binding_cassette_subfamily_A_-_member_1|ABCA1      2\n",
       "2                                       protein_kinase      2\n",
       "3            dual_specificity_phosphatase-like_protein      2\n",
       "4                 vacuolar-type_Ca2+-ATPase_-_putative      2\n",
       "..                                                 ...    ...\n",
       "171               Haloacid_dehalogenase-like_hydrolase      1\n",
       "172  protein-l-isoaspartate_o-methyltransferase_-_p...      1\n",
       "173                 2′-O-ribose_methyltransferase|MTr1      1\n",
       "174           mitochondrial_carrier_protein_-_putative      1\n",
       "175            adaptin_complex_1_subunit|beta_adaptin       1\n",
       "\n",
       "[176 rows x 2 columns]"
      ],
      "text/html": [
       "<div>\n",
       "<style scoped>\n",
       "    .dataframe tbody tr th:only-of-type {\n",
       "        vertical-align: middle;\n",
       "    }\n",
       "\n",
       "    .dataframe tbody tr th {\n",
       "        vertical-align: top;\n",
       "    }\n",
       "\n",
       "    .dataframe thead th {\n",
       "        text-align: right;\n",
       "    }\n",
       "</style>\n",
       "<table border=\"1\" class=\"dataframe\">\n",
       "  <thead>\n",
       "    <tr style=\"text-align: right;\">\n",
       "      <th></th>\n",
       "      <th>notes</th>\n",
       "      <th>count</th>\n",
       "    </tr>\n",
       "  </thead>\n",
       "  <tbody>\n",
       "    <tr>\n",
       "      <th>0</th>\n",
       "      <td>NaN</td>\n",
       "      <td>402</td>\n",
       "    </tr>\n",
       "    <tr>\n",
       "      <th>1</th>\n",
       "      <td>ATP-binding_cassette_subfamily_A_-_member_1|ABCA1</td>\n",
       "      <td>2</td>\n",
       "    </tr>\n",
       "    <tr>\n",
       "      <th>2</th>\n",
       "      <td>protein_kinase</td>\n",
       "      <td>2</td>\n",
       "    </tr>\n",
       "    <tr>\n",
       "      <th>3</th>\n",
       "      <td>dual_specificity_phosphatase-like_protein</td>\n",
       "      <td>2</td>\n",
       "    </tr>\n",
       "    <tr>\n",
       "      <th>4</th>\n",
       "      <td>vacuolar-type_Ca2+-ATPase_-_putative</td>\n",
       "      <td>2</td>\n",
       "    </tr>\n",
       "    <tr>\n",
       "      <th>...</th>\n",
       "      <td>...</td>\n",
       "      <td>...</td>\n",
       "    </tr>\n",
       "    <tr>\n",
       "      <th>171</th>\n",
       "      <td>Haloacid_dehalogenase-like_hydrolase</td>\n",
       "      <td>1</td>\n",
       "    </tr>\n",
       "    <tr>\n",
       "      <th>172</th>\n",
       "      <td>protein-l-isoaspartate_o-methyltransferase_-_p...</td>\n",
       "      <td>1</td>\n",
       "    </tr>\n",
       "    <tr>\n",
       "      <th>173</th>\n",
       "      <td>2′-O-ribose_methyltransferase|MTr1</td>\n",
       "      <td>1</td>\n",
       "    </tr>\n",
       "    <tr>\n",
       "      <th>174</th>\n",
       "      <td>mitochondrial_carrier_protein_-_putative</td>\n",
       "      <td>1</td>\n",
       "    </tr>\n",
       "    <tr>\n",
       "      <th>175</th>\n",
       "      <td>adaptin_complex_1_subunit|beta_adaptin</td>\n",
       "      <td>1</td>\n",
       "    </tr>\n",
       "  </tbody>\n",
       "</table>\n",
       "<p>176 rows × 2 columns</p>\n",
       "</div>"
      ]
     },
     "execution_count": 83,
     "metadata": {},
     "output_type": "execute_result"
    }
   ],
   "execution_count": 83
  },
  {
   "metadata": {},
   "cell_type": "markdown",
   "source": "### Checking: cassette"
  },
  {
   "metadata": {
    "ExecuteTime": {
     "end_time": "2024-10-07T19:35:57.017775Z",
     "start_time": "2024-10-07T19:35:57.011398Z"
    }
   },
   "cell_type": "code",
   "source": [
    "filter_data = search_string(neg_filtered, \"cassette\")\n",
    "filter_data['notes'].value_counts()"
   ],
   "outputs": [
    {
     "name": "stdout",
     "output_type": "stream",
     "text": [
      "The of filtered data: (10, 16)\n",
      "The unique values in column 'neg_name': 5\n"
     ]
    },
    {
     "data": {
      "text/plain": [
       "notes\n",
       "ATP-binding_cassette_subfamily_A_-_member_1|ABCA1           4\n",
       "ATP-binding_cassette_protein_subfamily_A,_member_7|ABCA7    4\n",
       "ATP-binding_cassette_protein_subfamily_B,_member_2|ABCB2    2\n",
       "Name: count, dtype: int64"
      ]
     },
     "execution_count": 84,
     "metadata": {},
     "output_type": "execute_result"
    }
   ],
   "execution_count": 84
  },
  {
   "metadata": {
    "ExecuteTime": {
     "end_time": "2024-10-07T19:35:57.175769Z",
     "start_time": "2024-10-07T19:35:57.170621Z"
    }
   },
   "cell_type": "code",
   "source": [
    "filter_data.loc[\n",
    "    filter_data[\"gene\"] == True,\n",
    "    ['neg_name', 'chrom', 'gene_id', 'notes', 'start', 'end']\n",
    "]"
   ],
   "outputs": [
    {
     "data": {
      "text/plain": [
       "                    neg_name    chrom         gene_id  \\\n",
       "32    rejected_noCDS_c02.140  LinJ.02  LINF_020008000   \n",
       "35    rejected_noCDS_c02.150  LinJ.02  LINF_020008000   \n",
       "430  rejected_noCDS_c15.1630  LinJ.15  LINF_150015400   \n",
       "433  rejected_noCDS_c15.1640  LinJ.15  LINF_150015400   \n",
       "860  rejected_noCDS_c26.3190  LinJ.26  LINF_260032600   \n",
       "\n",
       "                                                 notes    start      end  \n",
       "32   ATP-binding_cassette_subfamily_A_-_member_1|ABCA1   139717   150152  \n",
       "35   ATP-binding_cassette_subfamily_A_-_member_1|ABCA1   139717   150152  \n",
       "430  ATP-binding_cassette_protein_subfamily_A,_memb...   353060   362858  \n",
       "433  ATP-binding_cassette_protein_subfamily_A,_memb...   353060   362858  \n",
       "860  ATP-binding_cassette_protein_subfamily_B,_memb...  1034309  1041738  "
      ],
      "text/html": [
       "<div>\n",
       "<style scoped>\n",
       "    .dataframe tbody tr th:only-of-type {\n",
       "        vertical-align: middle;\n",
       "    }\n",
       "\n",
       "    .dataframe tbody tr th {\n",
       "        vertical-align: top;\n",
       "    }\n",
       "\n",
       "    .dataframe thead th {\n",
       "        text-align: right;\n",
       "    }\n",
       "</style>\n",
       "<table border=\"1\" class=\"dataframe\">\n",
       "  <thead>\n",
       "    <tr style=\"text-align: right;\">\n",
       "      <th></th>\n",
       "      <th>neg_name</th>\n",
       "      <th>chrom</th>\n",
       "      <th>gene_id</th>\n",
       "      <th>notes</th>\n",
       "      <th>start</th>\n",
       "      <th>end</th>\n",
       "    </tr>\n",
       "  </thead>\n",
       "  <tbody>\n",
       "    <tr>\n",
       "      <th>32</th>\n",
       "      <td>rejected_noCDS_c02.140</td>\n",
       "      <td>LinJ.02</td>\n",
       "      <td>LINF_020008000</td>\n",
       "      <td>ATP-binding_cassette_subfamily_A_-_member_1|ABCA1</td>\n",
       "      <td>139717</td>\n",
       "      <td>150152</td>\n",
       "    </tr>\n",
       "    <tr>\n",
       "      <th>35</th>\n",
       "      <td>rejected_noCDS_c02.150</td>\n",
       "      <td>LinJ.02</td>\n",
       "      <td>LINF_020008000</td>\n",
       "      <td>ATP-binding_cassette_subfamily_A_-_member_1|ABCA1</td>\n",
       "      <td>139717</td>\n",
       "      <td>150152</td>\n",
       "    </tr>\n",
       "    <tr>\n",
       "      <th>430</th>\n",
       "      <td>rejected_noCDS_c15.1630</td>\n",
       "      <td>LinJ.15</td>\n",
       "      <td>LINF_150015400</td>\n",
       "      <td>ATP-binding_cassette_protein_subfamily_A,_memb...</td>\n",
       "      <td>353060</td>\n",
       "      <td>362858</td>\n",
       "    </tr>\n",
       "    <tr>\n",
       "      <th>433</th>\n",
       "      <td>rejected_noCDS_c15.1640</td>\n",
       "      <td>LinJ.15</td>\n",
       "      <td>LINF_150015400</td>\n",
       "      <td>ATP-binding_cassette_protein_subfamily_A,_memb...</td>\n",
       "      <td>353060</td>\n",
       "      <td>362858</td>\n",
       "    </tr>\n",
       "    <tr>\n",
       "      <th>860</th>\n",
       "      <td>rejected_noCDS_c26.3190</td>\n",
       "      <td>LinJ.26</td>\n",
       "      <td>LINF_260032600</td>\n",
       "      <td>ATP-binding_cassette_protein_subfamily_B,_memb...</td>\n",
       "      <td>1034309</td>\n",
       "      <td>1041738</td>\n",
       "    </tr>\n",
       "  </tbody>\n",
       "</table>\n",
       "</div>"
      ]
     },
     "execution_count": 85,
     "metadata": {},
     "output_type": "execute_result"
    }
   ],
   "execution_count": 85
  },
  {
   "metadata": {
    "ExecuteTime": {
     "end_time": "2024-10-07T19:35:57.270818Z",
     "start_time": "2024-10-07T19:35:57.268437Z"
    }
   },
   "cell_type": "code",
   "source": [
    "filter_data = neg_filtered[neg_filtered['neg_name'].isin(filter_data['neg_name'])]\n",
    "checking_data(filter_data)"
   ],
   "outputs": [
    {
     "name": "stdout",
     "output_type": "stream",
     "text": [
      "Shape of the data frame is: (20, 16)\n",
      "Number of unique values in column 'neg_name': 5 \n"
     ]
    }
   ],
   "execution_count": 86
  },
  {
   "metadata": {
    "ExecuteTime": {
     "end_time": "2024-10-07T19:35:57.502586Z",
     "start_time": "2024-10-07T19:35:57.354880Z"
    }
   },
   "cell_type": "code",
   "source": [
    "# Remove from \"neg_filtered\"\n",
    "neg_filtered = neg_filtered[~neg_filtered['neg_name'].isin(filter_data['neg_name'])]\n",
    "checking_data(neg_filtered)\n",
    "group_and_count(neg_filtered, \"neg_name\")"
   ],
   "outputs": [
    {
     "name": "stdout",
     "output_type": "stream",
     "text": [
      "Shape of the data frame is: (1050, 16)\n",
      "Number of unique values in column 'neg_name': 399 \n",
      "{'gene': 399, 'transcript': 399, '5utr': 22, '3utr': 175, 'CDS': 4}\n"
     ]
    },
    {
     "data": {
      "text/plain": [
       "                                                 notes  count\n",
       "0                                                  NaN    397\n",
       "1                                       protein_kinase      2\n",
       "2            dual_specificity_phosphatase-like_protein      2\n",
       "3                 vacuolar-type_Ca2+-ATPase_-_putative      2\n",
       "4               malonyl-coa_decarboxylase-like_protein      2\n",
       "..                                                 ...    ...\n",
       "167               Haloacid_dehalogenase-like_hydrolase      1\n",
       "168  protein-l-isoaspartate_o-methyltransferase_-_p...      1\n",
       "169                 2′-O-ribose_methyltransferase|MTr1      1\n",
       "170           mitochondrial_carrier_protein_-_putative      1\n",
       "171            adaptin_complex_1_subunit|beta_adaptin       1\n",
       "\n",
       "[172 rows x 2 columns]"
      ],
      "text/html": [
       "<div>\n",
       "<style scoped>\n",
       "    .dataframe tbody tr th:only-of-type {\n",
       "        vertical-align: middle;\n",
       "    }\n",
       "\n",
       "    .dataframe tbody tr th {\n",
       "        vertical-align: top;\n",
       "    }\n",
       "\n",
       "    .dataframe thead th {\n",
       "        text-align: right;\n",
       "    }\n",
       "</style>\n",
       "<table border=\"1\" class=\"dataframe\">\n",
       "  <thead>\n",
       "    <tr style=\"text-align: right;\">\n",
       "      <th></th>\n",
       "      <th>notes</th>\n",
       "      <th>count</th>\n",
       "    </tr>\n",
       "  </thead>\n",
       "  <tbody>\n",
       "    <tr>\n",
       "      <th>0</th>\n",
       "      <td>NaN</td>\n",
       "      <td>397</td>\n",
       "    </tr>\n",
       "    <tr>\n",
       "      <th>1</th>\n",
       "      <td>protein_kinase</td>\n",
       "      <td>2</td>\n",
       "    </tr>\n",
       "    <tr>\n",
       "      <th>2</th>\n",
       "      <td>dual_specificity_phosphatase-like_protein</td>\n",
       "      <td>2</td>\n",
       "    </tr>\n",
       "    <tr>\n",
       "      <th>3</th>\n",
       "      <td>vacuolar-type_Ca2+-ATPase_-_putative</td>\n",
       "      <td>2</td>\n",
       "    </tr>\n",
       "    <tr>\n",
       "      <th>4</th>\n",
       "      <td>malonyl-coa_decarboxylase-like_protein</td>\n",
       "      <td>2</td>\n",
       "    </tr>\n",
       "    <tr>\n",
       "      <th>...</th>\n",
       "      <td>...</td>\n",
       "      <td>...</td>\n",
       "    </tr>\n",
       "    <tr>\n",
       "      <th>167</th>\n",
       "      <td>Haloacid_dehalogenase-like_hydrolase</td>\n",
       "      <td>1</td>\n",
       "    </tr>\n",
       "    <tr>\n",
       "      <th>168</th>\n",
       "      <td>protein-l-isoaspartate_o-methyltransferase_-_p...</td>\n",
       "      <td>1</td>\n",
       "    </tr>\n",
       "    <tr>\n",
       "      <th>169</th>\n",
       "      <td>2′-O-ribose_methyltransferase|MTr1</td>\n",
       "      <td>1</td>\n",
       "    </tr>\n",
       "    <tr>\n",
       "      <th>170</th>\n",
       "      <td>mitochondrial_carrier_protein_-_putative</td>\n",
       "      <td>1</td>\n",
       "    </tr>\n",
       "    <tr>\n",
       "      <th>171</th>\n",
       "      <td>adaptin_complex_1_subunit|beta_adaptin</td>\n",
       "      <td>1</td>\n",
       "    </tr>\n",
       "  </tbody>\n",
       "</table>\n",
       "<p>172 rows × 2 columns</p>\n",
       "</div>"
      ]
     },
     "execution_count": 87,
     "metadata": {},
     "output_type": "execute_result"
    }
   ],
   "execution_count": 87
  },
  {
   "metadata": {},
   "cell_type": "markdown",
   "source": "### Checking: r\"protein_kinase|kinase_protein\""
  },
  {
   "metadata": {
    "ExecuteTime": {
     "end_time": "2024-10-07T19:35:57.590585Z",
     "start_time": "2024-10-07T19:35:57.586054Z"
    }
   },
   "cell_type": "code",
   "source": [
    "filter_data = search_string(neg_filtered, r\"protein_kinase|kinase_protein\")\n",
    "filter_data['notes'].value_counts()"
   ],
   "outputs": [
    {
     "name": "stdout",
     "output_type": "stream",
     "text": [
      "The of filtered data: (20, 16)\n",
      "The unique values in column 'neg_name': 10\n"
     ]
    },
    {
     "data": {
      "text/plain": [
       "notes\n",
       "protein_kinase                                   4\n",
       "mitogen-activated_protein_kinase_3|MPK3|MAPK3    4\n",
       "serine/threonine_protein_kinase                  4\n",
       "Protein_kinase_domain-containing_protein         4\n",
       "Protein_kinase_(STE_family)                      2\n",
       "Cdc2-related_protein_kinase_7|CRK7               2\n",
       "Name: count, dtype: int64"
      ]
     },
     "execution_count": 88,
     "metadata": {},
     "output_type": "execute_result"
    }
   ],
   "execution_count": 88
  },
  {
   "metadata": {
    "ExecuteTime": {
     "end_time": "2024-10-07T19:35:57.822285Z",
     "start_time": "2024-10-07T19:35:57.816869Z"
    }
   },
   "cell_type": "code",
   "source": [
    "filter_data.loc[\n",
    "    filter_data[\"gene\"] == True,\n",
    "    ['neg_name', 'chrom', 'gene_id', 'notes', 'start', 'end']\n",
    "]"
   ],
   "outputs": [
    {
     "data": {
      "text/plain": [
       "                       neg_name    chrom         gene_id  \\\n",
       "75       rejected_noCDS_c05.290  LinJ.05  LINF_050006200   \n",
       "259     rejected_noCDS_c10.1040  LinJ.10  LINF_100011600   \n",
       "261     rejected_noCDS_c10.1050  LinJ.10  LINF_100011600   \n",
       "397     rejected_noCDS_c14.1510  LinJ.14  LINF_140019400   \n",
       "624     rejected_noCDS_c21.2340  LinJ.21  LINF_210006700   \n",
       "810     rejected_noCDS_c26.3000  LinJ.26  LINF_260005400   \n",
       "1187    rejected_noCDS_c31.4400  LinJ.31  LINF_310025700   \n",
       "1744    rejected_noCDS_c36.6410  LinJ.36  LINF_360021400   \n",
       "1785  rejected_noCDS_c36.6580CR  LinJ.36  LINF_360062500   \n",
       "1788    rejected_noCDS_c36.6590  LinJ.36  LINF_360062500   \n",
       "\n",
       "                                              notes    start      end  \n",
       "75                                   protein_kinase    36373    40873  \n",
       "259   mitogen-activated_protein_kinase_3|MPK3|MAPK3   266644   271932  \n",
       "261   mitogen-activated_protein_kinase_3|MPK3|MAPK3   266644   271932  \n",
       "397                     Protein_kinase_(STE_family)   575947   582294  \n",
       "624                 serine/threonine_protein_kinase    41211    50310  \n",
       "810              Cdc2-related_protein_kinase_7|CRK7     9244    11310  \n",
       "1187                                 protein_kinase   910778   916576  \n",
       "1744                serine/threonine_protein_kinase   571329   578055  \n",
       "1785       Protein_kinase_domain-containing_protein  2087103  2094370  \n",
       "1788       Protein_kinase_domain-containing_protein  2087103  2094370  "
      ],
      "text/html": [
       "<div>\n",
       "<style scoped>\n",
       "    .dataframe tbody tr th:only-of-type {\n",
       "        vertical-align: middle;\n",
       "    }\n",
       "\n",
       "    .dataframe tbody tr th {\n",
       "        vertical-align: top;\n",
       "    }\n",
       "\n",
       "    .dataframe thead th {\n",
       "        text-align: right;\n",
       "    }\n",
       "</style>\n",
       "<table border=\"1\" class=\"dataframe\">\n",
       "  <thead>\n",
       "    <tr style=\"text-align: right;\">\n",
       "      <th></th>\n",
       "      <th>neg_name</th>\n",
       "      <th>chrom</th>\n",
       "      <th>gene_id</th>\n",
       "      <th>notes</th>\n",
       "      <th>start</th>\n",
       "      <th>end</th>\n",
       "    </tr>\n",
       "  </thead>\n",
       "  <tbody>\n",
       "    <tr>\n",
       "      <th>75</th>\n",
       "      <td>rejected_noCDS_c05.290</td>\n",
       "      <td>LinJ.05</td>\n",
       "      <td>LINF_050006200</td>\n",
       "      <td>protein_kinase</td>\n",
       "      <td>36373</td>\n",
       "      <td>40873</td>\n",
       "    </tr>\n",
       "    <tr>\n",
       "      <th>259</th>\n",
       "      <td>rejected_noCDS_c10.1040</td>\n",
       "      <td>LinJ.10</td>\n",
       "      <td>LINF_100011600</td>\n",
       "      <td>mitogen-activated_protein_kinase_3|MPK3|MAPK3</td>\n",
       "      <td>266644</td>\n",
       "      <td>271932</td>\n",
       "    </tr>\n",
       "    <tr>\n",
       "      <th>261</th>\n",
       "      <td>rejected_noCDS_c10.1050</td>\n",
       "      <td>LinJ.10</td>\n",
       "      <td>LINF_100011600</td>\n",
       "      <td>mitogen-activated_protein_kinase_3|MPK3|MAPK3</td>\n",
       "      <td>266644</td>\n",
       "      <td>271932</td>\n",
       "    </tr>\n",
       "    <tr>\n",
       "      <th>397</th>\n",
       "      <td>rejected_noCDS_c14.1510</td>\n",
       "      <td>LinJ.14</td>\n",
       "      <td>LINF_140019400</td>\n",
       "      <td>Protein_kinase_(STE_family)</td>\n",
       "      <td>575947</td>\n",
       "      <td>582294</td>\n",
       "    </tr>\n",
       "    <tr>\n",
       "      <th>624</th>\n",
       "      <td>rejected_noCDS_c21.2340</td>\n",
       "      <td>LinJ.21</td>\n",
       "      <td>LINF_210006700</td>\n",
       "      <td>serine/threonine_protein_kinase</td>\n",
       "      <td>41211</td>\n",
       "      <td>50310</td>\n",
       "    </tr>\n",
       "    <tr>\n",
       "      <th>810</th>\n",
       "      <td>rejected_noCDS_c26.3000</td>\n",
       "      <td>LinJ.26</td>\n",
       "      <td>LINF_260005400</td>\n",
       "      <td>Cdc2-related_protein_kinase_7|CRK7</td>\n",
       "      <td>9244</td>\n",
       "      <td>11310</td>\n",
       "    </tr>\n",
       "    <tr>\n",
       "      <th>1187</th>\n",
       "      <td>rejected_noCDS_c31.4400</td>\n",
       "      <td>LinJ.31</td>\n",
       "      <td>LINF_310025700</td>\n",
       "      <td>protein_kinase</td>\n",
       "      <td>910778</td>\n",
       "      <td>916576</td>\n",
       "    </tr>\n",
       "    <tr>\n",
       "      <th>1744</th>\n",
       "      <td>rejected_noCDS_c36.6410</td>\n",
       "      <td>LinJ.36</td>\n",
       "      <td>LINF_360021400</td>\n",
       "      <td>serine/threonine_protein_kinase</td>\n",
       "      <td>571329</td>\n",
       "      <td>578055</td>\n",
       "    </tr>\n",
       "    <tr>\n",
       "      <th>1785</th>\n",
       "      <td>rejected_noCDS_c36.6580CR</td>\n",
       "      <td>LinJ.36</td>\n",
       "      <td>LINF_360062500</td>\n",
       "      <td>Protein_kinase_domain-containing_protein</td>\n",
       "      <td>2087103</td>\n",
       "      <td>2094370</td>\n",
       "    </tr>\n",
       "    <tr>\n",
       "      <th>1788</th>\n",
       "      <td>rejected_noCDS_c36.6590</td>\n",
       "      <td>LinJ.36</td>\n",
       "      <td>LINF_360062500</td>\n",
       "      <td>Protein_kinase_domain-containing_protein</td>\n",
       "      <td>2087103</td>\n",
       "      <td>2094370</td>\n",
       "    </tr>\n",
       "  </tbody>\n",
       "</table>\n",
       "</div>"
      ]
     },
     "execution_count": 89,
     "metadata": {},
     "output_type": "execute_result"
    }
   ],
   "execution_count": 89
  },
  {
   "metadata": {
    "ExecuteTime": {
     "end_time": "2024-10-07T19:35:57.917318Z",
     "start_time": "2024-10-07T19:35:57.911467Z"
    }
   },
   "cell_type": "code",
   "source": [
    "neg_to_filter.loc[\n",
    "    (neg_to_filter['neg_name'].str.contains(r'\\d+CR$', na=False)) & (neg_to_filter['gene'] == True),\n",
    "    ['neg_name', 'chrom', 'gene_id', 'notes', 'start', 'end']\n",
    "]"
   ],
   "outputs": [
    {
     "data": {
      "text/plain": [
       "                       neg_name    chrom         gene_id  \\\n",
       "1774  rejected_noCDS_c36.6540CR  LinJ.36  LINF_360058750   \n",
       "1779  rejected_noCDS_c36.6560CR  LinJ.36  LINF_360059300   \n",
       "1785  rejected_noCDS_c36.6580CR  LinJ.36  LINF_360062500   \n",
       "1791  rejected_noCDS_c36.6600CR  LinJ.36  LINF_360063300   \n",
       "\n",
       "                                         notes    start      end  \n",
       "1774                                       NaN  1944919  1946935  \n",
       "1779          hypothetical_protein_-_conserved  1963667  1973734  \n",
       "1785  Protein_kinase_domain-containing_protein  2087103  2094370  \n",
       "1791                      hypothetical_protein  2117939  2120182  "
      ],
      "text/html": [
       "<div>\n",
       "<style scoped>\n",
       "    .dataframe tbody tr th:only-of-type {\n",
       "        vertical-align: middle;\n",
       "    }\n",
       "\n",
       "    .dataframe tbody tr th {\n",
       "        vertical-align: top;\n",
       "    }\n",
       "\n",
       "    .dataframe thead th {\n",
       "        text-align: right;\n",
       "    }\n",
       "</style>\n",
       "<table border=\"1\" class=\"dataframe\">\n",
       "  <thead>\n",
       "    <tr style=\"text-align: right;\">\n",
       "      <th></th>\n",
       "      <th>neg_name</th>\n",
       "      <th>chrom</th>\n",
       "      <th>gene_id</th>\n",
       "      <th>notes</th>\n",
       "      <th>start</th>\n",
       "      <th>end</th>\n",
       "    </tr>\n",
       "  </thead>\n",
       "  <tbody>\n",
       "    <tr>\n",
       "      <th>1774</th>\n",
       "      <td>rejected_noCDS_c36.6540CR</td>\n",
       "      <td>LinJ.36</td>\n",
       "      <td>LINF_360058750</td>\n",
       "      <td>NaN</td>\n",
       "      <td>1944919</td>\n",
       "      <td>1946935</td>\n",
       "    </tr>\n",
       "    <tr>\n",
       "      <th>1779</th>\n",
       "      <td>rejected_noCDS_c36.6560CR</td>\n",
       "      <td>LinJ.36</td>\n",
       "      <td>LINF_360059300</td>\n",
       "      <td>hypothetical_protein_-_conserved</td>\n",
       "      <td>1963667</td>\n",
       "      <td>1973734</td>\n",
       "    </tr>\n",
       "    <tr>\n",
       "      <th>1785</th>\n",
       "      <td>rejected_noCDS_c36.6580CR</td>\n",
       "      <td>LinJ.36</td>\n",
       "      <td>LINF_360062500</td>\n",
       "      <td>Protein_kinase_domain-containing_protein</td>\n",
       "      <td>2087103</td>\n",
       "      <td>2094370</td>\n",
       "    </tr>\n",
       "    <tr>\n",
       "      <th>1791</th>\n",
       "      <td>rejected_noCDS_c36.6600CR</td>\n",
       "      <td>LinJ.36</td>\n",
       "      <td>LINF_360063300</td>\n",
       "      <td>hypothetical_protein</td>\n",
       "      <td>2117939</td>\n",
       "      <td>2120182</td>\n",
       "    </tr>\n",
       "  </tbody>\n",
       "</table>\n",
       "</div>"
      ]
     },
     "execution_count": 90,
     "metadata": {},
     "output_type": "execute_result"
    }
   ],
   "execution_count": 90
  },
  {
   "metadata": {
    "ExecuteTime": {
     "end_time": "2024-10-07T19:35:58.109903Z",
     "start_time": "2024-10-07T19:35:58.107448Z"
    }
   },
   "cell_type": "code",
   "source": [
    "filter_data = neg_filtered[neg_filtered['neg_name'].isin(filter_data['neg_name'])]\n",
    "checking_data(filter_data)"
   ],
   "outputs": [
    {
     "name": "stdout",
     "output_type": "stream",
     "text": [
      "Shape of the data frame is: (32, 16)\n",
      "Number of unique values in column 'neg_name': 10 \n"
     ]
    }
   ],
   "execution_count": 91
  },
  {
   "metadata": {
    "ExecuteTime": {
     "end_time": "2024-10-07T19:35:58.270334Z",
     "start_time": "2024-10-07T19:35:58.267452Z"
    }
   },
   "cell_type": "code",
   "source": [
    "# Keep only \"rejected_noCDS_c36.6580CR\"\n",
    "filter_data = filter_data[filter_data['neg_name'] == 'rejected_noCDS_c36.6580CR']\n",
    "checking_data(filter_data)"
   ],
   "outputs": [
    {
     "name": "stdout",
     "output_type": "stream",
     "text": [
      "Shape of the data frame is: (3, 16)\n",
      "Number of unique values in column 'neg_name': 1 \n"
     ]
    }
   ],
   "execution_count": 92
  },
  {
   "metadata": {
    "ExecuteTime": {
     "end_time": "2024-10-07T19:35:58.424949Z",
     "start_time": "2024-10-07T19:35:58.421931Z"
    }
   },
   "cell_type": "code",
   "source": [
    "good_negatives = pd.concat([good_negatives, filter_data])\n",
    "checking_data(good_negatives)"
   ],
   "outputs": [
    {
     "name": "stdout",
     "output_type": "stream",
     "text": [
      "Shape of the data frame is: (598, 16)\n",
      "Number of unique values in column 'neg_name': 179 \n"
     ]
    }
   ],
   "execution_count": 93
  },
  {
   "metadata": {
    "ExecuteTime": {
     "end_time": "2024-10-07T19:35:58.711341Z",
     "start_time": "2024-10-07T19:35:58.529220Z"
    }
   },
   "cell_type": "code",
   "source": [
    "# Let's remove them from \"neg_filtered\"\n",
    "filter_data = search_string(neg_filtered, r\"protein_kinase|kinase_protein\")\n",
    "neg_filtered = neg_filtered[~neg_filtered['neg_name'].isin(filter_data['neg_name'])]\n",
    "checking_data(neg_filtered)\n",
    "group_and_count(neg_filtered, \"neg_name\")"
   ],
   "outputs": [
    {
     "name": "stdout",
     "output_type": "stream",
     "text": [
      "The of filtered data: (20, 16)\n",
      "The unique values in column 'neg_name': 10\n",
      "Shape of the data frame is: (1018, 16)\n",
      "Number of unique values in column 'neg_name': 389 \n",
      "{'gene': 389, 'transcript': 389, '5utr': 22, '3utr': 165, 'CDS': 4}\n"
     ]
    },
    {
     "data": {
      "text/plain": [
       "                                                 notes  count\n",
       "0                                                  NaN    387\n",
       "1            dual_specificity_phosphatase-like_protein      2\n",
       "2                 vacuolar-type_Ca2+-ATPase_-_putative      2\n",
       "3               malonyl-coa_decarboxylase-like_protein      2\n",
       "4                   Methionine_aminopeptidase_1|MetAP1      2\n",
       "..                                                 ...    ...\n",
       "161               Haloacid_dehalogenase-like_hydrolase      1\n",
       "162  protein-l-isoaspartate_o-methyltransferase_-_p...      1\n",
       "163                 2′-O-ribose_methyltransferase|MTr1      1\n",
       "164           mitochondrial_carrier_protein_-_putative      1\n",
       "165            adaptin_complex_1_subunit|beta_adaptin       1\n",
       "\n",
       "[166 rows x 2 columns]"
      ],
      "text/html": [
       "<div>\n",
       "<style scoped>\n",
       "    .dataframe tbody tr th:only-of-type {\n",
       "        vertical-align: middle;\n",
       "    }\n",
       "\n",
       "    .dataframe tbody tr th {\n",
       "        vertical-align: top;\n",
       "    }\n",
       "\n",
       "    .dataframe thead th {\n",
       "        text-align: right;\n",
       "    }\n",
       "</style>\n",
       "<table border=\"1\" class=\"dataframe\">\n",
       "  <thead>\n",
       "    <tr style=\"text-align: right;\">\n",
       "      <th></th>\n",
       "      <th>notes</th>\n",
       "      <th>count</th>\n",
       "    </tr>\n",
       "  </thead>\n",
       "  <tbody>\n",
       "    <tr>\n",
       "      <th>0</th>\n",
       "      <td>NaN</td>\n",
       "      <td>387</td>\n",
       "    </tr>\n",
       "    <tr>\n",
       "      <th>1</th>\n",
       "      <td>dual_specificity_phosphatase-like_protein</td>\n",
       "      <td>2</td>\n",
       "    </tr>\n",
       "    <tr>\n",
       "      <th>2</th>\n",
       "      <td>vacuolar-type_Ca2+-ATPase_-_putative</td>\n",
       "      <td>2</td>\n",
       "    </tr>\n",
       "    <tr>\n",
       "      <th>3</th>\n",
       "      <td>malonyl-coa_decarboxylase-like_protein</td>\n",
       "      <td>2</td>\n",
       "    </tr>\n",
       "    <tr>\n",
       "      <th>4</th>\n",
       "      <td>Methionine_aminopeptidase_1|MetAP1</td>\n",
       "      <td>2</td>\n",
       "    </tr>\n",
       "    <tr>\n",
       "      <th>...</th>\n",
       "      <td>...</td>\n",
       "      <td>...</td>\n",
       "    </tr>\n",
       "    <tr>\n",
       "      <th>161</th>\n",
       "      <td>Haloacid_dehalogenase-like_hydrolase</td>\n",
       "      <td>1</td>\n",
       "    </tr>\n",
       "    <tr>\n",
       "      <th>162</th>\n",
       "      <td>protein-l-isoaspartate_o-methyltransferase_-_p...</td>\n",
       "      <td>1</td>\n",
       "    </tr>\n",
       "    <tr>\n",
       "      <th>163</th>\n",
       "      <td>2′-O-ribose_methyltransferase|MTr1</td>\n",
       "      <td>1</td>\n",
       "    </tr>\n",
       "    <tr>\n",
       "      <th>164</th>\n",
       "      <td>mitochondrial_carrier_protein_-_putative</td>\n",
       "      <td>1</td>\n",
       "    </tr>\n",
       "    <tr>\n",
       "      <th>165</th>\n",
       "      <td>adaptin_complex_1_subunit|beta_adaptin</td>\n",
       "      <td>1</td>\n",
       "    </tr>\n",
       "  </tbody>\n",
       "</table>\n",
       "<p>166 rows × 2 columns</p>\n",
       "</div>"
      ]
     },
     "execution_count": 94,
     "metadata": {},
     "output_type": "execute_result"
    }
   ],
   "execution_count": 94
  },
  {
   "metadata": {},
   "cell_type": "markdown",
   "source": "### Checking: dual_specificity"
  },
  {
   "metadata": {
    "ExecuteTime": {
     "end_time": "2024-10-07T19:35:58.762507Z",
     "start_time": "2024-10-07T19:35:58.753913Z"
    }
   },
   "cell_type": "code",
   "source": [
    "filter_data = search_string(neg_filtered, \"dual_specificity\")\n",
    "filter_data['notes'].value_counts()"
   ],
   "outputs": [
    {
     "name": "stdout",
     "output_type": "stream",
     "text": [
      "The of filtered data: (8, 16)\n",
      "The unique values in column 'neg_name': 4\n"
     ]
    },
    {
     "data": {
      "text/plain": [
       "notes\n",
       "dual_specificity_phosphatase-like_protein    4\n",
       "Dual_specificity_protein_phosphatase         4\n",
       "Name: count, dtype: int64"
      ]
     },
     "execution_count": 95,
     "metadata": {},
     "output_type": "execute_result"
    }
   ],
   "execution_count": 95
  },
  {
   "metadata": {
    "ExecuteTime": {
     "end_time": "2024-10-07T19:35:58.858206Z",
     "start_time": "2024-10-07T19:35:58.853215Z"
    }
   },
   "cell_type": "code",
   "source": [
    "filter_data.loc[\n",
    "    filter_data[\"gene\"] == True,\n",
    "    ['neg_name', 'chrom', 'gene_id', 'notes', 'start', 'end']\n",
    "]"
   ],
   "outputs": [
    {
     "data": {
      "text/plain": [
       "                       neg_name    chrom         gene_id  \\\n",
       "78       rejected_noCDS_c05.310  LinJ.05  LINF_050007100   \n",
       "80      rejected_noCDS_c05.300D  LinJ.05  LINF_050007100   \n",
       "1490  rejected_noCDS_c34.5490BV  LinJ.34  LINF_340027100   \n",
       "1493  rejected_noCDS_c34.5500BW  LinJ.34  LINF_340027100   \n",
       "\n",
       "                                          notes   start     end  \n",
       "78    dual_specificity_phosphatase-like_protein   66289   73912  \n",
       "80    dual_specificity_phosphatase-like_protein   66289   73912  \n",
       "1490       Dual_specificity_protein_phosphatase  923279  937617  \n",
       "1493       Dual_specificity_protein_phosphatase  923279  937617  "
      ],
      "text/html": [
       "<div>\n",
       "<style scoped>\n",
       "    .dataframe tbody tr th:only-of-type {\n",
       "        vertical-align: middle;\n",
       "    }\n",
       "\n",
       "    .dataframe tbody tr th {\n",
       "        vertical-align: top;\n",
       "    }\n",
       "\n",
       "    .dataframe thead th {\n",
       "        text-align: right;\n",
       "    }\n",
       "</style>\n",
       "<table border=\"1\" class=\"dataframe\">\n",
       "  <thead>\n",
       "    <tr style=\"text-align: right;\">\n",
       "      <th></th>\n",
       "      <th>neg_name</th>\n",
       "      <th>chrom</th>\n",
       "      <th>gene_id</th>\n",
       "      <th>notes</th>\n",
       "      <th>start</th>\n",
       "      <th>end</th>\n",
       "    </tr>\n",
       "  </thead>\n",
       "  <tbody>\n",
       "    <tr>\n",
       "      <th>78</th>\n",
       "      <td>rejected_noCDS_c05.310</td>\n",
       "      <td>LinJ.05</td>\n",
       "      <td>LINF_050007100</td>\n",
       "      <td>dual_specificity_phosphatase-like_protein</td>\n",
       "      <td>66289</td>\n",
       "      <td>73912</td>\n",
       "    </tr>\n",
       "    <tr>\n",
       "      <th>80</th>\n",
       "      <td>rejected_noCDS_c05.300D</td>\n",
       "      <td>LinJ.05</td>\n",
       "      <td>LINF_050007100</td>\n",
       "      <td>dual_specificity_phosphatase-like_protein</td>\n",
       "      <td>66289</td>\n",
       "      <td>73912</td>\n",
       "    </tr>\n",
       "    <tr>\n",
       "      <th>1490</th>\n",
       "      <td>rejected_noCDS_c34.5490BV</td>\n",
       "      <td>LinJ.34</td>\n",
       "      <td>LINF_340027100</td>\n",
       "      <td>Dual_specificity_protein_phosphatase</td>\n",
       "      <td>923279</td>\n",
       "      <td>937617</td>\n",
       "    </tr>\n",
       "    <tr>\n",
       "      <th>1493</th>\n",
       "      <td>rejected_noCDS_c34.5500BW</td>\n",
       "      <td>LinJ.34</td>\n",
       "      <td>LINF_340027100</td>\n",
       "      <td>Dual_specificity_protein_phosphatase</td>\n",
       "      <td>923279</td>\n",
       "      <td>937617</td>\n",
       "    </tr>\n",
       "  </tbody>\n",
       "</table>\n",
       "</div>"
      ]
     },
     "execution_count": 96,
     "metadata": {},
     "output_type": "execute_result"
    }
   ],
   "execution_count": 96
  },
  {
   "metadata": {
    "ExecuteTime": {
     "end_time": "2024-10-07T19:35:58.996228Z",
     "start_time": "2024-10-07T19:35:58.989907Z"
    }
   },
   "cell_type": "code",
   "source": "check_family(neg_to_filter, 'D')",
   "outputs": [
    {
     "data": {
      "text/plain": [
       "                   neg_name    chrom         gene_id  \\\n",
       "80  rejected_noCDS_c05.300D  LinJ.05  LINF_050007100   \n",
       "84  rejected_noCDS_c05.320D  LinJ.05  LINF_050008400   \n",
       "87  rejected_noCDS_c05.320D  LinJ.05  LINF_050008500   \n",
       "\n",
       "                                        notes   start     end  \n",
       "80  dual_specificity_phosphatase-like_protein   66289   73912  \n",
       "84                mitoribosomal_protein_uS11m  104200  106507  \n",
       "87             trypanothione_reductase_(TRYR)  106508  108915  "
      ],
      "text/html": [
       "<div>\n",
       "<style scoped>\n",
       "    .dataframe tbody tr th:only-of-type {\n",
       "        vertical-align: middle;\n",
       "    }\n",
       "\n",
       "    .dataframe tbody tr th {\n",
       "        vertical-align: top;\n",
       "    }\n",
       "\n",
       "    .dataframe thead th {\n",
       "        text-align: right;\n",
       "    }\n",
       "</style>\n",
       "<table border=\"1\" class=\"dataframe\">\n",
       "  <thead>\n",
       "    <tr style=\"text-align: right;\">\n",
       "      <th></th>\n",
       "      <th>neg_name</th>\n",
       "      <th>chrom</th>\n",
       "      <th>gene_id</th>\n",
       "      <th>notes</th>\n",
       "      <th>start</th>\n",
       "      <th>end</th>\n",
       "    </tr>\n",
       "  </thead>\n",
       "  <tbody>\n",
       "    <tr>\n",
       "      <th>80</th>\n",
       "      <td>rejected_noCDS_c05.300D</td>\n",
       "      <td>LinJ.05</td>\n",
       "      <td>LINF_050007100</td>\n",
       "      <td>dual_specificity_phosphatase-like_protein</td>\n",
       "      <td>66289</td>\n",
       "      <td>73912</td>\n",
       "    </tr>\n",
       "    <tr>\n",
       "      <th>84</th>\n",
       "      <td>rejected_noCDS_c05.320D</td>\n",
       "      <td>LinJ.05</td>\n",
       "      <td>LINF_050008400</td>\n",
       "      <td>mitoribosomal_protein_uS11m</td>\n",
       "      <td>104200</td>\n",
       "      <td>106507</td>\n",
       "    </tr>\n",
       "    <tr>\n",
       "      <th>87</th>\n",
       "      <td>rejected_noCDS_c05.320D</td>\n",
       "      <td>LinJ.05</td>\n",
       "      <td>LINF_050008500</td>\n",
       "      <td>trypanothione_reductase_(TRYR)</td>\n",
       "      <td>106508</td>\n",
       "      <td>108915</td>\n",
       "    </tr>\n",
       "  </tbody>\n",
       "</table>\n",
       "</div>"
      ]
     },
     "execution_count": 97,
     "metadata": {},
     "output_type": "execute_result"
    }
   ],
   "execution_count": 97
  },
  {
   "metadata": {
    "ExecuteTime": {
     "end_time": "2024-10-07T19:35:59.152211Z",
     "start_time": "2024-10-07T19:35:59.146436Z"
    }
   },
   "cell_type": "code",
   "source": "check_family(neg_to_filter, 'BV')",
   "outputs": [
    {
     "data": {
      "text/plain": [
       "                       neg_name    chrom         gene_id  \\\n",
       "1475  rejected_noCDS_c34.5440BV  LinJ.34  LINF_340026200   \n",
       "1481  rejected_noCDS_c34.5460BV  LinJ.34  LINF_340026700   \n",
       "1490  rejected_noCDS_c34.5490BV  LinJ.34  LINF_340027100   \n",
       "\n",
       "                                                  notes   start     end  \n",
       "1475                             Cardiolipin_synthetase  889011  895326  \n",
       "1481  eukaryotic_translation_initiation_factor_2-alp...  902943  911956  \n",
       "1490               Dual_specificity_protein_phosphatase  923279  937617  "
      ],
      "text/html": [
       "<div>\n",
       "<style scoped>\n",
       "    .dataframe tbody tr th:only-of-type {\n",
       "        vertical-align: middle;\n",
       "    }\n",
       "\n",
       "    .dataframe tbody tr th {\n",
       "        vertical-align: top;\n",
       "    }\n",
       "\n",
       "    .dataframe thead th {\n",
       "        text-align: right;\n",
       "    }\n",
       "</style>\n",
       "<table border=\"1\" class=\"dataframe\">\n",
       "  <thead>\n",
       "    <tr style=\"text-align: right;\">\n",
       "      <th></th>\n",
       "      <th>neg_name</th>\n",
       "      <th>chrom</th>\n",
       "      <th>gene_id</th>\n",
       "      <th>notes</th>\n",
       "      <th>start</th>\n",
       "      <th>end</th>\n",
       "    </tr>\n",
       "  </thead>\n",
       "  <tbody>\n",
       "    <tr>\n",
       "      <th>1475</th>\n",
       "      <td>rejected_noCDS_c34.5440BV</td>\n",
       "      <td>LinJ.34</td>\n",
       "      <td>LINF_340026200</td>\n",
       "      <td>Cardiolipin_synthetase</td>\n",
       "      <td>889011</td>\n",
       "      <td>895326</td>\n",
       "    </tr>\n",
       "    <tr>\n",
       "      <th>1481</th>\n",
       "      <td>rejected_noCDS_c34.5460BV</td>\n",
       "      <td>LinJ.34</td>\n",
       "      <td>LINF_340026700</td>\n",
       "      <td>eukaryotic_translation_initiation_factor_2-alp...</td>\n",
       "      <td>902943</td>\n",
       "      <td>911956</td>\n",
       "    </tr>\n",
       "    <tr>\n",
       "      <th>1490</th>\n",
       "      <td>rejected_noCDS_c34.5490BV</td>\n",
       "      <td>LinJ.34</td>\n",
       "      <td>LINF_340027100</td>\n",
       "      <td>Dual_specificity_protein_phosphatase</td>\n",
       "      <td>923279</td>\n",
       "      <td>937617</td>\n",
       "    </tr>\n",
       "  </tbody>\n",
       "</table>\n",
       "</div>"
      ]
     },
     "execution_count": 98,
     "metadata": {},
     "output_type": "execute_result"
    }
   ],
   "execution_count": 98
  },
  {
   "metadata": {
    "ExecuteTime": {
     "end_time": "2024-10-07T19:35:59.321882Z",
     "start_time": "2024-10-07T19:35:59.316194Z"
    }
   },
   "cell_type": "code",
   "source": "check_family(neg_to_filter, 'BW')",
   "outputs": [
    {
     "data": {
      "text/plain": [
       "                       neg_name    chrom         gene_id  \\\n",
       "1478  rejected_noCDS_c34.5450BW  LinJ.34  LINF_340026200   \n",
       "1484  rejected_noCDS_c34.5470BW  LinJ.34  LINF_340026700   \n",
       "1493  rejected_noCDS_c34.5500BW  LinJ.34  LINF_340027100   \n",
       "\n",
       "                                                  notes   start     end  \n",
       "1478                             Cardiolipin_synthetase  889011  895326  \n",
       "1484  eukaryotic_translation_initiation_factor_2-alp...  902943  911956  \n",
       "1493               Dual_specificity_protein_phosphatase  923279  937617  "
      ],
      "text/html": [
       "<div>\n",
       "<style scoped>\n",
       "    .dataframe tbody tr th:only-of-type {\n",
       "        vertical-align: middle;\n",
       "    }\n",
       "\n",
       "    .dataframe tbody tr th {\n",
       "        vertical-align: top;\n",
       "    }\n",
       "\n",
       "    .dataframe thead th {\n",
       "        text-align: right;\n",
       "    }\n",
       "</style>\n",
       "<table border=\"1\" class=\"dataframe\">\n",
       "  <thead>\n",
       "    <tr style=\"text-align: right;\">\n",
       "      <th></th>\n",
       "      <th>neg_name</th>\n",
       "      <th>chrom</th>\n",
       "      <th>gene_id</th>\n",
       "      <th>notes</th>\n",
       "      <th>start</th>\n",
       "      <th>end</th>\n",
       "    </tr>\n",
       "  </thead>\n",
       "  <tbody>\n",
       "    <tr>\n",
       "      <th>1478</th>\n",
       "      <td>rejected_noCDS_c34.5450BW</td>\n",
       "      <td>LinJ.34</td>\n",
       "      <td>LINF_340026200</td>\n",
       "      <td>Cardiolipin_synthetase</td>\n",
       "      <td>889011</td>\n",
       "      <td>895326</td>\n",
       "    </tr>\n",
       "    <tr>\n",
       "      <th>1484</th>\n",
       "      <td>rejected_noCDS_c34.5470BW</td>\n",
       "      <td>LinJ.34</td>\n",
       "      <td>LINF_340026700</td>\n",
       "      <td>eukaryotic_translation_initiation_factor_2-alp...</td>\n",
       "      <td>902943</td>\n",
       "      <td>911956</td>\n",
       "    </tr>\n",
       "    <tr>\n",
       "      <th>1493</th>\n",
       "      <td>rejected_noCDS_c34.5500BW</td>\n",
       "      <td>LinJ.34</td>\n",
       "      <td>LINF_340027100</td>\n",
       "      <td>Dual_specificity_protein_phosphatase</td>\n",
       "      <td>923279</td>\n",
       "      <td>937617</td>\n",
       "    </tr>\n",
       "  </tbody>\n",
       "</table>\n",
       "</div>"
      ]
     },
     "execution_count": 99,
     "metadata": {},
     "output_type": "execute_result"
    }
   ],
   "execution_count": 99
  },
  {
   "metadata": {
    "ExecuteTime": {
     "end_time": "2024-10-07T19:35:59.506840Z",
     "start_time": "2024-10-07T19:35:59.504423Z"
    }
   },
   "cell_type": "code",
   "source": [
    "filter_data = neg_filtered[neg_filtered['neg_name'].isin(filter_data['neg_name'])]\n",
    "checking_data(filter_data)"
   ],
   "outputs": [
    {
     "name": "stdout",
     "output_type": "stream",
     "text": [
      "Shape of the data frame is: (12, 16)\n",
      "Number of unique values in column 'neg_name': 4 \n"
     ]
    }
   ],
   "execution_count": 100
  },
  {
   "metadata": {
    "ExecuteTime": {
     "end_time": "2024-10-07T19:35:59.654354Z",
     "start_time": "2024-10-07T19:35:59.651471Z"
    }
   },
   "cell_type": "code",
   "source": [
    "good_negatives = pd.concat([good_negatives, filter_data])\n",
    "checking_data(good_negatives)"
   ],
   "outputs": [
    {
     "name": "stdout",
     "output_type": "stream",
     "text": [
      "Shape of the data frame is: (610, 16)\n",
      "Number of unique values in column 'neg_name': 183 \n"
     ]
    }
   ],
   "execution_count": 101
  },
  {
   "metadata": {
    "ExecuteTime": {
     "end_time": "2024-10-07T19:35:59.947250Z",
     "start_time": "2024-10-07T19:35:59.782165Z"
    }
   },
   "cell_type": "code",
   "source": [
    "# Let's remove them from \"neg_filtered\"\n",
    "neg_filtered = neg_filtered[~neg_filtered['neg_name'].isin(filter_data['neg_name'])]\n",
    "checking_data(neg_filtered)\n",
    "group_and_count(neg_filtered, \"neg_name\")"
   ],
   "outputs": [
    {
     "name": "stdout",
     "output_type": "stream",
     "text": [
      "Shape of the data frame is: (1006, 16)\n",
      "Number of unique values in column 'neg_name': 385 \n",
      "{'gene': 385, 'transcript': 385, '5utr': 21, '3utr': 162, 'CDS': 4}\n"
     ]
    },
    {
     "data": {
      "text/plain": [
       "                                                 notes  count\n",
       "0                                                  NaN    383\n",
       "1                 vacuolar-type_Ca2+-ATPase_-_putative      2\n",
       "2               malonyl-coa_decarboxylase-like_protein      2\n",
       "3                   Methionine_aminopeptidase_1|MetAP1      2\n",
       "4                  mitochondrial_carrier_protein|MCP18      2\n",
       "..                                                 ...    ...\n",
       "159               Haloacid_dehalogenase-like_hydrolase      1\n",
       "160  protein-l-isoaspartate_o-methyltransferase_-_p...      1\n",
       "161                 2′-O-ribose_methyltransferase|MTr1      1\n",
       "162           mitochondrial_carrier_protein_-_putative      1\n",
       "163            adaptin_complex_1_subunit|beta_adaptin       1\n",
       "\n",
       "[164 rows x 2 columns]"
      ],
      "text/html": [
       "<div>\n",
       "<style scoped>\n",
       "    .dataframe tbody tr th:only-of-type {\n",
       "        vertical-align: middle;\n",
       "    }\n",
       "\n",
       "    .dataframe tbody tr th {\n",
       "        vertical-align: top;\n",
       "    }\n",
       "\n",
       "    .dataframe thead th {\n",
       "        text-align: right;\n",
       "    }\n",
       "</style>\n",
       "<table border=\"1\" class=\"dataframe\">\n",
       "  <thead>\n",
       "    <tr style=\"text-align: right;\">\n",
       "      <th></th>\n",
       "      <th>notes</th>\n",
       "      <th>count</th>\n",
       "    </tr>\n",
       "  </thead>\n",
       "  <tbody>\n",
       "    <tr>\n",
       "      <th>0</th>\n",
       "      <td>NaN</td>\n",
       "      <td>383</td>\n",
       "    </tr>\n",
       "    <tr>\n",
       "      <th>1</th>\n",
       "      <td>vacuolar-type_Ca2+-ATPase_-_putative</td>\n",
       "      <td>2</td>\n",
       "    </tr>\n",
       "    <tr>\n",
       "      <th>2</th>\n",
       "      <td>malonyl-coa_decarboxylase-like_protein</td>\n",
       "      <td>2</td>\n",
       "    </tr>\n",
       "    <tr>\n",
       "      <th>3</th>\n",
       "      <td>Methionine_aminopeptidase_1|MetAP1</td>\n",
       "      <td>2</td>\n",
       "    </tr>\n",
       "    <tr>\n",
       "      <th>4</th>\n",
       "      <td>mitochondrial_carrier_protein|MCP18</td>\n",
       "      <td>2</td>\n",
       "    </tr>\n",
       "    <tr>\n",
       "      <th>...</th>\n",
       "      <td>...</td>\n",
       "      <td>...</td>\n",
       "    </tr>\n",
       "    <tr>\n",
       "      <th>159</th>\n",
       "      <td>Haloacid_dehalogenase-like_hydrolase</td>\n",
       "      <td>1</td>\n",
       "    </tr>\n",
       "    <tr>\n",
       "      <th>160</th>\n",
       "      <td>protein-l-isoaspartate_o-methyltransferase_-_p...</td>\n",
       "      <td>1</td>\n",
       "    </tr>\n",
       "    <tr>\n",
       "      <th>161</th>\n",
       "      <td>2′-O-ribose_methyltransferase|MTr1</td>\n",
       "      <td>1</td>\n",
       "    </tr>\n",
       "    <tr>\n",
       "      <th>162</th>\n",
       "      <td>mitochondrial_carrier_protein_-_putative</td>\n",
       "      <td>1</td>\n",
       "    </tr>\n",
       "    <tr>\n",
       "      <th>163</th>\n",
       "      <td>adaptin_complex_1_subunit|beta_adaptin</td>\n",
       "      <td>1</td>\n",
       "    </tr>\n",
       "  </tbody>\n",
       "</table>\n",
       "<p>164 rows × 2 columns</p>\n",
       "</div>"
      ]
     },
     "execution_count": 102,
     "metadata": {},
     "output_type": "execute_result"
    }
   ],
   "execution_count": 102
  },
  {
   "metadata": {},
   "cell_type": "markdown",
   "source": "### Checking: vacuolar"
  },
  {
   "metadata": {
    "ExecuteTime": {
     "end_time": "2024-10-07T19:36:00.019904Z",
     "start_time": "2024-10-07T19:36:00.014274Z"
    }
   },
   "cell_type": "code",
   "source": [
    "filter_data = search_string(neg_filtered, \"vacuolar\")\n",
    "filter_data['notes'].value_counts()"
   ],
   "outputs": [
    {
     "name": "stdout",
     "output_type": "stream",
     "text": [
      "The of filtered data: (4, 16)\n",
      "The unique values in column 'neg_name': 2\n"
     ]
    },
    {
     "data": {
      "text/plain": [
       "notes\n",
       "vacuolar-type_Ca2+-ATPase_-_putative    4\n",
       "Name: count, dtype: int64"
      ]
     },
     "execution_count": 103,
     "metadata": {},
     "output_type": "execute_result"
    }
   ],
   "execution_count": 103
  },
  {
   "metadata": {
    "ExecuteTime": {
     "end_time": "2024-10-07T19:36:00.177382Z",
     "start_time": "2024-10-07T19:36:00.172340Z"
    }
   },
   "cell_type": "code",
   "source": [
    "filter_data.loc[\n",
    "    filter_data[\"gene\"] == True,\n",
    "    ['neg_name', 'chrom', 'gene_id', 'notes', 'start', 'end']\n",
    "]"
   ],
   "outputs": [
    {
     "data": {
      "text/plain": [
       "                    neg_name    chrom         gene_id  \\\n",
       "127  rejected_noCDS_c07.460G  LinJ.07  LINF_070012100   \n",
       "129  rejected_noCDS_c07.470H  LinJ.07  LINF_070012100   \n",
       "\n",
       "                                    notes   start     end  \n",
       "127  vacuolar-type_Ca2+-ATPase_-_putative  297019  304430  \n",
       "129  vacuolar-type_Ca2+-ATPase_-_putative  297019  304430  "
      ],
      "text/html": [
       "<div>\n",
       "<style scoped>\n",
       "    .dataframe tbody tr th:only-of-type {\n",
       "        vertical-align: middle;\n",
       "    }\n",
       "\n",
       "    .dataframe tbody tr th {\n",
       "        vertical-align: top;\n",
       "    }\n",
       "\n",
       "    .dataframe thead th {\n",
       "        text-align: right;\n",
       "    }\n",
       "</style>\n",
       "<table border=\"1\" class=\"dataframe\">\n",
       "  <thead>\n",
       "    <tr style=\"text-align: right;\">\n",
       "      <th></th>\n",
       "      <th>neg_name</th>\n",
       "      <th>chrom</th>\n",
       "      <th>gene_id</th>\n",
       "      <th>notes</th>\n",
       "      <th>start</th>\n",
       "      <th>end</th>\n",
       "    </tr>\n",
       "  </thead>\n",
       "  <tbody>\n",
       "    <tr>\n",
       "      <th>127</th>\n",
       "      <td>rejected_noCDS_c07.460G</td>\n",
       "      <td>LinJ.07</td>\n",
       "      <td>LINF_070012100</td>\n",
       "      <td>vacuolar-type_Ca2+-ATPase_-_putative</td>\n",
       "      <td>297019</td>\n",
       "      <td>304430</td>\n",
       "    </tr>\n",
       "    <tr>\n",
       "      <th>129</th>\n",
       "      <td>rejected_noCDS_c07.470H</td>\n",
       "      <td>LinJ.07</td>\n",
       "      <td>LINF_070012100</td>\n",
       "      <td>vacuolar-type_Ca2+-ATPase_-_putative</td>\n",
       "      <td>297019</td>\n",
       "      <td>304430</td>\n",
       "    </tr>\n",
       "  </tbody>\n",
       "</table>\n",
       "</div>"
      ]
     },
     "execution_count": 104,
     "metadata": {},
     "output_type": "execute_result"
    }
   ],
   "execution_count": 104
  },
  {
   "metadata": {
    "ExecuteTime": {
     "end_time": "2024-10-07T19:36:00.265739Z",
     "start_time": "2024-10-07T19:36:00.260202Z"
    }
   },
   "cell_type": "code",
   "source": "check_family(neg_to_filter, \"G\")",
   "outputs": [
    {
     "data": {
      "text/plain": [
       "                    neg_name    chrom         gene_id  \\\n",
       "119  rejected_noCDS_c07.430G  LinJ.07  LINF_070010140   \n",
       "123  rejected_noCDS_c07.430G  LinJ.07  LINF_070010160   \n",
       "125  rejected_noCDS_c07.450G  LinJ.07  LINF_070010950   \n",
       "127  rejected_noCDS_c07.460G  LinJ.07  LINF_070012100   \n",
       "\n",
       "                                    notes   start     end  \n",
       "119                                   NaN  211168  211744  \n",
       "123                                   NaN  211951  214227  \n",
       "125                                   NaN  251481  252207  \n",
       "127  vacuolar-type_Ca2+-ATPase_-_putative  297019  304430  "
      ],
      "text/html": [
       "<div>\n",
       "<style scoped>\n",
       "    .dataframe tbody tr th:only-of-type {\n",
       "        vertical-align: middle;\n",
       "    }\n",
       "\n",
       "    .dataframe tbody tr th {\n",
       "        vertical-align: top;\n",
       "    }\n",
       "\n",
       "    .dataframe thead th {\n",
       "        text-align: right;\n",
       "    }\n",
       "</style>\n",
       "<table border=\"1\" class=\"dataframe\">\n",
       "  <thead>\n",
       "    <tr style=\"text-align: right;\">\n",
       "      <th></th>\n",
       "      <th>neg_name</th>\n",
       "      <th>chrom</th>\n",
       "      <th>gene_id</th>\n",
       "      <th>notes</th>\n",
       "      <th>start</th>\n",
       "      <th>end</th>\n",
       "    </tr>\n",
       "  </thead>\n",
       "  <tbody>\n",
       "    <tr>\n",
       "      <th>119</th>\n",
       "      <td>rejected_noCDS_c07.430G</td>\n",
       "      <td>LinJ.07</td>\n",
       "      <td>LINF_070010140</td>\n",
       "      <td>NaN</td>\n",
       "      <td>211168</td>\n",
       "      <td>211744</td>\n",
       "    </tr>\n",
       "    <tr>\n",
       "      <th>123</th>\n",
       "      <td>rejected_noCDS_c07.430G</td>\n",
       "      <td>LinJ.07</td>\n",
       "      <td>LINF_070010160</td>\n",
       "      <td>NaN</td>\n",
       "      <td>211951</td>\n",
       "      <td>214227</td>\n",
       "    </tr>\n",
       "    <tr>\n",
       "      <th>125</th>\n",
       "      <td>rejected_noCDS_c07.450G</td>\n",
       "      <td>LinJ.07</td>\n",
       "      <td>LINF_070010950</td>\n",
       "      <td>NaN</td>\n",
       "      <td>251481</td>\n",
       "      <td>252207</td>\n",
       "    </tr>\n",
       "    <tr>\n",
       "      <th>127</th>\n",
       "      <td>rejected_noCDS_c07.460G</td>\n",
       "      <td>LinJ.07</td>\n",
       "      <td>LINF_070012100</td>\n",
       "      <td>vacuolar-type_Ca2+-ATPase_-_putative</td>\n",
       "      <td>297019</td>\n",
       "      <td>304430</td>\n",
       "    </tr>\n",
       "  </tbody>\n",
       "</table>\n",
       "</div>"
      ]
     },
     "execution_count": 105,
     "metadata": {},
     "output_type": "execute_result"
    }
   ],
   "execution_count": 105
  },
  {
   "metadata": {
    "ExecuteTime": {
     "end_time": "2024-10-07T19:36:00.348717Z",
     "start_time": "2024-10-07T19:36:00.343173Z"
    }
   },
   "cell_type": "code",
   "source": "check_family(neg_to_filter, \"H\")",
   "outputs": [
    {
     "data": {
      "text/plain": [
       "                    neg_name    chrom         gene_id  \\\n",
       "121  rejected_noCDS_c07.440H  LinJ.07  LINF_070010160   \n",
       "129  rejected_noCDS_c07.470H  LinJ.07  LINF_070012100   \n",
       "\n",
       "                                    notes   start     end  \n",
       "121                                   NaN  211951  214227  \n",
       "129  vacuolar-type_Ca2+-ATPase_-_putative  297019  304430  "
      ],
      "text/html": [
       "<div>\n",
       "<style scoped>\n",
       "    .dataframe tbody tr th:only-of-type {\n",
       "        vertical-align: middle;\n",
       "    }\n",
       "\n",
       "    .dataframe tbody tr th {\n",
       "        vertical-align: top;\n",
       "    }\n",
       "\n",
       "    .dataframe thead th {\n",
       "        text-align: right;\n",
       "    }\n",
       "</style>\n",
       "<table border=\"1\" class=\"dataframe\">\n",
       "  <thead>\n",
       "    <tr style=\"text-align: right;\">\n",
       "      <th></th>\n",
       "      <th>neg_name</th>\n",
       "      <th>chrom</th>\n",
       "      <th>gene_id</th>\n",
       "      <th>notes</th>\n",
       "      <th>start</th>\n",
       "      <th>end</th>\n",
       "    </tr>\n",
       "  </thead>\n",
       "  <tbody>\n",
       "    <tr>\n",
       "      <th>121</th>\n",
       "      <td>rejected_noCDS_c07.440H</td>\n",
       "      <td>LinJ.07</td>\n",
       "      <td>LINF_070010160</td>\n",
       "      <td>NaN</td>\n",
       "      <td>211951</td>\n",
       "      <td>214227</td>\n",
       "    </tr>\n",
       "    <tr>\n",
       "      <th>129</th>\n",
       "      <td>rejected_noCDS_c07.470H</td>\n",
       "      <td>LinJ.07</td>\n",
       "      <td>LINF_070012100</td>\n",
       "      <td>vacuolar-type_Ca2+-ATPase_-_putative</td>\n",
       "      <td>297019</td>\n",
       "      <td>304430</td>\n",
       "    </tr>\n",
       "  </tbody>\n",
       "</table>\n",
       "</div>"
      ]
     },
     "execution_count": 106,
     "metadata": {},
     "output_type": "execute_result"
    }
   ],
   "execution_count": 106
  },
  {
   "metadata": {
    "ExecuteTime": {
     "end_time": "2024-10-07T19:36:00.553164Z",
     "start_time": "2024-10-07T19:36:00.550257Z"
    }
   },
   "cell_type": "code",
   "source": [
    "filter_data = neg_filtered[neg_filtered['neg_name'].isin(filter_data['neg_name'])]\n",
    "checking_data(filter_data)"
   ],
   "outputs": [
    {
     "name": "stdout",
     "output_type": "stream",
     "text": [
      "Shape of the data frame is: (6, 16)\n",
      "Number of unique values in column 'neg_name': 2 \n"
     ]
    }
   ],
   "execution_count": 107
  },
  {
   "metadata": {
    "ExecuteTime": {
     "end_time": "2024-10-07T19:36:00.726927Z",
     "start_time": "2024-10-07T19:36:00.723872Z"
    }
   },
   "cell_type": "code",
   "source": [
    "good_negatives = pd.concat([good_negatives, filter_data])\n",
    "checking_data(good_negatives)"
   ],
   "outputs": [
    {
     "name": "stdout",
     "output_type": "stream",
     "text": [
      "Shape of the data frame is: (616, 16)\n",
      "Number of unique values in column 'neg_name': 185 \n"
     ]
    }
   ],
   "execution_count": 108
  },
  {
   "metadata": {
    "ExecuteTime": {
     "end_time": "2024-10-07T19:36:01.083060Z",
     "start_time": "2024-10-07T19:36:00.925613Z"
    }
   },
   "cell_type": "code",
   "source": [
    "# Let's remove them from \"neg_filtered\"\n",
    "neg_filtered = neg_filtered[~neg_filtered['neg_name'].isin(filter_data['neg_name'])]\n",
    "checking_data(neg_filtered)\n",
    "group_and_count(neg_filtered, \"neg_name\")"
   ],
   "outputs": [
    {
     "name": "stdout",
     "output_type": "stream",
     "text": [
      "Shape of the data frame is: (1000, 16)\n",
      "Number of unique values in column 'neg_name': 383 \n",
      "{'gene': 383, 'transcript': 383, '5utr': 21, '3utr': 160, 'CDS': 4}\n"
     ]
    },
    {
     "data": {
      "text/plain": [
       "                                                 notes  count\n",
       "0                                                  NaN    381\n",
       "1               malonyl-coa_decarboxylase-like_protein      2\n",
       "2                   Methionine_aminopeptidase_1|MetAP1      2\n",
       "3                  mitochondrial_carrier_protein|MCP18      2\n",
       "4                       electron_transfer_flavoprotein      2\n",
       "..                                                 ...    ...\n",
       "158               Haloacid_dehalogenase-like_hydrolase      1\n",
       "159  protein-l-isoaspartate_o-methyltransferase_-_p...      1\n",
       "160                 2′-O-ribose_methyltransferase|MTr1      1\n",
       "161           mitochondrial_carrier_protein_-_putative      1\n",
       "162            adaptin_complex_1_subunit|beta_adaptin       1\n",
       "\n",
       "[163 rows x 2 columns]"
      ],
      "text/html": [
       "<div>\n",
       "<style scoped>\n",
       "    .dataframe tbody tr th:only-of-type {\n",
       "        vertical-align: middle;\n",
       "    }\n",
       "\n",
       "    .dataframe tbody tr th {\n",
       "        vertical-align: top;\n",
       "    }\n",
       "\n",
       "    .dataframe thead th {\n",
       "        text-align: right;\n",
       "    }\n",
       "</style>\n",
       "<table border=\"1\" class=\"dataframe\">\n",
       "  <thead>\n",
       "    <tr style=\"text-align: right;\">\n",
       "      <th></th>\n",
       "      <th>notes</th>\n",
       "      <th>count</th>\n",
       "    </tr>\n",
       "  </thead>\n",
       "  <tbody>\n",
       "    <tr>\n",
       "      <th>0</th>\n",
       "      <td>NaN</td>\n",
       "      <td>381</td>\n",
       "    </tr>\n",
       "    <tr>\n",
       "      <th>1</th>\n",
       "      <td>malonyl-coa_decarboxylase-like_protein</td>\n",
       "      <td>2</td>\n",
       "    </tr>\n",
       "    <tr>\n",
       "      <th>2</th>\n",
       "      <td>Methionine_aminopeptidase_1|MetAP1</td>\n",
       "      <td>2</td>\n",
       "    </tr>\n",
       "    <tr>\n",
       "      <th>3</th>\n",
       "      <td>mitochondrial_carrier_protein|MCP18</td>\n",
       "      <td>2</td>\n",
       "    </tr>\n",
       "    <tr>\n",
       "      <th>4</th>\n",
       "      <td>electron_transfer_flavoprotein</td>\n",
       "      <td>2</td>\n",
       "    </tr>\n",
       "    <tr>\n",
       "      <th>...</th>\n",
       "      <td>...</td>\n",
       "      <td>...</td>\n",
       "    </tr>\n",
       "    <tr>\n",
       "      <th>158</th>\n",
       "      <td>Haloacid_dehalogenase-like_hydrolase</td>\n",
       "      <td>1</td>\n",
       "    </tr>\n",
       "    <tr>\n",
       "      <th>159</th>\n",
       "      <td>protein-l-isoaspartate_o-methyltransferase_-_p...</td>\n",
       "      <td>1</td>\n",
       "    </tr>\n",
       "    <tr>\n",
       "      <th>160</th>\n",
       "      <td>2′-O-ribose_methyltransferase|MTr1</td>\n",
       "      <td>1</td>\n",
       "    </tr>\n",
       "    <tr>\n",
       "      <th>161</th>\n",
       "      <td>mitochondrial_carrier_protein_-_putative</td>\n",
       "      <td>1</td>\n",
       "    </tr>\n",
       "    <tr>\n",
       "      <th>162</th>\n",
       "      <td>adaptin_complex_1_subunit|beta_adaptin</td>\n",
       "      <td>1</td>\n",
       "    </tr>\n",
       "  </tbody>\n",
       "</table>\n",
       "<p>163 rows × 2 columns</p>\n",
       "</div>"
      ]
     },
     "execution_count": 109,
     "metadata": {},
     "output_type": "execute_result"
    }
   ],
   "execution_count": 109
  },
  {
   "metadata": {},
   "cell_type": "markdown",
   "source": "### Checking: adenosyl"
  },
  {
   "metadata": {
    "ExecuteTime": {
     "end_time": "2024-10-07T19:36:01.192986Z",
     "start_time": "2024-10-07T19:36:01.185673Z"
    }
   },
   "cell_type": "code",
   "source": [
    "filter_data = search_string(neg_filtered, \"adenosyl\")\n",
    "filter_data['notes'].value_counts()"
   ],
   "outputs": [
    {
     "name": "stdout",
     "output_type": "stream",
     "text": [
      "The of filtered data: (4, 16)\n",
      "The unique values in column 'neg_name': 2\n"
     ]
    },
    {
     "data": {
      "text/plain": [
       "notes\n",
       "S-adenosylmethionine_decarboxylase_proenzyme|ADOMETDC_prozyme    4\n",
       "Name: count, dtype: int64"
      ]
     },
     "execution_count": 110,
     "metadata": {},
     "output_type": "execute_result"
    }
   ],
   "execution_count": 110
  },
  {
   "metadata": {
    "ExecuteTime": {
     "end_time": "2024-10-07T19:36:01.421474Z",
     "start_time": "2024-10-07T19:36:01.416430Z"
    }
   },
   "cell_type": "code",
   "source": [
    "filter_data.loc[\n",
    "    filter_data[\"gene\"] == True,\n",
    "    ['neg_name', 'chrom', 'gene_id', 'notes', 'start', 'end']\n",
    "]"
   ],
   "outputs": [
    {
     "data": {
      "text/plain": [
       "                     neg_name    chrom         gene_id  \\\n",
       "1099  rejected_noCDS_c30.4050  LinJ.30  LINF_300036800   \n",
       "1102  rejected_noCDS_c30.4060  LinJ.30  LINF_300036800   \n",
       "\n",
       "                                                  notes    start      end  \n",
       "1099  S-adenosylmethionine_decarboxylase_proenzyme|A...  1132567  1136504  \n",
       "1102  S-adenosylmethionine_decarboxylase_proenzyme|A...  1132567  1136504  "
      ],
      "text/html": [
       "<div>\n",
       "<style scoped>\n",
       "    .dataframe tbody tr th:only-of-type {\n",
       "        vertical-align: middle;\n",
       "    }\n",
       "\n",
       "    .dataframe tbody tr th {\n",
       "        vertical-align: top;\n",
       "    }\n",
       "\n",
       "    .dataframe thead th {\n",
       "        text-align: right;\n",
       "    }\n",
       "</style>\n",
       "<table border=\"1\" class=\"dataframe\">\n",
       "  <thead>\n",
       "    <tr style=\"text-align: right;\">\n",
       "      <th></th>\n",
       "      <th>neg_name</th>\n",
       "      <th>chrom</th>\n",
       "      <th>gene_id</th>\n",
       "      <th>notes</th>\n",
       "      <th>start</th>\n",
       "      <th>end</th>\n",
       "    </tr>\n",
       "  </thead>\n",
       "  <tbody>\n",
       "    <tr>\n",
       "      <th>1099</th>\n",
       "      <td>rejected_noCDS_c30.4050</td>\n",
       "      <td>LinJ.30</td>\n",
       "      <td>LINF_300036800</td>\n",
       "      <td>S-adenosylmethionine_decarboxylase_proenzyme|A...</td>\n",
       "      <td>1132567</td>\n",
       "      <td>1136504</td>\n",
       "    </tr>\n",
       "    <tr>\n",
       "      <th>1102</th>\n",
       "      <td>rejected_noCDS_c30.4060</td>\n",
       "      <td>LinJ.30</td>\n",
       "      <td>LINF_300036800</td>\n",
       "      <td>S-adenosylmethionine_decarboxylase_proenzyme|A...</td>\n",
       "      <td>1132567</td>\n",
       "      <td>1136504</td>\n",
       "    </tr>\n",
       "  </tbody>\n",
       "</table>\n",
       "</div>"
      ]
     },
     "execution_count": 111,
     "metadata": {},
     "output_type": "execute_result"
    }
   ],
   "execution_count": 111
  },
  {
   "metadata": {
    "ExecuteTime": {
     "end_time": "2024-10-07T19:36:01.512735Z",
     "start_time": "2024-10-07T19:36:01.510372Z"
    }
   },
   "cell_type": "code",
   "source": [
    "filter_data = neg_filtered[neg_filtered['neg_name'].isin(filter_data['neg_name'])]\n",
    "checking_data(filter_data)"
   ],
   "outputs": [
    {
     "name": "stdout",
     "output_type": "stream",
     "text": [
      "Shape of the data frame is: (6, 16)\n",
      "Number of unique values in column 'neg_name': 2 \n"
     ]
    }
   ],
   "execution_count": 112
  },
  {
   "metadata": {
    "ExecuteTime": {
     "end_time": "2024-10-07T19:36:01.649246Z",
     "start_time": "2024-10-07T19:36:01.646210Z"
    }
   },
   "cell_type": "code",
   "source": [
    "good_negatives = pd.concat([good_negatives, filter_data])\n",
    "checking_data(good_negatives)"
   ],
   "outputs": [
    {
     "name": "stdout",
     "output_type": "stream",
     "text": [
      "Shape of the data frame is: (622, 16)\n",
      "Number of unique values in column 'neg_name': 187 \n"
     ]
    }
   ],
   "execution_count": 113
  },
  {
   "metadata": {
    "ExecuteTime": {
     "end_time": "2024-10-07T19:36:01.930764Z",
     "start_time": "2024-10-07T19:36:01.778285Z"
    }
   },
   "cell_type": "code",
   "source": [
    "# Let's remove them from \"neg_filtered\"\n",
    "neg_filtered = neg_filtered[~neg_filtered['neg_name'].isin(filter_data['neg_name'])]\n",
    "checking_data(neg_filtered)\n",
    "group_and_count(neg_filtered, \"neg_name\")"
   ],
   "outputs": [
    {
     "name": "stdout",
     "output_type": "stream",
     "text": [
      "Shape of the data frame is: (994, 16)\n",
      "Number of unique values in column 'neg_name': 381 \n",
      "{'gene': 381, 'transcript': 381, '5utr': 21, '3utr': 158, 'CDS': 4}\n"
     ]
    },
    {
     "data": {
      "text/plain": [
       "                                                 notes  count\n",
       "0                                                  NaN    379\n",
       "1               malonyl-coa_decarboxylase-like_protein      2\n",
       "2                   Methionine_aminopeptidase_1|MetAP1      2\n",
       "3                  mitochondrial_carrier_protein|MCP18      2\n",
       "4                       electron_transfer_flavoprotein      2\n",
       "..                                                 ...    ...\n",
       "157               Haloacid_dehalogenase-like_hydrolase      1\n",
       "158  protein-l-isoaspartate_o-methyltransferase_-_p...      1\n",
       "159                 2′-O-ribose_methyltransferase|MTr1      1\n",
       "160           mitochondrial_carrier_protein_-_putative      1\n",
       "161            adaptin_complex_1_subunit|beta_adaptin       1\n",
       "\n",
       "[162 rows x 2 columns]"
      ],
      "text/html": [
       "<div>\n",
       "<style scoped>\n",
       "    .dataframe tbody tr th:only-of-type {\n",
       "        vertical-align: middle;\n",
       "    }\n",
       "\n",
       "    .dataframe tbody tr th {\n",
       "        vertical-align: top;\n",
       "    }\n",
       "\n",
       "    .dataframe thead th {\n",
       "        text-align: right;\n",
       "    }\n",
       "</style>\n",
       "<table border=\"1\" class=\"dataframe\">\n",
       "  <thead>\n",
       "    <tr style=\"text-align: right;\">\n",
       "      <th></th>\n",
       "      <th>notes</th>\n",
       "      <th>count</th>\n",
       "    </tr>\n",
       "  </thead>\n",
       "  <tbody>\n",
       "    <tr>\n",
       "      <th>0</th>\n",
       "      <td>NaN</td>\n",
       "      <td>379</td>\n",
       "    </tr>\n",
       "    <tr>\n",
       "      <th>1</th>\n",
       "      <td>malonyl-coa_decarboxylase-like_protein</td>\n",
       "      <td>2</td>\n",
       "    </tr>\n",
       "    <tr>\n",
       "      <th>2</th>\n",
       "      <td>Methionine_aminopeptidase_1|MetAP1</td>\n",
       "      <td>2</td>\n",
       "    </tr>\n",
       "    <tr>\n",
       "      <th>3</th>\n",
       "      <td>mitochondrial_carrier_protein|MCP18</td>\n",
       "      <td>2</td>\n",
       "    </tr>\n",
       "    <tr>\n",
       "      <th>4</th>\n",
       "      <td>electron_transfer_flavoprotein</td>\n",
       "      <td>2</td>\n",
       "    </tr>\n",
       "    <tr>\n",
       "      <th>...</th>\n",
       "      <td>...</td>\n",
       "      <td>...</td>\n",
       "    </tr>\n",
       "    <tr>\n",
       "      <th>157</th>\n",
       "      <td>Haloacid_dehalogenase-like_hydrolase</td>\n",
       "      <td>1</td>\n",
       "    </tr>\n",
       "    <tr>\n",
       "      <th>158</th>\n",
       "      <td>protein-l-isoaspartate_o-methyltransferase_-_p...</td>\n",
       "      <td>1</td>\n",
       "    </tr>\n",
       "    <tr>\n",
       "      <th>159</th>\n",
       "      <td>2′-O-ribose_methyltransferase|MTr1</td>\n",
       "      <td>1</td>\n",
       "    </tr>\n",
       "    <tr>\n",
       "      <th>160</th>\n",
       "      <td>mitochondrial_carrier_protein_-_putative</td>\n",
       "      <td>1</td>\n",
       "    </tr>\n",
       "    <tr>\n",
       "      <th>161</th>\n",
       "      <td>adaptin_complex_1_subunit|beta_adaptin</td>\n",
       "      <td>1</td>\n",
       "    </tr>\n",
       "  </tbody>\n",
       "</table>\n",
       "<p>162 rows × 2 columns</p>\n",
       "</div>"
      ]
     },
     "execution_count": 114,
     "metadata": {},
     "output_type": "execute_result"
    }
   ],
   "execution_count": 114
  },
  {
   "metadata": {},
   "cell_type": "markdown",
   "source": "### Checking: malonyl"
  },
  {
   "metadata": {
    "ExecuteTime": {
     "end_time": "2024-10-07T19:56:49.414006Z",
     "start_time": "2024-10-07T19:56:49.407214Z"
    }
   },
   "cell_type": "code",
   "source": [
    "filter_data = search_string(neg_filtered, \"malonyl\")\n",
    "print(\"=\"*50)\n",
    "print(filter_data['notes'].value_counts())\n",
    "filter_data.loc[\n",
    "    filter_data[\"gene\"] == True,\n",
    "    ['neg_name', 'chrom', 'gene_id', 'notes', 'start', 'end']\n",
    "]"
   ],
   "outputs": [
    {
     "name": "stdout",
     "output_type": "stream",
     "text": [
      "The of filtered data: (4, 16)\n",
      "The unique values in column 'neg_name': 2\n",
      "==================================================\n",
      "notes\n",
      "malonyl-coa_decarboxylase-like_protein    4\n",
      "Name: count, dtype: int64\n"
     ]
    },
    {
     "data": {
      "text/plain": [
       "                   neg_name    chrom         gene_id  \\\n",
       "135  rejected_noCDS_c07.490  LinJ.07  LINF_070013000   \n",
       "137  rejected_noCDS_c07.500  LinJ.07  LINF_070013000   \n",
       "\n",
       "                                      notes   start     end  \n",
       "135  malonyl-coa_decarboxylase-like_protein  334632  339908  \n",
       "137  malonyl-coa_decarboxylase-like_protein  334632  339908  "
      ],
      "text/html": [
       "<div>\n",
       "<style scoped>\n",
       "    .dataframe tbody tr th:only-of-type {\n",
       "        vertical-align: middle;\n",
       "    }\n",
       "\n",
       "    .dataframe tbody tr th {\n",
       "        vertical-align: top;\n",
       "    }\n",
       "\n",
       "    .dataframe thead th {\n",
       "        text-align: right;\n",
       "    }\n",
       "</style>\n",
       "<table border=\"1\" class=\"dataframe\">\n",
       "  <thead>\n",
       "    <tr style=\"text-align: right;\">\n",
       "      <th></th>\n",
       "      <th>neg_name</th>\n",
       "      <th>chrom</th>\n",
       "      <th>gene_id</th>\n",
       "      <th>notes</th>\n",
       "      <th>start</th>\n",
       "      <th>end</th>\n",
       "    </tr>\n",
       "  </thead>\n",
       "  <tbody>\n",
       "    <tr>\n",
       "      <th>135</th>\n",
       "      <td>rejected_noCDS_c07.490</td>\n",
       "      <td>LinJ.07</td>\n",
       "      <td>LINF_070013000</td>\n",
       "      <td>malonyl-coa_decarboxylase-like_protein</td>\n",
       "      <td>334632</td>\n",
       "      <td>339908</td>\n",
       "    </tr>\n",
       "    <tr>\n",
       "      <th>137</th>\n",
       "      <td>rejected_noCDS_c07.500</td>\n",
       "      <td>LinJ.07</td>\n",
       "      <td>LINF_070013000</td>\n",
       "      <td>malonyl-coa_decarboxylase-like_protein</td>\n",
       "      <td>334632</td>\n",
       "      <td>339908</td>\n",
       "    </tr>\n",
       "  </tbody>\n",
       "</table>\n",
       "</div>"
      ]
     },
     "execution_count": 117,
     "metadata": {},
     "output_type": "execute_result"
    }
   ],
   "execution_count": 117
  },
  {
   "metadata": {
    "ExecuteTime": {
     "end_time": "2024-10-07T19:57:43.663694Z",
     "start_time": "2024-10-07T19:57:43.660262Z"
    }
   },
   "cell_type": "code",
   "source": [
    "filter_data = neg_filtered[neg_filtered['neg_name'].isin(filter_data['neg_name'])]\n",
    "checking_data(filter_data)"
   ],
   "outputs": [
    {
     "name": "stdout",
     "output_type": "stream",
     "text": [
      "Shape of the data frame is: (6, 16)\n",
      "Number of unique values in column 'neg_name': 2 \n"
     ]
    }
   ],
   "execution_count": 118
  },
  {
   "metadata": {
    "ExecuteTime": {
     "end_time": "2024-10-07T19:57:56.418031Z",
     "start_time": "2024-10-07T19:57:56.414516Z"
    }
   },
   "cell_type": "code",
   "source": [
    "good_negatives = pd.concat([good_negatives, filter_data])\n",
    "checking_data(good_negatives)"
   ],
   "outputs": [
    {
     "name": "stdout",
     "output_type": "stream",
     "text": [
      "Shape of the data frame is: (628, 16)\n",
      "Number of unique values in column 'neg_name': 189 \n"
     ]
    }
   ],
   "execution_count": 119
  },
  {
   "metadata": {
    "ExecuteTime": {
     "end_time": "2024-10-07T19:58:39.111764Z",
     "start_time": "2024-10-07T19:58:38.990311Z"
    }
   },
   "cell_type": "code",
   "source": [
    "neg_filtered = neg_filtered[~neg_filtered['neg_name'].isin(filter_data['neg_name'])]\n",
    "checking_data(neg_filtered)\n",
    "group_and_count(neg_filtered, \"neg_name\")"
   ],
   "outputs": [
    {
     "name": "stdout",
     "output_type": "stream",
     "text": [
      "Shape of the data frame is: (988, 16)\n",
      "Number of unique values in column 'neg_name': 379 \n",
      "{'gene': 379, 'transcript': 379, '5utr': 21, '3utr': 156, 'CDS': 4}\n"
     ]
    },
    {
     "data": {
      "text/plain": [
       "                                                 notes  count\n",
       "0                                                  NaN    377\n",
       "1                   Methionine_aminopeptidase_1|MetAP1      2\n",
       "2                  mitochondrial_carrier_protein|MCP18      2\n",
       "3                       electron_transfer_flavoprotein      2\n",
       "4                      sphingolipid_delta_4_desaturase      2\n",
       "..                                                 ...    ...\n",
       "156               Haloacid_dehalogenase-like_hydrolase      1\n",
       "157  protein-l-isoaspartate_o-methyltransferase_-_p...      1\n",
       "158                 2′-O-ribose_methyltransferase|MTr1      1\n",
       "159           mitochondrial_carrier_protein_-_putative      1\n",
       "160            adaptin_complex_1_subunit|beta_adaptin       1\n",
       "\n",
       "[161 rows x 2 columns]"
      ],
      "text/html": [
       "<div>\n",
       "<style scoped>\n",
       "    .dataframe tbody tr th:only-of-type {\n",
       "        vertical-align: middle;\n",
       "    }\n",
       "\n",
       "    .dataframe tbody tr th {\n",
       "        vertical-align: top;\n",
       "    }\n",
       "\n",
       "    .dataframe thead th {\n",
       "        text-align: right;\n",
       "    }\n",
       "</style>\n",
       "<table border=\"1\" class=\"dataframe\">\n",
       "  <thead>\n",
       "    <tr style=\"text-align: right;\">\n",
       "      <th></th>\n",
       "      <th>notes</th>\n",
       "      <th>count</th>\n",
       "    </tr>\n",
       "  </thead>\n",
       "  <tbody>\n",
       "    <tr>\n",
       "      <th>0</th>\n",
       "      <td>NaN</td>\n",
       "      <td>377</td>\n",
       "    </tr>\n",
       "    <tr>\n",
       "      <th>1</th>\n",
       "      <td>Methionine_aminopeptidase_1|MetAP1</td>\n",
       "      <td>2</td>\n",
       "    </tr>\n",
       "    <tr>\n",
       "      <th>2</th>\n",
       "      <td>mitochondrial_carrier_protein|MCP18</td>\n",
       "      <td>2</td>\n",
       "    </tr>\n",
       "    <tr>\n",
       "      <th>3</th>\n",
       "      <td>electron_transfer_flavoprotein</td>\n",
       "      <td>2</td>\n",
       "    </tr>\n",
       "    <tr>\n",
       "      <th>4</th>\n",
       "      <td>sphingolipid_delta_4_desaturase</td>\n",
       "      <td>2</td>\n",
       "    </tr>\n",
       "    <tr>\n",
       "      <th>...</th>\n",
       "      <td>...</td>\n",
       "      <td>...</td>\n",
       "    </tr>\n",
       "    <tr>\n",
       "      <th>156</th>\n",
       "      <td>Haloacid_dehalogenase-like_hydrolase</td>\n",
       "      <td>1</td>\n",
       "    </tr>\n",
       "    <tr>\n",
       "      <th>157</th>\n",
       "      <td>protein-l-isoaspartate_o-methyltransferase_-_p...</td>\n",
       "      <td>1</td>\n",
       "    </tr>\n",
       "    <tr>\n",
       "      <th>158</th>\n",
       "      <td>2′-O-ribose_methyltransferase|MTr1</td>\n",
       "      <td>1</td>\n",
       "    </tr>\n",
       "    <tr>\n",
       "      <th>159</th>\n",
       "      <td>mitochondrial_carrier_protein_-_putative</td>\n",
       "      <td>1</td>\n",
       "    </tr>\n",
       "    <tr>\n",
       "      <th>160</th>\n",
       "      <td>adaptin_complex_1_subunit|beta_adaptin</td>\n",
       "      <td>1</td>\n",
       "    </tr>\n",
       "  </tbody>\n",
       "</table>\n",
       "<p>161 rows × 2 columns</p>\n",
       "</div>"
      ]
     },
     "execution_count": 121,
     "metadata": {},
     "output_type": "execute_result"
    }
   ],
   "execution_count": 121
  },
  {
   "metadata": {},
   "cell_type": "markdown",
   "source": "### Checking: MetAP1"
  },
  {
   "metadata": {
    "ExecuteTime": {
     "end_time": "2024-10-07T20:02:24.450149Z",
     "start_time": "2024-10-07T20:02:24.442657Z"
    }
   },
   "cell_type": "code",
   "source": [
    "filter_data = search_string(neg_filtered, \"MetAP1\")\n",
    "print(\"=\"*50)\n",
    "print(filter_data['notes'].value_counts())\n",
    "filter_data.loc[\n",
    "    filter_data[\"gene\"] == True,\n",
    "    ['neg_name', 'chrom', 'gene_id', 'notes', 'start', 'end']\n",
    "]"
   ],
   "outputs": [
    {
     "name": "stdout",
     "output_type": "stream",
     "text": [
      "The of filtered data: (4, 16)\n",
      "The unique values in column 'neg_name': 2\n",
      "==================================================\n",
      "notes\n",
      "Methionine_aminopeptidase_1|MetAP1    4\n",
      "Name: count, dtype: int64\n"
     ]
    },
    {
     "data": {
      "text/plain": [
       "                      neg_name    chrom         gene_id  \\\n",
       "547  rejected_noCDS_c19.2070AC  LinJ.19  LINF_190010300   \n",
       "549  rejected_noCDS_c19.2080AB  LinJ.19  LINF_190010300   \n",
       "\n",
       "                                  notes   start     end  \n",
       "547  Methionine_aminopeptidase_1|MetAP1  207856  211386  \n",
       "549  Methionine_aminopeptidase_1|MetAP1  207856  211386  "
      ],
      "text/html": [
       "<div>\n",
       "<style scoped>\n",
       "    .dataframe tbody tr th:only-of-type {\n",
       "        vertical-align: middle;\n",
       "    }\n",
       "\n",
       "    .dataframe tbody tr th {\n",
       "        vertical-align: top;\n",
       "    }\n",
       "\n",
       "    .dataframe thead th {\n",
       "        text-align: right;\n",
       "    }\n",
       "</style>\n",
       "<table border=\"1\" class=\"dataframe\">\n",
       "  <thead>\n",
       "    <tr style=\"text-align: right;\">\n",
       "      <th></th>\n",
       "      <th>neg_name</th>\n",
       "      <th>chrom</th>\n",
       "      <th>gene_id</th>\n",
       "      <th>notes</th>\n",
       "      <th>start</th>\n",
       "      <th>end</th>\n",
       "    </tr>\n",
       "  </thead>\n",
       "  <tbody>\n",
       "    <tr>\n",
       "      <th>547</th>\n",
       "      <td>rejected_noCDS_c19.2070AC</td>\n",
       "      <td>LinJ.19</td>\n",
       "      <td>LINF_190010300</td>\n",
       "      <td>Methionine_aminopeptidase_1|MetAP1</td>\n",
       "      <td>207856</td>\n",
       "      <td>211386</td>\n",
       "    </tr>\n",
       "    <tr>\n",
       "      <th>549</th>\n",
       "      <td>rejected_noCDS_c19.2080AB</td>\n",
       "      <td>LinJ.19</td>\n",
       "      <td>LINF_190010300</td>\n",
       "      <td>Methionine_aminopeptidase_1|MetAP1</td>\n",
       "      <td>207856</td>\n",
       "      <td>211386</td>\n",
       "    </tr>\n",
       "  </tbody>\n",
       "</table>\n",
       "</div>"
      ]
     },
     "execution_count": 122,
     "metadata": {},
     "output_type": "execute_result"
    }
   ],
   "execution_count": 122
  },
  {
   "metadata": {
    "ExecuteTime": {
     "end_time": "2024-10-07T20:05:00.509920Z",
     "start_time": "2024-10-07T20:05:00.503890Z"
    }
   },
   "cell_type": "code",
   "source": "check_family(neg_to_filter, \"AC\")",
   "outputs": [
    {
     "data": {
      "text/plain": [
       "                      neg_name    chrom         gene_id  \\\n",
       "547  rejected_noCDS_c19.2070AC  LinJ.19  LINF_190010300   \n",
       "553  rejected_noCDS_c19.2090AC  LinJ.19  LINF_190010600   \n",
       "\n",
       "                                       notes   start     end  \n",
       "547       Methionine_aminopeptidase_1|MetAP1  207856  211386  \n",
       "553  protein_of_unknown_function_-_conserved  224264  231735  "
      ],
      "text/html": [
       "<div>\n",
       "<style scoped>\n",
       "    .dataframe tbody tr th:only-of-type {\n",
       "        vertical-align: middle;\n",
       "    }\n",
       "\n",
       "    .dataframe tbody tr th {\n",
       "        vertical-align: top;\n",
       "    }\n",
       "\n",
       "    .dataframe thead th {\n",
       "        text-align: right;\n",
       "    }\n",
       "</style>\n",
       "<table border=\"1\" class=\"dataframe\">\n",
       "  <thead>\n",
       "    <tr style=\"text-align: right;\">\n",
       "      <th></th>\n",
       "      <th>neg_name</th>\n",
       "      <th>chrom</th>\n",
       "      <th>gene_id</th>\n",
       "      <th>notes</th>\n",
       "      <th>start</th>\n",
       "      <th>end</th>\n",
       "    </tr>\n",
       "  </thead>\n",
       "  <tbody>\n",
       "    <tr>\n",
       "      <th>547</th>\n",
       "      <td>rejected_noCDS_c19.2070AC</td>\n",
       "      <td>LinJ.19</td>\n",
       "      <td>LINF_190010300</td>\n",
       "      <td>Methionine_aminopeptidase_1|MetAP1</td>\n",
       "      <td>207856</td>\n",
       "      <td>211386</td>\n",
       "    </tr>\n",
       "    <tr>\n",
       "      <th>553</th>\n",
       "      <td>rejected_noCDS_c19.2090AC</td>\n",
       "      <td>LinJ.19</td>\n",
       "      <td>LINF_190010600</td>\n",
       "      <td>protein_of_unknown_function_-_conserved</td>\n",
       "      <td>224264</td>\n",
       "      <td>231735</td>\n",
       "    </tr>\n",
       "  </tbody>\n",
       "</table>\n",
       "</div>"
      ]
     },
     "execution_count": 123,
     "metadata": {},
     "output_type": "execute_result"
    }
   ],
   "execution_count": 123
  },
  {
   "metadata": {
    "ExecuteTime": {
     "end_time": "2024-10-07T20:05:12.523290Z",
     "start_time": "2024-10-07T20:05:12.517402Z"
    }
   },
   "cell_type": "code",
   "source": "check_family(neg_to_filter, \"AB\")",
   "outputs": [
    {
     "data": {
      "text/plain": [
       "                      neg_name    chrom         gene_id  \\\n",
       "544  rejected_noCDS_c19.2060AB  LinJ.19  LINF_190009700   \n",
       "549  rejected_noCDS_c19.2080AB  LinJ.19  LINF_190010300   \n",
       "\n",
       "                                  notes   start     end  \n",
       "544    hypothetical_protein_-_conserved  182279  187638  \n",
       "549  Methionine_aminopeptidase_1|MetAP1  207856  211386  "
      ],
      "text/html": [
       "<div>\n",
       "<style scoped>\n",
       "    .dataframe tbody tr th:only-of-type {\n",
       "        vertical-align: middle;\n",
       "    }\n",
       "\n",
       "    .dataframe tbody tr th {\n",
       "        vertical-align: top;\n",
       "    }\n",
       "\n",
       "    .dataframe thead th {\n",
       "        text-align: right;\n",
       "    }\n",
       "</style>\n",
       "<table border=\"1\" class=\"dataframe\">\n",
       "  <thead>\n",
       "    <tr style=\"text-align: right;\">\n",
       "      <th></th>\n",
       "      <th>neg_name</th>\n",
       "      <th>chrom</th>\n",
       "      <th>gene_id</th>\n",
       "      <th>notes</th>\n",
       "      <th>start</th>\n",
       "      <th>end</th>\n",
       "    </tr>\n",
       "  </thead>\n",
       "  <tbody>\n",
       "    <tr>\n",
       "      <th>544</th>\n",
       "      <td>rejected_noCDS_c19.2060AB</td>\n",
       "      <td>LinJ.19</td>\n",
       "      <td>LINF_190009700</td>\n",
       "      <td>hypothetical_protein_-_conserved</td>\n",
       "      <td>182279</td>\n",
       "      <td>187638</td>\n",
       "    </tr>\n",
       "    <tr>\n",
       "      <th>549</th>\n",
       "      <td>rejected_noCDS_c19.2080AB</td>\n",
       "      <td>LinJ.19</td>\n",
       "      <td>LINF_190010300</td>\n",
       "      <td>Methionine_aminopeptidase_1|MetAP1</td>\n",
       "      <td>207856</td>\n",
       "      <td>211386</td>\n",
       "    </tr>\n",
       "  </tbody>\n",
       "</table>\n",
       "</div>"
      ]
     },
     "execution_count": 124,
     "metadata": {},
     "output_type": "execute_result"
    }
   ],
   "execution_count": 124
  },
  {
   "metadata": {
    "ExecuteTime": {
     "end_time": "2024-10-07T20:07:55.259175Z",
     "start_time": "2024-10-07T20:07:55.256582Z"
    }
   },
   "cell_type": "code",
   "source": [
    "filter_data = neg_filtered[neg_filtered['neg_name'].isin(filter_data['neg_name'])]\n",
    "checking_data(filter_data)"
   ],
   "outputs": [
    {
     "name": "stdout",
     "output_type": "stream",
     "text": [
      "Shape of the data frame is: (6, 16)\n",
      "Number of unique values in column 'neg_name': 2 \n"
     ]
    }
   ],
   "execution_count": 125
  },
  {
   "metadata": {
    "ExecuteTime": {
     "end_time": "2024-10-07T20:08:16.400472Z",
     "start_time": "2024-10-07T20:08:16.397730Z"
    }
   },
   "cell_type": "code",
   "source": [
    "good_negatives = pd.concat([good_negatives, filter_data])\n",
    "checking_data(good_negatives)"
   ],
   "outputs": [
    {
     "name": "stdout",
     "output_type": "stream",
     "text": [
      "Shape of the data frame is: (634, 16)\n",
      "Number of unique values in column 'neg_name': 191 \n"
     ]
    }
   ],
   "execution_count": 126
  },
  {
   "metadata": {
    "ExecuteTime": {
     "end_time": "2024-10-07T20:08:44.371058Z",
     "start_time": "2024-10-07T20:08:44.244221Z"
    }
   },
   "cell_type": "code",
   "source": [
    "neg_filtered = neg_filtered[~neg_filtered['neg_name'].isin(filter_data['neg_name'])]\n",
    "checking_data(neg_filtered)\n",
    "group_and_count(neg_filtered, \"neg_name\")"
   ],
   "outputs": [
    {
     "name": "stdout",
     "output_type": "stream",
     "text": [
      "Shape of the data frame is: (982, 16)\n",
      "Number of unique values in column 'neg_name': 377 \n",
      "{'gene': 377, 'transcript': 377, '5utr': 21, '3utr': 154, 'CDS': 4}\n"
     ]
    },
    {
     "data": {
      "text/plain": [
       "                                                 notes  count\n",
       "0                                                  NaN    375\n",
       "1                  mitochondrial_carrier_protein|MCP18      2\n",
       "2                       electron_transfer_flavoprotein      2\n",
       "3                      sphingolipid_delta_4_desaturase      2\n",
       "4                       Amino_acid_transporter|AAT24.1      2\n",
       "..                                                 ...    ...\n",
       "155               Haloacid_dehalogenase-like_hydrolase      1\n",
       "156  protein-l-isoaspartate_o-methyltransferase_-_p...      1\n",
       "157                 2′-O-ribose_methyltransferase|MTr1      1\n",
       "158           mitochondrial_carrier_protein_-_putative      1\n",
       "159            adaptin_complex_1_subunit|beta_adaptin       1\n",
       "\n",
       "[160 rows x 2 columns]"
      ],
      "text/html": [
       "<div>\n",
       "<style scoped>\n",
       "    .dataframe tbody tr th:only-of-type {\n",
       "        vertical-align: middle;\n",
       "    }\n",
       "\n",
       "    .dataframe tbody tr th {\n",
       "        vertical-align: top;\n",
       "    }\n",
       "\n",
       "    .dataframe thead th {\n",
       "        text-align: right;\n",
       "    }\n",
       "</style>\n",
       "<table border=\"1\" class=\"dataframe\">\n",
       "  <thead>\n",
       "    <tr style=\"text-align: right;\">\n",
       "      <th></th>\n",
       "      <th>notes</th>\n",
       "      <th>count</th>\n",
       "    </tr>\n",
       "  </thead>\n",
       "  <tbody>\n",
       "    <tr>\n",
       "      <th>0</th>\n",
       "      <td>NaN</td>\n",
       "      <td>375</td>\n",
       "    </tr>\n",
       "    <tr>\n",
       "      <th>1</th>\n",
       "      <td>mitochondrial_carrier_protein|MCP18</td>\n",
       "      <td>2</td>\n",
       "    </tr>\n",
       "    <tr>\n",
       "      <th>2</th>\n",
       "      <td>electron_transfer_flavoprotein</td>\n",
       "      <td>2</td>\n",
       "    </tr>\n",
       "    <tr>\n",
       "      <th>3</th>\n",
       "      <td>sphingolipid_delta_4_desaturase</td>\n",
       "      <td>2</td>\n",
       "    </tr>\n",
       "    <tr>\n",
       "      <th>4</th>\n",
       "      <td>Amino_acid_transporter|AAT24.1</td>\n",
       "      <td>2</td>\n",
       "    </tr>\n",
       "    <tr>\n",
       "      <th>...</th>\n",
       "      <td>...</td>\n",
       "      <td>...</td>\n",
       "    </tr>\n",
       "    <tr>\n",
       "      <th>155</th>\n",
       "      <td>Haloacid_dehalogenase-like_hydrolase</td>\n",
       "      <td>1</td>\n",
       "    </tr>\n",
       "    <tr>\n",
       "      <th>156</th>\n",
       "      <td>protein-l-isoaspartate_o-methyltransferase_-_p...</td>\n",
       "      <td>1</td>\n",
       "    </tr>\n",
       "    <tr>\n",
       "      <th>157</th>\n",
       "      <td>2′-O-ribose_methyltransferase|MTr1</td>\n",
       "      <td>1</td>\n",
       "    </tr>\n",
       "    <tr>\n",
       "      <th>158</th>\n",
       "      <td>mitochondrial_carrier_protein_-_putative</td>\n",
       "      <td>1</td>\n",
       "    </tr>\n",
       "    <tr>\n",
       "      <th>159</th>\n",
       "      <td>adaptin_complex_1_subunit|beta_adaptin</td>\n",
       "      <td>1</td>\n",
       "    </tr>\n",
       "  </tbody>\n",
       "</table>\n",
       "<p>160 rows × 2 columns</p>\n",
       "</div>"
      ]
     },
     "execution_count": 127,
     "metadata": {},
     "output_type": "execute_result"
    }
   ],
   "execution_count": 127
  },
  {
   "metadata": {},
   "cell_type": "markdown",
   "source": "### Checking: mitochondrial carrier protein | MCP18"
  },
  {
   "metadata": {
    "ExecuteTime": {
     "end_time": "2024-10-07T20:13:07.341768Z",
     "start_time": "2024-10-07T20:13:07.335165Z"
    }
   },
   "cell_type": "code",
   "source": [
    "filter_data = search_string(neg_filtered, r\"MCP18\")\n",
    "print(\"=\"*50)\n",
    "print(filter_data['notes'].value_counts())\n",
    "filter_data.loc[\n",
    "    filter_data[\"gene\"] == True,\n",
    "    ['neg_name', 'chrom', 'gene_id', 'notes', 'start', 'end']\n",
    "]"
   ],
   "outputs": [
    {
     "name": "stdout",
     "output_type": "stream",
     "text": [
      "The of filtered data: (4, 16)\n",
      "The unique values in column 'neg_name': 2\n",
      "==================================================\n",
      "notes\n",
      "mitochondrial_carrier_protein|MCP18    4\n",
      "Name: count, dtype: int64\n"
     ]
    },
    {
     "data": {
      "text/plain": [
       "                    neg_name    chrom         gene_id  \\\n",
       "713  rejected_noCDS_c23.2670  LinJ.23  LINF_230023000   \n",
       "715  rejected_noCDS_c23.2680  LinJ.23  LINF_230023000   \n",
       "\n",
       "                                   notes   start     end  \n",
       "713  mitochondrial_carrier_protein|MCP18  673878  677745  \n",
       "715  mitochondrial_carrier_protein|MCP18  673878  677745  "
      ],
      "text/html": [
       "<div>\n",
       "<style scoped>\n",
       "    .dataframe tbody tr th:only-of-type {\n",
       "        vertical-align: middle;\n",
       "    }\n",
       "\n",
       "    .dataframe tbody tr th {\n",
       "        vertical-align: top;\n",
       "    }\n",
       "\n",
       "    .dataframe thead th {\n",
       "        text-align: right;\n",
       "    }\n",
       "</style>\n",
       "<table border=\"1\" class=\"dataframe\">\n",
       "  <thead>\n",
       "    <tr style=\"text-align: right;\">\n",
       "      <th></th>\n",
       "      <th>neg_name</th>\n",
       "      <th>chrom</th>\n",
       "      <th>gene_id</th>\n",
       "      <th>notes</th>\n",
       "      <th>start</th>\n",
       "      <th>end</th>\n",
       "    </tr>\n",
       "  </thead>\n",
       "  <tbody>\n",
       "    <tr>\n",
       "      <th>713</th>\n",
       "      <td>rejected_noCDS_c23.2670</td>\n",
       "      <td>LinJ.23</td>\n",
       "      <td>LINF_230023000</td>\n",
       "      <td>mitochondrial_carrier_protein|MCP18</td>\n",
       "      <td>673878</td>\n",
       "      <td>677745</td>\n",
       "    </tr>\n",
       "    <tr>\n",
       "      <th>715</th>\n",
       "      <td>rejected_noCDS_c23.2680</td>\n",
       "      <td>LinJ.23</td>\n",
       "      <td>LINF_230023000</td>\n",
       "      <td>mitochondrial_carrier_protein|MCP18</td>\n",
       "      <td>673878</td>\n",
       "      <td>677745</td>\n",
       "    </tr>\n",
       "  </tbody>\n",
       "</table>\n",
       "</div>"
      ]
     },
     "execution_count": 132,
     "metadata": {},
     "output_type": "execute_result"
    }
   ],
   "execution_count": 132
  },
  {
   "metadata": {
    "ExecuteTime": {
     "end_time": "2024-10-07T20:13:19.997567Z",
     "start_time": "2024-10-07T20:13:19.994539Z"
    }
   },
   "cell_type": "code",
   "source": [
    "filter_data = neg_filtered[neg_filtered['neg_name'].isin(filter_data['neg_name'])]\n",
    "checking_data(filter_data)"
   ],
   "outputs": [
    {
     "name": "stdout",
     "output_type": "stream",
     "text": [
      "Shape of the data frame is: (6, 16)\n",
      "Number of unique values in column 'neg_name': 2 \n"
     ]
    }
   ],
   "execution_count": 133
  },
  {
   "metadata": {
    "ExecuteTime": {
     "end_time": "2024-10-07T20:13:25.271779Z",
     "start_time": "2024-10-07T20:13:25.269123Z"
    }
   },
   "cell_type": "code",
   "source": [
    "good_negatives = pd.concat([good_negatives, filter_data])\n",
    "checking_data(good_negatives)"
   ],
   "outputs": [
    {
     "name": "stdout",
     "output_type": "stream",
     "text": [
      "Shape of the data frame is: (640, 16)\n",
      "Number of unique values in column 'neg_name': 193 \n"
     ]
    }
   ],
   "execution_count": 134
  },
  {
   "metadata": {
    "ExecuteTime": {
     "end_time": "2024-10-07T20:13:32.473551Z",
     "start_time": "2024-10-07T20:13:32.319464Z"
    }
   },
   "cell_type": "code",
   "source": [
    "neg_filtered = neg_filtered[~neg_filtered['neg_name'].isin(filter_data['neg_name'])]\n",
    "checking_data(neg_filtered)\n",
    "group_and_count(neg_filtered, \"neg_name\")"
   ],
   "outputs": [
    {
     "name": "stdout",
     "output_type": "stream",
     "text": [
      "Shape of the data frame is: (976, 16)\n",
      "Number of unique values in column 'neg_name': 375 \n",
      "{'gene': 375, 'transcript': 375, '5utr': 21, '3utr': 152, 'CDS': 4}\n"
     ]
    },
    {
     "data": {
      "text/plain": [
       "                                                 notes  count\n",
       "0                                                  NaN    373\n",
       "1                       electron_transfer_flavoprotein      2\n",
       "2                      sphingolipid_delta_4_desaturase      2\n",
       "3                       Amino_acid_transporter|AAT24.1      2\n",
       "4                               Exonuclease_-_putative      2\n",
       "..                                                 ...    ...\n",
       "154               Haloacid_dehalogenase-like_hydrolase      1\n",
       "155  protein-l-isoaspartate_o-methyltransferase_-_p...      1\n",
       "156                 2′-O-ribose_methyltransferase|MTr1      1\n",
       "157           mitochondrial_carrier_protein_-_putative      1\n",
       "158            adaptin_complex_1_subunit|beta_adaptin       1\n",
       "\n",
       "[159 rows x 2 columns]"
      ],
      "text/html": [
       "<div>\n",
       "<style scoped>\n",
       "    .dataframe tbody tr th:only-of-type {\n",
       "        vertical-align: middle;\n",
       "    }\n",
       "\n",
       "    .dataframe tbody tr th {\n",
       "        vertical-align: top;\n",
       "    }\n",
       "\n",
       "    .dataframe thead th {\n",
       "        text-align: right;\n",
       "    }\n",
       "</style>\n",
       "<table border=\"1\" class=\"dataframe\">\n",
       "  <thead>\n",
       "    <tr style=\"text-align: right;\">\n",
       "      <th></th>\n",
       "      <th>notes</th>\n",
       "      <th>count</th>\n",
       "    </tr>\n",
       "  </thead>\n",
       "  <tbody>\n",
       "    <tr>\n",
       "      <th>0</th>\n",
       "      <td>NaN</td>\n",
       "      <td>373</td>\n",
       "    </tr>\n",
       "    <tr>\n",
       "      <th>1</th>\n",
       "      <td>electron_transfer_flavoprotein</td>\n",
       "      <td>2</td>\n",
       "    </tr>\n",
       "    <tr>\n",
       "      <th>2</th>\n",
       "      <td>sphingolipid_delta_4_desaturase</td>\n",
       "      <td>2</td>\n",
       "    </tr>\n",
       "    <tr>\n",
       "      <th>3</th>\n",
       "      <td>Amino_acid_transporter|AAT24.1</td>\n",
       "      <td>2</td>\n",
       "    </tr>\n",
       "    <tr>\n",
       "      <th>4</th>\n",
       "      <td>Exonuclease_-_putative</td>\n",
       "      <td>2</td>\n",
       "    </tr>\n",
       "    <tr>\n",
       "      <th>...</th>\n",
       "      <td>...</td>\n",
       "      <td>...</td>\n",
       "    </tr>\n",
       "    <tr>\n",
       "      <th>154</th>\n",
       "      <td>Haloacid_dehalogenase-like_hydrolase</td>\n",
       "      <td>1</td>\n",
       "    </tr>\n",
       "    <tr>\n",
       "      <th>155</th>\n",
       "      <td>protein-l-isoaspartate_o-methyltransferase_-_p...</td>\n",
       "      <td>1</td>\n",
       "    </tr>\n",
       "    <tr>\n",
       "      <th>156</th>\n",
       "      <td>2′-O-ribose_methyltransferase|MTr1</td>\n",
       "      <td>1</td>\n",
       "    </tr>\n",
       "    <tr>\n",
       "      <th>157</th>\n",
       "      <td>mitochondrial_carrier_protein_-_putative</td>\n",
       "      <td>1</td>\n",
       "    </tr>\n",
       "    <tr>\n",
       "      <th>158</th>\n",
       "      <td>adaptin_complex_1_subunit|beta_adaptin</td>\n",
       "      <td>1</td>\n",
       "    </tr>\n",
       "  </tbody>\n",
       "</table>\n",
       "<p>159 rows × 2 columns</p>\n",
       "</div>"
      ]
     },
     "execution_count": 135,
     "metadata": {},
     "output_type": "execute_result"
    }
   ],
   "execution_count": 135
  },
  {
   "metadata": {},
   "cell_type": "markdown",
   "source": "### Checking: electron transfer flavoprotein"
  },
  {
   "metadata": {
    "ExecuteTime": {
     "end_time": "2024-10-07T20:15:11.703768Z",
     "start_time": "2024-10-07T20:15:11.696379Z"
    }
   },
   "cell_type": "code",
   "source": [
    "filter_data = search_string(neg_filtered, \"electron\")\n",
    "print(\"=\"*50)\n",
    "print(filter_data['notes'].value_counts())\n",
    "filter_data.loc[\n",
    "    filter_data[\"gene\"] == True,\n",
    "    ['neg_name', 'chrom', 'gene_id', 'notes', 'start', 'end']\n",
    "]"
   ],
   "outputs": [
    {
     "name": "stdout",
     "output_type": "stream",
     "text": [
      "The of filtered data: (4, 16)\n",
      "The unique values in column 'neg_name': 2\n",
      "==================================================\n",
      "notes\n",
      "electron_transfer_flavoprotein    4\n",
      "Name: count, dtype: int64\n"
     ]
    },
    {
     "data": {
      "text/plain": [
       "                      neg_name    chrom         gene_id  \\\n",
       "779  rejected_noCDS_c25.2880AL  LinJ.25  LINF_250006300   \n",
       "782  rejected_noCDS_c25.2890AN  LinJ.25  LINF_250006300   \n",
       "\n",
       "                              notes  start    end  \n",
       "779  electron_transfer_flavoprotein  29864  33171  \n",
       "782  electron_transfer_flavoprotein  29864  33171  "
      ],
      "text/html": [
       "<div>\n",
       "<style scoped>\n",
       "    .dataframe tbody tr th:only-of-type {\n",
       "        vertical-align: middle;\n",
       "    }\n",
       "\n",
       "    .dataframe tbody tr th {\n",
       "        vertical-align: top;\n",
       "    }\n",
       "\n",
       "    .dataframe thead th {\n",
       "        text-align: right;\n",
       "    }\n",
       "</style>\n",
       "<table border=\"1\" class=\"dataframe\">\n",
       "  <thead>\n",
       "    <tr style=\"text-align: right;\">\n",
       "      <th></th>\n",
       "      <th>neg_name</th>\n",
       "      <th>chrom</th>\n",
       "      <th>gene_id</th>\n",
       "      <th>notes</th>\n",
       "      <th>start</th>\n",
       "      <th>end</th>\n",
       "    </tr>\n",
       "  </thead>\n",
       "  <tbody>\n",
       "    <tr>\n",
       "      <th>779</th>\n",
       "      <td>rejected_noCDS_c25.2880AL</td>\n",
       "      <td>LinJ.25</td>\n",
       "      <td>LINF_250006300</td>\n",
       "      <td>electron_transfer_flavoprotein</td>\n",
       "      <td>29864</td>\n",
       "      <td>33171</td>\n",
       "    </tr>\n",
       "    <tr>\n",
       "      <th>782</th>\n",
       "      <td>rejected_noCDS_c25.2890AN</td>\n",
       "      <td>LinJ.25</td>\n",
       "      <td>LINF_250006300</td>\n",
       "      <td>electron_transfer_flavoprotein</td>\n",
       "      <td>29864</td>\n",
       "      <td>33171</td>\n",
       "    </tr>\n",
       "  </tbody>\n",
       "</table>\n",
       "</div>"
      ]
     },
     "execution_count": 136,
     "metadata": {},
     "output_type": "execute_result"
    }
   ],
   "execution_count": 136
  },
  {
   "metadata": {
    "ExecuteTime": {
     "end_time": "2024-10-07T20:15:23.819248Z",
     "start_time": "2024-10-07T20:15:23.812821Z"
    }
   },
   "cell_type": "code",
   "source": "check_family(neg_to_filter, \"AL\")",
   "outputs": [
    {
     "data": {
      "text/plain": [
       "                      neg_name    chrom         gene_id  \\\n",
       "770  rejected_noCDS_c25.2860AL  LinJ.25  LINF_250005000   \n",
       "779  rejected_noCDS_c25.2880AL  LinJ.25  LINF_250006300   \n",
       "785  rejected_noCDS_c25.2900AL  LinJ.25  LINF_250007950   \n",
       "\n",
       "                                      notes  start    end  \n",
       "770  beta_galactofuranosyl_transferase|LPG1    799   5363  \n",
       "779          electron_transfer_flavoprotein  29864  33171  \n",
       "785                                     NaN  81625  83195  "
      ],
      "text/html": [
       "<div>\n",
       "<style scoped>\n",
       "    .dataframe tbody tr th:only-of-type {\n",
       "        vertical-align: middle;\n",
       "    }\n",
       "\n",
       "    .dataframe tbody tr th {\n",
       "        vertical-align: top;\n",
       "    }\n",
       "\n",
       "    .dataframe thead th {\n",
       "        text-align: right;\n",
       "    }\n",
       "</style>\n",
       "<table border=\"1\" class=\"dataframe\">\n",
       "  <thead>\n",
       "    <tr style=\"text-align: right;\">\n",
       "      <th></th>\n",
       "      <th>neg_name</th>\n",
       "      <th>chrom</th>\n",
       "      <th>gene_id</th>\n",
       "      <th>notes</th>\n",
       "      <th>start</th>\n",
       "      <th>end</th>\n",
       "    </tr>\n",
       "  </thead>\n",
       "  <tbody>\n",
       "    <tr>\n",
       "      <th>770</th>\n",
       "      <td>rejected_noCDS_c25.2860AL</td>\n",
       "      <td>LinJ.25</td>\n",
       "      <td>LINF_250005000</td>\n",
       "      <td>beta_galactofuranosyl_transferase|LPG1</td>\n",
       "      <td>799</td>\n",
       "      <td>5363</td>\n",
       "    </tr>\n",
       "    <tr>\n",
       "      <th>779</th>\n",
       "      <td>rejected_noCDS_c25.2880AL</td>\n",
       "      <td>LinJ.25</td>\n",
       "      <td>LINF_250006300</td>\n",
       "      <td>electron_transfer_flavoprotein</td>\n",
       "      <td>29864</td>\n",
       "      <td>33171</td>\n",
       "    </tr>\n",
       "    <tr>\n",
       "      <th>785</th>\n",
       "      <td>rejected_noCDS_c25.2900AL</td>\n",
       "      <td>LinJ.25</td>\n",
       "      <td>LINF_250007950</td>\n",
       "      <td>NaN</td>\n",
       "      <td>81625</td>\n",
       "      <td>83195</td>\n",
       "    </tr>\n",
       "  </tbody>\n",
       "</table>\n",
       "</div>"
      ]
     },
     "execution_count": 137,
     "metadata": {},
     "output_type": "execute_result"
    }
   ],
   "execution_count": 137
  },
  {
   "metadata": {
    "ExecuteTime": {
     "end_time": "2024-10-07T20:15:33.910915Z",
     "start_time": "2024-10-07T20:15:33.904493Z"
    }
   },
   "cell_type": "code",
   "source": "check_family(neg_to_filter, \"AN\")",
   "outputs": [
    {
     "data": {
      "text/plain": [
       "                      neg_name    chrom         gene_id  \\\n",
       "782  rejected_noCDS_c25.2890AN  LinJ.25  LINF_250006300   \n",
       "789  rejected_noCDS_c25.2920AN  LinJ.25  LINF_250007950   \n",
       "\n",
       "                              notes  start    end  \n",
       "782  electron_transfer_flavoprotein  29864  33171  \n",
       "789                             NaN  81625  83195  "
      ],
      "text/html": [
       "<div>\n",
       "<style scoped>\n",
       "    .dataframe tbody tr th:only-of-type {\n",
       "        vertical-align: middle;\n",
       "    }\n",
       "\n",
       "    .dataframe tbody tr th {\n",
       "        vertical-align: top;\n",
       "    }\n",
       "\n",
       "    .dataframe thead th {\n",
       "        text-align: right;\n",
       "    }\n",
       "</style>\n",
       "<table border=\"1\" class=\"dataframe\">\n",
       "  <thead>\n",
       "    <tr style=\"text-align: right;\">\n",
       "      <th></th>\n",
       "      <th>neg_name</th>\n",
       "      <th>chrom</th>\n",
       "      <th>gene_id</th>\n",
       "      <th>notes</th>\n",
       "      <th>start</th>\n",
       "      <th>end</th>\n",
       "    </tr>\n",
       "  </thead>\n",
       "  <tbody>\n",
       "    <tr>\n",
       "      <th>782</th>\n",
       "      <td>rejected_noCDS_c25.2890AN</td>\n",
       "      <td>LinJ.25</td>\n",
       "      <td>LINF_250006300</td>\n",
       "      <td>electron_transfer_flavoprotein</td>\n",
       "      <td>29864</td>\n",
       "      <td>33171</td>\n",
       "    </tr>\n",
       "    <tr>\n",
       "      <th>789</th>\n",
       "      <td>rejected_noCDS_c25.2920AN</td>\n",
       "      <td>LinJ.25</td>\n",
       "      <td>LINF_250007950</td>\n",
       "      <td>NaN</td>\n",
       "      <td>81625</td>\n",
       "      <td>83195</td>\n",
       "    </tr>\n",
       "  </tbody>\n",
       "</table>\n",
       "</div>"
      ]
     },
     "execution_count": 138,
     "metadata": {},
     "output_type": "execute_result"
    }
   ],
   "execution_count": 138
  },
  {
   "metadata": {
    "ExecuteTime": {
     "end_time": "2024-10-07T20:21:48.535167Z",
     "start_time": "2024-10-07T20:21:48.532542Z"
    }
   },
   "cell_type": "code",
   "source": [
    "filter_data = neg_filtered[neg_filtered['neg_name'].isin(filter_data['neg_name'])]\n",
    "checking_data(filter_data)"
   ],
   "outputs": [
    {
     "name": "stdout",
     "output_type": "stream",
     "text": [
      "Shape of the data frame is: (6, 16)\n",
      "Number of unique values in column 'neg_name': 2 \n"
     ]
    }
   ],
   "execution_count": 139
  },
  {
   "metadata": {
    "ExecuteTime": {
     "end_time": "2024-10-07T20:21:54.981614Z",
     "start_time": "2024-10-07T20:21:54.978727Z"
    }
   },
   "cell_type": "code",
   "source": [
    "good_negatives = pd.concat([good_negatives, filter_data])\n",
    "checking_data(good_negatives)"
   ],
   "outputs": [
    {
     "name": "stdout",
     "output_type": "stream",
     "text": [
      "Shape of the data frame is: (646, 16)\n",
      "Number of unique values in column 'neg_name': 195 \n"
     ]
    }
   ],
   "execution_count": 140
  },
  {
   "metadata": {
    "ExecuteTime": {
     "end_time": "2024-10-07T20:21:59.705333Z",
     "start_time": "2024-10-07T20:21:59.525440Z"
    }
   },
   "cell_type": "code",
   "source": [
    "neg_filtered = neg_filtered[~neg_filtered['neg_name'].isin(filter_data['neg_name'])]\n",
    "checking_data(neg_filtered)\n",
    "group_and_count(neg_filtered, \"neg_name\")"
   ],
   "outputs": [
    {
     "name": "stdout",
     "output_type": "stream",
     "text": [
      "Shape of the data frame is: (970, 16)\n",
      "Number of unique values in column 'neg_name': 373 \n",
      "{'gene': 373, 'transcript': 373, '5utr': 21, '3utr': 150, 'CDS': 4}\n"
     ]
    },
    {
     "data": {
      "text/plain": [
       "                                                 notes  count\n",
       "0                                                  NaN    371\n",
       "1                      sphingolipid_delta_4_desaturase      2\n",
       "2                       Amino_acid_transporter|AAT24.1      2\n",
       "3                               Exonuclease_-_putative      2\n",
       "4             Rab-GTPase-TBC_domain_containing_protein      2\n",
       "..                                                 ...    ...\n",
       "153               Haloacid_dehalogenase-like_hydrolase      1\n",
       "154  protein-l-isoaspartate_o-methyltransferase_-_p...      1\n",
       "155                 2′-O-ribose_methyltransferase|MTr1      1\n",
       "156           mitochondrial_carrier_protein_-_putative      1\n",
       "157            adaptin_complex_1_subunit|beta_adaptin       1\n",
       "\n",
       "[158 rows x 2 columns]"
      ],
      "text/html": [
       "<div>\n",
       "<style scoped>\n",
       "    .dataframe tbody tr th:only-of-type {\n",
       "        vertical-align: middle;\n",
       "    }\n",
       "\n",
       "    .dataframe tbody tr th {\n",
       "        vertical-align: top;\n",
       "    }\n",
       "\n",
       "    .dataframe thead th {\n",
       "        text-align: right;\n",
       "    }\n",
       "</style>\n",
       "<table border=\"1\" class=\"dataframe\">\n",
       "  <thead>\n",
       "    <tr style=\"text-align: right;\">\n",
       "      <th></th>\n",
       "      <th>notes</th>\n",
       "      <th>count</th>\n",
       "    </tr>\n",
       "  </thead>\n",
       "  <tbody>\n",
       "    <tr>\n",
       "      <th>0</th>\n",
       "      <td>NaN</td>\n",
       "      <td>371</td>\n",
       "    </tr>\n",
       "    <tr>\n",
       "      <th>1</th>\n",
       "      <td>sphingolipid_delta_4_desaturase</td>\n",
       "      <td>2</td>\n",
       "    </tr>\n",
       "    <tr>\n",
       "      <th>2</th>\n",
       "      <td>Amino_acid_transporter|AAT24.1</td>\n",
       "      <td>2</td>\n",
       "    </tr>\n",
       "    <tr>\n",
       "      <th>3</th>\n",
       "      <td>Exonuclease_-_putative</td>\n",
       "      <td>2</td>\n",
       "    </tr>\n",
       "    <tr>\n",
       "      <th>4</th>\n",
       "      <td>Rab-GTPase-TBC_domain_containing_protein</td>\n",
       "      <td>2</td>\n",
       "    </tr>\n",
       "    <tr>\n",
       "      <th>...</th>\n",
       "      <td>...</td>\n",
       "      <td>...</td>\n",
       "    </tr>\n",
       "    <tr>\n",
       "      <th>153</th>\n",
       "      <td>Haloacid_dehalogenase-like_hydrolase</td>\n",
       "      <td>1</td>\n",
       "    </tr>\n",
       "    <tr>\n",
       "      <th>154</th>\n",
       "      <td>protein-l-isoaspartate_o-methyltransferase_-_p...</td>\n",
       "      <td>1</td>\n",
       "    </tr>\n",
       "    <tr>\n",
       "      <th>155</th>\n",
       "      <td>2′-O-ribose_methyltransferase|MTr1</td>\n",
       "      <td>1</td>\n",
       "    </tr>\n",
       "    <tr>\n",
       "      <th>156</th>\n",
       "      <td>mitochondrial_carrier_protein_-_putative</td>\n",
       "      <td>1</td>\n",
       "    </tr>\n",
       "    <tr>\n",
       "      <th>157</th>\n",
       "      <td>adaptin_complex_1_subunit|beta_adaptin</td>\n",
       "      <td>1</td>\n",
       "    </tr>\n",
       "  </tbody>\n",
       "</table>\n",
       "<p>158 rows × 2 columns</p>\n",
       "</div>"
      ]
     },
     "execution_count": 141,
     "metadata": {},
     "output_type": "execute_result"
    }
   ],
   "execution_count": 141
  },
  {
   "metadata": {},
   "cell_type": "markdown",
   "source": "### Checking: sphingolipid delta 4 desaturase"
  },
  {
   "metadata": {
    "ExecuteTime": {
     "end_time": "2024-10-07T20:23:05.865112Z",
     "start_time": "2024-10-07T20:23:05.858065Z"
    }
   },
   "cell_type": "code",
   "source": [
    "filter_data = search_string(neg_filtered, \"sphingolipid_delta\")\n",
    "print(\"=\"*50)\n",
    "print(filter_data['notes'].value_counts())\n",
    "filter_data.loc[\n",
    "    filter_data[\"gene\"] == True,\n",
    "    ['neg_name', 'chrom', 'gene_id', 'notes', 'start', 'end']\n",
    "]"
   ],
   "outputs": [
    {
     "name": "stdout",
     "output_type": "stream",
     "text": [
      "The of filtered data: (4, 16)\n",
      "The unique values in column 'neg_name': 2\n",
      "==================================================\n",
      "notes\n",
      "sphingolipid_delta_4_desaturase    4\n",
      "Name: count, dtype: int64\n"
     ]
    },
    {
     "data": {
      "text/plain": [
       "                      neg_name    chrom         gene_id  \\\n",
       "836  rejected_noCDS_c26.3090AP  LinJ.26  LINF_260022000   \n",
       "839  rejected_noCDS_c26.3100AP  LinJ.26  LINF_260022100   \n",
       "\n",
       "                               notes   start     end  \n",
       "836  sphingolipid_delta_4_desaturase  605032  607263  \n",
       "839  sphingolipid_delta_4_desaturase  607528  609700  "
      ],
      "text/html": [
       "<div>\n",
       "<style scoped>\n",
       "    .dataframe tbody tr th:only-of-type {\n",
       "        vertical-align: middle;\n",
       "    }\n",
       "\n",
       "    .dataframe tbody tr th {\n",
       "        vertical-align: top;\n",
       "    }\n",
       "\n",
       "    .dataframe thead th {\n",
       "        text-align: right;\n",
       "    }\n",
       "</style>\n",
       "<table border=\"1\" class=\"dataframe\">\n",
       "  <thead>\n",
       "    <tr style=\"text-align: right;\">\n",
       "      <th></th>\n",
       "      <th>neg_name</th>\n",
       "      <th>chrom</th>\n",
       "      <th>gene_id</th>\n",
       "      <th>notes</th>\n",
       "      <th>start</th>\n",
       "      <th>end</th>\n",
       "    </tr>\n",
       "  </thead>\n",
       "  <tbody>\n",
       "    <tr>\n",
       "      <th>836</th>\n",
       "      <td>rejected_noCDS_c26.3090AP</td>\n",
       "      <td>LinJ.26</td>\n",
       "      <td>LINF_260022000</td>\n",
       "      <td>sphingolipid_delta_4_desaturase</td>\n",
       "      <td>605032</td>\n",
       "      <td>607263</td>\n",
       "    </tr>\n",
       "    <tr>\n",
       "      <th>839</th>\n",
       "      <td>rejected_noCDS_c26.3100AP</td>\n",
       "      <td>LinJ.26</td>\n",
       "      <td>LINF_260022100</td>\n",
       "      <td>sphingolipid_delta_4_desaturase</td>\n",
       "      <td>607528</td>\n",
       "      <td>609700</td>\n",
       "    </tr>\n",
       "  </tbody>\n",
       "</table>\n",
       "</div>"
      ]
     },
     "execution_count": 143,
     "metadata": {},
     "output_type": "execute_result"
    }
   ],
   "execution_count": 143
  },
  {
   "metadata": {
    "ExecuteTime": {
     "end_time": "2024-10-07T20:23:20.707699Z",
     "start_time": "2024-10-07T20:23:20.701466Z"
    }
   },
   "cell_type": "code",
   "source": "check_family(neg_to_filter, \"AP\")",
   "outputs": [
    {
     "data": {
      "text/plain": [
       "                      neg_name    chrom         gene_id  \\\n",
       "832  rejected_noCDS_c26.3070AP  LinJ.26  LINF_260021850   \n",
       "836  rejected_noCDS_c26.3090AP  LinJ.26  LINF_260022000   \n",
       "839  rejected_noCDS_c26.3100AP  LinJ.26  LINF_260022100   \n",
       "\n",
       "                               notes   start     end  \n",
       "832                              NaN  598501  599917  \n",
       "836  sphingolipid_delta_4_desaturase  605032  607263  \n",
       "839  sphingolipid_delta_4_desaturase  607528  609700  "
      ],
      "text/html": [
       "<div>\n",
       "<style scoped>\n",
       "    .dataframe tbody tr th:only-of-type {\n",
       "        vertical-align: middle;\n",
       "    }\n",
       "\n",
       "    .dataframe tbody tr th {\n",
       "        vertical-align: top;\n",
       "    }\n",
       "\n",
       "    .dataframe thead th {\n",
       "        text-align: right;\n",
       "    }\n",
       "</style>\n",
       "<table border=\"1\" class=\"dataframe\">\n",
       "  <thead>\n",
       "    <tr style=\"text-align: right;\">\n",
       "      <th></th>\n",
       "      <th>neg_name</th>\n",
       "      <th>chrom</th>\n",
       "      <th>gene_id</th>\n",
       "      <th>notes</th>\n",
       "      <th>start</th>\n",
       "      <th>end</th>\n",
       "    </tr>\n",
       "  </thead>\n",
       "  <tbody>\n",
       "    <tr>\n",
       "      <th>832</th>\n",
       "      <td>rejected_noCDS_c26.3070AP</td>\n",
       "      <td>LinJ.26</td>\n",
       "      <td>LINF_260021850</td>\n",
       "      <td>NaN</td>\n",
       "      <td>598501</td>\n",
       "      <td>599917</td>\n",
       "    </tr>\n",
       "    <tr>\n",
       "      <th>836</th>\n",
       "      <td>rejected_noCDS_c26.3090AP</td>\n",
       "      <td>LinJ.26</td>\n",
       "      <td>LINF_260022000</td>\n",
       "      <td>sphingolipid_delta_4_desaturase</td>\n",
       "      <td>605032</td>\n",
       "      <td>607263</td>\n",
       "    </tr>\n",
       "    <tr>\n",
       "      <th>839</th>\n",
       "      <td>rejected_noCDS_c26.3100AP</td>\n",
       "      <td>LinJ.26</td>\n",
       "      <td>LINF_260022100</td>\n",
       "      <td>sphingolipid_delta_4_desaturase</td>\n",
       "      <td>607528</td>\n",
       "      <td>609700</td>\n",
       "    </tr>\n",
       "  </tbody>\n",
       "</table>\n",
       "</div>"
      ]
     },
     "execution_count": 144,
     "metadata": {},
     "output_type": "execute_result"
    }
   ],
   "execution_count": 144
  },
  {
   "metadata": {
    "ExecuteTime": {
     "end_time": "2024-10-07T20:25:45.609240Z",
     "start_time": "2024-10-07T20:25:45.606032Z"
    }
   },
   "cell_type": "code",
   "source": [
    "filter_data = neg_filtered[neg_filtered['neg_name'].isin(filter_data['neg_name'])]\n",
    "checking_data(filter_data)"
   ],
   "outputs": [
    {
     "name": "stdout",
     "output_type": "stream",
     "text": [
      "Shape of the data frame is: (6, 16)\n",
      "Number of unique values in column 'neg_name': 2 \n"
     ]
    }
   ],
   "execution_count": 145
  },
  {
   "metadata": {
    "ExecuteTime": {
     "end_time": "2024-10-07T20:25:51.857027Z",
     "start_time": "2024-10-07T20:25:51.854484Z"
    }
   },
   "cell_type": "code",
   "source": [
    "good_negatives = pd.concat([good_negatives, filter_data])\n",
    "checking_data(good_negatives)"
   ],
   "outputs": [
    {
     "name": "stdout",
     "output_type": "stream",
     "text": [
      "Shape of the data frame is: (652, 16)\n",
      "Number of unique values in column 'neg_name': 197 \n"
     ]
    }
   ],
   "execution_count": 146
  },
  {
   "metadata": {
    "ExecuteTime": {
     "end_time": "2024-10-07T20:25:57.939702Z",
     "start_time": "2024-10-07T20:25:57.784936Z"
    }
   },
   "cell_type": "code",
   "source": [
    "neg_filtered = neg_filtered[~neg_filtered['neg_name'].isin(filter_data['neg_name'])]\n",
    "checking_data(neg_filtered)\n",
    "group_and_count(neg_filtered, \"neg_name\")"
   ],
   "outputs": [
    {
     "name": "stdout",
     "output_type": "stream",
     "text": [
      "Shape of the data frame is: (964, 16)\n",
      "Number of unique values in column 'neg_name': 371 \n",
      "{'gene': 371, 'transcript': 371, '5utr': 19, '3utr': 150, 'CDS': 4}\n"
     ]
    },
    {
     "data": {
      "text/plain": [
       "                                                 notes  count\n",
       "0                                                  NaN    369\n",
       "1                       Amino_acid_transporter|AAT24.1      2\n",
       "2                               Exonuclease_-_putative      2\n",
       "3             Rab-GTPase-TBC_domain_containing_protein      2\n",
       "4                        adenosine_kinase-like_protein      2\n",
       "..                                                 ...    ...\n",
       "152               Haloacid_dehalogenase-like_hydrolase      1\n",
       "153  protein-l-isoaspartate_o-methyltransferase_-_p...      1\n",
       "154                 2′-O-ribose_methyltransferase|MTr1      1\n",
       "155           mitochondrial_carrier_protein_-_putative      1\n",
       "156            adaptin_complex_1_subunit|beta_adaptin       1\n",
       "\n",
       "[157 rows x 2 columns]"
      ],
      "text/html": [
       "<div>\n",
       "<style scoped>\n",
       "    .dataframe tbody tr th:only-of-type {\n",
       "        vertical-align: middle;\n",
       "    }\n",
       "\n",
       "    .dataframe tbody tr th {\n",
       "        vertical-align: top;\n",
       "    }\n",
       "\n",
       "    .dataframe thead th {\n",
       "        text-align: right;\n",
       "    }\n",
       "</style>\n",
       "<table border=\"1\" class=\"dataframe\">\n",
       "  <thead>\n",
       "    <tr style=\"text-align: right;\">\n",
       "      <th></th>\n",
       "      <th>notes</th>\n",
       "      <th>count</th>\n",
       "    </tr>\n",
       "  </thead>\n",
       "  <tbody>\n",
       "    <tr>\n",
       "      <th>0</th>\n",
       "      <td>NaN</td>\n",
       "      <td>369</td>\n",
       "    </tr>\n",
       "    <tr>\n",
       "      <th>1</th>\n",
       "      <td>Amino_acid_transporter|AAT24.1</td>\n",
       "      <td>2</td>\n",
       "    </tr>\n",
       "    <tr>\n",
       "      <th>2</th>\n",
       "      <td>Exonuclease_-_putative</td>\n",
       "      <td>2</td>\n",
       "    </tr>\n",
       "    <tr>\n",
       "      <th>3</th>\n",
       "      <td>Rab-GTPase-TBC_domain_containing_protein</td>\n",
       "      <td>2</td>\n",
       "    </tr>\n",
       "    <tr>\n",
       "      <th>4</th>\n",
       "      <td>adenosine_kinase-like_protein</td>\n",
       "      <td>2</td>\n",
       "    </tr>\n",
       "    <tr>\n",
       "      <th>...</th>\n",
       "      <td>...</td>\n",
       "      <td>...</td>\n",
       "    </tr>\n",
       "    <tr>\n",
       "      <th>152</th>\n",
       "      <td>Haloacid_dehalogenase-like_hydrolase</td>\n",
       "      <td>1</td>\n",
       "    </tr>\n",
       "    <tr>\n",
       "      <th>153</th>\n",
       "      <td>protein-l-isoaspartate_o-methyltransferase_-_p...</td>\n",
       "      <td>1</td>\n",
       "    </tr>\n",
       "    <tr>\n",
       "      <th>154</th>\n",
       "      <td>2′-O-ribose_methyltransferase|MTr1</td>\n",
       "      <td>1</td>\n",
       "    </tr>\n",
       "    <tr>\n",
       "      <th>155</th>\n",
       "      <td>mitochondrial_carrier_protein_-_putative</td>\n",
       "      <td>1</td>\n",
       "    </tr>\n",
       "    <tr>\n",
       "      <th>156</th>\n",
       "      <td>adaptin_complex_1_subunit|beta_adaptin</td>\n",
       "      <td>1</td>\n",
       "    </tr>\n",
       "  </tbody>\n",
       "</table>\n",
       "<p>157 rows × 2 columns</p>\n",
       "</div>"
      ]
     },
     "execution_count": 147,
     "metadata": {},
     "output_type": "execute_result"
    }
   ],
   "execution_count": 147
  },
  {
   "metadata": {},
   "cell_type": "markdown",
   "source": "### Checking: amino acid transporter | AAT24.1"
  },
  {
   "metadata": {
    "ExecuteTime": {
     "end_time": "2024-10-07T20:27:33.891936Z",
     "start_time": "2024-10-07T20:27:33.884868Z"
    }
   },
   "cell_type": "code",
   "source": [
    "filter_data = search_string(neg_filtered, \"AAT24\")\n",
    "print(\"=\"*50)\n",
    "print(filter_data['notes'].value_counts())\n",
    "filter_data.loc[\n",
    "    filter_data[\"gene\"] == True,\n",
    "    ['neg_name', 'chrom', 'gene_id', 'notes', 'start', 'end']\n",
    "]"
   ],
   "outputs": [
    {
     "name": "stdout",
     "output_type": "stream",
     "text": [
      "The of filtered data: (4, 16)\n",
      "The unique values in column 'neg_name': 2\n",
      "==================================================\n",
      "notes\n",
      "Amino_acid_transporter|AAT24.1    4\n",
      "Name: count, dtype: int64\n"
     ]
    },
    {
     "data": {
      "text/plain": [
       "                    neg_name    chrom         gene_id  \\\n",
       "900  rejected_noCDS_c27.3320  LinJ.27  LINF_270022600   \n",
       "902  rejected_noCDS_c27.3330  LinJ.27  LINF_270022600   \n",
       "\n",
       "                              notes   start     end  \n",
       "900  Amino_acid_transporter|AAT24.1  711026  716531  \n",
       "902  Amino_acid_transporter|AAT24.1  711026  716531  "
      ],
      "text/html": [
       "<div>\n",
       "<style scoped>\n",
       "    .dataframe tbody tr th:only-of-type {\n",
       "        vertical-align: middle;\n",
       "    }\n",
       "\n",
       "    .dataframe tbody tr th {\n",
       "        vertical-align: top;\n",
       "    }\n",
       "\n",
       "    .dataframe thead th {\n",
       "        text-align: right;\n",
       "    }\n",
       "</style>\n",
       "<table border=\"1\" class=\"dataframe\">\n",
       "  <thead>\n",
       "    <tr style=\"text-align: right;\">\n",
       "      <th></th>\n",
       "      <th>neg_name</th>\n",
       "      <th>chrom</th>\n",
       "      <th>gene_id</th>\n",
       "      <th>notes</th>\n",
       "      <th>start</th>\n",
       "      <th>end</th>\n",
       "    </tr>\n",
       "  </thead>\n",
       "  <tbody>\n",
       "    <tr>\n",
       "      <th>900</th>\n",
       "      <td>rejected_noCDS_c27.3320</td>\n",
       "      <td>LinJ.27</td>\n",
       "      <td>LINF_270022600</td>\n",
       "      <td>Amino_acid_transporter|AAT24.1</td>\n",
       "      <td>711026</td>\n",
       "      <td>716531</td>\n",
       "    </tr>\n",
       "    <tr>\n",
       "      <th>902</th>\n",
       "      <td>rejected_noCDS_c27.3330</td>\n",
       "      <td>LinJ.27</td>\n",
       "      <td>LINF_270022600</td>\n",
       "      <td>Amino_acid_transporter|AAT24.1</td>\n",
       "      <td>711026</td>\n",
       "      <td>716531</td>\n",
       "    </tr>\n",
       "  </tbody>\n",
       "</table>\n",
       "</div>"
      ]
     },
     "execution_count": 149,
     "metadata": {},
     "output_type": "execute_result"
    }
   ],
   "execution_count": 149
  },
  {
   "metadata": {
    "ExecuteTime": {
     "end_time": "2024-10-07T20:28:52.874162Z",
     "start_time": "2024-10-07T20:28:52.871465Z"
    }
   },
   "cell_type": "code",
   "source": [
    "filter_data = neg_filtered[neg_filtered['neg_name'].isin(filter_data['neg_name'])]\n",
    "checking_data(filter_data)"
   ],
   "outputs": [
    {
     "name": "stdout",
     "output_type": "stream",
     "text": [
      "Shape of the data frame is: (6, 16)\n",
      "Number of unique values in column 'neg_name': 2 \n"
     ]
    }
   ],
   "execution_count": 150
  },
  {
   "metadata": {
    "ExecuteTime": {
     "end_time": "2024-10-07T20:29:10.057158Z",
     "start_time": "2024-10-07T20:29:10.054445Z"
    }
   },
   "cell_type": "code",
   "source": [
    "good_negatives = pd.concat([good_negatives, filter_data])\n",
    "checking_data(good_negatives)"
   ],
   "outputs": [
    {
     "name": "stdout",
     "output_type": "stream",
     "text": [
      "Shape of the data frame is: (658, 16)\n",
      "Number of unique values in column 'neg_name': 199 \n"
     ]
    }
   ],
   "execution_count": 152
  },
  {
   "metadata": {
    "ExecuteTime": {
     "end_time": "2024-10-07T20:29:11.944697Z",
     "start_time": "2024-10-07T20:29:11.765156Z"
    }
   },
   "cell_type": "code",
   "source": [
    "neg_filtered = neg_filtered[~neg_filtered['neg_name'].isin(filter_data['neg_name'])]\n",
    "checking_data(neg_filtered)\n",
    "group_and_count(neg_filtered, \"neg_name\")"
   ],
   "outputs": [
    {
     "name": "stdout",
     "output_type": "stream",
     "text": [
      "Shape of the data frame is: (958, 16)\n",
      "Number of unique values in column 'neg_name': 369 \n",
      "{'gene': 369, 'transcript': 369, '5utr': 19, '3utr': 148, 'CDS': 4}\n"
     ]
    },
    {
     "data": {
      "text/plain": [
       "                                                 notes  count\n",
       "0                                                  NaN    367\n",
       "1                               Exonuclease_-_putative      2\n",
       "2             Rab-GTPase-TBC_domain_containing_protein      2\n",
       "3                        adenosine_kinase-like_protein      2\n",
       "4    RNA_recognition_motif._(a.k.a._RRM_-_RBD_-_or_...      2\n",
       "..                                                 ...    ...\n",
       "151               Haloacid_dehalogenase-like_hydrolase      1\n",
       "152  protein-l-isoaspartate_o-methyltransferase_-_p...      1\n",
       "153                 2′-O-ribose_methyltransferase|MTr1      1\n",
       "154           mitochondrial_carrier_protein_-_putative      1\n",
       "155            adaptin_complex_1_subunit|beta_adaptin       1\n",
       "\n",
       "[156 rows x 2 columns]"
      ],
      "text/html": [
       "<div>\n",
       "<style scoped>\n",
       "    .dataframe tbody tr th:only-of-type {\n",
       "        vertical-align: middle;\n",
       "    }\n",
       "\n",
       "    .dataframe tbody tr th {\n",
       "        vertical-align: top;\n",
       "    }\n",
       "\n",
       "    .dataframe thead th {\n",
       "        text-align: right;\n",
       "    }\n",
       "</style>\n",
       "<table border=\"1\" class=\"dataframe\">\n",
       "  <thead>\n",
       "    <tr style=\"text-align: right;\">\n",
       "      <th></th>\n",
       "      <th>notes</th>\n",
       "      <th>count</th>\n",
       "    </tr>\n",
       "  </thead>\n",
       "  <tbody>\n",
       "    <tr>\n",
       "      <th>0</th>\n",
       "      <td>NaN</td>\n",
       "      <td>367</td>\n",
       "    </tr>\n",
       "    <tr>\n",
       "      <th>1</th>\n",
       "      <td>Exonuclease_-_putative</td>\n",
       "      <td>2</td>\n",
       "    </tr>\n",
       "    <tr>\n",
       "      <th>2</th>\n",
       "      <td>Rab-GTPase-TBC_domain_containing_protein</td>\n",
       "      <td>2</td>\n",
       "    </tr>\n",
       "    <tr>\n",
       "      <th>3</th>\n",
       "      <td>adenosine_kinase-like_protein</td>\n",
       "      <td>2</td>\n",
       "    </tr>\n",
       "    <tr>\n",
       "      <th>4</th>\n",
       "      <td>RNA_recognition_motif._(a.k.a._RRM_-_RBD_-_or_...</td>\n",
       "      <td>2</td>\n",
       "    </tr>\n",
       "    <tr>\n",
       "      <th>...</th>\n",
       "      <td>...</td>\n",
       "      <td>...</td>\n",
       "    </tr>\n",
       "    <tr>\n",
       "      <th>151</th>\n",
       "      <td>Haloacid_dehalogenase-like_hydrolase</td>\n",
       "      <td>1</td>\n",
       "    </tr>\n",
       "    <tr>\n",
       "      <th>152</th>\n",
       "      <td>protein-l-isoaspartate_o-methyltransferase_-_p...</td>\n",
       "      <td>1</td>\n",
       "    </tr>\n",
       "    <tr>\n",
       "      <th>153</th>\n",
       "      <td>2′-O-ribose_methyltransferase|MTr1</td>\n",
       "      <td>1</td>\n",
       "    </tr>\n",
       "    <tr>\n",
       "      <th>154</th>\n",
       "      <td>mitochondrial_carrier_protein_-_putative</td>\n",
       "      <td>1</td>\n",
       "    </tr>\n",
       "    <tr>\n",
       "      <th>155</th>\n",
       "      <td>adaptin_complex_1_subunit|beta_adaptin</td>\n",
       "      <td>1</td>\n",
       "    </tr>\n",
       "  </tbody>\n",
       "</table>\n",
       "<p>156 rows × 2 columns</p>\n",
       "</div>"
      ]
     },
     "execution_count": 153,
     "metadata": {},
     "output_type": "execute_result"
    }
   ],
   "execution_count": 153
  },
  {
   "metadata": {},
   "cell_type": "markdown",
   "source": "### Checking: exonuclease - putative"
  },
  {
   "metadata": {
    "ExecuteTime": {
     "end_time": "2024-10-07T20:31:14.734497Z",
     "start_time": "2024-10-07T20:31:14.727998Z"
    }
   },
   "cell_type": "code",
   "source": [
    "filter_data = search_string(neg_filtered, \"exonuclease_-_\")\n",
    "print(\"=\"*50)\n",
    "print(filter_data['notes'].value_counts())\n",
    "filter_data.loc[\n",
    "    filter_data[\"gene\"] == True,\n",
    "    ['neg_name', 'chrom', 'gene_id', 'notes', 'start', 'end']\n",
    "]"
   ],
   "outputs": [
    {
     "name": "stdout",
     "output_type": "stream",
     "text": [
      "The of filtered data: (4, 16)\n",
      "The unique values in column 'neg_name': 2\n",
      "==================================================\n",
      "notes\n",
      "Exonuclease_-_putative    4\n",
      "Name: count, dtype: int64\n"
     ]
    },
    {
     "data": {
      "text/plain": [
       "                      neg_name    chrom         gene_id  \\\n",
       "939  rejected_noCDS_c29.3460AT  LinJ.29  LINF_290010600   \n",
       "942  rejected_noCDS_c29.3470AU  LinJ.29  LINF_290010600   \n",
       "\n",
       "                      notes   start     end  \n",
       "939  Exonuclease_-_putative  205977  209251  \n",
       "942  Exonuclease_-_putative  205977  209251  "
      ],
      "text/html": [
       "<div>\n",
       "<style scoped>\n",
       "    .dataframe tbody tr th:only-of-type {\n",
       "        vertical-align: middle;\n",
       "    }\n",
       "\n",
       "    .dataframe tbody tr th {\n",
       "        vertical-align: top;\n",
       "    }\n",
       "\n",
       "    .dataframe thead th {\n",
       "        text-align: right;\n",
       "    }\n",
       "</style>\n",
       "<table border=\"1\" class=\"dataframe\">\n",
       "  <thead>\n",
       "    <tr style=\"text-align: right;\">\n",
       "      <th></th>\n",
       "      <th>neg_name</th>\n",
       "      <th>chrom</th>\n",
       "      <th>gene_id</th>\n",
       "      <th>notes</th>\n",
       "      <th>start</th>\n",
       "      <th>end</th>\n",
       "    </tr>\n",
       "  </thead>\n",
       "  <tbody>\n",
       "    <tr>\n",
       "      <th>939</th>\n",
       "      <td>rejected_noCDS_c29.3460AT</td>\n",
       "      <td>LinJ.29</td>\n",
       "      <td>LINF_290010600</td>\n",
       "      <td>Exonuclease_-_putative</td>\n",
       "      <td>205977</td>\n",
       "      <td>209251</td>\n",
       "    </tr>\n",
       "    <tr>\n",
       "      <th>942</th>\n",
       "      <td>rejected_noCDS_c29.3470AU</td>\n",
       "      <td>LinJ.29</td>\n",
       "      <td>LINF_290010600</td>\n",
       "      <td>Exonuclease_-_putative</td>\n",
       "      <td>205977</td>\n",
       "      <td>209251</td>\n",
       "    </tr>\n",
       "  </tbody>\n",
       "</table>\n",
       "</div>"
      ]
     },
     "execution_count": 159,
     "metadata": {},
     "output_type": "execute_result"
    }
   ],
   "execution_count": 159
  },
  {
   "metadata": {
    "ExecuteTime": {
     "end_time": "2024-10-07T20:32:04.477176Z",
     "start_time": "2024-10-07T20:32:04.469319Z"
    }
   },
   "cell_type": "code",
   "source": "check_family(neg_to_filter, \"AT\")",
   "outputs": [
    {
     "data": {
      "text/plain": [
       "                      neg_name    chrom         gene_id  \\\n",
       "939  rejected_noCDS_c29.3460AT  LinJ.29  LINF_290010600   \n",
       "945  rejected_noCDS_c29.3480AT  LinJ.29  LINF_290013800   \n",
       "\n",
       "                                notes   start     end  \n",
       "939            Exonuclease_-_putative  205977  209251  \n",
       "945  hypothetical_protein_-_conserved  315865  322387  "
      ],
      "text/html": [
       "<div>\n",
       "<style scoped>\n",
       "    .dataframe tbody tr th:only-of-type {\n",
       "        vertical-align: middle;\n",
       "    }\n",
       "\n",
       "    .dataframe tbody tr th {\n",
       "        vertical-align: top;\n",
       "    }\n",
       "\n",
       "    .dataframe thead th {\n",
       "        text-align: right;\n",
       "    }\n",
       "</style>\n",
       "<table border=\"1\" class=\"dataframe\">\n",
       "  <thead>\n",
       "    <tr style=\"text-align: right;\">\n",
       "      <th></th>\n",
       "      <th>neg_name</th>\n",
       "      <th>chrom</th>\n",
       "      <th>gene_id</th>\n",
       "      <th>notes</th>\n",
       "      <th>start</th>\n",
       "      <th>end</th>\n",
       "    </tr>\n",
       "  </thead>\n",
       "  <tbody>\n",
       "    <tr>\n",
       "      <th>939</th>\n",
       "      <td>rejected_noCDS_c29.3460AT</td>\n",
       "      <td>LinJ.29</td>\n",
       "      <td>LINF_290010600</td>\n",
       "      <td>Exonuclease_-_putative</td>\n",
       "      <td>205977</td>\n",
       "      <td>209251</td>\n",
       "    </tr>\n",
       "    <tr>\n",
       "      <th>945</th>\n",
       "      <td>rejected_noCDS_c29.3480AT</td>\n",
       "      <td>LinJ.29</td>\n",
       "      <td>LINF_290013800</td>\n",
       "      <td>hypothetical_protein_-_conserved</td>\n",
       "      <td>315865</td>\n",
       "      <td>322387</td>\n",
       "    </tr>\n",
       "  </tbody>\n",
       "</table>\n",
       "</div>"
      ]
     },
     "execution_count": 160,
     "metadata": {},
     "output_type": "execute_result"
    }
   ],
   "execution_count": 160
  },
  {
   "metadata": {
    "ExecuteTime": {
     "end_time": "2024-10-07T20:32:13.190083Z",
     "start_time": "2024-10-07T20:32:13.183113Z"
    }
   },
   "cell_type": "code",
   "source": "check_family(neg_to_filter, \"AU\")",
   "outputs": [
    {
     "data": {
      "text/plain": [
       "                      neg_name    chrom         gene_id  \\\n",
       "942  rejected_noCDS_c29.3470AU  LinJ.29  LINF_290010600   \n",
       "948  rejected_noCDS_c29.3490AU  LinJ.29  LINF_290013800   \n",
       "\n",
       "                                notes   start     end  \n",
       "942            Exonuclease_-_putative  205977  209251  \n",
       "948  hypothetical_protein_-_conserved  315865  322387  "
      ],
      "text/html": [
       "<div>\n",
       "<style scoped>\n",
       "    .dataframe tbody tr th:only-of-type {\n",
       "        vertical-align: middle;\n",
       "    }\n",
       "\n",
       "    .dataframe tbody tr th {\n",
       "        vertical-align: top;\n",
       "    }\n",
       "\n",
       "    .dataframe thead th {\n",
       "        text-align: right;\n",
       "    }\n",
       "</style>\n",
       "<table border=\"1\" class=\"dataframe\">\n",
       "  <thead>\n",
       "    <tr style=\"text-align: right;\">\n",
       "      <th></th>\n",
       "      <th>neg_name</th>\n",
       "      <th>chrom</th>\n",
       "      <th>gene_id</th>\n",
       "      <th>notes</th>\n",
       "      <th>start</th>\n",
       "      <th>end</th>\n",
       "    </tr>\n",
       "  </thead>\n",
       "  <tbody>\n",
       "    <tr>\n",
       "      <th>942</th>\n",
       "      <td>rejected_noCDS_c29.3470AU</td>\n",
       "      <td>LinJ.29</td>\n",
       "      <td>LINF_290010600</td>\n",
       "      <td>Exonuclease_-_putative</td>\n",
       "      <td>205977</td>\n",
       "      <td>209251</td>\n",
       "    </tr>\n",
       "    <tr>\n",
       "      <th>948</th>\n",
       "      <td>rejected_noCDS_c29.3490AU</td>\n",
       "      <td>LinJ.29</td>\n",
       "      <td>LINF_290013800</td>\n",
       "      <td>hypothetical_protein_-_conserved</td>\n",
       "      <td>315865</td>\n",
       "      <td>322387</td>\n",
       "    </tr>\n",
       "  </tbody>\n",
       "</table>\n",
       "</div>"
      ]
     },
     "execution_count": 162,
     "metadata": {},
     "output_type": "execute_result"
    }
   ],
   "execution_count": 162
  },
  {
   "metadata": {
    "ExecuteTime": {
     "end_time": "2024-10-07T20:35:17.333814Z",
     "start_time": "2024-10-07T20:35:17.330929Z"
    }
   },
   "cell_type": "code",
   "source": [
    "filter_data = neg_filtered[neg_filtered['neg_name'].isin(filter_data['neg_name'])]\n",
    "checking_data(filter_data)"
   ],
   "outputs": [
    {
     "name": "stdout",
     "output_type": "stream",
     "text": [
      "Shape of the data frame is: (6, 16)\n",
      "Number of unique values in column 'neg_name': 2 \n"
     ]
    }
   ],
   "execution_count": 163
  },
  {
   "metadata": {
    "ExecuteTime": {
     "end_time": "2024-10-07T20:35:23.926132Z",
     "start_time": "2024-10-07T20:35:23.923393Z"
    }
   },
   "cell_type": "code",
   "source": [
    "good_negatives = pd.concat([good_negatives, filter_data])\n",
    "checking_data(good_negatives)"
   ],
   "outputs": [
    {
     "name": "stdout",
     "output_type": "stream",
     "text": [
      "Shape of the data frame is: (664, 16)\n",
      "Number of unique values in column 'neg_name': 201 \n"
     ]
    }
   ],
   "execution_count": 164
  },
  {
   "metadata": {
    "ExecuteTime": {
     "end_time": "2024-10-07T20:35:29.294464Z",
     "start_time": "2024-10-07T20:35:29.171951Z"
    }
   },
   "cell_type": "code",
   "source": [
    "neg_filtered = neg_filtered[~neg_filtered['neg_name'].isin(filter_data['neg_name'])]\n",
    "checking_data(neg_filtered)\n",
    "group_and_count(neg_filtered, \"neg_name\")"
   ],
   "outputs": [
    {
     "name": "stdout",
     "output_type": "stream",
     "text": [
      "Shape of the data frame is: (952, 16)\n",
      "Number of unique values in column 'neg_name': 367 \n",
      "{'gene': 367, 'transcript': 367, '5utr': 19, '3utr': 146, 'CDS': 4}\n"
     ]
    },
    {
     "data": {
      "text/plain": [
       "                                                 notes  count\n",
       "0                                                  NaN    365\n",
       "1             Rab-GTPase-TBC_domain_containing_protein      2\n",
       "2                        adenosine_kinase-like_protein      2\n",
       "3    RNA_recognition_motif._(a.k.a._RRM_-_RBD_-_or_...      2\n",
       "4                                   tuzin_like_protein      2\n",
       "..                                                 ...    ...\n",
       "150               Haloacid_dehalogenase-like_hydrolase      1\n",
       "151  protein-l-isoaspartate_o-methyltransferase_-_p...      1\n",
       "152                 2′-O-ribose_methyltransferase|MTr1      1\n",
       "153           mitochondrial_carrier_protein_-_putative      1\n",
       "154            adaptin_complex_1_subunit|beta_adaptin       1\n",
       "\n",
       "[155 rows x 2 columns]"
      ],
      "text/html": [
       "<div>\n",
       "<style scoped>\n",
       "    .dataframe tbody tr th:only-of-type {\n",
       "        vertical-align: middle;\n",
       "    }\n",
       "\n",
       "    .dataframe tbody tr th {\n",
       "        vertical-align: top;\n",
       "    }\n",
       "\n",
       "    .dataframe thead th {\n",
       "        text-align: right;\n",
       "    }\n",
       "</style>\n",
       "<table border=\"1\" class=\"dataframe\">\n",
       "  <thead>\n",
       "    <tr style=\"text-align: right;\">\n",
       "      <th></th>\n",
       "      <th>notes</th>\n",
       "      <th>count</th>\n",
       "    </tr>\n",
       "  </thead>\n",
       "  <tbody>\n",
       "    <tr>\n",
       "      <th>0</th>\n",
       "      <td>NaN</td>\n",
       "      <td>365</td>\n",
       "    </tr>\n",
       "    <tr>\n",
       "      <th>1</th>\n",
       "      <td>Rab-GTPase-TBC_domain_containing_protein</td>\n",
       "      <td>2</td>\n",
       "    </tr>\n",
       "    <tr>\n",
       "      <th>2</th>\n",
       "      <td>adenosine_kinase-like_protein</td>\n",
       "      <td>2</td>\n",
       "    </tr>\n",
       "    <tr>\n",
       "      <th>3</th>\n",
       "      <td>RNA_recognition_motif._(a.k.a._RRM_-_RBD_-_or_...</td>\n",
       "      <td>2</td>\n",
       "    </tr>\n",
       "    <tr>\n",
       "      <th>4</th>\n",
       "      <td>tuzin_like_protein</td>\n",
       "      <td>2</td>\n",
       "    </tr>\n",
       "    <tr>\n",
       "      <th>...</th>\n",
       "      <td>...</td>\n",
       "      <td>...</td>\n",
       "    </tr>\n",
       "    <tr>\n",
       "      <th>150</th>\n",
       "      <td>Haloacid_dehalogenase-like_hydrolase</td>\n",
       "      <td>1</td>\n",
       "    </tr>\n",
       "    <tr>\n",
       "      <th>151</th>\n",
       "      <td>protein-l-isoaspartate_o-methyltransferase_-_p...</td>\n",
       "      <td>1</td>\n",
       "    </tr>\n",
       "    <tr>\n",
       "      <th>152</th>\n",
       "      <td>2′-O-ribose_methyltransferase|MTr1</td>\n",
       "      <td>1</td>\n",
       "    </tr>\n",
       "    <tr>\n",
       "      <th>153</th>\n",
       "      <td>mitochondrial_carrier_protein_-_putative</td>\n",
       "      <td>1</td>\n",
       "    </tr>\n",
       "    <tr>\n",
       "      <th>154</th>\n",
       "      <td>adaptin_complex_1_subunit|beta_adaptin</td>\n",
       "      <td>1</td>\n",
       "    </tr>\n",
       "  </tbody>\n",
       "</table>\n",
       "<p>155 rows × 2 columns</p>\n",
       "</div>"
      ]
     },
     "execution_count": 165,
     "metadata": {},
     "output_type": "execute_result"
    }
   ],
   "execution_count": 165
  },
  {
   "metadata": {},
   "cell_type": "markdown",
   "source": "### Checking: rab-GTPase"
  },
  {
   "metadata": {
    "ExecuteTime": {
     "end_time": "2024-10-07T20:35:59.063880Z",
     "start_time": "2024-10-07T20:35:59.056340Z"
    }
   },
   "cell_type": "code",
   "source": [
    "filter_data = search_string(neg_filtered, \"rab\")\n",
    "print(\"=\"*50)\n",
    "print(filter_data['notes'].value_counts())\n",
    "filter_data.loc[\n",
    "    filter_data[\"gene\"] == True,\n",
    "    ['neg_name', 'chrom', 'gene_id', 'notes', 'start', 'end']\n",
    "]"
   ],
   "outputs": [
    {
     "name": "stdout",
     "output_type": "stream",
     "text": [
      "The of filtered data: (4, 16)\n",
      "The unique values in column 'neg_name': 2\n",
      "==================================================\n",
      "notes\n",
      "Rab-GTPase-TBC_domain_containing_protein    4\n",
      "Name: count, dtype: int64\n"
     ]
    },
    {
     "data": {
      "text/plain": [
       "                       neg_name    chrom         gene_id  \\\n",
       "1044  rejected_noCDS_c30.3860BC  LinJ.30  LINF_300008300   \n",
       "1326  rejected_noCDS_c33.4890BC  LinJ.33  LINF_330032500   \n",
       "\n",
       "                                         notes    start      end  \n",
       "1044  Rab-GTPase-TBC_domain_containing_protein   102141   105323  \n",
       "1326  Rab-GTPase-TBC_domain_containing_protein  1005687  1009527  "
      ],
      "text/html": [
       "<div>\n",
       "<style scoped>\n",
       "    .dataframe tbody tr th:only-of-type {\n",
       "        vertical-align: middle;\n",
       "    }\n",
       "\n",
       "    .dataframe tbody tr th {\n",
       "        vertical-align: top;\n",
       "    }\n",
       "\n",
       "    .dataframe thead th {\n",
       "        text-align: right;\n",
       "    }\n",
       "</style>\n",
       "<table border=\"1\" class=\"dataframe\">\n",
       "  <thead>\n",
       "    <tr style=\"text-align: right;\">\n",
       "      <th></th>\n",
       "      <th>neg_name</th>\n",
       "      <th>chrom</th>\n",
       "      <th>gene_id</th>\n",
       "      <th>notes</th>\n",
       "      <th>start</th>\n",
       "      <th>end</th>\n",
       "    </tr>\n",
       "  </thead>\n",
       "  <tbody>\n",
       "    <tr>\n",
       "      <th>1044</th>\n",
       "      <td>rejected_noCDS_c30.3860BC</td>\n",
       "      <td>LinJ.30</td>\n",
       "      <td>LINF_300008300</td>\n",
       "      <td>Rab-GTPase-TBC_domain_containing_protein</td>\n",
       "      <td>102141</td>\n",
       "      <td>105323</td>\n",
       "    </tr>\n",
       "    <tr>\n",
       "      <th>1326</th>\n",
       "      <td>rejected_noCDS_c33.4890BC</td>\n",
       "      <td>LinJ.33</td>\n",
       "      <td>LINF_330032500</td>\n",
       "      <td>Rab-GTPase-TBC_domain_containing_protein</td>\n",
       "      <td>1005687</td>\n",
       "      <td>1009527</td>\n",
       "    </tr>\n",
       "  </tbody>\n",
       "</table>\n",
       "</div>"
      ]
     },
     "execution_count": 166,
     "metadata": {},
     "output_type": "execute_result"
    }
   ],
   "execution_count": 166
  },
  {
   "metadata": {
    "ExecuteTime": {
     "end_time": "2024-10-07T21:38:44.759764Z",
     "start_time": "2024-10-07T21:38:44.753139Z"
    }
   },
   "cell_type": "code",
   "source": "check_family(neg_to_filter, 'BC')",
   "outputs": [
    {
     "data": {
      "text/plain": [
       "                       neg_name    chrom         gene_id  \\\n",
       "1044  rejected_noCDS_c30.3860BC  LinJ.30  LINF_300008300   \n",
       "1047  rejected_noCDS_c30.3860BC  LinJ.30  LINF_300008400   \n",
       "1323  rejected_noCDS_c33.4890BC  LinJ.33  LINF_330032400   \n",
       "1326  rejected_noCDS_c33.4890BC  LinJ.33  LINF_330032500   \n",
       "\n",
       "                                         notes    start      end  \n",
       "1044  Rab-GTPase-TBC_domain_containing_protein   102141   105323  \n",
       "1047                              KU80_protein   105722   109074  \n",
       "1323         Acetate:succinate_CoA_transferase  1002245  1005303  \n",
       "1326  Rab-GTPase-TBC_domain_containing_protein  1005687  1009527  "
      ],
      "text/html": [
       "<div>\n",
       "<style scoped>\n",
       "    .dataframe tbody tr th:only-of-type {\n",
       "        vertical-align: middle;\n",
       "    }\n",
       "\n",
       "    .dataframe tbody tr th {\n",
       "        vertical-align: top;\n",
       "    }\n",
       "\n",
       "    .dataframe thead th {\n",
       "        text-align: right;\n",
       "    }\n",
       "</style>\n",
       "<table border=\"1\" class=\"dataframe\">\n",
       "  <thead>\n",
       "    <tr style=\"text-align: right;\">\n",
       "      <th></th>\n",
       "      <th>neg_name</th>\n",
       "      <th>chrom</th>\n",
       "      <th>gene_id</th>\n",
       "      <th>notes</th>\n",
       "      <th>start</th>\n",
       "      <th>end</th>\n",
       "    </tr>\n",
       "  </thead>\n",
       "  <tbody>\n",
       "    <tr>\n",
       "      <th>1044</th>\n",
       "      <td>rejected_noCDS_c30.3860BC</td>\n",
       "      <td>LinJ.30</td>\n",
       "      <td>LINF_300008300</td>\n",
       "      <td>Rab-GTPase-TBC_domain_containing_protein</td>\n",
       "      <td>102141</td>\n",
       "      <td>105323</td>\n",
       "    </tr>\n",
       "    <tr>\n",
       "      <th>1047</th>\n",
       "      <td>rejected_noCDS_c30.3860BC</td>\n",
       "      <td>LinJ.30</td>\n",
       "      <td>LINF_300008400</td>\n",
       "      <td>KU80_protein</td>\n",
       "      <td>105722</td>\n",
       "      <td>109074</td>\n",
       "    </tr>\n",
       "    <tr>\n",
       "      <th>1323</th>\n",
       "      <td>rejected_noCDS_c33.4890BC</td>\n",
       "      <td>LinJ.33</td>\n",
       "      <td>LINF_330032400</td>\n",
       "      <td>Acetate:succinate_CoA_transferase</td>\n",
       "      <td>1002245</td>\n",
       "      <td>1005303</td>\n",
       "    </tr>\n",
       "    <tr>\n",
       "      <th>1326</th>\n",
       "      <td>rejected_noCDS_c33.4890BC</td>\n",
       "      <td>LinJ.33</td>\n",
       "      <td>LINF_330032500</td>\n",
       "      <td>Rab-GTPase-TBC_domain_containing_protein</td>\n",
       "      <td>1005687</td>\n",
       "      <td>1009527</td>\n",
       "    </tr>\n",
       "  </tbody>\n",
       "</table>\n",
       "</div>"
      ]
     },
     "execution_count": 167,
     "metadata": {},
     "output_type": "execute_result"
    }
   ],
   "execution_count": 167
  },
  {
   "metadata": {
    "ExecuteTime": {
     "end_time": "2024-10-07T21:41:37.078549Z",
     "start_time": "2024-10-07T21:41:37.075865Z"
    }
   },
   "cell_type": "code",
   "source": [
    "filter_data = neg_filtered[neg_filtered['neg_name'].isin(filter_data['neg_name'])]\n",
    "checking_data(filter_data)"
   ],
   "outputs": [
    {
     "name": "stdout",
     "output_type": "stream",
     "text": [
      "Shape of the data frame is: (12, 16)\n",
      "Number of unique values in column 'neg_name': 2 \n"
     ]
    }
   ],
   "execution_count": 168
  },
  {
   "metadata": {
    "ExecuteTime": {
     "end_time": "2024-10-07T21:41:44.422756Z",
     "start_time": "2024-10-07T21:41:44.419863Z"
    }
   },
   "cell_type": "code",
   "source": [
    "good_negatives = pd.concat([good_negatives, filter_data])\n",
    "checking_data(good_negatives)"
   ],
   "outputs": [
    {
     "name": "stdout",
     "output_type": "stream",
     "text": [
      "Shape of the data frame is: (676, 16)\n",
      "Number of unique values in column 'neg_name': 203 \n"
     ]
    }
   ],
   "execution_count": 169
  },
  {
   "metadata": {
    "ExecuteTime": {
     "end_time": "2024-10-07T21:41:50.815222Z",
     "start_time": "2024-10-07T21:41:50.655922Z"
    }
   },
   "cell_type": "code",
   "source": [
    "neg_filtered = neg_filtered[~neg_filtered['neg_name'].isin(filter_data['neg_name'])]\n",
    "checking_data(neg_filtered)\n",
    "group_and_count(neg_filtered, \"neg_name\")"
   ],
   "outputs": [
    {
     "name": "stdout",
     "output_type": "stream",
     "text": [
      "Shape of the data frame is: (940, 16)\n",
      "Number of unique values in column 'neg_name': 365 \n",
      "{'gene': 365, 'transcript': 365, '5utr': 17, '3utr': 144, 'CDS': 4}\n"
     ]
    },
    {
     "data": {
      "text/plain": [
       "                                                 notes  count\n",
       "0                                                  NaN    363\n",
       "1                        adenosine_kinase-like_protein      2\n",
       "2    RNA_recognition_motif._(a.k.a._RRM_-_RBD_-_or_...      2\n",
       "3                                   tuzin_like_protein      2\n",
       "4                         H(+)-exporting_diphosphatase      2\n",
       "..                                                 ...    ...\n",
       "147               Haloacid_dehalogenase-like_hydrolase      1\n",
       "148  protein-l-isoaspartate_o-methyltransferase_-_p...      1\n",
       "149                 2′-O-ribose_methyltransferase|MTr1      1\n",
       "150           mitochondrial_carrier_protein_-_putative      1\n",
       "151            adaptin_complex_1_subunit|beta_adaptin       1\n",
       "\n",
       "[152 rows x 2 columns]"
      ],
      "text/html": [
       "<div>\n",
       "<style scoped>\n",
       "    .dataframe tbody tr th:only-of-type {\n",
       "        vertical-align: middle;\n",
       "    }\n",
       "\n",
       "    .dataframe tbody tr th {\n",
       "        vertical-align: top;\n",
       "    }\n",
       "\n",
       "    .dataframe thead th {\n",
       "        text-align: right;\n",
       "    }\n",
       "</style>\n",
       "<table border=\"1\" class=\"dataframe\">\n",
       "  <thead>\n",
       "    <tr style=\"text-align: right;\">\n",
       "      <th></th>\n",
       "      <th>notes</th>\n",
       "      <th>count</th>\n",
       "    </tr>\n",
       "  </thead>\n",
       "  <tbody>\n",
       "    <tr>\n",
       "      <th>0</th>\n",
       "      <td>NaN</td>\n",
       "      <td>363</td>\n",
       "    </tr>\n",
       "    <tr>\n",
       "      <th>1</th>\n",
       "      <td>adenosine_kinase-like_protein</td>\n",
       "      <td>2</td>\n",
       "    </tr>\n",
       "    <tr>\n",
       "      <th>2</th>\n",
       "      <td>RNA_recognition_motif._(a.k.a._RRM_-_RBD_-_or_...</td>\n",
       "      <td>2</td>\n",
       "    </tr>\n",
       "    <tr>\n",
       "      <th>3</th>\n",
       "      <td>tuzin_like_protein</td>\n",
       "      <td>2</td>\n",
       "    </tr>\n",
       "    <tr>\n",
       "      <th>4</th>\n",
       "      <td>H(+)-exporting_diphosphatase</td>\n",
       "      <td>2</td>\n",
       "    </tr>\n",
       "    <tr>\n",
       "      <th>...</th>\n",
       "      <td>...</td>\n",
       "      <td>...</td>\n",
       "    </tr>\n",
       "    <tr>\n",
       "      <th>147</th>\n",
       "      <td>Haloacid_dehalogenase-like_hydrolase</td>\n",
       "      <td>1</td>\n",
       "    </tr>\n",
       "    <tr>\n",
       "      <th>148</th>\n",
       "      <td>protein-l-isoaspartate_o-methyltransferase_-_p...</td>\n",
       "      <td>1</td>\n",
       "    </tr>\n",
       "    <tr>\n",
       "      <th>149</th>\n",
       "      <td>2′-O-ribose_methyltransferase|MTr1</td>\n",
       "      <td>1</td>\n",
       "    </tr>\n",
       "    <tr>\n",
       "      <th>150</th>\n",
       "      <td>mitochondrial_carrier_protein_-_putative</td>\n",
       "      <td>1</td>\n",
       "    </tr>\n",
       "    <tr>\n",
       "      <th>151</th>\n",
       "      <td>adaptin_complex_1_subunit|beta_adaptin</td>\n",
       "      <td>1</td>\n",
       "    </tr>\n",
       "  </tbody>\n",
       "</table>\n",
       "<p>152 rows × 2 columns</p>\n",
       "</div>"
      ]
     },
     "execution_count": 170,
     "metadata": {},
     "output_type": "execute_result"
    }
   ],
   "execution_count": 170
  },
  {
   "metadata": {},
   "cell_type": "markdown",
   "source": "### Checking: adenosine kinase - like protein"
  },
  {
   "metadata": {
    "ExecuteTime": {
     "end_time": "2024-10-07T21:42:27.218824Z",
     "start_time": "2024-10-07T21:42:27.212426Z"
    }
   },
   "cell_type": "code",
   "source": [
    "filter_data = search_string(neg_filtered, \"adenosine_kinase\")\n",
    "print(\"=\"*50)\n",
    "print(filter_data['notes'].value_counts())\n",
    "filter_data.loc[\n",
    "    filter_data[\"gene\"] == True,\n",
    "    ['neg_name', 'chrom', 'gene_id', 'notes', 'start', 'end']\n",
    "]"
   ],
   "outputs": [
    {
     "name": "stdout",
     "output_type": "stream",
     "text": [
      "The of filtered data: (4, 16)\n",
      "The unique values in column 'neg_name': 2\n",
      "==================================================\n",
      "notes\n",
      "adenosine_kinase-like_protein    4\n",
      "Name: count, dtype: int64\n"
     ]
    },
    {
     "data": {
      "text/plain": [
       "                       neg_name    chrom         gene_id  \\\n",
       "1053    rejected_noCDS_c30.3880  LinJ.30  LINF_300014500   \n",
       "1055  rejected_noCDS_c30.3890BD  LinJ.30  LINF_300014500   \n",
       "\n",
       "                              notes   start     end  \n",
       "1053  adenosine_kinase-like_protein  285194  289972  \n",
       "1055  adenosine_kinase-like_protein  285194  289972  "
      ],
      "text/html": [
       "<div>\n",
       "<style scoped>\n",
       "    .dataframe tbody tr th:only-of-type {\n",
       "        vertical-align: middle;\n",
       "    }\n",
       "\n",
       "    .dataframe tbody tr th {\n",
       "        vertical-align: top;\n",
       "    }\n",
       "\n",
       "    .dataframe thead th {\n",
       "        text-align: right;\n",
       "    }\n",
       "</style>\n",
       "<table border=\"1\" class=\"dataframe\">\n",
       "  <thead>\n",
       "    <tr style=\"text-align: right;\">\n",
       "      <th></th>\n",
       "      <th>neg_name</th>\n",
       "      <th>chrom</th>\n",
       "      <th>gene_id</th>\n",
       "      <th>notes</th>\n",
       "      <th>start</th>\n",
       "      <th>end</th>\n",
       "    </tr>\n",
       "  </thead>\n",
       "  <tbody>\n",
       "    <tr>\n",
       "      <th>1053</th>\n",
       "      <td>rejected_noCDS_c30.3880</td>\n",
       "      <td>LinJ.30</td>\n",
       "      <td>LINF_300014500</td>\n",
       "      <td>adenosine_kinase-like_protein</td>\n",
       "      <td>285194</td>\n",
       "      <td>289972</td>\n",
       "    </tr>\n",
       "    <tr>\n",
       "      <th>1055</th>\n",
       "      <td>rejected_noCDS_c30.3890BD</td>\n",
       "      <td>LinJ.30</td>\n",
       "      <td>LINF_300014500</td>\n",
       "      <td>adenosine_kinase-like_protein</td>\n",
       "      <td>285194</td>\n",
       "      <td>289972</td>\n",
       "    </tr>\n",
       "  </tbody>\n",
       "</table>\n",
       "</div>"
      ]
     },
     "execution_count": 172,
     "metadata": {},
     "output_type": "execute_result"
    }
   ],
   "execution_count": 172
  },
  {
   "metadata": {
    "ExecuteTime": {
     "end_time": "2024-10-07T21:42:41.981631Z",
     "start_time": "2024-10-07T21:42:41.975114Z"
    }
   },
   "cell_type": "code",
   "source": "check_family(neg_to_filter, \"BD\")",
   "outputs": [
    {
     "data": {
      "text/plain": [
       "                       neg_name    chrom         gene_id  \\\n",
       "1055  rejected_noCDS_c30.3890BD  LinJ.30  LINF_300014500   \n",
       "1059  rejected_noCDS_c30.3900BD  LinJ.30  LINF_300015100   \n",
       "\n",
       "                                                  notes   start     end  \n",
       "1055                      adenosine_kinase-like_protein  285194  289972  \n",
       "1059  Histone-binding_protein_RBBP4_or_subunit_C_of_...  313068  318963  "
      ],
      "text/html": [
       "<div>\n",
       "<style scoped>\n",
       "    .dataframe tbody tr th:only-of-type {\n",
       "        vertical-align: middle;\n",
       "    }\n",
       "\n",
       "    .dataframe tbody tr th {\n",
       "        vertical-align: top;\n",
       "    }\n",
       "\n",
       "    .dataframe thead th {\n",
       "        text-align: right;\n",
       "    }\n",
       "</style>\n",
       "<table border=\"1\" class=\"dataframe\">\n",
       "  <thead>\n",
       "    <tr style=\"text-align: right;\">\n",
       "      <th></th>\n",
       "      <th>neg_name</th>\n",
       "      <th>chrom</th>\n",
       "      <th>gene_id</th>\n",
       "      <th>notes</th>\n",
       "      <th>start</th>\n",
       "      <th>end</th>\n",
       "    </tr>\n",
       "  </thead>\n",
       "  <tbody>\n",
       "    <tr>\n",
       "      <th>1055</th>\n",
       "      <td>rejected_noCDS_c30.3890BD</td>\n",
       "      <td>LinJ.30</td>\n",
       "      <td>LINF_300014500</td>\n",
       "      <td>adenosine_kinase-like_protein</td>\n",
       "      <td>285194</td>\n",
       "      <td>289972</td>\n",
       "    </tr>\n",
       "    <tr>\n",
       "      <th>1059</th>\n",
       "      <td>rejected_noCDS_c30.3900BD</td>\n",
       "      <td>LinJ.30</td>\n",
       "      <td>LINF_300015100</td>\n",
       "      <td>Histone-binding_protein_RBBP4_or_subunit_C_of_...</td>\n",
       "      <td>313068</td>\n",
       "      <td>318963</td>\n",
       "    </tr>\n",
       "  </tbody>\n",
       "</table>\n",
       "</div>"
      ]
     },
     "execution_count": 173,
     "metadata": {},
     "output_type": "execute_result"
    }
   ],
   "execution_count": 173
  },
  {
   "metadata": {
    "ExecuteTime": {
     "end_time": "2024-10-07T21:44:26.768994Z",
     "start_time": "2024-10-07T21:44:26.766187Z"
    }
   },
   "cell_type": "code",
   "source": [
    "filter_data = neg_filtered[neg_filtered['neg_name'].isin(filter_data['neg_name'])]\n",
    "checking_data(filter_data)"
   ],
   "outputs": [
    {
     "name": "stdout",
     "output_type": "stream",
     "text": [
      "Shape of the data frame is: (6, 16)\n",
      "Number of unique values in column 'neg_name': 2 \n"
     ]
    }
   ],
   "execution_count": 174
  },
  {
   "metadata": {
    "ExecuteTime": {
     "end_time": "2024-10-07T21:44:32.395300Z",
     "start_time": "2024-10-07T21:44:32.392217Z"
    }
   },
   "cell_type": "code",
   "source": [
    "good_negatives = pd.concat([good_negatives, filter_data])\n",
    "checking_data(good_negatives)"
   ],
   "outputs": [
    {
     "name": "stdout",
     "output_type": "stream",
     "text": [
      "Shape of the data frame is: (682, 16)\n",
      "Number of unique values in column 'neg_name': 205 \n"
     ]
    }
   ],
   "execution_count": 175
  },
  {
   "metadata": {
    "ExecuteTime": {
     "end_time": "2024-10-07T21:44:38.738184Z",
     "start_time": "2024-10-07T21:44:38.575160Z"
    }
   },
   "cell_type": "code",
   "source": [
    "neg_filtered = neg_filtered[~neg_filtered['neg_name'].isin(filter_data['neg_name'])]\n",
    "checking_data(neg_filtered)\n",
    "group_and_count(neg_filtered, \"neg_name\")"
   ],
   "outputs": [
    {
     "name": "stdout",
     "output_type": "stream",
     "text": [
      "Shape of the data frame is: (934, 16)\n",
      "Number of unique values in column 'neg_name': 363 \n",
      "{'gene': 363, 'transcript': 363, '5utr': 17, '3utr': 142, 'CDS': 4}\n"
     ]
    },
    {
     "data": {
      "text/plain": [
       "                                                 notes  count\n",
       "0                                                  NaN    361\n",
       "1    RNA_recognition_motif._(a.k.a._RRM_-_RBD_-_or_...      2\n",
       "2                                   tuzin_like_protein      2\n",
       "3                         H(+)-exporting_diphosphatase      2\n",
       "4            peptidase_m20/m25/m40_family-like_protein      2\n",
       "..                                                 ...    ...\n",
       "146               Haloacid_dehalogenase-like_hydrolase      1\n",
       "147  protein-l-isoaspartate_o-methyltransferase_-_p...      1\n",
       "148                 2′-O-ribose_methyltransferase|MTr1      1\n",
       "149           mitochondrial_carrier_protein_-_putative      1\n",
       "150            adaptin_complex_1_subunit|beta_adaptin       1\n",
       "\n",
       "[151 rows x 2 columns]"
      ],
      "text/html": [
       "<div>\n",
       "<style scoped>\n",
       "    .dataframe tbody tr th:only-of-type {\n",
       "        vertical-align: middle;\n",
       "    }\n",
       "\n",
       "    .dataframe tbody tr th {\n",
       "        vertical-align: top;\n",
       "    }\n",
       "\n",
       "    .dataframe thead th {\n",
       "        text-align: right;\n",
       "    }\n",
       "</style>\n",
       "<table border=\"1\" class=\"dataframe\">\n",
       "  <thead>\n",
       "    <tr style=\"text-align: right;\">\n",
       "      <th></th>\n",
       "      <th>notes</th>\n",
       "      <th>count</th>\n",
       "    </tr>\n",
       "  </thead>\n",
       "  <tbody>\n",
       "    <tr>\n",
       "      <th>0</th>\n",
       "      <td>NaN</td>\n",
       "      <td>361</td>\n",
       "    </tr>\n",
       "    <tr>\n",
       "      <th>1</th>\n",
       "      <td>RNA_recognition_motif._(a.k.a._RRM_-_RBD_-_or_...</td>\n",
       "      <td>2</td>\n",
       "    </tr>\n",
       "    <tr>\n",
       "      <th>2</th>\n",
       "      <td>tuzin_like_protein</td>\n",
       "      <td>2</td>\n",
       "    </tr>\n",
       "    <tr>\n",
       "      <th>3</th>\n",
       "      <td>H(+)-exporting_diphosphatase</td>\n",
       "      <td>2</td>\n",
       "    </tr>\n",
       "    <tr>\n",
       "      <th>4</th>\n",
       "      <td>peptidase_m20/m25/m40_family-like_protein</td>\n",
       "      <td>2</td>\n",
       "    </tr>\n",
       "    <tr>\n",
       "      <th>...</th>\n",
       "      <td>...</td>\n",
       "      <td>...</td>\n",
       "    </tr>\n",
       "    <tr>\n",
       "      <th>146</th>\n",
       "      <td>Haloacid_dehalogenase-like_hydrolase</td>\n",
       "      <td>1</td>\n",
       "    </tr>\n",
       "    <tr>\n",
       "      <th>147</th>\n",
       "      <td>protein-l-isoaspartate_o-methyltransferase_-_p...</td>\n",
       "      <td>1</td>\n",
       "    </tr>\n",
       "    <tr>\n",
       "      <th>148</th>\n",
       "      <td>2′-O-ribose_methyltransferase|MTr1</td>\n",
       "      <td>1</td>\n",
       "    </tr>\n",
       "    <tr>\n",
       "      <th>149</th>\n",
       "      <td>mitochondrial_carrier_protein_-_putative</td>\n",
       "      <td>1</td>\n",
       "    </tr>\n",
       "    <tr>\n",
       "      <th>150</th>\n",
       "      <td>adaptin_complex_1_subunit|beta_adaptin</td>\n",
       "      <td>1</td>\n",
       "    </tr>\n",
       "  </tbody>\n",
       "</table>\n",
       "<p>151 rows × 2 columns</p>\n",
       "</div>"
      ]
     },
     "execution_count": 176,
     "metadata": {},
     "output_type": "execute_result"
    }
   ],
   "execution_count": 176
  },
  {
   "metadata": {},
   "cell_type": "markdown",
   "source": "### Checking: RNA recognition motif"
  },
  {
   "metadata": {
    "ExecuteTime": {
     "end_time": "2024-10-07T21:45:11.914080Z",
     "start_time": "2024-10-07T21:45:11.907417Z"
    }
   },
   "cell_type": "code",
   "source": [
    "filter_data = search_string(neg_filtered, \"motif\")\n",
    "print(\"=\"*50)\n",
    "print(filter_data['notes'].value_counts())\n",
    "filter_data.loc[\n",
    "    filter_data[\"gene\"] == True,\n",
    "    ['neg_name', 'chrom', 'gene_id', 'notes', 'start', 'end']\n",
    "]"
   ],
   "outputs": [
    {
     "name": "stdout",
     "output_type": "stream",
     "text": [
      "The of filtered data: (4, 16)\n",
      "The unique values in column 'neg_name': 2\n",
      "==================================================\n",
      "notes\n",
      "RNA_recognition_motif._(a.k.a._RRM_-_RBD_-_or_RNP_domain)/RNA_recognition_motif_(a.k.a._RRM_-_RBD_-_or_RNP_domain)_-_putative    4\n",
      "Name: count, dtype: int64\n"
     ]
    },
    {
     "data": {
      "text/plain": [
       "                     neg_name    chrom         gene_id  \\\n",
       "1082  rejected_noCDS_c30.3990  LinJ.30  LINF_300027200   \n",
       "1318  rejected_noCDS_c33.4860  LinJ.33  LINF_330022800   \n",
       "\n",
       "                                                  notes   start     end  \n",
       "1082  RNA_recognition_motif._(a.k.a._RRM_-_RBD_-_or_...  776492  786702  \n",
       "1318  RNA_recognition_motif._(a.k.a._RRM_-_RBD_-_or_...  609978  620397  "
      ],
      "text/html": [
       "<div>\n",
       "<style scoped>\n",
       "    .dataframe tbody tr th:only-of-type {\n",
       "        vertical-align: middle;\n",
       "    }\n",
       "\n",
       "    .dataframe tbody tr th {\n",
       "        vertical-align: top;\n",
       "    }\n",
       "\n",
       "    .dataframe thead th {\n",
       "        text-align: right;\n",
       "    }\n",
       "</style>\n",
       "<table border=\"1\" class=\"dataframe\">\n",
       "  <thead>\n",
       "    <tr style=\"text-align: right;\">\n",
       "      <th></th>\n",
       "      <th>neg_name</th>\n",
       "      <th>chrom</th>\n",
       "      <th>gene_id</th>\n",
       "      <th>notes</th>\n",
       "      <th>start</th>\n",
       "      <th>end</th>\n",
       "    </tr>\n",
       "  </thead>\n",
       "  <tbody>\n",
       "    <tr>\n",
       "      <th>1082</th>\n",
       "      <td>rejected_noCDS_c30.3990</td>\n",
       "      <td>LinJ.30</td>\n",
       "      <td>LINF_300027200</td>\n",
       "      <td>RNA_recognition_motif._(a.k.a._RRM_-_RBD_-_or_...</td>\n",
       "      <td>776492</td>\n",
       "      <td>786702</td>\n",
       "    </tr>\n",
       "    <tr>\n",
       "      <th>1318</th>\n",
       "      <td>rejected_noCDS_c33.4860</td>\n",
       "      <td>LinJ.33</td>\n",
       "      <td>LINF_330022800</td>\n",
       "      <td>RNA_recognition_motif._(a.k.a._RRM_-_RBD_-_or_...</td>\n",
       "      <td>609978</td>\n",
       "      <td>620397</td>\n",
       "    </tr>\n",
       "  </tbody>\n",
       "</table>\n",
       "</div>"
      ]
     },
     "execution_count": 177,
     "metadata": {},
     "output_type": "execute_result"
    }
   ],
   "execution_count": 177
  },
  {
   "metadata": {
    "ExecuteTime": {
     "end_time": "2024-10-07T21:47:33.786437Z",
     "start_time": "2024-10-07T21:47:33.783663Z"
    }
   },
   "cell_type": "code",
   "source": [
    "filter_data = neg_filtered[neg_filtered['neg_name'].isin(filter_data['neg_name'])]\n",
    "checking_data(filter_data)"
   ],
   "outputs": [
    {
     "name": "stdout",
     "output_type": "stream",
     "text": [
      "Shape of the data frame is: (6, 16)\n",
      "Number of unique values in column 'neg_name': 2 \n"
     ]
    }
   ],
   "execution_count": 178
  },
  {
   "metadata": {
    "ExecuteTime": {
     "end_time": "2024-10-07T21:47:52.751528Z",
     "start_time": "2024-10-07T21:47:52.748732Z"
    }
   },
   "cell_type": "code",
   "source": [
    "good_negatives = pd.concat([good_negatives, filter_data])\n",
    "checking_data(good_negatives)"
   ],
   "outputs": [
    {
     "name": "stdout",
     "output_type": "stream",
     "text": [
      "Shape of the data frame is: (688, 16)\n",
      "Number of unique values in column 'neg_name': 207 \n"
     ]
    }
   ],
   "execution_count": 179
  },
  {
   "metadata": {
    "ExecuteTime": {
     "end_time": "2024-10-07T21:47:58.321559Z",
     "start_time": "2024-10-07T21:47:58.175230Z"
    }
   },
   "cell_type": "code",
   "source": [
    "neg_filtered = neg_filtered[~neg_filtered['neg_name'].isin(filter_data['neg_name'])]\n",
    "checking_data(neg_filtered)\n",
    "group_and_count(neg_filtered, \"neg_name\")"
   ],
   "outputs": [
    {
     "name": "stdout",
     "output_type": "stream",
     "text": [
      "Shape of the data frame is: (928, 16)\n",
      "Number of unique values in column 'neg_name': 361 \n",
      "{'gene': 361, 'transcript': 361, '5utr': 17, '3utr': 140, 'CDS': 4}\n"
     ]
    },
    {
     "data": {
      "text/plain": [
       "                                                 notes  count\n",
       "0                                                  NaN    359\n",
       "1                                   tuzin_like_protein      2\n",
       "2                         H(+)-exporting_diphosphatase      2\n",
       "3            peptidase_m20/m25/m40_family-like_protein      2\n",
       "4                             p-nitrophenylphosphatase      2\n",
       "..                                                 ...    ...\n",
       "145               Haloacid_dehalogenase-like_hydrolase      1\n",
       "146  protein-l-isoaspartate_o-methyltransferase_-_p...      1\n",
       "147                 2′-O-ribose_methyltransferase|MTr1      1\n",
       "148           mitochondrial_carrier_protein_-_putative      1\n",
       "149            adaptin_complex_1_subunit|beta_adaptin       1\n",
       "\n",
       "[150 rows x 2 columns]"
      ],
      "text/html": [
       "<div>\n",
       "<style scoped>\n",
       "    .dataframe tbody tr th:only-of-type {\n",
       "        vertical-align: middle;\n",
       "    }\n",
       "\n",
       "    .dataframe tbody tr th {\n",
       "        vertical-align: top;\n",
       "    }\n",
       "\n",
       "    .dataframe thead th {\n",
       "        text-align: right;\n",
       "    }\n",
       "</style>\n",
       "<table border=\"1\" class=\"dataframe\">\n",
       "  <thead>\n",
       "    <tr style=\"text-align: right;\">\n",
       "      <th></th>\n",
       "      <th>notes</th>\n",
       "      <th>count</th>\n",
       "    </tr>\n",
       "  </thead>\n",
       "  <tbody>\n",
       "    <tr>\n",
       "      <th>0</th>\n",
       "      <td>NaN</td>\n",
       "      <td>359</td>\n",
       "    </tr>\n",
       "    <tr>\n",
       "      <th>1</th>\n",
       "      <td>tuzin_like_protein</td>\n",
       "      <td>2</td>\n",
       "    </tr>\n",
       "    <tr>\n",
       "      <th>2</th>\n",
       "      <td>H(+)-exporting_diphosphatase</td>\n",
       "      <td>2</td>\n",
       "    </tr>\n",
       "    <tr>\n",
       "      <th>3</th>\n",
       "      <td>peptidase_m20/m25/m40_family-like_protein</td>\n",
       "      <td>2</td>\n",
       "    </tr>\n",
       "    <tr>\n",
       "      <th>4</th>\n",
       "      <td>p-nitrophenylphosphatase</td>\n",
       "      <td>2</td>\n",
       "    </tr>\n",
       "    <tr>\n",
       "      <th>...</th>\n",
       "      <td>...</td>\n",
       "      <td>...</td>\n",
       "    </tr>\n",
       "    <tr>\n",
       "      <th>145</th>\n",
       "      <td>Haloacid_dehalogenase-like_hydrolase</td>\n",
       "      <td>1</td>\n",
       "    </tr>\n",
       "    <tr>\n",
       "      <th>146</th>\n",
       "      <td>protein-l-isoaspartate_o-methyltransferase_-_p...</td>\n",
       "      <td>1</td>\n",
       "    </tr>\n",
       "    <tr>\n",
       "      <th>147</th>\n",
       "      <td>2′-O-ribose_methyltransferase|MTr1</td>\n",
       "      <td>1</td>\n",
       "    </tr>\n",
       "    <tr>\n",
       "      <th>148</th>\n",
       "      <td>mitochondrial_carrier_protein_-_putative</td>\n",
       "      <td>1</td>\n",
       "    </tr>\n",
       "    <tr>\n",
       "      <th>149</th>\n",
       "      <td>adaptin_complex_1_subunit|beta_adaptin</td>\n",
       "      <td>1</td>\n",
       "    </tr>\n",
       "  </tbody>\n",
       "</table>\n",
       "<p>150 rows × 2 columns</p>\n",
       "</div>"
      ]
     },
     "execution_count": 180,
     "metadata": {},
     "output_type": "execute_result"
    }
   ],
   "execution_count": 180
  },
  {
   "metadata": {},
   "cell_type": "markdown",
   "source": "### Checking: tuzin like protein"
  },
  {
   "metadata": {
    "ExecuteTime": {
     "end_time": "2024-10-07T21:49:04.472435Z",
     "start_time": "2024-10-07T21:49:04.465616Z"
    }
   },
   "cell_type": "code",
   "source": [
    "filter_data = search_string(neg_filtered, \"tuzin_like\")\n",
    "print(\"=\"*50)\n",
    "print(filter_data['notes'].value_counts())\n",
    "filter_data.loc[\n",
    "    filter_data[\"gene\"] == True,\n",
    "    ['neg_name', 'chrom', 'gene_id', 'notes', 'start', 'end']\n",
    "]"
   ],
   "outputs": [
    {
     "name": "stdout",
     "output_type": "stream",
     "text": [
      "The of filtered data: (4, 16)\n",
      "The unique values in column 'neg_name': 2\n",
      "==================================================\n",
      "notes\n",
      "tuzin_like_protein    4\n",
      "Name: count, dtype: int64\n"
     ]
    },
    {
     "data": {
      "text/plain": [
       "                     neg_name    chrom         gene_id               notes  \\\n",
       "1124  rejected_noCDS_c31.4150  LinJ.31  LINF_310009850  tuzin_like_protein   \n",
       "1126  rejected_noCDS_c31.4140  LinJ.31  LINF_310009850  tuzin_like_protein   \n",
       "\n",
       "       start     end  \n",
       "1124  153423  156946  \n",
       "1126  153423  156946  "
      ],
      "text/html": [
       "<div>\n",
       "<style scoped>\n",
       "    .dataframe tbody tr th:only-of-type {\n",
       "        vertical-align: middle;\n",
       "    }\n",
       "\n",
       "    .dataframe tbody tr th {\n",
       "        vertical-align: top;\n",
       "    }\n",
       "\n",
       "    .dataframe thead th {\n",
       "        text-align: right;\n",
       "    }\n",
       "</style>\n",
       "<table border=\"1\" class=\"dataframe\">\n",
       "  <thead>\n",
       "    <tr style=\"text-align: right;\">\n",
       "      <th></th>\n",
       "      <th>neg_name</th>\n",
       "      <th>chrom</th>\n",
       "      <th>gene_id</th>\n",
       "      <th>notes</th>\n",
       "      <th>start</th>\n",
       "      <th>end</th>\n",
       "    </tr>\n",
       "  </thead>\n",
       "  <tbody>\n",
       "    <tr>\n",
       "      <th>1124</th>\n",
       "      <td>rejected_noCDS_c31.4150</td>\n",
       "      <td>LinJ.31</td>\n",
       "      <td>LINF_310009850</td>\n",
       "      <td>tuzin_like_protein</td>\n",
       "      <td>153423</td>\n",
       "      <td>156946</td>\n",
       "    </tr>\n",
       "    <tr>\n",
       "      <th>1126</th>\n",
       "      <td>rejected_noCDS_c31.4140</td>\n",
       "      <td>LinJ.31</td>\n",
       "      <td>LINF_310009850</td>\n",
       "      <td>tuzin_like_protein</td>\n",
       "      <td>153423</td>\n",
       "      <td>156946</td>\n",
       "    </tr>\n",
       "  </tbody>\n",
       "</table>\n",
       "</div>"
      ]
     },
     "execution_count": 182,
     "metadata": {},
     "output_type": "execute_result"
    }
   ],
   "execution_count": 182
  },
  {
   "metadata": {
    "ExecuteTime": {
     "end_time": "2024-10-07T21:49:21.826647Z",
     "start_time": "2024-10-07T21:49:21.823961Z"
    }
   },
   "cell_type": "code",
   "source": [
    "filter_data = neg_filtered[neg_filtered['neg_name'].isin(filter_data['neg_name'])]\n",
    "checking_data(filter_data)"
   ],
   "outputs": [
    {
     "name": "stdout",
     "output_type": "stream",
     "text": [
      "Shape of the data frame is: (5, 16)\n",
      "Number of unique values in column 'neg_name': 2 \n"
     ]
    }
   ],
   "execution_count": 183
  },
  {
   "metadata": {
    "ExecuteTime": {
     "end_time": "2024-10-07T21:49:26.026493Z",
     "start_time": "2024-10-07T21:49:26.023602Z"
    }
   },
   "cell_type": "code",
   "source": [
    "good_negatives = pd.concat([good_negatives, filter_data])\n",
    "checking_data(good_negatives)"
   ],
   "outputs": [
    {
     "name": "stdout",
     "output_type": "stream",
     "text": [
      "Shape of the data frame is: (693, 16)\n",
      "Number of unique values in column 'neg_name': 209 \n"
     ]
    }
   ],
   "execution_count": 184
  },
  {
   "metadata": {
    "ExecuteTime": {
     "end_time": "2024-10-07T21:49:30.961457Z",
     "start_time": "2024-10-07T21:49:30.805556Z"
    }
   },
   "cell_type": "code",
   "source": [
    "neg_filtered = neg_filtered[~neg_filtered['neg_name'].isin(filter_data['neg_name'])]\n",
    "checking_data(neg_filtered)\n",
    "group_and_count(neg_filtered, \"neg_name\")"
   ],
   "outputs": [
    {
     "name": "stdout",
     "output_type": "stream",
     "text": [
      "Shape of the data frame is: (923, 16)\n",
      "Number of unique values in column 'neg_name': 359 \n",
      "{'gene': 359, 'transcript': 359, '5utr': 17, '3utr': 139, 'CDS': 4}\n"
     ]
    },
    {
     "data": {
      "text/plain": [
       "                                                 notes  count\n",
       "0                                                  NaN    358\n",
       "1                         H(+)-exporting_diphosphatase      2\n",
       "2            peptidase_m20/m25/m40_family-like_protein      2\n",
       "3                             p-nitrophenylphosphatase      2\n",
       "4                 Ubiquitin-conjugating_enzyme_E2|UBC8      2\n",
       "..                                                 ...    ...\n",
       "144               Haloacid_dehalogenase-like_hydrolase      1\n",
       "145  protein-l-isoaspartate_o-methyltransferase_-_p...      1\n",
       "146                 2′-O-ribose_methyltransferase|MTr1      1\n",
       "147           mitochondrial_carrier_protein_-_putative      1\n",
       "148            adaptin_complex_1_subunit|beta_adaptin       1\n",
       "\n",
       "[149 rows x 2 columns]"
      ],
      "text/html": [
       "<div>\n",
       "<style scoped>\n",
       "    .dataframe tbody tr th:only-of-type {\n",
       "        vertical-align: middle;\n",
       "    }\n",
       "\n",
       "    .dataframe tbody tr th {\n",
       "        vertical-align: top;\n",
       "    }\n",
       "\n",
       "    .dataframe thead th {\n",
       "        text-align: right;\n",
       "    }\n",
       "</style>\n",
       "<table border=\"1\" class=\"dataframe\">\n",
       "  <thead>\n",
       "    <tr style=\"text-align: right;\">\n",
       "      <th></th>\n",
       "      <th>notes</th>\n",
       "      <th>count</th>\n",
       "    </tr>\n",
       "  </thead>\n",
       "  <tbody>\n",
       "    <tr>\n",
       "      <th>0</th>\n",
       "      <td>NaN</td>\n",
       "      <td>358</td>\n",
       "    </tr>\n",
       "    <tr>\n",
       "      <th>1</th>\n",
       "      <td>H(+)-exporting_diphosphatase</td>\n",
       "      <td>2</td>\n",
       "    </tr>\n",
       "    <tr>\n",
       "      <th>2</th>\n",
       "      <td>peptidase_m20/m25/m40_family-like_protein</td>\n",
       "      <td>2</td>\n",
       "    </tr>\n",
       "    <tr>\n",
       "      <th>3</th>\n",
       "      <td>p-nitrophenylphosphatase</td>\n",
       "      <td>2</td>\n",
       "    </tr>\n",
       "    <tr>\n",
       "      <th>4</th>\n",
       "      <td>Ubiquitin-conjugating_enzyme_E2|UBC8</td>\n",
       "      <td>2</td>\n",
       "    </tr>\n",
       "    <tr>\n",
       "      <th>...</th>\n",
       "      <td>...</td>\n",
       "      <td>...</td>\n",
       "    </tr>\n",
       "    <tr>\n",
       "      <th>144</th>\n",
       "      <td>Haloacid_dehalogenase-like_hydrolase</td>\n",
       "      <td>1</td>\n",
       "    </tr>\n",
       "    <tr>\n",
       "      <th>145</th>\n",
       "      <td>protein-l-isoaspartate_o-methyltransferase_-_p...</td>\n",
       "      <td>1</td>\n",
       "    </tr>\n",
       "    <tr>\n",
       "      <th>146</th>\n",
       "      <td>2′-O-ribose_methyltransferase|MTr1</td>\n",
       "      <td>1</td>\n",
       "    </tr>\n",
       "    <tr>\n",
       "      <th>147</th>\n",
       "      <td>mitochondrial_carrier_protein_-_putative</td>\n",
       "      <td>1</td>\n",
       "    </tr>\n",
       "    <tr>\n",
       "      <th>148</th>\n",
       "      <td>adaptin_complex_1_subunit|beta_adaptin</td>\n",
       "      <td>1</td>\n",
       "    </tr>\n",
       "  </tbody>\n",
       "</table>\n",
       "<p>149 rows × 2 columns</p>\n",
       "</div>"
      ]
     },
     "execution_count": 185,
     "metadata": {},
     "output_type": "execute_result"
    }
   ],
   "execution_count": 185
  },
  {
   "metadata": {},
   "cell_type": "markdown",
   "source": "### Checking: diphosphatase"
  },
  {
   "metadata": {
    "ExecuteTime": {
     "end_time": "2024-10-07T21:51:21.837702Z",
     "start_time": "2024-10-07T21:51:21.830338Z"
    }
   },
   "cell_type": "code",
   "source": [
    "filter_data = search_string(neg_filtered, \"exporting_diphosphatase\")\n",
    "print(\"=\"*50)\n",
    "print(filter_data['notes'].value_counts())\n",
    "filter_data.loc[\n",
    "    filter_data[\"gene\"] == True,\n",
    "    ['neg_name', 'chrom', 'gene_id', 'notes', 'start', 'end']\n",
    "]"
   ],
   "outputs": [
    {
     "name": "stdout",
     "output_type": "stream",
     "text": [
      "The of filtered data: (4, 16)\n",
      "The unique values in column 'neg_name': 2\n",
      "==================================================\n",
      "notes\n",
      "H(+)-exporting_diphosphatase    4\n",
      "Name: count, dtype: int64\n"
     ]
    },
    {
     "data": {
      "text/plain": [
       "                       neg_name    chrom         gene_id  \\\n",
       "1152  rejected_noCDS_c31.4280BG  LinJ.31  LINF_310018700   \n",
       "1155  rejected_noCDS_c31.4290BF  LinJ.31  LINF_310018700   \n",
       "\n",
       "                             notes   start     end  \n",
       "1152  H(+)-exporting_diphosphatase  500464  506449  \n",
       "1155  H(+)-exporting_diphosphatase  500464  506449  "
      ],
      "text/html": [
       "<div>\n",
       "<style scoped>\n",
       "    .dataframe tbody tr th:only-of-type {\n",
       "        vertical-align: middle;\n",
       "    }\n",
       "\n",
       "    .dataframe tbody tr th {\n",
       "        vertical-align: top;\n",
       "    }\n",
       "\n",
       "    .dataframe thead th {\n",
       "        text-align: right;\n",
       "    }\n",
       "</style>\n",
       "<table border=\"1\" class=\"dataframe\">\n",
       "  <thead>\n",
       "    <tr style=\"text-align: right;\">\n",
       "      <th></th>\n",
       "      <th>neg_name</th>\n",
       "      <th>chrom</th>\n",
       "      <th>gene_id</th>\n",
       "      <th>notes</th>\n",
       "      <th>start</th>\n",
       "      <th>end</th>\n",
       "    </tr>\n",
       "  </thead>\n",
       "  <tbody>\n",
       "    <tr>\n",
       "      <th>1152</th>\n",
       "      <td>rejected_noCDS_c31.4280BG</td>\n",
       "      <td>LinJ.31</td>\n",
       "      <td>LINF_310018700</td>\n",
       "      <td>H(+)-exporting_diphosphatase</td>\n",
       "      <td>500464</td>\n",
       "      <td>506449</td>\n",
       "    </tr>\n",
       "    <tr>\n",
       "      <th>1155</th>\n",
       "      <td>rejected_noCDS_c31.4290BF</td>\n",
       "      <td>LinJ.31</td>\n",
       "      <td>LINF_310018700</td>\n",
       "      <td>H(+)-exporting_diphosphatase</td>\n",
       "      <td>500464</td>\n",
       "      <td>506449</td>\n",
       "    </tr>\n",
       "  </tbody>\n",
       "</table>\n",
       "</div>"
      ]
     },
     "execution_count": 187,
     "metadata": {},
     "output_type": "execute_result"
    }
   ],
   "execution_count": 187
  },
  {
   "metadata": {
    "ExecuteTime": {
     "end_time": "2024-10-07T21:51:48.870951Z",
     "start_time": "2024-10-07T21:51:48.864510Z"
    }
   },
   "cell_type": "code",
   "source": [
    "check_family(neg_to_filter, \"BG\")\n",
    "## TODO: why there is no \"rejected_noCDS_c31.4240BG\""
   ],
   "outputs": [
    {
     "data": {
      "text/plain": [
       "                       neg_name    chrom         gene_id  \\\n",
       "1152  rejected_noCDS_c31.4280BG  LinJ.31  LINF_310018700   \n",
       "\n",
       "                             notes   start     end  \n",
       "1152  H(+)-exporting_diphosphatase  500464  506449  "
      ],
      "text/html": [
       "<div>\n",
       "<style scoped>\n",
       "    .dataframe tbody tr th:only-of-type {\n",
       "        vertical-align: middle;\n",
       "    }\n",
       "\n",
       "    .dataframe tbody tr th {\n",
       "        vertical-align: top;\n",
       "    }\n",
       "\n",
       "    .dataframe thead th {\n",
       "        text-align: right;\n",
       "    }\n",
       "</style>\n",
       "<table border=\"1\" class=\"dataframe\">\n",
       "  <thead>\n",
       "    <tr style=\"text-align: right;\">\n",
       "      <th></th>\n",
       "      <th>neg_name</th>\n",
       "      <th>chrom</th>\n",
       "      <th>gene_id</th>\n",
       "      <th>notes</th>\n",
       "      <th>start</th>\n",
       "      <th>end</th>\n",
       "    </tr>\n",
       "  </thead>\n",
       "  <tbody>\n",
       "    <tr>\n",
       "      <th>1152</th>\n",
       "      <td>rejected_noCDS_c31.4280BG</td>\n",
       "      <td>LinJ.31</td>\n",
       "      <td>LINF_310018700</td>\n",
       "      <td>H(+)-exporting_diphosphatase</td>\n",
       "      <td>500464</td>\n",
       "      <td>506449</td>\n",
       "    </tr>\n",
       "  </tbody>\n",
       "</table>\n",
       "</div>"
      ]
     },
     "execution_count": 188,
     "metadata": {},
     "output_type": "execute_result"
    }
   ],
   "execution_count": 188
  },
  {
   "metadata": {
    "ExecuteTime": {
     "end_time": "2024-10-07T21:51:59.749964Z",
     "start_time": "2024-10-07T21:51:59.744137Z"
    }
   },
   "cell_type": "code",
   "source": "check_family(neg_to_filter, \"BF\")",
   "outputs": [
    {
     "data": {
      "text/plain": [
       "                       neg_name    chrom         gene_id  \\\n",
       "1136  rejected_noCDS_c31.4190BF  LinJ.31  LINF_310014250   \n",
       "1138  rejected_noCDS_c31.4200BF  LinJ.31  LINF_310014500   \n",
       "1141  rejected_noCDS_c31.4210BF  LinJ.31  LINF_310016350   \n",
       "1146  rejected_noCDS_c31.4260BF  LinJ.31  LINF_310017000   \n",
       "1155  rejected_noCDS_c31.4290BF  LinJ.31  LINF_310018700   \n",
       "\n",
       "                                                  notes   start     end  \n",
       "1136                                                NaN  317136  317964  \n",
       "1138  amino_acid_permease_3|arginine_transporter|AAP...  322998  328575  \n",
       "1141                                                NaN  405961  406903  \n",
       "1146                   hypothetical_protein_-_conserved  440694  447113  \n",
       "1155                       H(+)-exporting_diphosphatase  500464  506449  "
      ],
      "text/html": [
       "<div>\n",
       "<style scoped>\n",
       "    .dataframe tbody tr th:only-of-type {\n",
       "        vertical-align: middle;\n",
       "    }\n",
       "\n",
       "    .dataframe tbody tr th {\n",
       "        vertical-align: top;\n",
       "    }\n",
       "\n",
       "    .dataframe thead th {\n",
       "        text-align: right;\n",
       "    }\n",
       "</style>\n",
       "<table border=\"1\" class=\"dataframe\">\n",
       "  <thead>\n",
       "    <tr style=\"text-align: right;\">\n",
       "      <th></th>\n",
       "      <th>neg_name</th>\n",
       "      <th>chrom</th>\n",
       "      <th>gene_id</th>\n",
       "      <th>notes</th>\n",
       "      <th>start</th>\n",
       "      <th>end</th>\n",
       "    </tr>\n",
       "  </thead>\n",
       "  <tbody>\n",
       "    <tr>\n",
       "      <th>1136</th>\n",
       "      <td>rejected_noCDS_c31.4190BF</td>\n",
       "      <td>LinJ.31</td>\n",
       "      <td>LINF_310014250</td>\n",
       "      <td>NaN</td>\n",
       "      <td>317136</td>\n",
       "      <td>317964</td>\n",
       "    </tr>\n",
       "    <tr>\n",
       "      <th>1138</th>\n",
       "      <td>rejected_noCDS_c31.4200BF</td>\n",
       "      <td>LinJ.31</td>\n",
       "      <td>LINF_310014500</td>\n",
       "      <td>amino_acid_permease_3|arginine_transporter|AAP...</td>\n",
       "      <td>322998</td>\n",
       "      <td>328575</td>\n",
       "    </tr>\n",
       "    <tr>\n",
       "      <th>1141</th>\n",
       "      <td>rejected_noCDS_c31.4210BF</td>\n",
       "      <td>LinJ.31</td>\n",
       "      <td>LINF_310016350</td>\n",
       "      <td>NaN</td>\n",
       "      <td>405961</td>\n",
       "      <td>406903</td>\n",
       "    </tr>\n",
       "    <tr>\n",
       "      <th>1146</th>\n",
       "      <td>rejected_noCDS_c31.4260BF</td>\n",
       "      <td>LinJ.31</td>\n",
       "      <td>LINF_310017000</td>\n",
       "      <td>hypothetical_protein_-_conserved</td>\n",
       "      <td>440694</td>\n",
       "      <td>447113</td>\n",
       "    </tr>\n",
       "    <tr>\n",
       "      <th>1155</th>\n",
       "      <td>rejected_noCDS_c31.4290BF</td>\n",
       "      <td>LinJ.31</td>\n",
       "      <td>LINF_310018700</td>\n",
       "      <td>H(+)-exporting_diphosphatase</td>\n",
       "      <td>500464</td>\n",
       "      <td>506449</td>\n",
       "    </tr>\n",
       "  </tbody>\n",
       "</table>\n",
       "</div>"
      ]
     },
     "execution_count": 189,
     "metadata": {},
     "output_type": "execute_result"
    }
   ],
   "execution_count": 189
  },
  {
   "metadata": {
    "ExecuteTime": {
     "end_time": "2024-10-07T21:57:28.275993Z",
     "start_time": "2024-10-07T21:57:28.273059Z"
    }
   },
   "cell_type": "code",
   "source": [
    "filter_data = neg_filtered[neg_filtered['neg_name'].isin(filter_data['neg_name'])]\n",
    "checking_data(filter_data)"
   ],
   "outputs": [
    {
     "name": "stdout",
     "output_type": "stream",
     "text": [
      "Shape of the data frame is: (6, 16)\n",
      "Number of unique values in column 'neg_name': 2 \n"
     ]
    }
   ],
   "execution_count": 193
  },
  {
   "metadata": {
    "ExecuteTime": {
     "end_time": "2024-10-07T21:57:34.903532Z",
     "start_time": "2024-10-07T21:57:34.900647Z"
    }
   },
   "cell_type": "code",
   "source": [
    "good_negatives = pd.concat([good_negatives, filter_data])\n",
    "checking_data(good_negatives)"
   ],
   "outputs": [
    {
     "name": "stdout",
     "output_type": "stream",
     "text": [
      "Shape of the data frame is: (699, 16)\n",
      "Number of unique values in column 'neg_name': 211 \n"
     ]
    }
   ],
   "execution_count": 194
  },
  {
   "metadata": {
    "ExecuteTime": {
     "end_time": "2024-10-07T21:57:41.345584Z",
     "start_time": "2024-10-07T21:57:41.221819Z"
    }
   },
   "cell_type": "code",
   "source": [
    "neg_filtered = neg_filtered[~neg_filtered['neg_name'].isin(filter_data['neg_name'])]\n",
    "checking_data(neg_filtered)\n",
    "group_and_count(neg_filtered, \"neg_name\")"
   ],
   "outputs": [
    {
     "name": "stdout",
     "output_type": "stream",
     "text": [
      "Shape of the data frame is: (917, 16)\n",
      "Number of unique values in column 'neg_name': 357 \n",
      "{'gene': 357, 'transcript': 357, '5utr': 17, '3utr': 137, 'CDS': 4}\n"
     ]
    },
    {
     "data": {
      "text/plain": [
       "                                                 notes  count\n",
       "0                                                  NaN    356\n",
       "1            peptidase_m20/m25/m40_family-like_protein      2\n",
       "2                             p-nitrophenylphosphatase      2\n",
       "3                 Ubiquitin-conjugating_enzyme_E2|UBC8      2\n",
       "4          Vps23_core_domain_containing_protein|Li1040      2\n",
       "..                                                 ...    ...\n",
       "143               Haloacid_dehalogenase-like_hydrolase      1\n",
       "144  protein-l-isoaspartate_o-methyltransferase_-_p...      1\n",
       "145                 2′-O-ribose_methyltransferase|MTr1      1\n",
       "146           mitochondrial_carrier_protein_-_putative      1\n",
       "147            adaptin_complex_1_subunit|beta_adaptin       1\n",
       "\n",
       "[148 rows x 2 columns]"
      ],
      "text/html": [
       "<div>\n",
       "<style scoped>\n",
       "    .dataframe tbody tr th:only-of-type {\n",
       "        vertical-align: middle;\n",
       "    }\n",
       "\n",
       "    .dataframe tbody tr th {\n",
       "        vertical-align: top;\n",
       "    }\n",
       "\n",
       "    .dataframe thead th {\n",
       "        text-align: right;\n",
       "    }\n",
       "</style>\n",
       "<table border=\"1\" class=\"dataframe\">\n",
       "  <thead>\n",
       "    <tr style=\"text-align: right;\">\n",
       "      <th></th>\n",
       "      <th>notes</th>\n",
       "      <th>count</th>\n",
       "    </tr>\n",
       "  </thead>\n",
       "  <tbody>\n",
       "    <tr>\n",
       "      <th>0</th>\n",
       "      <td>NaN</td>\n",
       "      <td>356</td>\n",
       "    </tr>\n",
       "    <tr>\n",
       "      <th>1</th>\n",
       "      <td>peptidase_m20/m25/m40_family-like_protein</td>\n",
       "      <td>2</td>\n",
       "    </tr>\n",
       "    <tr>\n",
       "      <th>2</th>\n",
       "      <td>p-nitrophenylphosphatase</td>\n",
       "      <td>2</td>\n",
       "    </tr>\n",
       "    <tr>\n",
       "      <th>3</th>\n",
       "      <td>Ubiquitin-conjugating_enzyme_E2|UBC8</td>\n",
       "      <td>2</td>\n",
       "    </tr>\n",
       "    <tr>\n",
       "      <th>4</th>\n",
       "      <td>Vps23_core_domain_containing_protein|Li1040</td>\n",
       "      <td>2</td>\n",
       "    </tr>\n",
       "    <tr>\n",
       "      <th>...</th>\n",
       "      <td>...</td>\n",
       "      <td>...</td>\n",
       "    </tr>\n",
       "    <tr>\n",
       "      <th>143</th>\n",
       "      <td>Haloacid_dehalogenase-like_hydrolase</td>\n",
       "      <td>1</td>\n",
       "    </tr>\n",
       "    <tr>\n",
       "      <th>144</th>\n",
       "      <td>protein-l-isoaspartate_o-methyltransferase_-_p...</td>\n",
       "      <td>1</td>\n",
       "    </tr>\n",
       "    <tr>\n",
       "      <th>145</th>\n",
       "      <td>2′-O-ribose_methyltransferase|MTr1</td>\n",
       "      <td>1</td>\n",
       "    </tr>\n",
       "    <tr>\n",
       "      <th>146</th>\n",
       "      <td>mitochondrial_carrier_protein_-_putative</td>\n",
       "      <td>1</td>\n",
       "    </tr>\n",
       "    <tr>\n",
       "      <th>147</th>\n",
       "      <td>adaptin_complex_1_subunit|beta_adaptin</td>\n",
       "      <td>1</td>\n",
       "    </tr>\n",
       "  </tbody>\n",
       "</table>\n",
       "<p>148 rows × 2 columns</p>\n",
       "</div>"
      ]
     },
     "execution_count": 195,
     "metadata": {},
     "output_type": "execute_result"
    }
   ],
   "execution_count": 195
  },
  {
   "metadata": {},
   "cell_type": "markdown",
   "source": "### Checking: peptidase m20"
  },
  {
   "metadata": {
    "ExecuteTime": {
     "end_time": "2024-10-07T21:58:12.208850Z",
     "start_time": "2024-10-07T21:58:12.202070Z"
    }
   },
   "cell_type": "code",
   "source": [
    "filter_data = search_string(neg_filtered, \"m20\")\n",
    "print(\"=\"*50)\n",
    "print(filter_data['notes'].value_counts())\n",
    "filter_data.loc[\n",
    "    filter_data[\"gene\"] == True,\n",
    "    ['neg_name', 'chrom', 'gene_id', 'notes', 'start', 'end']\n",
    "]"
   ],
   "outputs": [
    {
     "name": "stdout",
     "output_type": "stream",
     "text": [
      "The of filtered data: (4, 16)\n",
      "The unique values in column 'neg_name': 2\n",
      "==================================================\n",
      "notes\n",
      "peptidase_m20/m25/m40_family-like_protein    4\n",
      "Name: count, dtype: int64\n"
     ]
    },
    {
     "data": {
      "text/plain": [
       "                       neg_name    chrom         gene_id  \\\n",
       "1190  rejected_noCDS_c31.4410BJ  LinJ.31  LINF_310026700   \n",
       "1204  rejected_noCDS_c31.4460BJ  LinJ.31  LINF_310028200   \n",
       "\n",
       "                                          notes    start      end  \n",
       "1190  peptidase_m20/m25/m40_family-like_protein   967493   971919  \n",
       "1204  peptidase_m20/m25/m40_family-like_protein  1029887  1033101  "
      ],
      "text/html": [
       "<div>\n",
       "<style scoped>\n",
       "    .dataframe tbody tr th:only-of-type {\n",
       "        vertical-align: middle;\n",
       "    }\n",
       "\n",
       "    .dataframe tbody tr th {\n",
       "        vertical-align: top;\n",
       "    }\n",
       "\n",
       "    .dataframe thead th {\n",
       "        text-align: right;\n",
       "    }\n",
       "</style>\n",
       "<table border=\"1\" class=\"dataframe\">\n",
       "  <thead>\n",
       "    <tr style=\"text-align: right;\">\n",
       "      <th></th>\n",
       "      <th>neg_name</th>\n",
       "      <th>chrom</th>\n",
       "      <th>gene_id</th>\n",
       "      <th>notes</th>\n",
       "      <th>start</th>\n",
       "      <th>end</th>\n",
       "    </tr>\n",
       "  </thead>\n",
       "  <tbody>\n",
       "    <tr>\n",
       "      <th>1190</th>\n",
       "      <td>rejected_noCDS_c31.4410BJ</td>\n",
       "      <td>LinJ.31</td>\n",
       "      <td>LINF_310026700</td>\n",
       "      <td>peptidase_m20/m25/m40_family-like_protein</td>\n",
       "      <td>967493</td>\n",
       "      <td>971919</td>\n",
       "    </tr>\n",
       "    <tr>\n",
       "      <th>1204</th>\n",
       "      <td>rejected_noCDS_c31.4460BJ</td>\n",
       "      <td>LinJ.31</td>\n",
       "      <td>LINF_310028200</td>\n",
       "      <td>peptidase_m20/m25/m40_family-like_protein</td>\n",
       "      <td>1029887</td>\n",
       "      <td>1033101</td>\n",
       "    </tr>\n",
       "  </tbody>\n",
       "</table>\n",
       "</div>"
      ]
     },
     "execution_count": 196,
     "metadata": {},
     "output_type": "execute_result"
    }
   ],
   "execution_count": 196
  },
  {
   "metadata": {
    "ExecuteTime": {
     "end_time": "2024-10-07T21:58:27.361694Z",
     "start_time": "2024-10-07T21:58:27.355301Z"
    }
   },
   "cell_type": "code",
   "source": "check_family(neg_to_filter, \"BJ\")",
   "outputs": [
    {
     "data": {
      "text/plain": [
       "                       neg_name    chrom         gene_id  \\\n",
       "1190  rejected_noCDS_c31.4410BJ  LinJ.31  LINF_310026700   \n",
       "1204  rejected_noCDS_c31.4460BJ  LinJ.31  LINF_310028200   \n",
       "\n",
       "                                          notes    start      end  \n",
       "1190  peptidase_m20/m25/m40_family-like_protein   967493   971919  \n",
       "1204  peptidase_m20/m25/m40_family-like_protein  1029887  1033101  "
      ],
      "text/html": [
       "<div>\n",
       "<style scoped>\n",
       "    .dataframe tbody tr th:only-of-type {\n",
       "        vertical-align: middle;\n",
       "    }\n",
       "\n",
       "    .dataframe tbody tr th {\n",
       "        vertical-align: top;\n",
       "    }\n",
       "\n",
       "    .dataframe thead th {\n",
       "        text-align: right;\n",
       "    }\n",
       "</style>\n",
       "<table border=\"1\" class=\"dataframe\">\n",
       "  <thead>\n",
       "    <tr style=\"text-align: right;\">\n",
       "      <th></th>\n",
       "      <th>neg_name</th>\n",
       "      <th>chrom</th>\n",
       "      <th>gene_id</th>\n",
       "      <th>notes</th>\n",
       "      <th>start</th>\n",
       "      <th>end</th>\n",
       "    </tr>\n",
       "  </thead>\n",
       "  <tbody>\n",
       "    <tr>\n",
       "      <th>1190</th>\n",
       "      <td>rejected_noCDS_c31.4410BJ</td>\n",
       "      <td>LinJ.31</td>\n",
       "      <td>LINF_310026700</td>\n",
       "      <td>peptidase_m20/m25/m40_family-like_protein</td>\n",
       "      <td>967493</td>\n",
       "      <td>971919</td>\n",
       "    </tr>\n",
       "    <tr>\n",
       "      <th>1204</th>\n",
       "      <td>rejected_noCDS_c31.4460BJ</td>\n",
       "      <td>LinJ.31</td>\n",
       "      <td>LINF_310028200</td>\n",
       "      <td>peptidase_m20/m25/m40_family-like_protein</td>\n",
       "      <td>1029887</td>\n",
       "      <td>1033101</td>\n",
       "    </tr>\n",
       "  </tbody>\n",
       "</table>\n",
       "</div>"
      ]
     },
     "execution_count": 197,
     "metadata": {},
     "output_type": "execute_result"
    }
   ],
   "execution_count": 197
  },
  {
   "metadata": {
    "ExecuteTime": {
     "end_time": "2024-10-07T21:59:14.993016Z",
     "start_time": "2024-10-07T21:59:14.989625Z"
    }
   },
   "cell_type": "code",
   "source": [
    "filter_data = neg_filtered[neg_filtered['neg_name'].isin(filter_data['neg_name'])]\n",
    "checking_data(filter_data)"
   ],
   "outputs": [
    {
     "name": "stdout",
     "output_type": "stream",
     "text": [
      "Shape of the data frame is: (0, 16)\n",
      "Number of unique values in column 'neg_name': 0 \n"
     ]
    }
   ],
   "execution_count": 199
  },
  {
   "metadata": {
    "ExecuteTime": {
     "end_time": "2024-10-07T21:59:18.379770Z",
     "start_time": "2024-10-07T21:59:18.230964Z"
    }
   },
   "cell_type": "code",
   "source": [
    "neg_filtered = neg_filtered[~neg_filtered['neg_name'].isin(filter_data['neg_name'])]\n",
    "checking_data(neg_filtered)\n",
    "group_and_count(neg_filtered, \"neg_name\")"
   ],
   "outputs": [
    {
     "name": "stdout",
     "output_type": "stream",
     "text": [
      "Shape of the data frame is: (911, 16)\n",
      "Number of unique values in column 'neg_name': 355 \n",
      "{'gene': 355, 'transcript': 355, '5utr': 17, '3utr': 135, 'CDS': 4}\n"
     ]
    },
    {
     "data": {
      "text/plain": [
       "                                                 notes  count\n",
       "0                                                  NaN    354\n",
       "1                             p-nitrophenylphosphatase      2\n",
       "2                 Ubiquitin-conjugating_enzyme_E2|UBC8      2\n",
       "3          Vps23_core_domain_containing_protein|Li1040      2\n",
       "4                         Peroxisomal_membrane_protein      2\n",
       "..                                                 ...    ...\n",
       "142               Haloacid_dehalogenase-like_hydrolase      1\n",
       "143  protein-l-isoaspartate_o-methyltransferase_-_p...      1\n",
       "144                 2′-O-ribose_methyltransferase|MTr1      1\n",
       "145           mitochondrial_carrier_protein_-_putative      1\n",
       "146            adaptin_complex_1_subunit|beta_adaptin       1\n",
       "\n",
       "[147 rows x 2 columns]"
      ],
      "text/html": [
       "<div>\n",
       "<style scoped>\n",
       "    .dataframe tbody tr th:only-of-type {\n",
       "        vertical-align: middle;\n",
       "    }\n",
       "\n",
       "    .dataframe tbody tr th {\n",
       "        vertical-align: top;\n",
       "    }\n",
       "\n",
       "    .dataframe thead th {\n",
       "        text-align: right;\n",
       "    }\n",
       "</style>\n",
       "<table border=\"1\" class=\"dataframe\">\n",
       "  <thead>\n",
       "    <tr style=\"text-align: right;\">\n",
       "      <th></th>\n",
       "      <th>notes</th>\n",
       "      <th>count</th>\n",
       "    </tr>\n",
       "  </thead>\n",
       "  <tbody>\n",
       "    <tr>\n",
       "      <th>0</th>\n",
       "      <td>NaN</td>\n",
       "      <td>354</td>\n",
       "    </tr>\n",
       "    <tr>\n",
       "      <th>1</th>\n",
       "      <td>p-nitrophenylphosphatase</td>\n",
       "      <td>2</td>\n",
       "    </tr>\n",
       "    <tr>\n",
       "      <th>2</th>\n",
       "      <td>Ubiquitin-conjugating_enzyme_E2|UBC8</td>\n",
       "      <td>2</td>\n",
       "    </tr>\n",
       "    <tr>\n",
       "      <th>3</th>\n",
       "      <td>Vps23_core_domain_containing_protein|Li1040</td>\n",
       "      <td>2</td>\n",
       "    </tr>\n",
       "    <tr>\n",
       "      <th>4</th>\n",
       "      <td>Peroxisomal_membrane_protein</td>\n",
       "      <td>2</td>\n",
       "    </tr>\n",
       "    <tr>\n",
       "      <th>...</th>\n",
       "      <td>...</td>\n",
       "      <td>...</td>\n",
       "    </tr>\n",
       "    <tr>\n",
       "      <th>142</th>\n",
       "      <td>Haloacid_dehalogenase-like_hydrolase</td>\n",
       "      <td>1</td>\n",
       "    </tr>\n",
       "    <tr>\n",
       "      <th>143</th>\n",
       "      <td>protein-l-isoaspartate_o-methyltransferase_-_p...</td>\n",
       "      <td>1</td>\n",
       "    </tr>\n",
       "    <tr>\n",
       "      <th>144</th>\n",
       "      <td>2′-O-ribose_methyltransferase|MTr1</td>\n",
       "      <td>1</td>\n",
       "    </tr>\n",
       "    <tr>\n",
       "      <th>145</th>\n",
       "      <td>mitochondrial_carrier_protein_-_putative</td>\n",
       "      <td>1</td>\n",
       "    </tr>\n",
       "    <tr>\n",
       "      <th>146</th>\n",
       "      <td>adaptin_complex_1_subunit|beta_adaptin</td>\n",
       "      <td>1</td>\n",
       "    </tr>\n",
       "  </tbody>\n",
       "</table>\n",
       "<p>147 rows × 2 columns</p>\n",
       "</div>"
      ]
     },
     "execution_count": 200,
     "metadata": {},
     "output_type": "execute_result"
    }
   ],
   "execution_count": 200
  },
  {
   "metadata": {},
   "cell_type": "markdown",
   "source": "### Checking: nitrophenylphoshatase"
  },
  {
   "metadata": {
    "ExecuteTime": {
     "end_time": "2024-10-07T22:31:25.637402Z",
     "start_time": "2024-10-07T22:31:25.630734Z"
    }
   },
   "cell_type": "code",
   "source": [
    "filter_data = search_string(neg_filtered, \"nitrophenyl\")\n",
    "print(\"=\"*50)\n",
    "print(filter_data['notes'].value_counts())\n",
    "filter_data.loc[\n",
    "    filter_data[\"gene\"] == True,\n",
    "    ['neg_name', 'chrom', 'gene_id', 'notes', 'start', 'end']\n",
    "]"
   ],
   "outputs": [
    {
     "name": "stdout",
     "output_type": "stream",
     "text": [
      "The of filtered data: (4, 16)\n",
      "The unique values in column 'neg_name': 2\n",
      "==================================================\n",
      "notes\n",
      "p-nitrophenylphosphatase    4\n",
      "Name: count, dtype: int64\n"
     ]
    },
    {
     "data": {
      "text/plain": [
       "                     neg_name    chrom         gene_id  \\\n",
       "1216  rejected_noCDS_c31.4510  LinJ.31  LINF_310031700   \n",
       "1219  rejected_noCDS_c31.4520  LinJ.31  LINF_310031700   \n",
       "\n",
       "                         notes    start      end  \n",
       "1216  p-nitrophenylphosphatase  1195831  1201297  \n",
       "1219  p-nitrophenylphosphatase  1195831  1201297  "
      ],
      "text/html": [
       "<div>\n",
       "<style scoped>\n",
       "    .dataframe tbody tr th:only-of-type {\n",
       "        vertical-align: middle;\n",
       "    }\n",
       "\n",
       "    .dataframe tbody tr th {\n",
       "        vertical-align: top;\n",
       "    }\n",
       "\n",
       "    .dataframe thead th {\n",
       "        text-align: right;\n",
       "    }\n",
       "</style>\n",
       "<table border=\"1\" class=\"dataframe\">\n",
       "  <thead>\n",
       "    <tr style=\"text-align: right;\">\n",
       "      <th></th>\n",
       "      <th>neg_name</th>\n",
       "      <th>chrom</th>\n",
       "      <th>gene_id</th>\n",
       "      <th>notes</th>\n",
       "      <th>start</th>\n",
       "      <th>end</th>\n",
       "    </tr>\n",
       "  </thead>\n",
       "  <tbody>\n",
       "    <tr>\n",
       "      <th>1216</th>\n",
       "      <td>rejected_noCDS_c31.4510</td>\n",
       "      <td>LinJ.31</td>\n",
       "      <td>LINF_310031700</td>\n",
       "      <td>p-nitrophenylphosphatase</td>\n",
       "      <td>1195831</td>\n",
       "      <td>1201297</td>\n",
       "    </tr>\n",
       "    <tr>\n",
       "      <th>1219</th>\n",
       "      <td>rejected_noCDS_c31.4520</td>\n",
       "      <td>LinJ.31</td>\n",
       "      <td>LINF_310031700</td>\n",
       "      <td>p-nitrophenylphosphatase</td>\n",
       "      <td>1195831</td>\n",
       "      <td>1201297</td>\n",
       "    </tr>\n",
       "  </tbody>\n",
       "</table>\n",
       "</div>"
      ]
     },
     "execution_count": 201,
     "metadata": {},
     "output_type": "execute_result"
    }
   ],
   "execution_count": 201
  },
  {
   "metadata": {
    "ExecuteTime": {
     "end_time": "2024-10-07T22:32:07.089160Z",
     "start_time": "2024-10-07T22:32:07.086241Z"
    }
   },
   "cell_type": "code",
   "source": [
    "filter_data = neg_filtered[neg_filtered['neg_name'].isin(filter_data['neg_name'])]\n",
    "checking_data(filter_data)"
   ],
   "outputs": [
    {
     "name": "stdout",
     "output_type": "stream",
     "text": [
      "Shape of the data frame is: (6, 16)\n",
      "Number of unique values in column 'neg_name': 2 \n"
     ]
    }
   ],
   "execution_count": 202
  },
  {
   "metadata": {
    "ExecuteTime": {
     "end_time": "2024-10-07T22:32:11.731361Z",
     "start_time": "2024-10-07T22:32:11.728640Z"
    }
   },
   "cell_type": "code",
   "source": [
    "good_negatives = pd.concat([good_negatives, filter_data])\n",
    "checking_data(good_negatives)"
   ],
   "outputs": [
    {
     "name": "stdout",
     "output_type": "stream",
     "text": [
      "Shape of the data frame is: (705, 16)\n",
      "Number of unique values in column 'neg_name': 213 \n"
     ]
    }
   ],
   "execution_count": 203
  },
  {
   "metadata": {
    "ExecuteTime": {
     "end_time": "2024-10-07T22:32:17.285704Z",
     "start_time": "2024-10-07T22:32:17.165946Z"
    }
   },
   "cell_type": "code",
   "source": [
    "neg_filtered = neg_filtered[~neg_filtered['neg_name'].isin(filter_data['neg_name'])]\n",
    "checking_data(neg_filtered)\n",
    "group_and_count(neg_filtered, \"neg_name\")"
   ],
   "outputs": [
    {
     "name": "stdout",
     "output_type": "stream",
     "text": [
      "Shape of the data frame is: (905, 16)\n",
      "Number of unique values in column 'neg_name': 353 \n",
      "{'gene': 353, 'transcript': 353, '5utr': 17, '3utr': 133, 'CDS': 4}\n"
     ]
    },
    {
     "data": {
      "text/plain": [
       "                                                 notes  count\n",
       "0                                                  NaN    352\n",
       "1                 Ubiquitin-conjugating_enzyme_E2|UBC8      2\n",
       "2          Vps23_core_domain_containing_protein|Li1040      2\n",
       "3                         Peroxisomal_membrane_protein      2\n",
       "4                               Cardiolipin_synthetase      2\n",
       "..                                                 ...    ...\n",
       "141               Haloacid_dehalogenase-like_hydrolase      1\n",
       "142  protein-l-isoaspartate_o-methyltransferase_-_p...      1\n",
       "143                 2′-O-ribose_methyltransferase|MTr1      1\n",
       "144           mitochondrial_carrier_protein_-_putative      1\n",
       "145            adaptin_complex_1_subunit|beta_adaptin       1\n",
       "\n",
       "[146 rows x 2 columns]"
      ],
      "text/html": [
       "<div>\n",
       "<style scoped>\n",
       "    .dataframe tbody tr th:only-of-type {\n",
       "        vertical-align: middle;\n",
       "    }\n",
       "\n",
       "    .dataframe tbody tr th {\n",
       "        vertical-align: top;\n",
       "    }\n",
       "\n",
       "    .dataframe thead th {\n",
       "        text-align: right;\n",
       "    }\n",
       "</style>\n",
       "<table border=\"1\" class=\"dataframe\">\n",
       "  <thead>\n",
       "    <tr style=\"text-align: right;\">\n",
       "      <th></th>\n",
       "      <th>notes</th>\n",
       "      <th>count</th>\n",
       "    </tr>\n",
       "  </thead>\n",
       "  <tbody>\n",
       "    <tr>\n",
       "      <th>0</th>\n",
       "      <td>NaN</td>\n",
       "      <td>352</td>\n",
       "    </tr>\n",
       "    <tr>\n",
       "      <th>1</th>\n",
       "      <td>Ubiquitin-conjugating_enzyme_E2|UBC8</td>\n",
       "      <td>2</td>\n",
       "    </tr>\n",
       "    <tr>\n",
       "      <th>2</th>\n",
       "      <td>Vps23_core_domain_containing_protein|Li1040</td>\n",
       "      <td>2</td>\n",
       "    </tr>\n",
       "    <tr>\n",
       "      <th>3</th>\n",
       "      <td>Peroxisomal_membrane_protein</td>\n",
       "      <td>2</td>\n",
       "    </tr>\n",
       "    <tr>\n",
       "      <th>4</th>\n",
       "      <td>Cardiolipin_synthetase</td>\n",
       "      <td>2</td>\n",
       "    </tr>\n",
       "    <tr>\n",
       "      <th>...</th>\n",
       "      <td>...</td>\n",
       "      <td>...</td>\n",
       "    </tr>\n",
       "    <tr>\n",
       "      <th>141</th>\n",
       "      <td>Haloacid_dehalogenase-like_hydrolase</td>\n",
       "      <td>1</td>\n",
       "    </tr>\n",
       "    <tr>\n",
       "      <th>142</th>\n",
       "      <td>protein-l-isoaspartate_o-methyltransferase_-_p...</td>\n",
       "      <td>1</td>\n",
       "    </tr>\n",
       "    <tr>\n",
       "      <th>143</th>\n",
       "      <td>2′-O-ribose_methyltransferase|MTr1</td>\n",
       "      <td>1</td>\n",
       "    </tr>\n",
       "    <tr>\n",
       "      <th>144</th>\n",
       "      <td>mitochondrial_carrier_protein_-_putative</td>\n",
       "      <td>1</td>\n",
       "    </tr>\n",
       "    <tr>\n",
       "      <th>145</th>\n",
       "      <td>adaptin_complex_1_subunit|beta_adaptin</td>\n",
       "      <td>1</td>\n",
       "    </tr>\n",
       "  </tbody>\n",
       "</table>\n",
       "<p>146 rows × 2 columns</p>\n",
       "</div>"
      ]
     },
     "execution_count": 204,
     "metadata": {},
     "output_type": "execute_result"
    }
   ],
   "execution_count": 204
  },
  {
   "metadata": {},
   "cell_type": "markdown",
   "source": "### Checking: ubiquitin-conjugating"
  },
  {
   "metadata": {
    "ExecuteTime": {
     "end_time": "2024-10-07T22:33:45.452590Z",
     "start_time": "2024-10-07T22:33:45.446208Z"
    }
   },
   "cell_type": "code",
   "source": [
    "filter_data = search_string(neg_filtered, \"UBC\")\n",
    "print(\"=\"*50)\n",
    "print(filter_data['notes'].value_counts())\n",
    "filter_data.loc[\n",
    "    filter_data[\"gene\"] == True,\n",
    "    ['neg_name', 'chrom', 'gene_id', 'notes', 'start', 'end']\n",
    "]"
   ],
   "outputs": [
    {
     "name": "stdout",
     "output_type": "stream",
     "text": [
      "The of filtered data: (4, 16)\n",
      "The unique values in column 'neg_name': 2\n",
      "==================================================\n",
      "notes\n",
      "Ubiquitin-conjugating_enzyme_E2|UBC8    4\n",
      "Name: count, dtype: int64\n"
     ]
    },
    {
     "data": {
      "text/plain": [
       "                     neg_name    chrom         gene_id  \\\n",
       "1236  rejected_noCDS_c32.4580  LinJ.32  LINF_320012400   \n",
       "1238  rejected_noCDS_c32.4590  LinJ.32  LINF_320012400   \n",
       "\n",
       "                                     notes   start     end  \n",
       "1236  Ubiquitin-conjugating_enzyme_E2|UBC8  239876  246114  \n",
       "1238  Ubiquitin-conjugating_enzyme_E2|UBC8  239876  246114  "
      ],
      "text/html": [
       "<div>\n",
       "<style scoped>\n",
       "    .dataframe tbody tr th:only-of-type {\n",
       "        vertical-align: middle;\n",
       "    }\n",
       "\n",
       "    .dataframe tbody tr th {\n",
       "        vertical-align: top;\n",
       "    }\n",
       "\n",
       "    .dataframe thead th {\n",
       "        text-align: right;\n",
       "    }\n",
       "</style>\n",
       "<table border=\"1\" class=\"dataframe\">\n",
       "  <thead>\n",
       "    <tr style=\"text-align: right;\">\n",
       "      <th></th>\n",
       "      <th>neg_name</th>\n",
       "      <th>chrom</th>\n",
       "      <th>gene_id</th>\n",
       "      <th>notes</th>\n",
       "      <th>start</th>\n",
       "      <th>end</th>\n",
       "    </tr>\n",
       "  </thead>\n",
       "  <tbody>\n",
       "    <tr>\n",
       "      <th>1236</th>\n",
       "      <td>rejected_noCDS_c32.4580</td>\n",
       "      <td>LinJ.32</td>\n",
       "      <td>LINF_320012400</td>\n",
       "      <td>Ubiquitin-conjugating_enzyme_E2|UBC8</td>\n",
       "      <td>239876</td>\n",
       "      <td>246114</td>\n",
       "    </tr>\n",
       "    <tr>\n",
       "      <th>1238</th>\n",
       "      <td>rejected_noCDS_c32.4590</td>\n",
       "      <td>LinJ.32</td>\n",
       "      <td>LINF_320012400</td>\n",
       "      <td>Ubiquitin-conjugating_enzyme_E2|UBC8</td>\n",
       "      <td>239876</td>\n",
       "      <td>246114</td>\n",
       "    </tr>\n",
       "  </tbody>\n",
       "</table>\n",
       "</div>"
      ]
     },
     "execution_count": 206,
     "metadata": {},
     "output_type": "execute_result"
    }
   ],
   "execution_count": 206
  },
  {
   "metadata": {
    "ExecuteTime": {
     "end_time": "2024-10-07T22:34:01.361760Z",
     "start_time": "2024-10-07T22:34:01.359107Z"
    }
   },
   "cell_type": "code",
   "source": [
    "filter_data = neg_filtered[neg_filtered['neg_name'].isin(filter_data['neg_name'])]\n",
    "checking_data(filter_data)"
   ],
   "outputs": [
    {
     "name": "stdout",
     "output_type": "stream",
     "text": [
      "Shape of the data frame is: (6, 16)\n",
      "Number of unique values in column 'neg_name': 2 \n"
     ]
    }
   ],
   "execution_count": 207
  },
  {
   "metadata": {
    "ExecuteTime": {
     "end_time": "2024-10-07T22:34:05.694305Z",
     "start_time": "2024-10-07T22:34:05.691585Z"
    }
   },
   "cell_type": "code",
   "source": [
    "good_negatives = pd.concat([good_negatives, filter_data])\n",
    "checking_data(good_negatives)"
   ],
   "outputs": [
    {
     "name": "stdout",
     "output_type": "stream",
     "text": [
      "Shape of the data frame is: (711, 16)\n",
      "Number of unique values in column 'neg_name': 215 \n"
     ]
    }
   ],
   "execution_count": 208
  },
  {
   "metadata": {
    "ExecuteTime": {
     "end_time": "2024-10-07T22:34:09.858065Z",
     "start_time": "2024-10-07T22:34:09.742295Z"
    }
   },
   "cell_type": "code",
   "source": [
    "neg_filtered = neg_filtered[~neg_filtered['neg_name'].isin(filter_data['neg_name'])]\n",
    "checking_data(neg_filtered)\n",
    "group_and_count(neg_filtered, \"neg_name\")"
   ],
   "outputs": [
    {
     "name": "stdout",
     "output_type": "stream",
     "text": [
      "Shape of the data frame is: (899, 16)\n",
      "Number of unique values in column 'neg_name': 351 \n",
      "{'gene': 351, 'transcript': 351, '5utr': 17, '3utr': 131, 'CDS': 4}\n"
     ]
    },
    {
     "data": {
      "text/plain": [
       "                                                 notes  count\n",
       "0                                                  NaN    350\n",
       "1          Vps23_core_domain_containing_protein|Li1040      2\n",
       "2                         Peroxisomal_membrane_protein      2\n",
       "3                               Cardiolipin_synthetase      2\n",
       "4    eukaryotic_translation_initiation_factor_2-alp...      2\n",
       "..                                                 ...    ...\n",
       "140               Haloacid_dehalogenase-like_hydrolase      1\n",
       "141  protein-l-isoaspartate_o-methyltransferase_-_p...      1\n",
       "142                 2′-O-ribose_methyltransferase|MTr1      1\n",
       "143           mitochondrial_carrier_protein_-_putative      1\n",
       "144            adaptin_complex_1_subunit|beta_adaptin       1\n",
       "\n",
       "[145 rows x 2 columns]"
      ],
      "text/html": [
       "<div>\n",
       "<style scoped>\n",
       "    .dataframe tbody tr th:only-of-type {\n",
       "        vertical-align: middle;\n",
       "    }\n",
       "\n",
       "    .dataframe tbody tr th {\n",
       "        vertical-align: top;\n",
       "    }\n",
       "\n",
       "    .dataframe thead th {\n",
       "        text-align: right;\n",
       "    }\n",
       "</style>\n",
       "<table border=\"1\" class=\"dataframe\">\n",
       "  <thead>\n",
       "    <tr style=\"text-align: right;\">\n",
       "      <th></th>\n",
       "      <th>notes</th>\n",
       "      <th>count</th>\n",
       "    </tr>\n",
       "  </thead>\n",
       "  <tbody>\n",
       "    <tr>\n",
       "      <th>0</th>\n",
       "      <td>NaN</td>\n",
       "      <td>350</td>\n",
       "    </tr>\n",
       "    <tr>\n",
       "      <th>1</th>\n",
       "      <td>Vps23_core_domain_containing_protein|Li1040</td>\n",
       "      <td>2</td>\n",
       "    </tr>\n",
       "    <tr>\n",
       "      <th>2</th>\n",
       "      <td>Peroxisomal_membrane_protein</td>\n",
       "      <td>2</td>\n",
       "    </tr>\n",
       "    <tr>\n",
       "      <th>3</th>\n",
       "      <td>Cardiolipin_synthetase</td>\n",
       "      <td>2</td>\n",
       "    </tr>\n",
       "    <tr>\n",
       "      <th>4</th>\n",
       "      <td>eukaryotic_translation_initiation_factor_2-alp...</td>\n",
       "      <td>2</td>\n",
       "    </tr>\n",
       "    <tr>\n",
       "      <th>...</th>\n",
       "      <td>...</td>\n",
       "      <td>...</td>\n",
       "    </tr>\n",
       "    <tr>\n",
       "      <th>140</th>\n",
       "      <td>Haloacid_dehalogenase-like_hydrolase</td>\n",
       "      <td>1</td>\n",
       "    </tr>\n",
       "    <tr>\n",
       "      <th>141</th>\n",
       "      <td>protein-l-isoaspartate_o-methyltransferase_-_p...</td>\n",
       "      <td>1</td>\n",
       "    </tr>\n",
       "    <tr>\n",
       "      <th>142</th>\n",
       "      <td>2′-O-ribose_methyltransferase|MTr1</td>\n",
       "      <td>1</td>\n",
       "    </tr>\n",
       "    <tr>\n",
       "      <th>143</th>\n",
       "      <td>mitochondrial_carrier_protein_-_putative</td>\n",
       "      <td>1</td>\n",
       "    </tr>\n",
       "    <tr>\n",
       "      <th>144</th>\n",
       "      <td>adaptin_complex_1_subunit|beta_adaptin</td>\n",
       "      <td>1</td>\n",
       "    </tr>\n",
       "  </tbody>\n",
       "</table>\n",
       "<p>145 rows × 2 columns</p>\n",
       "</div>"
      ]
     },
     "execution_count": 209,
     "metadata": {},
     "output_type": "execute_result"
    }
   ],
   "execution_count": 209
  },
  {
   "metadata": {},
   "cell_type": "markdown",
   "source": "### Checking: vps23"
  },
  {
   "metadata": {
    "ExecuteTime": {
     "end_time": "2024-10-07T22:35:09.685306Z",
     "start_time": "2024-10-07T22:35:09.678583Z"
    }
   },
   "cell_type": "code",
   "source": [
    "filter_data = search_string(neg_filtered, \"vps23\")\n",
    "print(\"=\"*50)\n",
    "print(filter_data['notes'].value_counts())\n",
    "filter_data.loc[\n",
    "    filter_data[\"gene\"] == True,\n",
    "    ['neg_name', 'chrom', 'gene_id', 'notes', 'start', 'end']\n",
    "]"
   ],
   "outputs": [
    {
     "name": "stdout",
     "output_type": "stream",
     "text": [
      "The of filtered data: (4, 16)\n",
      "The unique values in column 'neg_name': 2\n",
      "==================================================\n",
      "notes\n",
      "Vps23_core_domain_containing_protein|Li1040    4\n",
      "Name: count, dtype: int64\n"
     ]
    },
    {
     "data": {
      "text/plain": [
       "                       neg_name    chrom         gene_id  \\\n",
       "1252  rejected_noCDS_c32.4640BL  LinJ.32  LINF_320015500   \n",
       "1254  rejected_noCDS_c32.4650BM  LinJ.32  LINF_320015500   \n",
       "\n",
       "                                            notes   start     end  \n",
       "1252  Vps23_core_domain_containing_protein|Li1040  391856  395482  \n",
       "1254  Vps23_core_domain_containing_protein|Li1040  391856  395482  "
      ],
      "text/html": [
       "<div>\n",
       "<style scoped>\n",
       "    .dataframe tbody tr th:only-of-type {\n",
       "        vertical-align: middle;\n",
       "    }\n",
       "\n",
       "    .dataframe tbody tr th {\n",
       "        vertical-align: top;\n",
       "    }\n",
       "\n",
       "    .dataframe thead th {\n",
       "        text-align: right;\n",
       "    }\n",
       "</style>\n",
       "<table border=\"1\" class=\"dataframe\">\n",
       "  <thead>\n",
       "    <tr style=\"text-align: right;\">\n",
       "      <th></th>\n",
       "      <th>neg_name</th>\n",
       "      <th>chrom</th>\n",
       "      <th>gene_id</th>\n",
       "      <th>notes</th>\n",
       "      <th>start</th>\n",
       "      <th>end</th>\n",
       "    </tr>\n",
       "  </thead>\n",
       "  <tbody>\n",
       "    <tr>\n",
       "      <th>1252</th>\n",
       "      <td>rejected_noCDS_c32.4640BL</td>\n",
       "      <td>LinJ.32</td>\n",
       "      <td>LINF_320015500</td>\n",
       "      <td>Vps23_core_domain_containing_protein|Li1040</td>\n",
       "      <td>391856</td>\n",
       "      <td>395482</td>\n",
       "    </tr>\n",
       "    <tr>\n",
       "      <th>1254</th>\n",
       "      <td>rejected_noCDS_c32.4650BM</td>\n",
       "      <td>LinJ.32</td>\n",
       "      <td>LINF_320015500</td>\n",
       "      <td>Vps23_core_domain_containing_protein|Li1040</td>\n",
       "      <td>391856</td>\n",
       "      <td>395482</td>\n",
       "    </tr>\n",
       "  </tbody>\n",
       "</table>\n",
       "</div>"
      ]
     },
     "execution_count": 210,
     "metadata": {},
     "output_type": "execute_result"
    }
   ],
   "execution_count": 210
  },
  {
   "metadata": {
    "ExecuteTime": {
     "end_time": "2024-10-07T22:35:23.452768Z",
     "start_time": "2024-10-07T22:35:23.446035Z"
    }
   },
   "cell_type": "code",
   "source": "check_family(neg_to_filter, \"BL\")",
   "outputs": [
    {
     "data": {
      "text/plain": [
       "                       neg_name    chrom         gene_id  \\\n",
       "1242  rejected_noCDS_c32.4600BL  LinJ.32  LINF_320014830   \n",
       "1246  rejected_noCDS_c32.4620BL  LinJ.32  LINF_320015400   \n",
       "1252  rejected_noCDS_c32.4640BL  LinJ.32  LINF_320015500   \n",
       "\n",
       "                                            notes   start     end  \n",
       "1242                                          NaN  345025  351432  \n",
       "1246             hypothetical_protein_-_conserved  374515  391521  \n",
       "1252  Vps23_core_domain_containing_protein|Li1040  391856  395482  "
      ],
      "text/html": [
       "<div>\n",
       "<style scoped>\n",
       "    .dataframe tbody tr th:only-of-type {\n",
       "        vertical-align: middle;\n",
       "    }\n",
       "\n",
       "    .dataframe tbody tr th {\n",
       "        vertical-align: top;\n",
       "    }\n",
       "\n",
       "    .dataframe thead th {\n",
       "        text-align: right;\n",
       "    }\n",
       "</style>\n",
       "<table border=\"1\" class=\"dataframe\">\n",
       "  <thead>\n",
       "    <tr style=\"text-align: right;\">\n",
       "      <th></th>\n",
       "      <th>neg_name</th>\n",
       "      <th>chrom</th>\n",
       "      <th>gene_id</th>\n",
       "      <th>notes</th>\n",
       "      <th>start</th>\n",
       "      <th>end</th>\n",
       "    </tr>\n",
       "  </thead>\n",
       "  <tbody>\n",
       "    <tr>\n",
       "      <th>1242</th>\n",
       "      <td>rejected_noCDS_c32.4600BL</td>\n",
       "      <td>LinJ.32</td>\n",
       "      <td>LINF_320014830</td>\n",
       "      <td>NaN</td>\n",
       "      <td>345025</td>\n",
       "      <td>351432</td>\n",
       "    </tr>\n",
       "    <tr>\n",
       "      <th>1246</th>\n",
       "      <td>rejected_noCDS_c32.4620BL</td>\n",
       "      <td>LinJ.32</td>\n",
       "      <td>LINF_320015400</td>\n",
       "      <td>hypothetical_protein_-_conserved</td>\n",
       "      <td>374515</td>\n",
       "      <td>391521</td>\n",
       "    </tr>\n",
       "    <tr>\n",
       "      <th>1252</th>\n",
       "      <td>rejected_noCDS_c32.4640BL</td>\n",
       "      <td>LinJ.32</td>\n",
       "      <td>LINF_320015500</td>\n",
       "      <td>Vps23_core_domain_containing_protein|Li1040</td>\n",
       "      <td>391856</td>\n",
       "      <td>395482</td>\n",
       "    </tr>\n",
       "  </tbody>\n",
       "</table>\n",
       "</div>"
      ]
     },
     "execution_count": 211,
     "metadata": {},
     "output_type": "execute_result"
    }
   ],
   "execution_count": 211
  },
  {
   "metadata": {
    "ExecuteTime": {
     "end_time": "2024-10-07T22:35:36.846703Z",
     "start_time": "2024-10-07T22:35:36.840278Z"
    }
   },
   "cell_type": "code",
   "source": "check_family(neg_to_filter, \"BM\")",
   "outputs": [
    {
     "data": {
      "text/plain": [
       "                       neg_name    chrom         gene_id  \\\n",
       "1244  rejected_noCDS_c32.4610BM  LinJ.32  LINF_320014830   \n",
       "1248  rejected_noCDS_c32.4630BM  LinJ.32  LINF_320015400   \n",
       "1254  rejected_noCDS_c32.4650BM  LinJ.32  LINF_320015500   \n",
       "\n",
       "                                            notes   start     end  \n",
       "1244                                          NaN  345025  351432  \n",
       "1248             hypothetical_protein_-_conserved  374515  391521  \n",
       "1254  Vps23_core_domain_containing_protein|Li1040  391856  395482  "
      ],
      "text/html": [
       "<div>\n",
       "<style scoped>\n",
       "    .dataframe tbody tr th:only-of-type {\n",
       "        vertical-align: middle;\n",
       "    }\n",
       "\n",
       "    .dataframe tbody tr th {\n",
       "        vertical-align: top;\n",
       "    }\n",
       "\n",
       "    .dataframe thead th {\n",
       "        text-align: right;\n",
       "    }\n",
       "</style>\n",
       "<table border=\"1\" class=\"dataframe\">\n",
       "  <thead>\n",
       "    <tr style=\"text-align: right;\">\n",
       "      <th></th>\n",
       "      <th>neg_name</th>\n",
       "      <th>chrom</th>\n",
       "      <th>gene_id</th>\n",
       "      <th>notes</th>\n",
       "      <th>start</th>\n",
       "      <th>end</th>\n",
       "    </tr>\n",
       "  </thead>\n",
       "  <tbody>\n",
       "    <tr>\n",
       "      <th>1244</th>\n",
       "      <td>rejected_noCDS_c32.4610BM</td>\n",
       "      <td>LinJ.32</td>\n",
       "      <td>LINF_320014830</td>\n",
       "      <td>NaN</td>\n",
       "      <td>345025</td>\n",
       "      <td>351432</td>\n",
       "    </tr>\n",
       "    <tr>\n",
       "      <th>1248</th>\n",
       "      <td>rejected_noCDS_c32.4630BM</td>\n",
       "      <td>LinJ.32</td>\n",
       "      <td>LINF_320015400</td>\n",
       "      <td>hypothetical_protein_-_conserved</td>\n",
       "      <td>374515</td>\n",
       "      <td>391521</td>\n",
       "    </tr>\n",
       "    <tr>\n",
       "      <th>1254</th>\n",
       "      <td>rejected_noCDS_c32.4650BM</td>\n",
       "      <td>LinJ.32</td>\n",
       "      <td>LINF_320015500</td>\n",
       "      <td>Vps23_core_domain_containing_protein|Li1040</td>\n",
       "      <td>391856</td>\n",
       "      <td>395482</td>\n",
       "    </tr>\n",
       "  </tbody>\n",
       "</table>\n",
       "</div>"
      ]
     },
     "execution_count": 212,
     "metadata": {},
     "output_type": "execute_result"
    }
   ],
   "execution_count": 212
  },
  {
   "metadata": {
    "ExecuteTime": {
     "end_time": "2024-10-07T22:37:40.165162Z",
     "start_time": "2024-10-07T22:37:40.161695Z"
    }
   },
   "cell_type": "code",
   "source": [
    "filter_data = neg_filtered[neg_filtered['neg_name'].isin(filter_data['neg_name'])]\n",
    "checking_data(filter_data)"
   ],
   "outputs": [
    {
     "name": "stdout",
     "output_type": "stream",
     "text": [
      "Shape of the data frame is: (6, 16)\n",
      "Number of unique values in column 'neg_name': 2 \n"
     ]
    }
   ],
   "execution_count": 213
  },
  {
   "metadata": {
    "ExecuteTime": {
     "end_time": "2024-10-07T22:37:44.828930Z",
     "start_time": "2024-10-07T22:37:44.825582Z"
    }
   },
   "cell_type": "code",
   "source": [
    "good_negatives = pd.concat([good_negatives, filter_data])\n",
    "checking_data(good_negatives)"
   ],
   "outputs": [
    {
     "name": "stdout",
     "output_type": "stream",
     "text": [
      "Shape of the data frame is: (717, 16)\n",
      "Number of unique values in column 'neg_name': 217 \n"
     ]
    }
   ],
   "execution_count": 214
  },
  {
   "metadata": {
    "ExecuteTime": {
     "end_time": "2024-10-07T22:37:51.180627Z",
     "start_time": "2024-10-07T22:37:51.062226Z"
    }
   },
   "cell_type": "code",
   "source": [
    "neg_filtered = neg_filtered[~neg_filtered['neg_name'].isin(filter_data['neg_name'])]\n",
    "checking_data(neg_filtered)\n",
    "group_and_count(neg_filtered, \"neg_name\")"
   ],
   "outputs": [
    {
     "name": "stdout",
     "output_type": "stream",
     "text": [
      "Shape of the data frame is: (893, 16)\n",
      "Number of unique values in column 'neg_name': 349 \n",
      "{'gene': 349, 'transcript': 349, '5utr': 17, '3utr': 129, 'CDS': 4}\n"
     ]
    },
    {
     "data": {
      "text/plain": [
       "                                                 notes  count\n",
       "0                                                  NaN    348\n",
       "1                         Peroxisomal_membrane_protein      2\n",
       "2                               Cardiolipin_synthetase      2\n",
       "3    eukaryotic_translation_initiation_factor_2-alp...      2\n",
       "4        calcineurin-like_phosphoesterase-like_protein      2\n",
       "..                                                 ...    ...\n",
       "139               Haloacid_dehalogenase-like_hydrolase      1\n",
       "140  protein-l-isoaspartate_o-methyltransferase_-_p...      1\n",
       "141                 2′-O-ribose_methyltransferase|MTr1      1\n",
       "142           mitochondrial_carrier_protein_-_putative      1\n",
       "143            adaptin_complex_1_subunit|beta_adaptin       1\n",
       "\n",
       "[144 rows x 2 columns]"
      ],
      "text/html": [
       "<div>\n",
       "<style scoped>\n",
       "    .dataframe tbody tr th:only-of-type {\n",
       "        vertical-align: middle;\n",
       "    }\n",
       "\n",
       "    .dataframe tbody tr th {\n",
       "        vertical-align: top;\n",
       "    }\n",
       "\n",
       "    .dataframe thead th {\n",
       "        text-align: right;\n",
       "    }\n",
       "</style>\n",
       "<table border=\"1\" class=\"dataframe\">\n",
       "  <thead>\n",
       "    <tr style=\"text-align: right;\">\n",
       "      <th></th>\n",
       "      <th>notes</th>\n",
       "      <th>count</th>\n",
       "    </tr>\n",
       "  </thead>\n",
       "  <tbody>\n",
       "    <tr>\n",
       "      <th>0</th>\n",
       "      <td>NaN</td>\n",
       "      <td>348</td>\n",
       "    </tr>\n",
       "    <tr>\n",
       "      <th>1</th>\n",
       "      <td>Peroxisomal_membrane_protein</td>\n",
       "      <td>2</td>\n",
       "    </tr>\n",
       "    <tr>\n",
       "      <th>2</th>\n",
       "      <td>Cardiolipin_synthetase</td>\n",
       "      <td>2</td>\n",
       "    </tr>\n",
       "    <tr>\n",
       "      <th>3</th>\n",
       "      <td>eukaryotic_translation_initiation_factor_2-alp...</td>\n",
       "      <td>2</td>\n",
       "    </tr>\n",
       "    <tr>\n",
       "      <th>4</th>\n",
       "      <td>calcineurin-like_phosphoesterase-like_protein</td>\n",
       "      <td>2</td>\n",
       "    </tr>\n",
       "    <tr>\n",
       "      <th>...</th>\n",
       "      <td>...</td>\n",
       "      <td>...</td>\n",
       "    </tr>\n",
       "    <tr>\n",
       "      <th>139</th>\n",
       "      <td>Haloacid_dehalogenase-like_hydrolase</td>\n",
       "      <td>1</td>\n",
       "    </tr>\n",
       "    <tr>\n",
       "      <th>140</th>\n",
       "      <td>protein-l-isoaspartate_o-methyltransferase_-_p...</td>\n",
       "      <td>1</td>\n",
       "    </tr>\n",
       "    <tr>\n",
       "      <th>141</th>\n",
       "      <td>2′-O-ribose_methyltransferase|MTr1</td>\n",
       "      <td>1</td>\n",
       "    </tr>\n",
       "    <tr>\n",
       "      <th>142</th>\n",
       "      <td>mitochondrial_carrier_protein_-_putative</td>\n",
       "      <td>1</td>\n",
       "    </tr>\n",
       "    <tr>\n",
       "      <th>143</th>\n",
       "      <td>adaptin_complex_1_subunit|beta_adaptin</td>\n",
       "      <td>1</td>\n",
       "    </tr>\n",
       "  </tbody>\n",
       "</table>\n",
       "<p>144 rows × 2 columns</p>\n",
       "</div>"
      ]
     },
     "execution_count": 215,
     "metadata": {},
     "output_type": "execute_result"
    }
   ],
   "execution_count": 215
  },
  {
   "metadata": {},
   "cell_type": "markdown",
   "source": "### Checking: peroxisomal membrane"
  },
  {
   "metadata": {
    "ExecuteTime": {
     "end_time": "2024-10-07T22:38:18.194608Z",
     "start_time": "2024-10-07T22:38:18.187931Z"
    }
   },
   "cell_type": "code",
   "source": [
    "filter_data = search_string(neg_filtered, \"peroxisomal\")\n",
    "print(\"=\"*50)\n",
    "print(filter_data['notes'].value_counts())\n",
    "filter_data.loc[\n",
    "    filter_data[\"gene\"] == True,\n",
    "    ['neg_name', 'chrom', 'gene_id', 'notes', 'start', 'end']\n",
    "]"
   ],
   "outputs": [
    {
     "name": "stdout",
     "output_type": "stream",
     "text": [
      "The of filtered data: (4, 16)\n",
      "The unique values in column 'neg_name': 2\n",
      "==================================================\n",
      "notes\n",
      "Peroxisomal_membrane_protein    4\n",
      "Name: count, dtype: int64\n"
     ]
    },
    {
     "data": {
      "text/plain": [
       "                     neg_name    chrom         gene_id  \\\n",
       "1297  rejected_noCDS_c33.4790  LinJ.33  LINF_330007900   \n",
       "1300  rejected_noCDS_c33.4800  LinJ.33  LINF_330007900   \n",
       "\n",
       "                             notes  start    end  \n",
       "1297  Peroxisomal_membrane_protein  81344  85743  \n",
       "1300  Peroxisomal_membrane_protein  81344  85743  "
      ],
      "text/html": [
       "<div>\n",
       "<style scoped>\n",
       "    .dataframe tbody tr th:only-of-type {\n",
       "        vertical-align: middle;\n",
       "    }\n",
       "\n",
       "    .dataframe tbody tr th {\n",
       "        vertical-align: top;\n",
       "    }\n",
       "\n",
       "    .dataframe thead th {\n",
       "        text-align: right;\n",
       "    }\n",
       "</style>\n",
       "<table border=\"1\" class=\"dataframe\">\n",
       "  <thead>\n",
       "    <tr style=\"text-align: right;\">\n",
       "      <th></th>\n",
       "      <th>neg_name</th>\n",
       "      <th>chrom</th>\n",
       "      <th>gene_id</th>\n",
       "      <th>notes</th>\n",
       "      <th>start</th>\n",
       "      <th>end</th>\n",
       "    </tr>\n",
       "  </thead>\n",
       "  <tbody>\n",
       "    <tr>\n",
       "      <th>1297</th>\n",
       "      <td>rejected_noCDS_c33.4790</td>\n",
       "      <td>LinJ.33</td>\n",
       "      <td>LINF_330007900</td>\n",
       "      <td>Peroxisomal_membrane_protein</td>\n",
       "      <td>81344</td>\n",
       "      <td>85743</td>\n",
       "    </tr>\n",
       "    <tr>\n",
       "      <th>1300</th>\n",
       "      <td>rejected_noCDS_c33.4800</td>\n",
       "      <td>LinJ.33</td>\n",
       "      <td>LINF_330007900</td>\n",
       "      <td>Peroxisomal_membrane_protein</td>\n",
       "      <td>81344</td>\n",
       "      <td>85743</td>\n",
       "    </tr>\n",
       "  </tbody>\n",
       "</table>\n",
       "</div>"
      ]
     },
     "execution_count": 216,
     "metadata": {},
     "output_type": "execute_result"
    }
   ],
   "execution_count": 216
  },
  {
   "metadata": {
    "ExecuteTime": {
     "end_time": "2024-10-07T22:38:36.969090Z",
     "start_time": "2024-10-07T22:38:36.966436Z"
    }
   },
   "cell_type": "code",
   "source": [
    "filter_data = neg_filtered[neg_filtered['neg_name'].isin(filter_data['neg_name'])]\n",
    "checking_data(filter_data)"
   ],
   "outputs": [
    {
     "name": "stdout",
     "output_type": "stream",
     "text": [
      "Shape of the data frame is: (6, 16)\n",
      "Number of unique values in column 'neg_name': 2 \n"
     ]
    }
   ],
   "execution_count": 217
  },
  {
   "metadata": {
    "ExecuteTime": {
     "end_time": "2024-10-07T22:38:41.751902Z",
     "start_time": "2024-10-07T22:38:41.748973Z"
    }
   },
   "cell_type": "code",
   "source": [
    "good_negatives = pd.concat([good_negatives, filter_data])\n",
    "checking_data(good_negatives)"
   ],
   "outputs": [
    {
     "name": "stdout",
     "output_type": "stream",
     "text": [
      "Shape of the data frame is: (723, 16)\n",
      "Number of unique values in column 'neg_name': 219 \n"
     ]
    }
   ],
   "execution_count": 218
  },
  {
   "metadata": {
    "ExecuteTime": {
     "end_time": "2024-10-07T22:38:50.909483Z",
     "start_time": "2024-10-07T22:38:50.788786Z"
    }
   },
   "cell_type": "code",
   "source": [
    "neg_filtered = neg_filtered[~neg_filtered['neg_name'].isin(filter_data['neg_name'])]\n",
    "checking_data(neg_filtered)\n",
    "group_and_count(neg_filtered, \"neg_name\")"
   ],
   "outputs": [
    {
     "name": "stdout",
     "output_type": "stream",
     "text": [
      "Shape of the data frame is: (887, 16)\n",
      "Number of unique values in column 'neg_name': 347 \n",
      "{'gene': 347, 'transcript': 347, '5utr': 17, '3utr': 127, 'CDS': 4}\n"
     ]
    },
    {
     "data": {
      "text/plain": [
       "                                                 notes  count\n",
       "0                                                  NaN    346\n",
       "1                               Cardiolipin_synthetase      2\n",
       "2    eukaryotic_translation_initiation_factor_2-alp...      2\n",
       "3        calcineurin-like_phosphoesterase-like_protein      2\n",
       "4                    NADH-dependent_fumarate_reductase      2\n",
       "..                                                 ...    ...\n",
       "138               Haloacid_dehalogenase-like_hydrolase      1\n",
       "139  protein-l-isoaspartate_o-methyltransferase_-_p...      1\n",
       "140                 2′-O-ribose_methyltransferase|MTr1      1\n",
       "141           mitochondrial_carrier_protein_-_putative      1\n",
       "142            adaptin_complex_1_subunit|beta_adaptin       1\n",
       "\n",
       "[143 rows x 2 columns]"
      ],
      "text/html": [
       "<div>\n",
       "<style scoped>\n",
       "    .dataframe tbody tr th:only-of-type {\n",
       "        vertical-align: middle;\n",
       "    }\n",
       "\n",
       "    .dataframe tbody tr th {\n",
       "        vertical-align: top;\n",
       "    }\n",
       "\n",
       "    .dataframe thead th {\n",
       "        text-align: right;\n",
       "    }\n",
       "</style>\n",
       "<table border=\"1\" class=\"dataframe\">\n",
       "  <thead>\n",
       "    <tr style=\"text-align: right;\">\n",
       "      <th></th>\n",
       "      <th>notes</th>\n",
       "      <th>count</th>\n",
       "    </tr>\n",
       "  </thead>\n",
       "  <tbody>\n",
       "    <tr>\n",
       "      <th>0</th>\n",
       "      <td>NaN</td>\n",
       "      <td>346</td>\n",
       "    </tr>\n",
       "    <tr>\n",
       "      <th>1</th>\n",
       "      <td>Cardiolipin_synthetase</td>\n",
       "      <td>2</td>\n",
       "    </tr>\n",
       "    <tr>\n",
       "      <th>2</th>\n",
       "      <td>eukaryotic_translation_initiation_factor_2-alp...</td>\n",
       "      <td>2</td>\n",
       "    </tr>\n",
       "    <tr>\n",
       "      <th>3</th>\n",
       "      <td>calcineurin-like_phosphoesterase-like_protein</td>\n",
       "      <td>2</td>\n",
       "    </tr>\n",
       "    <tr>\n",
       "      <th>4</th>\n",
       "      <td>NADH-dependent_fumarate_reductase</td>\n",
       "      <td>2</td>\n",
       "    </tr>\n",
       "    <tr>\n",
       "      <th>...</th>\n",
       "      <td>...</td>\n",
       "      <td>...</td>\n",
       "    </tr>\n",
       "    <tr>\n",
       "      <th>138</th>\n",
       "      <td>Haloacid_dehalogenase-like_hydrolase</td>\n",
       "      <td>1</td>\n",
       "    </tr>\n",
       "    <tr>\n",
       "      <th>139</th>\n",
       "      <td>protein-l-isoaspartate_o-methyltransferase_-_p...</td>\n",
       "      <td>1</td>\n",
       "    </tr>\n",
       "    <tr>\n",
       "      <th>140</th>\n",
       "      <td>2′-O-ribose_methyltransferase|MTr1</td>\n",
       "      <td>1</td>\n",
       "    </tr>\n",
       "    <tr>\n",
       "      <th>141</th>\n",
       "      <td>mitochondrial_carrier_protein_-_putative</td>\n",
       "      <td>1</td>\n",
       "    </tr>\n",
       "    <tr>\n",
       "      <th>142</th>\n",
       "      <td>adaptin_complex_1_subunit|beta_adaptin</td>\n",
       "      <td>1</td>\n",
       "    </tr>\n",
       "  </tbody>\n",
       "</table>\n",
       "<p>143 rows × 2 columns</p>\n",
       "</div>"
      ]
     },
     "execution_count": 219,
     "metadata": {},
     "output_type": "execute_result"
    }
   ],
   "execution_count": 219
  },
  {
   "metadata": {},
   "cell_type": "markdown",
   "source": "### Checking: cardiolipin"
  },
  {
   "metadata": {
    "ExecuteTime": {
     "end_time": "2024-10-07T22:39:54.344013Z",
     "start_time": "2024-10-07T22:39:54.336892Z"
    }
   },
   "cell_type": "code",
   "source": [
    "filter_data = search_string(neg_filtered, \"cardiolipin\")\n",
    "print(\"=\"*50)\n",
    "print(filter_data['notes'].value_counts())\n",
    "filter_data.loc[\n",
    "    filter_data[\"gene\"] == True,\n",
    "    ['neg_name', 'chrom', 'gene_id', 'notes', 'start', 'end']\n",
    "]"
   ],
   "outputs": [
    {
     "name": "stdout",
     "output_type": "stream",
     "text": [
      "The of filtered data: (4, 16)\n",
      "The unique values in column 'neg_name': 2\n",
      "==================================================\n",
      "notes\n",
      "Cardiolipin_synthetase    4\n",
      "Name: count, dtype: int64\n"
     ]
    },
    {
     "data": {
      "text/plain": [
       "                       neg_name    chrom         gene_id  \\\n",
       "1475  rejected_noCDS_c34.5440BV  LinJ.34  LINF_340026200   \n",
       "1478  rejected_noCDS_c34.5450BW  LinJ.34  LINF_340026200   \n",
       "\n",
       "                       notes   start     end  \n",
       "1475  Cardiolipin_synthetase  889011  895326  \n",
       "1478  Cardiolipin_synthetase  889011  895326  "
      ],
      "text/html": [
       "<div>\n",
       "<style scoped>\n",
       "    .dataframe tbody tr th:only-of-type {\n",
       "        vertical-align: middle;\n",
       "    }\n",
       "\n",
       "    .dataframe tbody tr th {\n",
       "        vertical-align: top;\n",
       "    }\n",
       "\n",
       "    .dataframe thead th {\n",
       "        text-align: right;\n",
       "    }\n",
       "</style>\n",
       "<table border=\"1\" class=\"dataframe\">\n",
       "  <thead>\n",
       "    <tr style=\"text-align: right;\">\n",
       "      <th></th>\n",
       "      <th>neg_name</th>\n",
       "      <th>chrom</th>\n",
       "      <th>gene_id</th>\n",
       "      <th>notes</th>\n",
       "      <th>start</th>\n",
       "      <th>end</th>\n",
       "    </tr>\n",
       "  </thead>\n",
       "  <tbody>\n",
       "    <tr>\n",
       "      <th>1475</th>\n",
       "      <td>rejected_noCDS_c34.5440BV</td>\n",
       "      <td>LinJ.34</td>\n",
       "      <td>LINF_340026200</td>\n",
       "      <td>Cardiolipin_synthetase</td>\n",
       "      <td>889011</td>\n",
       "      <td>895326</td>\n",
       "    </tr>\n",
       "    <tr>\n",
       "      <th>1478</th>\n",
       "      <td>rejected_noCDS_c34.5450BW</td>\n",
       "      <td>LinJ.34</td>\n",
       "      <td>LINF_340026200</td>\n",
       "      <td>Cardiolipin_synthetase</td>\n",
       "      <td>889011</td>\n",
       "      <td>895326</td>\n",
       "    </tr>\n",
       "  </tbody>\n",
       "</table>\n",
       "</div>"
      ]
     },
     "execution_count": 220,
     "metadata": {},
     "output_type": "execute_result"
    }
   ],
   "execution_count": 220
  },
  {
   "metadata": {
    "ExecuteTime": {
     "end_time": "2024-10-07T22:40:09.181640Z",
     "start_time": "2024-10-07T22:40:09.175637Z"
    }
   },
   "cell_type": "code",
   "source": "check_family(neg_to_filter, \"BV\")",
   "outputs": [
    {
     "data": {
      "text/plain": [
       "                       neg_name    chrom         gene_id  \\\n",
       "1475  rejected_noCDS_c34.5440BV  LinJ.34  LINF_340026200   \n",
       "1481  rejected_noCDS_c34.5460BV  LinJ.34  LINF_340026700   \n",
       "1490  rejected_noCDS_c34.5490BV  LinJ.34  LINF_340027100   \n",
       "\n",
       "                                                  notes   start     end  \n",
       "1475                             Cardiolipin_synthetase  889011  895326  \n",
       "1481  eukaryotic_translation_initiation_factor_2-alp...  902943  911956  \n",
       "1490               Dual_specificity_protein_phosphatase  923279  937617  "
      ],
      "text/html": [
       "<div>\n",
       "<style scoped>\n",
       "    .dataframe tbody tr th:only-of-type {\n",
       "        vertical-align: middle;\n",
       "    }\n",
       "\n",
       "    .dataframe tbody tr th {\n",
       "        vertical-align: top;\n",
       "    }\n",
       "\n",
       "    .dataframe thead th {\n",
       "        text-align: right;\n",
       "    }\n",
       "</style>\n",
       "<table border=\"1\" class=\"dataframe\">\n",
       "  <thead>\n",
       "    <tr style=\"text-align: right;\">\n",
       "      <th></th>\n",
       "      <th>neg_name</th>\n",
       "      <th>chrom</th>\n",
       "      <th>gene_id</th>\n",
       "      <th>notes</th>\n",
       "      <th>start</th>\n",
       "      <th>end</th>\n",
       "    </tr>\n",
       "  </thead>\n",
       "  <tbody>\n",
       "    <tr>\n",
       "      <th>1475</th>\n",
       "      <td>rejected_noCDS_c34.5440BV</td>\n",
       "      <td>LinJ.34</td>\n",
       "      <td>LINF_340026200</td>\n",
       "      <td>Cardiolipin_synthetase</td>\n",
       "      <td>889011</td>\n",
       "      <td>895326</td>\n",
       "    </tr>\n",
       "    <tr>\n",
       "      <th>1481</th>\n",
       "      <td>rejected_noCDS_c34.5460BV</td>\n",
       "      <td>LinJ.34</td>\n",
       "      <td>LINF_340026700</td>\n",
       "      <td>eukaryotic_translation_initiation_factor_2-alp...</td>\n",
       "      <td>902943</td>\n",
       "      <td>911956</td>\n",
       "    </tr>\n",
       "    <tr>\n",
       "      <th>1490</th>\n",
       "      <td>rejected_noCDS_c34.5490BV</td>\n",
       "      <td>LinJ.34</td>\n",
       "      <td>LINF_340027100</td>\n",
       "      <td>Dual_specificity_protein_phosphatase</td>\n",
       "      <td>923279</td>\n",
       "      <td>937617</td>\n",
       "    </tr>\n",
       "  </tbody>\n",
       "</table>\n",
       "</div>"
      ]
     },
     "execution_count": 221,
     "metadata": {},
     "output_type": "execute_result"
    }
   ],
   "execution_count": 221
  },
  {
   "metadata": {
    "ExecuteTime": {
     "end_time": "2024-10-07T22:40:24.501636Z",
     "start_time": "2024-10-07T22:40:24.495320Z"
    }
   },
   "cell_type": "code",
   "source": "check_family(neg_to_filter, \"BW\")",
   "outputs": [
    {
     "data": {
      "text/plain": [
       "                       neg_name    chrom         gene_id  \\\n",
       "1478  rejected_noCDS_c34.5450BW  LinJ.34  LINF_340026200   \n",
       "1484  rejected_noCDS_c34.5470BW  LinJ.34  LINF_340026700   \n",
       "1493  rejected_noCDS_c34.5500BW  LinJ.34  LINF_340027100   \n",
       "\n",
       "                                                  notes   start     end  \n",
       "1478                             Cardiolipin_synthetase  889011  895326  \n",
       "1484  eukaryotic_translation_initiation_factor_2-alp...  902943  911956  \n",
       "1493               Dual_specificity_protein_phosphatase  923279  937617  "
      ],
      "text/html": [
       "<div>\n",
       "<style scoped>\n",
       "    .dataframe tbody tr th:only-of-type {\n",
       "        vertical-align: middle;\n",
       "    }\n",
       "\n",
       "    .dataframe tbody tr th {\n",
       "        vertical-align: top;\n",
       "    }\n",
       "\n",
       "    .dataframe thead th {\n",
       "        text-align: right;\n",
       "    }\n",
       "</style>\n",
       "<table border=\"1\" class=\"dataframe\">\n",
       "  <thead>\n",
       "    <tr style=\"text-align: right;\">\n",
       "      <th></th>\n",
       "      <th>neg_name</th>\n",
       "      <th>chrom</th>\n",
       "      <th>gene_id</th>\n",
       "      <th>notes</th>\n",
       "      <th>start</th>\n",
       "      <th>end</th>\n",
       "    </tr>\n",
       "  </thead>\n",
       "  <tbody>\n",
       "    <tr>\n",
       "      <th>1478</th>\n",
       "      <td>rejected_noCDS_c34.5450BW</td>\n",
       "      <td>LinJ.34</td>\n",
       "      <td>LINF_340026200</td>\n",
       "      <td>Cardiolipin_synthetase</td>\n",
       "      <td>889011</td>\n",
       "      <td>895326</td>\n",
       "    </tr>\n",
       "    <tr>\n",
       "      <th>1484</th>\n",
       "      <td>rejected_noCDS_c34.5470BW</td>\n",
       "      <td>LinJ.34</td>\n",
       "      <td>LINF_340026700</td>\n",
       "      <td>eukaryotic_translation_initiation_factor_2-alp...</td>\n",
       "      <td>902943</td>\n",
       "      <td>911956</td>\n",
       "    </tr>\n",
       "    <tr>\n",
       "      <th>1493</th>\n",
       "      <td>rejected_noCDS_c34.5500BW</td>\n",
       "      <td>LinJ.34</td>\n",
       "      <td>LINF_340027100</td>\n",
       "      <td>Dual_specificity_protein_phosphatase</td>\n",
       "      <td>923279</td>\n",
       "      <td>937617</td>\n",
       "    </tr>\n",
       "  </tbody>\n",
       "</table>\n",
       "</div>"
      ]
     },
     "execution_count": 222,
     "metadata": {},
     "output_type": "execute_result"
    }
   ],
   "execution_count": 222
  },
  {
   "metadata": {
    "ExecuteTime": {
     "end_time": "2024-10-07T22:41:52.650150Z",
     "start_time": "2024-10-07T22:41:52.647238Z"
    }
   },
   "cell_type": "code",
   "source": [
    "filter_data = neg_filtered[neg_filtered['neg_name'].isin(filter_data['neg_name'])]\n",
    "checking_data(filter_data)"
   ],
   "outputs": [
    {
     "name": "stdout",
     "output_type": "stream",
     "text": [
      "Shape of the data frame is: (6, 16)\n",
      "Number of unique values in column 'neg_name': 2 \n"
     ]
    }
   ],
   "execution_count": 223
  },
  {
   "metadata": {
    "ExecuteTime": {
     "end_time": "2024-10-07T22:41:57.432765Z",
     "start_time": "2024-10-07T22:41:57.429505Z"
    }
   },
   "cell_type": "code",
   "source": [
    "good_negatives = pd.concat([good_negatives, filter_data])\n",
    "checking_data(good_negatives)"
   ],
   "outputs": [
    {
     "name": "stdout",
     "output_type": "stream",
     "text": [
      "Shape of the data frame is: (729, 16)\n",
      "Number of unique values in column 'neg_name': 221 \n"
     ]
    }
   ],
   "execution_count": 224
  },
  {
   "metadata": {
    "ExecuteTime": {
     "end_time": "2024-10-07T22:42:04.171766Z",
     "start_time": "2024-10-07T22:42:04.055251Z"
    }
   },
   "cell_type": "code",
   "source": [
    "neg_filtered = neg_filtered[~neg_filtered['neg_name'].isin(filter_data['neg_name'])]\n",
    "checking_data(neg_filtered)\n",
    "group_and_count(neg_filtered, \"neg_name\")"
   ],
   "outputs": [
    {
     "name": "stdout",
     "output_type": "stream",
     "text": [
      "Shape of the data frame is: (881, 16)\n",
      "Number of unique values in column 'neg_name': 345 \n",
      "{'gene': 345, 'transcript': 345, '5utr': 17, '3utr': 125, 'CDS': 4}\n"
     ]
    },
    {
     "data": {
      "text/plain": [
       "                                                 notes  count\n",
       "0                                                  NaN    344\n",
       "1    eukaryotic_translation_initiation_factor_2-alp...      2\n",
       "2        calcineurin-like_phosphoesterase-like_protein      2\n",
       "3                    NADH-dependent_fumarate_reductase      2\n",
       "4                                 clathrin_heavy_chain      2\n",
       "..                                                 ...    ...\n",
       "137               Haloacid_dehalogenase-like_hydrolase      1\n",
       "138  protein-l-isoaspartate_o-methyltransferase_-_p...      1\n",
       "139                 2′-O-ribose_methyltransferase|MTr1      1\n",
       "140           mitochondrial_carrier_protein_-_putative      1\n",
       "141            adaptin_complex_1_subunit|beta_adaptin       1\n",
       "\n",
       "[142 rows x 2 columns]"
      ],
      "text/html": [
       "<div>\n",
       "<style scoped>\n",
       "    .dataframe tbody tr th:only-of-type {\n",
       "        vertical-align: middle;\n",
       "    }\n",
       "\n",
       "    .dataframe tbody tr th {\n",
       "        vertical-align: top;\n",
       "    }\n",
       "\n",
       "    .dataframe thead th {\n",
       "        text-align: right;\n",
       "    }\n",
       "</style>\n",
       "<table border=\"1\" class=\"dataframe\">\n",
       "  <thead>\n",
       "    <tr style=\"text-align: right;\">\n",
       "      <th></th>\n",
       "      <th>notes</th>\n",
       "      <th>count</th>\n",
       "    </tr>\n",
       "  </thead>\n",
       "  <tbody>\n",
       "    <tr>\n",
       "      <th>0</th>\n",
       "      <td>NaN</td>\n",
       "      <td>344</td>\n",
       "    </tr>\n",
       "    <tr>\n",
       "      <th>1</th>\n",
       "      <td>eukaryotic_translation_initiation_factor_2-alp...</td>\n",
       "      <td>2</td>\n",
       "    </tr>\n",
       "    <tr>\n",
       "      <th>2</th>\n",
       "      <td>calcineurin-like_phosphoesterase-like_protein</td>\n",
       "      <td>2</td>\n",
       "    </tr>\n",
       "    <tr>\n",
       "      <th>3</th>\n",
       "      <td>NADH-dependent_fumarate_reductase</td>\n",
       "      <td>2</td>\n",
       "    </tr>\n",
       "    <tr>\n",
       "      <th>4</th>\n",
       "      <td>clathrin_heavy_chain</td>\n",
       "      <td>2</td>\n",
       "    </tr>\n",
       "    <tr>\n",
       "      <th>...</th>\n",
       "      <td>...</td>\n",
       "      <td>...</td>\n",
       "    </tr>\n",
       "    <tr>\n",
       "      <th>137</th>\n",
       "      <td>Haloacid_dehalogenase-like_hydrolase</td>\n",
       "      <td>1</td>\n",
       "    </tr>\n",
       "    <tr>\n",
       "      <th>138</th>\n",
       "      <td>protein-l-isoaspartate_o-methyltransferase_-_p...</td>\n",
       "      <td>1</td>\n",
       "    </tr>\n",
       "    <tr>\n",
       "      <th>139</th>\n",
       "      <td>2′-O-ribose_methyltransferase|MTr1</td>\n",
       "      <td>1</td>\n",
       "    </tr>\n",
       "    <tr>\n",
       "      <th>140</th>\n",
       "      <td>mitochondrial_carrier_protein_-_putative</td>\n",
       "      <td>1</td>\n",
       "    </tr>\n",
       "    <tr>\n",
       "      <th>141</th>\n",
       "      <td>adaptin_complex_1_subunit|beta_adaptin</td>\n",
       "      <td>1</td>\n",
       "    </tr>\n",
       "  </tbody>\n",
       "</table>\n",
       "<p>142 rows × 2 columns</p>\n",
       "</div>"
      ]
     },
     "execution_count": 225,
     "metadata": {},
     "output_type": "execute_result"
    }
   ],
   "execution_count": 225
  },
  {
   "metadata": {},
   "cell_type": "markdown",
   "source": "### Checking: factor 2"
  },
  {
   "metadata": {
    "ExecuteTime": {
     "end_time": "2024-10-07T22:42:35.483930Z",
     "start_time": "2024-10-07T22:42:35.477345Z"
    }
   },
   "cell_type": "code",
   "source": [
    "filter_data = search_string(neg_filtered, \"factor_2\")\n",
    "print(\"=\"*50)\n",
    "print(filter_data['notes'].value_counts())\n",
    "filter_data.loc[\n",
    "    filter_data[\"gene\"] == True,\n",
    "    ['neg_name', 'chrom', 'gene_id', 'notes', 'start', 'end']\n",
    "]"
   ],
   "outputs": [
    {
     "name": "stdout",
     "output_type": "stream",
     "text": [
      "The of filtered data: (4, 16)\n",
      "The unique values in column 'neg_name': 2\n",
      "==================================================\n",
      "notes\n",
      "eukaryotic_translation_initiation_factor_2-alpha_kinase|eIF2alpha_kinase|PERK|EIF2AK2    4\n",
      "Name: count, dtype: int64\n"
     ]
    },
    {
     "data": {
      "text/plain": [
       "                       neg_name    chrom         gene_id  \\\n",
       "1481  rejected_noCDS_c34.5460BV  LinJ.34  LINF_340026700   \n",
       "1484  rejected_noCDS_c34.5470BW  LinJ.34  LINF_340026700   \n",
       "\n",
       "                                                  notes   start     end  \n",
       "1481  eukaryotic_translation_initiation_factor_2-alp...  902943  911956  \n",
       "1484  eukaryotic_translation_initiation_factor_2-alp...  902943  911956  "
      ],
      "text/html": [
       "<div>\n",
       "<style scoped>\n",
       "    .dataframe tbody tr th:only-of-type {\n",
       "        vertical-align: middle;\n",
       "    }\n",
       "\n",
       "    .dataframe tbody tr th {\n",
       "        vertical-align: top;\n",
       "    }\n",
       "\n",
       "    .dataframe thead th {\n",
       "        text-align: right;\n",
       "    }\n",
       "</style>\n",
       "<table border=\"1\" class=\"dataframe\">\n",
       "  <thead>\n",
       "    <tr style=\"text-align: right;\">\n",
       "      <th></th>\n",
       "      <th>neg_name</th>\n",
       "      <th>chrom</th>\n",
       "      <th>gene_id</th>\n",
       "      <th>notes</th>\n",
       "      <th>start</th>\n",
       "      <th>end</th>\n",
       "    </tr>\n",
       "  </thead>\n",
       "  <tbody>\n",
       "    <tr>\n",
       "      <th>1481</th>\n",
       "      <td>rejected_noCDS_c34.5460BV</td>\n",
       "      <td>LinJ.34</td>\n",
       "      <td>LINF_340026700</td>\n",
       "      <td>eukaryotic_translation_initiation_factor_2-alp...</td>\n",
       "      <td>902943</td>\n",
       "      <td>911956</td>\n",
       "    </tr>\n",
       "    <tr>\n",
       "      <th>1484</th>\n",
       "      <td>rejected_noCDS_c34.5470BW</td>\n",
       "      <td>LinJ.34</td>\n",
       "      <td>LINF_340026700</td>\n",
       "      <td>eukaryotic_translation_initiation_factor_2-alp...</td>\n",
       "      <td>902943</td>\n",
       "      <td>911956</td>\n",
       "    </tr>\n",
       "  </tbody>\n",
       "</table>\n",
       "</div>"
      ]
     },
     "execution_count": 226,
     "metadata": {},
     "output_type": "execute_result"
    }
   ],
   "execution_count": 226
  },
  {
   "metadata": {
    "ExecuteTime": {
     "end_time": "2024-10-07T22:43:15.258947Z",
     "start_time": "2024-10-07T22:43:15.256326Z"
    }
   },
   "cell_type": "code",
   "source": [
    "filter_data = neg_filtered[neg_filtered['neg_name'].isin(filter_data['neg_name'])]\n",
    "checking_data(filter_data)"
   ],
   "outputs": [
    {
     "name": "stdout",
     "output_type": "stream",
     "text": [
      "Shape of the data frame is: (6, 16)\n",
      "Number of unique values in column 'neg_name': 2 \n"
     ]
    }
   ],
   "execution_count": 227
  },
  {
   "metadata": {
    "ExecuteTime": {
     "end_time": "2024-10-07T22:43:18.927989Z",
     "start_time": "2024-10-07T22:43:18.925317Z"
    }
   },
   "cell_type": "code",
   "source": [
    "good_negatives = pd.concat([good_negatives, filter_data])\n",
    "checking_data(good_negatives)"
   ],
   "outputs": [
    {
     "name": "stdout",
     "output_type": "stream",
     "text": [
      "Shape of the data frame is: (735, 16)\n",
      "Number of unique values in column 'neg_name': 223 \n"
     ]
    }
   ],
   "execution_count": 228
  },
  {
   "metadata": {
    "ExecuteTime": {
     "end_time": "2024-10-07T22:43:24.561748Z",
     "start_time": "2024-10-07T22:43:24.446567Z"
    }
   },
   "cell_type": "code",
   "source": [
    "neg_filtered = neg_filtered[~neg_filtered['neg_name'].isin(filter_data['neg_name'])]\n",
    "checking_data(neg_filtered)\n",
    "group_and_count(neg_filtered, \"neg_name\")"
   ],
   "outputs": [
    {
     "name": "stdout",
     "output_type": "stream",
     "text": [
      "Shape of the data frame is: (875, 16)\n",
      "Number of unique values in column 'neg_name': 343 \n",
      "{'gene': 343, 'transcript': 343, '5utr': 17, '3utr': 123, 'CDS': 4}\n"
     ]
    },
    {
     "data": {
      "text/plain": [
       "                                                 notes  count\n",
       "0                                                  NaN    342\n",
       "1        calcineurin-like_phosphoesterase-like_protein      2\n",
       "2                    NADH-dependent_fumarate_reductase      2\n",
       "3                                 clathrin_heavy_chain      2\n",
       "4                                  nicotinamidase|PNC1      1\n",
       "..                                                 ...    ...\n",
       "136               Haloacid_dehalogenase-like_hydrolase      1\n",
       "137  protein-l-isoaspartate_o-methyltransferase_-_p...      1\n",
       "138                 2′-O-ribose_methyltransferase|MTr1      1\n",
       "139           mitochondrial_carrier_protein_-_putative      1\n",
       "140            adaptin_complex_1_subunit|beta_adaptin       1\n",
       "\n",
       "[141 rows x 2 columns]"
      ],
      "text/html": [
       "<div>\n",
       "<style scoped>\n",
       "    .dataframe tbody tr th:only-of-type {\n",
       "        vertical-align: middle;\n",
       "    }\n",
       "\n",
       "    .dataframe tbody tr th {\n",
       "        vertical-align: top;\n",
       "    }\n",
       "\n",
       "    .dataframe thead th {\n",
       "        text-align: right;\n",
       "    }\n",
       "</style>\n",
       "<table border=\"1\" class=\"dataframe\">\n",
       "  <thead>\n",
       "    <tr style=\"text-align: right;\">\n",
       "      <th></th>\n",
       "      <th>notes</th>\n",
       "      <th>count</th>\n",
       "    </tr>\n",
       "  </thead>\n",
       "  <tbody>\n",
       "    <tr>\n",
       "      <th>0</th>\n",
       "      <td>NaN</td>\n",
       "      <td>342</td>\n",
       "    </tr>\n",
       "    <tr>\n",
       "      <th>1</th>\n",
       "      <td>calcineurin-like_phosphoesterase-like_protein</td>\n",
       "      <td>2</td>\n",
       "    </tr>\n",
       "    <tr>\n",
       "      <th>2</th>\n",
       "      <td>NADH-dependent_fumarate_reductase</td>\n",
       "      <td>2</td>\n",
       "    </tr>\n",
       "    <tr>\n",
       "      <th>3</th>\n",
       "      <td>clathrin_heavy_chain</td>\n",
       "      <td>2</td>\n",
       "    </tr>\n",
       "    <tr>\n",
       "      <th>4</th>\n",
       "      <td>nicotinamidase|PNC1</td>\n",
       "      <td>1</td>\n",
       "    </tr>\n",
       "    <tr>\n",
       "      <th>...</th>\n",
       "      <td>...</td>\n",
       "      <td>...</td>\n",
       "    </tr>\n",
       "    <tr>\n",
       "      <th>136</th>\n",
       "      <td>Haloacid_dehalogenase-like_hydrolase</td>\n",
       "      <td>1</td>\n",
       "    </tr>\n",
       "    <tr>\n",
       "      <th>137</th>\n",
       "      <td>protein-l-isoaspartate_o-methyltransferase_-_p...</td>\n",
       "      <td>1</td>\n",
       "    </tr>\n",
       "    <tr>\n",
       "      <th>138</th>\n",
       "      <td>2′-O-ribose_methyltransferase|MTr1</td>\n",
       "      <td>1</td>\n",
       "    </tr>\n",
       "    <tr>\n",
       "      <th>139</th>\n",
       "      <td>mitochondrial_carrier_protein_-_putative</td>\n",
       "      <td>1</td>\n",
       "    </tr>\n",
       "    <tr>\n",
       "      <th>140</th>\n",
       "      <td>adaptin_complex_1_subunit|beta_adaptin</td>\n",
       "      <td>1</td>\n",
       "    </tr>\n",
       "  </tbody>\n",
       "</table>\n",
       "<p>141 rows × 2 columns</p>\n",
       "</div>"
      ]
     },
     "execution_count": 229,
     "metadata": {},
     "output_type": "execute_result"
    }
   ],
   "execution_count": 229
  },
  {
   "metadata": {},
   "cell_type": "markdown",
   "source": "### Checking: calcineurin"
  },
  {
   "metadata": {
    "ExecuteTime": {
     "end_time": "2024-10-07T22:43:48.047924Z",
     "start_time": "2024-10-07T22:43:48.040633Z"
    }
   },
   "cell_type": "code",
   "source": [
    "filter_data = search_string(neg_filtered, \"calcineurin\")\n",
    "print(\"=\"*50)\n",
    "print(filter_data['notes'].value_counts())\n",
    "filter_data.loc[\n",
    "    filter_data[\"gene\"] == True,\n",
    "    ['neg_name', 'chrom', 'gene_id', 'notes', 'start', 'end']\n",
    "]"
   ],
   "outputs": [
    {
     "name": "stdout",
     "output_type": "stream",
     "text": [
      "The of filtered data: (4, 16)\n",
      "The unique values in column 'neg_name': 2\n",
      "==================================================\n",
      "notes\n",
      "calcineurin-like_phosphoesterase-like_protein    4\n",
      "Name: count, dtype: int64\n"
     ]
    },
    {
     "data": {
      "text/plain": [
       "                       neg_name    chrom         gene_id  \\\n",
       "1504    rejected_noCDS_c34.5540  LinJ.34  LINF_340033800   \n",
       "1507  rejected_noCDS_c34.5550BX  LinJ.34  LINF_340033800   \n",
       "\n",
       "                                              notes    start      end  \n",
       "1504  calcineurin-like_phosphoesterase-like_protein  1225952  1230078  \n",
       "1507  calcineurin-like_phosphoesterase-like_protein  1225952  1230078  "
      ],
      "text/html": [
       "<div>\n",
       "<style scoped>\n",
       "    .dataframe tbody tr th:only-of-type {\n",
       "        vertical-align: middle;\n",
       "    }\n",
       "\n",
       "    .dataframe tbody tr th {\n",
       "        vertical-align: top;\n",
       "    }\n",
       "\n",
       "    .dataframe thead th {\n",
       "        text-align: right;\n",
       "    }\n",
       "</style>\n",
       "<table border=\"1\" class=\"dataframe\">\n",
       "  <thead>\n",
       "    <tr style=\"text-align: right;\">\n",
       "      <th></th>\n",
       "      <th>neg_name</th>\n",
       "      <th>chrom</th>\n",
       "      <th>gene_id</th>\n",
       "      <th>notes</th>\n",
       "      <th>start</th>\n",
       "      <th>end</th>\n",
       "    </tr>\n",
       "  </thead>\n",
       "  <tbody>\n",
       "    <tr>\n",
       "      <th>1504</th>\n",
       "      <td>rejected_noCDS_c34.5540</td>\n",
       "      <td>LinJ.34</td>\n",
       "      <td>LINF_340033800</td>\n",
       "      <td>calcineurin-like_phosphoesterase-like_protein</td>\n",
       "      <td>1225952</td>\n",
       "      <td>1230078</td>\n",
       "    </tr>\n",
       "    <tr>\n",
       "      <th>1507</th>\n",
       "      <td>rejected_noCDS_c34.5550BX</td>\n",
       "      <td>LinJ.34</td>\n",
       "      <td>LINF_340033800</td>\n",
       "      <td>calcineurin-like_phosphoesterase-like_protein</td>\n",
       "      <td>1225952</td>\n",
       "      <td>1230078</td>\n",
       "    </tr>\n",
       "  </tbody>\n",
       "</table>\n",
       "</div>"
      ]
     },
     "execution_count": 230,
     "metadata": {},
     "output_type": "execute_result"
    }
   ],
   "execution_count": 230
  },
  {
   "metadata": {
    "ExecuteTime": {
     "end_time": "2024-10-07T22:44:30.616564Z",
     "start_time": "2024-10-07T22:44:30.610219Z"
    }
   },
   "cell_type": "code",
   "source": "check_family(neg_to_filter, \"BX\")",
   "outputs": [
    {
     "data": {
      "text/plain": [
       "                       neg_name    chrom         gene_id  \\\n",
       "1507  rejected_noCDS_c34.5550BX  LinJ.34  LINF_340033800   \n",
       "1688  rejected_noCDS_c35.6200BX  LinJ.35  LINF_350036100   \n",
       "\n",
       "                                              notes    start      end  \n",
       "1507  calcineurin-like_phosphoesterase-like_protein  1225952  1230078  \n",
       "1688                   glycerol_kinase_-_glycosomal  1182104  1185965  "
      ],
      "text/html": [
       "<div>\n",
       "<style scoped>\n",
       "    .dataframe tbody tr th:only-of-type {\n",
       "        vertical-align: middle;\n",
       "    }\n",
       "\n",
       "    .dataframe tbody tr th {\n",
       "        vertical-align: top;\n",
       "    }\n",
       "\n",
       "    .dataframe thead th {\n",
       "        text-align: right;\n",
       "    }\n",
       "</style>\n",
       "<table border=\"1\" class=\"dataframe\">\n",
       "  <thead>\n",
       "    <tr style=\"text-align: right;\">\n",
       "      <th></th>\n",
       "      <th>neg_name</th>\n",
       "      <th>chrom</th>\n",
       "      <th>gene_id</th>\n",
       "      <th>notes</th>\n",
       "      <th>start</th>\n",
       "      <th>end</th>\n",
       "    </tr>\n",
       "  </thead>\n",
       "  <tbody>\n",
       "    <tr>\n",
       "      <th>1507</th>\n",
       "      <td>rejected_noCDS_c34.5550BX</td>\n",
       "      <td>LinJ.34</td>\n",
       "      <td>LINF_340033800</td>\n",
       "      <td>calcineurin-like_phosphoesterase-like_protein</td>\n",
       "      <td>1225952</td>\n",
       "      <td>1230078</td>\n",
       "    </tr>\n",
       "    <tr>\n",
       "      <th>1688</th>\n",
       "      <td>rejected_noCDS_c35.6200BX</td>\n",
       "      <td>LinJ.35</td>\n",
       "      <td>LINF_350036100</td>\n",
       "      <td>glycerol_kinase_-_glycosomal</td>\n",
       "      <td>1182104</td>\n",
       "      <td>1185965</td>\n",
       "    </tr>\n",
       "  </tbody>\n",
       "</table>\n",
       "</div>"
      ]
     },
     "execution_count": 231,
     "metadata": {},
     "output_type": "execute_result"
    }
   ],
   "execution_count": 231
  },
  {
   "metadata": {
    "ExecuteTime": {
     "end_time": "2024-10-07T22:45:43.206775Z",
     "start_time": "2024-10-07T22:45:43.204154Z"
    }
   },
   "cell_type": "code",
   "source": [
    "filter_data = neg_filtered[neg_filtered['neg_name'].isin(filter_data['neg_name'])]\n",
    "checking_data(filter_data)"
   ],
   "outputs": [
    {
     "name": "stdout",
     "output_type": "stream",
     "text": [
      "Shape of the data frame is: (6, 16)\n",
      "Number of unique values in column 'neg_name': 2 \n"
     ]
    }
   ],
   "execution_count": 232
  },
  {
   "metadata": {
    "ExecuteTime": {
     "end_time": "2024-10-07T22:45:47.896760Z",
     "start_time": "2024-10-07T22:45:47.893618Z"
    }
   },
   "cell_type": "code",
   "source": [
    "good_negatives = pd.concat([good_negatives, filter_data])\n",
    "checking_data(good_negatives)"
   ],
   "outputs": [
    {
     "name": "stdout",
     "output_type": "stream",
     "text": [
      "Shape of the data frame is: (741, 16)\n",
      "Number of unique values in column 'neg_name': 225 \n"
     ]
    }
   ],
   "execution_count": 233
  },
  {
   "metadata": {
    "ExecuteTime": {
     "end_time": "2024-10-07T22:45:52.352674Z",
     "start_time": "2024-10-07T22:45:52.236264Z"
    }
   },
   "cell_type": "code",
   "source": [
    "neg_filtered = neg_filtered[~neg_filtered['neg_name'].isin(filter_data['neg_name'])]\n",
    "checking_data(neg_filtered)\n",
    "group_and_count(neg_filtered, \"neg_name\")"
   ],
   "outputs": [
    {
     "name": "stdout",
     "output_type": "stream",
     "text": [
      "Shape of the data frame is: (869, 16)\n",
      "Number of unique values in column 'neg_name': 341 \n",
      "{'gene': 341, 'transcript': 341, '5utr': 16, '3utr': 122, 'CDS': 4}\n"
     ]
    },
    {
     "data": {
      "text/plain": [
       "                                                 notes  count\n",
       "0                                                  NaN    340\n",
       "1                    NADH-dependent_fumarate_reductase      2\n",
       "2                                 clathrin_heavy_chain      2\n",
       "3                                  nicotinamidase|PNC1      1\n",
       "4    Transmembrane_amino_acid_transporter_protein_-...      1\n",
       "..                                                 ...    ...\n",
       "135               Haloacid_dehalogenase-like_hydrolase      1\n",
       "136  protein-l-isoaspartate_o-methyltransferase_-_p...      1\n",
       "137                 2′-O-ribose_methyltransferase|MTr1      1\n",
       "138           mitochondrial_carrier_protein_-_putative      1\n",
       "139            adaptin_complex_1_subunit|beta_adaptin       1\n",
       "\n",
       "[140 rows x 2 columns]"
      ],
      "text/html": [
       "<div>\n",
       "<style scoped>\n",
       "    .dataframe tbody tr th:only-of-type {\n",
       "        vertical-align: middle;\n",
       "    }\n",
       "\n",
       "    .dataframe tbody tr th {\n",
       "        vertical-align: top;\n",
       "    }\n",
       "\n",
       "    .dataframe thead th {\n",
       "        text-align: right;\n",
       "    }\n",
       "</style>\n",
       "<table border=\"1\" class=\"dataframe\">\n",
       "  <thead>\n",
       "    <tr style=\"text-align: right;\">\n",
       "      <th></th>\n",
       "      <th>notes</th>\n",
       "      <th>count</th>\n",
       "    </tr>\n",
       "  </thead>\n",
       "  <tbody>\n",
       "    <tr>\n",
       "      <th>0</th>\n",
       "      <td>NaN</td>\n",
       "      <td>340</td>\n",
       "    </tr>\n",
       "    <tr>\n",
       "      <th>1</th>\n",
       "      <td>NADH-dependent_fumarate_reductase</td>\n",
       "      <td>2</td>\n",
       "    </tr>\n",
       "    <tr>\n",
       "      <th>2</th>\n",
       "      <td>clathrin_heavy_chain</td>\n",
       "      <td>2</td>\n",
       "    </tr>\n",
       "    <tr>\n",
       "      <th>3</th>\n",
       "      <td>nicotinamidase|PNC1</td>\n",
       "      <td>1</td>\n",
       "    </tr>\n",
       "    <tr>\n",
       "      <th>4</th>\n",
       "      <td>Transmembrane_amino_acid_transporter_protein_-...</td>\n",
       "      <td>1</td>\n",
       "    </tr>\n",
       "    <tr>\n",
       "      <th>...</th>\n",
       "      <td>...</td>\n",
       "      <td>...</td>\n",
       "    </tr>\n",
       "    <tr>\n",
       "      <th>135</th>\n",
       "      <td>Haloacid_dehalogenase-like_hydrolase</td>\n",
       "      <td>1</td>\n",
       "    </tr>\n",
       "    <tr>\n",
       "      <th>136</th>\n",
       "      <td>protein-l-isoaspartate_o-methyltransferase_-_p...</td>\n",
       "      <td>1</td>\n",
       "    </tr>\n",
       "    <tr>\n",
       "      <th>137</th>\n",
       "      <td>2′-O-ribose_methyltransferase|MTr1</td>\n",
       "      <td>1</td>\n",
       "    </tr>\n",
       "    <tr>\n",
       "      <th>138</th>\n",
       "      <td>mitochondrial_carrier_protein_-_putative</td>\n",
       "      <td>1</td>\n",
       "    </tr>\n",
       "    <tr>\n",
       "      <th>139</th>\n",
       "      <td>adaptin_complex_1_subunit|beta_adaptin</td>\n",
       "      <td>1</td>\n",
       "    </tr>\n",
       "  </tbody>\n",
       "</table>\n",
       "<p>140 rows × 2 columns</p>\n",
       "</div>"
      ]
     },
     "execution_count": 234,
     "metadata": {},
     "output_type": "execute_result"
    }
   ],
   "execution_count": 234
  },
  {
   "metadata": {},
   "cell_type": "markdown",
   "source": "### Checking: NADH-dpendent"
  },
  {
   "metadata": {
    "ExecuteTime": {
     "end_time": "2024-10-07T22:46:25.271055Z",
     "start_time": "2024-10-07T22:46:25.264676Z"
    }
   },
   "cell_type": "code",
   "source": [
    "filter_data = search_string(neg_filtered, \"NADH\")\n",
    "print(\"=\"*50)\n",
    "print(filter_data['notes'].value_counts())\n",
    "filter_data.loc[\n",
    "    filter_data[\"gene\"] == True,\n",
    "    ['neg_name', 'chrom', 'gene_id', 'notes', 'start', 'end']\n",
    "]"
   ],
   "outputs": [
    {
     "name": "stdout",
     "output_type": "stream",
     "text": [
      "The of filtered data: (4, 16)\n",
      "The unique values in column 'neg_name': 2\n",
      "==================================================\n",
      "notes\n",
      "NADH-dependent_fumarate_reductase    4\n",
      "Name: count, dtype: int64\n"
     ]
    },
    {
     "data": {
      "text/plain": [
       "                       neg_name    chrom         gene_id  \\\n",
       "1665  rejected_noCDS_c35.6120CG  LinJ.35  LINF_350016700   \n",
       "1668    rejected_noCDS_c35.6130  LinJ.35  LINF_350016700   \n",
       "\n",
       "                                  notes   start     end  \n",
       "1665  NADH-dependent_fumarate_reductase  462165  468419  \n",
       "1668  NADH-dependent_fumarate_reductase  462165  468419  "
      ],
      "text/html": [
       "<div>\n",
       "<style scoped>\n",
       "    .dataframe tbody tr th:only-of-type {\n",
       "        vertical-align: middle;\n",
       "    }\n",
       "\n",
       "    .dataframe tbody tr th {\n",
       "        vertical-align: top;\n",
       "    }\n",
       "\n",
       "    .dataframe thead th {\n",
       "        text-align: right;\n",
       "    }\n",
       "</style>\n",
       "<table border=\"1\" class=\"dataframe\">\n",
       "  <thead>\n",
       "    <tr style=\"text-align: right;\">\n",
       "      <th></th>\n",
       "      <th>neg_name</th>\n",
       "      <th>chrom</th>\n",
       "      <th>gene_id</th>\n",
       "      <th>notes</th>\n",
       "      <th>start</th>\n",
       "      <th>end</th>\n",
       "    </tr>\n",
       "  </thead>\n",
       "  <tbody>\n",
       "    <tr>\n",
       "      <th>1665</th>\n",
       "      <td>rejected_noCDS_c35.6120CG</td>\n",
       "      <td>LinJ.35</td>\n",
       "      <td>LINF_350016700</td>\n",
       "      <td>NADH-dependent_fumarate_reductase</td>\n",
       "      <td>462165</td>\n",
       "      <td>468419</td>\n",
       "    </tr>\n",
       "    <tr>\n",
       "      <th>1668</th>\n",
       "      <td>rejected_noCDS_c35.6130</td>\n",
       "      <td>LinJ.35</td>\n",
       "      <td>LINF_350016700</td>\n",
       "      <td>NADH-dependent_fumarate_reductase</td>\n",
       "      <td>462165</td>\n",
       "      <td>468419</td>\n",
       "    </tr>\n",
       "  </tbody>\n",
       "</table>\n",
       "</div>"
      ]
     },
     "execution_count": 235,
     "metadata": {},
     "output_type": "execute_result"
    }
   ],
   "execution_count": 235
  },
  {
   "metadata": {
    "ExecuteTime": {
     "end_time": "2024-10-07T22:46:39.179628Z",
     "start_time": "2024-10-07T22:46:39.172295Z"
    }
   },
   "cell_type": "code",
   "source": "check_family(neg_to_filter, \"CG\")",
   "outputs": [
    {
     "data": {
      "text/plain": [
       "                       neg_name    chrom         gene_id  \\\n",
       "1645  rejected_noCDS_c35.6050CG  LinJ.35  LINF_350011700   \n",
       "1665  rejected_noCDS_c35.6120CG  LinJ.35  LINF_350016700   \n",
       "\n",
       "                                                  notes   start     end  \n",
       "1645  Endonuclease/Exonuclease/phosphatase_family_-_...  249811  254421  \n",
       "1665                  NADH-dependent_fumarate_reductase  462165  468419  "
      ],
      "text/html": [
       "<div>\n",
       "<style scoped>\n",
       "    .dataframe tbody tr th:only-of-type {\n",
       "        vertical-align: middle;\n",
       "    }\n",
       "\n",
       "    .dataframe tbody tr th {\n",
       "        vertical-align: top;\n",
       "    }\n",
       "\n",
       "    .dataframe thead th {\n",
       "        text-align: right;\n",
       "    }\n",
       "</style>\n",
       "<table border=\"1\" class=\"dataframe\">\n",
       "  <thead>\n",
       "    <tr style=\"text-align: right;\">\n",
       "      <th></th>\n",
       "      <th>neg_name</th>\n",
       "      <th>chrom</th>\n",
       "      <th>gene_id</th>\n",
       "      <th>notes</th>\n",
       "      <th>start</th>\n",
       "      <th>end</th>\n",
       "    </tr>\n",
       "  </thead>\n",
       "  <tbody>\n",
       "    <tr>\n",
       "      <th>1645</th>\n",
       "      <td>rejected_noCDS_c35.6050CG</td>\n",
       "      <td>LinJ.35</td>\n",
       "      <td>LINF_350011700</td>\n",
       "      <td>Endonuclease/Exonuclease/phosphatase_family_-_...</td>\n",
       "      <td>249811</td>\n",
       "      <td>254421</td>\n",
       "    </tr>\n",
       "    <tr>\n",
       "      <th>1665</th>\n",
       "      <td>rejected_noCDS_c35.6120CG</td>\n",
       "      <td>LinJ.35</td>\n",
       "      <td>LINF_350016700</td>\n",
       "      <td>NADH-dependent_fumarate_reductase</td>\n",
       "      <td>462165</td>\n",
       "      <td>468419</td>\n",
       "    </tr>\n",
       "  </tbody>\n",
       "</table>\n",
       "</div>"
      ]
     },
     "execution_count": 236,
     "metadata": {},
     "output_type": "execute_result"
    }
   ],
   "execution_count": 236
  },
  {
   "metadata": {
    "ExecuteTime": {
     "end_time": "2024-10-07T22:47:39.458274Z",
     "start_time": "2024-10-07T22:47:39.455584Z"
    }
   },
   "cell_type": "code",
   "source": [
    "filter_data = neg_filtered[neg_filtered['neg_name'].isin(filter_data['neg_name'])]\n",
    "checking_data(filter_data)"
   ],
   "outputs": [
    {
     "name": "stdout",
     "output_type": "stream",
     "text": [
      "Shape of the data frame is: (6, 16)\n",
      "Number of unique values in column 'neg_name': 2 \n"
     ]
    }
   ],
   "execution_count": 237
  },
  {
   "metadata": {
    "ExecuteTime": {
     "end_time": "2024-10-07T22:47:43.568343Z",
     "start_time": "2024-10-07T22:47:43.565800Z"
    }
   },
   "cell_type": "code",
   "source": [
    "good_negatives = pd.concat([good_negatives, filter_data])\n",
    "checking_data(good_negatives)"
   ],
   "outputs": [
    {
     "name": "stdout",
     "output_type": "stream",
     "text": [
      "Shape of the data frame is: (747, 16)\n",
      "Number of unique values in column 'neg_name': 227 \n"
     ]
    }
   ],
   "execution_count": 238
  },
  {
   "metadata": {
    "ExecuteTime": {
     "end_time": "2024-10-07T22:47:48.335441Z",
     "start_time": "2024-10-07T22:47:48.216817Z"
    }
   },
   "cell_type": "code",
   "source": [
    "neg_filtered = neg_filtered[~neg_filtered['neg_name'].isin(filter_data['neg_name'])]\n",
    "checking_data(neg_filtered)\n",
    "group_and_count(neg_filtered, \"neg_name\")"
   ],
   "outputs": [
    {
     "name": "stdout",
     "output_type": "stream",
     "text": [
      "Shape of the data frame is: (863, 16)\n",
      "Number of unique values in column 'neg_name': 339 \n",
      "{'gene': 339, 'transcript': 339, '5utr': 15, '3utr': 121, 'CDS': 4}\n"
     ]
    },
    {
     "data": {
      "text/plain": [
       "                                                 notes  count\n",
       "0                                                  NaN    338\n",
       "1                                 clathrin_heavy_chain      2\n",
       "2                                  nicotinamidase|PNC1      1\n",
       "3    Transmembrane_amino_acid_transporter_protein_-...      1\n",
       "4                          cytochrome_b-domain_protein      1\n",
       "..                                                 ...    ...\n",
       "134               Haloacid_dehalogenase-like_hydrolase      1\n",
       "135  protein-l-isoaspartate_o-methyltransferase_-_p...      1\n",
       "136                 2′-O-ribose_methyltransferase|MTr1      1\n",
       "137           mitochondrial_carrier_protein_-_putative      1\n",
       "138            adaptin_complex_1_subunit|beta_adaptin       1\n",
       "\n",
       "[139 rows x 2 columns]"
      ],
      "text/html": [
       "<div>\n",
       "<style scoped>\n",
       "    .dataframe tbody tr th:only-of-type {\n",
       "        vertical-align: middle;\n",
       "    }\n",
       "\n",
       "    .dataframe tbody tr th {\n",
       "        vertical-align: top;\n",
       "    }\n",
       "\n",
       "    .dataframe thead th {\n",
       "        text-align: right;\n",
       "    }\n",
       "</style>\n",
       "<table border=\"1\" class=\"dataframe\">\n",
       "  <thead>\n",
       "    <tr style=\"text-align: right;\">\n",
       "      <th></th>\n",
       "      <th>notes</th>\n",
       "      <th>count</th>\n",
       "    </tr>\n",
       "  </thead>\n",
       "  <tbody>\n",
       "    <tr>\n",
       "      <th>0</th>\n",
       "      <td>NaN</td>\n",
       "      <td>338</td>\n",
       "    </tr>\n",
       "    <tr>\n",
       "      <th>1</th>\n",
       "      <td>clathrin_heavy_chain</td>\n",
       "      <td>2</td>\n",
       "    </tr>\n",
       "    <tr>\n",
       "      <th>2</th>\n",
       "      <td>nicotinamidase|PNC1</td>\n",
       "      <td>1</td>\n",
       "    </tr>\n",
       "    <tr>\n",
       "      <th>3</th>\n",
       "      <td>Transmembrane_amino_acid_transporter_protein_-...</td>\n",
       "      <td>1</td>\n",
       "    </tr>\n",
       "    <tr>\n",
       "      <th>4</th>\n",
       "      <td>cytochrome_b-domain_protein</td>\n",
       "      <td>1</td>\n",
       "    </tr>\n",
       "    <tr>\n",
       "      <th>...</th>\n",
       "      <td>...</td>\n",
       "      <td>...</td>\n",
       "    </tr>\n",
       "    <tr>\n",
       "      <th>134</th>\n",
       "      <td>Haloacid_dehalogenase-like_hydrolase</td>\n",
       "      <td>1</td>\n",
       "    </tr>\n",
       "    <tr>\n",
       "      <th>135</th>\n",
       "      <td>protein-l-isoaspartate_o-methyltransferase_-_p...</td>\n",
       "      <td>1</td>\n",
       "    </tr>\n",
       "    <tr>\n",
       "      <th>136</th>\n",
       "      <td>2′-O-ribose_methyltransferase|MTr1</td>\n",
       "      <td>1</td>\n",
       "    </tr>\n",
       "    <tr>\n",
       "      <th>137</th>\n",
       "      <td>mitochondrial_carrier_protein_-_putative</td>\n",
       "      <td>1</td>\n",
       "    </tr>\n",
       "    <tr>\n",
       "      <th>138</th>\n",
       "      <td>adaptin_complex_1_subunit|beta_adaptin</td>\n",
       "      <td>1</td>\n",
       "    </tr>\n",
       "  </tbody>\n",
       "</table>\n",
       "<p>139 rows × 2 columns</p>\n",
       "</div>"
      ]
     },
     "execution_count": 239,
     "metadata": {},
     "output_type": "execute_result"
    }
   ],
   "execution_count": 239
  },
  {
   "metadata": {},
   "cell_type": "markdown",
   "source": "### Checking: clathrin heavy chain"
  },
  {
   "metadata": {
    "ExecuteTime": {
     "end_time": "2024-10-07T22:48:37.620737Z",
     "start_time": "2024-10-07T22:48:37.614232Z"
    }
   },
   "cell_type": "code",
   "source": [
    "filter_data = search_string(neg_filtered, \"clathrin\")\n",
    "print(\"=\"*50)\n",
    "print(filter_data['notes'].value_counts())\n",
    "filter_data.loc[\n",
    "    filter_data[\"gene\"] == True,\n",
    "    ['neg_name', 'chrom', 'gene_id', 'notes', 'start', 'end']\n",
    "]"
   ],
   "outputs": [
    {
     "name": "stdout",
     "output_type": "stream",
     "text": [
      "The of filtered data: (4, 16)\n",
      "The unique values in column 'neg_name': 2\n",
      "==================================================\n",
      "notes\n",
      "clathrin_heavy_chain    4\n",
      "Name: count, dtype: int64\n"
     ]
    },
    {
     "data": {
      "text/plain": [
       "                     neg_name    chrom         gene_id                 notes  \\\n",
       "1754  rejected_noCDS_c36.6450  LinJ.36  LINF_360022600  clathrin_heavy_chain   \n",
       "1757  rejected_noCDS_c36.6460  LinJ.36  LINF_360022600  clathrin_heavy_chain   \n",
       "\n",
       "       start     end  \n",
       "1754  632898  640647  \n",
       "1757  632898  640647  "
      ],
      "text/html": [
       "<div>\n",
       "<style scoped>\n",
       "    .dataframe tbody tr th:only-of-type {\n",
       "        vertical-align: middle;\n",
       "    }\n",
       "\n",
       "    .dataframe tbody tr th {\n",
       "        vertical-align: top;\n",
       "    }\n",
       "\n",
       "    .dataframe thead th {\n",
       "        text-align: right;\n",
       "    }\n",
       "</style>\n",
       "<table border=\"1\" class=\"dataframe\">\n",
       "  <thead>\n",
       "    <tr style=\"text-align: right;\">\n",
       "      <th></th>\n",
       "      <th>neg_name</th>\n",
       "      <th>chrom</th>\n",
       "      <th>gene_id</th>\n",
       "      <th>notes</th>\n",
       "      <th>start</th>\n",
       "      <th>end</th>\n",
       "    </tr>\n",
       "  </thead>\n",
       "  <tbody>\n",
       "    <tr>\n",
       "      <th>1754</th>\n",
       "      <td>rejected_noCDS_c36.6450</td>\n",
       "      <td>LinJ.36</td>\n",
       "      <td>LINF_360022600</td>\n",
       "      <td>clathrin_heavy_chain</td>\n",
       "      <td>632898</td>\n",
       "      <td>640647</td>\n",
       "    </tr>\n",
       "    <tr>\n",
       "      <th>1757</th>\n",
       "      <td>rejected_noCDS_c36.6460</td>\n",
       "      <td>LinJ.36</td>\n",
       "      <td>LINF_360022600</td>\n",
       "      <td>clathrin_heavy_chain</td>\n",
       "      <td>632898</td>\n",
       "      <td>640647</td>\n",
       "    </tr>\n",
       "  </tbody>\n",
       "</table>\n",
       "</div>"
      ]
     },
     "execution_count": 240,
     "metadata": {},
     "output_type": "execute_result"
    }
   ],
   "execution_count": 240
  },
  {
   "metadata": {
    "ExecuteTime": {
     "end_time": "2024-10-07T22:49:37.342129Z",
     "start_time": "2024-10-07T22:49:37.339578Z"
    }
   },
   "cell_type": "code",
   "source": [
    "filter_data = neg_filtered[neg_filtered['neg_name'].isin(filter_data['neg_name'])]\n",
    "checking_data(filter_data)"
   ],
   "outputs": [
    {
     "name": "stdout",
     "output_type": "stream",
     "text": [
      "Shape of the data frame is: (6, 16)\n",
      "Number of unique values in column 'neg_name': 2 \n"
     ]
    }
   ],
   "execution_count": 241
  },
  {
   "metadata": {
    "ExecuteTime": {
     "end_time": "2024-10-07T22:49:41.002834Z",
     "start_time": "2024-10-07T22:49:41.000103Z"
    }
   },
   "cell_type": "code",
   "source": [
    "good_negatives = pd.concat([good_negatives, filter_data])\n",
    "checking_data(good_negatives)"
   ],
   "outputs": [
    {
     "name": "stdout",
     "output_type": "stream",
     "text": [
      "Shape of the data frame is: (753, 16)\n",
      "Number of unique values in column 'neg_name': 229 \n"
     ]
    }
   ],
   "execution_count": 242
  },
  {
   "metadata": {
    "ExecuteTime": {
     "end_time": "2024-10-07T22:49:45.732494Z",
     "start_time": "2024-10-07T22:49:45.619289Z"
    }
   },
   "cell_type": "code",
   "source": [
    "neg_filtered = neg_filtered[~neg_filtered['neg_name'].isin(filter_data['neg_name'])]\n",
    "checking_data(neg_filtered)\n",
    "group_and_count(neg_filtered, \"neg_name\")"
   ],
   "outputs": [
    {
     "name": "stdout",
     "output_type": "stream",
     "text": [
      "Shape of the data frame is: (857, 16)\n",
      "Number of unique values in column 'neg_name': 337 \n",
      "{'gene': 337, 'transcript': 337, '5utr': 15, '3utr': 119, 'CDS': 4}\n"
     ]
    },
    {
     "data": {
      "text/plain": [
       "                                                 notes  count\n",
       "0                                                  NaN    336\n",
       "1                                  nicotinamidase|PNC1      1\n",
       "2    Transmembrane_amino_acid_transporter_protein_-...      1\n",
       "3                          cytochrome_b-domain_protein      1\n",
       "4    Ankyrin_repeats_(3_copies)/Ankyrin_repeats_(ma...      1\n",
       "..                                                 ...    ...\n",
       "133               Haloacid_dehalogenase-like_hydrolase      1\n",
       "134  protein-l-isoaspartate_o-methyltransferase_-_p...      1\n",
       "135                 2′-O-ribose_methyltransferase|MTr1      1\n",
       "136           mitochondrial_carrier_protein_-_putative      1\n",
       "137            adaptin_complex_1_subunit|beta_adaptin       1\n",
       "\n",
       "[138 rows x 2 columns]"
      ],
      "text/html": [
       "<div>\n",
       "<style scoped>\n",
       "    .dataframe tbody tr th:only-of-type {\n",
       "        vertical-align: middle;\n",
       "    }\n",
       "\n",
       "    .dataframe tbody tr th {\n",
       "        vertical-align: top;\n",
       "    }\n",
       "\n",
       "    .dataframe thead th {\n",
       "        text-align: right;\n",
       "    }\n",
       "</style>\n",
       "<table border=\"1\" class=\"dataframe\">\n",
       "  <thead>\n",
       "    <tr style=\"text-align: right;\">\n",
       "      <th></th>\n",
       "      <th>notes</th>\n",
       "      <th>count</th>\n",
       "    </tr>\n",
       "  </thead>\n",
       "  <tbody>\n",
       "    <tr>\n",
       "      <th>0</th>\n",
       "      <td>NaN</td>\n",
       "      <td>336</td>\n",
       "    </tr>\n",
       "    <tr>\n",
       "      <th>1</th>\n",
       "      <td>nicotinamidase|PNC1</td>\n",
       "      <td>1</td>\n",
       "    </tr>\n",
       "    <tr>\n",
       "      <th>2</th>\n",
       "      <td>Transmembrane_amino_acid_transporter_protein_-...</td>\n",
       "      <td>1</td>\n",
       "    </tr>\n",
       "    <tr>\n",
       "      <th>3</th>\n",
       "      <td>cytochrome_b-domain_protein</td>\n",
       "      <td>1</td>\n",
       "    </tr>\n",
       "    <tr>\n",
       "      <th>4</th>\n",
       "      <td>Ankyrin_repeats_(3_copies)/Ankyrin_repeats_(ma...</td>\n",
       "      <td>1</td>\n",
       "    </tr>\n",
       "    <tr>\n",
       "      <th>...</th>\n",
       "      <td>...</td>\n",
       "      <td>...</td>\n",
       "    </tr>\n",
       "    <tr>\n",
       "      <th>133</th>\n",
       "      <td>Haloacid_dehalogenase-like_hydrolase</td>\n",
       "      <td>1</td>\n",
       "    </tr>\n",
       "    <tr>\n",
       "      <th>134</th>\n",
       "      <td>protein-l-isoaspartate_o-methyltransferase_-_p...</td>\n",
       "      <td>1</td>\n",
       "    </tr>\n",
       "    <tr>\n",
       "      <th>135</th>\n",
       "      <td>2′-O-ribose_methyltransferase|MTr1</td>\n",
       "      <td>1</td>\n",
       "    </tr>\n",
       "    <tr>\n",
       "      <th>136</th>\n",
       "      <td>mitochondrial_carrier_protein_-_putative</td>\n",
       "      <td>1</td>\n",
       "    </tr>\n",
       "    <tr>\n",
       "      <th>137</th>\n",
       "      <td>adaptin_complex_1_subunit|beta_adaptin</td>\n",
       "      <td>1</td>\n",
       "    </tr>\n",
       "  </tbody>\n",
       "</table>\n",
       "<p>138 rows × 2 columns</p>\n",
       "</div>"
      ]
     },
     "execution_count": 243,
     "metadata": {},
     "output_type": "execute_result"
    }
   ],
   "execution_count": 243
  }
 ],
 "metadata": {
  "kernelspec": {
   "display_name": "Python 3 (ipykernel)",
   "language": "python",
   "name": "python3"
  },
  "language_info": {
   "codemirror_mode": {
    "name": "ipython",
    "version": 3
   },
   "file_extension": ".py",
   "mimetype": "text/x-python",
   "name": "python",
   "nbconvert_exporter": "python",
   "pygments_lexer": "ipython3",
   "version": "3.12.4"
  },
  "toc": {
   "base_numbering": 1,
   "nav_menu": {
    "height": "300px",
    "width": "603px"
   },
   "number_sections": true,
   "sideBar": true,
   "skip_h1_title": false,
   "title_cell": "Table of Contents",
   "title_sidebar": "Contents",
   "toc_cell": false,
   "toc_position": {
    "height": "calc(100% - 180px)",
    "left": "10px",
    "top": "150px",
    "width": "312.188px"
   },
   "toc_section_display": true,
   "toc_window_display": true
  }
 },
 "nbformat": 4,
 "nbformat_minor": 2
}
