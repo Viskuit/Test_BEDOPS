{
 "cells": [
  {
   "cell_type": "code",
   "execution_count": 9,
   "metadata": {},
   "outputs": [],
   "source": [
    "import pandas as pd\n",
    "import numpy as np\n",
    "\n",
    "from Bio import SeqIO\n",
    "from Bio.Seq import Seq\n",
    "from Bio.SeqRecord import SeqRecord"
   ]
  },
  {
   "cell_type": "code",
   "execution_count": 10,
   "metadata": {},
   "outputs": [],
   "source": [
    "path = \"../Data/To_analyze/Results_software/SIDER2_chr32/RUNS/run_2.csv\"\n",
    "data = pd.read_csv(path, sep=\",\", header=None)"
   ]
  },
  {
   "cell_type": "code",
   "execution_count": 11,
   "metadata": {},
   "outputs": [
    {
     "data": {
      "text/html": [
       "<div>\n",
       "<style scoped>\n",
       "    .dataframe tbody tr th:only-of-type {\n",
       "        vertical-align: middle;\n",
       "    }\n",
       "\n",
       "    .dataframe tbody tr th {\n",
       "        vertical-align: top;\n",
       "    }\n",
       "\n",
       "    .dataframe thead th {\n",
       "        text-align: right;\n",
       "    }\n",
       "</style>\n",
       "<table border=\"1\" class=\"dataframe\">\n",
       "  <thead>\n",
       "    <tr style=\"text-align: right;\">\n",
       "      <th></th>\n",
       "      <th>0</th>\n",
       "      <th>1</th>\n",
       "      <th>2</th>\n",
       "      <th>3</th>\n",
       "      <th>4</th>\n",
       "      <th>5</th>\n",
       "    </tr>\n",
       "  </thead>\n",
       "  <tbody>\n",
       "    <tr>\n",
       "      <th>0</th>\n",
       "      <td>LinJ.01</td>\n",
       "      <td>666</td>\n",
       "      <td>24093</td>\n",
       "      <td>24758</td>\n",
       "      <td>plus</td>\n",
       "      <td>GGGGGAGGCGGGGGAGGCGGGGGGCACGCACCTCCATGCGTGGCAT...</td>\n",
       "    </tr>\n",
       "    <tr>\n",
       "      <th>1</th>\n",
       "      <td>LinJ.01</td>\n",
       "      <td>618</td>\n",
       "      <td>35316</td>\n",
       "      <td>35933</td>\n",
       "      <td>plus</td>\n",
       "      <td>GAGGTGGAGGCCGCTCTGCCCCCCCCGCCGCCGAGTGCTGCAGGCA...</td>\n",
       "    </tr>\n",
       "    <tr>\n",
       "      <th>2</th>\n",
       "      <td>LinJ.01</td>\n",
       "      <td>793</td>\n",
       "      <td>39789</td>\n",
       "      <td>40581</td>\n",
       "      <td>plus</td>\n",
       "      <td>TATTCTACCGCGAGCAAGGCAGCACACAGACGCACGCACAGCCACA...</td>\n",
       "    </tr>\n",
       "    <tr>\n",
       "      <th>3</th>\n",
       "      <td>LinJ.01</td>\n",
       "      <td>645</td>\n",
       "      <td>54885</td>\n",
       "      <td>55529</td>\n",
       "      <td>plus</td>\n",
       "      <td>TGTTTGGTCTTCCGCGTGTCCGTTTTCGCTGCCGCACACTGCGAGG...</td>\n",
       "    </tr>\n",
       "    <tr>\n",
       "      <th>4</th>\n",
       "      <td>LinJ.01</td>\n",
       "      <td>998</td>\n",
       "      <td>72760</td>\n",
       "      <td>73757</td>\n",
       "      <td>plus</td>\n",
       "      <td>CGTGTGTTTGTGAGGGGTAAGAATCGACCATGCATCAACGACTGCG...</td>\n",
       "    </tr>\n",
       "  </tbody>\n",
       "</table>\n",
       "</div>"
      ],
      "text/plain": [
       "         0    1      2      3     4  \\\n",
       "0  LinJ.01  666  24093  24758  plus   \n",
       "1  LinJ.01  618  35316  35933  plus   \n",
       "2  LinJ.01  793  39789  40581  plus   \n",
       "3  LinJ.01  645  54885  55529  plus   \n",
       "4  LinJ.01  998  72760  73757  plus   \n",
       "\n",
       "                                                   5  \n",
       "0  GGGGGAGGCGGGGGAGGCGGGGGGCACGCACCTCCATGCGTGGCAT...  \n",
       "1  GAGGTGGAGGCCGCTCTGCCCCCCCCGCCGCCGAGTGCTGCAGGCA...  \n",
       "2  TATTCTACCGCGAGCAAGGCAGCACACAGACGCACGCACAGCCACA...  \n",
       "3  TGTTTGGTCTTCCGCGTGTCCGTTTTCGCTGCCGCACACTGCGAGG...  \n",
       "4  CGTGTGTTTGTGAGGGGTAAGAATCGACCATGCATCAACGACTGCG...  "
      ]
     },
     "execution_count": 11,
     "metadata": {},
     "output_type": "execute_result"
    }
   ],
   "source": [
    "data = data.dropna(axis=1, how='all')\n",
    "data.columns = range(data.columns.size)\n",
    "data.head()\n"
   ]
  },
  {
   "cell_type": "code",
   "execution_count": 12,
   "metadata": {},
   "outputs": [],
   "source": [
    "def fasta_creator(data_df, fasta_output_path, selector):\n",
    "\n",
    "    # data_df = pd.read_csv(path_input, sep=\",\", header=None)\n",
    "\n",
    "    fasta_df = []\n",
    "    for index, row in enumerate(data_df.iterrows(), start=1):\n",
    "        if index in selector:\n",
    "            row = row[1]\n",
    "            rec = SeqRecord(\n",
    "                Seq(row.iloc[5]),\n",
    "                id=\"Seq_\" + str(index) + \"_\" + row.iloc[0] + \"_\" + row.iloc[4],  \n",
    "                description=\"Leishmania infantum \" + row.iloc[4]\n",
    "            )\n",
    "            fasta_df.append(rec)\n",
    "        else: continue\n",
    "\n",
    "    SeqIO.write(fasta_df, fasta_output_path, \"fasta\")\n",
    "    print(\"\\nFasta created at:\", fasta_output_path)"
   ]
  },
  {
   "cell_type": "code",
   "execution_count": 13,
   "metadata": {},
   "outputs": [],
   "source": [
    "%%script false --no-raise-error\n",
    "fasta_creator(data, \"./first_seq.fasta\", [1])"
   ]
  },
  {
   "cell_type": "code",
   "execution_count": 14,
   "metadata": {},
   "outputs": [],
   "source": [
    "import os\n",
    "def blastn_dic(path_input):\n",
    "    # Remember is \"path.input.dic_path\" for \"argparse\".\n",
    "    try:\n",
    "        # boxymcboxface(\"BLASTn Database creator started\")\n",
    "        # pdb.set_trace()\n",
    "        os.system(\"makeblastdb -in \" + path_input + \" -dbtype nucl -parse_seqids\")\n",
    "        print(\"\\nBlast Dictionary created in\", path_input)\n",
    "    except Exception:\n",
    "        print(\"\\nError: Blast Dictionary couldn't be created\")"
   ]
  },
  {
   "cell_type": "code",
   "execution_count": 15,
   "metadata": {},
   "outputs": [],
   "source": [
    "%%script false --no-raise-error\n",
    "blastn_dic(\"../Data/genome/TriTrypDB-67_LinfantumJPCM5_Genome.fasta\")"
   ]
  },
  {
   "cell_type": "code",
   "execution_count": 16,
   "metadata": {},
   "outputs": [],
   "source": [
    "import os\n",
    "def blastn_blaster(query_path, dict_path, outfile_path, perc_identity):\n",
    "    print(\"BLASTn searcher initiated\")\n",
    "    # pdb.set_trace()\n",
    "    os.system(\"blastn -word_size 11 -query \"\n",
    "                + query_path + \" -db \"\n",
    "                + dict_path + \" -out \"\n",
    "                + outfile_path + \" -perc_identity \"\n",
    "                + str(perc_identity) + str(0)\n",
    "                + \" -evalue 1.0E-09 \"\n",
    "                + \" -outfmt '10 qseqid sseqid pident length qlen slen mismatch gapopen qstart qend sstart send evalue bitscore sstrand sseq'\")\n",
    "    print(\"\\nBlaster successful\", outfile_path, \"created.\")\n"
   ]
  },
  {
   "cell_type": "code",
   "execution_count": 17,
   "metadata": {},
   "outputs": [],
   "source": [
    "%%script false --no-raise-error\n",
    "blastn_blaster(\"./first_seq.fasta\",\n",
    "               \"..//Data/genome/TriTrypDB-67_LinfantumJPCM5_Genome.fasta\",\n",
    "               \"./test_1.csv\",\n",
    "               0)"
   ]
  },
  {
   "cell_type": "code",
   "execution_count": 25,
   "metadata": {},
   "outputs": [],
   "source": [
    "import os\n",
    "import subprocess\n",
    "\n",
    "def blastn_blaster(query_path, dict_path, perc_identity):\n",
    "    data = subprocess.check_output(\"blastn -word_size 11 -query \" \n",
    "                + query_path + \" -db \" \n",
    "                + dict_path \n",
    "                + \" -perc_identity \" + str(perc_identity)\n",
    "                + \" -evalue 1.0E-09 -outfmt 10\", shell=True, universal_newlines=True)\n",
    "    return data"
   ]
  },
  {
   "cell_type": "code",
   "execution_count": 52,
   "metadata": {},
   "outputs": [
    {
     "name": "stdout",
     "output_type": "stream",
     "text": [
      "208\n"
     ]
    }
   ],
   "source": [
    "import subprocess\n",
    "test = blastn_blaster(\"./first_seq.fasta\",\n",
    "               \"..//Data/genome/TriTrypDB-67_LinfantumJPCM5_Genome.fasta\",\n",
    "               0)\n",
    "print(test.count(\"\\n\"))  # Each row will have a \"\\n\" at the end."
   ]
  }
 ],
 "metadata": {
  "kernelspec": {
   "display_name": "Python 3",
   "language": "python",
   "name": "python3"
  },
  "language_info": {
   "codemirror_mode": {
    "name": "ipython",
    "version": 3
   },
   "file_extension": ".py",
   "mimetype": "text/x-python",
   "name": "python",
   "nbconvert_exporter": "python",
   "pygments_lexer": "ipython3",
   "version": "3.10.12"
  }
 },
 "nbformat": 4,
 "nbformat_minor": 2
}
