{
 "cells": [
  {
   "cell_type": "code",
   "execution_count": 21,
   "metadata": {},
   "outputs": [],
   "source": [
    "import pandas as pd\n",
    "import re\n",
    "import string\n",
    "def generate_sequence():\n",
    "    letters = string.ascii_uppercase\n",
    "    single_letter_sequences = list(letters) # Generate single letter sequences\n",
    "    double_letter_sequences = [a + b for a in letters for b in letters] # Generate double letter sequences\n",
    "    triple_letter_sequences = [a + b + c for a in letters for b in letters for c in letters] # Generate triple letter sequences\n",
    "    all_sequences = single_letter_sequences + double_letter_sequences + triple_letter_sequences # Combine all sequences\n",
    "    return all_sequences\n",
    "\n",
    "def number_id_naming(name):\n",
    "    number_id = int(re.search(r\"_(\\d+)_\", name).group(1))  # extract number id from the element\n",
    "    number_id += 1  # Because the first element is 0, and it should be 1\n",
    "    number_id = str(number_id)[::-1].zfill(len(str(number_id)) + 1)[::-1]  # fill the number with 0\n",
    "    # number_id = int(number_id)\n",
    "    return number_id\n",
    "\n",
    "def subfamily_naming(chromosome, naming, sequences):\n",
    "    abc_seq = generate_sequence()  # it will generate from A to ZZZ\n",
    "    letter_slider = 0\n",
    "    named_elements = []\n",
    "    # subfamily_abc_counter_id = \"A\"\n",
    "    for _, seqs in enumerate(sequences):  # selecting list\n",
    "        if len(seqs) > 1:\n",
    "            subfamily = []\n",
    "            for _, element in enumerate(seqs):  # selecting element inside a list.\n",
    "                chr_id = re.search(r\"\\d+\", chromosome).group(0)\n",
    "                number_id = number_id_naming(element)\n",
    "                subfamily.append(f\"{naming}_c{chr_id}.{number_id}{abc_seq[letter_slider]}\")\n",
    "            letter_slider += 1\n",
    "            named_elements.append(subfamily)\n",
    "        else: # if len(seqs) == 1\n",
    "            chr_id = re.search(r\"\\d+\", chromosome).group(0)\n",
    "            number_id = number_id_naming(seqs[0])\n",
    "            named_elements.append([f\"{naming}_c{chr_id}.{number_id}\"])\n",
    "\n",
    "    return named_elements"
   ]
  },
  {
   "cell_type": "code",
   "execution_count": 2,
   "metadata": {},
   "outputs": [],
   "source": [
    "path_file = \"~/Documents/Work_CBMSO/Leish_Data_Analysis/21.Subfamilies_classification/subfamilies_classification/LinJ.01/families_LinJ.01.csv\""
   ]
  },
  {
   "cell_type": "code",
   "execution_count": 26,
   "metadata": {},
   "outputs": [
    {
     "name": "stdout",
     "output_type": "stream",
     "text": [
      "['Seq_13_LinJ.02']\n",
      "['Seq_14_LinJ.02', 'Seq_15_LinJ.02', 'Seq_17_LinJ.02', 'Seq_21_LinJ.02']\n",
      "['Seq_16_LinJ.02', 'Seq_20_LinJ.02', 'Seq_22_LinJ.02']\n",
      "['Seq_18_LinJ.02', 'Seq_23_LinJ.02', 'Seq_24_LinJ.02']\n",
      "['Seq_19_LinJ.02']\n",
      "['Seq_25_LinJ.02']\n",
      "['Seq_26_LinJ.02']\n",
      "['Seq_27_LinJ.02', 'Seq_29_LinJ.02']\n",
      "['Seq_28_LinJ.02']\n"
     ]
    },
    {
     "data": {
      "text/plain": [
       "[None, None, None, None, None, None, None, None, None]"
      ]
     },
     "execution_count": 26,
     "metadata": {},
     "output_type": "execute_result"
    }
   ],
   "source": [
    "data_main = [['Seq_13_LinJ.02'], ['Seq_14_LinJ.02', 'Seq_15_LinJ.02', 'Seq_17_LinJ.02', 'Seq_21_LinJ.02'], ['Seq_16_LinJ.02', 'Seq_20_LinJ.02', 'Seq_22_LinJ.02'], ['Seq_18_LinJ.02', 'Seq_23_LinJ.02', 'Seq_24_LinJ.02'], ['Seq_19_LinJ.02'], ['Seq_25_LinJ.02'], ['Seq_26_LinJ.02'], ['Seq_27_LinJ.02', 'Seq_29_LinJ.02'], ['Seq_28_LinJ.02']]\n",
    "[print(elem) for elem in data_main]"
   ]
  },
  {
   "cell_type": "markdown",
   "metadata": {},
   "source": [
    "May I do a dict to get the correct order? and then index the dict to replace the elements?"
   ]
  },
  {
   "cell_type": "code",
   "execution_count": null,
   "metadata": {},
   "outputs": [],
   "source": [
    "test = 'Seq_13_LinJ.02'\n"
   ]
  },
  {
   "cell_type": "code",
   "execution_count": 27,
   "metadata": {},
   "outputs": [
    {
     "name": "stdout",
     "output_type": "stream",
     "text": [
      "['Seq_13_LinJ.02', 'Seq_14_LinJ.02', 'Seq_15_LinJ.02', 'Seq_17_LinJ.02', 'Seq_21_LinJ.02', 'Seq_16_LinJ.02', 'Seq_20_LinJ.02', 'Seq_22_LinJ.02', 'Seq_18_LinJ.02', 'Seq_23_LinJ.02', 'Seq_24_LinJ.02', 'Seq_19_LinJ.02', 'Seq_25_LinJ.02', 'Seq_26_LinJ.02', 'Seq_27_LinJ.02', 'Seq_29_LinJ.02', 'Seq_28_LinJ.02']\n"
     ]
    }
   ],
   "source": [
    "new_list = [name for element in data_main for name in element]\n",
    "print(new_list)"
   ]
  },
  {
   "cell_type": "code",
   "execution_count": 28,
   "metadata": {},
   "outputs": [
    {
     "name": "stdout",
     "output_type": "stream",
     "text": [
      "['Seq_13_LinJ.02', 'Seq_14_LinJ.02', 'Seq_15_LinJ.02', 'Seq_16_LinJ.02', 'Seq_17_LinJ.02', 'Seq_18_LinJ.02', 'Seq_19_LinJ.02', 'Seq_20_LinJ.02', 'Seq_21_LinJ.02', 'Seq_22_LinJ.02', 'Seq_23_LinJ.02', 'Seq_24_LinJ.02', 'Seq_25_LinJ.02', 'Seq_26_LinJ.02', 'Seq_27_LinJ.02', 'Seq_28_LinJ.02', 'Seq_29_LinJ.02']\n"
     ]
    }
   ],
   "source": [
    "new_list = sorted(new_list, key=lambda x: int(re.search(r'_(\\d+)_', x).group(1)))\n",
    "print(new_list)"
   ]
  },
  {
   "cell_type": "code",
   "execution_count": 29,
   "metadata": {},
   "outputs": [],
   "source": [
    "counter = 1\n",
    "main_dict = {}\n",
    "for name_id in new_list:\n",
    "    main_dict[name_id] = counter\n",
    "    counter += 1"
   ]
  },
  {
   "cell_type": "code",
   "execution_count": 31,
   "metadata": {},
   "outputs": [
    {
     "name": "stdout",
     "output_type": "stream",
     "text": [
      "Seq_13_LinJ.02 1\n",
      "Seq_14_LinJ.02 2\n",
      "Seq_15_LinJ.02 3\n",
      "Seq_16_LinJ.02 4\n",
      "Seq_17_LinJ.02 5\n",
      "Seq_18_LinJ.02 6\n",
      "Seq_19_LinJ.02 7\n",
      "Seq_20_LinJ.02 8\n",
      "Seq_21_LinJ.02 9\n",
      "Seq_22_LinJ.02 10\n",
      "Seq_23_LinJ.02 11\n",
      "Seq_24_LinJ.02 12\n",
      "Seq_25_LinJ.02 13\n",
      "Seq_26_LinJ.02 14\n",
      "Seq_27_LinJ.02 15\n",
      "Seq_28_LinJ.02 16\n",
      "Seq_29_LinJ.02 17\n"
     ]
    }
   ],
   "source": [
    "for key, value in main_dict.items(): print(key, value)"
   ]
  },
  {
   "cell_type": "code",
   "execution_count": 22,
   "metadata": {},
   "outputs": [
    {
     "data": {
      "text/plain": [
       "[['LinJ_c01.10'],\n",
       " ['LinJ_c01.20A',\n",
       "  'LinJ_c01.30A',\n",
       "  'LinJ_c01.50A',\n",
       "  'LinJ_c01.60A',\n",
       "  'LinJ_c01.90A',\n",
       "  'LinJ_c01.100A',\n",
       "  'LinJ_c01.120A'],\n",
       " ['LinJ_c01.40'],\n",
       " ['LinJ_c01.70'],\n",
       " ['LinJ_c01.80'],\n",
       " ['LinJ_c01.110'],\n",
       " ['LinJ_c01.130']]"
      ]
     },
     "execution_count": 22,
     "metadata": {},
     "output_type": "execute_result"
    }
   ],
   "source": [
    "subfamily_naming(\"LinJ.01\", \"LinJ\", data_main)"
   ]
  },
  {
   "cell_type": "code",
   "execution_count": null,
   "metadata": {},
   "outputs": [],
   "source": []
  }
 ],
 "metadata": {
  "kernelspec": {
   "display_name": "Python 3",
   "language": "python",
   "name": "python3"
  },
  "language_info": {
   "codemirror_mode": {
    "name": "ipython",
    "version": 3
   },
   "file_extension": ".py",
   "mimetype": "text/x-python",
   "name": "python",
   "nbconvert_exporter": "python",
   "pygments_lexer": "ipython3",
   "version": "3.12.3"
  }
 },
 "nbformat": 4,
 "nbformat_minor": 2
}
