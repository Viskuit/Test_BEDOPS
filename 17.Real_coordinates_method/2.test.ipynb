{
 "cells": [
  {
   "cell_type": "markdown",
   "metadata": {},
   "source": [
    "# Code"
   ]
  },
  {
   "cell_type": "markdown",
   "metadata": {},
   "source": [
    "## Needed modules"
   ]
  },
  {
   "cell_type": "code",
   "execution_count": 31,
   "metadata": {},
   "outputs": [],
   "source": [
    "# Needed modules\n",
    "import os\n",
    "import subprocess\n",
    "import pandas as pd\n",
    "from Bio import SeqIO\n",
    "from Bio.Seq import Seq\n",
    "from Bio.SeqRecord import SeqRecord"
   ]
  },
  {
   "cell_type": "markdown",
   "metadata": {},
   "source": [
    "## Load data"
   ]
  },
  {
   "cell_type": "code",
   "execution_count": 4,
   "metadata": {},
   "outputs": [
    {
     "name": "stdout",
     "output_type": "stream",
     "text": [
      "(2092, 5)\n",
      "sseqid     object\n",
      "sstart      int64\n",
      "send        int64\n",
      "sstrand    object\n",
      "sseq       object\n",
      "dtype: object\n"
     ]
    },
    {
     "data": {
      "text/html": [
       "<div>\n",
       "<style scoped>\n",
       "    .dataframe tbody tr th:only-of-type {\n",
       "        vertical-align: middle;\n",
       "    }\n",
       "\n",
       "    .dataframe tbody tr th {\n",
       "        vertical-align: top;\n",
       "    }\n",
       "\n",
       "    .dataframe thead th {\n",
       "        text-align: right;\n",
       "    }\n",
       "</style>\n",
       "<table border=\"1\" class=\"dataframe\">\n",
       "  <thead>\n",
       "    <tr style=\"text-align: right;\">\n",
       "      <th></th>\n",
       "      <th>sseqid</th>\n",
       "      <th>sstart</th>\n",
       "      <th>send</th>\n",
       "      <th>sstrand</th>\n",
       "      <th>sseq</th>\n",
       "    </tr>\n",
       "  </thead>\n",
       "  <tbody>\n",
       "    <tr>\n",
       "      <th>0</th>\n",
       "      <td>LinJ.01</td>\n",
       "      <td>1</td>\n",
       "      <td>1000</td>\n",
       "      <td>plus</td>\n",
       "      <td>ACACCAGTACACCAGTACACCAGTACACCAGTACACCAGTACACCA...</td>\n",
       "    </tr>\n",
       "    <tr>\n",
       "      <th>1</th>\n",
       "      <td>LinJ.01</td>\n",
       "      <td>24093</td>\n",
       "      <td>25080</td>\n",
       "      <td>plus</td>\n",
       "      <td>GGGGGAGGCGGGGGAGGCGGGGGGCACGCACCTCCATGCGTGGCAT...</td>\n",
       "    </tr>\n",
       "    <tr>\n",
       "      <th>2</th>\n",
       "      <td>LinJ.01</td>\n",
       "      <td>35371</td>\n",
       "      <td>36297</td>\n",
       "      <td>plus</td>\n",
       "      <td>ACTCCCATCGCCTGGTGCGAAGCAGCGCAAGACACACGCGCGCTGC...</td>\n",
       "    </tr>\n",
       "    <tr>\n",
       "      <th>3</th>\n",
       "      <td>LinJ.01</td>\n",
       "      <td>39790</td>\n",
       "      <td>40595</td>\n",
       "      <td>plus</td>\n",
       "      <td>ATTCTACCGCGAGCAAGGCAGCACACAGACGCACGCACAGCCACAG...</td>\n",
       "    </tr>\n",
       "    <tr>\n",
       "      <th>4</th>\n",
       "      <td>LinJ.01</td>\n",
       "      <td>54983</td>\n",
       "      <td>55909</td>\n",
       "      <td>plus</td>\n",
       "      <td>ACTCTCATCGCCTGGTGCGAAGCAGCGCAAGACACACGCGCGCTGC...</td>\n",
       "    </tr>\n",
       "  </tbody>\n",
       "</table>\n",
       "</div>"
      ],
      "text/plain": [
       "    sseqid  sstart   send sstrand  \\\n",
       "0  LinJ.01       1   1000    plus   \n",
       "1  LinJ.01   24093  25080    plus   \n",
       "2  LinJ.01   35371  36297    plus   \n",
       "3  LinJ.01   39790  40595    plus   \n",
       "4  LinJ.01   54983  55909    plus   \n",
       "\n",
       "                                                sseq  \n",
       "0  ACACCAGTACACCAGTACACCAGTACACCAGTACACCAGTACACCA...  \n",
       "1  GGGGGAGGCGGGGGAGGCGGGGGGCACGCACCTCCATGCGTGGCAT...  \n",
       "2  ACTCCCATCGCCTGGTGCGAAGCAGCGCAAGACACACGCGCGCTGC...  \n",
       "3  ATTCTACCGCGAGCAAGGCAGCACACAGACGCACGCACAGCCACAG...  \n",
       "4  ACTCTCATCGCCTGGTGCGAAGCAGCGCAAGACACACGCGCGCTGC...  "
      ]
     },
     "execution_count": 4,
     "metadata": {},
     "output_type": "execute_result"
    }
   ],
   "source": [
    "# Load al the data\n",
    "df_main = pd.read_csv(\"./data/consensus+LmSIDER2A+B/AL_DATA.csv\", sep=\",\", header=0)\n",
    "print(df_main.shape)\n",
    "print(df_main.dtypes)\n",
    "df_main.head()"
   ]
  },
  {
   "cell_type": "code",
   "execution_count": 7,
   "metadata": {},
   "outputs": [],
   "source": [
    "# Create a column with the length of the sseq\n",
    "df_main[\"length\"] = df_main[\"sseq\"].apply(lambda x: len(x))"
   ]
  },
  {
   "cell_type": "code",
   "execution_count": 8,
   "metadata": {},
   "outputs": [
    {
     "data": {
      "text/html": [
       "<div>\n",
       "<style scoped>\n",
       "    .dataframe tbody tr th:only-of-type {\n",
       "        vertical-align: middle;\n",
       "    }\n",
       "\n",
       "    .dataframe tbody tr th {\n",
       "        vertical-align: top;\n",
       "    }\n",
       "\n",
       "    .dataframe thead th {\n",
       "        text-align: right;\n",
       "    }\n",
       "</style>\n",
       "<table border=\"1\" class=\"dataframe\">\n",
       "  <thead>\n",
       "    <tr style=\"text-align: right;\">\n",
       "      <th></th>\n",
       "      <th>sseqid</th>\n",
       "      <th>sstart</th>\n",
       "      <th>send</th>\n",
       "      <th>sstrand</th>\n",
       "      <th>sseq</th>\n",
       "      <th>length</th>\n",
       "    </tr>\n",
       "  </thead>\n",
       "  <tbody>\n",
       "    <tr>\n",
       "      <th>0</th>\n",
       "      <td>LinJ.01</td>\n",
       "      <td>1</td>\n",
       "      <td>1000</td>\n",
       "      <td>plus</td>\n",
       "      <td>ACACCAGTACACCAGTACACCAGTACACCAGTACACCAGTACACCA...</td>\n",
       "      <td>1000</td>\n",
       "    </tr>\n",
       "    <tr>\n",
       "      <th>1</th>\n",
       "      <td>LinJ.01</td>\n",
       "      <td>24093</td>\n",
       "      <td>25080</td>\n",
       "      <td>plus</td>\n",
       "      <td>GGGGGAGGCGGGGGAGGCGGGGGGCACGCACCTCCATGCGTGGCAT...</td>\n",
       "      <td>988</td>\n",
       "    </tr>\n",
       "    <tr>\n",
       "      <th>2</th>\n",
       "      <td>LinJ.01</td>\n",
       "      <td>35371</td>\n",
       "      <td>36297</td>\n",
       "      <td>plus</td>\n",
       "      <td>ACTCCCATCGCCTGGTGCGAAGCAGCGCAAGACACACGCGCGCTGC...</td>\n",
       "      <td>927</td>\n",
       "    </tr>\n",
       "    <tr>\n",
       "      <th>3</th>\n",
       "      <td>LinJ.01</td>\n",
       "      <td>39790</td>\n",
       "      <td>40595</td>\n",
       "      <td>plus</td>\n",
       "      <td>ATTCTACCGCGAGCAAGGCAGCACACAGACGCACGCACAGCCACAG...</td>\n",
       "      <td>806</td>\n",
       "    </tr>\n",
       "    <tr>\n",
       "      <th>4</th>\n",
       "      <td>LinJ.01</td>\n",
       "      <td>54983</td>\n",
       "      <td>55909</td>\n",
       "      <td>plus</td>\n",
       "      <td>ACTCTCATCGCCTGGTGCGAAGCAGCGCAAGACACACGCGCGCTGC...</td>\n",
       "      <td>927</td>\n",
       "    </tr>\n",
       "  </tbody>\n",
       "</table>\n",
       "</div>"
      ],
      "text/plain": [
       "    sseqid  sstart   send sstrand  \\\n",
       "0  LinJ.01       1   1000    plus   \n",
       "1  LinJ.01   24093  25080    plus   \n",
       "2  LinJ.01   35371  36297    plus   \n",
       "3  LinJ.01   39790  40595    plus   \n",
       "4  LinJ.01   54983  55909    plus   \n",
       "\n",
       "                                                sseq  length  \n",
       "0  ACACCAGTACACCAGTACACCAGTACACCAGTACACCAGTACACCA...    1000  \n",
       "1  GGGGGAGGCGGGGGAGGCGGGGGGCACGCACCTCCATGCGTGGCAT...     988  \n",
       "2  ACTCCCATCGCCTGGTGCGAAGCAGCGCAAGACACACGCGCGCTGC...     927  \n",
       "3  ATTCTACCGCGAGCAAGGCAGCACACAGACGCACGCACAGCCACAG...     806  \n",
       "4  ACTCTCATCGCCTGGTGCGAAGCAGCGCAAGACACACGCGCGCTGC...     927  "
      ]
     },
     "execution_count": 8,
     "metadata": {},
     "output_type": "execute_result"
    }
   ],
   "source": [
    "# Check df\n",
    "df_main.head()"
   ]
  },
  {
   "cell_type": "code",
   "execution_count": 15,
   "metadata": {},
   "outputs": [
    {
     "data": {
      "text/plain": [
       "sseqid     object\n",
       "sstart      int64\n",
       "send        int64\n",
       "sstrand    object\n",
       "sseq       object\n",
       "length      int64\n",
       "dtype: object"
      ]
     },
     "execution_count": 15,
     "metadata": {},
     "output_type": "execute_result"
    }
   ],
   "source": [
    "# check dtypes\n",
    "df_main.dtypes"
   ]
  },
  {
   "cell_type": "code",
   "execution_count": 9,
   "metadata": {},
   "outputs": [
    {
     "data": {
      "text/plain": [
       "count     2092.000000\n",
       "mean       827.937859\n",
       "std        467.971245\n",
       "min        101.000000\n",
       "25%        649.000000\n",
       "50%        770.000000\n",
       "75%        921.000000\n",
       "max      10546.000000\n",
       "Name: length, dtype: float64"
      ]
     },
     "execution_count": 9,
     "metadata": {},
     "output_type": "execute_result"
    }
   ],
   "source": [
    "# describe length column\n",
    "df_main[\"length\"].describe()"
   ]
  },
  {
   "cell_type": "code",
   "execution_count": 19,
   "metadata": {},
   "outputs": [
    {
     "data": {
      "text/html": [
       "<div>\n",
       "<style scoped>\n",
       "    .dataframe tbody tr th:only-of-type {\n",
       "        vertical-align: middle;\n",
       "    }\n",
       "\n",
       "    .dataframe tbody tr th {\n",
       "        vertical-align: top;\n",
       "    }\n",
       "\n",
       "    .dataframe thead th {\n",
       "        text-align: right;\n",
       "    }\n",
       "</style>\n",
       "<table border=\"1\" class=\"dataframe\">\n",
       "  <thead>\n",
       "    <tr style=\"text-align: right;\">\n",
       "      <th></th>\n",
       "      <th>sseqid</th>\n",
       "      <th>sstart</th>\n",
       "      <th>send</th>\n",
       "      <th>sstrand</th>\n",
       "      <th>sseq</th>\n",
       "      <th>length</th>\n",
       "    </tr>\n",
       "  </thead>\n",
       "  <tbody>\n",
       "    <tr>\n",
       "      <th>0</th>\n",
       "      <td>LinJ.01</td>\n",
       "      <td>1</td>\n",
       "      <td>1000</td>\n",
       "      <td>plus</td>\n",
       "      <td>ACACCAGTACACCAGTACACCAGTACACCAGTACACCAGTACACCA...</td>\n",
       "      <td>1000</td>\n",
       "    </tr>\n",
       "    <tr>\n",
       "      <th>1</th>\n",
       "      <td>LinJ.01</td>\n",
       "      <td>24093</td>\n",
       "      <td>25080</td>\n",
       "      <td>plus</td>\n",
       "      <td>GGGGGAGGCGGGGGAGGCGGGGGGCACGCACCTCCATGCGTGGCAT...</td>\n",
       "      <td>988</td>\n",
       "    </tr>\n",
       "    <tr>\n",
       "      <th>2</th>\n",
       "      <td>LinJ.01</td>\n",
       "      <td>35371</td>\n",
       "      <td>36297</td>\n",
       "      <td>plus</td>\n",
       "      <td>ACTCCCATCGCCTGGTGCGAAGCAGCGCAAGACACACGCGCGCTGC...</td>\n",
       "      <td>927</td>\n",
       "    </tr>\n",
       "    <tr>\n",
       "      <th>4</th>\n",
       "      <td>LinJ.01</td>\n",
       "      <td>54983</td>\n",
       "      <td>55909</td>\n",
       "      <td>plus</td>\n",
       "      <td>ACTCTCATCGCCTGGTGCGAAGCAGCGCAAGACACACGCGCGCTGC...</td>\n",
       "      <td>927</td>\n",
       "    </tr>\n",
       "    <tr>\n",
       "      <th>10</th>\n",
       "      <td>LinJ.01</td>\n",
       "      <td>145322</td>\n",
       "      <td>146653</td>\n",
       "      <td>plus</td>\n",
       "      <td>ATCCCCACGGGGTGGTGAGGCGAGAAGTCAGGGGTCGGGCACGCGC...</td>\n",
       "      <td>1332</td>\n",
       "    </tr>\n",
       "    <tr>\n",
       "      <th>...</th>\n",
       "      <td>...</td>\n",
       "      <td>...</td>\n",
       "      <td>...</td>\n",
       "      <td>...</td>\n",
       "      <td>...</td>\n",
       "      <td>...</td>\n",
       "    </tr>\n",
       "    <tr>\n",
       "      <th>2074</th>\n",
       "      <td>LinJ.36</td>\n",
       "      <td>2498408</td>\n",
       "      <td>2502567</td>\n",
       "      <td>plus</td>\n",
       "      <td>ACAACAAAACTGACGCTATTGAAAGCGGCTCTCGAGAAGCTTTCCT...</td>\n",
       "      <td>4160</td>\n",
       "    </tr>\n",
       "    <tr>\n",
       "      <th>2075</th>\n",
       "      <td>LinJ.36</td>\n",
       "      <td>2504116</td>\n",
       "      <td>2505057</td>\n",
       "      <td>plus</td>\n",
       "      <td>TGTGTCCATTCTCTGCCACACAACATGAGCTAAGCTCTACTCTGCC...</td>\n",
       "      <td>942</td>\n",
       "    </tr>\n",
       "    <tr>\n",
       "      <th>2076</th>\n",
       "      <td>LinJ.36</td>\n",
       "      <td>2533606</td>\n",
       "      <td>2534550</td>\n",
       "      <td>plus</td>\n",
       "      <td>CAACGTGTCCATTCTCTGCCACACAACATGAGCTAAGCTCTACTCT...</td>\n",
       "      <td>945</td>\n",
       "    </tr>\n",
       "    <tr>\n",
       "      <th>2081</th>\n",
       "      <td>LinJ.36</td>\n",
       "      <td>2600817</td>\n",
       "      <td>2601884</td>\n",
       "      <td>plus</td>\n",
       "      <td>GCGCATGCCGAGCACCGCTGGCATGTGGTGTGCCGCATCCGACCGA...</td>\n",
       "      <td>1068</td>\n",
       "    </tr>\n",
       "    <tr>\n",
       "      <th>2088</th>\n",
       "      <td>LinJ.36</td>\n",
       "      <td>2659310</td>\n",
       "      <td>2660377</td>\n",
       "      <td>plus</td>\n",
       "      <td>GCGCATGCCGAGCACCGCTGGCATGTGGTGTGCCGCATCCGACCGA...</td>\n",
       "      <td>1068</td>\n",
       "    </tr>\n",
       "  </tbody>\n",
       "</table>\n",
       "<p>521 rows × 6 columns</p>\n",
       "</div>"
      ],
      "text/plain": [
       "       sseqid   sstart     send sstrand  \\\n",
       "0     LinJ.01        1     1000    plus   \n",
       "1     LinJ.01    24093    25080    plus   \n",
       "2     LinJ.01    35371    36297    plus   \n",
       "4     LinJ.01    54983    55909    plus   \n",
       "10    LinJ.01   145322   146653    plus   \n",
       "...       ...      ...      ...     ...   \n",
       "2074  LinJ.36  2498408  2502567    plus   \n",
       "2075  LinJ.36  2504116  2505057    plus   \n",
       "2076  LinJ.36  2533606  2534550    plus   \n",
       "2081  LinJ.36  2600817  2601884    plus   \n",
       "2088  LinJ.36  2659310  2660377    plus   \n",
       "\n",
       "                                                   sseq  length  \n",
       "0     ACACCAGTACACCAGTACACCAGTACACCAGTACACCAGTACACCA...    1000  \n",
       "1     GGGGGAGGCGGGGGAGGCGGGGGGCACGCACCTCCATGCGTGGCAT...     988  \n",
       "2     ACTCCCATCGCCTGGTGCGAAGCAGCGCAAGACACACGCGCGCTGC...     927  \n",
       "4     ACTCTCATCGCCTGGTGCGAAGCAGCGCAAGACACACGCGCGCTGC...     927  \n",
       "10    ATCCCCACGGGGTGGTGAGGCGAGAAGTCAGGGGTCGGGCACGCGC...    1332  \n",
       "...                                                 ...     ...  \n",
       "2074  ACAACAAAACTGACGCTATTGAAAGCGGCTCTCGAGAAGCTTTCCT...    4160  \n",
       "2075  TGTGTCCATTCTCTGCCACACAACATGAGCTAAGCTCTACTCTGCC...     942  \n",
       "2076  CAACGTGTCCATTCTCTGCCACACAACATGAGCTAAGCTCTACTCT...     945  \n",
       "2081  GCGCATGCCGAGCACCGCTGGCATGTGGTGTGCCGCATCCGACCGA...    1068  \n",
       "2088  GCGCATGCCGAGCACCGCTGGCATGTGGTGTGCCGCATCCGACCGA...    1068  \n",
       "\n",
       "[521 rows x 6 columns]"
      ]
     },
     "execution_count": 19,
     "metadata": {},
     "output_type": "execute_result"
    }
   ],
   "source": [
    "# Le'ts check the length of the elements above the third quartile\n",
    "long_seqs = df_main[df_main[\"length\"] > int(df_main[\"length\"].describe()[\"75%\"])].copy()\n",
    "long_seqs"
   ]
  },
  {
   "cell_type": "code",
   "execution_count": 25,
   "metadata": {},
   "outputs": [],
   "source": [
    "long_seqs_values = pd.DataFrame(long_seqs[\"length\"].value_counts(sort=False))"
   ]
  },
  {
   "cell_type": "code",
   "execution_count": 30,
   "metadata": {},
   "outputs": [
    {
     "data": {
      "text/html": [
       "<div>\n",
       "<style scoped>\n",
       "    .dataframe tbody tr th:only-of-type {\n",
       "        vertical-align: middle;\n",
       "    }\n",
       "\n",
       "    .dataframe tbody tr th {\n",
       "        vertical-align: top;\n",
       "    }\n",
       "\n",
       "    .dataframe thead th {\n",
       "        text-align: right;\n",
       "    }\n",
       "</style>\n",
       "<table border=\"1\" class=\"dataframe\">\n",
       "  <thead>\n",
       "    <tr style=\"text-align: right;\">\n",
       "      <th></th>\n",
       "      <th>count</th>\n",
       "    </tr>\n",
       "    <tr>\n",
       "      <th>length</th>\n",
       "      <th></th>\n",
       "    </tr>\n",
       "  </thead>\n",
       "  <tbody>\n",
       "    <tr>\n",
       "      <th>10546</th>\n",
       "      <td>1</td>\n",
       "    </tr>\n",
       "    <tr>\n",
       "      <th>5635</th>\n",
       "      <td>1</td>\n",
       "    </tr>\n",
       "    <tr>\n",
       "      <th>4239</th>\n",
       "      <td>1</td>\n",
       "    </tr>\n",
       "    <tr>\n",
       "      <th>4160</th>\n",
       "      <td>1</td>\n",
       "    </tr>\n",
       "    <tr>\n",
       "      <th>4096</th>\n",
       "      <td>1</td>\n",
       "    </tr>\n",
       "    <tr>\n",
       "      <th>...</th>\n",
       "      <td>...</td>\n",
       "    </tr>\n",
       "    <tr>\n",
       "      <th>927</th>\n",
       "      <td>5</td>\n",
       "    </tr>\n",
       "    <tr>\n",
       "      <th>926</th>\n",
       "      <td>2</td>\n",
       "    </tr>\n",
       "    <tr>\n",
       "      <th>924</th>\n",
       "      <td>1</td>\n",
       "    </tr>\n",
       "    <tr>\n",
       "      <th>923</th>\n",
       "      <td>3</td>\n",
       "    </tr>\n",
       "    <tr>\n",
       "      <th>922</th>\n",
       "      <td>5</td>\n",
       "    </tr>\n",
       "  </tbody>\n",
       "</table>\n",
       "<p>351 rows × 1 columns</p>\n",
       "</div>"
      ],
      "text/plain": [
       "        count\n",
       "length       \n",
       "10546       1\n",
       "5635        1\n",
       "4239        1\n",
       "4160        1\n",
       "4096        1\n",
       "...       ...\n",
       "927         5\n",
       "926         2\n",
       "924         1\n",
       "923         3\n",
       "922         5\n",
       "\n",
       "[351 rows x 1 columns]"
      ]
     },
     "execution_count": 30,
     "metadata": {},
     "output_type": "execute_result"
    }
   ],
   "source": [
    "long_seqs_values.sort_index(inplace=True, ascending=False)\n",
    "long_seqs_values"
   ]
  },
  {
   "cell_type": "markdown",
   "metadata": {},
   "source": [
    "Now I have two values:\n",
    "- `df_main` ==> with the 2092 elements\n",
    "- `long_seqs`==> subset of  `df_main` with the elements with a length >Q3"
   ]
  },
  {
   "cell_type": "markdown",
   "metadata": {},
   "source": [
    "## Main code"
   ]
  },
  {
   "cell_type": "markdown",
   "metadata": {},
   "source": [
    "### Prepare functions"
   ]
  },
  {
   "cell_type": "code",
   "execution_count": 34,
   "metadata": {},
   "outputs": [],
   "source": [
    "# Prepare functions\n",
    "# Needed functions\n",
    "def fasta_creator(csv_input, output_path):\n",
    "    matrix = []\n",
    "    for index, row in csv_input.iterrows():\n",
    "        rec = SeqRecord(Seq(row[\"sseq\"]), \n",
    "                        id = f\"Seq_{index}_{row['sseqid']}\",\n",
    "                        description = \"Leishmania infantum\"\n",
    "                        )\n",
    "        matrix.append(rec)\n",
    "    SeqIO.write(matrix, output_path, \"fasta\")\n",
    "\n",
    "def blastn_dic(path_input, path_output):\n",
    "    # \"parse_seqids\" is used to keep the sequence ID in the output.\n",
    "    cmd = f\"makeblastdb -in {path_input} -dbtype nucl -parse_seqids -out {path_output}\"\n",
    "    subprocess.run(cmd, shell=True, stdout=subprocess.DEVNULL, stderr=subprocess.DEVNULL)\n",
    "\n",
    "def blastn_blaster(query_path, dict_path):\n",
    "    cmd = \"blastn -word_size 11 -query \" \\\n",
    "        + query_path + \" -db \" \\\n",
    "        + dict_path \\\n",
    "        + \" -outfmt '10 qseqid sseqid pident qstart qend sstart send evalue bitscore length qlen qcovs slen'\"\n",
    "    data = subprocess.check_output(cmd, shell=True, universal_newlines=True)  # Important the E value\n",
    "    data = pd.DataFrame([x.split(\",\") for x in data.split(\"\\n\") if x])\n",
    "    if not data.empty:  # If the dataframe is not empty\n",
    "        data.columns = [\"qseqid\", \"sseqid\", \"pident\", \"qstart\", \"qend\", \"sstart\", \"send\", \"evalue\", \"bitscore\", \"length\", \"qlen\", \"qcovs\", \"slen\"]\n",
    "        data[['pident',  'qstart', 'qend', 'sstart', 'send', 'evalue', 'bitscore', 'length', 'qlen', 'qcovs', 'slen']] = data[['pident',  'qstart', 'qend', 'sstart', 'send', 'evalue', 'bitscore', 'length', 'qlen', 'qcovs', 'slen']].apply(pd.to_numeric)\n",
    "    else:  # If the dataframe is empty\n",
    "        data = pd.DataFrame(columns=[\"qseqid\", \"sseqid\", \"pident\", \"qstart\", \"qend\", \"sstart\", \"send\", \"evalue\", \"bitscore\", \"length\", \"qlen\", \"qcovs\", \"slen\"])  # Create an empty dataframe\n",
    "    return data  "
   ]
  },
  {
   "cell_type": "markdown",
   "metadata": {},
   "source": [
    "### Prepare paths"
   ]
  },
  {
   "cell_type": "code",
   "execution_count": 32,
   "metadata": {},
   "outputs": [],
   "source": [
    "# Prepare paths\n",
    "path_genome = \"../0.Data/genome/L_infantum/TriTrypDB-67_LinfantumJPCM5_Genome.fasta\""
   ]
  },
  {
   "cell_type": "markdown",
   "metadata": {},
   "source": [
    "### Prepare blastn dicts"
   ]
  },
  {
   "cell_type": "code",
   "execution_count": null,
   "metadata": {},
   "outputs": [],
   "source": [
    "blastn_dic(path_input=path_genome, path_output=path_genome)"
   ]
  },
  {
   "cell_type": "markdown",
   "metadata": {},
   "source": [
    "### Test"
   ]
  },
  {
   "cell_type": "code",
   "execution_count": null,
   "metadata": {},
   "outputs": [],
   "source": []
  }
 ],
 "metadata": {
  "kernelspec": {
   "display_name": "Python 3",
   "language": "python",
   "name": "python3"
  },
  "language_info": {
   "codemirror_mode": {
    "name": "ipython",
    "version": 3
   },
   "file_extension": ".py",
   "mimetype": "text/x-python",
   "name": "python",
   "nbconvert_exporter": "python",
   "pygments_lexer": "ipython3",
   "version": "3.12.3"
  }
 },
 "nbformat": 4,
 "nbformat_minor": 2
}
