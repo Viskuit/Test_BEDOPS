{
 "cells": [
  {
   "cell_type": "markdown",
   "metadata": {},
   "source": [
    "# Save/Retrieve workspace"
   ]
  },
  {
   "cell_type": "code",
   "execution_count": 361,
   "metadata": {},
   "outputs": [],
   "source": [
    "path_workspace_fodler = \"./save_workspace\"\n",
    "os.makedirs(path_workspace_fodler, exist_ok=True)\n",
    "path_worskpace = os.path.join(path_workspace_fodler, \"5.main_vs_contrast.pkl\")"
   ]
  },
  {
   "cell_type": "markdown",
   "metadata": {},
   "source": [
    "## Save"
   ]
  },
  {
   "cell_type": "code",
   "execution_count": 362,
   "metadata": {},
   "outputs": [],
   "source": [
    "#  # To save the workspace\n",
    "# import pickle\n",
    "\n",
    "# # Example dictionary of variables to save\n",
    "# variables_to_save = {\n",
    "#     'var1': true_data,  # The pandas DataFrame\n",
    "#     'var2': main_data,  # The pandas DataFrame\n",
    "#     'var3': contrast_1,  # The pandas DataFrame\n",
    "#     'var4': contrast_2,\n",
    "#     'var4': columns_needed\n",
    "# }\n",
    "\n",
    "# # Save the dictionary to a file\n",
    "# with open(path_worskpace, 'wb') as f:\n",
    "#     pickle.dump(variables_to_save, f)"
   ]
  },
  {
   "cell_type": "markdown",
   "metadata": {},
   "source": [
    "## Retrieve"
   ]
  },
  {
   "cell_type": "code",
   "execution_count": null,
   "metadata": {},
   "outputs": [],
   "source": [
    "# # To retrieve the workspace\n",
    "# import pickle\n",
    "\n",
    "# # Load the saved variables\n",
    "# with open(path_worskpace, 'rb') as f:\n",
    "#     loaded_variables = pickle.load(f)\n",
    "\n",
    "# # Retrieve your variables\n",
    "# true_data = loaded_variables['var1']\n",
    "# main_data = loaded_variables['var2']\n",
    "# contrast_1 = loaded_variables['var3']\n",
    "# contrast_2 = loaded_variables['var4']\n",
    "# columns_needed = loaded_variables['var5']"
   ]
  },
  {
   "cell_type": "markdown",
   "metadata": {},
   "source": [
    "# Code"
   ]
  },
  {
   "cell_type": "code",
   "execution_count": 358,
   "metadata": {},
   "outputs": [],
   "source": [
    "import pandas as pd\n",
    "import subprocess\n",
    "import matplotlib.pyplot as plt\n",
    "import seaborn as sns\n",
    "from Bio import SeqIO\n",
    "import os"
   ]
  },
  {
   "cell_type": "markdown",
   "metadata": {},
   "source": [
    "## Prepare data"
   ]
  },
  {
   "cell_type": "markdown",
   "metadata": {},
   "source": [
    "- `true_data`= the elements that passed the previous thest\n",
    "- `main_data`=  Consensus+LmSIDER2A|B matched with LmSIDER and evalue $\\leq 10^{-3}$\n",
    "- `contrast_1` = Consensus+LmSIDER2A|B matched with LmSIDER and evalue $> 10^{-3}$\n",
    "- `contrast_2` = Consensus+LmSIDER2A|B NOT matched with LmSIDER\n"
   ]
  },
  {
   "cell_type": "markdown",
   "metadata": {},
   "source": [
    "### Prepare true data"
   ]
  },
  {
   "cell_type": "code",
   "execution_count": 302,
   "metadata": {},
   "outputs": [
    {
     "name": "stdout",
     "output_type": "stream",
     "text": [
      "    sseqid  sstart   send sstrand  \\\n",
      "0  LinJ.01       1   1000    plus   \n",
      "1  LinJ.01   24093  25080    plus   \n",
      "\n",
      "                                                sseq  \n",
      "0  ACACCAGTACACCAGTACACCAGTACACCAGTACACCAGTACACCA...  \n",
      "1  GGGGGAGGCGGGGGAGGCGGGGGGCACGCACCTCCATGCGTGGCAT...  \n"
     ]
    }
   ],
   "source": [
    "# Prepare \"true_data\"\n",
    "path_genome = \"./data/L_infantum/dict/TriTrypDB-67_LinfantumJPCM5_Genome.fasta\"\n",
    "pre_true_data = pd.read_csv(\"./data/consensus+LmSIDER2A+B/positives_testing_elements.csv\", sep=\",\", header=0)\n",
    "print(pre_true_data.head(2))"
   ]
  },
  {
   "cell_type": "code",
   "execution_count": 320,
   "metadata": {},
   "outputs": [],
   "source": [
    "def fasta_creator(csv_input, output_path):\n",
    "    matrix = []\n",
    "    for index, row in csv_input.iterrows():\n",
    "        rec = SeqRecord(Seq(row[\"sseq\"]), \n",
    "                        id = f\"Seq_{index}_{row['sseqid']}\",\n",
    "                        description = \"Leishmania infantum\"\n",
    "                        )\n",
    "        matrix.append(rec)\n",
    "    SeqIO.write(matrix, output_path, \"fasta\")\n",
    "\n",
    "def blastn_blaster(query_path, dict_path):\n",
    "    cmd = \"blastn -word_size 11 -query \" \\\n",
    "        + query_path + \" -db \" \\\n",
    "        + dict_path \\\n",
    "        + \" -outfmt '10 qseqid sseqid pident qstart qend sstart send evalue bitscore length qlen qcovs slen'\"\n",
    "    data = subprocess.run(cmd, shell=True, capture_output=True, text=True, universal_newlines=True, executable='/usr/bin/bash')  # Important the E value\n",
    "    data = data.stdout\n",
    "    data = pd.DataFrame([x.split(\",\") for x in data.split(\"\\n\") if x])\n",
    "    if not data.empty:  # If the dataframe is not empty\n",
    "        data.columns = [\"qseqid\", \"sseqid\", \"pident\", \"qstart\", \"qend\", \"sstart\", \"send\", \"evalue\", \"bitscore\", \"length\", \"qlen\", \"qcovs\", \"slen\"]\n",
    "        data[['pident',  'qstart', 'qend', 'sstart', 'send', 'evalue', 'bitscore', 'length', 'qlen', 'qcovs', 'slen']] = data[['pident',  'qstart', 'qend', 'sstart', 'send', 'evalue', 'bitscore', 'length', 'qlen', 'qcovs', 'slen']].apply(pd.to_numeric)\n",
    "    else:  # If the dataframe is empty\n",
    "        data = pd.DataFrame(columns=[\"qseqid\", \"sseqid\", \"pident\", \"qstart\", \"qend\", \"sstart\", \"send\", \"evalue\", \"bitscore\", \"length\", \"qlen\", \"qcovs\", \"slen\"])  # Create an empty dataframe\n",
    "    return data \n",
    "\n",
    "def df_blasting_whole(data_input, genome_path):  # version with csv\n",
    "    whole_df = pd.DataFrame()\n",
    "    for count, row in data_input.iterrows():\n",
    "        name_id = f\"Seq_{count}_{row[\"sseqid\"]}\"\n",
    "        query = f\"<(echo -e '>{name_id}\\n{row[\"sseq\"]}')\"\n",
    "        data = blastn_blaster(query_path=query, dict_path=genome_path)\n",
    "        data.sort_values(by=\"evalue\", ascending=True, inplace=True)\n",
    "        if not data.empty:\n",
    "            whole_df = pd.concat([whole_df, data], ignore_index=True)\n",
    "        else:\n",
    "            continue\n",
    "    whole_df.sort_values(by=\"evalue\", ascending=True, inplace=True)\n",
    "    return whole_df"
   ]
  },
  {
   "cell_type": "code",
   "execution_count": 321,
   "metadata": {},
   "outputs": [],
   "source": [
    "true_data = df_blasting_whole(data_input=pre_true_data, genome_path=path_genome)\n",
    "true_data.to_csv(\"./data/consensus+LmSIDER2A+B/neg_dat_filter_decider/TP_positive_whole.csv\", sep=\",\", header=True)"
   ]
  },
  {
   "cell_type": "code",
   "execution_count": 286,
   "metadata": {},
   "outputs": [],
   "source": [
    "# Load data\n",
    "true_data = pd.read_csv(\"./data/consensus+LmSIDER2A+B/neg_dat_filter_decider/TP_positive_whole.csv\", sep=\",\", header=0)\n",
    "main_data = pd.read_csv(\"./data/consensus+LmSIDER2A+B/neg_dat_filter_decider/main/whole.csv\", sep=\",\", header=0)\n",
    "contrast_1 = pd.read_csv(\"./data/consensus+LmSIDER2A+B/neg_dat_filter_decider/contrast/neg_data_LmSIDER2A+B_and_no_evalue/whole.csv\", sep=\",\", header=0)\n",
    "contrast_2 = pd.read_csv(\"./data/consensus+LmSIDER2A+B/neg_dat_filter_decider/contrast/neg_data_no_LmSIDER2A+B/whole.csv\", sep=\",\", header=0)"
   ]
  },
  {
   "cell_type": "code",
   "execution_count": 324,
   "metadata": {},
   "outputs": [
    {
     "name": "stdout",
     "output_type": "stream",
     "text": [
      "          qseqid   sseqid   pident  qstart  qend  sstart  send        evalue  \\\n",
      "0  Seq_0_LinJ.01  LinJ.01  100.000       1  1000       1  1000  0.000000e+00   \n",
      "1  Seq_0_LinJ.01  LinJ.31   98.765       1   162    1404  1565  2.800000e-77   \n",
      "\n",
      "   bitscore  length  qlen  qcovs     slen  \n",
      "0    1847.0    1000  1000    100   278267  \n",
      "1     289.0     162  1000     16  1529246  \n",
      "           qseqid   sseqid   pident  qstart  qend  sstart    send  evalue  \\\n",
      "0  Seq_11_LinJ.02  LinJ.02   97.194       1   392  268717  269108     0.0   \n",
      "1  Seq_29_LinJ.04  LinJ.04  100.000       1   585  394441  395025     0.0   \n",
      "\n",
      "   bitscore  length  qlen  qcovs    slen  \n",
      "0     664.0     392   635    100  356299  \n",
      "1    1081.0     585   585    100  466507  \n",
      "            qseqid   sseqid  pident  qstart  qend  sstart    send  evalue  \\\n",
      "0  Seq_140_LinJ.12  LinJ.12   99.04     943  1567  419342  419966     0.0   \n",
      "1  Seq_151_LinJ.12  LinJ.12   94.56    2019  2628  425032  425655     0.0   \n",
      "\n",
      "   bitscore  length  qlen  qcovs    slen  \n",
      "0    1122.0     625  1567    100  593475  \n",
      "1     952.0     625  2632    100  593475  \n",
      "            qseqid   sseqid   pident  qstart  qend  sstart    send  evalue  \\\n",
      "0  Seq_675_LinJ.36  LinJ.36   99.301       6   434  572170  571742     0.0   \n",
      "1  Seq_208_LinJ.17  LinJ.17  100.000       1   990  689651  690640     0.0   \n",
      "\n",
      "   bitscore  length  qlen  qcovs     slen  \n",
      "0     776.0     429   434    100  2743073  \n",
      "1    1829.0     990   990    100   690898  \n"
     ]
    }
   ],
   "source": [
    "# Check heads\n",
    "print(true_data.head(2))\n",
    "print(main_data.head(2))\n",
    "print(contrast_1.head(2))\n",
    "print(contrast_2.head(2))"
   ]
  },
  {
   "cell_type": "code",
   "execution_count": 326,
   "metadata": {},
   "outputs": [
    {
     "name": "stdout",
     "output_type": "stream",
     "text": [
      "(1465886, 13)\n",
      "(8607, 13)\n",
      "(10711, 13)\n",
      "(124745, 13)\n"
     ]
    }
   ],
   "source": [
    "# Check shapes\n",
    "print(true_data.shape)\n",
    "print(main_data.shape)\n",
    "print(contrast_1.shape)\n",
    "print(contrast_2.shape)"
   ]
  },
  {
   "cell_type": "code",
   "execution_count": 327,
   "metadata": {},
   "outputs": [
    {
     "name": "stdout",
     "output_type": "stream",
     "text": [
      "qseqid       object\n",
      "sseqid       object\n",
      "pident      float64\n",
      "qstart        int64\n",
      "qend          int64\n",
      "sstart        int64\n",
      "send          int64\n",
      "evalue      float64\n",
      "bitscore    float64\n",
      "length        int64\n",
      "qlen          int64\n",
      "qcovs         int64\n",
      "slen          int64\n",
      "dtype: object\n",
      "qseqid       object\n",
      "sseqid       object\n",
      "pident      float64\n",
      "qstart        int64\n",
      "qend          int64\n",
      "sstart        int64\n",
      "send          int64\n",
      "evalue      float64\n",
      "bitscore    float64\n",
      "length        int64\n",
      "qlen          int64\n",
      "qcovs         int64\n",
      "slen          int64\n",
      "dtype: object\n",
      "qseqid       object\n",
      "sseqid       object\n",
      "pident      float64\n",
      "qstart        int64\n",
      "qend          int64\n",
      "sstart        int64\n",
      "send          int64\n",
      "evalue      float64\n",
      "bitscore    float64\n",
      "length        int64\n",
      "qlen          int64\n",
      "qcovs         int64\n",
      "slen          int64\n",
      "dtype: object\n",
      "qseqid       object\n",
      "sseqid       object\n",
      "pident      float64\n",
      "qstart        int64\n",
      "qend          int64\n",
      "sstart        int64\n",
      "send          int64\n",
      "evalue      float64\n",
      "bitscore    float64\n",
      "length        int64\n",
      "qlen          int64\n",
      "qcovs         int64\n",
      "slen          int64\n",
      "dtype: object\n"
     ]
    }
   ],
   "source": [
    "# check types\n",
    "print(true_data.dtypes)\n",
    "print(main_data.dtypes)\n",
    "print(contrast_1.dtypes)\n",
    "print(contrast_2.dtypes)"
   ]
  },
  {
   "cell_type": "code",
   "execution_count": 328,
   "metadata": {},
   "outputs": [
    {
     "name": "stdout",
     "output_type": "stream",
     "text": [
      "2069\n",
      "23\n",
      "43\n",
      "646\n"
     ]
    }
   ],
   "source": [
    "# Get unique values in \"qseqid\"\n",
    "print(true_data[\"qseqid\"].nunique())\n",
    "print(main_data[\"qseqid\"].nunique())\n",
    "print(contrast_1[\"qseqid\"].nunique())\n",
    "print(contrast_2[\"qseqid\"].nunique())"
   ]
  },
  {
   "cell_type": "code",
   "execution_count": 329,
   "metadata": {},
   "outputs": [],
   "source": [
    "columns_needed = ['pident', 'evalue', 'bitscore', 'length', 'qcovs']"
   ]
  },
  {
   "cell_type": "markdown",
   "metadata": {},
   "source": [
    "## 1) Data without more filtering"
   ]
  },
  {
   "cell_type": "code",
   "execution_count": 330,
   "metadata": {},
   "outputs": [
    {
     "data": {
      "text/plain": [
       "Index(['qseqid', 'sseqid', 'pident', 'qstart', 'qend', 'sstart', 'send',\n",
       "       'evalue', 'bitscore', 'length', 'qlen', 'qcovs', 'slen'],\n",
       "      dtype='object')"
      ]
     },
     "execution_count": 330,
     "metadata": {},
     "output_type": "execute_result"
    }
   ],
   "source": [
    "main_data.columns"
   ]
  },
  {
   "cell_type": "code",
   "execution_count": 331,
   "metadata": {},
   "outputs": [
    {
     "name": "stdout",
     "output_type": "stream",
     "text": [
      "0 0\n",
      "0 1\n",
      "0 2\n",
      "1 0\n",
      "1 1\n"
     ]
    }
   ],
   "source": [
    "for i, column in enumerate(columns_needed):\n",
    "    row, col = divmod(i, 3)\n",
    "    print(row, col)"
   ]
  },
  {
   "cell_type": "code",
   "execution_count": 341,
   "metadata": {},
   "outputs": [
    {
     "data": {
      "image/png": "[encoded data removed]",
      "text/plain": [
       "<Figure size 2000x1000 with 6 Axes>"
      ]
     },
     "metadata": {},
     "output_type": "display_data"
    }
   ],
   "source": [
    "# Make boxplot in each data same for the columns in columns_needed\n",
    "columns_needed = ['pident', 'evalue', 'bitscore', 'length', 'qcovs']\n",
    "data0, data1, data2, data3 = true_data, main_data, contrast_1, contrast_2\n",
    "fig, ax = plt.subplots(2,3, figsize=(20,10))\n",
    "\n",
    "for i, column in enumerate(columns_needed):\n",
    "    row, col = divmod(i, 3)  # Calculate row and column indices\n",
    "    column_data = pd.concat([data0[column], data1[column], data2[column], data3[column]], axis=1)\n",
    "    column_data.columns = ['TP', 'main', 'contrast1', 'contrast2']\n",
    "    sns.boxplot(data=column_data, ax=ax[row, col])\n",
    "    ax[row, col].set_title(column)\n",
    "    ax[row, col].set_xticks([0, 1, 2, 4])\n",
    "    ax[row, col].set_xticklabels(['TP', 'main', 'contrast1', 'contrast2'])\n",
    "\n",
    "plt.tight_layout()\n",
    "plt.show()\n",
    "plt.close()"
   ]
  },
  {
   "cell_type": "code",
   "execution_count": 353,
   "metadata": {},
   "outputs": [
    {
     "data": {
      "text/html": [
       "<div>\n",
       "<style scoped>\n",
       "    .dataframe tbody tr th:only-of-type {\n",
       "        vertical-align: middle;\n",
       "    }\n",
       "\n",
       "    .dataframe tbody tr th {\n",
       "        vertical-align: top;\n",
       "    }\n",
       "\n",
       "    .dataframe thead th {\n",
       "        text-align: right;\n",
       "    }\n",
       "</style>\n",
       "<table border=\"1\" class=\"dataframe\">\n",
       "  <thead>\n",
       "    <tr style=\"text-align: right;\">\n",
       "      <th></th>\n",
       "      <th>TP</th>\n",
       "      <th>main</th>\n",
       "      <th>contrast1</th>\n",
       "      <th>contrast2</th>\n",
       "    </tr>\n",
       "  </thead>\n",
       "  <tbody>\n",
       "    <tr>\n",
       "      <th>count</th>\n",
       "      <td>1.465886e+06</td>\n",
       "      <td>8607.000000</td>\n",
       "      <td>10711.000000</td>\n",
       "      <td>124745.000000</td>\n",
       "    </tr>\n",
       "    <tr>\n",
       "      <th>mean</th>\n",
       "      <td>8.068736e+01</td>\n",
       "      <td>86.919267</td>\n",
       "      <td>88.736326</td>\n",
       "      <td>89.885169</td>\n",
       "    </tr>\n",
       "    <tr>\n",
       "      <th>std</th>\n",
       "      <td>7.630203e+00</td>\n",
       "      <td>7.612015</td>\n",
       "      <td>7.919744</td>\n",
       "      <td>7.754775</td>\n",
       "    </tr>\n",
       "    <tr>\n",
       "      <th>min</th>\n",
       "      <td>6.913400e+01</td>\n",
       "      <td>71.023000</td>\n",
       "      <td>70.854000</td>\n",
       "      <td>69.921000</td>\n",
       "    </tr>\n",
       "    <tr>\n",
       "      <th>25%</th>\n",
       "      <td>7.482500e+01</td>\n",
       "      <td>80.590000</td>\n",
       "      <td>82.927000</td>\n",
       "      <td>84.375000</td>\n",
       "    </tr>\n",
       "    <tr>\n",
       "      <th>50%</th>\n",
       "      <td>7.821800e+01</td>\n",
       "      <td>86.486000</td>\n",
       "      <td>88.889000</td>\n",
       "      <td>91.304000</td>\n",
       "    </tr>\n",
       "    <tr>\n",
       "      <th>75%</th>\n",
       "      <td>8.484800e+01</td>\n",
       "      <td>92.593000</td>\n",
       "      <td>95.238000</td>\n",
       "      <td>95.238000</td>\n",
       "    </tr>\n",
       "    <tr>\n",
       "      <th>max</th>\n",
       "      <td>1.000000e+02</td>\n",
       "      <td>100.000000</td>\n",
       "      <td>100.000000</td>\n",
       "      <td>100.000000</td>\n",
       "    </tr>\n",
       "  </tbody>\n",
       "</table>\n",
       "</div>"
      ],
      "text/plain": [
       "                 TP         main     contrast1      contrast2\n",
       "count  1.465886e+06  8607.000000  10711.000000  124745.000000\n",
       "mean   8.068736e+01    86.919267     88.736326      89.885169\n",
       "std    7.630203e+00     7.612015      7.919744       7.754775\n",
       "min    6.913400e+01    71.023000     70.854000      69.921000\n",
       "25%    7.482500e+01    80.590000     82.927000      84.375000\n",
       "50%    7.821800e+01    86.486000     88.889000      91.304000\n",
       "75%    8.484800e+01    92.593000     95.238000      95.238000\n",
       "max    1.000000e+02   100.000000    100.000000     100.000000"
      ]
     },
     "execution_count": 353,
     "metadata": {},
     "output_type": "execute_result"
    }
   ],
   "source": [
    "# Compare pident\n",
    "pident_c = pd.concat([true_data[\"pident\"], main_data[\"pident\"], contrast_1[\"pident\"], contrast_2[\"pident\"]], axis=1)\n",
    "pident_c.columns = [\"TP\", \"main\", \"contrast1\", \"contrast2\"]\n",
    "pident_c.describe()"
   ]
  },
  {
   "cell_type": "code",
   "execution_count": 354,
   "metadata": {},
   "outputs": [
    {
     "data": {
      "text/html": [
       "<div>\n",
       "<style scoped>\n",
       "    .dataframe tbody tr th:only-of-type {\n",
       "        vertical-align: middle;\n",
       "    }\n",
       "\n",
       "    .dataframe tbody tr th {\n",
       "        vertical-align: top;\n",
       "    }\n",
       "\n",
       "    .dataframe thead th {\n",
       "        text-align: right;\n",
       "    }\n",
       "</style>\n",
       "<table border=\"1\" class=\"dataframe\">\n",
       "  <thead>\n",
       "    <tr style=\"text-align: right;\">\n",
       "      <th></th>\n",
       "      <th>TP</th>\n",
       "      <th>main</th>\n",
       "      <th>contrast1</th>\n",
       "      <th>contrast2</th>\n",
       "    </tr>\n",
       "  </thead>\n",
       "  <tbody>\n",
       "    <tr>\n",
       "      <th>count</th>\n",
       "      <td>1.465886e+06</td>\n",
       "      <td>8607.000000</td>\n",
       "      <td>10711.000000</td>\n",
       "      <td>124745.000000</td>\n",
       "    </tr>\n",
       "    <tr>\n",
       "      <th>mean</th>\n",
       "      <td>6.081378e-01</td>\n",
       "      <td>1.593199</td>\n",
       "      <td>2.343422</td>\n",
       "      <td>2.531836</td>\n",
       "    </tr>\n",
       "    <tr>\n",
       "      <th>std</th>\n",
       "      <td>1.549818e+00</td>\n",
       "      <td>2.674972</td>\n",
       "      <td>2.904754</td>\n",
       "      <td>2.926211</td>\n",
       "    </tr>\n",
       "    <tr>\n",
       "      <th>min</th>\n",
       "      <td>0.000000e+00</td>\n",
       "      <td>0.000000</td>\n",
       "      <td>0.000000</td>\n",
       "      <td>0.000000</td>\n",
       "    </tr>\n",
       "    <tr>\n",
       "      <th>25%</th>\n",
       "      <td>2.270000e-12</td>\n",
       "      <td>0.001000</td>\n",
       "      <td>0.008000</td>\n",
       "      <td>0.015000</td>\n",
       "    </tr>\n",
       "    <tr>\n",
       "      <th>50%</th>\n",
       "      <td>9.540000e-06</td>\n",
       "      <td>0.190000</td>\n",
       "      <td>0.920000</td>\n",
       "      <td>1.200000</td>\n",
       "    </tr>\n",
       "    <tr>\n",
       "      <th>75%</th>\n",
       "      <td>8.400000e-02</td>\n",
       "      <td>2.500000</td>\n",
       "      <td>3.700000</td>\n",
       "      <td>4.300000</td>\n",
       "    </tr>\n",
       "    <tr>\n",
       "      <th>max</th>\n",
       "      <td>1.000000e+01</td>\n",
       "      <td>9.800000</td>\n",
       "      <td>9.900000</td>\n",
       "      <td>10.000000</td>\n",
       "    </tr>\n",
       "  </tbody>\n",
       "</table>\n",
       "</div>"
      ],
      "text/plain": [
       "                 TP         main     contrast1      contrast2\n",
       "count  1.465886e+06  8607.000000  10711.000000  124745.000000\n",
       "mean   6.081378e-01     1.593199      2.343422       2.531836\n",
       "std    1.549818e+00     2.674972      2.904754       2.926211\n",
       "min    0.000000e+00     0.000000      0.000000       0.000000\n",
       "25%    2.270000e-12     0.001000      0.008000       0.015000\n",
       "50%    9.540000e-06     0.190000      0.920000       1.200000\n",
       "75%    8.400000e-02     2.500000      3.700000       4.300000\n",
       "max    1.000000e+01     9.800000      9.900000      10.000000"
      ]
     },
     "execution_count": 354,
     "metadata": {},
     "output_type": "execute_result"
    }
   ],
   "source": [
    "# Compare evalue\n",
    "evalue_c = pd.concat([true_data[\"evalue\"], main_data[\"evalue\"], contrast_1[\"evalue\"], contrast_2[\"evalue\"]], axis=1)\n",
    "evalue_c.columns = [\"TP\", \"main\", \"contrast1\", \"contrast2\"]\n",
    "evalue_c.describe()"
   ]
  },
  {
   "cell_type": "code",
   "execution_count": 355,
   "metadata": {},
   "outputs": [
    {
     "data": {
      "text/html": [
       "<div>\n",
       "<style scoped>\n",
       "    .dataframe tbody tr th:only-of-type {\n",
       "        vertical-align: middle;\n",
       "    }\n",
       "\n",
       "    .dataframe tbody tr th {\n",
       "        vertical-align: top;\n",
       "    }\n",
       "\n",
       "    .dataframe thead th {\n",
       "        text-align: right;\n",
       "    }\n",
       "</style>\n",
       "<table border=\"1\" class=\"dataframe\">\n",
       "  <thead>\n",
       "    <tr style=\"text-align: right;\">\n",
       "      <th></th>\n",
       "      <th>TP</th>\n",
       "      <th>main</th>\n",
       "      <th>contrast1</th>\n",
       "      <th>contrast2</th>\n",
       "    </tr>\n",
       "  </thead>\n",
       "  <tbody>\n",
       "    <tr>\n",
       "      <th>count</th>\n",
       "      <td>1.465886e+06</td>\n",
       "      <td>8607.000000</td>\n",
       "      <td>10711.000000</td>\n",
       "      <td>124745.000000</td>\n",
       "    </tr>\n",
       "    <tr>\n",
       "      <th>mean</th>\n",
       "      <td>6.744487e+01</td>\n",
       "      <td>42.844952</td>\n",
       "      <td>75.910485</td>\n",
       "      <td>108.687024</td>\n",
       "    </tr>\n",
       "    <tr>\n",
       "      <th>std</th>\n",
       "      <td>1.018996e+02</td>\n",
       "      <td>54.942904</td>\n",
       "      <td>267.383593</td>\n",
       "      <td>960.835477</td>\n",
       "    </tr>\n",
       "    <tr>\n",
       "      <th>min</th>\n",
       "      <td>2.880000e+01</td>\n",
       "      <td>28.800000</td>\n",
       "      <td>28.800000</td>\n",
       "      <td>28.800000</td>\n",
       "    </tr>\n",
       "    <tr>\n",
       "      <th>25%</th>\n",
       "      <td>3.810000e+01</td>\n",
       "      <td>32.500000</td>\n",
       "      <td>32.500000</td>\n",
       "      <td>32.500000</td>\n",
       "    </tr>\n",
       "    <tr>\n",
       "      <th>50%</th>\n",
       "      <td>5.100000e+01</td>\n",
       "      <td>36.200000</td>\n",
       "      <td>34.400000</td>\n",
       "      <td>34.400000</td>\n",
       "    </tr>\n",
       "    <tr>\n",
       "      <th>75%</th>\n",
       "      <td>7.310000e+01</td>\n",
       "      <td>43.600000</td>\n",
       "      <td>39.900000</td>\n",
       "      <td>39.900000</td>\n",
       "    </tr>\n",
       "    <tr>\n",
       "      <th>max</th>\n",
       "      <td>1.947500e+04</td>\n",
       "      <td>1423.000000</td>\n",
       "      <td>4861.000000</td>\n",
       "      <td>44919.000000</td>\n",
       "    </tr>\n",
       "  </tbody>\n",
       "</table>\n",
       "</div>"
      ],
      "text/plain": [
       "                 TP         main     contrast1      contrast2\n",
       "count  1.465886e+06  8607.000000  10711.000000  124745.000000\n",
       "mean   6.744487e+01    42.844952     75.910485     108.687024\n",
       "std    1.018996e+02    54.942904    267.383593     960.835477\n",
       "min    2.880000e+01    28.800000     28.800000      28.800000\n",
       "25%    3.810000e+01    32.500000     32.500000      32.500000\n",
       "50%    5.100000e+01    36.200000     34.400000      34.400000\n",
       "75%    7.310000e+01    43.600000     39.900000      39.900000\n",
       "max    1.947500e+04  1423.000000   4861.000000   44919.000000"
      ]
     },
     "execution_count": 355,
     "metadata": {},
     "output_type": "execute_result"
    }
   ],
   "source": [
    "# compare \"bitescore\"\n",
    "bitscore_c = pd.concat([true_data[\"bitscore\"], main_data[\"bitscore\"], contrast_1[\"bitscore\"], contrast_2[\"bitscore\"]], axis=1)\n",
    "bitscore_c.columns = [\"TP\", \"main\", \"contrast1\", \"contrast2\"]\n",
    "bitscore_c.describe()"
   ]
  },
  {
   "cell_type": "code",
   "execution_count": 356,
   "metadata": {},
   "outputs": [
    {
     "data": {
      "text/html": [
       "<div>\n",
       "<style scoped>\n",
       "    .dataframe tbody tr th:only-of-type {\n",
       "        vertical-align: middle;\n",
       "    }\n",
       "\n",
       "    .dataframe tbody tr th {\n",
       "        vertical-align: top;\n",
       "    }\n",
       "\n",
       "    .dataframe thead th {\n",
       "        text-align: right;\n",
       "    }\n",
       "</style>\n",
       "<table border=\"1\" class=\"dataframe\">\n",
       "  <thead>\n",
       "    <tr style=\"text-align: right;\">\n",
       "      <th></th>\n",
       "      <th>TP</th>\n",
       "      <th>main</th>\n",
       "      <th>contrast1</th>\n",
       "      <th>contrast2</th>\n",
       "    </tr>\n",
       "  </thead>\n",
       "  <tbody>\n",
       "    <tr>\n",
       "      <th>count</th>\n",
       "      <td>1.465886e+06</td>\n",
       "      <td>8607.000000</td>\n",
       "      <td>10711.000000</td>\n",
       "      <td>124745.000000</td>\n",
       "    </tr>\n",
       "    <tr>\n",
       "      <th>mean</th>\n",
       "      <td>1.301223e+02</td>\n",
       "      <td>47.149297</td>\n",
       "      <td>65.926617</td>\n",
       "      <td>84.519051</td>\n",
       "    </tr>\n",
       "    <tr>\n",
       "      <th>std</th>\n",
       "      <td>1.219879e+02</td>\n",
       "      <td>42.493640</td>\n",
       "      <td>165.734396</td>\n",
       "      <td>553.667505</td>\n",
       "    </tr>\n",
       "    <tr>\n",
       "      <th>min</th>\n",
       "      <td>1.500000e+01</td>\n",
       "      <td>15.000000</td>\n",
       "      <td>15.000000</td>\n",
       "      <td>15.000000</td>\n",
       "    </tr>\n",
       "    <tr>\n",
       "      <th>25%</th>\n",
       "      <td>4.400000e+01</td>\n",
       "      <td>23.000000</td>\n",
       "      <td>21.000000</td>\n",
       "      <td>20.000000</td>\n",
       "    </tr>\n",
       "    <tr>\n",
       "      <th>50%</th>\n",
       "      <td>9.400000e+01</td>\n",
       "      <td>36.000000</td>\n",
       "      <td>30.000000</td>\n",
       "      <td>26.000000</td>\n",
       "    </tr>\n",
       "    <tr>\n",
       "      <th>75%</th>\n",
       "      <td>1.750000e+02</td>\n",
       "      <td>56.000000</td>\n",
       "      <td>54.000000</td>\n",
       "      <td>46.000000</td>\n",
       "    </tr>\n",
       "    <tr>\n",
       "      <th>max</th>\n",
       "      <td>1.060300e+04</td>\n",
       "      <td>770.000000</td>\n",
       "      <td>2632.000000</td>\n",
       "      <td>24324.000000</td>\n",
       "    </tr>\n",
       "  </tbody>\n",
       "</table>\n",
       "</div>"
      ],
      "text/plain": [
       "                 TP         main     contrast1      contrast2\n",
       "count  1.465886e+06  8607.000000  10711.000000  124745.000000\n",
       "mean   1.301223e+02    47.149297     65.926617      84.519051\n",
       "std    1.219879e+02    42.493640    165.734396     553.667505\n",
       "min    1.500000e+01    15.000000     15.000000      15.000000\n",
       "25%    4.400000e+01    23.000000     21.000000      20.000000\n",
       "50%    9.400000e+01    36.000000     30.000000      26.000000\n",
       "75%    1.750000e+02    56.000000     54.000000      46.000000\n",
       "max    1.060300e+04   770.000000   2632.000000   24324.000000"
      ]
     },
     "execution_count": 356,
     "metadata": {},
     "output_type": "execute_result"
    }
   ],
   "source": [
    "# Compare \"length\"\n",
    "length_c = pd.concat([true_data[\"length\"], main_data[\"length\"], contrast_1[\"length\"], contrast_2[\"length\"]], axis=1)\n",
    "length_c.columns = [\"TP\", \"main\", \"contrast1\", \"contrast2\"]\n",
    "length_c.describe()"
   ]
  },
  {
   "cell_type": "code",
   "execution_count": 357,
   "metadata": {},
   "outputs": [
    {
     "data": {
      "text/html": [
       "<div>\n",
       "<style scoped>\n",
       "    .dataframe tbody tr th:only-of-type {\n",
       "        vertical-align: middle;\n",
       "    }\n",
       "\n",
       "    .dataframe tbody tr th {\n",
       "        vertical-align: top;\n",
       "    }\n",
       "\n",
       "    .dataframe thead th {\n",
       "        text-align: right;\n",
       "    }\n",
       "</style>\n",
       "<table border=\"1\" class=\"dataframe\">\n",
       "  <thead>\n",
       "    <tr style=\"text-align: right;\">\n",
       "      <th></th>\n",
       "      <th>TP</th>\n",
       "      <th>main</th>\n",
       "      <th>contrast1</th>\n",
       "      <th>contrast2</th>\n",
       "    </tr>\n",
       "  </thead>\n",
       "  <tbody>\n",
       "    <tr>\n",
       "      <th>count</th>\n",
       "      <td>1.465886e+06</td>\n",
       "      <td>8607.000000</td>\n",
       "      <td>10711.000000</td>\n",
       "      <td>124745.000000</td>\n",
       "    </tr>\n",
       "    <tr>\n",
       "      <th>mean</th>\n",
       "      <td>5.396663e+01</td>\n",
       "      <td>49.368886</td>\n",
       "      <td>39.148912</td>\n",
       "      <td>37.392072</td>\n",
       "    </tr>\n",
       "    <tr>\n",
       "      <th>std</th>\n",
       "      <td>1.974402e+01</td>\n",
       "      <td>29.434550</td>\n",
       "      <td>35.795690</td>\n",
       "      <td>33.629638</td>\n",
       "    </tr>\n",
       "    <tr>\n",
       "      <th>min</th>\n",
       "      <td>0.000000e+00</td>\n",
       "      <td>2.000000</td>\n",
       "      <td>1.000000</td>\n",
       "      <td>0.000000</td>\n",
       "    </tr>\n",
       "    <tr>\n",
       "      <th>25%</th>\n",
       "      <td>4.200000e+01</td>\n",
       "      <td>26.000000</td>\n",
       "      <td>10.000000</td>\n",
       "      <td>12.000000</td>\n",
       "    </tr>\n",
       "    <tr>\n",
       "      <th>50%</th>\n",
       "      <td>5.400000e+01</td>\n",
       "      <td>41.000000</td>\n",
       "      <td>22.000000</td>\n",
       "      <td>22.000000</td>\n",
       "    </tr>\n",
       "    <tr>\n",
       "      <th>75%</th>\n",
       "      <td>6.300000e+01</td>\n",
       "      <td>77.000000</td>\n",
       "      <td>77.000000</td>\n",
       "      <td>59.000000</td>\n",
       "    </tr>\n",
       "    <tr>\n",
       "      <th>max</th>\n",
       "      <td>1.000000e+02</td>\n",
       "      <td>100.000000</td>\n",
       "      <td>100.000000</td>\n",
       "      <td>100.000000</td>\n",
       "    </tr>\n",
       "  </tbody>\n",
       "</table>\n",
       "</div>"
      ],
      "text/plain": [
       "                 TP         main     contrast1      contrast2\n",
       "count  1.465886e+06  8607.000000  10711.000000  124745.000000\n",
       "mean   5.396663e+01    49.368886     39.148912      37.392072\n",
       "std    1.974402e+01    29.434550     35.795690      33.629638\n",
       "min    0.000000e+00     2.000000      1.000000       0.000000\n",
       "25%    4.200000e+01    26.000000     10.000000      12.000000\n",
       "50%    5.400000e+01    41.000000     22.000000      22.000000\n",
       "75%    6.300000e+01    77.000000     77.000000      59.000000\n",
       "max    1.000000e+02   100.000000    100.000000     100.000000"
      ]
     },
     "execution_count": 357,
     "metadata": {},
     "output_type": "execute_result"
    }
   ],
   "source": [
    "# Compare qcovs\n",
    "qcovs_c = pd.concat([true_data[\"qcovs\"], main_data[\"qcovs\"], contrast_1[\"qcovs\"], contrast_2[\"qcovs\"]], axis=1)\n",
    "qcovs_c.columns = [\"TP\", \"main\", \"contrast1\", \"contrast2\"]\n",
    "qcovs_c.describe()"
   ]
  },
  {
   "cell_type": "markdown",
   "metadata": {},
   "source": [
    "## 2) First filter"
   ]
  },
  {
   "cell_type": "code",
   "execution_count": 363,
   "metadata": {},
   "outputs": [],
   "source": [
    "# Filter for \"evalue =< 0\"\n",
    "# 6.835000e-17 last one that maintained the 23 elements\n",
    "num_f = 0.001000\n",
    "true_data_v2 = true_data[true_data[\"evalue\"] <= num_f].copy()\n",
    "main_data_v2 = main_data[main_data[\"evalue\"] <= num_f].copy()\n",
    "contrast_1_v2= contrast_1[contrast_1[\"evalue\"] <= num_f].copy()\n",
    "contrast_2_v2 = contrast_2[contrast_2[\"evalue\"] <= num_f].copy()"
   ]
  },
  {
   "cell_type": "code",
   "execution_count": 364,
   "metadata": {},
   "outputs": [
    {
     "name": "stdout",
     "output_type": "stream",
     "text": [
      "(915737, 13)\n",
      "(2280, 13)\n",
      "(2161, 13)\n",
      "(25240, 13)\n"
     ]
    }
   ],
   "source": [
    "# check shape after filtering\n",
    "print(true_data_v2.shape)\n",
    "print(main_data_v2.shape)\n",
    "print(contrast_1_v2.shape)\n",
    "print(contrast_2_v2.shape)"
   ]
  },
  {
   "cell_type": "code",
   "execution_count": 366,
   "metadata": {},
   "outputs": [
    {
     "name": "stdout",
     "output_type": "stream",
     "text": [
      "2069\n",
      "23\n",
      "43\n",
      "646\n"
     ]
    }
   ],
   "source": [
    "# Get unique values in \"qseqid\"\n",
    "print(true_data_v2[\"qseqid\"].nunique())\n",
    "print(main_data_v2[\"qseqid\"].nunique())\n",
    "print(contrast_1_v2[\"qseqid\"].nunique())\n",
    "print(contrast_2_v2[\"qseqid\"].nunique())"
   ]
  },
  {
   "cell_type": "code",
   "execution_count": 367,
   "metadata": {},
   "outputs": [
    {
     "name": "stdout",
     "output_type": "stream",
     "text": [
      "Data split into ./data/consensus+LmSIDER2A+B/neg_dat_filter_decider/TP_positive_whole_part1.csv and ./data/consensus+LmSIDER2A+B/neg_dat_filter_decider/TP_positive_whole_part2.csv\n"
     ]
    }
   ],
   "source": [
    "def split_csv(file_path, split_ratio=0.5, output_file1='output_part1.csv', output_file2='output_part2.csv'):\n",
    "    # Read the CSV file\n",
    "    data = pd.read_csv(file_path)\n",
    "    \n",
    "    # Calculate the split index\n",
    "    split_index = int(len(data) * split_ratio)\n",
    "    \n",
    "    # Split the data into two parts\n",
    "    data_part1 = data.iloc[:split_index]\n",
    "    data_part2 = data.iloc[split_index:]\n",
    "    \n",
    "    # Write each part to a new CSV file\n",
    "    data_part1.to_csv(output_file1, index=False)\n",
    "    data_part2.to_csv(output_file2, index=False)\n",
    "    \n",
    "    print(f\"Data split into {output_file1} and {output_file2}\")\n",
    "\n",
    "# Example usage\n",
    "file_path = './data/consensus+LmSIDER2A+B/neg_dat_filter_decider/TP_positive_whole.csv'\n",
    "file_path_part1 = './data/consensus+LmSIDER2A+B/neg_dat_filter_decider/TP_positive_whole_part1.csv'\n",
    "file_path_part2 = './data/consensus+LmSIDER2A+B/neg_dat_filter_decider/TP_positive_whole_part2.csv'\n",
    "split_csv(file_path, split_ratio=0.5, output_file1=file_path_part1, output_file2=file_path_part2)\n"
   ]
  },
  {
   "cell_type": "code",
   "execution_count": null,
   "metadata": {},
   "outputs": [],
   "source": []
  }
 ],
 "metadata": {
  "kernelspec": {
   "display_name": "Python 3",
   "language": "python",
   "name": "python3"
  },
  "language_info": {
   "codemirror_mode": {
    "name": "ipython",
    "version": 3
   },
   "file_extension": ".py",
   "mimetype": "text/x-python",
   "name": "python",
   "nbconvert_exporter": "python",
   "pygments_lexer": "ipython3",
   "version": "3.12.3"
  }
 },
 "nbformat": 4,
 "nbformat_minor": 2
}
