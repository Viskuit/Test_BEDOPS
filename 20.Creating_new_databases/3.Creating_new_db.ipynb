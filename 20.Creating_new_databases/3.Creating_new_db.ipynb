{
 "cells": [
  {
   "cell_type": "markdown",
   "metadata": {},
   "source": [
    "# Needed modules"
   ]
  },
  {
   "cell_type": "code",
   "execution_count": 27,
   "metadata": {},
   "outputs": [],
   "source": [
    "# Load needed libraries\n",
    "import pandas as pd"
   ]
  },
  {
   "cell_type": "code",
   "execution_count": 28,
   "metadata": {},
   "outputs": [],
   "source": [
    "# https://kioku-space.com/en/jupyter-skip-execution/\n",
    "from IPython.core.magic import register_cell_magic # type: ignore\n",
    "\n",
    "@register_cell_magic\n",
    "def skip(line, cell):\n",
    "    return"
   ]
  },
  {
   "cell_type": "markdown",
   "metadata": {},
   "source": [
    "# Pickle save"
   ]
  },
  {
   "cell_type": "code",
   "execution_count": 29,
   "metadata": {},
   "outputs": [],
   "source": [
    "%%skip\n",
    "# =============================================================================\n",
    "# Save the variables\n",
    "# =============================================================================\n",
    "variables_dict = {\n",
    "}\n",
    "\n",
    "# =============================================================================\n",
    "# main function\n",
    "# =============================================================================\n",
    "def data_save_load(option, dict_variables=None):\n",
    "    \"\"\"\n",
    "    This function is used to save or load data for the jupyter notebook\n",
    "    \"\"\"\n",
    "    path_folder = \"ipynb_db\"  # Folder to save variables\n",
    "    os.makedirs(path_folder, exist_ok=True)  # Create folder if not exist\n",
    "    path_file = os.path.join(path_folder, \"variables.pkl\") # Path to save the variables\n",
    "\n",
    "    if option == \"save\":\n",
    "        with open(path_file, \"wb\") as f:\n",
    "            pickle.dump(dict_variables, f)\n",
    "    elif option == \"load\":\n",
    "        with open(path_file, \"rb\") as f:\n",
    "            variables = pickle.load(f)\n",
    "        # Now load the variables\n",
    "        for key, value in variables.items():\n",
    "            variables[key] = value\n",
    "\n",
    "# =============================================================================\n",
    "# Call the function\n",
    "# =============================================================================\n",
    "data_save_load(option=\"save\",\n",
    "               dict_variables=variables_dict)"
   ]
  },
  {
   "cell_type": "markdown",
   "metadata": {},
   "source": [
    "# 1. Load data"
   ]
  },
  {
   "cell_type": "code",
   "execution_count": 30,
   "metadata": {},
   "outputs": [
    {
     "name": "stdout",
     "output_type": "stream",
     "text": [
      "(898, 5)\n",
      "sseqid     object\n",
      "sstart      int64\n",
      "send        int64\n",
      "sstrand    object\n",
      "sseq       object\n",
      "dtype: object\n"
     ]
    },
    {
     "data": {
      "text/html": [
       "<div>\n",
       "<style scoped>\n",
       "    .dataframe tbody tr th:only-of-type {\n",
       "        vertical-align: middle;\n",
       "    }\n",
       "\n",
       "    .dataframe tbody tr th {\n",
       "        vertical-align: top;\n",
       "    }\n",
       "\n",
       "    .dataframe thead th {\n",
       "        text-align: right;\n",
       "    }\n",
       "</style>\n",
       "<table border=\"1\" class=\"dataframe\">\n",
       "  <thead>\n",
       "    <tr style=\"text-align: right;\">\n",
       "      <th></th>\n",
       "      <th>sseqid</th>\n",
       "      <th>sstart</th>\n",
       "      <th>send</th>\n",
       "      <th>sstrand</th>\n",
       "      <th>sseq</th>\n",
       "    </tr>\n",
       "  </thead>\n",
       "  <tbody>\n",
       "    <tr>\n",
       "      <th>0</th>\n",
       "      <td>LinJ.01</td>\n",
       "      <td>36104</td>\n",
       "      <td>36243</td>\n",
       "      <td>plus</td>\n",
       "      <td>GACAGACCGACACACGCAGCCGTGTGATGCCGCCGCCGAGGGCAGT...</td>\n",
       "    </tr>\n",
       "    <tr>\n",
       "      <th>1</th>\n",
       "      <td>LinJ.01</td>\n",
       "      <td>113760</td>\n",
       "      <td>114388</td>\n",
       "      <td>plus</td>\n",
       "      <td>CAGCGCCATGCACGACATGGCCGCTGACGTCCGTAGCCCTAACTCG...</td>\n",
       "    </tr>\n",
       "    <tr>\n",
       "      <th>2</th>\n",
       "      <td>LinJ.01</td>\n",
       "      <td>146413</td>\n",
       "      <td>146531</td>\n",
       "      <td>plus</td>\n",
       "      <td>CGAATTGTGTTCTGCGCATGCCTCTTCTCTGCCGTGCAGCATGCGG...</td>\n",
       "    </tr>\n",
       "    <tr>\n",
       "      <th>3</th>\n",
       "      <td>LinJ.01</td>\n",
       "      <td>261866</td>\n",
       "      <td>262439</td>\n",
       "      <td>plus</td>\n",
       "      <td>CGGACTTGGCAAGTGGCCGCCATCGATGAAAACGCACCATGCCTTT...</td>\n",
       "    </tr>\n",
       "    <tr>\n",
       "      <th>4</th>\n",
       "      <td>LinJ.01</td>\n",
       "      <td>271364</td>\n",
       "      <td>271651</td>\n",
       "      <td>plus</td>\n",
       "      <td>GAACGCCGCCCTCAATCGCGCGCTGAACTTCACGCGGCGGTCGACC...</td>\n",
       "    </tr>\n",
       "  </tbody>\n",
       "</table>\n",
       "</div>"
      ],
      "text/plain": [
       "    sseqid  sstart    send sstrand  \\\n",
       "0  LinJ.01   36104   36243    plus   \n",
       "1  LinJ.01  113760  114388    plus   \n",
       "2  LinJ.01  146413  146531    plus   \n",
       "3  LinJ.01  261866  262439    plus   \n",
       "4  LinJ.01  271364  271651    plus   \n",
       "\n",
       "                                                sseq  \n",
       "0  GACAGACCGACACACGCAGCCGTGTGATGCCGCCGCCGAGGGCAGT...  \n",
       "1  CAGCGCCATGCACGACATGGCCGCTGACGTCCGTAGCCCTAACTCG...  \n",
       "2  CGAATTGTGTTCTGCGCATGCCTCTTCTCTGCCGTGCAGCATGCGG...  \n",
       "3  CGGACTTGGCAAGTGGCCGCCATCGATGAAAACGCACCATGCCTTT...  \n",
       "4  GAACGCCGCCCTCAATCGCGCGCTGAACTTCACGCGGCGGTCGACC...  "
      ]
     },
     "execution_count": 30,
     "metadata": {},
     "output_type": "execute_result"
    }
   ],
   "source": [
    "# Load new negative data:\n",
    "neg_data = pd.read_csv(\"./2.Hallmarks_vs_NegData/negative_data_after_recaught.csv\", sep=\",\", header=0)\n",
    "print(neg_data.shape)\n",
    "print(neg_data.dtypes)\n",
    "neg_data.head()"
   ]
  },
  {
   "cell_type": "code",
   "execution_count": 31,
   "metadata": {},
   "outputs": [
    {
     "name": "stdout",
     "output_type": "stream",
     "text": [
      "(16, 5)\n",
      "sseqid     object\n",
      "sstart      int64\n",
      "send        int64\n",
      "sstrand    object\n",
      "sseq       object\n",
      "dtype: object\n"
     ]
    },
    {
     "data": {
      "text/html": [
       "<div>\n",
       "<style scoped>\n",
       "    .dataframe tbody tr th:only-of-type {\n",
       "        vertical-align: middle;\n",
       "    }\n",
       "\n",
       "    .dataframe tbody tr th {\n",
       "        vertical-align: top;\n",
       "    }\n",
       "\n",
       "    .dataframe thead th {\n",
       "        text-align: right;\n",
       "    }\n",
       "</style>\n",
       "<table border=\"1\" class=\"dataframe\">\n",
       "  <thead>\n",
       "    <tr style=\"text-align: right;\">\n",
       "      <th></th>\n",
       "      <th>sseqid</th>\n",
       "      <th>sstart</th>\n",
       "      <th>send</th>\n",
       "      <th>sstrand</th>\n",
       "      <th>sseq</th>\n",
       "    </tr>\n",
       "  </thead>\n",
       "  <tbody>\n",
       "    <tr>\n",
       "      <th>0</th>\n",
       "      <td>LinJ.15</td>\n",
       "      <td>81829</td>\n",
       "      <td>82005</td>\n",
       "      <td>plus</td>\n",
       "      <td>ATGGACTTCGAAAGTGGACGTGTTTCTCACAAATATGTCAATGCGC...</td>\n",
       "    </tr>\n",
       "    <tr>\n",
       "      <th>1</th>\n",
       "      <td>LinJ.15</td>\n",
       "      <td>87198</td>\n",
       "      <td>87893</td>\n",
       "      <td>plus</td>\n",
       "      <td>TTTATTTCAATGTGTCATTCTACCGCGAACACGTCAGCAAGTATAC...</td>\n",
       "    </tr>\n",
       "    <tr>\n",
       "      <th>2</th>\n",
       "      <td>LinJ.15</td>\n",
       "      <td>151897</td>\n",
       "      <td>152896</td>\n",
       "      <td>plus</td>\n",
       "      <td>TCTCGCTCGCCCCCGTCTTTCCTCTGTCTTTGCACTGTCGCATGCA...</td>\n",
       "    </tr>\n",
       "    <tr>\n",
       "      <th>3</th>\n",
       "      <td>LinJ.17</td>\n",
       "      <td>64185</td>\n",
       "      <td>64320</td>\n",
       "      <td>plus</td>\n",
       "      <td>CGCCGACGCCAACAGTCCACAGCTGCACCCACGGCCAGGCTGCAGG...</td>\n",
       "    </tr>\n",
       "    <tr>\n",
       "      <th>4</th>\n",
       "      <td>LinJ.17</td>\n",
       "      <td>64420</td>\n",
       "      <td>65085</td>\n",
       "      <td>plus</td>\n",
       "      <td>CCCTACCGCTGCCCACGAAACAGCAAGAACCGCCGTGCGCTCGCGG...</td>\n",
       "    </tr>\n",
       "  </tbody>\n",
       "</table>\n",
       "</div>"
      ],
      "text/plain": [
       "    sseqid  sstart    send sstrand  \\\n",
       "0  LinJ.15   81829   82005    plus   \n",
       "1  LinJ.15   87198   87893    plus   \n",
       "2  LinJ.15  151897  152896    plus   \n",
       "3  LinJ.17   64185   64320    plus   \n",
       "4  LinJ.17   64420   65085    plus   \n",
       "\n",
       "                                                sseq  \n",
       "0  ATGGACTTCGAAAGTGGACGTGTTTCTCACAAATATGTCAATGCGC...  \n",
       "1  TTTATTTCAATGTGTCATTCTACCGCGAACACGTCAGCAAGTATAC...  \n",
       "2  TCTCGCTCGCCCCCGTCTTTCCTCTGTCTTTGCACTGTCGCATGCA...  \n",
       "3  CGCCGACGCCAACAGTCCACAGCTGCACCCACGGCCAGGCTGCAGG...  \n",
       "4  CCCTACCGCTGCCCACGAAACAGCAAGAACCGCCGTGCGCTCGCGG...  "
      ]
     },
     "execution_count": 31,
     "metadata": {},
     "output_type": "execute_result"
    }
   ],
   "source": [
    "# Load neg recaught data, i.e., data to add to the positive elements\n",
    "neg_recaught_data = pd.read_csv(\"./2.Hallmarks_vs_NegData/neg_data_recaught_hits.csv\", sep=\",\", header=0)\n",
    "print(neg_recaught_data.shape)\n",
    "print(neg_recaught_data.dtypes)\n",
    "neg_recaught_data.head()"
   ]
  },
  {
   "cell_type": "code",
   "execution_count": 32,
   "metadata": {},
   "outputs": [
    {
     "name": "stdout",
     "output_type": "stream",
     "text": [
      "(2116, 5)\n",
      "sseqid     object\n",
      "sstart      int64\n",
      "send        int64\n",
      "sstrand    object\n",
      "sseq       object\n",
      "dtype: object\n"
     ]
    },
    {
     "data": {
      "text/html": [
       "<div>\n",
       "<style scoped>\n",
       "    .dataframe tbody tr th:only-of-type {\n",
       "        vertical-align: middle;\n",
       "    }\n",
       "\n",
       "    .dataframe tbody tr th {\n",
       "        vertical-align: top;\n",
       "    }\n",
       "\n",
       "    .dataframe thead th {\n",
       "        text-align: right;\n",
       "    }\n",
       "</style>\n",
       "<table border=\"1\" class=\"dataframe\">\n",
       "  <thead>\n",
       "    <tr style=\"text-align: right;\">\n",
       "      <th></th>\n",
       "      <th>sseqid</th>\n",
       "      <th>sstart</th>\n",
       "      <th>send</th>\n",
       "      <th>sstrand</th>\n",
       "      <th>sseq</th>\n",
       "    </tr>\n",
       "  </thead>\n",
       "  <tbody>\n",
       "    <tr>\n",
       "      <th>0</th>\n",
       "      <td>LinJ.01</td>\n",
       "      <td>2</td>\n",
       "      <td>174</td>\n",
       "      <td>plus</td>\n",
       "      <td>CACCAGTACACCAGTACACCAGTACACCAGTACACCAGTACACCAG...</td>\n",
       "    </tr>\n",
       "    <tr>\n",
       "      <th>1</th>\n",
       "      <td>LinJ.01</td>\n",
       "      <td>24094</td>\n",
       "      <td>24759</td>\n",
       "      <td>plus</td>\n",
       "      <td>GGGGAGGCGGGGGAGGCGGGGGGCACGCACCTCCATGCGTGGCATC...</td>\n",
       "    </tr>\n",
       "    <tr>\n",
       "      <th>2</th>\n",
       "      <td>LinJ.01</td>\n",
       "      <td>35372</td>\n",
       "      <td>35957</td>\n",
       "      <td>plus</td>\n",
       "      <td>CTCCCATCGCCTGGTGCGAAGCAGCGCAAGACACACGCGCGCTGCA...</td>\n",
       "    </tr>\n",
       "    <tr>\n",
       "      <th>3</th>\n",
       "      <td>LinJ.01</td>\n",
       "      <td>39791</td>\n",
       "      <td>40596</td>\n",
       "      <td>plus</td>\n",
       "      <td>TTCTACCGCGAGCAAGGCAGCACACAGACGCACGCACAGCCACAGC...</td>\n",
       "    </tr>\n",
       "    <tr>\n",
       "      <th>4</th>\n",
       "      <td>LinJ.01</td>\n",
       "      <td>54984</td>\n",
       "      <td>55548</td>\n",
       "      <td>plus</td>\n",
       "      <td>CTCTCATCGCCTGGTGCGAAGCAGCGCAAGACACACGCGCGCTGCA...</td>\n",
       "    </tr>\n",
       "  </tbody>\n",
       "</table>\n",
       "</div>"
      ],
      "text/plain": [
       "    sseqid  sstart   send sstrand  \\\n",
       "0  LinJ.01       2    174    plus   \n",
       "1  LinJ.01   24094  24759    plus   \n",
       "2  LinJ.01   35372  35957    plus   \n",
       "3  LinJ.01   39791  40596    plus   \n",
       "4  LinJ.01   54984  55548    plus   \n",
       "\n",
       "                                                sseq  \n",
       "0  CACCAGTACACCAGTACACCAGTACACCAGTACACCAGTACACCAG...  \n",
       "1  GGGGAGGCGGGGGAGGCGGGGGGCACGCACCTCCATGCGTGGCATC...  \n",
       "2  CTCCCATCGCCTGGTGCGAAGCAGCGCAAGACACACGCGCGCTGCA...  \n",
       "3  TTCTACCGCGAGCAAGGCAGCACACAGACGCACGCACAGCCACAGC...  \n",
       "4  CTCTCATCGCCTGGTGCGAAGCAGCGCAAGACACACGCGCGCTGCA...  "
      ]
     },
     "execution_count": 32,
     "metadata": {},
     "output_type": "execute_result"
    }
   ],
   "source": [
    "# Load positive data:\n",
    "pos_data = pd.read_csv(\"./1.new_data/positive_database.csv\", sep=\",\", header=0)\n",
    "print(pos_data.shape)\n",
    "print(pos_data.dtypes)\n",
    "pos_data.head()"
   ]
  },
  {
   "cell_type": "markdown",
   "metadata": {},
   "source": [
    "# 2. Add recaught data to the positive data"
   ]
  },
  {
   "cell_type": "code",
   "execution_count": 33,
   "metadata": {},
   "outputs": [
    {
     "name": "stdout",
     "output_type": "stream",
     "text": [
      "(2132, 5)\n",
      "sseqid     object\n",
      "sstart      int64\n",
      "send        int64\n",
      "sstrand    object\n",
      "sseq       object\n",
      "dtype: object\n"
     ]
    },
    {
     "data": {
      "text/html": [
       "<div>\n",
       "<style scoped>\n",
       "    .dataframe tbody tr th:only-of-type {\n",
       "        vertical-align: middle;\n",
       "    }\n",
       "\n",
       "    .dataframe tbody tr th {\n",
       "        vertical-align: top;\n",
       "    }\n",
       "\n",
       "    .dataframe thead th {\n",
       "        text-align: right;\n",
       "    }\n",
       "</style>\n",
       "<table border=\"1\" class=\"dataframe\">\n",
       "  <thead>\n",
       "    <tr style=\"text-align: right;\">\n",
       "      <th></th>\n",
       "      <th>sseqid</th>\n",
       "      <th>sstart</th>\n",
       "      <th>send</th>\n",
       "      <th>sstrand</th>\n",
       "      <th>sseq</th>\n",
       "    </tr>\n",
       "  </thead>\n",
       "  <tbody>\n",
       "    <tr>\n",
       "      <th>0</th>\n",
       "      <td>LinJ.01</td>\n",
       "      <td>2</td>\n",
       "      <td>174</td>\n",
       "      <td>plus</td>\n",
       "      <td>CACCAGTACACCAGTACACCAGTACACCAGTACACCAGTACACCAG...</td>\n",
       "    </tr>\n",
       "    <tr>\n",
       "      <th>1</th>\n",
       "      <td>LinJ.01</td>\n",
       "      <td>24094</td>\n",
       "      <td>24759</td>\n",
       "      <td>plus</td>\n",
       "      <td>GGGGAGGCGGGGGAGGCGGGGGGCACGCACCTCCATGCGTGGCATC...</td>\n",
       "    </tr>\n",
       "    <tr>\n",
       "      <th>2</th>\n",
       "      <td>LinJ.01</td>\n",
       "      <td>35372</td>\n",
       "      <td>35957</td>\n",
       "      <td>plus</td>\n",
       "      <td>CTCCCATCGCCTGGTGCGAAGCAGCGCAAGACACACGCGCGCTGCA...</td>\n",
       "    </tr>\n",
       "    <tr>\n",
       "      <th>3</th>\n",
       "      <td>LinJ.01</td>\n",
       "      <td>39791</td>\n",
       "      <td>40596</td>\n",
       "      <td>plus</td>\n",
       "      <td>TTCTACCGCGAGCAAGGCAGCACACAGACGCACGCACAGCCACAGC...</td>\n",
       "    </tr>\n",
       "    <tr>\n",
       "      <th>4</th>\n",
       "      <td>LinJ.01</td>\n",
       "      <td>54984</td>\n",
       "      <td>55548</td>\n",
       "      <td>plus</td>\n",
       "      <td>CTCTCATCGCCTGGTGCGAAGCAGCGCAAGACACACGCGCGCTGCA...</td>\n",
       "    </tr>\n",
       "  </tbody>\n",
       "</table>\n",
       "</div>"
      ],
      "text/plain": [
       "    sseqid  sstart   send sstrand  \\\n",
       "0  LinJ.01       2    174    plus   \n",
       "1  LinJ.01   24094  24759    plus   \n",
       "2  LinJ.01   35372  35957    plus   \n",
       "3  LinJ.01   39791  40596    plus   \n",
       "4  LinJ.01   54984  55548    plus   \n",
       "\n",
       "                                                sseq  \n",
       "0  CACCAGTACACCAGTACACCAGTACACCAGTACACCAGTACACCAG...  \n",
       "1  GGGGAGGCGGGGGAGGCGGGGGGCACGCACCTCCATGCGTGGCATC...  \n",
       "2  CTCCCATCGCCTGGTGCGAAGCAGCGCAAGACACACGCGCGCTGCA...  \n",
       "3  TTCTACCGCGAGCAAGGCAGCACACAGACGCACGCACAGCCACAGC...  \n",
       "4  CTCTCATCGCCTGGTGCGAAGCAGCGCAAGACACACGCGCGCTGCA...  "
      ]
     },
     "execution_count": 33,
     "metadata": {},
     "output_type": "execute_result"
    }
   ],
   "source": [
    "# Add neg_recaught_data to pos_data\n",
    "pos_data = pd.concat([pos_data, neg_recaught_data], axis=0)\n",
    "\n",
    "# Sort by ssqid, sstart\n",
    "pos_data.sort_values(by=[\"sseqid\", \"sstart\"], inplace=True)\n",
    "\n",
    "# Check data\n",
    "print(pos_data.shape)\n",
    "print(pos_data.dtypes)\n",
    "pos_data.head()"
   ]
  },
  {
   "cell_type": "markdown",
   "metadata": {},
   "source": [
    "# 3. Check if the negative and positive data for included or overlaps"
   ]
  },
  {
   "cell_type": "code",
   "execution_count": 34,
   "metadata": {},
   "outputs": [],
   "source": [
    "# Copy og data\n",
    "pos_data_check = pos_data.copy()\n",
    "neg_data_check = neg_data.copy()"
   ]
  },
  {
   "cell_type": "code",
   "execution_count": 35,
   "metadata": {},
   "outputs": [
    {
     "name": "stdout",
     "output_type": "stream",
     "text": [
      "    sseqid  sstart   send        interval\n",
      "0  LinJ.01       2    174        [2, 174]\n",
      "1  LinJ.01   24094  24759  [24094, 24759]\n",
      "2  LinJ.01   35372  35957  [35372, 35957]\n",
      "3  LinJ.01   39791  40596  [39791, 40596]\n",
      "4  LinJ.01   54984  55548  [54984, 55548]\n",
      "    sseqid  sstart    send          interval\n",
      "0  LinJ.01   36104   36243    [36104, 36243]\n",
      "1  LinJ.01  113760  114388  [113760, 114388]\n",
      "2  LinJ.01  146413  146531  [146413, 146531]\n",
      "3  LinJ.01  261866  262439  [261866, 262439]\n",
      "4  LinJ.01  271364  271651  [271364, 271651]\n"
     ]
    }
   ],
   "source": [
    "# Create interval columns\n",
    "pos_data_check[\"interval\"] = pos_data_check.apply(lambda x: pd.Interval(left=x[\"sstart\"], right=x[\"send\"], closed=\"both\"), axis=1)\n",
    "neg_data_check[\"interval\"] = neg_data_check.apply(lambda x: pd.Interval(left=x[\"sstart\"], right=x[\"send\"], closed=\"both\"), axis=1)\n",
    "\n",
    "print(pos_data_check.loc[:, [\"sseqid\", \"sstart\", \"send\", \"interval\"]].head())\n",
    "print(neg_data_check.loc[:, [\"sseqid\", \"sstart\", \"send\", \"interval\"]].head())"
   ]
  },
  {
   "cell_type": "code",
   "execution_count": 36,
   "metadata": {},
   "outputs": [],
   "source": [
    "# Group the elements\n",
    "pos_data_grouped = pos_data_check.groupby(\"sseqid\")\n",
    "neg_data_grouped = neg_data_check.groupby(\"sseqid\")"
   ]
  },
  {
   "cell_type": "code",
   "execution_count": 39,
   "metadata": {},
   "outputs": [
    {
     "name": "stdout",
     "output_type": "stream",
     "text": [
      "==================================================\n",
      "Checking chromosome LinJ.01\n",
      "==================================================\n",
      "Checking chromosome LinJ.02\n",
      "==================================================\n",
      "Checking chromosome LinJ.03\n",
      "==================================================\n",
      "Checking chromosome LinJ.04\n",
      "==================================================\n",
      "Checking chromosome LinJ.05\n",
      "==================================================\n",
      "Checking chromosome LinJ.06\n",
      "==================================================\n",
      "Checking chromosome LinJ.07\n",
      "==================================================\n",
      "Checking chromosome LinJ.08\n",
      "==================================================\n",
      "Checking chromosome LinJ.09\n",
      "==================================================\n",
      "Checking chromosome LinJ.10\n",
      "==================================================\n",
      "Checking chromosome LinJ.11\n",
      "==================================================\n",
      "Checking chromosome LinJ.12\n",
      "==================================================\n",
      "Checking chromosome LinJ.13\n",
      "==================================================\n",
      "Checking chromosome LinJ.14\n",
      "==================================================\n",
      "Checking chromosome LinJ.15\n",
      "==================================================\n",
      "Checking chromosome LinJ.16\n",
      "==================================================\n",
      "Checking chromosome LinJ.17\n",
      "==================================================\n",
      "Checking chromosome LinJ.18\n",
      "==================================================\n",
      "Checking chromosome LinJ.19\n",
      "==================================================\n",
      "Checking chromosome LinJ.20\n",
      "==================================================\n",
      "Checking chromosome LinJ.21\n",
      "==================================================\n",
      "Checking chromosome LinJ.22\n",
      "==================================================\n",
      "Checking chromosome LinJ.23\n",
      "==================================================\n",
      "Checking chromosome LinJ.24\n",
      "==================================================\n",
      "Checking chromosome LinJ.25\n",
      "==================================================\n",
      "Checking chromosome LinJ.26\n",
      "==================================================\n",
      "Checking chromosome LinJ.27\n",
      "==================================================\n",
      "Checking chromosome LinJ.28\n",
      "==================================================\n",
      "Checking chromosome LinJ.29\n",
      "==================================================\n",
      "Checking chromosome LinJ.30\n",
      "==================================================\n",
      "Checking chromosome LinJ.31\n",
      "==================================================\n",
      "Checking chromosome LinJ.32\n",
      "==================================================\n",
      "Checking chromosome LinJ.33\n",
      "==================================================\n",
      "Checking chromosome LinJ.34\n",
      "==================================================\n",
      "Checking chromosome LinJ.35\n",
      "Found overlaping element in chromosome LinJ.35\n",
      "==================================================\n",
      "Checking chromosome LinJ.36\n",
      "**************************************************\n",
      "Found 0 elements that are the same\n",
      "Found 1 elements that are overlaping\n",
      "Found 0 elements that are inside another element\n",
      "Found 0 elements that are inside another element\n"
     ]
    }
   ],
   "source": [
    "# Let's check for each group of positive elements if there is any negative if the elements are exactly the same, overlap or are inside one another\n",
    "same_elems = []\n",
    "overlaping_elems = []\n",
    "inside_elems = []\n",
    "inside_elems2 = []\n",
    "for name1, data1 in pos_data_grouped:\n",
    "    for name2, data2 in neg_data_grouped:\n",
    "        if name2 != name1:\n",
    "            # print(f\">> SKIPPING Chrom. Chromosome in negative elements {name2} is different from the one in positive elements {name1}\")\n",
    "            continue\n",
    "        else:\n",
    "            print(\"=\"*50)\n",
    "            print(f\"Checking chromosome {name1}\")\n",
    "            # Checking for same coordinates\n",
    "            for _, elem1 in data1.iterrows():\n",
    "                for _, elem2 in data2.iterrows():\n",
    "                    if elem1[\"interval\"] == elem2[\"interval\"]:\n",
    "                        print(f\"Found same element in chromosome {name1}\")\n",
    "                        same_elems.append(elem1)\n",
    "                    elif elem1[\"interval\"].overlaps(elem2[\"interval\"]):\n",
    "                        print(f\"Found overlaping element in chromosome {name1}\")\n",
    "                        overlaping_elems.append([elem1, elem2])\n",
    "                    else:\n",
    "                        if (elem1[\"sstart\"] > elem2[\"sstart\"] and elem1[\"sstart\"] < elem2[\"send\"] /\n",
    "                            elem1[\"send\"] < elem2[\"send\"] and elem1[\"send\"] > elem2[\"sstart\"]):\n",
    "                            print(f\"Found element inside another element in chromosome {name1}\")\n",
    "                            inside_elems.append(elem1)\n",
    "                        if (elem2[\"sstart\"] > elem1[\"sstart\"] and elem2[\"sstart\"] < elem1[\"send\"] /\n",
    "                            elem2[\"send\"] < elem1[\"send\"] and elem2[\"send\"] > elem1[\"sstart\"]):\n",
    "                            print(f\"Found element inside another element in chromosome {name1}\")\n",
    "                            inside_elems2.append(elem1)\n",
    "\n",
    "print(\"*\"*50)\n",
    "print(f\"Found {len(same_elems)} elements that are the same\")\n",
    "print(f\"Found {len(overlaping_elems)} elements that are overlaping\")\n",
    "print(f\"Found {len(inside_elems)} elements that are inside another element\")\n",
    "print(f\"Found {len(inside_elems2)} elements that are inside another element\")\n"
   ]
  },
  {
   "cell_type": "code",
   "execution_count": 51,
   "metadata": {},
   "outputs": [
    {
     "name": "stdout",
     "output_type": "stream",
     "text": [
      "pos data:\n",
      "sseqid                 LinJ.35\n",
      "sstart                 1630851\n",
      "send                   1631161\n",
      "interval    [1630851, 1631161]\n",
      "Name: 1922, dtype: object\n",
      "CACTTCAGCGTGGCATCACAAGGTCCGGTGCACCAGCCTTGCGTGGGATAGCCGAGCAGCCCACCCTATCCCTGCTAGTCCCGGACCGCTTCTGCTGGTGACAGGGCCACGCGCCCACGACGTGAGGGAGGGGAAGCCAGTGCGATTTTGTCGCTACCGATGTCGGCGGTGAGGCCCTGGACGGCGTTGTGCTGGGGCAGCCTGCGACTGCGCACACGTCTGCGCCATCCATATGATTAGGCAGCGTGTCAGCGTGGCTGGAGCGCATCTCTCGCCCGGCCCTCACACTGCCTTGCTGGTGCGGGGATGCA\n",
      "==================================================\n",
      "neg data:\n",
      "sseqid                 LinJ.35\n",
      "sstart                 1631161\n",
      "send                   1631853\n",
      "interval    [1631161, 1631853]\n",
      "Name: 837, dtype: object\n",
      "ACCGGGTGGCGACCGGCAAAGTTGGAGCGGCCGTGAGGCGACCTGCGGAGCGGGGGATGAGTGGGTGCACAGCATGAGAGAGAGGCCGCGCGCGGATCACTGTCTTGGGGCATTGCGGTAATGCGCGTGGGCAGTGCTGCGTCGCACCACGCGACGGGACACGTAACAGGGTCACGGGGAGGGTAGGGTGGCGCTTGAACTCATGCTCTATGGCAGAGAATGGACACACGGCACAAGGAATAGTCTGTTTCTCTCTGTGCCCGTTACTTTCCTCCTTTTTTTTACTGTGTGAGTTTTTTTTCTATATGGTCTTTTTTGTTTGCCTTCATCTCATCATCGTTAGTGCGTGAGGTGATGCACCTTTTCGGTGACGCTCCTCTATTTTGTTTTTCAGGTTTCGTTCGGTTTTCGTCATTCGTGTATACCATGATCTTCGCGTGGTAAGCTTAATATTCTGTAGATGGATTTCCACATGACGGCAGGCATCCTGATCGGAGAGGCTCTTCTTTCTGTTACTGCCTGCTGCTGTTTACAGTATTATATGAATACTCTTTTTCTGTTTAGATTTTGCATCCTCCTTGTTCTTCGTTTTTCTTTCTTTTCAAATCTTCTGCCGCTGCTTAGCGCATCTCCGCGTGGACCCCATTCGTTCCCTTTTCCTGTGGTGAACTGTTTCTTGCTTGACCCTTTCCC\n"
     ]
    }
   ],
   "source": [
    "for x in overlaping_elems:\n",
    "    print(\"pos data:\")\n",
    "    print(x[0][[\"sseqid\", \"sstart\", \"send\", \"interval\"]])\n",
    "    print(x[0][\"sseq\"])\n",
    "    print(\"=\"*50)\n",
    "    print(\"neg data:\")\n",
    "    print(x[1][[\"sseqid\", \"sstart\", \"send\", \"interval\"]])\n",
    "    print(x[1][\"sseq\"])\n"
   ]
  },
  {
   "cell_type": "code",
   "execution_count": 52,
   "metadata": {},
   "outputs": [],
   "source": [
    "# Load test data from the beginning\n",
    "test_pos = pd.read_csv(\"./1.new_data/positive_database.csv\", sep=\",\", header=0)\n",
    "test_neg = pd.read_csv(\"./1.new_data/negative_database.csv\", sep=\",\", header=0)"
   ]
  },
  {
   "cell_type": "code",
   "execution_count": 53,
   "metadata": {},
   "outputs": [
    {
     "data": {
      "text/html": [
       "<div>\n",
       "<style scoped>\n",
       "    .dataframe tbody tr th:only-of-type {\n",
       "        vertical-align: middle;\n",
       "    }\n",
       "\n",
       "    .dataframe tbody tr th {\n",
       "        vertical-align: top;\n",
       "    }\n",
       "\n",
       "    .dataframe thead th {\n",
       "        text-align: right;\n",
       "    }\n",
       "</style>\n",
       "<table border=\"1\" class=\"dataframe\">\n",
       "  <thead>\n",
       "    <tr style=\"text-align: right;\">\n",
       "      <th></th>\n",
       "      <th>sseqid</th>\n",
       "      <th>sstart</th>\n",
       "      <th>send</th>\n",
       "      <th>sstrand</th>\n",
       "      <th>sseq</th>\n",
       "    </tr>\n",
       "  </thead>\n",
       "  <tbody>\n",
       "    <tr>\n",
       "      <th>1922</th>\n",
       "      <td>LinJ.35</td>\n",
       "      <td>1630851</td>\n",
       "      <td>1631161</td>\n",
       "      <td>plus</td>\n",
       "      <td>CACTTCAGCGTGGCATCACAAGGTCCGGTGCACCAGCCTTGCGTGG...</td>\n",
       "    </tr>\n",
       "  </tbody>\n",
       "</table>\n",
       "</div>"
      ],
      "text/plain": [
       "       sseqid   sstart     send sstrand  \\\n",
       "1922  LinJ.35  1630851  1631161    plus   \n",
       "\n",
       "                                                   sseq  \n",
       "1922  CACTTCAGCGTGGCATCACAAGGTCCGGTGCACCAGCCTTGCGTGG...  "
      ]
     },
     "execution_count": 53,
     "metadata": {},
     "output_type": "execute_result"
    }
   ],
   "source": [
    "test_pos[\n",
    "    test_pos.loc[:, \"sseq\"] == \"CACTTCAGCGTGGCATCACAAGGTCCGGTGCACCAGCCTTGCGTGGGATAGCCGAGCAGCCCACCCTATCCCTGCTAGTCCCGGACCGCTTCTGCTGGTGACAGGGCCACGCGCCCACGACGTGAGGGAGGGGAAGCCAGTGCGATTTTGTCGCTACCGATGTCGGCGGTGAGGCCCTGGACGGCGTTGTGCTGGGGCAGCCTGCGACTGCGCACACGTCTGCGCCATCCATATGATTAGGCAGCGTGTCAGCGTGGCTGGAGCGCATCTCTCGCCCGGCCCTCACACTGCCTTGCTGGTGCGGGGATGCA\"\n",
    "    ]"
   ]
  },
  {
   "cell_type": "code",
   "execution_count": 54,
   "metadata": {},
   "outputs": [
    {
     "data": {
      "text/html": [
       "<div>\n",
       "<style scoped>\n",
       "    .dataframe tbody tr th:only-of-type {\n",
       "        vertical-align: middle;\n",
       "    }\n",
       "\n",
       "    .dataframe tbody tr th {\n",
       "        vertical-align: top;\n",
       "    }\n",
       "\n",
       "    .dataframe thead th {\n",
       "        text-align: right;\n",
       "    }\n",
       "</style>\n",
       "<table border=\"1\" class=\"dataframe\">\n",
       "  <thead>\n",
       "    <tr style=\"text-align: right;\">\n",
       "      <th></th>\n",
       "      <th>sseqid</th>\n",
       "      <th>sstart</th>\n",
       "      <th>send</th>\n",
       "      <th>sstrand</th>\n",
       "      <th>sseq</th>\n",
       "    </tr>\n",
       "  </thead>\n",
       "  <tbody>\n",
       "    <tr>\n",
       "      <th>852</th>\n",
       "      <td>LinJ.35</td>\n",
       "      <td>1631161</td>\n",
       "      <td>1631853</td>\n",
       "      <td>plus</td>\n",
       "      <td>ACCGGGTGGCGACCGGCAAAGTTGGAGCGGCCGTGAGGCGACCTGC...</td>\n",
       "    </tr>\n",
       "  </tbody>\n",
       "</table>\n",
       "</div>"
      ],
      "text/plain": [
       "      sseqid   sstart     send sstrand  \\\n",
       "852  LinJ.35  1631161  1631853    plus   \n",
       "\n",
       "                                                  sseq  \n",
       "852  ACCGGGTGGCGACCGGCAAAGTTGGAGCGGCCGTGAGGCGACCTGC...  "
      ]
     },
     "execution_count": 54,
     "metadata": {},
     "output_type": "execute_result"
    }
   ],
   "source": [
    "test_neg[\n",
    "    test_neg.loc[:, \"sseq\"] == \"ACCGGGTGGCGACCGGCAAAGTTGGAGCGGCCGTGAGGCGACCTGCGGAGCGGGGGATGAGTGGGTGCACAGCATGAGAGAGAGGCCGCGCGCGGATCACTGTCTTGGGGCATTGCGGTAATGCGCGTGGGCAGTGCTGCGTCGCACCACGCGACGGGACACGTAACAGGGTCACGGGGAGGGTAGGGTGGCGCTTGAACTCATGCTCTATGGCAGAGAATGGACACACGGCACAAGGAATAGTCTGTTTCTCTCTGTGCCCGTTACTTTCCTCCTTTTTTTTACTGTGTGAGTTTTTTTTCTATATGGTCTTTTTTGTTTGCCTTCATCTCATCATCGTTAGTGCGTGAGGTGATGCACCTTTTCGGTGACGCTCCTCTATTTTGTTTTTCAGGTTTCGTTCGGTTTTCGTCATTCGTGTATACCATGATCTTCGCGTGGTAAGCTTAATATTCTGTAGATGGATTTCCACATGACGGCAGGCATCCTGATCGGAGAGGCTCTTCTTTCTGTTACTGCCTGCTGCTGTTTACAGTATTATATGAATACTCTTTTTCTGTTTAGATTTTGCATCCTCCTTGTTCTTCGTTTTTCTTTCTTTTCAAATCTTCTGCCGCTGCTTAGCGCATCTCCGCGTGGACCCCATTCGTTCCCTTTTCCTGTGGTGAACTGTTTCTTGCTTGACCCTTTCCC\"\n",
    "    ]"
   ]
  },
  {
   "cell_type": "code",
   "execution_count": 60,
   "metadata": {},
   "outputs": [
    {
     "name": "stdout",
     "output_type": "stream",
     "text": [
      "(2092, 5)\n",
      "(691, 5)\n"
     ]
    }
   ],
   "source": [
    "test_pos2 = pd.read_csv(\"../17.Real_coordinates_method/data/consensus+LmSIDER2A+B/positive_data+recaught.csv\", sep=\",\", header=0)\n",
    "test_neg2 = pd.read_csv(\"../17.Real_coordinates_method/data/consensus+LmSIDER2A+B/neg_data_corrected.csv\", sep=\",\", header=0)\n",
    "print(test_pos2.shape)\n",
    "print(test_neg2.shape)"
   ]
  },
  {
   "cell_type": "code",
   "execution_count": 62,
   "metadata": {},
   "outputs": [
    {
     "data": {
      "text/html": [
       "<div>\n",
       "<style scoped>\n",
       "    .dataframe tbody tr th:only-of-type {\n",
       "        vertical-align: middle;\n",
       "    }\n",
       "\n",
       "    .dataframe tbody tr th {\n",
       "        vertical-align: top;\n",
       "    }\n",
       "\n",
       "    .dataframe thead th {\n",
       "        text-align: right;\n",
       "    }\n",
       "</style>\n",
       "<table border=\"1\" class=\"dataframe\">\n",
       "  <thead>\n",
       "    <tr style=\"text-align: right;\">\n",
       "      <th></th>\n",
       "      <th>sseqid</th>\n",
       "      <th>sstart</th>\n",
       "      <th>send</th>\n",
       "      <th>sstrand</th>\n",
       "      <th>sseq</th>\n",
       "    </tr>\n",
       "  </thead>\n",
       "  <tbody>\n",
       "  </tbody>\n",
       "</table>\n",
       "</div>"
      ],
      "text/plain": [
       "Empty DataFrame\n",
       "Columns: [sseqid, sstart, send, sstrand, sseq]\n",
       "Index: []"
      ]
     },
     "execution_count": 62,
     "metadata": {},
     "output_type": "execute_result"
    }
   ],
   "source": [
    "test_pos2[\n",
    "    (test_pos2[\"sseqid\"] == \"LinJ.35\") & (test_pos2[\"sstart\"] == 1630851)\n",
    "    ]"
   ]
  },
  {
   "cell_type": "code",
   "execution_count": 63,
   "metadata": {},
   "outputs": [
    {
     "data": {
      "text/html": [
       "<div>\n",
       "<style scoped>\n",
       "    .dataframe tbody tr th:only-of-type {\n",
       "        vertical-align: middle;\n",
       "    }\n",
       "\n",
       "    .dataframe tbody tr th {\n",
       "        vertical-align: top;\n",
       "    }\n",
       "\n",
       "    .dataframe thead th {\n",
       "        text-align: right;\n",
       "    }\n",
       "</style>\n",
       "<table border=\"1\" class=\"dataframe\">\n",
       "  <thead>\n",
       "    <tr style=\"text-align: right;\">\n",
       "      <th></th>\n",
       "      <th>sseqid</th>\n",
       "      <th>sstart</th>\n",
       "      <th>send</th>\n",
       "      <th>sstrand</th>\n",
       "      <th>sseq</th>\n",
       "    </tr>\n",
       "  </thead>\n",
       "  <tbody>\n",
       "  </tbody>\n",
       "</table>\n",
       "</div>"
      ],
      "text/plain": [
       "Empty DataFrame\n",
       "Columns: [sseqid, sstart, send, sstrand, sseq]\n",
       "Index: []"
      ]
     },
     "execution_count": 63,
     "metadata": {},
     "output_type": "execute_result"
    }
   ],
   "source": [
    "test_neg2[\n",
    "    (test_neg2[\"sseqid\"] == \"LinJ.35\") & (test_neg2[\"sstart\"] == 1630851)\n",
    "]"
   ]
  }
 ],
 "metadata": {
  "kernelspec": {
   "display_name": "Python 3",
   "language": "python",
   "name": "python3"
  },
  "language_info": {
   "codemirror_mode": {
    "name": "ipython",
    "version": 3
   },
   "file_extension": ".py",
   "mimetype": "text/x-python",
   "name": "python",
   "nbconvert_exporter": "python",
   "pygments_lexer": "ipython3",
   "version": "3.12.4"
  }
 },
 "nbformat": 4,
 "nbformat_minor": 2
}
