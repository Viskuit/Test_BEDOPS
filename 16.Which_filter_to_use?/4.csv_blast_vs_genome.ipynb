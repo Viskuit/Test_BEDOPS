{
 "cells": [
  {
   "cell_type": "code",
   "execution_count": 2,
   "metadata": {},
   "outputs": [],
   "source": [
    "# Needed modules\n",
    "import os\n",
    "import subprocess\n",
    "import pandas as pd\n",
    "from Bio import SeqIO\n",
    "from Bio.Seq import Seq\n",
    "from Bio.SeqRecord import SeqRecord"
   ]
  },
  {
   "cell_type": "code",
   "execution_count": 18,
   "metadata": {},
   "outputs": [],
   "source": [
    "# Needed functions\n",
    "def fasta_creator(csv_input, output_path):\n",
    "    matrix = []\n",
    "    for index, row in csv_input.iterrows():\n",
    "        rec = SeqRecord(Seq(row[\"sseq\"]), \n",
    "                        id = f\"Seq_{index}_{row['sseqid']}\",\n",
    "                        description = \"Leishmania infantum\"\n",
    "                        )\n",
    "        matrix.append(rec)\n",
    "    SeqIO.write(matrix, output_path, \"fasta\")\n",
    "\n",
    "def blastn_dic(path_input, path_output):\n",
    "    # \"parse_seqids\" is used to keep the sequence ID in the output.\n",
    "    cmd = f\"makeblastdb -in {path_input} -dbtype nucl -parse_seqids -out {path_output}\"\n",
    "    subprocess.run(cmd, shell=True, stdout=subprocess.DEVNULL, stderr=subprocess.DEVNULL)\n",
    "\n",
    "def blastn_blaster(query_path, dict_path):\n",
    "    cmd = \"blastn -word_size 11 -query \" \\\n",
    "        + query_path + \" -db \" \\\n",
    "        + dict_path \\\n",
    "        + \" -outfmt '10 qseqid sseqid pident length qstart qend sstart send evalue bitscore qlen slen'\"\n",
    "    data = subprocess.check_output(cmd, shell=True, universal_newlines=True)  # Important the E value\n",
    "    data = pd.DataFrame([x.split(\",\") for x in data.split(\"\\n\") if x])\n",
    "    if not data.empty:  # If the dataframe is not empty\n",
    "        data.columns = [\"qseqid\", \"sseqid\", \"pident\", \"length\", \"qstart\", \"qend\", \"sstart\", \"send\", \"evalue\", \"bitscore\", \"qlen\", \"slen\"]\n",
    "        data[['pident', 'length', 'qstart', 'qend', 'sstart', 'send', 'evalue', 'bitscore', 'qlen', 'slen']] = data[['pident', 'length', 'qstart', 'qend', 'sstart', 'send', 'evalue', 'bitscore', 'qlen', 'slen']].apply(pd.to_numeric)\n",
    "    else:  # If the dataframe is empty\n",
    "        data = pd.DataFrame(columns=[\"qseqid\", \"sseqid\", \"pident\", \"length\", \"qstart\", \"qend\", \"sstart\", \"send\", \"evalue\", \"bitscore\", \"qlen\", \"slen\"])  # Create an empty dataframe\n",
    "    return data  "
   ]
  },
  {
   "cell_type": "code",
   "execution_count": 3,
   "metadata": {},
   "outputs": [],
   "source": [
    "path_neg_data_no_LmSIDER2AB = \"./data/consensus+LmSIDER2A+B/neg_dat_filter_decider/contrast/neg_data_no_LmSIDER2A+B/neg_data_no_LmSIDER2A+B.fasta\"\n",
    "path_neg_data_no_LmSIDER2AB_and_evalue = \"./data/consensus+LmSIDER2A+B/neg_dat_filter_decider/contrast/neg_data_no_LmSIDER2A+B_and_evalue/neg_data_no_LmSIDER2A+B_and_evalue.fasta\"\n",
    "path_genome = \"./data/L_infantum/dict/TriTrypDB-67_LinfantumJPCM5_Genome.fasta\"\n",
    "path_folder_neg_data_no_LmSIDER2AB = os.path.dirname(path_neg_data_no_LmSIDER2AB)  \n",
    "path_folder_neg_data_no_LmSIDER2AB_and_evalue = os.path.dirname(path_neg_data_no_LmSIDER2AB_and_evalue)\n",
    "# os.makedirs(path_folder, exist_ok=True)"
   ]
  },
  {
   "cell_type": "code",
   "execution_count": 20,
   "metadata": {},
   "outputs": [],
   "source": [
    "# Create BLASTn dict\n",
    "# blastn_dic(path_input=path_genome, path_output=path_genome)"
   ]
  },
  {
   "cell_type": "code",
   "execution_count": 19,
   "metadata": {},
   "outputs": [],
   "source": [
    "# Cretae CSV function creator with BLASTn\n",
    "def csv_blasting(path_fasta, path_folder, genome_path):\n",
    "    for count, fasta in enumerate(SeqIO.parse(path_fasta, \"fasta\"), start=0):\n",
    "        path_tmp_fasta = f\"{path_folder}/tmp.fasta\"\n",
    "        SeqIO.write(fasta, path_tmp_fasta, \"fasta\")\n",
    "        # BLASTn\n",
    "        data = blastn_blaster(query_path=path_tmp_fasta, dict_path=genome_path)\n",
    "        data.sort_values(by=\"evalue\", ascending=True, inplace=True)\n",
    "        path_csv = f\"{path_folder}/{fasta.id}.csv\"\n",
    "        data.to_csv(path_csv, index=False, sep=\",\", header=True)"
   ]
  },
  {
   "cell_type": "code",
   "execution_count": 20,
   "metadata": {},
   "outputs": [],
   "source": [
    "# Create CSV with BLASTn with the data without LmSIDER2A+B\n",
    "csv_blasting(path_fasta=path_neg_data_no_LmSIDER2AB, path_folder=path_folder_neg_data_no_LmSIDER2AB, genome_path=path_genome)"
   ]
  },
  {
   "cell_type": "code",
   "execution_count": 21,
   "metadata": {},
   "outputs": [],
   "source": [
    "# Create CSV with BLASTn with the data with LmSIDER2A+B and evalue > 10 ** -3\n",
    "csv_blasting(path_fasta=path_neg_data_no_LmSIDER2AB_and_evalue, path_folder=path_folder_neg_data_no_LmSIDER2AB_and_evalue, genome_path=path_genome)"
   ]
  },
  {
   "cell_type": "code",
   "execution_count": 22,
   "metadata": {},
   "outputs": [],
   "source": [
    "neg_data = pd.read_csv(\"./data/consensus+LmSIDER2A+B/negatives_testing_elements.csv\", sep=\",\", header=0)"
   ]
  },
  {
   "cell_type": "code",
   "execution_count": 23,
   "metadata": {},
   "outputs": [
    {
     "data": {
      "text/plain": [
       "sseqid                                               LinJ.27\n",
       "sstart                                                     3\n",
       "send                                                     114\n",
       "sstrand                                                 plus\n",
       "sseq       CCCTACACCCTAACCCTAACCCTAACCCAGTACACCCAGTACACCA...\n",
       "Name: 317, dtype: object"
      ]
     },
     "execution_count": 23,
     "metadata": {},
     "output_type": "execute_result"
    }
   ],
   "source": [
    "neg_data.iloc[317]"
   ]
  }
 ],
 "metadata": {
  "kernelspec": {
   "display_name": "Python 3",
   "language": "python",
   "name": "python3"
  },
  "language_info": {
   "codemirror_mode": {
    "name": "ipython",
    "version": 3
   },
   "file_extension": ".py",
   "mimetype": "text/x-python",
   "name": "python",
   "nbconvert_exporter": "python",
   "pygments_lexer": "ipython3",
   "version": "3.12.3"
  }
 },
 "nbformat": 4,
 "nbformat_minor": 2
}
