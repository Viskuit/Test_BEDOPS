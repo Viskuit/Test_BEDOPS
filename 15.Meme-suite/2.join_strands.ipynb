{
 "cells": [
  {
   "cell_type": "code",
   "execution_count": 5,
   "metadata": {},
   "outputs": [],
   "source": [
    "# Needed modules\n",
    "import pandas as pd\n",
    "import os\n",
    "import subprocess"
   ]
  },
  {
   "cell_type": "code",
   "execution_count": 6,
   "metadata": {},
   "outputs": [
    {
     "name": "stdout",
     "output_type": "stream",
     "text": [
      "(4874, 14)\n",
      "qseqid      float64\n",
      "sseqid       object\n",
      "pident      float64\n",
      "length        int64\n",
      "qstart      float64\n",
      "qend        float64\n",
      "sstart        int64\n",
      "send          int64\n",
      "evalue      float64\n",
      "bitscore    float64\n",
      "qlen        float64\n",
      "slen        float64\n",
      "sstrand      object\n",
      "sseq         object\n",
      "dtype: object\n"
     ]
    },
    {
     "data": {
      "text/html": [
       "<div>\n",
       "<style scoped>\n",
       "    .dataframe tbody tr th:only-of-type {\n",
       "        vertical-align: middle;\n",
       "    }\n",
       "\n",
       "    .dataframe tbody tr th {\n",
       "        vertical-align: top;\n",
       "    }\n",
       "\n",
       "    .dataframe thead th {\n",
       "        text-align: right;\n",
       "    }\n",
       "</style>\n",
       "<table border=\"1\" class=\"dataframe\">\n",
       "  <thead>\n",
       "    <tr style=\"text-align: right;\">\n",
       "      <th></th>\n",
       "      <th>qseqid</th>\n",
       "      <th>sseqid</th>\n",
       "      <th>pident</th>\n",
       "      <th>length</th>\n",
       "      <th>qstart</th>\n",
       "      <th>qend</th>\n",
       "      <th>sstart</th>\n",
       "      <th>send</th>\n",
       "      <th>evalue</th>\n",
       "      <th>bitscore</th>\n",
       "      <th>qlen</th>\n",
       "      <th>slen</th>\n",
       "      <th>sstrand</th>\n",
       "      <th>sseq</th>\n",
       "    </tr>\n",
       "  </thead>\n",
       "  <tbody>\n",
       "    <tr>\n",
       "      <th>0</th>\n",
       "      <td>NaN</td>\n",
       "      <td>LinJ.01</td>\n",
       "      <td>NaN</td>\n",
       "      <td>1000</td>\n",
       "      <td>NaN</td>\n",
       "      <td>NaN</td>\n",
       "      <td>1000</td>\n",
       "      <td>1</td>\n",
       "      <td>NaN</td>\n",
       "      <td>NaN</td>\n",
       "      <td>NaN</td>\n",
       "      <td>NaN</td>\n",
       "      <td>minus</td>\n",
       "      <td>GTTCTATCCATCGACCTGCACCTGCACACATGAGCTGCAAAAAGTT...</td>\n",
       "    </tr>\n",
       "    <tr>\n",
       "      <th>1</th>\n",
       "      <td>NaN</td>\n",
       "      <td>LinJ.01</td>\n",
       "      <td>NaN</td>\n",
       "      <td>882</td>\n",
       "      <td>NaN</td>\n",
       "      <td>NaN</td>\n",
       "      <td>25080</td>\n",
       "      <td>24199</td>\n",
       "      <td>NaN</td>\n",
       "      <td>NaN</td>\n",
       "      <td>NaN</td>\n",
       "      <td>NaN</td>\n",
       "      <td>minus</td>\n",
       "      <td>CCGGATGCCGGGTTTTTGCTGTGCGTCGATGAGGCGGTGCGGGTGG...</td>\n",
       "    </tr>\n",
       "    <tr>\n",
       "      <th>2</th>\n",
       "      <td>NaN</td>\n",
       "      <td>LinJ.01</td>\n",
       "      <td>NaN</td>\n",
       "      <td>890</td>\n",
       "      <td>NaN</td>\n",
       "      <td>NaN</td>\n",
       "      <td>36263</td>\n",
       "      <td>35374</td>\n",
       "      <td>NaN</td>\n",
       "      <td>NaN</td>\n",
       "      <td>NaN</td>\n",
       "      <td>NaN</td>\n",
       "      <td>minus</td>\n",
       "      <td>CCCTCTTCTCAACTCTCGCTGTCGATCATCATCAGGGTCGCCGTCA...</td>\n",
       "    </tr>\n",
       "    <tr>\n",
       "      <th>3</th>\n",
       "      <td>NaN</td>\n",
       "      <td>LinJ.01</td>\n",
       "      <td>NaN</td>\n",
       "      <td>777</td>\n",
       "      <td>NaN</td>\n",
       "      <td>NaN</td>\n",
       "      <td>40595</td>\n",
       "      <td>39819</td>\n",
       "      <td>NaN</td>\n",
       "      <td>NaN</td>\n",
       "      <td>NaN</td>\n",
       "      <td>NaN</td>\n",
       "      <td>minus</td>\n",
       "      <td>CCCCGCCCCTTGGCTGGCATGGACGGAAATGGACGATGAAGACAGC...</td>\n",
       "    </tr>\n",
       "    <tr>\n",
       "      <th>4</th>\n",
       "      <td>NaN</td>\n",
       "      <td>LinJ.01</td>\n",
       "      <td>NaN</td>\n",
       "      <td>890</td>\n",
       "      <td>NaN</td>\n",
       "      <td>NaN</td>\n",
       "      <td>55875</td>\n",
       "      <td>54986</td>\n",
       "      <td>NaN</td>\n",
       "      <td>NaN</td>\n",
       "      <td>NaN</td>\n",
       "      <td>NaN</td>\n",
       "      <td>minus</td>\n",
       "      <td>CTCAAGGAAATCGGTTGATGAGCCGCATGGCACGGCTCCTATGTCC...</td>\n",
       "    </tr>\n",
       "  </tbody>\n",
       "</table>\n",
       "</div>"
      ],
      "text/plain": [
       "   qseqid   sseqid  pident  length  qstart  qend  sstart   send  evalue  \\\n",
       "0     NaN  LinJ.01     NaN    1000     NaN   NaN    1000      1     NaN   \n",
       "1     NaN  LinJ.01     NaN     882     NaN   NaN   25080  24199     NaN   \n",
       "2     NaN  LinJ.01     NaN     890     NaN   NaN   36263  35374     NaN   \n",
       "3     NaN  LinJ.01     NaN     777     NaN   NaN   40595  39819     NaN   \n",
       "4     NaN  LinJ.01     NaN     890     NaN   NaN   55875  54986     NaN   \n",
       "\n",
       "   bitscore  qlen  slen sstrand  \\\n",
       "0       NaN   NaN   NaN   minus   \n",
       "1       NaN   NaN   NaN   minus   \n",
       "2       NaN   NaN   NaN   minus   \n",
       "3       NaN   NaN   NaN   minus   \n",
       "4       NaN   NaN   NaN   minus   \n",
       "\n",
       "                                                sseq  \n",
       "0  GTTCTATCCATCGACCTGCACCTGCACACATGAGCTGCAAAAAGTT...  \n",
       "1  CCGGATGCCGGGTTTTTGCTGTGCGTCGATGAGGCGGTGCGGGTGG...  \n",
       "2  CCCTCTTCTCAACTCTCGCTGTCGATCATCATCAGGGTCGCCGTCA...  \n",
       "3  CCCCGCCCCTTGGCTGGCATGGACGGAAATGGACGATGAAGACAGC...  \n",
       "4  CTCAAGGAAATCGGTTGATGAGCCGCATGGCACGGCTCCTATGTCC...  "
      ]
     },
     "execution_count": 6,
     "metadata": {},
     "output_type": "execute_result"
    }
   ],
   "source": [
    "# Load the consensus data output\n",
    "consensus_data = pd.read_csv(\"./data_software_output/Last_Data.csv\", sep=\",\", header=0)\n",
    "print(consensus_data.shape)\n",
    "print(consensus_data.dtypes)\n",
    "consensus_data.head()"
   ]
  },
  {
   "cell_type": "code",
   "execution_count": 7,
   "metadata": {},
   "outputs": [
    {
     "data": {
      "text/plain": [
       "2940"
      ]
     },
     "execution_count": 7,
     "metadata": {},
     "output_type": "execute_result"
    }
   ],
   "source": [
    "# Check if there are rows with sstart > send\n",
    "sum(consensus_data[\"sstart\"] > consensus_data[\"send\"])"
   ]
  },
  {
   "cell_type": "code",
   "execution_count": 8,
   "metadata": {},
   "outputs": [],
   "source": [
    "# Make it so that sstart < send\n",
    "consensus_data.loc[consensus_data[\"sstrand\"] == \"minus\", [\"sstart\", \"send\"]] = consensus_data.loc[consensus_data[\"sstrand\"] == \"minus\", [\"send\", \"sstart\"]].values"
   ]
  },
  {
   "cell_type": "code",
   "execution_count": 9,
   "metadata": {},
   "outputs": [
    {
     "data": {
      "text/plain": [
       "0"
      ]
     },
     "execution_count": 9,
     "metadata": {},
     "output_type": "execute_result"
    }
   ],
   "source": [
    "# Check it it worked\n",
    "sum(consensus_data[\"sstart\"] > consensus_data[\"send\"])"
   ]
  },
  {
   "cell_type": "code",
   "execution_count": 10,
   "metadata": {},
   "outputs": [],
   "source": [
    "# Take only what's needed\n",
    "consensus_data = consensus_data[[\"sseqid\", \"sstart\", \"send\"]].copy()"
   ]
  },
  {
   "cell_type": "code",
   "execution_count": 11,
   "metadata": {},
   "outputs": [],
   "source": [
    "# Path for bedops files creawtion\n",
    "path_consensus = \"./data_software_output/consensus_seqs.bed\"\n",
    "consensus_data.to_csv(path_consensus, sep=\"\\t\", header=False, index=False)  # save data for BEDOPS file"
   ]
  },
  {
   "cell_type": "code",
   "execution_count": 13,
   "metadata": {},
   "outputs": [
    {
     "name": "stdout",
     "output_type": "stream",
     "text": [
      "There are 2940 consensus sequences after BEDOPS merge\n"
     ]
    }
   ],
   "source": [
    "# Bedops call\n",
    "cmd = f\"bedops --merge {path_consensus}\"\n",
    "consensus_data = subprocess.check_output(cmd, shell=True, universal_newlines=True)\n",
    "consensus_data = pd.DataFrame([x.split(\"\\t\") for x in consensus_data.split(\"\\n\") if x],\n",
    "                              columns=[\"sseqid\", \"sstart\", \"send\"])\n",
    "consensus_data[[\"sstart\", \"send\"]] = consensus_data[[\"sstart\", \"send\"]].apply(pd.to_numeric)\n",
    "print(f\"There are {consensus_data.shape[0]} consensus sequences after BEDOPS merge\")"
   ]
  },
  {
   "cell_type": "code",
   "execution_count": 17,
   "metadata": {},
   "outputs": [],
   "source": [
    "# Now let's get the sequences\n",
    "def get_data_sequence(data, strand, genome_fasta):\n",
    "    sequences = []\n",
    "    for _, row in data.iterrows():\n",
    "        sseqid = row[\"sseqid\"]\n",
    "        start = row[\"sstart\"]\n",
    "        end = row[\"send\"]\n",
    "        cmd = f\"blastdbcmd -db {genome_fasta} -entry {sseqid} -range {start}-{end} -strand {strand} -outfmt %s\"\n",
    "\n",
    "        sequence = subprocess.check_output(cmd, shell=True, universal_newlines=True).replace('\\n', '')\n",
    "\n",
    "        sequences.append({\n",
    "            \"sseqid\": sseqid,\n",
    "            \"sstart\": start,\n",
    "            \"send\": end,\n",
    "            \"sstrand\": strand,\n",
    "            \"sseq\": sequence\n",
    "        })\n",
    "\n",
    "    sequences_df = pd.DataFrame(sequences)\n",
    "    return sequences_df\n",
    "\n",
    "# Prepare dict creation\n",
    "def blastn_dic(path_input, path_output):\n",
    "    # \"parse_seqids\" is used to keep the sequence ID in the output.\n",
    "    cmd = f\"makeblastdb -in {path_input} -dbtype nucl -parse_seqids -out {path_output}\"\n",
    "    subprocess.run(cmd, shell=True, stdout=subprocess.DEVNULL, stderr=subprocess.DEVNULL)"
   ]
  },
  {
   "cell_type": "code",
   "execution_count": 20,
   "metadata": {},
   "outputs": [],
   "source": [
    "# Prepare dictionary blastn\n",
    "os.makedirs(\"./data/L_infantum\", exist_ok=True)\n",
    "blastn_dic(path_input=\"../0.Data/genome/L_infantum/TriTrypDB-67_LinfantumJPCM5_Genome.fasta\",\n",
    "           path_output=\"./data/L_infantum/TriTrypDB-67_LinfantumJPCM5_Genome.fasta\")"
   ]
  },
  {
   "cell_type": "code",
   "execution_count": 21,
   "metadata": {},
   "outputs": [
    {
     "name": "stdout",
     "output_type": "stream",
     "text": [
      "There are 2940 consensus sequences after getting the sequences\n"
     ]
    }
   ],
   "source": [
    "consensus_data_seqs = get_data_sequence(data=consensus_data,\n",
    "                                        strand=\"plus\",\n",
    "                                        genome_fasta=\"./data/L_infantum/TriTrypDB-67_LinfantumJPCM5_Genome.fasta\"\n",
    "                                        )\n",
    "print(f\"There are {consensus_data_seqs.shape[0]} consensus sequences after getting the sequences\")"
   ]
  },
  {
   "cell_type": "code",
   "execution_count": 22,
   "metadata": {},
   "outputs": [
    {
     "name": "stdout",
     "output_type": "stream",
     "text": [
      "(2940, 5)\n",
      "sseqid     object\n",
      "sstart      int64\n",
      "send        int64\n",
      "sstrand    object\n",
      "sseq       object\n",
      "dtype: object\n"
     ]
    },
    {
     "data": {
      "text/html": [
       "<div>\n",
       "<style scoped>\n",
       "    .dataframe tbody tr th:only-of-type {\n",
       "        vertical-align: middle;\n",
       "    }\n",
       "\n",
       "    .dataframe tbody tr th {\n",
       "        vertical-align: top;\n",
       "    }\n",
       "\n",
       "    .dataframe thead th {\n",
       "        text-align: right;\n",
       "    }\n",
       "</style>\n",
       "<table border=\"1\" class=\"dataframe\">\n",
       "  <thead>\n",
       "    <tr style=\"text-align: right;\">\n",
       "      <th></th>\n",
       "      <th>sseqid</th>\n",
       "      <th>sstart</th>\n",
       "      <th>send</th>\n",
       "      <th>sstrand</th>\n",
       "      <th>sseq</th>\n",
       "    </tr>\n",
       "  </thead>\n",
       "  <tbody>\n",
       "    <tr>\n",
       "      <th>0</th>\n",
       "      <td>LinJ.01</td>\n",
       "      <td>1</td>\n",
       "      <td>1000</td>\n",
       "      <td>plus</td>\n",
       "      <td>ACACCAGTACACCAGTACACCAGTACACCAGTACACCAGTACACCA...</td>\n",
       "    </tr>\n",
       "    <tr>\n",
       "      <th>1</th>\n",
       "      <td>LinJ.01</td>\n",
       "      <td>24199</td>\n",
       "      <td>25080</td>\n",
       "      <td>plus</td>\n",
       "      <td>CCCCCTCACCCTCTATCCCTGCCAACGCCGAACCACTTCTGGTGCT...</td>\n",
       "    </tr>\n",
       "    <tr>\n",
       "      <th>2</th>\n",
       "      <td>LinJ.01</td>\n",
       "      <td>35374</td>\n",
       "      <td>36263</td>\n",
       "      <td>plus</td>\n",
       "      <td>CCCATCGCCTGGTGCGAAGCAGCGCAAGACACACGCGCGCTGCAGC...</td>\n",
       "    </tr>\n",
       "    <tr>\n",
       "      <th>3</th>\n",
       "      <td>LinJ.01</td>\n",
       "      <td>39819</td>\n",
       "      <td>40595</td>\n",
       "      <td>plus</td>\n",
       "      <td>CGCACGCACAGCCACAGCTCACCTGGCACTCTGTTGCACGGCGGCT...</td>\n",
       "    </tr>\n",
       "    <tr>\n",
       "      <th>4</th>\n",
       "      <td>LinJ.01</td>\n",
       "      <td>54986</td>\n",
       "      <td>55875</td>\n",
       "      <td>plus</td>\n",
       "      <td>CTCATCGCCTGGTGCGAAGCAGCGCAAGACACACGCGCGCTGCAGC...</td>\n",
       "    </tr>\n",
       "  </tbody>\n",
       "</table>\n",
       "</div>"
      ],
      "text/plain": [
       "    sseqid  sstart   send sstrand  \\\n",
       "0  LinJ.01       1   1000    plus   \n",
       "1  LinJ.01   24199  25080    plus   \n",
       "2  LinJ.01   35374  36263    plus   \n",
       "3  LinJ.01   39819  40595    plus   \n",
       "4  LinJ.01   54986  55875    plus   \n",
       "\n",
       "                                                sseq  \n",
       "0  ACACCAGTACACCAGTACACCAGTACACCAGTACACCAGTACACCA...  \n",
       "1  CCCCCTCACCCTCTATCCCTGCCAACGCCGAACCACTTCTGGTGCT...  \n",
       "2  CCCATCGCCTGGTGCGAAGCAGCGCAAGACACACGCGCGCTGCAGC...  \n",
       "3  CGCACGCACAGCCACAGCTCACCTGGCACTCTGTTGCACGGCGGCT...  \n",
       "4  CTCATCGCCTGGTGCGAAGCAGCGCAAGACACACGCGCGCTGCAGC...  "
      ]
     },
     "execution_count": 22,
     "metadata": {},
     "output_type": "execute_result"
    }
   ],
   "source": [
    "# explore data\n",
    "print(consensus_data_seqs.shape)\n",
    "print(consensus_data_seqs.dtypes)\n",
    "consensus_data_seqs.head()"
   ]
  },
  {
   "cell_type": "code",
   "execution_count": 23,
   "metadata": {},
   "outputs": [
    {
     "name": "stdout",
     "output_type": "stream",
     "text": [
      "sseqid     object\n",
      "length      int64\n",
      "sstart      int64\n",
      "send        int64\n",
      "sstrand    object\n",
      "sseq       object\n",
      "dtype: object\n"
     ]
    },
    {
     "data": {
      "text/html": [
       "<div>\n",
       "<style scoped>\n",
       "    .dataframe tbody tr th:only-of-type {\n",
       "        vertical-align: middle;\n",
       "    }\n",
       "\n",
       "    .dataframe tbody tr th {\n",
       "        vertical-align: top;\n",
       "    }\n",
       "\n",
       "    .dataframe thead th {\n",
       "        text-align: right;\n",
       "    }\n",
       "</style>\n",
       "<table border=\"1\" class=\"dataframe\">\n",
       "  <thead>\n",
       "    <tr style=\"text-align: right;\">\n",
       "      <th></th>\n",
       "      <th>sseqid</th>\n",
       "      <th>length</th>\n",
       "      <th>sstart</th>\n",
       "      <th>send</th>\n",
       "      <th>sstrand</th>\n",
       "      <th>sseq</th>\n",
       "    </tr>\n",
       "  </thead>\n",
       "  <tbody>\n",
       "    <tr>\n",
       "      <th>0</th>\n",
       "      <td>LinJ.01</td>\n",
       "      <td>1000</td>\n",
       "      <td>1</td>\n",
       "      <td>1000</td>\n",
       "      <td>plus</td>\n",
       "      <td>ACACCAGTACACCAGTACACCAGTACACCAGTACACCAGTACACCA...</td>\n",
       "    </tr>\n",
       "    <tr>\n",
       "      <th>1</th>\n",
       "      <td>LinJ.01</td>\n",
       "      <td>882</td>\n",
       "      <td>24199</td>\n",
       "      <td>25080</td>\n",
       "      <td>plus</td>\n",
       "      <td>CCCCCTCACCCTCTATCCCTGCCAACGCCGAACCACTTCTGGTGCT...</td>\n",
       "    </tr>\n",
       "    <tr>\n",
       "      <th>2</th>\n",
       "      <td>LinJ.01</td>\n",
       "      <td>890</td>\n",
       "      <td>35374</td>\n",
       "      <td>36263</td>\n",
       "      <td>plus</td>\n",
       "      <td>CCCATCGCCTGGTGCGAAGCAGCGCAAGACACACGCGCGCTGCAGC...</td>\n",
       "    </tr>\n",
       "    <tr>\n",
       "      <th>3</th>\n",
       "      <td>LinJ.01</td>\n",
       "      <td>777</td>\n",
       "      <td>39819</td>\n",
       "      <td>40595</td>\n",
       "      <td>plus</td>\n",
       "      <td>CGCACGCACAGCCACAGCTCACCTGGCACTCTGTTGCACGGCGGCT...</td>\n",
       "    </tr>\n",
       "    <tr>\n",
       "      <th>4</th>\n",
       "      <td>LinJ.01</td>\n",
       "      <td>890</td>\n",
       "      <td>54986</td>\n",
       "      <td>55875</td>\n",
       "      <td>plus</td>\n",
       "      <td>CTCATCGCCTGGTGCGAAGCAGCGCAAGACACACGCGCGCTGCAGC...</td>\n",
       "    </tr>\n",
       "  </tbody>\n",
       "</table>\n",
       "</div>"
      ],
      "text/plain": [
       "    sseqid  length  sstart   send sstrand  \\\n",
       "0  LinJ.01    1000       1   1000    plus   \n",
       "1  LinJ.01     882   24199  25080    plus   \n",
       "2  LinJ.01     890   35374  36263    plus   \n",
       "3  LinJ.01     777   39819  40595    plus   \n",
       "4  LinJ.01     890   54986  55875    plus   \n",
       "\n",
       "                                                sseq  \n",
       "0  ACACCAGTACACCAGTACACCAGTACACCAGTACACCAGTACACCA...  \n",
       "1  CCCCCTCACCCTCTATCCCTGCCAACGCCGAACCACTTCTGGTGCT...  \n",
       "2  CCCATCGCCTGGTGCGAAGCAGCGCAAGACACACGCGCGCTGCAGC...  \n",
       "3  CGCACGCACAGCCACAGCTCACCTGGCACTCTGTTGCACGGCGGCT...  \n",
       "4  CTCATCGCCTGGTGCGAAGCAGCGCAAGACACACGCGCGCTGCAGC...  "
      ]
     },
     "execution_count": 23,
     "metadata": {},
     "output_type": "execute_result"
    }
   ],
   "source": [
    "# Insert length column\n",
    "length_column = consensus_data_seqs[\"sseq\"].apply(len)\n",
    "consensus_data_seqs.insert(1, \"length\", length_column)\n",
    "print(consensus_data_seqs.dtypes)\n",
    "consensus_data_seqs.head()"
   ]
  },
  {
   "cell_type": "code",
   "execution_count": 24,
   "metadata": {},
   "outputs": [],
   "source": [
    "consensus_data_seqs.to_csv(\"./data_software_output/consensus_data_seqs.csv\", sep=\",\", index=False, header=True)"
   ]
  }
 ],
 "metadata": {
  "kernelspec": {
   "display_name": "Python 3",
   "language": "python",
   "name": "python3"
  },
  "language_info": {
   "codemirror_mode": {
    "name": "ipython",
    "version": 3
   },
   "file_extension": ".py",
   "mimetype": "text/x-python",
   "name": "python",
   "nbconvert_exporter": "python",
   "pygments_lexer": "ipython3",
   "version": "3.12.3"
  }
 },
 "nbformat": 4,
 "nbformat_minor": 2
}
