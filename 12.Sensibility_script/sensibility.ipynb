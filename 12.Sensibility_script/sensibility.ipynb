{
 "cells": [
  {
   "cell_type": "markdown",
   "metadata": {},
   "source": [
    "Import needed modules"
   ]
  },
  {
   "cell_type": "code",
   "execution_count": 21,
   "metadata": {},
   "outputs": [],
   "source": [
    "import pandas as pd\n",
    "import os\n",
    "import subprocess"
   ]
  },
  {
   "cell_type": "markdown",
   "metadata": {},
   "source": [
    "Import data"
   ]
  },
  {
   "cell_type": "code",
   "execution_count": 2,
   "metadata": {},
   "outputs": [
    {
     "name": "stdout",
     "output_type": "stream",
     "text": [
      "'True Positives' row length: 1606\n",
      " Software row length: 5972\n"
     ]
    }
   ],
   "source": [
    "# read the data\n",
    "TP_data = pd.read_csv(\"./data/TP_SIDERs_coor.csv\", sep=\",\", header=0)\n",
    "Software_data = pd.read_csv(\"./data/Results_Program_29-05-54.csv\", sep=\",\", header=0)\n",
    "print(f\"'True Positives' row length: {TP_data.shape[0]}\\n\",\n",
    "      f\"Software row length: {Software_data.shape[0]}\")"
   ]
  },
  {
   "cell_type": "markdown",
   "metadata": {},
   "source": [
    "Check how many elements for each chromosome in the \"True Positive\" data"
   ]
  },
  {
   "cell_type": "code",
   "execution_count": 10,
   "metadata": {},
   "outputs": [
    {
     "data": {
      "text/plain": [
       "sseqid\n",
       "LinJ.01      7\n",
       "LinJ.02     18\n",
       "LinJ.03      8\n",
       "LinJ.04     18\n",
       "LinJ.05     18\n",
       "LinJ.06     22\n",
       "LinJ.07     27\n",
       "LinJ.08     18\n",
       "LinJ.09     21\n",
       "LinJ.10     26\n",
       "LinJ.11     39\n",
       "LinJ.12     36\n",
       "LinJ.13     22\n",
       "LinJ.14     66\n",
       "LinJ.15     25\n",
       "LinJ.16     34\n",
       "LinJ.17     34\n",
       "LinJ.18     30\n",
       "LinJ.19     40\n",
       "LinJ.20     37\n",
       "LinJ.21     39\n",
       "LinJ.22     27\n",
       "LinJ.23     60\n",
       "LinJ.24     57\n",
       "LinJ.25     42\n",
       "LinJ.26     45\n",
       "LinJ.27     63\n",
       "LinJ.28     46\n",
       "LinJ.29     74\n",
       "LinJ.30     71\n",
       "LinJ.31     80\n",
       "LinJ.32     69\n",
       "LinJ.33     85\n",
       "LinJ.34     96\n",
       "LinJ.35    110\n",
       "LinJ.36     96\n",
       "Name: count, dtype: int64"
      ]
     },
     "execution_count": 10,
     "metadata": {},
     "output_type": "execute_result"
    }
   ],
   "source": [
    "TP_data[\"sseqid\"].value_counts(sort=False)"
   ]
  },
  {
   "cell_type": "markdown",
   "metadata": {},
   "source": [
    "Check how many elements for each chromosome in the software data"
   ]
  },
  {
   "cell_type": "code",
   "execution_count": 11,
   "metadata": {},
   "outputs": [
    {
     "data": {
      "text/plain": [
       "sseqid\n",
       "LinJ.01     50\n",
       "LinJ.02     61\n",
       "LinJ.03     43\n",
       "LinJ.04     67\n",
       "LinJ.05     78\n",
       "LinJ.06     72\n",
       "LinJ.07     91\n",
       "LinJ.08    163\n",
       "LinJ.09     89\n",
       "LinJ.10    117\n",
       "LinJ.11    107\n",
       "LinJ.12    151\n",
       "LinJ.13     95\n",
       "LinJ.14    118\n",
       "LinJ.15     83\n",
       "LinJ.16    119\n",
       "LinJ.17    121\n",
       "LinJ.18    135\n",
       "LinJ.19    164\n",
       "LinJ.20    122\n",
       "LinJ.21    121\n",
       "LinJ.22    147\n",
       "LinJ.23    174\n",
       "LinJ.24    146\n",
       "LinJ.25    123\n",
       "LinJ.26    150\n",
       "LinJ.27    212\n",
       "LinJ.28    163\n",
       "LinJ.29    326\n",
       "LinJ.30    234\n",
       "LinJ.31    332\n",
       "LinJ.32    236\n",
       "LinJ.33    270\n",
       "LinJ.34    517\n",
       "LinJ.35    367\n",
       "LinJ.36    408\n",
       "Name: count, dtype: int64"
      ]
     },
     "execution_count": 11,
     "metadata": {},
     "output_type": "execute_result"
    }
   ],
   "source": [
    "Software_data[\"sseqid\"].value_counts(sort=False)"
   ]
  },
  {
   "cell_type": "markdown",
   "metadata": {},
   "source": [
    "Difference in numbers in the software data compared to the \"True Positives\""
   ]
  },
  {
   "cell_type": "code",
   "execution_count": 12,
   "metadata": {},
   "outputs": [
    {
     "data": {
      "text/plain": [
       "sseqid\n",
       "LinJ.01     43\n",
       "LinJ.02     43\n",
       "LinJ.03     35\n",
       "LinJ.04     49\n",
       "LinJ.05     60\n",
       "LinJ.06     50\n",
       "LinJ.07     64\n",
       "LinJ.08    145\n",
       "LinJ.09     68\n",
       "LinJ.10     91\n",
       "LinJ.11     68\n",
       "LinJ.12    115\n",
       "LinJ.13     73\n",
       "LinJ.14     52\n",
       "LinJ.15     58\n",
       "LinJ.16     85\n",
       "LinJ.17     87\n",
       "LinJ.18    105\n",
       "LinJ.19    124\n",
       "LinJ.20     85\n",
       "LinJ.21     82\n",
       "LinJ.22    120\n",
       "LinJ.23    114\n",
       "LinJ.24     89\n",
       "LinJ.25     81\n",
       "LinJ.26    105\n",
       "LinJ.27    149\n",
       "LinJ.28    117\n",
       "LinJ.29    252\n",
       "LinJ.30    163\n",
       "LinJ.31    252\n",
       "LinJ.32    167\n",
       "LinJ.33    185\n",
       "LinJ.34    421\n",
       "LinJ.35    257\n",
       "LinJ.36    312\n",
       "Name: count, dtype: int64"
      ]
     },
     "execution_count": 12,
     "metadata": {},
     "output_type": "execute_result"
    }
   ],
   "source": [
    "Software_data[\"sseqid\"].value_counts(sort=False) - TP_data[\"sseqid\"].value_counts(sort=False)"
   ]
  },
  {
   "cell_type": "markdown",
   "metadata": {},
   "source": [
    "Let's group data by chromosomes"
   ]
  },
  {
   "cell_type": "code",
   "execution_count": 13,
   "metadata": {},
   "outputs": [],
   "source": [
    "TP_data_grouped = TP_data.groupby(\"sseqid\")\n",
    "Software_data_grouped = Software_data.groupby(\"sseqid\")"
   ]
  },
  {
   "cell_type": "markdown",
   "metadata": {},
   "source": [
    "Let's make the main code"
   ]
  },
  {
   "cell_type": "code",
   "execution_count": 18,
   "metadata": {},
   "outputs": [
    {
     "data": {
      "text/plain": [
       "'/home/rfpacheco/Documents/Work_CBMSO/Testing_Leishmania_project/12.Sensibility_script'"
      ]
     },
     "execution_count": 18,
     "metadata": {},
     "output_type": "execute_result"
    }
   ],
   "source": [
    "# Check actual path\n",
    "os.getcwd()"
   ]
  },
  {
   "cell_type": "code",
   "execution_count": 19,
   "metadata": {},
   "outputs": [],
   "source": [
    "# Folder path\n",
    "bedops_path = \"./bedops_data\""
   ]
  },
  {
   "cell_type": "markdown",
   "metadata": {},
   "source": [
    "First option with different strands:"
   ]
  },
  {
   "cell_type": "code",
   "execution_count": 22,
   "metadata": {},
   "outputs": [],
   "source": [
    "def columns_to_numeric(data_input, columns_to_convert = []):\n",
    "    for column in columns_to_convert:\n",
    "        data_input[column] = pd.to_numeric(data_input[column], errors='coerce')\n",
    "    return data_input"
   ]
  },
  {
   "cell_type": "code",
   "execution_count": 26,
   "metadata": {},
   "outputs": [
    {
     "ename": "AttributeError",
     "evalue": "'str' object has no attribute 'shape'",
     "output_type": "error",
     "traceback": [
      "\u001b[0;31m---------------------------------------------------------------------------\u001b[0m",
      "\u001b[0;31mAttributeError\u001b[0m                            Traceback (most recent call last)",
      "Cell \u001b[0;32mIn[26], line 42\u001b[0m\n\u001b[1;32m     40\u001b[0m result_df \u001b[38;5;241m=\u001b[39m columns_to_numeric(result_df, [\u001b[38;5;124m\"\u001b[39m\u001b[38;5;124msstart\u001b[39m\u001b[38;5;124m\"\u001b[39m, \u001b[38;5;124m\"\u001b[39m\u001b[38;5;124msend\u001b[39m\u001b[38;5;124m\"\u001b[39m])  \u001b[38;5;66;03m# defined function\u001b[39;00m\n\u001b[1;32m     41\u001b[0m \u001b[38;5;28;01mif\u001b[39;00m index \u001b[38;5;241m==\u001b[39m \u001b[38;5;241m0\u001b[39m:  \u001b[38;5;66;03m# for the plus loop\u001b[39;00m\n\u001b[0;32m---> 42\u001b[0m     comparison_dict[group1] \u001b[38;5;241m=\u001b[39m [[\u001b[38;5;124m\"\u001b[39m\u001b[38;5;124mplus\u001b[39m\u001b[38;5;124m\"\u001b[39m, result_df\u001b[38;5;241m.\u001b[39mshape[\u001b[38;5;241m0\u001b[39m], \u001b[43mgroup1\u001b[49m\u001b[38;5;241;43m.\u001b[39;49m\u001b[43mshape\u001b[49m[\u001b[38;5;241m0\u001b[39m]]]\n\u001b[1;32m     43\u001b[0m \u001b[38;5;28;01melse\u001b[39;00m:  \u001b[38;5;66;03m# for the minus loop\u001b[39;00m\n\u001b[1;32m     44\u001b[0m     comparison_dict[group1]\u001b[38;5;241m.\u001b[39mappend([\u001b[38;5;124m\"\u001b[39m\u001b[38;5;124mminus\u001b[39m\u001b[38;5;124m\"\u001b[39m, result_df\u001b[38;5;241m.\u001b[39mshape[\u001b[38;5;241m0\u001b[39m], group1\u001b[38;5;241m.\u001b[39mshape[\u001b[38;5;241m0\u001b[39m]])\n",
      "\u001b[0;31mAttributeError\u001b[0m: 'str' object has no attribute 'shape'"
     ]
    }
   ],
   "source": [
    "for (name1, group1), (name2, group2) in zip(TP_data_grouped, Software_data_grouped):\n",
    "    # group1 should be the TP data\n",
    "    # ------------------------------------------------------------------------------\n",
    "    path_chr = os.path.join(bedops_path, name1)\n",
    "    os.makedirs(path_chr, exist_ok=True)\n",
    "    # ------------------------------------------------------------------------------\n",
    "    group1_plus, group1_minus = group1[group1[\"sstrand\"] == \"plus\"].copy(), group1[group1[\"sstrand\"] == \"minus\"].copy()\n",
    "    group2_plus, group2_minus = group2[group2[\"sstrand\"] == \"plus\"].copy(), group2[group2[\"sstrand\"] == \"minus\"].copy()\n",
    "    # ------------------------------------------------------------------------------\n",
    "    group1_plus = group1_plus[[\"sseqid\", \"sstart\", \"send\"]]\n",
    "    group1_minus = group1_minus[[\"sseqid\", \"sstart\", \"send\"]]\n",
    "    group2_plus = group2_plus[[\"sseqid\", \"sstart\", \"send\"]]\n",
    "    group2_minus = group2_minus[[\"sseqid\", \"sstart\", \"send\"]]\n",
    "    # ------------------------------------------------------------------------------\n",
    "    group1_minus[[\"sstart\", \"send\"]] = group1_minus[[\"send\", \"sstart\"]]  # because minus strand coordinates are reversed\n",
    "    group2_minus[[\"sstart\", \"send\"]] = group2_minus[[\"send\", \"sstart\"]]  # because minus strand coordinates are reversed\n",
    "    # ------------------------------------------------------------------------------\n",
    "    path_group1_plus = os.path.join(path_chr, \"group1_plus.bed\")\n",
    "    path_group1_minus = os.path.join(path_chr, \"group1_minus.bed\")\n",
    "    path_group2_plus = os.path.join(path_chr, \"group2_plus.bed\")\n",
    "    path_group2_minus = os.path.join(path_chr, \"group2_minus.bed\")\n",
    "    # ------------------------------------------------------------------------------\n",
    "    group1_plus.to_csv(path_group1_plus, sep=\"\\t\", header=False, index=False)  # tabular sep because of bed format\n",
    "    group1_minus.to_csv(path_group1_minus, sep=\"\\t\", header=False, index=False)  # tabular sep because of bed format\n",
    "    group2_plus.to_csv(path_group2_plus, sep=\"\\t\", header=False, index=False)  # tabular sep because of bed format\n",
    "    group2_minus.to_csv(path_group2_minus, sep=\"\\t\", header=False, index=False)  # tabular sep because of bed format\n",
    "    # ------------------------------------------------------------------------------\n",
    "    path_group1_list = [path_group1_plus, path_group1_minus]\n",
    "    path_group2_list = [path_group2_plus, path_group2_minus]\n",
    "    TP_df_list = [group1_plus, group1_minus]\n",
    "    # ------------------------------------------------------------------------------\n",
    "    comparison_dict = {}\n",
    "    for index, (path1, path2, TP_group) in enumerate(zip(path_group1_list, path_group2_list, TP_df_list)):  # There are the paths to the files\n",
    "        condiction = 1\n",
    "        # print(f\"group1:  {group1}\\n\"\n",
    "        #       f\"group2:  {group2}\")\n",
    "        cmd = f\"bedops --element-of {condiction} {path1} {path2}\"\n",
    "        result = subprocess.check_output(cmd, shell=True, universal_newlines=True)\n",
    "        result_df = pd.DataFrame([x.split(\"\\t\") for x in result.split(\"\\n\") if x], \n",
    "                                 columns=[\"sseqid\", \"sstart\", \"send\"])\n",
    "        result_df = columns_to_numeric(result_df, [\"sstart\", \"send\"])  # defined function\n",
    "        if index == 0:  # for the plus loop\n",
    "            comparison_dict[name1] = [[\"plus\", result_df.shape[0]], TP_group.shape[0]]\n",
    "        else:  # for the minus loop\n",
    "            comparison_dict[name1].append([\"minus\", result_df.shape[0], TP_group.shape[0]])"
   ]
  }
 ],
 "metadata": {
  "kernelspec": {
   "display_name": "Python 3",
   "language": "python",
   "name": "python3"
  },
  "language_info": {
   "codemirror_mode": {
    "name": "ipython",
    "version": 3
   },
   "file_extension": ".py",
   "mimetype": "text/x-python",
   "name": "python",
   "nbconvert_exporter": "python",
   "pygments_lexer": "ipython3",
   "version": "3.12.3"
  }
 },
 "nbformat": 4,
 "nbformat_minor": 2
}
