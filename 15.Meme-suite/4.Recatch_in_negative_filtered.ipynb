{
 "cells": [
  {
   "cell_type": "markdown",
   "metadata": {},
   "source": [
    "# Save/Retrieve workspace"
   ]
  },
  {
   "cell_type": "code",
   "execution_count": 1,
   "metadata": {},
   "outputs": [],
   "source": [
    "path_workspace_db = \"./save_workspace/4.Recatch_in_negative_filtered.pkl\""
   ]
  },
  {
   "cell_type": "markdown",
   "metadata": {},
   "source": [
    "## Save"
   ]
  },
  {
   "cell_type": "code",
   "execution_count": null,
   "metadata": {},
   "outputs": [],
   "source": [
    "#  # To save the workspace\n",
    "# import pickle\n",
    "\n",
    "# # Example dictionary of variables to save\n",
    "# variables_to_save = {\n",
    "#     'var1': both_seqs,  # The list of SeqRecord objects\n",
    "#     'var2': matches,  # The pandas DataFrame\n",
    "#     'var3': neg_data,  # The pandas DataFrame\n",
    "# }\n",
    "\n",
    "# # Save the dictionary to a file\n",
    "# with open(path_workspace_db, 'wb') as f:\n",
    "#     pickle.dump(variables_to_save, f)"
   ]
  },
  {
   "cell_type": "markdown",
   "metadata": {},
   "source": [
    "## Retrieve"
   ]
  },
  {
   "cell_type": "code",
   "execution_count": 2,
   "metadata": {},
   "outputs": [],
   "source": [
    "# To retrieve the workspace\n",
    "import pickle\n",
    "\n",
    "# Load the saved variables\n",
    "with open(path_workspace_db, 'rb') as f:\n",
    "    loaded_variables = pickle.load(f)\n",
    "\n",
    "# Retrieve your variables\n",
    "both_seqs = loaded_variables['var1']\n",
    "matches = loaded_variables['var2']\n",
    "neg_data = loaded_variables['var3']"
   ]
  },
  {
   "cell_type": "markdown",
   "metadata": {},
   "source": [
    "# Code"
   ]
  },
  {
   "cell_type": "code",
   "execution_count": 20,
   "metadata": {},
   "outputs": [],
   "source": [
    "# needed modules\n",
    "import subprocess\n",
    "import os\n",
    "import pandas as pd\n",
    "from Bio import SeqIO\n",
    "from Bio.Seq import Seq\n",
    "from Bio.SeqRecord import SeqRecord"
   ]
  },
  {
   "cell_type": "code",
   "execution_count": 21,
   "metadata": {},
   "outputs": [
    {
     "name": "stdout",
     "output_type": "stream",
     "text": [
      "(714, 5)\n",
      "sseqid     object\n",
      "sstart      int64\n",
      "send        int64\n",
      "sstrand    object\n",
      "sseq       object\n",
      "dtype: object\n"
     ]
    },
    {
     "data": {
      "text/html": [
       "<div>\n",
       "<style scoped>\n",
       "    .dataframe tbody tr th:only-of-type {\n",
       "        vertical-align: middle;\n",
       "    }\n",
       "\n",
       "    .dataframe tbody tr th {\n",
       "        vertical-align: top;\n",
       "    }\n",
       "\n",
       "    .dataframe thead th {\n",
       "        text-align: right;\n",
       "    }\n",
       "</style>\n",
       "<table border=\"1\" class=\"dataframe\">\n",
       "  <thead>\n",
       "    <tr style=\"text-align: right;\">\n",
       "      <th></th>\n",
       "      <th>sseqid</th>\n",
       "      <th>sstart</th>\n",
       "      <th>send</th>\n",
       "      <th>sstrand</th>\n",
       "      <th>sseq</th>\n",
       "    </tr>\n",
       "  </thead>\n",
       "  <tbody>\n",
       "    <tr>\n",
       "      <th>0</th>\n",
       "      <td>LinJ.01</td>\n",
       "      <td>113760</td>\n",
       "      <td>114388</td>\n",
       "      <td>plus</td>\n",
       "      <td>CAGCGCCATGCACGACATGGCCGCTGACGTCCGTAGCCCTAACTCG...</td>\n",
       "    </tr>\n",
       "    <tr>\n",
       "      <th>1</th>\n",
       "      <td>LinJ.01</td>\n",
       "      <td>261866</td>\n",
       "      <td>262439</td>\n",
       "      <td>plus</td>\n",
       "      <td>CGGACTTGGCAAGTGGCCGCCATCGATGAAAACGCACCATGCCTTT...</td>\n",
       "    </tr>\n",
       "    <tr>\n",
       "      <th>2</th>\n",
       "      <td>LinJ.01</td>\n",
       "      <td>272496</td>\n",
       "      <td>275901</td>\n",
       "      <td>plus</td>\n",
       "      <td>GTCAGAACAACGAAGCCGCCCCCCATCACTGCCTCCCTCTACGTAC...</td>\n",
       "    </tr>\n",
       "    <tr>\n",
       "      <th>3</th>\n",
       "      <td>LinJ.02</td>\n",
       "      <td>95421</td>\n",
       "      <td>95743</td>\n",
       "      <td>plus</td>\n",
       "      <td>TCCGCGATCCGTGCAGTTGGCGCCGGCCCCTCCTTCACTGCCGATG...</td>\n",
       "    </tr>\n",
       "    <tr>\n",
       "      <th>4</th>\n",
       "      <td>LinJ.02</td>\n",
       "      <td>97368</td>\n",
       "      <td>97489</td>\n",
       "      <td>plus</td>\n",
       "      <td>TCGAGCTCAGCTCTGGGGCACGGTTTGGCGGGCGTGGAAGTGGGCC...</td>\n",
       "    </tr>\n",
       "  </tbody>\n",
       "</table>\n",
       "</div>"
      ],
      "text/plain": [
       "    sseqid  sstart    send sstrand  \\\n",
       "0  LinJ.01  113760  114388    plus   \n",
       "1  LinJ.01  261866  262439    plus   \n",
       "2  LinJ.01  272496  275901    plus   \n",
       "3  LinJ.02   95421   95743    plus   \n",
       "4  LinJ.02   97368   97489    plus   \n",
       "\n",
       "                                                sseq  \n",
       "0  CAGCGCCATGCACGACATGGCCGCTGACGTCCGTAGCCCTAACTCG...  \n",
       "1  CGGACTTGGCAAGTGGCCGCCATCGATGAAAACGCACCATGCCTTT...  \n",
       "2  GTCAGAACAACGAAGCCGCCCCCCATCACTGCCTCCCTCTACGTAC...  \n",
       "3  TCCGCGATCCGTGCAGTTGGCGCCGGCCCCTCCTTCACTGCCGATG...  \n",
       "4  TCGAGCTCAGCTCTGGGGCACGGTTTGGCGGGCGTGGAAGTGGGCC...  "
      ]
     },
     "execution_count": 21,
     "metadata": {},
     "output_type": "execute_result"
    }
   ],
   "source": [
    "# Read the negative dat from LmSIDER2A|B and Consensus\n",
    "neg_data = pd.read_csv(\"./compare/consensus+LmSIDERs_vs_TP/negatives_testing_elements.csv\", sep=\",\", header=0)\n",
    "print(neg_data.shape)\n",
    "print(neg_data.dtypes)\n",
    "neg_data.head()"
   ]
  },
  {
   "cell_type": "code",
   "execution_count": 33,
   "metadata": {},
   "outputs": [],
   "source": [
    "# # Now let's get the LmSIDER2A|B fasta\n",
    "path_LmSIDER2A = \"../0.Data/others/LmSIDER2a.fasta\"\n",
    "path_LmSIDER2B = \"../0.Data/others/LmSIDER2b.fasta\"\n",
    "path_consensus = \"./meme_motifs.fasta\"\n",
    "path_LmSIDER2A_and_B = \"./data/LmSIDER2A+B+Consensus.fasta\"  # output file"
   ]
  },
  {
   "cell_type": "code",
   "execution_count": 34,
   "metadata": {},
   "outputs": [
    {
     "data": {
      "text/plain": [
       "5"
      ]
     },
     "execution_count": 34,
     "metadata": {},
     "output_type": "execute_result"
    }
   ],
   "source": [
    "# Read both fastas and combine them into one file\n",
    "seq1 = SeqIO.parse(path_LmSIDER2A, \"fasta\")\n",
    "seq2 = SeqIO.parse(path_LmSIDER2B, \"fasta\")\n",
    "seq3 = SeqIO.parse(path_consensus, \"fasta\")\n",
    "both_seqs = list(seq1) + list(seq2) + list(seq3)\n",
    "SeqIO.write(both_seqs, path_LmSIDER2A_and_B, \"fasta\")"
   ]
  },
  {
   "cell_type": "code",
   "execution_count": 35,
   "metadata": {},
   "outputs": [],
   "source": [
    "# Get a fasta file form the negative data\n",
    "# Define fasta_creator file\n",
    "def fasta_creator(data, description_text, fasta_output_path):\n",
    "    matrix = []\n",
    "    for index, row in data.iterrows():\n",
    "        # index += 1 # To start the index in 1\n",
    "        rec = SeqRecord(Seq(row[\"sseq\"]),  # In the 5 position is the seq\n",
    "                        id=f\"Seq_{index}_{row[\"sseqid\"]}\",\n",
    "                        description=description_text\n",
    "                        )\n",
    "        matrix.append(rec)\n",
    "    SeqIO.write(matrix, fasta_output_path, \"fasta\")"
   ]
  },
  {
   "cell_type": "code",
   "execution_count": 36,
   "metadata": {},
   "outputs": [],
   "source": [
    "fasta_creator(data=neg_data,\n",
    "              description_text=\"Linf NegData from LmSIDER2A|B and Consensus\",\n",
    "              fasta_output_path=\"./data/consensus+LmSIDER2A+B/negatives_testing_elements.fasta\"\n",
    "              )"
   ]
  },
  {
   "cell_type": "code",
   "execution_count": 37,
   "metadata": {},
   "outputs": [],
   "source": [
    "# Prepare blastn function\n",
    "# Remove e-value\n",
    "def blastn_dic(path_input, path_output):\n",
    "    # \"parse_seqids\" is used to keep the sequence ID in the output.\n",
    "    cmd = f\"makeblastdb -in {path_input} -dbtype nucl -parse_seqids -out {path_output}\"\n",
    "    subprocess.run(cmd, shell=True, stdout=subprocess.DEVNULL, stderr=subprocess.DEVNULL)\n",
    "    \n",
    "def blastn_blaster(query_path, dict_path, perc_identity):\n",
    "    cmd = \"blastn -word_size 11 -query \" \\\n",
    "        + query_path + \" -db \" \\\n",
    "        + dict_path \\\n",
    "        + \" -perc_identity \" + str(perc_identity) \\\n",
    "        + \" -outfmt '10 qseqid sseqid pident length qstart qend sstart send evalue bitscore qlen slen'\"\n",
    "    data = subprocess.check_output(cmd, shell=True, universal_newlines=True)  # Important the E value\n",
    "    data = pd.DataFrame([x.split(\",\") for x in data.split(\"\\n\") if x])\n",
    "    data.columns = [\"qseqid\", \"sseqid\", \"pident\", \"length\", \"qstart\", \"qend\", \"sstart\", \"send\", \"evalue\", \"bitscore\", \"qlen\", \"slen\"]\n",
    "    data[['pident', 'length', 'qstart', 'qend', 'sstart', 'send', 'evalue', 'bitscore', 'qlen', 'slen']] = data[['pident', 'length', 'qstart', 'qend', 'sstart', 'send', 'evalue', 'bitscore', 'qlen', 'slen']].apply(pd.to_numeric)\n",
    "    return data"
   ]
  },
  {
   "cell_type": "code",
   "execution_count": 38,
   "metadata": {},
   "outputs": [],
   "source": [
    "# Create a dictio with the negative data\n",
    "path_neg_data = \"./data/consensus+LmSIDER2A+B/neg_data_dict/negatives_testing_elements.fasta\"\n",
    "blastn_dic(path_input=path_neg_data, \n",
    "           path_output=path_neg_data\n",
    "           )"
   ]
  },
  {
   "cell_type": "code",
   "execution_count": 40,
   "metadata": {},
   "outputs": [
    {
     "name": "stdout",
     "output_type": "stream",
     "text": [
      "(101, 12)\n",
      "qseqid       object\n",
      "sseqid       object\n",
      "pident      float64\n",
      "length        int64\n",
      "qstart        int64\n",
      "qend          int64\n",
      "sstart        int64\n",
      "send          int64\n",
      "evalue      float64\n",
      "bitscore    float64\n",
      "qlen          int64\n",
      "slen          int64\n",
      "dtype: object\n"
     ]
    },
    {
     "data": {
      "text/html": [
       "<div>\n",
       "<style scoped>\n",
       "    .dataframe tbody tr th:only-of-type {\n",
       "        vertical-align: middle;\n",
       "    }\n",
       "\n",
       "    .dataframe tbody tr th {\n",
       "        vertical-align: top;\n",
       "    }\n",
       "\n",
       "    .dataframe thead th {\n",
       "        text-align: right;\n",
       "    }\n",
       "</style>\n",
       "<table border=\"1\" class=\"dataframe\">\n",
       "  <thead>\n",
       "    <tr style=\"text-align: right;\">\n",
       "      <th></th>\n",
       "      <th>qseqid</th>\n",
       "      <th>sseqid</th>\n",
       "      <th>pident</th>\n",
       "      <th>length</th>\n",
       "      <th>qstart</th>\n",
       "      <th>qend</th>\n",
       "      <th>sstart</th>\n",
       "      <th>send</th>\n",
       "      <th>evalue</th>\n",
       "      <th>bitscore</th>\n",
       "      <th>qlen</th>\n",
       "      <th>slen</th>\n",
       "    </tr>\n",
       "  </thead>\n",
       "  <tbody>\n",
       "    <tr>\n",
       "      <th>0</th>\n",
       "      <td>LmSIDER2a</td>\n",
       "      <td>Seq_646_LinJ.35</td>\n",
       "      <td>90.476</td>\n",
       "      <td>42</td>\n",
       "      <td>3</td>\n",
       "      <td>42</td>\n",
       "      <td>266</td>\n",
       "      <td>225</td>\n",
       "      <td>1.080000e-09</td>\n",
       "      <td>54.7</td>\n",
       "      <td>79</td>\n",
       "      <td>677</td>\n",
       "    </tr>\n",
       "    <tr>\n",
       "      <th>1</th>\n",
       "      <td>LmSIDER2a</td>\n",
       "      <td>Seq_681_LinJ.36</td>\n",
       "      <td>80.000</td>\n",
       "      <td>65</td>\n",
       "      <td>14</td>\n",
       "      <td>78</td>\n",
       "      <td>200</td>\n",
       "      <td>139</td>\n",
       "      <td>6.470000e-07</td>\n",
       "      <td>45.4</td>\n",
       "      <td>79</td>\n",
       "      <td>610</td>\n",
       "    </tr>\n",
       "    <tr>\n",
       "      <th>2</th>\n",
       "      <td>LmSIDER2a</td>\n",
       "      <td>Seq_294_LinJ.25</td>\n",
       "      <td>78.571</td>\n",
       "      <td>70</td>\n",
       "      <td>1</td>\n",
       "      <td>68</td>\n",
       "      <td>1</td>\n",
       "      <td>70</td>\n",
       "      <td>6.470000e-07</td>\n",
       "      <td>45.4</td>\n",
       "      <td>79</td>\n",
       "      <td>139</td>\n",
       "    </tr>\n",
       "    <tr>\n",
       "      <th>3</th>\n",
       "      <td>LmSIDER2a</td>\n",
       "      <td>Seq_400_LinJ.31</td>\n",
       "      <td>79.310</td>\n",
       "      <td>58</td>\n",
       "      <td>6</td>\n",
       "      <td>63</td>\n",
       "      <td>345</td>\n",
       "      <td>292</td>\n",
       "      <td>1.080000e-04</td>\n",
       "      <td>38.1</td>\n",
       "      <td>79</td>\n",
       "      <td>669</td>\n",
       "    </tr>\n",
       "    <tr>\n",
       "      <th>4</th>\n",
       "      <td>LmSIDER2a</td>\n",
       "      <td>Seq_340_LinJ.28</td>\n",
       "      <td>78.689</td>\n",
       "      <td>61</td>\n",
       "      <td>14</td>\n",
       "      <td>74</td>\n",
       "      <td>15</td>\n",
       "      <td>72</td>\n",
       "      <td>1.080000e-04</td>\n",
       "      <td>38.1</td>\n",
       "      <td>79</td>\n",
       "      <td>686</td>\n",
       "    </tr>\n",
       "  </tbody>\n",
       "</table>\n",
       "</div>"
      ],
      "text/plain": [
       "      qseqid           sseqid  pident  length  qstart  qend  sstart  send  \\\n",
       "0  LmSIDER2a  Seq_646_LinJ.35  90.476      42       3    42     266   225   \n",
       "1  LmSIDER2a  Seq_681_LinJ.36  80.000      65      14    78     200   139   \n",
       "2  LmSIDER2a  Seq_294_LinJ.25  78.571      70       1    68       1    70   \n",
       "3  LmSIDER2a  Seq_400_LinJ.31  79.310      58       6    63     345   292   \n",
       "4  LmSIDER2a  Seq_340_LinJ.28  78.689      61      14    74      15    72   \n",
       "\n",
       "         evalue  bitscore  qlen  slen  \n",
       "0  1.080000e-09      54.7    79   677  \n",
       "1  6.470000e-07      45.4    79   610  \n",
       "2  6.470000e-07      45.4    79   139  \n",
       "3  1.080000e-04      38.1    79   669  \n",
       "4  1.080000e-04      38.1    79   686  "
      ]
     },
     "execution_count": 40,
     "metadata": {},
     "output_type": "execute_result"
    }
   ],
   "source": [
    "matches = blastn_blaster(query_path=\"./data/LmSIDER2A+B+Consensus.fasta\",\n",
    "                         dict_path=path_neg_data,\n",
    "                         perc_identity=60\n",
    "                         )\n",
    "print(matches.shape)\n",
    "print(matches.dtypes)\n",
    "matches.head()"
   ]
  },
  {
   "cell_type": "code",
   "execution_count": 47,
   "metadata": {},
   "outputs": [],
   "source": [
    "matches.to_csv(\"./data/consensus+LmSIDER2A+B/negatives_testing_elements_matches_with_LmSIDER2A+B+consensus.csv\", sep=\",\", index=False, header=True)"
   ]
  },
  {
   "cell_type": "code",
   "execution_count": 46,
   "metadata": {},
   "outputs": [
    {
     "data": {
      "text/plain": [
       "69"
      ]
     },
     "execution_count": 46,
     "metadata": {},
     "output_type": "execute_result"
    }
   ],
   "source": [
    "matches[\"sseqid\"].nunique()"
   ]
  }
 ],
 "metadata": {
  "kernelspec": {
   "display_name": "Python 3",
   "language": "python",
   "name": "python3"
  },
  "language_info": {
   "codemirror_mode": {
    "name": "ipython",
    "version": 3
   },
   "file_extension": ".py",
   "mimetype": "text/x-python",
   "name": "python",
   "nbconvert_exporter": "python",
   "pygments_lexer": "ipython3",
   "version": "3.12.3"
  }
 },
 "nbformat": 4,
 "nbformat_minor": 2
}
