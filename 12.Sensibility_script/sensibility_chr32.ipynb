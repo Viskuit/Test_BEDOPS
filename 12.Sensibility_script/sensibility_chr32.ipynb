{
 "cells": [
  {
   "cell_type": "markdown",
   "metadata": {},
   "source": [
    "Import needed modules"
   ]
  },
  {
   "cell_type": "code",
   "execution_count": 12,
   "metadata": {},
   "outputs": [],
   "source": [
    "import pandas as pd\n",
    "import os\n",
    "import subprocess"
   ]
  },
  {
   "cell_type": "markdown",
   "metadata": {},
   "source": [
    "Import data"
   ]
  },
  {
   "cell_type": "code",
   "execution_count": 13,
   "metadata": {},
   "outputs": [
    {
     "name": "stdout",
     "output_type": "stream",
     "text": [
      "'True Positives' row length: 1606\n",
      " Software row length: 5972\n"
     ]
    }
   ],
   "source": [
    "# read the data\n",
    "TP_data = pd.read_csv(\"./data/TP_SIDERs_coor.csv\", sep=\",\", header=0)\n",
    "Software_data = pd.read_csv(\"./data/Results_Program_29-05-24_32ChrSIDERs.csv\", sep=\",\", header=0)\n",
    "print(f\"'True Positives' row length: {TP_data.shape[0]}\\n\",\n",
    "      f\"Software row length: {Software_data.shape[0]}\")"
   ]
  },
  {
   "cell_type": "code",
   "execution_count": 14,
   "metadata": {},
   "outputs": [],
   "source": [
    "# Declare bedops folders paths:\n",
    "bedops_path_1 = \"./bedops_data_chr32\"\n",
    "bedops_path_2 = \"./bedops_data_chr32_2\"\n"
   ]
  },
  {
   "cell_type": "markdown",
   "metadata": {},
   "source": [
    "Check how many elements for each chromosome in the \"True Positive\" data"
   ]
  },
  {
   "cell_type": "code",
   "execution_count": 15,
   "metadata": {},
   "outputs": [
    {
     "data": {
      "text/plain": [
       "sseqid\n",
       "LinJ.01      7\n",
       "LinJ.02     18\n",
       "LinJ.03      8\n",
       "LinJ.04     18\n",
       "LinJ.05     18\n",
       "LinJ.06     22\n",
       "LinJ.07     27\n",
       "LinJ.08     18\n",
       "LinJ.09     21\n",
       "LinJ.10     26\n",
       "LinJ.11     39\n",
       "LinJ.12     36\n",
       "LinJ.13     22\n",
       "LinJ.14     66\n",
       "LinJ.15     25\n",
       "LinJ.16     34\n",
       "LinJ.17     34\n",
       "LinJ.18     30\n",
       "LinJ.19     40\n",
       "LinJ.20     37\n",
       "LinJ.21     39\n",
       "LinJ.22     27\n",
       "LinJ.23     60\n",
       "LinJ.24     57\n",
       "LinJ.25     42\n",
       "LinJ.26     45\n",
       "LinJ.27     63\n",
       "LinJ.28     46\n",
       "LinJ.29     74\n",
       "LinJ.30     71\n",
       "LinJ.31     80\n",
       "LinJ.32     69\n",
       "LinJ.33     85\n",
       "LinJ.34     96\n",
       "LinJ.35    110\n",
       "LinJ.36     96\n",
       "Name: count, dtype: int64"
      ]
     },
     "execution_count": 15,
     "metadata": {},
     "output_type": "execute_result"
    }
   ],
   "source": [
    "TP_data[\"sseqid\"].value_counts(sort=False)"
   ]
  },
  {
   "cell_type": "markdown",
   "metadata": {},
   "source": [
    "Check how many elements for each chromosome in the software data"
   ]
  },
  {
   "cell_type": "code",
   "execution_count": 16,
   "metadata": {},
   "outputs": [
    {
     "data": {
      "text/plain": [
       "sseqid\n",
       "LinJ.01     50\n",
       "LinJ.02     61\n",
       "LinJ.03     43\n",
       "LinJ.04     67\n",
       "LinJ.05     78\n",
       "LinJ.06     72\n",
       "LinJ.07     91\n",
       "LinJ.08    163\n",
       "LinJ.09     89\n",
       "LinJ.10    117\n",
       "LinJ.11    107\n",
       "LinJ.12    151\n",
       "LinJ.13     95\n",
       "LinJ.14    118\n",
       "LinJ.15     83\n",
       "LinJ.16    119\n",
       "LinJ.17    121\n",
       "LinJ.18    135\n",
       "LinJ.19    164\n",
       "LinJ.20    122\n",
       "LinJ.21    121\n",
       "LinJ.22    147\n",
       "LinJ.23    174\n",
       "LinJ.24    146\n",
       "LinJ.25    123\n",
       "LinJ.26    150\n",
       "LinJ.27    212\n",
       "LinJ.28    163\n",
       "LinJ.29    326\n",
       "LinJ.30    234\n",
       "LinJ.31    332\n",
       "LinJ.32    236\n",
       "LinJ.33    270\n",
       "LinJ.34    517\n",
       "LinJ.35    367\n",
       "LinJ.36    408\n",
       "Name: count, dtype: int64"
      ]
     },
     "execution_count": 16,
     "metadata": {},
     "output_type": "execute_result"
    }
   ],
   "source": [
    "Software_data[\"sseqid\"].value_counts(sort=False)"
   ]
  },
  {
   "cell_type": "markdown",
   "metadata": {},
   "source": [
    "Difference in numbers in the software data compared to the \"True Positives\""
   ]
  },
  {
   "cell_type": "code",
   "execution_count": 17,
   "metadata": {},
   "outputs": [
    {
     "data": {
      "text/plain": [
       "sseqid\n",
       "LinJ.01     43\n",
       "LinJ.02     43\n",
       "LinJ.03     35\n",
       "LinJ.04     49\n",
       "LinJ.05     60\n",
       "LinJ.06     50\n",
       "LinJ.07     64\n",
       "LinJ.08    145\n",
       "LinJ.09     68\n",
       "LinJ.10     91\n",
       "LinJ.11     68\n",
       "LinJ.12    115\n",
       "LinJ.13     73\n",
       "LinJ.14     52\n",
       "LinJ.15     58\n",
       "LinJ.16     85\n",
       "LinJ.17     87\n",
       "LinJ.18    105\n",
       "LinJ.19    124\n",
       "LinJ.20     85\n",
       "LinJ.21     82\n",
       "LinJ.22    120\n",
       "LinJ.23    114\n",
       "LinJ.24     89\n",
       "LinJ.25     81\n",
       "LinJ.26    105\n",
       "LinJ.27    149\n",
       "LinJ.28    117\n",
       "LinJ.29    252\n",
       "LinJ.30    163\n",
       "LinJ.31    252\n",
       "LinJ.32    167\n",
       "LinJ.33    185\n",
       "LinJ.34    421\n",
       "LinJ.35    257\n",
       "LinJ.36    312\n",
       "Name: count, dtype: int64"
      ]
     },
     "execution_count": 17,
     "metadata": {},
     "output_type": "execute_result"
    }
   ],
   "source": [
    "Software_data[\"sseqid\"].value_counts(sort=False) - TP_data[\"sseqid\"].value_counts(sort=False)"
   ]
  },
  {
   "cell_type": "markdown",
   "metadata": {},
   "source": [
    "Let's group data by chromosomes"
   ]
  },
  {
   "cell_type": "code",
   "execution_count": 18,
   "metadata": {},
   "outputs": [],
   "source": [
    "TP_data_grouped = TP_data.groupby(\"sseqid\")\n",
    "Software_data_grouped = Software_data.groupby(\"sseqid\")"
   ]
  },
  {
   "cell_type": "markdown",
   "metadata": {},
   "source": [
    "Let's make the main code"
   ]
  },
  {
   "cell_type": "code",
   "execution_count": 19,
   "metadata": {},
   "outputs": [
    {
     "data": {
      "text/plain": [
       "'/home/viskuit/Documents/Work_CBMSO/Leish_Data_Analysis/12.Sensibility_script'"
      ]
     },
     "execution_count": 19,
     "metadata": {},
     "output_type": "execute_result"
    }
   ],
   "source": [
    "# Check actual path\n",
    "os.getcwd()"
   ]
  },
  {
   "cell_type": "code",
   "execution_count": 20,
   "metadata": {},
   "outputs": [],
   "source": [
    "def columns_to_numeric(data_input, columns_to_convert = []):\n",
    "    for column in columns_to_convert:\n",
    "        data_input[column] = pd.to_numeric(data_input[column], errors='coerce')\n",
    "    return data_input"
   ]
  },
  {
   "cell_type": "markdown",
   "metadata": {},
   "source": [
    "First option with different strands:"
   ]
  },
  {
   "cell_type": "code",
   "execution_count": 21,
   "metadata": {},
   "outputs": [
    {
     "data": {
      "text/plain": [
       "{'LinJ.01': [['plus', '2/3', '66.67:'], ['minus', '2/4', '50.00']],\n",
       " 'LinJ.02': [['plus', '4/9', '44.44:'], ['minus', '3/9', '33.33']],\n",
       " 'LinJ.03': [['plus', '5/6', '83.33:'], ['minus', '1/2', '50.00']],\n",
       " 'LinJ.04': [['plus', '4/7', '57.14:'], ['minus', '9/11', '81.82']],\n",
       " 'LinJ.05': [['plus', '6/13', '46.15:'], ['minus', '4/5', '80.00']],\n",
       " 'LinJ.06': [['plus', '1/16', '6.25:'], ['minus', '3/6', '50.00']],\n",
       " 'LinJ.07': [['plus', '9/19', '47.37:'], ['minus', '2/8', '25.00']],\n",
       " 'LinJ.08': [['plus', '4/14', '28.57:'], ['minus', '4/4', '100.00']],\n",
       " 'LinJ.09': [['plus', '3/11', '27.27:'], ['minus', '3/10', '30.00']],\n",
       " 'LinJ.10': [['plus', '13/21', '61.90:'], ['minus', '4/5', '80.00']],\n",
       " 'LinJ.11': [['plus', '7/33', '21.21:'], ['minus', '6/6', '100.00']],\n",
       " 'LinJ.12': [['plus', '4/28', '14.29:'], ['minus', '1/8', '12.50']],\n",
       " 'LinJ.13': [['plus', '3/3', '100.00:'], ['minus', '1/19', '5.26']],\n",
       " 'LinJ.14': [['plus', '1/23', '4.35:'], ['minus', '1/43', '2.33']],\n",
       " 'LinJ.15': [['plus', '6/12', '50.00:'], ['minus', '7/13', '53.85']],\n",
       " 'LinJ.16': [['plus', '4/5', '80.00:'], ['minus', '5/29', '17.24']],\n",
       " 'LinJ.17': [['plus', '9/16', '56.25:'], ['minus', '11/18', '61.11']],\n",
       " 'LinJ.18': [['plus', '12/16', '75.00:'], ['minus', '2/14', '14.29']],\n",
       " 'LinJ.19': [['plus', '23/34', '67.65:'], ['minus', '6/6', '100.00']],\n",
       " 'LinJ.20': [['plus', '13/21', '61.90:'], ['minus', '9/16', '56.25']],\n",
       " 'LinJ.21': [['plus', '17/17', '100.00:'], ['minus', '11/22', '50.00']],\n",
       " 'LinJ.22': [['plus', '3/9', '33.33:'], ['minus', '17/18', '94.44']],\n",
       " 'LinJ.23': [['plus', '3/25', '12.00:'], ['minus', '23/35', '65.71']],\n",
       " 'LinJ.24': [['plus', '5/42', '11.90:'], ['minus', '6/15', '40.00']],\n",
       " 'LinJ.25': [['plus', '8/13', '61.54:'], ['minus', '12/29', '41.38']],\n",
       " 'LinJ.26': [['plus', '6/28', '21.43:'], ['minus', '11/17', '64.71']],\n",
       " 'LinJ.27': [['plus', '10/24', '41.67:'], ['minus', '24/39', '61.54']],\n",
       " 'LinJ.28': [['plus', '14/28', '50.00:'], ['minus', '8/18', '44.44']],\n",
       " 'LinJ.29': [['plus', '11/24', '45.83:'], ['minus', '4/50', '8.00']],\n",
       " 'LinJ.30': [['plus', '6/38', '15.79:'], ['minus', '2/33', '6.06']],\n",
       " 'LinJ.31': [['plus', '3/15', '20.00:'], ['minus', '4/65', '6.15']],\n",
       " 'LinJ.32': [['plus', '8/28', '28.57:'], ['minus', '4/41', '9.76']],\n",
       " 'LinJ.33': [['plus', '7/49', '14.29:'], ['minus', '9/36', '25.00']],\n",
       " 'LinJ.34': [['plus', '10/67', '14.93:'], ['minus', '3/29', '10.34']],\n",
       " 'LinJ.35': [['plus', '16/60', '26.67:'], ['minus', '5/50', '10.00']],\n",
       " 'LinJ.36': [['plus', '6/42', '14.29:'], ['minus', '14/54', '25.93']]}"
      ]
     },
     "execution_count": 21,
     "metadata": {},
     "output_type": "execute_result"
    }
   ],
   "source": [
    "# Folder path\n",
    "# bedops_path_1 = \"./bedops_data\"\n",
    "\n",
    "comparison_dict = {}\n",
    "for (name1, group1), (name2, group2) in zip(TP_data_grouped, Software_data_grouped):\n",
    "    # group1 should be the TP data\n",
    "    # ------------------------------------------------------------------------------\n",
    "    path_chr = os.path.join(bedops_path_1, name1)\n",
    "    os.makedirs(path_chr, exist_ok=True)\n",
    "    # ------------------------------------------------------------------------------\n",
    "    group1_plus, group1_minus = group1[group1[\"sstrand\"] == \"plus\"].copy(), group1[group1[\"sstrand\"] == \"minus\"].copy()\n",
    "    group2_plus, group2_minus = group2[group2[\"sstrand\"] == \"plus\"].copy(), group2[group2[\"sstrand\"] == \"minus\"].copy()\n",
    "    # ------------------------------------------------------------------------------\n",
    "    group1_plus = group1_plus[[\"sseqid\", \"sstart\", \"send\"]]\n",
    "    group1_minus = group1_minus[[\"sseqid\", \"sstart\", \"send\"]]\n",
    "    group2_plus = group2_plus[[\"sseqid\", \"sstart\", \"send\"]]\n",
    "    group2_minus = group2_minus[[\"sseqid\", \"sstart\", \"send\"]]\n",
    "    # ------------------------------------------------------------------------------\n",
    "    group1_minus[[\"sstart\", \"send\"]] = group1_minus[[\"send\", \"sstart\"]]  # because minus strand coordinates are reversed\n",
    "    group2_minus[[\"sstart\", \"send\"]] = group2_minus[[\"send\", \"sstart\"]]  # because minus strand coordinates are reversed\n",
    "    # ------------------------------------------------------------------------------\n",
    "    path_group1_plus = os.path.join(path_chr, \"group1_plus.bed\")\n",
    "    path_group1_minus = os.path.join(path_chr, \"group1_minus.bed\")\n",
    "    path_group2_plus = os.path.join(path_chr, \"group2_plus.bed\")\n",
    "    path_group2_minus = os.path.join(path_chr, \"group2_minus.bed\")\n",
    "    # ------------------------------------------------------------------------------\n",
    "    group1_plus.to_csv(path_group1_plus, sep=\"\\t\", header=False, index=False)  # tabular sep because of bed format\n",
    "    group1_minus.to_csv(path_group1_minus, sep=\"\\t\", header=False, index=False)  # tabular sep because of bed format\n",
    "    group2_plus.to_csv(path_group2_plus, sep=\"\\t\", header=False, index=False)  # tabular sep because of bed format\n",
    "    group2_minus.to_csv(path_group2_minus, sep=\"\\t\", header=False, index=False)  # tabular sep because of bed format\n",
    "    # ------------------------------------------------------------------------------\n",
    "    path_group1_list = [path_group1_plus, path_group1_minus]\n",
    "    path_group2_list = [path_group2_plus, path_group2_minus]\n",
    "    TP_df_list = [group1_plus, group1_minus]\n",
    "    # ------------------------------------------------------------------------------\n",
    "    for index, (path1, path2, TP_group) in enumerate(zip(path_group1_list, path_group2_list, TP_df_list)):  # There are the paths to the files\n",
    "        condition = 1\n",
    "        # print(f\"group1:  {group1}\\n\"\n",
    "        #       f\"group2:  {group2}\")\n",
    "        cmd = f\"bedops --element-of {condition} {path1} {path2}\"\n",
    "        result = subprocess.check_output(cmd, shell=True, universal_newlines=True)\n",
    "        result_df = pd.DataFrame([x.split(\"\\t\") for x in result.split(\"\\n\") if x], \n",
    "                                 columns=[\"sseqid\", \"sstart\", \"send\"])\n",
    "        result_df = columns_to_numeric(result_df, [\"sstart\", \"send\"])  # defined function\n",
    "        if index == 0:  # for the plus loop\n",
    "            comparison_dict[name1] = [[\"plus\", f\"{result_df.shape[0]}/{TP_group.shape[0]}\", f\"{result_df.shape[0]/TP_group.shape[0]*100:.2f}:\"]]\n",
    "        else:  # for the minus loop\n",
    "            comparison_dict[name1].append([\"minus\", f\"{result_df.shape[0]}/{TP_group.shape[0]}\", f\"{result_df.shape[0]/TP_group.shape[0]*100:.2f}\"])\n",
    "comparison_dict"
   ]
  },
  {
   "cell_type": "markdown",
   "metadata": {},
   "source": [
    "Second option without differenting strands"
   ]
  },
  {
   "cell_type": "code",
   "execution_count": 22,
   "metadata": {},
   "outputs": [
    {
     "name": "stdout",
     "output_type": "stream",
     "text": [
      "\n",
      "There are 1601 TP sequences of 1606 in chr32 data:\n",
      "    - That's 99.69% of the TP data\n",
      "    - 5 TP sequences are not in chr32 data, which is 0.31%\n",
      "\n"
     ]
    },
    {
     "data": {
      "text/plain": [
       "{'LinJ.01': ['7/7', '100.00'],\n",
       " 'LinJ.02': ['18/18', '100.00'],\n",
       " 'LinJ.03': ['6/8', '75.00'],\n",
       " 'LinJ.04': ['18/18', '100.00'],\n",
       " 'LinJ.05': ['18/18', '100.00'],\n",
       " 'LinJ.06': ['22/22', '100.00'],\n",
       " 'LinJ.07': ['27/27', '100.00'],\n",
       " 'LinJ.08': ['18/18', '100.00'],\n",
       " 'LinJ.09': ['21/21', '100.00'],\n",
       " 'LinJ.10': ['26/26', '100.00'],\n",
       " 'LinJ.11': ['39/39', '100.00'],\n",
       " 'LinJ.12': ['36/36', '100.00'],\n",
       " 'LinJ.13': ['22/22', '100.00'],\n",
       " 'LinJ.14': ['66/66', '100.00'],\n",
       " 'LinJ.15': ['25/25', '100.00'],\n",
       " 'LinJ.16': ['34/34', '100.00'],\n",
       " 'LinJ.17': ['34/34', '100.00'],\n",
       " 'LinJ.18': ['30/30', '100.00'],\n",
       " 'LinJ.19': ['40/40', '100.00'],\n",
       " 'LinJ.20': ['37/37', '100.00'],\n",
       " 'LinJ.21': ['38/39', '97.44'],\n",
       " 'LinJ.22': ['27/27', '100.00'],\n",
       " 'LinJ.23': ['60/60', '100.00'],\n",
       " 'LinJ.24': ['57/57', '100.00'],\n",
       " 'LinJ.25': ['41/42', '97.62'],\n",
       " 'LinJ.26': ['45/45', '100.00'],\n",
       " 'LinJ.27': ['63/63', '100.00'],\n",
       " 'LinJ.28': ['46/46', '100.00'],\n",
       " 'LinJ.29': ['74/74', '100.00'],\n",
       " 'LinJ.30': ['71/71', '100.00'],\n",
       " 'LinJ.31': ['80/80', '100.00'],\n",
       " 'LinJ.32': ['69/69', '100.00'],\n",
       " 'LinJ.33': ['85/85', '100.00'],\n",
       " 'LinJ.34': ['96/96', '100.00'],\n",
       " 'LinJ.35': ['109/110', '99.09'],\n",
       " 'LinJ.36': ['96/96', '100.00']}"
      ]
     },
     "execution_count": 22,
     "metadata": {},
     "output_type": "execute_result"
    }
   ],
   "source": [
    "# Folder path, change it\n",
    "# bedops_path = \"./bedops_data2\"\n",
    "Total = 0\n",
    "comparison_dict2 = {}\n",
    "for (name1, group1), (name2, group2) in zip(TP_data_grouped, Software_data_grouped):\n",
    "    # group1 should be the TP data\n",
    "    # ------------------------------------------------------------------------------\n",
    "    path_chr = os.path.join(bedops_path_2, name1)\n",
    "    os.makedirs(path_chr, exist_ok=True)\n",
    "    # ------------------------------------------------------------------------------\n",
    "    group1_plus, group1_minus = group1[group1[\"sstrand\"] == \"plus\"].copy(), group1[group1[\"sstrand\"] == \"minus\"].copy()\n",
    "    group2_plus, group2_minus = group2[group2[\"sstrand\"] == \"plus\"].copy(), group2[group2[\"sstrand\"] == \"minus\"].copy()\n",
    "    # ------------------------------------------------------------------------------\n",
    "    group1_plus = group1_plus[[\"sseqid\", \"sstart\", \"send\"]]\n",
    "    group1_minus = group1_minus[[\"sseqid\", \"sstart\", \"send\"]]\n",
    "    group2_plus = group2_plus[[\"sseqid\", \"sstart\", \"send\"]]\n",
    "    group2_minus = group2_minus[[\"sseqid\", \"sstart\", \"send\"]]\n",
    "    # ------------------------------------------------------------------------------\n",
    "    group1_minus[[\"sstart\", \"send\"]] = group1_minus[[\"send\", \"sstart\"]]  # because minus strand coordinates are reversed\n",
    "    group2_minus[[\"sstart\", \"send\"]] = group2_minus[[\"send\", \"sstart\"]]  # because minus strand coordinates are reversed\n",
    "    # ------------------------------------------------------------------------------\n",
    "    group1_total = pd.concat([group1_plus, group1_minus], axis=0); group1_total.sort_values(by=[\"sseqid\", \"sstart\"], inplace=True)  # join the plus and minus strand data\n",
    "    group2_total = pd.concat([group2_plus, group2_minus], axis=0); group2_total.sort_values(by=[\"sseqid\", \"sstart\"], inplace=True)  # join the plus and minus strand data\n",
    "    # ------------------------------------------------------------------------------\n",
    "    path_group1_total = os.path.join(path_chr, \"group1_total.bed\")\n",
    "    path_group2_total = os.path.join(path_chr, \"group2_total.bed\")\n",
    "    # ------------------------------------------------------------------------------\n",
    "    group1_total.to_csv(path_group1_total, sep=\"\\t\", header=False, index=False)  # tabular sep because of bed format\n",
    "    group2_total.to_csv(path_group2_total, sep=\"\\t\", header=False, index=False)  # tabular sep because of bed format\n",
    "\n",
    "    # ------------------------------------------------------------------------------\n",
    "    condition = 1\n",
    "    cmd = f\"bedops --element-of {condition} {path_group1_total} {path_group2_total}\"\n",
    "    result = subprocess.check_output(cmd, shell=True, universal_newlines=True)\n",
    "    result_df = pd.DataFrame([x.split(\"\\t\") for x in result.split(\"\\n\") if x], \n",
    "                                columns=[\"sseqid\", \"sstart\", \"send\"])\n",
    "    result_df = columns_to_numeric(result_df, [\"sstart\", \"send\"])  # defined function\n",
    "    comparison_dict2[name1] = [f\"{result_df.shape[0]}/{group1_total.shape[0]}\", f\"{result_df.shape[0]/group1_total.shape[0]*100:.2f}\"]\n",
    "    Total += result_df.shape[0]\n",
    "print(f\"\"\"\n",
    "There are {Total} TP sequences of {TP_data.shape[0]} in chr32 data:\n",
    "    - That's {Total/TP_data.shape[0]*100:.2f}% of the TP data\n",
    "    - {TP_data.shape[0]-Total} TP sequences are not in chr32 data, which is {100-Total/TP_data.shape[0]*100:.2f}%\n",
    "\"\"\"\n",
    ")\n",
    "comparison_dict2"
   ]
  }
 ],
 "metadata": {
  "kernelspec": {
   "display_name": "Python 3",
   "language": "python",
   "name": "python3"
  },
  "language_info": {
   "codemirror_mode": {
    "name": "ipython",
    "version": 3
   },
   "file_extension": ".py",
   "mimetype": "text/x-python",
   "name": "python",
   "nbconvert_exporter": "python",
   "pygments_lexer": "ipython3",
   "version": "3.12.3"
  }
 },
 "nbformat": 4,
 "nbformat_minor": 2
}
