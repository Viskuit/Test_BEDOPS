{
 "cells": [
  {
   "cell_type": "code",
   "execution_count": 3,
   "metadata": {},
   "outputs": [],
   "source": [
    "# Load needed libraries\n",
    "import numpy as np\n",
    "import pandas as pd\n",
    "import subprocess\n",
    "\n",
    "from Bio import SeqIO\n",
    "from Bio.Seq import Seq\n",
    "from Bio.SeqRecord import SeqRecord"
   ]
  },
  {
   "cell_type": "code",
   "execution_count": 2,
   "metadata": {},
   "outputs": [
    {
     "name": "stdout",
     "output_type": "stream",
     "text": [
      "(3009, 6)\n"
     ]
    },
    {
     "data": {
      "text/html": [
       "<div>\n",
       "<style scoped>\n",
       "    .dataframe tbody tr th:only-of-type {\n",
       "        vertical-align: middle;\n",
       "    }\n",
       "\n",
       "    .dataframe tbody tr th {\n",
       "        vertical-align: top;\n",
       "    }\n",
       "\n",
       "    .dataframe thead th {\n",
       "        text-align: right;\n",
       "    }\n",
       "</style>\n",
       "<table border=\"1\" class=\"dataframe\">\n",
       "  <thead>\n",
       "    <tr style=\"text-align: right;\">\n",
       "      <th></th>\n",
       "      <th>0</th>\n",
       "      <th>1</th>\n",
       "      <th>2</th>\n",
       "      <th>3</th>\n",
       "      <th>4</th>\n",
       "      <th>5</th>\n",
       "    </tr>\n",
       "  </thead>\n",
       "  <tbody>\n",
       "    <tr>\n",
       "      <th>0</th>\n",
       "      <td>LinJ.01</td>\n",
       "      <td>173</td>\n",
       "      <td>1</td>\n",
       "      <td>173</td>\n",
       "      <td>plus</td>\n",
       "      <td>ACACCAGTACACCAGTACACCAGTACACCAGTACACCAGTACACCA...</td>\n",
       "    </tr>\n",
       "    <tr>\n",
       "      <th>1</th>\n",
       "      <td>LinJ.01</td>\n",
       "      <td>1000</td>\n",
       "      <td>13302</td>\n",
       "      <td>14301</td>\n",
       "      <td>plus</td>\n",
       "      <td>GTCGACCGTGCAAGAGGAACTCAACACCGCTCTACTCGGCGTGTCA...</td>\n",
       "    </tr>\n",
       "    <tr>\n",
       "      <th>2</th>\n",
       "      <td>LinJ.01</td>\n",
       "      <td>699</td>\n",
       "      <td>24093</td>\n",
       "      <td>24791</td>\n",
       "      <td>plus</td>\n",
       "      <td>GGGGGAGGCGGGGGAGGCGGGGGGCACGCACCTCCATGCGTGGCAT...</td>\n",
       "    </tr>\n",
       "    <tr>\n",
       "      <th>3</th>\n",
       "      <td>LinJ.01</td>\n",
       "      <td>845</td>\n",
       "      <td>35316</td>\n",
       "      <td>36160</td>\n",
       "      <td>plus</td>\n",
       "      <td>GAGGTGGAGGCCGCTCTGCCCCCCCCGCCGCCGAGTGCTGCAGGCA...</td>\n",
       "    </tr>\n",
       "    <tr>\n",
       "      <th>4</th>\n",
       "      <td>LinJ.01</td>\n",
       "      <td>892</td>\n",
       "      <td>39698</td>\n",
       "      <td>40589</td>\n",
       "      <td>plus</td>\n",
       "      <td>CTCACCCTCATCCCACCCCTCCTCGTCCATCGACGGGAGTGGGCGG...</td>\n",
       "    </tr>\n",
       "  </tbody>\n",
       "</table>\n",
       "</div>"
      ],
      "text/plain": [
       "         0     1      2      3     4  \\\n",
       "0  LinJ.01   173      1    173  plus   \n",
       "1  LinJ.01  1000  13302  14301  plus   \n",
       "2  LinJ.01   699  24093  24791  plus   \n",
       "3  LinJ.01   845  35316  36160  plus   \n",
       "4  LinJ.01   892  39698  40589  plus   \n",
       "\n",
       "                                                   5  \n",
       "0  ACACCAGTACACCAGTACACCAGTACACCAGTACACCAGTACACCA...  \n",
       "1  GTCGACCGTGCAAGAGGAACTCAACACCGCTCTACTCGGCGTGTCA...  \n",
       "2  GGGGGAGGCGGGGGAGGCGGGGGGCACGCACCTCCATGCGTGGCAT...  \n",
       "3  GAGGTGGAGGCCGCTCTGCCCCCCCCGCCGCCGAGTGCTGCAGGCA...  \n",
       "4  CTCACCCTCATCCCACCCCTCCTCGTCCATCGACGGGAGTGGGCGG...  "
      ]
     },
     "execution_count": 2,
     "metadata": {},
     "output_type": "execute_result"
    }
   ],
   "source": [
    "# Let's load and check the data\n",
    "data = pd.read_csv(\"./sequences.csv\", sep=\",\", header=None)\n",
    "print(data.shape)\n",
    "data.head()"
   ]
  },
  {
   "cell_type": "code",
   "execution_count": 6,
   "metadata": {},
   "outputs": [],
   "source": [
    "# Load needed information\n",
    "dict_path = \"../Data/genome/TriTrypDB-67_LinfantumJPCM5_Genome.fasta\"  # Path to the genome"
   ]
  },
  {
   "cell_type": "code",
   "execution_count": 7,
   "metadata": {},
   "outputs": [],
   "source": [
    "# Prepare functions\n",
    "def blastn_blaster(query_path, dict_path, evalue):\n",
    "    cmd = \"blastn -word_size 11 -query \" \\\n",
    "        + query_path + \" -db \" \\\n",
    "        + dict_path \\\n",
    "        + \" -evalue \" + str(evalue) \\\n",
    "        + \" -outfmt 10\"\n",
    "    data = subprocess.check_output(cmd, shell=True, universal_newlines=True)  # Important the E value\n",
    "    return data\n",
    "\n",
    "def fasta_creator(sequence, index, fasta_output_path):\n",
    "    rec = SeqRecord(Seq(sequence),\n",
    "                    id=\"Seq_\" + str(index),\n",
    "                    description=\"Leishmania infantum\"\n",
    "                    )\n",
    "    SeqIO.write(rec, fasta_output_path, \"fasta\")"
   ]
  },
  {
   "cell_type": "markdown",
   "metadata": {},
   "source": [
    "Let's make some tests:"
   ]
  },
  {
   "cell_type": "code",
   "execution_count": 21,
   "metadata": {},
   "outputs": [],
   "source": [
    "query = \"GTCACCACCATGGCCGCCCACACAACGCACAAGGTGAGGATGCCAGCAACGTTCAGTGCCAGGCAGACCCAACGCAAGCAGGGGCAGCAGAAGAGCAGAAGCAACCCAAACGTGAATGCCGCAAAGTATACAAGGATGGAGATGATAGCGAACGCCTGTGCAGCGTGGAAGCGGTTCAGGCGG\"\n",
    "\n",
    "fasta_creator(query, 1, \"./filtered_data/test1.fasta\")\n",
    "test = blastn_blaster(\"./filtered_data/test1.fasta\", dict_path, 1.0E-09).strip().split(\"\\n\")"
   ]
  },
  {
   "cell_type": "code",
   "execution_count": 26,
   "metadata": {},
   "outputs": [
    {
     "data": {
      "text/plain": [
       "['Seq_1,LinJ.34,100.000,183,0,0,1,183,767842,768024,4.50e-93,339',\n",
       " 'Seq_1,LinJ.34,100.000,183,0,0,1,183,771173,771355,4.50e-93,339',\n",
       " 'Seq_1,LinJ.34,100.000,183,0,0,1,183,784281,784463,4.50e-93,339',\n",
       " 'Seq_1,LinJ.34,100.000,183,0,0,1,183,787612,787794,4.50e-93,339',\n",
       " 'Seq_1,LinJ.34,100.000,183,0,0,1,183,790944,791126,4.50e-93,339',\n",
       " 'Seq_1,LinJ.34,100.000,183,0,0,1,183,794278,794460,4.50e-93,339',\n",
       " 'Seq_1,LinJ.34,100.000,183,0,0,1,183,797610,797792,4.50e-93,339',\n",
       " 'Seq_1,LinJ.34,99.454,183,0,1,1,183,780954,781135,7.54e-91,331',\n",
       " 'Seq_1,LinJ.34,98.901,182,0,2,1,182,774493,774672,1.26e-88,324',\n",
       " 'Seq_1,LinJ.34,99.432,176,0,1,8,183,777838,778012,5.87e-87,318',\n",
       " 'Seq_1,LinJ.34,79.096,177,33,3,1,175,433072,432898,6.39e-27,119',\n",
       " 'Seq_1,LinJ.34,79.096,177,33,3,1,175,446253,446079,6.39e-27,119',\n",
       " 'Seq_1,LinJ.34,79.096,177,33,3,1,175,450672,450498,6.39e-27,119',\n",
       " 'Seq_1,LinJ.34,78.378,185,36,3,1,183,515549,515731,2.30e-26,117',\n",
       " 'Seq_1,LinJ.34,78.531,177,34,3,1,175,424292,424118,2.97e-25,113',\n",
       " 'Seq_1,LinJ.34,78.409,176,36,2,1,175,746200,746374,2.97e-25,113',\n",
       " 'Seq_1,LinJ.34,78.409,176,36,2,1,175,749454,749628,2.97e-25,113',\n",
       " 'Seq_1,LinJ.34,78.409,176,36,2,1,175,752711,752885,2.97e-25,113',\n",
       " 'Seq_1,LinJ.34,78.090,178,33,5,1,175,201067,200893,1.38e-23,108',\n",
       " 'Seq_1,LinJ.34,78.090,178,33,5,1,175,204650,204476,1.38e-23,108',\n",
       " 'Seq_1,LinJ.34,78.846,156,31,2,16,170,800960,801114,1.79e-22,104',\n",
       " 'Seq_1,LinJ.34,76.757,185,39,3,1,183,208244,208062,2.31e-21,100',\n",
       " 'Seq_1,LinJ.34,78.808,151,30,2,1,150,810493,810642,2.31e-21,100',\n",
       " 'Seq_1,LinJ.34,78.808,151,30,2,1,150,813247,813396,2.31e-21,100',\n",
       " 'Seq_1,LinJ.34,76.074,163,37,2,1,162,743004,743165,2.33e-16,84.2',\n",
       " 'Seq_1,LinJ.34,75.000,168,40,2,8,174,760712,760878,3.90e-14,76.8',\n",
       " 'Seq_1,LinJ.34,75.000,168,40,2,8,174,764617,764783,3.90e-14,76.8',\n",
       " 'Seq_1,LinJ.34,75.316,158,37,2,8,164,756716,756872,1.40e-13,75.0',\n",
       " 'Seq_1,LinJ.34,75.817,153,31,5,1,150,816017,816166,5.04e-13,73.1',\n",
       " 'Seq_1,LinJ.34,75.817,153,31,5,1,150,818784,818933,5.04e-13,73.1',\n",
       " 'Seq_1,LinJ.34,75.817,153,31,5,1,150,821552,821701,5.04e-13,73.1',\n",
       " 'Seq_1,LinJ.34,75.817,153,31,5,1,150,824318,824467,5.04e-13,73.1',\n",
       " 'Seq_1,LinJ.34,77.311,119,21,5,42,157,1241263,1241148,8.44e-11,65.8',\n",
       " 'Seq_1,LinJ.08,76.282,156,35,2,4,158,295998,295844,8.38e-16,82.4',\n",
       " 'Seq_1,LinJ.08,76.129,155,35,2,4,157,290374,290221,3.01e-15,80.5',\n",
       " 'Seq_1,LinJ.08,76.129,155,35,2,4,157,314351,314198,3.01e-15,80.5',\n",
       " 'Seq_1,LinJ.31,74.691,162,33,7,1,158,152294,152451,8.44e-11,65.8',\n",
       " 'Seq_1,LinJ.29,74.830,147,35,2,17,162,567662,567517,8.44e-11,65.8']"
      ]
     },
     "execution_count": 26,
     "metadata": {},
     "output_type": "execute_result"
    }
   ],
   "source": [
    "test"
   ]
  },
  {
   "cell_type": "code",
   "execution_count": 22,
   "metadata": {},
   "outputs": [
    {
     "data": {
      "text/plain": [
       "list"
      ]
     },
     "execution_count": 22,
     "metadata": {},
     "output_type": "execute_result"
    }
   ],
   "source": [
    "type(test)"
   ]
  },
  {
   "cell_type": "code",
   "execution_count": 25,
   "metadata": {},
   "outputs": [
    {
     "data": {
      "text/html": [
       "<div>\n",
       "<style scoped>\n",
       "    .dataframe tbody tr th:only-of-type {\n",
       "        vertical-align: middle;\n",
       "    }\n",
       "\n",
       "    .dataframe tbody tr th {\n",
       "        vertical-align: top;\n",
       "    }\n",
       "\n",
       "    .dataframe thead th {\n",
       "        text-align: right;\n",
       "    }\n",
       "</style>\n",
       "<table border=\"1\" class=\"dataframe\">\n",
       "  <thead>\n",
       "    <tr style=\"text-align: right;\">\n",
       "      <th></th>\n",
       "      <th>0</th>\n",
       "      <th>1</th>\n",
       "      <th>2</th>\n",
       "      <th>3</th>\n",
       "      <th>4</th>\n",
       "      <th>5</th>\n",
       "      <th>6</th>\n",
       "      <th>7</th>\n",
       "      <th>8</th>\n",
       "      <th>9</th>\n",
       "      <th>10</th>\n",
       "      <th>11</th>\n",
       "    </tr>\n",
       "  </thead>\n",
       "  <tbody>\n",
       "    <tr>\n",
       "      <th>0</th>\n",
       "      <td>Seq_1</td>\n",
       "      <td>LinJ.34</td>\n",
       "      <td>100.000</td>\n",
       "      <td>183</td>\n",
       "      <td>0</td>\n",
       "      <td>0</td>\n",
       "      <td>1</td>\n",
       "      <td>183</td>\n",
       "      <td>767842</td>\n",
       "      <td>768024</td>\n",
       "      <td>4.50e-93</td>\n",
       "      <td>339</td>\n",
       "    </tr>\n",
       "    <tr>\n",
       "      <th>1</th>\n",
       "      <td>Seq_1</td>\n",
       "      <td>LinJ.34</td>\n",
       "      <td>100.000</td>\n",
       "      <td>183</td>\n",
       "      <td>0</td>\n",
       "      <td>0</td>\n",
       "      <td>1</td>\n",
       "      <td>183</td>\n",
       "      <td>771173</td>\n",
       "      <td>771355</td>\n",
       "      <td>4.50e-93</td>\n",
       "      <td>339</td>\n",
       "    </tr>\n",
       "    <tr>\n",
       "      <th>2</th>\n",
       "      <td>Seq_1</td>\n",
       "      <td>LinJ.34</td>\n",
       "      <td>100.000</td>\n",
       "      <td>183</td>\n",
       "      <td>0</td>\n",
       "      <td>0</td>\n",
       "      <td>1</td>\n",
       "      <td>183</td>\n",
       "      <td>784281</td>\n",
       "      <td>784463</td>\n",
       "      <td>4.50e-93</td>\n",
       "      <td>339</td>\n",
       "    </tr>\n",
       "    <tr>\n",
       "      <th>3</th>\n",
       "      <td>Seq_1</td>\n",
       "      <td>LinJ.34</td>\n",
       "      <td>100.000</td>\n",
       "      <td>183</td>\n",
       "      <td>0</td>\n",
       "      <td>0</td>\n",
       "      <td>1</td>\n",
       "      <td>183</td>\n",
       "      <td>787612</td>\n",
       "      <td>787794</td>\n",
       "      <td>4.50e-93</td>\n",
       "      <td>339</td>\n",
       "    </tr>\n",
       "    <tr>\n",
       "      <th>4</th>\n",
       "      <td>Seq_1</td>\n",
       "      <td>LinJ.34</td>\n",
       "      <td>100.000</td>\n",
       "      <td>183</td>\n",
       "      <td>0</td>\n",
       "      <td>0</td>\n",
       "      <td>1</td>\n",
       "      <td>183</td>\n",
       "      <td>790944</td>\n",
       "      <td>791126</td>\n",
       "      <td>4.50e-93</td>\n",
       "      <td>339</td>\n",
       "    </tr>\n",
       "  </tbody>\n",
       "</table>\n",
       "</div>"
      ],
      "text/plain": [
       "      0        1        2    3  4  5  6    7       8       9         10   11\n",
       "0  Seq_1  LinJ.34  100.000  183  0  0  1  183  767842  768024  4.50e-93  339\n",
       "1  Seq_1  LinJ.34  100.000  183  0  0  1  183  771173  771355  4.50e-93  339\n",
       "2  Seq_1  LinJ.34  100.000  183  0  0  1  183  784281  784463  4.50e-93  339\n",
       "3  Seq_1  LinJ.34  100.000  183  0  0  1  183  787612  787794  4.50e-93  339\n",
       "4  Seq_1  LinJ.34  100.000  183  0  0  1  183  790944  791126  4.50e-93  339"
      ]
     },
     "execution_count": 25,
     "metadata": {},
     "output_type": "execute_result"
    }
   ],
   "source": [
    "test_df = pd.DataFrame([x.split(\",\") for x in test if x])\n",
    "test_df.head()"
   ]
  },
  {
   "cell_type": "code",
   "execution_count": 42,
   "metadata": {},
   "outputs": [
    {
     "data": {
      "text/plain": [
       "4"
      ]
     },
     "execution_count": 42,
     "metadata": {},
     "output_type": "execute_result"
    }
   ],
   "source": [
    "test_df[1].nunique()"
   ]
  }
 ],
 "metadata": {
  "kernelspec": {
   "display_name": "Python 3",
   "language": "python",
   "name": "python3"
  },
  "language_info": {
   "codemirror_mode": {
    "name": "ipython",
    "version": 3
   },
   "file_extension": ".py",
   "mimetype": "text/x-python",
   "name": "python",
   "nbconvert_exporter": "python",
   "pygments_lexer": "ipython3",
   "version": "3.10.12"
  }
 },
 "nbformat": 4,
 "nbformat_minor": 2
}
