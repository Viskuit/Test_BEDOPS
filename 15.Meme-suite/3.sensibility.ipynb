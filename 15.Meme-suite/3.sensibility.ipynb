{
 "cells": [
  {
   "cell_type": "code",
   "execution_count": 3,
   "metadata": {},
   "outputs": [],
   "source": [
    "import pandas as pd\n",
    "import subprocess\n",
    "import os"
   ]
  },
  {
   "cell_type": "markdown",
   "metadata": {},
   "source": [
    "# Consensus vs TP data"
   ]
  },
  {
   "cell_type": "code",
   "execution_count": 6,
   "metadata": {},
   "outputs": [
    {
     "name": "stdout",
     "output_type": "stream",
     "text": [
      "(1606, 14)\n",
      "qseqid       object\n",
      "sseqid       object\n",
      "pident      float64\n",
      "length        int64\n",
      "qstart        int64\n",
      "qend          int64\n",
      "sstart        int64\n",
      "send          int64\n",
      "evalue      float64\n",
      "bitscore    float64\n",
      "qlen          int64\n",
      "slen          int64\n",
      "sstrand      object\n",
      "sseq         object\n",
      "dtype: object\n"
     ]
    },
    {
     "data": {
      "text/html": [
       "<div>\n",
       "<style scoped>\n",
       "    .dataframe tbody tr th:only-of-type {\n",
       "        vertical-align: middle;\n",
       "    }\n",
       "\n",
       "    .dataframe tbody tr th {\n",
       "        vertical-align: top;\n",
       "    }\n",
       "\n",
       "    .dataframe thead th {\n",
       "        text-align: right;\n",
       "    }\n",
       "</style>\n",
       "<table border=\"1\" class=\"dataframe\">\n",
       "  <thead>\n",
       "    <tr style=\"text-align: right;\">\n",
       "      <th></th>\n",
       "      <th>qseqid</th>\n",
       "      <th>sseqid</th>\n",
       "      <th>pident</th>\n",
       "      <th>length</th>\n",
       "      <th>qstart</th>\n",
       "      <th>qend</th>\n",
       "      <th>sstart</th>\n",
       "      <th>send</th>\n",
       "      <th>evalue</th>\n",
       "      <th>bitscore</th>\n",
       "      <th>qlen</th>\n",
       "      <th>slen</th>\n",
       "      <th>sstrand</th>\n",
       "      <th>sseq</th>\n",
       "    </tr>\n",
       "  </thead>\n",
       "  <tbody>\n",
       "    <tr>\n",
       "      <th>0</th>\n",
       "      <td>1-112979r</td>\n",
       "      <td>LinJ.01</td>\n",
       "      <td>99.614</td>\n",
       "      <td>259</td>\n",
       "      <td>1</td>\n",
       "      <td>259</td>\n",
       "      <td>114017</td>\n",
       "      <td>113760</td>\n",
       "      <td>5.440000e-135</td>\n",
       "      <td>472.0</td>\n",
       "      <td>259</td>\n",
       "      <td>278267</td>\n",
       "      <td>minus</td>\n",
       "      <td>GGGGTGAGGCGGCGGCGCACAGACACACACACACACACACACACGC...</td>\n",
       "    </tr>\n",
       "    <tr>\n",
       "      <th>1</th>\n",
       "      <td>1-129494r</td>\n",
       "      <td>LinJ.01</td>\n",
       "      <td>100.000</td>\n",
       "      <td>447</td>\n",
       "      <td>1</td>\n",
       "      <td>447</td>\n",
       "      <td>130577</td>\n",
       "      <td>130131</td>\n",
       "      <td>0.000000e+00</td>\n",
       "      <td>826.0</td>\n",
       "      <td>447</td>\n",
       "      <td>278267</td>\n",
       "      <td>minus</td>\n",
       "      <td>TGATGACGGGGCGGCGGCGCACAGACACACACACACACACACACAC...</td>\n",
       "    </tr>\n",
       "    <tr>\n",
       "      <th>2</th>\n",
       "      <td>1-136422d</td>\n",
       "      <td>LinJ.01</td>\n",
       "      <td>100.000</td>\n",
       "      <td>461</td>\n",
       "      <td>1</td>\n",
       "      <td>461</td>\n",
       "      <td>137458</td>\n",
       "      <td>137918</td>\n",
       "      <td>0.000000e+00</td>\n",
       "      <td>852.0</td>\n",
       "      <td>461</td>\n",
       "      <td>278267</td>\n",
       "      <td>plus</td>\n",
       "      <td>TGACGACGGGGTGGGGCGGCGGCGCACAGACACACACACACACACA...</td>\n",
       "    </tr>\n",
       "    <tr>\n",
       "      <th>3</th>\n",
       "      <td>1-204526d</td>\n",
       "      <td>LinJ.01</td>\n",
       "      <td>100.000</td>\n",
       "      <td>432</td>\n",
       "      <td>1</td>\n",
       "      <td>432</td>\n",
       "      <td>205558</td>\n",
       "      <td>205989</td>\n",
       "      <td>0.000000e+00</td>\n",
       "      <td>798.0</td>\n",
       "      <td>432</td>\n",
       "      <td>278267</td>\n",
       "      <td>plus</td>\n",
       "      <td>GATGACGGGGTGGGGCGGCGGCGCACACACACACACGCACACACCT...</td>\n",
       "    </tr>\n",
       "    <tr>\n",
       "      <th>4</th>\n",
       "      <td>1-24471d</td>\n",
       "      <td>LinJ.01</td>\n",
       "      <td>100.000</td>\n",
       "      <td>660</td>\n",
       "      <td>1</td>\n",
       "      <td>660</td>\n",
       "      <td>24099</td>\n",
       "      <td>24758</td>\n",
       "      <td>0.000000e+00</td>\n",
       "      <td>1219.0</td>\n",
       "      <td>660</td>\n",
       "      <td>278267</td>\n",
       "      <td>plus</td>\n",
       "      <td>GGCGGGGGAGGCGGGGGGCACGCACCTCCATGCGTGGCATCCCAGG...</td>\n",
       "    </tr>\n",
       "  </tbody>\n",
       "</table>\n",
       "</div>"
      ],
      "text/plain": [
       "      qseqid   sseqid   pident  length  qstart  qend  sstart    send  \\\n",
       "0  1-112979r  LinJ.01   99.614     259       1   259  114017  113760   \n",
       "1  1-129494r  LinJ.01  100.000     447       1   447  130577  130131   \n",
       "2  1-136422d  LinJ.01  100.000     461       1   461  137458  137918   \n",
       "3  1-204526d  LinJ.01  100.000     432       1   432  205558  205989   \n",
       "4   1-24471d  LinJ.01  100.000     660       1   660   24099   24758   \n",
       "\n",
       "          evalue  bitscore  qlen    slen sstrand  \\\n",
       "0  5.440000e-135     472.0   259  278267   minus   \n",
       "1   0.000000e+00     826.0   447  278267   minus   \n",
       "2   0.000000e+00     852.0   461  278267    plus   \n",
       "3   0.000000e+00     798.0   432  278267    plus   \n",
       "4   0.000000e+00    1219.0   660  278267    plus   \n",
       "\n",
       "                                                sseq  \n",
       "0  GGGGTGAGGCGGCGGCGCACAGACACACACACACACACACACACGC...  \n",
       "1  TGATGACGGGGCGGCGGCGCACAGACACACACACACACACACACAC...  \n",
       "2  TGACGACGGGGTGGGGCGGCGGCGCACAGACACACACACACACACA...  \n",
       "3  GATGACGGGGTGGGGCGGCGGCGCACACACACACACGCACACACCT...  \n",
       "4  GGCGGGGGAGGCGGGGGGCACGCACCTCCATGCGTGGCATCCCAGG...  "
      ]
     },
     "execution_count": 6,
     "metadata": {},
     "output_type": "execute_result"
    }
   ],
   "source": [
    "# Load TP data\n",
    "TP_data = pd.read_csv(\"./data/TP_SIDERs_coor.csv\", sep=\",\", header=0)\n",
    "print(TP_data.shape)\n",
    "print(TP_data.dtypes)\n",
    "TP_data.head()"
   ]
  },
  {
   "cell_type": "code",
   "execution_count": 1,
   "metadata": {},
   "outputs": [
    {
     "ename": "NameError",
     "evalue": "name 'pd' is not defined",
     "output_type": "error",
     "traceback": [
      "\u001b[0;31m---------------------------------------------------------------------------\u001b[0m",
      "\u001b[0;31mNameError\u001b[0m                                 Traceback (most recent call last)",
      "Cell \u001b[0;32mIn[1], line 2\u001b[0m\n\u001b[1;32m      1\u001b[0m \u001b[38;5;66;03m# Load consensus data\u001b[39;00m\n\u001b[0;32m----> 2\u001b[0m consensus_data \u001b[38;5;241m=\u001b[39m \u001b[43mpd\u001b[49m\u001b[38;5;241m.\u001b[39mread_csv(\u001b[38;5;124m\"\u001b[39m\u001b[38;5;124m./data_software_output/consensus_data_seqs.csv\u001b[39m\u001b[38;5;124m\"\u001b[39m, sep\u001b[38;5;241m=\u001b[39m\u001b[38;5;124m\"\u001b[39m\u001b[38;5;124m,\u001b[39m\u001b[38;5;124m\"\u001b[39m, header\u001b[38;5;241m=\u001b[39m\u001b[38;5;241m0\u001b[39m)\n\u001b[1;32m      3\u001b[0m \u001b[38;5;28mprint\u001b[39m(consensus_data\u001b[38;5;241m.\u001b[39mshape)\n\u001b[1;32m      4\u001b[0m \u001b[38;5;28mprint\u001b[39m(consensus_data\u001b[38;5;241m.\u001b[39mdtypes)\n",
      "\u001b[0;31mNameError\u001b[0m: name 'pd' is not defined"
     ]
    }
   ],
   "source": [
    "# Load consensus data\n",
    "consensus_data = pd.read_csv(\"./data_software_output/consensus_data_seqs.csv\", sep=\",\", header=0)\n",
    "print(consensus_data.shape)\n",
    "print(consensus_data.dtypes)\n",
    "consensus_data.head()"
   ]
  },
  {
   "cell_type": "code",
   "execution_count": 12,
   "metadata": {},
   "outputs": [
    {
     "data": {
      "text/plain": [
       "qseqid      1-112979r1-129494r1-36305r1-55910r2-193840r2-2...\n",
       "sseqid      LinJ.01LinJ.01LinJ.01LinJ.01LinJ.02LinJ.02LinJ...\n",
       "pident                                              78392.551\n",
       "length                                                 397871\n",
       "qstart                                                    812\n",
       "qend                                                   397832\n",
       "sstart                                              444164165\n",
       "send                                                443767403\n",
       "evalue                                                    0.0\n",
       "bitscore                                             726683.0\n",
       "qlen                                                   397871\n",
       "slen                                                958894346\n",
       "sstrand     minusminusminusminusminusminusminusminusminusm...\n",
       "sseq        GGGGTGAGGCGGCGGCGCACAGACACACACACACACACACACACGC...\n",
       "dtype: object"
      ]
     },
     "execution_count": 12,
     "metadata": {},
     "output_type": "execute_result"
    }
   ],
   "source": [
    "# Check if TP data \"sstart\" < \"send\". For that, see where is not\n",
    "(TP_data[TP_data[\"sstart\"] > TP_data[\"send\"]]).sum()"
   ]
  },
  {
   "cell_type": "code",
   "execution_count": 8,
   "metadata": {},
   "outputs": [],
   "source": [
    "# Group data by chromosomes\n",
    "TP_data_grouped = TP_data.groupby(\"sseqid\")\n",
    "consensus_data_grouped = consensus_data.groupby(\"sseqid\")"
   ]
  },
  {
   "cell_type": "code",
   "execution_count": null,
   "metadata": {},
   "outputs": [],
   "source": [
    "path_1 = \"./compare/consensus_vs_TP\"\n",
    "Compraison_dict_1 = {}\n",
    "for (name1, group1), (name2, group2) in zip(TP_data_grouped, consensus_data_grouped):\n",
    "    # group1 should be the TP data\n",
    "    # ------------------------------------------------------------------------------\n",
    "    path_chr = os.path.join(path_1, name1)\n",
    "    os.makedirs(path_chr, exist_ok=True)\n",
    "    # ------------------------------------------------------------------------------\n",
    "    group1_total = group1[[\"sseqid\", \"sstart\", \"send\"]].copy()\n",
    "    group2_total = group2[[\"sseqid\", \"sstart\", \"send\"]].copy()\n",
    "    # ------------------------------------------------------------------------------\n",
    "    group1_total.sort_values(by=[\"sstart\", \"send\"], inplace=True)\n",
    "    group2_total.sort_values(by=[\"sstart\", \"send\"], inplace=True)\n",
    "    # ------------------------------------------------------------------------------\n",
    "    path_group1_total = os.path.join(path_chr, \"group1_total.bed\")\n",
    "    path_group2_total = os.path.join(path_chr, \"group2_total.bed\")\n",
    "    # ------------------------------------------------------------------------------\n",
    "    group1_total.to_csv(path_group1_total, sep=\"\\t\", header=False, index=False)  # tabular sep because of bed format\n",
    "    group2_total.to_csv(path_group2_total, sep=\"\\t\", header=False, index=False)  # tabular sep because of bed format\n",
    "\n",
    "    # ------------------------------------------------------------------------------\n",
    "    condition = 1\n",
    "    cmd = f\"bedops --element-of {condition} {path_group1_total} {path_group2_total}\"\n",
    "    result = subprocess.check_output(cmd, shell=True, universal_newlines=True)\n",
    "    result_df = pd.DataFrame([x.split(\"\\t\") for x in result.split(\"\\n\") if x], \n",
    "                                columns=[\"sseqid\", \"sstart\", \"send\"])\n",
    "    result_df = columns_to_numeric(result_df, [\"sstart\", \"send\"])  # defined function\n",
    "    comparison_dict_1[name1] = [f\"{result_df.shape[0]}/{group1_total.shape[0]}\", f\"{result_df.shape[0]/group1_total.shape[0]*100:.2f}\"]\n",
    "comparison_dict_1"
   ]
  }
 ],
 "metadata": {
  "kernelspec": {
   "display_name": "Python 3",
   "language": "python",
   "name": "python3"
  },
  "language_info": {
   "codemirror_mode": {
    "name": "ipython",
    "version": 3
   },
   "file_extension": ".py",
   "mimetype": "text/x-python",
   "name": "python",
   "nbconvert_exporter": "python",
   "pygments_lexer": "ipython3",
   "version": "3.12.3"
  }
 },
 "nbformat": 4,
 "nbformat_minor": 2
}
