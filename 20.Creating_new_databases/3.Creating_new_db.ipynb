{
 "cells": [
  {
   "cell_type": "markdown",
   "metadata": {},
   "source": [
    "# Needed modules"
   ]
  },
  {
   "cell_type": "code",
   "execution_count": 16,
   "metadata": {},
   "outputs": [],
   "source": [
    "# Load needed libraries\n",
    "import pandas as pd\n",
    "import os"
   ]
  },
  {
   "cell_type": "code",
   "execution_count": 17,
   "metadata": {},
   "outputs": [],
   "source": [
    "# https://kioku-space.com/en/jupyter-skip-execution/\n",
    "from IPython.core.magic import register_cell_magic # type: ignore\n",
    "\n",
    "@register_cell_magic\n",
    "def skip(line, cell):\n",
    "    return"
   ]
  },
  {
   "cell_type": "markdown",
   "metadata": {},
   "source": [
    "# Pickle save"
   ]
  },
  {
   "cell_type": "code",
   "execution_count": 18,
   "metadata": {},
   "outputs": [],
   "source": [
    "%%skip\n",
    "# =============================================================================\n",
    "# Save the variables\n",
    "# =============================================================================\n",
    "variables_dict = {\n",
    "}\n",
    "\n",
    "# =============================================================================\n",
    "# main function\n",
    "# =============================================================================\n",
    "def data_save_load(option, dict_variables=None):\n",
    "    \"\"\"\n",
    "    This function is used to save or load data for the jupyter notebook\n",
    "    \"\"\"\n",
    "    path_folder = \"ipynb_db\"  # Folder to save variables\n",
    "    os.makedirs(path_folder, exist_ok=True)  # Create folder if not exist\n",
    "    path_file = os.path.join(path_folder, \"variables.pkl\") # Path to save the variables\n",
    "\n",
    "    if option == \"save\":\n",
    "        with open(path_file, \"wb\") as f:\n",
    "            pickle.dump(dict_variables, f)\n",
    "    elif option == \"load\":\n",
    "        with open(path_file, \"rb\") as f:\n",
    "            variables = pickle.load(f)\n",
    "        # Now load the variables\n",
    "        for key, value in variables.items():\n",
    "            variables[key] = value\n",
    "\n",
    "# =============================================================================\n",
    "# Call the function\n",
    "# =============================================================================\n",
    "data_save_load(option=\"save\",\n",
    "               dict_variables=variables_dict)"
   ]
  },
  {
   "cell_type": "markdown",
   "metadata": {},
   "source": [
    "# 1. Load data"
   ]
  },
  {
   "cell_type": "code",
   "execution_count": 19,
   "metadata": {},
   "outputs": [
    {
     "name": "stdout",
     "output_type": "stream",
     "text": [
      "(913, 5)\n",
      "sseqid     object\n",
      "sstart      int64\n",
      "send        int64\n",
      "sstrand    object\n",
      "sseq       object\n",
      "dtype: object\n"
     ]
    },
    {
     "data": {
      "text/html": [
       "<div>\n",
       "<style scoped>\n",
       "    .dataframe tbody tr th:only-of-type {\n",
       "        vertical-align: middle;\n",
       "    }\n",
       "\n",
       "    .dataframe tbody tr th {\n",
       "        vertical-align: top;\n",
       "    }\n",
       "\n",
       "    .dataframe thead th {\n",
       "        text-align: right;\n",
       "    }\n",
       "</style>\n",
       "<table border=\"1\" class=\"dataframe\">\n",
       "  <thead>\n",
       "    <tr style=\"text-align: right;\">\n",
       "      <th></th>\n",
       "      <th>sseqid</th>\n",
       "      <th>sstart</th>\n",
       "      <th>send</th>\n",
       "      <th>sstrand</th>\n",
       "      <th>sseq</th>\n",
       "    </tr>\n",
       "  </thead>\n",
       "  <tbody>\n",
       "    <tr>\n",
       "      <th>0</th>\n",
       "      <td>LinJ.01</td>\n",
       "      <td>36103</td>\n",
       "      <td>36242</td>\n",
       "      <td>plus</td>\n",
       "      <td>AGACAGACCGACACACGCAGCCGTGTGATGCCGCCGCCGAGGGCAG...</td>\n",
       "    </tr>\n",
       "    <tr>\n",
       "      <th>1</th>\n",
       "      <td>LinJ.01</td>\n",
       "      <td>113760</td>\n",
       "      <td>114388</td>\n",
       "      <td>plus</td>\n",
       "      <td>CAGCGCCATGCACGACATGGCCGCTGACGTCCGTAGCCCTAACTCG...</td>\n",
       "    </tr>\n",
       "    <tr>\n",
       "      <th>2</th>\n",
       "      <td>LinJ.01</td>\n",
       "      <td>146412</td>\n",
       "      <td>146530</td>\n",
       "      <td>plus</td>\n",
       "      <td>GCGAATTGTGTTCTGCGCATGCCTCTTCTCTGCCGTGCAGCATGCG...</td>\n",
       "    </tr>\n",
       "    <tr>\n",
       "      <th>3</th>\n",
       "      <td>LinJ.01</td>\n",
       "      <td>261866</td>\n",
       "      <td>262439</td>\n",
       "      <td>plus</td>\n",
       "      <td>CGGACTTGGCAAGTGGCCGCCATCGATGAAAACGCACCATGCCTTT...</td>\n",
       "    </tr>\n",
       "    <tr>\n",
       "      <th>4</th>\n",
       "      <td>LinJ.01</td>\n",
       "      <td>271363</td>\n",
       "      <td>271650</td>\n",
       "      <td>plus</td>\n",
       "      <td>CGAACGCCGCCCTCAATCGCGCGCTGAACTTCACGCGGCGGTCGAC...</td>\n",
       "    </tr>\n",
       "  </tbody>\n",
       "</table>\n",
       "</div>"
      ],
      "text/plain": [
       "    sseqid  sstart    send sstrand  \\\n",
       "0  LinJ.01   36103   36242    plus   \n",
       "1  LinJ.01  113760  114388    plus   \n",
       "2  LinJ.01  146412  146530    plus   \n",
       "3  LinJ.01  261866  262439    plus   \n",
       "4  LinJ.01  271363  271650    plus   \n",
       "\n",
       "                                                sseq  \n",
       "0  AGACAGACCGACACACGCAGCCGTGTGATGCCGCCGCCGAGGGCAG...  \n",
       "1  CAGCGCCATGCACGACATGGCCGCTGACGTCCGTAGCCCTAACTCG...  \n",
       "2  GCGAATTGTGTTCTGCGCATGCCTCTTCTCTGCCGTGCAGCATGCG...  \n",
       "3  CGGACTTGGCAAGTGGCCGCCATCGATGAAAACGCACCATGCCTTT...  \n",
       "4  CGAACGCCGCCCTCAATCGCGCGCTGAACTTCACGCGGCGGTCGAC...  "
      ]
     },
     "execution_count": 19,
     "metadata": {},
     "output_type": "execute_result"
    }
   ],
   "source": [
    "# Load new negative data:\n",
    "neg_data = pd.read_csv(\"./2.Hallmarks_vs_NegData/negative_data_after_recaught.csv\", sep=\",\", header=0)\n",
    "neg_data.sort_values([\"sseqid\", \"sstart\"])\n",
    "print(neg_data.shape)\n",
    "print(neg_data.dtypes)\n",
    "neg_data.head()"
   ]
  },
  {
   "cell_type": "code",
   "execution_count": 20,
   "metadata": {},
   "outputs": [
    {
     "name": "stdout",
     "output_type": "stream",
     "text": [
      "(1, 5)\n",
      "sseqid     object\n",
      "sstart      int64\n",
      "send        int64\n",
      "sstrand    object\n",
      "sseq       object\n",
      "dtype: object\n"
     ]
    },
    {
     "data": {
      "text/html": [
       "<div>\n",
       "<style scoped>\n",
       "    .dataframe tbody tr th:only-of-type {\n",
       "        vertical-align: middle;\n",
       "    }\n",
       "\n",
       "    .dataframe tbody tr th {\n",
       "        vertical-align: top;\n",
       "    }\n",
       "\n",
       "    .dataframe thead th {\n",
       "        text-align: right;\n",
       "    }\n",
       "</style>\n",
       "<table border=\"1\" class=\"dataframe\">\n",
       "  <thead>\n",
       "    <tr style=\"text-align: right;\">\n",
       "      <th></th>\n",
       "      <th>sseqid</th>\n",
       "      <th>sstart</th>\n",
       "      <th>send</th>\n",
       "      <th>sstrand</th>\n",
       "      <th>sseq</th>\n",
       "    </tr>\n",
       "  </thead>\n",
       "  <tbody>\n",
       "    <tr>\n",
       "      <th>0</th>\n",
       "      <td>LinJ.16</td>\n",
       "      <td>79840</td>\n",
       "      <td>80334</td>\n",
       "      <td>plus</td>\n",
       "      <td>CCCGTGCTGCGTCGCGCCCATCTAGCTGCCACGGCGGCATGGCTCC...</td>\n",
       "    </tr>\n",
       "  </tbody>\n",
       "</table>\n",
       "</div>"
      ],
      "text/plain": [
       "    sseqid  sstart   send sstrand  \\\n",
       "0  LinJ.16   79840  80334    plus   \n",
       "\n",
       "                                                sseq  \n",
       "0  CCCGTGCTGCGTCGCGCCCATCTAGCTGCCACGGCGGCATGGCTCC...  "
      ]
     },
     "execution_count": 20,
     "metadata": {},
     "output_type": "execute_result"
    }
   ],
   "source": [
    "# Load neg recaught data, i.e., data to add to the positive elements\n",
    "neg_recaught_data = pd.read_csv(\"./2.Hallmarks_vs_NegData/neg_data_recaught_hits.csv\", sep=\",\", header=0)\n",
    "print(neg_recaught_data.shape)\n",
    "print(neg_recaught_data.dtypes)\n",
    "neg_recaught_data.head()"
   ]
  },
  {
   "cell_type": "code",
   "execution_count": 21,
   "metadata": {},
   "outputs": [
    {
     "name": "stdout",
     "output_type": "stream",
     "text": [
      "(2116, 5)\n",
      "sseqid     object\n",
      "sstart      int64\n",
      "send        int64\n",
      "sstrand    object\n",
      "sseq       object\n",
      "dtype: object\n"
     ]
    },
    {
     "data": {
      "text/html": [
       "<div>\n",
       "<style scoped>\n",
       "    .dataframe tbody tr th:only-of-type {\n",
       "        vertical-align: middle;\n",
       "    }\n",
       "\n",
       "    .dataframe tbody tr th {\n",
       "        vertical-align: top;\n",
       "    }\n",
       "\n",
       "    .dataframe thead th {\n",
       "        text-align: right;\n",
       "    }\n",
       "</style>\n",
       "<table border=\"1\" class=\"dataframe\">\n",
       "  <thead>\n",
       "    <tr style=\"text-align: right;\">\n",
       "      <th></th>\n",
       "      <th>sseqid</th>\n",
       "      <th>sstart</th>\n",
       "      <th>send</th>\n",
       "      <th>sstrand</th>\n",
       "      <th>sseq</th>\n",
       "    </tr>\n",
       "  </thead>\n",
       "  <tbody>\n",
       "    <tr>\n",
       "      <th>0</th>\n",
       "      <td>LinJ.01</td>\n",
       "      <td>1</td>\n",
       "      <td>173</td>\n",
       "      <td>plus</td>\n",
       "      <td>ACACCAGTACACCAGTACACCAGTACACCAGTACACCAGTACACCA...</td>\n",
       "    </tr>\n",
       "    <tr>\n",
       "      <th>1</th>\n",
       "      <td>LinJ.01</td>\n",
       "      <td>24093</td>\n",
       "      <td>24758</td>\n",
       "      <td>plus</td>\n",
       "      <td>GGGGGAGGCGGGGGAGGCGGGGGGCACGCACCTCCATGCGTGGCAT...</td>\n",
       "    </tr>\n",
       "    <tr>\n",
       "      <th>2</th>\n",
       "      <td>LinJ.01</td>\n",
       "      <td>35371</td>\n",
       "      <td>35956</td>\n",
       "      <td>plus</td>\n",
       "      <td>ACTCCCATCGCCTGGTGCGAAGCAGCGCAAGACACACGCGCGCTGC...</td>\n",
       "    </tr>\n",
       "    <tr>\n",
       "      <th>3</th>\n",
       "      <td>LinJ.01</td>\n",
       "      <td>39790</td>\n",
       "      <td>40595</td>\n",
       "      <td>plus</td>\n",
       "      <td>ATTCTACCGCGAGCAAGGCAGCACACAGACGCACGCACAGCCACAG...</td>\n",
       "    </tr>\n",
       "    <tr>\n",
       "      <th>4</th>\n",
       "      <td>LinJ.01</td>\n",
       "      <td>54983</td>\n",
       "      <td>55547</td>\n",
       "      <td>plus</td>\n",
       "      <td>ACTCTCATCGCCTGGTGCGAAGCAGCGCAAGACACACGCGCGCTGC...</td>\n",
       "    </tr>\n",
       "  </tbody>\n",
       "</table>\n",
       "</div>"
      ],
      "text/plain": [
       "    sseqid  sstart   send sstrand  \\\n",
       "0  LinJ.01       1    173    plus   \n",
       "1  LinJ.01   24093  24758    plus   \n",
       "2  LinJ.01   35371  35956    plus   \n",
       "3  LinJ.01   39790  40595    plus   \n",
       "4  LinJ.01   54983  55547    plus   \n",
       "\n",
       "                                                sseq  \n",
       "0  ACACCAGTACACCAGTACACCAGTACACCAGTACACCAGTACACCA...  \n",
       "1  GGGGGAGGCGGGGGAGGCGGGGGGCACGCACCTCCATGCGTGGCAT...  \n",
       "2  ACTCCCATCGCCTGGTGCGAAGCAGCGCAAGACACACGCGCGCTGC...  \n",
       "3  ATTCTACCGCGAGCAAGGCAGCACACAGACGCACGCACAGCCACAG...  \n",
       "4  ACTCTCATCGCCTGGTGCGAAGCAGCGCAAGACACACGCGCGCTGC...  "
      ]
     },
     "execution_count": 21,
     "metadata": {},
     "output_type": "execute_result"
    }
   ],
   "source": [
    "# Load positive data:\n",
    "pos_data = pd.read_csv(\"./1.new_data/positive_database.csv\", sep=\",\", header=0)\n",
    "print(pos_data.shape)\n",
    "print(pos_data.dtypes)\n",
    "pos_data.head()"
   ]
  },
  {
   "cell_type": "markdown",
   "metadata": {},
   "source": [
    "# 2. Add recaught data to the positive data"
   ]
  },
  {
   "cell_type": "code",
   "execution_count": 22,
   "metadata": {},
   "outputs": [
    {
     "name": "stdout",
     "output_type": "stream",
     "text": [
      "(2117, 5)\n",
      "sseqid     object\n",
      "sstart      int64\n",
      "send        int64\n",
      "sstrand    object\n",
      "sseq       object\n",
      "dtype: object\n"
     ]
    },
    {
     "data": {
      "text/html": [
       "<div>\n",
       "<style scoped>\n",
       "    .dataframe tbody tr th:only-of-type {\n",
       "        vertical-align: middle;\n",
       "    }\n",
       "\n",
       "    .dataframe tbody tr th {\n",
       "        vertical-align: top;\n",
       "    }\n",
       "\n",
       "    .dataframe thead th {\n",
       "        text-align: right;\n",
       "    }\n",
       "</style>\n",
       "<table border=\"1\" class=\"dataframe\">\n",
       "  <thead>\n",
       "    <tr style=\"text-align: right;\">\n",
       "      <th></th>\n",
       "      <th>sseqid</th>\n",
       "      <th>sstart</th>\n",
       "      <th>send</th>\n",
       "      <th>sstrand</th>\n",
       "      <th>sseq</th>\n",
       "    </tr>\n",
       "  </thead>\n",
       "  <tbody>\n",
       "    <tr>\n",
       "      <th>0</th>\n",
       "      <td>LinJ.01</td>\n",
       "      <td>1</td>\n",
       "      <td>173</td>\n",
       "      <td>plus</td>\n",
       "      <td>ACACCAGTACACCAGTACACCAGTACACCAGTACACCAGTACACCA...</td>\n",
       "    </tr>\n",
       "    <tr>\n",
       "      <th>1</th>\n",
       "      <td>LinJ.01</td>\n",
       "      <td>24093</td>\n",
       "      <td>24758</td>\n",
       "      <td>plus</td>\n",
       "      <td>GGGGGAGGCGGGGGAGGCGGGGGGCACGCACCTCCATGCGTGGCAT...</td>\n",
       "    </tr>\n",
       "    <tr>\n",
       "      <th>2</th>\n",
       "      <td>LinJ.01</td>\n",
       "      <td>35371</td>\n",
       "      <td>35956</td>\n",
       "      <td>plus</td>\n",
       "      <td>ACTCCCATCGCCTGGTGCGAAGCAGCGCAAGACACACGCGCGCTGC...</td>\n",
       "    </tr>\n",
       "    <tr>\n",
       "      <th>3</th>\n",
       "      <td>LinJ.01</td>\n",
       "      <td>39790</td>\n",
       "      <td>40595</td>\n",
       "      <td>plus</td>\n",
       "      <td>ATTCTACCGCGAGCAAGGCAGCACACAGACGCACGCACAGCCACAG...</td>\n",
       "    </tr>\n",
       "    <tr>\n",
       "      <th>4</th>\n",
       "      <td>LinJ.01</td>\n",
       "      <td>54983</td>\n",
       "      <td>55547</td>\n",
       "      <td>plus</td>\n",
       "      <td>ACTCTCATCGCCTGGTGCGAAGCAGCGCAAGACACACGCGCGCTGC...</td>\n",
       "    </tr>\n",
       "  </tbody>\n",
       "</table>\n",
       "</div>"
      ],
      "text/plain": [
       "    sseqid  sstart   send sstrand  \\\n",
       "0  LinJ.01       1    173    plus   \n",
       "1  LinJ.01   24093  24758    plus   \n",
       "2  LinJ.01   35371  35956    plus   \n",
       "3  LinJ.01   39790  40595    plus   \n",
       "4  LinJ.01   54983  55547    plus   \n",
       "\n",
       "                                                sseq  \n",
       "0  ACACCAGTACACCAGTACACCAGTACACCAGTACACCAGTACACCA...  \n",
       "1  GGGGGAGGCGGGGGAGGCGGGGGGCACGCACCTCCATGCGTGGCAT...  \n",
       "2  ACTCCCATCGCCTGGTGCGAAGCAGCGCAAGACACACGCGCGCTGC...  \n",
       "3  ATTCTACCGCGAGCAAGGCAGCACACAGACGCACGCACAGCCACAG...  \n",
       "4  ACTCTCATCGCCTGGTGCGAAGCAGCGCAAGACACACGCGCGCTGC...  "
      ]
     },
     "execution_count": 22,
     "metadata": {},
     "output_type": "execute_result"
    }
   ],
   "source": [
    "# Add neg_recaught_data to pos_data\n",
    "pos_data = pd.concat([pos_data, neg_recaught_data], axis=0)\n",
    "\n",
    "# Sort by ssqid, sstart\n",
    "pos_data.sort_values(by=[\"sseqid\", \"sstart\"], inplace=True, ignore_index=True)\n",
    "\n",
    "# Check data\n",
    "print(pos_data.shape)\n",
    "print(pos_data.dtypes)\n",
    "pos_data.head()"
   ]
  },
  {
   "cell_type": "markdown",
   "metadata": {},
   "source": [
    "# 3. Check if the negative and positive data for included or overlaps"
   ]
  },
  {
   "cell_type": "code",
   "execution_count": 24,
   "metadata": {},
   "outputs": [],
   "source": [
    "# Copy og data\n",
    "pos_data_check = pos_data.copy()\n",
    "neg_data_check = neg_data.copy()"
   ]
  },
  {
   "cell_type": "code",
   "execution_count": 25,
   "metadata": {},
   "outputs": [
    {
     "name": "stdout",
     "output_type": "stream",
     "text": [
      "    sseqid  sstart   send        interval\n",
      "0  LinJ.01       1    173        [1, 173]\n",
      "1  LinJ.01   24093  24758  [24093, 24758]\n",
      "2  LinJ.01   35371  35956  [35371, 35956]\n",
      "3  LinJ.01   39790  40595  [39790, 40595]\n",
      "4  LinJ.01   54983  55547  [54983, 55547]\n",
      "    sseqid  sstart    send          interval\n",
      "0  LinJ.01   36103   36242    [36103, 36242]\n",
      "1  LinJ.01  113760  114388  [113760, 114388]\n",
      "2  LinJ.01  146412  146530  [146412, 146530]\n",
      "3  LinJ.01  261866  262439  [261866, 262439]\n",
      "4  LinJ.01  271363  271650  [271363, 271650]\n"
     ]
    }
   ],
   "source": [
    "# Create interval columns\n",
    "pos_data_check[\"interval\"] = pos_data_check.apply(lambda x: pd.Interval(left=x[\"sstart\"], right=x[\"send\"], closed=\"both\"), axis=1)\n",
    "neg_data_check[\"interval\"] = neg_data_check.apply(lambda x: pd.Interval(left=x[\"sstart\"], right=x[\"send\"], closed=\"both\"), axis=1)\n",
    "\n",
    "print(pos_data_check.loc[:, [\"sseqid\", \"sstart\", \"send\", \"interval\"]].head())\n",
    "print(neg_data_check.loc[:, [\"sseqid\", \"sstart\", \"send\", \"interval\"]].head())"
   ]
  },
  {
   "cell_type": "code",
   "execution_count": 26,
   "metadata": {},
   "outputs": [],
   "source": [
    "# Group the elements\n",
    "pos_data_grouped = pos_data_check.groupby(\"sseqid\")\n",
    "neg_data_grouped = neg_data_check.groupby(\"sseqid\")"
   ]
  },
  {
   "cell_type": "code",
   "execution_count": 27,
   "metadata": {},
   "outputs": [
    {
     "name": "stdout",
     "output_type": "stream",
     "text": [
      "==================================================\n",
      "Checking chromosome LinJ.01\n",
      "==================================================\n",
      "Checking chromosome LinJ.02\n"
     ]
    },
    {
     "name": "stdout",
     "output_type": "stream",
     "text": [
      "==================================================\n",
      "Checking chromosome LinJ.03\n",
      "==================================================\n",
      "Checking chromosome LinJ.04\n",
      "==================================================\n",
      "Checking chromosome LinJ.05\n",
      "==================================================\n",
      "Checking chromosome LinJ.06\n",
      "==================================================\n",
      "Checking chromosome LinJ.07\n",
      "==================================================\n",
      "Checking chromosome LinJ.08\n",
      "==================================================\n",
      "Checking chromosome LinJ.09\n",
      "==================================================\n",
      "Checking chromosome LinJ.10\n",
      "==================================================\n",
      "Checking chromosome LinJ.11\n",
      "==================================================\n",
      "Checking chromosome LinJ.12\n",
      "==================================================\n",
      "Checking chromosome LinJ.13\n",
      "==================================================\n",
      "Checking chromosome LinJ.14\n",
      "==================================================\n",
      "Checking chromosome LinJ.15\n",
      "==================================================\n",
      "Checking chromosome LinJ.16\n",
      "==================================================\n",
      "Checking chromosome LinJ.17\n",
      "==================================================\n",
      "Checking chromosome LinJ.18\n",
      "==================================================\n",
      "Checking chromosome LinJ.19\n",
      "==================================================\n",
      "Checking chromosome LinJ.20\n",
      "==================================================\n",
      "Checking chromosome LinJ.21\n",
      "==================================================\n",
      "Checking chromosome LinJ.22\n",
      "==================================================\n",
      "Checking chromosome LinJ.23\n",
      "==================================================\n",
      "Checking chromosome LinJ.24\n",
      "==================================================\n",
      "Checking chromosome LinJ.25\n",
      "==================================================\n",
      "Checking chromosome LinJ.26\n",
      "==================================================\n",
      "Checking chromosome LinJ.27\n",
      "==================================================\n",
      "Checking chromosome LinJ.28\n",
      "==================================================\n",
      "Checking chromosome LinJ.29\n",
      "==================================================\n",
      "Checking chromosome LinJ.30\n",
      "==================================================\n",
      "Checking chromosome LinJ.31\n",
      "==================================================\n",
      "Checking chromosome LinJ.32\n",
      "==================================================\n",
      "Checking chromosome LinJ.33\n",
      "==================================================\n",
      "Checking chromosome LinJ.34\n",
      "==================================================\n",
      "Checking chromosome LinJ.35\n",
      "==================================================\n",
      "Checking chromosome LinJ.36\n",
      "**************************************************\n",
      "Found 0 elements that are the same\n",
      "Found 0 elements that are overlaping\n",
      "Found 0 elements that are inside another element\n",
      "Found 0 elements that are inside another element\n"
     ]
    }
   ],
   "source": [
    "# Let's check for each group of positive elements if there is any negative if the elements are exactly the same, overlap or are inside one another\n",
    "same_elems = []\n",
    "overlaping_elems = []\n",
    "inside_elems = []\n",
    "inside_elems2 = []\n",
    "for name1, data1 in pos_data_grouped:\n",
    "    for name2, data2 in neg_data_grouped:\n",
    "        if name2 != name1:\n",
    "            # print(f\">> SKIPPING Chrom. Chromosome in negative elements {name2} is different from the one in positive elements {name1}\")\n",
    "            continue\n",
    "        else:\n",
    "            print(\"=\"*50)\n",
    "            print(f\"Checking chromosome {name1}\")\n",
    "            # Checking for same coordinates\n",
    "            for _, elem1 in data1.iterrows():\n",
    "                for _, elem2 in data2.iterrows():\n",
    "                    if elem1[\"interval\"] == elem2[\"interval\"]:\n",
    "                        print(f\"Found same element in chromosome {name1}\")\n",
    "                        same_elems.append(elem1)\n",
    "                    elif elem1[\"interval\"].overlaps(elem2[\"interval\"]):\n",
    "                        print(f\"Found overlaping element in chromosome {name1}\")\n",
    "                        overlaping_elems.append([elem1, elem2])\n",
    "                    else:\n",
    "                        if (elem1[\"sstart\"] > elem2[\"sstart\"] and elem1[\"sstart\"] < elem2[\"send\"] /\n",
    "                            elem1[\"send\"] < elem2[\"send\"] and elem1[\"send\"] > elem2[\"sstart\"]):\n",
    "                            print(f\"Found element inside another element in chromosome {name1}\")\n",
    "                            inside_elems.append(elem1)\n",
    "                        if (elem2[\"sstart\"] > elem1[\"sstart\"] and elem2[\"sstart\"] < elem1[\"send\"] /\n",
    "                            elem2[\"send\"] < elem1[\"send\"] and elem2[\"send\"] > elem1[\"sstart\"]):\n",
    "                            print(f\"Found element inside another element in chromosome {name1}\")\n",
    "                            inside_elems2.append(elem1)\n",
    "\n",
    "print(\"*\"*50)\n",
    "print(f\"Found {len(same_elems)} elements that are the same\")\n",
    "print(f\"Found {len(overlaping_elems)} elements that are overlaping\")\n",
    "print(f\"Found {len(inside_elems)} elements that are inside another element\")\n",
    "print(f\"Found {len(inside_elems2)} elements that are inside another element\")\n"
   ]
  },
  {
   "cell_type": "markdown",
   "metadata": {},
   "source": [
    "# 4. Save data"
   ]
  },
  {
   "cell_type": "code",
   "execution_count": 28,
   "metadata": {},
   "outputs": [],
   "source": [
    "# Prepare paths\n",
    "path_folder = \"./3.new_data_v2\"\n",
    "path_pos_data = os.path.join(path_folder, \"positive_database.csv\")\n",
    "path_neg_data = os.path.join(path_folder, \"negative_database.csv\")\n",
    "\n",
    "# save data\n",
    "os.makedirs(path_folder, exist_ok=True)\n",
    "pos_data.to_csv(path_pos_data, sep=\",\", header=True, index=False)\n",
    "neg_data.to_csv(path_neg_data, sep=\",\", header=True, index=False)"
   ]
  }
 ],
 "metadata": {
  "kernelspec": {
   "display_name": "Python 3",
   "language": "python",
   "name": "python3"
  },
  "language_info": {
   "codemirror_mode": {
    "name": "ipython",
    "version": 3
   },
   "file_extension": ".py",
   "mimetype": "text/x-python",
   "name": "python",
   "nbconvert_exporter": "python",
   "pygments_lexer": "ipython3",
   "version": "3.12.4"
  }
 },
 "nbformat": 4,
 "nbformat_minor": 2
}
