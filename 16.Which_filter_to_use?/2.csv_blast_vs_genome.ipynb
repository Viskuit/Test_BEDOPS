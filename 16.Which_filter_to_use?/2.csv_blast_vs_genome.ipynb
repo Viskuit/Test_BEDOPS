{
 "cells": [
  {
   "cell_type": "code",
   "execution_count": 11,
   "metadata": {},
   "outputs": [],
   "source": [
    "# Needed modules\n",
    "import os\n",
    "import subprocess\n",
    "import pandas as pd\n",
    "from Bio import SeqIO\n",
    "from Bio.Seq import Seq\n",
    "from Bio.SeqRecord import SeqRecord"
   ]
  },
  {
   "cell_type": "code",
   "execution_count": 19,
   "metadata": {},
   "outputs": [],
   "source": [
    "# Needed functions\n",
    "def fasta_creator(csv_input, output_path):\n",
    "    matrix = []\n",
    "    for index, row in csv_input.iterrows():\n",
    "        rec = SeqRecord(Seq(row[\"sseq\"]), \n",
    "                        id = f\"Seq_{index}_{row['sseqid']}\",\n",
    "                        description = \"Leishmania infantum\"\n",
    "                        )\n",
    "        matrix.append(rec)\n",
    "    SeqIO.write(matrix, output_path, \"fasta\")\n",
    "\n",
    "def blastn_dic(path_input, path_output):\n",
    "    # \"parse_seqids\" is used to keep the sequence ID in the output.\n",
    "    cmd = f\"makeblastdb -in {path_input} -dbtype nucl -parse_seqids -out {path_output}\"\n",
    "    subprocess.run(cmd, shell=True, stdout=subprocess.DEVNULL, stderr=subprocess.DEVNULL)\n",
    "\n",
    "def blastn_blaster(query_path, dict_path):\n",
    "    cmd = \"blastn -word_size 11 -query \" \\\n",
    "        + query_path + \" -db \" \\\n",
    "        + dict_path \\\n",
    "        + \" -outfmt '10 qseqid sseqid pident length qstart qend sstart send evalue bitscore qlen slen'\"\n",
    "    data = subprocess.check_output(cmd, shell=True, universal_newlines=True)  # Important the E value\n",
    "    data = pd.DataFrame([x.split(\",\") for x in data.split(\"\\n\") if x])\n",
    "    data.columns = [\"qseqid\", \"sseqid\", \"pident\", \"length\", \"qstart\", \"qend\", \"sstart\", \"send\", \"evalue\", \"bitscore\", \"qlen\", \"slen\"]\n",
    "    data[['pident', 'length', 'qstart', 'qend', 'sstart', 'send', 'evalue', 'bitscore', 'qlen', 'slen']] = data[['pident', 'length', 'qstart', 'qend', 'sstart', 'send', 'evalue', 'bitscore', 'qlen', 'slen']].apply(pd.to_numeric)\n",
    "    return data"
   ]
  },
  {
   "cell_type": "code",
   "execution_count": 17,
   "metadata": {},
   "outputs": [],
   "source": [
    "path_main_fasta = \"./data/consensus+LmSIDER2A+B/neg_matched_with_LmSIDER2A+B.fasta\"\n",
    "path_genome = \"./data/L_infantum/dict/TriTrypDB-67_LinfantumJPCM5_Genome.fasta\"\n",
    "path_folder = \"./data/consensus+LmSIDER2A+B/neg_dat_filter_decider\"\n",
    "os.makedirs(path_folder, exist_ok=True)"
   ]
  },
  {
   "cell_type": "code",
   "execution_count": 20,
   "metadata": {},
   "outputs": [],
   "source": [
    "# Create BLASTn dict\n",
    "blastn_dic(path_input=path_genome, path_output=path_genome)"
   ]
  },
  {
   "cell_type": "code",
   "execution_count": 23,
   "metadata": {},
   "outputs": [],
   "source": [
    "for count, fasta in enumerate(SeqIO.parse(open(path_main_fasta), \"fasta\"), start=0):\n",
    "    path_tmp_fasta = f\"{path_folder}/tmp_fasta.fasta\"\n",
    "    SeqIO.write(fasta, path_tmp_fasta, \"fasta\")\n",
    "    data = blastn_blaster(query_path=path_tmp_fasta, dict_path=path_genome)\n",
    "    data.sort_values(by=\"evalue\",  ascending=True, inplace=True,)\n",
    "    path_csv = f\"{path_folder}/{fasta.id}.csv\"\n",
    "    data.to_csv(path_csv, index=False, sep=\",\", header=True)"
   ]
  }
 ],
 "metadata": {
  "kernelspec": {
   "display_name": "Python 3",
   "language": "python",
   "name": "python3"
  },
  "language_info": {
   "codemirror_mode": {
    "name": "ipython",
    "version": 3
   },
   "file_extension": ".py",
   "mimetype": "text/x-python",
   "name": "python",
   "nbconvert_exporter": "python",
   "pygments_lexer": "ipython3",
   "version": "3.12.3"
  }
 },
 "nbformat": 4,
 "nbformat_minor": 2
}
