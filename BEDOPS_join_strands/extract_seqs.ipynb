{
 "cells": [
  {
   "cell_type": "code",
   "execution_count": 9,
   "metadata": {},
   "outputs": [],
   "source": [
    "import numpy as np\n",
    "import pandas as pd\n",
    "import subprocess"
   ]
  },
  {
   "cell_type": "code",
   "execution_count": 5,
   "metadata": {},
   "outputs": [
    {
     "data": {
      "text/html": [
       "<div>\n",
       "<style scoped>\n",
       "    .dataframe tbody tr th:only-of-type {\n",
       "        vertical-align: middle;\n",
       "    }\n",
       "\n",
       "    .dataframe tbody tr th {\n",
       "        vertical-align: top;\n",
       "    }\n",
       "\n",
       "    .dataframe thead th {\n",
       "        text-align: right;\n",
       "    }\n",
       "</style>\n",
       "<table border=\"1\" class=\"dataframe\">\n",
       "  <thead>\n",
       "    <tr style=\"text-align: right;\">\n",
       "      <th></th>\n",
       "      <th>0</th>\n",
       "      <th>1</th>\n",
       "      <th>2</th>\n",
       "      <th>3</th>\n",
       "      <th>4</th>\n",
       "      <th>5</th>\n",
       "      <th>6</th>\n",
       "      <th>7</th>\n",
       "      <th>8</th>\n",
       "    </tr>\n",
       "  </thead>\n",
       "  <tbody>\n",
       "    <tr>\n",
       "      <th>0</th>\n",
       "      <td>LinJ.01</td>\n",
       "      <td>CBM-302</td>\n",
       "      <td>SIDER</td>\n",
       "      <td>1</td>\n",
       "      <td>173</td>\n",
       "      <td>.</td>\n",
       "      <td>.</td>\n",
       "      <td>.</td>\n",
       "      <td>.</td>\n",
       "    </tr>\n",
       "    <tr>\n",
       "      <th>1</th>\n",
       "      <td>LinJ.01</td>\n",
       "      <td>CBM-302</td>\n",
       "      <td>SIDER</td>\n",
       "      <td>13302</td>\n",
       "      <td>14301</td>\n",
       "      <td>.</td>\n",
       "      <td>.</td>\n",
       "      <td>.</td>\n",
       "      <td>.</td>\n",
       "    </tr>\n",
       "    <tr>\n",
       "      <th>2</th>\n",
       "      <td>LinJ.01</td>\n",
       "      <td>CBM-302</td>\n",
       "      <td>SIDER</td>\n",
       "      <td>24093</td>\n",
       "      <td>24791</td>\n",
       "      <td>.</td>\n",
       "      <td>.</td>\n",
       "      <td>.</td>\n",
       "      <td>.</td>\n",
       "    </tr>\n",
       "    <tr>\n",
       "      <th>3</th>\n",
       "      <td>LinJ.01</td>\n",
       "      <td>CBM-302</td>\n",
       "      <td>SIDER</td>\n",
       "      <td>35316</td>\n",
       "      <td>36160</td>\n",
       "      <td>.</td>\n",
       "      <td>.</td>\n",
       "      <td>.</td>\n",
       "      <td>.</td>\n",
       "    </tr>\n",
       "    <tr>\n",
       "      <th>4</th>\n",
       "      <td>LinJ.01</td>\n",
       "      <td>CBM-302</td>\n",
       "      <td>SIDER</td>\n",
       "      <td>39698</td>\n",
       "      <td>40589</td>\n",
       "      <td>.</td>\n",
       "      <td>.</td>\n",
       "      <td>.</td>\n",
       "      <td>.</td>\n",
       "    </tr>\n",
       "  </tbody>\n",
       "</table>\n",
       "</div>"
      ],
      "text/plain": [
       "         0        1      2      3      4  5  6  7  8\n",
       "0  LinJ.01  CBM-302  SIDER      1    173  .  .  .  .\n",
       "1  LinJ.01  CBM-302  SIDER  13302  14301  .  .  .  .\n",
       "2  LinJ.01  CBM-302  SIDER  24093  24791  .  .  .  .\n",
       "3  LinJ.01  CBM-302  SIDER  35316  36160  .  .  .  .\n",
       "4  LinJ.01  CBM-302  SIDER  39698  40589  .  .  .  ."
      ]
     },
     "execution_count": 5,
     "metadata": {},
     "output_type": "execute_result"
    }
   ],
   "source": [
    "# Let's extract the sequences using local blast extracto, aka, `blastdbcmd`\n",
    "data = pd.read_csv(\"./data_bedops.gff\", sep=\"\\t\", header=None)\n",
    "data.head()"
   ]
  },
  {
   "cell_type": "code",
   "execution_count": 7,
   "metadata": {},
   "outputs": [
    {
     "data": {
      "text/html": [
       "<div>\n",
       "<style scoped>\n",
       "    .dataframe tbody tr th:only-of-type {\n",
       "        vertical-align: middle;\n",
       "    }\n",
       "\n",
       "    .dataframe tbody tr th {\n",
       "        vertical-align: top;\n",
       "    }\n",
       "\n",
       "    .dataframe thead th {\n",
       "        text-align: right;\n",
       "    }\n",
       "</style>\n",
       "<table border=\"1\" class=\"dataframe\">\n",
       "  <thead>\n",
       "    <tr style=\"text-align: right;\">\n",
       "      <th></th>\n",
       "      <th>0</th>\n",
       "      <th>1</th>\n",
       "      <th>2</th>\n",
       "    </tr>\n",
       "  </thead>\n",
       "  <tbody>\n",
       "    <tr>\n",
       "      <th>0</th>\n",
       "      <td>LinJ.01</td>\n",
       "      <td>1</td>\n",
       "      <td>173</td>\n",
       "    </tr>\n",
       "    <tr>\n",
       "      <th>1</th>\n",
       "      <td>LinJ.01</td>\n",
       "      <td>13302</td>\n",
       "      <td>14301</td>\n",
       "    </tr>\n",
       "    <tr>\n",
       "      <th>2</th>\n",
       "      <td>LinJ.01</td>\n",
       "      <td>24093</td>\n",
       "      <td>24791</td>\n",
       "    </tr>\n",
       "    <tr>\n",
       "      <th>3</th>\n",
       "      <td>LinJ.01</td>\n",
       "      <td>35316</td>\n",
       "      <td>36160</td>\n",
       "    </tr>\n",
       "    <tr>\n",
       "      <th>4</th>\n",
       "      <td>LinJ.01</td>\n",
       "      <td>39698</td>\n",
       "      <td>40589</td>\n",
       "    </tr>\n",
       "  </tbody>\n",
       "</table>\n",
       "</div>"
      ],
      "text/plain": [
       "         0      1      2\n",
       "0  LinJ.01      1    173\n",
       "1  LinJ.01  13302  14301\n",
       "2  LinJ.01  24093  24791\n",
       "3  LinJ.01  35316  36160\n",
       "4  LinJ.01  39698  40589"
      ]
     },
     "execution_count": 7,
     "metadata": {},
     "output_type": "execute_result"
    }
   ],
   "source": [
    "# Let's filter the needed data\n",
    "data = data[[0, 3, 4]]\n",
    "data.columns = range(data.columns.size)\n",
    "data.head()"
   ]
  },
  {
   "cell_type": "code",
   "execution_count": 11,
   "metadata": {},
   "outputs": [],
   "source": [
    "# Let's use variables for the data needed\n",
    "genome = \"../Data/genome/TriTrypDB-67_LinfantumJPCM5_Genome.fasta\""
   ]
  },
  {
   "cell_type": "code",
   "execution_count": 12,
   "metadata": {},
   "outputs": [],
   "source": [
    "# Now let's implement the sequence extraction.\n",
    "## strand default value will be \"plus\" if not specified.\n",
    "list = []\n",
    "for index, row in data.iterrows():\n",
    "    cmd = \"blastdbcmd -db \" + genome + \" -entry \" + row[0] + \" -range \" + str(row[1]) + \"-\" + str(row[2]) + \" -outfmt %s\"\n",
    "    sequence = subprocess.check_output(cmd, shell=True, universal_newlines=True)\n",
    "    list.append(row[0] + \",\" + \n",
    "                str(row[1]) + \",\" + \n",
    "                str(row[2]) + \",\" + \n",
    "                \"plus\" + \",\" +  # default strand will be \"plus\"\n",
    "                sequence)"
   ]
  },
  {
   "cell_type": "code",
   "execution_count": 13,
   "metadata": {},
   "outputs": [],
   "source": [
    "# list values are separated by commas, so we split them and create a data frame\n",
    "list_split = [row.split(\",\") for row in list]  # Splitting the list by commas\n",
    "list_split_df = pd.DataFrame(list_split)  # Creating a data frame from the list\n",
    "list_split_df[4] = list_split_df[4].str.replace('\\n', '')  # Important. It removes the new line character from the sequence."
   ]
  },
  {
   "cell_type": "code",
   "execution_count": 15,
   "metadata": {},
   "outputs": [],
   "source": [
    "new_column = [len(x) for x in list_split_df[4]]  # creates a list with the length of each sequence\n",
    "list_split_df.insert(1, \"New\", new_column)  # inserts the new column with the sequence length. Column index are shifted.\n",
    "\n",
    "# Repair column index\n",
    "list_split_df.columns =range(list_split_df.columns.size)  # repairs the column index\n",
    "\n",
    "# -----------------------------------------------------------------------------\n",
    "# 7) Correctly modeling the output Data Frame to 15 columns and output as CSV file.\n",
    "# -----------------------------------------------------------------------------\n",
    "# data_to_csv = pd.DataFrame(index=range(list_split_df.shape[0]), columns=range(16))  # creates a new Data Frame with 15 columns. The rows depends on the .shape[0]\n",
    "# data_to_csv.iloc[:, [1, 3, 10, 11, 14, 15]] = list_split_df.iloc[:, [0, 1, 2, 3, 4, 5]]"
   ]
  },
  {
   "cell_type": "code",
   "execution_count": 20,
   "metadata": {},
   "outputs": [
    {
     "data": {
      "text/plain": [
       "(3009, 6)"
      ]
     },
     "execution_count": 20,
     "metadata": {},
     "output_type": "execute_result"
    }
   ],
   "source": [
    "list_split_df.shape"
   ]
  },
  {
   "cell_type": "code",
   "execution_count": 17,
   "metadata": {},
   "outputs": [],
   "source": [
    "list_split_df.to_csv(\"./sequences.csv\", sep=\",\", index=False, header=None)  # Saves the Data Frame as a CSV file"
   ]
  }
 ],
 "metadata": {
  "kernelspec": {
   "display_name": "Python 3",
   "language": "python",
   "name": "python3"
  },
  "language_info": {
   "codemirror_mode": {
    "name": "ipython",
    "version": 3
   },
   "file_extension": ".py",
   "mimetype": "text/x-python",
   "name": "python",
   "nbconvert_exporter": "python",
   "pygments_lexer": "ipython3",
   "version": "3.10.12"
  }
 },
 "nbformat": 4,
 "nbformat_minor": 2
}
