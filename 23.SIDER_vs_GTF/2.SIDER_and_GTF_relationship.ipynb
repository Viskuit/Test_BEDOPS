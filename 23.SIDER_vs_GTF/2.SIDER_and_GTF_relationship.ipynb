{
 "cells": [
  {
   "cell_type": "markdown",
   "metadata": {},
   "source": [
    "Author: Ronny F. Pacheco Date: Jul 2024\n",
    "Copyright: © 2024 Ronny Pacheco License: MIT License\n",
    "\n",
    "---\n",
    "\n",
    "MIT License\n",
    "\n",
    "Copyright (c) 2024 Ronny Pacheco\n",
    "\n",
    "Permission is hereby granted, free of charge, to any person obtaining a copy of this software and associated documentation files (the \"Software\"), to deal in the Software without restriction, including without limitation the rights to use, copy, modify, merge, publish, distribute, sublicense, and/or sell copies of the Software, and to permit persons to whom the Software is furnished to do so, subject to the following conditions:\n",
    "\n",
    "The above copyright notice and this permission notice shall be included in all copies or substantial portions of the Software.\n",
    "\n",
    "THE SOFTWARE IS PROVIDED \"AS IS\", WITHOUT WARRANTY OF ANY KIND, EXPRESS OR IMPLIED, INCLUDING BUT NOT LIMITED TO THE WARRANTIES OF MERCHANTABILITY, FITNESS FOR A PARTICULAR PURPOSE AND NONINFRINGEMENT. IN NO EVENT SHALL THE AUTHORS OR COPYRIGHT HOLDERS BE LIABLE FOR ANY CLAIM, DAMAGES OR OTHER LIABILITY, WHETHER IN AN ACTION OF CONTRACT, TORT OR OTHERWISE, ARISING FROM, OUT OF OR IN CONNECTION WITH THE SOFTWARE OR THE USE OR OTHER DEALINGS IN THE SOFTWARE."
   ]
  },
  {
   "cell_type": "markdown",
   "metadata": {},
   "source": [
    "# Needed mmodules"
   ]
  },
  {
   "cell_type": "code",
   "execution_count": 63,
   "metadata": {},
   "outputs": [],
   "source": [
    "# Import neede packages\n",
    "import pickle\n",
    "import pandas as pd\n",
    "import json"
   ]
  },
  {
   "cell_type": "code",
   "execution_count": 64,
   "metadata": {},
   "outputs": [],
   "source": [
    "## https://kioku-space.com/en/jupyter-skip-execution/\n",
    "from IPython.core.magic import register_cell_magic # type: ignore\n",
    "\n",
    "@register_cell_magic\n",
    "def skip(line, cell):\n",
    "    return"
   ]
  },
  {
   "cell_type": "markdown",
   "metadata": {},
   "source": [
    "# Pickle save"
   ]
  },
  {
   "cell_type": "code",
   "execution_count": 65,
   "metadata": {},
   "outputs": [],
   "source": [
    "%%skip\n",
    "# =============================================================================\n",
    "# Save the variables\n",
    "# =============================================================================\n",
    "variables_dict = {\n",
    "}\n",
    "\n",
    "# =============================================================================\n",
    "# main function\n",
    "# =============================================================================\n",
    "def data_save_load(option, dict_variables=None):\n",
    "    \"\"\"\n",
    "    This function is used to save or load data for the jupyter notebook\n",
    "    \"\"\"\n",
    "    path_folder = \"ipynb_db\"  # Folder to save variables\n",
    "    os.makedirs(path_folder, exist_ok=True)  # Create folder if not exist\n",
    "    path_file = os.path.join(path_folder, \"variables.pkl\") # Path to save the variables\n",
    "\n",
    "    if option == \"save\":\n",
    "        with open(path_file, \"wb\") as f:\n",
    "            pickle.dump(dict_variables, f)\n",
    "    elif option == \"load\":\n",
    "        with open(path_file, \"rb\") as f:\n",
    "            variables = pickle.load(f)\n",
    "        # Now load the variables\n",
    "        for key, value in variables.items():\n",
    "            variables[key] = value\n",
    "\n",
    "# =============================================================================\n",
    "# Call the function\n",
    "# =============================================================================\n",
    "data_save_load(option=\"save\",\n",
    "               dict_variables=variables_dict)"
   ]
  },
  {
   "cell_type": "markdown",
   "metadata": {},
   "source": [
    "# 1. Prepare data"
   ]
  },
  {
   "cell_type": "code",
   "execution_count": 66,
   "metadata": {},
   "outputs": [],
   "source": [
    "# Load the JSON dict into a Python dictionary\n",
    "path_json_file = \"./data/sider_gtf_relation.json\"\n",
    "\n",
    "with open(path_json_file, \"r\") as f:\n",
    "    dict_sider_gtf = json.load(f)"
   ]
  },
  {
   "cell_type": "code",
   "execution_count": 67,
   "metadata": {},
   "outputs": [
    {
     "name": "stdout",
     "output_type": "stream",
     "text": [
      "Size of the dictionary: 2132 elements\n"
     ]
    }
   ],
   "source": [
    "# Check the size of the dictionary\n",
    "print(f\"Size of the dictionary: {len(dict_sider_gtf)} elements\")"
   ]
  },
  {
   "cell_type": "markdown",
   "metadata": {},
   "source": [
    "# 2. Create table"
   ]
  },
  {
   "cell_type": "code",
   "execution_count": 74,
   "metadata": {},
   "outputs": [],
   "source": [
    "def gene_finder(sublist):\n",
    "    \"\"\"\n",
    "    This function is used to find the gene name from the sublist without repetition\n",
    "    \"\"\"\n",
    "    gene_name = \"\"\n",
    "    if len(sublist) == 0:\n",
    "        gene_name = \"intergenic\"\n",
    "    else:\n",
    "        gene_list = []\n",
    "        for elem in sublist:\n",
    "            if elem.get(\"gene_id\") is not None:\n",
    "                gene_list.append(elem.get(\"gene_id\"))\n",
    "        gene_list = list(set(gene_list))  # Remove duplicates\n",
    "        gene_name = \", \".join(gene_list)\n",
    "    return gene_name\n",
    "\n",
    "def transcript_finder(sublist):\n",
    "    \"\"\"\n",
    "    This function is used to find the transcript name from the sublist without repetition\n",
    "    \"\"\"\n",
    "    transcript_dict = {}\n",
    "    transcript = False\n",
    "    cds = False\n",
    "    utr3 = False\n",
    "    utr5 = False\n",
    "    for elem in sublist:\n",
    "        # Take transcript data\n",
    "        if elem.get(\"transcript_id\") is not None:\n",
    "            # Create a key with the transcript_id if it does not exist already\n",
    "            if transcript_dict.get(elem.get(\"transcript_id\")) is None:\n",
    "                transcript_dict[elem.get(\"transcript_id\")] = []\n",
    "            transcript = True\n",
    "        # Now let's go for the CDS, 3utr and 5utr\n",
    "        if elem.get(\"CDS\") == True:\n",
    "            transcript_dict[elem.get(\"parent_id\")].append(\"CDS\")\n",
    "            cds = True\n",
    "        if elem.get(\"3utr\") == True:\n",
    "            transcript_dict[elem.get(\"parent_id\")].append(\"3utr\")\n",
    "            utr3 = True\n",
    "        if elem.get(\"5utr\") == True:\n",
    "            transcript_dict[elem.get(\"parent_id\")].append(\"5utr\")\n",
    "            utr5 = True\n",
    "    \n",
    "    return transcript_dict, transcript, cds, utr3, utr5\n",
    "\n",
    "    "
   ]
  },
  {
   "cell_type": "code",
   "execution_count": 77,
   "metadata": {},
   "outputs": [],
   "source": [
    "# Let's create a table where one column is the \"sider name\" and the other the \"gene_name\".\n",
    "# If there si no gene_name, its intergenic region, so we will put \"intergenic\" in the gene_name column\n",
    "list_data = []\n",
    "for key, value in dict_sider_gtf.items():\n",
    "    sider_name = key\n",
    "    \n",
    "    # Find the gen_id for each sider name\n",
    "    gene_name = gene_finder(value)\n",
    "    # list_data.append([sider_name, gene_name])\n",
    "\n",
    "    # Find the transcript_id for each sider name\n",
    "    transcript_name = \"\"\n",
    "    transcript, cds, utr3, utr5 = False, False, False, False\n",
    "    if gene_name != \"intergenic\":\n",
    "        transcript_name, transcript, cds, utr3, utr5 = transcript_finder(value)\n",
    "    else:\n",
    "        transcript_name = \"intergenic\"\n",
    "    list_data.append([sider_name, gene_name, transcript_name, transcript, cds, utr3, utr5])\n",
    "\n",
    "# Create a pandas dataframe\n",
    "df_sider_gtf = pd.DataFrame(list_data, columns=[\"sider_name\", \"gene_name\", \"transcript_name\", \"transcript\", \"cds\", \"utr3\", \"utr5\"])"
   ]
  },
  {
   "cell_type": "code",
   "execution_count": 78,
   "metadata": {},
   "outputs": [
    {
     "name": "stdout",
     "output_type": "stream",
     "text": [
      "(2132, 7)\n",
      "sider_name         object\n",
      "gene_name          object\n",
      "transcript_name    object\n",
      "transcript           bool\n",
      "cds                  bool\n",
      "utr3                 bool\n",
      "utr5                 bool\n",
      "dtype: object\n"
     ]
    },
    {
     "data": {
      "text/html": [
       "<div>\n",
       "<style scoped>\n",
       "    .dataframe tbody tr th:only-of-type {\n",
       "        vertical-align: middle;\n",
       "    }\n",
       "\n",
       "    .dataframe tbody tr th {\n",
       "        vertical-align: top;\n",
       "    }\n",
       "\n",
       "    .dataframe thead th {\n",
       "        text-align: right;\n",
       "    }\n",
       "</style>\n",
       "<table border=\"1\" class=\"dataframe\">\n",
       "  <thead>\n",
       "    <tr style=\"text-align: right;\">\n",
       "      <th></th>\n",
       "      <th>sider_name</th>\n",
       "      <th>gene_name</th>\n",
       "      <th>transcript_name</th>\n",
       "      <th>transcript</th>\n",
       "      <th>cds</th>\n",
       "      <th>utr3</th>\n",
       "      <th>utr5</th>\n",
       "    </tr>\n",
       "  </thead>\n",
       "  <tbody>\n",
       "    <tr>\n",
       "      <th>0</th>\n",
       "      <td>src_c01.10</td>\n",
       "      <td>intergenic</td>\n",
       "      <td>intergenic</td>\n",
       "      <td>False</td>\n",
       "      <td>False</td>\n",
       "      <td>False</td>\n",
       "      <td>False</td>\n",
       "    </tr>\n",
       "    <tr>\n",
       "      <th>1</th>\n",
       "      <td>src_c01.20A</td>\n",
       "      <td>LINF_010005800</td>\n",
       "      <td>{'LINF_01T0005800': ['3utr']}</td>\n",
       "      <td>True</td>\n",
       "      <td>False</td>\n",
       "      <td>True</td>\n",
       "      <td>False</td>\n",
       "    </tr>\n",
       "    <tr>\n",
       "      <th>2</th>\n",
       "      <td>src_c01.30A</td>\n",
       "      <td>LINF_010006300</td>\n",
       "      <td>{'LINF_01T0006300': ['3utr']}</td>\n",
       "      <td>True</td>\n",
       "      <td>False</td>\n",
       "      <td>True</td>\n",
       "      <td>False</td>\n",
       "    </tr>\n",
       "    <tr>\n",
       "      <th>3</th>\n",
       "      <td>src_c01.40</td>\n",
       "      <td>LINF_010006600</td>\n",
       "      <td>{'LINF_01T0006600': ['3utr']}</td>\n",
       "      <td>True</td>\n",
       "      <td>False</td>\n",
       "      <td>True</td>\n",
       "      <td>False</td>\n",
       "    </tr>\n",
       "    <tr>\n",
       "      <th>4</th>\n",
       "      <td>src_c01.50A</td>\n",
       "      <td>LINF_010007050</td>\n",
       "      <td>{'LINF_01T0007050': []}</td>\n",
       "      <td>True</td>\n",
       "      <td>False</td>\n",
       "      <td>False</td>\n",
       "      <td>False</td>\n",
       "    </tr>\n",
       "  </tbody>\n",
       "</table>\n",
       "</div>"
      ],
      "text/plain": [
       "    sider_name       gene_name                transcript_name  transcript  \\\n",
       "0   src_c01.10      intergenic                     intergenic       False   \n",
       "1  src_c01.20A  LINF_010005800  {'LINF_01T0005800': ['3utr']}        True   \n",
       "2  src_c01.30A  LINF_010006300  {'LINF_01T0006300': ['3utr']}        True   \n",
       "3   src_c01.40  LINF_010006600  {'LINF_01T0006600': ['3utr']}        True   \n",
       "4  src_c01.50A  LINF_010007050        {'LINF_01T0007050': []}        True   \n",
       "\n",
       "     cds   utr3   utr5  \n",
       "0  False  False  False  \n",
       "1  False   True  False  \n",
       "2  False   True  False  \n",
       "3  False   True  False  \n",
       "4  False  False  False  "
      ]
     },
     "execution_count": 78,
     "metadata": {},
     "output_type": "execute_result"
    }
   ],
   "source": [
    "print(df_sider_gtf.shape)\n",
    "print(df_sider_gtf.dtypes)\n",
    "df_sider_gtf.head()"
   ]
  }
 ],
 "metadata": {
  "kernelspec": {
   "display_name": "Python 3",
   "language": "python",
   "name": "python3"
  },
  "language_info": {
   "codemirror_mode": {
    "name": "ipython",
    "version": 3
   },
   "file_extension": ".py",
   "mimetype": "text/x-python",
   "name": "python",
   "nbconvert_exporter": "python",
   "pygments_lexer": "ipython3",
   "version": "3.12.4"
  }
 },
 "nbformat": 4,
 "nbformat_minor": 2
}
