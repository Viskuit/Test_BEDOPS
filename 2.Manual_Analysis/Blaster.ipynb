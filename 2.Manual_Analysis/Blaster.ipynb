{
 "cells": [
  {
   "cell_type": "code",
   "execution_count": 1,
   "metadata": {},
   "outputs": [
    {
     "name": "stdout",
     "output_type": "stream",
     "text": [
      "1\n",
      "Record ID: LinJ.01\n",
      "2\n",
      "Record ID: LinJ.02\n"
     ]
    }
   ],
   "source": [
    "from Bio import SeqIO\n",
    "\n",
    "# Open the fasta file containing chromosome 1\n",
    "with open(\"../Data/genome/TriTrypDB-67_LinfantumJPCM5_Genome.fasta\", \"r\") as handle:\n",
    "    # Parse the fasta file\n",
    "    records = SeqIO.parse(handle, \"fasta\")\n",
    "    \n",
    "    # Iterate over each record in the fasta file (in this case, there should be only one record)\n",
    "    for index, record in enumerate(records, 1):\n",
    "        print(index)\n",
    "        # Print the record ID and sequence\n",
    "        print(\"Record ID:\", record.id)\n",
    "        # print(\"Sequence:\", record.seq)\n",
    "        if index != 1: break # After the 1st it breaks\n",
    "        SeqIO.write(record, \"Chr1_Linf.fasta\", \"fasta\")\n"
   ]
  },
  {
   "cell_type": "code",
   "execution_count": 2,
   "metadata": {},
   "outputs": [],
   "source": [
    "import os\n",
    "def blastn_dic(path_input):\n",
    "    # Remember is \"path.input.dic_path\" for \"argparse\".\n",
    "    try:\n",
    "        # boxymcboxface(\"BLASTn Database creator started\")\n",
    "        # pdb.set_trace()\n",
    "        os.system(\"makeblastdb -in \" + path_input + \" -dbtype nucl -parse_seqids\")\n",
    "        print(\"\\nBlast Dictionary created in\", path_input)\n",
    "    except Exception:\n",
    "        print(\"\\nError: Blast Dictionary couldn't be created\")"
   ]
  },
  {
   "cell_type": "code",
   "execution_count": 7,
   "metadata": {},
   "outputs": [],
   "source": [
    "import os\n",
    "def blastn_blaster(query_path, dict_path, outfile_path, perc_identity):\n",
    "    try:\n",
    "        print(\"BLASTn searcher initiated\")\n",
    "        # pdb.set_trace()\n",
    "        os.system(\"blastn -word_size 28 -query \"\n",
    "                    + query_path + \" -db \"\n",
    "                    + dict_path + \" -out \"\n",
    "                    + outfile_path + \" -perc_identity \"\n",
    "                    + str(perc_identity) + \" -outfmt '10 qseqid sseqid pident length qlen slen mismatch gapopen qstart qend sstart send evalue bitscore sstrand sseq'\")\n",
    "        print(\"\\nBlaster successful\", outfile_path, \"created.\")\n",
    "    except Exception:\n",
    "        print(\"\\nError: Blaster couldn't be loaded, something happened\")"
   ]
  },
  {
   "cell_type": "code",
   "execution_count": 3,
   "metadata": {},
   "outputs": [
    {
     "name": "stdout",
     "output_type": "stream",
     "text": [
      "\n",
      "\n",
      "Building a new DB, current time: 04/01/2024 16:16:05\n",
      "New DB name:   /home/rfpacheco/Desktop/Projects/Testing_Leishmania_project/Data/genome/TriTrypDB-67_LinfantumJPCM5_Genome.fasta\n",
      "New DB title:  ../Data/genome/TriTrypDB-67_LinfantumJPCM5_Genome.fasta\n",
      "Sequence type: Nucleotide\n",
      "Keep MBits: T\n",
      "Maximum file size: 1000000000B\n",
      "Adding sequences from FASTA; added 36 sequences in 0.593186 seconds.\n",
      "\n",
      "\n",
      "\n",
      "Blast Dictionary created in ../Data/genome/TriTrypDB-67_LinfantumJPCM5_Genome.fasta\n"
     ]
    }
   ],
   "source": [
    "blastn_dic(\"../Data/genome/TriTrypDB-67_LinfantumJPCM5_Genome.fasta\")"
   ]
  },
  {
   "cell_type": "code",
   "execution_count": 8,
   "metadata": {},
   "outputs": [
    {
     "name": "stdout",
     "output_type": "stream",
     "text": [
      "BLASTn searcher initiated\n",
      "\n",
      "Blaster successful ./Fasta_compare_1/output.csv created.\n"
     ]
    }
   ],
   "source": [
    "# Let's Anlayze the L_infantum SIDER2 from cromosome 1 Positive Data\n",
    "blastn_blaster(\n",
    "    \"./Fasta_compare_1/RUN20_LinJ.01.fasta\",\n",
    "    \"./Fasta_compare_1/SIDER2_Chr1_L_Infantum.fasta\",\n",
    "    \"./Fasta_compare_1/output.csv\",\n",
    "    95\n",
    ")"
   ]
  }
 ],
 "metadata": {
  "kernelspec": {
   "display_name": "Python 3",
   "language": "python",
   "name": "python3"
  },
  "language_info": {
   "codemirror_mode": {
    "name": "ipython",
    "version": 3
   },
   "file_extension": ".py",
   "mimetype": "text/x-python",
   "name": "python",
   "nbconvert_exporter": "python",
   "pygments_lexer": "ipython3",
   "version": "3.10.12"
  }
 },
 "nbformat": 4,
 "nbformat_minor": 2
}
