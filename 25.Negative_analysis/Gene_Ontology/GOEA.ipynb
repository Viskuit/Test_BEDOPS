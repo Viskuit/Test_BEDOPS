{
 "cells": [
  {
   "cell_type": "markdown",
   "metadata": {},
   "source": [
    "Author: Ronny F. Pacheco Date: Sep 2024\n",
    "Copyright: © 2024 Ronny Pacheco License: MIT License\n",
    "\n",
    "---\n",
    "\n",
    "MIT License\n",
    "\n",
    "Copyright (c) 2024 Ronny Pacheco\n",
    "\n",
    "Permission is hereby granted, free of charge, to any person obtaining a copy of this software and associated documentation files (the \"Software\"), to deal in the Software without restriction, including without limitation the rights to use, copy, modify, merge, publish, distribute, sublicense, and/or sell copies of the Software, and to permit persons to whom the Software is furnished to do so, subject to the following conditions:\n",
    "\n",
    "The above copyright notice and this permission notice shall be included in all copies or substantial portions of the Software.\n",
    "\n",
    "THE SOFTWARE IS PROVIDED \"AS IS\", WITHOUT WARRANTY OF ANY KIND, EXPRESS OR IMPLIED, INCLUDING BUT NOT LIMITED TO THE WARRANTIES OF MERCHANTABILITY, FITNESS FOR A PARTICULAR PURPOSE AND NONINFRINGEMENT. IN NO EVENT SHALL THE AUTHORS OR COPYRIGHT HOLDERS BE LIABLE FOR ANY CLAIM, DAMAGES OR OTHER LIABILITY, WHETHER IN AN ACTION OF CONTRACT, TORT OR OTHERWISE, ARISING FROM, OUT OF OR IN CONNECTION WITH THE SOFTWARE OR THE USE OR OTHER DEALINGS IN THE SOFTWARE."
   ]
  },
  {
   "cell_type": "markdown",
   "metadata": {},
   "source": [
    "# Needed modules"
   ]
  },
  {
   "cell_type": "code",
   "metadata": {
    "ExecuteTime": {
     "end_time": "2024-09-25T13:10:01.701889Z",
     "start_time": "2024-09-25T13:10:01.356931Z"
    }
   },
   "source": [
    "# Load the needed libraries\n",
    "import pickle\n",
    "import os\n",
    "import pandas as pd "
   ],
   "outputs": [],
   "execution_count": 2
  },
  {
   "cell_type": "code",
   "metadata": {
    "ExecuteTime": {
     "end_time": "2024-09-25T13:10:03.170711Z",
     "start_time": "2024-09-25T13:10:03.166164Z"
    }
   },
   "source": [
    "# https://kioku-space.com/en/jupyter-skip-execution/\n",
    "from IPython.core.magic import register_cell_magic # type: ignore\n",
    "\n",
    "@register_cell_magic\n",
    "def skip(line, cell):\n",
    "    print(\"Cell skipped\")\n",
    "    if line and cell:\n",
    "        pass\n",
    "    return"
   ],
   "outputs": [],
   "execution_count": 3
  },
  {
   "cell_type": "markdown",
   "metadata": {},
   "source": [
    "# Picke save"
   ]
  },
  {
   "cell_type": "code",
   "execution_count": 16,
   "metadata": {
    "ExecuteTime": {
     "end_time": "2024-09-25T12:39:56.928437Z",
     "start_time": "2024-09-25T12:39:56.921112Z"
    }
   },
   "outputs": [
    {
     "name": "stdout",
     "output_type": "stream",
     "text": [
      "Cell skipped\n"
     ]
    }
   ],
   "source": [
    "%%skip\n",
    "# =============================================================================\n",
    "# main function\n",
    "# =============================================================================\n",
    "def data_save_load(option):\n",
    "    \"\"\"\n",
    "    This function is used to save or load data for the Jupyter notebook.\n",
    "    \n",
    "    Parameters:\n",
    "    option (str): Either 'save' or 'load' to save or load variables.\n",
    "    \n",
    "    Returns:\n",
    "    dict: Dictionary of loaded variables (only when option is 'load').\n",
    "    \"\"\"\n",
    "    path_folder = \"ipynb_db\"  # Folder to save variables\n",
    "    os.makedirs(path_folder, exist_ok=True)  # Create folder if not exist\n",
    "    path_file = os.path.join(path_folder, \"variables.pkl\") # Path to save the variables\n",
    "\n",
    "    if option == \"save\":\n",
    "        with open(path_file, \"wb\") as file:\n",
    "            variables_dict = {}  # Dictionary to save the variables\n",
    "            pickle.dump(variables_dict, file)\n",
    "    elif option == \"load\":\n",
    "        with open(path_file, \"rb\") as file:\n",
    "            variables = pickle.load(file)\n",
    "        # Now load the variables\n",
    "        for var_key, var_value in variables.items():\n",
    "            variables[var_key] = var_value\n",
    "\n",
    "# =============================================================================\n",
    "# Call the function\n",
    "# =============================================================================\n",
    "data_save_load(option=\"save\")"
   ]
  },
  {
   "cell_type": "markdown",
   "metadata": {},
   "source": [
    "# 1. Prepare Data"
   ]
  },
  {
   "cell_type": "markdown",
   "metadata": {},
   "source": [
    "## 1.1 Download *.GAF* files"
   ]
  },
  {
   "cell_type": "markdown",
   "metadata": {},
   "source": [
    "If we got to [TriTrypDB downloads](https://tritrypdb.org/tritrypdb/app/downloads) we can get the the Gene Ontology file (GO) in **gaf** format. We find two version: Curated and not curated\n",
    "\n",
    "* https://tritrypdb.org/common/downloads/release-68/LinfantumJPCM5/gaf/TriTrypDB-68_LinfantumJPCM5_Curated_GO.gaf.gz ==> size: 97,015\n",
    "\n",
    "* https://tritrypdb.org/common/downloads/release-68/LinfantumJPCM5/gaf/TriTrypDB-68_LinfantumJPCM5_GO.gaf.gz ==> size: 209,077"
   ]
  },
  {
   "cell_type": "code",
   "execution_count": 4,
   "metadata": {},
   "outputs": [],
   "source": [
    "%%skip\n",
    "# Let's download the Curated FAG file into the \"./data\" folder\n",
    "!wget -P ./data/ https://tritrypdb.org/common/downloads/release-68/LinfantumJPCM5/gaf/TriTrypDB-68_LinfantumJPCM5_Curated_GO.gaf.gz"
   ]
  },
  {
   "cell_type": "code",
   "execution_count": 5,
   "metadata": {},
   "outputs": [],
   "source": [
    "%%skip\n",
    "# let's unzip the file\n",
    "!gunzip -c ./data/TriTrypDB-68_LinfantumJPCM5_Curated_GO.gaf.gz > ./data/TriTrypDB-68_LinfantumJPCM5_Curated_GO.gaf"
   ]
  },
  {
   "cell_type": "code",
   "execution_count": 6,
   "metadata": {},
   "outputs": [],
   "source": [
    "%%skip\n",
    "# Remove the original .gz document\n",
    "!rm ./data/TriTrypDB-68_LinfantumJPCM5_Curated_GO.gaf.gz"
   ]
  },
  {
   "cell_type": "code",
   "execution_count": 7,
   "metadata": {},
   "outputs": [],
   "source": [
    "%%skip\n",
    "# Remove all \"comment\" lines in the GAF file for simpler code parsing. Comment lines start with \"!\"\n",
    "!cat ./data/TriTrypDB-68_LinfantumJPCM5_Curated_GO.gaf | grep -v '^!' > ./data/L_infantum.gaf"
   ]
  },
  {
   "cell_type": "markdown",
   "metadata": {},
   "source": [
    "# 2. Load data"
   ]
  },
  {
   "cell_type": "markdown",
   "metadata": {},
   "source": [
    "## 2.1 _Leishmania infantum_ GO data"
   ]
  },
  {
   "cell_type": "code",
   "metadata": {
    "ExecuteTime": {
     "end_time": "2024-09-25T13:10:11.379879Z",
     "start_time": "2024-09-25T13:10:11.346127Z"
    }
   },
   "source": [
    "# Load gaff data from Leishmania\n",
    "linf_go = pd.read_csv(\"../../24.Gene_ontology/data/L_infantum.gaf\", sep=\"\\t\", header=None)\n",
    "linf_go.columns = [\"DB\", \"DB_Object_ID\", \"DB_Object_Symbol\", \"Qualifier\", \"GO_ID\", \"DB:Reference\", \"Evidence_Code\", \"With_or_From\", \"Aspect\", \"DB_OBject_Name\", \"DB_Object_Synonym\", \"DB_Object_Type\", \"Taxon\", \"Date\", \"Assigned_By\", \"Annotation_Extension\", \"Gene_Product_Form_ID\"]\n",
    "print(linf_go.shape)\n",
    "print(linf_go.dtypes)\n",
    "linf_go.head()"
   ],
   "outputs": [
    {
     "name": "stdout",
     "output_type": "stream",
     "text": [
      "(6051, 17)\n",
      "DB                       object\n",
      "DB_Object_ID             object\n",
      "DB_Object_Symbol         object\n",
      "Qualifier                object\n",
      "GO_ID                    object\n",
      "DB:Reference             object\n",
      "Evidence_Code            object\n",
      "With_or_From             object\n",
      "Aspect                   object\n",
      "DB_OBject_Name           object\n",
      "DB_Object_Synonym        object\n",
      "DB_Object_Type           object\n",
      "Taxon                    object\n",
      "Date                      int64\n",
      "Assigned_By              object\n",
      "Annotation_Extension    float64\n",
      "Gene_Product_Form_ID    float64\n",
      "dtype: object\n"
     ]
    },
    {
     "data": {
      "text/plain": [
       "          DB    DB_Object_ID DB_Object_Symbol Qualifier       GO_ID  \\\n",
       "0  VEuPathDB  LINF_010005100   LINF_010005100       NaN  GO:0005737   \n",
       "1  VEuPathDB  LINF_010005200          KIN13-1       NaN  GO:0007052   \n",
       "2  VEuPathDB  LINF_010005200          KIN13-1       NaN  GO:0051983   \n",
       "3  VEuPathDB  LINF_010005200          KIN13-1       NaN  GO:0000922   \n",
       "4  VEuPathDB  LINF_010005200          KIN13-1       NaN  GO:0005634   \n",
       "\n",
       "     DB:Reference Evidence_Code         With_or_From Aspect  \\\n",
       "0  GO_REF:0000101           ISO  GeneDB:Tb927.9.3670      C   \n",
       "1  GO_REF:0000024           ISO  GeneDB:Tb927.9.3650      P   \n",
       "2  GO_REF:0000024           ISO  GeneDB:Tb927.9.3650      P   \n",
       "3  GO_REF:0000024           ISO  GeneDB:LmjF.01.0030      C   \n",
       "4  GO_REF:0000024           ISO  GeneDB:Tb927.9.3650      C   \n",
       "\n",
       "                                DB_OBject_Name DB_Object_Synonym  \\\n",
       "0  Endonuclease/Exonuclease/phosphatase family               NaN   \n",
       "1                                   Kinesin-13          Kif-13-1   \n",
       "2                                   Kinesin-13          Kif-13-1   \n",
       "3                                   Kinesin-13          Kif-13-1   \n",
       "4                                   Kinesin-13          Kif-13-1   \n",
       "\n",
       "   DB_Object_Type         Taxon      Date Assigned_By  Annotation_Extension  \\\n",
       "0  protein_coding  taxon:435258  20230929      GeneDB                   NaN   \n",
       "1  protein_coding  taxon:435258  20230929      GeneDB                   NaN   \n",
       "2  protein_coding  taxon:435258  20230929      GeneDB                   NaN   \n",
       "3  protein_coding  taxon:435258  20230929      GeneDB                   NaN   \n",
       "4  protein_coding  taxon:435258  20230929      GeneDB                   NaN   \n",
       "\n",
       "   Gene_Product_Form_ID  \n",
       "0                   NaN  \n",
       "1                   NaN  \n",
       "2                   NaN  \n",
       "3                   NaN  \n",
       "4                   NaN  "
      ],
      "text/html": [
       "<div>\n",
       "<style scoped>\n",
       "    .dataframe tbody tr th:only-of-type {\n",
       "        vertical-align: middle;\n",
       "    }\n",
       "\n",
       "    .dataframe tbody tr th {\n",
       "        vertical-align: top;\n",
       "    }\n",
       "\n",
       "    .dataframe thead th {\n",
       "        text-align: right;\n",
       "    }\n",
       "</style>\n",
       "<table border=\"1\" class=\"dataframe\">\n",
       "  <thead>\n",
       "    <tr style=\"text-align: right;\">\n",
       "      <th></th>\n",
       "      <th>DB</th>\n",
       "      <th>DB_Object_ID</th>\n",
       "      <th>DB_Object_Symbol</th>\n",
       "      <th>Qualifier</th>\n",
       "      <th>GO_ID</th>\n",
       "      <th>DB:Reference</th>\n",
       "      <th>Evidence_Code</th>\n",
       "      <th>With_or_From</th>\n",
       "      <th>Aspect</th>\n",
       "      <th>DB_OBject_Name</th>\n",
       "      <th>DB_Object_Synonym</th>\n",
       "      <th>DB_Object_Type</th>\n",
       "      <th>Taxon</th>\n",
       "      <th>Date</th>\n",
       "      <th>Assigned_By</th>\n",
       "      <th>Annotation_Extension</th>\n",
       "      <th>Gene_Product_Form_ID</th>\n",
       "    </tr>\n",
       "  </thead>\n",
       "  <tbody>\n",
       "    <tr>\n",
       "      <th>0</th>\n",
       "      <td>VEuPathDB</td>\n",
       "      <td>LINF_010005100</td>\n",
       "      <td>LINF_010005100</td>\n",
       "      <td>NaN</td>\n",
       "      <td>GO:0005737</td>\n",
       "      <td>GO_REF:0000101</td>\n",
       "      <td>ISO</td>\n",
       "      <td>GeneDB:Tb927.9.3670</td>\n",
       "      <td>C</td>\n",
       "      <td>Endonuclease/Exonuclease/phosphatase family</td>\n",
       "      <td>NaN</td>\n",
       "      <td>protein_coding</td>\n",
       "      <td>taxon:435258</td>\n",
       "      <td>20230929</td>\n",
       "      <td>GeneDB</td>\n",
       "      <td>NaN</td>\n",
       "      <td>NaN</td>\n",
       "    </tr>\n",
       "    <tr>\n",
       "      <th>1</th>\n",
       "      <td>VEuPathDB</td>\n",
       "      <td>LINF_010005200</td>\n",
       "      <td>KIN13-1</td>\n",
       "      <td>NaN</td>\n",
       "      <td>GO:0007052</td>\n",
       "      <td>GO_REF:0000024</td>\n",
       "      <td>ISO</td>\n",
       "      <td>GeneDB:Tb927.9.3650</td>\n",
       "      <td>P</td>\n",
       "      <td>Kinesin-13</td>\n",
       "      <td>Kif-13-1</td>\n",
       "      <td>protein_coding</td>\n",
       "      <td>taxon:435258</td>\n",
       "      <td>20230929</td>\n",
       "      <td>GeneDB</td>\n",
       "      <td>NaN</td>\n",
       "      <td>NaN</td>\n",
       "    </tr>\n",
       "    <tr>\n",
       "      <th>2</th>\n",
       "      <td>VEuPathDB</td>\n",
       "      <td>LINF_010005200</td>\n",
       "      <td>KIN13-1</td>\n",
       "      <td>NaN</td>\n",
       "      <td>GO:0051983</td>\n",
       "      <td>GO_REF:0000024</td>\n",
       "      <td>ISO</td>\n",
       "      <td>GeneDB:Tb927.9.3650</td>\n",
       "      <td>P</td>\n",
       "      <td>Kinesin-13</td>\n",
       "      <td>Kif-13-1</td>\n",
       "      <td>protein_coding</td>\n",
       "      <td>taxon:435258</td>\n",
       "      <td>20230929</td>\n",
       "      <td>GeneDB</td>\n",
       "      <td>NaN</td>\n",
       "      <td>NaN</td>\n",
       "    </tr>\n",
       "    <tr>\n",
       "      <th>3</th>\n",
       "      <td>VEuPathDB</td>\n",
       "      <td>LINF_010005200</td>\n",
       "      <td>KIN13-1</td>\n",
       "      <td>NaN</td>\n",
       "      <td>GO:0000922</td>\n",
       "      <td>GO_REF:0000024</td>\n",
       "      <td>ISO</td>\n",
       "      <td>GeneDB:LmjF.01.0030</td>\n",
       "      <td>C</td>\n",
       "      <td>Kinesin-13</td>\n",
       "      <td>Kif-13-1</td>\n",
       "      <td>protein_coding</td>\n",
       "      <td>taxon:435258</td>\n",
       "      <td>20230929</td>\n",
       "      <td>GeneDB</td>\n",
       "      <td>NaN</td>\n",
       "      <td>NaN</td>\n",
       "    </tr>\n",
       "    <tr>\n",
       "      <th>4</th>\n",
       "      <td>VEuPathDB</td>\n",
       "      <td>LINF_010005200</td>\n",
       "      <td>KIN13-1</td>\n",
       "      <td>NaN</td>\n",
       "      <td>GO:0005634</td>\n",
       "      <td>GO_REF:0000024</td>\n",
       "      <td>ISO</td>\n",
       "      <td>GeneDB:Tb927.9.3650</td>\n",
       "      <td>C</td>\n",
       "      <td>Kinesin-13</td>\n",
       "      <td>Kif-13-1</td>\n",
       "      <td>protein_coding</td>\n",
       "      <td>taxon:435258</td>\n",
       "      <td>20230929</td>\n",
       "      <td>GeneDB</td>\n",
       "      <td>NaN</td>\n",
       "      <td>NaN</td>\n",
       "    </tr>\n",
       "  </tbody>\n",
       "</table>\n",
       "</div>"
      ]
     },
     "execution_count": 4,
     "metadata": {},
     "output_type": "execute_result"
    }
   ],
   "execution_count": 4
  },
  {
   "cell_type": "markdown",
   "metadata": {},
   "source": [
    "## 2.2 _L. infantum_ NEG:GO data from NEGATIVE ELEMENTS"
   ]
  },
  {
   "cell_type": "code",
   "metadata": {
    "ExecuteTime": {
     "end_time": "2024-09-25T13:10:15.993693Z",
     "start_time": "2024-09-25T13:10:15.979016Z"
    }
   },
   "source": [
    "# Load NEG:GO data\n",
    "neg_go = pd.read_csv(\"../data/go_total.csv\", sep=\",\", header=None)\n",
    "neg_go.columns = [\"neg_name\", \"gene_name\"]\n",
    "print(neg_go.shape)\n",
    "print(neg_go.dtypes)\n",
    "neg_go.head()"
   ],
   "outputs": [
    {
     "name": "stdout",
     "output_type": "stream",
     "text": [
      "(698, 2)\n",
      "neg_name     object\n",
      "gene_name    object\n",
      "dtype: object\n"
     ]
    },
    {
     "data": {
      "text/plain": [
       "                 neg_name       gene_name\n",
       "0   rejected_noCDS_c01.10  LINF_010006300\n",
       "1   rejected_noCDS_c01.30  LINF_010010350\n",
       "2  rejected_noCDS_c02.100  LINF_020007000\n",
       "3  rejected_noCDS_c02.110  LINF_020007000\n",
       "4  rejected_noCDS_c02.120  LINF_020007000"
      ],
      "text/html": [
       "<div>\n",
       "<style scoped>\n",
       "    .dataframe tbody tr th:only-of-type {\n",
       "        vertical-align: middle;\n",
       "    }\n",
       "\n",
       "    .dataframe tbody tr th {\n",
       "        vertical-align: top;\n",
       "    }\n",
       "\n",
       "    .dataframe thead th {\n",
       "        text-align: right;\n",
       "    }\n",
       "</style>\n",
       "<table border=\"1\" class=\"dataframe\">\n",
       "  <thead>\n",
       "    <tr style=\"text-align: right;\">\n",
       "      <th></th>\n",
       "      <th>neg_name</th>\n",
       "      <th>gene_name</th>\n",
       "    </tr>\n",
       "  </thead>\n",
       "  <tbody>\n",
       "    <tr>\n",
       "      <th>0</th>\n",
       "      <td>rejected_noCDS_c01.10</td>\n",
       "      <td>LINF_010006300</td>\n",
       "    </tr>\n",
       "    <tr>\n",
       "      <th>1</th>\n",
       "      <td>rejected_noCDS_c01.30</td>\n",
       "      <td>LINF_010010350</td>\n",
       "    </tr>\n",
       "    <tr>\n",
       "      <th>2</th>\n",
       "      <td>rejected_noCDS_c02.100</td>\n",
       "      <td>LINF_020007000</td>\n",
       "    </tr>\n",
       "    <tr>\n",
       "      <th>3</th>\n",
       "      <td>rejected_noCDS_c02.110</td>\n",
       "      <td>LINF_020007000</td>\n",
       "    </tr>\n",
       "    <tr>\n",
       "      <th>4</th>\n",
       "      <td>rejected_noCDS_c02.120</td>\n",
       "      <td>LINF_020007000</td>\n",
       "    </tr>\n",
       "  </tbody>\n",
       "</table>\n",
       "</div>"
      ]
     },
     "execution_count": 5,
     "metadata": {},
     "output_type": "execute_result"
    }
   ],
   "execution_count": 5
  },
  {
   "cell_type": "markdown",
   "metadata": {},
   "source": [
    "# 3. Prepare data"
   ]
  },
  {
   "cell_type": "markdown",
   "metadata": {},
   "source": [
    "Here we'll prepare the data to use with **goatools**"
   ]
  },
  {
   "cell_type": "markdown",
   "metadata": {},
   "source": [
    "## 3.1 Transform _L. infantum_ GO data"
   ]
  },
  {
   "cell_type": "code",
   "metadata": {
    "ExecuteTime": {
     "end_time": "2024-09-25T13:10:21.776765Z",
     "start_time": "2024-09-25T13:10:21.762635Z"
    }
   },
   "source": [
    "# Create the pairs file\n",
    "pairs_df = linf_go[[\"DB_Object_ID\", \"GO_ID\"]].copy()\n",
    "os.makedirs(\"./goatools_data\", exist_ok=True)  # Create path if it doesn't exist.\n",
    "pairs_df.to_csv(\"./goatools_data/pairs.txt\", sep=\"\\t\", index=False, header=False)\n",
    "pairs_df.head()"
   ],
   "outputs": [
    {
     "data": {
      "text/plain": [
       "     DB_Object_ID       GO_ID\n",
       "0  LINF_010005100  GO:0005737\n",
       "1  LINF_010005200  GO:0007052\n",
       "2  LINF_010005200  GO:0051983\n",
       "3  LINF_010005200  GO:0000922\n",
       "4  LINF_010005200  GO:0005634"
      ],
      "text/html": [
       "<div>\n",
       "<style scoped>\n",
       "    .dataframe tbody tr th:only-of-type {\n",
       "        vertical-align: middle;\n",
       "    }\n",
       "\n",
       "    .dataframe tbody tr th {\n",
       "        vertical-align: top;\n",
       "    }\n",
       "\n",
       "    .dataframe thead th {\n",
       "        text-align: right;\n",
       "    }\n",
       "</style>\n",
       "<table border=\"1\" class=\"dataframe\">\n",
       "  <thead>\n",
       "    <tr style=\"text-align: right;\">\n",
       "      <th></th>\n",
       "      <th>DB_Object_ID</th>\n",
       "      <th>GO_ID</th>\n",
       "    </tr>\n",
       "  </thead>\n",
       "  <tbody>\n",
       "    <tr>\n",
       "      <th>0</th>\n",
       "      <td>LINF_010005100</td>\n",
       "      <td>GO:0005737</td>\n",
       "    </tr>\n",
       "    <tr>\n",
       "      <th>1</th>\n",
       "      <td>LINF_010005200</td>\n",
       "      <td>GO:0007052</td>\n",
       "    </tr>\n",
       "    <tr>\n",
       "      <th>2</th>\n",
       "      <td>LINF_010005200</td>\n",
       "      <td>GO:0051983</td>\n",
       "    </tr>\n",
       "    <tr>\n",
       "      <th>3</th>\n",
       "      <td>LINF_010005200</td>\n",
       "      <td>GO:0000922</td>\n",
       "    </tr>\n",
       "    <tr>\n",
       "      <th>4</th>\n",
       "      <td>LINF_010005200</td>\n",
       "      <td>GO:0005634</td>\n",
       "    </tr>\n",
       "  </tbody>\n",
       "</table>\n",
       "</div>"
      ]
     },
     "execution_count": 6,
     "metadata": {},
     "output_type": "execute_result"
    }
   ],
   "execution_count": 6
  },
  {
   "cell_type": "code",
   "metadata": {
    "ExecuteTime": {
     "end_time": "2024-09-25T13:10:26.217166Z",
     "start_time": "2024-09-25T13:10:26.184164Z"
    }
   },
   "source": [
    "# Create the associations file\n",
    "associations_df = pairs_df.copy()\n",
    "print(f\"Association before: {associations_df.shape}\")\n",
    "\n",
    "# For each \"DB_Object_ID\" we will get all the GO_IDs associated with it. Go_IDs shall be separated by a \";\"\n",
    "associations_df = associations_df.groupby(\"DB_Object_ID\")[\"GO_ID\"].apply(list).reset_index()\n",
    "\n",
    "# Let's un-list the GO_IDs and separate them by a \";\"\n",
    "associations_df[\"GO_ID\"] = associations_df[\"GO_ID\"].apply(lambda x: \";\".join(x))\n",
    "print(f\"Association after: {associations_df.shape}\")\n",
    "\n",
    "# Save the associations file\n",
    "associations_df.to_csv(\"./goatools_data/associations\", sep=\"\\t\", index=False, header=False)\n",
    "\n",
    "# Check the associations file\n",
    "associations_df.head()"
   ],
   "outputs": [
    {
     "name": "stdout",
     "output_type": "stream",
     "text": [
      "Association before: (6051, 2)\n",
      "Association after: (2624, 2)\n"
     ]
    },
    {
     "data": {
      "text/plain": [
       "     DB_Object_ID                                              GO_ID\n",
       "0  LINF_010005100                                         GO:0005737\n",
       "1  LINF_010005200  GO:0007052;GO:0051983;GO:0000922;GO:0005634;GO...\n",
       "2  LINF_010005900                   GO:0005737;GO:0031981;GO:0097014\n",
       "3  LINF_010006000        GO:0045454;GO:0055114;GO:0005739;GO:0004362\n",
       "4  LINF_010007100                                         GO:0005930"
      ],
      "text/html": [
       "<div>\n",
       "<style scoped>\n",
       "    .dataframe tbody tr th:only-of-type {\n",
       "        vertical-align: middle;\n",
       "    }\n",
       "\n",
       "    .dataframe tbody tr th {\n",
       "        vertical-align: top;\n",
       "    }\n",
       "\n",
       "    .dataframe thead th {\n",
       "        text-align: right;\n",
       "    }\n",
       "</style>\n",
       "<table border=\"1\" class=\"dataframe\">\n",
       "  <thead>\n",
       "    <tr style=\"text-align: right;\">\n",
       "      <th></th>\n",
       "      <th>DB_Object_ID</th>\n",
       "      <th>GO_ID</th>\n",
       "    </tr>\n",
       "  </thead>\n",
       "  <tbody>\n",
       "    <tr>\n",
       "      <th>0</th>\n",
       "      <td>LINF_010005100</td>\n",
       "      <td>GO:0005737</td>\n",
       "    </tr>\n",
       "    <tr>\n",
       "      <th>1</th>\n",
       "      <td>LINF_010005200</td>\n",
       "      <td>GO:0007052;GO:0051983;GO:0000922;GO:0005634;GO...</td>\n",
       "    </tr>\n",
       "    <tr>\n",
       "      <th>2</th>\n",
       "      <td>LINF_010005900</td>\n",
       "      <td>GO:0005737;GO:0031981;GO:0097014</td>\n",
       "    </tr>\n",
       "    <tr>\n",
       "      <th>3</th>\n",
       "      <td>LINF_010006000</td>\n",
       "      <td>GO:0045454;GO:0055114;GO:0005739;GO:0004362</td>\n",
       "    </tr>\n",
       "    <tr>\n",
       "      <th>4</th>\n",
       "      <td>LINF_010007100</td>\n",
       "      <td>GO:0005930</td>\n",
       "    </tr>\n",
       "  </tbody>\n",
       "</table>\n",
       "</div>"
      ]
     },
     "execution_count": 7,
     "metadata": {},
     "output_type": "execute_result"
    }
   ],
   "execution_count": 7
  },
  {
   "cell_type": "code",
   "metadata": {
    "ExecuteTime": {
     "end_time": "2024-09-25T13:10:28.016531Z",
     "start_time": "2024-09-25T13:10:28.000621Z"
    }
   },
   "source": [
    "# Create the population file (background file)\n",
    "population_df = linf_go[\"DB_Object_ID\"].copy()\n",
    "\n",
    "# Save the population file\n",
    "population_df.to_csv(\"./goatools_data/population\", sep=\"\\t\", index=False, header=False)\n",
    "\n",
    "# Check the population file\n",
    "population_df.head()"
   ],
   "outputs": [
    {
     "data": {
      "text/plain": [
       "0    LINF_010005100\n",
       "1    LINF_010005200\n",
       "2    LINF_010005200\n",
       "3    LINF_010005200\n",
       "4    LINF_010005200\n",
       "Name: DB_Object_ID, dtype: object"
      ]
     },
     "execution_count": 8,
     "metadata": {},
     "output_type": "execute_result"
    }
   ],
   "execution_count": 8
  },
  {
   "cell_type": "code",
   "metadata": {
    "ExecuteTime": {
     "end_time": "2024-09-25T13:10:31.496867Z",
     "start_time": "2024-09-25T13:10:31.491779Z"
    }
   },
   "source": [
    "# Create the study file\n",
    "study_df = neg_go.copy()\n",
    "\n",
    "# Count the number of \"gene_name\" occurrences\n",
    "print(study_df[\"gene_name\"].value_counts())\n",
    "\n",
    "# For the moment let's use everything\n",
    "study_df = study_df[\"gene_name\"].copy()\n",
    "\n",
    "# Drop duplicates\n",
    "study_df = study_df.drop_duplicates()\n",
    "\n",
    "# Save the study file\n",
    "study_df.to_csv(\"./goatools_data/study\", sep=\"\\t\", index=False, header=False)\n",
    "\n",
    "# Check the study file\n",
    "study_df.head()"
   ],
   "outputs": [
    {
     "name": "stdout",
     "output_type": "stream",
     "text": [
      "gene_name\n",
      "LINF_240008300    7\n",
      "LINF_140012400    5\n",
      "LINF_290013800    4\n",
      "LINF_340034500    4\n",
      "LINF_340034400    4\n",
      "                 ..\n",
      "LINF_290014550    1\n",
      "LINF_280032200    1\n",
      "LINF_280010700    1\n",
      "LINF_280008350    1\n",
      "LINF_300019400    1\n",
      "Name: count, Length: 535, dtype: int64\n"
     ]
    },
    {
     "data": {
      "text/plain": [
       "0    LINF_010006300\n",
       "1    LINF_010010350\n",
       "2    LINF_020007000\n",
       "5    LINF_020007950\n",
       "6    LINF_020009400\n",
       "Name: gene_name, dtype: object"
      ]
     },
     "execution_count": 9,
     "metadata": {},
     "output_type": "execute_result"
    }
   ],
   "execution_count": 9
  },
  {
   "cell_type": "code",
   "metadata": {
    "ExecuteTime": {
     "end_time": "2024-09-25T13:12:40.042129Z",
     "start_time": "2024-09-25T13:12:38.600976Z"
    }
   },
   "source": [
    "# %%skip\n",
    "!find_enrichment.py ./goatools_data/study ./goatools_data/population ./goatools_data/associations --obo ./goatools_data/go-basic.obo > ./goatools_data/enrichment_results.txt"
   ],
   "outputs": [
    {
     "name": "stdout",
     "output_type": "stream",
     "text": [
      "\r\n",
      "WARNING: only 0.16074766355140188 fraction of genes/proteins in study are found in the population background.\r\n",
      "\r\n",
      "\r\n",
      "ERROR: only 0.16074766355140188 of genes/proteins in the study are found in the background population. Please check.\r\n",
      "\r\n"
     ]
    }
   ],
   "execution_count": 16
  },
  {
   "cell_type": "markdown",
   "metadata": {},
   "source": [
    "There seems to be a problem since few of our elements found in the original GAF file are found there"
   ]
  },
  {
   "cell_type": "markdown",
   "metadata": {},
   "source": [
    "## 3.2 Get elements only in the associations file first column"
   ]
  },
  {
   "cell_type": "markdown",
   "metadata": {},
   "source": [
    "Since it seems out \"study\" file contains element that the GAFF file don't. Let's create another one with the elements that are there"
   ]
  },
  {
   "cell_type": "code",
   "metadata": {
    "ExecuteTime": {
     "end_time": "2024-09-25T13:10:48.234780Z",
     "start_time": "2024-09-25T13:10:48.226847Z"
    }
   },
   "source": [
    "# From the study_df. Get only the elements that appear in associations_df first column\n",
    "print(f\"Study data before the filtering: {study_df.shape}\")\n",
    "\n",
    "# Filter\n",
    "study_df_filtered = study_df[study_df.isin(associations_df[\"DB_Object_ID\"])]\n",
    "print(f\"Study data after the filtering: {study_df_filtered.shape}\")\n",
    "\n",
    "# Save the filtered study data\n",
    "study_df_filtered.to_csv(\"./goatools_data/study_filtered\", sep=\"\\t\", index=False, header=False)"
   ],
   "outputs": [
    {
     "name": "stdout",
     "output_type": "stream",
     "text": [
      "Study data before the filtering: (535,)\n",
      "Study data after the filtering: (86,)\n"
     ]
    }
   ],
   "execution_count": 12
  },
  {
   "cell_type": "markdown",
   "metadata": {},
   "source": [
    "We can see that we lost a lot of information"
   ]
  },
  {
   "cell_type": "code",
   "metadata": {
    "ExecuteTime": {
     "end_time": "2024-09-25T13:12:49.909647Z",
     "start_time": "2024-09-25T13:12:47.992674Z"
    }
   },
   "source": [
    "# Let's repeat the find_enrichment.py command\n",
    "!find_enrichment.py ./goatools_data/study_filtered \\\n",
    "    ./goatools_data/population \\\n",
    "    ./goatools_data/associations \\\n",
    "    --obo ./goatools_data/go-basic.obo > ./goatools_data/enrichment_results.txt"
   ],
   "outputs": [],
   "execution_count": 17
  },
  {
   "cell_type": "markdown",
   "metadata": {},
   "source": [
    "# 4. Check enrichment results"
   ]
  },
  {
   "cell_type": "code",
   "metadata": {
    "ExecuteTime": {
     "end_time": "2024-09-25T13:15:07.877625Z",
     "start_time": "2024-09-25T13:15:07.848402Z"
    }
   },
   "source": [
    "results_df = pd.read_csv(\"./goatools_data/enrichment_results_short.txt\", sep=\"\\t\", header=0)\n",
    "results_df.head()\n",
    "\n",
    "# Save the results in an excel file\n",
    "results_for_excel = results_df[[\"GO\", \"NS\", \"name\", \"study_items\"]]\n",
    "results_for_excel.to_excel(\"./goatools_data/enrichment_results.xlsx\", index=False)"
   ],
   "outputs": [],
   "execution_count": 19
  },
  {
   "metadata": {
    "ExecuteTime": {
     "end_time": "2024-09-25T13:21:12.737254Z",
     "start_time": "2024-09-25T13:21:12.732263Z"
    }
   },
   "cell_type": "code",
   "source": [
    "# Create img path\n",
    "os.makedirs(\"./goatools_data/img\", exist_ok=True)"
   ],
   "outputs": [],
   "execution_count": 20
  },
  {
   "metadata": {
    "ExecuteTime": {
     "end_time": "2024-09-25T13:22:55.116777Z",
     "start_time": "2024-09-25T13:22:54.874493Z"
    }
   },
   "cell_type": "code",
   "source": "!pwd",
   "outputs": [
    {
     "name": "stdout",
     "output_type": "stream",
     "text": [
      "/home/viskuit/Documents/Work_CBMSO/Leish_Data_Analysis/25.Negative_analysis/Gene_Ontology\r\n"
     ]
    }
   ],
   "execution_count": 22
  },
  {
   "metadata": {},
   "cell_type": "markdown",
   "source": "## Let's prepare the plots"
  },
  {
   "metadata": {
    "ExecuteTime": {
     "end_time": "2024-09-25T13:23:46.685602Z",
     "start_time": "2024-09-25T13:23:46.438821Z"
    }
   },
   "cell_type": "code",
   "source": "!cat ./goatools_data/enrichment_results_short.txt | grep GO: | grep BP | cut -f 1 > ./goatools_data/img/biological_process.txt",
   "outputs": [],
   "execution_count": 24
  },
  {
   "metadata": {
    "ExecuteTime": {
     "end_time": "2024-09-25T13:25:45.317915Z",
     "start_time": "2024-09-25T13:25:45.075421Z"
    }
   },
   "cell_type": "code",
   "source": "!cat ./goatools_data/enrichment_results_short.txt | grep GO: | grep CC | cut -f 1 > ./goatools_data/img/celular_component.txt",
   "outputs": [],
   "execution_count": 26
  },
  {
   "metadata": {
    "ExecuteTime": {
     "end_time": "2024-09-25T13:26:03.441102Z",
     "start_time": "2024-09-25T13:26:03.198570Z"
    }
   },
   "cell_type": "code",
   "source": "!cat ./goatools_data/enrichment_results_short.txt | grep GO: | grep MF | cut -f 1 > ./goatools_data/img/molecular_function.txt",
   "outputs": [],
   "execution_count": 27
  },
  {
   "metadata": {},
   "cell_type": "markdown",
   "source": "Let's plot them"
  },
  {
   "metadata": {
    "ExecuteTime": {
     "end_time": "2024-09-25T13:29:45.275312Z",
     "start_time": "2024-09-25T13:29:42.860053Z"
    }
   },
   "cell_type": "code",
   "source": "!go_plot.py --obo ./goatools_data/go-basic.obo --go_file ./goatools_data/img/biological_process.txt -o ./goatools_data/img/biological_process.png",
   "outputs": [
    {
     "name": "stdout",
     "output_type": "stream",
     "text": [
      "./goatools_data/go-basic.obo: fmt(1.2) rel(2024-06-17) 45,494 Terms\r\n",
      " GoSubDag:  50 sources in 138 GOs rcnt(True). 0 alt GO IDs\r\n",
      " GoSubDag: namedtuple fields: NS level depth GO alt GO_name dcnt D1 id\r\n",
      " GoSubDag: relationships: set()\r\n",
      "        GO:0008150  # BP 26993 L00 D00       biological_process\r\n",
      "#f1fbfd GO:0051179  # BP  1954 L01 D01 D     localization\r\n",
      "#ffffe4 GO:0009987  # BP  9361 L01 D01 B     cellular process\r\n",
      "#f1fbfd GO:0050896  # BP  1892 L01 D01 E     response to stimulus\r\n",
      "#f1fbfd GO:0008152  # BP  5768 L01 D01 C     metabolic process\r\n",
      "#f1fbfd GO:0042592  # BP   196 L01 D01 F     homeostatic process\r\n",
      "#f1fbfd GO:0065007  # BP 10908 L01 D01 A     biological regulation\r\n",
      "        GO:0051234  # BP  1534 L02 D02 D     establishment of localization\r\n",
      "        GO:0009628  # BP   248 L02 D02 E     response to abiotic stimulus\r\n",
      "        GO:0051716  # BP   678 L02 D02 BE    cellular response to stimulus\r\n",
      "        GO:1901564  # BP  2346 L02 D02 C     organonitrogen compound metabolic process\r\n",
      "        GO:0044238  # BP  3569 L02 D02 C     primary metabolic process\r\n",
      "#ffffe4 GO:0044281  # BP  2212 L02 D02 C     small molecule metabolic process\r\n",
      "#ffffe4 GO:0044237  # BP  3077 L02 D02 BC    cellular metabolic process\r\n",
      "#ffffe4 GO:0009058  # BP  1719 L02 D02 C     biosynthetic process\r\n",
      "        GO:0009056  # BP  1283 L02 D02 C     catabolic process\r\n",
      "        GO:0043603  # BP   267 L02 D02 C     amide metabolic process\r\n",
      "        GO:0048878  # BP   128 L02 D02 F     chemical homeostasis\r\n",
      "        GO:0019725  # BP   105 L02 D02 F     cellular homeostasis\r\n",
      "        GO:0050789  # BP 10111 L02 D02 A     regulation of biological process\r\n",
      "        GO:0065008  # BP   966 L02 D02 A     regulation of biological quality\r\n",
      "        GO:0043170  # BP  1841 L02 D02 C     macromolecule metabolic process\r\n",
      "        GO:0006810  # BP  1441 L03 D03 D     transport\r\n",
      "        GO:0104004  # BP    57 L03 D03 BE    cellular response to environmental stimulus\r\n",
      "#ffffe4 GO:0009268  # BP    10 L03 D03 E     response to pH\r\n",
      "        GO:0072524  # BP    93 L03 D03 C     pyridine-containing compound metabolic process\r\n",
      "        GO:0006139  # BP  1309 L03 D03 C     nucleobase-containing compound metabolic process\r\n",
      "#ffffe4 GO:0006793  # BP   805 L03 D03 BC    phosphorus metabolic process\r\n",
      "        GO:1901566  # BP   634 L03 D03 C     organonitrogen compound biosynthetic process\r\n",
      "#ffffe4 GO:0006629  # BP   729 L03 D03 C     lipid metabolic process\r\n",
      "        GO:0044248  # BP   596 L03 D03 BC    cellular catabolic process\r\n",
      "        GO:1901565  # BP   504 L03 D03 C     organonitrogen compound catabolic process\r\n",
      "        GO:0050801  # BP    76 L03 D03 F     monoatomic ion homeostasis\r\n",
      "        GO:0055082  # BP    92 L03 D03 F     intracellular chemical homeostasis\r\n",
      "        GO:0098771  # BP    56 L03 D03 F     inorganic ion homeostasis\r\n",
      "        GO:0019222  # BP  2776 L03 D03 A     regulation of metabolic process\r\n",
      "        GO:0050794  # BP  7272 L03 D03 A     regulation of cellular process\r\n",
      "#ffffe4 GO:0044283  # BP   521 L03 D03 C     small molecule biosynthetic process\r\n",
      "        GO:0048583  # BP  1786 L03 D03 A     regulation of response to stimulus\r\n",
      "        GO:0072521  # BP   306 L03 D03 C     purine-containing compound metabolic process\r\n",
      "        GO:0043412  # BP   686 L03 D03 C     macromolecule modification\r\n",
      "        GO:0019538  # BP   767 L03 D03 C     protein metabolic process\r\n",
      "#ffffe4 GO:0055085  # BP   471 L02 D04 BD    transmembrane transport\r\n",
      "#ffffe4 GO:1901264  # BP    89 L04 D04 D     carbohydrate derivative transport\r\n",
      "#ffffe4 GO:0015711  # BP   320 L04 D04 D     organic anion transport\r\n",
      "        GO:0071214  # BP    56 L03 D04 BE    cellular response to abiotic stimulus\r\n",
      "        GO:0055086  # BP   646 L03 D04 C     nucleobase-containing small molecule metabolic process\r\n",
      "        GO:0019637  # BP   695 L04 D04 BC    organophosphate metabolic process\r\n",
      "#ffffe4 GO:0006796  # BP   742 L04 D04 BC    phosphate-containing compound metabolic process\r\n",
      "        GO:0034654  # BP   334 L03 D04 C     nucleobase-containing compound biosynthetic process\r\n",
      "#ffffe4 GO:0072525  # BP    31 L04 D04 C     pyridine-containing compound biosynthetic process\r\n",
      "#ffffe4 GO:0071705  # BP   596 L04 D04 D     nitrogen compound transport\r\n",
      "#ffffe4 GO:0008643  # BP    86 L04 D04 D     carbohydrate transport\r\n",
      "#ffffe4 GO:0044255  # BP   567 L03 D04 BC    cellular lipid metabolic process\r\n",
      "        GO:0016042  # BP   170 L03 D04 C     lipid catabolic process\r\n",
      "        GO:0055080  # BP    70 L04 D04 F     monoatomic cation homeostasis\r\n",
      "        GO:0006873  # BP    62 L04 D04 F     intracellular monoatomic ion homeostasis\r\n",
      "        GO:0060255  # BP  1644 L04 D04 A     regulation of macromolecule metabolic process\r\n",
      "        GO:0080090  # BP  1684 L04 D04 A     regulation of primary metabolic process\r\n",
      "        GO:0009889  # BP  1532 L04 D04 A     regulation of biosynthetic process\r\n",
      "        GO:0031323  # BP  1914 L04 D04 A     regulation of cellular metabolic process\r\n",
      "#ffffe4 GO:0008610  # BP   276 L03 D04 C     lipid biosynthetic process\r\n",
      "        GO:0015849  # BP   259 L04 D04 D     organic acid transport\r\n",
      "        GO:0006865  # BP   135 L04 D04 D     amino acid transport\r\n",
      "        GO:0015695  # BP   119 L04 D04 D     organic cation transport\r\n",
      "#ffffe4 GO:0010447  # BP     2 L04 D04 E     response to acidic pH\r\n",
      "        GO:0080134  # BP   603 L04 D04 A     regulation of response to stress\r\n",
      "#ffffe4 GO:0090304  # BP   653 L03 D04 C     nucleic acid metabolic process\r\n",
      "        GO:0072522  # BP   114 L04 D04 C     purine-containing compound biosynthetic process\r\n",
      "        GO:0036211  # BP   570 L04 D04 C     protein modification process\r\n",
      "#ffffe4 GO:0071467  # BP     4 L04 D05 BE    cellular response to pH\r\n",
      "        GO:0006753  # BP   444 L04 D05 BC    nucleoside phosphate metabolic process\r\n",
      "        GO:0090407  # BP   270 L03 D05 BC    organophosphate biosynthetic process\r\n",
      "#ffffe4 GO:0015931  # BP    99 L05 D05 D     nucleobase-containing compound transport\r\n",
      "#ffffe4 GO:0034219  # BP    46 L03 D05 BD    carbohydrate transmembrane transport\r\n",
      "        GO:0006643  # BP    92 L04 D05 BC    membrane lipid metabolic process\r\n",
      "        GO:0044242  # BP   127 L04 D05 BC    cellular lipid catabolic process\r\n",
      "#ffffe4 GO:0006644  # BP   123 L04 D05 BC    phospholipid metabolic process\r\n",
      "        GO:0030003  # BP    59 L05 D05 F     intracellular monoatomic cation homeostasis\r\n",
      "        GO:0055074  # BP    16 L04 D05 F     calcium ion homeostasis\r\n",
      "        GO:0051246  # BP   548 L05 D05 A     regulation of protein metabolic process\r\n",
      "        GO:0031326  # BP  1316 L05 D05 A     regulation of cellular biosynthetic process\r\n",
      "#ffffe4 GO:0006885  # BP    21 L02 D05 AF    regulation of pH\r\n",
      "        GO:1903825  # BP   146 L03 D05 BD    organic acid transmembrane transport\r\n",
      "        GO:0046942  # BP   255 L05 D05 D     carboxylic acid transport\r\n",
      "        GO:0003333  # BP    86 L03 D05 BD    amino acid transmembrane transport\r\n",
      "        GO:0015802  # BP    12 L05 D05 D     basic amino acid transport\r\n",
      "        GO:0051174  # BP   315 L05 D05 A     regulation of phosphorus metabolic process\r\n",
      "#ffffe4 GO:0080135  # BP   172 L04 D05 A     regulation of cellular response to stress\r\n",
      "        GO:0046434  # BP   165 L03 D05 BC    organophosphate catabolic process\r\n",
      "        GO:0016310  # BP    36 L05 D05 BC    phosphorylation\r\n",
      "        GO:0009117  # BP   348 L05 D06 BC    nucleotide metabolic process\r\n",
      "        GO:1901293  # BP   165 L04 D06 BC    nucleoside phosphate biosynthetic process\r\n",
      "#ffffe4 GO:0015780  # BP    16 L03 D06 BD    nucleotide-sugar transmembrane transport\r\n",
      "#ffffe4 GO:0015749  # BP    24 L04 D06 BD    monosaccharide transmembrane transport\r\n",
      "        GO:0006665  # BP    57 L03 D06 BC    sphingolipid metabolic process\r\n",
      "#ffffe4 GO:0046466  # BP    15 L05 D06 BC    membrane lipid catabolic process\r\n",
      "#ffffe4 GO:0006874  # BP    15 L05 D06 F     intracellular calcium ion homeostasis\r\n",
      "        GO:0010556  # BP   982 L05 D06 A     regulation of macromolecule biosynthetic process\r\n",
      "#ffffe4 GO:0030641  # BP    18 L03 D06 AF    regulation of cellular pH\r\n",
      "        GO:1905039  # BP   143 L04 D06 BD    carboxylic acid transmembrane transport\r\n",
      "        GO:0015807  # BP    70 L05 D06 D     L-amino acid transport\r\n",
      "#ffffe4 GO:1990822  # BP     8 L04 D06 BD    basic amino acid transmembrane transport\r\n",
      "        GO:0031399  # BP   227 L06 D06 A     regulation of protein modification process\r\n",
      "        GO:0019220  # BP   298 L06 D06 A     regulation of phosphate metabolic process\r\n",
      "        GO:0009395  # BP    17 L04 D06 BC    phospholipid catabolic process\r\n",
      "#ffffe4 GO:0071468  # BP     1 L05 D06 BE    cellular response to acidic pH\r\n",
      "        GO:0006468  # BP    27 L05 D06 BC    protein phosphorylation\r\n",
      "        GO:0019362  # BP    46 L04 D07 BC    pyridine nucleotide metabolic process\r\n",
      "        GO:0009165  # BP   133 L05 D07 BC    nucleotide biosynthetic process\r\n",
      "#ffffe4 GO:0030149  # BP    11 L04 D07 BC    sphingolipid catabolic process\r\n",
      "#ffffe4 GO:0006684  # BP     2 L03 D07 BC    sphingomyelin metabolic process\r\n",
      "        GO:0010468  # BP   831 L06 D07 A     regulation of gene expression\r\n",
      "#ffffe4 GO:0051453  # BP    17 L03 D07 AF    regulation of intracellular pH\r\n",
      "#ffffe4 GO:0090481  # BP    10 L04 D07 BD    pyrimidine nucleotide-sugar transmembrane transport\r\n",
      "#ffffe4 GO:1902475  # BP    54 L04 D07 BD    L-alpha-amino acid transmembrane transport\r\n",
      "#ffffe4 GO:0008645  # BP    16 L05 D07 BD    hexose transmembrane transport\r\n",
      "        GO:0042325  # BP   115 L07 D07 A     regulation of phosphorylation\r\n",
      "        GO:0006163  # BP   207 L04 D07 BC    purine nucleotide metabolic process\r\n",
      "#ffffe4 GO:0019363  # BP    13 L05 D08 BC    pyridine nucleotide biosynthetic process\r\n",
      "        GO:0046496  # BP    38 L05 D08 BC    nicotinamide nucleotide metabolic process\r\n",
      "        GO:0010608  # BP   169 L07 D08 A     post-transcriptional regulation of gene expression\r\n",
      "#ffffe4 GO:0051452  # BP     8 L04 D08 AF    intracellular pH reduction\r\n",
      "#ffffe4 GO:0072334  # BP     1 L05 D08 BD    UDP-galactose transmembrane transport\r\n",
      "#ffffe4 GO:1903826  # BP     1 L05 D08 BD    L-arginine transmembrane transport\r\n",
      "#ffffe4 GO:1904659  # BP     4 L06 D08 BD    glucose transmembrane transport\r\n",
      "        GO:0001932  # BP    92 L07 D08 A     regulation of protein phosphorylation\r\n",
      "        GO:0006164  # BP    74 L05 D08 BC    purine nucleotide biosynthetic process\r\n",
      "#ffffe4 GO:0006685  # BP     0 L04 D08 BC    sphingomyelin catabolic process\r\n",
      "#ffffe4 GO:0019359  # BP     8 L06 D09 BC    nicotinamide nucleotide biosynthetic process\r\n",
      "        GO:0006417  # BP   118 L06 D09 A     regulation of translation\r\n",
      "        GO:0019674  # BP    13 L05 D09 BC    NAD metabolic process\r\n",
      "#ffffe4 GO:0043555  # BP    30 L07 D10 A     regulation of translation in response to stress\r\n",
      "        GO:0006446  # BP    47 L07 D10 A     regulation of translational initiation\r\n",
      "#ffffe4 GO:0009435  # BP     5 L06 D10 BC    NAD biosynthetic process\r\n",
      "#ffffe4 GO:0010999  # BP     0 L05 D11 A     regulation of eIF2 alpha phosphorylation by heme\r\n",
      "#ffffe4 GO:0043558  # BP    16 L08 D11 A     regulation of translational initiation in response to stress\r\n",
      "#ffffe4 GO:0010998  # BP     1 L06 D12 ABC   regulation of translational initiation by eIF2 alpha phosphorylation\r\n",
      "   50 usr 138 GOs  WROTE: ./goatools_data/img/biological_process.png\r\n"
     ]
    }
   ],
   "execution_count": 30
  },
  {
   "metadata": {
    "ExecuteTime": {
     "end_time": "2024-09-25T13:29:48.225510Z",
     "start_time": "2024-09-25T13:29:47.046192Z"
    }
   },
   "cell_type": "code",
   "source": "!go_plot.py --obo ./goatools_data/go-basic.obo --go_file ./goatools_data/img/celular_component.txt -o ./goatools_data/img/celular_component.png",
   "outputs": [
    {
     "name": "stdout",
     "output_type": "stream",
     "text": [
      "./goatools_data/go-basic.obo: fmt(1.2) rel(2024-06-17) 45,494 Terms\r\n",
      " GoSubDag:   6 sources in  14 GOs rcnt(True). 0 alt GO IDs\r\n",
      " GoSubDag: namedtuple fields: NS level depth GO alt GO_name dcnt D1 id\r\n",
      " GoSubDag: relationships: set()\r\n",
      "        GO:0005575  # CC  4047 L00 D00       cellular_component\r\n",
      "#ffffe4 GO:0032991  # CC  2110 L01 D01 A     protein-containing complex\r\n",
      "#f1fbfd GO:0110165  # CC  1884 L01 D01 B     cellular anatomical entity\r\n",
      "        GO:0043226  # CC   405 L02 D02 B     organelle\r\n",
      "#ffffe4 GO:0016020  # CC   215 L02 D02 B     membrane\r\n",
      "#ffffe4 GO:0005930  # CC     0 L02 D02 B     axoneme\r\n",
      "        GO:0043229  # CC   355 L03 D03 B     intracellular organelle\r\n",
      "        GO:0043227  # CC   242 L03 D03 B     membrane-bounded organelle\r\n",
      "        GO:0031090  # CC   141 L03 D03 B     organelle membrane\r\n",
      "        GO:0043231  # CC   208 L04 D04 B     intracellular membrane-bounded organelle\r\n",
      "        GO:0098588  # CC    99 L04 D04 B     bounding membrane of organelle\r\n",
      "#ffffe4 GO:1990578  # CC     0 L04 D04 B     perinuclear endoplasmic reticulum membrane\r\n",
      "#ffffe4 GO:0005783  # CC     5 L05 D05 B     endoplasmic reticulum\r\n",
      "#ffffe4 GO:0000139  # CC     0 L05 D05 B     Golgi membrane\r\n",
      "    6 usr  14 GOs  WROTE: ./goatools_data/img/celular_component.png\r\n"
     ]
    }
   ],
   "execution_count": 31
  },
  {
   "metadata": {
    "ExecuteTime": {
     "end_time": "2024-09-25T13:29:51.587830Z",
     "start_time": "2024-09-25T13:29:50.207040Z"
    }
   },
   "cell_type": "code",
   "source": "!go_plot.py --obo ./goatools_data/go-basic.obo --go_file ./goatools_data/img/molecular_function.txt -o ./goatools_data/img/molecular_function.png",
   "outputs": [
    {
     "name": "stdout",
     "output_type": "stream",
     "text": [
      "./goatools_data/go-basic.obo: fmt(1.2) rel(2024-06-17) 45,494 Terms\r\n",
      " GoSubDag:  40 sources in  63 GOs rcnt(True). 0 alt GO IDs\r\n",
      " GoSubDag: namedtuple fields: NS level depth GO alt GO_name dcnt D1 id\r\n",
      " GoSubDag: relationships: set()\r\n",
      "#ffffe4 GO:0003674  # MF 11050 L00 D00       molecular_function\r\n",
      "#ffffe4 GO:0003824  # MF  7399 L01 D01 A     catalytic activity\r\n",
      "#ffffe4 GO:0005215  # MF  1075 L01 D01 C     transporter activity\r\n",
      "#f1fbfd GO:0005488  # MF  1819 L01 D01 B     binding\r\n",
      "#ffffe4 GO:0016787  # MF  1434 L02 D02 A     hydrolase activity\r\n",
      "#ffffe4 GO:0022857  # MF  1024 L02 D02 C     transmembrane transporter activity\r\n",
      "        GO:0140096  # MF   612 L02 D02 A     catalytic activity, acting on a protein\r\n",
      "#ffffe4 GO:0016740  # MF  2491 L02 D02 A     transferase activity\r\n",
      "        GO:0016829  # MF   614 L02 D02 A     lyase activity\r\n",
      "        GO:0016491  # MF  2230 L02 D02 A     oxidoreductase activity\r\n",
      "        GO:0005515  # MF   919 L02 D02 B     protein binding\r\n",
      "#ffffe4 GO:1901505  # MF    93 L03 D03 C     carbohydrate derivative transmembrane transporter activity\r\n",
      "#ffffe4 GO:0015932  # MF    63 L03 D03 C     nucleobase-containing compound transmembrane transporter activity\r\n",
      "        GO:0016772  # MF   604 L03 D03 A     transferase activity, transferring phosphorus-containing groups\r\n",
      "#ffffe4 GO:0015144  # MF   132 L03 D03 C     carbohydrate transmembrane transporter activity\r\n",
      "        GO:0016788  # MF   532 L03 D03 A     hydrolase activity, acting on ester bonds\r\n",
      "        GO:0016830  # MF   212 L03 D03 A     carbon-carbon lyase activity\r\n",
      "#ffffe4 GO:0016661  # MF    47 L03 D03 A     oxidoreductase activity, acting on other nitrogenous compounds as donors\r\n",
      "#ffffe4 GO:0016810  # MF   300 L03 D03 A     hydrolase activity, acting on carbon-nitrogen (but not peptide) bonds\r\n",
      "#ffffe4 GO:0071889  # MF     0 L03 D03 B     14-3-3 protein binding\r\n",
      "        GO:0008233  # MF    82 L03 D03 A     peptidase activity\r\n",
      "        GO:0016765  # MF   106 L03 D03 A     transferase activity, transferring alkyl or aryl (other than methyl) groups\r\n",
      "#ffffe4 GO:0005338  # MF    12 L04 D04 C     nucleotide-sugar transmembrane transporter activity\r\n",
      "        GO:0016301  # MF   356 L04 D04 A     kinase activity\r\n",
      "        GO:0016773  # MF   319 L04 D04 A     phosphotransferase activity, alcohol group as acceptor\r\n",
      "#ffffe4 GO:0051119  # MF    56 L04 D04 C     sugar transmembrane transporter activity\r\n",
      "#ffffe4 GO:0016298  # MF    30 L04 D04 A     lipase activity\r\n",
      "        GO:0016831  # MF   119 L04 D04 A     carboxy-lyase activity\r\n",
      "        GO:0016811  # MF   151 L04 D04 A     hydrolase activity, acting on carbon-nitrogen (but not peptide) bonds, in linear amides\r\n",
      "        GO:0052689  # MF   133 L04 D04 A     carboxylic ester hydrolase activity\r\n",
      "#ffffe4 GO:0008237  # MF    12 L04 D04 A     metallopeptidase activity\r\n",
      "        GO:0016780  # MF    47 L04 D04 A     phosphotransferase activity, for other substituted phosphate groups\r\n",
      "#ffffe4 GO:0046857  # MF    16 L04 D04 A     oxidoreductase activity, acting on other nitrogenous compounds as donors, with NAD or NADP as acceptor\r\n",
      "        GO:0042578  # MF   241 L04 D04 A     phosphoric ester hydrolase activity\r\n",
      "        GO:0004659  # MF    38 L04 D04 A     prenyltransferase activity\r\n",
      "        GO:0004672  # MF   115 L03 D05 A     protein kinase activity\r\n",
      "#ffffe4 GO:0015165  # MF     8 L05 D05 C     pyrimidine nucleotide-sugar transmembrane transporter activity\r\n",
      "#ffffe4 GO:0015145  # MF    55 L05 D05 C     monosaccharide transmembrane transporter activity\r\n",
      "#ffffe4 GO:0004737  # MF     0 L05 D05 A     pyruvate decarboxylase activity\r\n",
      "#ffffe4 GO:0008936  # MF     0 L05 D05 A     nicotinamidase activity\r\n",
      "#ffffe4 GO:0004806  # MF     1 L05 D05 A     triglyceride lipase activity\r\n",
      "#ffffe4 GO:0030572  # MF     3 L05 D05 A     phosphatidyltransferase activity\r\n",
      "        GO:0016791  # MF   174 L05 D05 A     phosphatase activity\r\n",
      "#ffffe4 GO:0003920  # MF     0 L05 D05 A     GMP reductase activity\r\n",
      "        GO:0004620  # MF    24 L05 D05 A     phospholipase activity\r\n",
      "        GO:0008081  # MF    56 L05 D05 A     phosphoric diester hydrolase activity\r\n",
      "#ffffe4 GO:0004161  # MF     0 L05 D05 A     dimethylallyltranstransferase activity\r\n",
      "#ffffe4 GO:0004337  # MF     0 L05 D05 A     geranyltranstransferase activity\r\n",
      "#ffffe4 GO:0004674  # MF    60 L04 D06 A     protein serine/threonine kinase activity\r\n",
      "#ffffe4 GO:0005459  # MF     0 L06 D06 C     UDP-galactose transmembrane transporter activity\r\n",
      "#ffffe4 GO:0015149  # MF    37 L06 D06 C     hexose transmembrane transporter activity\r\n",
      "#ffffe4 GO:0008808  # MF     0 L06 D06 A     cardiolipin synthase activity\r\n",
      "        GO:0042577  # MF     3 L06 D06 A     lipid phosphatase activity\r\n",
      "#ffffe4 GO:0004767  # MF     2 L06 D06 A     sphingomyelin phosphodiesterase activity\r\n",
      "#ffffe4 GO:0004683  # MF     3 L05 D07 A     calmodulin-dependent protein kinase activity\r\n",
      "#ffffe4 GO:0015578  # MF     3 L07 D07 C     mannose transmembrane transporter activity\r\n",
      "#ffffe4 GO:0004694  # MF     0 L05 D07 A     eukaryotic translation initiation factor 2alpha kinase activity\r\n",
      "#ffffe4 GO:0005353  # MF     5 L07 D07 C     fructose transmembrane transporter activity\r\n",
      "#ffffe4 GO:0042392  # MF     0 L07 D07 A     sphingosine-1-phosphate phosphatase activity\r\n",
      "#ffffe4 GO:0055056  # MF    13 L07 D07 C     D-glucose transmembrane transporter activity\r\n",
      "#ffffe4 GO:0005354  # MF     4 L07 D07 C     galactose transmembrane transporter activity\r\n",
      "#ffffe4 GO:0004686  # MF     0 L06 D08 A     elongation factor-2 kinase activity\r\n",
      "#ffffe4 GO:0005355  # MF    11 L08 D08 C     glucose transmembrane transporter activity\r\n",
      "   40 usr  63 GOs  WROTE: ./goatools_data/img/molecular_function.png\r\n"
     ]
    }
   ],
   "execution_count": 32
  }
 ],
 "metadata": {
  "kernelspec": {
   "display_name": "Python 3 (ipykernel)",
   "language": "python",
   "name": "python3"
  },
  "language_info": {
   "codemirror_mode": {
    "name": "ipython",
    "version": 3
   },
   "file_extension": ".py",
   "mimetype": "text/x-python",
   "name": "python",
   "nbconvert_exporter": "python",
   "pygments_lexer": "ipython3",
   "version": "3.12.4"
  },
  "toc": {
   "base_numbering": 1,
   "nav_menu": {},
   "number_sections": true,
   "sideBar": true,
   "skip_h1_title": false,
   "title_cell": "Table of Contents",
   "title_sidebar": "Contents",
   "toc_cell": false,
   "toc_position": {},
   "toc_section_display": true,
   "toc_window_display": false
  }
 },
 "nbformat": 4,
 "nbformat_minor": 2
}
