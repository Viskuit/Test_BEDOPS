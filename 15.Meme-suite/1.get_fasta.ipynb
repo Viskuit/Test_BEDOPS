{
 "cells": [
  {
   "cell_type": "code",
   "execution_count": 5,
   "metadata": {},
   "outputs": [],
   "source": [
    "import pandas as pd\n",
    "\n",
    "from Bio import SeqIO\n",
    "from Bio.SeqRecord import SeqRecord\n",
    "from Bio.Seq import Seq"
   ]
  },
  {
   "cell_type": "code",
   "execution_count": 8,
   "metadata": {},
   "outputs": [
    {
     "name": "stdout",
     "output_type": "stream",
     "text": [
      "(2156, 6)\n",
      "sseqid     object\n",
      "length      int64\n",
      "sstart      int64\n",
      "send        int64\n",
      "sstrand    object\n",
      "sseq       object\n",
      "dtype: object\n"
     ]
    },
    {
     "data": {
      "text/html": [
       "<div>\n",
       "<style scoped>\n",
       "    .dataframe tbody tr th:only-of-type {\n",
       "        vertical-align: middle;\n",
       "    }\n",
       "\n",
       "    .dataframe tbody tr th {\n",
       "        vertical-align: top;\n",
       "    }\n",
       "\n",
       "    .dataframe thead th {\n",
       "        text-align: right;\n",
       "    }\n",
       "</style>\n",
       "<table border=\"1\" class=\"dataframe\">\n",
       "  <thead>\n",
       "    <tr style=\"text-align: right;\">\n",
       "      <th></th>\n",
       "      <th>sseqid</th>\n",
       "      <th>length</th>\n",
       "      <th>sstart</th>\n",
       "      <th>send</th>\n",
       "      <th>sstrand</th>\n",
       "      <th>sseq</th>\n",
       "    </tr>\n",
       "  </thead>\n",
       "  <tbody>\n",
       "    <tr>\n",
       "      <th>0</th>\n",
       "      <td>LinJ.01</td>\n",
       "      <td>1000</td>\n",
       "      <td>1</td>\n",
       "      <td>1000</td>\n",
       "      <td>plus</td>\n",
       "      <td>ACACCAGTACACCAGTACACCAGTACACCAGTACACCAGTACACCA...</td>\n",
       "    </tr>\n",
       "    <tr>\n",
       "      <th>1</th>\n",
       "      <td>LinJ.01</td>\n",
       "      <td>784</td>\n",
       "      <td>24093</td>\n",
       "      <td>24876</td>\n",
       "      <td>plus</td>\n",
       "      <td>GGGGGAGGCGGGGGAGGCGGGGGGCACGCACCTCCATGCGTGGCAT...</td>\n",
       "    </tr>\n",
       "    <tr>\n",
       "      <th>2</th>\n",
       "      <td>LinJ.01</td>\n",
       "      <td>927</td>\n",
       "      <td>35371</td>\n",
       "      <td>36297</td>\n",
       "      <td>plus</td>\n",
       "      <td>ACTCCCATCGCCTGGTGCGAAGCAGCGCAAGACACACGCGCGCTGC...</td>\n",
       "    </tr>\n",
       "    <tr>\n",
       "      <th>3</th>\n",
       "      <td>LinJ.01</td>\n",
       "      <td>806</td>\n",
       "      <td>39790</td>\n",
       "      <td>40595</td>\n",
       "      <td>plus</td>\n",
       "      <td>ATTCTACCGCGAGCAAGGCAGCACACAGACGCACGCACAGCCACAG...</td>\n",
       "    </tr>\n",
       "    <tr>\n",
       "      <th>4</th>\n",
       "      <td>LinJ.01</td>\n",
       "      <td>927</td>\n",
       "      <td>54983</td>\n",
       "      <td>55909</td>\n",
       "      <td>plus</td>\n",
       "      <td>ACTCTCATCGCCTGGTGCGAAGCAGCGCAAGACACACGCGCGCTGC...</td>\n",
       "    </tr>\n",
       "  </tbody>\n",
       "</table>\n",
       "</div>"
      ],
      "text/plain": [
       "    sseqid  length  sstart   send sstrand  \\\n",
       "0  LinJ.01    1000       1   1000    plus   \n",
       "1  LinJ.01     784   24093  24876    plus   \n",
       "2  LinJ.01     927   35371  36297    plus   \n",
       "3  LinJ.01     806   39790  40595    plus   \n",
       "4  LinJ.01     927   54983  55909    plus   \n",
       "\n",
       "                                                sseq  \n",
       "0  ACACCAGTACACCAGTACACCAGTACACCAGTACACCAGTACACCA...  \n",
       "1  GGGGGAGGCGGGGGAGGCGGGGGGCACGCACCTCCATGCGTGGCAT...  \n",
       "2  ACTCCCATCGCCTGGTGCGAAGCAGCGCAAGACACACGCGCGCTGC...  \n",
       "3  ATTCTACCGCGAGCAAGGCAGCACACAGACGCACGCACAGCCACAG...  \n",
       "4  ACTCTCATCGCCTGGTGCGAAGCAGCGCAAGACACACGCGCGCTGC...  "
      ]
     },
     "execution_count": 8,
     "metadata": {},
     "output_type": "execute_result"
    }
   ],
   "source": [
    "data_LmSIDERs_pos = pd.read_csv(\"./data/positive_elements_LmSIDERs.csv\", header=None, sep=\",\")\n",
    "data_LmSIDERs_pos.columns = [\"sseqid\", \"length\", \"sstart\", \"send\", \"sstrand\", \"sseq\"]\n",
    "print(data_LmSIDERs_pos.shape)\n",
    "print(data_LmSIDERs_pos.dtypes)\n",
    "data_LmSIDERs_pos.head()"
   ]
  },
  {
   "cell_type": "code",
   "execution_count": 9,
   "metadata": {},
   "outputs": [],
   "source": [
    "def fasta_creator(csv_input, output_path):\n",
    "    matrix = []\n",
    "    for index, row in csv_input.iterrows():\n",
    "        rec = SeqRecord(Seq(row[\"sseq\"]), \n",
    "                        id = f\"Seq_{index}_{row['sseqid']}\",\n",
    "                        description = \"Leishmania infantum\"\n",
    "                        )\n",
    "        matrix.append(rec)\n",
    "    SeqIO.write(matrix, output_path, \"fasta\")"
   ]
  },
  {
   "cell_type": "code",
   "execution_count": 10,
   "metadata": {},
   "outputs": [],
   "source": [
    "fasta_creator(data_LmSIDERs_pos, \"./data/positive_elements_LmSIDERs.fasta\")"
   ]
  }
 ],
 "metadata": {
  "kernelspec": {
   "display_name": "Python 3",
   "language": "python",
   "name": "python3"
  },
  "language_info": {
   "codemirror_mode": {
    "name": "ipython",
    "version": 3
   },
   "file_extension": ".py",
   "mimetype": "text/x-python",
   "name": "python",
   "nbconvert_exporter": "python",
   "pygments_lexer": "ipython3",
   "version": "3.12.3"
  }
 },
 "nbformat": 4,
 "nbformat_minor": 2
}
