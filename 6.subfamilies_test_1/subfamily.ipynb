{
 "cells": [
  {
   "cell_type": "code",
   "execution_count": 2,
   "metadata": {},
   "outputs": [],
   "source": [
    "# import needed data\n",
    "import pandas as pd\n",
    "import numpy as np\n",
    "import subprocess\n",
    "import os"
   ]
  },
  {
   "cell_type": "code",
   "execution_count": 3,
   "metadata": {},
   "outputs": [],
   "source": [
    "def blastn_dic(path_input):\n",
    "    os.system(\"makeblastdb -in \" + path_input + \" -dbtype nucl -parse_seqids\")\n",
    "    print(\"\\nBlast Dictionary created in\", path_input)\n",
    "    \n",
    "def blastn_blaster(query, db, perc_indentity):\n",
    "    cmd = \"blastn -word_size 11 \" \\\n",
    "    + \" -query \" + query \\\n",
    "    + \" -db \"  + db \\\n",
    "    + \" -perc_identity \" + str(perc_indentity) \\\n",
    "    + \" -outfmt '10 qseqid sseqid pident length qlen slen mismatch gapopen qstart qend sstart send evalue bitscore qcovhsp sstrand sseq'\"\n",
    "    data = subprocess.check_output(cmd, shell=True, universal_newlines=True)\n",
    "    data = pd.DataFrame([x.split(\",\") for x in data.split(\"\\n\") if x])\n",
    "    data_col = data.copy()\n",
    "\n",
    "    data_col.columns = [\"qseqid\", \"sseqid\", \"pident\", \"length\", \"qlen\", \"slen\", \"mismatch\", \"gapopen\", \"qstart\", \"qend\", \"sstart\", \"send\", \"evalue\", \"bitscore\", \"qcovhsp\", \"sstrand\", \"sseq\"]\n",
    "\n",
    "    return data, data_col"
   ]
  },
  {
   "cell_type": "code",
   "execution_count": 4,
   "metadata": {},
   "outputs": [
    {
     "name": "stdout",
     "output_type": "stream",
     "text": [
      "\n",
      "\n",
      "Building a new DB, current time: 04/30/2024 09:53:46\n",
      "New DB name:   /home/rfpacheco/Desktop/Projects/Testing_Leishmania_project/6.subfamilies_test_1/dict/mine_chr1.fasta\n",
      "New DB title:  ./dict/mine_chr1.fasta\n",
      "Sequence type: Nucleotide\n",
      "Deleted existing Nucleotide BLAST database named /home/rfpacheco/Desktop/Projects/Testing_Leishmania_project/6.subfamilies_test_1/dict/mine_chr1.fasta\n",
      "Keep MBits: T\n",
      "Maximum file size: 1000000000B\n",
      "Adding sequences from FASTA; added 12 sequences in 0.118952 seconds.\n",
      "\n",
      "\n",
      "\n",
      "Blast Dictionary created in ./dict/mine_chr1.fasta\n"
     ]
    }
   ],
   "source": [
    "blastn_dic(\"./dict/mine_chr1.fasta\")"
   ]
  },
  {
   "cell_type": "code",
   "execution_count": 5,
   "metadata": {},
   "outputs": [
    {
     "name": "stdout",
     "output_type": "stream",
     "text": [
      "<class 'pandas.core.frame.DataFrame'>\n",
      "115\n",
      "<class 'pandas.core.frame.DataFrame'>\n",
      "115\n"
     ]
    }
   ],
   "source": [
    "data, data_col = blastn_blaster(\"./dict/mine_chr1.fasta\",\n",
    "                    \"./dict/mine_chr1.fasta\",\n",
    "                    85)\n",
    "print(type(data), len(data), sep=\"\\n\")\n",
    "print(type(data_col), len(data_col), sep=\"\\n\")"
   ]
  },
  {
   "cell_type": "code",
   "execution_count": 6,
   "metadata": {},
   "outputs": [],
   "source": [
    "# Filter length < 100\n",
    "data_col_2 = data_col[data_col[\"length\"].astype(int) > 100]  # Need the column to be int, it's str by default"
   ]
  },
  {
   "cell_type": "code",
   "execution_count": 7,
   "metadata": {},
   "outputs": [],
   "source": [
    "data_col_3 = data_col_2.query(\"qseqid != sseqid\")  # Remove self matches"
   ]
  },
  {
   "cell_type": "code",
   "execution_count": 8,
   "metadata": {},
   "outputs": [
    {
     "data": {
      "text/html": [
       "<div>\n",
       "<style scoped>\n",
       "    .dataframe tbody tr th:only-of-type {\n",
       "        vertical-align: middle;\n",
       "    }\n",
       "\n",
       "    .dataframe tbody tr th {\n",
       "        vertical-align: top;\n",
       "    }\n",
       "\n",
       "    .dataframe thead th {\n",
       "        text-align: right;\n",
       "    }\n",
       "</style>\n",
       "<table border=\"1\" class=\"dataframe\">\n",
       "  <thead>\n",
       "    <tr style=\"text-align: right;\">\n",
       "      <th></th>\n",
       "      <th>qseqid</th>\n",
       "      <th>sseqid</th>\n",
       "      <th>pident</th>\n",
       "      <th>length</th>\n",
       "      <th>qlen</th>\n",
       "      <th>slen</th>\n",
       "      <th>mismatch</th>\n",
       "      <th>gapopen</th>\n",
       "      <th>qstart</th>\n",
       "      <th>qend</th>\n",
       "      <th>sstart</th>\n",
       "      <th>send</th>\n",
       "      <th>evalue</th>\n",
       "      <th>bitscore</th>\n",
       "      <th>qcovhsp</th>\n",
       "      <th>sstrand</th>\n",
       "      <th>sseq</th>\n",
       "    </tr>\n",
       "  </thead>\n",
       "  <tbody>\n",
       "    <tr>\n",
       "      <th>4</th>\n",
       "      <td>Seq_2</td>\n",
       "      <td>Seq_5</td>\n",
       "      <td>99.534</td>\n",
       "      <td>644</td>\n",
       "      <td>699</td>\n",
       "      <td>888</td>\n",
       "      <td>3</td>\n",
       "      <td>0</td>\n",
       "      <td>23</td>\n",
       "      <td>666</td>\n",
       "      <td>644</td>\n",
       "      <td>1</td>\n",
       "      <td>0.0</td>\n",
       "      <td>1173</td>\n",
       "      <td>92</td>\n",
       "      <td>minus</td>\n",
       "      <td>GGCACGCACCTCCATGCGTGGCATCCCAGGGTCCAGCGCCCCCCCC...</td>\n",
       "    </tr>\n",
       "    <tr>\n",
       "      <th>6</th>\n",
       "      <td>Seq_2</td>\n",
       "      <td>Seq_3</td>\n",
       "      <td>99.192</td>\n",
       "      <td>619</td>\n",
       "      <td>699</td>\n",
       "      <td>845</td>\n",
       "      <td>3</td>\n",
       "      <td>2</td>\n",
       "      <td>7</td>\n",
       "      <td>624</td>\n",
       "      <td>618</td>\n",
       "      <td>1</td>\n",
       "      <td>0.0</td>\n",
       "      <td>1114</td>\n",
       "      <td>88</td>\n",
       "      <td>minus</td>\n",
       "      <td>GGCGGGGGAGGCGGGGGGCACGCACCTCCATGCGTGGCATCCCAGG...</td>\n",
       "    </tr>\n",
       "    <tr>\n",
       "      <th>8</th>\n",
       "      <td>Seq_2</td>\n",
       "      <td>Seq_6</td>\n",
       "      <td>98.441</td>\n",
       "      <td>449</td>\n",
       "      <td>699</td>\n",
       "      <td>868</td>\n",
       "      <td>1</td>\n",
       "      <td>5</td>\n",
       "      <td>30</td>\n",
       "      <td>477</td>\n",
       "      <td>265</td>\n",
       "      <td>708</td>\n",
       "      <td>0.0</td>\n",
       "      <td>785</td>\n",
       "      <td>64</td>\n",
       "      <td>plus</td>\n",
       "      <td>ACCT-CA-GCGTGGCATCCCAGGGTCCAGCG--CCCCCCCTCCACC...</td>\n",
       "    </tr>\n",
       "    <tr>\n",
       "      <th>10</th>\n",
       "      <td>Seq_2</td>\n",
       "      <td>Seq_11</td>\n",
       "      <td>86.207</td>\n",
       "      <td>174</td>\n",
       "      <td>699</td>\n",
       "      <td>424</td>\n",
       "      <td>21</td>\n",
       "      <td>3</td>\n",
       "      <td>189</td>\n",
       "      <td>362</td>\n",
       "      <td>171</td>\n",
       "      <td>341</td>\n",
       "      <td>6.10e-50</td>\n",
       "      <td>185</td>\n",
       "      <td>25</td>\n",
       "      <td>plus</td>\n",
       "      <td>GCGCGAGTTAGGGCTACGGACGTCAGCGGCCATGTCGTGCATGGCG...</td>\n",
       "    </tr>\n",
       "    <tr>\n",
       "      <th>12</th>\n",
       "      <td>Seq_2</td>\n",
       "      <td>Seq_9</td>\n",
       "      <td>86.207</td>\n",
       "      <td>174</td>\n",
       "      <td>699</td>\n",
       "      <td>609</td>\n",
       "      <td>21</td>\n",
       "      <td>3</td>\n",
       "      <td>189</td>\n",
       "      <td>362</td>\n",
       "      <td>215</td>\n",
       "      <td>385</td>\n",
       "      <td>6.10e-50</td>\n",
       "      <td>185</td>\n",
       "      <td>25</td>\n",
       "      <td>plus</td>\n",
       "      <td>GCGCGAGTTAGGGCTACGGACGTCAGCGGCCATGTCGTGCATGGCG...</td>\n",
       "    </tr>\n",
       "    <tr>\n",
       "      <th>14</th>\n",
       "      <td>Seq_2</td>\n",
       "      <td>Seq_8</td>\n",
       "      <td>85.632</td>\n",
       "      <td>174</td>\n",
       "      <td>699</td>\n",
       "      <td>803</td>\n",
       "      <td>22</td>\n",
       "      <td>3</td>\n",
       "      <td>189</td>\n",
       "      <td>362</td>\n",
       "      <td>253</td>\n",
       "      <td>83</td>\n",
       "      <td>2.84e-48</td>\n",
       "      <td>180</td>\n",
       "      <td>25</td>\n",
       "      <td>minus</td>\n",
       "      <td>GCGCGAGTTAGGGCTACGGACGTCAGCGGCCATGTCGTGCATGGCG...</td>\n",
       "    </tr>\n",
       "  </tbody>\n",
       "</table>\n",
       "</div>"
      ],
      "text/plain": [
       "   qseqid  sseqid  pident length qlen slen mismatch gapopen qstart qend  \\\n",
       "4   Seq_2   Seq_5  99.534    644  699  888        3       0     23  666   \n",
       "6   Seq_2   Seq_3  99.192    619  699  845        3       2      7  624   \n",
       "8   Seq_2   Seq_6  98.441    449  699  868        1       5     30  477   \n",
       "10  Seq_2  Seq_11  86.207    174  699  424       21       3    189  362   \n",
       "12  Seq_2   Seq_9  86.207    174  699  609       21       3    189  362   \n",
       "14  Seq_2   Seq_8  85.632    174  699  803       22       3    189  362   \n",
       "\n",
       "   sstart send    evalue bitscore qcovhsp sstrand  \\\n",
       "4     644    1       0.0     1173      92   minus   \n",
       "6     618    1       0.0     1114      88   minus   \n",
       "8     265  708       0.0      785      64    plus   \n",
       "10    171  341  6.10e-50      185      25    plus   \n",
       "12    215  385  6.10e-50      185      25    plus   \n",
       "14    253   83  2.84e-48      180      25   minus   \n",
       "\n",
       "                                                 sseq  \n",
       "4   GGCACGCACCTCCATGCGTGGCATCCCAGGGTCCAGCGCCCCCCCC...  \n",
       "6   GGCGGGGGAGGCGGGGGGCACGCACCTCCATGCGTGGCATCCCAGG...  \n",
       "8   ACCT-CA-GCGTGGCATCCCAGGGTCCAGCG--CCCCCCCTCCACC...  \n",
       "10  GCGCGAGTTAGGGCTACGGACGTCAGCGGCCATGTCGTGCATGGCG...  \n",
       "12  GCGCGAGTTAGGGCTACGGACGTCAGCGGCCATGTCGTGCATGGCG...  \n",
       "14  GCGCGAGTTAGGGCTACGGACGTCAGCGGCCATGTCGTGCATGGCG...  "
      ]
     },
     "execution_count": 8,
     "metadata": {},
     "output_type": "execute_result"
    }
   ],
   "source": [
    "data_col_3[data_col_3[\"qseqid\"] == \"Seq_2\"]"
   ]
  },
  {
   "cell_type": "code",
   "execution_count": 9,
   "metadata": {},
   "outputs": [
    {
     "data": {
      "text/plain": [
       "'GGCACGCACCTCCATGCGTGGCATCCCAGGGTCCAGCGCCCCCCCCCTCCACCCCCGCTCTCTCTGTGTACGGAAGCCCGGCAGCCCCCTCACCCTCTATCCCTGCCAACGCCGAACCACTTCTGGTGCTGACAGGGCTGGGCCCTTACGGCGTTGGGCGAGGTCGGCGCGACGTAGCGCCACGGATGCCGGCGGCCATGTCGTGCATGGCGCTGCGTCCGAGCCACCCGCGACAGTGAGCACAGGCTTGCACGGTCCATGCGATGGGCGGAGCGTGTCAGCGCGGCTCGAGCGTGTCGCAGCCGGCCCCTCACACTGGCCCACGGCGAGGGGTGCGGGGGCCTGAGTGTCACCGCGACGGGGAGACGCACCCAGGGAGGAGGTGGGGGGAGTGGGGACCGGCATGATGGAGGGGCGGCTGTGTGGCGATGTGTGTGTATGTGGGTGTCGTCGCGTTTGAGGCAGGAGCCGTGCTGCTATGACCGAGCCGGCGCACTGCTGCAGCGCGCGTGTGTCTTGCGCTGCTTCGCACCAGGCGATGAGAGTGGGGTGGGGTGCCTGCAGCACTCGGCGGCGGGGGGGTGCAGAGCGGCCTCCACCTCGCAGTGTGCGGCAGCGAAAACGGACACGCGGAAGACCAAACA'"
      ]
     },
     "execution_count": 9,
     "metadata": {},
     "output_type": "execute_result"
    }
   ],
   "source": [
    "data_col_3[data_col_3[\"qseqid\"] == \"Seq_2\"].loc[4, [\"sseq\"]].values[0]"
   ]
  },
  {
   "cell_type": "code",
   "execution_count": 10,
   "metadata": {},
   "outputs": [
    {
     "data": {
      "text/html": [
       "<div>\n",
       "<style scoped>\n",
       "    .dataframe tbody tr th:only-of-type {\n",
       "        vertical-align: middle;\n",
       "    }\n",
       "\n",
       "    .dataframe tbody tr th {\n",
       "        vertical-align: top;\n",
       "    }\n",
       "\n",
       "    .dataframe thead th {\n",
       "        text-align: right;\n",
       "    }\n",
       "</style>\n",
       "<table border=\"1\" class=\"dataframe\">\n",
       "  <thead>\n",
       "    <tr style=\"text-align: right;\">\n",
       "      <th></th>\n",
       "      <th>qseqid</th>\n",
       "      <th>sseqid</th>\n",
       "      <th>pident</th>\n",
       "      <th>length</th>\n",
       "      <th>qlen</th>\n",
       "      <th>slen</th>\n",
       "      <th>mismatch</th>\n",
       "      <th>gapopen</th>\n",
       "      <th>qstart</th>\n",
       "      <th>qend</th>\n",
       "      <th>sstart</th>\n",
       "      <th>send</th>\n",
       "      <th>evalue</th>\n",
       "      <th>bitscore</th>\n",
       "      <th>qcovhsp</th>\n",
       "      <th>sstrand</th>\n",
       "      <th>sseq</th>\n",
       "    </tr>\n",
       "  </thead>\n",
       "  <tbody>\n",
       "    <tr>\n",
       "      <th>0</th>\n",
       "      <td>Seq_1</td>\n",
       "      <td>Seq_1</td>\n",
       "      <td>100.000</td>\n",
       "      <td>173</td>\n",
       "      <td>173</td>\n",
       "      <td>173</td>\n",
       "      <td>0</td>\n",
       "      <td>0</td>\n",
       "      <td>1</td>\n",
       "      <td>173</td>\n",
       "      <td>1</td>\n",
       "      <td>173</td>\n",
       "      <td>3.76e-91</td>\n",
       "      <td>320</td>\n",
       "      <td>100</td>\n",
       "      <td>plus</td>\n",
       "      <td>ACACCAGTACACCAGTACACCAGTACACCAGTACACCAGTACACCA...</td>\n",
       "    </tr>\n",
       "    <tr>\n",
       "      <th>1</th>\n",
       "      <td>Seq_2</td>\n",
       "      <td>Seq_2</td>\n",
       "      <td>100.000</td>\n",
       "      <td>699</td>\n",
       "      <td>699</td>\n",
       "      <td>699</td>\n",
       "      <td>0</td>\n",
       "      <td>0</td>\n",
       "      <td>1</td>\n",
       "      <td>699</td>\n",
       "      <td>1</td>\n",
       "      <td>699</td>\n",
       "      <td>0.0</td>\n",
       "      <td>1291</td>\n",
       "      <td>100</td>\n",
       "      <td>plus</td>\n",
       "      <td>GGGGGAGGCGGGGGAGGCGGGGGGCACGCACCTCCATGCGTGGCAT...</td>\n",
       "    </tr>\n",
       "    <tr>\n",
       "      <th>4</th>\n",
       "      <td>Seq_2</td>\n",
       "      <td>Seq_5</td>\n",
       "      <td>99.534</td>\n",
       "      <td>644</td>\n",
       "      <td>699</td>\n",
       "      <td>888</td>\n",
       "      <td>3</td>\n",
       "      <td>0</td>\n",
       "      <td>23</td>\n",
       "      <td>666</td>\n",
       "      <td>644</td>\n",
       "      <td>1</td>\n",
       "      <td>0.0</td>\n",
       "      <td>1173</td>\n",
       "      <td>92</td>\n",
       "      <td>minus</td>\n",
       "      <td>GGCACGCACCTCCATGCGTGGCATCCCAGGGTCCAGCGCCCCCCCC...</td>\n",
       "    </tr>\n",
       "    <tr>\n",
       "      <th>6</th>\n",
       "      <td>Seq_2</td>\n",
       "      <td>Seq_3</td>\n",
       "      <td>99.192</td>\n",
       "      <td>619</td>\n",
       "      <td>699</td>\n",
       "      <td>845</td>\n",
       "      <td>3</td>\n",
       "      <td>2</td>\n",
       "      <td>7</td>\n",
       "      <td>624</td>\n",
       "      <td>618</td>\n",
       "      <td>1</td>\n",
       "      <td>0.0</td>\n",
       "      <td>1114</td>\n",
       "      <td>88</td>\n",
       "      <td>minus</td>\n",
       "      <td>GGCGGGGGAGGCGGGGGGCACGCACCTCCATGCGTGGCATCCCAGG...</td>\n",
       "    </tr>\n",
       "    <tr>\n",
       "      <th>8</th>\n",
       "      <td>Seq_2</td>\n",
       "      <td>Seq_6</td>\n",
       "      <td>98.441</td>\n",
       "      <td>449</td>\n",
       "      <td>699</td>\n",
       "      <td>868</td>\n",
       "      <td>1</td>\n",
       "      <td>5</td>\n",
       "      <td>30</td>\n",
       "      <td>477</td>\n",
       "      <td>265</td>\n",
       "      <td>708</td>\n",
       "      <td>0.0</td>\n",
       "      <td>785</td>\n",
       "      <td>64</td>\n",
       "      <td>plus</td>\n",
       "      <td>ACCT-CA-GCGTGGCATCCCAGGGTCCAGCG--CCCCCCCTCCACC...</td>\n",
       "    </tr>\n",
       "  </tbody>\n",
       "</table>\n",
       "</div>"
      ],
      "text/plain": [
       "  qseqid sseqid   pident length qlen slen mismatch gapopen qstart qend sstart  \\\n",
       "0  Seq_1  Seq_1  100.000    173  173  173        0       0      1  173      1   \n",
       "1  Seq_2  Seq_2  100.000    699  699  699        0       0      1  699      1   \n",
       "4  Seq_2  Seq_5   99.534    644  699  888        3       0     23  666    644   \n",
       "6  Seq_2  Seq_3   99.192    619  699  845        3       2      7  624    618   \n",
       "8  Seq_2  Seq_6   98.441    449  699  868        1       5     30  477    265   \n",
       "\n",
       "  send    evalue bitscore qcovhsp sstrand  \\\n",
       "0  173  3.76e-91      320     100    plus   \n",
       "1  699       0.0     1291     100    plus   \n",
       "4    1       0.0     1173      92   minus   \n",
       "6    1       0.0     1114      88   minus   \n",
       "8  708       0.0      785      64    plus   \n",
       "\n",
       "                                                sseq  \n",
       "0  ACACCAGTACACCAGTACACCAGTACACCAGTACACCAGTACACCA...  \n",
       "1  GGGGGAGGCGGGGGAGGCGGGGGGCACGCACCTCCATGCGTGGCAT...  \n",
       "4  GGCACGCACCTCCATGCGTGGCATCCCAGGGTCCAGCGCCCCCCCC...  \n",
       "6  GGCGGGGGAGGCGGGGGGCACGCACCTCCATGCGTGGCATCCCAGG...  \n",
       "8  ACCT-CA-GCGTGGCATCCCAGGGTCCAGCG--CCCCCCCTCCACC...  "
      ]
     },
     "execution_count": 10,
     "metadata": {},
     "output_type": "execute_result"
    }
   ],
   "source": [
    "data_col_2.head()"
   ]
  },
  {
   "cell_type": "code",
   "execution_count": 11,
   "metadata": {},
   "outputs": [],
   "source": [
    "# Let'screate a dictionary with the sequences\n",
    "dict = {}\n",
    "for seq in data_col_2[\"qseqid\"].unique():\n",
    "    values = data_col_2[data_col_2[\"qseqid\"] == seq].loc[:, [\"sseqid\"]].values.flatten().tolist()\n",
    "    values = sorted(values)\n",
    "    dict[seq] = values\n",
    "\n",
    "dict = {key: sorted(value, key=lambda x: int(x.split('_')[1])) for key, value in dict.items()}   # Sort the values by the number of the sequence\n"
   ]
  },
  {
   "cell_type": "code",
   "execution_count": 13,
   "metadata": {},
   "outputs": [
    {
     "data": {
      "text/plain": [
       "{'Seq_1': ['Seq_1'],\n",
       " 'Seq_2': ['Seq_2', 'Seq_3', 'Seq_5', 'Seq_6', 'Seq_8', 'Seq_9', 'Seq_11'],\n",
       " 'Seq_3': ['Seq_2', 'Seq_3', 'Seq_5', 'Seq_6', 'Seq_8', 'Seq_9', 'Seq_11'],\n",
       " 'Seq_4': ['Seq_4', 'Seq_7'],\n",
       " 'Seq_5': ['Seq_2', 'Seq_3', 'Seq_5', 'Seq_6', 'Seq_8', 'Seq_9', 'Seq_11'],\n",
       " 'Seq_6': ['Seq_2', 'Seq_3', 'Seq_5', 'Seq_6', 'Seq_8', 'Seq_9', 'Seq_11'],\n",
       " 'Seq_7': ['Seq_4', 'Seq_7'],\n",
       " 'Seq_8': ['Seq_2', 'Seq_3', 'Seq_5', 'Seq_6', 'Seq_8', 'Seq_9', 'Seq_11'],\n",
       " 'Seq_9': ['Seq_2', 'Seq_3', 'Seq_5', 'Seq_6', 'Seq_8', 'Seq_9', 'Seq_11'],\n",
       " 'Seq_10': ['Seq_10'],\n",
       " 'Seq_11': ['Seq_2', 'Seq_3', 'Seq_5', 'Seq_6', 'Seq_8', 'Seq_9', 'Seq_11'],\n",
       " 'Seq_12': ['Seq_12']}"
      ]
     },
     "execution_count": 13,
     "metadata": {},
     "output_type": "execute_result"
    }
   ],
   "source": [
    "dict"
   ]
  },
  {
   "cell_type": "code",
   "execution_count": 16,
   "metadata": {},
   "outputs": [
    {
     "data": {
      "text/plain": [
       "dict_values([['Seq_1'], ['Seq_2', 'Seq_3', 'Seq_5', 'Seq_6', 'Seq_8', 'Seq_9', 'Seq_11'], ['Seq_2', 'Seq_3', 'Seq_5', 'Seq_6', 'Seq_8', 'Seq_9', 'Seq_11'], ['Seq_4', 'Seq_7'], ['Seq_2', 'Seq_3', 'Seq_5', 'Seq_6', 'Seq_8', 'Seq_9', 'Seq_11'], ['Seq_2', 'Seq_3', 'Seq_5', 'Seq_6', 'Seq_8', 'Seq_9', 'Seq_11'], ['Seq_4', 'Seq_7'], ['Seq_2', 'Seq_3', 'Seq_5', 'Seq_6', 'Seq_8', 'Seq_9', 'Seq_11'], ['Seq_2', 'Seq_3', 'Seq_5', 'Seq_6', 'Seq_8', 'Seq_9', 'Seq_11'], ['Seq_10'], ['Seq_2', 'Seq_3', 'Seq_5', 'Seq_6', 'Seq_8', 'Seq_9', 'Seq_11'], ['Seq_12']])"
      ]
     },
     "execution_count": 16,
     "metadata": {},
     "output_type": "execute_result"
    }
   ],
   "source": [
    "dict.values()"
   ]
  },
  {
   "cell_type": "code",
   "execution_count": 17,
   "metadata": {},
   "outputs": [
    {
     "data": {
      "text/plain": [
       "dict_keys(['Seq_1', 'Seq_2', 'Seq_3', 'Seq_4', 'Seq_5', 'Seq_6', 'Seq_7', 'Seq_8', 'Seq_9', 'Seq_10', 'Seq_11', 'Seq_12'])"
      ]
     },
     "execution_count": 17,
     "metadata": {},
     "output_type": "execute_result"
    }
   ],
   "source": [
    "dict.keys()"
   ]
  },
  {
   "cell_type": "code",
   "execution_count": 22,
   "metadata": {},
   "outputs": [
    {
     "name": "stdout",
     "output_type": "stream",
     "text": [
      "['Seq_1']\n",
      "<class 'list'>\n",
      "['Seq_2', 'Seq_3', 'Seq_5', 'Seq_6', 'Seq_8', 'Seq_9', 'Seq_11']\n",
      "<class 'list'>\n",
      "['Seq_2', 'Seq_3', 'Seq_5', 'Seq_6', 'Seq_8', 'Seq_9', 'Seq_11']\n",
      "<class 'list'>\n",
      "['Seq_4', 'Seq_7']\n",
      "<class 'list'>\n",
      "['Seq_2', 'Seq_3', 'Seq_5', 'Seq_6', 'Seq_8', 'Seq_9', 'Seq_11']\n",
      "<class 'list'>\n",
      "['Seq_2', 'Seq_3', 'Seq_5', 'Seq_6', 'Seq_8', 'Seq_9', 'Seq_11']\n",
      "<class 'list'>\n",
      "['Seq_4', 'Seq_7']\n",
      "<class 'list'>\n",
      "['Seq_2', 'Seq_3', 'Seq_5', 'Seq_6', 'Seq_8', 'Seq_9', 'Seq_11']\n",
      "<class 'list'>\n",
      "['Seq_2', 'Seq_3', 'Seq_5', 'Seq_6', 'Seq_8', 'Seq_9', 'Seq_11']\n",
      "<class 'list'>\n",
      "['Seq_10']\n",
      "<class 'list'>\n",
      "['Seq_2', 'Seq_3', 'Seq_5', 'Seq_6', 'Seq_8', 'Seq_9', 'Seq_11']\n",
      "<class 'list'>\n",
      "['Seq_12']\n",
      "<class 'list'>\n"
     ]
    }
   ],
   "source": [
    "value_count = {}\n",
    "for value in dict.values(): \n",
    "    print(value)\n",
    "    print(type(value))"
   ]
  },
  {
   "cell_type": "code",
   "execution_count": 30,
   "metadata": {},
   "outputs": [
    {
     "data": {
      "text/plain": [
       "[['Seq_1'],\n",
       " ['Seq_2', 'Seq_3', 'Seq_5', 'Seq_6', 'Seq_8', 'Seq_9', 'Seq_11'],\n",
       " ['Seq_4', 'Seq_7'],\n",
       " ['Seq_10'],\n",
       " ['Seq_12']]"
      ]
     },
     "execution_count": 30,
     "metadata": {},
     "output_type": "execute_result"
    }
   ],
   "source": [
    "dataset = []\n",
    "for key, value in dict.items():\n",
    "    if value in dataset:\n",
    "        continue  # If it's in the dataset, it doesn't do anything.\n",
    "    else:\n",
    "        dataset.append(value)  # If it's not in the dataset, it appends it.\n",
    "dataset"
   ]
  }
 ],
 "metadata": {
  "kernelspec": {
   "display_name": "Python 3",
   "language": "python",
   "name": "python3"
  },
  "language_info": {
   "codemirror_mode": {
    "name": "ipython",
    "version": 3
   },
   "file_extension": ".py",
   "mimetype": "text/x-python",
   "name": "python",
   "nbconvert_exporter": "python",
   "pygments_lexer": "ipython3",
   "version": "3.10.12"
  }
 },
 "nbformat": 4,
 "nbformat_minor": 2
}
