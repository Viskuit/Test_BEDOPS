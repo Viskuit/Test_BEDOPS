{
 "cells": [
  {
   "cell_type": "code",
   "execution_count": 23,
   "metadata": {},
   "outputs": [],
   "source": [
    "import numpy as np\n",
    "import pandas as pd\n",
    "import subprocess\n",
    "import os\n",
    "\n",
    "from Bio import SeqIO\n",
    "from Bio.Seq import Seq\n",
    "from Bio.SeqRecord import SeqRecord"
   ]
  },
  {
   "cell_type": "code",
   "execution_count": 2,
   "metadata": {},
   "outputs": [
    {
     "data": {
      "text/html": [
       "<div>\n",
       "<style scoped>\n",
       "    .dataframe tbody tr th:only-of-type {\n",
       "        vertical-align: middle;\n",
       "    }\n",
       "\n",
       "    .dataframe tbody tr th {\n",
       "        vertical-align: top;\n",
       "    }\n",
       "\n",
       "    .dataframe thead th {\n",
       "        text-align: right;\n",
       "    }\n",
       "</style>\n",
       "<table border=\"1\" class=\"dataframe\">\n",
       "  <thead>\n",
       "    <tr style=\"text-align: right;\">\n",
       "      <th></th>\n",
       "      <th>0</th>\n",
       "      <th>1</th>\n",
       "      <th>2</th>\n",
       "      <th>3</th>\n",
       "      <th>4</th>\n",
       "      <th>5</th>\n",
       "    </tr>\n",
       "  </thead>\n",
       "  <tbody>\n",
       "    <tr>\n",
       "      <th>0</th>\n",
       "      <td>LinJ.01</td>\n",
       "      <td>173</td>\n",
       "      <td>1</td>\n",
       "      <td>173</td>\n",
       "      <td>plus</td>\n",
       "      <td>ACACCAGTACACCAGTACACCAGTACACCAGTACACCAGTACACCA...</td>\n",
       "    </tr>\n",
       "    <tr>\n",
       "      <th>1</th>\n",
       "      <td>LinJ.01</td>\n",
       "      <td>699</td>\n",
       "      <td>24093</td>\n",
       "      <td>24791</td>\n",
       "      <td>plus</td>\n",
       "      <td>GGGGGAGGCGGGGGAGGCGGGGGGCACGCACCTCCATGCGTGGCAT...</td>\n",
       "    </tr>\n",
       "    <tr>\n",
       "      <th>2</th>\n",
       "      <td>LinJ.01</td>\n",
       "      <td>845</td>\n",
       "      <td>35316</td>\n",
       "      <td>36160</td>\n",
       "      <td>plus</td>\n",
       "      <td>GAGGTGGAGGCCGCTCTGCCCCCCCCGCCGCCGAGTGCTGCAGGCA...</td>\n",
       "    </tr>\n",
       "    <tr>\n",
       "      <th>3</th>\n",
       "      <td>LinJ.01</td>\n",
       "      <td>892</td>\n",
       "      <td>39698</td>\n",
       "      <td>40589</td>\n",
       "      <td>plus</td>\n",
       "      <td>CTCACCCTCATCCCACCCCTCCTCGTCCATCGACGGGAGTGGGCGG...</td>\n",
       "    </tr>\n",
       "    <tr>\n",
       "      <th>4</th>\n",
       "      <td>LinJ.01</td>\n",
       "      <td>888</td>\n",
       "      <td>54885</td>\n",
       "      <td>55772</td>\n",
       "      <td>plus</td>\n",
       "      <td>TGTTTGGTCTTCCGCGTGTCCGTTTTCGCTGCCGCACACTGCGAGG...</td>\n",
       "    </tr>\n",
       "  </tbody>\n",
       "</table>\n",
       "</div>"
      ],
      "text/plain": [
       "         0    1      2      3     4  \\\n",
       "0  LinJ.01  173      1    173  plus   \n",
       "1  LinJ.01  699  24093  24791  plus   \n",
       "2  LinJ.01  845  35316  36160  plus   \n",
       "3  LinJ.01  892  39698  40589  plus   \n",
       "4  LinJ.01  888  54885  55772  plus   \n",
       "\n",
       "                                                   5  \n",
       "0  ACACCAGTACACCAGTACACCAGTACACCAGTACACCAGTACACCA...  \n",
       "1  GGGGGAGGCGGGGGAGGCGGGGGGCACGCACCTCCATGCGTGGCAT...  \n",
       "2  GAGGTGGAGGCCGCTCTGCCCCCCCCGCCGCCGAGTGCTGCAGGCA...  \n",
       "3  CTCACCCTCATCCCACCCCTCCTCGTCCATCGACGGGAGTGGGCGG...  \n",
       "4  TGTTTGGTCTTCCGCGTGTCCGTTTTCGCTGCCGCACACTGCGAGG...  "
      ]
     },
     "execution_count": 2,
     "metadata": {},
     "output_type": "execute_result"
    }
   ],
   "source": [
    "data_positive = pd.read_csv(\"./positives_testing_elements.csv\", sep=\",\" , header=None)\n",
    "data_positive.head()"
   ]
  },
  {
   "cell_type": "code",
   "execution_count": 12,
   "metadata": {},
   "outputs": [],
   "source": [
    "# Define fasta_creator file\n",
    "def fasta_creator(data, fasta_output_path):\n",
    "    matrix = []\n",
    "    for index, sequence in data.iterrows():\n",
    "        index += 1\n",
    "        rec = SeqRecord(Seq(sequence[5]),  # In the 5 position is the seq\n",
    "                        id=\"Seq_\" + str(index),\n",
    "                        description=\"Leishmania infantum\"\n",
    "                        )\n",
    "        matrix.append(rec)\n",
    "    SeqIO.write(matrix, fasta_output_path, \"fasta\")"
   ]
  },
  {
   "cell_type": "code",
   "execution_count": 13,
   "metadata": {},
   "outputs": [],
   "source": [
    " # Create fasta\n",
    "fasta_creator(data_positive, \"./blaster/positives.fasta\")"
   ]
  },
  {
   "cell_type": "markdown",
   "metadata": {},
   "source": [
    "Now let's launch the BLASTN "
   ]
  },
  {
   "cell_type": "markdown",
   "metadata": {},
   "source": [
    "Let's prepare the \"ingi\" data in fasta"
   ]
  },
  {
   "cell_type": "code",
   "execution_count": 21,
   "metadata": {},
   "outputs": [
    {
     "data": {
      "text/plain": [
       "79"
      ]
     },
     "execution_count": 21,
     "metadata": {},
     "output_type": "execute_result"
    }
   ],
   "source": [
    "ingi = \"CCCTGGCGATGCCGGCCACCTCAACGTGGTGCCAGGGTCCAGTACCCCGTATCATCGGGGGAAGCCAAGAGCCAGCAGC\"\n",
    "len(ingi)"
   ]
  },
  {
   "cell_type": "code",
   "execution_count": 61,
   "metadata": {},
   "outputs": [],
   "source": [
    "# Prepare functions\n",
    "# Let's define the BLASTn dictionary function\n",
    "def blastn_dic(path_input):\n",
    "    os.system(\"makeblastdb -in \" + path_input + \" -dbtype nucl -parse_seqids\")\n",
    "    print(\"\\nBlast Dictionary created in\", path_input)\n",
    "\n",
    "#And the blaster\n",
    "def blastn_blaster(query_path, dict_path, perc_identity):\n",
    "    cmd = \"blastn -word_size 11 -query \" \\\n",
    "        + query_path + \" -db \" \\\n",
    "        + dict_path \\\n",
    "        + \" -perc_identity \" + str(perc_identity) \\\n",
    "        + \" -outfmt 10\"\n",
    "    data = subprocess.check_output(cmd, shell=True, universal_newlines=True)  # Important the E value\n",
    "    return data"
   ]
  },
  {
   "cell_type": "code",
   "execution_count": 62,
   "metadata": {},
   "outputs": [
    {
     "name": "stdout",
     "output_type": "stream",
     "text": [
      "\n",
      "\n",
      "Building a new DB, current time: 04/17/2024 13:57:12\n",
      "New DB name:   /home/rfpacheco/Desktop/Projects/Testing_Leishmania_project/BEDOPS_join_strands/filtered_data/blaster/positives.fasta\n",
      "New DB title:  ./blaster/positives.fasta\n",
      "Sequence type: Nucleotide\n",
      "Deleted existing Nucleotide BLAST database named /home/rfpacheco/Desktop/Projects/Testing_Leishmania_project/BEDOPS_join_strands/filtered_data/blaster/positives.fasta\n",
      "Keep MBits: T\n",
      "Maximum file size: 1000000000B\n",
      "Adding sequences from FASTA; added 1951 sequences in 0.137699 seconds.\n",
      "\n",
      "\n",
      "\n",
      "Blast Dictionary created in ./blaster/positives.fasta\n"
     ]
    }
   ],
   "source": [
    "# Let's make the dict\n",
    "blastn_dic(\"./blaster/positives.fasta\")"
   ]
  },
  {
   "cell_type": "code",
   "execution_count": 63,
   "metadata": {},
   "outputs": [],
   "source": [
    "# Let's make a fasta only for ingi:\n",
    "def fasta_creator2(sequence, index, fasta_output_path):\n",
    "    rec = SeqRecord(Seq(sequence),\n",
    "                    id=\"ingi_\" + str(index),\n",
    "                    description=\"Trypanosoma brucei ingi element\"\n",
    "                    )\n",
    "    SeqIO.write(rec, fasta_output_path, \"fasta\")"
   ]
  },
  {
   "cell_type": "code",
   "execution_count": 64,
   "metadata": {},
   "outputs": [],
   "source": [
    "fasta_creator2(ingi, 1, \"./blaster/ingi.fasta\")"
   ]
  },
  {
   "cell_type": "code",
   "execution_count": 65,
   "metadata": {},
   "outputs": [],
   "source": [
    "blastn_data = blastn_blaster(\"./blaster/ingi.fasta\", \"./blaster/positives.fasta\", 0)"
   ]
  },
  {
   "cell_type": "code",
   "execution_count": 66,
   "metadata": {},
   "outputs": [
    {
     "data": {
      "text/plain": [
       "['ingi_1,Seq_1028,83.333,60,6,4,17,73,529,471,1.04e-08,52.8',\n",
       " 'ingi_1,Seq_1948,86.957,46,3,3,1,44,17,61,1.35e-07,49.1',\n",
       " 'ingi_1,Seq_1943,86.957,46,3,3,1,44,17,61,1.35e-07,49.1',\n",
       " 'ingi_1,Seq_701,87.805,41,5,0,2,42,792,832,1.35e-07,49.1',\n",
       " 'ingi_1,Seq_688,87.805,41,5,0,2,42,706,666,1.35e-07,49.1',\n",
       " 'ingi_1,Seq_685,87.805,41,5,0,2,42,706,666,1.35e-07,49.1',\n",
       " 'ingi_1,Seq_682,87.805,41,5,0,2,42,706,666,1.35e-07,49.1',\n",
       " 'ingi_1,Seq_862,79.710,69,11,3,7,73,559,492,4.84e-07,47.3',\n",
       " 'ingi_1,Seq_862,84.211,38,4,2,10,46,471,435,0.001,36.2',\n",
       " 'ingi_1,Seq_1139,81.034,58,9,2,17,73,678,622,1.74e-06,45.4',\n",
       " 'ingi_1,Seq_482,91.176,34,1,2,8,39,8,41,1.74e-06,45.4',\n",
       " 'ingi_1,Seq_1710,77.108,83,14,4,1,79,677,758,6.26e-06,43.6',\n",
       " 'ingi_1,Seq_768,88.889,36,2,2,14,47,554,519,6.26e-06,43.6',\n",
       " 'ingi_1,Seq_725,80.000,65,8,3,5,68,1,61,6.26e-06,43.6',\n",
       " 'ingi_1,Seq_1032,80.000,60,8,4,17,73,534,476,2.25e-05,41.7',\n",
       " 'ingi_1,Seq_887,77.922,77,9,7,9,79,420,346,2.25e-05,41.7',\n",
       " 'ingi_1,Seq_180,85.000,40,6,0,8,47,313,274,2.25e-05,41.7',\n",
       " 'ingi_1,Seq_730,77.778,72,11,3,7,77,186,119,8.10e-05,39.9',\n",
       " 'ingi_1,Seq_709,82.609,46,7,1,2,46,8,53,8.10e-05,39.9',\n",
       " 'ingi_1,Seq_667,88.235,34,2,2,17,48,24,57,8.10e-05,39.9',\n",
       " 'ingi_1,Seq_666,88.235,34,2,2,17,48,507,474,8.10e-05,39.9',\n",
       " 'ingi_1,Seq_1187,95.652,23,1,0,1,23,12,34,2.91e-04,38.1',\n",
       " 'ingi_1,Seq_1183,95.652,23,1,0,1,23,12,34,2.91e-04,38.1',\n",
       " 'ingi_1,Seq_1177,95.652,23,1,0,1,23,6,28,2.91e-04,38.1',\n",
       " 'ingi_1,Seq_827,77.465,71,11,5,8,73,4,74,2.91e-04,38.1',\n",
       " 'ingi_1,Seq_826,77.465,71,11,5,8,73,4,74,2.91e-04,38.1',\n",
       " 'ingi_1,Seq_1473,76.812,69,13,3,10,77,22,88,0.001,36.2',\n",
       " 'ingi_1,Seq_1229,78.462,65,6,7,20,79,189,128,0.001,36.2',\n",
       " 'ingi_1,Seq_867,84.211,38,4,2,10,46,442,406,0.001,36.2',\n",
       " 'ingi_1,Seq_864,84.211,38,4,2,10,46,488,452,0.001,36.2',\n",
       " 'ingi_1,Seq_863,84.211,38,4,2,10,46,478,442,0.001,36.2',\n",
       " 'ingi_1,Seq_861,84.211,38,4,2,10,46,492,456,0.001,36.2',\n",
       " 'ingi_1,Seq_859,84.211,38,4,2,10,46,439,403,0.001,36.2',\n",
       " 'ingi_1,Seq_712,82.500,40,7,0,8,47,424,385,0.001,36.2',\n",
       " 'ingi_1,Seq_649,79.310,58,7,4,1,53,511,454,0.001,36.2',\n",
       " 'ingi_1,Seq_272,80.000,55,5,5,17,66,23,76,0.001,36.2',\n",
       " 'ingi_1,Seq_1863,95.238,21,1,0,58,78,48,68,0.004,34.4',\n",
       " 'ingi_1,Seq_1804,95.238,21,1,0,58,78,119,99,0.004,34.4',\n",
       " 'ingi_1,Seq_1792,95.238,21,1,0,58,78,107,87,0.004,34.4',\n",
       " 'ingi_1,Seq_1732,95.238,21,1,0,59,79,6,26,0.004,34.4',\n",
       " 'ingi_1,Seq_1093,76.056,71,14,3,8,77,25,93,0.004,34.4',\n",
       " 'ingi_1,Seq_967,81.818,44,4,4,33,73,28,70,0.004,34.4',\n",
       " 'ingi_1,Seq_966,81.395,43,6,2,33,73,506,464,0.004,34.4',\n",
       " 'ingi_1,Seq_878,77.049,61,12,2,8,66,253,313,0.004,34.4',\n",
       " 'ingi_1,Seq_66,89.286,28,2,1,19,45,27,54,0.004,34.4',\n",
       " 'ingi_1,Seq_64,89.286,28,2,1,19,45,529,502,0.004,34.4',\n",
       " 'ingi_1,Seq_1869,78.723,47,10,0,1,47,458,412,0.014,32.5',\n",
       " 'ingi_1,Seq_1758,91.304,23,2,0,25,47,526,504,0.014,32.5',\n",
       " 'ingi_1,Seq_1452,79.167,48,9,1,1,47,1188,1141,0.014,32.5',\n",
       " 'ingi_1,Seq_448,75.758,66,15,1,8,73,169,233,0.014,32.5',\n",
       " 'ingi_1,Seq_1753,90.909,22,2,0,58,79,143,122,0.049,30.7',\n",
       " 'ingi_1,Seq_1699,94.737,19,1,0,59,77,59,77,0.049,30.7',\n",
       " 'ingi_1,Seq_1697,94.737,19,1,0,59,77,55,73,0.049,30.7',\n",
       " 'ingi_1,Seq_1695,94.737,19,1,0,59,77,53,71,0.049,30.7',\n",
       " 'ingi_1,Seq_1695,100.000,13,0,0,11,23,1,13,2.3,25.1',\n",
       " 'ingi_1,Seq_1691,100.000,16,0,0,8,23,36,51,0.049,30.7',\n",
       " 'ingi_1,Seq_1646,100.000,16,0,0,8,23,2,17,0.049,30.7',\n",
       " 'ingi_1,Seq_1479,74.359,78,17,3,1,77,13,88,0.049,30.7',\n",
       " 'ingi_1,Seq_1204,100.000,16,0,0,8,23,853,838,0.049,30.7',\n",
       " 'ingi_1,Seq_1138,80.435,46,4,4,33,73,553,508,0.049,30.7',\n",
       " 'ingi_1,Seq_1031,100.000,16,0,0,8,23,13,28,0.049,30.7',\n",
       " 'ingi_1,Seq_998,94.737,19,1,0,61,79,114,96,0.049,30.7',\n",
       " 'ingi_1,Seq_998,86.957,23,3,0,1,23,1,23,0.63,27.0',\n",
       " 'ingi_1,Seq_772,88.462,26,1,2,25,48,38,63,0.049,30.7',\n",
       " 'ingi_1,Seq_771,88.462,26,1,2,25,48,540,515,0.049,30.7',\n",
       " 'ingi_1,Seq_770,88.462,26,1,2,25,48,506,481,0.049,30.7',\n",
       " 'ingi_1,Seq_702,100.000,16,0,0,33,48,586,601,0.049,30.7',\n",
       " 'ingi_1,Seq_681,100.000,16,0,0,33,48,447,432,0.049,30.7',\n",
       " 'ingi_1,Seq_611,91.304,23,1,1,58,79,62,84,0.049,30.7',\n",
       " 'ingi_1,Seq_604,91.304,23,1,1,58,79,62,84,0.049,30.7',\n",
       " 'ingi_1,Seq_477,90.909,22,2,0,58,79,385,364,0.049,30.7',\n",
       " 'ingi_1,Seq_349,100.000,16,0,0,8,23,617,602,0.049,30.7',\n",
       " 'ingi_1,Seq_348,100.000,16,0,0,8,23,4,19,0.049,30.7',\n",
       " 'ingi_1,Seq_82,100.000,16,0,0,33,48,37,52,0.049,30.7',\n",
       " 'ingi_1,Seq_81,100.000,16,0,0,33,48,37,52,0.049,30.7',\n",
       " 'ingi_1,Seq_1779,83.333,30,5,0,1,30,2,31,0.18,28.8',\n",
       " 'ingi_1,Seq_1669,100.000,15,0,0,33,47,12,26,0.18,28.8',\n",
       " 'ingi_1,Seq_1664,100.000,15,0,0,33,47,12,26,0.18,28.8',\n",
       " 'ingi_1,Seq_1486,94.444,18,1,0,26,43,123,140,0.18,28.8',\n",
       " 'ingi_1,Seq_1219,90.476,21,2,0,57,77,51,71,0.18,28.8',\n",
       " 'ingi_1,Seq_1218,90.476,21,2,0,57,77,402,382,0.18,28.8',\n",
       " 'ingi_1,Seq_1217,90.476,21,2,0,57,77,2513,2493,0.18,28.8',\n",
       " 'ingi_1,Seq_977,75.000,76,11,7,8,77,12,85,0.18,28.8',\n",
       " 'ingi_1,Seq_832,100.000,15,0,0,8,22,487,473,0.18,28.8',\n",
       " 'ingi_1,Seq_515,78.261,46,8,2,1,45,25,69,0.18,28.8',\n",
       " 'ingi_1,Seq_514,78.261,46,8,2,1,45,450,406,0.18,28.8',\n",
       " 'ingi_1,Seq_498,75.000,76,12,6,8,79,14,86,0.18,28.8',\n",
       " 'ingi_1,Seq_418,90.476,21,2,0,59,79,921,901,0.18,28.8',\n",
       " 'ingi_1,Seq_174,88.000,25,1,2,25,47,26,50,0.18,28.8',\n",
       " 'ingi_1,Seq_1905,86.957,23,3,0,1,23,18,40,0.63,27.0',\n",
       " 'ingi_1,Seq_1902,86.957,23,3,0,1,23,19,41,0.63,27.0',\n",
       " 'ingi_1,Seq_1901,94.118,17,1,0,7,23,12,28,0.63,27.0',\n",
       " 'ingi_1,Seq_1870,82.759,29,5,0,2,30,10,38,0.63,27.0',\n",
       " 'ingi_1,Seq_1820,100.000,14,0,0,26,39,104,117,0.63,27.0',\n",
       " 'ingi_1,Seq_1727,100.000,14,0,0,60,73,56,69,0.63,27.0',\n",
       " 'ingi_1,Seq_1668,100.000,14,0,0,35,48,411,424,0.63,27.0',\n",
       " 'ingi_1,Seq_1518,100.000,14,0,0,26,39,30,43,0.63,27.0',\n",
       " 'ingi_1,Seq_1500,90.476,21,1,1,58,77,340,320,0.63,27.0',\n",
       " 'ingi_1,Seq_926,100.000,14,0,0,33,46,88,101,0.63,27.0',\n",
       " 'ingi_1,Seq_923,100.000,14,0,0,33,46,88,101,0.63,27.0',\n",
       " 'ingi_1,Seq_919,100.000,14,0,0,33,46,47,60,0.63,27.0',\n",
       " 'ingi_1,Seq_671,100.000,14,0,0,26,39,377,364,0.63,27.0',\n",
       " 'ingi_1,Seq_516,79.487,39,6,2,8,45,11,48,0.63,27.0',\n",
       " 'ingi_1,Seq_516,78.947,38,6,2,9,45,907,943,2.3,25.1',\n",
       " 'ingi_1,Seq_508,79.487,39,6,2,8,45,874,837,0.63,27.0',\n",
       " 'ingi_1,Seq_467,100.000,14,0,0,10,23,435,422,0.63,27.0',\n",
       " 'ingi_1,Seq_465,100.000,14,0,0,10,23,11,24,0.63,27.0',\n",
       " 'ingi_1,Seq_405,94.118,17,1,0,59,75,1250,1234,0.63,27.0',\n",
       " 'ingi_1,Seq_1915,100.000,13,0,0,36,48,468,456,2.3,25.1',\n",
       " 'ingi_1,Seq_1860,94.118,17,0,1,58,73,21,37,2.3,25.1',\n",
       " 'ingi_1,Seq_1726,100.000,13,0,0,33,45,58,70,2.3,25.1',\n",
       " 'ingi_1,Seq_1725,100.000,13,0,0,33,45,41,53,2.3,25.1',\n",
       " 'ingi_1,Seq_1714,94.118,17,0,1,34,49,523,507,2.3,25.1',\n",
       " 'ingi_1,Seq_1706,90.000,20,1,1,17,36,576,594,2.3,25.1',\n",
       " 'ingi_1,Seq_1667,100.000,13,0,0,26,38,50,62,2.3,25.1',\n",
       " 'ingi_1,Seq_1562,86.364,22,3,0,8,29,795,774,2.3,25.1',\n",
       " 'ingi_1,Seq_1558,94.118,17,0,1,33,48,46,62,2.3,25.1',\n",
       " 'ingi_1,Seq_1556,93.750,16,1,0,13,28,14,29,2.3,25.1',\n",
       " 'ingi_1,Seq_1536,86.364,22,3,0,26,47,608,629,2.3,25.1',\n",
       " 'ingi_1,Seq_1519,100.000,13,0,0,33,45,2,14,2.3,25.1',\n",
       " 'ingi_1,Seq_1450,94.118,17,0,1,58,73,80,96,2.3,25.1',\n",
       " 'ingi_1,Seq_1448,94.118,17,0,1,58,73,541,525,2.3,25.1',\n",
       " 'ingi_1,Seq_1444,94.118,17,0,1,58,73,556,540,2.3,25.1',\n",
       " 'ingi_1,Seq_1443,94.118,17,0,1,58,73,557,541,2.3,25.1',\n",
       " 'ingi_1,Seq_1442,94.118,17,0,1,58,73,536,520,2.3,25.1',\n",
       " 'ingi_1,Seq_1435,100.000,13,0,0,52,64,43,31,2.3,25.1',\n",
       " 'ingi_1,Seq_1435,100.000,13,0,0,33,45,80,92,2.3,25.1',\n",
       " 'ingi_1,Seq_1394,94.118,17,0,1,58,73,547,531,2.3,25.1',\n",
       " 'ingi_1,Seq_1392,94.118,17,0,1,58,73,606,590,2.3,25.1',\n",
       " 'ingi_1,Seq_1391,90.000,20,1,1,55,73,83,102,2.3,25.1',\n",
       " 'ingi_1,Seq_1390,90.000,20,1,1,55,73,88,107,2.3,25.1',\n",
       " 'ingi_1,Seq_1331,93.750,16,1,0,33,48,515,500,2.3,25.1',\n",
       " 'ingi_1,Seq_1238,93.750,16,1,0,33,48,742,727,2.3,25.1',\n",
       " 'ingi_1,Seq_1237,93.750,16,1,0,33,48,48,63,2.3,25.1',\n",
       " 'ingi_1,Seq_1234,84.615,26,2,2,25,48,38,63,2.3,25.1',\n",
       " 'ingi_1,Seq_1145,94.118,17,0,1,58,73,73,89,2.3,25.1',\n",
       " 'ingi_1,Seq_1144,94.118,17,0,1,33,48,51,67,2.3,25.1',\n",
       " 'ingi_1,Seq_1144,94.118,17,0,1,58,73,86,102,2.3,25.1',\n",
       " 'ingi_1,Seq_1143,94.118,17,0,1,58,73,74,90,2.3,25.1',\n",
       " 'ingi_1,Seq_1142,94.118,17,0,1,58,73,508,492,2.3,25.1',\n",
       " 'ingi_1,Seq_1140,94.118,17,0,1,58,73,531,515,2.3,25.1',\n",
       " 'ingi_1,Seq_1078,93.750,16,1,0,1,16,177,192,2.3,25.1',\n",
       " 'ingi_1,Seq_1033,94.118,17,0,1,58,73,77,93,2.3,25.1',\n",
       " 'ingi_1,Seq_1026,94.118,17,0,1,58,73,503,487,2.3,25.1',\n",
       " 'ingi_1,Seq_1025,94.118,17,0,1,58,73,496,480,2.3,25.1',\n",
       " 'ingi_1,Seq_984,74.324,74,11,6,10,77,650,579,2.3,25.1',\n",
       " 'ingi_1,Seq_962,100.000,13,0,0,10,22,426,414,2.3,25.1',\n",
       " 'ingi_1,Seq_824,84.615,26,2,2,25,48,29,54,2.3,25.1',\n",
       " 'ingi_1,Seq_823,84.615,26,2,2,25,48,32,57,2.3,25.1',\n",
       " 'ingi_1,Seq_822,84.615,26,2,2,25,48,33,58,2.3,25.1',\n",
       " 'ingi_1,Seq_816,84.615,26,2,2,25,48,34,59,2.3,25.1',\n",
       " 'ingi_1,Seq_524,100.000,13,0,0,36,48,43,55,2.3,25.1',\n",
       " 'ingi_1,Seq_523,100.000,13,0,0,36,48,549,537,2.3,25.1',\n",
       " 'ingi_1,Seq_522,100.000,13,0,0,36,48,536,524,2.3,25.1',\n",
       " 'ingi_1,Seq_521,100.000,13,0,0,36,48,549,537,2.3,25.1',\n",
       " 'ingi_1,Seq_507,78.947,38,6,2,9,45,990,954,2.3,25.1',\n",
       " 'ingi_1,Seq_435,90.000,20,1,1,58,76,579,560,2.3,25.1',\n",
       " 'ingi_1,Seq_273,94.118,17,0,1,58,73,16,32,2.3,25.1',\n",
       " 'ingi_1,Seq_63,100.000,13,0,0,33,45,510,498,2.3,25.1',\n",
       " 'ingi_1,Seq_1907,100.000,12,0,0,9,20,343,332,8.2,23.3',\n",
       " 'ingi_1,Seq_1741,100.000,12,0,0,25,36,267,256,8.2,23.3',\n",
       " 'ingi_1,Seq_1739,100.000,12,0,0,25,36,421,410,8.2,23.3',\n",
       " 'ingi_1,Seq_1694,100.000,12,0,0,9,20,389,378,8.2,23.3',\n",
       " 'ingi_1,Seq_1607,93.333,15,1,0,33,47,541,527,8.2,23.3',\n",
       " 'ingi_1,Seq_1590,100.000,12,0,0,58,69,507,496,8.2,23.3',\n",
       " 'ingi_1,Seq_1588,100.000,12,0,0,58,69,501,490,8.2,23.3',\n",
       " 'ingi_1,Seq_1587,100.000,12,0,0,58,69,487,476,8.2,23.3',\n",
       " 'ingi_1,Seq_1474,100.000,12,0,0,33,44,50,61,8.2,23.3',\n",
       " 'ingi_1,Seq_1423,89.474,19,1,1,59,77,358,341,8.2,23.3',\n",
       " 'ingi_1,Seq_1376,100.000,12,0,0,57,68,443,432,8.2,23.3',\n",
       " 'ingi_1,Seq_1299,100.000,12,0,0,32,43,502,491,8.2,23.3',\n",
       " 'ingi_1,Seq_1277,100.000,12,0,0,8,19,535,524,8.2,23.3',\n",
       " 'ingi_1,Seq_1120,93.750,16,0,1,33,48,571,557,8.2,23.3',\n",
       " 'ingi_1,Seq_965,100.000,12,0,0,11,22,425,414,8.2,23.3',\n",
       " 'ingi_1,Seq_766,100.000,12,0,0,10,21,759,748,8.2,23.3',\n",
       " 'ingi_1,Seq_765,100.000,12,0,0,10,21,759,748,8.2,23.3',\n",
       " 'ingi_1,Seq_764,100.000,12,0,0,10,21,559,548,8.2,23.3',\n",
       " 'ingi_1,Seq_763,100.000,12,0,0,10,21,759,748,8.2,23.3',\n",
       " 'ingi_1,Seq_762,100.000,12,0,0,10,21,759,748,8.2,23.3',\n",
       " 'ingi_1,Seq_761,100.000,12,0,0,10,21,657,646,8.2,23.3',\n",
       " 'ingi_1,Seq_630,93.333,15,1,0,59,73,64,78,8.2,23.3',\n",
       " 'ingi_1,Seq_561,93.333,15,1,0,33,47,373,387,8.2,23.3',\n",
       " 'ingi_1,Seq_560,93.333,15,1,0,33,47,318,332,8.2,23.3',\n",
       " 'ingi_1,Seq_559,93.333,15,1,0,33,47,373,387,8.2,23.3',\n",
       " 'ingi_1,Seq_558,93.333,15,1,0,33,47,318,332,8.2,23.3',\n",
       " 'ingi_1,Seq_554,93.333,15,1,0,33,47,315,329,8.2,23.3',\n",
       " 'ingi_1,Seq_553,93.333,15,1,0,33,47,45,59,8.2,23.3',\n",
       " 'ingi_1,Seq_497,100.000,12,0,0,33,44,32,43,8.2,23.3',\n",
       " 'ingi_1,Seq_449,100.000,12,0,0,9,20,367,356,8.2,23.3',\n",
       " 'ingi_1,Seq_436,100.000,12,0,0,9,20,227,238,8.2,23.3',\n",
       " 'ingi_1,Seq_434,100.000,12,0,0,9,20,229,240,8.2,23.3',\n",
       " 'ingi_1,Seq_433,100.000,12,0,0,9,20,220,231,8.2,23.3',\n",
       " 'ingi_1,Seq_432,100.000,12,0,0,9,20,232,221,8.2,23.3',\n",
       " 'ingi_1,Seq_431,100.000,12,0,0,9,20,227,238,8.2,23.3',\n",
       " 'ingi_1,Seq_429,100.000,12,0,0,9,20,212,223,8.2,23.3',\n",
       " 'ingi_1,Seq_427,100.000,12,0,0,9,20,208,219,8.2,23.3',\n",
       " 'ingi_1,Seq_337,100.000,12,0,0,58,69,45,56,8.2,23.3',\n",
       " 'ingi_1,Seq_311,88.889,18,2,0,29,46,420,403,8.2,23.3',\n",
       " 'ingi_1,Seq_310,88.889,18,2,0,29,46,426,409,8.2,23.3',\n",
       " 'ingi_1,Seq_199,100.000,12,0,0,32,43,85,96,8.2,23.3',\n",
       " 'ingi_1,Seq_198,100.000,12,0,0,32,43,86,97,8.2,23.3',\n",
       " 'ingi_1,Seq_189,100.000,12,0,0,9,20,30,19,8.2,23.3',\n",
       " 'ingi_1,Seq_152,100.000,12,0,0,36,47,54,65,8.2,23.3',\n",
       " 'ingi_1,Seq_151,100.000,12,0,0,36,47,54,65,8.2,23.3',\n",
       " 'ingi_1,Seq_149,100.000,12,0,0,36,47,49,60,8.2,23.3',\n",
       " 'ingi_1,Seq_125,93.333,15,1,0,33,47,56,70,8.2,23.3',\n",
       " 'ingi_1,Seq_47,89.474,19,0,2,55,71,61,79,8.2,23.3',\n",
       " 'ingi_1,Seq_46,100.000,12,0,0,60,71,397,386,8.2,23.3',\n",
       " 'ingi_1,Seq_14,100.000,12,0,0,9,20,298,287,8.2,23.3',\n",
       " 'ingi_1,Seq_13,100.000,12,0,0,9,20,314,303,8.2,23.3']"
      ]
     },
     "execution_count": 66,
     "metadata": {},
     "output_type": "execute_result"
    }
   ],
   "source": [
    "blastn_data.strip().split(\"\\n\")"
   ]
  },
  {
   "cell_type": "code",
   "execution_count": 67,
   "metadata": {},
   "outputs": [
    {
     "data": {
      "text/html": [
       "<div>\n",
       "<style scoped>\n",
       "    .dataframe tbody tr th:only-of-type {\n",
       "        vertical-align: middle;\n",
       "    }\n",
       "\n",
       "    .dataframe tbody tr th {\n",
       "        vertical-align: top;\n",
       "    }\n",
       "\n",
       "    .dataframe thead th {\n",
       "        text-align: right;\n",
       "    }\n",
       "</style>\n",
       "<table border=\"1\" class=\"dataframe\">\n",
       "  <thead>\n",
       "    <tr style=\"text-align: right;\">\n",
       "      <th></th>\n",
       "      <th>0</th>\n",
       "      <th>1</th>\n",
       "      <th>2</th>\n",
       "      <th>3</th>\n",
       "      <th>4</th>\n",
       "      <th>5</th>\n",
       "      <th>6</th>\n",
       "      <th>7</th>\n",
       "      <th>8</th>\n",
       "      <th>9</th>\n",
       "      <th>10</th>\n",
       "      <th>11</th>\n",
       "    </tr>\n",
       "  </thead>\n",
       "  <tbody>\n",
       "    <tr>\n",
       "      <th>0</th>\n",
       "      <td>ingi_1</td>\n",
       "      <td>Seq_1028</td>\n",
       "      <td>83.333</td>\n",
       "      <td>60</td>\n",
       "      <td>6</td>\n",
       "      <td>4</td>\n",
       "      <td>17</td>\n",
       "      <td>73</td>\n",
       "      <td>529</td>\n",
       "      <td>471</td>\n",
       "      <td>1.04e-08</td>\n",
       "      <td>52.8</td>\n",
       "    </tr>\n",
       "    <tr>\n",
       "      <th>1</th>\n",
       "      <td>ingi_1</td>\n",
       "      <td>Seq_1948</td>\n",
       "      <td>86.957</td>\n",
       "      <td>46</td>\n",
       "      <td>3</td>\n",
       "      <td>3</td>\n",
       "      <td>1</td>\n",
       "      <td>44</td>\n",
       "      <td>17</td>\n",
       "      <td>61</td>\n",
       "      <td>1.35e-07</td>\n",
       "      <td>49.1</td>\n",
       "    </tr>\n",
       "    <tr>\n",
       "      <th>2</th>\n",
       "      <td>ingi_1</td>\n",
       "      <td>Seq_1943</td>\n",
       "      <td>86.957</td>\n",
       "      <td>46</td>\n",
       "      <td>3</td>\n",
       "      <td>3</td>\n",
       "      <td>1</td>\n",
       "      <td>44</td>\n",
       "      <td>17</td>\n",
       "      <td>61</td>\n",
       "      <td>1.35e-07</td>\n",
       "      <td>49.1</td>\n",
       "    </tr>\n",
       "    <tr>\n",
       "      <th>3</th>\n",
       "      <td>ingi_1</td>\n",
       "      <td>Seq_701</td>\n",
       "      <td>87.805</td>\n",
       "      <td>41</td>\n",
       "      <td>5</td>\n",
       "      <td>0</td>\n",
       "      <td>2</td>\n",
       "      <td>42</td>\n",
       "      <td>792</td>\n",
       "      <td>832</td>\n",
       "      <td>1.35e-07</td>\n",
       "      <td>49.1</td>\n",
       "    </tr>\n",
       "    <tr>\n",
       "      <th>4</th>\n",
       "      <td>ingi_1</td>\n",
       "      <td>Seq_688</td>\n",
       "      <td>87.805</td>\n",
       "      <td>41</td>\n",
       "      <td>5</td>\n",
       "      <td>0</td>\n",
       "      <td>2</td>\n",
       "      <td>42</td>\n",
       "      <td>706</td>\n",
       "      <td>666</td>\n",
       "      <td>1.35e-07</td>\n",
       "      <td>49.1</td>\n",
       "    </tr>\n",
       "  </tbody>\n",
       "</table>\n",
       "</div>"
      ],
      "text/plain": [
       "       0         1       2   3  4  5   6   7    8    9         10    11\n",
       "0  ingi_1  Seq_1028  83.333  60  6  4  17  73  529  471  1.04e-08  52.8\n",
       "1  ingi_1  Seq_1948  86.957  46  3  3   1  44   17   61  1.35e-07  49.1\n",
       "2  ingi_1  Seq_1943  86.957  46  3  3   1  44   17   61  1.35e-07  49.1\n",
       "3  ingi_1   Seq_701  87.805  41  5  0   2  42  792  832  1.35e-07  49.1\n",
       "4  ingi_1   Seq_688  87.805  41  5  0   2  42  706  666  1.35e-07  49.1"
      ]
     },
     "execution_count": 67,
     "metadata": {},
     "output_type": "execute_result"
    }
   ],
   "source": [
    "# To data frame\n",
    "blastn_data_df = pd.DataFrame([x.split(\",\") for x in blastn_data.strip().split(\"\\n\")])\n",
    "blastn_data_df.head()"
   ]
  },
  {
   "cell_type": "code",
   "execution_count": 68,
   "metadata": {},
   "outputs": [
    {
     "data": {
      "text/plain": [
       "(210, 12)"
      ]
     },
     "execution_count": 68,
     "metadata": {},
     "output_type": "execute_result"
    }
   ],
   "source": [
    "blastn_data_df.shape"
   ]
  },
  {
   "cell_type": "code",
   "execution_count": 69,
   "metadata": {},
   "outputs": [
    {
     "data": {
      "text/plain": [
       "204"
      ]
     },
     "execution_count": 69,
     "metadata": {},
     "output_type": "execute_result"
    }
   ],
   "source": [
    "blastn_data_df[1].nunique()"
   ]
  },
  {
   "cell_type": "code",
   "execution_count": 71,
   "metadata": {},
   "outputs": [
    {
     "data": {
      "text/plain": [
       "0.10456176319835982"
      ]
     },
     "execution_count": 71,
     "metadata": {},
     "output_type": "execute_result"
    }
   ],
   "source": [
    "204/1951"
   ]
  }
 ],
 "metadata": {
  "kernelspec": {
   "display_name": "Python 3",
   "language": "python",
   "name": "python3"
  },
  "language_info": {
   "codemirror_mode": {
    "name": "ipython",
    "version": 3
   },
   "file_extension": ".py",
   "mimetype": "text/x-python",
   "name": "python",
   "nbconvert_exporter": "python",
   "pygments_lexer": "ipython3",
   "version": "3.10.12"
  }
 },
 "nbformat": 4,
 "nbformat_minor": 2
}
