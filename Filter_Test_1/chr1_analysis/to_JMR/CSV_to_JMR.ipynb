{
 "cells": [
  {
   "cell_type": "code",
   "execution_count": 1,
   "metadata": {},
   "outputs": [
    {
     "name": "stderr",
     "output_type": "stream",
     "text": [
      "/home/viskuit/anaconda3/lib/python3.10/site-packages/pandas/core/arrays/masked.py:60: UserWarning: Pandas requires version '1.3.6' or newer of 'bottleneck' (version '1.3.5' currently installed).\n",
      "  from pandas.core import (\n"
     ]
    }
   ],
   "source": [
    "import pandas as pd\n",
    "import numpy as np"
   ]
  },
  {
   "cell_type": "code",
   "execution_count": null,
   "metadata": {},
   "outputs": [],
   "source": []
  },
  {
   "cell_type": "code",
   "execution_count": 2,
   "metadata": {},
   "outputs": [
    {
     "name": "stdout",
     "output_type": "stream",
     "text": [
      "Retrieving notices: ...working... done\n",
      "Collecting package metadata (current_repodata.json): \\ WARNING conda.models.version:get_matcher(546): Using .* with relational operator is superfluous and deprecated and will be removed in a future version of conda. Your spec was 1.7.1.*, but conda is ignoring the .* and treating it as 1.7.1\n",
      "done\n",
      "Solving environment: \\ \n",
      "The environment is inconsistent, please check the package plan carefully\n",
      "The following packages are causing the inconsistency:\n",
      "\n",
      "  - conda-forge/noarch::jupyter-server-mathjax==0.2.6=pyh5bfe37b_1\n",
      "  - defaults/linux-64::spyder==5.4.1=py310h06a4308_0\n",
      "  - defaults/linux-64::scikit-image==0.19.3=py310h6a678d5_1\n",
      "  - defaults/linux-64::intake==0.6.7=py310h06a4308_0\n",
      "  - conda-forge/noarch::jupyterlab-lsp==3.10.2=pyhd8ed1ab_0\n",
      "  - conda-forge/noarch::nbdime==3.1.1=pyhd8ed1ab_0\n",
      "  - defaults/linux-64::nbclassic==0.5.2=py310h06a4308_0\n",
      "  - defaults/linux-64::notebook-shim==0.2.2=py310h06a4308_0\n",
      "  - defaults/linux-64::hvplot==0.8.2=py310h06a4308_0\n",
      "  - defaults/linux-64::notebook==6.5.2=py310h06a4308_0\n",
      "  - defaults/linux-64::nbconvert==6.5.4=py310h06a4308_0\n",
      "  - conda-forge/noarch::jupyter-lsp==2.0.1=pyhd8ed1ab_0\n",
      "  - defaults/linux-64::holoviews==1.15.4=py310h06a4308_0\n",
      "  - defaults/linux-64::jupyterlab_server==2.19.0=py310h06a4308_0\n",
      "  - defaults/linux-64::widgetsnbextension==3.5.2=py310h06a4308_0\n",
      "  - defaults/linux-64::jupyter==1.0.0=py310h06a4308_8\n",
      "  - defaults/linux-64::jupyter_server==1.23.4=py310h06a4308_0\n",
      "  - defaults/linux-64::transformers==4.24.0=py310h06a4308_0\n",
      "  - defaults/linux-64::matplotlib==3.7.0=py310h06a4308_0\n",
      "  - defaults/linux-64::conda-build==3.23.3=py310h06a4308_0\n",
      "  - defaults/noarch::ipywidgets==7.6.5=pyhd3eb1b0_1\n",
      "  - conda-forge/noarch::jupyterlab==3.5.3=pyhd8ed1ab_0\n",
      "  - conda-forge/noarch::jupyterlab-git==0.41.0=pyhd8ed1ab_1\n",
      "/ ^C\n",
      "failed with initial frozen solve. Retrying with flexible solve.\n",
      "\n",
      "CondaError: KeyboardInterrupt\n",
      "\n",
      "\n",
      "Note: you may need to restart the kernel to use updated packages.\n"
     ]
    }
   ],
   "source": [
    "%conda install pandas"
   ]
  }
 ],
 "metadata": {
  "kernelspec": {
   "display_name": "base",
   "language": "python",
   "name": "python3"
  },
  "language_info": {
   "codemirror_mode": {
    "name": "ipython",
    "version": 3
   },
   "file_extension": ".py",
   "mimetype": "text/x-python",
   "name": "python",
   "nbconvert_exporter": "python",
   "pygments_lexer": "ipython3",
   "version": "3.10.9"
  }
 },
 "nbformat": 4,
 "nbformat_minor": 2
}
