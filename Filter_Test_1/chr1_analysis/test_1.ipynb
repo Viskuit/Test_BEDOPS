{
 "cells": [
  {
   "cell_type": "code",
   "execution_count": 43,
   "metadata": {},
   "outputs": [],
   "source": [
    "import pandas as pd\n",
    "import numpy as np\n",
    "import os\n",
    "\n",
    "from Bio import SeqIO\n",
    "from Bio.Seq import Seq\n",
    "from Bio.SeqRecord import SeqRecord"
   ]
  },
  {
   "cell_type": "code",
   "execution_count": 45,
   "metadata": {},
   "outputs": [],
   "source": [
    "os.chdir(\"/home/rfpacheco/Desktop/Projects/Testing_Leishmania_project/Filter_Test_1/chr2_analysis\")\n"
   ]
  },
  {
   "cell_type": "code",
   "execution_count": 36,
   "metadata": {},
   "outputs": [],
   "source": [
    "path = \"../filtered_data.csv\"\n",
    "genome_path = \"../../Data/genome/TriTrypDB-67_LinfantumJPCM5_Genome.fasta\""
   ]
  },
  {
   "cell_type": "markdown",
   "metadata": {},
   "source": [
    "Need to create a *fasta* file with all the filtered data"
   ]
  },
  {
   "cell_type": "code",
   "execution_count": 37,
   "metadata": {},
   "outputs": [
    {
     "name": "stdout",
     "output_type": "stream",
     "text": [
      "(6012, 6)\n"
     ]
    },
    {
     "data": {
      "text/html": [
       "<div>\n",
       "<style scoped>\n",
       "    .dataframe tbody tr th:only-of-type {\n",
       "        vertical-align: middle;\n",
       "    }\n",
       "\n",
       "    .dataframe tbody tr th {\n",
       "        vertical-align: top;\n",
       "    }\n",
       "\n",
       "    .dataframe thead th {\n",
       "        text-align: right;\n",
       "    }\n",
       "</style>\n",
       "<table border=\"1\" class=\"dataframe\">\n",
       "  <thead>\n",
       "    <tr style=\"text-align: right;\">\n",
       "      <th></th>\n",
       "      <th>0</th>\n",
       "      <th>1</th>\n",
       "      <th>2</th>\n",
       "      <th>3</th>\n",
       "      <th>4</th>\n",
       "      <th>5</th>\n",
       "    </tr>\n",
       "  </thead>\n",
       "  <tbody>\n",
       "    <tr>\n",
       "      <th>0</th>\n",
       "      <td>LinJ.01</td>\n",
       "      <td>666</td>\n",
       "      <td>24093</td>\n",
       "      <td>24758</td>\n",
       "      <td>plus</td>\n",
       "      <td>GGGGGAGGCGGGGGAGGCGGGGGGCACGCACCTCCATGCGTGGCAT...</td>\n",
       "    </tr>\n",
       "    <tr>\n",
       "      <th>1</th>\n",
       "      <td>LinJ.01</td>\n",
       "      <td>618</td>\n",
       "      <td>35316</td>\n",
       "      <td>35933</td>\n",
       "      <td>plus</td>\n",
       "      <td>GAGGTGGAGGCCGCTCTGCCCCCCCCGCCGCCGAGTGCTGCAGGCA...</td>\n",
       "    </tr>\n",
       "    <tr>\n",
       "      <th>2</th>\n",
       "      <td>LinJ.01</td>\n",
       "      <td>884</td>\n",
       "      <td>39698</td>\n",
       "      <td>40581</td>\n",
       "      <td>plus</td>\n",
       "      <td>CTCACCCTCATCCCACCCCTCCTCGTCCATCGACGGGAGTGGGCGG...</td>\n",
       "    </tr>\n",
       "    <tr>\n",
       "      <th>3</th>\n",
       "      <td>LinJ.01</td>\n",
       "      <td>645</td>\n",
       "      <td>54885</td>\n",
       "      <td>55529</td>\n",
       "      <td>plus</td>\n",
       "      <td>TGTTTGGTCTTCCGCGTGTCCGTTTTCGCTGCCGCACACTGCGAGG...</td>\n",
       "    </tr>\n",
       "    <tr>\n",
       "      <th>4</th>\n",
       "      <td>LinJ.01</td>\n",
       "      <td>868</td>\n",
       "      <td>75659</td>\n",
       "      <td>76526</td>\n",
       "      <td>plus</td>\n",
       "      <td>GAGCGCCGCTGAGCAGGCAAGCGAGGCAACCTACGAAAACATGGCA...</td>\n",
       "    </tr>\n",
       "  </tbody>\n",
       "</table>\n",
       "</div>"
      ],
      "text/plain": [
       "         0    1      2      3     4  \\\n",
       "0  LinJ.01  666  24093  24758  plus   \n",
       "1  LinJ.01  618  35316  35933  plus   \n",
       "2  LinJ.01  884  39698  40581  plus   \n",
       "3  LinJ.01  645  54885  55529  plus   \n",
       "4  LinJ.01  868  75659  76526  plus   \n",
       "\n",
       "                                                   5  \n",
       "0  GGGGGAGGCGGGGGAGGCGGGGGGCACGCACCTCCATGCGTGGCAT...  \n",
       "1  GAGGTGGAGGCCGCTCTGCCCCCCCCGCCGCCGAGTGCTGCAGGCA...  \n",
       "2  CTCACCCTCATCCCACCCCTCCTCGTCCATCGACGGGAGTGGGCGG...  \n",
       "3  TGTTTGGTCTTCCGCGTGTCCGTTTTCGCTGCCGCACACTGCGAGG...  \n",
       "4  GAGCGCCGCTGAGCAGGCAAGCGAGGCAACCTACGAAAACATGGCA...  "
      ]
     },
     "execution_count": 37,
     "metadata": {},
     "output_type": "execute_result"
    }
   ],
   "source": [
    "data = pd.read_csv(path, sep=\",\", header=None)\n",
    "print(data.shape)\n",
    "data.head()"
   ]
  },
  {
   "cell_type": "code",
   "execution_count": 38,
   "metadata": {},
   "outputs": [
    {
     "name": "stdout",
     "output_type": "stream",
     "text": [
      "(57, 6)\n"
     ]
    },
    {
     "data": {
      "text/html": [
       "<div>\n",
       "<style scoped>\n",
       "    .dataframe tbody tr th:only-of-type {\n",
       "        vertical-align: middle;\n",
       "    }\n",
       "\n",
       "    .dataframe tbody tr th {\n",
       "        vertical-align: top;\n",
       "    }\n",
       "\n",
       "    .dataframe thead th {\n",
       "        text-align: right;\n",
       "    }\n",
       "</style>\n",
       "<table border=\"1\" class=\"dataframe\">\n",
       "  <thead>\n",
       "    <tr style=\"text-align: right;\">\n",
       "      <th></th>\n",
       "      <th>0</th>\n",
       "      <th>1</th>\n",
       "      <th>2</th>\n",
       "      <th>3</th>\n",
       "      <th>4</th>\n",
       "      <th>5</th>\n",
       "    </tr>\n",
       "  </thead>\n",
       "  <tbody>\n",
       "    <tr>\n",
       "      <th>21</th>\n",
       "      <td>LinJ.02</td>\n",
       "      <td>436</td>\n",
       "      <td>16511</td>\n",
       "      <td>16946</td>\n",
       "      <td>plus</td>\n",
       "      <td>CCGGGGGGGTGCGGAGGACACACATACGCCTCAGGGCGCGGTATCG...</td>\n",
       "    </tr>\n",
       "    <tr>\n",
       "      <th>22</th>\n",
       "      <td>LinJ.02</td>\n",
       "      <td>456</td>\n",
       "      <td>27338</td>\n",
       "      <td>27793</td>\n",
       "      <td>plus</td>\n",
       "      <td>GACACACATACGCCTCAGGGCGCGGTATCGCAGGGCCCGGTGCACT...</td>\n",
       "    </tr>\n",
       "    <tr>\n",
       "      <th>23</th>\n",
       "      <td>LinJ.02</td>\n",
       "      <td>478</td>\n",
       "      <td>73790</td>\n",
       "      <td>74267</td>\n",
       "      <td>plus</td>\n",
       "      <td>TCGGTACCCCAAAACGTGGTCGTGCTCCGCACGCGAGCCGCGCAAT...</td>\n",
       "    </tr>\n",
       "    <tr>\n",
       "      <th>24</th>\n",
       "      <td>LinJ.02</td>\n",
       "      <td>1000</td>\n",
       "      <td>89374</td>\n",
       "      <td>90373</td>\n",
       "      <td>plus</td>\n",
       "      <td>CAAGAGGCGGAGAAAGAGCTGGATGCCGATGTGCAGGGAATGGATA...</td>\n",
       "    </tr>\n",
       "    <tr>\n",
       "      <th>25</th>\n",
       "      <td>LinJ.02</td>\n",
       "      <td>1104</td>\n",
       "      <td>94261</td>\n",
       "      <td>95364</td>\n",
       "      <td>plus</td>\n",
       "      <td>AGCCTCAGGCCAGGGCCCGCTGAGACCCTGCACATCCTGTCTGTGT...</td>\n",
       "    </tr>\n",
       "  </tbody>\n",
       "</table>\n",
       "</div>"
      ],
      "text/plain": [
       "          0     1      2      3     4  \\\n",
       "21  LinJ.02   436  16511  16946  plus   \n",
       "22  LinJ.02   456  27338  27793  plus   \n",
       "23  LinJ.02   478  73790  74267  plus   \n",
       "24  LinJ.02  1000  89374  90373  plus   \n",
       "25  LinJ.02  1104  94261  95364  plus   \n",
       "\n",
       "                                                    5  \n",
       "21  CCGGGGGGGTGCGGAGGACACACATACGCCTCAGGGCGCGGTATCG...  \n",
       "22  GACACACATACGCCTCAGGGCGCGGTATCGCAGGGCCCGGTGCACT...  \n",
       "23  TCGGTACCCCAAAACGTGGTCGTGCTCCGCACGCGAGCCGCGCAAT...  \n",
       "24  CAAGAGGCGGAGAAAGAGCTGGATGCCGATGTGCAGGGAATGGATA...  \n",
       "25  AGCCTCAGGCCAGGGCCCGCTGAGACCCTGCACATCCTGTCTGTGT...  "
      ]
     },
     "execution_count": 38,
     "metadata": {},
     "output_type": "execute_result"
    }
   ],
   "source": [
    "# Subset chromosome 1\n",
    "data_sub1 = data[data[0] == \"LinJ.02\"]\n",
    "print(data_sub1.shape)\n",
    "data_sub1.head()"
   ]
  },
  {
   "cell_type": "code",
   "execution_count": 39,
   "metadata": {},
   "outputs": [],
   "source": [
    "# Let's define  the fasta function\n",
    "def fasta_creator(data_df, fasta_output_path):\n",
    "\n",
    "    fasta_df = []\n",
    "    for index, row in data_df.iterrows():\n",
    "        rec = SeqRecord(\n",
    "            Seq(row.iloc[5]),\n",
    "            id=\"Seq_\" + str(index) + \"_\" + row.iloc[0] + \"_\" + row.iloc[4],           \n",
    "            description=\"Leishmania infantum \" + row.iloc[4]\n",
    "            )\n",
    "        fasta_df.append(rec)\n",
    "\n",
    "    SeqIO.write(fasta_df, fasta_output_path, \"fasta\")\n",
    "    print(\"\\nFasta created at:\", fasta_output_path)"
   ]
  },
  {
   "cell_type": "code",
   "execution_count": 46,
   "metadata": {},
   "outputs": [
    {
     "name": "stdout",
     "output_type": "stream",
     "text": [
      "\n",
      "Fasta created at: LinJ02_SIDERs.fasta\n"
     ]
    }
   ],
   "source": [
    "# Let's create the fasta file\n",
    "fasta_creator(data_sub1, \"LinJ02_SIDERs.fasta\")"
   ]
  },
  {
   "cell_type": "code",
   "execution_count": 47,
   "metadata": {},
   "outputs": [],
   "source": [
    "# Let's define the BLASTn dictionary function\n",
    "def blastn_dic(path_input):\n",
    "    os.system(\"makeblastdb -in \" + path_input + \" -dbtype nucl -parse_seqids\")\n",
    "    print(\"\\nBlast Dictionary created in\", path_input)"
   ]
  },
  {
   "cell_type": "code",
   "execution_count": 48,
   "metadata": {},
   "outputs": [
    {
     "name": "stdout",
     "output_type": "stream",
     "text": [
      "\n",
      "\n",
      "Building a new DB, current time: 04/02/2024 16:36:46\n",
      "New DB name:   /home/rfpacheco/Desktop/Projects/Testing_Leishmania_project/Filter_Test_1/chr2_analysis/LinJ02_SIDERs.fasta\n",
      "New DB title:  ./LinJ02_SIDERs.fasta\n",
      "Sequence type: Nucleotide\n",
      "Keep MBits: T\n",
      "Maximum file size: 1000000000B\n",
      "Adding sequences from FASTA; added 57 sequences in 0.00146389 seconds.\n",
      "\n",
      "\n",
      "\n",
      "Blast Dictionary created in ./LinJ02_SIDERs.fasta\n"
     ]
    }
   ],
   "source": [
    "# Launch BLASTn dictionary function\n",
    "blastn_dic(\"./LinJ02_SIDERs.fasta\")"
   ]
  },
  {
   "cell_type": "code",
   "execution_count": 49,
   "metadata": {},
   "outputs": [],
   "source": [
    "# Create the main BLASTn function:\n",
    "def blastn_blaster(query_path, dict_path, outfile_path, perc_identity):\n",
    "    print(\"BLASTn searcher initiated\")\n",
    "    os.system(\"blastn -word_size 11 -query \"\n",
    "                + query_path + \" -db \"\n",
    "                + dict_path + \" -out \"\n",
    "                + outfile_path + \" -perc_identity \"\n",
    "                + str(perc_identity) + \" -outfmt '10 qseqid sseqid pident length qlen slen mismatch gapopen qstart qend sstart send evalue bitscore qcovhsp sstrand sseq'\")\n",
    "    print(\"\\nBlaster successful\", outfile_path, \"created.\")\n"
   ]
  },
  {
   "cell_type": "code",
   "execution_count": 50,
   "metadata": {},
   "outputs": [
    {
     "name": "stdout",
     "output_type": "stream",
     "text": [
      "BLASTn searcher initiated\n",
      "\n",
      "Blaster successful output.csv created.\n"
     ]
    }
   ],
   "source": [
    "blastn_blaster(\"LinJ01_SIDERs.fasta\", \"./LinJ02_SIDERs.fasta\", \"output.csv\", 85)"
   ]
  },
  {
   "cell_type": "code",
   "execution_count": 29,
   "metadata": {},
   "outputs": [
    {
     "name": "stdout",
     "output_type": "stream",
     "text": [
      "Shape before filtering: (516, 17)\n",
      "Number of unique values in column 0 before filtering: 33\n",
      "==================================================\n",
      "Shape after filtering: (335, 17)\n",
      "Number of unique values in column 0 after filtering: 33\n"
     ]
    }
   ],
   "source": [
    "# Filter alignment length > 100\n",
    "blast_data = pd.read_csv(\"output.csv\", sep=\",\", header=None)\n",
    "print(f\"Shape before filtering: {blast_data.shape}\")\n",
    "print(\"Number of unique values in column 0 before filtering:\", blast_data[0].nunique())\n",
    "\n",
    "# Now filter it\n",
    "print(\"=\"*50)\n",
    "blast_data = blast_data[blast_data[3] > 100]\n",
    "print(f\"Shape after filtering: {blast_data.shape}\")\n",
    "print(\"Number of unique values in column 0 after filtering:\", blast_data[0].nunique())\n",
    "blast_data.head()\n",
    "blast_data.to_csv(\"output2.csv\", sep=\",\", header=None, index=None)\n"
   ]
  },
  {
   "cell_type": "code",
   "execution_count": 31,
   "metadata": {},
   "outputs": [
    {
     "data": {
      "text/html": [
       "<div>\n",
       "<style scoped>\n",
       "    .dataframe tbody tr th:only-of-type {\n",
       "        vertical-align: middle;\n",
       "    }\n",
       "\n",
       "    .dataframe tbody tr th {\n",
       "        vertical-align: top;\n",
       "    }\n",
       "\n",
       "    .dataframe thead th {\n",
       "        text-align: right;\n",
       "    }\n",
       "</style>\n",
       "<table border=\"1\" class=\"dataframe\">\n",
       "  <thead>\n",
       "    <tr style=\"text-align: right;\">\n",
       "      <th></th>\n",
       "      <th>0</th>\n",
       "      <th>1</th>\n",
       "      <th>2</th>\n",
       "      <th>3</th>\n",
       "      <th>4</th>\n",
       "      <th>5</th>\n",
       "      <th>6</th>\n",
       "      <th>7</th>\n",
       "      <th>8</th>\n",
       "      <th>9</th>\n",
       "      <th>10</th>\n",
       "      <th>11</th>\n",
       "      <th>12</th>\n",
       "      <th>13</th>\n",
       "      <th>14</th>\n",
       "      <th>15</th>\n",
       "      <th>16</th>\n",
       "    </tr>\n",
       "  </thead>\n",
       "  <tbody>\n",
       "    <tr>\n",
       "      <th>0</th>\n",
       "      <td>Seq_0_LinJ.01_plus</td>\n",
       "      <td>Seq_0_LinJ.01_plus</td>\n",
       "      <td>100.000</td>\n",
       "      <td>666</td>\n",
       "      <td>666</td>\n",
       "      <td>666</td>\n",
       "      <td>0</td>\n",
       "      <td>0</td>\n",
       "      <td>1</td>\n",
       "      <td>666</td>\n",
       "      <td>1</td>\n",
       "      <td>666</td>\n",
       "      <td>0.0</td>\n",
       "      <td>1230.0</td>\n",
       "      <td>100</td>\n",
       "      <td>plus</td>\n",
       "      <td>GGGGGAGGCGGGGGAGGCGGGGGGCACGCACCTCCATGCGTGGCAT...</td>\n",
       "    </tr>\n",
       "    <tr>\n",
       "      <th>1</th>\n",
       "      <td>Seq_0_LinJ.01_plus</td>\n",
       "      <td>Seq_3_LinJ.01_plus</td>\n",
       "      <td>99.534</td>\n",
       "      <td>644</td>\n",
       "      <td>666</td>\n",
       "      <td>645</td>\n",
       "      <td>3</td>\n",
       "      <td>0</td>\n",
       "      <td>23</td>\n",
       "      <td>666</td>\n",
       "      <td>644</td>\n",
       "      <td>1</td>\n",
       "      <td>0.0</td>\n",
       "      <td>1173.0</td>\n",
       "      <td>97</td>\n",
       "      <td>minus</td>\n",
       "      <td>GGCACGCACCTCCATGCGTGGCATCCCAGGGTCCAGCGCCCCCCCC...</td>\n",
       "    </tr>\n",
       "    <tr>\n",
       "      <th>2</th>\n",
       "      <td>Seq_0_LinJ.01_plus</td>\n",
       "      <td>Seq_1_LinJ.01_plus</td>\n",
       "      <td>99.192</td>\n",
       "      <td>619</td>\n",
       "      <td>666</td>\n",
       "      <td>618</td>\n",
       "      <td>3</td>\n",
       "      <td>2</td>\n",
       "      <td>7</td>\n",
       "      <td>624</td>\n",
       "      <td>618</td>\n",
       "      <td>1</td>\n",
       "      <td>0.0</td>\n",
       "      <td>1114.0</td>\n",
       "      <td>93</td>\n",
       "      <td>minus</td>\n",
       "      <td>GGCGGGGGAGGCGGGGGGCACGCACCTCCATGCGTGGCATCCCAGG...</td>\n",
       "    </tr>\n",
       "    <tr>\n",
       "      <th>3</th>\n",
       "      <td>Seq_0_LinJ.01_plus</td>\n",
       "      <td>Seq_2669_LinJ.01_minus</td>\n",
       "      <td>100.000</td>\n",
       "      <td>560</td>\n",
       "      <td>666</td>\n",
       "      <td>593</td>\n",
       "      <td>0</td>\n",
       "      <td>0</td>\n",
       "      <td>107</td>\n",
       "      <td>666</td>\n",
       "      <td>593</td>\n",
       "      <td>34</td>\n",
       "      <td>0.0</td>\n",
       "      <td>1035.0</td>\n",
       "      <td>84</td>\n",
       "      <td>minus</td>\n",
       "      <td>CCCCCTCACCCTCTATCCCTGCCAACGCCGAACCACTTCTGGTGCT...</td>\n",
       "    </tr>\n",
       "    <tr>\n",
       "      <th>5</th>\n",
       "      <td>Seq_0_LinJ.01_plus</td>\n",
       "      <td>Seq_2670_LinJ.01_minus</td>\n",
       "      <td>99.462</td>\n",
       "      <td>558</td>\n",
       "      <td>666</td>\n",
       "      <td>787</td>\n",
       "      <td>2</td>\n",
       "      <td>1</td>\n",
       "      <td>7</td>\n",
       "      <td>563</td>\n",
       "      <td>228</td>\n",
       "      <td>785</td>\n",
       "      <td>0.0</td>\n",
       "      <td>1013.0</td>\n",
       "      <td>84</td>\n",
       "      <td>plus</td>\n",
       "      <td>GGCGGGGGAGGCGGGGGGCACGCACCTCCATGCGTGGCATCCCAGG...</td>\n",
       "    </tr>\n",
       "  </tbody>\n",
       "</table>\n",
       "</div>"
      ],
      "text/plain": [
       "                   0                       1        2    3    4    5   6   7   \\\n",
       "0  Seq_0_LinJ.01_plus      Seq_0_LinJ.01_plus  100.000  666  666  666   0   0   \n",
       "1  Seq_0_LinJ.01_plus      Seq_3_LinJ.01_plus   99.534  644  666  645   3   0   \n",
       "2  Seq_0_LinJ.01_plus      Seq_1_LinJ.01_plus   99.192  619  666  618   3   2   \n",
       "3  Seq_0_LinJ.01_plus  Seq_2669_LinJ.01_minus  100.000  560  666  593   0   0   \n",
       "5  Seq_0_LinJ.01_plus  Seq_2670_LinJ.01_minus   99.462  558  666  787   2   1   \n",
       "\n",
       "    8    9    10   11   12      13   14     15  \\\n",
       "0    1  666    1  666  0.0  1230.0  100   plus   \n",
       "1   23  666  644    1  0.0  1173.0   97  minus   \n",
       "2    7  624  618    1  0.0  1114.0   93  minus   \n",
       "3  107  666  593   34  0.0  1035.0   84  minus   \n",
       "5    7  563  228  785  0.0  1013.0   84   plus   \n",
       "\n",
       "                                                  16  \n",
       "0  GGGGGAGGCGGGGGAGGCGGGGGGCACGCACCTCCATGCGTGGCAT...  \n",
       "1  GGCACGCACCTCCATGCGTGGCATCCCAGGGTCCAGCGCCCCCCCC...  \n",
       "2  GGCGGGGGAGGCGGGGGGCACGCACCTCCATGCGTGGCATCCCAGG...  \n",
       "3  CCCCCTCACCCTCTATCCCTGCCAACGCCGAACCACTTCTGGTGCT...  \n",
       "5  GGCGGGGGAGGCGGGGGGCACGCACCTCCATGCGTGGCATCCCAGG...  "
      ]
     },
     "execution_count": 31,
     "metadata": {},
     "output_type": "execute_result"
    }
   ],
   "source": [
    "blast_data.head()"
   ]
  },
  {
   "cell_type": "code",
   "execution_count": 33,
   "metadata": {},
   "outputs": [],
   "source": [
    "blast_data_test = blast_data[blast_data[14] >= 80]\n",
    "blast_data_test.to_csv(\"output_test.csv\", sep=\",\", header=None, index=None)"
   ]
  },
  {
   "cell_type": "code",
   "execution_count": 19,
   "metadata": {},
   "outputs": [],
   "source": [
    "catcher = []\n",
    "groups = []\n",
    "for index, row in blast_data.iterrows():\n",
    "    if row[0] not in groups:\n",
    "        catcher.append(row[0])\n",
    "        groups.append([row[0]])  # Created group\n",
    "    \n",
    "\n"
   ]
  }
 ],
 "metadata": {
  "kernelspec": {
   "display_name": "Python 3",
   "language": "python",
   "name": "python3"
  },
  "language_info": {
   "codemirror_mode": {
    "name": "ipython",
    "version": 3
   },
   "file_extension": ".py",
   "mimetype": "text/x-python",
   "name": "python",
   "nbconvert_exporter": "python",
   "pygments_lexer": "ipython3",
   "version": "3.10.12"
  }
 },
 "nbformat": 4,
 "nbformat_minor": 2
}
