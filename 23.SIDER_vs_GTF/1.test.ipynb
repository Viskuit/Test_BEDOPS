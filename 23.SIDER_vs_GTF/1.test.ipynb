{
 "cells": [
  {
   "cell_type": "markdown",
   "metadata": {},
   "source": [
    "# Save data"
   ]
  },
  {
   "cell_type": "code",
   "execution_count": 11,
   "metadata": {},
   "outputs": [],
   "source": [
    "# variables_dict = {\n",
    "\n",
    "# }"
   ]
  },
  {
   "cell_type": "code",
   "execution_count": 12,
   "metadata": {},
   "outputs": [],
   "source": [
    "# import os\n",
    "# import pickle\n",
    "\n",
    "# def data_save_load(option, dict_variables=None):\n",
    "#     \"\"\"\n",
    "#     This function is used to save or load data for the jupyter notebook\n",
    "#     \"\"\"\n",
    "#     path_folder = \"ipynb_db\"  # Folder to save variables\n",
    "#     os.makedirs(path_folder, exist_ok=True)  # Create folder if not exist\n",
    "#     path_file = os.path.join(path_folder, \"variables.pkl\") # Path to save the variables\n",
    "\n",
    "#     if option == \"save\":\n",
    "#         with open(path_file, \"wb\") as f:\n",
    "#             pickle.dump(variables, f)\n",
    "#     elif option == \"load\":\n",
    "#         with open(path_file, \"rb\") as f:\n",
    "#             variables = pickle.load(f)\n",
    "#         # Now load the variables\n",
    "#         for key, value in variables.items():\n",
    "#             variables[key] = value"
   ]
  },
  {
   "cell_type": "code",
   "execution_count": 13,
   "metadata": {},
   "outputs": [],
   "source": [
    "# data_save_load(option=\"load\",\n",
    "#                dict_variables=None)"
   ]
  },
  {
   "cell_type": "markdown",
   "metadata": {},
   "source": [
    "# Code"
   ]
  },
  {
   "cell_type": "markdown",
   "metadata": {},
   "source": [
    "## 1. Load data"
   ]
  },
  {
   "cell_type": "code",
   "execution_count": 14,
   "metadata": {},
   "outputs": [],
   "source": [
    "import pandas as pd"
   ]
  },
  {
   "cell_type": "markdown",
   "metadata": {},
   "source": [
    "### 1.1. SIDER data"
   ]
  },
  {
   "cell_type": "code",
   "execution_count": 15,
   "metadata": {},
   "outputs": [
    {
     "name": "stdout",
     "output_type": "stream",
     "text": [
      "(2132, 9)\n",
      "0    object\n",
      "1    object\n",
      "2    object\n",
      "3     int64\n",
      "4     int64\n",
      "5    object\n",
      "6    object\n",
      "7    object\n",
      "8    object\n",
      "dtype: object\n"
     ]
    },
    {
     "data": {
      "text/html": [
       "<div>\n",
       "<style scoped>\n",
       "    .dataframe tbody tr th:only-of-type {\n",
       "        vertical-align: middle;\n",
       "    }\n",
       "\n",
       "    .dataframe tbody tr th {\n",
       "        vertical-align: top;\n",
       "    }\n",
       "\n",
       "    .dataframe thead th {\n",
       "        text-align: right;\n",
       "    }\n",
       "</style>\n",
       "<table border=\"1\" class=\"dataframe\">\n",
       "  <thead>\n",
       "    <tr style=\"text-align: right;\">\n",
       "      <th></th>\n",
       "      <th>0</th>\n",
       "      <th>1</th>\n",
       "      <th>2</th>\n",
       "      <th>3</th>\n",
       "      <th>4</th>\n",
       "      <th>5</th>\n",
       "      <th>6</th>\n",
       "      <th>7</th>\n",
       "      <th>8</th>\n",
       "    </tr>\n",
       "  </thead>\n",
       "  <tbody>\n",
       "    <tr>\n",
       "      <th>0</th>\n",
       "      <td>LinJ.01</td>\n",
       "      <td>CBM</td>\n",
       "      <td>SIDER</td>\n",
       "      <td>2</td>\n",
       "      <td>174</td>\n",
       "      <td>.</td>\n",
       "      <td>+</td>\n",
       "      <td>.</td>\n",
       "      <td>ID=src_c01.10</td>\n",
       "    </tr>\n",
       "    <tr>\n",
       "      <th>1</th>\n",
       "      <td>LinJ.01</td>\n",
       "      <td>CBM</td>\n",
       "      <td>SIDER</td>\n",
       "      <td>24094</td>\n",
       "      <td>24759</td>\n",
       "      <td>.</td>\n",
       "      <td>+</td>\n",
       "      <td>.</td>\n",
       "      <td>ID=src_c01.20A</td>\n",
       "    </tr>\n",
       "    <tr>\n",
       "      <th>2</th>\n",
       "      <td>LinJ.01</td>\n",
       "      <td>CBM</td>\n",
       "      <td>SIDER</td>\n",
       "      <td>35372</td>\n",
       "      <td>35957</td>\n",
       "      <td>.</td>\n",
       "      <td>+</td>\n",
       "      <td>.</td>\n",
       "      <td>ID=src_c01.30A</td>\n",
       "    </tr>\n",
       "    <tr>\n",
       "      <th>3</th>\n",
       "      <td>LinJ.01</td>\n",
       "      <td>CBM</td>\n",
       "      <td>SIDER</td>\n",
       "      <td>39791</td>\n",
       "      <td>40596</td>\n",
       "      <td>.</td>\n",
       "      <td>+</td>\n",
       "      <td>.</td>\n",
       "      <td>ID=src_c01.40</td>\n",
       "    </tr>\n",
       "    <tr>\n",
       "      <th>4</th>\n",
       "      <td>LinJ.01</td>\n",
       "      <td>CBM</td>\n",
       "      <td>SIDER</td>\n",
       "      <td>54984</td>\n",
       "      <td>55548</td>\n",
       "      <td>.</td>\n",
       "      <td>+</td>\n",
       "      <td>.</td>\n",
       "      <td>ID=src_c01.50A</td>\n",
       "    </tr>\n",
       "  </tbody>\n",
       "</table>\n",
       "</div>"
      ],
      "text/plain": [
       "         0    1      2      3      4  5  6  7               8\n",
       "0  LinJ.01  CBM  SIDER      2    174  .  +  .   ID=src_c01.10\n",
       "1  LinJ.01  CBM  SIDER  24094  24759  .  +  .  ID=src_c01.20A\n",
       "2  LinJ.01  CBM  SIDER  35372  35957  .  +  .  ID=src_c01.30A\n",
       "3  LinJ.01  CBM  SIDER  39791  40596  .  +  .   ID=src_c01.40\n",
       "4  LinJ.01  CBM  SIDER  54984  55548  .  +  .  ID=src_c01.50A"
      ]
     },
     "execution_count": 15,
     "metadata": {},
     "output_type": "execute_result"
    }
   ],
   "source": [
    "sider_df = pd.read_csv(\"data/SIDER_elements.gff\", sep=\"\\t\", header=None)\n",
    "print(sider_df.shape)\n",
    "print(sider_df.dtypes)\n",
    "sider_df.head()"
   ]
  },
  {
   "cell_type": "markdown",
   "metadata": {},
   "source": [
    "In the `sider_df` I only need the column 0, 3, 4, 6 and 8 columns"
   ]
  },
  {
   "cell_type": "code",
   "execution_count": 16,
   "metadata": {},
   "outputs": [
    {
     "name": "stdout",
     "output_type": "stream",
     "text": [
      "(2132, 5)\n",
      "chrom         object\n",
      "start          int64\n",
      "end            int64\n",
      "strand        object\n",
      "sider_name    object\n",
      "dtype: object\n"
     ]
    },
    {
     "data": {
      "text/html": [
       "<div>\n",
       "<style scoped>\n",
       "    .dataframe tbody tr th:only-of-type {\n",
       "        vertical-align: middle;\n",
       "    }\n",
       "\n",
       "    .dataframe tbody tr th {\n",
       "        vertical-align: top;\n",
       "    }\n",
       "\n",
       "    .dataframe thead th {\n",
       "        text-align: right;\n",
       "    }\n",
       "</style>\n",
       "<table border=\"1\" class=\"dataframe\">\n",
       "  <thead>\n",
       "    <tr style=\"text-align: right;\">\n",
       "      <th></th>\n",
       "      <th>chrom</th>\n",
       "      <th>start</th>\n",
       "      <th>end</th>\n",
       "      <th>strand</th>\n",
       "      <th>sider_name</th>\n",
       "    </tr>\n",
       "  </thead>\n",
       "  <tbody>\n",
       "    <tr>\n",
       "      <th>0</th>\n",
       "      <td>LinJ.01</td>\n",
       "      <td>2</td>\n",
       "      <td>174</td>\n",
       "      <td>+</td>\n",
       "      <td>ID=src_c01.10</td>\n",
       "    </tr>\n",
       "    <tr>\n",
       "      <th>1</th>\n",
       "      <td>LinJ.01</td>\n",
       "      <td>24094</td>\n",
       "      <td>24759</td>\n",
       "      <td>+</td>\n",
       "      <td>ID=src_c01.20A</td>\n",
       "    </tr>\n",
       "    <tr>\n",
       "      <th>2</th>\n",
       "      <td>LinJ.01</td>\n",
       "      <td>35372</td>\n",
       "      <td>35957</td>\n",
       "      <td>+</td>\n",
       "      <td>ID=src_c01.30A</td>\n",
       "    </tr>\n",
       "    <tr>\n",
       "      <th>3</th>\n",
       "      <td>LinJ.01</td>\n",
       "      <td>39791</td>\n",
       "      <td>40596</td>\n",
       "      <td>+</td>\n",
       "      <td>ID=src_c01.40</td>\n",
       "    </tr>\n",
       "    <tr>\n",
       "      <th>4</th>\n",
       "      <td>LinJ.01</td>\n",
       "      <td>54984</td>\n",
       "      <td>55548</td>\n",
       "      <td>+</td>\n",
       "      <td>ID=src_c01.50A</td>\n",
       "    </tr>\n",
       "  </tbody>\n",
       "</table>\n",
       "</div>"
      ],
      "text/plain": [
       "     chrom  start    end strand      sider_name\n",
       "0  LinJ.01      2    174      +   ID=src_c01.10\n",
       "1  LinJ.01  24094  24759      +  ID=src_c01.20A\n",
       "2  LinJ.01  35372  35957      +  ID=src_c01.30A\n",
       "3  LinJ.01  39791  40596      +   ID=src_c01.40\n",
       "4  LinJ.01  54984  55548      +  ID=src_c01.50A"
      ]
     },
     "execution_count": 16,
     "metadata": {},
     "output_type": "execute_result"
    }
   ],
   "source": [
    "# Extracting from `sider_df`the needed columns [0, 3, 4, 6, 8]\n",
    "sider_df = sider_df[[0, 3, 4, 6, 8]]\n",
    "sider_df.columns = [\"chrom\", \"start\", \"end\", \"strand\", \"sider_name\"]\n",
    "print(sider_df.shape)\n",
    "print(sider_df.dtypes)\n",
    "sider_df.head()"
   ]
  },
  {
   "cell_type": "markdown",
   "metadata": {},
   "source": [
    "### 1.2 GTF data\n",
    "This one wil be **harder** to prepare"
   ]
  },
  {
   "cell_type": "code",
   "execution_count": 19,
   "metadata": {},
   "outputs": [
    {
     "name": "stdout",
     "output_type": "stream",
     "text": [
      "(45779, 9)\n",
      "0    object\n",
      "1    object\n",
      "2    object\n",
      "3     int64\n",
      "4     int64\n",
      "5    object\n",
      "6    object\n",
      "7    object\n",
      "8    object\n",
      "dtype: object\n"
     ]
    },
    {
     "data": {
      "text/html": [
       "<div>\n",
       "<style scoped>\n",
       "    .dataframe tbody tr th:only-of-type {\n",
       "        vertical-align: middle;\n",
       "    }\n",
       "\n",
       "    .dataframe tbody tr th {\n",
       "        vertical-align: top;\n",
       "    }\n",
       "\n",
       "    .dataframe thead th {\n",
       "        text-align: right;\n",
       "    }\n",
       "</style>\n",
       "<table border=\"1\" class=\"dataframe\">\n",
       "  <thead>\n",
       "    <tr style=\"text-align: right;\">\n",
       "      <th></th>\n",
       "      <th>0</th>\n",
       "      <th>1</th>\n",
       "      <th>2</th>\n",
       "      <th>3</th>\n",
       "      <th>4</th>\n",
       "      <th>5</th>\n",
       "      <th>6</th>\n",
       "      <th>7</th>\n",
       "      <th>8</th>\n",
       "    </tr>\n",
       "  </thead>\n",
       "  <tbody>\n",
       "    <tr>\n",
       "      <th>0</th>\n",
       "      <td>LinJ.01</td>\n",
       "      <td>CBM</td>\n",
       "      <td>gene</td>\n",
       "      <td>1520</td>\n",
       "      <td>5066</td>\n",
       "      <td>.</td>\n",
       "      <td>-</td>\n",
       "      <td>.</td>\n",
       "      <td>gene_id \"LINF_010005000\"; gene_name \"LINF_0100...</td>\n",
       "    </tr>\n",
       "    <tr>\n",
       "      <th>1</th>\n",
       "      <td>LinJ.01</td>\n",
       "      <td>CBM</td>\n",
       "      <td>transcript</td>\n",
       "      <td>1520</td>\n",
       "      <td>5066</td>\n",
       "      <td>.</td>\n",
       "      <td>-</td>\n",
       "      <td>.</td>\n",
       "      <td>parent_id \"LINF_010005000\"; transcript_id \"LIN...</td>\n",
       "    </tr>\n",
       "    <tr>\n",
       "      <th>2</th>\n",
       "      <td>LinJ.01</td>\n",
       "      <td>CBM</td>\n",
       "      <td>CDS</td>\n",
       "      <td>3710</td>\n",
       "      <td>4711</td>\n",
       "      <td>.</td>\n",
       "      <td>-</td>\n",
       "      <td>.</td>\n",
       "      <td>parent_id \"LINF_01T0005000\"; transcript_id \"LI...</td>\n",
       "    </tr>\n",
       "    <tr>\n",
       "      <th>3</th>\n",
       "      <td>LinJ.01</td>\n",
       "      <td>CBM</td>\n",
       "      <td>5utr</td>\n",
       "      <td>1520</td>\n",
       "      <td>3709</td>\n",
       "      <td>.</td>\n",
       "      <td>-</td>\n",
       "      <td>.</td>\n",
       "      <td>parent_id \"LINF_01T0005000\";</td>\n",
       "    </tr>\n",
       "    <tr>\n",
       "      <th>4</th>\n",
       "      <td>LinJ.01</td>\n",
       "      <td>CBM</td>\n",
       "      <td>3utr</td>\n",
       "      <td>4712</td>\n",
       "      <td>5066</td>\n",
       "      <td>.</td>\n",
       "      <td>-</td>\n",
       "      <td>.</td>\n",
       "      <td>parent_id \"LINF_01T0005000\";</td>\n",
       "    </tr>\n",
       "  </tbody>\n",
       "</table>\n",
       "</div>"
      ],
      "text/plain": [
       "         0    1           2     3     4  5  6  7  \\\n",
       "0  LinJ.01  CBM        gene  1520  5066  .  -  .   \n",
       "1  LinJ.01  CBM  transcript  1520  5066  .  -  .   \n",
       "2  LinJ.01  CBM         CDS  3710  4711  .  -  .   \n",
       "3  LinJ.01  CBM        5utr  1520  3709  .  -  .   \n",
       "4  LinJ.01  CBM        3utr  4712  5066  .  -  .   \n",
       "\n",
       "                                                   8  \n",
       "0  gene_id \"LINF_010005000\"; gene_name \"LINF_0100...  \n",
       "1  parent_id \"LINF_010005000\"; transcript_id \"LIN...  \n",
       "2  parent_id \"LINF_01T0005000\"; transcript_id \"LI...  \n",
       "3                      parent_id \"LINF_01T0005000\";   \n",
       "4                      parent_id \"LINF_01T0005000\";   "
      ]
     },
     "execution_count": 19,
     "metadata": {},
     "output_type": "execute_result"
    }
   ],
   "source": [
    "# Load data\n",
    "gtf_df = pd.read_csv(\"./data/20240703111001_LINF-Tabla_maestra_v3-20244_RP_v0.4.gtf\", sep=\"\\t\", header=None)\n",
    "print(gtf_df.shape)\n",
    "print(gtf_df.dtypes)\n",
    "gtf_df.head()"
   ]
  },
  {
   "cell_type": "markdown",
   "metadata": {},
   "source": [
    "From `gtf_df`I only need columns 0, 2, 3, 4, 6 and 8"
   ]
  },
  {
   "cell_type": "code",
   "execution_count": 20,
   "metadata": {},
   "outputs": [
    {
     "name": "stdout",
     "output_type": "stream",
     "text": [
      "(45779, 6)\n",
      "chrom         object\n",
      "feature       object\n",
      "start          int64\n",
      "end            int64\n",
      "strand        object\n",
      "attributes    object\n",
      "dtype: object\n"
     ]
    },
    {
     "data": {
      "text/html": [
       "<div>\n",
       "<style scoped>\n",
       "    .dataframe tbody tr th:only-of-type {\n",
       "        vertical-align: middle;\n",
       "    }\n",
       "\n",
       "    .dataframe tbody tr th {\n",
       "        vertical-align: top;\n",
       "    }\n",
       "\n",
       "    .dataframe thead th {\n",
       "        text-align: right;\n",
       "    }\n",
       "</style>\n",
       "<table border=\"1\" class=\"dataframe\">\n",
       "  <thead>\n",
       "    <tr style=\"text-align: right;\">\n",
       "      <th></th>\n",
       "      <th>chrom</th>\n",
       "      <th>feature</th>\n",
       "      <th>start</th>\n",
       "      <th>end</th>\n",
       "      <th>strand</th>\n",
       "      <th>attributes</th>\n",
       "    </tr>\n",
       "  </thead>\n",
       "  <tbody>\n",
       "    <tr>\n",
       "      <th>0</th>\n",
       "      <td>LinJ.01</td>\n",
       "      <td>gene</td>\n",
       "      <td>1520</td>\n",
       "      <td>5066</td>\n",
       "      <td>-</td>\n",
       "      <td>gene_id \"LINF_010005000\"; gene_name \"LINF_0100...</td>\n",
       "    </tr>\n",
       "    <tr>\n",
       "      <th>1</th>\n",
       "      <td>LinJ.01</td>\n",
       "      <td>transcript</td>\n",
       "      <td>1520</td>\n",
       "      <td>5066</td>\n",
       "      <td>-</td>\n",
       "      <td>parent_id \"LINF_010005000\"; transcript_id \"LIN...</td>\n",
       "    </tr>\n",
       "    <tr>\n",
       "      <th>2</th>\n",
       "      <td>LinJ.01</td>\n",
       "      <td>CDS</td>\n",
       "      <td>3710</td>\n",
       "      <td>4711</td>\n",
       "      <td>-</td>\n",
       "      <td>parent_id \"LINF_01T0005000\"; transcript_id \"LI...</td>\n",
       "    </tr>\n",
       "    <tr>\n",
       "      <th>3</th>\n",
       "      <td>LinJ.01</td>\n",
       "      <td>5utr</td>\n",
       "      <td>1520</td>\n",
       "      <td>3709</td>\n",
       "      <td>-</td>\n",
       "      <td>parent_id \"LINF_01T0005000\";</td>\n",
       "    </tr>\n",
       "    <tr>\n",
       "      <th>4</th>\n",
       "      <td>LinJ.01</td>\n",
       "      <td>3utr</td>\n",
       "      <td>4712</td>\n",
       "      <td>5066</td>\n",
       "      <td>-</td>\n",
       "      <td>parent_id \"LINF_01T0005000\";</td>\n",
       "    </tr>\n",
       "  </tbody>\n",
       "</table>\n",
       "</div>"
      ],
      "text/plain": [
       "     chrom     feature  start   end strand  \\\n",
       "0  LinJ.01        gene   1520  5066      -   \n",
       "1  LinJ.01  transcript   1520  5066      -   \n",
       "2  LinJ.01         CDS   3710  4711      -   \n",
       "3  LinJ.01        5utr   1520  3709      -   \n",
       "4  LinJ.01        3utr   4712  5066      -   \n",
       "\n",
       "                                          attributes  \n",
       "0  gene_id \"LINF_010005000\"; gene_name \"LINF_0100...  \n",
       "1  parent_id \"LINF_010005000\"; transcript_id \"LIN...  \n",
       "2  parent_id \"LINF_01T0005000\"; transcript_id \"LI...  \n",
       "3                      parent_id \"LINF_01T0005000\";   \n",
       "4                      parent_id \"LINF_01T0005000\";   "
      ]
     },
     "execution_count": 20,
     "metadata": {},
     "output_type": "execute_result"
    }
   ],
   "source": [
    "# Get from `gtf_df` the needed columns [0, 3, 4, 6, 8]\n",
    "gtf_df = gtf_df[[0, 2, 3, 4, 6, 8]]\n",
    "gtf_df.columns = [\"chrom\", \"feature\", \"start\", \"end\", \"strand\", \"attributes\"]\n",
    "print(gtf_df.shape)\n",
    "print(gtf_df.dtypes)\n",
    "gtf_df.head()"
   ]
  },
  {
   "cell_type": "markdown",
   "metadata": {},
   "source": [
    "Now the field `attributes` it's separated by \";\" and the header its in a format like `header \"data\"`"
   ]
  },
  {
   "cell_type": "markdown",
   "metadata": {},
   "source": [
    "# Testing"
   ]
  },
  {
   "cell_type": "code",
   "execution_count": 23,
   "metadata": {},
   "outputs": [
    {
     "data": {
      "text/html": [
       "<div>\n",
       "<style scoped>\n",
       "    .dataframe tbody tr th:only-of-type {\n",
       "        vertical-align: middle;\n",
       "    }\n",
       "\n",
       "    .dataframe tbody tr th {\n",
       "        vertical-align: top;\n",
       "    }\n",
       "\n",
       "    .dataframe thead th {\n",
       "        text-align: right;\n",
       "    }\n",
       "</style>\n",
       "<table border=\"1\" class=\"dataframe\">\n",
       "  <thead>\n",
       "    <tr style=\"text-align: right;\">\n",
       "      <th></th>\n",
       "      <th>chrom</th>\n",
       "      <th>feature</th>\n",
       "      <th>start</th>\n",
       "      <th>end</th>\n",
       "      <th>strand</th>\n",
       "      <th>attributes</th>\n",
       "    </tr>\n",
       "  </thead>\n",
       "  <tbody>\n",
       "    <tr>\n",
       "      <th>0</th>\n",
       "      <td>LinJ.01</td>\n",
       "      <td>gene</td>\n",
       "      <td>1520</td>\n",
       "      <td>5066</td>\n",
       "      <td>-</td>\n",
       "      <td>gene_id \"LINF_010005000\"; gene_name \"LINF_0100...</td>\n",
       "    </tr>\n",
       "    <tr>\n",
       "      <th>1</th>\n",
       "      <td>LinJ.01</td>\n",
       "      <td>transcript</td>\n",
       "      <td>1520</td>\n",
       "      <td>5066</td>\n",
       "      <td>-</td>\n",
       "      <td>parent_id \"LINF_010005000\"; transcript_id \"LIN...</td>\n",
       "    </tr>\n",
       "    <tr>\n",
       "      <th>2</th>\n",
       "      <td>LinJ.01</td>\n",
       "      <td>CDS</td>\n",
       "      <td>3710</td>\n",
       "      <td>4711</td>\n",
       "      <td>-</td>\n",
       "      <td>parent_id \"LINF_01T0005000\"; transcript_id \"LI...</td>\n",
       "    </tr>\n",
       "    <tr>\n",
       "      <th>3</th>\n",
       "      <td>LinJ.01</td>\n",
       "      <td>5utr</td>\n",
       "      <td>1520</td>\n",
       "      <td>3709</td>\n",
       "      <td>-</td>\n",
       "      <td>parent_id \"LINF_01T0005000\";</td>\n",
       "    </tr>\n",
       "    <tr>\n",
       "      <th>4</th>\n",
       "      <td>LinJ.01</td>\n",
       "      <td>3utr</td>\n",
       "      <td>4712</td>\n",
       "      <td>5066</td>\n",
       "      <td>-</td>\n",
       "      <td>parent_id \"LINF_01T0005000\";</td>\n",
       "    </tr>\n",
       "    <tr>\n",
       "      <th>5</th>\n",
       "      <td>LinJ.01</td>\n",
       "      <td>gene</td>\n",
       "      <td>5067</td>\n",
       "      <td>7570</td>\n",
       "      <td>-</td>\n",
       "      <td>gene_id \"LINF_010005100\"; gene_name \"LINF_0100...</td>\n",
       "    </tr>\n",
       "    <tr>\n",
       "      <th>6</th>\n",
       "      <td>LinJ.01</td>\n",
       "      <td>transcript</td>\n",
       "      <td>5067</td>\n",
       "      <td>7570</td>\n",
       "      <td>-</td>\n",
       "      <td>parent_id \"LINF_010005100\"; transcript_id \"LIN...</td>\n",
       "    </tr>\n",
       "    <tr>\n",
       "      <th>7</th>\n",
       "      <td>LinJ.01</td>\n",
       "      <td>CDS</td>\n",
       "      <td>5804</td>\n",
       "      <td>7438</td>\n",
       "      <td>-</td>\n",
       "      <td>parent_id \"LINF_01T0005100\"; transcript_id \"LI...</td>\n",
       "    </tr>\n",
       "    <tr>\n",
       "      <th>8</th>\n",
       "      <td>LinJ.01</td>\n",
       "      <td>5utr</td>\n",
       "      <td>5067</td>\n",
       "      <td>5803</td>\n",
       "      <td>-</td>\n",
       "      <td>parent_id \"LINF_01T0005100\";</td>\n",
       "    </tr>\n",
       "    <tr>\n",
       "      <th>9</th>\n",
       "      <td>LinJ.01</td>\n",
       "      <td>3utr</td>\n",
       "      <td>7439</td>\n",
       "      <td>7570</td>\n",
       "      <td>-</td>\n",
       "      <td>parent_id \"LINF_01T0005100\";</td>\n",
       "    </tr>\n",
       "  </tbody>\n",
       "</table>\n",
       "</div>"
      ],
      "text/plain": [
       "     chrom     feature  start   end strand  \\\n",
       "0  LinJ.01        gene   1520  5066      -   \n",
       "1  LinJ.01  transcript   1520  5066      -   \n",
       "2  LinJ.01         CDS   3710  4711      -   \n",
       "3  LinJ.01        5utr   1520  3709      -   \n",
       "4  LinJ.01        3utr   4712  5066      -   \n",
       "5  LinJ.01        gene   5067  7570      -   \n",
       "6  LinJ.01  transcript   5067  7570      -   \n",
       "7  LinJ.01         CDS   5804  7438      -   \n",
       "8  LinJ.01        5utr   5067  5803      -   \n",
       "9  LinJ.01        3utr   7439  7570      -   \n",
       "\n",
       "                                          attributes  \n",
       "0  gene_id \"LINF_010005000\"; gene_name \"LINF_0100...  \n",
       "1  parent_id \"LINF_010005000\"; transcript_id \"LIN...  \n",
       "2  parent_id \"LINF_01T0005000\"; transcript_id \"LI...  \n",
       "3                      parent_id \"LINF_01T0005000\";   \n",
       "4                      parent_id \"LINF_01T0005000\";   \n",
       "5  gene_id \"LINF_010005100\"; gene_name \"LINF_0100...  \n",
       "6  parent_id \"LINF_010005100\"; transcript_id \"LIN...  \n",
       "7  parent_id \"LINF_01T0005100\"; transcript_id \"LI...  \n",
       "8                      parent_id \"LINF_01T0005100\";   \n",
       "9                      parent_id \"LINF_01T0005100\";   "
      ]
     },
     "execution_count": 23,
     "metadata": {},
     "output_type": "execute_result"
    }
   ],
   "source": [
    "# Extracting more column data from the `attributes` column\n",
    "test_df = gtf_df.head(10)\n",
    "test_df"
   ]
  },
  {
   "cell_type": "code",
   "execution_count": 24,
   "metadata": {},
   "outputs": [],
   "source": [
    "# test_df.to_csv(\"~/Downloads/test_df.csv\", index=False, sep=\"\\t\", header=True)"
   ]
  },
  {
   "cell_type": "code",
   "execution_count": 40,
   "metadata": {},
   "outputs": [
    {
     "name": "stdout",
     "output_type": "stream",
     "text": [
      "<class 'pandas.core.series.Series'>\n"
     ]
    },
    {
     "data": {
      "text/plain": [
       "0    [gene_id \"LINF_010005000\",  gene_name \"LINF_01...\n",
       "1    [parent_id \"LINF_010005000\",  transcript_id \"L...\n",
       "2    [parent_id \"LINF_01T0005000\",  transcript_id \"...\n",
       "3                     [parent_id \"LINF_01T0005000\",  ]\n",
       "4                     [parent_id \"LINF_01T0005000\",  ]\n",
       "5    [gene_id \"LINF_010005100\",  gene_name \"LINF_01...\n",
       "6    [parent_id \"LINF_010005100\",  transcript_id \"L...\n",
       "7    [parent_id \"LINF_01T0005100\",  transcript_id \"...\n",
       "8                     [parent_id \"LINF_01T0005100\",  ]\n",
       "9                     [parent_id \"LINF_01T0005100\",  ]\n",
       "Name: attributes, dtype: object"
      ]
     },
     "execution_count": 40,
     "metadata": {},
     "output_type": "execute_result"
    }
   ],
   "source": [
    "attributes_split = test_df['attributes'].str.split(\";\", expand=False)\n",
    "print(type(attributes_split))\n",
    "attributes_split"
   ]
  },
  {
   "cell_type": "code",
   "execution_count": 42,
   "metadata": {},
   "outputs": [
    {
     "name": "stdout",
     "output_type": "stream",
     "text": [
      "['gene_id \"LINF_010005000\"', ' gene_name \"LINF_010005000\"', ' biotype \"protein_coding\"', ' notes \"Protein_of_unknown_function_(DUF2946)\"', ' ']\n"
     ]
    }
   ],
   "source": [
    "for elem in attributes_split:\n",
    "    print(elem)\n",
    "    break"
   ]
  },
  {
   "cell_type": "code",
   "execution_count": 51,
   "metadata": {},
   "outputs": [
    {
     "name": "stdout",
     "output_type": "stream",
     "text": [
      "[['gene_id \"LINF_010005000\"', ' gene_name \"LINF_010005000\"', ' biotype \"protein_coding\"', ' notes \"Protein_of_unknown_function_(DUF2946)\"'], ['parent_id \"LINF_010005000\"', ' transcript_id \"LINF_01T0005000\"', ' transcript_name \"LINF_01T0005000\"', ' biotype \"protein_coding\"', ' notes \"Protein_of_unknown_function_(DUF2946)\"'], ['parent_id \"LINF_01T0005000\"', ' transcript_id \"LINF_01T0005000\"'], ['parent_id \"LINF_01T0005000\"'], ['parent_id \"LINF_01T0005000\"'], ['gene_id \"LINF_010005100\"', ' gene_name \"LINF_010005100\"', ' biotype \"protein_coding\"', ' notes \"Endonuclease/Exonuclease/phosphatase_family\"'], ['parent_id \"LINF_010005100\"', ' transcript_id \"LINF_01T0005100\"', ' transcript_name \"LINF_01T0005100\"', ' biotype \"protein_coding\"', ' notes \"Endonuclease/Exonuclease/phosphatase_family\"'], ['parent_id \"LINF_01T0005100\"', ' transcript_id \"LINF_01T0005100\"'], ['parent_id \"LINF_01T0005100\"'], ['parent_id \"LINF_01T0005100\"']]\n"
     ]
    }
   ],
   "source": [
    "attributes_split = [row.split(\";\") for row in test_df['attributes'] if row]\n",
    "attributes_split = [sublist[:-1] if sublist[-1].strip() == '' else sublist for sublist in attributes_split]\n",
    "print(attributes_split)"
   ]
  }
 ],
 "metadata": {
  "kernelspec": {
   "display_name": "Python 3",
   "language": "python",
   "name": "python3"
  },
  "language_info": {
   "codemirror_mode": {
    "name": "ipython",
    "version": 3
   },
   "file_extension": ".py",
   "mimetype": "text/x-python",
   "name": "python",
   "nbconvert_exporter": "python",
   "pygments_lexer": "ipython3",
   "version": "3.12.4"
  }
 },
 "nbformat": 4,
 "nbformat_minor": 2
}
