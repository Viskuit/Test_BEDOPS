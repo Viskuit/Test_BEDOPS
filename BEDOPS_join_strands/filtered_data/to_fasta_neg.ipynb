{
 "cells": [
  {
   "cell_type": "code",
   "execution_count": 5,
   "metadata": {},
   "outputs": [],
   "source": [
    "import numpy as np\n",
    "import pandas as pd\n",
    "import subprocess\n",
    "import os\n",
    "\n",
    "from Bio import SeqIO\n",
    "from Bio.Seq import Seq\n",
    "from Bio.SeqRecord import SeqRecord"
   ]
  },
  {
   "cell_type": "code",
   "execution_count": 6,
   "metadata": {},
   "outputs": [
    {
     "data": {
      "text/html": [
       "<div>\n",
       "<style scoped>\n",
       "    .dataframe tbody tr th:only-of-type {\n",
       "        vertical-align: middle;\n",
       "    }\n",
       "\n",
       "    .dataframe tbody tr th {\n",
       "        vertical-align: top;\n",
       "    }\n",
       "\n",
       "    .dataframe thead th {\n",
       "        text-align: right;\n",
       "    }\n",
       "</style>\n",
       "<table border=\"1\" class=\"dataframe\">\n",
       "  <thead>\n",
       "    <tr style=\"text-align: right;\">\n",
       "      <th></th>\n",
       "      <th>0</th>\n",
       "      <th>1</th>\n",
       "      <th>2</th>\n",
       "      <th>3</th>\n",
       "      <th>4</th>\n",
       "      <th>5</th>\n",
       "    </tr>\n",
       "  </thead>\n",
       "  <tbody>\n",
       "    <tr>\n",
       "      <th>0</th>\n",
       "      <td>LinJ.01</td>\n",
       "      <td>1000</td>\n",
       "      <td>13302</td>\n",
       "      <td>14301</td>\n",
       "      <td>plus</td>\n",
       "      <td>GTCGACCGTGCAAGAGGAACTCAACACCGCTCTACTCGGCGTGTCA...</td>\n",
       "    </tr>\n",
       "    <tr>\n",
       "      <th>1</th>\n",
       "      <td>LinJ.01</td>\n",
       "      <td>998</td>\n",
       "      <td>72760</td>\n",
       "      <td>73757</td>\n",
       "      <td>plus</td>\n",
       "      <td>CGTGTGTTTGTGAGGGGTAAGAATCGACCATGCATCAACGACTGCG...</td>\n",
       "    </tr>\n",
       "    <tr>\n",
       "      <th>2</th>\n",
       "      <td>LinJ.01</td>\n",
       "      <td>599</td>\n",
       "      <td>113760</td>\n",
       "      <td>114358</td>\n",
       "      <td>plus</td>\n",
       "      <td>CAGCGCCATGCACGACATGGCCGCTGACGTCCGTAGCCCTAACTCG...</td>\n",
       "    </tr>\n",
       "    <tr>\n",
       "      <th>3</th>\n",
       "      <td>LinJ.01</td>\n",
       "      <td>1000</td>\n",
       "      <td>214971</td>\n",
       "      <td>215970</td>\n",
       "      <td>plus</td>\n",
       "      <td>GGGTGTGTACACGAACGTCGAGCCGTGCCGCGGAGCCCCGATGCAC...</td>\n",
       "    </tr>\n",
       "    <tr>\n",
       "      <th>4</th>\n",
       "      <td>LinJ.01</td>\n",
       "      <td>213</td>\n",
       "      <td>272910</td>\n",
       "      <td>273122</td>\n",
       "      <td>plus</td>\n",
       "      <td>TCTCTGTCTTCACTTCCTCGGTGCGTCTGGTGGTGGTTGCGCCTCT...</td>\n",
       "    </tr>\n",
       "  </tbody>\n",
       "</table>\n",
       "</div>"
      ],
      "text/plain": [
       "         0     1       2       3     4  \\\n",
       "0  LinJ.01  1000   13302   14301  plus   \n",
       "1  LinJ.01   998   72760   73757  plus   \n",
       "2  LinJ.01   599  113760  114358  plus   \n",
       "3  LinJ.01  1000  214971  215970  plus   \n",
       "4  LinJ.01   213  272910  273122  plus   \n",
       "\n",
       "                                                   5  \n",
       "0  GTCGACCGTGCAAGAGGAACTCAACACCGCTCTACTCGGCGTGTCA...  \n",
       "1  CGTGTGTTTGTGAGGGGTAAGAATCGACCATGCATCAACGACTGCG...  \n",
       "2  CAGCGCCATGCACGACATGGCCGCTGACGTCCGTAGCCCTAACTCG...  \n",
       "3  GGGTGTGTACACGAACGTCGAGCCGTGCCGCGGAGCCCCGATGCAC...  \n",
       "4  TCTCTGTCTTCACTTCCTCGGTGCGTCTGGTGGTGGTTGCGCCTCT...  "
      ]
     },
     "execution_count": 6,
     "metadata": {},
     "output_type": "execute_result"
    }
   ],
   "source": [
    "data_negative = pd.read_csv(\"./negatives_testing_elements.csv\", sep=\",\" , header=None)\n",
    "data_negative.head()"
   ]
  },
  {
   "cell_type": "code",
   "execution_count": 21,
   "metadata": {},
   "outputs": [
    {
     "data": {
      "text/html": [
       "<div>\n",
       "<style scoped>\n",
       "    .dataframe tbody tr th:only-of-type {\n",
       "        vertical-align: middle;\n",
       "    }\n",
       "\n",
       "    .dataframe tbody tr th {\n",
       "        vertical-align: top;\n",
       "    }\n",
       "\n",
       "    .dataframe thead th {\n",
       "        text-align: right;\n",
       "    }\n",
       "</style>\n",
       "<table border=\"1\" class=\"dataframe\">\n",
       "  <thead>\n",
       "    <tr style=\"text-align: right;\">\n",
       "      <th></th>\n",
       "      <th>0</th>\n",
       "      <th>1</th>\n",
       "      <th>2</th>\n",
       "      <th>3</th>\n",
       "      <th>4</th>\n",
       "      <th>5</th>\n",
       "    </tr>\n",
       "  </thead>\n",
       "  <tbody>\n",
       "    <tr>\n",
       "      <th>0</th>\n",
       "      <td>LinJ.01</td>\n",
       "      <td>1000</td>\n",
       "      <td>13302</td>\n",
       "      <td>14301</td>\n",
       "      <td>plus</td>\n",
       "      <td>GTCGACCGTGCAAGAGGAACTCAACACCGCTCTACTCGGCGTGTCA...</td>\n",
       "    </tr>\n",
       "    <tr>\n",
       "      <th>1</th>\n",
       "      <td>LinJ.01</td>\n",
       "      <td>998</td>\n",
       "      <td>72760</td>\n",
       "      <td>73757</td>\n",
       "      <td>plus</td>\n",
       "      <td>CGTGTGTTTGTGAGGGGTAAGAATCGACCATGCATCAACGACTGCG...</td>\n",
       "    </tr>\n",
       "    <tr>\n",
       "      <th>2</th>\n",
       "      <td>LinJ.01</td>\n",
       "      <td>599</td>\n",
       "      <td>113760</td>\n",
       "      <td>114358</td>\n",
       "      <td>plus</td>\n",
       "      <td>CAGCGCCATGCACGACATGGCCGCTGACGTCCGTAGCCCTAACTCG...</td>\n",
       "    </tr>\n",
       "    <tr>\n",
       "      <th>3</th>\n",
       "      <td>LinJ.01</td>\n",
       "      <td>1000</td>\n",
       "      <td>214971</td>\n",
       "      <td>215970</td>\n",
       "      <td>plus</td>\n",
       "      <td>GGGTGTGTACACGAACGTCGAGCCGTGCCGCGGAGCCCCGATGCAC...</td>\n",
       "    </tr>\n",
       "    <tr>\n",
       "      <th>4</th>\n",
       "      <td>LinJ.01</td>\n",
       "      <td>213</td>\n",
       "      <td>272910</td>\n",
       "      <td>273122</td>\n",
       "      <td>plus</td>\n",
       "      <td>TCTCTGTCTTCACTTCCTCGGTGCGTCTGGTGGTGGTTGCGCCTCT...</td>\n",
       "    </tr>\n",
       "    <tr>\n",
       "      <th>5</th>\n",
       "      <td>LinJ.01</td>\n",
       "      <td>210</td>\n",
       "      <td>273188</td>\n",
       "      <td>273397</td>\n",
       "      <td>plus</td>\n",
       "      <td>CTCTCCCTCACTCCCTCGGTGCGTGTGGTGGTGGTTGCGCCTCTCT...</td>\n",
       "    </tr>\n",
       "    <tr>\n",
       "      <th>6</th>\n",
       "      <td>LinJ.01</td>\n",
       "      <td>211</td>\n",
       "      <td>273449</td>\n",
       "      <td>273659</td>\n",
       "      <td>plus</td>\n",
       "      <td>CTCTCCCTCACTCCCTCGGTGCGTGTGGTGGTGGTTGCGCCTCTCT...</td>\n",
       "    </tr>\n",
       "    <tr>\n",
       "      <th>7</th>\n",
       "      <td>LinJ.01</td>\n",
       "      <td>210</td>\n",
       "      <td>273725</td>\n",
       "      <td>273934</td>\n",
       "      <td>plus</td>\n",
       "      <td>CTCTCCCTCACTCCCTCGGTGCGTGTGGTGGTGGTTGCGCCTCTCT...</td>\n",
       "    </tr>\n",
       "    <tr>\n",
       "      <th>8</th>\n",
       "      <td>LinJ.01</td>\n",
       "      <td>179</td>\n",
       "      <td>273988</td>\n",
       "      <td>274166</td>\n",
       "      <td>plus</td>\n",
       "      <td>CTCTCCCTCACTCCCTCGGTGCGTGTGGTGGTGGTCGCGCCTCTTT...</td>\n",
       "    </tr>\n",
       "    <tr>\n",
       "      <th>9</th>\n",
       "      <td>LinJ.01</td>\n",
       "      <td>206</td>\n",
       "      <td>274252</td>\n",
       "      <td>274457</td>\n",
       "      <td>plus</td>\n",
       "      <td>CTCTCCCTCACTCCCTCGGTGCGTGTGGTGGTGGTCGCGCCTCTTT...</td>\n",
       "    </tr>\n",
       "    <tr>\n",
       "      <th>10</th>\n",
       "      <td>LinJ.01</td>\n",
       "      <td>211</td>\n",
       "      <td>274511</td>\n",
       "      <td>274721</td>\n",
       "      <td>plus</td>\n",
       "      <td>CTCTCCCTCACTCCCTCGGTGCGTGTGGTGGTGGTCGCGCCTCTTT...</td>\n",
       "    </tr>\n",
       "    <tr>\n",
       "      <th>11</th>\n",
       "      <td>LinJ.01</td>\n",
       "      <td>187</td>\n",
       "      <td>274773</td>\n",
       "      <td>274959</td>\n",
       "      <td>plus</td>\n",
       "      <td>CTCTCCCTCACTCCCTCGGTGCGTGTGGTGGTGGTTGCGCCTCTCT...</td>\n",
       "    </tr>\n",
       "    <tr>\n",
       "      <th>12</th>\n",
       "      <td>LinJ.01</td>\n",
       "      <td>202</td>\n",
       "      <td>275045</td>\n",
       "      <td>275246</td>\n",
       "      <td>plus</td>\n",
       "      <td>CTCTCCCTCACTCCCTCGGTGCGTGTGGTGGTGGTTGCGCCTCTCT...</td>\n",
       "    </tr>\n",
       "    <tr>\n",
       "      <th>13</th>\n",
       "      <td>LinJ.01</td>\n",
       "      <td>206</td>\n",
       "      <td>275312</td>\n",
       "      <td>275517</td>\n",
       "      <td>plus</td>\n",
       "      <td>CTCTCCCTCACTCCCTCGGTGCGTGTGGTGGTGGTCGCGCCTCTTT...</td>\n",
       "    </tr>\n",
       "  </tbody>\n",
       "</table>\n",
       "</div>"
      ],
      "text/plain": [
       "          0     1       2       3     4  \\\n",
       "0   LinJ.01  1000   13302   14301  plus   \n",
       "1   LinJ.01   998   72760   73757  plus   \n",
       "2   LinJ.01   599  113760  114358  plus   \n",
       "3   LinJ.01  1000  214971  215970  plus   \n",
       "4   LinJ.01   213  272910  273122  plus   \n",
       "5   LinJ.01   210  273188  273397  plus   \n",
       "6   LinJ.01   211  273449  273659  plus   \n",
       "7   LinJ.01   210  273725  273934  plus   \n",
       "8   LinJ.01   179  273988  274166  plus   \n",
       "9   LinJ.01   206  274252  274457  plus   \n",
       "10  LinJ.01   211  274511  274721  plus   \n",
       "11  LinJ.01   187  274773  274959  plus   \n",
       "12  LinJ.01   202  275045  275246  plus   \n",
       "13  LinJ.01   206  275312  275517  plus   \n",
       "\n",
       "                                                    5  \n",
       "0   GTCGACCGTGCAAGAGGAACTCAACACCGCTCTACTCGGCGTGTCA...  \n",
       "1   CGTGTGTTTGTGAGGGGTAAGAATCGACCATGCATCAACGACTGCG...  \n",
       "2   CAGCGCCATGCACGACATGGCCGCTGACGTCCGTAGCCCTAACTCG...  \n",
       "3   GGGTGTGTACACGAACGTCGAGCCGTGCCGCGGAGCCCCGATGCAC...  \n",
       "4   TCTCTGTCTTCACTTCCTCGGTGCGTCTGGTGGTGGTTGCGCCTCT...  \n",
       "5   CTCTCCCTCACTCCCTCGGTGCGTGTGGTGGTGGTTGCGCCTCTCT...  \n",
       "6   CTCTCCCTCACTCCCTCGGTGCGTGTGGTGGTGGTTGCGCCTCTCT...  \n",
       "7   CTCTCCCTCACTCCCTCGGTGCGTGTGGTGGTGGTTGCGCCTCTCT...  \n",
       "8   CTCTCCCTCACTCCCTCGGTGCGTGTGGTGGTGGTCGCGCCTCTTT...  \n",
       "9   CTCTCCCTCACTCCCTCGGTGCGTGTGGTGGTGGTCGCGCCTCTTT...  \n",
       "10  CTCTCCCTCACTCCCTCGGTGCGTGTGGTGGTGGTCGCGCCTCTTT...  \n",
       "11  CTCTCCCTCACTCCCTCGGTGCGTGTGGTGGTGGTTGCGCCTCTCT...  \n",
       "12  CTCTCCCTCACTCCCTCGGTGCGTGTGGTGGTGGTTGCGCCTCTCT...  \n",
       "13  CTCTCCCTCACTCCCTCGGTGCGTGTGGTGGTGGTCGCGCCTCTTT...  "
      ]
     },
     "execution_count": 21,
     "metadata": {},
     "output_type": "execute_result"
    }
   ],
   "source": [
    "data_negative[data_negative[0] == \"LinJ.01\"]"
   ]
  },
  {
   "cell_type": "code",
   "execution_count": 22,
   "metadata": {},
   "outputs": [
    {
     "data": {
      "text/plain": [
       "'CAGCGCCATGCACGACATGGCCGCTGACGTCCGTAGCCCTAACTCGCGCTCTGCCGGGGCACTCCCTGACGTCACAGATGCTCGGCCCTGGTCGCCACCACAGGTGGTTCTGGCATGGGCCGGGACGGCGGAGGGAGGAGTGGGGGGTGGGTGGGTGGGTGGGTGGGCGCCCTGCAGCCTGAGGTACCCCCCCCCCACGCACGGAGGTGTGTGCGTGTGTGTGTGTGTGTGTGTGTCTGTGCGCCGCCGCCTCACCCCACAACGATACACGTGCGTGATTGAGCAGAAAATACATACACGCACGCGCACAGATGCCTTCGTCCCCTTCTTCTCCTTCCAACCGGCCTCAAATTTTGTTGCCGCCCTGCCCCCTCCCCTTCCCTCAGTCCCTCTATCTACGTGTCTGAGCCTCATCACATTCTAACCACACAGGGCTCCTGCGCCGGCACGCACTGCCACGATCACCGCCTCTGCCGCCCACCTACCCACCGCCTCTCCTCCGTACCGGCCTTCCCGTGTTTGCCTTGAAGACTCACCGGCTCGTTCACCGCCGTCGATAGCCGCACCGCAACACGAAACAGTGCACTGCTGTCCGACGG'"
      ]
     },
     "execution_count": 22,
     "metadata": {},
     "output_type": "execute_result"
    }
   ],
   "source": [
    "data_negative[data_negative[0] == \"LinJ.01\"].iloc[2, 5]"
   ]
  },
  {
   "cell_type": "code",
   "execution_count": null,
   "metadata": {},
   "outputs": [],
   "source": []
  },
  {
   "cell_type": "code",
   "execution_count": 7,
   "metadata": {},
   "outputs": [],
   "source": [
    "# Define fasta_creator file\n",
    "def fasta_creator(data, fasta_output_path):\n",
    "    matrix = []\n",
    "    for index, sequence in data.iterrows():\n",
    "        index += 1\n",
    "        rec = SeqRecord(Seq(sequence[5]),  # In the 5 position is the seq\n",
    "                        id=\"Seq_\" + str(index),\n",
    "                        description=\"Leishmania infantum\"\n",
    "                        )\n",
    "        matrix.append(rec)\n",
    "    SeqIO.write(matrix, fasta_output_path, \"fasta\")"
   ]
  },
  {
   "cell_type": "code",
   "execution_count": 8,
   "metadata": {},
   "outputs": [],
   "source": [
    " # Create fasta\n",
    "fasta_creator(data_negative, \"./blaster_neg/negatives.fasta\")"
   ]
  },
  {
   "cell_type": "markdown",
   "metadata": {},
   "source": [
    "Now let's launch the BLASTN "
   ]
  },
  {
   "cell_type": "markdown",
   "metadata": {},
   "source": [
    "Let's prepare the \"ingi\" data in fasta"
   ]
  },
  {
   "cell_type": "code",
   "execution_count": 9,
   "metadata": {},
   "outputs": [
    {
     "data": {
      "text/plain": [
       "79"
      ]
     },
     "execution_count": 9,
     "metadata": {},
     "output_type": "execute_result"
    }
   ],
   "source": [
    "ingi = \"CCCTGGCGATGCCGGCCACCTCAACGTGGTGCCAGGGTCCAGTACCCCGTATCATCGGGGGAAGCCAAGAGCCAGCAGC\"\n",
    "len(ingi)"
   ]
  },
  {
   "cell_type": "code",
   "execution_count": 10,
   "metadata": {},
   "outputs": [],
   "source": [
    "# Prepare functions\n",
    "# Let's define the BLASTn dictionary function\n",
    "def blastn_dic(path_input):\n",
    "    os.system(\"makeblastdb -in \" + path_input + \" -dbtype nucl -parse_seqids\")\n",
    "    print(\"\\nBlast Dictionary created in\", path_input)\n",
    "\n",
    "#And the blaster\n",
    "def blastn_blaster(query_path, dict_path, perc_identity):\n",
    "    cmd = \"blastn -word_size 11 -query \" \\\n",
    "        + query_path + \" -db \" \\\n",
    "        + dict_path \\\n",
    "        + \" -perc_identity \" + str(perc_identity) \\\n",
    "        + \" -outfmt 10\"\n",
    "    data = subprocess.check_output(cmd, shell=True, universal_newlines=True)  # Important the E value\n",
    "    return data"
   ]
  },
  {
   "cell_type": "code",
   "execution_count": 11,
   "metadata": {},
   "outputs": [
    {
     "name": "stdout",
     "output_type": "stream",
     "text": [
      "\n",
      "\n",
      "Building a new DB, current time: 04/17/2024 14:02:43\n",
      "New DB name:   /home/rfpacheco/Desktop/Projects/Testing_Leishmania_project/BEDOPS_join_strands/filtered_data/blaster_neg/negatives.fasta\n",
      "New DB title:  ./blaster_neg/negatives.fasta\n",
      "Sequence type: Nucleotide\n",
      "Keep MBits: T\n",
      "Maximum file size: 1000000000B\n",
      "Adding sequences from FASTA; added 1058 sequences in 0.113745 seconds.\n",
      "\n",
      "\n",
      "\n",
      "Blast Dictionary created in ./blaster_neg/negatives.fasta\n"
     ]
    }
   ],
   "source": [
    "# Let's make the dict\n",
    "blastn_dic(\"./blaster_neg/negatives.fasta\")"
   ]
  },
  {
   "cell_type": "code",
   "execution_count": 12,
   "metadata": {},
   "outputs": [],
   "source": [
    "# Let's make a fasta only for ingi:\n",
    "def fasta_creator2(sequence, index, fasta_output_path):\n",
    "    rec = SeqRecord(Seq(sequence),\n",
    "                    id=\"ingi_\" + str(index),\n",
    "                    description=\"Trypanosoma brucei ingi element\"\n",
    "                    )\n",
    "    SeqIO.write(rec, fasta_output_path, \"fasta\")"
   ]
  },
  {
   "cell_type": "code",
   "execution_count": 13,
   "metadata": {},
   "outputs": [],
   "source": [
    "fasta_creator2(ingi, 1, \"./blaster_neg/ingi.fasta\")"
   ]
  },
  {
   "cell_type": "code",
   "execution_count": 14,
   "metadata": {},
   "outputs": [],
   "source": [
    "blastn_data = blastn_blaster(\"./blaster_neg/ingi.fasta\", \"./blaster_neg/negatives.fasta\", 0)"
   ]
  },
  {
   "cell_type": "code",
   "execution_count": 15,
   "metadata": {},
   "outputs": [
    {
     "data": {
      "text/plain": [
       "['ingi_1,Seq_543,87.097,31,4,0,9,39,447,477,4.48e-04,36.2',\n",
       " 'ingi_1,Seq_536,100.000,16,0,0,8,23,2,17,0.021,30.7',\n",
       " 'ingi_1,Seq_745,93.750,16,1,0,4,19,159,144,0.97,25.1',\n",
       " 'ingi_1,Seq_742,93.750,16,1,0,4,19,679,664,0.97,25.1',\n",
       " 'ingi_1,Seq_738,93.750,16,1,0,4,19,159,144,0.97,25.1',\n",
       " 'ingi_1,Seq_659,100.000,12,0,0,8,19,259,248,3.5,23.3',\n",
       " 'ingi_1,Seq_658,100.000,12,0,0,8,19,259,248,3.5,23.3',\n",
       " 'ingi_1,Seq_657,100.000,12,0,0,8,19,259,248,3.5,23.3',\n",
       " 'ingi_1,Seq_656,100.000,12,0,0,8,19,259,248,3.5,23.3',\n",
       " 'ingi_1,Seq_655,100.000,12,0,0,8,19,691,680,3.5,23.3',\n",
       " 'ingi_1,Seq_654,100.000,12,0,0,8,19,691,680,3.5,23.3',\n",
       " 'ingi_1,Seq_653,100.000,12,0,0,8,19,259,248,3.5,23.3',\n",
       " 'ingi_1,Seq_652,100.000,12,0,0,8,19,126,115,3.5,23.3',\n",
       " 'ingi_1,Seq_282,100.000,12,0,0,11,22,221,232,3.5,23.3']"
      ]
     },
     "execution_count": 15,
     "metadata": {},
     "output_type": "execute_result"
    }
   ],
   "source": [
    "blastn_data.strip().split(\"\\n\")"
   ]
  },
  {
   "cell_type": "code",
   "execution_count": 16,
   "metadata": {},
   "outputs": [
    {
     "data": {
      "text/html": [
       "<div>\n",
       "<style scoped>\n",
       "    .dataframe tbody tr th:only-of-type {\n",
       "        vertical-align: middle;\n",
       "    }\n",
       "\n",
       "    .dataframe tbody tr th {\n",
       "        vertical-align: top;\n",
       "    }\n",
       "\n",
       "    .dataframe thead th {\n",
       "        text-align: right;\n",
       "    }\n",
       "</style>\n",
       "<table border=\"1\" class=\"dataframe\">\n",
       "  <thead>\n",
       "    <tr style=\"text-align: right;\">\n",
       "      <th></th>\n",
       "      <th>0</th>\n",
       "      <th>1</th>\n",
       "      <th>2</th>\n",
       "      <th>3</th>\n",
       "      <th>4</th>\n",
       "      <th>5</th>\n",
       "      <th>6</th>\n",
       "      <th>7</th>\n",
       "      <th>8</th>\n",
       "      <th>9</th>\n",
       "      <th>10</th>\n",
       "      <th>11</th>\n",
       "    </tr>\n",
       "  </thead>\n",
       "  <tbody>\n",
       "    <tr>\n",
       "      <th>0</th>\n",
       "      <td>ingi_1</td>\n",
       "      <td>Seq_543</td>\n",
       "      <td>87.097</td>\n",
       "      <td>31</td>\n",
       "      <td>4</td>\n",
       "      <td>0</td>\n",
       "      <td>9</td>\n",
       "      <td>39</td>\n",
       "      <td>447</td>\n",
       "      <td>477</td>\n",
       "      <td>4.48e-04</td>\n",
       "      <td>36.2</td>\n",
       "    </tr>\n",
       "    <tr>\n",
       "      <th>1</th>\n",
       "      <td>ingi_1</td>\n",
       "      <td>Seq_536</td>\n",
       "      <td>100.000</td>\n",
       "      <td>16</td>\n",
       "      <td>0</td>\n",
       "      <td>0</td>\n",
       "      <td>8</td>\n",
       "      <td>23</td>\n",
       "      <td>2</td>\n",
       "      <td>17</td>\n",
       "      <td>0.021</td>\n",
       "      <td>30.7</td>\n",
       "    </tr>\n",
       "    <tr>\n",
       "      <th>2</th>\n",
       "      <td>ingi_1</td>\n",
       "      <td>Seq_745</td>\n",
       "      <td>93.750</td>\n",
       "      <td>16</td>\n",
       "      <td>1</td>\n",
       "      <td>0</td>\n",
       "      <td>4</td>\n",
       "      <td>19</td>\n",
       "      <td>159</td>\n",
       "      <td>144</td>\n",
       "      <td>0.97</td>\n",
       "      <td>25.1</td>\n",
       "    </tr>\n",
       "    <tr>\n",
       "      <th>3</th>\n",
       "      <td>ingi_1</td>\n",
       "      <td>Seq_742</td>\n",
       "      <td>93.750</td>\n",
       "      <td>16</td>\n",
       "      <td>1</td>\n",
       "      <td>0</td>\n",
       "      <td>4</td>\n",
       "      <td>19</td>\n",
       "      <td>679</td>\n",
       "      <td>664</td>\n",
       "      <td>0.97</td>\n",
       "      <td>25.1</td>\n",
       "    </tr>\n",
       "    <tr>\n",
       "      <th>4</th>\n",
       "      <td>ingi_1</td>\n",
       "      <td>Seq_738</td>\n",
       "      <td>93.750</td>\n",
       "      <td>16</td>\n",
       "      <td>1</td>\n",
       "      <td>0</td>\n",
       "      <td>4</td>\n",
       "      <td>19</td>\n",
       "      <td>159</td>\n",
       "      <td>144</td>\n",
       "      <td>0.97</td>\n",
       "      <td>25.1</td>\n",
       "    </tr>\n",
       "  </tbody>\n",
       "</table>\n",
       "</div>"
      ],
      "text/plain": [
       "       0        1        2   3  4  5  6   7    8    9         10    11\n",
       "0  ingi_1  Seq_543   87.097  31  4  0  9  39  447  477  4.48e-04  36.2\n",
       "1  ingi_1  Seq_536  100.000  16  0  0  8  23    2   17     0.021  30.7\n",
       "2  ingi_1  Seq_745   93.750  16  1  0  4  19  159  144      0.97  25.1\n",
       "3  ingi_1  Seq_742   93.750  16  1  0  4  19  679  664      0.97  25.1\n",
       "4  ingi_1  Seq_738   93.750  16  1  0  4  19  159  144      0.97  25.1"
      ]
     },
     "execution_count": 16,
     "metadata": {},
     "output_type": "execute_result"
    }
   ],
   "source": [
    "# To data frame\n",
    "blastn_data_df = pd.DataFrame([x.split(\",\") for x in blastn_data.strip().split(\"\\n\")])\n",
    "blastn_data_df.head()"
   ]
  },
  {
   "cell_type": "code",
   "execution_count": 17,
   "metadata": {},
   "outputs": [
    {
     "data": {
      "text/plain": [
       "(14, 12)"
      ]
     },
     "execution_count": 17,
     "metadata": {},
     "output_type": "execute_result"
    }
   ],
   "source": [
    "blastn_data_df.shape"
   ]
  },
  {
   "cell_type": "code",
   "execution_count": 18,
   "metadata": {},
   "outputs": [
    {
     "data": {
      "text/plain": [
       "14"
      ]
     },
     "execution_count": 18,
     "metadata": {},
     "output_type": "execute_result"
    }
   ],
   "source": [
    "blastn_data_df[1].nunique()"
   ]
  },
  {
   "cell_type": "code",
   "execution_count": 20,
   "metadata": {},
   "outputs": [
    {
     "data": {
      "text/plain": [
       "0.013232514177693762"
      ]
     },
     "execution_count": 20,
     "metadata": {},
     "output_type": "execute_result"
    }
   ],
   "source": [
    "14/1058"
   ]
  }
 ],
 "metadata": {
  "kernelspec": {
   "display_name": "Python 3",
   "language": "python",
   "name": "python3"
  },
  "language_info": {
   "codemirror_mode": {
    "name": "ipython",
    "version": 3
   },
   "file_extension": ".py",
   "mimetype": "text/x-python",
   "name": "python",
   "nbconvert_exporter": "python",
   "pygments_lexer": "ipython3",
   "version": "3.10.12"
  }
 },
 "nbformat": 4,
 "nbformat_minor": 2
}
