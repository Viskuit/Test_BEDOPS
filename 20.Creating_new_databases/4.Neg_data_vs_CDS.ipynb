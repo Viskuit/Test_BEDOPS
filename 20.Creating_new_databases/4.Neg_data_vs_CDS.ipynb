{
 "cells": [
  {
   "cell_type": "markdown",
   "metadata": {},
   "source": [
    "# Code"
   ]
  },
  {
   "cell_type": "markdown",
   "metadata": {},
   "source": [
    "## Modules"
   ]
  },
  {
   "cell_type": "code",
   "execution_count": 45,
   "metadata": {},
   "outputs": [],
   "source": [
    "import pandas as pd\n",
    "import subprocess\n",
    "from Bio import SeqIO\n",
    "from Bio.Seq import Seq\n",
    "from Bio.SeqRecord import SeqRecord"
   ]
  },
  {
   "cell_type": "markdown",
   "metadata": {},
   "source": [
    "## Import data"
   ]
  },
  {
   "cell_type": "markdown",
   "metadata": {},
   "source": [
    "### Negative data base"
   ]
  },
  {
   "cell_type": "code",
   "execution_count": 46,
   "metadata": {},
   "outputs": [
    {
     "name": "stdout",
     "output_type": "stream",
     "text": [
      "(913, 5)\n",
      "sseqid     object\n",
      "sstart      int64\n",
      "send        int64\n",
      "sstrand    object\n",
      "sseq       object\n",
      "dtype: object\n"
     ]
    },
    {
     "data": {
      "text/html": [
       "<div>\n",
       "<style scoped>\n",
       "    .dataframe tbody tr th:only-of-type {\n",
       "        vertical-align: middle;\n",
       "    }\n",
       "\n",
       "    .dataframe tbody tr th {\n",
       "        vertical-align: top;\n",
       "    }\n",
       "\n",
       "    .dataframe thead th {\n",
       "        text-align: right;\n",
       "    }\n",
       "</style>\n",
       "<table border=\"1\" class=\"dataframe\">\n",
       "  <thead>\n",
       "    <tr style=\"text-align: right;\">\n",
       "      <th></th>\n",
       "      <th>sseqid</th>\n",
       "      <th>sstart</th>\n",
       "      <th>send</th>\n",
       "      <th>sstrand</th>\n",
       "      <th>sseq</th>\n",
       "    </tr>\n",
       "  </thead>\n",
       "  <tbody>\n",
       "    <tr>\n",
       "      <th>0</th>\n",
       "      <td>LinJ.01</td>\n",
       "      <td>36103</td>\n",
       "      <td>36242</td>\n",
       "      <td>plus</td>\n",
       "      <td>AGACAGACCGACACACGCAGCCGTGTGATGCCGCCGCCGAGGGCAG...</td>\n",
       "    </tr>\n",
       "    <tr>\n",
       "      <th>1</th>\n",
       "      <td>LinJ.01</td>\n",
       "      <td>113760</td>\n",
       "      <td>114388</td>\n",
       "      <td>plus</td>\n",
       "      <td>CAGCGCCATGCACGACATGGCCGCTGACGTCCGTAGCCCTAACTCG...</td>\n",
       "    </tr>\n",
       "    <tr>\n",
       "      <th>2</th>\n",
       "      <td>LinJ.01</td>\n",
       "      <td>146412</td>\n",
       "      <td>146530</td>\n",
       "      <td>plus</td>\n",
       "      <td>GCGAATTGTGTTCTGCGCATGCCTCTTCTCTGCCGTGCAGCATGCG...</td>\n",
       "    </tr>\n",
       "    <tr>\n",
       "      <th>3</th>\n",
       "      <td>LinJ.01</td>\n",
       "      <td>261866</td>\n",
       "      <td>262439</td>\n",
       "      <td>plus</td>\n",
       "      <td>CGGACTTGGCAAGTGGCCGCCATCGATGAAAACGCACCATGCCTTT...</td>\n",
       "    </tr>\n",
       "    <tr>\n",
       "      <th>4</th>\n",
       "      <td>LinJ.01</td>\n",
       "      <td>271363</td>\n",
       "      <td>271650</td>\n",
       "      <td>plus</td>\n",
       "      <td>CGAACGCCGCCCTCAATCGCGCGCTGAACTTCACGCGGCGGTCGAC...</td>\n",
       "    </tr>\n",
       "  </tbody>\n",
       "</table>\n",
       "</div>"
      ],
      "text/plain": [
       "    sseqid  sstart    send sstrand  \\\n",
       "0  LinJ.01   36103   36242    plus   \n",
       "1  LinJ.01  113760  114388    plus   \n",
       "2  LinJ.01  146412  146530    plus   \n",
       "3  LinJ.01  261866  262439    plus   \n",
       "4  LinJ.01  271363  271650    plus   \n",
       "\n",
       "                                                sseq  \n",
       "0  AGACAGACCGACACACGCAGCCGTGTGATGCCGCCGCCGAGGGCAG...  \n",
       "1  CAGCGCCATGCACGACATGGCCGCTGACGTCCGTAGCCCTAACTCG...  \n",
       "2  GCGAATTGTGTTCTGCGCATGCCTCTTCTCTGCCGTGCAGCATGCG...  \n",
       "3  CGGACTTGGCAAGTGGCCGCCATCGATGAAAACGCACCATGCCTTT...  \n",
       "4  CGAACGCCGCCCTCAATCGCGCGCTGAACTTCACGCGGCGGTCGAC...  "
      ]
     },
     "execution_count": 46,
     "metadata": {},
     "output_type": "execute_result"
    }
   ],
   "source": [
    "# Read negative data\n",
    "neg_data = pd.read_csv('./3.new_data_v2/negative_database.csv', sep=',', header=0)\n",
    "print(neg_data.shape)\n",
    "print(neg_data.dtypes)\n",
    "neg_data.head()"
   ]
  },
  {
   "cell_type": "code",
   "execution_count": 47,
   "metadata": {},
   "outputs": [
    {
     "name": "stdout",
     "output_type": "stream",
     "text": [
      "    sseqid  sstart    send\n",
      "0  LinJ.01   36103   36242\n",
      "1  LinJ.01  113760  114388\n",
      "2  LinJ.01  146412  146530\n",
      "3  LinJ.01  261866  262439\n",
      "4  LinJ.01  271363  271650\n"
     ]
    }
   ],
   "source": [
    "# Get what's needed from the negative data\n",
    "neg_data_bed = neg_data[[\"sseqid\", \"sstart\", \"send\"]].copy()\n",
    "print(neg_data_bed.head())"
   ]
  },
  {
   "cell_type": "code",
   "execution_count": 48,
   "metadata": {},
   "outputs": [
    {
     "data": {
      "text/plain": [
       "sseqid    object\n",
       "sstart     int64\n",
       "send       int64\n",
       "dtype: object"
      ]
     },
     "execution_count": 48,
     "metadata": {},
     "output_type": "execute_result"
    }
   ],
   "source": [
    "# Get the type of data\n",
    "neg_data_bed.dtypes"
   ]
  },
  {
   "cell_type": "markdown",
   "metadata": {},
   "source": [
    "### CDS data base"
   ]
  },
  {
   "cell_type": "code",
   "execution_count": 49,
   "metadata": {},
   "outputs": [
    {
     "name": "stdout",
     "output_type": "stream",
     "text": [
      "8527\n",
      "['LinJ.01', '3710', '4711', '-', 'product=Protein of unknown function (DUF2946)']\n",
      "['LinJ.01', '5804', '7438', '-', 'product=Endonuclease/Exonuclease/phosphatase family']\n",
      "['LinJ.01', '9038', '11059', '-', 'product=Kinesin-13']\n",
      "['LinJ.01', '12041', '12601', '-', 'product=hypothetical protein - conserved']\n",
      "['LinJ.01', '14957', '16954', '-', 'product=carboxylase - putative']\n"
     ]
    },
    {
     "data": {
      "text/plain": [
       "[None, None, None, None, None]"
      ]
     },
     "execution_count": 49,
     "metadata": {},
     "output_type": "execute_result"
    }
   ],
   "source": [
    "path_cds = './4.Neg_data_vs_CDS/data/TriTrypDB-68_LinfantumJPCM5_AnnotatedCDSs.fasta'\n",
    "cds_data = []\n",
    "with open(path_cds, \"r\") as handle:\n",
    "    for record in SeqIO.parse(handle, \"fasta\"):\n",
    "        # print(f\"{record.description}\")  # Here are all the data needed\n",
    "        start, end = record.description.split(\"|\")[3].split(\":\")[1].replace(\"(-)\", \"\").replace(\"(+)\",\"\").strip().split(\"-\")  # start and end coordinates\n",
    "        sense = record.description.split(\"|\")[3].split(\":\")[1].split(\"(\")[1].replace(\")\",\"\").strip()  # sense\n",
    "        chr_num = record.description.split(\"|\")[3].split(\":\")[0].split(\"=\")[1]  # chromosome number\n",
    "        attribute = record.description.split(\"|\")[2].strip()\n",
    "        # Now let's create a bed file with chr_num, start and end only, with tab sep\n",
    "        cds_data.append([chr_num, start, end, sense, attribute])\n",
    "        # print(f\"Chromosome: {chr_num}, Start: {start}, End: {end}, Attribute: {attribute}\")\n",
    "print(len(cds_data))\n",
    "[print(x) for x in cds_data[:5]]"
   ]
  },
  {
   "cell_type": "code",
   "execution_count": 50,
   "metadata": {},
   "outputs": [
    {
     "name": "stdout",
     "output_type": "stream",
     "text": [
      "sseqid       object\n",
      "sstart        int64\n",
      "send          int64\n",
      "sense        object\n",
      "attribute    object\n",
      "dtype: object\n",
      "    sseqid  sstart   send sense  \\\n",
      "0  LinJ.01    3710   4711     -   \n",
      "1  LinJ.01    5804   7438     -   \n",
      "2  LinJ.01    9038  11059     -   \n",
      "3  LinJ.01   12041  12601     -   \n",
      "4  LinJ.01   14957  16954     -   \n",
      "\n",
      "                                           attribute  \n",
      "0      product=Protein of unknown function (DUF2946)  \n",
      "1  product=Endonuclease/Exonuclease/phosphatase f...  \n",
      "2                                 product=Kinesin-13  \n",
      "3           product=hypothetical protein - conserved  \n",
      "4                     product=carboxylase - putative  \n"
     ]
    }
   ],
   "source": [
    "# Transform the list into a dataframe\n",
    "cds_data = pd.DataFrame(cds_data, columns=[\"sseqid\", \"sstart\", \"send\", \"sense\", \"attribute\"])\n",
    "cds_data[['sstart', 'send']] = cds_data[['sstart', 'send']].apply(pd.to_numeric)\n",
    "print(cds_data.dtypes)\n",
    "print(cds_data.head())"
   ]
  },
  {
   "cell_type": "markdown",
   "metadata": {},
   "source": [
    "## Compare `neg_data_bed` against `cds_data`"
   ]
  },
  {
   "cell_type": "code",
   "execution_count": 51,
   "metadata": {},
   "outputs": [],
   "source": [
    "## And check with our data have CDS inside\n",
    "neg_with_cds = {}\n",
    "for index, row in neg_data_bed.iterrows():\n",
    "    overlapping_cds = cds_data[\n",
    "       (\n",
    "           (\n",
    "               ((cds_data['sstart'] >= row['sstart']) & (cds_data['sstart'] <= row['send'])) |\n",
    "               ((cds_data['send'] <= row['send']) & (cds_data['send'] >= row['sstart']))\n",
    "            ) |  # Now let's do for the \"neg_data\" that are inside the CDS\n",
    "           (\n",
    "               (cds_data['sstart'] <= row['sstart']) & (cds_data['send'] >= row['send'])\n",
    "            )\n",
    "        ) &\n",
    "       (cds_data['sseqid'] == row['sseqid'])\n",
    "        ]\n",
    "    if not overlapping_cds.empty:\n",
    "        neg_with_cds[f'{row['sseqid']}_{row['sstart']}_{row['send']}'] = overlapping_cds\n",
    "    else:\n",
    "        continue"
   ]
  },
  {
   "cell_type": "code",
   "execution_count": 52,
   "metadata": {},
   "outputs": [
    {
     "name": "stdout",
     "output_type": "stream",
     "text": [
      "Key: LinJ.02_119095_119743\n",
      "\tValue: ['LinJ.02', 119608, 122316, '-', 'product=Glycosyltransferase (GlcNAc) - putative']\n",
      "Key: LinJ.03_349124_349733\n",
      "\tValue: ['LinJ.03', 349457, 353806, '-', 'product=hypothetical protein - conserved']\n",
      "Key: LinJ.04_96585_97584\n",
      "\tValue: ['LinJ.04', 97144, 99075, '+', 'product=beta-fructofuranosidase - putative']\n",
      "Key: LinJ.04_97729_98226\n",
      "\tValue: ['LinJ.04', 97144, 99075, '+', 'product=beta-fructofuranosidase - putative']\n",
      "Key: LinJ.04_98297_99510\n",
      "\tValue: ['LinJ.04', 97144, 99075, '+', 'product=beta-fructofuranosidase - putative']\n",
      "Key: LinJ.04_100424_101110\n",
      "\tValue: ['LinJ.04', 100760, 101959, '+', 'product=beta-fructofuranosidase - putative']\n",
      "Key: LinJ.04_101181_101967\n",
      "\tValue: ['LinJ.04', 100760, 101959, '+', 'product=beta-fructofuranosidase - putative']\n",
      "Key: LinJ.04_175855_176491\n",
      "\tValue: ['LinJ.04', 176402, 179428, '-', 'product=hypothetical protein - conserved']\n",
      "Key: LinJ.04_208748_209410\n",
      "\tValue: ['LinJ.04', 209331, 210374, '-', 'product=hypothetical protein - conserved']\n",
      "Key: LinJ.05_109889_110888\n",
      "\tValue: ['LinJ.05', 109316, 111193, '+', 'product=ATP-dependent RNA helicase - putative']\n",
      "Key: LinJ.06_301842_302407\n",
      "\tValue: ['LinJ.06', 302199, 305753, '+', 'product=hypothetical protein - conserved']\n",
      "Key: LinJ.06_515363_516027\n",
      "\tValue: ['LinJ.06', 515416, 515787, '-', 'product=Cytochrome b5-like Heme/Steroid binding domain containing protein - putative']\n",
      "Key: LinJ.07_63117_63257\n",
      "\tValue: ['LinJ.07', 63027, 65573, '-', 'product=protein kinase - putative']\n",
      "Key: LinJ.08_43301_43873\n",
      "\tValue: ['LinJ.08', 43655, 45412, '+', 'product=hypothetical protein - conserved']\n",
      "Key: LinJ.08_84310_84882\n",
      "\tValue: ['LinJ.08', 84819, 86387, '+', 'product=ABC1 family - putative']\n",
      "Key: LinJ.08_282267_282840\n",
      "\tValue: ['LinJ.08', 280021, 284100, '+', 'product=protein kinase - putative']\n",
      "Key: LinJ.08_288974_290999\n",
      "\tValue: ['LinJ.08', 289983, 290597, '+', 'product=amastin-like protein']\n",
      "Key: LinJ.08_294597_296614\n",
      "\tValue: ['LinJ.08', 295607, 296212, '+', 'product=amastin-like protein']\n",
      "Key: LinJ.08_299225_301242\n",
      "\tValue: ['LinJ.08', 300238, 300840, '+', 'product=Amastin surface glycoprotein - putative']\n",
      "Key: LinJ.08_303853_305867\n",
      "\tValue: ['LinJ.08', 304863, 305465, '+', 'product=Amastin surface glycoprotein - putative']\n",
      "Key: LinJ.08_308438_310451\n",
      "\tValue: ['LinJ.08', 309447, 310049, '+', 'product=Amastin surface glycoprotein - putative']\n",
      "Key: LinJ.08_312954_314973\n",
      "\tValue: ['LinJ.08', 313960, 314571, '+', 'product=amastin-like protein']\n",
      "Key: LinJ.08_320533_321107\n",
      "\tValue: ['LinJ.08', 319423, 320952, '+', 'product=tuzin - putative']\n",
      "Key: LinJ.08_322677_323962\n",
      "\tValue: ['LinJ.08', 322233, 324140, '+', 'product=tuzin - putative']\n",
      "Key: LinJ.08_326059_326542\n",
      "\tValue: ['LinJ.08', 325365, 326393, '+', 'product=tuzin - putative']\n",
      "Key: LinJ.08_327273_327605\n",
      "\tValue: ['LinJ.08', 327512, 328093, '+', 'product=amastin-like protein']\n",
      "Key: LinJ.08_327702_328451\n",
      "\tValue: ['LinJ.08', 327512, 328093, '+', 'product=amastin-like protein']\n",
      "Key: LinJ.08_337867_338798\n",
      "\tValue: ['LinJ.08', 337859, 338386, '+', 'product=Amastin-like protein']\n",
      "Key: LinJ.08_342794_343126\n",
      "\tValue: ['LinJ.08', 343034, 343615, '+', 'product=amastin-like protein']\n",
      "Key: LinJ.08_343214_343973\n",
      "\tValue: ['LinJ.08', 343034, 343615, '+', 'product=amastin-like protein']\n",
      "Key: LinJ.09_78721_79720\n",
      "\tValue: ['LinJ.09', 78602, 78964, '+', 'product=hypothetical protein - conserved']\n",
      "Key: LinJ.09_482503_483178\n",
      "\tValue: ['LinJ.09', 482284, 489135, '-', 'product=ATP-dependent helicase - putative']\n",
      "Key: LinJ.09_483332_484362\n",
      "\tValue: ['LinJ.09', 482284, 489135, '-', 'product=ATP-dependent helicase - putative']\n",
      "Key: LinJ.09_490558_491597\n",
      "\tValue: ['LinJ.09', 490752, 497057, '-', 'product=ATP-dependent helicase - putative']\n",
      "Key: LinJ.10_156327_157169\n",
      "\tValue: ['LinJ.10', 154911, 157148, '+', 'product=pteridine transporter (truncated) - putative']\n",
      "Key: LinJ.10_169474_170399\n",
      "\tValue: ['LinJ.10', 168362, 170149, '+', 'product=pteridine transporter (truncated) - putative']\n",
      "Key: LinJ.10_432075_432822\n",
      "\tValue: ['LinJ.10', 432074, 432466, '-', 'product=histone H3 - putative']\n",
      "Key: LinJ.10_468887_469917\n",
      "\tValue: ['LinJ.10', 469169, 469561, '-', 'product=histone H3 - putative']\n",
      "Key: LinJ.10_474579_475330\n",
      "\tValue: ['LinJ.10', 474582, 474974, '-', 'product=histone H3 - putative']\n",
      "Key: LinJ.12_374144_376429\n",
      "\tValue: ['LinJ.12', 375028, 375513, '+', 'product=hypothetical protein - conserved']\n",
      "Key: LinJ.12_377853_378457\n",
      "\tValue: ['LinJ.12', 378271, 379467, '+', 'product=hypothetical protein - conserved']\n",
      "Key: LinJ.12_381791_384304\n",
      "\tValue: ['LinJ.12', 383206, 383691, '+', 'product=hypothetical protein - conserved']\n",
      "Key: LinJ.12_388833_390000\n",
      "\tValue: ['LinJ.12', 389815, 390948, '+', 'product=hypothetical protein - conserved']\n",
      "Key: LinJ.12_394055_395924\n",
      "\tValue: ['LinJ.12', 394523, 395008, '+', 'product=hypothetical protein - conserved']\n",
      "Key: LinJ.12_397043_398074\n",
      "\tValue: ['LinJ.12', 397926, 399245, '+', 'product=hypothetical protein - conserved']\n",
      "Key: LinJ.12_400802_402195\n",
      "\tValue: ['LinJ.12', 402010, 402624, '+', 'product=promastigote surface antigen 38S']\n",
      "Key: LinJ.12_406611_408177\n",
      "\tValue: ['LinJ.12', 407079, 407564, '+', 'product=hypothetical protein - conserved']\n",
      "Key: LinJ.12_412489_413751\n",
      "\tValue: ['LinJ.12', 413566, 415191, '+', 'product=surface antigen protein 2 - putative']\n",
      "Key: LinJ.12_420858_421771\n",
      "\tValue: ['LinJ.12', 421623, 422942, '+', 'product=hypothetical protein - conserved']\n",
      "Key: LinJ.12_424499_425655\n",
      "\tValue: ['LinJ.12', 425473, 426861, '+', 'product=surface antigen protein 2 - putative']\n",
      "Key: LinJ.12_429315_431264\n",
      "\tValue: ['LinJ.12', 429628, 430095, '+', 'product=hypothetical protein - conserved']\n",
      "Key: LinJ.12_435595_436681\n",
      "\tValue: ['LinJ.12', 436498, 438492, '+', 'product=surface antigen protein 2 - putative']\n",
      "Key: LinJ.12_440004_442320\n",
      "\tValue: ['LinJ.12', 440748, 441215, '+', 'product=hypothetical protein - conserved']\n",
      "\tValue: ['LinJ.12', 441320, 441805, '+', 'product=hypothetical protein - conserved']\n",
      "Key: LinJ.12_446569_447657\n",
      "\tValue: ['LinJ.12', 447481, 448734, '+', 'product=hypothetical protein - conserved']\n",
      "Key: LinJ.12_449857_452488\n",
      "\tValue: ['LinJ.12', 450545, 451012, '+', 'product=hypothetical protein - conserved']\n",
      "\tValue: ['LinJ.12', 451117, 451827, '+', 'product=hypothetical protein - conserved']\n",
      "\tValue: ['LinJ.12', 452302, 453693, '+', 'product=surface antigen protein 2 - putative']\n",
      "Key: LinJ.12_454816_456588\n",
      "\tValue: ['LinJ.12', 455588, 456073, '+', 'product=hypothetical protein - conserved']\n",
      "Key: LinJ.12_460983_462059\n",
      "\tValue: ['LinJ.12', 461873, 463756, '+', 'product=surface antigen protein 2 - putative']\n",
      "Key: LinJ.13_84041_84686\n",
      "\tValue: ['LinJ.13', 84477, 89711, '-', 'product=hypothetical protein - conserved']\n",
      "Key: LinJ.13_333350_333908\n",
      "\tValue: ['LinJ.13', 333734, 338704, '-', 'product=AMP deaminase - putative']\n",
      "Key: LinJ.13_374731_375289\n",
      "\tValue: ['LinJ.13', 375065, 379387, '-', 'product=hypothetical protein - conserved']\n",
      "Key: LinJ.13_492501_493058\n",
      "\tValue: ['LinJ.13', 492888, 494102, '-', 'product=Beta-lactamase superfamily domain containing protein - putative']\n",
      "Key: LinJ.13_650352_650922\n",
      "\tValue: ['LinJ.13', 650822, 652645, '+', 'product=Protein Associated with Differentiation - putative']\n",
      "Key: LinJ.15_87198_87893\n",
      "\tValue: ['LinJ.15', 87890, 88537, '-', 'product=hypothetical protein - conserved']\n",
      "Key: LinJ.16_16908_17537\n",
      "\tValue: ['LinJ.16', 17508, 19715, '-', 'product=Galactose oxidase - central domain/Kelch motif/Domain of unknown function (DUF4110) - putative']\n",
      "Key: LinJ.16_20823_21411\n",
      "\tValue: ['LinJ.16', 21043, 21327, '-', 'product=hypothetical protein']\n",
      "Key: LinJ.16_198224_198980\n",
      "\tValue: ['LinJ.16', 198224, 198616, '-', 'product=histone H3 - putative']\n",
      "Key: LinJ.16_199156_199923\n",
      "\tValue: ['LinJ.16', 199160, 199552, '-', 'product=histone H3 - putative']\n",
      "Key: LinJ.16_211883_212639\n",
      "\tValue: ['LinJ.16', 211883, 212275, '-', 'product=Core histone H2A/H2B/H3/H4/Histone-like transcription factor (CBF/NF-Y) and archaeal histone - putative']\n",
      "Key: LinJ.16_212815_213962\n",
      "\tValue: ['LinJ.16', 212819, 213211, '-', 'product=Core histone H2A/H2B/H3/H4/Histone-like transcription factor (CBF/NF-Y) and archaeal histone - putative']\n",
      "Key: LinJ.17_356287_357267\n",
      "\tValue: ['LinJ.17', 357066, 358739, '-', 'product=VID27 cytoplasmic protein - putative']\n",
      "Key: LinJ.18_270762_270869\n",
      "\tValue: ['LinJ.18', 270585, 272720, '+', 'product=HEAT repeats/HEAT repeat - putative']\n",
      "Key: LinJ.18_713985_714089\n",
      "\tValue: ['LinJ.18', 713851, 714186, '+', 'product=hypothetical protein']\n",
      "Key: LinJ.19_347405_348161\n",
      "\tValue: ['LinJ.19', 347417, 347794, '+', 'product=ATG8/AUT7/APG8/PAZ2 - putative']\n",
      "Key: LinJ.19_348415_349248\n",
      "\tValue: ['LinJ.19', 348505, 348882, '+', 'product=ATG8/AUT7/APG8/PAZ2 - putative']\n",
      "Key: LinJ.19_349502_350336\n",
      "\tValue: ['LinJ.19', 349592, 349969, '+', 'product=ATG8/AUT7/APG8/PAZ2 - putative']\n",
      "Key: LinJ.19_350590_351423\n",
      "\tValue: ['LinJ.19', 350679, 351056, '+', 'product=ATG8/AUT7/APG8/PAZ2 - putative']\n",
      "Key: LinJ.19_351676_352511\n",
      "\tValue: ['LinJ.19', 351766, 352143, '+', 'product=ATG8/AUT7/APG8/PAZ2 - putative']\n",
      "Key: LinJ.19_352767_353600\n",
      "\tValue: ['LinJ.19', 352859, 353305, '+', 'product=ATG8/AUT7/APG8/PAZ2 - putative']\n",
      "Key: LinJ.19_353858_354690\n",
      "\tValue: ['LinJ.19', 353947, 354192, '+', 'product=ATG8/AUT7/APG8/PAZ2 - putative']\n",
      "Key: LinJ.19_357352_357955\n",
      "\tValue: ['LinJ.19', 357230, 357640, '+', 'product=ATG8/AUT7/APG8/PAZ2 - putative']\n",
      "Key: LinJ.19_360034_360778\n",
      "\tValue: ['LinJ.19', 360034, 360411, '+', 'product=ATG8/AUT7/APG8/PAZ2 - putative']\n",
      "Key: LinJ.19_361032_361659\n",
      "\tValue: ['LinJ.19', 361122, 361487, '+', 'product=ATG8/AUT7/APG8/PAZ2 - putative']\n",
      "Key: LinJ.19_364614_365241\n",
      "\tValue: ['LinJ.19', 364704, 365069, '+', 'product=ATG8/AUT7/APG8/PAZ2 - putative']\n",
      "Key: LinJ.19_368198_368825\n",
      "\tValue: ['LinJ.19', 368288, 368653, '+', 'product=ATG8/AUT7/APG8/PAZ2 - putative']\n",
      "Key: LinJ.19_369161_370404\n",
      "\tValue: ['LinJ.19', 370401, 372422, '+', 'product=pteridine transporter (truncated) - putative']\n",
      "Key: LinJ.19_371665_372608\n",
      "\tValue: ['LinJ.19', 370401, 372422, '+', 'product=pteridine transporter (truncated) - putative']\n",
      "Key: LinJ.19_565873_566445\n",
      "\tValue: ['LinJ.19', 565904, 566272, '+', 'product=hypothetical protein - conserved']\n",
      "Key: LinJ.19_617473_617623\n",
      "\tValue: ['LinJ.19', 617504, 617998, '+', 'product=hypothetical protein - conserved']\n",
      "Key: LinJ.20_34753_35965\n",
      "\tValue: ['LinJ.20', 34084, 35523, '-', 'product=phosphoglycerate kinase C - glycosomal']\n",
      "Key: LinJ.20_37431_38430\n",
      "\tValue: ['LinJ.20', 36948, 38201, '-', 'product=phosphoglycerate kinase C - glycosomal']\n",
      "Key: LinJ.21_488628_489269\n",
      "\tValue: ['LinJ.21', 489032, 489829, '-', 'product=Ribosomal protein L1p/L10e family - putative']\n",
      "Key: LinJ.21_544981_545089\n",
      "\tValue: ['LinJ.21', 544978, 549777, '-', 'product=RecF/RecN/SMC N terminal domain/SMC proteins Flexible Hinge Domain - putative']\n",
      "Key: LinJ.21_576604_576716\n",
      "\tValue: ['LinJ.21', 576596, 577606, '-', 'product=Protein of unknown function (DUF971) - putative']\n",
      "Key: LinJ.22_8981_10030\n",
      "\tValue: ['LinJ.22', 9042, 9293, '-', 'product=Cytochrome b5-like Heme/Steroid binding domain containing protein - putative']\n",
      "Key: LinJ.22_94666_95220\n",
      "\tValue: ['LinJ.22', 94543, 96000, '-', 'product=amino acid permease - putative']\n",
      "Key: LinJ.22_334059_335069\n",
      "\tValue: ['LinJ.22', 331617, 335129, '-', 'product=50S ribosome-binding GTPase/Dynamin family/Elongation factor Tu GTP binding domain containing protein - putative']\n",
      "Key: LinJ.22_383411_384023\n",
      "\tValue: ['LinJ.22', 383524, 386457, '+', 'product=50S ribosome-binding GTPase/Dynamin family/Elongation factor Tu GTP binding domain containing protein - putative']\n",
      "Key: LinJ.23_341848_341968\n",
      "\tValue: ['LinJ.23', 341656, 343419, '-', 'product=RNA recognition motif. (a.k.a. RRM - RBD - or RNP domain)/RNA recognition motif (a.k.a. RRM - RBD - or RNP domain) - putative']\n",
      "Key: LinJ.24_111045_112089\n",
      "\tValue: ['LinJ.24', 110268, 111674, '+', 'product=UDP-galactose transporter - putative']\n",
      "Key: LinJ.24_118510_119465\n",
      "\tValue: ['LinJ.24', 117784, 119139, '+', 'product=UDP-galactose transporter - putative']\n",
      "Key: LinJ.24_368012_368702\n",
      "\tValue: ['LinJ.24', 368509, 372330, '+', 'product=SNF2 family protein']\n",
      "Key: LinJ.25_256967_259303\n",
      "\tValue: ['LinJ.25', 257019, 257519, '+', 'product=eukaryotic initiation factor 5a - putative']\n",
      "\tValue: ['LinJ.25', 257912, 258412, '+', 'product=eukaryotic initiation factor 5a - putative']\n",
      "\tValue: ['LinJ.25', 258805, 259305, '+', 'product=eukaryotic initiation factor 5a - putative']\n",
      "Key: LinJ.25_497545_498271\n",
      "\tValue: ['LinJ.25', 498152, 499678, '-', 'product=hypothetical protein - conserved']\n",
      "Key: LinJ.25_621029_622028\n",
      "\tValue: ['LinJ.25', 619119, 626015, '-', 'product=ER-Golgi trafficking TRAPP I complex 85 kDa subunit - putative']\n",
      "Key: LinJ.26_44321_45526\n",
      "\tValue: ['LinJ.26', 44295, 45053, '-', 'product=60S ribosomal protein L7 - putative']\n",
      "Key: LinJ.26_46048_47048\n",
      "\tValue: ['LinJ.26', 46022, 46780, '-', 'product=60S ribosomal protein L7 - putative']\n",
      "Key: LinJ.26_300365_301364\n",
      "\tValue: ['LinJ.26', 300551, 301783, '-', 'product=hypothetical protein - conserved']\n",
      "Key: LinJ.26_557327_558326\n",
      "\tValue: ['LinJ.26', 556990, 562605, '+', 'product=SNF2 family N-terminal domain/DEAD/DEAH box helicase/Ring finger domain/Zinc finger - C3HC4 type (RING finger)/Helicase conserved C-terminal domain containing protein - putative']\n",
      "Key: LinJ.26_603260_603848\n",
      "\tValue: ['LinJ.26', 603340, 604314, '+', 'product=sphingolipid delta 4 desaturase - putative']\n",
      "Key: LinJ.26_605339_606344\n",
      "\tValue: ['LinJ.26', 605836, 606810, '+', 'product=sphingolipid delta 4 desaturase - putative']\n",
      "Key: LinJ.26_607835_608840\n",
      "\tValue: ['LinJ.26', 608332, 609342, '+', 'product=sphingolipid delta 4 desaturase - putative']\n",
      "Key: LinJ.27_291736_292841\n",
      "\tValue: ['LinJ.27', 291004, 292506, '+', 'product=amino acid transporter aATP11 - putative']\n",
      "Key: LinJ.27_485210_485860\n",
      "\tValue: ['LinJ.27', 485617, 486459, '-', 'product=hypothetical protein - conserved']\n",
      "Key: LinJ.27_712425_713214\n",
      "\tValue: ['LinJ.27', 711294, 712739, '+', 'product=amino acid transporter - putative']\n",
      "Key: LinJ.27_722237_723250\n",
      "\tValue: ['LinJ.27', 721105, 722877, '+', 'product=amino acid transporter - putative']\n",
      "Key: LinJ.27_793266_794269\n",
      "\tValue: ['LinJ.27', 793499, 793807, '-', 'product=hypothetical protein - unknown function']\n",
      "Key: LinJ.27_1151472_1152471\n",
      "\tValue: ['LinJ.27', 1150929, 1152743, '+', 'product=hypothetical protein - conserved']\n",
      "\tValue: ['LinJ.27', 1151757, 1152743, '+', 'product=hypothetical protein - conserved']\n",
      "Key: LinJ.27_1172371_1173326\n",
      "\tValue: ['LinJ.27', 1172826, 1174127, '+', 'product=hypothetical protein - conserved']\n",
      "Key: LinJ.29_207563_208232\n",
      "\tValue: ['LinJ.29', 207932, 209149, '-', 'product=Exonuclease - putative']\n",
      "Key: LinJ.29_560390_561475\n",
      "\tValue: ['LinJ.29', 560916, 561497, '+', 'product=Amastin surface glycoprotein - putative']\n",
      "Key: LinJ.29_561486_563117\n",
      "\tValue: ['LinJ.29', 560916, 561497, '+', 'product=Amastin surface glycoprotein - putative']\n",
      "Key: LinJ.29_573121_575885\n",
      "\tValue: ['LinJ.29', 573647, 574264, '+', 'product=Amastin surface glycoprotein - putative']\n",
      "Key: LinJ.29_579524_582286\n",
      "\tValue: ['LinJ.29', 580050, 580667, '+', 'product=Amastin surface glycoprotein - putative']\n",
      "Key: LinJ.29_583382_584988\n",
      "\tValue: ['LinJ.29', 583929, 584180, '+', 'product=hypothetical protein']\n",
      "Key: LinJ.29_666957_667537\n",
      "\tValue: ['LinJ.29', 667216, 667713, '-', 'product=clathrin coat assembly protein ap19 - putative']\n",
      "Key: LinJ.31_95487_96146\n",
      "\tValue: ['LinJ.31', 95376, 96878, '-', 'product=amino acid transporter aATP11 - putative']\n",
      "Key: LinJ.31_102884_103543\n",
      "\tValue: ['LinJ.31', 102773, 104176, '-', 'product=amino acid transporter aATP11 - putative']\n",
      "Key: LinJ.31_107905_108627\n",
      "\tValue: ['LinJ.31', 107842, 109377, '-', 'product=amino acid transporter aATP11 - putative']\n",
      "Key: LinJ.31_137240_138239\n",
      "\tValue: ['LinJ.31', 138096, 138323, '-', 'product=hypothetical protein - conserved']\n",
      "Key: LinJ.31_152289_153248\n",
      "\tValue: ['LinJ.31', 152089, 152688, '-', 'product=Amastin surface glycoprotein - putative']\n",
      "Key: LinJ.31_208188_208777\n",
      "\tValue: ['LinJ.31', 208161, 209690, '-', 'product=amino acid transporter aATP11 - putative']\n",
      "Key: LinJ.31_212582_213149\n",
      "\tValue: ['LinJ.31', 212300, 213925, '-', 'product=amino acid transporter aATP11 - putative']\n",
      "Key: LinJ.31_286122_287343\n",
      "\tValue: ['LinJ.31', 286848, 287585, '-', 'product=c2 domain protein - putative']\n",
      "Key: LinJ.31_326455_327489\n",
      "\tValue: ['LinJ.31', 326837, 328279, '-', 'product=amino acid permease 3']\n",
      "Key: LinJ.31_333751_334401\n",
      "\tValue: ['LinJ.31', 333749, 335191, '-', 'product=amino acid permease 3']\n",
      "Key: LinJ.31_345312_347566\n",
      "\tValue: ['LinJ.31', 347527, 349392, '-', 'product=sodium stibogluconate resistance protein - putative']\n",
      "Key: LinJ.31_354467_355211\n",
      "\tValue: ['LinJ.31', 355172, 357037, '-', 'product=sodium stibogluconate resistance protein - putative']\n",
      "Key: LinJ.31_362116_362860\n",
      "\tValue: ['LinJ.31', 362821, 364686, '-', 'product=sodium stibogluconate resistance protein - putative']\n",
      "Key: LinJ.31_369762_373257\n",
      "\tValue: ['LinJ.31', 373218, 375080, '-', 'product=sodium stibogluconate resistance protein - putative']\n",
      "Key: LinJ.31_462482_463050\n",
      "\tValue: ['LinJ.31', 462787, 463722, '-', 'product=monoglyceride lipase - putative']\n",
      "Key: LinJ.31_882023_882647\n",
      "\tValue: ['LinJ.31', 881995, 883812, '-', 'product=amino acid permease - putative']\n",
      "Key: LinJ.31_888809_889433\n",
      "\tValue: ['LinJ.31', 888781, 890544, '-', 'product=amino acid permease']\n",
      "Key: LinJ.31_899193_899817\n",
      "\tValue: ['LinJ.31', 899165, 900982, '-', 'product=amino acid permease']\n",
      "Key: LinJ.31_905981_906605\n",
      "\tValue: ['LinJ.31', 905953, 907770, '-', 'product=amino acid permease']\n",
      "Key: LinJ.31_913626_914620\n",
      "\tValue: ['LinJ.31', 912293, 916414, '-', 'product=protein kinase - putative']\n",
      "Key: LinJ.31_922777_923771\n",
      "\tValue: ['LinJ.31', 921486, 925565, '-', 'product=protein kinase - putative']\n",
      "Key: LinJ.31_929376_929590\n",
      "\tValue: ['LinJ.31', 929280, 929585, '-', 'product=hypothetical protein - conserved']\n",
      "Key: LinJ.31_1163441_1164042\n",
      "\tValue: ['LinJ.31', 1163490, 1164518, '-', 'product=3 -2-trans-enoyl-CoA isomerase - mitochondrial precursor - putative']\n",
      "Key: LinJ.31_1164145_1165356\n",
      "\tValue: ['LinJ.31', 1163490, 1164518, '-', 'product=3 -2-trans-enoyl-CoA isomerase - mitochondrial precursor - putative']\n",
      "\tValue: ['LinJ.31', 1164959, 1166824, '-', 'product=aminopeptidase - putative']\n",
      "Key: LinJ.31_1191308_1191909\n",
      "\tValue: ['LinJ.31', 1191357, 1192406, '-', 'product=3 -2-trans-enoyl-CoA isomerase - mitochondrial precursor - putative']\n",
      "Key: LinJ.31_1192012_1192826\n",
      "\tValue: ['LinJ.31', 1191357, 1192406, '-', 'product=3 -2-trans-enoyl-CoA isomerase - mitochondrial precursor - putative']\n",
      "Key: LinJ.32_542835_543388\n",
      "\tValue: ['LinJ.32', 543209, 545461, '-', 'product=hypothetical protein - conserved']\n",
      "Key: LinJ.32_768733_769289\n",
      "\tValue: ['LinJ.32', 769144, 770574, '-', 'product=hypothetical protein - conserved']\n",
      "Key: LinJ.32_1229642_1230275\n",
      "\tValue: ['LinJ.32', 1229649, 1230908, '+', 'product=ribosomal protein L3 - putative']\n",
      "Key: LinJ.33_681480_682054\n",
      "\tValue: ['LinJ.33', 682026, 682571, '+', 'product=PRA1 family protein - putative']\n",
      "Key: LinJ.33_1007833_1008865\n",
      "\tValue: ['LinJ.33', 1005825, 1008404, '+', 'product=Rab-GTPase-TBC domain containing protein - putative']\n",
      "Key: LinJ.34_200025_202622\n",
      "\tValue: ['LinJ.34', 200619, 201269, '+', 'product=Amastin surface glycoprotein - putative']\n",
      "Key: LinJ.34_208029_209586\n",
      "\tValue: ['LinJ.34', 207853, 208407, '+', 'product=Amastin surface glycoprotein - putative']\n",
      "Key: LinJ.34_423380_424457\n",
      "\tValue: ['LinJ.34', 423898, 424494, '+', 'product=amastin-like surface protein - putative']\n",
      "Key: LinJ.34_432158_433237\n",
      "\tValue: ['LinJ.34', 432678, 433307, '+', 'product=amastin-like protein']\n",
      "Key: LinJ.34_436584_438815\n",
      "\tValue: ['LinJ.34', 437101, 437694, '+', 'product=Amastin surface glycoprotein - putative']\n",
      "Key: LinJ.34_440965_443197\n",
      "\tValue: ['LinJ.34', 441482, 442075, '+', 'product=Amastin surface glycoprotein - putative']\n",
      "Key: LinJ.34_445347_446419\n",
      "\tValue: ['LinJ.34', 445859, 446494, '+', 'product=amastin-like protein']\n",
      "Key: LinJ.34_449766_450838\n",
      "\tValue: ['LinJ.34', 450278, 450913, '+', 'product=amastin-like protein']\n",
      "Key: LinJ.34_515420_517114\n",
      "\tValue: ['LinJ.34', 515350, 515943, '-', 'product=amastin-like surface protein - putative']\n",
      "Key: LinJ.34_517234_517998\n",
      "\tValue: ['LinJ.34', 517144, 518148, '-', 'product=tuzin-like protein']\n",
      "Key: LinJ.34_518022_518182\n",
      "\tValue: ['LinJ.34', 517144, 518148, '-', 'product=tuzin-like protein']\n",
      "Key: LinJ.34_742696_744613\n",
      "\tValue: ['LinJ.34', 742808, 743587, '-', 'product=amastin-like surface protein - putative']\n",
      "Key: LinJ.34_744707_746374\n",
      "\tValue: ['LinJ.34', 745977, 746594, '-', 'product=Amastin surface glycoprotein - putative']\n",
      "Key: LinJ.34_746505_747867\n",
      "\tValue: ['LinJ.34', 745977, 746594, '-', 'product=Amastin surface glycoprotein - putative']\n",
      "Key: LinJ.34_747961_749628\n",
      "\tValue: ['LinJ.34', 749231, 749848, '-', 'product=Amastin surface glycoprotein - putative']\n",
      "Key: LinJ.34_749759_751124\n",
      "\tValue: ['LinJ.34', 749231, 749848, '-', 'product=Amastin surface glycoprotein - putative']\n",
      "Key: LinJ.34_751218_752885\n",
      "\tValue: ['LinJ.34', 752488, 753105, '-', 'product=Amastin surface glycoprotein - putative']\n",
      "Key: LinJ.34_753016_754486\n",
      "\tValue: ['LinJ.34', 752488, 753105, '-', 'product=Amastin surface glycoprotein - putative']\n",
      "Key: LinJ.34_766378_768048\n",
      "\tValue: ['LinJ.34', 767658, 768239, '-', 'product=amastin-like surface protein - putative']\n",
      "Key: LinJ.34_768142_769615\n",
      "\tValue: ['LinJ.34', 767658, 768239, '-', 'product=amastin-like surface protein - putative']\n",
      "Key: LinJ.34_769709_771379\n",
      "\tValue: ['LinJ.34', 770989, 771570, '-', 'product=amastin-like surface protein - putative']\n",
      "Key: LinJ.34_771473_772939\n",
      "\tValue: ['LinJ.34', 770989, 771570, '-', 'product=amastin-like surface protein - putative']\n",
      "Key: LinJ.34_782817_784487\n",
      "\tValue: ['LinJ.34', 784097, 784678, '-', 'product=amastin-like surface protein - putative']\n",
      "Key: LinJ.34_784581_786053\n",
      "\tValue: ['LinJ.34', 784097, 784678, '-', 'product=amastin-like surface protein - putative']\n",
      "Key: LinJ.34_786147_787818\n",
      "\tValue: ['LinJ.34', 787428, 788009, '-', 'product=amastin-like surface protein - putative']\n",
      "Key: LinJ.34_787912_789385\n",
      "\tValue: ['LinJ.34', 787428, 788009, '-', 'product=amastin-like surface protein - putative']\n",
      "Key: LinJ.34_789479_791150\n",
      "\tValue: ['LinJ.34', 790760, 791341, '-', 'product=amastin-like surface protein - putative']\n",
      "Key: LinJ.34_791244_792719\n",
      "\tValue: ['LinJ.34', 790760, 791341, '-', 'product=amastin-like surface protein - putative']\n",
      "Key: LinJ.34_792813_794484\n",
      "\tValue: ['LinJ.34', 794094, 794675, '-', 'product=amastin-like surface protein - putative']\n",
      "Key: LinJ.34_794578_796051\n",
      "\tValue: ['LinJ.34', 794094, 794675, '-', 'product=amastin-like surface protein - putative']\n",
      "Key: LinJ.34_796145_797816\n",
      "\tValue: ['LinJ.34', 797426, 798007, '-', 'product=amastin-like surface protein - putative']\n",
      "Key: LinJ.34_797910_799384\n",
      "\tValue: ['LinJ.34', 797426, 798007, '-', 'product=amastin-like surface protein - putative']\n",
      "Key: LinJ.34_799478_801121\n",
      "\tValue: ['LinJ.34', 800758, 801339, '-', 'product=Amastin surface glycoprotein - putative']\n",
      "Key: LinJ.34_801248_802098\n",
      "\tValue: ['LinJ.34', 800758, 801339, '-', 'product=Amastin surface glycoprotein - putative']\n",
      "Key: LinJ.34_804281_805306\n",
      "\tValue: ['LinJ.34', 803658, 805586, '-', 'product=tuzin-like protein']\n",
      "Key: LinJ.34_806276_808113\n",
      "\tValue: ['LinJ.34', 807556, 808188, '-', 'product=Amastin surface glycoprotein - putative']\n",
      "Key: LinJ.34_814920_816831\n",
      "\tValue: ['LinJ.34', 815827, 816405, '-', 'product=amastin-like surface protein - putative']\n",
      "Key: LinJ.34_824614_825487\n",
      "\tValue: ['LinJ.34', 824128, 824706, '-', 'product=amastin-like surface protein - putative']\n",
      "Key: LinJ.34_988466_989028\n",
      "\tValue: ['LinJ.34', 988358, 988789, '-', 'product=clathrin coat assembly protein AP17 - putative']\n",
      "Key: LinJ.34_1235940_1236835\n",
      "\tValue: ['LinJ.34', 1236534, 1236845, '+', 'product=hypothetical protein']\n",
      "Key: LinJ.34_1239122_1239274\n",
      "\tValue: ['LinJ.34', 1238230, 1239909, '+', 'product=tuzin - putative']\n",
      "Key: LinJ.34_1239335_1241431\n",
      "\tValue: ['LinJ.34', 1238230, 1239909, '+', 'product=tuzin - putative']\n",
      "\tValue: ['LinJ.34', 1240913, 1241491, '+', 'product=Amastin surface glycoprotein - putative']\n",
      "Key: LinJ.34_1250836_1252452\n",
      "\tValue: ['LinJ.34', 1252355, 1252942, '+', 'product=Amastin surface glycoprotein - putative']\n",
      "Key: LinJ.34_1252545_1252887\n",
      "\tValue: ['LinJ.34', 1252355, 1252942, '+', 'product=Amastin surface glycoprotein - putative']\n",
      "Key: LinJ.34_1256723_1258339\n",
      "\tValue: ['LinJ.34', 1258242, 1258829, '+', 'product=Amastin surface glycoprotein - putative']\n",
      "Key: LinJ.34_1258432_1258774\n",
      "\tValue: ['LinJ.34', 1258242, 1258829, '+', 'product=Amastin surface glycoprotein - putative']\n",
      "Key: LinJ.34_1262610_1264649\n",
      "\tValue: ['LinJ.34', 1264117, 1264704, '+', 'product=Amastin surface glycoprotein - putative']\n",
      "Key: LinJ.34_1268510_1270124\n",
      "\tValue: ['LinJ.34', 1269834, 1270607, '+', 'product=Amastin surface glycoprotein - putative']\n",
      "Key: LinJ.34_1270251_1270908\n",
      "\tValue: ['LinJ.34', 1269834, 1270607, '+', 'product=Amastin surface glycoprotein - putative']\n",
      "Key: LinJ.34_1274450_1276066\n",
      "\tValue: ['LinJ.34', 1275971, 1276549, '+', 'product=Amastin surface glycoprotein - putative']\n",
      "Key: LinJ.34_1276193_1276489\n",
      "\tValue: ['LinJ.34', 1275971, 1276549, '+', 'product=Amastin surface glycoprotein - putative']\n",
      "Key: LinJ.34_1301723_1302356\n",
      "\tValue: ['LinJ.34', 1301730, 1302989, '+', 'product=ribosomal protein L3 - putative']\n",
      "Key: LinJ.34_1303855_1304483\n",
      "\tValue: ['LinJ.34', 1303857, 1305116, '+', 'product=ribosomal protein L3 - putative']\n",
      "Key: LinJ.35_7343_7907\n",
      "\tValue: ['LinJ.35', 6411, 7775, '-', 'product=pyruvate kinase']\n",
      "Key: LinJ.35_10692_11256\n",
      "\tValue: ['LinJ.35', 9760, 11283, '-', 'product=pyruvate kinase']\n",
      "Key: LinJ.35_13822_15039\n",
      "\tValue: ['LinJ.35', 13108, 14607, '-', 'product=pyruvate kinase']\n",
      "Key: LinJ.35_217141_217452\n",
      "\tValue: ['LinJ.35', 215714, 218992, '+', 'product=beta-fructofuranosidase - putative']\n",
      "Key: LinJ.35_217565_218110\n",
      "\tValue: ['LinJ.35', 215714, 218992, '+', 'product=beta-fructofuranosidase - putative']\n",
      "Key: LinJ.35_218293_218844\n",
      "\tValue: ['LinJ.35', 215714, 218992, '+', 'product=beta-fructofuranosidase - putative']\n",
      "Key: LinJ.35_435581_436284\n",
      "\tValue: ['LinJ.35', 433877, 436276, '+', 'product=oligosaccharyl transferase subunit - putative']\n",
      "Key: LinJ.35_440731_441841\n",
      "\tValue: ['LinJ.35', 438910, 441426, '+', 'product=oligosaccharyl transferase subunit - putative']\n",
      "Key: LinJ.35_447441_448549\n",
      "\tValue: ['LinJ.35', 445812, 448196, '+', 'product=oligosaccharyl transferase subunit - putative']\n",
      "Key: LinJ.35_451607_452599\n",
      "\tValue: ['LinJ.35', 449795, 452305, '+', 'product=oligosaccharyl transferase subunit - putative']\n",
      "Key: LinJ.35_997289_997851\n",
      "\tValue: ['LinJ.35', 997795, 998763, '-', 'product=hypothetical protein - conserved']\n",
      "Key: LinJ.35_1016526_1017086\n",
      "\tValue: ['LinJ.35', 1016905, 1018149, '-', 'product=BTB/POZ domain containing protein - putative']\n",
      "Key: LinJ.35_1256443_1257003\n",
      "\tValue: ['LinJ.35', 1256851, 1259253, '-', 'product=hypothetical protein - conserved']\n",
      "Key: LinJ.35_1933050_1933153\n",
      "\tValue: ['LinJ.35', 1931868, 1933766, '+', 'product=pteridine transporter (truncated) - putative']\n",
      "Key: LinJ.35_1933284_1933874\n",
      "\tValue: ['LinJ.35', 1931868, 1933766, '+', 'product=pteridine transporter (truncated) - putative']\n",
      "Key: LinJ.36_988239_989288\n",
      "\tValue: ['LinJ.36', 987682, 988743, '+', 'product=sterol 24-c-methyltransferase - putative']\n",
      "Key: LinJ.36_1772516_1773515\n",
      "\tValue: ['LinJ.36', 1771975, 1774344, '+', 'product=amino acid transporter - putative']\n",
      "Key: LinJ.36_2032926_2033546\n",
      "\tValue: ['LinJ.36', 2033289, 2034887, '-', 'product=aldehyde dehydrogenase - putative']\n",
      "Key: LinJ.36_2213383_2213967\n",
      "\tValue: ['LinJ.36', 2213797, 2215284, '-', 'product=hypothetical protein - conserved']\n",
      "Key: LinJ.36_2220896_2221480\n",
      "\tValue: ['LinJ.36', 2221363, 2223456, '-', 'product=RNA helicase - putative']\n",
      "Key: LinJ.36_2634363_2635004\n",
      "\tValue: ['LinJ.36', 2634789, 2635991, '-', 'product=methyltransferase - putative']\n",
      "Key: LinJ.36_2660170_2660279\n",
      "\tValue: ['LinJ.36', 2660033, 2662126, '-', 'product=serine peptidase clan SC - family S9A - putative']\n"
     ]
    }
   ],
   "source": [
    "for key, value in neg_with_cds.items():\n",
    "    print(f\"Key: {key}\")\n",
    "    if len(value) >= 1:\n",
    "        for index, row in value.iterrows():\n",
    "            print(f\"\\tValue: {list(row)}\")"
   ]
  },
  {
   "cell_type": "code",
   "execution_count": 53,
   "metadata": {},
   "outputs": [
    {
     "name": "stdout",
     "output_type": "stream",
     "text": [
      "Therea are 231/913 elements in the negative data that overlap with CDS\n",
      "There are 682 elements in the negative data that do not overlap with CDS\n"
     ]
    }
   ],
   "source": [
    "print(f'Therea are {len(neg_with_cds)}/{len(neg_data)} elements in the negative data that overlap with CDS')\n",
    "print(f'There are {len(neg_data) - len(neg_with_cds)} elements in the negative data that do not overlap with CDS')"
   ]
  },
  {
   "cell_type": "code",
   "execution_count": 54,
   "metadata": {},
   "outputs": [
    {
     "name": "stdout",
     "output_type": "stream",
     "text": [
      "There are 239/8527 CDS that overlap with the negative data\n",
      "There are 8288 CDS that do not overlap with the negative data\n"
     ]
    }
   ],
   "source": [
    "count_cds = 0\n",
    "for key, value in neg_with_cds.items():\n",
    "    count_cds += value.shape[0]\n",
    "print(f'There are {count_cds}/{len(cds_data)} CDS that overlap with the negative data')\n",
    "print(f'There are {len(cds_data) - count_cds} CDS that do not overlap with the negative data')\n"
   ]
  },
  {
   "cell_type": "markdown",
   "metadata": {},
   "source": [
    "## Export as CSV"
   ]
  },
  {
   "cell_type": "markdown",
   "metadata": {},
   "source": [
    "### Export the relationship with CDS"
   ]
  },
  {
   "cell_type": "code",
   "execution_count": 55,
   "metadata": {},
   "outputs": [
    {
     "name": "stdout",
     "output_type": "stream",
     "text": [
      "239\n",
      "['LinJ.02_119095_119743', 'LinJ.02|119608|122316|-|product=Glycosyltransferase (GlcNAc) - putative']\n",
      "['LinJ.03_349124_349733', 'LinJ.03|349457|353806|-|product=hypothetical protein - conserved']\n",
      "['LinJ.04_96585_97584', 'LinJ.04|97144|99075|+|product=beta-fructofuranosidase - putative']\n",
      "['LinJ.04_97729_98226', 'LinJ.04|97144|99075|+|product=beta-fructofuranosidase - putative']\n",
      "['LinJ.04_98297_99510', 'LinJ.04|97144|99075|+|product=beta-fructofuranosidase - putative']\n"
     ]
    },
    {
     "data": {
      "text/plain": [
       "[None, None, None, None, None]"
      ]
     },
     "execution_count": 55,
     "metadata": {},
     "output_type": "execute_result"
    }
   ],
   "source": [
    "pre_csv = []\n",
    "for key, value in neg_with_cds.items():\n",
    "    for index, row in value.iterrows():\n",
    "        pre_csv.append([key, f'{row['sseqid']}|{row['sstart']}|{row['send']}|{row['sense']}|{row['attribute']}'])\n",
    "print(len(pre_csv))\n",
    "[print(x) for x in pre_csv[:5]]"
   ]
  },
  {
   "cell_type": "code",
   "execution_count": 56,
   "metadata": {},
   "outputs": [],
   "source": [
    "pre_csv = pd.DataFrame(pre_csv, columns=[\"neg_key\", \"cds_key\"])"
   ]
  },
  {
   "cell_type": "code",
   "execution_count": 57,
   "metadata": {},
   "outputs": [],
   "source": [
    "# Save the data\n",
    "pre_csv.to_csv('./4.Neg_data_vs_CDS/new_data/neg_with_cds.csv', sep=',', header=True, index=False)"
   ]
  },
  {
   "cell_type": "markdown",
   "metadata": {},
   "source": [
    "### Export the onlye the rows in neg data that solap with CDS"
   ]
  },
  {
   "cell_type": "code",
   "execution_count": 58,
   "metadata": {},
   "outputs": [
    {
     "name": "stdout",
     "output_type": "stream",
     "text": [
      "sseqid    object\n",
      "sstart     int64\n",
      "send       int64\n",
      "dtype: object\n",
      "231\n"
     ]
    }
   ],
   "source": [
    "# Get the elemens that overlap with CDS\n",
    "neg_data_only_overlaps= []\n",
    "for key, value in neg_with_cds.items():\n",
    "    key_chr, key_start, key_end = key.split(\"_\")[0], key.split(\"_\")[1], key.split(\"_\")[2]\n",
    "    neg_data_only_overlaps.append([key_chr, key_start, key_end])\n",
    "\n",
    "neg_data_only_overlaps = pd.DataFrame(neg_data_only_overlaps, columns=[\"sseqid\", \"sstart\", \"send\"])\n",
    "neg_data_only_overlaps[['sstart', 'send']] = neg_data_only_overlaps[['sstart', 'send']].apply(pd.to_numeric)\n",
    "print(neg_data_only_overlaps.dtypes)\n",
    "print(len(neg_data_only_overlaps))"
   ]
  },
  {
   "cell_type": "code",
   "execution_count": 59,
   "metadata": {},
   "outputs": [],
   "source": [
    "# Now extract the from neg data the values that are in neg_data_only_solaps and the ones that are now.\n",
    "new_neg_data_overlaps_with_cds = neg_data.merge(neg_data_only_overlaps, on=[\"sseqid\", \"sstart\", \"send\"], how=\"inner\")\n",
    "new_neg_data_no_overlaps_with_cds = neg_data.merge(neg_data_only_overlaps, on=[\"sseqid\", \"sstart\", \"send\"], how=\"outer\", indicator=True).query('_merge == \"left_only\"').drop('_merge', axis=1)"
   ]
  },
  {
   "cell_type": "code",
   "execution_count": 60,
   "metadata": {},
   "outputs": [
    {
     "name": "stdout",
     "output_type": "stream",
     "text": [
      "231\n",
      "682\n"
     ]
    }
   ],
   "source": [
    "# Print the data len\n",
    "print(len(new_neg_data_overlaps_with_cds))\n",
    "print(len(new_neg_data_no_overlaps_with_cds))"
   ]
  },
  {
   "cell_type": "code",
   "execution_count": 61,
   "metadata": {},
   "outputs": [],
   "source": [
    "# Save both to CSV\n",
    "new_neg_data_overlaps_with_cds.to_csv('./4.Neg_data_vs_CDS/new_data/negative_database_match_CDS.csv', sep=',', header=True, index=False)\n",
    "new_neg_data_no_overlaps_with_cds.to_csv('./4.Neg_data_vs_CDS/new_data/negative_database_nomatch.csv', sep=',', header=True, index=False)"
   ]
  },
  {
   "cell_type": "markdown",
   "metadata": {},
   "source": [
    "## Create a GFF file"
   ]
  },
  {
   "cell_type": "markdown",
   "metadata": {},
   "source": [
    "### Neg data that overlaps with CDS"
   ]
  },
  {
   "cell_type": "code",
   "execution_count": 62,
   "metadata": {},
   "outputs": [
    {
     "name": "stdout",
     "output_type": "stream",
     "text": [
      "231\n",
      "{'seqname': 'LinJ.02', 'source': 'CBM', 'feature': 'Negative_Repetead_with_CDS', 'start': '119095', 'end': '119743', 'score': '.', 'strand': '+', 'frame': '.', 'attribute': 'Related_to=LinJ.02|119608|122316|-|product=Glycosyltransferase (GlcNAc) - putative;'}\n",
      "{'seqname': 'LinJ.03', 'source': 'CBM', 'feature': 'Negative_Repetead_with_CDS', 'start': '349124', 'end': '349733', 'score': '.', 'strand': '+', 'frame': '.', 'attribute': 'Related_to=LinJ.03|349457|353806|-|product=hypothetical protein - conserved;'}\n",
      "{'seqname': 'LinJ.04', 'source': 'CBM', 'feature': 'Negative_Repetead_with_CDS', 'start': '96585', 'end': '97584', 'score': '.', 'strand': '+', 'frame': '.', 'attribute': 'Related_to=LinJ.04|97144|99075|+|product=beta-fructofuranosidase - putative;'}\n",
      "{'seqname': 'LinJ.04', 'source': 'CBM', 'feature': 'Negative_Repetead_with_CDS', 'start': '97729', 'end': '98226', 'score': '.', 'strand': '+', 'frame': '.', 'attribute': 'Related_to=LinJ.04|97144|99075|+|product=beta-fructofuranosidase - putative;'}\n",
      "{'seqname': 'LinJ.04', 'source': 'CBM', 'feature': 'Negative_Repetead_with_CDS', 'start': '98297', 'end': '99510', 'score': '.', 'strand': '+', 'frame': '.', 'attribute': 'Related_to=LinJ.04|97144|99075|+|product=beta-fructofuranosidase - putative;'}\n"
     ]
    },
    {
     "data": {
      "text/plain": [
       "[None, None, None, None, None]"
      ]
     },
     "execution_count": 62,
     "metadata": {},
     "output_type": "execute_result"
    }
   ],
   "source": [
    "gff_neg_with_cds = []\n",
    "column_names = ['seqname', 'source', 'feature', 'start', 'end', 'score', 'strand', 'frame', 'attribute']\n",
    "for key, value in neg_with_cds.items():\n",
    "    key_chr, key_start, key_end = key.split(\"_\")[0], key.split(\"_\")[1], key.split(\"_\")[2]\n",
    "    attr_str = \"\"\n",
    "    for _, row in value.iterrows():\n",
    "        attr_str += f\"{row['sseqid']}|{row['sstart']}|{row['send']}|{row['sense']}|{row['attribute']};\"\n",
    "    gff_neg_with_cds.append(\n",
    "        {\n",
    "            'seqname': key_chr,\n",
    "            'source': 'CBM',\n",
    "            'feature': 'Negative_Repetead_with_CDS',\n",
    "            'start': key_start,\n",
    "            'end': key_end,\n",
    "            'score': '.',\n",
    "            'strand': '+',\n",
    "            'frame': '.',\n",
    "            'attribute': f'Related_to={attr_str}'\n",
    "        }\n",
    "    )\n",
    "print(len(gff_neg_with_cds))\n",
    "[print(x) for x in gff_neg_with_cds[:5]]"
   ]
  },
  {
   "cell_type": "code",
   "execution_count": 63,
   "metadata": {},
   "outputs": [],
   "source": [
    "gff_neg_with_cds = pd.DataFrame(gff_neg_with_cds, columns=column_names)"
   ]
  },
  {
   "cell_type": "code",
   "execution_count": 64,
   "metadata": {},
   "outputs": [],
   "source": [
    "gff_neg_with_cds.to_csv('./4.Neg_data_vs_CDS/new_data/neg_with_cds.gff', sep='\\t', header=False, index=False)"
   ]
  },
  {
   "cell_type": "markdown",
   "metadata": {},
   "source": [
    "#### Neg data that does not overlap with CDS"
   ]
  },
  {
   "cell_type": "code",
   "execution_count": 65,
   "metadata": {},
   "outputs": [
    {
     "name": "stdout",
     "output_type": "stream",
     "text": [
      "682\n",
      "{'seqname': 'LinJ.01', 'source': 'CBM', 'feature': 'Negative_Repetead_no_CDS', 'start': 36103, 'end': 36242, 'score': '.', 'strand': '+', 'frame': '.', 'attribute': '.'}\n",
      "{'seqname': 'LinJ.01', 'source': 'CBM', 'feature': 'Negative_Repetead_no_CDS', 'start': 113760, 'end': 114388, 'score': '.', 'strand': '+', 'frame': '.', 'attribute': '.'}\n",
      "{'seqname': 'LinJ.01', 'source': 'CBM', 'feature': 'Negative_Repetead_no_CDS', 'start': 146412, 'end': 146530, 'score': '.', 'strand': '+', 'frame': '.', 'attribute': '.'}\n",
      "{'seqname': 'LinJ.01', 'source': 'CBM', 'feature': 'Negative_Repetead_no_CDS', 'start': 261866, 'end': 262439, 'score': '.', 'strand': '+', 'frame': '.', 'attribute': '.'}\n",
      "{'seqname': 'LinJ.01', 'source': 'CBM', 'feature': 'Negative_Repetead_no_CDS', 'start': 271363, 'end': 271650, 'score': '.', 'strand': '+', 'frame': '.', 'attribute': '.'}\n"
     ]
    },
    {
     "data": {
      "text/plain": [
       "[None, None, None, None, None]"
      ]
     },
     "execution_count": 65,
     "metadata": {},
     "output_type": "execute_result"
    }
   ],
   "source": [
    "gff_neg_no_cds = []\n",
    "column_names = ['seqname', 'source', 'feature', 'start', 'end', 'score', 'strand', 'frame', 'attribute']\n",
    "for index, row in new_neg_data_no_overlaps_with_cds.iterrows():\n",
    "    gff_neg_no_cds.append(\n",
    "        {\n",
    "            'seqname': row['sseqid'],\n",
    "            'source': 'CBM',\n",
    "            'feature': 'Negative_Repetead_no_CDS',\n",
    "            'start': row['sstart'],\n",
    "            'end': row['send'],\n",
    "            'score': '.',\n",
    "            'strand': '+',\n",
    "            'frame': '.',\n",
    "            'attribute': '.'\n",
    "        }\n",
    "    )\n",
    "print(len(gff_neg_no_cds))\n",
    "[print(x) for x in gff_neg_no_cds[:5]]"
   ]
  },
  {
   "cell_type": "code",
   "execution_count": 66,
   "metadata": {},
   "outputs": [],
   "source": [
    "gff_neg_no_cds = pd.DataFrame(gff_neg_no_cds, columns=column_names)\n",
    "gff_neg_no_cds.to_csv('./4.Neg_data_vs_CDS/new_data/neg_no_cds.gff', sep='\\t', header=False, index=False)"
   ]
  }
 ],
 "metadata": {
  "kernelspec": {
   "display_name": "Python 3",
   "language": "python",
   "name": "python3"
  },
  "language_info": {
   "codemirror_mode": {
    "name": "ipython",
    "version": 3
   },
   "file_extension": ".py",
   "mimetype": "text/x-python",
   "name": "python",
   "nbconvert_exporter": "python",
   "pygments_lexer": "ipython3",
   "version": "3.12.4"
  }
 },
 "nbformat": 4,
 "nbformat_minor": 2
}
