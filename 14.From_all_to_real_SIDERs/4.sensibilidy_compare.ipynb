{
 "cells": [
  {
   "cell_type": "markdown",
   "metadata": {},
   "source": [
    "Import needed modules"
   ]
  },
  {
   "cell_type": "code",
   "execution_count": 2,
   "metadata": {},
   "outputs": [],
   "source": [
    "import pandas as pd\n",
    "import os\n",
    "import subprocess"
   ]
  },
  {
   "cell_type": "markdown",
   "metadata": {},
   "source": [
    "Import data"
   ]
  },
  {
   "cell_type": "code",
   "execution_count": 23,
   "metadata": {},
   "outputs": [
    {
     "name": "stdout",
     "output_type": "stream",
     "text": [
      "Output from LmSIDERs row length: 2156\n",
      "Output from chr 32 row length: 2184\n",
      "Difference: 28\n"
     ]
    }
   ],
   "source": [
    "# read the data\n",
    "data_LmSIDERs = pd.read_csv(\"./data/2.SIDERs_filter/positives_testing_elements.csv\", sep=\",\", header=None)\n",
    "data_LmSIDERs.columns = [\"sseqid\", \"length\", \"sstart\", \"send\", \"sstrand\", \"sseq\"]\n",
    "data_chr32 = pd.read_csv(\"./data/4.SIDERs_filter_32chr/positives_testing_elements.csv\", sep=\",\", header=None)\n",
    "data_chr32.columns = [\"sseqid\", \"length\", \"sstart\", \"send\", \"sstrand\", \"sseq\"]\n",
    "print(f\"Output from LmSIDERs row length: {data_LmSIDERs.shape[0]}\\n\",\n",
    "      f\"Output from chr 32 row length: {data_chr32.shape[0]}\\n\",\n",
    "      f\"Difference: {abs(data_LmSIDERs.shape[0] - data_chr32.shape[0])}\",\n",
    "      sep=\"\")"
   ]
  },
  {
   "cell_type": "code",
   "execution_count": 24,
   "metadata": {},
   "outputs": [],
   "source": [
    "# Declare bedops folders paths:\n",
    "bedops_path_1 = \"./bedops_compare\"\n",
    "bedops_path_2 = \"./bedops_compare_inverse\"\n"
   ]
  },
  {
   "cell_type": "markdown",
   "metadata": {},
   "source": [
    "Check how many elements for each chromosome in the \"True Positive\" data"
   ]
  },
  {
   "cell_type": "code",
   "execution_count": 16,
   "metadata": {},
   "outputs": [
    {
     "data": {
      "text/plain": [
       "sseqid\n",
       "LinJ.01     13\n",
       "LinJ.02     16\n",
       "LinJ.03      6\n",
       "LinJ.04     13\n",
       "LinJ.05     21\n",
       "LinJ.06     26\n",
       "LinJ.07     31\n",
       "LinJ.08     39\n",
       "LinJ.09     32\n",
       "LinJ.10     43\n",
       "LinJ.11     42\n",
       "LinJ.12     46\n",
       "LinJ.13     35\n",
       "LinJ.14     42\n",
       "LinJ.15     27\n",
       "LinJ.16     38\n",
       "LinJ.17     48\n",
       "LinJ.18     56\n",
       "LinJ.19     58\n",
       "LinJ.20     48\n",
       "LinJ.21     43\n",
       "LinJ.22     60\n",
       "LinJ.23     73\n",
       "LinJ.24     56\n",
       "LinJ.25     38\n",
       "LinJ.26     56\n",
       "LinJ.27     81\n",
       "LinJ.28     59\n",
       "LinJ.29    122\n",
       "LinJ.30    109\n",
       "LinJ.31    110\n",
       "LinJ.32     95\n",
       "LinJ.33    116\n",
       "LinJ.34    156\n",
       "LinJ.35    143\n",
       "LinJ.36    159\n",
       "Name: count, dtype: int64"
      ]
     },
     "execution_count": 16,
     "metadata": {},
     "output_type": "execute_result"
    }
   ],
   "source": [
    "data_LmSIDERs[\"sseqid\"].value_counts(sort=False)"
   ]
  },
  {
   "cell_type": "markdown",
   "metadata": {},
   "source": [
    "Check how many elements for each chromosome in the software data"
   ]
  },
  {
   "cell_type": "code",
   "execution_count": 17,
   "metadata": {},
   "outputs": [
    {
     "data": {
      "text/plain": [
       "sseqid\n",
       "LinJ.01     13\n",
       "LinJ.02     16\n",
       "LinJ.03      8\n",
       "LinJ.04     12\n",
       "LinJ.05     22\n",
       "LinJ.06     28\n",
       "LinJ.07     32\n",
       "LinJ.08     38\n",
       "LinJ.09     33\n",
       "LinJ.10     44\n",
       "LinJ.11     42\n",
       "LinJ.12     47\n",
       "LinJ.13     33\n",
       "LinJ.14     43\n",
       "LinJ.15     27\n",
       "LinJ.16     38\n",
       "LinJ.17     50\n",
       "LinJ.18     59\n",
       "LinJ.19     58\n",
       "LinJ.20     49\n",
       "LinJ.21     42\n",
       "LinJ.22     62\n",
       "LinJ.23     76\n",
       "LinJ.24     54\n",
       "LinJ.25     41\n",
       "LinJ.26     53\n",
       "LinJ.27     79\n",
       "LinJ.28     59\n",
       "LinJ.29    127\n",
       "LinJ.30    106\n",
       "LinJ.31    115\n",
       "LinJ.32     95\n",
       "LinJ.33    116\n",
       "LinJ.34    159\n",
       "LinJ.35    145\n",
       "LinJ.36    163\n",
       "Name: count, dtype: int64"
      ]
     },
     "execution_count": 17,
     "metadata": {},
     "output_type": "execute_result"
    }
   ],
   "source": [
    "data_chr32[\"sseqid\"].value_counts(sort=False)"
   ]
  },
  {
   "cell_type": "markdown",
   "metadata": {},
   "source": [
    "Difference in numbers in the software data compared to the \"True Positives\""
   ]
  },
  {
   "cell_type": "code",
   "execution_count": 25,
   "metadata": {},
   "outputs": [
    {
     "data": {
      "text/plain": [
       "sseqid\n",
       "LinJ.01    0\n",
       "LinJ.02    0\n",
       "LinJ.03   -2\n",
       "LinJ.04    1\n",
       "LinJ.05   -1\n",
       "LinJ.06   -2\n",
       "LinJ.07   -1\n",
       "LinJ.08    1\n",
       "LinJ.09   -1\n",
       "LinJ.10   -1\n",
       "LinJ.11    0\n",
       "LinJ.12   -1\n",
       "LinJ.13    2\n",
       "LinJ.14   -1\n",
       "LinJ.15    0\n",
       "LinJ.16    0\n",
       "LinJ.17   -2\n",
       "LinJ.18   -3\n",
       "LinJ.19    0\n",
       "LinJ.20   -1\n",
       "LinJ.21    1\n",
       "LinJ.22   -2\n",
       "LinJ.23   -3\n",
       "LinJ.24    2\n",
       "LinJ.25   -3\n",
       "LinJ.26    3\n",
       "LinJ.27    2\n",
       "LinJ.28    0\n",
       "LinJ.29   -5\n",
       "LinJ.30    3\n",
       "LinJ.31   -5\n",
       "LinJ.32    0\n",
       "LinJ.33    0\n",
       "LinJ.34   -3\n",
       "LinJ.35   -2\n",
       "LinJ.36   -4\n",
       "Name: count, dtype: int64"
      ]
     },
     "execution_count": 25,
     "metadata": {},
     "output_type": "execute_result"
    }
   ],
   "source": [
    "data_LmSIDERs[\"sseqid\"].value_counts(sort=False) - data_chr32[\"sseqid\"].value_counts(sort=False)"
   ]
  },
  {
   "cell_type": "markdown",
   "metadata": {},
   "source": [
    "Let's group data by chromosomes"
   ]
  },
  {
   "cell_type": "code",
   "execution_count": 30,
   "metadata": {},
   "outputs": [],
   "source": [
    "data_LmSIDERs_grouped = data_LmSIDERs.groupby(\"sseqid\")\n",
    "data_chr32_grouped = data_chr32.groupby(\"sseqid\")"
   ]
  },
  {
   "cell_type": "markdown",
   "metadata": {},
   "source": [
    "Let's make the main code"
   ]
  },
  {
   "cell_type": "code",
   "execution_count": 31,
   "metadata": {},
   "outputs": [
    {
     "data": {
      "text/plain": [
       "'/home/rfpacheco/Documents/Work_CBMSO/Leish_Data_Analysis/14.From_all_to_real_SIDERs'"
      ]
     },
     "execution_count": 31,
     "metadata": {},
     "output_type": "execute_result"
    }
   ],
   "source": [
    "# Check actual path\n",
    "os.getcwd()"
   ]
  },
  {
   "cell_type": "code",
   "execution_count": 32,
   "metadata": {},
   "outputs": [],
   "source": [
    "def columns_to_numeric(data_input, columns_to_convert = []):\n",
    "    for column in columns_to_convert:\n",
    "        data_input[column] = pd.to_numeric(data_input[column], errors='coerce')\n",
    "    return data_input"
   ]
  },
  {
   "cell_type": "markdown",
   "metadata": {},
   "source": [
    "Elements from LmSIDERs data frame found in the data frame from the chromosome 32"
   ]
  },
  {
   "cell_type": "code",
   "execution_count": 37,
   "metadata": {},
   "outputs": [
    {
     "data": {
      "text/plain": [
       "{'LinJ.01': ['13/13', '100.00'],\n",
       " 'LinJ.02': ['16/16', '100.00'],\n",
       " 'LinJ.03': ['6/6', '100.00'],\n",
       " 'LinJ.04': ['12/13', '92.31'],\n",
       " 'LinJ.05': ['21/21', '100.00'],\n",
       " 'LinJ.06': ['26/26', '100.00'],\n",
       " 'LinJ.07': ['31/31', '100.00'],\n",
       " 'LinJ.08': ['39/39', '100.00'],\n",
       " 'LinJ.09': ['32/32', '100.00'],\n",
       " 'LinJ.10': ['43/43', '100.00'],\n",
       " 'LinJ.11': ['42/42', '100.00'],\n",
       " 'LinJ.12': ['46/46', '100.00'],\n",
       " 'LinJ.13': ['35/35', '100.00'],\n",
       " 'LinJ.14': ['42/42', '100.00'],\n",
       " 'LinJ.15': ['27/27', '100.00'],\n",
       " 'LinJ.16': ['38/38', '100.00'],\n",
       " 'LinJ.17': ['47/48', '97.92'],\n",
       " 'LinJ.18': ['56/56', '100.00'],\n",
       " 'LinJ.19': ['58/58', '100.00'],\n",
       " 'LinJ.20': ['48/48', '100.00'],\n",
       " 'LinJ.21': ['42/43', '97.67'],\n",
       " 'LinJ.22': ['60/60', '100.00'],\n",
       " 'LinJ.23': ['72/73', '98.63'],\n",
       " 'LinJ.24': ['53/56', '94.64'],\n",
       " 'LinJ.25': ['38/38', '100.00'],\n",
       " 'LinJ.26': ['54/56', '96.43'],\n",
       " 'LinJ.27': ['81/81', '100.00'],\n",
       " 'LinJ.28': ['59/59', '100.00'],\n",
       " 'LinJ.29': ['119/122', '97.54'],\n",
       " 'LinJ.30': ['109/109', '100.00'],\n",
       " 'LinJ.31': ['110/110', '100.00'],\n",
       " 'LinJ.32': ['95/95', '100.00'],\n",
       " 'LinJ.33': ['113/116', '97.41'],\n",
       " 'LinJ.34': ['155/156', '99.36'],\n",
       " 'LinJ.35': ['139/143', '97.20'],\n",
       " 'LinJ.36': ['159/159', '100.00']}"
      ]
     },
     "execution_count": 37,
     "metadata": {},
     "output_type": "execute_result"
    }
   ],
   "source": [
    "# Folder path, change it\n",
    "# bedops_path = \"./bedops_data2\"\n",
    "\n",
    "comparison_dict_1 = {}\n",
    "for (name1, group1), (name2, group2) in zip(data_LmSIDERs_grouped, data_chr32_grouped):\n",
    "    # group1 should be the TP data\n",
    "    # ------------------------------------------------------------------------------\n",
    "    path_chr = os.path.join(bedops_path_2, name1)\n",
    "    os.makedirs(path_chr, exist_ok=True)\n",
    "    # ------------------------------------------------------------------------------\n",
    "    group1_total = group1[[\"sseqid\", \"sstart\", \"send\"]].copy()\n",
    "    group2_total = group2[[\"sseqid\", \"sstart\", \"send\"]].copy()\n",
    "    # ------------------------------------------------------------------------------\n",
    "    group1_total.sort_values(by=[\"sstart\", \"send\"], inplace=True)\n",
    "    group2_total.sort_values(by=[\"sstart\", \"send\"], inplace=True)\n",
    "    # ------------------------------------------------------------------------------\n",
    "    path_group1_total = os.path.join(path_chr, \"group1_total.bed\")\n",
    "    path_group2_total = os.path.join(path_chr, \"group2_total.bed\")\n",
    "    # ------------------------------------------------------------------------------\n",
    "    group1_total.to_csv(path_group1_total, sep=\"\\t\", header=False, index=False)  # tabular sep because of bed format\n",
    "    group2_total.to_csv(path_group2_total, sep=\"\\t\", header=False, index=False)  # tabular sep because of bed format\n",
    "\n",
    "    # ------------------------------------------------------------------------------\n",
    "    condition = 1\n",
    "    cmd = f\"bedops --element-of {condition} {path_group1_total} {path_group2_total}\"\n",
    "    result = subprocess.check_output(cmd, shell=True, universal_newlines=True)\n",
    "    result_df = pd.DataFrame([x.split(\"\\t\") for x in result.split(\"\\n\") if x], \n",
    "                                columns=[\"sseqid\", \"sstart\", \"send\"])\n",
    "    result_df = columns_to_numeric(result_df, [\"sstart\", \"send\"])  # defined function\n",
    "    comparison_dict_1[name1] = [f\"{result_df.shape[0]}/{group1_total.shape[0]}\", f\"{result_df.shape[0]/group1_total.shape[0]*100:.2f}\"]\n",
    "comparison_dict_1"
   ]
  },
  {
   "cell_type": "markdown",
   "metadata": {},
   "source": [
    "Elements from the output of chr 32 found in LmSIDERs"
   ]
  },
  {
   "cell_type": "code",
   "execution_count": 38,
   "metadata": {},
   "outputs": [
    {
     "data": {
      "text/plain": [
       "{'LinJ.01': ['13/13', '100.00'],\n",
       " 'LinJ.02': ['16/16', '100.00'],\n",
       " 'LinJ.03': ['6/8', '75.00'],\n",
       " 'LinJ.04': ['12/12', '100.00'],\n",
       " 'LinJ.05': ['21/22', '95.45'],\n",
       " 'LinJ.06': ['28/28', '100.00'],\n",
       " 'LinJ.07': ['32/32', '100.00'],\n",
       " 'LinJ.08': ['38/38', '100.00'],\n",
       " 'LinJ.09': ['33/33', '100.00'],\n",
       " 'LinJ.10': ['44/44', '100.00'],\n",
       " 'LinJ.11': ['42/42', '100.00'],\n",
       " 'LinJ.12': ['46/47', '97.87'],\n",
       " 'LinJ.13': ['32/33', '96.97'],\n",
       " 'LinJ.14': ['43/43', '100.00'],\n",
       " 'LinJ.15': ['27/27', '100.00'],\n",
       " 'LinJ.16': ['38/38', '100.00'],\n",
       " 'LinJ.17': ['50/50', '100.00'],\n",
       " 'LinJ.18': ['58/59', '98.31'],\n",
       " 'LinJ.19': ['58/58', '100.00'],\n",
       " 'LinJ.20': ['49/49', '100.00'],\n",
       " 'LinJ.21': ['42/42', '100.00'],\n",
       " 'LinJ.22': ['62/62', '100.00'],\n",
       " 'LinJ.23': ['75/76', '98.68'],\n",
       " 'LinJ.24': ['54/54', '100.00'],\n",
       " 'LinJ.25': ['40/41', '97.56'],\n",
       " 'LinJ.26': ['53/53', '100.00'],\n",
       " 'LinJ.27': ['79/79', '100.00'],\n",
       " 'LinJ.28': ['59/59', '100.00'],\n",
       " 'LinJ.29': ['124/127', '97.64'],\n",
       " 'LinJ.30': ['106/106', '100.00'],\n",
       " 'LinJ.31': ['115/115', '100.00'],\n",
       " 'LinJ.32': ['95/95', '100.00'],\n",
       " 'LinJ.33': ['114/116', '98.28'],\n",
       " 'LinJ.34': ['159/159', '100.00'],\n",
       " 'LinJ.35': ['143/145', '98.62'],\n",
       " 'LinJ.36': ['163/163', '100.00']}"
      ]
     },
     "execution_count": 38,
     "metadata": {},
     "output_type": "execute_result"
    }
   ],
   "source": [
    "# Folder path, change it\n",
    "# bedops_path = \"./bedops_data2\"\n",
    "\n",
    "comparison_dict_2 = {}\n",
    "for (name1, group1), (name2, group2) in zip(data_chr32_grouped, data_LmSIDERs_grouped):\n",
    "    # group1 should be the TP data\n",
    "    # ------------------------------------------------------------------------------\n",
    "    path_chr = os.path.join(bedops_path_2, name1)\n",
    "    os.makedirs(path_chr, exist_ok=True)\n",
    "    # ------------------------------------------------------------------------------\n",
    "    group1_total = group1[[\"sseqid\", \"sstart\", \"send\"]].copy()\n",
    "    group2_total = group2[[\"sseqid\", \"sstart\", \"send\"]].copy()\n",
    "    # ------------------------------------------------------------------------------\n",
    "    group1_total.sort_values(by=[\"sstart\", \"send\"], inplace=True)\n",
    "    group2_total.sort_values(by=[\"sstart\", \"send\"], inplace=True)\n",
    "    # ------------------------------------------------------------------------------\n",
    "    path_group1_total = os.path.join(path_chr, \"group1_total.bed\")\n",
    "    path_group2_total = os.path.join(path_chr, \"group2_total.bed\")\n",
    "    # ------------------------------------------------------------------------------\n",
    "    group1_total.to_csv(path_group1_total, sep=\"\\t\", header=False, index=False)  # tabular sep because of bed format\n",
    "    group2_total.to_csv(path_group2_total, sep=\"\\t\", header=False, index=False)  # tabular sep because of bed format\n",
    "\n",
    "    # ------------------------------------------------------------------------------\n",
    "    condition = 1\n",
    "    cmd = f\"bedops --element-of {condition} {path_group1_total} {path_group2_total}\"\n",
    "    result = subprocess.check_output(cmd, shell=True, universal_newlines=True)\n",
    "    result_df = pd.DataFrame([x.split(\"\\t\") for x in result.split(\"\\n\") if x], \n",
    "                                columns=[\"sseqid\", \"sstart\", \"send\"])\n",
    "    result_df = columns_to_numeric(result_df, [\"sstart\", \"send\"])  # defined function\n",
    "    comparison_dict_2[name1] = [f\"{result_df.shape[0]}/{group1_total.shape[0]}\", f\"{result_df.shape[0]/group1_total.shape[0]*100:.2f}\"]\n",
    "comparison_dict_2"
   ]
  },
  {
   "cell_type": "code",
   "execution_count": 45,
   "metadata": {},
   "outputs": [
    {
     "name": "stdout",
     "output_type": "stream",
     "text": [
      "Name: LinJ.03\n",
      "\t- LmSIDERs in Chr32: 6/6 (100.00%)\n",
      "\t- Chr32 in LmSIDERs: 6/8 (75.00%)\n",
      "\n",
      "Name: LinJ.04\n",
      "\t- LmSIDERs in Chr32: 12/13 (92.31%)\n",
      "\t- Chr32 in LmSIDERs: 12/12 (100.00%)\n",
      "\n",
      "Name: LinJ.05\n",
      "\t- LmSIDERs in Chr32: 21/21 (100.00%)\n",
      "\t- Chr32 in LmSIDERs: 21/22 (95.45%)\n",
      "\n",
      "Name: LinJ.06\n",
      "\t- LmSIDERs in Chr32: 26/26 (100.00%)\n",
      "\t- Chr32 in LmSIDERs: 28/28 (100.00%)\n",
      "\n",
      "Name: LinJ.07\n",
      "\t- LmSIDERs in Chr32: 31/31 (100.00%)\n",
      "\t- Chr32 in LmSIDERs: 32/32 (100.00%)\n",
      "\n",
      "Name: LinJ.08\n",
      "\t- LmSIDERs in Chr32: 39/39 (100.00%)\n",
      "\t- Chr32 in LmSIDERs: 38/38 (100.00%)\n",
      "\n",
      "Name: LinJ.09\n",
      "\t- LmSIDERs in Chr32: 32/32 (100.00%)\n",
      "\t- Chr32 in LmSIDERs: 33/33 (100.00%)\n",
      "\n",
      "Name: LinJ.10\n",
      "\t- LmSIDERs in Chr32: 43/43 (100.00%)\n",
      "\t- Chr32 in LmSIDERs: 44/44 (100.00%)\n",
      "\n",
      "Name: LinJ.12\n",
      "\t- LmSIDERs in Chr32: 46/46 (100.00%)\n",
      "\t- Chr32 in LmSIDERs: 46/47 (97.87%)\n",
      "\n",
      "Name: LinJ.13\n",
      "\t- LmSIDERs in Chr32: 35/35 (100.00%)\n",
      "\t- Chr32 in LmSIDERs: 32/33 (96.97%)\n",
      "\n",
      "Name: LinJ.14\n",
      "\t- LmSIDERs in Chr32: 42/42 (100.00%)\n",
      "\t- Chr32 in LmSIDERs: 43/43 (100.00%)\n",
      "\n",
      "Name: LinJ.17\n",
      "\t- LmSIDERs in Chr32: 47/48 (97.92%)\n",
      "\t- Chr32 in LmSIDERs: 50/50 (100.00%)\n",
      "\n",
      "Name: LinJ.18\n",
      "\t- LmSIDERs in Chr32: 56/56 (100.00%)\n",
      "\t- Chr32 in LmSIDERs: 58/59 (98.31%)\n",
      "\n",
      "Name: LinJ.20\n",
      "\t- LmSIDERs in Chr32: 48/48 (100.00%)\n",
      "\t- Chr32 in LmSIDERs: 49/49 (100.00%)\n",
      "\n",
      "Name: LinJ.21\n",
      "\t- LmSIDERs in Chr32: 42/43 (97.67%)\n",
      "\t- Chr32 in LmSIDERs: 42/42 (100.00%)\n",
      "\n",
      "Name: LinJ.22\n",
      "\t- LmSIDERs in Chr32: 60/60 (100.00%)\n",
      "\t- Chr32 in LmSIDERs: 62/62 (100.00%)\n",
      "\n",
      "Name: LinJ.23\n",
      "\t- LmSIDERs in Chr32: 72/73 (98.63%)\n",
      "\t- Chr32 in LmSIDERs: 75/76 (98.68%)\n",
      "\n",
      "Name: LinJ.24\n",
      "\t- LmSIDERs in Chr32: 53/56 (94.64%)\n",
      "\t- Chr32 in LmSIDERs: 54/54 (100.00%)\n",
      "\n",
      "Name: LinJ.25\n",
      "\t- LmSIDERs in Chr32: 38/38 (100.00%)\n",
      "\t- Chr32 in LmSIDERs: 40/41 (97.56%)\n",
      "\n",
      "Name: LinJ.26\n",
      "\t- LmSIDERs in Chr32: 54/56 (96.43%)\n",
      "\t- Chr32 in LmSIDERs: 53/53 (100.00%)\n",
      "\n",
      "Name: LinJ.27\n",
      "\t- LmSIDERs in Chr32: 81/81 (100.00%)\n",
      "\t- Chr32 in LmSIDERs: 79/79 (100.00%)\n",
      "\n",
      "Name: LinJ.29\n",
      "\t- LmSIDERs in Chr32: 119/122 (97.54%)\n",
      "\t- Chr32 in LmSIDERs: 124/127 (97.64%)\n",
      "\n",
      "Name: LinJ.30\n",
      "\t- LmSIDERs in Chr32: 109/109 (100.00%)\n",
      "\t- Chr32 in LmSIDERs: 106/106 (100.00%)\n",
      "\n",
      "Name: LinJ.31\n",
      "\t- LmSIDERs in Chr32: 110/110 (100.00%)\n",
      "\t- Chr32 in LmSIDERs: 115/115 (100.00%)\n",
      "\n",
      "Name: LinJ.33\n",
      "\t- LmSIDERs in Chr32: 113/116 (97.41%)\n",
      "\t- Chr32 in LmSIDERs: 114/116 (98.28%)\n",
      "\n",
      "Name: LinJ.34\n",
      "\t- LmSIDERs in Chr32: 155/156 (99.36%)\n",
      "\t- Chr32 in LmSIDERs: 159/159 (100.00%)\n",
      "\n",
      "Name: LinJ.35\n",
      "\t- LmSIDERs in Chr32: 139/143 (97.20%)\n",
      "\t- Chr32 in LmSIDERs: 143/145 (98.62%)\n",
      "\n",
      "Name: LinJ.36\n",
      "\t- LmSIDERs in Chr32: 159/159 (100.00%)\n",
      "\t- Chr32 in LmSIDERs: 163/163 (100.00%)\n",
      "\n"
     ]
    }
   ],
   "source": [
    "for (key1, values1), (key2, values2) in zip(comparison_dict_1.items(), comparison_dict_2.items()):\n",
    "    if values1[1] != \"100.00\" or values2[1] != \"100.00\" or values1[0].split(\"/\")[1] != values2[0].split(\"/\")[1]:\n",
    "        print(f\"Name: {key1}\\n\",\n",
    "              f\"\\t- LmSIDERs in Chr32: {values1[0]} ({values1[1]}%)\\n\",\n",
    "              f\"\\t- Chr32 in LmSIDERs: {values2[0]} ({values2[1]}%)\\n\",\n",
    "              sep=\"\")"
   ]
  },
  {
   "cell_type": "code",
   "execution_count": 49,
   "metadata": {},
   "outputs": [
    {
     "name": "stdout",
     "output_type": "stream",
     "text": [
      "Name: LinJ.03\n",
      "\t- LmSIDERs in Chr32: 6/6 (100.00%)\n",
      "\t- Chr32 in LmSIDERs: 6/8 (75.00%)\n",
      "\n",
      "Name: LinJ.04\n",
      "\t- LmSIDERs in Chr32: 12/13 (92.31%)\n",
      "\t- Chr32 in LmSIDERs: 12/12 (100.00%)\n",
      "\n",
      "Name: LinJ.05\n",
      "\t- LmSIDERs in Chr32: 21/21 (100.00%)\n",
      "\t- Chr32 in LmSIDERs: 21/22 (95.45%)\n",
      "\n",
      "Name: LinJ.12\n",
      "\t- LmSIDERs in Chr32: 46/46 (100.00%)\n",
      "\t- Chr32 in LmSIDERs: 46/47 (97.87%)\n",
      "\n",
      "Name: LinJ.13\n",
      "\t- LmSIDERs in Chr32: 35/35 (100.00%)\n",
      "\t- Chr32 in LmSIDERs: 32/33 (96.97%)\n",
      "\n",
      "Name: LinJ.17\n",
      "\t- LmSIDERs in Chr32: 47/48 (97.92%)\n",
      "\t- Chr32 in LmSIDERs: 50/50 (100.00%)\n",
      "\n",
      "Name: LinJ.18\n",
      "\t- LmSIDERs in Chr32: 56/56 (100.00%)\n",
      "\t- Chr32 in LmSIDERs: 58/59 (98.31%)\n",
      "\n",
      "Name: LinJ.21\n",
      "\t- LmSIDERs in Chr32: 42/43 (97.67%)\n",
      "\t- Chr32 in LmSIDERs: 42/42 (100.00%)\n",
      "\n",
      "Name: LinJ.23\n",
      "\t- LmSIDERs in Chr32: 72/73 (98.63%)\n",
      "\t- Chr32 in LmSIDERs: 75/76 (98.68%)\n",
      "\n",
      "Name: LinJ.24\n",
      "\t- LmSIDERs in Chr32: 53/56 (94.64%)\n",
      "\t- Chr32 in LmSIDERs: 54/54 (100.00%)\n",
      "\n",
      "Name: LinJ.25\n",
      "\t- LmSIDERs in Chr32: 38/38 (100.00%)\n",
      "\t- Chr32 in LmSIDERs: 40/41 (97.56%)\n",
      "\n",
      "Name: LinJ.26\n",
      "\t- LmSIDERs in Chr32: 54/56 (96.43%)\n",
      "\t- Chr32 in LmSIDERs: 53/53 (100.00%)\n",
      "\n",
      "Name: LinJ.29\n",
      "\t- LmSIDERs in Chr32: 119/122 (97.54%)\n",
      "\t- Chr32 in LmSIDERs: 124/127 (97.64%)\n",
      "\n",
      "Name: LinJ.33\n",
      "\t- LmSIDERs in Chr32: 113/116 (97.41%)\n",
      "\t- Chr32 in LmSIDERs: 114/116 (98.28%)\n",
      "\n",
      "Name: LinJ.34\n",
      "\t- LmSIDERs in Chr32: 155/156 (99.36%)\n",
      "\t- Chr32 in LmSIDERs: 159/159 (100.00%)\n",
      "\n",
      "Name: LinJ.35\n",
      "\t- LmSIDERs in Chr32: 139/143 (97.20%)\n",
      "\t- Chr32 in LmSIDERs: 143/145 (98.62%)\n",
      "\n"
     ]
    }
   ],
   "source": [
    "Counter_LmSIDERs = 0\n",
    "Counter_chr32 = 0\n",
    "for (key1, values1), (key2, values2) in zip(comparison_dict_1.items(), comparison_dict_2.items()):\n",
    "    if values1[1] != \"100.00\" or values2[1] != \"100.00\":\n",
    "        if values1[1] != \"100.00\":\n",
    "            number = int(values1[0].split(\"/\")[1]) - int(values1[0].split(\"/\")[0])\n",
    "            Counter_LmSIDERs += number\n",
    "        if values2[1] != \"100.00\":\n",
    "            number = int(values2[0].split(\"/\")[1]) - int(values2[0].split(\"/\")[0])\n",
    "            Counter_chr32 += number\n",
    "        print(f\"Name: {key1}\\n\",\n",
    "              f\"\\t- LmSIDERs in Chr32: {values1[0]} ({values1[1]}%)\\n\",\n",
    "              f\"\\t- Chr32 in LmSIDERs: {values2[0]} ({values2[1]}%)\\n\",\n",
    "              sep=\"\")"
   ]
  },
  {
   "cell_type": "code",
   "execution_count": 50,
   "metadata": {},
   "outputs": [
    {
     "name": "stdout",
     "output_type": "stream",
     "text": [
      "Elements in LmSIDERs but not in Chr32: 20\n",
      "Elements in Chr32 but not in LmSIDERs: 15\n"
     ]
    }
   ],
   "source": [
    "print(f\"Elements in LmSIDERs but not in Chr32: {Counter_LmSIDERs}\\n\",\n",
    "      f\"Elements in Chr32 but not in LmSIDERs: {Counter_chr32}\",\n",
    "      sep=\"\")"
   ]
  }
 ],
 "metadata": {
  "kernelspec": {
   "display_name": "Python 3",
   "language": "python",
   "name": "python3"
  },
  "language_info": {
   "codemirror_mode": {
    "name": "ipython",
    "version": 3
   },
   "file_extension": ".py",
   "mimetype": "text/x-python",
   "name": "python",
   "nbconvert_exporter": "python",
   "pygments_lexer": "ipython3",
   "version": "3.12.3"
  }
 },
 "nbformat": 4,
 "nbformat_minor": 2
}
