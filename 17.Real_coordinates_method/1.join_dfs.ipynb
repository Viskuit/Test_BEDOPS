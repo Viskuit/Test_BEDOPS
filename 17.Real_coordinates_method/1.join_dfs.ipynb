{
 "cells": [
  {
   "cell_type": "markdown",
   "metadata": {},
   "source": [
    "# Code"
   ]
  },
  {
   "cell_type": "code",
   "execution_count": 2,
   "metadata": {},
   "outputs": [],
   "source": [
    "import pandas as pd"
   ]
  },
  {
   "cell_type": "markdown",
   "metadata": {},
   "source": [
    "## Load Data"
   ]
  },
  {
   "cell_type": "markdown",
   "metadata": {},
   "source": [
    "From the elements that our software searched using the 2 LmSIDER elements + the consensus after that, let's join:\n",
    "- Elements that passed the filter: 2069 sequences\n",
    "- Elements that did not pass the filter but have the hallmark win an evalue of $< 10^{-3}$ ==> 23 elements"
   ]
  },
  {
   "cell_type": "code",
   "execution_count": 3,
   "metadata": {},
   "outputs": [
    {
     "name": "stdout",
     "output_type": "stream",
     "text": [
      "(2069, 5)\n",
      "sseqid     object\n",
      "sstart      int64\n",
      "send        int64\n",
      "sstrand    object\n",
      "sseq       object\n",
      "dtype: object\n"
     ]
    },
    {
     "data": {
      "text/html": [
       "<div>\n",
       "<style scoped>\n",
       "    .dataframe tbody tr th:only-of-type {\n",
       "        vertical-align: middle;\n",
       "    }\n",
       "\n",
       "    .dataframe tbody tr th {\n",
       "        vertical-align: top;\n",
       "    }\n",
       "\n",
       "    .dataframe thead th {\n",
       "        text-align: right;\n",
       "    }\n",
       "</style>\n",
       "<table border=\"1\" class=\"dataframe\">\n",
       "  <thead>\n",
       "    <tr style=\"text-align: right;\">\n",
       "      <th></th>\n",
       "      <th>sseqid</th>\n",
       "      <th>sstart</th>\n",
       "      <th>send</th>\n",
       "      <th>sstrand</th>\n",
       "      <th>sseq</th>\n",
       "    </tr>\n",
       "  </thead>\n",
       "  <tbody>\n",
       "    <tr>\n",
       "      <th>0</th>\n",
       "      <td>LinJ.01</td>\n",
       "      <td>1</td>\n",
       "      <td>1000</td>\n",
       "      <td>plus</td>\n",
       "      <td>ACACCAGTACACCAGTACACCAGTACACCAGTACACCAGTACACCA...</td>\n",
       "    </tr>\n",
       "    <tr>\n",
       "      <th>1</th>\n",
       "      <td>LinJ.01</td>\n",
       "      <td>24093</td>\n",
       "      <td>25080</td>\n",
       "      <td>plus</td>\n",
       "      <td>GGGGGAGGCGGGGGAGGCGGGGGGCACGCACCTCCATGCGTGGCAT...</td>\n",
       "    </tr>\n",
       "    <tr>\n",
       "      <th>2</th>\n",
       "      <td>LinJ.01</td>\n",
       "      <td>35371</td>\n",
       "      <td>36297</td>\n",
       "      <td>plus</td>\n",
       "      <td>ACTCCCATCGCCTGGTGCGAAGCAGCGCAAGACACACGCGCGCTGC...</td>\n",
       "    </tr>\n",
       "    <tr>\n",
       "      <th>3</th>\n",
       "      <td>LinJ.01</td>\n",
       "      <td>39790</td>\n",
       "      <td>40595</td>\n",
       "      <td>plus</td>\n",
       "      <td>ATTCTACCGCGAGCAAGGCAGCACACAGACGCACGCACAGCCACAG...</td>\n",
       "    </tr>\n",
       "    <tr>\n",
       "      <th>4</th>\n",
       "      <td>LinJ.01</td>\n",
       "      <td>54983</td>\n",
       "      <td>55909</td>\n",
       "      <td>plus</td>\n",
       "      <td>ACTCTCATCGCCTGGTGCGAAGCAGCGCAAGACACACGCGCGCTGC...</td>\n",
       "    </tr>\n",
       "  </tbody>\n",
       "</table>\n",
       "</div>"
      ],
      "text/plain": [
       "    sseqid  sstart   send sstrand  \\\n",
       "0  LinJ.01       1   1000    plus   \n",
       "1  LinJ.01   24093  25080    plus   \n",
       "2  LinJ.01   35371  36297    plus   \n",
       "3  LinJ.01   39790  40595    plus   \n",
       "4  LinJ.01   54983  55909    plus   \n",
       "\n",
       "                                                sseq  \n",
       "0  ACACCAGTACACCAGTACACCAGTACACCAGTACACCAGTACACCA...  \n",
       "1  GGGGGAGGCGGGGGAGGCGGGGGGCACGCACCTCCATGCGTGGCAT...  \n",
       "2  ACTCCCATCGCCTGGTGCGAAGCAGCGCAAGACACACGCGCGCTGC...  \n",
       "3  ATTCTACCGCGAGCAAGGCAGCACACAGACGCACGCACAGCCACAG...  \n",
       "4  ACTCTCATCGCCTGGTGCGAAGCAGCGCAAGACACACGCGCGCTGC...  "
      ]
     },
     "execution_count": 3,
     "metadata": {},
     "output_type": "execute_result"
    }
   ],
   "source": [
    "# Let's load the data\n",
    "positive_elem = pd.read_csv(\"./data/consensus+LmSIDER2A+B/positives_testing_elements.csv\", sep=\",\", header=0)\n",
    "print(positive_elem.shape)\n",
    "print(positive_elem.dtypes)\n",
    "positive_elem.head()"
   ]
  },
  {
   "cell_type": "code",
   "execution_count": 4,
   "metadata": {},
   "outputs": [
    {
     "name": "stdout",
     "output_type": "stream",
     "text": [
      "(23, 5)\n",
      "sseqid     object\n",
      "sstart      int64\n",
      "send        int64\n",
      "sstrand    object\n",
      "sseq       object\n",
      "dtype: object\n"
     ]
    },
    {
     "data": {
      "text/html": [
       "<div>\n",
       "<style scoped>\n",
       "    .dataframe tbody tr th:only-of-type {\n",
       "        vertical-align: middle;\n",
       "    }\n",
       "\n",
       "    .dataframe tbody tr th {\n",
       "        vertical-align: top;\n",
       "    }\n",
       "\n",
       "    .dataframe thead th {\n",
       "        text-align: right;\n",
       "    }\n",
       "</style>\n",
       "<table border=\"1\" class=\"dataframe\">\n",
       "  <thead>\n",
       "    <tr style=\"text-align: right;\">\n",
       "      <th></th>\n",
       "      <th>sseqid</th>\n",
       "      <th>sstart</th>\n",
       "      <th>send</th>\n",
       "      <th>sstrand</th>\n",
       "      <th>sseq</th>\n",
       "    </tr>\n",
       "  </thead>\n",
       "  <tbody>\n",
       "    <tr>\n",
       "      <th>0</th>\n",
       "      <td>LinJ.02</td>\n",
       "      <td>259043</td>\n",
       "      <td>259677</td>\n",
       "      <td>plus</td>\n",
       "      <td>CCCCATTGCGTGGCGCGAAGCGGCGCTAGACGCGCACGAAAACACC...</td>\n",
       "    </tr>\n",
       "    <tr>\n",
       "      <th>1</th>\n",
       "      <td>LinJ.03</td>\n",
       "      <td>237552</td>\n",
       "      <td>237702</td>\n",
       "      <td>plus</td>\n",
       "      <td>GTGCGGGGGAGCCAGGCAGCCCACCCACCCACCCATCCCCTATCCC...</td>\n",
       "    </tr>\n",
       "    <tr>\n",
       "      <th>2</th>\n",
       "      <td>LinJ.04</td>\n",
       "      <td>331481</td>\n",
       "      <td>332011</td>\n",
       "      <td>plus</td>\n",
       "      <td>GTCGCTCTGACCTCCCCCTCTCACGCCCTAGGCACCCTGGCCCTGC...</td>\n",
       "    </tr>\n",
       "    <tr>\n",
       "      <th>3</th>\n",
       "      <td>LinJ.04</td>\n",
       "      <td>362873</td>\n",
       "      <td>363525</td>\n",
       "      <td>plus</td>\n",
       "      <td>CATCCGGATGACAGGTGGGGGAGGGGGTGCGCACACCTCAGCGCGT...</td>\n",
       "    </tr>\n",
       "    <tr>\n",
       "      <th>4</th>\n",
       "      <td>LinJ.04</td>\n",
       "      <td>391322</td>\n",
       "      <td>391906</td>\n",
       "      <td>plus</td>\n",
       "      <td>GTCGCTCTGACCTCCCCCTCTCACGCCCTAGGCACCCTGGCCCTGC...</td>\n",
       "    </tr>\n",
       "  </tbody>\n",
       "</table>\n",
       "</div>"
      ],
      "text/plain": [
       "    sseqid  sstart    send sstrand  \\\n",
       "0  LinJ.02  259043  259677    plus   \n",
       "1  LinJ.03  237552  237702    plus   \n",
       "2  LinJ.04  331481  332011    plus   \n",
       "3  LinJ.04  362873  363525    plus   \n",
       "4  LinJ.04  391322  391906    plus   \n",
       "\n",
       "                                                sseq  \n",
       "0  CCCCATTGCGTGGCGCGAAGCGGCGCTAGACGCGCACGAAAACACC...  \n",
       "1  GTGCGGGGGAGCCAGGCAGCCCACCCACCCACCCATCCCCTATCCC...  \n",
       "2  GTCGCTCTGACCTCCCCCTCTCACGCCCTAGGCACCCTGGCCCTGC...  \n",
       "3  CATCCGGATGACAGGTGGGGGAGGGGGTGCGCACACCTCAGCGCGT...  \n",
       "4  GTCGCTCTGACCTCCCCCTCTCACGCCCTAGGCACCCTGGCCCTGC...  "
      ]
     },
     "execution_count": 4,
     "metadata": {},
     "output_type": "execute_result"
    }
   ],
   "source": [
    "# Lets load the 23 sequences\n",
    "recaugh_df = pd.read_csv(\"./data/consensus+LmSIDER2A+B/neg_matched_with_LmSIDER2A+B_and_evalue_10pow-3.csv\", sep=\",\", header=0)\n",
    "print(recaugh_df.shape)\n",
    "print(recaugh_df.dtypes)\n",
    "recaugh_df.head()"
   ]
  },
  {
   "cell_type": "code",
   "execution_count": 5,
   "metadata": {},
   "outputs": [
    {
     "name": "stdout",
     "output_type": "stream",
     "text": [
      "(2092, 5)\n",
      "sseqid     object\n",
      "sstart      int64\n",
      "send        int64\n",
      "sstrand    object\n",
      "sseq       object\n",
      "dtype: object\n"
     ]
    },
    {
     "data": {
      "text/html": [
       "<div>\n",
       "<style scoped>\n",
       "    .dataframe tbody tr th:only-of-type {\n",
       "        vertical-align: middle;\n",
       "    }\n",
       "\n",
       "    .dataframe tbody tr th {\n",
       "        vertical-align: top;\n",
       "    }\n",
       "\n",
       "    .dataframe thead th {\n",
       "        text-align: right;\n",
       "    }\n",
       "</style>\n",
       "<table border=\"1\" class=\"dataframe\">\n",
       "  <thead>\n",
       "    <tr style=\"text-align: right;\">\n",
       "      <th></th>\n",
       "      <th>sseqid</th>\n",
       "      <th>sstart</th>\n",
       "      <th>send</th>\n",
       "      <th>sstrand</th>\n",
       "      <th>sseq</th>\n",
       "    </tr>\n",
       "  </thead>\n",
       "  <tbody>\n",
       "    <tr>\n",
       "      <th>0</th>\n",
       "      <td>LinJ.01</td>\n",
       "      <td>1</td>\n",
       "      <td>1000</td>\n",
       "      <td>plus</td>\n",
       "      <td>ACACCAGTACACCAGTACACCAGTACACCAGTACACCAGTACACCA...</td>\n",
       "    </tr>\n",
       "    <tr>\n",
       "      <th>1</th>\n",
       "      <td>LinJ.01</td>\n",
       "      <td>24093</td>\n",
       "      <td>25080</td>\n",
       "      <td>plus</td>\n",
       "      <td>GGGGGAGGCGGGGGAGGCGGGGGGCACGCACCTCCATGCGTGGCAT...</td>\n",
       "    </tr>\n",
       "    <tr>\n",
       "      <th>2</th>\n",
       "      <td>LinJ.01</td>\n",
       "      <td>35371</td>\n",
       "      <td>36297</td>\n",
       "      <td>plus</td>\n",
       "      <td>ACTCCCATCGCCTGGTGCGAAGCAGCGCAAGACACACGCGCGCTGC...</td>\n",
       "    </tr>\n",
       "    <tr>\n",
       "      <th>3</th>\n",
       "      <td>LinJ.01</td>\n",
       "      <td>39790</td>\n",
       "      <td>40595</td>\n",
       "      <td>plus</td>\n",
       "      <td>ATTCTACCGCGAGCAAGGCAGCACACAGACGCACGCACAGCCACAG...</td>\n",
       "    </tr>\n",
       "    <tr>\n",
       "      <th>4</th>\n",
       "      <td>LinJ.01</td>\n",
       "      <td>54983</td>\n",
       "      <td>55909</td>\n",
       "      <td>plus</td>\n",
       "      <td>ACTCTCATCGCCTGGTGCGAAGCAGCGCAAGACACACGCGCGCTGC...</td>\n",
       "    </tr>\n",
       "  </tbody>\n",
       "</table>\n",
       "</div>"
      ],
      "text/plain": [
       "    sseqid  sstart   send sstrand  \\\n",
       "0  LinJ.01       1   1000    plus   \n",
       "1  LinJ.01   24093  25080    plus   \n",
       "2  LinJ.01   35371  36297    plus   \n",
       "3  LinJ.01   39790  40595    plus   \n",
       "4  LinJ.01   54983  55909    plus   \n",
       "\n",
       "                                                sseq  \n",
       "0  ACACCAGTACACCAGTACACCAGTACACCAGTACACCAGTACACCA...  \n",
       "1  GGGGGAGGCGGGGGAGGCGGGGGGCACGCACCTCCATGCGTGGCAT...  \n",
       "2  ACTCCCATCGCCTGGTGCGAAGCAGCGCAAGACACACGCGCGCTGC...  \n",
       "3  ATTCTACCGCGAGCAAGGCAGCACACAGACGCACGCACAGCCACAG...  \n",
       "4  ACTCTCATCGCCTGGTGCGAAGCAGCGCAAGACACACGCGCGCTGC...  "
      ]
     },
     "execution_count": 5,
     "metadata": {},
     "output_type": "execute_result"
    }
   ],
   "source": [
    "# Let's join both dataframes\n",
    "all_elem = pd.concat([positive_elem, recaugh_df], axis=0, ignore_index=True)\n",
    "all_elem.sort_values(by=[\"sseqid\", \"sstart\"], inplace=True)\n",
    "print(all_elem.shape)\n",
    "print(all_elem.dtypes)\n",
    "all_elem.head()"
   ]
  },
  {
   "cell_type": "code",
   "execution_count": 6,
   "metadata": {},
   "outputs": [],
   "source": [
    "# Save data\n",
    "all_elem.to_csv(\"./data/consensus+LmSIDER2A+B/AL_DATA.csv\", sep=\",\", index=False, header=True)"
   ]
  }
 ],
 "metadata": {
  "kernelspec": {
   "display_name": "Python 3",
   "language": "python",
   "name": "python3"
  },
  "language_info": {
   "codemirror_mode": {
    "name": "ipython",
    "version": 3
   },
   "file_extension": ".py",
   "mimetype": "text/x-python",
   "name": "python",
   "nbconvert_exporter": "python",
   "pygments_lexer": "ipython3",
   "version": "3.12.3"
  }
 },
 "nbformat": 4,
 "nbformat_minor": 2
}
