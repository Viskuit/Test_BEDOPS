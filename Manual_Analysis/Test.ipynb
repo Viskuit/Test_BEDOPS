{
 "cells": [
  {
   "cell_type": "markdown",
   "metadata": {},
   "source": [
    "The real coordinates of the data from the SIDER2 in the chromosome 1 is:\n",
    "1) plus 24099-24758 !\n",
    "2) minus 35933-35313 !\n",
    "3) minus 55758-54697 !\n",
    "4) minus 114223-113357 ! \n",
    "5) minus 130738-129878 ! \n",
    "6) plus 137266-138019 ! \n",
    "7) plus 205359-206213 !"
   ]
  },
  {
   "cell_type": "markdown",
   "metadata": {},
   "source": [
    "Lets make a fasta file with the csv data from \"./RUN20_LinJ.01.csv\""
   ]
  },
  {
   "cell_type": "code",
   "execution_count": 5,
   "metadata": {},
   "outputs": [],
   "source": [
    "import pandas as pd\n",
    "import numpy as np\n",
    "from Bio import SeqIO\n",
    "from Bio.Seq import Seq\n",
    "from Bio.SeqRecord import SeqRecord"
   ]
  },
  {
   "cell_type": "code",
   "execution_count": 12,
   "metadata": {},
   "outputs": [],
   "source": [
    "def fasta_creator(path_input, fasta_output_path):\n",
    "\n",
    "    data_df = pd.read_csv(path_input, sep=\",\", header=None)\n",
    "\n",
    "    fasta_df = pd.DataFrame()\n",
    "    for index, row in enumerate(data_df.iterrows()):\n",
    "        rec = SeqRecord(\n",
    "            Seq(row[5]),\n",
    "            id=\"Seq_\" + str(index) + \"_\" + row[0] + \"_\" + row[4],  # Que tenga aqui el sentido es esencial para luego filtrarlos\n",
    "            description=\"Leishmania infantum \" + row[4]\n",
    "        )\n",
    "        fasta_df.append(rec)\n",
    "\n",
    "    SeqIO.write(fasta_df, fasta_output_path, \"fasta\")\n",
    "    print(\"\\nFasta created at:\", fasta_output_path)"
   ]
  },
  {
   "cell_type": "code",
   "execution_count": 13,
   "metadata": {},
   "outputs": [
    {
     "ename": "IndexError",
     "evalue": "tuple index out of range",
     "output_type": "error",
     "traceback": [
      "\u001b[0;31m---------------------------------------------------------------------------\u001b[0m",
      "\u001b[0;31mIndexError\u001b[0m                                Traceback (most recent call last)",
      "Cell \u001b[0;32mIn[13], line 1\u001b[0m\n\u001b[0;32m----> 1\u001b[0m \u001b[43mfasta_creator\u001b[49m\u001b[43m(\u001b[49m\u001b[38;5;124;43m\"\u001b[39;49m\u001b[38;5;124;43mRUN20_LinJ.01.csv\u001b[39;49m\u001b[38;5;124;43m\"\u001b[39;49m\u001b[43m,\u001b[49m\u001b[43m \u001b[49m\u001b[38;5;124;43m\"\u001b[39;49m\u001b[38;5;124;43mRUN20_LinJ.01.fasta\u001b[39;49m\u001b[38;5;124;43m\"\u001b[39;49m\u001b[43m)\u001b[49m\n",
      "Cell \u001b[0;32mIn[12], line 8\u001b[0m, in \u001b[0;36mfasta_creator\u001b[0;34m(path_input, fasta_output_path)\u001b[0m\n\u001b[1;32m      5\u001b[0m fasta_df \u001b[38;5;241m=\u001b[39m pd\u001b[38;5;241m.\u001b[39mDataFrame()\n\u001b[1;32m      6\u001b[0m \u001b[38;5;28;01mfor\u001b[39;00m index, row \u001b[38;5;129;01min\u001b[39;00m \u001b[38;5;28menumerate\u001b[39m(data_df\u001b[38;5;241m.\u001b[39miterrows()):\n\u001b[1;32m      7\u001b[0m     rec \u001b[38;5;241m=\u001b[39m SeqRecord(\n\u001b[0;32m----> 8\u001b[0m         Seq(\u001b[43mrow\u001b[49m\u001b[43m[\u001b[49m\u001b[38;5;241;43m5\u001b[39;49m\u001b[43m]\u001b[49m),\n\u001b[1;32m      9\u001b[0m         \u001b[38;5;28mid\u001b[39m\u001b[38;5;241m=\u001b[39m\u001b[38;5;124m\"\u001b[39m\u001b[38;5;124mSeq_\u001b[39m\u001b[38;5;124m\"\u001b[39m \u001b[38;5;241m+\u001b[39m \u001b[38;5;28mstr\u001b[39m(index) \u001b[38;5;241m+\u001b[39m \u001b[38;5;124m\"\u001b[39m\u001b[38;5;124m_\u001b[39m\u001b[38;5;124m\"\u001b[39m \u001b[38;5;241m+\u001b[39m row[\u001b[38;5;241m0\u001b[39m] \u001b[38;5;241m+\u001b[39m \u001b[38;5;124m\"\u001b[39m\u001b[38;5;124m_\u001b[39m\u001b[38;5;124m\"\u001b[39m \u001b[38;5;241m+\u001b[39m row[\u001b[38;5;241m4\u001b[39m],  \u001b[38;5;66;03m# Que tenga aqui el sentido es esencial para luego filtrarlos\u001b[39;00m\n\u001b[1;32m     10\u001b[0m         description\u001b[38;5;241m=\u001b[39m\u001b[38;5;124m\"\u001b[39m\u001b[38;5;124mLeishmania infantum \u001b[39m\u001b[38;5;124m\"\u001b[39m \u001b[38;5;241m+\u001b[39m row[\u001b[38;5;241m4\u001b[39m]\n\u001b[1;32m     11\u001b[0m     )\n\u001b[1;32m     12\u001b[0m     fasta_df\u001b[38;5;241m.\u001b[39mappend(rec)\n\u001b[1;32m     14\u001b[0m SeqIO\u001b[38;5;241m.\u001b[39mwrite(fasta_df, fasta_output_path, \u001b[38;5;124m\"\u001b[39m\u001b[38;5;124mfasta\u001b[39m\u001b[38;5;124m\"\u001b[39m)\n",
      "\u001b[0;31mIndexError\u001b[0m: tuple index out of range"
     ]
    }
   ],
   "source": [
    "fasta_creator(\"RUN20_LinJ.01.csv\", \"RUN20_LinJ.01.fasta\")"
   ]
  }
 ],
 "metadata": {
  "kernelspec": {
   "display_name": "Python 3",
   "language": "python",
   "name": "python3"
  },
  "language_info": {
   "codemirror_mode": {
    "name": "ipython",
    "version": 3
   },
   "file_extension": ".py",
   "mimetype": "text/x-python",
   "name": "python",
   "nbconvert_exporter": "python",
   "pygments_lexer": "ipython3",
   "version": "3.10.12"
  }
 },
 "nbformat": 4,
 "nbformat_minor": 2
}
