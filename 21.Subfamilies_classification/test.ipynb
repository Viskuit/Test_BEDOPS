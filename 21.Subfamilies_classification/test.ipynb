{
 "cells": [
  {
   "cell_type": "code",
   "execution_count": 3,
   "metadata": {},
   "outputs": [],
   "source": [
    "import pandas as pd\n",
    "import os"
   ]
  },
  {
   "cell_type": "markdown",
   "metadata": {},
   "source": [
    "Inside `21.Subfamilies_classification/subfamilies_classification` there folders for each chromosome. And inside each chromosome there are two files with the elements ID classified by subfamilies:\n",
    "- families_LinJ.XX.csv ==> will have the elements with the IDs in the origina data base.\n",
    "- NAMED_families_LinJ.XX.csv ==> will have the elements with the new names\n",
    "\n",
    "The one we need to use for this part of the sequences is the first one, with the IDs in the original data base"
   ]
  },
  {
   "cell_type": "code",
   "execution_count": 12,
   "metadata": {},
   "outputs": [],
   "source": [
    "path_folder = \"/home/rfpacheco/Documents/Work_CBMSO/Leish_Data_Analysis/21.Subfamilies_classification/subfamilies_classification/\""
   ]
  },
  {
   "cell_type": "code",
   "execution_count": null,
   "metadata": {},
   "outputs": [],
   "source": [
    "!"
   ]
  },
  {
   "cell_type": "code",
   "execution_count": 15,
   "metadata": {},
   "outputs": [
    {
     "name": "stdout",
     "output_type": "stream",
     "text": [
      "['LinJ.27', 'LinJ.09', 'LinJ.16', 'LinJ.30', 'LinJ.33', 'LinJ.34', 'LinJ.01', 'LinJ.22', 'LinJ.36', 'LinJ.08', 'LinJ.17', 'LinJ.25', 'LinJ.21', 'LinJ.31', 'LinJ.29', 'LinJ.07', 'LinJ.24', 'LinJ.05', 'LinJ.35', 'LinJ.26', 'LinJ.14', 'LinJ.20', 'LinJ.23', 'LinJ.28', 'LinJ.02', 'LinJ.19', 'LinJ.15', 'LinJ.10', 'LinJ.32', 'LinJ.18', 'LinJ.11', 'LinJ.13', 'LinJ.03', 'LinJ.12', 'LinJ.04', 'LinJ.06']\n"
     ]
    }
   ],
   "source": [
    "# read all folders inside the path_folder\n",
    "folders = [folder for folder in os.listdir(path_folder) if os.path.isdir(os.path.join(path_folder, folder))]\n",
    "print(folders)"
   ]
  },
  {
   "cell_type": "code",
   "execution_count": 22,
   "metadata": {},
   "outputs": [
    {
     "name": "stdout",
     "output_type": "stream",
     "text": [
      "27\n"
     ]
    }
   ],
   "source": [
    "test = 'LinJ.27'\n",
    "after_test = test.split(\".\")[1]  \n",
    "print(after_test)"
   ]
  },
  {
   "cell_type": "code",
   "execution_count": 25,
   "metadata": {},
   "outputs": [
    {
     "name": "stdout",
     "output_type": "stream",
     "text": [
      "['LinJ.01', 'LinJ.02', 'LinJ.03', 'LinJ.04', 'LinJ.05', 'LinJ.06', 'LinJ.07', 'LinJ.08', 'LinJ.09', 'LinJ.10', 'LinJ.11', 'LinJ.12', 'LinJ.13', 'LinJ.14', 'LinJ.15', 'LinJ.16', 'LinJ.17', 'LinJ.18', 'LinJ.19', 'LinJ.20', 'LinJ.21', 'LinJ.22', 'LinJ.23', 'LinJ.24', 'LinJ.25', 'LinJ.26', 'LinJ.27', 'LinJ.28', 'LinJ.29', 'LinJ.30', 'LinJ.31', 'LinJ.32', 'LinJ.33', 'LinJ.34', 'LinJ.35', 'LinJ.36']\n"
     ]
    }
   ],
   "source": [
    "folders = sorted(folders, key=lambda x: int(x.split(\".\")[1]))\n",
    "print(folders)"
   ]
  },
  {
   "cell_type": "code",
   "execution_count": 26,
   "metadata": {},
   "outputs": [
    {
     "name": "stdout",
     "output_type": "stream",
     "text": [
      "['/home/rfpacheco/Documents/Work_CBMSO/Leish_Data_Analysis/21.Subfamilies_classification/subfamilies_classification/LinJ.01/families_LinJ.01.csv', '/home/rfpacheco/Documents/Work_CBMSO/Leish_Data_Analysis/21.Subfamilies_classification/subfamilies_classification/LinJ.02/families_LinJ.02.csv', '/home/rfpacheco/Documents/Work_CBMSO/Leish_Data_Analysis/21.Subfamilies_classification/subfamilies_classification/LinJ.03/families_LinJ.03.csv', '/home/rfpacheco/Documents/Work_CBMSO/Leish_Data_Analysis/21.Subfamilies_classification/subfamilies_classification/LinJ.04/families_LinJ.04.csv', '/home/rfpacheco/Documents/Work_CBMSO/Leish_Data_Analysis/21.Subfamilies_classification/subfamilies_classification/LinJ.05/families_LinJ.05.csv', '/home/rfpacheco/Documents/Work_CBMSO/Leish_Data_Analysis/21.Subfamilies_classification/subfamilies_classification/LinJ.06/families_LinJ.06.csv', '/home/rfpacheco/Documents/Work_CBMSO/Leish_Data_Analysis/21.Subfamilies_classification/subfamilies_classification/LinJ.07/families_LinJ.07.csv', '/home/rfpacheco/Documents/Work_CBMSO/Leish_Data_Analysis/21.Subfamilies_classification/subfamilies_classification/LinJ.08/families_LinJ.08.csv', '/home/rfpacheco/Documents/Work_CBMSO/Leish_Data_Analysis/21.Subfamilies_classification/subfamilies_classification/LinJ.09/families_LinJ.09.csv', '/home/rfpacheco/Documents/Work_CBMSO/Leish_Data_Analysis/21.Subfamilies_classification/subfamilies_classification/LinJ.10/families_LinJ.10.csv', '/home/rfpacheco/Documents/Work_CBMSO/Leish_Data_Analysis/21.Subfamilies_classification/subfamilies_classification/LinJ.11/families_LinJ.11.csv', '/home/rfpacheco/Documents/Work_CBMSO/Leish_Data_Analysis/21.Subfamilies_classification/subfamilies_classification/LinJ.12/families_LinJ.12.csv', '/home/rfpacheco/Documents/Work_CBMSO/Leish_Data_Analysis/21.Subfamilies_classification/subfamilies_classification/LinJ.13/families_LinJ.13.csv', '/home/rfpacheco/Documents/Work_CBMSO/Leish_Data_Analysis/21.Subfamilies_classification/subfamilies_classification/LinJ.14/families_LinJ.14.csv', '/home/rfpacheco/Documents/Work_CBMSO/Leish_Data_Analysis/21.Subfamilies_classification/subfamilies_classification/LinJ.15/families_LinJ.15.csv', '/home/rfpacheco/Documents/Work_CBMSO/Leish_Data_Analysis/21.Subfamilies_classification/subfamilies_classification/LinJ.16/families_LinJ.16.csv', '/home/rfpacheco/Documents/Work_CBMSO/Leish_Data_Analysis/21.Subfamilies_classification/subfamilies_classification/LinJ.17/families_LinJ.17.csv', '/home/rfpacheco/Documents/Work_CBMSO/Leish_Data_Analysis/21.Subfamilies_classification/subfamilies_classification/LinJ.18/families_LinJ.18.csv', '/home/rfpacheco/Documents/Work_CBMSO/Leish_Data_Analysis/21.Subfamilies_classification/subfamilies_classification/LinJ.19/families_LinJ.19.csv', '/home/rfpacheco/Documents/Work_CBMSO/Leish_Data_Analysis/21.Subfamilies_classification/subfamilies_classification/LinJ.20/families_LinJ.20.csv', '/home/rfpacheco/Documents/Work_CBMSO/Leish_Data_Analysis/21.Subfamilies_classification/subfamilies_classification/LinJ.21/families_LinJ.21.csv', '/home/rfpacheco/Documents/Work_CBMSO/Leish_Data_Analysis/21.Subfamilies_classification/subfamilies_classification/LinJ.22/families_LinJ.22.csv', '/home/rfpacheco/Documents/Work_CBMSO/Leish_Data_Analysis/21.Subfamilies_classification/subfamilies_classification/LinJ.23/families_LinJ.23.csv', '/home/rfpacheco/Documents/Work_CBMSO/Leish_Data_Analysis/21.Subfamilies_classification/subfamilies_classification/LinJ.24/families_LinJ.24.csv', '/home/rfpacheco/Documents/Work_CBMSO/Leish_Data_Analysis/21.Subfamilies_classification/subfamilies_classification/LinJ.25/families_LinJ.25.csv', '/home/rfpacheco/Documents/Work_CBMSO/Leish_Data_Analysis/21.Subfamilies_classification/subfamilies_classification/LinJ.26/families_LinJ.26.csv', '/home/rfpacheco/Documents/Work_CBMSO/Leish_Data_Analysis/21.Subfamilies_classification/subfamilies_classification/LinJ.27/families_LinJ.27.csv', '/home/rfpacheco/Documents/Work_CBMSO/Leish_Data_Analysis/21.Subfamilies_classification/subfamilies_classification/LinJ.28/families_LinJ.28.csv', '/home/rfpacheco/Documents/Work_CBMSO/Leish_Data_Analysis/21.Subfamilies_classification/subfamilies_classification/LinJ.29/families_LinJ.29.csv', '/home/rfpacheco/Documents/Work_CBMSO/Leish_Data_Analysis/21.Subfamilies_classification/subfamilies_classification/LinJ.30/families_LinJ.30.csv', '/home/rfpacheco/Documents/Work_CBMSO/Leish_Data_Analysis/21.Subfamilies_classification/subfamilies_classification/LinJ.31/families_LinJ.31.csv', '/home/rfpacheco/Documents/Work_CBMSO/Leish_Data_Analysis/21.Subfamilies_classification/subfamilies_classification/LinJ.32/families_LinJ.32.csv', '/home/rfpacheco/Documents/Work_CBMSO/Leish_Data_Analysis/21.Subfamilies_classification/subfamilies_classification/LinJ.33/families_LinJ.33.csv', '/home/rfpacheco/Documents/Work_CBMSO/Leish_Data_Analysis/21.Subfamilies_classification/subfamilies_classification/LinJ.34/families_LinJ.34.csv', '/home/rfpacheco/Documents/Work_CBMSO/Leish_Data_Analysis/21.Subfamilies_classification/subfamilies_classification/LinJ.35/families_LinJ.35.csv', '/home/rfpacheco/Documents/Work_CBMSO/Leish_Data_Analysis/21.Subfamilies_classification/subfamilies_classification/LinJ.36/families_LinJ.36.csv']\n"
     ]
    }
   ],
   "source": [
    "# Now inside each folder let's get the files names \"families_LinJ.XX.csv\"\n",
    "files_dirs = []\n",
    "for folder in folders:\n",
    "    path_chr_folder = os.path.join(path_folder, folder)\n",
    "    file = [file for file in os.listdir(path_chr_folder) if file.endswith(\".csv\") and file.startswith(\"families\")]\n",
    "    files_dirs.append(os.path.join(path_chr_folder, file[0]))\n",
    "print(files_dirs)"
   ]
  },
  {
   "cell_type": "code",
   "execution_count": 31,
   "metadata": {},
   "outputs": [
    {
     "name": "stdout",
     "output_type": "stream",
     "text": [
      "['/home/rfpacheco/Documents/Work_CBMSO/Leish_Data_Analysis/21.Subfamilies_classification/subfamilies_classification/LinJ.01/NAMED_families_LinJ.01.csv', '/home/rfpacheco/Documents/Work_CBMSO/Leish_Data_Analysis/21.Subfamilies_classification/subfamilies_classification/LinJ.02/NAMED_families_LinJ.02.csv', '/home/rfpacheco/Documents/Work_CBMSO/Leish_Data_Analysis/21.Subfamilies_classification/subfamilies_classification/LinJ.03/NAMED_families_LinJ.03.csv', '/home/rfpacheco/Documents/Work_CBMSO/Leish_Data_Analysis/21.Subfamilies_classification/subfamilies_classification/LinJ.04/NAMED_families_LinJ.04.csv', '/home/rfpacheco/Documents/Work_CBMSO/Leish_Data_Analysis/21.Subfamilies_classification/subfamilies_classification/LinJ.05/NAMED_families_LinJ.05.csv', '/home/rfpacheco/Documents/Work_CBMSO/Leish_Data_Analysis/21.Subfamilies_classification/subfamilies_classification/LinJ.06/NAMED_families_LinJ.06.csv', '/home/rfpacheco/Documents/Work_CBMSO/Leish_Data_Analysis/21.Subfamilies_classification/subfamilies_classification/LinJ.07/NAMED_families_LinJ.07.csv', '/home/rfpacheco/Documents/Work_CBMSO/Leish_Data_Analysis/21.Subfamilies_classification/subfamilies_classification/LinJ.08/NAMED_families_LinJ.08.csv', '/home/rfpacheco/Documents/Work_CBMSO/Leish_Data_Analysis/21.Subfamilies_classification/subfamilies_classification/LinJ.09/NAMED_families_LinJ.09.csv', '/home/rfpacheco/Documents/Work_CBMSO/Leish_Data_Analysis/21.Subfamilies_classification/subfamilies_classification/LinJ.10/NAMED_families_LinJ.10.csv', '/home/rfpacheco/Documents/Work_CBMSO/Leish_Data_Analysis/21.Subfamilies_classification/subfamilies_classification/LinJ.11/NAMED_families_LinJ.11.csv', '/home/rfpacheco/Documents/Work_CBMSO/Leish_Data_Analysis/21.Subfamilies_classification/subfamilies_classification/LinJ.12/NAMED_families_LinJ.12.csv', '/home/rfpacheco/Documents/Work_CBMSO/Leish_Data_Analysis/21.Subfamilies_classification/subfamilies_classification/LinJ.13/NAMED_families_LinJ.13.csv', '/home/rfpacheco/Documents/Work_CBMSO/Leish_Data_Analysis/21.Subfamilies_classification/subfamilies_classification/LinJ.14/NAMED_families_LinJ.14.csv', '/home/rfpacheco/Documents/Work_CBMSO/Leish_Data_Analysis/21.Subfamilies_classification/subfamilies_classification/LinJ.15/NAMED_families_LinJ.15.csv', '/home/rfpacheco/Documents/Work_CBMSO/Leish_Data_Analysis/21.Subfamilies_classification/subfamilies_classification/LinJ.16/NAMED_families_LinJ.16.csv', '/home/rfpacheco/Documents/Work_CBMSO/Leish_Data_Analysis/21.Subfamilies_classification/subfamilies_classification/LinJ.17/NAMED_families_LinJ.17.csv', '/home/rfpacheco/Documents/Work_CBMSO/Leish_Data_Analysis/21.Subfamilies_classification/subfamilies_classification/LinJ.18/NAMED_families_LinJ.18.csv', '/home/rfpacheco/Documents/Work_CBMSO/Leish_Data_Analysis/21.Subfamilies_classification/subfamilies_classification/LinJ.19/NAMED_families_LinJ.19.csv', '/home/rfpacheco/Documents/Work_CBMSO/Leish_Data_Analysis/21.Subfamilies_classification/subfamilies_classification/LinJ.20/NAMED_families_LinJ.20.csv', '/home/rfpacheco/Documents/Work_CBMSO/Leish_Data_Analysis/21.Subfamilies_classification/subfamilies_classification/LinJ.21/NAMED_families_LinJ.21.csv', '/home/rfpacheco/Documents/Work_CBMSO/Leish_Data_Analysis/21.Subfamilies_classification/subfamilies_classification/LinJ.22/NAMED_families_LinJ.22.csv', '/home/rfpacheco/Documents/Work_CBMSO/Leish_Data_Analysis/21.Subfamilies_classification/subfamilies_classification/LinJ.23/NAMED_families_LinJ.23.csv', '/home/rfpacheco/Documents/Work_CBMSO/Leish_Data_Analysis/21.Subfamilies_classification/subfamilies_classification/LinJ.24/NAMED_families_LinJ.24.csv', '/home/rfpacheco/Documents/Work_CBMSO/Leish_Data_Analysis/21.Subfamilies_classification/subfamilies_classification/LinJ.25/NAMED_families_LinJ.25.csv', '/home/rfpacheco/Documents/Work_CBMSO/Leish_Data_Analysis/21.Subfamilies_classification/subfamilies_classification/LinJ.26/NAMED_families_LinJ.26.csv', '/home/rfpacheco/Documents/Work_CBMSO/Leish_Data_Analysis/21.Subfamilies_classification/subfamilies_classification/LinJ.27/NAMED_families_LinJ.27.csv', '/home/rfpacheco/Documents/Work_CBMSO/Leish_Data_Analysis/21.Subfamilies_classification/subfamilies_classification/LinJ.28/NAMED_families_LinJ.28.csv', '/home/rfpacheco/Documents/Work_CBMSO/Leish_Data_Analysis/21.Subfamilies_classification/subfamilies_classification/LinJ.29/NAMED_families_LinJ.29.csv', '/home/rfpacheco/Documents/Work_CBMSO/Leish_Data_Analysis/21.Subfamilies_classification/subfamilies_classification/LinJ.30/NAMED_families_LinJ.30.csv', '/home/rfpacheco/Documents/Work_CBMSO/Leish_Data_Analysis/21.Subfamilies_classification/subfamilies_classification/LinJ.31/NAMED_families_LinJ.31.csv', '/home/rfpacheco/Documents/Work_CBMSO/Leish_Data_Analysis/21.Subfamilies_classification/subfamilies_classification/LinJ.32/NAMED_families_LinJ.32.csv', '/home/rfpacheco/Documents/Work_CBMSO/Leish_Data_Analysis/21.Subfamilies_classification/subfamilies_classification/LinJ.33/NAMED_families_LinJ.33.csv', '/home/rfpacheco/Documents/Work_CBMSO/Leish_Data_Analysis/21.Subfamilies_classification/subfamilies_classification/LinJ.34/NAMED_families_LinJ.34.csv', '/home/rfpacheco/Documents/Work_CBMSO/Leish_Data_Analysis/21.Subfamilies_classification/subfamilies_classification/LinJ.35/NAMED_families_LinJ.35.csv', '/home/rfpacheco/Documents/Work_CBMSO/Leish_Data_Analysis/21.Subfamilies_classification/subfamilies_classification/LinJ.36/NAMED_families_LinJ.36.csv']\n"
     ]
    }
   ],
   "source": [
    "# Lets do the same but ith the files like \"NAMES_families_LinJ.XX.csv\"\n",
    "files_dirs_named = []\n",
    "for folder in folders:\n",
    "    path_chr_folder = os.path.join(path_folder, folder)\n",
    "    file = [file for file in os.listdir(path_chr_folder) if file.endswith(\".csv\") and file.startswith(\"NAMED_families\")]\n",
    "    files_dirs_named.append(os.path.join(path_chr_folder, file[0]))\n",
    "print(files_dirs_named)"
   ]
  },
  {
   "cell_type": "code",
   "execution_count": 27,
   "metadata": {},
   "outputs": [
    {
     "name": "stdout",
     "output_type": "stream",
     "text": [
      "(2132, 5)\n",
      "sseqid     object\n",
      "sstart      int64\n",
      "send        int64\n",
      "sstrand    object\n",
      "sseq       object\n",
      "dtype: object\n"
     ]
    },
    {
     "data": {
      "text/html": [
       "<div>\n",
       "<style scoped>\n",
       "    .dataframe tbody tr th:only-of-type {\n",
       "        vertical-align: middle;\n",
       "    }\n",
       "\n",
       "    .dataframe tbody tr th {\n",
       "        vertical-align: top;\n",
       "    }\n",
       "\n",
       "    .dataframe thead th {\n",
       "        text-align: right;\n",
       "    }\n",
       "</style>\n",
       "<table border=\"1\" class=\"dataframe\">\n",
       "  <thead>\n",
       "    <tr style=\"text-align: right;\">\n",
       "      <th></th>\n",
       "      <th>sseqid</th>\n",
       "      <th>sstart</th>\n",
       "      <th>send</th>\n",
       "      <th>sstrand</th>\n",
       "      <th>sseq</th>\n",
       "    </tr>\n",
       "  </thead>\n",
       "  <tbody>\n",
       "    <tr>\n",
       "      <th>0</th>\n",
       "      <td>LinJ.01</td>\n",
       "      <td>2</td>\n",
       "      <td>174</td>\n",
       "      <td>plus</td>\n",
       "      <td>CACCAGTACACCAGTACACCAGTACACCAGTACACCAGTACACCAG...</td>\n",
       "    </tr>\n",
       "    <tr>\n",
       "      <th>1</th>\n",
       "      <td>LinJ.01</td>\n",
       "      <td>24094</td>\n",
       "      <td>24759</td>\n",
       "      <td>plus</td>\n",
       "      <td>GGGGAGGCGGGGGAGGCGGGGGGCACGCACCTCCATGCGTGGCATC...</td>\n",
       "    </tr>\n",
       "  </tbody>\n",
       "</table>\n",
       "</div>"
      ],
      "text/plain": [
       "    sseqid  sstart   send sstrand  \\\n",
       "0  LinJ.01       2    174    plus   \n",
       "1  LinJ.01   24094  24759    plus   \n",
       "\n",
       "                                                sseq  \n",
       "0  CACCAGTACACCAGTACACCAGTACACCAGTACACCAGTACACCAG...  \n",
       "1  GGGGAGGCGGGGGAGGCGGGGGGCACGCACCTCCATGCGTGGCATC...  "
      ]
     },
     "execution_count": 27,
     "metadata": {},
     "output_type": "execute_result"
    }
   ],
   "source": [
    "# Now we need the path to the main data frame:\n",
    "path_df = \"./data/positive_database.csv\"\n",
    "main_df = pd.read_csv(path_df, sep=',', header=0)\n",
    "print(main_df.shape)\n",
    "print(main_df.dtypes)\n",
    "main_df.head(2)"
   ]
  },
  {
   "cell_type": "code",
   "execution_count": 34,
   "metadata": {},
   "outputs": [],
   "source": [
    "test_path = '/home/rfpacheco/Documents/Work_CBMSO/Leish_Data_Analysis/21.Subfamilies_classification/subfamilies_classification/LinJ.01/families_LinJ.01.csv'\n",
    "test_NAMED_path = '/home/rfpacheco/Documents/Work_CBMSO/Leish_Data_Analysis/21.Subfamilies_classification/subfamilies_classification/LinJ.01/NAMED_families_LinJ.01.csv'\n",
    "test_df = pd.read_csv(test_path, sep=',', header=None)\n",
    "test_df_named = pd.read_csv(test_NAMED_path, sep=',', header=None)"
   ]
  },
  {
   "cell_type": "code",
   "execution_count": 45,
   "metadata": {},
   "outputs": [],
   "source": [
    "# Read each row in the test_df and skip \"NaN\" values\n",
    "import re\n",
    "main_dict = {}\n",
    "for (index, row), (index_named, row_named) in zip(test_df.iterrows(), test_df_named.iterrows()):\n",
    "    # From each row remote the \"NaN\" values\n",
    "    row = [value for value in row if str(value) != 'nan']\n",
    "    row_named = [value for value in row_named if str(value) != 'nan']\n",
    "    # Start the process\n",
    "    if len(row) == 1:  # For the orphans\n",
    "        slice_id = int(re.search(r'_(\\d+)_', row[0]).group(1))\n",
    "        main_dict[row[0]] = [row_named[0], main_df.loc[slice_id][\"sseq\"]]  # Get the sequence\n",
    "    else:  # For the families\n",
    "        subfamilies_seqs = {}\n",
    "        for value in row:\n",
    "            slice_id = int(re.search(r'_(\\d+)_', value).group(1))\n",
    "            subfamilies_seqs[value] = [row_named[0], main_df.loc[slice_id][\"sseq\"]]\n",
    "        # get the index dict in subfamilies_seqs that has the longer seq\n",
    "        max_len = 0\n",
    "        max_index = \"\"\n",
    "        for key, value in subfamilies_seqs.items():\n",
    "            if len(value[1]) > max_len:\n",
    "                max_len = len(value[1])\n",
    "                max_index = key\n",
    "        main_dict[max_index] = subfamilies_seqs[max_index]"
   ]
  },
  {
   "cell_type": "code",
   "execution_count": 46,
   "metadata": {},
   "outputs": [
    {
     "data": {
      "text/plain": [
       "{'Seq_0_LinJ.01': ['src_c01.10',\n",
       "  'CACCAGTACACCAGTACACCAGTACACCAGTACACCAGTACACCAGTACACCAGTACACCAGTACACCAGTACACCAGTACACCAGTACACCGTCACGCCCCCGTCCTGTTGGAGAGGGTGTCGCTGTGCAGGGAATCAGTCGAGAGAAAAACCCTAACCCGTACCGGTACCG'],\n",
       " 'Seq_1_LinJ.01': ['src_c01.20A',\n",
       "  'GGGGAGGCGGGGGAGGCGGGGGGCACGCACCTCCATGCGTGGCATCCCAGGGTCCAGCGCCCCCCCCCTCCACCCCCGCTCTCTCTGTGTACGGAAGCCCGGCAGCCCCCTCACCCTCTATCCCTGCCAACGCCGAACCACTTCTGGTGCTGACAGGGCTGGGCCCTTACGGCGTTGGGCGAGGTCGGCGCGACGTAGCGCCACGGATGCCGGCGGCCATGTCGTGCATGGCGCTGCGTCCGAGCCACCCGCGACAGTGAGCACAGGCTTGCACGGTCCATGCGATGGGCGGAGCGTGTCAGCGCGGCTCGAGCGTGTCGCAGCCGGCCCCTCACACTGGCCCACGGCGAGGGGTGCGGGGGCCTGAGTGTCACCGCGACGGGGAGACGCACCCAGGGAGGAGGTGGGGGGAGTGGGGACCGGCATGATGGAGGGGCGGCTGTGTGGCGATGTGTGTGTATGTGGGTGTCGTCGCGTTTGAGGCAGGAGCCGTGCTGCGACGACCGAGCCGGCGCACTGCTGCAGCGCGCGTGTGTCTTGCGCTGCTTCGCACCAGGCGATGAGAGTGGGGTGGGGTGCCTGCAGCACTCGGCGGCGGGGGGGTGCAGAGCGGCCTCCACCTCGCAGTGTGCGGCAGCGAAAACGGACACGCGGAAGAGCAAACAC'],\n",
       " 'Seq_3_LinJ.01': ['src_c01.40',\n",
       "  'TTCTACCGCGAGCAAGGCAGCACACAGACGCACGCACAGCCACAGCTCACCTGGCACTCTGTTGCACGGCGGCTGAATCCGGGTCCTCTGGGACGAGCCGTTCAGCCGGTTGAATGAGGACCATACGTCTGACGGGCTCTCCTCCTTCCTCGTCCCTTCCTCGAAAATGTGCTGCGCGACCGACTCCAGGCGGACCTGGGCGTGGGCAACATGCCTTCATCCACGCCCGCCGCGTCCAGCGTCCTGCTCGACGGCTGGAGGCGATGGCGTCTGTCGTGCGGGTAACAGGGGTTTGTCTAGGCGCATGCCGGGTGTGCGCGAGGACGAGGTTGGCCAGCCGCAGGTCAGGGCCCCCTGAGACCCCGCAGACTCTGTCTGTATGCCATGCTTCGCCCTGAGTCACCTCAAGCTGCGGCATCTTAGGATATGGTGTGGTGACGCCCCAGATTGGGGACCTGGAGGGCTCAATGGGGCCCCCTTTGGGGGTGCTCTCGTCACGCCTTCGGCACCTATGTCGCATCGACTCGCCCGGCCGGATGTAAGAGGTGCCGCACATGTCGCACGCACGTTGGGGATGATTTGTATGCATCTCTGCGCGCCTTTCTGGGCTATCGCTCGTGCCCTGCTGACCTCTGGATGCCTTGTGTGGATGCGGTACGCCATGCCAGCGGCGCTTGAAAGCGCGTGCGCACGGCGCTCACATTTTCTGCATCCTAGGGCCTGTTCCAGGACGGCCTTGTTGCCTGGTGAGGTGGGCTCGCTGTCTTCATCGTCCATTTCCGTCCATGCCAGCCAAGGGGCGGGGA'],\n",
       " 'Seq_6_LinJ.01': ['src_c01.70',\n",
       "  'TTTGGGCACATGCAGCTGGCGCTGCTGGCCCGTCGCGTGCGCCTCTCCTTTCCGCTTGTCTGTTACCATTGCGATTTGGAGCACAACGACGAAGTGGTCAAGCTTCCAAAGTCGGAAATACCAGAGGACCCGGATTCAGCCGCCGTGCAACAGAGTGCCAGGTGAGCTGTGGCTGTGCGTGCGTCTGTGTGCTGCCTTGCTCGCGGTAGAATACGCACATTGTAGAAAAGCGAATATGGTTGTGCTCCCCGTTCTCTCCCGCCCACTCCCGTCGATGGACGAGGAGGGGTGGGATGAGGGTGAGGGAGTCAAGAAGCTAATGAGATGCAGGCAAGCGTCCCCTCCC'],\n",
       " 'Seq_7_LinJ.01': ['src_c01.80',\n",
       "  'CAAGCGCCACACAGCAAAGGTCTTCCGCATCAGGAGCACACCACTCATGCTCTCGGGGGGGGGGGGGTTCGCCGCCGTCTACAAGAGCGGACGTGTAGCAGATCGCGGCAGCAGATATGTCTGTCATCGGGCAAGCTGTGGCTCAGATGAAGACGAACATGGAAGCGGTCGTCAAGCATTTGCGCCACCACAGAGGTCCACCGCGAAGAGAGCAACAATGGCAGTCCAAGCGACGCAACGGGGACCGCAAGGGTGGAGGCCAATAATGCTAGCAGCAACAGCAGCCTCCTGTTCCTGCACGGCGCCCTCCGCACGCCGGCCTGCCACTGTATCTCGGTGCAAAGGCCGGGTGTTCCACATCGAAGGGAGGCCCAAAACGTGAGGGGCAGAGTCAAGCGGATCGGAGAGCGCAGGAGCGGGTCACAACACAGAATGACGGCGAAGCCGCGCGAGGCTATGCGATGGTGTGTGTGTGTGTGGTGGGTGGTTGGGGAGGAGGGGTGCACACGGTCGTAGCTCAGTGGACGGCCCGAACAGAGGCGCAGGATGACGCCTTGAGAACCGCGGCGGCCCCAGCGCGAGGCCGGAGAGCGGTGGAGGGGCCCGCCGCCAGCAAGGGTTCCGGACCTGCTGTCTAACGGTGAGTGCTTCCACAGCGAAGCACTCGGCCTATGTAGAGCCTCGGGCATCTGTGTCGTGGTTGTAGTCCCTGATCGCGACACAAGAGCTGGCGGAGAGTAGAGGCCTGATTATGCGCGTAGCACTGG'],\n",
       " 'Seq_10_LinJ.01': ['src_c01.110',\n",
       "  'TCCCCACGGGGTGGTGAGGCGAGAAGTCAGGGGTCGGGCACGCGCTGCAGGCCCTTGTACGGACTGGGCAAGTGGCCGCCATCGGTGAAAACGCGTCATGCTCGTCTCCTGAGGGCCCAGGGACAGGGCCGCGATGTGCGCGTTCTCGTGATCCAGCAGCCCACCCCCTCCTTGCCTGCATGACCTCTTGGGCCTATCCTCTCCTCTGCTCGCACAGCATGGCAGCTGCAACGCACACGCACGCCCCTCTCGCTCCCTGCACCCTCTCTCTCCCCCCTCTCTTTCTGCAGACGATGCGCCAGCTCAACGGAACGAGTGTTTTAGGCTCATCGCTTCACCAGTCACCACCCCGACAGAGACCGCCACCGTTGTCAAGCGTGTTGGGTGCACCGAGTCCGGCAGCAGGCGAGTTCAGACGCCGCCTTACACTACGTGAGAGGTGAAGGGCGGACTAGGCAGCAGAGGCACTAGCGGGCCGAAGAAGATCCTGGCAGCCCTCTCCGCGCCGAGGGGCAGCACCAGCCGCGAGAACCCTCAAAGAGCTCTGAAGGCAGGGCTGCCCGTCGAGTGGTCCGGTGATCGGCCGTACAAGAGACGATAGTGAGCTGCTCACAGGGGTGGAAGCTTGCCACGCAGGAAGACGACACGCCACAGAGCTGCCTTTTCTTCTGCTAGAGTGCATATGCCAACGTCGCTGTGTTTCACGTGCATGCGGGCTGGCAGCTTCTCCGCTTGATGGGCCTGATCGTTTGCATACGATGCGCACGGCGAGCGTGCACTCAGCCGACACACACCGCCTCCAGAACCTTTCAGGTTTAGACGTGGAAAGAGTAATCCTTCGTTGGCAGGCTTAGGGAGGTCTCTCACACTCCCACGCAGCTGTGCCGGGCCGCGGCCCTCGGGCTGGAACGCGCGGAGGTGCTGCCTGTGGGGGGGGGGGAA'],\n",
       " 'Seq_12_LinJ.01': ['src_c01.130',\n",
       "  'GGCGCACGCGACCCTTTTCCCCCGGACAGAAAGGTTGGCCACGACCCGGTCGAACGCCGCGCTGTTGGGATGATGCACGCCGTGCCCGCCCCCACCGTCTTCGTGTCTACTTAAGGGCTGGCGAACTGAGGGCGCACCAGGCAGAGAAACATGCTCGCAGCCCCCGCCCCAGCGCCGAGCCCTCATTCTACTTCCAGTTGCGCTCAGCTACCCATTTCGTGCGCTCCAGACTGCTATTCCATGTATGCGAGCACCACCCGAAACACCGCGCAGGCATGTTCACAGAGAATGGCGTGCTTAGGACGCCAAAGCTCCGCCACCCAAAACGCCACAGCGCACGATATGCCTCAGCACCTTCACCATCTCCGCCCCGTTCACGGCCCACCCCACCCGCGCCAAACGGGGCTGGCGATCTTGCAAAAGCCTCGCCGTGGGTGCGTGACCACCGCTGCAAGGAGTTCCCCGAGCGTCTACGGTGTTTCCCGGGTTTGGAAGAAGAACAACGTCGTCACGGAATTGCCGGCGCCAGCGCTGCAAAGGTCGCCTTTGCTGCCCCCCATGCTCAATTTCTCTGAGAGCCGTTTGGGCTGCCCGGCCCATTCCCGCCCCCGCCCGGGGAGGCACCCGACCCGTCCCCACCGCCGGCGCAGACCGTCCAAAGCGCCCGCCCCTCATTGTTTCGAGATTATGCGTTGCCTCGGCTTTGCGCTCCGACAACCCAGAGGGGGGTCCGCTTCCGGCGAAAGGGGCGCGTGGGCCATCGGAAAGAAGCTTCCGCGCACAGGGGGCTGTGTCGCTGGCAGGGGTGGTGCCCTCAAATTGCGCTTCTTTGCGGCGCGCAAAAGCAGAAGAGCTTGCTCATGGGGCGTCAAACGGTCATGGGTGCGTGCCTCGCTTCCGTGGCGCTCGGGGTGGCCATTCCTAAAC']}"
      ]
     },
     "execution_count": 46,
     "metadata": {},
     "output_type": "execute_result"
    }
   ],
   "source": [
    "main_dict"
   ]
  }
 ],
 "metadata": {
  "kernelspec": {
   "display_name": "Python 3",
   "language": "python",
   "name": "python3"
  },
  "language_info": {
   "codemirror_mode": {
    "name": "ipython",
    "version": 3
   },
   "file_extension": ".py",
   "mimetype": "text/x-python",
   "name": "python",
   "nbconvert_exporter": "python",
   "pygments_lexer": "ipython3",
   "version": "3.12.3"
  }
 },
 "nbformat": 4,
 "nbformat_minor": 2
}
