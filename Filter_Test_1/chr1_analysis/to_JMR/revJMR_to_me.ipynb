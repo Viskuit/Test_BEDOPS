{
 "cells": [
  {
   "cell_type": "code",
   "execution_count": 2,
   "metadata": {},
   "outputs": [],
   "source": [
    "import pandas as pd\n",
    "import numpy as np"
   ]
  },
  {
   "cell_type": "code",
   "execution_count": 20,
   "metadata": {},
   "outputs": [
    {
     "data": {
      "text/html": [
       "<div>\n",
       "<style scoped>\n",
       "    .dataframe tbody tr th:only-of-type {\n",
       "        vertical-align: middle;\n",
       "    }\n",
       "\n",
       "    .dataframe tbody tr th {\n",
       "        vertical-align: top;\n",
       "    }\n",
       "\n",
       "    .dataframe thead th {\n",
       "        text-align: right;\n",
       "    }\n",
       "</style>\n",
       "<table border=\"1\" class=\"dataframe\">\n",
       "  <thead>\n",
       "    <tr style=\"text-align: right;\">\n",
       "      <th></th>\n",
       "      <th>0</th>\n",
       "      <th>1</th>\n",
       "      <th>2</th>\n",
       "    </tr>\n",
       "  </thead>\n",
       "  <tbody>\n",
       "    <tr>\n",
       "      <th>0</th>\n",
       "      <td>Seq_1_LinJ.01_plus</td>\n",
       "      <td>GGGGGAGGCGGGGGAGGCGGGGGGCACGCACCTCCATGCGTGGCAT...</td>\n",
       "      <td>NaN</td>\n",
       "    </tr>\n",
       "    <tr>\n",
       "      <th>1</th>\n",
       "      <td>Seq_2_LinJ.01_plus</td>\n",
       "      <td>GAGGTGGAGGCCGCTCTGCCCCCCCCGCCGCCGAGTGCTGCAGGCA...</td>\n",
       "      <td>NaN</td>\n",
       "    </tr>\n",
       "    <tr>\n",
       "      <th>2</th>\n",
       "      <td>Seq_3_LinJ.01_plus</td>\n",
       "      <td>CTCACCCTCATCCCACCCCTCCTCGTCCATCGACGGGAGTGGGCGG...</td>\n",
       "      <td>NaN</td>\n",
       "    </tr>\n",
       "    <tr>\n",
       "      <th>3</th>\n",
       "      <td>Seq_4_LinJ.01_plus</td>\n",
       "      <td>TGTTTGGTCTTCCGCGTGTCCGTTTTCGCTGCCGCACACTGCGAGG...</td>\n",
       "      <td>NaN</td>\n",
       "    </tr>\n",
       "    <tr>\n",
       "      <th>4</th>\n",
       "      <td>Seq_5_LinJ.01_plus</td>\n",
       "      <td>GAGCGCCGCTGAGCAGGCAAGCGAGGCAACCTACGAAAACATGGCA...</td>\n",
       "      <td>NaN</td>\n",
       "    </tr>\n",
       "  </tbody>\n",
       "</table>\n",
       "</div>"
      ],
      "text/plain": [
       "                    0                                                  1    2\n",
       "0  Seq_1_LinJ.01_plus  GGGGGAGGCGGGGGAGGCGGGGGGCACGCACCTCCATGCGTGGCAT...  NaN\n",
       "1  Seq_2_LinJ.01_plus  GAGGTGGAGGCCGCTCTGCCCCCCCCGCCGCCGAGTGCTGCAGGCA...  NaN\n",
       "2  Seq_3_LinJ.01_plus  CTCACCCTCATCCCACCCCTCCTCGTCCATCGACGGGAGTGGGCGG...  NaN\n",
       "3  Seq_4_LinJ.01_plus  TGTTTGGTCTTCCGCGTGTCCGTTTTCGCTGCCGCACACTGCGAGG...  NaN\n",
       "4  Seq_5_LinJ.01_plus  GAGCGCCGCTGAGCAGGCAAGCGAGGCAACCTACGAAAACATGGCA...  NaN"
      ]
     },
     "execution_count": 20,
     "metadata": {},
     "output_type": "execute_result"
    }
   ],
   "source": [
    "data = pd.read_csv(\"./filtered_data_chr1.csv\", sep=\",\", header=None)\n",
    "rev_data = pd.read_excel(\"./filtered_data_chr1-revJMR.xlsx\"); rev_data.columns = range(rev_data.columns.size)\n",
    "rev_data.head()"
   ]
  },
  {
   "cell_type": "code",
   "execution_count": 18,
   "metadata": {},
   "outputs": [
    {
     "name": "stdout",
     "output_type": "stream",
     "text": [
      "33\n"
     ]
    },
    {
     "data": {
      "text/html": [
       "<div>\n",
       "<style scoped>\n",
       "    .dataframe tbody tr th:only-of-type {\n",
       "        vertical-align: middle;\n",
       "    }\n",
       "\n",
       "    .dataframe tbody tr th {\n",
       "        vertical-align: top;\n",
       "    }\n",
       "\n",
       "    .dataframe thead th {\n",
       "        text-align: right;\n",
       "    }\n",
       "</style>\n",
       "<table border=\"1\" class=\"dataframe\">\n",
       "  <thead>\n",
       "    <tr style=\"text-align: right;\">\n",
       "      <th></th>\n",
       "      <th>0</th>\n",
       "    </tr>\n",
       "  </thead>\n",
       "  <tbody>\n",
       "    <tr>\n",
       "      <th>0</th>\n",
       "      <td>Seq_0_LinJ.01_plus</td>\n",
       "    </tr>\n",
       "    <tr>\n",
       "      <th>1</th>\n",
       "      <td>Seq_1_LinJ.01_plus</td>\n",
       "    </tr>\n",
       "    <tr>\n",
       "      <th>2</th>\n",
       "      <td>Seq_2_LinJ.01_plus</td>\n",
       "    </tr>\n",
       "    <tr>\n",
       "      <th>3</th>\n",
       "      <td>Seq_3_LinJ.01_plus</td>\n",
       "    </tr>\n",
       "    <tr>\n",
       "      <th>4</th>\n",
       "      <td>Seq_4_LinJ.01_plus</td>\n",
       "    </tr>\n",
       "  </tbody>\n",
       "</table>\n",
       "</div>"
      ],
      "text/plain": [
       "                    0\n",
       "0  Seq_0_LinJ.01_plus\n",
       "1  Seq_1_LinJ.01_plus\n",
       "2  Seq_2_LinJ.01_plus\n",
       "3  Seq_3_LinJ.01_plus\n",
       "4  Seq_4_LinJ.01_plus"
      ]
     },
     "execution_count": 18,
     "metadata": {},
     "output_type": "execute_result"
    }
   ],
   "source": [
    "new_column = pd.read_csv(\"./values.csv\", sep=\",\", header=None); print(len(new_column))\n",
    "new_column.head()"
   ]
  },
  {
   "cell_type": "code",
   "execution_count": 21,
   "metadata": {},
   "outputs": [
    {
     "data": {
      "text/html": [
       "<div>\n",
       "<style scoped>\n",
       "    .dataframe tbody tr th:only-of-type {\n",
       "        vertical-align: middle;\n",
       "    }\n",
       "\n",
       "    .dataframe tbody tr th {\n",
       "        vertical-align: top;\n",
       "    }\n",
       "\n",
       "    .dataframe thead th {\n",
       "        text-align: right;\n",
       "    }\n",
       "</style>\n",
       "<table border=\"1\" class=\"dataframe\">\n",
       "  <thead>\n",
       "    <tr style=\"text-align: right;\">\n",
       "      <th></th>\n",
       "      <th>0</th>\n",
       "      <th>1</th>\n",
       "      <th>2</th>\n",
       "      <th>3</th>\n",
       "    </tr>\n",
       "  </thead>\n",
       "  <tbody>\n",
       "    <tr>\n",
       "      <th>0</th>\n",
       "      <td>Seq_1_LinJ.01_plus</td>\n",
       "      <td>Seq_0_LinJ.01_plus</td>\n",
       "      <td>GGGGGAGGCGGGGGAGGCGGGGGGCACGCACCTCCATGCGTGGCAT...</td>\n",
       "      <td>NaN</td>\n",
       "    </tr>\n",
       "    <tr>\n",
       "      <th>1</th>\n",
       "      <td>Seq_2_LinJ.01_plus</td>\n",
       "      <td>Seq_1_LinJ.01_plus</td>\n",
       "      <td>GAGGTGGAGGCCGCTCTGCCCCCCCCGCCGCCGAGTGCTGCAGGCA...</td>\n",
       "      <td>NaN</td>\n",
       "    </tr>\n",
       "    <tr>\n",
       "      <th>2</th>\n",
       "      <td>Seq_3_LinJ.01_plus</td>\n",
       "      <td>Seq_2_LinJ.01_plus</td>\n",
       "      <td>CTCACCCTCATCCCACCCCTCCTCGTCCATCGACGGGAGTGGGCGG...</td>\n",
       "      <td>NaN</td>\n",
       "    </tr>\n",
       "    <tr>\n",
       "      <th>3</th>\n",
       "      <td>Seq_4_LinJ.01_plus</td>\n",
       "      <td>Seq_3_LinJ.01_plus</td>\n",
       "      <td>TGTTTGGTCTTCCGCGTGTCCGTTTTCGCTGCCGCACACTGCGAGG...</td>\n",
       "      <td>NaN</td>\n",
       "    </tr>\n",
       "    <tr>\n",
       "      <th>4</th>\n",
       "      <td>Seq_5_LinJ.01_plus</td>\n",
       "      <td>Seq_4_LinJ.01_plus</td>\n",
       "      <td>GAGCGCCGCTGAGCAGGCAAGCGAGGCAACCTACGAAAACATGGCA...</td>\n",
       "      <td>NaN</td>\n",
       "    </tr>\n",
       "  </tbody>\n",
       "</table>\n",
       "</div>"
      ],
      "text/plain": [
       "                    0                   1  \\\n",
       "0  Seq_1_LinJ.01_plus  Seq_0_LinJ.01_plus   \n",
       "1  Seq_2_LinJ.01_plus  Seq_1_LinJ.01_plus   \n",
       "2  Seq_3_LinJ.01_plus  Seq_2_LinJ.01_plus   \n",
       "3  Seq_4_LinJ.01_plus  Seq_3_LinJ.01_plus   \n",
       "4  Seq_5_LinJ.01_plus  Seq_4_LinJ.01_plus   \n",
       "\n",
       "                                                   2    3  \n",
       "0  GGGGGAGGCGGGGGAGGCGGGGGGCACGCACCTCCATGCGTGGCAT...  NaN  \n",
       "1  GAGGTGGAGGCCGCTCTGCCCCCCCCGCCGCCGAGTGCTGCAGGCA...  NaN  \n",
       "2  CTCACCCTCATCCCACCCCTCCTCGTCCATCGACGGGAGTGGGCGG...  NaN  \n",
       "3  TGTTTGGTCTTCCGCGTGTCCGTTTTCGCTGCCGCACACTGCGAGG...  NaN  \n",
       "4  GAGCGCCGCTGAGCAGGCAAGCGAGGCAACCTACGAAAACATGGCA...  NaN  "
      ]
     },
     "execution_count": 21,
     "metadata": {},
     "output_type": "execute_result"
    }
   ],
   "source": [
    "rev_data.insert(1, \"New_Column\", new_column); rev_data.columns = range(rev_data.columns.size)\n",
    "rev_data.head()"
   ]
  },
  {
   "cell_type": "code",
   "execution_count": 23,
   "metadata": {},
   "outputs": [
    {
     "data": {
      "text/html": [
       "<div>\n",
       "<style scoped>\n",
       "    .dataframe tbody tr th:only-of-type {\n",
       "        vertical-align: middle;\n",
       "    }\n",
       "\n",
       "    .dataframe tbody tr th {\n",
       "        vertical-align: top;\n",
       "    }\n",
       "\n",
       "    .dataframe thead th {\n",
       "        text-align: right;\n",
       "    }\n",
       "</style>\n",
       "<table border=\"1\" class=\"dataframe\">\n",
       "  <thead>\n",
       "    <tr style=\"text-align: right;\">\n",
       "      <th></th>\n",
       "      <th>0</th>\n",
       "      <th>1</th>\n",
       "      <th>2</th>\n",
       "      <th>3</th>\n",
       "    </tr>\n",
       "  </thead>\n",
       "  <tbody>\n",
       "    <tr>\n",
       "      <th>0</th>\n",
       "      <td>Seq_1_LinJ.01_plus</td>\n",
       "      <td>Seq_0_LinJ.01_plus</td>\n",
       "      <td>NaN</td>\n",
       "      <td>GGGGGAGGCGGGGGAGGCGGGGGGCACGCACCTCCATGCGTGGCAT...</td>\n",
       "    </tr>\n",
       "    <tr>\n",
       "      <th>1</th>\n",
       "      <td>Seq_2_LinJ.01_plus</td>\n",
       "      <td>Seq_1_LinJ.01_plus</td>\n",
       "      <td>NaN</td>\n",
       "      <td>GAGGTGGAGGCCGCTCTGCCCCCCCCGCCGCCGAGTGCTGCAGGCA...</td>\n",
       "    </tr>\n",
       "    <tr>\n",
       "      <th>2</th>\n",
       "      <td>Seq_3_LinJ.01_plus</td>\n",
       "      <td>Seq_2_LinJ.01_plus</td>\n",
       "      <td>NaN</td>\n",
       "      <td>CTCACCCTCATCCCACCCCTCCTCGTCCATCGACGGGAGTGGGCGG...</td>\n",
       "    </tr>\n",
       "    <tr>\n",
       "      <th>3</th>\n",
       "      <td>Seq_4_LinJ.01_plus</td>\n",
       "      <td>Seq_3_LinJ.01_plus</td>\n",
       "      <td>NaN</td>\n",
       "      <td>TGTTTGGTCTTCCGCGTGTCCGTTTTCGCTGCCGCACACTGCGAGG...</td>\n",
       "    </tr>\n",
       "    <tr>\n",
       "      <th>4</th>\n",
       "      <td>Seq_5_LinJ.01_plus</td>\n",
       "      <td>Seq_4_LinJ.01_plus</td>\n",
       "      <td>NaN</td>\n",
       "      <td>GAGCGCCGCTGAGCAGGCAAGCGAGGCAACCTACGAAAACATGGCA...</td>\n",
       "    </tr>\n",
       "  </tbody>\n",
       "</table>\n",
       "</div>"
      ],
      "text/plain": [
       "                    0                   1    2  \\\n",
       "0  Seq_1_LinJ.01_plus  Seq_0_LinJ.01_plus  NaN   \n",
       "1  Seq_2_LinJ.01_plus  Seq_1_LinJ.01_plus  NaN   \n",
       "2  Seq_3_LinJ.01_plus  Seq_2_LinJ.01_plus  NaN   \n",
       "3  Seq_4_LinJ.01_plus  Seq_3_LinJ.01_plus  NaN   \n",
       "4  Seq_5_LinJ.01_plus  Seq_4_LinJ.01_plus  NaN   \n",
       "\n",
       "                                                   3  \n",
       "0  GGGGGAGGCGGGGGAGGCGGGGGGCACGCACCTCCATGCGTGGCAT...  \n",
       "1  GAGGTGGAGGCCGCTCTGCCCCCCCCGCCGCCGAGTGCTGCAGGCA...  \n",
       "2  CTCACCCTCATCCCACCCCTCCTCGTCCATCGACGGGAGTGGGCGG...  \n",
       "3  TGTTTGGTCTTCCGCGTGTCCGTTTTCGCTGCCGCACACTGCGAGG...  \n",
       "4  GAGCGCCGCTGAGCAGGCAAGCGAGGCAACCTACGAAAACATGGCA...  "
      ]
     },
     "execution_count": 23,
     "metadata": {},
     "output_type": "execute_result"
    }
   ],
   "source": [
    "rev_data.insert(2, \"New_Column\", rev_data.pop(3)); rev_data.columns = range(rev_data.columns.size)\n",
    "rev_data.head()"
   ]
  },
  {
   "cell_type": "code",
   "execution_count": 24,
   "metadata": {},
   "outputs": [],
   "source": [
    "rev_data.to_csv(\"./adjusted_data_chr1-revJMR.csv\", sep=\",\", header=False, index=False)"
   ]
  }
 ],
 "metadata": {
  "kernelspec": {
   "display_name": "Python 3",
   "language": "python",
   "name": "python3"
  },
  "language_info": {
   "codemirror_mode": {
    "name": "ipython",
    "version": 3
   },
   "file_extension": ".py",
   "mimetype": "text/x-python",
   "name": "python",
   "nbconvert_exporter": "python",
   "pygments_lexer": "ipython3",
   "version": "3.10.12"
  }
 },
 "nbformat": 4,
 "nbformat_minor": 2
}
