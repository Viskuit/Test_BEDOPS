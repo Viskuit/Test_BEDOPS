{
 "cells": [
  {
   "cell_type": "code",
   "execution_count": 1,
   "metadata": {},
   "outputs": [],
   "source": [
    "import pandas as pd\n",
    "import subprocess\n",
    "import os"
   ]
  },
  {
   "cell_type": "markdown",
   "metadata": {},
   "source": [
    "# Consensus vs TP data\n",
    "In this first case we are not going to use the filtering methods"
   ]
  },
  {
   "cell_type": "code",
   "execution_count": 2,
   "metadata": {},
   "outputs": [
    {
     "name": "stdout",
     "output_type": "stream",
     "text": [
      "(1606, 14)\n",
      "qseqid       object\n",
      "sseqid       object\n",
      "pident      float64\n",
      "length        int64\n",
      "qstart        int64\n",
      "qend          int64\n",
      "sstart        int64\n",
      "send          int64\n",
      "evalue      float64\n",
      "bitscore    float64\n",
      "qlen          int64\n",
      "slen          int64\n",
      "sstrand      object\n",
      "sseq         object\n",
      "dtype: object\n"
     ]
    },
    {
     "data": {
      "text/html": [
       "<div>\n",
       "<style scoped>\n",
       "    .dataframe tbody tr th:only-of-type {\n",
       "        vertical-align: middle;\n",
       "    }\n",
       "\n",
       "    .dataframe tbody tr th {\n",
       "        vertical-align: top;\n",
       "    }\n",
       "\n",
       "    .dataframe thead th {\n",
       "        text-align: right;\n",
       "    }\n",
       "</style>\n",
       "<table border=\"1\" class=\"dataframe\">\n",
       "  <thead>\n",
       "    <tr style=\"text-align: right;\">\n",
       "      <th></th>\n",
       "      <th>qseqid</th>\n",
       "      <th>sseqid</th>\n",
       "      <th>pident</th>\n",
       "      <th>length</th>\n",
       "      <th>qstart</th>\n",
       "      <th>qend</th>\n",
       "      <th>sstart</th>\n",
       "      <th>send</th>\n",
       "      <th>evalue</th>\n",
       "      <th>bitscore</th>\n",
       "      <th>qlen</th>\n",
       "      <th>slen</th>\n",
       "      <th>sstrand</th>\n",
       "      <th>sseq</th>\n",
       "    </tr>\n",
       "  </thead>\n",
       "  <tbody>\n",
       "    <tr>\n",
       "      <th>0</th>\n",
       "      <td>1-112979r</td>\n",
       "      <td>LinJ.01</td>\n",
       "      <td>99.614</td>\n",
       "      <td>259</td>\n",
       "      <td>1</td>\n",
       "      <td>259</td>\n",
       "      <td>114017</td>\n",
       "      <td>113760</td>\n",
       "      <td>5.440000e-135</td>\n",
       "      <td>472.0</td>\n",
       "      <td>259</td>\n",
       "      <td>278267</td>\n",
       "      <td>minus</td>\n",
       "      <td>GGGGTGAGGCGGCGGCGCACAGACACACACACACACACACACACGC...</td>\n",
       "    </tr>\n",
       "    <tr>\n",
       "      <th>1</th>\n",
       "      <td>1-129494r</td>\n",
       "      <td>LinJ.01</td>\n",
       "      <td>100.000</td>\n",
       "      <td>447</td>\n",
       "      <td>1</td>\n",
       "      <td>447</td>\n",
       "      <td>130577</td>\n",
       "      <td>130131</td>\n",
       "      <td>0.000000e+00</td>\n",
       "      <td>826.0</td>\n",
       "      <td>447</td>\n",
       "      <td>278267</td>\n",
       "      <td>minus</td>\n",
       "      <td>TGATGACGGGGCGGCGGCGCACAGACACACACACACACACACACAC...</td>\n",
       "    </tr>\n",
       "    <tr>\n",
       "      <th>2</th>\n",
       "      <td>1-136422d</td>\n",
       "      <td>LinJ.01</td>\n",
       "      <td>100.000</td>\n",
       "      <td>461</td>\n",
       "      <td>1</td>\n",
       "      <td>461</td>\n",
       "      <td>137458</td>\n",
       "      <td>137918</td>\n",
       "      <td>0.000000e+00</td>\n",
       "      <td>852.0</td>\n",
       "      <td>461</td>\n",
       "      <td>278267</td>\n",
       "      <td>plus</td>\n",
       "      <td>TGACGACGGGGTGGGGCGGCGGCGCACAGACACACACACACACACA...</td>\n",
       "    </tr>\n",
       "    <tr>\n",
       "      <th>3</th>\n",
       "      <td>1-204526d</td>\n",
       "      <td>LinJ.01</td>\n",
       "      <td>100.000</td>\n",
       "      <td>432</td>\n",
       "      <td>1</td>\n",
       "      <td>432</td>\n",
       "      <td>205558</td>\n",
       "      <td>205989</td>\n",
       "      <td>0.000000e+00</td>\n",
       "      <td>798.0</td>\n",
       "      <td>432</td>\n",
       "      <td>278267</td>\n",
       "      <td>plus</td>\n",
       "      <td>GATGACGGGGTGGGGCGGCGGCGCACACACACACACGCACACACCT...</td>\n",
       "    </tr>\n",
       "    <tr>\n",
       "      <th>4</th>\n",
       "      <td>1-24471d</td>\n",
       "      <td>LinJ.01</td>\n",
       "      <td>100.000</td>\n",
       "      <td>660</td>\n",
       "      <td>1</td>\n",
       "      <td>660</td>\n",
       "      <td>24099</td>\n",
       "      <td>24758</td>\n",
       "      <td>0.000000e+00</td>\n",
       "      <td>1219.0</td>\n",
       "      <td>660</td>\n",
       "      <td>278267</td>\n",
       "      <td>plus</td>\n",
       "      <td>GGCGGGGGAGGCGGGGGGCACGCACCTCCATGCGTGGCATCCCAGG...</td>\n",
       "    </tr>\n",
       "  </tbody>\n",
       "</table>\n",
       "</div>"
      ],
      "text/plain": [
       "      qseqid   sseqid   pident  length  qstart  qend  sstart    send  \\\n",
       "0  1-112979r  LinJ.01   99.614     259       1   259  114017  113760   \n",
       "1  1-129494r  LinJ.01  100.000     447       1   447  130577  130131   \n",
       "2  1-136422d  LinJ.01  100.000     461       1   461  137458  137918   \n",
       "3  1-204526d  LinJ.01  100.000     432       1   432  205558  205989   \n",
       "4   1-24471d  LinJ.01  100.000     660       1   660   24099   24758   \n",
       "\n",
       "          evalue  bitscore  qlen    slen sstrand  \\\n",
       "0  5.440000e-135     472.0   259  278267   minus   \n",
       "1   0.000000e+00     826.0   447  278267   minus   \n",
       "2   0.000000e+00     852.0   461  278267    plus   \n",
       "3   0.000000e+00     798.0   432  278267    plus   \n",
       "4   0.000000e+00    1219.0   660  278267    plus   \n",
       "\n",
       "                                                sseq  \n",
       "0  GGGGTGAGGCGGCGGCGCACAGACACACACACACACACACACACGC...  \n",
       "1  TGATGACGGGGCGGCGGCGCACAGACACACACACACACACACACAC...  \n",
       "2  TGACGACGGGGTGGGGCGGCGGCGCACAGACACACACACACACACA...  \n",
       "3  GATGACGGGGTGGGGCGGCGGCGCACACACACACACGCACACACCT...  \n",
       "4  GGCGGGGGAGGCGGGGGGCACGCACCTCCATGCGTGGCATCCCAGG...  "
      ]
     },
     "execution_count": 2,
     "metadata": {},
     "output_type": "execute_result"
    }
   ],
   "source": [
    "# Load TP data\n",
    "TP_data = pd.read_csv(\"./data/TP_SIDERs_coor.csv\", sep=\",\", header=0)\n",
    "print(TP_data.shape)\n",
    "print(TP_data.dtypes)\n",
    "TP_data.head()"
   ]
  },
  {
   "cell_type": "code",
   "execution_count": 3,
   "metadata": {},
   "outputs": [
    {
     "data": {
      "text/plain": [
       "787"
      ]
     },
     "execution_count": 3,
     "metadata": {},
     "output_type": "execute_result"
    }
   ],
   "source": [
    "# Check if \"sstart\" > \"send\"\n",
    "sum(TP_data[\"sstart\"] > TP_data[\"send\"])"
   ]
  },
  {
   "cell_type": "code",
   "execution_count": 5,
   "metadata": {},
   "outputs": [],
   "source": [
    "# Let's correct it\n",
    "TP_data.loc[TP_data[\"sstrand\"] == \"minus\", [\"sstart\", \"send\"]] = TP_data.loc[TP_data[\"sstrand\"] == \"minus\", [\"send\", \"sstart\"]].values"
   ]
  },
  {
   "cell_type": "code",
   "execution_count": 6,
   "metadata": {},
   "outputs": [
    {
     "data": {
      "text/plain": [
       "0"
      ]
     },
     "execution_count": 6,
     "metadata": {},
     "output_type": "execute_result"
    }
   ],
   "source": [
    "# Check if \"sstart\" > \"send\", there should be 0\n",
    "sum(TP_data[\"sstart\"] > TP_data[\"send\"])"
   ]
  },
  {
   "cell_type": "code",
   "execution_count": 7,
   "metadata": {},
   "outputs": [
    {
     "name": "stdout",
     "output_type": "stream",
     "text": [
      "(2940, 6)\n",
      "sseqid     object\n",
      "length      int64\n",
      "sstart      int64\n",
      "send        int64\n",
      "sstrand    object\n",
      "sseq       object\n",
      "dtype: object\n"
     ]
    },
    {
     "data": {
      "text/html": [
       "<div>\n",
       "<style scoped>\n",
       "    .dataframe tbody tr th:only-of-type {\n",
       "        vertical-align: middle;\n",
       "    }\n",
       "\n",
       "    .dataframe tbody tr th {\n",
       "        vertical-align: top;\n",
       "    }\n",
       "\n",
       "    .dataframe thead th {\n",
       "        text-align: right;\n",
       "    }\n",
       "</style>\n",
       "<table border=\"1\" class=\"dataframe\">\n",
       "  <thead>\n",
       "    <tr style=\"text-align: right;\">\n",
       "      <th></th>\n",
       "      <th>sseqid</th>\n",
       "      <th>length</th>\n",
       "      <th>sstart</th>\n",
       "      <th>send</th>\n",
       "      <th>sstrand</th>\n",
       "      <th>sseq</th>\n",
       "    </tr>\n",
       "  </thead>\n",
       "  <tbody>\n",
       "    <tr>\n",
       "      <th>0</th>\n",
       "      <td>LinJ.01</td>\n",
       "      <td>1000</td>\n",
       "      <td>1</td>\n",
       "      <td>1000</td>\n",
       "      <td>plus</td>\n",
       "      <td>ACACCAGTACACCAGTACACCAGTACACCAGTACACCAGTACACCA...</td>\n",
       "    </tr>\n",
       "    <tr>\n",
       "      <th>1</th>\n",
       "      <td>LinJ.01</td>\n",
       "      <td>882</td>\n",
       "      <td>24199</td>\n",
       "      <td>25080</td>\n",
       "      <td>plus</td>\n",
       "      <td>CCCCCTCACCCTCTATCCCTGCCAACGCCGAACCACTTCTGGTGCT...</td>\n",
       "    </tr>\n",
       "    <tr>\n",
       "      <th>2</th>\n",
       "      <td>LinJ.01</td>\n",
       "      <td>890</td>\n",
       "      <td>35374</td>\n",
       "      <td>36263</td>\n",
       "      <td>plus</td>\n",
       "      <td>CCCATCGCCTGGTGCGAAGCAGCGCAAGACACACGCGCGCTGCAGC...</td>\n",
       "    </tr>\n",
       "    <tr>\n",
       "      <th>3</th>\n",
       "      <td>LinJ.01</td>\n",
       "      <td>777</td>\n",
       "      <td>39819</td>\n",
       "      <td>40595</td>\n",
       "      <td>plus</td>\n",
       "      <td>CGCACGCACAGCCACAGCTCACCTGGCACTCTGTTGCACGGCGGCT...</td>\n",
       "    </tr>\n",
       "    <tr>\n",
       "      <th>4</th>\n",
       "      <td>LinJ.01</td>\n",
       "      <td>890</td>\n",
       "      <td>54986</td>\n",
       "      <td>55875</td>\n",
       "      <td>plus</td>\n",
       "      <td>CTCATCGCCTGGTGCGAAGCAGCGCAAGACACACGCGCGCTGCAGC...</td>\n",
       "    </tr>\n",
       "  </tbody>\n",
       "</table>\n",
       "</div>"
      ],
      "text/plain": [
       "    sseqid  length  sstart   send sstrand  \\\n",
       "0  LinJ.01    1000       1   1000    plus   \n",
       "1  LinJ.01     882   24199  25080    plus   \n",
       "2  LinJ.01     890   35374  36263    plus   \n",
       "3  LinJ.01     777   39819  40595    plus   \n",
       "4  LinJ.01     890   54986  55875    plus   \n",
       "\n",
       "                                                sseq  \n",
       "0  ACACCAGTACACCAGTACACCAGTACACCAGTACACCAGTACACCA...  \n",
       "1  CCCCCTCACCCTCTATCCCTGCCAACGCCGAACCACTTCTGGTGCT...  \n",
       "2  CCCATCGCCTGGTGCGAAGCAGCGCAAGACACACGCGCGCTGCAGC...  \n",
       "3  CGCACGCACAGCCACAGCTCACCTGGCACTCTGTTGCACGGCGGCT...  \n",
       "4  CTCATCGCCTGGTGCGAAGCAGCGCAAGACACACGCGCGCTGCAGC...  "
      ]
     },
     "execution_count": 7,
     "metadata": {},
     "output_type": "execute_result"
    }
   ],
   "source": [
    "# Load consensus data\n",
    "consensus_data = pd.read_csv(\"./data_software_output/consensus_data_seqs.csv\", sep=\",\", header=0)\n",
    "print(consensus_data.shape)\n",
    "print(consensus_data.dtypes)\n",
    "consensus_data.head()"
   ]
  },
  {
   "cell_type": "code",
   "execution_count": 11,
   "metadata": {},
   "outputs": [
    {
     "data": {
      "text/plain": [
       "0"
      ]
     },
     "execution_count": 11,
     "metadata": {},
     "output_type": "execute_result"
    }
   ],
   "source": [
    "# Check in consensus data if there are rows with \"sstart\" > \"send\"\n",
    "sum(consensus_data[\"sstart\"] > consensus_data[\"send\"])"
   ]
  },
  {
   "cell_type": "code",
   "execution_count": 12,
   "metadata": {},
   "outputs": [],
   "source": [
    "# Group data by chromosomes\n",
    "TP_data_grouped = TP_data.groupby(\"sseqid\")\n",
    "consensus_data_grouped = consensus_data.groupby(\"sseqid\")"
   ]
  },
  {
   "cell_type": "code",
   "execution_count": 19,
   "metadata": {},
   "outputs": [
    {
     "name": "stdout",
     "output_type": "stream",
     "text": [
      "\n",
      "There are 1595 TP sequences of 1606 in consensus data:\n",
      "    - That's 99.32% of the TP data\n",
      "    - 11 TP sequences are not in consensus data, which is 0.68%\n",
      "\n"
     ]
    },
    {
     "data": {
      "text/plain": [
       "{'LinJ.01': ['7/7', '100.00'],\n",
       " 'LinJ.02': ['18/18', '100.00'],\n",
       " 'LinJ.03': ['6/8', '75.00'],\n",
       " 'LinJ.04': ['18/18', '100.00'],\n",
       " 'LinJ.05': ['18/18', '100.00'],\n",
       " 'LinJ.06': ['22/22', '100.00'],\n",
       " 'LinJ.07': ['27/27', '100.00'],\n",
       " 'LinJ.08': ['18/18', '100.00'],\n",
       " 'LinJ.09': ['21/21', '100.00'],\n",
       " 'LinJ.10': ['26/26', '100.00'],\n",
       " 'LinJ.11': ['39/39', '100.00'],\n",
       " 'LinJ.12': ['36/36', '100.00'],\n",
       " 'LinJ.13': ['22/22', '100.00'],\n",
       " 'LinJ.14': ['66/66', '100.00'],\n",
       " 'LinJ.15': ['25/25', '100.00'],\n",
       " 'LinJ.16': ['34/34', '100.00'],\n",
       " 'LinJ.17': ['34/34', '100.00'],\n",
       " 'LinJ.18': ['30/30', '100.00'],\n",
       " 'LinJ.19': ['40/40', '100.00'],\n",
       " 'LinJ.20': ['35/37', '94.59'],\n",
       " 'LinJ.21': ['38/39', '97.44'],\n",
       " 'LinJ.22': ['27/27', '100.00'],\n",
       " 'LinJ.23': ['60/60', '100.00'],\n",
       " 'LinJ.24': ['55/57', '96.49'],\n",
       " 'LinJ.25': ['41/42', '97.62'],\n",
       " 'LinJ.26': ['45/45', '100.00'],\n",
       " 'LinJ.27': ['63/63', '100.00'],\n",
       " 'LinJ.28': ['46/46', '100.00'],\n",
       " 'LinJ.29': ['74/74', '100.00'],\n",
       " 'LinJ.30': ['71/71', '100.00'],\n",
       " 'LinJ.31': ['80/80', '100.00'],\n",
       " 'LinJ.32': ['67/69', '97.10'],\n",
       " 'LinJ.33': ['85/85', '100.00'],\n",
       " 'LinJ.34': ['96/96', '100.00'],\n",
       " 'LinJ.35': ['109/110', '99.09'],\n",
       " 'LinJ.36': ['96/96', '100.00']}"
      ]
     },
     "execution_count": 19,
     "metadata": {},
     "output_type": "execute_result"
    }
   ],
   "source": [
    "path_1 = \"./compare/consensus_vs_TP\"\n",
    "compare_dict_1 = {}\n",
    "Total = 0\n",
    "for (name1, group1), (name2, group2) in zip(TP_data_grouped, consensus_data_grouped):\n",
    "    # group1 should be the TP data\n",
    "    # ------------------------------------------------------------------------------\n",
    "    path_chr = os.path.join(path_1, name1)\n",
    "    os.makedirs(path_chr, exist_ok=True)\n",
    "    # ------------------------------------------------------------------------------\n",
    "    group1_total = group1[[\"sseqid\", \"sstart\", \"send\"]].copy()\n",
    "    group2_total = group2[[\"sseqid\", \"sstart\", \"send\"]].copy()\n",
    "    # ------------------------------------------------------------------------------\n",
    "    group1_total.sort_values(by=[\"sstart\", \"send\"], inplace=True)\n",
    "    group2_total.sort_values(by=[\"sstart\", \"send\"], inplace=True)\n",
    "    # ------------------------------------------------------------------------------\n",
    "    path_group1_total = os.path.join(path_chr, \"group1_total.bed\")\n",
    "    path_group2_total = os.path.join(path_chr, \"group2_total.bed\")\n",
    "    # ------------------------------------------------------------------------------\n",
    "    group1_total.to_csv(path_group1_total, sep=\"\\t\", header=False, index=False)  # tabular sep because of bed format\n",
    "    group2_total.to_csv(path_group2_total, sep=\"\\t\", header=False, index=False)  # tabular sep because of bed format\n",
    "\n",
    "    # ------------------------------------------------------------------------------\n",
    "    condition = 1\n",
    "    cmd = f\"bedops --element-of {condition} {path_group1_total} {path_group2_total}\"\n",
    "    result = subprocess.check_output(cmd, shell=True, universal_newlines=True)\n",
    "    result_df = pd.DataFrame([x.split(\"\\t\") for x in result.split(\"\\n\") if x], \n",
    "                                columns=[\"sseqid\", \"sstart\", \"send\"])\n",
    "    result_df[['sstart', 'send']] = result_df[['sstart', 'send']].apply(pd.to_numeric)\n",
    "    compare_dict_1[name1] = [f\"{result_df.shape[0]}/{group1_total.shape[0]}\", f\"{result_df.shape[0]/group1_total.shape[0]*100:.2f}\"]\n",
    "    Total += result_df.shape[0]\n",
    "print(f\"\"\"\n",
    "There are {Total} TP sequences of {TP_data.shape[0]} in consensus data:\n",
    "    - That's {Total/TP_data.shape[0]*100:.2f}% of the TP data\n",
    "    - {TP_data.shape[0]-Total} TP sequences are not in consensus data, which is {100-Total/TP_data.shape[0]*100:.2f}%\n",
    "\"\"\"\n",
    ")\n",
    "compare_dict_1"
   ]
  },
  {
   "cell_type": "markdown",
   "metadata": {},
   "source": [
    "# Consensus vs 32 chr data"
   ]
  },
  {
   "cell_type": "markdown",
   "metadata": {},
   "source": [
    "From here we need the filtering methods:\n",
    "\n",
    "1. Use `3.1.SIDERs_filter.py`file\n",
    "2. Filter the data from the consensus software.\n",
    "3. Keep with this script"
   ]
  },
  {
   "cell_type": "code",
   "execution_count": 26,
   "metadata": {},
   "outputs": [
    {
     "name": "stdout",
     "output_type": "stream",
     "text": [
      "(2184, 6)\n",
      "sseqid     object\n",
      "length      int64\n",
      "sstart      int64\n",
      "send        int64\n",
      "sstrand    object\n",
      "sseq       object\n",
      "dtype: object\n"
     ]
    },
    {
     "data": {
      "text/html": [
       "<div>\n",
       "<style scoped>\n",
       "    .dataframe tbody tr th:only-of-type {\n",
       "        vertical-align: middle;\n",
       "    }\n",
       "\n",
       "    .dataframe tbody tr th {\n",
       "        vertical-align: top;\n",
       "    }\n",
       "\n",
       "    .dataframe thead th {\n",
       "        text-align: right;\n",
       "    }\n",
       "</style>\n",
       "<table border=\"1\" class=\"dataframe\">\n",
       "  <thead>\n",
       "    <tr style=\"text-align: right;\">\n",
       "      <th></th>\n",
       "      <th>sseqid</th>\n",
       "      <th>length</th>\n",
       "      <th>sstart</th>\n",
       "      <th>send</th>\n",
       "      <th>sstrand</th>\n",
       "      <th>sseq</th>\n",
       "    </tr>\n",
       "  </thead>\n",
       "  <tbody>\n",
       "    <tr>\n",
       "      <th>0</th>\n",
       "      <td>LinJ.01</td>\n",
       "      <td>1000</td>\n",
       "      <td>1</td>\n",
       "      <td>1000</td>\n",
       "      <td>plus</td>\n",
       "      <td>ACACCAGTACACCAGTACACCAGTACACCAGTACACCAGTACACCA...</td>\n",
       "    </tr>\n",
       "    <tr>\n",
       "      <th>1</th>\n",
       "      <td>LinJ.01</td>\n",
       "      <td>669</td>\n",
       "      <td>24199</td>\n",
       "      <td>24867</td>\n",
       "      <td>plus</td>\n",
       "      <td>CCCCCTCACCCTCTATCCCTGCCAACGCCGAACCACTTCTGGTGCT...</td>\n",
       "    </tr>\n",
       "    <tr>\n",
       "      <th>2</th>\n",
       "      <td>LinJ.01</td>\n",
       "      <td>926</td>\n",
       "      <td>35374</td>\n",
       "      <td>36299</td>\n",
       "      <td>plus</td>\n",
       "      <td>CCCATCGCCTGGTGCGAAGCAGCGCAAGACACACGCGCGCTGCAGC...</td>\n",
       "    </tr>\n",
       "    <tr>\n",
       "      <th>3</th>\n",
       "      <td>LinJ.01</td>\n",
       "      <td>1128</td>\n",
       "      <td>39790</td>\n",
       "      <td>40917</td>\n",
       "      <td>plus</td>\n",
       "      <td>ATTCTACCGCGAGCAAGGCAGCACACAGACGCACGCACAGCCACAG...</td>\n",
       "    </tr>\n",
       "    <tr>\n",
       "      <th>4</th>\n",
       "      <td>LinJ.01</td>\n",
       "      <td>926</td>\n",
       "      <td>54986</td>\n",
       "      <td>55911</td>\n",
       "      <td>plus</td>\n",
       "      <td>CTCATCGCCTGGTGCGAAGCAGCGCAAGACACACGCGCGCTGCAGC...</td>\n",
       "    </tr>\n",
       "  </tbody>\n",
       "</table>\n",
       "</div>"
      ],
      "text/plain": [
       "    sseqid  length  sstart   send sstrand  \\\n",
       "0  LinJ.01    1000       1   1000    plus   \n",
       "1  LinJ.01     669   24199  24867    plus   \n",
       "2  LinJ.01     926   35374  36299    plus   \n",
       "3  LinJ.01    1128   39790  40917    plus   \n",
       "4  LinJ.01     926   54986  55911    plus   \n",
       "\n",
       "                                                sseq  \n",
       "0  ACACCAGTACACCAGTACACCAGTACACCAGTACACCAGTACACCA...  \n",
       "1  CCCCCTCACCCTCTATCCCTGCCAACGCCGAACCACTTCTGGTGCT...  \n",
       "2  CCCATCGCCTGGTGCGAAGCAGCGCAAGACACACGCGCGCTGCAGC...  \n",
       "3  ATTCTACCGCGAGCAAGGCAGCACACAGACGCACGCACAGCCACAG...  \n",
       "4  CTCATCGCCTGGTGCGAAGCAGCGCAAGACACACGCGCGCTGCAGC...  "
      ]
     },
     "execution_count": 26,
     "metadata": {},
     "output_type": "execute_result"
    }
   ],
   "source": [
    "# Let's loead the data from the 32 chr\n",
    "chr32_positive_data = pd.read_csv(\"../14.From_all_to_real_SIDERs/data//4.SIDERs_filter_32chr/positives_testing_elements.csv\", sep=\",\", header=None)\n",
    "chr32_positive_data.columns = [\"sseqid\", \"length\", \"sstart\", \"send\", \"sstrand\", \"sseq\"]\n",
    "print(chr32_positive_data.shape)\n",
    "print(chr32_positive_data.dtypes)\n",
    "chr32_positive_data.head()"
   ]
  },
  {
   "cell_type": "code",
   "execution_count": 27,
   "metadata": {},
   "outputs": [
    {
     "name": "stdout",
     "output_type": "stream",
     "text": [
      "(2128, 6)\n",
      "sseqid     object\n",
      "length      int64\n",
      "sstart      int64\n",
      "send        int64\n",
      "sstrand    object\n",
      "sseq       object\n",
      "dtype: object\n"
     ]
    },
    {
     "data": {
      "text/html": [
       "<div>\n",
       "<style scoped>\n",
       "    .dataframe tbody tr th:only-of-type {\n",
       "        vertical-align: middle;\n",
       "    }\n",
       "\n",
       "    .dataframe tbody tr th {\n",
       "        vertical-align: top;\n",
       "    }\n",
       "\n",
       "    .dataframe thead th {\n",
       "        text-align: right;\n",
       "    }\n",
       "</style>\n",
       "<table border=\"1\" class=\"dataframe\">\n",
       "  <thead>\n",
       "    <tr style=\"text-align: right;\">\n",
       "      <th></th>\n",
       "      <th>sseqid</th>\n",
       "      <th>length</th>\n",
       "      <th>sstart</th>\n",
       "      <th>send</th>\n",
       "      <th>sstrand</th>\n",
       "      <th>sseq</th>\n",
       "    </tr>\n",
       "  </thead>\n",
       "  <tbody>\n",
       "    <tr>\n",
       "      <th>0</th>\n",
       "      <td>LinJ.01</td>\n",
       "      <td>1000</td>\n",
       "      <td>1</td>\n",
       "      <td>1000</td>\n",
       "      <td>plus</td>\n",
       "      <td>ACACCAGTACACCAGTACACCAGTACACCAGTACACCAGTACACCA...</td>\n",
       "    </tr>\n",
       "    <tr>\n",
       "      <th>1</th>\n",
       "      <td>LinJ.01</td>\n",
       "      <td>882</td>\n",
       "      <td>24199</td>\n",
       "      <td>25080</td>\n",
       "      <td>plus</td>\n",
       "      <td>CCCCCTCACCCTCTATCCCTGCCAACGCCGAACCACTTCTGGTGCT...</td>\n",
       "    </tr>\n",
       "    <tr>\n",
       "      <th>2</th>\n",
       "      <td>LinJ.01</td>\n",
       "      <td>890</td>\n",
       "      <td>35374</td>\n",
       "      <td>36263</td>\n",
       "      <td>plus</td>\n",
       "      <td>CCCATCGCCTGGTGCGAAGCAGCGCAAGACACACGCGCGCTGCAGC...</td>\n",
       "    </tr>\n",
       "    <tr>\n",
       "      <th>3</th>\n",
       "      <td>LinJ.01</td>\n",
       "      <td>777</td>\n",
       "      <td>39819</td>\n",
       "      <td>40595</td>\n",
       "      <td>plus</td>\n",
       "      <td>CGCACGCACAGCCACAGCTCACCTGGCACTCTGTTGCACGGCGGCT...</td>\n",
       "    </tr>\n",
       "    <tr>\n",
       "      <th>4</th>\n",
       "      <td>LinJ.01</td>\n",
       "      <td>890</td>\n",
       "      <td>54986</td>\n",
       "      <td>55875</td>\n",
       "      <td>plus</td>\n",
       "      <td>CTCATCGCCTGGTGCGAAGCAGCGCAAGACACACGCGCGCTGCAGC...</td>\n",
       "    </tr>\n",
       "  </tbody>\n",
       "</table>\n",
       "</div>"
      ],
      "text/plain": [
       "    sseqid  length  sstart   send sstrand  \\\n",
       "0  LinJ.01    1000       1   1000    plus   \n",
       "1  LinJ.01     882   24199  25080    plus   \n",
       "2  LinJ.01     890   35374  36263    plus   \n",
       "3  LinJ.01     777   39819  40595    plus   \n",
       "4  LinJ.01     890   54986  55875    plus   \n",
       "\n",
       "                                                sseq  \n",
       "0  ACACCAGTACACCAGTACACCAGTACACCAGTACACCAGTACACCA...  \n",
       "1  CCCCCTCACCCTCTATCCCTGCCAACGCCGAACCACTTCTGGTGCT...  \n",
       "2  CCCATCGCCTGGTGCGAAGCAGCGCAAGACACACGCGCGCTGCAGC...  \n",
       "3  CGCACGCACAGCCACAGCTCACCTGGCACTCTGTTGCACGGCGGCT...  \n",
       "4  CTCATCGCCTGGTGCGAAGCAGCGCAAGACACACGCGCGCTGCAGC...  "
      ]
     },
     "execution_count": 27,
     "metadata": {},
     "output_type": "execute_result"
    }
   ],
   "source": [
    "# Load the positive after the filter data from consensus sequences\n",
    "consensus_positive_data = pd.read_csv(\"./data_software_output/positives_testing_elements.csv\", sep=\",\", header=0)\n",
    "print(consensus_positive_data.shape)\n",
    "print(consensus_positive_data.dtypes)\n",
    "consensus_positive_data.head()"
   ]
  },
  {
   "cell_type": "code",
   "execution_count": 28,
   "metadata": {},
   "outputs": [],
   "source": [
    "# Let's group it\n",
    "chr32_positive_data_grouped = chr32_positive_data.groupby(\"sseqid\")\n",
    "consensus_positive_data_grouped = consensus_positive_data.groupby(\"sseqid\")"
   ]
  },
  {
   "cell_type": "code",
   "execution_count": 29,
   "metadata": {},
   "outputs": [],
   "source": [
    "# Prepare path\n",
    "path_2 = \"./compare/consensus_vs_32chr\"\n",
    "os.makedirs(path_2, exist_ok=True)"
   ]
  },
  {
   "cell_type": "code",
   "execution_count": 61,
   "metadata": {},
   "outputs": [],
   "source": [
    "# Let's define the function since it seems that we will use it more than once\n",
    "def compare_sequences(df_group1, df_group2, df_group1_og_data, path):\n",
    "    compare_dict = {}\n",
    "    Total = 0\n",
    "    for (name1, group1), (name2, group2) in zip(df_group1, df_group2):\n",
    "        # group1 should be the TP data\n",
    "        # ------------------------------------------------------------------------------\n",
    "        path_chr = os.path.join(path_1, name1)\n",
    "        os.makedirs(path_chr, exist_ok=True)\n",
    "        # ------------------------------------------------------------------------------\n",
    "        group1_total = group1[[\"sseqid\", \"sstart\", \"send\"]].copy()\n",
    "        group2_total = group2[[\"sseqid\", \"sstart\", \"send\"]].copy()\n",
    "        # ------------------------------------------------------------------------------\n",
    "        group1_total.sort_values(by=[\"sstart\", \"send\"], inplace=True)\n",
    "        group2_total.sort_values(by=[\"sstart\", \"send\"], inplace=True)\n",
    "        # ------------------------------------------------------------------------------\n",
    "        path_group1_total = os.path.join(path_chr, \"group1_total.bed\")\n",
    "        path_group2_total = os.path.join(path_chr, \"group2_total.bed\")\n",
    "        # ------------------------------------------------------------------------------\n",
    "        group1_total.to_csv(path_group1_total, sep=\"\\t\", header=False, index=False)  # tabular sep because of bed format\n",
    "        group2_total.to_csv(path_group2_total, sep=\"\\t\", header=False, index=False)  # tabular sep because of bed format\n",
    "\n",
    "        # ------------------------------------------------------------------------------\n",
    "        condition = 1\n",
    "        cmd = f\"bedops --element-of {condition} {path_group1_total} {path_group2_total}\"\n",
    "        result = subprocess.check_output(cmd, shell=True, universal_newlines=True)\n",
    "        result_df = pd.DataFrame([x.split(\"\\t\") for x in result.split(\"\\n\") if x], \n",
    "                                    columns=[\"sseqid\", \"sstart\", \"send\"])\n",
    "        result_df[['sstart', 'send']] = result_df[['sstart', 'send']].apply(pd.to_numeric)\n",
    "        compare_dict[name1] = [f\"{result_df.shape[0]}/{group1_total.shape[0]}\", f\"{result_df.shape[0]/group1_total.shape[0]*100:.2f}\"]\n",
    "        Total += result_df.shape[0]\n",
    "    print(f\"\"\"\n",
    "    There are {Total} first DF sequences of {df_group1_og_data.shape[0]} in the second DF:\n",
    "        - That's {Total/df_group1_og_data.shape[0]*100:.2f}% of the TP data\n",
    "        - {df_group1_og_data.shape[0]-Total} TP sequences are not in consensus data, which is {100-Total/df_group1_og_data.shape[0]*100:.2f}%\n",
    "    \"\"\"\n",
    "    )\n",
    "    return compare_dict"
   ]
  },
  {
   "cell_type": "code",
   "execution_count": 64,
   "metadata": {},
   "outputs": [
    {
     "name": "stdout",
     "output_type": "stream",
     "text": [
      "\n",
      "    There are 2167 first DF sequences of 2184 in the second DF:\n",
      "        - That's 99.22% of the TP data\n",
      "        - 17 TP sequences are not in consensus data, which is 0.78%\n",
      "    \n"
     ]
    },
    {
     "data": {
      "text/plain": [
       "{'LinJ.01': ['13/13', '100.00'],\n",
       " 'LinJ.02': ['14/16', '87.50'],\n",
       " 'LinJ.03': ['6/8', '75.00'],\n",
       " 'LinJ.04': ['12/12', '100.00'],\n",
       " 'LinJ.05': ['21/22', '95.45'],\n",
       " 'LinJ.06': ['28/28', '100.00'],\n",
       " 'LinJ.07': ['32/32', '100.00'],\n",
       " 'LinJ.08': ['38/38', '100.00'],\n",
       " 'LinJ.09': ['33/33', '100.00'],\n",
       " 'LinJ.10': ['44/44', '100.00'],\n",
       " 'LinJ.11': ['42/42', '100.00'],\n",
       " 'LinJ.12': ['47/47', '100.00'],\n",
       " 'LinJ.13': ['32/33', '96.97'],\n",
       " 'LinJ.14': ['43/43', '100.00'],\n",
       " 'LinJ.15': ['27/27', '100.00'],\n",
       " 'LinJ.16': ['38/38', '100.00'],\n",
       " 'LinJ.17': ['50/50', '100.00'],\n",
       " 'LinJ.18': ['59/59', '100.00'],\n",
       " 'LinJ.19': ['58/58', '100.00'],\n",
       " 'LinJ.20': ['49/49', '100.00'],\n",
       " 'LinJ.21': ['42/42', '100.00'],\n",
       " 'LinJ.22': ['62/62', '100.00'],\n",
       " 'LinJ.23': ['75/76', '98.68'],\n",
       " 'LinJ.24': ['54/54', '100.00'],\n",
       " 'LinJ.25': ['41/41', '100.00'],\n",
       " 'LinJ.26': ['52/53', '98.11'],\n",
       " 'LinJ.27': ['79/79', '100.00'],\n",
       " 'LinJ.28': ['59/59', '100.00'],\n",
       " 'LinJ.29': ['123/127', '96.85'],\n",
       " 'LinJ.30': ['106/106', '100.00'],\n",
       " 'LinJ.31': ['115/115', '100.00'],\n",
       " 'LinJ.32': ['95/95', '100.00'],\n",
       " 'LinJ.33': ['114/116', '98.28'],\n",
       " 'LinJ.34': ['159/159', '100.00'],\n",
       " 'LinJ.35': ['143/145', '98.62'],\n",
       " 'LinJ.36': ['162/163', '99.39']}"
      ]
     },
     "execution_count": 64,
     "metadata": {},
     "output_type": "execute_result"
    }
   ],
   "source": [
    "consensus_vs_32chr = compare_sequences(df_group1=chr32_positive_data_grouped,  # compare if this data is inside.\n",
    "                                       df_group2=consensus_positive_data_grouped,  # ... this data\n",
    "                                       df_group1_og_data=chr32_positive_data,  # ... and this is the original data\n",
    "                                       path=path_2)\n",
    "consensus_vs_32chr"
   ]
  },
  {
   "cell_type": "markdown",
   "metadata": {},
   "source": [
    "# Consensus + LmSIDERs vs TP data"
   ]
  },
  {
   "cell_type": "code",
   "execution_count": 36,
   "metadata": {},
   "outputs": [
    {
     "name": "stdout",
     "output_type": "stream",
     "text": [
      "(2951, 6)\n",
      "sseqid     object\n",
      "length      int64\n",
      "sstart      int64\n",
      "send        int64\n",
      "sstrand    object\n",
      "sseq       object\n",
      "dtype: object\n"
     ]
    },
    {
     "data": {
      "text/html": [
       "<div>\n",
       "<style scoped>\n",
       "    .dataframe tbody tr th:only-of-type {\n",
       "        vertical-align: middle;\n",
       "    }\n",
       "\n",
       "    .dataframe tbody tr th {\n",
       "        vertical-align: top;\n",
       "    }\n",
       "\n",
       "    .dataframe thead th {\n",
       "        text-align: right;\n",
       "    }\n",
       "</style>\n",
       "<table border=\"1\" class=\"dataframe\">\n",
       "  <thead>\n",
       "    <tr style=\"text-align: right;\">\n",
       "      <th></th>\n",
       "      <th>sseqid</th>\n",
       "      <th>length</th>\n",
       "      <th>sstart</th>\n",
       "      <th>send</th>\n",
       "      <th>sstrand</th>\n",
       "      <th>sseq</th>\n",
       "    </tr>\n",
       "  </thead>\n",
       "  <tbody>\n",
       "    <tr>\n",
       "      <th>0</th>\n",
       "      <td>LinJ.01</td>\n",
       "      <td>1000</td>\n",
       "      <td>1</td>\n",
       "      <td>1000</td>\n",
       "      <td>plus</td>\n",
       "      <td>ACACCAGTACACCAGTACACCAGTACACCAGTACACCAGTACACCA...</td>\n",
       "    </tr>\n",
       "    <tr>\n",
       "      <th>1</th>\n",
       "      <td>LinJ.01</td>\n",
       "      <td>784</td>\n",
       "      <td>24093</td>\n",
       "      <td>24876</td>\n",
       "      <td>plus</td>\n",
       "      <td>GGGGGAGGCGGGGGAGGCGGGGGGCACGCACCTCCATGCGTGGCAT...</td>\n",
       "    </tr>\n",
       "    <tr>\n",
       "      <th>2</th>\n",
       "      <td>LinJ.01</td>\n",
       "      <td>927</td>\n",
       "      <td>35371</td>\n",
       "      <td>36297</td>\n",
       "      <td>plus</td>\n",
       "      <td>ACTCCCATCGCCTGGTGCGAAGCAGCGCAAGACACACGCGCGCTGC...</td>\n",
       "    </tr>\n",
       "    <tr>\n",
       "      <th>3</th>\n",
       "      <td>LinJ.01</td>\n",
       "      <td>806</td>\n",
       "      <td>39790</td>\n",
       "      <td>40595</td>\n",
       "      <td>plus</td>\n",
       "      <td>ATTCTACCGCGAGCAAGGCAGCACACAGACGCACGCACAGCCACAG...</td>\n",
       "    </tr>\n",
       "    <tr>\n",
       "      <th>4</th>\n",
       "      <td>LinJ.01</td>\n",
       "      <td>927</td>\n",
       "      <td>54983</td>\n",
       "      <td>55909</td>\n",
       "      <td>plus</td>\n",
       "      <td>ACTCTCATCGCCTGGTGCGAAGCAGCGCAAGACACACGCGCGCTGC...</td>\n",
       "    </tr>\n",
       "  </tbody>\n",
       "</table>\n",
       "</div>"
      ],
      "text/plain": [
       "    sseqid  length  sstart   send sstrand  \\\n",
       "0  LinJ.01    1000       1   1000    plus   \n",
       "1  LinJ.01     784   24093  24876    plus   \n",
       "2  LinJ.01     927   35371  36297    plus   \n",
       "3  LinJ.01     806   39790  40595    plus   \n",
       "4  LinJ.01     927   54983  55909    plus   \n",
       "\n",
       "                                                sseq  \n",
       "0  ACACCAGTACACCAGTACACCAGTACACCAGTACACCAGTACACCA...  \n",
       "1  GGGGGAGGCGGGGGAGGCGGGGGGCACGCACCTCCATGCGTGGCAT...  \n",
       "2  ACTCCCATCGCCTGGTGCGAAGCAGCGCAAGACACACGCGCGCTGC...  \n",
       "3  ATTCTACCGCGAGCAAGGCAGCACACAGACGCACGCACAGCCACAG...  \n",
       "4  ACTCTCATCGCCTGGTGCGAAGCAGCGCAAGACACACGCGCGCTGC...  "
      ]
     },
     "execution_count": 36,
     "metadata": {},
     "output_type": "execute_result"
    }
   ],
   "source": [
    "# Let's load the dat from the LmSIDERs\n",
    "LmSIDERs_data = pd.read_csv(\"../14.From_all_to_real_SIDERs/data/2.SIDERs_filter/1.Merged_data.csv\", sep=\",\", header=0)\n",
    "print(LmSIDERs_data.shape)\n",
    "print(LmSIDERs_data.dtypes)\n",
    "LmSIDERs_data.head()"
   ]
  },
  {
   "cell_type": "code",
   "execution_count": 37,
   "metadata": {},
   "outputs": [
    {
     "data": {
      "text/plain": [
       "0"
      ]
     },
     "execution_count": 37,
     "metadata": {},
     "output_type": "execute_result"
    }
   ],
   "source": [
    "# Let's check if there are rows with \"sstart\" > \"send\"\n",
    "sum(LmSIDERs_data[\"sstart\"] > LmSIDERs_data[\"send\"])"
   ]
  },
  {
   "cell_type": "code",
   "execution_count": 38,
   "metadata": {},
   "outputs": [],
   "source": [
    "# Let's make the path\n",
    "path_3 = \"./compare/consensus+LmSIDERs_vs_TP\"\n",
    "os.makedirs(path_3, exist_ok=True)"
   ]
  },
  {
   "cell_type": "code",
   "execution_count": 43,
   "metadata": {},
   "outputs": [
    {
     "name": "stdout",
     "output_type": "stream",
     "text": [
      "\n",
      "consensus data is 2940 long\n",
      "LmSIDERs data is 2951 long\n",
      "\n"
     ]
    }
   ],
   "source": [
    "print(f\"\"\"\n",
    "consensus data is {consensus_data.shape[0]} long\n",
    "LmSIDERs data is {LmSIDERs_data.shape[0]} long\n",
    "\"\"\")"
   ]
  },
  {
   "cell_type": "code",
   "execution_count": 41,
   "metadata": {},
   "outputs": [],
   "source": [
    "# prepare paths for bedos merging\n",
    "consensus_bed_path = os.path.join(path_3, \"consensus.bed\")\n",
    "LmSIDERs_bed_path = os.path.join(path_3, \"LmSIDERs.bed\")"
   ]
  },
  {
   "cell_type": "code",
   "execution_count": 42,
   "metadata": {},
   "outputs": [],
   "source": [
    "# prepare bedops file for the merging\n",
    "consensus_data[[\"sseqid\", \"sstart\", \"send\"]].to_csv(consensus_bed_path, sep=\"\\t\", header=False, index=False)\n",
    "LmSIDERs_data[[\"sseqid\", \"sstart\", \"send\"]].to_csv(LmSIDERs_bed_path, sep=\"\\t\", header=False, index=False)"
   ]
  },
  {
   "cell_type": "code",
   "execution_count": 44,
   "metadata": {},
   "outputs": [
    {
     "name": "stdout",
     "output_type": "stream",
     "text": [
      "(2783, 3)\n",
      "sseqid    object\n",
      "sstart     int64\n",
      "send       int64\n",
      "dtype: object\n",
      "consensus_LmSIDERs_merged_df is 2783 long\n"
     ]
    },
    {
     "data": {
      "text/html": [
       "<div>\n",
       "<style scoped>\n",
       "    .dataframe tbody tr th:only-of-type {\n",
       "        vertical-align: middle;\n",
       "    }\n",
       "\n",
       "    .dataframe tbody tr th {\n",
       "        vertical-align: top;\n",
       "    }\n",
       "\n",
       "    .dataframe thead th {\n",
       "        text-align: right;\n",
       "    }\n",
       "</style>\n",
       "<table border=\"1\" class=\"dataframe\">\n",
       "  <thead>\n",
       "    <tr style=\"text-align: right;\">\n",
       "      <th></th>\n",
       "      <th>sseqid</th>\n",
       "      <th>sstart</th>\n",
       "      <th>send</th>\n",
       "    </tr>\n",
       "  </thead>\n",
       "  <tbody>\n",
       "    <tr>\n",
       "      <th>0</th>\n",
       "      <td>LinJ.01</td>\n",
       "      <td>1</td>\n",
       "      <td>1000</td>\n",
       "    </tr>\n",
       "    <tr>\n",
       "      <th>1</th>\n",
       "      <td>LinJ.01</td>\n",
       "      <td>24093</td>\n",
       "      <td>25080</td>\n",
       "    </tr>\n",
       "    <tr>\n",
       "      <th>2</th>\n",
       "      <td>LinJ.01</td>\n",
       "      <td>35371</td>\n",
       "      <td>36297</td>\n",
       "    </tr>\n",
       "    <tr>\n",
       "      <th>3</th>\n",
       "      <td>LinJ.01</td>\n",
       "      <td>39790</td>\n",
       "      <td>40595</td>\n",
       "    </tr>\n",
       "    <tr>\n",
       "      <th>4</th>\n",
       "      <td>LinJ.01</td>\n",
       "      <td>54983</td>\n",
       "      <td>55909</td>\n",
       "    </tr>\n",
       "  </tbody>\n",
       "</table>\n",
       "</div>"
      ],
      "text/plain": [
       "    sseqid  sstart   send\n",
       "0  LinJ.01       1   1000\n",
       "1  LinJ.01   24093  25080\n",
       "2  LinJ.01   35371  36297\n",
       "3  LinJ.01   39790  40595\n",
       "4  LinJ.01   54983  55909"
      ]
     },
     "execution_count": 44,
     "metadata": {},
     "output_type": "execute_result"
    }
   ],
   "source": [
    "# Let's BEDOPS merge both data\n",
    "cmd =f\"bedops --merge {consensus_bed_path} {LmSIDERs_bed_path}\"\n",
    "consensus_LMSIDERs_merged = subprocess.check_output(cmd, shell=True, universal_newlines=True)\n",
    "consensus_LMSIDERs_merged_df = pd.DataFrame([x.split(\"\\t\") for x in consensus_LMSIDERs_merged.split(\"\\n\") if x], \n",
    "                                            columns=[\"sseqid\", \"sstart\", \"send\"])\n",
    "consensus_LMSIDERs_merged_df[['sstart', 'send']] = consensus_LMSIDERs_merged_df[['sstart', 'send']].apply(pd.to_numeric)\n",
    "print(consensus_LMSIDERs_merged_df.shape)\n",
    "print(consensus_LMSIDERs_merged_df.dtypes)\n",
    "print(f\"consensus_LmSIDERs_merged_df is {consensus_LMSIDERs_merged_df.shape[0]} long\")\n",
    "consensus_LMSIDERs_merged_df.head()\n"
   ]
  },
  {
   "cell_type": "code",
   "execution_count": 48,
   "metadata": {},
   "outputs": [],
   "source": [
    "# Let's get the sequences\n",
    "# Now let's get the sequences\n",
    "def get_data_sequence(data, strand, genome_fasta):\n",
    "    sequences = []\n",
    "    for _, row in data.iterrows():\n",
    "        sseqid = row[\"sseqid\"]\n",
    "        start = row[\"sstart\"]\n",
    "        end = row[\"send\"]\n",
    "        cmd = f\"blastdbcmd -db {genome_fasta} -entry {sseqid} -range {start}-{end} -strand {strand} -outfmt %s\"\n",
    "\n",
    "        sequence = subprocess.check_output(cmd, shell=True, universal_newlines=True).replace('\\n', '')\n",
    "\n",
    "        sequences.append({\n",
    "            \"sseqid\": sseqid,\n",
    "            \"sstart\": start,\n",
    "            \"send\": end,\n",
    "            \"sstrand\": strand,\n",
    "            \"sseq\": sequence\n",
    "        })\n",
    "\n",
    "    sequences_df = pd.DataFrame(sequences)\n",
    "    return sequences_df"
   ]
  },
  {
   "cell_type": "code",
   "execution_count": 49,
   "metadata": {},
   "outputs": [
    {
     "name": "stdout",
     "output_type": "stream",
     "text": [
      "(2783, 5)\n",
      "sseqid     object\n",
      "sstart      int64\n",
      "send        int64\n",
      "sstrand    object\n",
      "sseq       object\n",
      "dtype: object\n"
     ]
    },
    {
     "data": {
      "text/html": [
       "<div>\n",
       "<style scoped>\n",
       "    .dataframe tbody tr th:only-of-type {\n",
       "        vertical-align: middle;\n",
       "    }\n",
       "\n",
       "    .dataframe tbody tr th {\n",
       "        vertical-align: top;\n",
       "    }\n",
       "\n",
       "    .dataframe thead th {\n",
       "        text-align: right;\n",
       "    }\n",
       "</style>\n",
       "<table border=\"1\" class=\"dataframe\">\n",
       "  <thead>\n",
       "    <tr style=\"text-align: right;\">\n",
       "      <th></th>\n",
       "      <th>sseqid</th>\n",
       "      <th>sstart</th>\n",
       "      <th>send</th>\n",
       "      <th>sstrand</th>\n",
       "      <th>sseq</th>\n",
       "    </tr>\n",
       "  </thead>\n",
       "  <tbody>\n",
       "    <tr>\n",
       "      <th>0</th>\n",
       "      <td>LinJ.01</td>\n",
       "      <td>1</td>\n",
       "      <td>1000</td>\n",
       "      <td>plus</td>\n",
       "      <td>ACACCAGTACACCAGTACACCAGTACACCAGTACACCAGTACACCA...</td>\n",
       "    </tr>\n",
       "    <tr>\n",
       "      <th>1</th>\n",
       "      <td>LinJ.01</td>\n",
       "      <td>24093</td>\n",
       "      <td>25080</td>\n",
       "      <td>plus</td>\n",
       "      <td>GGGGGAGGCGGGGGAGGCGGGGGGCACGCACCTCCATGCGTGGCAT...</td>\n",
       "    </tr>\n",
       "    <tr>\n",
       "      <th>2</th>\n",
       "      <td>LinJ.01</td>\n",
       "      <td>35371</td>\n",
       "      <td>36297</td>\n",
       "      <td>plus</td>\n",
       "      <td>ACTCCCATCGCCTGGTGCGAAGCAGCGCAAGACACACGCGCGCTGC...</td>\n",
       "    </tr>\n",
       "    <tr>\n",
       "      <th>3</th>\n",
       "      <td>LinJ.01</td>\n",
       "      <td>39790</td>\n",
       "      <td>40595</td>\n",
       "      <td>plus</td>\n",
       "      <td>ATTCTACCGCGAGCAAGGCAGCACACAGACGCACGCACAGCCACAG...</td>\n",
       "    </tr>\n",
       "    <tr>\n",
       "      <th>4</th>\n",
       "      <td>LinJ.01</td>\n",
       "      <td>54983</td>\n",
       "      <td>55909</td>\n",
       "      <td>plus</td>\n",
       "      <td>ACTCTCATCGCCTGGTGCGAAGCAGCGCAAGACACACGCGCGCTGC...</td>\n",
       "    </tr>\n",
       "  </tbody>\n",
       "</table>\n",
       "</div>"
      ],
      "text/plain": [
       "    sseqid  sstart   send sstrand  \\\n",
       "0  LinJ.01       1   1000    plus   \n",
       "1  LinJ.01   24093  25080    plus   \n",
       "2  LinJ.01   35371  36297    plus   \n",
       "3  LinJ.01   39790  40595    plus   \n",
       "4  LinJ.01   54983  55909    plus   \n",
       "\n",
       "                                                sseq  \n",
       "0  ACACCAGTACACCAGTACACCAGTACACCAGTACACCAGTACACCA...  \n",
       "1  GGGGGAGGCGGGGGAGGCGGGGGGCACGCACCTCCATGCGTGGCAT...  \n",
       "2  ACTCCCATCGCCTGGTGCGAAGCAGCGCAAGACACACGCGCGCTGC...  \n",
       "3  ATTCTACCGCGAGCAAGGCAGCACACAGACGCACGCACAGCCACAG...  \n",
       "4  ACTCTCATCGCCTGGTGCGAAGCAGCGCAAGACACACGCGCGCTGC...  "
      ]
     },
     "execution_count": 49,
     "metadata": {},
     "output_type": "execute_result"
    }
   ],
   "source": [
    "# Let's get the sequences\n",
    "consensus_LMSIDERs_seqs = get_data_sequence(data=consensus_LMSIDERs_merged_df,\n",
    "                                            strand=\"plus\",\n",
    "                                            genome_fasta=\"./data/L_infantum/TriTrypDB-67_LinfantumJPCM5_Genome.fasta\")\n",
    "print(consensus_LMSIDERs_seqs.shape)\n",
    "print(consensus_LMSIDERs_seqs.dtypes)\n",
    "consensus_LMSIDERs_seqs.head()"
   ]
  },
  {
   "cell_type": "code",
   "execution_count": 55,
   "metadata": {},
   "outputs": [],
   "source": [
    "# Save the data\n",
    "path_consensus_LMSIDERs_seqs = os.path.join(path_3, \"consensus_LmSIDERs_seqs.csv\")\n",
    "consensus_LMSIDERs_seqs.to_csv(path_consensus_LMSIDERs_seqs, sep=\",\", header=True, index=False)"
   ]
  },
  {
   "cell_type": "code",
   "execution_count": 51,
   "metadata": {},
   "outputs": [],
   "source": [
    "# Let's group this last data\n",
    "consensus_LMSIDERs_seqs_grouped = consensus_LMSIDERs_seqs.groupby(\"sseqid\")"
   ]
  },
  {
   "cell_type": "code",
   "execution_count": 63,
   "metadata": {},
   "outputs": [
    {
     "name": "stdout",
     "output_type": "stream",
     "text": [
      "\n",
      "    There are 1595 first DF sequences of 1606 in the second DF:\n",
      "        - That's 99.32% of the TP data\n",
      "        - 11 TP sequences are not in consensus data, which is 0.68%\n",
      "    \n"
     ]
    },
    {
     "data": {
      "text/plain": [
       "{'LinJ.01': ['7/7', '100.00'],\n",
       " 'LinJ.02': ['18/18', '100.00'],\n",
       " 'LinJ.03': ['6/8', '75.00'],\n",
       " 'LinJ.04': ['18/18', '100.00'],\n",
       " 'LinJ.05': ['18/18', '100.00'],\n",
       " 'LinJ.06': ['22/22', '100.00'],\n",
       " 'LinJ.07': ['27/27', '100.00'],\n",
       " 'LinJ.08': ['18/18', '100.00'],\n",
       " 'LinJ.09': ['21/21', '100.00'],\n",
       " 'LinJ.10': ['26/26', '100.00'],\n",
       " 'LinJ.11': ['39/39', '100.00'],\n",
       " 'LinJ.12': ['36/36', '100.00'],\n",
       " 'LinJ.13': ['22/22', '100.00'],\n",
       " 'LinJ.14': ['66/66', '100.00'],\n",
       " 'LinJ.15': ['25/25', '100.00'],\n",
       " 'LinJ.16': ['34/34', '100.00'],\n",
       " 'LinJ.17': ['34/34', '100.00'],\n",
       " 'LinJ.18': ['30/30', '100.00'],\n",
       " 'LinJ.19': ['40/40', '100.00'],\n",
       " 'LinJ.20': ['35/37', '94.59'],\n",
       " 'LinJ.21': ['38/39', '97.44'],\n",
       " 'LinJ.22': ['27/27', '100.00'],\n",
       " 'LinJ.23': ['60/60', '100.00'],\n",
       " 'LinJ.24': ['55/57', '96.49'],\n",
       " 'LinJ.25': ['41/42', '97.62'],\n",
       " 'LinJ.26': ['45/45', '100.00'],\n",
       " 'LinJ.27': ['63/63', '100.00'],\n",
       " 'LinJ.28': ['46/46', '100.00'],\n",
       " 'LinJ.29': ['74/74', '100.00'],\n",
       " 'LinJ.30': ['71/71', '100.00'],\n",
       " 'LinJ.31': ['80/80', '100.00'],\n",
       " 'LinJ.32': ['67/69', '97.10'],\n",
       " 'LinJ.33': ['85/85', '100.00'],\n",
       " 'LinJ.34': ['96/96', '100.00'],\n",
       " 'LinJ.35': ['109/110', '99.09'],\n",
       " 'LinJ.36': ['96/96', '100.00']}"
      ]
     },
     "execution_count": 63,
     "metadata": {},
     "output_type": "execute_result"
    }
   ],
   "source": [
    "consensus_LMSIDERs_vs_TP = compare_sequences(df_group1=TP_data_grouped,  # compare if this data is inside.\n",
    "                                             df_group2=consensus_LMSIDERs_seqs_grouped,  # ... this data\n",
    "                                             df_group1_og_data=TP_data,  # ... and this is the original data\n",
    "                                             path=path_3)\n",
    "consensus_LMSIDERs_vs_TP"
   ]
  },
  {
   "cell_type": "markdown",
   "metadata": {},
   "source": [
    "# Consensus + LmSIDERS vs 32 chr data"
   ]
  },
  {
   "cell_type": "code",
   "execution_count": 54,
   "metadata": {},
   "outputs": [],
   "source": [
    "# Prepare paths\n",
    "path_4 = \"./compare/consensus+LmSIDERs_vs_32chr\"\n",
    "os.makedirs(path_4, exist_ok=True)"
   ]
  },
  {
   "cell_type": "markdown",
   "metadata": {},
   "source": [
    "From here we need the filtering methods:\n",
    "\n",
    "1. Use `3.1.SIDERs_filter.py`file\n",
    "2. Filter the data from consensus + LmSIDERs.\n",
    "3. Keep with this script"
   ]
  },
  {
   "cell_type": "code",
   "execution_count": 56,
   "metadata": {},
   "outputs": [
    {
     "name": "stdout",
     "output_type": "stream",
     "text": [
      "(2069, 5)\n",
      "sseqid     object\n",
      "sstart      int64\n",
      "send        int64\n",
      "sstrand    object\n",
      "sseq       object\n",
      "dtype: object\n"
     ]
    },
    {
     "data": {
      "text/html": [
       "<div>\n",
       "<style scoped>\n",
       "    .dataframe tbody tr th:only-of-type {\n",
       "        vertical-align: middle;\n",
       "    }\n",
       "\n",
       "    .dataframe tbody tr th {\n",
       "        vertical-align: top;\n",
       "    }\n",
       "\n",
       "    .dataframe thead th {\n",
       "        text-align: right;\n",
       "    }\n",
       "</style>\n",
       "<table border=\"1\" class=\"dataframe\">\n",
       "  <thead>\n",
       "    <tr style=\"text-align: right;\">\n",
       "      <th></th>\n",
       "      <th>sseqid</th>\n",
       "      <th>sstart</th>\n",
       "      <th>send</th>\n",
       "      <th>sstrand</th>\n",
       "      <th>sseq</th>\n",
       "    </tr>\n",
       "  </thead>\n",
       "  <tbody>\n",
       "    <tr>\n",
       "      <th>0</th>\n",
       "      <td>LinJ.01</td>\n",
       "      <td>1</td>\n",
       "      <td>1000</td>\n",
       "      <td>plus</td>\n",
       "      <td>ACACCAGTACACCAGTACACCAGTACACCAGTACACCAGTACACCA...</td>\n",
       "    </tr>\n",
       "    <tr>\n",
       "      <th>1</th>\n",
       "      <td>LinJ.01</td>\n",
       "      <td>24093</td>\n",
       "      <td>25080</td>\n",
       "      <td>plus</td>\n",
       "      <td>GGGGGAGGCGGGGGAGGCGGGGGGCACGCACCTCCATGCGTGGCAT...</td>\n",
       "    </tr>\n",
       "    <tr>\n",
       "      <th>2</th>\n",
       "      <td>LinJ.01</td>\n",
       "      <td>35371</td>\n",
       "      <td>36297</td>\n",
       "      <td>plus</td>\n",
       "      <td>ACTCCCATCGCCTGGTGCGAAGCAGCGCAAGACACACGCGCGCTGC...</td>\n",
       "    </tr>\n",
       "    <tr>\n",
       "      <th>3</th>\n",
       "      <td>LinJ.01</td>\n",
       "      <td>39790</td>\n",
       "      <td>40595</td>\n",
       "      <td>plus</td>\n",
       "      <td>ATTCTACCGCGAGCAAGGCAGCACACAGACGCACGCACAGCCACAG...</td>\n",
       "    </tr>\n",
       "    <tr>\n",
       "      <th>4</th>\n",
       "      <td>LinJ.01</td>\n",
       "      <td>54983</td>\n",
       "      <td>55909</td>\n",
       "      <td>plus</td>\n",
       "      <td>ACTCTCATCGCCTGGTGCGAAGCAGCGCAAGACACACGCGCGCTGC...</td>\n",
       "    </tr>\n",
       "  </tbody>\n",
       "</table>\n",
       "</div>"
      ],
      "text/plain": [
       "    sseqid  sstart   send sstrand  \\\n",
       "0  LinJ.01       1   1000    plus   \n",
       "1  LinJ.01   24093  25080    plus   \n",
       "2  LinJ.01   35371  36297    plus   \n",
       "3  LinJ.01   39790  40595    plus   \n",
       "4  LinJ.01   54983  55909    plus   \n",
       "\n",
       "                                                sseq  \n",
       "0  ACACCAGTACACCAGTACACCAGTACACCAGTACACCAGTACACCA...  \n",
       "1  GGGGGAGGCGGGGGAGGCGGGGGGCACGCACCTCCATGCGTGGCAT...  \n",
       "2  ACTCCCATCGCCTGGTGCGAAGCAGCGCAAGACACACGCGCGCTGC...  \n",
       "3  ATTCTACCGCGAGCAAGGCAGCACACAGACGCACGCACAGCCACAG...  \n",
       "4  ACTCTCATCGCCTGGTGCGAAGCAGCGCAAGACACACGCGCGCTGC...  "
      ]
     },
     "execution_count": 56,
     "metadata": {},
     "output_type": "execute_result"
    }
   ],
   "source": [
    "# Load data after the filter\n",
    "consensus_LmSIDERS_positive_data = pd.read_csv(\"./compare/consensus+LmSIDERs_vs_TP/positives_testing_elements.csv\", sep=\",\", header=0)\n",
    "print(consensus_LmSIDERS_positive_data.shape)\n",
    "print(consensus_LmSIDERS_positive_data.dtypes)\n",
    "consensus_LmSIDERS_positive_data.head()"
   ]
  },
  {
   "cell_type": "code",
   "execution_count": 57,
   "metadata": {},
   "outputs": [],
   "source": [
    "# Group this data\n",
    "consensus_LmSIDERS_positive_data_grouped = consensus_LmSIDERS_positive_data.groupby(\"sseqid\")"
   ]
  },
  {
   "cell_type": "code",
   "execution_count": 62,
   "metadata": {},
   "outputs": [
    {
     "name": "stdout",
     "output_type": "stream",
     "text": [
      "\n",
      "    There are 2172 first DF sequences of 2184 in the second DF:\n",
      "        - That's 99.45% of the TP data\n",
      "        - 12 TP sequences are not in consensus data, which is 0.55%\n",
      "    \n"
     ]
    },
    {
     "data": {
      "text/plain": [
       "{'LinJ.01': ['13/13', '100.00'],\n",
       " 'LinJ.02': ['16/16', '100.00'],\n",
       " 'LinJ.03': ['6/8', '75.00'],\n",
       " 'LinJ.04': ['12/12', '100.00'],\n",
       " 'LinJ.05': ['21/22', '95.45'],\n",
       " 'LinJ.06': ['28/28', '100.00'],\n",
       " 'LinJ.07': ['32/32', '100.00'],\n",
       " 'LinJ.08': ['38/38', '100.00'],\n",
       " 'LinJ.09': ['33/33', '100.00'],\n",
       " 'LinJ.10': ['44/44', '100.00'],\n",
       " 'LinJ.11': ['42/42', '100.00'],\n",
       " 'LinJ.12': ['47/47', '100.00'],\n",
       " 'LinJ.13': ['32/33', '96.97'],\n",
       " 'LinJ.14': ['43/43', '100.00'],\n",
       " 'LinJ.15': ['27/27', '100.00'],\n",
       " 'LinJ.16': ['38/38', '100.00'],\n",
       " 'LinJ.17': ['50/50', '100.00'],\n",
       " 'LinJ.18': ['59/59', '100.00'],\n",
       " 'LinJ.19': ['58/58', '100.00'],\n",
       " 'LinJ.20': ['49/49', '100.00'],\n",
       " 'LinJ.21': ['42/42', '100.00'],\n",
       " 'LinJ.22': ['62/62', '100.00'],\n",
       " 'LinJ.23': ['75/76', '98.68'],\n",
       " 'LinJ.24': ['54/54', '100.00'],\n",
       " 'LinJ.25': ['41/41', '100.00'],\n",
       " 'LinJ.26': ['53/53', '100.00'],\n",
       " 'LinJ.27': ['79/79', '100.00'],\n",
       " 'LinJ.28': ['59/59', '100.00'],\n",
       " 'LinJ.29': ['124/127', '97.64'],\n",
       " 'LinJ.30': ['106/106', '100.00'],\n",
       " 'LinJ.31': ['115/115', '100.00'],\n",
       " 'LinJ.32': ['95/95', '100.00'],\n",
       " 'LinJ.33': ['114/116', '98.28'],\n",
       " 'LinJ.34': ['159/159', '100.00'],\n",
       " 'LinJ.35': ['143/145', '98.62'],\n",
       " 'LinJ.36': ['163/163', '100.00']}"
      ]
     },
     "execution_count": 62,
     "metadata": {},
     "output_type": "execute_result"
    }
   ],
   "source": [
    "consensus_LMSIDERs_vs_32chr = compare_sequences(df_group1=chr32_positive_data_grouped,  # compare if this data is inside.\n",
    "                                                df_group2=consensus_LmSIDERS_positive_data_grouped,  # ... this data\n",
    "                                                df_group1_og_data=chr32_positive_data,  # ... and this is the original data\n",
    "                                                path=path_4)\n",
    "consensus_LMSIDERs_vs_32chr"
   ]
  }
 ],
 "metadata": {
  "kernelspec": {
   "display_name": "Python 3",
   "language": "python",
   "name": "python3"
  },
  "language_info": {
   "codemirror_mode": {
    "name": "ipython",
    "version": 3
   },
   "file_extension": ".py",
   "mimetype": "text/x-python",
   "name": "python",
   "nbconvert_exporter": "python",
   "pygments_lexer": "ipython3",
   "version": "3.12.3"
  }
 },
 "nbformat": 4,
 "nbformat_minor": 2
}
