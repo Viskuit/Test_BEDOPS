{
 "cells": [
  {
   "cell_type": "code",
   "execution_count": 5,
   "metadata": {},
   "outputs": [],
   "source": [
    "import numpy as np\n",
    "import pandas as pd\n",
    "import subprocess\n",
    "import os\n",
    "\n",
    "from Bio import SeqIO\n",
    "from Bio.Seq import Seq\n",
    "from Bio.SeqRecord import SeqRecord"
   ]
  },
  {
   "cell_type": "code",
   "execution_count": 6,
   "metadata": {},
   "outputs": [
    {
     "data": {
      "text/html": [
       "<div>\n",
       "<style scoped>\n",
       "    .dataframe tbody tr th:only-of-type {\n",
       "        vertical-align: middle;\n",
       "    }\n",
       "\n",
       "    .dataframe tbody tr th {\n",
       "        vertical-align: top;\n",
       "    }\n",
       "\n",
       "    .dataframe thead th {\n",
       "        text-align: right;\n",
       "    }\n",
       "</style>\n",
       "<table border=\"1\" class=\"dataframe\">\n",
       "  <thead>\n",
       "    <tr style=\"text-align: right;\">\n",
       "      <th></th>\n",
       "      <th>0</th>\n",
       "      <th>1</th>\n",
       "      <th>2</th>\n",
       "      <th>3</th>\n",
       "      <th>4</th>\n",
       "      <th>5</th>\n",
       "    </tr>\n",
       "  </thead>\n",
       "  <tbody>\n",
       "    <tr>\n",
       "      <th>0</th>\n",
       "      <td>LinJ.01</td>\n",
       "      <td>173</td>\n",
       "      <td>1</td>\n",
       "      <td>173</td>\n",
       "      <td>plus</td>\n",
       "      <td>ACACCAGTACACCAGTACACCAGTACACCAGTACACCAGTACACCA...</td>\n",
       "    </tr>\n",
       "    <tr>\n",
       "      <th>1</th>\n",
       "      <td>LinJ.01</td>\n",
       "      <td>699</td>\n",
       "      <td>24093</td>\n",
       "      <td>24791</td>\n",
       "      <td>plus</td>\n",
       "      <td>GGGGGAGGCGGGGGAGGCGGGGGGCACGCACCTCCATGCGTGGCAT...</td>\n",
       "    </tr>\n",
       "    <tr>\n",
       "      <th>2</th>\n",
       "      <td>LinJ.01</td>\n",
       "      <td>845</td>\n",
       "      <td>35316</td>\n",
       "      <td>36160</td>\n",
       "      <td>plus</td>\n",
       "      <td>GAGGTGGAGGCCGCTCTGCCCCCCCCGCCGCCGAGTGCTGCAGGCA...</td>\n",
       "    </tr>\n",
       "    <tr>\n",
       "      <th>3</th>\n",
       "      <td>LinJ.01</td>\n",
       "      <td>892</td>\n",
       "      <td>39698</td>\n",
       "      <td>40589</td>\n",
       "      <td>plus</td>\n",
       "      <td>CTCACCCTCATCCCACCCCTCCTCGTCCATCGACGGGAGTGGGCGG...</td>\n",
       "    </tr>\n",
       "    <tr>\n",
       "      <th>4</th>\n",
       "      <td>LinJ.01</td>\n",
       "      <td>888</td>\n",
       "      <td>54885</td>\n",
       "      <td>55772</td>\n",
       "      <td>plus</td>\n",
       "      <td>TGTTTGGTCTTCCGCGTGTCCGTTTTCGCTGCCGCACACTGCGAGG...</td>\n",
       "    </tr>\n",
       "  </tbody>\n",
       "</table>\n",
       "</div>"
      ],
      "text/plain": [
       "         0    1      2      3     4  \\\n",
       "0  LinJ.01  173      1    173  plus   \n",
       "1  LinJ.01  699  24093  24791  plus   \n",
       "2  LinJ.01  845  35316  36160  plus   \n",
       "3  LinJ.01  892  39698  40589  plus   \n",
       "4  LinJ.01  888  54885  55772  plus   \n",
       "\n",
       "                                                   5  \n",
       "0  ACACCAGTACACCAGTACACCAGTACACCAGTACACCAGTACACCA...  \n",
       "1  GGGGGAGGCGGGGGAGGCGGGGGGCACGCACCTCCATGCGTGGCAT...  \n",
       "2  GAGGTGGAGGCCGCTCTGCCCCCCCCGCCGCCGAGTGCTGCAGGCA...  \n",
       "3  CTCACCCTCATCCCACCCCTCCTCGTCCATCGACGGGAGTGGGCGG...  \n",
       "4  TGTTTGGTCTTCCGCGTGTCCGTTTTCGCTGCCGCACACTGCGAGG...  "
      ]
     },
     "execution_count": 6,
     "metadata": {},
     "output_type": "execute_result"
    }
   ],
   "source": [
    "data_positive = pd.read_csv(\"./positives_testing_elements.csv\", sep=\",\" , header=None)\n",
    "data_positive.head()"
   ]
  },
  {
   "cell_type": "code",
   "execution_count": 8,
   "metadata": {},
   "outputs": [],
   "source": [
    "# Define fasta_creator file\n",
    "def fasta_creator(data, fasta_output_path):\n",
    "    matrix = []\n",
    "    for index, sequence in data.iterrows():\n",
    "        # index += 1 # To start the index in 1\n",
    "        rec = SeqRecord(Seq(sequence[5]),  # In the 5 position is the seq\n",
    "                        id=\"Seq_\" + str(index),\n",
    "                        description=\"Leishmania infantum\"\n",
    "                        )\n",
    "        matrix.append(rec)\n",
    "    SeqIO.write(matrix, fasta_output_path, \"fasta\")"
   ]
  },
  {
   "cell_type": "code",
   "execution_count": 7,
   "metadata": {},
   "outputs": [],
   "source": [
    " # Create fasta\n",
    "fasta_creator(data_positive, \"./blaster_pos/positives.fasta\")"
   ]
  },
  {
   "cell_type": "markdown",
   "metadata": {},
   "source": [
    "Now let's launch the BLASTN "
   ]
  },
  {
   "cell_type": "markdown",
   "metadata": {},
   "source": [
    "Let's prepare the \"ingi\" data in fasta"
   ]
  },
  {
   "cell_type": "code",
   "execution_count": 21,
   "metadata": {},
   "outputs": [
    {
     "data": {
      "text/plain": [
       "79"
      ]
     },
     "execution_count": 21,
     "metadata": {},
     "output_type": "execute_result"
    }
   ],
   "source": [
    "ingi = \"CCCTGGCGATGCCGGCCACCTCAACGTGGTGCCAGGGTCCAGTACCCCGTATCATCGGGGGAAGCCAAGAGCCAGCAGC\"\n",
    "len(ingi)"
   ]
  },
  {
   "cell_type": "code",
   "execution_count": 6,
   "metadata": {},
   "outputs": [],
   "source": [
    "# Prepare functions\n",
    "# Let's define the BLASTn dictionary function\n",
    "def blastn_dic(path_input):\n",
    "    os.system(\"makeblastdb -in \" + path_input + \" -dbtype nucl -parse_seqids\")\n",
    "    print(\"\\nBlast Dictionary created in\", path_input)\n",
    "\n",
    "#And the blaster\n",
    "def blastn_blaster(query_path, dict_path, perc_identity):\n",
    "    cmd = \"blastn -word_size 11 -query \" \\\n",
    "        + query_path + \" -db \" \\\n",
    "        + dict_path \\\n",
    "        + \" -perc_identity \" + str(perc_identity) \\\n",
    "        + \" -outfmt 10\"\n",
    "    data = subprocess.check_output(cmd, shell=True, universal_newlines=True)  # Important the E value\n",
    "    data = pd.DataFrame([x.split(\",\") for x in data.split(\"\\n\") if x])\n",
    "    return data"
   ]
  },
  {
   "cell_type": "code",
   "execution_count": 62,
   "metadata": {},
   "outputs": [
    {
     "name": "stdout",
     "output_type": "stream",
     "text": [
      "\n",
      "\n",
      "Building a new DB, current time: 04/17/2024 13:57:12\n",
      "New DB name:   /home/rfpacheco/Desktop/Projects/Testing_Leishmania_project/BEDOPS_join_strands/filtered_data/blaster/positives.fasta\n",
      "New DB title:  ./blaster/positives.fasta\n",
      "Sequence type: Nucleotide\n",
      "Deleted existing Nucleotide BLAST database named /home/rfpacheco/Desktop/Projects/Testing_Leishmania_project/BEDOPS_join_strands/filtered_data/blaster/positives.fasta\n",
      "Keep MBits: T\n",
      "Maximum file size: 1000000000B\n",
      "Adding sequences from FASTA; added 1951 sequences in 0.137699 seconds.\n",
      "\n",
      "\n",
      "\n",
      "Blast Dictionary created in ./blaster/positives.fasta\n"
     ]
    }
   ],
   "source": [
    "# Let's make the dict\n",
    "blastn_dic(\"./blaster_pos/positives.fasta\")"
   ]
  },
  {
   "cell_type": "code",
   "execution_count": 7,
   "metadata": {},
   "outputs": [],
   "source": [
    "# Let's make a fasta only for ingi:\n",
    "def fasta_creator2(sequence, index, fasta_output_path, description_name):\n",
    "    rec = SeqRecord(Seq(sequence),\n",
    "                    id=\"ingi_\" + str(index),\n",
    "                    description=description_name\n",
    "                    )\n",
    "    SeqIO.write(rec, fasta_output_path, \"fasta\")"
   ]
  },
  {
   "cell_type": "code",
   "execution_count": 64,
   "metadata": {},
   "outputs": [],
   "source": [
    "fasta_creator2(ingi, 1, \"./blaster_pos/ingi.fasta\", \"Trypanosoma brucei ingi element\")"
   ]
  },
  {
   "cell_type": "code",
   "execution_count": 9,
   "metadata": {},
   "outputs": [],
   "source": [
    "# Launch ingi element vs my positives\n",
    "blastn_data = blastn_blaster(\"./blaster_pos/ingi.fasta\", \"./blaster_pos/positives.fasta\", 0)"
   ]
  },
  {
   "cell_type": "code",
   "execution_count": 5,
   "metadata": {},
   "outputs": [
    {
     "data": {
      "text/html": [
       "<div>\n",
       "<style scoped>\n",
       "    .dataframe tbody tr th:only-of-type {\n",
       "        vertical-align: middle;\n",
       "    }\n",
       "\n",
       "    .dataframe tbody tr th {\n",
       "        vertical-align: top;\n",
       "    }\n",
       "\n",
       "    .dataframe thead th {\n",
       "        text-align: right;\n",
       "    }\n",
       "</style>\n",
       "<table border=\"1\" class=\"dataframe\">\n",
       "  <thead>\n",
       "    <tr style=\"text-align: right;\">\n",
       "      <th></th>\n",
       "      <th>0</th>\n",
       "      <th>1</th>\n",
       "      <th>2</th>\n",
       "      <th>3</th>\n",
       "      <th>4</th>\n",
       "      <th>5</th>\n",
       "      <th>6</th>\n",
       "      <th>7</th>\n",
       "      <th>8</th>\n",
       "      <th>9</th>\n",
       "      <th>10</th>\n",
       "      <th>11</th>\n",
       "    </tr>\n",
       "  </thead>\n",
       "  <tbody>\n",
       "    <tr>\n",
       "      <th>0</th>\n",
       "      <td>ingi_1</td>\n",
       "      <td>Seq_1028</td>\n",
       "      <td>83.333</td>\n",
       "      <td>60</td>\n",
       "      <td>6</td>\n",
       "      <td>4</td>\n",
       "      <td>17</td>\n",
       "      <td>73</td>\n",
       "      <td>529</td>\n",
       "      <td>471</td>\n",
       "      <td>1.04e-08</td>\n",
       "      <td>52.8</td>\n",
       "    </tr>\n",
       "    <tr>\n",
       "      <th>1</th>\n",
       "      <td>ingi_1</td>\n",
       "      <td>Seq_1948</td>\n",
       "      <td>86.957</td>\n",
       "      <td>46</td>\n",
       "      <td>3</td>\n",
       "      <td>3</td>\n",
       "      <td>1</td>\n",
       "      <td>44</td>\n",
       "      <td>17</td>\n",
       "      <td>61</td>\n",
       "      <td>1.35e-07</td>\n",
       "      <td>49.1</td>\n",
       "    </tr>\n",
       "    <tr>\n",
       "      <th>2</th>\n",
       "      <td>ingi_1</td>\n",
       "      <td>Seq_1943</td>\n",
       "      <td>86.957</td>\n",
       "      <td>46</td>\n",
       "      <td>3</td>\n",
       "      <td>3</td>\n",
       "      <td>1</td>\n",
       "      <td>44</td>\n",
       "      <td>17</td>\n",
       "      <td>61</td>\n",
       "      <td>1.35e-07</td>\n",
       "      <td>49.1</td>\n",
       "    </tr>\n",
       "    <tr>\n",
       "      <th>3</th>\n",
       "      <td>ingi_1</td>\n",
       "      <td>Seq_701</td>\n",
       "      <td>87.805</td>\n",
       "      <td>41</td>\n",
       "      <td>5</td>\n",
       "      <td>0</td>\n",
       "      <td>2</td>\n",
       "      <td>42</td>\n",
       "      <td>792</td>\n",
       "      <td>832</td>\n",
       "      <td>1.35e-07</td>\n",
       "      <td>49.1</td>\n",
       "    </tr>\n",
       "    <tr>\n",
       "      <th>4</th>\n",
       "      <td>ingi_1</td>\n",
       "      <td>Seq_688</td>\n",
       "      <td>87.805</td>\n",
       "      <td>41</td>\n",
       "      <td>5</td>\n",
       "      <td>0</td>\n",
       "      <td>2</td>\n",
       "      <td>42</td>\n",
       "      <td>706</td>\n",
       "      <td>666</td>\n",
       "      <td>1.35e-07</td>\n",
       "      <td>49.1</td>\n",
       "    </tr>\n",
       "  </tbody>\n",
       "</table>\n",
       "</div>"
      ],
      "text/plain": [
       "       0         1       2   3  4  5   6   7    8    9         10    11\n",
       "0  ingi_1  Seq_1028  83.333  60  6  4  17  73  529  471  1.04e-08  52.8\n",
       "1  ingi_1  Seq_1948  86.957  46  3  3   1  44   17   61  1.35e-07  49.1\n",
       "2  ingi_1  Seq_1943  86.957  46  3  3   1  44   17   61  1.35e-07  49.1\n",
       "3  ingi_1   Seq_701  87.805  41  5  0   2  42  792  832  1.35e-07  49.1\n",
       "4  ingi_1   Seq_688  87.805  41  5  0   2  42  706  666  1.35e-07  49.1"
      ]
     },
     "execution_count": 5,
     "metadata": {},
     "output_type": "execute_result"
    }
   ],
   "source": [
    "blastn_data.head()"
   ]
  },
  {
   "cell_type": "code",
   "execution_count": 10,
   "metadata": {},
   "outputs": [
    {
     "name": "stdout",
     "output_type": "stream",
     "text": [
      "Total elements in the negative list: 1951\n",
      "Total elements in the negative list with ingi: 204 \n",
      "Percentage of elements with ingi: 10.46%\n"
     ]
    }
   ],
   "source": [
    "print(f\"Total elements in the negative list: {len(data_positive)}\"\n",
    "      f\"\\nTotal elements in the negative list with ingi: {blastn_data[1].nunique()}\",\n",
    "      f\"\\nPercentage of elements with ingi: {blastn_data[1].nunique()/len(data_positive)*100:.2f}%\"\n",
    "      )"
   ]
  },
  {
   "cell_type": "code",
   "execution_count": 7,
   "metadata": {},
   "outputs": [
    {
     "data": {
      "text/plain": [
       "204"
      ]
     },
     "execution_count": 7,
     "metadata": {},
     "output_type": "execute_result"
    }
   ],
   "source": [
    "blastn_data[1].nunique()"
   ]
  },
  {
   "cell_type": "code",
   "execution_count": 17,
   "metadata": {},
   "outputs": [
    {
     "name": "stdout",
     "output_type": "stream",
     "text": [
      "10.46 %\n"
     ]
    }
   ],
   "source": [
    "print(round(blastn_data[1].nunique() / data_positive.shape[0] * 100, 2), \"%\")"
   ]
  },
  {
   "cell_type": "markdown",
   "metadata": {},
   "source": [
    "## Now let's make the comparison with the hallmark from LmSIDERa and LmSIDERb from Bringaud (2007)"
   ]
  },
  {
   "cell_type": "code",
   "execution_count": 24,
   "metadata": {},
   "outputs": [
    {
     "name": "stdout",
     "output_type": "stream",
     "text": [
      "LmSIDER2a Hallmark is 79 nt long \n",
      "LmSIDER2b Hallmark is 77 nt long\n"
     ]
    }
   ],
   "source": [
    "# Let's first prepare the Hallmark elements\n",
    "LmSIDER2a = \"CCCTGATGACGAGGGACACCTCAGCGTGGTATCAGGGTCCAGTACACCCCACTCTGTGAGGAAGCCGAGCAGCTCCCTC\"\n",
    "LmSIDER2b = \"CCCTGCCAATGCCGAACCACTTCTGGTGGTGACAGGGTCCAGTGCCTACTACGTAGGGGAGGTCAGAGCGATGCATC\"\n",
    "print(f\"LmSIDER2a Hallmark is {len(LmSIDER2a)} nt long\",\n",
    "      f\"\\nLmSIDER2b Hallmark is {len(LmSIDER2b)} nt long\"\n",
    "      )"
   ]
  },
  {
   "cell_type": "code",
   "execution_count": 38,
   "metadata": {},
   "outputs": [],
   "source": [
    "# Make a fasta for the Hallmarks of LmSIDER2\n",
    "fasta_creator2(LmSIDER2a, 1, \"./blaster_pos/LmSIDER2a.fasta\", \"LmSIDER2a hallmark\")\n",
    "fasta_creator2(LmSIDER2b, 1, \"./blaster_pos/LmSIDER2b.fasta\", \"LmSIDER2b hallmark\")"
   ]
  },
  {
   "cell_type": "code",
   "execution_count": 12,
   "metadata": {},
   "outputs": [
    {
     "name": "stdout",
     "output_type": "stream",
     "text": [
      "Total elements with LmSIDER2a in the positive list: 339 \n",
      "\tUnique elements: 331 \n",
      "Total elements with LmSIDER2b in the positive list: 538 \n",
      "\tUnique elements: 500\n"
     ]
    }
   ],
   "source": [
    "# Now let's make the blasters first with 60 identity\n",
    "LmSIDER2a_data60 = blastn_blaster(\"./blaster_pos/LmSIDER2a.fasta\", \"./blaster_pos/positives.fasta\", 60)\n",
    "LmSIDER2b_data60 = blastn_blaster(\"./blaster_pos/LmSIDER2b.fasta\", \"./blaster_pos/positives.fasta\", 60)\n",
    "print(f\"Total elements with LmSIDER2a in the positive list: {len(LmSIDER2a_data60)}\",\n",
    "      f\"\\n\\tUnique elements: {LmSIDER2a_data60[1].nunique()}\",\n",
    "      f\"\\nTotal elements with LmSIDER2b in the positive list: {len(LmSIDER2b_data60)}\",\n",
    "      f\"\\n\\tUnique elements: {LmSIDER2b_data60[1].nunique()}\"\n",
    "      )\n"
   ]
  },
  {
   "cell_type": "code",
   "execution_count": 15,
   "metadata": {},
   "outputs": [
    {
     "name": "stdout",
     "output_type": "stream",
     "text": [
      "(331, 12)\n",
      "(500, 12)\n"
     ]
    }
   ],
   "source": [
    "LmSIDER2a_data60_unique = LmSIDER2a_data60[LmSIDER2a_data60[1].duplicated() == False]; print(LmSIDER2a_data60_unique.shape)\n",
    "LmSIDER2b_data60_unique = LmSIDER2b_data60[LmSIDER2b_data60[1].duplicated() == False]; print(LmSIDER2b_data60_unique.shape)"
   ]
  },
  {
   "cell_type": "code",
   "execution_count": 41,
   "metadata": {},
   "outputs": [],
   "source": [
    "# Let's get the unique elements\n",
    "LmSIDER2a_list = LmSIDER2a_data60_unique.iloc[:,1].values.flatten().tolist()\n",
    "LmSIDER2a_list = sorted(LmSIDER2a_list, key=lambda x: int(x.split(\"_\")[1]))\n",
    "\n",
    "LmSIDER2b_list = LmSIDER2b_data60_unique.iloc[:,1].values.flatten().tolist()\n",
    "LmSIDER2b_list = sorted(LmSIDER2b_list, key=lambda x: int(x.split(\"_\")[1]))\n"
   ]
  },
  {
   "cell_type": "code",
   "execution_count": 44,
   "metadata": {},
   "outputs": [
    {
     "name": "stdout",
     "output_type": "stream",
     "text": [
      "331\n",
      "['Seq_6', 'Seq_40', 'Seq_46', 'Seq_47', 'Seq_56', 'Seq_63', 'Seq_64', 'Seq_66', 'Seq_68', 'Seq_69', 'Seq_70', 'Seq_81', 'Seq_82', 'Seq_88', 'Seq_115', 'Seq_116', 'Seq_125', 'Seq_145', 'Seq_165', 'Seq_180', 'Seq_184', 'Seq_198', 'Seq_199', 'Seq_200', 'Seq_201', 'Seq_203', 'Seq_217', 'Seq_218', 'Seq_219', 'Seq_220', 'Seq_245', 'Seq_246', 'Seq_250', 'Seq_251', 'Seq_252', 'Seq_268', 'Seq_269', 'Seq_272', 'Seq_300', 'Seq_316', 'Seq_322', 'Seq_339', 'Seq_340', 'Seq_341', 'Seq_342', 'Seq_343', 'Seq_344', 'Seq_346', 'Seq_351', 'Seq_355', 'Seq_362', 'Seq_380', 'Seq_394', 'Seq_419', 'Seq_439', 'Seq_440', 'Seq_441', 'Seq_442', 'Seq_443', 'Seq_444', 'Seq_445', 'Seq_446', 'Seq_447', 'Seq_474', 'Seq_479', 'Seq_482', 'Seq_497', 'Seq_498', 'Seq_521', 'Seq_522', 'Seq_523', 'Seq_524', 'Seq_531', 'Seq_534', 'Seq_544', 'Seq_546', 'Seq_547', 'Seq_553', 'Seq_554', 'Seq_558', 'Seq_559', 'Seq_560', 'Seq_561', 'Seq_585', 'Seq_592', 'Seq_594', 'Seq_595', 'Seq_597', 'Seq_598', 'Seq_627', 'Seq_631', 'Seq_632', 'Seq_640', 'Seq_649', 'Seq_652', 'Seq_666', 'Seq_667', 'Seq_668', 'Seq_670', 'Seq_673', 'Seq_681', 'Seq_692', 'Seq_694', 'Seq_702', 'Seq_709', 'Seq_712', 'Seq_731', 'Seq_735', 'Seq_741', 'Seq_755', 'Seq_757', 'Seq_759', 'Seq_761', 'Seq_762', 'Seq_763', 'Seq_764', 'Seq_765', 'Seq_766', 'Seq_768', 'Seq_770', 'Seq_771', 'Seq_772', 'Seq_773', 'Seq_774', 'Seq_775', 'Seq_776', 'Seq_777', 'Seq_782', 'Seq_786', 'Seq_787', 'Seq_805', 'Seq_829', 'Seq_833', 'Seq_834', 'Seq_835', 'Seq_836', 'Seq_855', 'Seq_856', 'Seq_857', 'Seq_862', 'Seq_863', 'Seq_865', 'Seq_873', 'Seq_874', 'Seq_875', 'Seq_878', 'Seq_890', 'Seq_891', 'Seq_892', 'Seq_895', 'Seq_896', 'Seq_899', 'Seq_900', 'Seq_901', 'Seq_902', 'Seq_904', 'Seq_905', 'Seq_919', 'Seq_923', 'Seq_926', 'Seq_930', 'Seq_951', 'Seq_952', 'Seq_953', 'Seq_955', 'Seq_956', 'Seq_957', 'Seq_963', 'Seq_966', 'Seq_979', 'Seq_983', 'Seq_986', 'Seq_990', 'Seq_991', 'Seq_996', 'Seq_997', 'Seq_1026', 'Seq_1028', 'Seq_1030', 'Seq_1032', 'Seq_1040', 'Seq_1042', 'Seq_1043', 'Seq_1063', 'Seq_1093', 'Seq_1103', 'Seq_1104', 'Seq_1105', 'Seq_1112', 'Seq_1120', 'Seq_1125', 'Seq_1126', 'Seq_1130', 'Seq_1132', 'Seq_1134', 'Seq_1135', 'Seq_1138', 'Seq_1139', 'Seq_1140', 'Seq_1141', 'Seq_1142', 'Seq_1143', 'Seq_1144', 'Seq_1145', 'Seq_1161', 'Seq_1164', 'Seq_1165', 'Seq_1178', 'Seq_1179', 'Seq_1180', 'Seq_1181', 'Seq_1182', 'Seq_1197', 'Seq_1202', 'Seq_1215', 'Seq_1220', 'Seq_1221', 'Seq_1229', 'Seq_1234', 'Seq_1235', 'Seq_1237', 'Seq_1238', 'Seq_1271', 'Seq_1273', 'Seq_1274', 'Seq_1275', 'Seq_1283', 'Seq_1286', 'Seq_1287', 'Seq_1289', 'Seq_1292', 'Seq_1294', 'Seq_1295', 'Seq_1296', 'Seq_1298', 'Seq_1299', 'Seq_1300', 'Seq_1301', 'Seq_1318', 'Seq_1322', 'Seq_1335', 'Seq_1347', 'Seq_1351', 'Seq_1353', 'Seq_1359', 'Seq_1360', 'Seq_1365', 'Seq_1369', 'Seq_1399', 'Seq_1400', 'Seq_1401', 'Seq_1408', 'Seq_1413', 'Seq_1414', 'Seq_1420', 'Seq_1421', 'Seq_1430', 'Seq_1435', 'Seq_1469', 'Seq_1473', 'Seq_1474', 'Seq_1479', 'Seq_1486', 'Seq_1487', 'Seq_1495', 'Seq_1498', 'Seq_1503', 'Seq_1519', 'Seq_1530', 'Seq_1535', 'Seq_1536', 'Seq_1537', 'Seq_1540', 'Seq_1542', 'Seq_1543', 'Seq_1558', 'Seq_1607', 'Seq_1619', 'Seq_1621', 'Seq_1658', 'Seq_1659', 'Seq_1660', 'Seq_1662', 'Seq_1663', 'Seq_1664', 'Seq_1668', 'Seq_1669', 'Seq_1670', 'Seq_1678', 'Seq_1679', 'Seq_1688', 'Seq_1694', 'Seq_1706', 'Seq_1710', 'Seq_1713', 'Seq_1714', 'Seq_1722', 'Seq_1723', 'Seq_1724', 'Seq_1725', 'Seq_1726', 'Seq_1727', 'Seq_1731', 'Seq_1743', 'Seq_1746', 'Seq_1755', 'Seq_1756', 'Seq_1757', 'Seq_1782', 'Seq_1784', 'Seq_1794', 'Seq_1795', 'Seq_1796', 'Seq_1828', 'Seq_1830', 'Seq_1835', 'Seq_1852', 'Seq_1854', 'Seq_1856', 'Seq_1871', 'Seq_1875', 'Seq_1876', 'Seq_1877', 'Seq_1885', 'Seq_1886', 'Seq_1892', 'Seq_1895', 'Seq_1902', 'Seq_1905', 'Seq_1922', 'Seq_1925']\n"
     ]
    }
   ],
   "source": [
    "print(len(LmSIDER2a_list), LmSIDER2a_list, sep=\"\\n\")"
   ]
  },
  {
   "cell_type": "code",
   "execution_count": 45,
   "metadata": {},
   "outputs": [
    {
     "name": "stdout",
     "output_type": "stream",
     "text": [
      "500\n",
      "['Seq_2', 'Seq_3', 'Seq_5', 'Seq_6', 'Seq_27', 'Seq_29', 'Seq_31', 'Seq_39', 'Seq_40', 'Seq_50', 'Seq_51', 'Seq_52', 'Seq_53', 'Seq_54', 'Seq_68', 'Seq_70', 'Seq_77', 'Seq_104', 'Seq_143', 'Seq_144', 'Seq_149', 'Seq_150', 'Seq_151', 'Seq_152', 'Seq_157', 'Seq_174', 'Seq_184', 'Seq_185', 'Seq_186', 'Seq_190', 'Seq_198', 'Seq_199', 'Seq_200', 'Seq_201', 'Seq_203', 'Seq_217', 'Seq_218', 'Seq_219', 'Seq_220', 'Seq_222', 'Seq_223', 'Seq_229', 'Seq_230', 'Seq_231', 'Seq_232', 'Seq_258', 'Seq_263', 'Seq_264', 'Seq_268', 'Seq_269', 'Seq_272', 'Seq_286', 'Seq_300', 'Seq_306', 'Seq_308', 'Seq_310', 'Seq_311', 'Seq_312', 'Seq_313', 'Seq_316', 'Seq_317', 'Seq_318', 'Seq_319', 'Seq_321', 'Seq_325', 'Seq_326', 'Seq_328', 'Seq_329', 'Seq_330', 'Seq_331', 'Seq_332', 'Seq_333', 'Seq_334', 'Seq_335', 'Seq_336', 'Seq_337', 'Seq_356', 'Seq_357', 'Seq_358', 'Seq_359', 'Seq_360', 'Seq_362', 'Seq_363', 'Seq_367', 'Seq_369', 'Seq_371', 'Seq_372', 'Seq_385', 'Seq_386', 'Seq_388', 'Seq_392', 'Seq_393', 'Seq_394', 'Seq_396', 'Seq_398', 'Seq_399', 'Seq_466', 'Seq_468', 'Seq_471', 'Seq_472', 'Seq_474', 'Seq_479', 'Seq_480', 'Seq_483', 'Seq_491', 'Seq_496', 'Seq_497', 'Seq_499', 'Seq_500', 'Seq_501', 'Seq_521', 'Seq_522', 'Seq_523', 'Seq_524', 'Seq_528', 'Seq_529', 'Seq_538', 'Seq_541', 'Seq_542', 'Seq_543', 'Seq_553', 'Seq_554', 'Seq_558', 'Seq_559', 'Seq_560', 'Seq_561', 'Seq_572', 'Seq_573', 'Seq_575', 'Seq_576', 'Seq_577', 'Seq_588', 'Seq_589', 'Seq_590', 'Seq_593', 'Seq_599', 'Seq_602', 'Seq_616', 'Seq_618', 'Seq_619', 'Seq_620', 'Seq_622', 'Seq_630', 'Seq_634', 'Seq_637', 'Seq_638', 'Seq_639', 'Seq_640', 'Seq_641', 'Seq_642', 'Seq_643', 'Seq_644', 'Seq_645', 'Seq_646', 'Seq_660', 'Seq_661', 'Seq_665', 'Seq_666', 'Seq_667', 'Seq_675', 'Seq_677', 'Seq_678', 'Seq_679', 'Seq_692', 'Seq_694', 'Seq_696', 'Seq_697', 'Seq_703', 'Seq_706', 'Seq_719', 'Seq_738', 'Seq_742', 'Seq_743', 'Seq_744', 'Seq_755', 'Seq_756', 'Seq_757', 'Seq_759', 'Seq_761', 'Seq_762', 'Seq_763', 'Seq_764', 'Seq_765', 'Seq_766', 'Seq_768', 'Seq_770', 'Seq_771', 'Seq_772', 'Seq_773', 'Seq_774', 'Seq_775', 'Seq_776', 'Seq_777', 'Seq_778', 'Seq_779', 'Seq_780', 'Seq_781', 'Seq_787', 'Seq_789', 'Seq_790', 'Seq_791', 'Seq_805', 'Seq_810', 'Seq_811', 'Seq_812', 'Seq_813', 'Seq_814', 'Seq_815', 'Seq_831', 'Seq_837', 'Seq_838', 'Seq_839', 'Seq_840', 'Seq_848', 'Seq_849', 'Seq_852', 'Seq_853', 'Seq_869', 'Seq_870', 'Seq_889', 'Seq_890', 'Seq_891', 'Seq_892', 'Seq_893', 'Seq_895', 'Seq_896', 'Seq_899', 'Seq_900', 'Seq_901', 'Seq_902', 'Seq_904', 'Seq_905', 'Seq_906', 'Seq_907', 'Seq_908', 'Seq_909', 'Seq_910', 'Seq_914', 'Seq_915', 'Seq_916', 'Seq_919', 'Seq_923', 'Seq_926', 'Seq_951', 'Seq_952', 'Seq_953', 'Seq_955', 'Seq_956', 'Seq_957', 'Seq_960', 'Seq_961', 'Seq_963', 'Seq_966', 'Seq_967', 'Seq_968', 'Seq_969', 'Seq_970', 'Seq_971', 'Seq_972', 'Seq_976', 'Seq_979', 'Seq_983', 'Seq_986', 'Seq_987', 'Seq_989', 'Seq_990', 'Seq_991', 'Seq_992', 'Seq_993', 'Seq_994', 'Seq_996', 'Seq_1006', 'Seq_1007', 'Seq_1009', 'Seq_1010', 'Seq_1025', 'Seq_1026', 'Seq_1028', 'Seq_1029', 'Seq_1030', 'Seq_1032', 'Seq_1033', 'Seq_1040', 'Seq_1042', 'Seq_1043', 'Seq_1052', 'Seq_1053', 'Seq_1054', 'Seq_1055', 'Seq_1060', 'Seq_1063', 'Seq_1068', 'Seq_1069', 'Seq_1070', 'Seq_1073', 'Seq_1075', 'Seq_1076', 'Seq_1077', 'Seq_1081', 'Seq_1106', 'Seq_1112', 'Seq_1113', 'Seq_1133', 'Seq_1135', 'Seq_1138', 'Seq_1140', 'Seq_1141', 'Seq_1142', 'Seq_1143', 'Seq_1144', 'Seq_1145', 'Seq_1148', 'Seq_1149', 'Seq_1150', 'Seq_1162', 'Seq_1164', 'Seq_1165', 'Seq_1166', 'Seq_1167', 'Seq_1168', 'Seq_1169', 'Seq_1172', 'Seq_1173', 'Seq_1175', 'Seq_1201', 'Seq_1202', 'Seq_1203', 'Seq_1205', 'Seq_1206', 'Seq_1209', 'Seq_1211', 'Seq_1214', 'Seq_1215', 'Seq_1224', 'Seq_1226', 'Seq_1227', 'Seq_1228', 'Seq_1232', 'Seq_1233', 'Seq_1246', 'Seq_1269', 'Seq_1275', 'Seq_1276', 'Seq_1279', 'Seq_1281', 'Seq_1292', 'Seq_1307', 'Seq_1308', 'Seq_1312', 'Seq_1314', 'Seq_1319', 'Seq_1320', 'Seq_1321', 'Seq_1331', 'Seq_1334', 'Seq_1335', 'Seq_1336', 'Seq_1353', 'Seq_1354', 'Seq_1357', 'Seq_1358', 'Seq_1359', 'Seq_1360', 'Seq_1361', 'Seq_1362', 'Seq_1363', 'Seq_1364', 'Seq_1372', 'Seq_1373', 'Seq_1375', 'Seq_1376', 'Seq_1378', 'Seq_1379', 'Seq_1396', 'Seq_1398', 'Seq_1399', 'Seq_1400', 'Seq_1401', 'Seq_1407', 'Seq_1408', 'Seq_1409', 'Seq_1412', 'Seq_1413', 'Seq_1414', 'Seq_1425', 'Seq_1433', 'Seq_1451', 'Seq_1453', 'Seq_1455', 'Seq_1456', 'Seq_1457', 'Seq_1458', 'Seq_1460', 'Seq_1472', 'Seq_1474', 'Seq_1482', 'Seq_1485', 'Seq_1486', 'Seq_1487', 'Seq_1488', 'Seq_1490', 'Seq_1491', 'Seq_1492', 'Seq_1493', 'Seq_1495', 'Seq_1497', 'Seq_1498', 'Seq_1499', 'Seq_1502', 'Seq_1518', 'Seq_1519', 'Seq_1535', 'Seq_1536', 'Seq_1537', 'Seq_1560', 'Seq_1561', 'Seq_1563', 'Seq_1564', 'Seq_1565', 'Seq_1567', 'Seq_1569', 'Seq_1570', 'Seq_1571', 'Seq_1579', 'Seq_1581', 'Seq_1582', 'Seq_1587', 'Seq_1588', 'Seq_1589', 'Seq_1590', 'Seq_1598', 'Seq_1609', 'Seq_1677', 'Seq_1678', 'Seq_1679', 'Seq_1685', 'Seq_1686', 'Seq_1687', 'Seq_1688', 'Seq_1690', 'Seq_1694', 'Seq_1703', 'Seq_1704', 'Seq_1706', 'Seq_1707', 'Seq_1713', 'Seq_1714', 'Seq_1716', 'Seq_1717', 'Seq_1718', 'Seq_1719', 'Seq_1722', 'Seq_1723', 'Seq_1724', 'Seq_1725', 'Seq_1726', 'Seq_1731', 'Seq_1733', 'Seq_1736', 'Seq_1764', 'Seq_1765', 'Seq_1768', 'Seq_1769', 'Seq_1772', 'Seq_1775', 'Seq_1776', 'Seq_1778', 'Seq_1781', 'Seq_1783', 'Seq_1785', 'Seq_1786', 'Seq_1787', 'Seq_1788', 'Seq_1790', 'Seq_1796', 'Seq_1799', 'Seq_1800', 'Seq_1813', 'Seq_1814', 'Seq_1815', 'Seq_1820', 'Seq_1857', 'Seq_1867', 'Seq_1868', 'Seq_1871', 'Seq_1872', 'Seq_1874', 'Seq_1882', 'Seq_1889', 'Seq_1890', 'Seq_1895', 'Seq_1900', 'Seq_1903', 'Seq_1907', 'Seq_1915', 'Seq_1928', 'Seq_1929', 'Seq_1932', 'Seq_1939', 'Seq_1940']\n"
     ]
    }
   ],
   "source": [
    "print(len(LmSIDER2b_list), LmSIDER2b_list, sep=\"\\n\")"
   ]
  },
  {
   "cell_type": "code",
   "execution_count": 52,
   "metadata": {},
   "outputs": [
    {
     "name": "stdout",
     "output_type": "stream",
     "text": [
      "There are 145 elements in both lists \n",
      "\tPercent of all elements: 7.43%\n",
      "There are 186 elements only in LmSIDER2a \n",
      "\tPercent of all elements: 9.53%\n",
      "There are 355 elements only in LmSIDER2b \n",
      "\tPercent of all elements: 18.20%\n",
      "Total elements: 686 \n",
      "\tPercent of all elements: 35.16%\n"
     ]
    }
   ],
   "source": [
    "# Now let's count elements in LmSIDER2a which are in LmSIDER2b\n",
    "LmSIDER2a_in_LmSIDER2b = [x for x in LmSIDER2a_list if x in LmSIDER2b_list]  # Lements in both lists\n",
    "LmSIDER2a_notin_LMSIDER2b = [x for x in LmSIDER2a_list if x not in LmSIDER2b_list]  # Elements only in LmSIDER2a\n",
    "LmSIDER2b_notin_LMSIDER2a = [x for x in LmSIDER2b_list if x not in LmSIDER2a_list]  # Elements only in LmSIDER2b\n",
    "Total_elements = len(LmSIDER2a_in_LmSIDER2b) + len(LmSIDER2a_notin_LMSIDER2b) + len(LmSIDER2b_notin_LMSIDER2a)\n",
    "print(f\"There are {len(LmSIDER2a_in_LmSIDER2b)} elements in both lists\",\n",
    "      f\"\\n\\tPercent of all elements: {len(LmSIDER2a_in_LmSIDER2b)/data_positive.shape[0]*100:.2f}%\")\n",
    "print(f\"There are {len(LmSIDER2a_notin_LMSIDER2b)} elements only in LmSIDER2a\",\n",
    "      f\"\\n\\tPercent of all elements: {len(LmSIDER2a_notin_LMSIDER2b)/data_positive.shape[0]*100:.2f}%\")\n",
    "print(f\"There are {len(LmSIDER2b_notin_LMSIDER2a)} elements only in LmSIDER2b\",\n",
    "      f\"\\n\\tPercent of all elements: {len(LmSIDER2b_notin_LMSIDER2a)/data_positive.shape[0]*100:.2f}%\")\n",
    "print(f\"Total elements: {Total_elements}\",\n",
    "      f\"\\n\\tPercent of all elements: {Total_elements/data_positive.shape[0]*100:.2f}%\")"
   ]
  },
  {
   "cell_type": "code",
   "execution_count": 55,
   "metadata": {},
   "outputs": [
    {
     "name": "stdout",
     "output_type": "stream",
     "text": [
      "Total elements with LmSIDER2a in the positive list: 339 \n",
      "\tUnique elements: 331 \n",
      "Total elements with LmSIDER2b in the positive list: 538 \n",
      "\tUnique elements: 500\n"
     ]
    }
   ],
   "source": [
    "## The same but with 0 identity\n",
    "LmSIDER2a_data0 = blastn_blaster(\"./blaster_pos/LmSIDER2a.fasta\", \"./blaster_pos/positives.fasta\", 0)\n",
    "LmSIDER2b_data0 = blastn_blaster(\"./blaster_pos/LmSIDER2b.fasta\", \"./blaster_pos/positives.fasta\", 0)\n",
    "print(f\"Total elements with LmSIDER2a in the positive list: {len(LmSIDER2a_data0)}\",\n",
    "      f\"\\n\\tUnique elements: {LmSIDER2a_data0[1].nunique()}\",\n",
    "      f\"\\nTotal elements with LmSIDER2b in the positive list: {len(LmSIDER2b_data0)}\",\n",
    "      f\"\\n\\tUnique elements: {LmSIDER2b_data0[1].nunique()}\"\n",
    "      )"
   ]
  },
  {
   "cell_type": "markdown",
   "metadata": {},
   "source": [
    "You can see it's exactly the same as before"
   ]
  }
 ],
 "metadata": {
  "kernelspec": {
   "display_name": "Python 3",
   "language": "python",
   "name": "python3"
  },
  "language_info": {
   "codemirror_mode": {
    "name": "ipython",
    "version": 3
   },
   "file_extension": ".py",
   "mimetype": "text/x-python",
   "name": "python",
   "nbconvert_exporter": "python",
   "pygments_lexer": "ipython3",
   "version": "3.10.12"
  }
 },
 "nbformat": 4,
 "nbformat_minor": 2
}
