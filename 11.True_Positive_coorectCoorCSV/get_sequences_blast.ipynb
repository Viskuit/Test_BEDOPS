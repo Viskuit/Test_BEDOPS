{
 "cells": [
  {
   "cell_type": "code",
   "execution_count": null,
   "metadata": {},
   "outputs": [],
   "source": [
    "import os"
   ]
  },
  {
   "cell_type": "code",
   "execution_count": 14,
   "metadata": {},
   "outputs": [
    {
     "data": {
      "text/plain": [
       "'/home/viskuit/Documents/Work_CBMSO/Testing_Leishmania_project/11.True_Positive_coorectCoorCSV'"
      ]
     },
     "execution_count": 14,
     "metadata": {},
     "output_type": "execute_result"
    }
   ],
   "source": [
    "os.chdir(\"/home/viskuit/Documents/Work_CBMSO/Testing_Leishmania_project/11.True_Positive_coorectCoorCSV\")\n",
    "os.getcwd()"
   ]
  },
  {
   "cell_type": "markdown",
   "metadata": {},
   "source": [
    "Prepare SIDERs data for each cromosome:"
   ]
  },
  {
   "cell_type": "code",
   "execution_count": null,
   "metadata": {},
   "outputs": [],
   "source": [
    "import glob\n",
    "import re"
   ]
  },
  {
   "cell_type": "code",
   "execution_count": 8,
   "metadata": {},
   "outputs": [],
   "source": [
    "# Path to BLAST results\n",
    "results_files = glob.glob(\"./data/SIDERs/*.fasta\")\n",
    "results_files\n",
    "\n",
    "# Let's order them by the cromosome number\n",
    "pattern = re.compile(r\"Chr(\\d+)\")\n",
    "results_files = sorted(results_files, key=lambda x: int(pattern.search(x).group(1)))\n",
    "\n",
    "# Let's create a dictionary with the chromosome number as key and the file path as value\n",
    "files_dict = {}\n",
    "for i in range(len(results_files)):\n",
    "    files_dict[f\"LinJ.{str(i+1).zfill(2)}\"] = results_files[i]"
   ]
  },
  {
   "cell_type": "markdown",
   "metadata": {},
   "source": [
    "Prepare the genome for each cromosome:"
   ]
  },
  {
   "cell_type": "code",
   "execution_count": 11,
   "metadata": {},
   "outputs": [],
   "source": [
    "from Bio import SeqIO"
   ]
  },
  {
   "cell_type": "code",
   "execution_count": 15,
   "metadata": {},
   "outputs": [],
   "source": [
    "genome_path = \"./data/dict/Whole_genome/TriTrypDB-67_LinfantumJPCM5_Genome.fasta\"\n",
    "folder_path = \"./data/dict\"\n",
    "\n",
    "chromosomes_dict = {}\n",
    "for record in SeqIO.parse(genome_path, \"fasta\"):\n",
    "    chr_folder_path = os.path.join(folder_path, record.id)\n",
    "    os.makedirs(chr_folder_path, exist_ok=True)\n",
    "    output_file = f\"{record.id}.fasta\"\n",
    "    output_path = os.path.join(chr_folder_path, output_file)\n",
    "    chromosomes_dict[record.id] = output_path\n",
    "    with open(output_path, \"w\") as f:\n",
    "        f.write(f\">{record.id}\\n{record.seq}\\n\")"
   ]
  },
  {
   "cell_type": "markdown",
   "metadata": {},
   "source": [
    "Create a BLASTn dict in each cromosome file"
   ]
  },
  {
   "cell_type": "code",
   "execution_count": 17,
   "metadata": {},
   "outputs": [
    {
     "name": "stdout",
     "output_type": "stream",
     "text": [
      "LinJ.01 ./data/dict/LinJ.01/LinJ.01.fasta\n",
      "LinJ.02 ./data/dict/LinJ.02/LinJ.02.fasta\n",
      "LinJ.03 ./data/dict/LinJ.03/LinJ.03.fasta\n",
      "LinJ.04 ./data/dict/LinJ.04/LinJ.04.fasta\n",
      "LinJ.05 ./data/dict/LinJ.05/LinJ.05.fasta\n",
      "LinJ.06 ./data/dict/LinJ.06/LinJ.06.fasta\n",
      "LinJ.07 ./data/dict/LinJ.07/LinJ.07.fasta\n",
      "LinJ.08 ./data/dict/LinJ.08/LinJ.08.fasta\n",
      "LinJ.09 ./data/dict/LinJ.09/LinJ.09.fasta\n",
      "LinJ.10 ./data/dict/LinJ.10/LinJ.10.fasta\n",
      "LinJ.11 ./data/dict/LinJ.11/LinJ.11.fasta\n",
      "LinJ.12 ./data/dict/LinJ.12/LinJ.12.fasta\n",
      "LinJ.13 ./data/dict/LinJ.13/LinJ.13.fasta\n",
      "LinJ.14 ./data/dict/LinJ.14/LinJ.14.fasta\n",
      "LinJ.15 ./data/dict/LinJ.15/LinJ.15.fasta\n",
      "LinJ.16 ./data/dict/LinJ.16/LinJ.16.fasta\n",
      "LinJ.17 ./data/dict/LinJ.17/LinJ.17.fasta\n",
      "LinJ.18 ./data/dict/LinJ.18/LinJ.18.fasta\n",
      "LinJ.19 ./data/dict/LinJ.19/LinJ.19.fasta\n",
      "LinJ.20 ./data/dict/LinJ.20/LinJ.20.fasta\n",
      "LinJ.21 ./data/dict/LinJ.21/LinJ.21.fasta\n",
      "LinJ.22 ./data/dict/LinJ.22/LinJ.22.fasta\n",
      "LinJ.23 ./data/dict/LinJ.23/LinJ.23.fasta\n",
      "LinJ.24 ./data/dict/LinJ.24/LinJ.24.fasta\n",
      "LinJ.25 ./data/dict/LinJ.25/LinJ.25.fasta\n",
      "LinJ.26 ./data/dict/LinJ.26/LinJ.26.fasta\n",
      "LinJ.27 ./data/dict/LinJ.27/LinJ.27.fasta\n",
      "LinJ.28 ./data/dict/LinJ.28/LinJ.28.fasta\n",
      "LinJ.29 ./data/dict/LinJ.29/LinJ.29.fasta\n",
      "LinJ.30 ./data/dict/LinJ.30/LinJ.30.fasta\n",
      "LinJ.31 ./data/dict/LinJ.31/LinJ.31.fasta\n",
      "LinJ.32 ./data/dict/LinJ.32/LinJ.32.fasta\n",
      "LinJ.33 ./data/dict/LinJ.33/LinJ.33.fasta\n",
      "LinJ.34 ./data/dict/LinJ.34/LinJ.34.fasta\n",
      "LinJ.35 ./data/dict/LinJ.35/LinJ.35.fasta\n",
      "LinJ.36 ./data/dict/LinJ.36/LinJ.36.fasta\n"
     ]
    }
   ],
   "source": [
    "for key, value in chromosomes_dict.items():\n",
    "    cmd = f\"makeblastdb -in {value} -dbtype nucl -parse_seqids -out {value}\""
   ]
  }
 ],
 "metadata": {
  "kernelspec": {
   "display_name": "Python 3",
   "language": "python",
   "name": "python3"
  },
  "language_info": {
   "codemirror_mode": {
    "name": "ipython",
    "version": 3
   },
   "file_extension": ".py",
   "mimetype": "text/x-python",
   "name": "python",
   "nbconvert_exporter": "python",
   "pygments_lexer": "ipython3",
   "version": "3.12.3"
  }
 },
 "nbformat": 4,
 "nbformat_minor": 2
}
