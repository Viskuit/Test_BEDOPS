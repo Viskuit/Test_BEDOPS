{
 "cells": [
  {
   "cell_type": "markdown",
   "metadata": {},
   "source": [
    "The real coordinates of the data from the SIDER2 in the chromosome 1 is:\n",
    "1) plus 24099-24758 !\n",
    "2) minus 35933-35313 !\n",
    "3) minus 55758-54697 !\n",
    "4) minus 114223-113357 ! \n",
    "5) minus 130738-129878 ! \n",
    "6) plus 137266-138019 ! \n",
    "7) plus 205359-206213 !"
   ]
  },
  {
   "cell_type": "markdown",
   "metadata": {},
   "source": [
    "Lets make a fasta file with the csv data from \"./RUN20_LinJ.01.csv\""
   ]
  },
  {
   "cell_type": "code",
   "execution_count": 80,
   "metadata": {},
   "outputs": [],
   "source": [
    "import pandas as pd\n",
    "import numpy as np\n",
    "from Bio import SeqIO\n",
    "from Bio.Seq import Seq\n",
    "from Bio.SeqRecord import SeqRecord"
   ]
  },
  {
   "cell_type": "code",
   "execution_count": 81,
   "metadata": {},
   "outputs": [],
   "source": [
    "linj01_df = pd.read_csv(\"./RUN20_LinJ.01.csv\", sep=\",\", header=None)"
   ]
  },
  {
   "cell_type": "code",
   "execution_count": null,
   "metadata": {},
   "outputs": [],
   "source": []
  },
  {
   "cell_type": "code",
   "execution_count": 82,
   "metadata": {},
   "outputs": [],
   "source": [
    "def fasta_creator(path_input, fasta_output_path):\n",
    "\n",
    "    data_df = pd.read_csv(path_input, sep=\",\", header=None)\n",
    "\n",
    "    fasta_df = []\n",
    "    for index, row in enumerate(data_df.iterrows()):\n",
    "        row = row[1]\n",
    "        rec = SeqRecord(\n",
    "            Seq(row.iloc[5]),\n",
    "            id=\"Seq_\" + str(index) + \"_\" + row.iloc[0] + \"_\" + row.iloc[4],  # Que tenga aqui el sentido es esencial para luego filtrarlos\n",
    "            description=\"Leishmania infantum \" + row.iloc[4]\n",
    "        )\n",
    "        fasta_df.append(rec)\n",
    "\n",
    "    SeqIO.write(fasta_df, fasta_output_path, \"fasta\")\n",
    "    print(\"\\nFasta created at:\", fasta_output_path)"
   ]
  },
  {
   "cell_type": "code",
   "execution_count": 83,
   "metadata": {},
   "outputs": [
    {
     "name": "stdout",
     "output_type": "stream",
     "text": [
      "\n",
      "Fasta created at: RUN20_LinJ.01.fasta\n"
     ]
    }
   ],
   "source": [
    "fasta_creator(\"RUN20_LinJ.01.csv\", \"RUN20_LinJ.01.fasta\")"
   ]
  },
  {
   "cell_type": "markdown",
   "metadata": {},
   "source": [
    "# Create a data frame to compare"
   ]
  },
  {
   "cell_type": "code",
   "execution_count": 84,
   "metadata": {},
   "outputs": [
    {
     "data": {
      "text/html": [
       "<div>\n",
       "<style scoped>\n",
       "    .dataframe tbody tr th:only-of-type {\n",
       "        vertical-align: middle;\n",
       "    }\n",
       "\n",
       "    .dataframe tbody tr th {\n",
       "        vertical-align: top;\n",
       "    }\n",
       "\n",
       "    .dataframe thead th {\n",
       "        text-align: right;\n",
       "    }\n",
       "</style>\n",
       "<table border=\"1\" class=\"dataframe\">\n",
       "  <thead>\n",
       "    <tr style=\"text-align: right;\">\n",
       "      <th></th>\n",
       "      <th>strand</th>\n",
       "      <th>Start_TP</th>\n",
       "      <th>End_TP</th>\n",
       "      <th>Start_Test</th>\n",
       "      <th>End_Test</th>\n",
       "    </tr>\n",
       "  </thead>\n",
       "  <tbody>\n",
       "    <tr>\n",
       "      <th>0</th>\n",
       "      <td>plus</td>\n",
       "      <td>24099</td>\n",
       "      <td>24758</td>\n",
       "      <td>24093</td>\n",
       "      <td>24758</td>\n",
       "    </tr>\n",
       "    <tr>\n",
       "      <th>1</th>\n",
       "      <td>minus</td>\n",
       "      <td>35933</td>\n",
       "      <td>35313</td>\n",
       "      <td>36163</td>\n",
       "      <td>35374</td>\n",
       "    </tr>\n",
       "    <tr>\n",
       "      <th>2</th>\n",
       "      <td>minus</td>\n",
       "      <td>55758</td>\n",
       "      <td>54697</td>\n",
       "      <td>55775</td>\n",
       "      <td>54986</td>\n",
       "    </tr>\n",
       "    <tr>\n",
       "      <th>3</th>\n",
       "      <td>minus</td>\n",
       "      <td>114223</td>\n",
       "      <td>113357</td>\n",
       "      <td>114388</td>\n",
       "      <td>113760</td>\n",
       "    </tr>\n",
       "    <tr>\n",
       "      <th>4</th>\n",
       "      <td>minus</td>\n",
       "      <td>130738</td>\n",
       "      <td>129878</td>\n",
       "      <td>130854</td>\n",
       "      <td>130227</td>\n",
       "    </tr>\n",
       "  </tbody>\n",
       "</table>\n",
       "</div>"
      ],
      "text/plain": [
       "  strand  Start_TP  End_TP  Start_Test  End_Test\n",
       "0   plus     24099   24758       24093     24758\n",
       "1  minus     35933   35313       36163     35374\n",
       "2  minus     55758   54697       55775     54986\n",
       "3  minus    114223  113357      114388    113760\n",
       "4  minus    130738  129878      130854    130227"
      ]
     },
     "execution_count": 84,
     "metadata": {},
     "output_type": "execute_result"
    }
   ],
   "source": [
    "data =[\n",
    "        [\"plus\", \"minus\", \"minus\", \"minus\", \"minus\", \"plus\", \"plus\"],\n",
    "        [24099, 35933, 55758, 114223, 130738, 137266, 205359],\n",
    "        [24758, 35313, 54697, 113357, 129878, 138019, 206213],\n",
    "        [24093, 36163, 55775, 114388, 130854, 137458, 205558],\n",
    "        [24758, 35374, 54986, 113760, 130227, 137919, 206003]\n",
    "    ]\n",
    "\n",
    "data_transposed = list(zip(*data))\n",
    "\n",
    "compare_df = pd.DataFrame(data_transposed,\n",
    "    columns=[\"strand\", \"Start_TP\", \"End_TP\", \"Start_Test\", \"End_Test\"]\n",
    ")\n",
    "\n",
    "compare_df.head()"
   ]
  },
  {
   "cell_type": "code",
   "execution_count": 85,
   "metadata": {},
   "outputs": [
    {
     "data": {
      "text/html": [
       "<div>\n",
       "<style scoped>\n",
       "    .dataframe tbody tr th:only-of-type {\n",
       "        vertical-align: middle;\n",
       "    }\n",
       "\n",
       "    .dataframe tbody tr th {\n",
       "        vertical-align: top;\n",
       "    }\n",
       "\n",
       "    .dataframe thead th {\n",
       "        text-align: right;\n",
       "    }\n",
       "</style>\n",
       "<table border=\"1\" class=\"dataframe\">\n",
       "  <thead>\n",
       "    <tr style=\"text-align: right;\">\n",
       "      <th></th>\n",
       "      <th>strand</th>\n",
       "      <th>Start_TP</th>\n",
       "      <th>End_TP</th>\n",
       "      <th>Start_Test</th>\n",
       "      <th>End_Test</th>\n",
       "      <th>Start_Difference</th>\n",
       "      <th>End_Difference</th>\n",
       "    </tr>\n",
       "  </thead>\n",
       "  <tbody>\n",
       "    <tr>\n",
       "      <th>0</th>\n",
       "      <td>plus</td>\n",
       "      <td>24099</td>\n",
       "      <td>24758</td>\n",
       "      <td>24093</td>\n",
       "      <td>24758</td>\n",
       "      <td>-6</td>\n",
       "      <td>0</td>\n",
       "    </tr>\n",
       "    <tr>\n",
       "      <th>1</th>\n",
       "      <td>minus</td>\n",
       "      <td>35933</td>\n",
       "      <td>35313</td>\n",
       "      <td>36163</td>\n",
       "      <td>35374</td>\n",
       "      <td>230</td>\n",
       "      <td>61</td>\n",
       "    </tr>\n",
       "    <tr>\n",
       "      <th>2</th>\n",
       "      <td>minus</td>\n",
       "      <td>55758</td>\n",
       "      <td>54697</td>\n",
       "      <td>55775</td>\n",
       "      <td>54986</td>\n",
       "      <td>17</td>\n",
       "      <td>289</td>\n",
       "    </tr>\n",
       "    <tr>\n",
       "      <th>3</th>\n",
       "      <td>minus</td>\n",
       "      <td>114223</td>\n",
       "      <td>113357</td>\n",
       "      <td>114388</td>\n",
       "      <td>113760</td>\n",
       "      <td>165</td>\n",
       "      <td>403</td>\n",
       "    </tr>\n",
       "    <tr>\n",
       "      <th>4</th>\n",
       "      <td>minus</td>\n",
       "      <td>130738</td>\n",
       "      <td>129878</td>\n",
       "      <td>130854</td>\n",
       "      <td>130227</td>\n",
       "      <td>116</td>\n",
       "      <td>349</td>\n",
       "    </tr>\n",
       "  </tbody>\n",
       "</table>\n",
       "</div>"
      ],
      "text/plain": [
       "  strand  Start_TP  End_TP  Start_Test  End_Test  Start_Difference  \\\n",
       "0   plus     24099   24758       24093     24758                -6   \n",
       "1  minus     35933   35313       36163     35374               230   \n",
       "2  minus     55758   54697       55775     54986                17   \n",
       "3  minus    114223  113357      114388    113760               165   \n",
       "4  minus    130738  129878      130854    130227               116   \n",
       "\n",
       "   End_Difference  \n",
       "0               0  \n",
       "1              61  \n",
       "2             289  \n",
       "3             403  \n",
       "4             349  "
      ]
     },
     "execution_count": 85,
     "metadata": {},
     "output_type": "execute_result"
    }
   ],
   "source": [
    "compare_df[\"Start_Difference\"] = compare_df.apply(lambda x: x[\"Start_Test\"] - x[\"Start_TP\"], axis=1)\n",
    "compare_df[\"End_Difference\"] = compare_df.apply(lambda x: x[\"End_Test\"] - x[\"End_TP\"], axis=1)\n",
    "compare_df.head()\n"
   ]
  },
  {
   "cell_type": "code",
   "execution_count": 86,
   "metadata": {},
   "outputs": [],
   "source": [
    "seq_len_TP = []\n",
    "for value in compare_df.iterrows():\n",
    "    value = value[1]\n",
    "    seq_len_TP.append(abs(value[\"End_TP\"] - value[\"Start_TP\"]) + 1)\n",
    "    # print(abs(value.loc[\"End_TP\"] - value.loc[\"Start_TP\"]) + 1)\n",
    "\n",
    "seq_len_Test = []\n",
    "for value in compare_df.iterrows():\n",
    "    value = value[1]\n",
    "    seq_len_Test.append(abs(value[\"End_Test\"] - value[\"Start_Test\"]) + 1)\n",
    "    # print(abs(value.loc[\"End_Test\"] - value.loc[\"Start_Test\"]) + 1)"
   ]
  },
  {
   "cell_type": "code",
   "execution_count": 87,
   "metadata": {},
   "outputs": [],
   "source": [
    "compare_df[\"Seq_Len_TP\"] = seq_len_TP\n",
    "compare_df[\"Seq_Len_Test\"] = seq_len_Test\n",
    "compare_df[\"Seq_Len_Difference\"] = compare_df[\"Seq_Len_Test\"] - compare_df[\"Seq_Len_TP\"]"
   ]
  },
  {
   "cell_type": "code",
   "execution_count": 115,
   "metadata": {},
   "outputs": [
    {
     "data": {
      "text/html": [
       "<div>\n",
       "<style scoped>\n",
       "    .dataframe tbody tr th:only-of-type {\n",
       "        vertical-align: middle;\n",
       "    }\n",
       "\n",
       "    .dataframe tbody tr th {\n",
       "        vertical-align: top;\n",
       "    }\n",
       "\n",
       "    .dataframe thead th {\n",
       "        text-align: right;\n",
       "    }\n",
       "</style>\n",
       "<table border=\"1\" class=\"dataframe\">\n",
       "  <thead>\n",
       "    <tr style=\"text-align: right;\">\n",
       "      <th></th>\n",
       "      <th>strand</th>\n",
       "      <th>Start_TP</th>\n",
       "      <th>End_TP</th>\n",
       "      <th>Start_Test</th>\n",
       "      <th>End_Test</th>\n",
       "      <th>Start_Difference</th>\n",
       "      <th>End_Difference</th>\n",
       "      <th>Seq_Len_TP</th>\n",
       "      <th>Seq_Len_Test</th>\n",
       "      <th>Seq_Len_Difference</th>\n",
       "    </tr>\n",
       "  </thead>\n",
       "  <tbody>\n",
       "    <tr>\n",
       "      <th>0</th>\n",
       "      <td>plus</td>\n",
       "      <td>24099</td>\n",
       "      <td>24758</td>\n",
       "      <td>24093</td>\n",
       "      <td>24758</td>\n",
       "      <td>-6</td>\n",
       "      <td>0</td>\n",
       "      <td>660</td>\n",
       "      <td>666</td>\n",
       "      <td>6</td>\n",
       "    </tr>\n",
       "    <tr>\n",
       "      <th>1</th>\n",
       "      <td>minus</td>\n",
       "      <td>35933</td>\n",
       "      <td>35313</td>\n",
       "      <td>36163</td>\n",
       "      <td>35374</td>\n",
       "      <td>230</td>\n",
       "      <td>61</td>\n",
       "      <td>621</td>\n",
       "      <td>790</td>\n",
       "      <td>169</td>\n",
       "    </tr>\n",
       "    <tr>\n",
       "      <th>2</th>\n",
       "      <td>minus</td>\n",
       "      <td>55758</td>\n",
       "      <td>54697</td>\n",
       "      <td>55775</td>\n",
       "      <td>54986</td>\n",
       "      <td>17</td>\n",
       "      <td>289</td>\n",
       "      <td>1062</td>\n",
       "      <td>790</td>\n",
       "      <td>-272</td>\n",
       "    </tr>\n",
       "    <tr>\n",
       "      <th>3</th>\n",
       "      <td>minus</td>\n",
       "      <td>114223</td>\n",
       "      <td>113357</td>\n",
       "      <td>114388</td>\n",
       "      <td>113760</td>\n",
       "      <td>165</td>\n",
       "      <td>403</td>\n",
       "      <td>867</td>\n",
       "      <td>629</td>\n",
       "      <td>-238</td>\n",
       "    </tr>\n",
       "    <tr>\n",
       "      <th>4</th>\n",
       "      <td>minus</td>\n",
       "      <td>130738</td>\n",
       "      <td>129878</td>\n",
       "      <td>130854</td>\n",
       "      <td>130227</td>\n",
       "      <td>116</td>\n",
       "      <td>349</td>\n",
       "      <td>861</td>\n",
       "      <td>628</td>\n",
       "      <td>-233</td>\n",
       "    </tr>\n",
       "    <tr>\n",
       "      <th>5</th>\n",
       "      <td>plus</td>\n",
       "      <td>137266</td>\n",
       "      <td>138019</td>\n",
       "      <td>137458</td>\n",
       "      <td>137919</td>\n",
       "      <td>192</td>\n",
       "      <td>-100</td>\n",
       "      <td>754</td>\n",
       "      <td>462</td>\n",
       "      <td>-292</td>\n",
       "    </tr>\n",
       "    <tr>\n",
       "      <th>6</th>\n",
       "      <td>plus</td>\n",
       "      <td>205359</td>\n",
       "      <td>206213</td>\n",
       "      <td>205558</td>\n",
       "      <td>206003</td>\n",
       "      <td>199</td>\n",
       "      <td>-210</td>\n",
       "      <td>855</td>\n",
       "      <td>446</td>\n",
       "      <td>-409</td>\n",
       "    </tr>\n",
       "  </tbody>\n",
       "</table>\n",
       "</div>"
      ],
      "text/plain": [
       "  strand  Start_TP  End_TP  Start_Test  End_Test  Start_Difference  \\\n",
       "0   plus     24099   24758       24093     24758                -6   \n",
       "1  minus     35933   35313       36163     35374               230   \n",
       "2  minus     55758   54697       55775     54986                17   \n",
       "3  minus    114223  113357      114388    113760               165   \n",
       "4  minus    130738  129878      130854    130227               116   \n",
       "5   plus    137266  138019      137458    137919               192   \n",
       "6   plus    205359  206213      205558    206003               199   \n",
       "\n",
       "   End_Difference  Seq_Len_TP  Seq_Len_Test  Seq_Len_Difference  \n",
       "0               0         660           666                   6  \n",
       "1              61         621           790                 169  \n",
       "2             289        1062           790                -272  \n",
       "3             403         867           629                -238  \n",
       "4             349         861           628                -233  \n",
       "5            -100         754           462                -292  \n",
       "6            -210         855           446                -409  "
      ]
     },
     "execution_count": 115,
     "metadata": {},
     "output_type": "execute_result"
    }
   ],
   "source": [
    "compare_df"
   ]
  },
  {
   "cell_type": "code",
   "execution_count": 91,
   "metadata": {},
   "outputs": [
    {
     "data": {
      "text/plain": [
       "[24093, 36163, 55775, 114388, 130854, 137458, 205558]"
      ]
     },
     "execution_count": 91,
     "metadata": {},
     "output_type": "execute_result"
    }
   ],
   "source": [
    "list(compare_df[\"Start_Test\"])"
   ]
  },
  {
   "cell_type": "code",
   "execution_count": 96,
   "metadata": {},
   "outputs": [
    {
     "name": "stdout",
     "output_type": "stream",
     "text": [
      "1 sequence in PLUS found START in 24093\n",
      "2 sequence in PLUS found START in 137458\n",
      "3 sequence in PLUS found START in 205558\n",
      "4 sequence in MINUS found START in 36163\n",
      "5 sequence in MINUS found START in 55775\n",
      "6 sequence in MINUS found START in 114388\n",
      "7 sequence in MINUS found START in 130854\n"
     ]
    }
   ],
   "source": [
    "plus_list = list(compare_df[compare_df[\"strand\"] == \"plus\"][\"Start_Test\"])\n",
    "minus_list = list(compare_df[compare_df[\"strand\"] == \"minus\"][\"Start_Test\"])\n",
    "\n",
    "counter = 1\n",
    "for value in pd.read_csv(\"../Data/To_analyze/RUNS/run_19.csv\", sep=\",\", header=None).iterrows():\n",
    "    value = value[1]\n",
    "    if value[1] == \"LinJ.01\" and value[14] == \"plus\":\n",
    "        if value[10] in plus_list:\n",
    "            print(f\"{counter} sequence in PLUS found START in {value[10]}\")\n",
    "            counter += 1\n",
    "    \n",
    "    elif value[1] == \"LinJ.01\" and value[14] == \"minus\":\n",
    "        if value[10] in minus_list:\n",
    "            print(f\"{counter} sequence in MINUS found START in {value[10]}\")\n",
    "            counter += 1\n",
    "\n",
    "    "
   ]
  },
  {
   "cell_type": "code",
   "execution_count": 123,
   "metadata": {},
   "outputs": [
    {
     "data": {
      "text/plain": [
       "[[24093, 137458, 205558], [24758, 138019, 206213]]"
      ]
     },
     "execution_count": 123,
     "metadata": {},
     "output_type": "execute_result"
    }
   ],
   "source": [
    "plus_list"
   ]
  },
  {
   "cell_type": "code",
   "execution_count": 125,
   "metadata": {},
   "outputs": [
    {
     "data": {
      "text/plain": [
       "[[36163, 55775, 114388, 130854], [35313, 54697, 113357, 129878]]"
      ]
     },
     "execution_count": 125,
     "metadata": {},
     "output_type": "execute_result"
    }
   ],
   "source": [
    "minus_list"
   ]
  },
  {
   "cell_type": "code",
   "execution_count": 150,
   "metadata": {},
   "outputs": [],
   "source": [
    "plus_list = [list(compare_df[compare_df[\"strand\"] == \"plus\"][\"Start_Test\"]),\n",
    "            list(compare_df[compare_df[\"strand\"] == \"plus\"][\"End_TP\"])\n",
    "]\n",
    "minus_list = [list(compare_df[compare_df[\"strand\"] == \"minus\"][\"Start_Test\"]),\n",
    "            list(compare_df[compare_df[\"strand\"] == \"minus\"][\"End_TP\"])\n",
    "]"
   ]
  },
  {
   "cell_type": "code",
   "execution_count": 152,
   "metadata": {},
   "outputs": [
    {
     "data": {
      "text/plain": [
       "[[36163, 55775, 114388, 130854], [35313, 54697, 113357, 129878]]"
      ]
     },
     "execution_count": 152,
     "metadata": {},
     "output_type": "execute_result"
    }
   ],
   "source": [
    "minus_list"
   ]
  },
  {
   "cell_type": "code",
   "execution_count": 149,
   "metadata": {},
   "outputs": [
    {
     "name": "stdout",
     "output_type": "stream",
     "text": [
      "24093\n",
      "<class 'int'>\n",
      "[24093, 137458, 205558]\n",
      "1 sequence in PLUS found START in 24093\n",
      "35316\n",
      "<class 'int'>\n",
      "24093\n"
     ]
    },
    {
     "ename": "TypeError",
     "evalue": "argument of type 'int' is not iterable",
     "output_type": "error",
     "traceback": [
      "\u001b[0;31m---------------------------------------------------------------------------\u001b[0m",
      "\u001b[0;31mTypeError\u001b[0m                                 Traceback (most recent call last)",
      "Cell \u001b[0;32mIn[149], line 27\u001b[0m\n\u001b[1;32m     25\u001b[0m                 \u001b[38;5;28mprint\u001b[39m(\u001b[38;5;124mf\u001b[39m\u001b[38;5;124m\"\u001b[39m\u001b[38;5;132;01m{\u001b[39;00mcounter\u001b[38;5;132;01m}\u001b[39;00m\u001b[38;5;124m sequence in MINUS found \u001b[39m\u001b[38;5;132;01m{\u001b[39;00mcoor\u001b[38;5;241m.\u001b[39mupper()\u001b[38;5;132;01m}\u001b[39;00m\u001b[38;5;124m in \u001b[39m\u001b[38;5;132;01m{\u001b[39;00mcoor2\u001b[38;5;132;01m}\u001b[39;00m\u001b[38;5;124m\"\u001b[39m)\n\u001b[1;32m     26\u001b[0m                 counter \u001b[38;5;241m+\u001b[39m\u001b[38;5;241m=\u001b[39m \u001b[38;5;241m1\u001b[39m\n\u001b[0;32m---> 27\u001b[0m \u001b[43mcomparative_csv\u001b[49m\u001b[43m(\u001b[49m\u001b[38;5;124;43m\"\u001b[39;49m\u001b[38;5;124;43m../Data/To_analyze/RUNS/run_19.csv\u001b[39;49m\u001b[38;5;124;43m\"\u001b[39;49m\u001b[43m,\u001b[49m\u001b[43m \u001b[49m\u001b[38;5;124;43m\"\u001b[39;49m\u001b[38;5;124;43mstart\u001b[39;49m\u001b[38;5;124;43m\"\u001b[39;49m\u001b[43m,\u001b[49m\u001b[43m \u001b[49m\u001b[43mplus_list\u001b[49m\u001b[43m,\u001b[49m\u001b[43m \u001b[49m\u001b[43mminus_list\u001b[49m\u001b[43m)\u001b[49m\n",
      "Cell \u001b[0;32mIn[149], line 19\u001b[0m, in \u001b[0;36mcomparative_csv\u001b[0;34m(path_input, coor, plus_list, minus_list)\u001b[0m\n\u001b[1;32m     17\u001b[0m \u001b[38;5;28mprint\u001b[39m(\u001b[38;5;28mtype\u001b[39m(coor2))\n\u001b[1;32m     18\u001b[0m \u001b[38;5;28mprint\u001b[39m(plus_list)\n\u001b[0;32m---> 19\u001b[0m \u001b[38;5;28;01mif\u001b[39;00m \u001b[43mcoor2\u001b[49m\u001b[43m \u001b[49m\u001b[38;5;129;43;01min\u001b[39;49;00m\u001b[43m \u001b[49m\u001b[43mplus_list\u001b[49m:\n\u001b[1;32m     20\u001b[0m     \u001b[38;5;28mprint\u001b[39m(\u001b[38;5;124mf\u001b[39m\u001b[38;5;124m\"\u001b[39m\u001b[38;5;132;01m{\u001b[39;00mcounter\u001b[38;5;132;01m}\u001b[39;00m\u001b[38;5;124m sequence in PLUS found \u001b[39m\u001b[38;5;132;01m{\u001b[39;00mcoor\u001b[38;5;241m.\u001b[39mupper()\u001b[38;5;132;01m}\u001b[39;00m\u001b[38;5;124m in \u001b[39m\u001b[38;5;132;01m{\u001b[39;00mcoor2\u001b[38;5;132;01m}\u001b[39;00m\u001b[38;5;124m\"\u001b[39m)\n\u001b[1;32m     21\u001b[0m     counter \u001b[38;5;241m+\u001b[39m\u001b[38;5;241m=\u001b[39m \u001b[38;5;241m1\u001b[39m\n",
      "\u001b[0;31mTypeError\u001b[0m: argument of type 'int' is not iterable"
     ]
    }
   ],
   "source": [
    "def comparative_csv(path_input, coor, plus_list, minus_list):\n",
    "    counter = 1\n",
    "    for value in pd.read_csv(path_input, sep=\",\", header=None).iterrows():\n",
    "        value = value[1]\n",
    "\n",
    "        if coor == \"start\": \n",
    "            coor2 = value[10]\n",
    "            plus_list = plus_list[0]\n",
    "            minus_list = minus_list[0]\n",
    "        elif coor == \"end\": \n",
    "            coor2 = value[11]\n",
    "            plus_list = plus_list[1]\n",
    "            minus_list = minus_list[1]\n",
    "\n",
    "        if value[1] == \"LinJ.01\" and value[14] == \"plus\":\n",
    "            print(coor2)\n",
    "            print(type(coor2))\n",
    "            print(plus_list)\n",
    "            if coor2 in plus_list:\n",
    "                print(f\"{counter} sequence in PLUS found {coor.upper()} in {coor2}\")\n",
    "                counter += 1\n",
    "        \n",
    "        elif value[1] == \"LinJ.01\" and value[14] == \"minus\":\n",
    "            if coor2 in minus_list:\n",
    "                print(f\"{counter} sequence in MINUS found {coor.upper()} in {coor2}\")\n",
    "                counter += 1\n",
    "comparative_csv(\"../Data/To_analyze/RUNS/run_19.csv\", \"start\", plus_list, minus_list)"
   ]
  },
  {
   "cell_type": "code",
   "execution_count": 143,
   "metadata": {},
   "outputs": [
    {
     "name": "stdout",
     "output_type": "stream",
     "text": [
      "24093\n",
      "<class 'int'>\n",
      "1 sequence in PLUS found START in 24093\n",
      "35316\n",
      "<class 'int'>\n"
     ]
    },
    {
     "ename": "TypeError",
     "evalue": "argument of type 'int' is not iterable",
     "output_type": "error",
     "traceback": [
      "\u001b[0;31m---------------------------------------------------------------------------\u001b[0m",
      "\u001b[0;31mTypeError\u001b[0m                                 Traceback (most recent call last)",
      "Cell \u001b[0;32mIn[143], line 1\u001b[0m\n\u001b[0;32m----> 1\u001b[0m \u001b[43mcomparative_csv\u001b[49m\u001b[43m(\u001b[49m\u001b[38;5;124;43m\"\u001b[39;49m\u001b[38;5;124;43m../Data/To_analyze/RUNS/run_19.csv\u001b[39;49m\u001b[38;5;124;43m\"\u001b[39;49m\u001b[43m,\u001b[49m\u001b[43m \u001b[49m\u001b[38;5;124;43m\"\u001b[39;49m\u001b[38;5;124;43mstart\u001b[39;49m\u001b[38;5;124;43m\"\u001b[39;49m\u001b[43m,\u001b[49m\u001b[43m \u001b[49m\u001b[43mplus_list\u001b[49m\u001b[43m,\u001b[49m\u001b[43m \u001b[49m\u001b[43mminus_list\u001b[49m\u001b[43m)\u001b[49m\n",
      "Cell \u001b[0;32mIn[142], line 18\u001b[0m, in \u001b[0;36mcomparative_csv\u001b[0;34m(path_input, coor, plus_list, minus_list)\u001b[0m\n\u001b[1;32m     16\u001b[0m \u001b[38;5;28mprint\u001b[39m(coor2)\n\u001b[1;32m     17\u001b[0m \u001b[38;5;28mprint\u001b[39m(\u001b[38;5;28mtype\u001b[39m(coor2))\n\u001b[0;32m---> 18\u001b[0m \u001b[38;5;28;01mif\u001b[39;00m \u001b[43mcoor2\u001b[49m\u001b[43m \u001b[49m\u001b[38;5;129;43;01min\u001b[39;49;00m\u001b[43m \u001b[49m\u001b[43mplus_list\u001b[49m:\n\u001b[1;32m     19\u001b[0m     \u001b[38;5;28mprint\u001b[39m(\u001b[38;5;124mf\u001b[39m\u001b[38;5;124m\"\u001b[39m\u001b[38;5;132;01m{\u001b[39;00mcounter\u001b[38;5;132;01m}\u001b[39;00m\u001b[38;5;124m sequence in PLUS found \u001b[39m\u001b[38;5;132;01m{\u001b[39;00mcoor\u001b[38;5;241m.\u001b[39mupper()\u001b[38;5;132;01m}\u001b[39;00m\u001b[38;5;124m in \u001b[39m\u001b[38;5;132;01m{\u001b[39;00mcoor2\u001b[38;5;132;01m}\u001b[39;00m\u001b[38;5;124m\"\u001b[39m)\n\u001b[1;32m     20\u001b[0m     counter \u001b[38;5;241m+\u001b[39m\u001b[38;5;241m=\u001b[39m \u001b[38;5;241m1\u001b[39m\n",
      "\u001b[0;31mTypeError\u001b[0m: argument of type 'int' is not iterable"
     ]
    }
   ],
   "source": [
    "comparative_csv(\"../Data/To_analyze/RUNS/run_19.csv\", \"start\", plus_list, minus_list)"
   ]
  }
 ],
 "metadata": {
  "kernelspec": {
   "display_name": "Python 3",
   "language": "python",
   "name": "python3"
  },
  "language_info": {
   "codemirror_mode": {
    "name": "ipython",
    "version": 3
   },
   "file_extension": ".py",
   "mimetype": "text/x-python",
   "name": "python",
   "nbconvert_exporter": "python",
   "pygments_lexer": "ipython3",
   "version": "3.10.12"
  }
 },
 "nbformat": 4,
 "nbformat_minor": 2
}
