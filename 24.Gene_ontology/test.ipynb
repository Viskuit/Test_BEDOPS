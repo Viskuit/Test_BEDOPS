{
 "cells": [
  {
   "cell_type": "markdown",
   "metadata": {},
   "source": [
    "Author: Ronny F. Pacheco Date: Jul 2024\n",
    "Copyright: © 2024 Ronny Pacheco License: MIT License\n",
    "\n",
    "---\n",
    "\n",
    "MIT License\n",
    "\n",
    "Copyright (c) 2024 Ronny Pacheco\n",
    "\n",
    "Permission is hereby granted, free of charge, to any person obtaining a copy of this software and associated documentation files (the \"Software\"), to deal in the Software without restriction, including without limitation the rights to use, copy, modify, merge, publish, distribute, sublicense, and/or sell copies of the Software, and to permit persons to whom the Software is furnished to do so, subject to the following conditions:\n",
    "\n",
    "The above copyright notice and this permission notice shall be included in all copies or substantial portions of the Software.\n",
    "\n",
    "THE SOFTWARE IS PROVIDED \"AS IS\", WITHOUT WARRANTY OF ANY KIND, EXPRESS OR IMPLIED, INCLUDING BUT NOT LIMITED TO THE WARRANTIES OF MERCHANTABILITY, FITNESS FOR A PARTICULAR PURPOSE AND NONINFRINGEMENT. IN NO EVENT SHALL THE AUTHORS OR COPYRIGHT HOLDERS BE LIABLE FOR ANY CLAIM, DAMAGES OR OTHER LIABILITY, WHETHER IN AN ACTION OF CONTRACT, TORT OR OTHERWISE, ARISING FROM, OUT OF OR IN CONNECTION WITH THE SOFTWARE OR THE USE OR OTHER DEALINGS IN THE SOFTWARE."
   ]
  },
  {
   "cell_type": "markdown",
   "metadata": {},
   "source": [
    "# Picke save"
   ]
  },
  {
   "cell_type": "code",
   "execution_count": 2,
   "metadata": {},
   "outputs": [],
   "source": [
    "# =============================================================================\n",
    "# Save the variables\n",
    "# =============================================================================\n",
    "# variables_dict = {\n",
    "    # \"var-1\": var_1,\n",
    "    # \"var-2\": var_2,\n",
    "# }\n",
    "\n",
    "# =============================================================================\n",
    "# main function\n",
    "# =============================================================================\n",
    "# import os\n",
    "# import pickle\n",
    "\n",
    "# def data_save_load(option, dict_variables=None):\n",
    "#     \"\"\"\n",
    "#     This function is used to save or load data for the jupyter notebook\n",
    "#     \"\"\"\n",
    "#     path_folder = \"ipynb_db\"  # Folder to save variables\n",
    "#     os.makedirs(path_folder, exist_ok=True)  # Create folder if not exist\n",
    "#     path_file = os.path.join(path_folder, \"variables.pkl\") # Path to save the variables\n",
    "\n",
    "#     if option == \"save\":\n",
    "#         with open(path_file, \"wb\") as f:\n",
    "#             pickle.dump(dict_variables, f)\n",
    "#     elif option == \"load\":\n",
    "#         with open(path_file, \"rb\") as f:\n",
    "#             variables = pickle.load(f)\n",
    "#         # Now load the variables\n",
    "#         for key, value in variables.items():\n",
    "#             variables[key] = value\n",
    "\n",
    "# =============================================================================\n",
    "# Call the function\n",
    "# =============================================================================\n",
    "# data_save_load(option=\"save\",\n",
    "#                dict_variables=variables_dict)"
   ]
  },
  {
   "cell_type": "markdown",
   "metadata": {},
   "source": [
    "# Needed modules"
   ]
  },
  {
   "cell_type": "code",
   "execution_count": 3,
   "metadata": {},
   "outputs": [],
   "source": [
    "# Load the needed libraries\n",
    "import os\n",
    "import pandas"
   ]
  },
  {
   "cell_type": "markdown",
   "metadata": {},
   "source": [
    "# 1. Prepare Data"
   ]
  },
  {
   "cell_type": "markdown",
   "metadata": {},
   "source": [
    "## 1.1 Download GAF files"
   ]
  },
  {
   "cell_type": "markdown",
   "metadata": {},
   "source": [
    "If we got to [TriTrypDB downloads](https://tritrypdb.org/tritrypdb/app/downloads) we can get the the Gene Ontology file (GO) in **gaf** format. We find two version: Curated and not curated\n",
    "\n",
    "* https://tritrypdb.org/common/downloads/release-68/LinfantumJPCM5/gaf/TriTrypDB-68_LinfantumJPCM5_Curated_GO.gaf.gz ==> size: 97,015\n",
    "\n",
    "* https://tritrypdb.org/common/downloads/release-68/LinfantumJPCM5/gaf/TriTrypDB-68_LinfantumJPCM5_GO.gaf.gz ==> size: 209,077"
   ]
  },
  {
   "cell_type": "code",
   "execution_count": 6,
   "metadata": {},
   "outputs": [
    {
     "name": "stdout",
     "output_type": "stream",
     "text": [
      "--2024-07-24 09:52:56--  https://tritrypdb.org/common/downloads/release-68/LinfantumJPCM5/gaf/TriTrypDB-68_LinfantumJPCM5_Curated_GO.gaf.gz\n",
      "Resolving tritrypdb.org (tritrypdb.org)... 128.192.21.13\n",
      "Connecting to tritrypdb.org (tritrypdb.org)|128.192.21.13|:443... connected.\n",
      "HTTP request sent, awaiting response... 200 OK\n",
      "Length: 97015 (95K) [application/x-gzip]\n",
      "Saving to: './data/TriTrypDB-68_LinfantumJPCM5_Curated_GO.gaf.gz'\n",
      "\n",
      "TriTrypDB-68_Linfan 100%[===================>]  94.74K   308KB/s    in 0.3s    \n",
      "\n",
      "2024-07-24 09:52:57 (308 KB/s) - './data/TriTrypDB-68_LinfantumJPCM5_Curated_GO.gaf.gz' saved [97015/97015]\n",
      "\n"
     ]
    }
   ],
   "source": [
    "# Let's download the Curated FAG file into the \"./data\" folder\n",
    "!wget -P ./data/ https://tritrypdb.org/common/downloads/release-68/LinfantumJPCM5/gaf/TriTrypDB-68_LinfantumJPCM5_Curated_GO.gaf.gz"
   ]
  }
 ],
 "metadata": {
  "kernelspec": {
   "display_name": "Python 3",
   "language": "python",
   "name": "python3"
  },
  "language_info": {
   "codemirror_mode": {
    "name": "ipython",
    "version": 3
   },
   "file_extension": ".py",
   "mimetype": "text/x-python",
   "name": "python",
   "nbconvert_exporter": "python",
   "pygments_lexer": "ipython3",
   "version": "3.12.4"
  }
 },
 "nbformat": 4,
 "nbformat_minor": 2
}
