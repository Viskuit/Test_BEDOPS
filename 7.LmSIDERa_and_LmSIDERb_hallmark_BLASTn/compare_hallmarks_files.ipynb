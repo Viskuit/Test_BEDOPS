{
 "cells": [
  {
   "cell_type": "code",
   "execution_count": 5,
   "metadata": {},
   "outputs": [],
   "source": [
    "# Needed modules\n",
    "import numpy as np\n",
    "import pandas as pd\n",
    "import matplotlib.pyplot as plt\n",
    "import seaborn as sns"
   ]
  },
  {
   "cell_type": "markdown",
   "metadata": {},
   "source": [
    "# Import data"
   ]
  },
  {
   "cell_type": "code",
   "execution_count": 6,
   "metadata": {},
   "outputs": [
    {
     "data": {
      "text/html": [
       "<div>\n",
       "<style scoped>\n",
       "    .dataframe tbody tr th:only-of-type {\n",
       "        vertical-align: middle;\n",
       "    }\n",
       "\n",
       "    .dataframe tbody tr th {\n",
       "        vertical-align: top;\n",
       "    }\n",
       "\n",
       "    .dataframe thead th {\n",
       "        text-align: right;\n",
       "    }\n",
       "</style>\n",
       "<table border=\"1\" class=\"dataframe\">\n",
       "  <thead>\n",
       "    <tr style=\"text-align: right;\">\n",
       "      <th></th>\n",
       "      <th>sseqid</th>\n",
       "      <th>sstart</th>\n",
       "      <th>send</th>\n",
       "      <th>sstrand</th>\n",
       "      <th>sseq</th>\n",
       "    </tr>\n",
       "  </thead>\n",
       "  <tbody>\n",
       "    <tr>\n",
       "      <th>0</th>\n",
       "      <td>LinJ.01</td>\n",
       "      <td>75923</td>\n",
       "      <td>75949</td>\n",
       "      <td>plus</td>\n",
       "      <td>ACCTCAGCGTGGCATCCCAGGGTCCAG</td>\n",
       "    </tr>\n",
       "    <tr>\n",
       "      <th>1</th>\n",
       "      <td>LinJ.03</td>\n",
       "      <td>263663</td>\n",
       "      <td>263691</td>\n",
       "      <td>plus</td>\n",
       "      <td>ACCCCTCGCGGTGCAGGAAGCCGAGCAGC</td>\n",
       "    </tr>\n",
       "    <tr>\n",
       "      <th>2</th>\n",
       "      <td>LinJ.03</td>\n",
       "      <td>281600</td>\n",
       "      <td>281615</td>\n",
       "      <td>plus</td>\n",
       "      <td>AAGCCGAGCAGCTCCC</td>\n",
       "    </tr>\n",
       "    <tr>\n",
       "      <th>3</th>\n",
       "      <td>LinJ.04</td>\n",
       "      <td>331652</td>\n",
       "      <td>331589</td>\n",
       "      <td>minus</td>\n",
       "      <td>ACACCTCAGCGCGTGGTGCCTCAGCGGCCAGTGCACGCCCACTCTC...</td>\n",
       "    </tr>\n",
       "    <tr>\n",
       "      <th>4</th>\n",
       "      <td>LinJ.04</td>\n",
       "      <td>362905</td>\n",
       "      <td>362968</td>\n",
       "      <td>plus</td>\n",
       "      <td>ACACCTCAGCGCGTGGTGCCTCAGCGGCCAGTGCACGCCCACTCTC...</td>\n",
       "    </tr>\n",
       "  </tbody>\n",
       "</table>\n",
       "</div>"
      ],
      "text/plain": [
       "    sseqid  sstart    send sstrand  \\\n",
       "0  LinJ.01   75923   75949    plus   \n",
       "1  LinJ.03  263663  263691    plus   \n",
       "2  LinJ.03  281600  281615    plus   \n",
       "3  LinJ.04  331652  331589   minus   \n",
       "4  LinJ.04  362905  362968    plus   \n",
       "\n",
       "                                                sseq  \n",
       "0                        ACCTCAGCGTGGCATCCCAGGGTCCAG  \n",
       "1                      ACCCCTCGCGGTGCAGGAAGCCGAGCAGC  \n",
       "2                                   AAGCCGAGCAGCTCCC  \n",
       "3  ACACCTCAGCGCGTGGTGCCTCAGCGGCCAGTGCACGCCCACTCTC...  \n",
       "4  ACACCTCAGCGCGTGGTGCCTCAGCGGCCAGTGCACGCCCACTCTC...  "
      ]
     },
     "execution_count": 6,
     "metadata": {},
     "output_type": "execute_result"
    }
   ],
   "source": [
    "genome_LmSIDER2a = pd.read_csv(\"./output_csv/Hallmarks_LmSIDER2a.csv\", header=0, sep=\",\")\n",
    "genome_LmSIDER2a.head()"
   ]
  },
  {
   "cell_type": "code",
   "execution_count": 7,
   "metadata": {},
   "outputs": [
    {
     "data": {
      "text/html": [
       "<div>\n",
       "<style scoped>\n",
       "    .dataframe tbody tr th:only-of-type {\n",
       "        vertical-align: middle;\n",
       "    }\n",
       "\n",
       "    .dataframe tbody tr th {\n",
       "        vertical-align: top;\n",
       "    }\n",
       "\n",
       "    .dataframe thead th {\n",
       "        text-align: right;\n",
       "    }\n",
       "</style>\n",
       "<table border=\"1\" class=\"dataframe\">\n",
       "  <thead>\n",
       "    <tr style=\"text-align: right;\">\n",
       "      <th></th>\n",
       "      <th>sseqid</th>\n",
       "      <th>sstart</th>\n",
       "      <th>send</th>\n",
       "      <th>sstrand</th>\n",
       "      <th>sseq</th>\n",
       "    </tr>\n",
       "  </thead>\n",
       "  <tbody>\n",
       "    <tr>\n",
       "      <th>0</th>\n",
       "      <td>LinJ.01</td>\n",
       "      <td>24215</td>\n",
       "      <td>24251</td>\n",
       "      <td>plus</td>\n",
       "      <td>CCCTGCCAACGCCGAACCACTTCTGGTGCTGACAGGG</td>\n",
       "    </tr>\n",
       "    <tr>\n",
       "      <th>1</th>\n",
       "      <td>LinJ.01</td>\n",
       "      <td>35816</td>\n",
       "      <td>35780</td>\n",
       "      <td>minus</td>\n",
       "      <td>CCCTGCCAACGCCGAACCACTTCTGGTGCTGACAGGG</td>\n",
       "    </tr>\n",
       "    <tr>\n",
       "      <th>2</th>\n",
       "      <td>LinJ.01</td>\n",
       "      <td>55428</td>\n",
       "      <td>55392</td>\n",
       "      <td>minus</td>\n",
       "      <td>CCCTGCCAACGCCGAACCACTTCTGGTGCTGACAGGG</td>\n",
       "    </tr>\n",
       "    <tr>\n",
       "      <th>3</th>\n",
       "      <td>LinJ.01</td>\n",
       "      <td>76012</td>\n",
       "      <td>76048</td>\n",
       "      <td>plus</td>\n",
       "      <td>CCCTGCCAACGCCGAACCACTTCTGGTGCTGACAGGG</td>\n",
       "    </tr>\n",
       "    <tr>\n",
       "      <th>4</th>\n",
       "      <td>LinJ.02</td>\n",
       "      <td>204357</td>\n",
       "      <td>204336</td>\n",
       "      <td>minus</td>\n",
       "      <td>GGGGAGGTCAGAGCGATGTATC</td>\n",
       "    </tr>\n",
       "  </tbody>\n",
       "</table>\n",
       "</div>"
      ],
      "text/plain": [
       "    sseqid  sstart    send sstrand                                   sseq\n",
       "0  LinJ.01   24215   24251    plus  CCCTGCCAACGCCGAACCACTTCTGGTGCTGACAGGG\n",
       "1  LinJ.01   35816   35780   minus  CCCTGCCAACGCCGAACCACTTCTGGTGCTGACAGGG\n",
       "2  LinJ.01   55428   55392   minus  CCCTGCCAACGCCGAACCACTTCTGGTGCTGACAGGG\n",
       "3  LinJ.01   76012   76048    plus  CCCTGCCAACGCCGAACCACTTCTGGTGCTGACAGGG\n",
       "4  LinJ.02  204357  204336   minus                 GGGGAGGTCAGAGCGATGTATC"
      ]
     },
     "execution_count": 7,
     "metadata": {},
     "output_type": "execute_result"
    }
   ],
   "source": [
    "genome_LmSIDER2b = pd.read_csv(\"./output_csv/Hallmarks_LmSIDER2b.csv\", header=0, sep=\",\")\n",
    "genome_LmSIDER2b.head()"
   ]
  },
  {
   "cell_type": "code",
   "execution_count": 8,
   "metadata": {},
   "outputs": [
    {
     "data": {
      "text/html": [
       "<div>\n",
       "<style scoped>\n",
       "    .dataframe tbody tr th:only-of-type {\n",
       "        vertical-align: middle;\n",
       "    }\n",
       "\n",
       "    .dataframe tbody tr th {\n",
       "        vertical-align: top;\n",
       "    }\n",
       "\n",
       "    .dataframe thead th {\n",
       "        text-align: right;\n",
       "    }\n",
       "</style>\n",
       "<table border=\"1\" class=\"dataframe\">\n",
       "  <thead>\n",
       "    <tr style=\"text-align: right;\">\n",
       "      <th></th>\n",
       "      <th>sseqid</th>\n",
       "      <th>sstart</th>\n",
       "      <th>send</th>\n",
       "      <th>sstrand</th>\n",
       "      <th>sseq</th>\n",
       "    </tr>\n",
       "  </thead>\n",
       "  <tbody>\n",
       "    <tr>\n",
       "      <th>0</th>\n",
       "      <td>LinJ.01</td>\n",
       "      <td>75659</td>\n",
       "      <td>76526</td>\n",
       "      <td>plus</td>\n",
       "      <td>GAGCGCCGCTGAGCAGGCAAGCGAGGCAACCTACGAAAACATGGCA...</td>\n",
       "    </tr>\n",
       "    <tr>\n",
       "      <th>1</th>\n",
       "      <td>LinJ.04</td>\n",
       "      <td>18901</td>\n",
       "      <td>19756</td>\n",
       "      <td>plus</td>\n",
       "      <td>TCTCGTGCTCTGCTGCTGTCACTCTCTTTTTTTTTTCACAACATGT...</td>\n",
       "    </tr>\n",
       "    <tr>\n",
       "      <th>2</th>\n",
       "      <td>LinJ.04</td>\n",
       "      <td>426702</td>\n",
       "      <td>427499</td>\n",
       "      <td>plus</td>\n",
       "      <td>CCCGCACGCCGACCCACCGCGTGGTGGCAAGCAACTTTGCACACGT...</td>\n",
       "    </tr>\n",
       "    <tr>\n",
       "      <th>3</th>\n",
       "      <td>LinJ.04</td>\n",
       "      <td>437658</td>\n",
       "      <td>438373</td>\n",
       "      <td>plus</td>\n",
       "      <td>TTCTATACCCTGATGACGAGGAGTGCAACTCAGCGTGGTATCACAT...</td>\n",
       "    </tr>\n",
       "    <tr>\n",
       "      <th>4</th>\n",
       "      <td>LinJ.05</td>\n",
       "      <td>151787</td>\n",
       "      <td>152786</td>\n",
       "      <td>plus</td>\n",
       "      <td>GAGAGCGACGATGCGCTTTGGGCGCGGTTCTTGGCTGCTGCCCAGG...</td>\n",
       "    </tr>\n",
       "  </tbody>\n",
       "</table>\n",
       "</div>"
      ],
      "text/plain": [
       "    sseqid  sstart    send sstrand  \\\n",
       "0  LinJ.01   75659   76526    plus   \n",
       "1  LinJ.04   18901   19756    plus   \n",
       "2  LinJ.04  426702  427499    plus   \n",
       "3  LinJ.04  437658  438373    plus   \n",
       "4  LinJ.05  151787  152786    plus   \n",
       "\n",
       "                                                sseq  \n",
       "0  GAGCGCCGCTGAGCAGGCAAGCGAGGCAACCTACGAAAACATGGCA...  \n",
       "1  TCTCGTGCTCTGCTGCTGTCACTCTCTTTTTTTTTTCACAACATGT...  \n",
       "2  CCCGCACGCCGACCCACCGCGTGGTGGCAAGCAACTTTGCACACGT...  \n",
       "3  TTCTATACCCTGATGACGAGGAGTGCAACTCAGCGTGGTATCACAT...  \n",
       "4  GAGAGCGACGATGCGCTTTGGGCGCGGTTCTTGGCTGCTGCCCAGG...  "
      ]
     },
     "execution_count": 8,
     "metadata": {},
     "output_type": "execute_result"
    }
   ],
   "source": [
    "mine_LmSIDER2a = pd.read_csv(\"./output_csv/Mine_Hallmarks_LmSIDER2a.csv\", header=None, sep=\",\")\n",
    "mine_LmSIDER2a.columns = genome_LmSIDER2a.columns\n",
    "mine_LmSIDER2a.head()"
   ]
  },
  {
   "cell_type": "code",
   "execution_count": 9,
   "metadata": {},
   "outputs": [
    {
     "data": {
      "text/html": [
       "<div>\n",
       "<style scoped>\n",
       "    .dataframe tbody tr th:only-of-type {\n",
       "        vertical-align: middle;\n",
       "    }\n",
       "\n",
       "    .dataframe tbody tr th {\n",
       "        vertical-align: top;\n",
       "    }\n",
       "\n",
       "    .dataframe thead th {\n",
       "        text-align: right;\n",
       "    }\n",
       "</style>\n",
       "<table border=\"1\" class=\"dataframe\">\n",
       "  <thead>\n",
       "    <tr style=\"text-align: right;\">\n",
       "      <th></th>\n",
       "      <th>sseqid</th>\n",
       "      <th>sstart</th>\n",
       "      <th>send</th>\n",
       "      <th>sstrand</th>\n",
       "      <th>sseq</th>\n",
       "    </tr>\n",
       "  </thead>\n",
       "  <tbody>\n",
       "    <tr>\n",
       "      <th>0</th>\n",
       "      <td>LinJ.01</td>\n",
       "      <td>24093</td>\n",
       "      <td>24791</td>\n",
       "      <td>plus</td>\n",
       "      <td>GGGGGAGGCGGGGGAGGCGGGGGGCACGCACCTCCATGCGTGGCAT...</td>\n",
       "    </tr>\n",
       "    <tr>\n",
       "      <th>1</th>\n",
       "      <td>LinJ.01</td>\n",
       "      <td>35316</td>\n",
       "      <td>36160</td>\n",
       "      <td>plus</td>\n",
       "      <td>GAGGTGGAGGCCGCTCTGCCCCCCCCGCCGCCGAGTGCTGCAGGCA...</td>\n",
       "    </tr>\n",
       "    <tr>\n",
       "      <th>2</th>\n",
       "      <td>LinJ.01</td>\n",
       "      <td>54885</td>\n",
       "      <td>55772</td>\n",
       "      <td>plus</td>\n",
       "      <td>TGTTTGGTCTTCCGCGTGTCCGTTTTCGCTGCCGCACACTGCGAGG...</td>\n",
       "    </tr>\n",
       "    <tr>\n",
       "      <th>3</th>\n",
       "      <td>LinJ.01</td>\n",
       "      <td>75659</td>\n",
       "      <td>76526</td>\n",
       "      <td>plus</td>\n",
       "      <td>GAGCGCCGCTGAGCAGGCAAGCGAGGCAACCTACGAAAACATGGCA...</td>\n",
       "    </tr>\n",
       "    <tr>\n",
       "      <th>4</th>\n",
       "      <td>LinJ.02</td>\n",
       "      <td>314166</td>\n",
       "      <td>314781</td>\n",
       "      <td>plus</td>\n",
       "      <td>GGTGGTGCGGTGATGCACGACACGCGCACCATGCACATTTCCGTTG...</td>\n",
       "    </tr>\n",
       "  </tbody>\n",
       "</table>\n",
       "</div>"
      ],
      "text/plain": [
       "    sseqid  sstart    send sstrand  \\\n",
       "0  LinJ.01   24093   24791    plus   \n",
       "1  LinJ.01   35316   36160    plus   \n",
       "2  LinJ.01   54885   55772    plus   \n",
       "3  LinJ.01   75659   76526    plus   \n",
       "4  LinJ.02  314166  314781    plus   \n",
       "\n",
       "                                                sseq  \n",
       "0  GGGGGAGGCGGGGGAGGCGGGGGGCACGCACCTCCATGCGTGGCAT...  \n",
       "1  GAGGTGGAGGCCGCTCTGCCCCCCCCGCCGCCGAGTGCTGCAGGCA...  \n",
       "2  TGTTTGGTCTTCCGCGTGTCCGTTTTCGCTGCCGCACACTGCGAGG...  \n",
       "3  GAGCGCCGCTGAGCAGGCAAGCGAGGCAACCTACGAAAACATGGCA...  \n",
       "4  GGTGGTGCGGTGATGCACGACACGCGCACCATGCACATTTCCGTTG...  "
      ]
     },
     "execution_count": 9,
     "metadata": {},
     "output_type": "execute_result"
    }
   ],
   "source": [
    "mine_LmSIDER2b = pd.read_csv(\"./output_csv/Mine_Hallmarks_LmSIDER2b.csv\", header=None, sep=\",\")\n",
    "mine_LmSIDER2b.columns = genome_LmSIDER2b.columns\n",
    "mine_LmSIDER2b.head()"
   ]
  },
  {
   "cell_type": "code",
   "execution_count": 10,
   "metadata": {},
   "outputs": [
    {
     "name": "stdout",
     "output_type": "stream",
     "text": [
      "False    139\n",
      "True     119\n",
      "Name: count, dtype: int64\n",
      "==================================================\n",
      "True     317\n",
      "False    303\n",
      "Name: count, dtype: int64\n",
      "==================================================\n",
      "True    331\n",
      "Name: count, dtype: int64\n",
      "==================================================\n",
      "True    500\n",
      "Name: count, dtype: int64\n"
     ]
    }
   ],
   "source": [
    "# Let's count how many times row[1] > row[2] for each row in the dataframe\n",
    "print((genome_LmSIDER2a[\"sstart\"] < genome_LmSIDER2a[\"send\"]).value_counts())\n",
    "print(\"=\" * 50)\n",
    "print((genome_LmSIDER2b[\"sstart\"] < genome_LmSIDER2b[\"send\"]).value_counts())\n",
    "print(\"=\" * 50)\n",
    "print((mine_LmSIDER2a[\"sstart\"] < mine_LmSIDER2a[\"send\"]).value_counts())\n",
    "print(\"=\" * 50)\n",
    "print((mine_LmSIDER2b[\"sstart\"] < mine_LmSIDER2b[\"send\"]).value_counts())"
   ]
  },
  {
   "cell_type": "markdown",
   "metadata": {},
   "source": [
    "Probably all \"minus\" values are inverted so let's move its columns"
   ]
  },
  {
   "cell_type": "code",
   "execution_count": 11,
   "metadata": {},
   "outputs": [
    {
     "data": {
      "text/html": [
       "<div>\n",
       "<style scoped>\n",
       "    .dataframe tbody tr th:only-of-type {\n",
       "        vertical-align: middle;\n",
       "    }\n",
       "\n",
       "    .dataframe tbody tr th {\n",
       "        vertical-align: top;\n",
       "    }\n",
       "\n",
       "    .dataframe thead th {\n",
       "        text-align: right;\n",
       "    }\n",
       "</style>\n",
       "<table border=\"1\" class=\"dataframe\">\n",
       "  <thead>\n",
       "    <tr style=\"text-align: right;\">\n",
       "      <th></th>\n",
       "      <th>sseqid</th>\n",
       "      <th>sstart</th>\n",
       "      <th>send</th>\n",
       "      <th>sstrand</th>\n",
       "      <th>sseq</th>\n",
       "    </tr>\n",
       "  </thead>\n",
       "  <tbody>\n",
       "    <tr>\n",
       "      <th>3</th>\n",
       "      <td>LinJ.04</td>\n",
       "      <td>331589</td>\n",
       "      <td>331652</td>\n",
       "      <td>minus</td>\n",
       "      <td>ACACCTCAGCGCGTGGTGCCTCAGCGGCCAGTGCACGCCCACTCTC...</td>\n",
       "    </tr>\n",
       "    <tr>\n",
       "      <th>5</th>\n",
       "      <td>LinJ.04</td>\n",
       "      <td>391430</td>\n",
       "      <td>391493</td>\n",
       "      <td>minus</td>\n",
       "      <td>ACACCTCAGCGCGTGGTGCCTCAGCGGCCAGTGCACGCCCACTCTC...</td>\n",
       "    </tr>\n",
       "    <tr>\n",
       "      <th>6</th>\n",
       "      <td>LinJ.04</td>\n",
       "      <td>394549</td>\n",
       "      <td>394612</td>\n",
       "      <td>minus</td>\n",
       "      <td>ACACCTCAGCGCGTGGTGCCTCAGCGGCCAGTGCACGCCCACTCTC...</td>\n",
       "    </tr>\n",
       "    <tr>\n",
       "      <th>7</th>\n",
       "      <td>LinJ.04</td>\n",
       "      <td>427123</td>\n",
       "      <td>427137</td>\n",
       "      <td>minus</td>\n",
       "      <td>CTCAGCGTGGTATCA</td>\n",
       "    </tr>\n",
       "    <tr>\n",
       "      <th>9</th>\n",
       "      <td>LinJ.05</td>\n",
       "      <td>110382</td>\n",
       "      <td>110396</td>\n",
       "      <td>minus</td>\n",
       "      <td>GGAAGCCGAGCAGCT</td>\n",
       "    </tr>\n",
       "  </tbody>\n",
       "</table>\n",
       "</div>"
      ],
      "text/plain": [
       "    sseqid  sstart    send sstrand  \\\n",
       "3  LinJ.04  331589  331652   minus   \n",
       "5  LinJ.04  391430  391493   minus   \n",
       "6  LinJ.04  394549  394612   minus   \n",
       "7  LinJ.04  427123  427137   minus   \n",
       "9  LinJ.05  110382  110396   minus   \n",
       "\n",
       "                                                sseq  \n",
       "3  ACACCTCAGCGCGTGGTGCCTCAGCGGCCAGTGCACGCCCACTCTC...  \n",
       "5  ACACCTCAGCGCGTGGTGCCTCAGCGGCCAGTGCACGCCCACTCTC...  \n",
       "6  ACACCTCAGCGCGTGGTGCCTCAGCGGCCAGTGCACGCCCACTCTC...  \n",
       "7                                    CTCAGCGTGGTATCA  \n",
       "9                                    GGAAGCCGAGCAGCT  "
      ]
     },
     "execution_count": 11,
     "metadata": {},
     "output_type": "execute_result"
    }
   ],
   "source": [
    "# Let's change values from row[\"sed\"] to row[\"start\"] when row[\"sstrand\"] == \"minus\"\n",
    "def change_row_values(df):\n",
    "    \"\"\"\n",
    "    Change values from row[\"sed\"] to row[\"start\"] when row[\"sstrand\"] == \"minus\"\n",
    "    \"\"\"\n",
    "    value_start = df.loc[df[\"sstrand\"] == \"minus\", \"sstart\"].copy()\n",
    "    value_minus = df.loc[df[\"sstrand\"] == \"minus\", \"send\"].copy()\n",
    "    df.loc[df[\"sstrand\"] == \"minus\", \"sstart\"] = value_minus\n",
    "    df.loc[df[\"sstrand\"] == \"minus\", \"send\"] = value_start\n",
    "\n",
    "    return df\n",
    "\n",
    "genome_LmSIDER2a = change_row_values(genome_LmSIDER2a)\n",
    "genome_LmSIDER2a[genome_LmSIDER2a[\"sstrand\"] == \"minus\"].head()\n"
   ]
  },
  {
   "cell_type": "code",
   "execution_count": 12,
   "metadata": {},
   "outputs": [
    {
     "name": "stdout",
     "output_type": "stream",
     "text": [
      "89\n"
     ]
    }
   ],
   "source": [
    "# Let's check the maximun len() for the row[\"sseq\"]\n",
    "print(genome_LmSIDER2a[\"sseq\"].apply(len).max())"
   ]
  },
  {
   "cell_type": "code",
   "execution_count": 13,
   "metadata": {},
   "outputs": [
    {
     "data": {
      "text/html": [
       "<div>\n",
       "<style scoped>\n",
       "    .dataframe tbody tr th:only-of-type {\n",
       "        vertical-align: middle;\n",
       "    }\n",
       "\n",
       "    .dataframe tbody tr th {\n",
       "        vertical-align: top;\n",
       "    }\n",
       "\n",
       "    .dataframe thead th {\n",
       "        text-align: right;\n",
       "    }\n",
       "</style>\n",
       "<table border=\"1\" class=\"dataframe\">\n",
       "  <thead>\n",
       "    <tr style=\"text-align: right;\">\n",
       "      <th></th>\n",
       "      <th>sseqid</th>\n",
       "      <th>sstart</th>\n",
       "      <th>send</th>\n",
       "      <th>sstrand</th>\n",
       "      <th>sseq</th>\n",
       "    </tr>\n",
       "  </thead>\n",
       "  <tbody>\n",
       "    <tr>\n",
       "      <th>1</th>\n",
       "      <td>LinJ.01</td>\n",
       "      <td>35780</td>\n",
       "      <td>35816</td>\n",
       "      <td>minus</td>\n",
       "      <td>CCCTGCCAACGCCGAACCACTTCTGGTGCTGACAGGG</td>\n",
       "    </tr>\n",
       "    <tr>\n",
       "      <th>2</th>\n",
       "      <td>LinJ.01</td>\n",
       "      <td>55392</td>\n",
       "      <td>55428</td>\n",
       "      <td>minus</td>\n",
       "      <td>CCCTGCCAACGCCGAACCACTTCTGGTGCTGACAGGG</td>\n",
       "    </tr>\n",
       "    <tr>\n",
       "      <th>4</th>\n",
       "      <td>LinJ.02</td>\n",
       "      <td>204336</td>\n",
       "      <td>204357</td>\n",
       "      <td>minus</td>\n",
       "      <td>GGGGAGGTCAGAGCGATGTATC</td>\n",
       "    </tr>\n",
       "    <tr>\n",
       "      <th>5</th>\n",
       "      <td>LinJ.02</td>\n",
       "      <td>259346</td>\n",
       "      <td>259387</td>\n",
       "      <td>minus</td>\n",
       "      <td>CCCTTCCAACGCCGAGCCGCTTCTCGTTGTGACAGGGTCCAG</td>\n",
       "    </tr>\n",
       "    <tr>\n",
       "      <th>9</th>\n",
       "      <td>LinJ.04</td>\n",
       "      <td>19249</td>\n",
       "      <td>19320</td>\n",
       "      <td>minus</td>\n",
       "      <td>CCCTGCCAAGTGCACAACCACCTCTGGTGGTGACAGGGTCAAGTGC...</td>\n",
       "    </tr>\n",
       "  </tbody>\n",
       "</table>\n",
       "</div>"
      ],
      "text/plain": [
       "    sseqid  sstart    send sstrand  \\\n",
       "1  LinJ.01   35780   35816   minus   \n",
       "2  LinJ.01   55392   55428   minus   \n",
       "4  LinJ.02  204336  204357   minus   \n",
       "5  LinJ.02  259346  259387   minus   \n",
       "9  LinJ.04   19249   19320   minus   \n",
       "\n",
       "                                                sseq  \n",
       "1              CCCTGCCAACGCCGAACCACTTCTGGTGCTGACAGGG  \n",
       "2              CCCTGCCAACGCCGAACCACTTCTGGTGCTGACAGGG  \n",
       "4                             GGGGAGGTCAGAGCGATGTATC  \n",
       "5         CCCTTCCAACGCCGAGCCGCTTCTCGTTGTGACAGGGTCCAG  \n",
       "9  CCCTGCCAAGTGCACAACCACCTCTGGTGGTGACAGGGTCAAGTGC...  "
      ]
     },
     "execution_count": 13,
     "metadata": {},
     "output_type": "execute_result"
    }
   ],
   "source": [
    "# Now for \"genome_LmSIDER2b\"\n",
    "genome_LmSIDER2b = change_row_values(genome_LmSIDER2b)\n",
    "genome_LmSIDER2b[genome_LmSIDER2b[\"sstrand\"] == \"minus\"].head()"
   ]
  },
  {
   "cell_type": "code",
   "execution_count": 14,
   "metadata": {},
   "outputs": [
    {
     "name": "stdout",
     "output_type": "stream",
     "text": [
      "82\n"
     ]
    }
   ],
   "source": [
    "# Let's check the maximun len() for the row[\"sseq\"]\n",
    "print(genome_LmSIDER2b[\"sseq\"].apply(len).max())"
   ]
  },
  {
   "cell_type": "code",
   "execution_count": 15,
   "metadata": {},
   "outputs": [
    {
     "name": "stdout",
     "output_type": "stream",
     "text": [
      "True    258\n",
      "Name: count, dtype: int64\n",
      "==================================================\n",
      "True    620\n",
      "Name: count, dtype: int64\n"
     ]
    }
   ],
   "source": [
    "# last check\n",
    "print((genome_LmSIDER2a[\"sstart\"] < genome_LmSIDER2a[\"send\"]).value_counts())\n",
    "print(\"=\" * 50)\n",
    "print((genome_LmSIDER2b[\"sstart\"] < genome_LmSIDER2b[\"send\"]).value_counts())"
   ]
  },
  {
   "cell_type": "markdown",
   "metadata": {},
   "source": [
    "# Now it's the turn to compare data"
   ]
  },
  {
   "cell_type": "markdown",
   "metadata": {},
   "source": [
    " ## LmSIDER2a hallmarks"
   ]
  },
  {
   "cell_type": "code",
   "execution_count": 19,
   "metadata": {},
   "outputs": [
    {
     "data": {
      "image/png": "[encoded data removed]",
      "text/plain": [
       "<Figure size 640x480 with 1 Axes>"
      ]
     },
     "metadata": {},
     "output_type": "display_data"
    }
   ],
   "source": [
    "# Plot the frequency by chromosome\n",
    "sns.countplot(x=\"sseqid\", data=genome_LmSIDER2a,color=\"blue\")\n",
    "plt.title(\"Count of sseqid in genome_LmSIDER2a\")\n",
    "plt.xlabel(\"sseqid\")\n",
    "plt.ylabel(\"Count\")\n",
    "plt.xticks(rotation=90)\n",
    "# plt.tight_layout()\n",
    "plt.show()"
   ]
  },
  {
   "cell_type": "code",
   "execution_count": 21,
   "metadata": {},
   "outputs": [
    {
     "data": {
      "image/png": "[encoded data removed]",
      "text/plain": [
       "<Figure size 640x480 with 1 Axes>"
      ]
     },
     "metadata": {},
     "output_type": "display_data"
    }
   ],
   "source": [
    "# Count the number of frequency by chromosome\n",
    "sns.countplot(x=\"sseqid\", data=mine_LmSIDER2a, color=\"blue\")\n",
    "plt.title(\"Count of sseqid in genome_LmSIDER2a\")\n",
    "plt.xlabel(\"sseqid\")\n",
    "plt.ylabel(\"Count\")\n",
    "plt.xticks(rotation=90)\n",
    "# plt.tight_layout()\n",
    "plt.show()"
   ]
  },
  {
   "cell_type": "code",
   "execution_count": 22,
   "metadata": {},
   "outputs": [],
   "source": [
    "# Let's group them by chromosome\n",
    "grouped_genome_LmSIDER2a = genome_LmSIDER2a.groupby(\"sseqid\")\n",
    "grouped_mine_LmSIDER2a = mine_LmSIDER2a.groupby(\"sseqid\") "
   ]
  },
  {
   "cell_type": "code",
   "execution_count": 23,
   "metadata": {},
   "outputs": [],
   "source": [
    "# Define a function to get the indexes for the intersection between both dataframes\n",
    "def comparative_grouping_data(data_frame1, data_frame2):\n",
    "    \"\"\"\n",
    "    Grouped data frames\n",
    "    \"\"\"\n",
    "    index_array_g = []  # Will save index for the intersection between both dataframes in genome data\n",
    "    index_array_m = []  # Will save index for the intersection between both dataframes in mine data\n",
    "    group_name_g = []  # Will save the name of the chromosome\n",
    "    index_final_g = []  # Will save the final index for the intersection between both dataframes in genome data\n",
    "\n",
    "    for _, (name_genome, group_genome) in enumerate(data_frame1):\n",
    "        index_both_g = []  # Will save index for the intersection between both dataframes for each chromosome\n",
    "        index_both_m = []\n",
    "\n",
    "        for _, (name_mine, group_mine) in enumerate(data_frame2):\n",
    "\n",
    "            if name_genome == name_mine:  # Check if the chromosome name is the same\n",
    "                # print(f\"Analyzing chromosome {name_genome} for genome data\")\n",
    "                # print(f\"Analyzing chromosome {name_mine} for mine data\")\n",
    "                # print(f\"\\tGenome dataframe has {len(group_genome)} elements\")\n",
    "                # print(f\"\\tMine dataframe has {len(group_mine)} elements\")\n",
    "\n",
    "                for index, (_, hallmark) in enumerate(group_genome.iterrows()):\n",
    "                    for index2, (_, element) in enumerate(group_mine.iterrows()):\n",
    "                        lower_end = element[\"sstart\"]\n",
    "                        upper_end = element[\"send\"]\n",
    "                        if np.logical_and(lower_end <= hallmark[\"sstart\"], hallmark[\"send\"] <= upper_end):\n",
    "                            # print(f\"Hallmark element in index {index} is inside SIDER element with index {index2}\")\n",
    "                            index_both_g.append(index)\n",
    "                            index_both_m.append(index2)\n",
    "                            index_final_g.append(hallmark.name)\n",
    "                \n",
    "                index_array_g.append(index_both_g)\n",
    "                index_array_m.append(index_both_m)\n",
    "                group_name_g.append(name_genome)\n",
    "                # print(\"=\" * 50)\n",
    "\n",
    "            continue\n",
    "    \n",
    "    return index_final_g  # get the index for the first dataframe"
   ]
  },
  {
   "cell_type": "code",
   "execution_count": 24,
   "metadata": {},
   "outputs": [
    {
     "name": "stdout",
     "output_type": "stream",
     "text": [
      "[0, 7, 8, 12, 14, 15, 16, 17, 19, 21, 22, 25, 26, 27, 28, 30, 32, 33, 34, 35, 36, 37, 39, 40, 41, 42, 43, 44, 48, 49, 50, 51, 52, 53, 54, 55, 57, 58, 59, 60, 61, 62, 63, 64, 65, 66, 67, 69, 70, 71, 72, 73, 75, 77, 78, 79, 80, 81, 82, 83, 84, 86, 87, 88, 89, 90, 91, 92, 93, 94, 95, 96, 97, 98, 99, 100, 101, 102, 103, 104, 105, 106, 108, 109, 110, 111, 112, 114, 115, 116, 117, 118, 119, 121, 123, 124, 125, 127, 128, 129, 130, 132, 133, 137, 138, 139, 140, 141, 142, 143, 144, 145, 146, 147, 148, 149, 150, 151, 153, 154, 155, 156, 157, 158, 159, 160, 161, 162, 163, 164, 165, 166, 167, 168, 169, 170, 171, 172, 173, 174, 175, 177, 178, 179, 180, 183, 184, 185, 187, 188, 190, 191, 192, 193, 194, 196, 197, 198, 199, 200, 201, 203, 204, 205, 206, 207, 208, 209, 210, 211, 212, 214, 215, 218, 219, 220, 221, 222, 223, 224, 226, 227, 228, 230, 231, 232, 233, 234, 235, 236, 237, 239, 240, 241, 242, 243, 244, 245, 246, 248, 249, 250, 251, 252, 253, 254, 255, 256, 257]\n"
     ]
    }
   ],
   "source": [
    "# Call the function with the first data frame being \"grouped_genome_LmSIDER2a\"\n",
    "LmSIDER2a_index = comparative_grouping_data(grouped_genome_LmSIDER2a, grouped_mine_LmSIDER2a)\n",
    "print(LmSIDER2a_index)"
   ]
  },
  {
   "cell_type": "code",
   "execution_count": 25,
   "metadata": {},
   "outputs": [
    {
     "name": "stdout",
     "output_type": "stream",
     "text": [
      "49\n",
      "<class 'pandas.core.frame.DataFrame'>\n"
     ]
    },
    {
     "data": {
      "text/html": [
       "<div>\n",
       "<style scoped>\n",
       "    .dataframe tbody tr th:only-of-type {\n",
       "        vertical-align: middle;\n",
       "    }\n",
       "\n",
       "    .dataframe tbody tr th {\n",
       "        vertical-align: top;\n",
       "    }\n",
       "\n",
       "    .dataframe thead th {\n",
       "        text-align: right;\n",
       "    }\n",
       "</style>\n",
       "<table border=\"1\" class=\"dataframe\">\n",
       "  <thead>\n",
       "    <tr style=\"text-align: right;\">\n",
       "      <th></th>\n",
       "      <th>sseqid</th>\n",
       "      <th>sstart</th>\n",
       "      <th>send</th>\n",
       "      <th>sstrand</th>\n",
       "      <th>sseq</th>\n",
       "    </tr>\n",
       "  </thead>\n",
       "  <tbody>\n",
       "    <tr>\n",
       "      <th>1</th>\n",
       "      <td>LinJ.03</td>\n",
       "      <td>263663</td>\n",
       "      <td>263691</td>\n",
       "      <td>plus</td>\n",
       "      <td>ACCCCTCGCGGTGCAGGAAGCCGAGCAGC</td>\n",
       "    </tr>\n",
       "    <tr>\n",
       "      <th>2</th>\n",
       "      <td>LinJ.03</td>\n",
       "      <td>281600</td>\n",
       "      <td>281615</td>\n",
       "      <td>plus</td>\n",
       "      <td>AAGCCGAGCAGCTCCC</td>\n",
       "    </tr>\n",
       "    <tr>\n",
       "      <th>3</th>\n",
       "      <td>LinJ.04</td>\n",
       "      <td>331589</td>\n",
       "      <td>331652</td>\n",
       "      <td>minus</td>\n",
       "      <td>ACACCTCAGCGCGTGGTGCCTCAGCGGCCAGTGCACGCCCACTCTC...</td>\n",
       "    </tr>\n",
       "    <tr>\n",
       "      <th>4</th>\n",
       "      <td>LinJ.04</td>\n",
       "      <td>362905</td>\n",
       "      <td>362968</td>\n",
       "      <td>plus</td>\n",
       "      <td>ACACCTCAGCGCGTGGTGCCTCAGCGGCCAGTGCACGCCCACTCTC...</td>\n",
       "    </tr>\n",
       "    <tr>\n",
       "      <th>5</th>\n",
       "      <td>LinJ.04</td>\n",
       "      <td>391430</td>\n",
       "      <td>391493</td>\n",
       "      <td>minus</td>\n",
       "      <td>ACACCTCAGCGCGTGGTGCCTCAGCGGCCAGTGCACGCCCACTCTC...</td>\n",
       "    </tr>\n",
       "  </tbody>\n",
       "</table>\n",
       "</div>"
      ],
      "text/plain": [
       "    sseqid  sstart    send sstrand  \\\n",
       "1  LinJ.03  263663  263691    plus   \n",
       "2  LinJ.03  281600  281615    plus   \n",
       "3  LinJ.04  331589  331652   minus   \n",
       "4  LinJ.04  362905  362968    plus   \n",
       "5  LinJ.04  391430  391493   minus   \n",
       "\n",
       "                                                sseq  \n",
       "1                      ACCCCTCGCGGTGCAGGAAGCCGAGCAGC  \n",
       "2                                   AAGCCGAGCAGCTCCC  \n",
       "3  ACACCTCAGCGCGTGGTGCCTCAGCGGCCAGTGCACGCCCACTCTC...  \n",
       "4  ACACCTCAGCGCGTGGTGCCTCAGCGGCCAGTGCACGCCCACTCTC...  \n",
       "5  ACACCTCAGCGCGTGGTGCCTCAGCGGCCAGTGCACGCCCACTCTC...  "
      ]
     },
     "execution_count": 25,
     "metadata": {},
     "output_type": "execute_result"
    }
   ],
   "source": [
    "# Drop the indexes, so we get the ones that are not in the mine data\n",
    "genome_LmSIDER2a_not_in_mine = genome_LmSIDER2a.drop(LmSIDER2a_index)\n",
    "print(len(genome_LmSIDER2a_not_in_mine))\n",
    "print(type(genome_LmSIDER2a_not_in_mine))\n",
    "genome_LmSIDER2a_not_in_mine.head()"
   ]
  },
  {
   "cell_type": "code",
   "execution_count": 26,
   "metadata": {},
   "outputs": [
    {
     "name": "stdout",
     "output_type": "stream",
     "text": [
      "1951\n"
     ]
    },
    {
     "data": {
      "text/html": [
       "<div>\n",
       "<style scoped>\n",
       "    .dataframe tbody tr th:only-of-type {\n",
       "        vertical-align: middle;\n",
       "    }\n",
       "\n",
       "    .dataframe tbody tr th {\n",
       "        vertical-align: top;\n",
       "    }\n",
       "\n",
       "    .dataframe thead th {\n",
       "        text-align: right;\n",
       "    }\n",
       "</style>\n",
       "<table border=\"1\" class=\"dataframe\">\n",
       "  <thead>\n",
       "    <tr style=\"text-align: right;\">\n",
       "      <th></th>\n",
       "      <th>sseqid</th>\n",
       "      <th>sstart</th>\n",
       "      <th>send</th>\n",
       "      <th>sstrand</th>\n",
       "      <th>sseq</th>\n",
       "    </tr>\n",
       "  </thead>\n",
       "  <tbody>\n",
       "    <tr>\n",
       "      <th>0</th>\n",
       "      <td>LinJ.01</td>\n",
       "      <td>1</td>\n",
       "      <td>173</td>\n",
       "      <td>plus</td>\n",
       "      <td>ACACCAGTACACCAGTACACCAGTACACCAGTACACCAGTACACCA...</td>\n",
       "    </tr>\n",
       "    <tr>\n",
       "      <th>1</th>\n",
       "      <td>LinJ.01</td>\n",
       "      <td>24093</td>\n",
       "      <td>24791</td>\n",
       "      <td>plus</td>\n",
       "      <td>GGGGGAGGCGGGGGAGGCGGGGGGCACGCACCTCCATGCGTGGCAT...</td>\n",
       "    </tr>\n",
       "    <tr>\n",
       "      <th>2</th>\n",
       "      <td>LinJ.01</td>\n",
       "      <td>35316</td>\n",
       "      <td>36160</td>\n",
       "      <td>plus</td>\n",
       "      <td>GAGGTGGAGGCCGCTCTGCCCCCCCCGCCGCCGAGTGCTGCAGGCA...</td>\n",
       "    </tr>\n",
       "    <tr>\n",
       "      <th>3</th>\n",
       "      <td>LinJ.01</td>\n",
       "      <td>39698</td>\n",
       "      <td>40589</td>\n",
       "      <td>plus</td>\n",
       "      <td>CTCACCCTCATCCCACCCCTCCTCGTCCATCGACGGGAGTGGGCGG...</td>\n",
       "    </tr>\n",
       "    <tr>\n",
       "      <th>4</th>\n",
       "      <td>LinJ.01</td>\n",
       "      <td>54885</td>\n",
       "      <td>55772</td>\n",
       "      <td>plus</td>\n",
       "      <td>TGTTTGGTCTTCCGCGTGTCCGTTTTCGCTGCCGCACACTGCGAGG...</td>\n",
       "    </tr>\n",
       "  </tbody>\n",
       "</table>\n",
       "</div>"
      ],
      "text/plain": [
       "    sseqid  sstart   send sstrand  \\\n",
       "0  LinJ.01       1    173    plus   \n",
       "1  LinJ.01   24093  24791    plus   \n",
       "2  LinJ.01   35316  36160    plus   \n",
       "3  LinJ.01   39698  40589    plus   \n",
       "4  LinJ.01   54885  55772    plus   \n",
       "\n",
       "                                                sseq  \n",
       "0  ACACCAGTACACCAGTACACCAGTACACCAGTACACCAGTACACCA...  \n",
       "1  GGGGGAGGCGGGGGAGGCGGGGGGCACGCACCTCCATGCGTGGCAT...  \n",
       "2  GAGGTGGAGGCCGCTCTGCCCCCCCCGCCGCCGAGTGCTGCAGGCA...  \n",
       "3  CTCACCCTCATCCCACCCCTCCTCGTCCATCGACGGGAGTGGGCGG...  \n",
       "4  TGTTTGGTCTTCCGCGTGTCCGTTTTCGCTGCCGCACACTGCGAGG...  "
      ]
     },
     "execution_count": 26,
     "metadata": {},
     "output_type": "execute_result"
    }
   ],
   "source": [
    "# Let's read the SIDER original data from our software\n",
    "positive_SIDER_data = pd.read_csv(\"./genome_data/positives_testing_elements.csv\",\n",
    "                                  header=None, sep=\",\")\n",
    "positive_SIDER_data = positive_SIDER_data[[0, 2, 3, 4, 5]]\n",
    "positive_SIDER_data.columns = [\"sseqid\", \"sstart\", \"send\", \"sstrand\", \"sseq\"]\n",
    "print(len(positive_SIDER_data))\n",
    "positive_SIDER_data.head()"
   ]
  },
  {
   "cell_type": "code",
   "execution_count": 27,
   "metadata": {},
   "outputs": [],
   "source": [
    "# Now let's group it by chromosome\n",
    "grouped_positive_SIDER_data = positive_SIDER_data.groupby(\"sseqid\")\n",
    "grouped_genome_LmSIDER2a_not_in_mine = genome_LmSIDER2a_not_in_mine.groupby(\"sseqid\")"
   ]
  },
  {
   "cell_type": "code",
   "execution_count": 28,
   "metadata": {},
   "outputs": [
    {
     "name": "stdout",
     "output_type": "stream",
     "text": [
      "<class 'pandas.core.groupby.generic.DataFrameGroupBy'>\n",
      "<class 'pandas.core.groupby.generic.DataFrameGroupBy'>\n"
     ]
    }
   ],
   "source": [
    "print(type(grouped_positive_SIDER_data), type(grouped_genome_LmSIDER2a_not_in_mine), sep=\"\\n\")"
   ]
  },
  {
   "cell_type": "code",
   "execution_count": 29,
   "metadata": {},
   "outputs": [
    {
     "name": "stdout",
     "output_type": "stream",
     "text": [
      "0\n",
      "[]\n"
     ]
    }
   ],
   "source": [
    "# Let's call the function\n",
    "LmSIDER2a_index2 = comparative_grouping_data(grouped_genome_LmSIDER2a_not_in_mine, grouped_positive_SIDER_data)\n",
    "print(len(LmSIDER2a_index2))\n",
    "print(LmSIDER2a_index2)"
   ]
  },
  {
   "cell_type": "markdown",
   "metadata": {},
   "source": [
    "Because the intersection indexes number is 0. That means that there are 49 elements not found there. Let's check in the negative data."
   ]
  },
  {
   "cell_type": "code",
   "execution_count": 30,
   "metadata": {},
   "outputs": [
    {
     "name": "stdout",
     "output_type": "stream",
     "text": [
      "1058\n"
     ]
    },
    {
     "data": {
      "text/html": [
       "<div>\n",
       "<style scoped>\n",
       "    .dataframe tbody tr th:only-of-type {\n",
       "        vertical-align: middle;\n",
       "    }\n",
       "\n",
       "    .dataframe tbody tr th {\n",
       "        vertical-align: top;\n",
       "    }\n",
       "\n",
       "    .dataframe thead th {\n",
       "        text-align: right;\n",
       "    }\n",
       "</style>\n",
       "<table border=\"1\" class=\"dataframe\">\n",
       "  <thead>\n",
       "    <tr style=\"text-align: right;\">\n",
       "      <th></th>\n",
       "      <th>sseqid</th>\n",
       "      <th>sstart</th>\n",
       "      <th>send</th>\n",
       "      <th>sstrand</th>\n",
       "      <th>sseq</th>\n",
       "    </tr>\n",
       "  </thead>\n",
       "  <tbody>\n",
       "    <tr>\n",
       "      <th>0</th>\n",
       "      <td>LinJ.01</td>\n",
       "      <td>13302</td>\n",
       "      <td>14301</td>\n",
       "      <td>plus</td>\n",
       "      <td>GTCGACCGTGCAAGAGGAACTCAACACCGCTCTACTCGGCGTGTCA...</td>\n",
       "    </tr>\n",
       "    <tr>\n",
       "      <th>1</th>\n",
       "      <td>LinJ.01</td>\n",
       "      <td>72760</td>\n",
       "      <td>73757</td>\n",
       "      <td>plus</td>\n",
       "      <td>CGTGTGTTTGTGAGGGGTAAGAATCGACCATGCATCAACGACTGCG...</td>\n",
       "    </tr>\n",
       "    <tr>\n",
       "      <th>2</th>\n",
       "      <td>LinJ.01</td>\n",
       "      <td>113760</td>\n",
       "      <td>114358</td>\n",
       "      <td>plus</td>\n",
       "      <td>CAGCGCCATGCACGACATGGCCGCTGACGTCCGTAGCCCTAACTCG...</td>\n",
       "    </tr>\n",
       "    <tr>\n",
       "      <th>3</th>\n",
       "      <td>LinJ.01</td>\n",
       "      <td>214971</td>\n",
       "      <td>215970</td>\n",
       "      <td>plus</td>\n",
       "      <td>GGGTGTGTACACGAACGTCGAGCCGTGCCGCGGAGCCCCGATGCAC...</td>\n",
       "    </tr>\n",
       "    <tr>\n",
       "      <th>4</th>\n",
       "      <td>LinJ.01</td>\n",
       "      <td>272910</td>\n",
       "      <td>273122</td>\n",
       "      <td>plus</td>\n",
       "      <td>TCTCTGTCTTCACTTCCTCGGTGCGTCTGGTGGTGGTTGCGCCTCT...</td>\n",
       "    </tr>\n",
       "  </tbody>\n",
       "</table>\n",
       "</div>"
      ],
      "text/plain": [
       "    sseqid  sstart    send sstrand  \\\n",
       "0  LinJ.01   13302   14301    plus   \n",
       "1  LinJ.01   72760   73757    plus   \n",
       "2  LinJ.01  113760  114358    plus   \n",
       "3  LinJ.01  214971  215970    plus   \n",
       "4  LinJ.01  272910  273122    plus   \n",
       "\n",
       "                                                sseq  \n",
       "0  GTCGACCGTGCAAGAGGAACTCAACACCGCTCTACTCGGCGTGTCA...  \n",
       "1  CGTGTGTTTGTGAGGGGTAAGAATCGACCATGCATCAACGACTGCG...  \n",
       "2  CAGCGCCATGCACGACATGGCCGCTGACGTCCGTAGCCCTAACTCG...  \n",
       "3  GGGTGTGTACACGAACGTCGAGCCGTGCCGCGGAGCCCCGATGCAC...  \n",
       "4  TCTCTGTCTTCACTTCCTCGGTGCGTCTGGTGGTGGTTGCGCCTCT...  "
      ]
     },
     "execution_count": 30,
     "metadata": {},
     "output_type": "execute_result"
    }
   ],
   "source": [
    "# Read negative data:\n",
    "negative_SIDER_data = pd.read_csv(\"./genome_data/negatives_testing_elements.csv\",\n",
    "                                  header=None, sep=\",\")\n",
    "negative_SIDER_data = negative_SIDER_data[[0, 2, 3, 4, 5]]\n",
    "negative_SIDER_data.columns = [\"sseqid\", \"sstart\", \"send\", \"sstrand\", \"sseq\"]\n",
    "print(len(negative_SIDER_data))\n",
    "negative_SIDER_data.head()"
   ]
  },
  {
   "cell_type": "code",
   "execution_count": 31,
   "metadata": {},
   "outputs": [],
   "source": [
    "# Let's group it by chromosome\n",
    "grouped_negative_SIDER_data = negative_SIDER_data.groupby(\"sseqid\")"
   ]
  },
  {
   "cell_type": "code",
   "execution_count": 32,
   "metadata": {},
   "outputs": [
    {
     "name": "stdout",
     "output_type": "stream",
     "text": [
      "9\n",
      "[3, 4, 5, 6, 10, 11, 24, 29, 152]\n"
     ]
    }
   ],
   "source": [
    "# Let's call the function\n",
    "LmSIDER2a_index3 = comparative_grouping_data(grouped_genome_LmSIDER2a_not_in_mine, grouped_negative_SIDER_data)\n",
    "print(len(LmSIDER2a_index3))\n",
    "print(LmSIDER2a_index3)"
   ]
  },
  {
   "cell_type": "markdown",
   "metadata": {},
   "source": [
    "That means there are 9 elements localized in our negative data. Let's see what's left"
   ]
  },
  {
   "cell_type": "code",
   "execution_count": 33,
   "metadata": {},
   "outputs": [
    {
     "name": "stdout",
     "output_type": "stream",
     "text": [
      "40\n",
      "<class 'pandas.core.frame.DataFrame'>\n"
     ]
    },
    {
     "data": {
      "text/html": [
       "<div>\n",
       "<style scoped>\n",
       "    .dataframe tbody tr th:only-of-type {\n",
       "        vertical-align: middle;\n",
       "    }\n",
       "\n",
       "    .dataframe tbody tr th {\n",
       "        vertical-align: top;\n",
       "    }\n",
       "\n",
       "    .dataframe thead th {\n",
       "        text-align: right;\n",
       "    }\n",
       "</style>\n",
       "<table border=\"1\" class=\"dataframe\">\n",
       "  <thead>\n",
       "    <tr style=\"text-align: right;\">\n",
       "      <th></th>\n",
       "      <th>sseqid</th>\n",
       "      <th>sstart</th>\n",
       "      <th>send</th>\n",
       "      <th>sstrand</th>\n",
       "      <th>sseq</th>\n",
       "    </tr>\n",
       "  </thead>\n",
       "  <tbody>\n",
       "    <tr>\n",
       "      <th>1</th>\n",
       "      <td>LinJ.03</td>\n",
       "      <td>263663</td>\n",
       "      <td>263691</td>\n",
       "      <td>plus</td>\n",
       "      <td>ACCCCTCGCGGTGCAGGAAGCCGAGCAGC</td>\n",
       "    </tr>\n",
       "    <tr>\n",
       "      <th>2</th>\n",
       "      <td>LinJ.03</td>\n",
       "      <td>281600</td>\n",
       "      <td>281615</td>\n",
       "      <td>plus</td>\n",
       "      <td>AAGCCGAGCAGCTCCC</td>\n",
       "    </tr>\n",
       "    <tr>\n",
       "      <th>9</th>\n",
       "      <td>LinJ.05</td>\n",
       "      <td>110382</td>\n",
       "      <td>110396</td>\n",
       "      <td>minus</td>\n",
       "      <td>GGAAGCCGAGCAGCT</td>\n",
       "    </tr>\n",
       "    <tr>\n",
       "      <th>13</th>\n",
       "      <td>LinJ.05</td>\n",
       "      <td>360290</td>\n",
       "      <td>360334</td>\n",
       "      <td>plus</td>\n",
       "      <td>GGGAACACCTCAGCGCGGTATCCAGGCACCAGTACCCACCACTCT</td>\n",
       "    </tr>\n",
       "    <tr>\n",
       "      <th>18</th>\n",
       "      <td>LinJ.06</td>\n",
       "      <td>203064</td>\n",
       "      <td>203091</td>\n",
       "      <td>minus</td>\n",
       "      <td>CACCCACACTCTGTGAGTTTGCCGAGCA</td>\n",
       "    </tr>\n",
       "  </tbody>\n",
       "</table>\n",
       "</div>"
      ],
      "text/plain": [
       "     sseqid  sstart    send sstrand  \\\n",
       "1   LinJ.03  263663  263691    plus   \n",
       "2   LinJ.03  281600  281615    plus   \n",
       "9   LinJ.05  110382  110396   minus   \n",
       "13  LinJ.05  360290  360334    plus   \n",
       "18  LinJ.06  203064  203091   minus   \n",
       "\n",
       "                                             sseq  \n",
       "1                   ACCCCTCGCGGTGCAGGAAGCCGAGCAGC  \n",
       "2                                AAGCCGAGCAGCTCCC  \n",
       "9                                 GGAAGCCGAGCAGCT  \n",
       "13  GGGAACACCTCAGCGCGGTATCCAGGCACCAGTACCCACCACTCT  \n",
       "18                   CACCCACACTCTGTGAGTTTGCCGAGCA  "
      ]
     },
     "execution_count": 33,
     "metadata": {},
     "output_type": "execute_result"
    }
   ],
   "source": [
    "genome_LmSIDER2a_NOTIN_pos_and_neg = genome_LmSIDER2a_not_in_mine.drop(LmSIDER2a_index3)\n",
    "print(len(genome_LmSIDER2a_NOTIN_pos_and_neg))\n",
    "print(type(genome_LmSIDER2a_NOTIN_pos_and_neg))\n",
    "genome_LmSIDER2a_NOTIN_pos_and_neg.head()"
   ]
  },
  {
   "cell_type": "markdown",
   "metadata": {},
   "source": [
    "## LmSIDER2b hallmarks\n",
    "Now let's do the same but with LmSIDERb"
   ]
  },
  {
   "cell_type": "code",
   "execution_count": 34,
   "metadata": {},
   "outputs": [
    {
     "name": "stdout",
     "output_type": "stream",
     "text": [
      "(620, 5)\n",
      "(500, 5)\n"
     ]
    }
   ],
   "source": [
    "# The data needed:\n",
    "print(genome_LmSIDER2b.shape)\n",
    "print(mine_LmSIDER2b.shape)"
   ]
  },
  {
   "cell_type": "code",
   "execution_count": 35,
   "metadata": {},
   "outputs": [
    {
     "name": "stdout",
     "output_type": "stream",
     "text": [
      "True    620\n",
      "Name: count, dtype: int64\n",
      "==================================================\n",
      "True    500\n",
      "Name: count, dtype: int64\n"
     ]
    }
   ],
   "source": [
    "# Check coordinates\n",
    "print((genome_LmSIDER2b[\"sstart\"] < genome_LmSIDER2b[\"send\"]).value_counts())\n",
    "print(\"=\" * 50)\n",
    "print((mine_LmSIDER2b[\"sstart\"] < mine_LmSIDER2b[\"send\"]).value_counts())"
   ]
  },
  {
   "cell_type": "code",
   "execution_count": 37,
   "metadata": {},
   "outputs": [
    {
     "data": {
      "image/png": "[encoded data removed]",
      "text/plain": [
       "<Figure size 640x480 with 1 Axes>"
      ]
     },
     "metadata": {},
     "output_type": "display_data"
    }
   ],
   "source": [
    "sns.countplot(x=\"sseqid\", data=genome_LmSIDER2b, color=\"blue\")\n",
    "plt.title(\"Count of sseqid in genome_LmSIDER2b\")\n",
    "plt.xlabel(\"sseqid\")\n",
    "plt.ylabel(\"Count\")\n",
    "plt.xticks(rotation=90)\n",
    "# plt.tight_layout()\n",
    "plt.show()"
   ]
  },
  {
   "cell_type": "code",
   "execution_count": 38,
   "metadata": {},
   "outputs": [
    {
     "data": {
      "image/png": "[encoded data removed]",
      "text/plain": [
       "<Figure size 640x480 with 1 Axes>"
      ]
     },
     "metadata": {},
     "output_type": "display_data"
    }
   ],
   "source": [
    "sns.countplot(x=\"sseqid\", data=mine_LmSIDER2b, color=\"blue\")\n",
    "plt.title(\"Count of sseqid in mine_LmSIDER2b\")\n",
    "plt.xlabel(\"sseqid\")\n",
    "plt.ylabel(\"Count\")\n",
    "plt.xticks(rotation=90)\n",
    "# plt.tight_layout()\n",
    "plt.show()"
   ]
  },
  {
   "cell_type": "code",
   "execution_count": 39,
   "metadata": {},
   "outputs": [
    {
     "name": "stdout",
     "output_type": "stream",
     "text": [
      "<class 'pandas.core.groupby.generic.DataFrameGroupBy'>\n",
      "<class 'pandas.core.groupby.generic.DataFrameGroupBy'>\n"
     ]
    }
   ],
   "source": [
    "# Group the data\n",
    "grouped_genome_LmSIDER2b = genome_LmSIDER2b.groupby(\"sseqid\")\n",
    "grouped_mine_LmSIDER2b = mine_LmSIDER2b.groupby(\"sseqid\")\n",
    "print(type(grouped_genome_LmSIDER2b), type(grouped_mine_LmSIDER2b), sep=\"\\n\")"
   ]
  },
  {
   "cell_type": "code",
   "execution_count": 40,
   "metadata": {},
   "outputs": [
    {
     "name": "stdout",
     "output_type": "stream",
     "text": [
      "493\n",
      "[0, 1, 2, 3, 6, 7, 8, 9, 16, 17, 18, 19, 20, 21, 22, 23, 25, 26, 29, 30, 35, 36, 37, 38, 40, 45, 46, 47, 48, 49, 50, 51, 52, 54, 55, 56, 57, 59, 60, 61, 62, 63, 65, 67, 68, 70, 71, 72, 73, 74, 76, 78, 79, 80, 81, 82, 83, 84, 86, 87, 88, 89, 90, 91, 92, 93, 94, 95, 96, 97, 98, 99, 110, 111, 112, 113, 114, 115, 116, 117, 118, 119, 125, 126, 127, 128, 129, 130, 131, 132, 133, 135, 136, 147, 148, 150, 151, 152, 154, 155, 156, 157, 158, 159, 160, 161, 162, 163, 164, 165, 166, 167, 168, 169, 170, 171, 172, 173, 174, 175, 176, 177, 178, 179, 180, 181, 182, 183, 184, 185, 186, 187, 189, 190, 191, 192, 193, 194, 195, 196, 197, 198, 199, 200, 201, 202, 203, 204, 205, 206, 207, 208, 209, 210, 211, 212, 213, 214, 215, 216, 217, 218, 219, 220, 221, 224, 225, 226, 227, 228, 229, 230, 231, 232, 233, 235, 236, 237, 238, 239, 240, 241, 242, 243, 244, 245, 246, 247, 248, 249, 250, 251, 252, 253, 255, 256, 257, 258, 259, 260, 261, 262, 263, 264, 265, 268, 269, 270, 271, 272, 273, 274, 275, 276, 277, 279, 280, 281, 282, 283, 284, 286, 287, 288, 289, 290, 291, 292, 293, 294, 295, 296, 297, 298, 299, 300, 301, 302, 303, 304, 305, 306, 307, 308, 309, 310, 311, 312, 313, 314, 315, 316, 317, 318, 319, 320, 321, 322, 323, 324, 325, 326, 327, 328, 329, 330, 331, 332, 333, 335, 337, 338, 343, 344, 345, 346, 347, 354, 355, 356, 357, 358, 359, 360, 365, 366, 367, 368, 369, 370, 371, 372, 373, 374, 375, 376, 377, 378, 379, 381, 382, 383, 384, 385, 386, 387, 388, 389, 393, 394, 395, 396, 397, 398, 399, 400, 401, 402, 403, 404, 405, 406, 407, 408, 409, 411, 412, 413, 414, 415, 417, 418, 419, 420, 421, 422, 423, 424, 425, 426, 429, 430, 431, 433, 434, 435, 436, 440, 442, 443, 444, 445, 446, 447, 448, 449, 450, 451, 454, 455, 456, 458, 459, 461, 462, 463, 464, 465, 466, 467, 468, 469, 470, 471, 472, 473, 474, 475, 476, 477, 478, 479, 480, 481, 482, 483, 485, 486, 488, 489, 490, 491, 492, 493, 494, 495, 496, 497, 499, 501, 503, 504, 505, 506, 507, 508, 509, 510, 511, 512, 513, 514, 515, 516, 521, 522, 523, 525, 526, 528, 529, 530, 531, 533, 534, 535, 536, 537, 538, 539, 540, 541, 542, 544, 545, 549, 553, 554, 555, 556, 557, 558, 559, 560, 561, 562, 563, 564, 565, 566, 567, 568, 570, 571, 572, 573, 574, 575, 576, 577, 578, 579, 580, 581, 582, 583, 586, 587, 588, 589, 590, 591, 592, 593, 594, 595, 596, 597, 598, 599, 600, 601, 602, 604, 606, 607, 608, 609, 611, 612, 617, 618, 619]\n"
     ]
    }
   ],
   "source": [
    "# Let's check how many elements from the 620 are in the mine data\n",
    "LmSIDER2b_index = comparative_grouping_data(grouped_genome_LmSIDER2b, grouped_mine_LmSIDER2b)\n",
    "print(len(LmSIDER2b_index))\n",
    "print(LmSIDER2b_index)"
   ]
  },
  {
   "cell_type": "code",
   "execution_count": 41,
   "metadata": {},
   "outputs": [
    {
     "name": "stdout",
     "output_type": "stream",
     "text": [
      "127\n",
      "<class 'pandas.core.frame.DataFrame'>\n"
     ]
    },
    {
     "data": {
      "text/html": [
       "<div>\n",
       "<style scoped>\n",
       "    .dataframe tbody tr th:only-of-type {\n",
       "        vertical-align: middle;\n",
       "    }\n",
       "\n",
       "    .dataframe tbody tr th {\n",
       "        vertical-align: top;\n",
       "    }\n",
       "\n",
       "    .dataframe thead th {\n",
       "        text-align: right;\n",
       "    }\n",
       "</style>\n",
       "<table border=\"1\" class=\"dataframe\">\n",
       "  <thead>\n",
       "    <tr style=\"text-align: right;\">\n",
       "      <th></th>\n",
       "      <th>sseqid</th>\n",
       "      <th>sstart</th>\n",
       "      <th>send</th>\n",
       "      <th>sstrand</th>\n",
       "      <th>sseq</th>\n",
       "    </tr>\n",
       "  </thead>\n",
       "  <tbody>\n",
       "    <tr>\n",
       "      <th>4</th>\n",
       "      <td>LinJ.02</td>\n",
       "      <td>204336</td>\n",
       "      <td>204357</td>\n",
       "      <td>minus</td>\n",
       "      <td>GGGGAGGTCAGAGCGATGTATC</td>\n",
       "    </tr>\n",
       "    <tr>\n",
       "      <th>5</th>\n",
       "      <td>LinJ.02</td>\n",
       "      <td>259346</td>\n",
       "      <td>259387</td>\n",
       "      <td>minus</td>\n",
       "      <td>CCCTTCCAACGCCGAGCCGCTTCTCGTTGTGACAGGGTCCAG</td>\n",
       "    </tr>\n",
       "    <tr>\n",
       "      <th>10</th>\n",
       "      <td>LinJ.04</td>\n",
       "      <td>331482</td>\n",
       "      <td>331541</td>\n",
       "      <td>minus</td>\n",
       "      <td>CCACTTCGCGTGGTGGCAGGGCCAGGGTGCCTAGGGCGTGAGAGGG...</td>\n",
       "    </tr>\n",
       "    <tr>\n",
       "      <th>11</th>\n",
       "      <td>LinJ.04</td>\n",
       "      <td>363010</td>\n",
       "      <td>363075</td>\n",
       "      <td>plus</td>\n",
       "      <td>GCCGGGCCACTTCGCGTGGTGGCAGGGCCAGGGTGCCTAGGGCGTG...</td>\n",
       "    </tr>\n",
       "    <tr>\n",
       "      <th>12</th>\n",
       "      <td>LinJ.04</td>\n",
       "      <td>391323</td>\n",
       "      <td>391382</td>\n",
       "      <td>minus</td>\n",
       "      <td>CCACTTCGCGTGGTGGCAGGGCCAGGGTGCCTAGGGCGTGAGAGGG...</td>\n",
       "    </tr>\n",
       "  </tbody>\n",
       "</table>\n",
       "</div>"
      ],
      "text/plain": [
       "     sseqid  sstart    send sstrand  \\\n",
       "4   LinJ.02  204336  204357   minus   \n",
       "5   LinJ.02  259346  259387   minus   \n",
       "10  LinJ.04  331482  331541   minus   \n",
       "11  LinJ.04  363010  363075    plus   \n",
       "12  LinJ.04  391323  391382   minus   \n",
       "\n",
       "                                                 sseq  \n",
       "4                              GGGGAGGTCAGAGCGATGTATC  \n",
       "5          CCCTTCCAACGCCGAGCCGCTTCTCGTTGTGACAGGGTCCAG  \n",
       "10  CCACTTCGCGTGGTGGCAGGGCCAGGGTGCCTAGGGCGTGAGAGGG...  \n",
       "11  GCCGGGCCACTTCGCGTGGTGGCAGGGCCAGGGTGCCTAGGGCGTG...  \n",
       "12  CCACTTCGCGTGGTGGCAGGGCCAGGGTGCCTAGGGCGTGAGAGGG...  "
      ]
     },
     "execution_count": 41,
     "metadata": {},
     "output_type": "execute_result"
    }
   ],
   "source": [
    "# Let's see which ones are not in our data\n",
    "genome_LmSIDER2b_not_in_mine = genome_LmSIDER2b.drop(LmSIDER2b_index)\n",
    "print(len(genome_LmSIDER2b_not_in_mine))\n",
    "print(type(genome_LmSIDER2b_not_in_mine))\n",
    "genome_LmSIDER2b_not_in_mine.head()"
   ]
  },
  {
   "cell_type": "code",
   "execution_count": 42,
   "metadata": {},
   "outputs": [
    {
     "name": "stdout",
     "output_type": "stream",
     "text": [
      "<class 'pandas.core.groupby.generic.DataFrameGroupBy'>\n",
      "<class 'pandas.core.groupby.generic.DataFrameGroupBy'>\n"
     ]
    }
   ],
   "source": [
    "# Now let's compare it with the original positive data from our software\n",
    "# Group this last data frame\n",
    "grouped_genome_LmSIDER2b_not_in_mine = genome_LmSIDER2b_not_in_mine.groupby(\"sseqid\")\n",
    "print(type(grouped_genome_LmSIDER2b_not_in_mine))\n",
    "print(type(grouped_positive_SIDER_data))"
   ]
  },
  {
   "cell_type": "code",
   "execution_count": 43,
   "metadata": {},
   "outputs": [
    {
     "name": "stdout",
     "output_type": "stream",
     "text": [
      "105\n",
      "[4, 14, 15, 24, 27, 28, 31, 32, 33, 34, 39, 41, 42, 43, 44, 53, 58, 64, 66, 75, 77, 100, 101, 102, 103, 104, 105, 106, 107, 108, 120, 121, 122, 123, 124, 134, 137, 138, 139, 142, 143, 144, 145, 146, 149, 188, 222, 223, 234, 254, 267, 278, 334, 336, 339, 340, 341, 342, 349, 350, 351, 352, 353, 361, 362, 363, 364, 380, 390, 391, 392, 416, 427, 428, 432, 437, 438, 439, 457, 460, 487, 498, 500, 502, 517, 519, 520, 524, 527, 532, 543, 546, 547, 550, 551, 552, 584, 585, 603, 605, 610, 613, 614, 615, 616]\n"
     ]
    }
   ],
   "source": [
    "# Call function\n",
    "LmSIDER2b_index2 = comparative_grouping_data(grouped_genome_LmSIDER2b_not_in_mine, grouped_positive_SIDER_data)\n",
    "print(len(LmSIDER2b_index2))\n",
    "print(LmSIDER2b_index2)"
   ]
  },
  {
   "cell_type": "code",
   "execution_count": 44,
   "metadata": {},
   "outputs": [
    {
     "name": "stdout",
     "output_type": "stream",
     "text": [
      "22\n",
      "<class 'pandas.core.frame.DataFrame'>\n"
     ]
    },
    {
     "data": {
      "text/html": [
       "<div>\n",
       "<style scoped>\n",
       "    .dataframe tbody tr th:only-of-type {\n",
       "        vertical-align: middle;\n",
       "    }\n",
       "\n",
       "    .dataframe tbody tr th {\n",
       "        vertical-align: top;\n",
       "    }\n",
       "\n",
       "    .dataframe thead th {\n",
       "        text-align: right;\n",
       "    }\n",
       "</style>\n",
       "<table border=\"1\" class=\"dataframe\">\n",
       "  <thead>\n",
       "    <tr style=\"text-align: right;\">\n",
       "      <th></th>\n",
       "      <th>sseqid</th>\n",
       "      <th>sstart</th>\n",
       "      <th>send</th>\n",
       "      <th>sstrand</th>\n",
       "      <th>sseq</th>\n",
       "    </tr>\n",
       "  </thead>\n",
       "  <tbody>\n",
       "    <tr>\n",
       "      <th>5</th>\n",
       "      <td>LinJ.02</td>\n",
       "      <td>259346</td>\n",
       "      <td>259387</td>\n",
       "      <td>minus</td>\n",
       "      <td>CCCTTCCAACGCCGAGCCGCTTCTCGTTGTGACAGGGTCCAG</td>\n",
       "    </tr>\n",
       "    <tr>\n",
       "      <th>10</th>\n",
       "      <td>LinJ.04</td>\n",
       "      <td>331482</td>\n",
       "      <td>331541</td>\n",
       "      <td>minus</td>\n",
       "      <td>CCACTTCGCGTGGTGGCAGGGCCAGGGTGCCTAGGGCGTGAGAGGG...</td>\n",
       "    </tr>\n",
       "    <tr>\n",
       "      <th>11</th>\n",
       "      <td>LinJ.04</td>\n",
       "      <td>363010</td>\n",
       "      <td>363075</td>\n",
       "      <td>plus</td>\n",
       "      <td>GCCGGGCCACTTCGCGTGGTGGCAGGGCCAGGGTGCCTAGGGCGTG...</td>\n",
       "    </tr>\n",
       "    <tr>\n",
       "      <th>12</th>\n",
       "      <td>LinJ.04</td>\n",
       "      <td>391323</td>\n",
       "      <td>391382</td>\n",
       "      <td>minus</td>\n",
       "      <td>CCACTTCGCGTGGTGGCAGGGCCAGGGTGCCTAGGGCGTGAGAGGG...</td>\n",
       "    </tr>\n",
       "    <tr>\n",
       "      <th>13</th>\n",
       "      <td>LinJ.04</td>\n",
       "      <td>394442</td>\n",
       "      <td>394501</td>\n",
       "      <td>minus</td>\n",
       "      <td>CCACTTCGCGTGGTGGCAGGGCCAGGGTGCCTAGGGCGTGAGAGGG...</td>\n",
       "    </tr>\n",
       "  </tbody>\n",
       "</table>\n",
       "</div>"
      ],
      "text/plain": [
       "     sseqid  sstart    send sstrand  \\\n",
       "5   LinJ.02  259346  259387   minus   \n",
       "10  LinJ.04  331482  331541   minus   \n",
       "11  LinJ.04  363010  363075    plus   \n",
       "12  LinJ.04  391323  391382   minus   \n",
       "13  LinJ.04  394442  394501   minus   \n",
       "\n",
       "                                                 sseq  \n",
       "5          CCCTTCCAACGCCGAGCCGCTTCTCGTTGTGACAGGGTCCAG  \n",
       "10  CCACTTCGCGTGGTGGCAGGGCCAGGGTGCCTAGGGCGTGAGAGGG...  \n",
       "11  GCCGGGCCACTTCGCGTGGTGGCAGGGCCAGGGTGCCTAGGGCGTG...  \n",
       "12  CCACTTCGCGTGGTGGCAGGGCCAGGGTGCCTAGGGCGTGAGAGGG...  \n",
       "13  CCACTTCGCGTGGTGGCAGGGCCAGGGTGCCTAGGGCGTGAGAGGG...  "
      ]
     },
     "execution_count": 44,
     "metadata": {},
     "output_type": "execute_result"
    }
   ],
   "source": [
    "# Filter the ones that are not in our data\n",
    "genome_LmSIDER2b_NOTIN_pos = genome_LmSIDER2b_not_in_mine.drop(LmSIDER2b_index2)\n",
    "print(len(genome_LmSIDER2b_NOTIN_pos))\n",
    "print(type(genome_LmSIDER2b_NOTIN_pos))\n",
    "genome_LmSIDER2b_NOTIN_pos.head()"
   ]
  },
  {
   "cell_type": "code",
   "execution_count": 45,
   "metadata": {},
   "outputs": [
    {
     "name": "stdout",
     "output_type": "stream",
     "text": [
      "<class 'pandas.core.groupby.generic.DataFrameGroupBy'>\n",
      "<class 'pandas.core.groupby.generic.DataFrameGroupBy'>\n"
     ]
    }
   ],
   "source": [
    "# Let's check with the negative data\n",
    "# Group this last data frame\n",
    "grouped_genome_LmSIDER2b_NOTIN_pos = genome_LmSIDER2b_NOTIN_pos.groupby(\"sseqid\")\n",
    "print(type(grouped_genome_LmSIDER2b_NOTIN_pos), type(grouped_negative_SIDER_data), sep=\"\\n\")"
   ]
  },
  {
   "cell_type": "code",
   "execution_count": 46,
   "metadata": {},
   "outputs": [
    {
     "name": "stdout",
     "output_type": "stream",
     "text": [
      "12\n",
      "<class 'list'>\n",
      "[5, 10, 11, 12, 13, 69, 140, 141, 153, 285, 441, 569]\n"
     ]
    }
   ],
   "source": [
    "# Call function to see if they are localized in negative data\n",
    "LmSIDER2b_index3 = comparative_grouping_data(grouped_genome_LmSIDER2b_NOTIN_pos, grouped_negative_SIDER_data)\n",
    "print(len(LmSIDER2b_index3))\n",
    "print(type(LmSIDER2b_index3))\n",
    "print(LmSIDER2b_index3)"
   ]
  },
  {
   "cell_type": "code",
   "execution_count": 47,
   "metadata": {},
   "outputs": [
    {
     "name": "stdout",
     "output_type": "stream",
     "text": [
      "10\n",
      "<class 'pandas.core.frame.DataFrame'>\n"
     ]
    },
    {
     "data": {
      "text/html": [
       "<div>\n",
       "<style scoped>\n",
       "    .dataframe tbody tr th:only-of-type {\n",
       "        vertical-align: middle;\n",
       "    }\n",
       "\n",
       "    .dataframe tbody tr th {\n",
       "        vertical-align: top;\n",
       "    }\n",
       "\n",
       "    .dataframe thead th {\n",
       "        text-align: right;\n",
       "    }\n",
       "</style>\n",
       "<table border=\"1\" class=\"dataframe\">\n",
       "  <thead>\n",
       "    <tr style=\"text-align: right;\">\n",
       "      <th></th>\n",
       "      <th>sseqid</th>\n",
       "      <th>sstart</th>\n",
       "      <th>send</th>\n",
       "      <th>sstrand</th>\n",
       "      <th>sseq</th>\n",
       "    </tr>\n",
       "  </thead>\n",
       "  <tbody>\n",
       "    <tr>\n",
       "      <th>85</th>\n",
       "      <td>LinJ.13</td>\n",
       "      <td>507535</td>\n",
       "      <td>507606</td>\n",
       "      <td>plus</td>\n",
       "      <td>CCCTGCCCATGCCGAACCACTTCGGGTGGTGGCGGGGGTTCCCGTG...</td>\n",
       "    </tr>\n",
       "    <tr>\n",
       "      <th>109</th>\n",
       "      <td>LinJ.14</td>\n",
       "      <td>430615</td>\n",
       "      <td>430655</td>\n",
       "      <td>plus</td>\n",
       "      <td>CCCTGCCAATGCTGAAGCACCCCTGGTGGCGCCAGGGCCAG</td>\n",
       "    </tr>\n",
       "    <tr>\n",
       "      <th>266</th>\n",
       "      <td>LinJ.24</td>\n",
       "      <td>478722</td>\n",
       "      <td>478742</td>\n",
       "      <td>minus</td>\n",
       "      <td>GTGGTGACAGGGTCGTGTGCC</td>\n",
       "    </tr>\n",
       "    <tr>\n",
       "      <th>348</th>\n",
       "      <td>LinJ.28</td>\n",
       "      <td>520036</td>\n",
       "      <td>520067</td>\n",
       "      <td>plus</td>\n",
       "      <td>CCCATGCCAAATGCCGAACCACCTCTGGTGGT</td>\n",
       "    </tr>\n",
       "    <tr>\n",
       "      <th>410</th>\n",
       "      <td>LinJ.30</td>\n",
       "      <td>276569</td>\n",
       "      <td>276583</td>\n",
       "      <td>minus</td>\n",
       "      <td>GGGGAGGTCAGAGCG</td>\n",
       "    </tr>\n",
       "  </tbody>\n",
       "</table>\n",
       "</div>"
      ],
      "text/plain": [
       "      sseqid  sstart    send sstrand  \\\n",
       "85   LinJ.13  507535  507606    plus   \n",
       "109  LinJ.14  430615  430655    plus   \n",
       "266  LinJ.24  478722  478742   minus   \n",
       "348  LinJ.28  520036  520067    plus   \n",
       "410  LinJ.30  276569  276583   minus   \n",
       "\n",
       "                                                  sseq  \n",
       "85   CCCTGCCCATGCCGAACCACTTCGGGTGGTGGCGGGGGTTCCCGTG...  \n",
       "109          CCCTGCCAATGCTGAAGCACCCCTGGTGGCGCCAGGGCCAG  \n",
       "266                              GTGGTGACAGGGTCGTGTGCC  \n",
       "348                   CCCATGCCAAATGCCGAACCACCTCTGGTGGT  \n",
       "410                                    GGGGAGGTCAGAGCG  "
      ]
     },
     "execution_count": 47,
     "metadata": {},
     "output_type": "execute_result"
    }
   ],
   "source": [
    "# Check the ones that are not in both data\n",
    "genome_LmSIDER2b_NOTIN_pos_and_neg = genome_LmSIDER2b_NOTIN_pos.drop(LmSIDER2b_index3)\n",
    "print(len(genome_LmSIDER2b_NOTIN_pos_and_neg))\n",
    "print(type(genome_LmSIDER2b_NOTIN_pos_and_neg))\n",
    "genome_LmSIDER2b_NOTIN_pos_and_neg.head()"
   ]
  },
  {
   "cell_type": "markdown",
   "metadata": {},
   "source": [
    "## Summary"
   ]
  },
  {
   "cell_type": "markdown",
   "metadata": {},
   "source": [
    "## LmSIDER2a"
   ]
  },
  {
   "cell_type": "code",
   "execution_count": 48,
   "metadata": {},
   "outputs": [
    {
     "name": "stdout",
     "output_type": "stream",
     "text": [
      "(Data A) Number of LmSIDER2a hallmarks in L. infantum genome: 258 \n",
      "(Data B) Number of LmSIDER2a hallmarks in our SIDER positive data: 331 \n",
      "(Data C) Number of elements in our SIDER positive data from our software: 1951 \n",
      "(Data D) Number of elements in our SIDER negative data from our software: 1058 \n",
      " ================================================== \n",
      "\tElements from Data A found in Data B: 209 \n",
      "\tElements from Data A not found in Data B: 49 \n",
      "\t\tFound in Data C: 0 \n",
      "\t\tFound in Data D: 9 \n",
      "\t\tNot found in Data C and Data D: 40\n"
     ]
    }
   ],
   "source": [
    "print(f\"(Data A) Number of LmSIDER2a hallmarks in L. infantum genome: {len(genome_LmSIDER2a)}\",\n",
    "      f\"\\n(Data B) Number of LmSIDER2a hallmarks in our SIDER positive data: {len(mine_LmSIDER2a)}\",\n",
    "      f\"\\n(Data C) Number of elements in our SIDER positive data from our software: {len(positive_SIDER_data)}\",\n",
    "      f\"\\n(Data D) Number of elements in our SIDER negative data from our software: {len(negative_SIDER_data)}\",\n",
    "      \"\\n\",\n",
    "      \"=\" * 50,\n",
    "      f\"\\n\\tElements from Data A found in Data B: {len(LmSIDER2a_index)}\",\n",
    "      f\"\\n\\tElements from Data A not found in Data B: {len(genome_LmSIDER2a_not_in_mine)}\",\n",
    "      f\"\\n\\t\\tFound in Data C: {len(LmSIDER2a_index2)}\",\n",
    "      f\"\\n\\t\\tFound in Data D: {len(LmSIDER2a_index3)}\",\n",
    "      f\"\\n\\t\\tNot found in Data C and Data D: {len(genome_LmSIDER2a_NOTIN_pos_and_neg)}\",\n",
    "      )"
   ]
  },
  {
   "cell_type": "code",
   "execution_count": 52,
   "metadata": {},
   "outputs": [],
   "source": [
    "genome_LmSIDER2a_NOTIN_pos_and_neg.to_csv(\"./output_csv/new/genome_LmSIDER2a_NOTIN_pos_and_neg.csv\", header=True, index=False, sep=\",\")"
   ]
  },
  {
   "cell_type": "markdown",
   "metadata": {},
   "source": [
    "## LmSIDER2b"
   ]
  },
  {
   "cell_type": "code",
   "execution_count": 49,
   "metadata": {},
   "outputs": [
    {
     "name": "stdout",
     "output_type": "stream",
     "text": [
      "(Data A) Number of LmSIDER2b hallmarks in L. infantum genome: 620 \n",
      "(Data B) Number of LmSIDER2b hallmarks in our SIDER positive data: 500 \n",
      "(Data C) Number of elements in our SIDER positive data from our software: 1951 \n",
      "(Data D) Number of elements in our SIDER negative data from our software: 1058 \n",
      " ================================================== \n",
      "\tElements from Data A found in Data B: 493 \n",
      "\tElements from Data A not found in Data B: 127 \n",
      "\t\tFound in Data C: 105 \n",
      "\t\tFound in Data D: 12 \n",
      "\t\tNot found in Data C and Data D: 10\n"
     ]
    }
   ],
   "source": [
    "print(f\"(Data A) Number of LmSIDER2b hallmarks in L. infantum genome: {len(genome_LmSIDER2b)}\",\n",
    "      f\"\\n(Data B) Number of LmSIDER2b hallmarks in our SIDER positive data: {len(mine_LmSIDER2b)}\",\n",
    "      f\"\\n(Data C) Number of elements in our SIDER positive data from our software: {len(positive_SIDER_data)}\",\n",
    "      f\"\\n(Data D) Number of elements in our SIDER negative data from our software: {len(negative_SIDER_data)}\",\n",
    "      \"\\n\",\n",
    "      \"=\" * 50,\n",
    "      f\"\\n\\tElements from Data A found in Data B: {len(LmSIDER2b_index)}\",\n",
    "      f\"\\n\\tElements from Data A not found in Data B: {len(genome_LmSIDER2b_not_in_mine)}\",\n",
    "      f\"\\n\\t\\tFound in Data C: {len(LmSIDER2b_index2)}\",\n",
    "      f\"\\n\\t\\tFound in Data D: {len(LmSIDER2b_index3)}\",\n",
    "      f\"\\n\\t\\tNot found in Data C and Data D: {len(genome_LmSIDER2b_NOTIN_pos_and_neg)}\",\n",
    "      )"
   ]
  },
  {
   "cell_type": "code",
   "execution_count": 53,
   "metadata": {},
   "outputs": [],
   "source": [
    "genome_LmSIDER2b_NOTIN_pos_and_neg.to_csv(\"./output_csv/new/genome_LmSIDER2b_NOTIN_pos_and_neg.csv\", header=True, index=False, sep=\",\")"
   ]
  },
  {
   "cell_type": "code",
   "execution_count": 50,
   "metadata": {},
   "outputs": [],
   "source": [
    "# # To save the data\n",
    "# import dill\n",
    "# dill.dump_session('./variables_saves/workspace.db')\n",
    "\n",
    "# # to import the data\n",
    "# import dill\n",
    "# dill.load_session('./variables_saves/workspace.db')"
   ]
  }
 ],
 "metadata": {
  "kernelspec": {
   "display_name": "Python 3",
   "language": "python",
   "name": "python3"
  },
  "language_info": {
   "codemirror_mode": {
    "name": "ipython",
    "version": 3
   },
   "file_extension": ".py",
   "mimetype": "text/x-python",
   "name": "python",
   "nbconvert_exporter": "python",
   "pygments_lexer": "ipython3",
   "version": "3.10.9"
  }
 },
 "nbformat": 4,
 "nbformat_minor": 2
}
