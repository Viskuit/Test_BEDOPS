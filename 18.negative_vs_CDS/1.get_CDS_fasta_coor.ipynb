{
 "cells": [
  {
   "cell_type": "markdown",
   "metadata": {},
   "source": [
    "# Code"
   ]
  },
  {
   "cell_type": "code",
   "execution_count": 26,
   "metadata": {},
   "outputs": [],
   "source": [
    "# needed libraries\n",
    "import pandas as pd\n",
    "import subprocess\n",
    "\n",
    "from Bio import SeqIO"
   ]
  },
  {
   "cell_type": "markdown",
   "metadata": {},
   "source": [
    "## Get bed files"
   ]
  },
  {
   "cell_type": "code",
   "execution_count": 27,
   "metadata": {},
   "outputs": [],
   "source": [
    "# paths\n",
    "path_cds_fasta = \"./data/TriTrypDB-68_LinfantumJPCM5_AnnotatedCDSs.fasta\"\n",
    "path_neg_data = \"./data/neg_data_corrected.csv\""
   ]
  },
  {
   "cell_type": "code",
   "execution_count": 28,
   "metadata": {},
   "outputs": [
    {
     "name": "stdout",
     "output_type": "stream",
     "text": [
      "8527\n",
      "['LinJ.01', '3710', '4711', '-', 'product=Protein of unknown function (DUF2946)']\n",
      "['LinJ.01', '5804', '7438', '-', 'product=Endonuclease/Exonuclease/phosphatase family']\n",
      "['LinJ.01', '9038', '11059', '-', 'product=Kinesin-13']\n",
      "['LinJ.01', '12041', '12601', '-', 'product=hypothetical protein - conserved']\n",
      "['LinJ.01', '14957', '16954', '-', 'product=carboxylase - putative']\n"
     ]
    },
    {
     "data": {
      "text/plain": [
       "[None, None, None, None, None]"
      ]
     },
     "execution_count": 28,
     "metadata": {},
     "output_type": "execute_result"
    }
   ],
   "source": [
    "# lets get the .bed file for the CDS\n",
    "pre_bed_cds = []\n",
    "with open(path_cds_fasta, \"r\") as handle:\n",
    "    for record in SeqIO.parse(handle, \"fasta\"):\n",
    "        # print(f\"{record.description}\")  # Here are all the data needed\n",
    "        start, end = record.description.split(\"|\")[3].split(\":\")[1].replace(\"(-)\", \"\").replace(\"(+)\",\"\").strip().split(\"-\")  # start and end coordinates\n",
    "        sense = record.description.split(\"|\")[3].split(\":\")[1].split(\"(\")[1].replace(\")\",\"\").strip()  # sense\n",
    "        chr_num = record.description.split(\"|\")[3].split(\":\")[0].split(\"=\")[1]  # chromosome number\n",
    "        attribute = record.description.split(\"|\")[2].strip()\n",
    "        # Now let's create a bed file with chr_num, start and end only, with tab sep\n",
    "        pre_bed_cds.append([chr_num, start, end, sense, attribute])\n",
    "        # print(f\"Chromosome: {chr_num}, Start: {start}, End: {end}, Attribute: {attribute}\")\n",
    "print(len(pre_bed_cds))\n",
    "[print(x) for x in pre_bed_cds[:5]]\n",
    "    "
   ]
  },
  {
   "cell_type": "code",
   "execution_count": 7,
   "metadata": {},
   "outputs": [],
   "source": [
    "# Create bed file with pre_bed_cds\n",
    "path_cds_bed = \"./bed_files/linfantum_cds.bed\"\n",
    "with open(path_cds_bed, \"w\") as handle:\n",
    "    for elemen in pre_bed_cds:\n",
    "        handle.write(f\"{elemen[0]}\\t{elemen[1]}\\t{elemen[2]}\\n\")"
   ]
  },
  {
   "cell_type": "code",
   "execution_count": 8,
   "metadata": {},
   "outputs": [],
   "source": [
    "path_neg_data_bed = \"./bed_files/neg_data.bed\"\n",
    "neg_data = pd.read_csv(path_neg_data, sep=\",\", header=0)\n",
    "# print(neg_data.head())"
   ]
  },
  {
   "cell_type": "code",
   "execution_count": 9,
   "metadata": {},
   "outputs": [
    {
     "name": "stdout",
     "output_type": "stream",
     "text": [
      "    sseqid  sstart    send\n",
      "0  LinJ.01  113760  114388\n",
      "1  LinJ.01  261866  262439\n",
      "2  LinJ.01  272496  275901\n",
      "3  LinJ.02   95421   95743\n",
      "4  LinJ.02   97368   97489\n"
     ]
    }
   ],
   "source": [
    "neg_data_bed = neg_data[[\"sseqid\", \"sstart\", \"send\"]].copy()\n",
    "print(neg_data_bed.head())"
   ]
  },
  {
   "cell_type": "code",
   "execution_count": 10,
   "metadata": {},
   "outputs": [],
   "source": [
    "neg_data_bed.to_csv(path_neg_data_bed, sep=\"\\t\", header=False, index=False)"
   ]
  },
  {
   "cell_type": "markdown",
   "metadata": {},
   "source": [
    "## Bedops element of"
   ]
  },
  {
   "cell_type": "code",
   "execution_count": 11,
   "metadata": {},
   "outputs": [],
   "source": [
    "cmd = f\"bedops --element-of {path_neg_data_bed} {path_cds_bed}\"\n",
    "result = subprocess.run(cmd, shell=True, capture_output=True, text=True, universal_newlines=True, executable=\"/usr/bin/bash\")\n",
    "result_out = result.stdout\n",
    "result_df = pd.DataFrame([x.split(\"\\t\") for x in result_out.split(\"\\n\") if x],\n",
    "                         columns = [\"sseqid\", \"sstart\", \"send\"])"
   ]
  },
  {
   "cell_type": "code",
   "execution_count": 12,
   "metadata": {},
   "outputs": [
    {
     "data": {
      "text/plain": [
       "'bedops --element-of ./bed_files/neg_data.bed ./bed_files/linfantum_cds.bed'"
      ]
     },
     "execution_count": 12,
     "metadata": {},
     "output_type": "execute_result"
    }
   ],
   "source": [
    "cmd"
   ]
  },
  {
   "cell_type": "code",
   "execution_count": 13,
   "metadata": {},
   "outputs": [
    {
     "name": "stdout",
     "output_type": "stream",
     "text": [
      "From 691 negative data, 0 are inside the CDS\n"
     ]
    }
   ],
   "source": [
    "print(f\"From {neg_data_bed.shape[0]} negative data, {result_df.shape[0]} are inside the CDS\")"
   ]
  },
  {
   "cell_type": "code",
   "execution_count": 14,
   "metadata": {},
   "outputs": [
    {
     "data": {
      "text/html": [
       "<div>\n",
       "<style scoped>\n",
       "    .dataframe tbody tr th:only-of-type {\n",
       "        vertical-align: middle;\n",
       "    }\n",
       "\n",
       "    .dataframe tbody tr th {\n",
       "        vertical-align: top;\n",
       "    }\n",
       "\n",
       "    .dataframe thead th {\n",
       "        text-align: right;\n",
       "    }\n",
       "</style>\n",
       "<table border=\"1\" class=\"dataframe\">\n",
       "  <thead>\n",
       "    <tr style=\"text-align: right;\">\n",
       "      <th></th>\n",
       "      <th>sseqid</th>\n",
       "      <th>sstart</th>\n",
       "      <th>send</th>\n",
       "    </tr>\n",
       "  </thead>\n",
       "  <tbody>\n",
       "  </tbody>\n",
       "</table>\n",
       "</div>"
      ],
      "text/plain": [
       "Empty DataFrame\n",
       "Columns: [sseqid, sstart, send]\n",
       "Index: []"
      ]
     },
     "execution_count": 14,
     "metadata": {},
     "output_type": "execute_result"
    }
   ],
   "source": [
    "result_df.head()"
   ]
  },
  {
   "cell_type": "code",
   "execution_count": 15,
   "metadata": {},
   "outputs": [],
   "source": [
    "# Let's check which cds\n",
    "cmd2 = f\"bedops --element-of {path_cds_bed} {path_neg_data_bed}\"\n",
    "result2 = subprocess.run(cmd2, shell=True, capture_output=True, text=True, universal_newlines=True, executable=\"/usr/bin/bash\")\n",
    "result2_out = result2.stdout\n",
    "result2_df = pd.DataFrame([x.split(\"\\t\") for x in result2_out.split(\"\\n\") if x],\n",
    "                         columns = [\"sseqid\", \"sstart\", \"send\"])"
   ]
  },
  {
   "cell_type": "code",
   "execution_count": 16,
   "metadata": {},
   "outputs": [
    {
     "data": {
      "text/plain": [
       "'bedops --element-of ./bed_files/linfantum_cds.bed ./bed_files/neg_data.bed'"
      ]
     },
     "execution_count": 16,
     "metadata": {},
     "output_type": "execute_result"
    }
   ],
   "source": [
    "cmd2"
   ]
  },
  {
   "cell_type": "code",
   "execution_count": 17,
   "metadata": {},
   "outputs": [
    {
     "name": "stdout",
     "output_type": "stream",
     "text": [
      "From 8527 CDS, 0 are inside the negative data\n"
     ]
    }
   ],
   "source": [
    "print(f\"From {len(pre_bed_cds)} CDS, {result2_df.shape[0]} are inside the negative data\")"
   ]
  },
  {
   "cell_type": "code",
   "execution_count": 18,
   "metadata": {},
   "outputs": [
    {
     "name": "stdout",
     "output_type": "stream",
     "text": [
      "Empty DataFrame\n",
      "Columns: [sseqid, sstart, send]\n",
      "Index: []\n"
     ]
    }
   ],
   "source": [
    "# check which CDS are inside the negative data\n",
    "print(result2_df.head()) ## the cds that solap with the negative data"
   ]
  },
  {
   "cell_type": "code",
   "execution_count": 19,
   "metadata": {},
   "outputs": [
    {
     "data": {
      "text/plain": [
       "sseqid    object\n",
       "sstart    object\n",
       "send      object\n",
       "dtype: object"
      ]
     },
     "execution_count": 19,
     "metadata": {},
     "output_type": "execute_result"
    }
   ],
   "source": [
    "result2_df.dtypes"
   ]
  },
  {
   "cell_type": "code",
   "execution_count": 20,
   "metadata": {},
   "outputs": [],
   "source": [
    "# transform in int\n",
    "result2_df[[\"sstart\",\"send\"]] = result2_df[[\"sstart\",\"send\"]].astype(int) "
   ]
  },
  {
   "cell_type": "code",
   "execution_count": 21,
   "metadata": {},
   "outputs": [
    {
     "data": {
      "text/plain": [
       "sseqid    object\n",
       "sstart     int64\n",
       "send       int64\n",
       "dtype: object"
      ]
     },
     "execution_count": 21,
     "metadata": {},
     "output_type": "execute_result"
    }
   ],
   "source": [
    "result2_df.dtypes"
   ]
  },
  {
   "cell_type": "code",
   "execution_count": 22,
   "metadata": {},
   "outputs": [
    {
     "name": "stdout",
     "output_type": "stream",
     "text": [
      "sseqid       object\n",
      "sstart        int64\n",
      "send          int64\n",
      "sense        object\n",
      "attribute    object\n",
      "dtype: object\n"
     ]
    },
    {
     "data": {
      "text/html": [
       "<div>\n",
       "<style scoped>\n",
       "    .dataframe tbody tr th:only-of-type {\n",
       "        vertical-align: middle;\n",
       "    }\n",
       "\n",
       "    .dataframe tbody tr th {\n",
       "        vertical-align: top;\n",
       "    }\n",
       "\n",
       "    .dataframe thead th {\n",
       "        text-align: right;\n",
       "    }\n",
       "</style>\n",
       "<table border=\"1\" class=\"dataframe\">\n",
       "  <thead>\n",
       "    <tr style=\"text-align: right;\">\n",
       "      <th></th>\n",
       "      <th>sseqid</th>\n",
       "      <th>sstart</th>\n",
       "      <th>send</th>\n",
       "      <th>sense</th>\n",
       "      <th>attribute</th>\n",
       "    </tr>\n",
       "  </thead>\n",
       "  <tbody>\n",
       "    <tr>\n",
       "      <th>0</th>\n",
       "      <td>LinJ.01</td>\n",
       "      <td>3710</td>\n",
       "      <td>4711</td>\n",
       "      <td>-</td>\n",
       "      <td>product=Protein of unknown function (DUF2946)</td>\n",
       "    </tr>\n",
       "    <tr>\n",
       "      <th>1</th>\n",
       "      <td>LinJ.01</td>\n",
       "      <td>5804</td>\n",
       "      <td>7438</td>\n",
       "      <td>-</td>\n",
       "      <td>product=Endonuclease/Exonuclease/phosphatase f...</td>\n",
       "    </tr>\n",
       "    <tr>\n",
       "      <th>2</th>\n",
       "      <td>LinJ.01</td>\n",
       "      <td>9038</td>\n",
       "      <td>11059</td>\n",
       "      <td>-</td>\n",
       "      <td>product=Kinesin-13</td>\n",
       "    </tr>\n",
       "    <tr>\n",
       "      <th>3</th>\n",
       "      <td>LinJ.01</td>\n",
       "      <td>12041</td>\n",
       "      <td>12601</td>\n",
       "      <td>-</td>\n",
       "      <td>product=hypothetical protein - conserved</td>\n",
       "    </tr>\n",
       "    <tr>\n",
       "      <th>4</th>\n",
       "      <td>LinJ.01</td>\n",
       "      <td>14957</td>\n",
       "      <td>16954</td>\n",
       "      <td>-</td>\n",
       "      <td>product=carboxylase - putative</td>\n",
       "    </tr>\n",
       "  </tbody>\n",
       "</table>\n",
       "</div>"
      ],
      "text/plain": [
       "    sseqid  sstart   send sense  \\\n",
       "0  LinJ.01    3710   4711     -   \n",
       "1  LinJ.01    5804   7438     -   \n",
       "2  LinJ.01    9038  11059     -   \n",
       "3  LinJ.01   12041  12601     -   \n",
       "4  LinJ.01   14957  16954     -   \n",
       "\n",
       "                                           attribute  \n",
       "0      product=Protein of unknown function (DUF2946)  \n",
       "1  product=Endonuclease/Exonuclease/phosphatase f...  \n",
       "2                                 product=Kinesin-13  \n",
       "3           product=hypothetical protein - conserved  \n",
       "4                     product=carboxylase - putative  "
      ]
     },
     "execution_count": 22,
     "metadata": {},
     "output_type": "execute_result"
    }
   ],
   "source": [
    "# transform the list of list pre_bed_cds in a dataframe\n",
    "pre_bed_cds_df = pd.DataFrame(pre_bed_cds, columns=[\"sseqid\", \"sstart\", \"send\", \"sense\", \"attribute\"])\n",
    "pre_bed_cds_df[[\"sstart\",\"send\"]] = pre_bed_cds_df[[\"sstart\",\"send\"]].astype(int)\n",
    "print(pre_bed_cds_df.dtypes)\n",
    "pre_bed_cds_df.head()"
   ]
  },
  {
   "cell_type": "code",
   "execution_count": 23,
   "metadata": {},
   "outputs": [],
   "source": [
    "pre_bed_cds_df.to_csv(\"./data/linfantum_cds.csv\", sep=\",\", header=True, index=False)"
   ]
  },
  {
   "cell_type": "code",
   "execution_count": 24,
   "metadata": {},
   "outputs": [],
   "source": [
    "common_rows = pd.merge(pre_bed_cds_df, result2_df, on=[\"sseqid\", \"sstart\", \"send\"], how=\"inner\")"
   ]
  },
  {
   "cell_type": "code",
   "execution_count": 25,
   "metadata": {},
   "outputs": [
    {
     "data": {
      "text/html": [
       "<div>\n",
       "<style scoped>\n",
       "    .dataframe tbody tr th:only-of-type {\n",
       "        vertical-align: middle;\n",
       "    }\n",
       "\n",
       "    .dataframe tbody tr th {\n",
       "        vertical-align: top;\n",
       "    }\n",
       "\n",
       "    .dataframe thead th {\n",
       "        text-align: right;\n",
       "    }\n",
       "</style>\n",
       "<table border=\"1\" class=\"dataframe\">\n",
       "  <thead>\n",
       "    <tr style=\"text-align: right;\">\n",
       "      <th></th>\n",
       "      <th>sseqid</th>\n",
       "      <th>sstart</th>\n",
       "      <th>send</th>\n",
       "      <th>sense</th>\n",
       "      <th>attribute</th>\n",
       "    </tr>\n",
       "  </thead>\n",
       "  <tbody>\n",
       "  </tbody>\n",
       "</table>\n",
       "</div>"
      ],
      "text/plain": [
       "Empty DataFrame\n",
       "Columns: [sseqid, sstart, send, sense, attribute]\n",
       "Index: []"
      ]
     },
     "execution_count": 25,
     "metadata": {},
     "output_type": "execute_result"
    }
   ],
   "source": [
    "common_rows"
   ]
  }
 ],
 "metadata": {
  "kernelspec": {
   "display_name": "Python 3",
   "language": "python",
   "name": "python3"
  },
  "language_info": {
   "codemirror_mode": {
    "name": "ipython",
    "version": 3
   },
   "file_extension": ".py",
   "mimetype": "text/x-python",
   "name": "python",
   "nbconvert_exporter": "python",
   "pygments_lexer": "ipython3",
   "version": "3.12.4"
  }
 },
 "nbformat": 4,
 "nbformat_minor": 2
}
