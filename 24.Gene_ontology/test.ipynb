{
 "cells": [
  {
   "cell_type": "markdown",
   "metadata": {},
   "source": [
    "Author: Ronny F. Pacheco Date: Jul 2024\n",
    "Copyright: © 2024 Ronny Pacheco License: MIT License\n",
    "\n",
    "---\n",
    "\n",
    "MIT License\n",
    "\n",
    "Copyright (c) 2024 Ronny Pacheco\n",
    "\n",
    "Permission is hereby granted, free of charge, to any person obtaining a copy of this software and associated documentation files (the \"Software\"), to deal in the Software without restriction, including without limitation the rights to use, copy, modify, merge, publish, distribute, sublicense, and/or sell copies of the Software, and to permit persons to whom the Software is furnished to do so, subject to the following conditions:\n",
    "\n",
    "The above copyright notice and this permission notice shall be included in all copies or substantial portions of the Software.\n",
    "\n",
    "THE SOFTWARE IS PROVIDED \"AS IS\", WITHOUT WARRANTY OF ANY KIND, EXPRESS OR IMPLIED, INCLUDING BUT NOT LIMITED TO THE WARRANTIES OF MERCHANTABILITY, FITNESS FOR A PARTICULAR PURPOSE AND NONINFRINGEMENT. IN NO EVENT SHALL THE AUTHORS OR COPYRIGHT HOLDERS BE LIABLE FOR ANY CLAIM, DAMAGES OR OTHER LIABILITY, WHETHER IN AN ACTION OF CONTRACT, TORT OR OTHERWISE, ARISING FROM, OUT OF OR IN CONNECTION WITH THE SOFTWARE OR THE USE OR OTHER DEALINGS IN THE SOFTWARE."
   ]
  },
  {
   "cell_type": "markdown",
   "metadata": {},
   "source": [
    "# Needed modules"
   ]
  },
  {
   "cell_type": "code",
   "execution_count": 19,
   "metadata": {},
   "outputs": [],
   "source": [
    "# Load the needed libraries\n",
    "import pickle\n",
    "import os\n",
    "import pandas as pd"
   ]
  },
  {
   "cell_type": "code",
   "execution_count": 20,
   "metadata": {},
   "outputs": [],
   "source": [
    "# https://kioku-space.com/en/jupyter-skip-execution/\n",
    "from IPython.core.magic import register_cell_magic\n",
    "\n",
    "@register_cell_magic\n",
    "def skip(line, cell):\n",
    "    return"
   ]
  },
  {
   "cell_type": "markdown",
   "metadata": {},
   "source": [
    "# Picke save"
   ]
  },
  {
   "cell_type": "code",
   "execution_count": 21,
   "metadata": {},
   "outputs": [],
   "source": [
    "%%skip\n",
    "# =============================================================================\n",
    "# Save the variables\n",
    "# =============================================================================\n",
    "variables_dict = {\n",
    "}\n",
    "\n",
    "# =============================================================================\n",
    "# main function\n",
    "# =============================================================================\n",
    "def data_save_load(option, dict_variables=None):\n",
    "    \"\"\"\n",
    "    This function is used to save or load data for the jupyter notebook\n",
    "    \"\"\"\n",
    "    path_folder = \"ipynb_db\"  # Folder to save variables\n",
    "    os.makedirs(path_folder, exist_ok=True)  # Create folder if not exist\n",
    "    path_file = os.path.join(path_folder, \"variables.pkl\") # Path to save the variables\n",
    "\n",
    "    if option == \"save\":\n",
    "        with open(path_file, \"wb\") as f:\n",
    "            pickle.dump(dict_variables, f)\n",
    "    elif option == \"load\":\n",
    "        with open(path_file, \"rb\") as f:\n",
    "            variables = pickle.load(f)\n",
    "        # Now load the variables\n",
    "        for key, value in variables.items():\n",
    "            variables[key] = value\n",
    "\n",
    "# =============================================================================\n",
    "# Call the function\n",
    "# =============================================================================\n",
    "data_save_load(option=\"save\",\n",
    "               dict_variables=variables_dict)"
   ]
  },
  {
   "cell_type": "markdown",
   "metadata": {},
   "source": [
    "# 1. Prepare Data"
   ]
  },
  {
   "cell_type": "markdown",
   "metadata": {},
   "source": [
    "## 1.1 Download *.GAF* files"
   ]
  },
  {
   "cell_type": "markdown",
   "metadata": {},
   "source": [
    "If we got to [TriTrypDB downloads](https://tritrypdb.org/tritrypdb/app/downloads) we can get the the Gene Ontology file (GO) in **gaf** format. We find two version: Curated and not curated\n",
    "\n",
    "* https://tritrypdb.org/common/downloads/release-68/LinfantumJPCM5/gaf/TriTrypDB-68_LinfantumJPCM5_Curated_GO.gaf.gz ==> size: 97,015\n",
    "\n",
    "* https://tritrypdb.org/common/downloads/release-68/LinfantumJPCM5/gaf/TriTrypDB-68_LinfantumJPCM5_GO.gaf.gz ==> size: 209,077"
   ]
  },
  {
   "cell_type": "code",
   "execution_count": 22,
   "metadata": {},
   "outputs": [],
   "source": [
    "%%skip\n",
    "# Let's download the Curated FAG file into the \"./data\" folder\n",
    "!wget -P ./data/ https://tritrypdb.org/common/downloads/release-68/LinfantumJPCM5/gaf/TriTrypDB-68_LinfantumJPCM5_Curated_GO.gaf.gz"
   ]
  },
  {
   "cell_type": "code",
   "execution_count": 23,
   "metadata": {},
   "outputs": [],
   "source": [
    "%%skip\n",
    "# let's unzip the file\n",
    "!gunzip -c ./data/TriTrypDB-68_LinfantumJPCM5_Curated_GO.gaf.gz > ./data/TriTrypDB-68_LinfantumJPCM5_Curated_GO.gaf"
   ]
  },
  {
   "cell_type": "code",
   "execution_count": 24,
   "metadata": {},
   "outputs": [],
   "source": [
    "%%skip\n",
    "# Remove the original .gz document\n",
    "!rm ./data/TriTrypDB-68_LinfantumJPCM5_Curated_GO.gaf.gz"
   ]
  },
  {
   "cell_type": "code",
   "execution_count": 25,
   "metadata": {},
   "outputs": [],
   "source": [
    "%%skip\n",
    "# Remove all \"comment\" lines in the GAF file for simpler code parsing. Comment lines start with \"!\"\n",
    "!cat ./data/TriTrypDB-68_LinfantumJPCM5_Curated_GO.gaf | grep -v '^!' > ./data/L_infantum.gaf"
   ]
  },
  {
   "cell_type": "markdown",
   "metadata": {},
   "source": [
    "# 2. Load data"
   ]
  },
  {
   "cell_type": "markdown",
   "metadata": {},
   "source": [
    "## 2.1 _Leishmania infantum_ GO data"
   ]
  },
  {
   "cell_type": "code",
   "execution_count": 26,
   "metadata": {},
   "outputs": [
    {
     "name": "stdout",
     "output_type": "stream",
     "text": [
      "(6051, 17)\n",
      "DB                       object\n",
      "DB_Object_ID             object\n",
      "DB_Object_Symbol         object\n",
      "Qualifier                object\n",
      "GO_ID                    object\n",
      "DB:Reference             object\n",
      "Evidence_Code            object\n",
      "With_or_From             object\n",
      "Aspect                   object\n",
      "DB_OBject_Name           object\n",
      "DB_Object_Synonym        object\n",
      "DB_Object_Type           object\n",
      "Taxon                    object\n",
      "Date                      int64\n",
      "Assigned_By              object\n",
      "Annotation_Extension    float64\n",
      "Gene_Product_Form_ID    float64\n",
      "dtype: object\n"
     ]
    },
    {
     "data": {
      "text/html": [
       "<div>\n",
       "<style scoped>\n",
       "    .dataframe tbody tr th:only-of-type {\n",
       "        vertical-align: middle;\n",
       "    }\n",
       "\n",
       "    .dataframe tbody tr th {\n",
       "        vertical-align: top;\n",
       "    }\n",
       "\n",
       "    .dataframe thead th {\n",
       "        text-align: right;\n",
       "    }\n",
       "</style>\n",
       "<table border=\"1\" class=\"dataframe\">\n",
       "  <thead>\n",
       "    <tr style=\"text-align: right;\">\n",
       "      <th></th>\n",
       "      <th>DB</th>\n",
       "      <th>DB_Object_ID</th>\n",
       "      <th>DB_Object_Symbol</th>\n",
       "      <th>Qualifier</th>\n",
       "      <th>GO_ID</th>\n",
       "      <th>DB:Reference</th>\n",
       "      <th>Evidence_Code</th>\n",
       "      <th>With_or_From</th>\n",
       "      <th>Aspect</th>\n",
       "      <th>DB_OBject_Name</th>\n",
       "      <th>DB_Object_Synonym</th>\n",
       "      <th>DB_Object_Type</th>\n",
       "      <th>Taxon</th>\n",
       "      <th>Date</th>\n",
       "      <th>Assigned_By</th>\n",
       "      <th>Annotation_Extension</th>\n",
       "      <th>Gene_Product_Form_ID</th>\n",
       "    </tr>\n",
       "  </thead>\n",
       "  <tbody>\n",
       "    <tr>\n",
       "      <th>0</th>\n",
       "      <td>VEuPathDB</td>\n",
       "      <td>LINF_010005100</td>\n",
       "      <td>LINF_010005100</td>\n",
       "      <td>NaN</td>\n",
       "      <td>GO:0005737</td>\n",
       "      <td>GO_REF:0000101</td>\n",
       "      <td>ISO</td>\n",
       "      <td>GeneDB:Tb927.9.3670</td>\n",
       "      <td>C</td>\n",
       "      <td>Endonuclease/Exonuclease/phosphatase family</td>\n",
       "      <td>NaN</td>\n",
       "      <td>protein_coding</td>\n",
       "      <td>taxon:435258</td>\n",
       "      <td>20230929</td>\n",
       "      <td>GeneDB</td>\n",
       "      <td>NaN</td>\n",
       "      <td>NaN</td>\n",
       "    </tr>\n",
       "    <tr>\n",
       "      <th>1</th>\n",
       "      <td>VEuPathDB</td>\n",
       "      <td>LINF_010005200</td>\n",
       "      <td>KIN13-1</td>\n",
       "      <td>NaN</td>\n",
       "      <td>GO:0007052</td>\n",
       "      <td>GO_REF:0000024</td>\n",
       "      <td>ISO</td>\n",
       "      <td>GeneDB:Tb927.9.3650</td>\n",
       "      <td>P</td>\n",
       "      <td>Kinesin-13</td>\n",
       "      <td>Kif-13-1</td>\n",
       "      <td>protein_coding</td>\n",
       "      <td>taxon:435258</td>\n",
       "      <td>20230929</td>\n",
       "      <td>GeneDB</td>\n",
       "      <td>NaN</td>\n",
       "      <td>NaN</td>\n",
       "    </tr>\n",
       "    <tr>\n",
       "      <th>2</th>\n",
       "      <td>VEuPathDB</td>\n",
       "      <td>LINF_010005200</td>\n",
       "      <td>KIN13-1</td>\n",
       "      <td>NaN</td>\n",
       "      <td>GO:0051983</td>\n",
       "      <td>GO_REF:0000024</td>\n",
       "      <td>ISO</td>\n",
       "      <td>GeneDB:Tb927.9.3650</td>\n",
       "      <td>P</td>\n",
       "      <td>Kinesin-13</td>\n",
       "      <td>Kif-13-1</td>\n",
       "      <td>protein_coding</td>\n",
       "      <td>taxon:435258</td>\n",
       "      <td>20230929</td>\n",
       "      <td>GeneDB</td>\n",
       "      <td>NaN</td>\n",
       "      <td>NaN</td>\n",
       "    </tr>\n",
       "    <tr>\n",
       "      <th>3</th>\n",
       "      <td>VEuPathDB</td>\n",
       "      <td>LINF_010005200</td>\n",
       "      <td>KIN13-1</td>\n",
       "      <td>NaN</td>\n",
       "      <td>GO:0000922</td>\n",
       "      <td>GO_REF:0000024</td>\n",
       "      <td>ISO</td>\n",
       "      <td>GeneDB:LmjF.01.0030</td>\n",
       "      <td>C</td>\n",
       "      <td>Kinesin-13</td>\n",
       "      <td>Kif-13-1</td>\n",
       "      <td>protein_coding</td>\n",
       "      <td>taxon:435258</td>\n",
       "      <td>20230929</td>\n",
       "      <td>GeneDB</td>\n",
       "      <td>NaN</td>\n",
       "      <td>NaN</td>\n",
       "    </tr>\n",
       "    <tr>\n",
       "      <th>4</th>\n",
       "      <td>VEuPathDB</td>\n",
       "      <td>LINF_010005200</td>\n",
       "      <td>KIN13-1</td>\n",
       "      <td>NaN</td>\n",
       "      <td>GO:0005634</td>\n",
       "      <td>GO_REF:0000024</td>\n",
       "      <td>ISO</td>\n",
       "      <td>GeneDB:Tb927.9.3650</td>\n",
       "      <td>C</td>\n",
       "      <td>Kinesin-13</td>\n",
       "      <td>Kif-13-1</td>\n",
       "      <td>protein_coding</td>\n",
       "      <td>taxon:435258</td>\n",
       "      <td>20230929</td>\n",
       "      <td>GeneDB</td>\n",
       "      <td>NaN</td>\n",
       "      <td>NaN</td>\n",
       "    </tr>\n",
       "  </tbody>\n",
       "</table>\n",
       "</div>"
      ],
      "text/plain": [
       "          DB    DB_Object_ID DB_Object_Symbol Qualifier       GO_ID  \\\n",
       "0  VEuPathDB  LINF_010005100   LINF_010005100       NaN  GO:0005737   \n",
       "1  VEuPathDB  LINF_010005200          KIN13-1       NaN  GO:0007052   \n",
       "2  VEuPathDB  LINF_010005200          KIN13-1       NaN  GO:0051983   \n",
       "3  VEuPathDB  LINF_010005200          KIN13-1       NaN  GO:0000922   \n",
       "4  VEuPathDB  LINF_010005200          KIN13-1       NaN  GO:0005634   \n",
       "\n",
       "     DB:Reference Evidence_Code         With_or_From Aspect  \\\n",
       "0  GO_REF:0000101           ISO  GeneDB:Tb927.9.3670      C   \n",
       "1  GO_REF:0000024           ISO  GeneDB:Tb927.9.3650      P   \n",
       "2  GO_REF:0000024           ISO  GeneDB:Tb927.9.3650      P   \n",
       "3  GO_REF:0000024           ISO  GeneDB:LmjF.01.0030      C   \n",
       "4  GO_REF:0000024           ISO  GeneDB:Tb927.9.3650      C   \n",
       "\n",
       "                                DB_OBject_Name DB_Object_Synonym  \\\n",
       "0  Endonuclease/Exonuclease/phosphatase family               NaN   \n",
       "1                                   Kinesin-13          Kif-13-1   \n",
       "2                                   Kinesin-13          Kif-13-1   \n",
       "3                                   Kinesin-13          Kif-13-1   \n",
       "4                                   Kinesin-13          Kif-13-1   \n",
       "\n",
       "   DB_Object_Type         Taxon      Date Assigned_By  Annotation_Extension  \\\n",
       "0  protein_coding  taxon:435258  20230929      GeneDB                   NaN   \n",
       "1  protein_coding  taxon:435258  20230929      GeneDB                   NaN   \n",
       "2  protein_coding  taxon:435258  20230929      GeneDB                   NaN   \n",
       "3  protein_coding  taxon:435258  20230929      GeneDB                   NaN   \n",
       "4  protein_coding  taxon:435258  20230929      GeneDB                   NaN   \n",
       "\n",
       "   Gene_Product_Form_ID  \n",
       "0                   NaN  \n",
       "1                   NaN  \n",
       "2                   NaN  \n",
       "3                   NaN  \n",
       "4                   NaN  "
      ]
     },
     "execution_count": 26,
     "metadata": {},
     "output_type": "execute_result"
    }
   ],
   "source": [
    "# Load gaff data from Leishmania\n",
    "linf_go = pd.read_csv(\"./data/L_infantum.gaf\", sep=\"\\t\", header=None)\n",
    "linf_go.columns = [\"DB\", \"DB_Object_ID\", \"DB_Object_Symbol\", \"Qualifier\", \"GO_ID\", \"DB:Reference\", \"Evidence_Code\", \"With_or_From\", \"Aspect\", \"DB_OBject_Name\", \"DB_Object_Synonym\", \"DB_Object_Type\", \"Taxon\", \"Date\", \"Assigned_By\", \"Annotation_Extension\", \"Gene_Product_Form_ID\"]\n",
    "print(linf_go.shape)\n",
    "print(linf_go.dtypes)\n",
    "linf_go.head()"
   ]
  },
  {
   "cell_type": "markdown",
   "metadata": {},
   "source": [
    "## 2.2 _L. infantum_ SIDER:GO data"
   ]
  },
  {
   "cell_type": "code",
   "execution_count": 27,
   "metadata": {},
   "outputs": [
    {
     "name": "stdout",
     "output_type": "stream",
     "text": [
      "(2032, 2)\n",
      "sider_name    object\n",
      "gene_name     object\n",
      "dtype: object\n"
     ]
    },
    {
     "data": {
      "text/html": [
       "<div>\n",
       "<style scoped>\n",
       "    .dataframe tbody tr th:only-of-type {\n",
       "        vertical-align: middle;\n",
       "    }\n",
       "\n",
       "    .dataframe tbody tr th {\n",
       "        vertical-align: top;\n",
       "    }\n",
       "\n",
       "    .dataframe thead th {\n",
       "        text-align: right;\n",
       "    }\n",
       "</style>\n",
       "<table border=\"1\" class=\"dataframe\">\n",
       "  <thead>\n",
       "    <tr style=\"text-align: right;\">\n",
       "      <th></th>\n",
       "      <th>sider_name</th>\n",
       "      <th>gene_name</th>\n",
       "    </tr>\n",
       "  </thead>\n",
       "  <tbody>\n",
       "    <tr>\n",
       "      <th>0</th>\n",
       "      <td>src_c01.100A</td>\n",
       "      <td>LINF_010010100</td>\n",
       "    </tr>\n",
       "    <tr>\n",
       "      <th>1</th>\n",
       "      <td>src_c01.120A</td>\n",
       "      <td>LINF_010011900</td>\n",
       "    </tr>\n",
       "    <tr>\n",
       "      <th>2</th>\n",
       "      <td>src_c01.20A</td>\n",
       "      <td>LINF_010005800</td>\n",
       "    </tr>\n",
       "    <tr>\n",
       "      <th>3</th>\n",
       "      <td>src_c01.30A</td>\n",
       "      <td>LINF_010006300</td>\n",
       "    </tr>\n",
       "    <tr>\n",
       "      <th>4</th>\n",
       "      <td>src_c01.40</td>\n",
       "      <td>LINF_010006600</td>\n",
       "    </tr>\n",
       "  </tbody>\n",
       "</table>\n",
       "</div>"
      ],
      "text/plain": [
       "     sider_name       gene_name\n",
       "0  src_c01.100A  LINF_010010100\n",
       "1  src_c01.120A  LINF_010011900\n",
       "2   src_c01.20A  LINF_010005800\n",
       "3   src_c01.30A  LINF_010006300\n",
       "4    src_c01.40  LINF_010006600"
      ]
     },
     "execution_count": 27,
     "metadata": {},
     "output_type": "execute_result"
    }
   ],
   "source": [
    "# Load SIDER:GO data\n",
    "sider_go = pd.read_csv(\"./data/go_total.csv\", sep=\",\", header=None)\n",
    "sider_go.columns = [\"sider_name\", \"gene_name\"]\n",
    "print(sider_go.shape)\n",
    "print(sider_go.dtypes)\n",
    "sider_go.head()"
   ]
  },
  {
   "cell_type": "markdown",
   "metadata": {},
   "source": [
    "# 3. Prepare data"
   ]
  },
  {
   "cell_type": "markdown",
   "metadata": {},
   "source": [
    "Here we'll prepare the data to use with **goatools**"
   ]
  },
  {
   "cell_type": "markdown",
   "metadata": {},
   "source": [
    "## 3.1 Transform _L. infantum_ GO data"
   ]
  },
  {
   "cell_type": "code",
   "execution_count": 28,
   "metadata": {},
   "outputs": [
    {
     "data": {
      "text/html": [
       "<div>\n",
       "<style scoped>\n",
       "    .dataframe tbody tr th:only-of-type {\n",
       "        vertical-align: middle;\n",
       "    }\n",
       "\n",
       "    .dataframe tbody tr th {\n",
       "        vertical-align: top;\n",
       "    }\n",
       "\n",
       "    .dataframe thead th {\n",
       "        text-align: right;\n",
       "    }\n",
       "</style>\n",
       "<table border=\"1\" class=\"dataframe\">\n",
       "  <thead>\n",
       "    <tr style=\"text-align: right;\">\n",
       "      <th></th>\n",
       "      <th>DB_Object_ID</th>\n",
       "      <th>GO_ID</th>\n",
       "    </tr>\n",
       "  </thead>\n",
       "  <tbody>\n",
       "    <tr>\n",
       "      <th>0</th>\n",
       "      <td>LINF_010005100</td>\n",
       "      <td>GO:0005737</td>\n",
       "    </tr>\n",
       "    <tr>\n",
       "      <th>1</th>\n",
       "      <td>LINF_010005200</td>\n",
       "      <td>GO:0007052</td>\n",
       "    </tr>\n",
       "    <tr>\n",
       "      <th>2</th>\n",
       "      <td>LINF_010005200</td>\n",
       "      <td>GO:0051983</td>\n",
       "    </tr>\n",
       "    <tr>\n",
       "      <th>3</th>\n",
       "      <td>LINF_010005200</td>\n",
       "      <td>GO:0000922</td>\n",
       "    </tr>\n",
       "    <tr>\n",
       "      <th>4</th>\n",
       "      <td>LINF_010005200</td>\n",
       "      <td>GO:0005634</td>\n",
       "    </tr>\n",
       "  </tbody>\n",
       "</table>\n",
       "</div>"
      ],
      "text/plain": [
       "     DB_Object_ID       GO_ID\n",
       "0  LINF_010005100  GO:0005737\n",
       "1  LINF_010005200  GO:0007052\n",
       "2  LINF_010005200  GO:0051983\n",
       "3  LINF_010005200  GO:0000922\n",
       "4  LINF_010005200  GO:0005634"
      ]
     },
     "execution_count": 28,
     "metadata": {},
     "output_type": "execute_result"
    }
   ],
   "source": [
    "# Create the pairs file\n",
    "pairs_df = linf_go[[\"DB_Object_ID\", \"GO_ID\"]].copy()\n",
    "pairs_df.to_csv(\"./goatools_data/pairs.txt\", sep=\"\\t\", index=False, header=False)\n",
    "pairs_df.head()"
   ]
  },
  {
   "cell_type": "code",
   "execution_count": 29,
   "metadata": {},
   "outputs": [
    {
     "name": "stdout",
     "output_type": "stream",
     "text": [
      "Association before: (6051, 2)\n",
      "Association after: (2624, 2)\n"
     ]
    },
    {
     "data": {
      "text/html": [
       "<div>\n",
       "<style scoped>\n",
       "    .dataframe tbody tr th:only-of-type {\n",
       "        vertical-align: middle;\n",
       "    }\n",
       "\n",
       "    .dataframe tbody tr th {\n",
       "        vertical-align: top;\n",
       "    }\n",
       "\n",
       "    .dataframe thead th {\n",
       "        text-align: right;\n",
       "    }\n",
       "</style>\n",
       "<table border=\"1\" class=\"dataframe\">\n",
       "  <thead>\n",
       "    <tr style=\"text-align: right;\">\n",
       "      <th></th>\n",
       "      <th>DB_Object_ID</th>\n",
       "      <th>GO_ID</th>\n",
       "    </tr>\n",
       "  </thead>\n",
       "  <tbody>\n",
       "    <tr>\n",
       "      <th>0</th>\n",
       "      <td>LINF_010005100</td>\n",
       "      <td>GO:0005737</td>\n",
       "    </tr>\n",
       "    <tr>\n",
       "      <th>1</th>\n",
       "      <td>LINF_010005200</td>\n",
       "      <td>GO:0007052;GO:0051983;GO:0000922;GO:0005634;GO...</td>\n",
       "    </tr>\n",
       "    <tr>\n",
       "      <th>2</th>\n",
       "      <td>LINF_010005900</td>\n",
       "      <td>GO:0005737;GO:0031981;GO:0097014</td>\n",
       "    </tr>\n",
       "    <tr>\n",
       "      <th>3</th>\n",
       "      <td>LINF_010006000</td>\n",
       "      <td>GO:0045454;GO:0055114;GO:0005739;GO:0004362</td>\n",
       "    </tr>\n",
       "    <tr>\n",
       "      <th>4</th>\n",
       "      <td>LINF_010007100</td>\n",
       "      <td>GO:0005930</td>\n",
       "    </tr>\n",
       "  </tbody>\n",
       "</table>\n",
       "</div>"
      ],
      "text/plain": [
       "     DB_Object_ID                                              GO_ID\n",
       "0  LINF_010005100                                         GO:0005737\n",
       "1  LINF_010005200  GO:0007052;GO:0051983;GO:0000922;GO:0005634;GO...\n",
       "2  LINF_010005900                   GO:0005737;GO:0031981;GO:0097014\n",
       "3  LINF_010006000        GO:0045454;GO:0055114;GO:0005739;GO:0004362\n",
       "4  LINF_010007100                                         GO:0005930"
      ]
     },
     "execution_count": 29,
     "metadata": {},
     "output_type": "execute_result"
    }
   ],
   "source": [
    "# Create the associations file\n",
    "associations_df = pairs_df.copy()\n",
    "print(f\"Association before: {associations_df.shape}\")\n",
    "\n",
    "# For each \"DB_Object_ID\" we will get all the GO_IDs associated with it. Go_IDs shall be separated by a \";\"\n",
    "associations_df = associations_df.groupby(\"DB_Object_ID\")[\"GO_ID\"].apply(list).reset_index()\n",
    "\n",
    "# Let's unlist the GO_IDs and separate them by a \";\"\n",
    "associations_df[\"GO_ID\"] = associations_df[\"GO_ID\"].apply(lambda x: \";\".join(x))\n",
    "print(f\"Association after: {associations_df.shape}\")\n",
    "\n",
    "# Save the associations file\n",
    "associations_df.to_csv(\"./goatools_data/associations\", sep=\"\\t\", index=False, header=False)\n",
    "\n",
    "# Check the associations file\n",
    "associations_df.head()"
   ]
  },
  {
   "cell_type": "code",
   "execution_count": 30,
   "metadata": {},
   "outputs": [
    {
     "data": {
      "text/plain": [
       "0    LINF_010005100\n",
       "1    LINF_010005200\n",
       "2    LINF_010005200\n",
       "3    LINF_010005200\n",
       "4    LINF_010005200\n",
       "Name: DB_Object_ID, dtype: object"
      ]
     },
     "execution_count": 30,
     "metadata": {},
     "output_type": "execute_result"
    }
   ],
   "source": [
    "# Create the population file (background file)\n",
    "population_df = linf_go[\"DB_Object_ID\"].copy()\n",
    "\n",
    "# Save the population file\n",
    "population_df.to_csv(\"./goatools_data/population\", sep=\"\\t\", index=False, header=False)\n",
    "\n",
    "# Check the population file\n",
    "population_df.head()"
   ]
  },
  {
   "cell_type": "code",
   "execution_count": 31,
   "metadata": {},
   "outputs": [
    {
     "name": "stdout",
     "output_type": "stream",
     "text": [
      "gene_name\n",
      "LINF_300027200    6\n",
      "LINF_350048700    5\n",
      "LINF_140012400    5\n",
      "LINF_350033100    4\n",
      "LINF_300019900    4\n",
      "                 ..\n",
      "LINF_250024000    1\n",
      "LINF_250023500    1\n",
      "LINF_250022300    1\n",
      "LINF_250021950    1\n",
      "LINF_250007950    1\n",
      "Name: count, Length: 1625, dtype: int64\n"
     ]
    },
    {
     "data": {
      "text/plain": [
       "0    LINF_010010100\n",
       "1    LINF_010011900\n",
       "2    LINF_010005800\n",
       "3    LINF_010006300\n",
       "4    LINF_010006600\n",
       "Name: gene_name, dtype: object"
      ]
     },
     "execution_count": 31,
     "metadata": {},
     "output_type": "execute_result"
    }
   ],
   "source": [
    "# Create the study file\n",
    "study_df = sider_go.copy()\n",
    "\n",
    "# Count the number of \"gene_name\" ocurrences\n",
    "print(study_df[\"gene_name\"].value_counts())\n",
    "\n",
    "# For the moment let's use everything\n",
    "study_df = study_df[\"gene_name\"].copy()\n",
    "\n",
    "# Drop duplicates\n",
    "study_df = study_df.drop_duplicates()\n",
    "\n",
    "# Save the study file\n",
    "study_df.to_csv(\"./goatools_data/study\", sep=\"\\t\", index=False, header=False)\n",
    "\n",
    "# Check the study file\n",
    "study_df.head()"
   ]
  },
  {
   "cell_type": "code",
   "execution_count": 32,
   "metadata": {},
   "outputs": [],
   "source": [
    "%%skip\n",
    "!find_enrichment.py ./goatools_data/study ./goatools_data/population ./goatools_data/associations --obo ./refs/go-basic.obo > ./goatools_data/enrichment_results.txt"
   ]
  },
  {
   "cell_type": "markdown",
   "metadata": {},
   "source": [
    "There seems to be a problem since few of our elements found in the original GAF file are found there"
   ]
  },
  {
   "cell_type": "markdown",
   "metadata": {},
   "source": [
    "## 3.2 Get elements only in the associations file first column"
   ]
  },
  {
   "cell_type": "markdown",
   "metadata": {},
   "source": [
    "Since it seems out \"study\" file contains element that the GAFF file don't. Let's create another one with the elements that are there"
   ]
  },
  {
   "cell_type": "code",
   "execution_count": 34,
   "metadata": {},
   "outputs": [
    {
     "name": "stdout",
     "output_type": "stream",
     "text": [
      "Study data before the filtering: (1625,)\n",
      "Study data after the filtering: (329,)\n"
     ]
    }
   ],
   "source": [
    "# From the study_df. Get only the elements that appear in associations_df first column\n",
    "print(f\"Study data before the filtering: {study_df.shape}\")\n",
    "\n",
    "# Filter\n",
    "study_df_filtered = study_df[study_df.isin(associations_df[\"DB_Object_ID\"])]\n",
    "print(f\"Study data after the filtering: {study_df_filtered.shape}\")\n",
    "\n",
    "# Save the filtered study data\n",
    "study_df_filtered.to_csv(\"./goatools_data/study_filtered\", sep=\"\\t\", index=False, header=False)"
   ]
  },
  {
   "cell_type": "markdown",
   "metadata": {},
   "source": [
    "We can see that we lost a lot of information"
   ]
  },
  {
   "cell_type": "code",
   "execution_count": 35,
   "metadata": {},
   "outputs": [],
   "source": [
    "# Le't repeat the find_enrichment.py command\n",
    "!find_enrichment.py ./goatools_data/study_filtered \\\n",
    "    ./goatools_data/population \\\n",
    "    ./goatools_data/associations \\\n",
    "    --obo ./goatools_data/go-basic.obo > ./goatools_data/enrichment_results.txt"
   ]
  },
  {
   "cell_type": "markdown",
   "metadata": {},
   "source": [
    "# 4. Check enrichment results"
   ]
  },
  {
   "cell_type": "code",
   "execution_count": 41,
   "metadata": {},
   "outputs": [],
   "source": [
    "results_df = pd.read_csv(\"./goatools_data/enrichment_results_short.txt\", sep=\"\\t\", header=0)\n",
    "results_df.head()\n",
    "\n",
    "# Save the results in an excel file\n",
    "results_for_excel = results_df[[\"GO\", \"NS\", \"name\", \"study_items\"]]\n",
    "results_for_excel.to_excel(\"./goatools_data/enrichment_results.xlsx\", index=False)"
   ]
  }
 ],
 "metadata": {
  "kernelspec": {
   "display_name": "Python 3",
   "language": "python",
   "name": "python3"
  },
  "language_info": {
   "codemirror_mode": {
    "name": "ipython",
    "version": 3
   },
   "file_extension": ".py",
   "mimetype": "text/x-python",
   "name": "python",
   "nbconvert_exporter": "python",
   "pygments_lexer": "ipython3",
   "version": "3.12.4"
  }
 },
 "nbformat": 4,
 "nbformat_minor": 2
}
